{
 "cells": [
  {
   "cell_type": "markdown",
   "id": "f6655c7b",
   "metadata": {},
   "source": [
    "TV-Regularized Sparse-View CT Reconstruction (Integrated Projector)\n",
    "===================================================================\n",
    "\n",
    "This example demonstrates solution of a sparse-view CT reconstruction\n",
    "problem with isotropic total variation (TV) regularization\n",
    "\n",
    "  $$\\mathrm{argmin}_{\\mathbf{x}} \\; (1/2) \\| \\mathbf{y} - A \\mathbf{x}\n",
    "  \\|_2^2 + \\lambda \\| C \\mathbf{x} \\|_{2,1} \\;,$$\n",
    "\n",
    "where $A$ is the X-ray transform (the CT forward projection operator),\n",
    "$\\mathbf{y}$ is the sinogram, $C$ is a 2D finite difference operator, and\n",
    "$\\mathbf{x}$ is the desired image. This example uses the CT projector\n",
    "integrated into scico, while the companion\n",
    "[example script](ct_astra_tv_admm.rst) uses the projector provided by\n",
    "the astra package."
   ]
  },
  {
   "cell_type": "code",
   "execution_count": null,
   "id": "0fedd301",
   "metadata": {
    "collapsed": false
   },
   "outputs": [],
   "source": [
    "import numpy as np\n",
    "\n",
    "from mpl_toolkits.axes_grid1 import make_axes_locatable\n",
    "from xdesign import Foam, discrete_phantom\n",
    "\n",
    "import scico.numpy as snp\n",
    "from scico import functional, linop, loss, metric, plot\n",
    "from scico.linop.xray import XRayTransform2D\n",
    "from scico.optimize.admm import ADMM, LinearSubproblemSolver\n",
    "from scico.util import device_info\n",
    "plot.config_notebook_plotting()"
   ]
  },
  {
   "cell_type": "markdown",
   "id": "9aa20851",
   "metadata": {},
   "source": [
    "Create a ground truth image."
   ]
  },
  {
   "cell_type": "code",
   "execution_count": null,
   "id": "238a8604",
   "metadata": {
    "collapsed": false
   },
   "outputs": [],
   "source": [
    "N = 512  # phantom size\n",
    "np.random.seed(1234)\n",
    "x_gt = snp.array(discrete_phantom(Foam(size_range=[0.075, 0.0025], gap=1e-3, porosity=1), size=N))"
   ]
  },
  {
   "cell_type": "markdown",
   "id": "8faffb0b",
   "metadata": {},
   "source": [
    "Configure CT projection operator and generate synthetic measurements."
   ]
  },
  {
   "cell_type": "code",
   "execution_count": null,
   "id": "1459794c",
   "metadata": {
    "collapsed": false
   },
   "outputs": [],
   "source": [
    "n_projection = 45  # number of projections\n",
    "angles = np.linspace(0, np.pi, n_projection) + np.pi / 2.0  # evenly spaced projection angles\n",
    "A = XRayTransform2D((N, N), angles)  # CT projection operator\n",
    "y = A @ x_gt  # sinogram"
   ]
  },
  {
   "cell_type": "markdown",
   "id": "cf9cc6d8",
   "metadata": {},
   "source": [
    "Set up ADMM solver object."
   ]
  },
  {
   "cell_type": "code",
   "execution_count": null,
   "id": "e416c701",
   "metadata": {
    "collapsed": false
   },
   "outputs": [],
   "source": [
    "λ = 2e0  # L1 norm regularization parameter\n",
    "ρ = 5e0  # ADMM penalty parameter\n",
    "maxiter = 25  # number of ADMM iterations\n",
    "cg_tol = 1e-4  # CG relative tolerance\n",
    "cg_maxiter = 25  # maximum CG iterations per ADMM iteration\n",
    "\n",
    "# The append=0 option makes the results of horizontal and vertical\n",
    "# finite differences the same shape, which is required for the L21Norm,\n",
    "# which is used so that g(Cx) corresponds to isotropic TV.\n",
    "C = linop.FiniteDifference(input_shape=x_gt.shape, append=0)\n",
    "g = λ * functional.L21Norm()\n",
    "\n",
    "f = loss.SquaredL2Loss(y=y, A=A)\n",
    "\n",
    "x0 = snp.clip(A.T(y), 0, 1.0)\n",
    "\n",
    "solver = ADMM(\n",
    "    f=f,\n",
    "    g_list=[g],\n",
    "    C_list=[C],\n",
    "    rho_list=[ρ],\n",
    "    x0=x0,\n",
    "    maxiter=maxiter,\n",
    "    subproblem_solver=LinearSubproblemSolver(cg_kwargs={\"tol\": cg_tol, \"maxiter\": cg_maxiter}),\n",
    "    itstat_options={\"display\": True, \"period\": 5},\n",
    ")"
   ]
  },
  {
   "cell_type": "markdown",
   "id": "8e926063",
   "metadata": {},
   "source": [
    "Run the solver."
   ]
  },
  {
   "cell_type": "code",
   "execution_count": null,
   "id": "e672103d",
   "metadata": {
    "collapsed": false
   },
   "outputs": [],
   "source": [
    "print(f\"Solving on {device_info()}\\n\")\n",
    "solver.solve()\n",
    "hist = solver.itstat_object.history(transpose=True)\n",
    "x_reconstruction = snp.clip(solver.x, 0, 1.0)"
   ]
  },
  {
   "cell_type": "markdown",
   "id": "0341e039",
   "metadata": {},
   "source": [
    "Show the recovered image."
   ]
  },
  {
   "cell_type": "code",
   "execution_count": null,
   "id": "4288ceea",
   "metadata": {
    "collapsed": false
   },
   "outputs": [],
   "source": [
    "fig, ax = plot.subplots(nrows=1, ncols=2, figsize=(15, 5))\n",
    "plot.imview(x_gt, title=\"Ground truth\", cbar=None, fig=fig, ax=ax[0])\n",
    "plot.imview(\n",
    "    x_reconstruction,\n",
    "    title=\"TV Reconstruction\\nSNR: %.2f (dB), MAE: %.3f\"\n",
    "    % (metric.snr(x_gt, x_reconstruction), metric.mae(x_gt, x_reconstruction)),\n",
    "    fig=fig,\n",
    "    ax=ax[1],\n",
    ")\n",
    "divider = make_axes_locatable(ax[1])\n",
    "cax = divider.append_axes(\"right\", size=\"5%\", pad=0.2)\n",
    "fig.colorbar(ax[1].get_images()[0], cax=cax, label=\"arbitrary units\")\n",
    "fig.show()"
   ]
  },
  {
   "cell_type": "markdown",
   "id": "96691fab",
   "metadata": {},
   "source": [
    "Plot convergence statistics."
   ]
  },
  {
   "cell_type": "code",
   "execution_count": null,
   "id": "774abe68",
   "metadata": {
    "collapsed": false
   },
   "outputs": [],
   "source": [
    "fig, ax = plot.subplots(nrows=1, ncols=2, figsize=(12, 5))\n",
    "plot.plot(\n",
    "    hist.Objective,\n",
    "    title=\"Objective function\",\n",
    "    xlbl=\"Iteration\",\n",
    "    ylbl=\"Functional value\",\n",
    "    fig=fig,\n",
    "    ax=ax[0],\n",
    ")\n",
    "plot.plot(\n",
    "    snp.vstack((hist.Prml_Rsdl, hist.Dual_Rsdl)).T,\n",
    "    ptyp=\"semilogy\",\n",
    "    title=\"Residuals\",\n",
    "    xlbl=\"Iteration\",\n",
    "    lgnd=(\"Primal\", \"Dual\"),\n",
    "    fig=fig,\n",
    "    ax=ax[1],\n",
    ")\n",
    "fig.show()"
   ]
  }
 ],
 "metadata": {},
 "nbformat": 4,
 "nbformat_minor": 5
}
