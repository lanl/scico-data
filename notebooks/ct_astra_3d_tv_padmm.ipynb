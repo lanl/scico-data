{
 "cells": [
  {
   "cell_type": "markdown",
   "id": "f8ed3f80",
   "metadata": {},
   "source": [
    "3D TV-Regularized Sparse-View CT Reconstruction (Proximal ADMM Solver)\n",
    "======================================================================\n",
    "\n",
    "This example demonstrates solution of a sparse-view, 3D CT\n",
    "reconstruction problem with isotropic total variation (TV)\n",
    "regularization\n",
    "\n",
    "  $$\\mathrm{argmin}_{\\mathbf{x}} \\; (1/2) \\| \\mathbf{y} - C \\mathbf{x}\n",
    "  \\|_2^2 + \\lambda \\| D \\mathbf{x} \\|_{2,1} \\;,$$\n",
    "\n",
    "where $C$ is the X-ray transform (the CT forward projection operator),\n",
    "$\\mathbf{y}$ is the sinogram, $D$ is a 3D finite difference operator,\n",
    "and $\\mathbf{x}$ is the reconstructed image.\n",
    "\n",
    "In this example the problem is solved via proximal ADMM, while standard\n",
    "ADMM is used in a [companion example](ct_astra_3d_tv_admm.rst)."
   ]
  },
  {
   "cell_type": "code",
   "execution_count": 1,
   "id": "d4b562b1",
   "metadata": {
    "collapsed": false,
    "execution": {
     "iopub.execute_input": "2025-05-19T23:27:53.687727Z",
     "iopub.status.busy": "2025-05-19T23:27:53.687096Z",
     "iopub.status.idle": "2025-05-19T23:28:07.076243Z",
     "shell.execute_reply": "2025-05-19T23:28:07.074091Z"
    }
   },
   "outputs": [],
   "source": [
    "import numpy as np\n",
    "\n",
    "from mpl_toolkits.axes_grid1 import make_axes_locatable\n",
    "\n",
    "import scico.numpy as snp\n",
    "from scico import functional, linop, loss, metric, plot\n",
    "from scico.examples import create_tangle_phantom\n",
    "from scico.linop.xray.astra import XRayTransform3D, angle_to_vector\n",
    "from scico.optimize import ProximalADMM\n",
    "from scico.util import device_info\n",
    "plot.config_notebook_plotting()"
   ]
  },
  {
   "cell_type": "markdown",
   "id": "a7cd795a",
   "metadata": {},
   "source": [
    "Create a ground truth image and projector."
   ]
  },
  {
   "cell_type": "code",
   "execution_count": 2,
   "id": "23823fb3",
   "metadata": {
    "collapsed": false,
    "execution": {
     "iopub.execute_input": "2025-05-19T23:28:07.084407Z",
     "iopub.status.busy": "2025-05-19T23:28:07.083302Z",
     "iopub.status.idle": "2025-05-19T23:28:08.054621Z",
     "shell.execute_reply": "2025-05-19T23:28:08.052944Z"
    }
   },
   "outputs": [],
   "source": [
    "Nx = 128\n",
    "Ny = 256\n",
    "Nz = 64\n",
    "\n",
    "tangle = snp.array(create_tangle_phantom(Nx, Ny, Nz))\n",
    "\n",
    "n_projection = 10  # number of projections\n",
    "angles = np.linspace(0, np.pi, n_projection, endpoint=False)  # evenly spaced projection angles\n",
    "det_spacing = [1.0, 1.0]\n",
    "det_count = [Nz, max(Nx, Ny)]\n",
    "vectors = angle_to_vector(det_spacing, angles)\n",
    "\n",
    "# It would have been more straightforward to use the det_spacing and angles keywords\n",
    "# in this case (since vectors is just computed directly from these two quantities), but\n",
    "# the more general form is used here as a demonstration.\n",
    "C = XRayTransform3D(tangle.shape, det_count=det_count, vectors=vectors)  # CT projection operator\n",
    "y = C @ tangle  # sinogram"
   ]
  },
  {
   "cell_type": "markdown",
   "id": "5a28efde",
   "metadata": {},
   "source": [
    "Set up problem and solver. We want to minimize the functional\n",
    "\n",
    "  $$\\mathrm{argmin}_{\\mathbf{x}} \\; (1/2) \\| \\mathbf{y} - C \\mathbf{x}\n",
    "  \\|_2^2 + \\lambda \\| D \\mathbf{x} \\|_{2,1} \\;,$$\n",
    "\n",
    "where $C$ is the X-ray transform and $D$ is a finite difference\n",
    "operator. This problem can be expressed as\n",
    "\n",
    "  $$\\mathrm{argmin}_{\\mathbf{x}, \\mathbf{z}} \\; (1/2) \\| \\mathbf{y} -\n",
    "  \\mathbf{z}_0 \\|_2^2 + \\lambda \\| \\mathbf{z}_1 \\|_{2,1} \\;\\;\n",
    "  \\text{such that} \\;\\; \\mathbf{z}_0 = C \\mathbf{x} \\;\\; \\text{and} \\;\\;\n",
    "  \\mathbf{z}_1 = D \\mathbf{x} \\;,$$\n",
    "\n",
    "which can be written in the form of a standard ADMM problem\n",
    "\n",
    "  $$\\mathrm{argmin}_{\\mathbf{x}, \\mathbf{z}} \\; f(\\mathbf{x}) + g(\\mathbf{z})\n",
    "  \\;\\; \\text{such that} \\;\\; A \\mathbf{x} + B \\mathbf{z} = \\mathbf{c}$$\n",
    "\n",
    "with\n",
    "\n",
    "  $$f = 0 \\qquad g = g_0 + g_1$$\n",
    "  $$g_0(\\mathbf{z}_0) = (1/2) \\| \\mathbf{y} - \\mathbf{z}_0 \\|_2^2 \\qquad\n",
    "  g_1(\\mathbf{z}_1) = \\lambda \\| \\mathbf{z}_1 \\|_{2,1}$$\n",
    "  $$A = \\left( \\begin{array}{c} C \\\\ D \\end{array} \\right) \\qquad\n",
    "  B = \\left( \\begin{array}{cc} -I & 0 \\\\ 0 & -I \\end{array} \\right) \\qquad\n",
    "  \\mathbf{c} = \\left( \\begin{array}{c} 0 \\\\ 0 \\end{array} \\right) \\;.$$\n",
    "\n",
    "This is a more complex splitting than that used in the\n",
    "[companion example](ct_astra_3d_tv_admm.rst), but it allows the use of a\n",
    "proximal ADMM solver in a way that avoids the need for the conjugate\n",
    "gradient sub-iterations used by the ADMM solver in the\n",
    "[companion example](ct_astra_3d_tv_admm.rst)."
   ]
  },
  {
   "cell_type": "code",
   "execution_count": 3,
   "id": "b4fd9792",
   "metadata": {
    "collapsed": false,
    "execution": {
     "iopub.execute_input": "2025-05-19T23:28:08.062232Z",
     "iopub.status.busy": "2025-05-19T23:28:08.061576Z",
     "iopub.status.idle": "2025-05-19T23:28:15.767483Z",
     "shell.execute_reply": "2025-05-19T23:28:15.766406Z"
    }
   },
   "outputs": [],
   "source": [
    "𝛼 = 1e2  # improve problem conditioning by balancing C and D components of A\n",
    "λ = 2e0 / 𝛼  # ℓ2,1 norm regularization parameter\n",
    "ρ = 5e-3  # ADMM penalty parameter\n",
    "maxiter = 1000  # number of ADMM iterations\n",
    "\n",
    "f = functional.ZeroFunctional()\n",
    "g0 = loss.SquaredL2Loss(y=y)\n",
    "g1 = λ * functional.L21Norm()\n",
    "g = functional.SeparableFunctional((g0, g1))\n",
    "D = linop.FiniteDifference(input_shape=tangle.shape, append=0)\n",
    "\n",
    "A = linop.VerticalStack((C, 𝛼 * D))\n",
    "mu, nu = ProximalADMM.estimate_parameters(A)\n",
    "\n",
    "solver = ProximalADMM(\n",
    "    f=f,\n",
    "    g=g,\n",
    "    A=A,\n",
    "    B=None,\n",
    "    rho=ρ,\n",
    "    mu=mu,\n",
    "    nu=nu,\n",
    "    maxiter=maxiter,\n",
    "    itstat_options={\"display\": True, \"period\": 50},\n",
    ")"
   ]
  },
  {
   "cell_type": "markdown",
   "id": "fbff9c62",
   "metadata": {},
   "source": [
    "Run the solver."
   ]
  },
  {
   "cell_type": "code",
   "execution_count": 4,
   "id": "a036f066",
   "metadata": {
    "collapsed": false,
    "execution": {
     "iopub.execute_input": "2025-05-19T23:28:15.771935Z",
     "iopub.status.busy": "2025-05-19T23:28:15.771269Z",
     "iopub.status.idle": "2025-05-19T23:30:07.719928Z",
     "shell.execute_reply": "2025-05-19T23:30:07.718948Z"
    }
   },
   "outputs": [
    {
     "name": "stdout",
     "output_type": "stream",
     "text": [
      "Solving on GPU (NVIDIA GeForce RTX 2080 Ti)\n",
      "\n"
     ]
    },
    {
     "name": "stdout",
     "output_type": "stream",
     "text": [
      "Iter  Time      Objective  Prml Rsdl  Dual Rsdl\n",
      "-----------------------------------------------\n",
      "   0  1.30e+00  1.361e+04  3.267e+04  3.267e+04\n",
      "   1  2.14e+00  5.171e+04  3.165e+04  1.566e+02\r"
     ]
    },
    {
     "name": "stdout",
     "output_type": "stream",
     "text": [
      "   2  2.29e+00  1.117e+05  3.023e+04  1.511e+02\r",
      "   3  2.45e+00  1.899e+05  2.845e+04  2.691e+02\r"
     ]
    },
    {
     "name": "stdout",
     "output_type": "stream",
     "text": [
      "   4  2.60e+00  2.864e+05  2.634e+04  9.520e+02\r",
      "   5  2.75e+00  3.921e+05  2.394e+04  9.383e+02\r"
     ]
    },
    {
     "name": "stdout",
     "output_type": "stream",
     "text": [
      "   6  2.88e+00  4.989e+05  2.131e+04  8.218e+02\r",
      "   7  3.02e+00  6.031e+05  1.850e+04  8.527e+02\r"
     ]
    },
    {
     "name": "stdout",
     "output_type": "stream",
     "text": [
      "   8  3.15e+00  7.014e+05  1.558e+04  9.520e+02\r",
      "   9  3.28e+00  7.885e+05  1.266e+04  9.844e+02\r"
     ]
    },
    {
     "name": "stdout",
     "output_type": "stream",
     "text": [
      "  10  3.41e+00  8.595e+05  9.914e+03  9.809e+02\r",
      "  11  3.55e+00  9.114e+05  7.657e+03  9.649e+02\r"
     ]
    },
    {
     "name": "stdout",
     "output_type": "stream",
     "text": [
      "  12  3.68e+00  9.437e+05  6.488e+03  9.623e+02\r",
      "  13  3.82e+00  9.562e+05  6.936e+03  9.502e+02\r"
     ]
    },
    {
     "name": "stdout",
     "output_type": "stream",
     "text": [
      "  14  3.95e+00  9.499e+05  8.655e+03  9.310e+02\r",
      "  15  4.09e+00  9.270e+05  1.094e+04  9.056e+02\r"
     ]
    },
    {
     "name": "stdout",
     "output_type": "stream",
     "text": [
      "  16  4.25e+00  8.903e+05  1.336e+04  8.740e+02\r",
      "  17  4.39e+00  8.433e+05  1.572e+04  8.371e+02\r"
     ]
    },
    {
     "name": "stdout",
     "output_type": "stream",
     "text": [
      "  18  4.52e+00  7.900e+05  1.791e+04  7.962e+02\r",
      "  19  4.65e+00  7.343e+05  1.987e+04  7.526e+02\r"
     ]
    },
    {
     "name": "stdout",
     "output_type": "stream",
     "text": [
      "  20  4.79e+00  6.801e+05  2.155e+04  7.082e+02\r",
      "  21  4.92e+00  6.311e+05  2.292e+04  6.654e+02\r"
     ]
    },
    {
     "name": "stdout",
     "output_type": "stream",
     "text": [
      "  22  5.06e+00  5.901e+05  2.396e+04  6.268e+02\r",
      "  23  5.19e+00  5.596e+05  2.466e+04  5.952e+02\r"
     ]
    },
    {
     "name": "stdout",
     "output_type": "stream",
     "text": [
      "  24  5.33e+00  5.413e+05  2.501e+04  5.736e+02\r",
      "  25  5.46e+00  5.359e+05  2.501e+04  5.644e+02\r"
     ]
    },
    {
     "name": "stdout",
     "output_type": "stream",
     "text": [
      "  26  5.60e+00  5.434e+05  2.467e+04  5.665e+02\r",
      "  27  5.74e+00  5.628e+05  2.399e+04  5.792e+02\r"
     ]
    },
    {
     "name": "stdout",
     "output_type": "stream",
     "text": [
      "  28  5.88e+00  5.927e+05  2.300e+04  6.003e+02\r",
      "  29  6.03e+00  6.308e+05  2.172e+04  6.344e+02\r"
     ]
    },
    {
     "name": "stdout",
     "output_type": "stream",
     "text": [
      "  30  6.18e+00  6.746e+05  2.016e+04  6.685e+02\r",
      "  31  6.31e+00  7.212e+05  1.836e+04  7.049e+02\r"
     ]
    },
    {
     "name": "stdout",
     "output_type": "stream",
     "text": [
      "  32  6.44e+00  7.675e+05  1.636e+04  7.363e+02\r",
      "  33  6.57e+00  8.107e+05  1.420e+04  7.753e+02\r"
     ]
    },
    {
     "name": "stdout",
     "output_type": "stream",
     "text": [
      "  34  6.70e+00  8.480e+05  1.192e+04  8.096e+02\r",
      "  35  6.82e+00  8.772e+05  9.604e+03  8.302e+02\r"
     ]
    },
    {
     "name": "stdout",
     "output_type": "stream",
     "text": [
      "  36  6.95e+00  8.966e+05  7.346e+03  8.501e+02\r",
      "  37  7.08e+00  9.050e+05  5.374e+03  8.633e+02\r"
     ]
    },
    {
     "name": "stdout",
     "output_type": "stream",
     "text": [
      "  38  7.21e+00  9.019e+05  4.205e+03  8.643e+02\r",
      "  39  7.34e+00  8.875e+05  4.501e+03  8.730e+02\r"
     ]
    },
    {
     "name": "stdout",
     "output_type": "stream",
     "text": [
      "  40  7.48e+00  8.624e+05  5.981e+03  8.574e+02\r",
      "  41  7.61e+00  8.279e+05  7.919e+03  8.383e+02\r"
     ]
    },
    {
     "name": "stdout",
     "output_type": "stream",
     "text": [
      "  42  7.74e+00  7.855e+05  9.947e+03  8.208e+02\r",
      "  43  7.89e+00  7.371e+05  1.192e+04  7.755e+02\r"
     ]
    },
    {
     "name": "stdout",
     "output_type": "stream",
     "text": [
      "  44  8.04e+00  6.852e+05  1.375e+04  7.243e+02\r",
      "  45  8.18e+00  6.320e+05  1.540e+04  6.735e+02\r"
     ]
    },
    {
     "name": "stdout",
     "output_type": "stream",
     "text": [
      "  46  8.31e+00  5.802e+05  1.684e+04  6.217e+02\r",
      "  47  8.46e+00  5.319e+05  1.804e+04  5.690e+02\r"
     ]
    },
    {
     "name": "stdout",
     "output_type": "stream",
     "text": [
      "  48  8.61e+00  4.893e+05  1.899e+04  5.185e+02\r",
      "  49  8.74e+00  4.540e+05  1.968e+04  4.731e+02\r"
     ]
    },
    {
     "name": "stdout",
     "output_type": "stream",
     "text": [
      "  50  8.91e+00  4.273e+05  2.009e+04  4.357e+02\n",
      "  51  9.05e+00  4.099e+05  2.024e+04  4.068e+02\r"
     ]
    },
    {
     "name": "stdout",
     "output_type": "stream",
     "text": [
      "  52  9.18e+00  4.020e+05  2.013e+04  3.865e+02\r",
      "  53  9.31e+00  4.033e+05  1.976e+04  3.788e+02\r"
     ]
    },
    {
     "name": "stdout",
     "output_type": "stream",
     "text": [
      "  54  9.45e+00  4.130e+05  1.914e+04  3.831e+02\r",
      "  55  9.60e+00  4.299e+05  1.829e+04  3.977e+02\r"
     ]
    },
    {
     "name": "stdout",
     "output_type": "stream",
     "text": [
      "  56  9.76e+00  4.525e+05  1.724e+04  4.195e+02\r",
      "  57  9.91e+00  4.791e+05  1.600e+04  4.462e+02\r"
     ]
    },
    {
     "name": "stdout",
     "output_type": "stream",
     "text": [
      "  58  1.00e+01  5.078e+05  1.462e+04  4.752e+02\r",
      "  59  1.02e+01  5.366e+05  1.311e+04  5.027e+02\r"
     ]
    },
    {
     "name": "stdout",
     "output_type": "stream",
     "text": [
      "  60  1.03e+01  5.637e+05  1.154e+04  5.285e+02\r",
      "  61  1.04e+01  5.876e+05  9.964e+03  5.503e+02\r"
     ]
    },
    {
     "name": "stdout",
     "output_type": "stream",
     "text": [
      "  62  1.06e+01  6.068e+05  8.461e+03  5.684e+02\r",
      "  63  1.07e+01  6.204e+05  7.159e+03  5.817e+02\r"
     ]
    },
    {
     "name": "stdout",
     "output_type": "stream",
     "text": [
      "  64  1.08e+01  6.277e+05  6.240e+03  5.899e+02\r",
      "  65  1.10e+01  6.284e+05  5.899e+03  5.921e+02\r"
     ]
    },
    {
     "name": "stdout",
     "output_type": "stream",
     "text": [
      "  66  1.11e+01  6.228e+05  6.209e+03  5.896e+02\r",
      "  67  1.12e+01  6.113e+05  7.034e+03  5.807e+02\r"
     ]
    },
    {
     "name": "stdout",
     "output_type": "stream",
     "text": [
      "  68  1.13e+01  5.948e+05  8.154e+03  5.660e+02\r",
      "  69  1.15e+01  5.744e+05  9.391e+03  5.483e+02\r"
     ]
    },
    {
     "name": "stdout",
     "output_type": "stream",
     "text": [
      "  70  1.16e+01  5.514e+05  1.063e+04  5.268e+02\r",
      "  71  1.18e+01  5.271e+05  1.180e+04  5.028e+02\r"
     ]
    },
    {
     "name": "stdout",
     "output_type": "stream",
     "text": [
      "  72  1.19e+01  5.031e+05  1.284e+04  4.749e+02\r",
      "  73  1.21e+01  4.806e+05  1.374e+04  4.466e+02\r"
     ]
    },
    {
     "name": "stdout",
     "output_type": "stream",
     "text": [
      "  74  1.22e+01  4.608e+05  1.447e+04  4.188e+02\r",
      "  75  1.23e+01  4.448e+05  1.501e+04  3.927e+02\r"
     ]
    },
    {
     "name": "stdout",
     "output_type": "stream",
     "text": [
      "  76  1.25e+01  4.333e+05  1.535e+04  3.687e+02\r",
      "  77  1.26e+01  4.267e+05  1.549e+04  3.513e+02\r"
     ]
    },
    {
     "name": "stdout",
     "output_type": "stream",
     "text": [
      "  78  1.27e+01  4.252e+05  1.542e+04  3.409e+02\r",
      "  79  1.29e+01  4.287e+05  1.516e+04  3.395e+02\r"
     ]
    },
    {
     "name": "stdout",
     "output_type": "stream",
     "text": [
      "  80  1.30e+01  4.367e+05  1.471e+04  3.438e+02\r",
      "  81  1.31e+01  4.485e+05  1.407e+04  3.561e+02\r"
     ]
    },
    {
     "name": "stdout",
     "output_type": "stream",
     "text": [
      "  82  1.32e+01  4.633e+05  1.326e+04  3.740e+02\r",
      "  83  1.33e+01  4.801e+05  1.230e+04  3.946e+02\r"
     ]
    },
    {
     "name": "stdout",
     "output_type": "stream",
     "text": [
      "  84  1.35e+01  4.977e+05  1.121e+04  4.169e+02\r",
      "  85  1.36e+01  5.149e+05  1.000e+04  4.393e+02\r"
     ]
    },
    {
     "name": "stdout",
     "output_type": "stream",
     "text": [
      "  86  1.37e+01  5.308e+05  8.718e+03  4.621e+02\r",
      "  87  1.38e+01  5.443e+05  7.386e+03  4.823e+02\r"
     ]
    },
    {
     "name": "stdout",
     "output_type": "stream",
     "text": [
      "  88  1.39e+01  5.545e+05  6.059e+03  4.995e+02\r",
      "  89  1.41e+01  5.608e+05  4.819e+03  5.130e+02\r"
     ]
    },
    {
     "name": "stdout",
     "output_type": "stream",
     "text": [
      "  90  1.42e+01  5.628e+05  3.817e+03  5.224e+02\r",
      "  91  1.43e+01  5.603e+05  3.310e+03  5.280e+02\r"
     ]
    },
    {
     "name": "stdout",
     "output_type": "stream",
     "text": [
      "  92  1.44e+01  5.532e+05  3.506e+03  5.294e+02\r",
      "  93  1.46e+01  5.420e+05  4.271e+03  5.276e+02\r"
     ]
    },
    {
     "name": "stdout",
     "output_type": "stream",
     "text": [
      "  94  1.47e+01  5.270e+05  5.311e+03  5.218e+02\r",
      "  95  1.48e+01  5.089e+05  6.436e+03  5.115e+02\r"
     ]
    },
    {
     "name": "stdout",
     "output_type": "stream",
     "text": [
      "  96  1.50e+01  4.885e+05  7.546e+03  4.971e+02\r",
      "  97  1.51e+01  4.665e+05  8.589e+03  4.799e+02\r"
     ]
    },
    {
     "name": "stdout",
     "output_type": "stream",
     "text": [
      "  98  1.53e+01  4.441e+05  9.531e+03  4.607e+02\r",
      "  99  1.54e+01  4.219e+05  1.035e+04  4.407e+02\r"
     ]
    },
    {
     "name": "stdout",
     "output_type": "stream",
     "text": [
      " 100  1.56e+01  4.010e+05  1.103e+04  4.197e+02\n",
      " 101  1.57e+01  3.819e+05  1.157e+04  3.989e+02\r",
      " 102  1.57e+01  3.655e+05  1.195e+04  3.801e+02\r"
     ]
    },
    {
     "name": "stdout",
     "output_type": "stream",
     "text": [
      " 103  1.58e+01  3.520e+05  1.218e+04  3.637e+02\r",
      " 104  1.59e+01  3.417e+05  1.225e+04  3.511e+02\r",
      " 105  1.59e+01  3.348e+05  1.216e+04  3.433e+02\r"
     ]
    },
    {
     "name": "stdout",
     "output_type": "stream",
     "text": [
      " 106  1.60e+01  3.312e+05  1.193e+04  3.402e+02\r",
      " 107  1.61e+01  3.306e+05  1.155e+04  3.415e+02\r",
      " 108  1.61e+01  3.325e+05  1.105e+04  3.456e+02\r"
     ]
    },
    {
     "name": "stdout",
     "output_type": "stream",
     "text": [
      " 109  1.62e+01  3.365e+05  1.043e+04  3.517e+02\r",
      " 110  1.63e+01  3.420e+05  9.709e+03  3.596e+02\r",
      " 111  1.63e+01  3.483e+05  8.914e+03  3.692e+02\r",
      " 112  1.64e+01  3.547e+05  8.069e+03  3.797e+02\r"
     ]
    },
    {
     "name": "stdout",
     "output_type": "stream",
     "text": [
      " 113  1.65e+01  3.608e+05  7.206e+03  3.903e+02\r",
      " 114  1.65e+01  3.659e+05  6.366e+03  4.000e+02\r",
      " 115  1.66e+01  3.695e+05  5.607e+03  4.078e+02\r",
      " 116  1.66e+01  3.714e+05  5.000e+03  4.123e+02\r"
     ]
    },
    {
     "name": "stdout",
     "output_type": "stream",
     "text": [
      " 117  1.67e+01  3.714e+05  4.628e+03  4.129e+02\r",
      " 118  1.68e+01  3.694e+05  4.552e+03  4.113e+02\r",
      " 119  1.68e+01  3.655e+05  4.770e+03  4.054e+02\r",
      " 120  1.69e+01  3.599e+05  5.220e+03  3.972e+02\r"
     ]
    },
    {
     "name": "stdout",
     "output_type": "stream",
     "text": [
      " 121  1.69e+01  3.528e+05  5.812e+03  3.860e+02\r",
      " 122  1.70e+01  3.447e+05  6.467e+03  3.761e+02\r",
      " 123  1.71e+01  3.359e+05  7.129e+03  3.598e+02\r",
      " 124  1.71e+01  3.268e+05  7.756e+03  3.405e+02\r"
     ]
    },
    {
     "name": "stdout",
     "output_type": "stream",
     "text": [
      " 125  1.72e+01  3.180e+05  8.321e+03  3.225e+02\r",
      " 126  1.72e+01  3.099e+05  8.801e+03  3.046e+02\r",
      " 127  1.73e+01  3.027e+05  9.184e+03  2.839e+02\r"
     ]
    },
    {
     "name": "stdout",
     "output_type": "stream",
     "text": [
      " 128  1.74e+01  2.970e+05  9.460e+03  2.669e+02\r",
      " 129  1.74e+01  2.929e+05  9.622e+03  2.530e+02\r",
      " 130  1.75e+01  2.905e+05  9.668e+03  2.428e+02\r",
      " 131  1.76e+01  2.900e+05  9.597e+03  2.363e+02\r"
     ]
    },
    {
     "name": "stdout",
     "output_type": "stream",
     "text": [
      " 132  1.76e+01  2.911e+05  9.411e+03  2.338e+02\r",
      " 133  1.77e+01  2.937e+05  9.114e+03  2.358e+02\r",
      " 134  1.78e+01  2.977e+05  8.713e+03  2.417e+02\r"
     ]
    },
    {
     "name": "stdout",
     "output_type": "stream",
     "text": [
      " 135  1.79e+01  3.026e+05  8.217e+03  2.504e+02\r",
      " 136  1.80e+01  3.081e+05  7.636e+03  2.607e+02\r",
      " 137  1.80e+01  3.138e+05  6.984e+03  2.716e+02\r"
     ]
    },
    {
     "name": "stdout",
     "output_type": "stream",
     "text": [
      " 138  1.81e+01  3.192e+05  6.277e+03  2.832e+02\r",
      " 139  1.82e+01  3.240e+05  5.534e+03  2.955e+02\r",
      " 140  1.82e+01  3.279e+05  4.782e+03  3.072e+02\r",
      " 141  1.83e+01  3.306e+05  4.058e+03  3.159e+02\r"
     ]
    },
    {
     "name": "stdout",
     "output_type": "stream",
     "text": [
      " 142  1.84e+01  3.319e+05  3.417e+03  3.246e+02\r",
      " 143  1.84e+01  3.316e+05  2.942e+03  3.328e+02\r",
      " 144  1.85e+01  3.297e+05  2.731e+03  3.383e+02\r",
      " 145  1.86e+01  3.262e+05  2.835e+03  3.390e+02\r"
     ]
    },
    {
     "name": "stdout",
     "output_type": "stream",
     "text": [
      " 146  1.86e+01  3.213e+05  3.204e+03  3.375e+02\r",
      " 147  1.87e+01  3.152e+05  3.730e+03  3.355e+02\r",
      " 148  1.88e+01  3.082e+05  4.323e+03  3.299e+02\r"
     ]
    },
    {
     "name": "stdout",
     "output_type": "stream",
     "text": [
      " 149  1.88e+01  3.005e+05  4.925e+03  3.237e+02\r",
      " 150  1.89e+01  2.925e+05  5.500e+03  3.164e+02\n",
      " 151  1.90e+01  2.846e+05  6.025e+03  3.043e+02\r",
      " 152  1.90e+01  2.769e+05  6.484e+03  2.924e+02\r"
     ]
    },
    {
     "name": "stdout",
     "output_type": "stream",
     "text": [
      " 153  1.91e+01  2.699e+05  6.867e+03  2.815e+02\r",
      " 154  1.92e+01  2.637e+05  7.166e+03  2.722e+02\r",
      " 155  1.92e+01  2.586e+05  7.378e+03  2.640e+02\r",
      " 156  1.93e+01  2.546e+05  7.500e+03  2.530e+02\r"
     ]
    },
    {
     "name": "stdout",
     "output_type": "stream",
     "text": [
      " 157  1.93e+01  2.519e+05  7.533e+03  2.410e+02\r",
      " 158  1.94e+01  2.504e+05  7.478e+03  2.323e+02\r",
      " 159  1.95e+01  2.500e+05  7.340e+03  2.273e+02\r",
      " 160  1.95e+01  2.508e+05  7.124e+03  2.255e+02\r"
     ]
    },
    {
     "name": "stdout",
     "output_type": "stream",
     "text": [
      " 161  1.96e+01  2.524e+05  6.838e+03  2.260e+02\r",
      " 162  1.96e+01  2.548e+05  6.491e+03  2.290e+02\r",
      " 163  1.97e+01  2.577e+05  6.096e+03  2.320e+02\r",
      " 164  1.97e+01  2.609e+05  5.666e+03  2.364e+02\r"
     ]
    },
    {
     "name": "stdout",
     "output_type": "stream",
     "text": [
      " 165  1.98e+01  2.642e+05  5.220e+03  2.415e+02\r",
      " 166  1.99e+01  2.672e+05  4.779e+03  2.467e+02\r",
      " 167  1.99e+01  2.700e+05  4.368e+03  2.516e+02\r",
      " 168  2.00e+01  2.723e+05  4.019e+03  2.561e+02\r"
     ]
    },
    {
     "name": "stdout",
     "output_type": "stream",
     "text": [
      " 169  2.00e+01  2.739e+05  3.763e+03  2.593e+02\r",
      " 170  2.01e+01  2.750e+05  3.628e+03  2.611e+02\r",
      " 171  2.02e+01  2.753e+05  3.627e+03  2.607e+02\r",
      " 172  2.02e+01  2.749e+05  3.751e+03  2.592e+02\r"
     ]
    },
    {
     "name": "stdout",
     "output_type": "stream",
     "text": [
      " 173  2.03e+01  2.739e+05  3.976e+03  2.571e+02\r",
      " 174  2.03e+01  2.724e+05  4.267e+03  2.535e+02\r",
      " 175  2.04e+01  2.706e+05  4.591e+03  2.476e+02\r",
      " 176  2.04e+01  2.685e+05  4.921e+03  2.413e+02\r"
     ]
    },
    {
     "name": "stdout",
     "output_type": "stream",
     "text": [
      " 177  2.05e+01  2.664e+05  5.235e+03  2.347e+02\r",
      " 178  2.06e+01  2.644e+05  5.516e+03  2.264e+02\r",
      " 179  2.06e+01  2.626e+05  5.753e+03  2.178e+02\r"
     ]
    },
    {
     "name": "stdout",
     "output_type": "stream",
     "text": [
      " 180  2.07e+01  2.611e+05  5.937e+03  2.088e+02\r",
      " 181  2.08e+01  2.602e+05  6.060e+03  2.007e+02\r"
     ]
    },
    {
     "name": "stdout",
     "output_type": "stream",
     "text": [
      " 182  2.09e+01  2.597e+05  6.120e+03  1.935e+02\r",
      " 183  2.11e+01  2.599e+05  6.114e+03  1.880e+02\r"
     ]
    },
    {
     "name": "stdout",
     "output_type": "stream",
     "text": [
      " 184  2.12e+01  2.607e+05  6.041e+03  1.846e+02\r",
      " 185  2.13e+01  2.620e+05  5.903e+03  1.826e+02\r"
     ]
    },
    {
     "name": "stdout",
     "output_type": "stream",
     "text": [
      " 186  2.14e+01  2.637e+05  5.703e+03  1.825e+02\r",
      " 187  2.16e+01  2.659e+05  5.445e+03  1.846e+02\r"
     ]
    },
    {
     "name": "stdout",
     "output_type": "stream",
     "text": [
      " 188  2.17e+01  2.683e+05  5.134e+03  1.878e+02\r",
      " 189  2.18e+01  2.709e+05  4.776e+03  1.923e+02\r"
     ]
    },
    {
     "name": "stdout",
     "output_type": "stream",
     "text": [
      " 190  2.19e+01  2.734e+05  4.382e+03  1.975e+02\r",
      " 191  2.21e+01  2.757e+05  3.960e+03  2.036e+02\r"
     ]
    },
    {
     "name": "stdout",
     "output_type": "stream",
     "text": [
      " 192  2.22e+01  2.778e+05  3.525e+03  2.104e+02\r",
      " 193  2.23e+01  2.795e+05  3.094e+03  2.169e+02\r"
     ]
    },
    {
     "name": "stdout",
     "output_type": "stream",
     "text": [
      " 194  2.25e+01  2.807e+05  2.691e+03  2.215e+02\r",
      " 195  2.26e+01  2.813e+05  2.347e+03  2.269e+02\r"
     ]
    },
    {
     "name": "stdout",
     "output_type": "stream",
     "text": [
      " 196  2.28e+01  2.813e+05  2.105e+03  2.318e+02\r",
      " 197  2.29e+01  2.807e+05  2.005e+03  2.360e+02\r"
     ]
    },
    {
     "name": "stdout",
     "output_type": "stream",
     "text": [
      " 198  2.30e+01  2.794e+05  2.063e+03  2.391e+02\r",
      " 199  2.31e+01  2.776e+05  2.254e+03  2.398e+02\r"
     ]
    },
    {
     "name": "stdout",
     "output_type": "stream",
     "text": [
      " 200  2.32e+01  2.753e+05  2.533e+03  2.388e+02\n",
      " 201  2.33e+01  2.725e+05  2.856e+03  2.357e+02\r"
     ]
    },
    {
     "name": "stdout",
     "output_type": "stream",
     "text": [
      " 202  2.35e+01  2.694e+05  3.190e+03  2.330e+02\r",
      " 203  2.36e+01  2.661e+05  3.513e+03  2.306e+02\r"
     ]
    },
    {
     "name": "stdout",
     "output_type": "stream",
     "text": [
      " 204  2.37e+01  2.626e+05  3.812e+03  2.263e+02\r",
      " 205  2.38e+01  2.592e+05  4.074e+03  2.208e+02\r"
     ]
    },
    {
     "name": "stdout",
     "output_type": "stream",
     "text": [
      " 206  2.39e+01  2.558e+05  4.296e+03  2.120e+02\r",
      " 207  2.40e+01  2.526e+05  4.471e+03  2.043e+02\r"
     ]
    },
    {
     "name": "stdout",
     "output_type": "stream",
     "text": [
      " 208  2.42e+01  2.497e+05  4.597e+03  1.977e+02\r",
      " 209  2.43e+01  2.470e+05  4.672e+03  1.915e+02\r"
     ]
    },
    {
     "name": "stdout",
     "output_type": "stream",
     "text": [
      " 210  2.44e+01  2.447e+05  4.698e+03  1.872e+02\r",
      " 211  2.45e+01  2.428e+05  4.675e+03  1.854e+02\r"
     ]
    },
    {
     "name": "stdout",
     "output_type": "stream",
     "text": [
      " 212  2.46e+01  2.412e+05  4.607e+03  1.812e+02\r",
      " 213  2.48e+01  2.400e+05  4.496e+03  1.784e+02\r"
     ]
    },
    {
     "name": "stdout",
     "output_type": "stream",
     "text": [
      " 214  2.49e+01  2.390e+05  4.350e+03  1.770e+02\r",
      " 215  2.50e+01  2.382e+05  4.173e+03  1.751e+02\r"
     ]
    },
    {
     "name": "stdout",
     "output_type": "stream",
     "text": [
      " 216  2.52e+01  2.376e+05  3.975e+03  1.726e+02\r",
      " 217  2.53e+01  2.371e+05  3.764e+03  1.723e+02\r"
     ]
    },
    {
     "name": "stdout",
     "output_type": "stream",
     "text": [
      " 218  2.54e+01  2.366e+05  3.551e+03  1.721e+02\r",
      " 219  2.55e+01  2.361e+05  3.349e+03  1.723e+02\r"
     ]
    },
    {
     "name": "stdout",
     "output_type": "stream",
     "text": [
      " 220  2.56e+01  2.355e+05  3.171e+03  1.734e+02\r",
      " 221  2.57e+01  2.348e+05  3.030e+03  1.741e+02\r",
      " 222  2.58e+01  2.341e+05  2.937e+03  1.748e+02\r"
     ]
    },
    {
     "name": "stdout",
     "output_type": "stream",
     "text": [
      " 223  2.59e+01  2.331e+05  2.899e+03  1.752e+02\r",
      " 224  2.61e+01  2.321e+05  2.918e+03  1.762e+02\r"
     ]
    },
    {
     "name": "stdout",
     "output_type": "stream",
     "text": [
      " 225  2.62e+01  2.310e+05  2.988e+03  1.792e+02\r",
      " 226  2.63e+01  2.299e+05  3.098e+03  1.825e+02\r"
     ]
    },
    {
     "name": "stdout",
     "output_type": "stream",
     "text": [
      " 227  2.64e+01  2.287e+05  3.235e+03  1.826e+02\r",
      " 228  2.66e+01  2.275e+05  3.387e+03  1.799e+02\r",
      " 229  2.67e+01  2.263e+05  3.541e+03  1.768e+02\r"
     ]
    },
    {
     "name": "stdout",
     "output_type": "stream",
     "text": [
      " 230  2.67e+01  2.251e+05  3.687e+03  1.728e+02\r",
      " 231  2.68e+01  2.241e+05  3.816e+03  1.688e+02\r",
      " 232  2.69e+01  2.232e+05  3.921e+03  1.617e+02\r"
     ]
    },
    {
     "name": "stdout",
     "output_type": "stream",
     "text": [
      " 233  2.70e+01  2.225e+05  3.998e+03  1.542e+02\r",
      " 234  2.71e+01  2.219e+05  4.043e+03  1.488e+02\r"
     ]
    },
    {
     "name": "stdout",
     "output_type": "stream",
     "text": [
      " 235  2.72e+01  2.216e+05  4.053e+03  1.446e+02\r",
      " 236  2.73e+01  2.215e+05  4.026e+03  1.412e+02\r",
      " 237  2.74e+01  2.217e+05  3.964e+03  1.386e+02\r"
     ]
    },
    {
     "name": "stdout",
     "output_type": "stream",
     "text": [
      " 238  2.75e+01  2.220e+05  3.865e+03  1.373e+02\r",
      " 239  2.76e+01  2.224e+05  3.733e+03  1.369e+02\r",
      " 240  2.77e+01  2.230e+05  3.569e+03  1.378e+02\r"
     ]
    },
    {
     "name": "stdout",
     "output_type": "stream",
     "text": [
      " 241  2.77e+01  2.237e+05  3.377e+03  1.392e+02\r",
      " 242  2.78e+01  2.244e+05  3.161e+03  1.414e+02\r"
     ]
    },
    {
     "name": "stdout",
     "output_type": "stream",
     "text": [
      " 243  2.80e+01  2.251e+05  2.927e+03  1.440e+02\r",
      " 244  2.81e+01  2.256e+05  2.683e+03  1.470e+02\r",
      " 245  2.81e+01  2.260e+05  2.435e+03  1.500e+02\r"
     ]
    },
    {
     "name": "stdout",
     "output_type": "stream",
     "text": [
      " 246  2.82e+01  2.263e+05  2.194e+03  1.530e+02\r",
      " 247  2.83e+01  2.263e+05  1.974e+03  1.560e+02\r",
      " 248  2.84e+01  2.261e+05  1.790e+03  1.585e+02\r"
     ]
    },
    {
     "name": "stdout",
     "output_type": "stream",
     "text": [
      " 249  2.85e+01  2.257e+05  1.659e+03  1.605e+02\r",
      " 250  2.86e+01  2.249e+05  1.595e+03  1.623e+02\n"
     ]
    },
    {
     "name": "stdout",
     "output_type": "stream",
     "text": [
      " 251  2.87e+01  2.240e+05  1.604e+03  1.635e+02\r",
      " 252  2.89e+01  2.228e+05  1.679e+03  1.641e+02\r"
     ]
    },
    {
     "name": "stdout",
     "output_type": "stream",
     "text": [
      " 253  2.91e+01  2.215e+05  1.801e+03  1.643e+02\r",
      " 254  2.92e+01  2.200e+05  1.954e+03  1.643e+02\r"
     ]
    },
    {
     "name": "stdout",
     "output_type": "stream",
     "text": [
      " 255  2.93e+01  2.184e+05  2.120e+03  1.639e+02\r",
      " 256  2.94e+01  2.167e+05  2.286e+03  1.631e+02\r"
     ]
    },
    {
     "name": "stdout",
     "output_type": "stream",
     "text": [
      " 257  2.95e+01  2.151e+05  2.443e+03  1.617e+02\r",
      " 258  2.97e+01  2.135e+05  2.583e+03  1.591e+02\r"
     ]
    },
    {
     "name": "stdout",
     "output_type": "stream",
     "text": [
      " 259  2.98e+01  2.119e+05  2.702e+03  1.555e+02\r",
      " 260  2.99e+01  2.105e+05  2.797e+03  1.526e+02\r",
      " 261  3.00e+01  2.092e+05  2.867e+03  1.499e+02\r"
     ]
    },
    {
     "name": "stdout",
     "output_type": "stream",
     "text": [
      " 262  3.01e+01  2.081e+05  2.909e+03  1.468e+02\r",
      " 263  3.01e+01  2.071e+05  2.924e+03  1.438e+02\r",
      " 264  3.02e+01  2.063e+05  2.914e+03  1.412e+02\r",
      " 265  3.03e+01  2.057e+05  2.880e+03  1.398e+02\r"
     ]
    },
    {
     "name": "stdout",
     "output_type": "stream",
     "text": [
      " 266  3.03e+01  2.052e+05  2.824e+03  1.395e+02\r",
      " 267  3.04e+01  2.049e+05  2.751e+03  1.395e+02\r",
      " 268  3.05e+01  2.047e+05  2.663e+03  1.382e+02\r",
      " 269  3.05e+01  2.046e+05  2.567e+03  1.357e+02\r"
     ]
    },
    {
     "name": "stdout",
     "output_type": "stream",
     "text": [
      " 270  3.06e+01  2.045e+05  2.468e+03  1.342e+02\r",
      " 271  3.06e+01  2.044e+05  2.372e+03  1.341e+02\r",
      " 272  3.07e+01  2.043e+05  2.286e+03  1.340e+02\r",
      " 273  3.08e+01  2.042e+05  2.215e+03  1.334e+02\r"
     ]
    },
    {
     "name": "stdout",
     "output_type": "stream",
     "text": [
      " 274  3.08e+01  2.041e+05  2.166e+03  1.324e+02\r",
      " 275  3.09e+01  2.040e+05  2.143e+03  1.313e+02\r",
      " 276  3.09e+01  2.038e+05  2.146e+03  1.300e+02\r",
      " 277  3.10e+01  2.035e+05  2.174e+03  1.279e+02\r"
     ]
    },
    {
     "name": "stdout",
     "output_type": "stream",
     "text": [
      " 278  3.10e+01  2.032e+05  2.226e+03  1.259e+02\r",
      " 279  3.11e+01  2.028e+05  2.294e+03  1.237e+02\r",
      " 280  3.11e+01  2.024e+05  2.373e+03  1.215e+02\r",
      " 281  3.12e+01  2.021e+05  2.458e+03  1.194e+02\r"
     ]
    },
    {
     "name": "stdout",
     "output_type": "stream",
     "text": [
      " 282  3.12e+01  2.017e+05  2.542e+03  1.178e+02\r",
      " 283  3.13e+01  2.014e+05  2.619e+03  1.156e+02\r",
      " 284  3.14e+01  2.012e+05  2.687e+03  1.128e+02\r",
      " 285  3.14e+01  2.010e+05  2.741e+03  1.104e+02\r"
     ]
    },
    {
     "name": "stdout",
     "output_type": "stream",
     "text": [
      " 286  3.15e+01  2.008e+05  2.779e+03  1.083e+02\r",
      " 287  3.15e+01  2.008e+05  2.799e+03  1.065e+02\r",
      " 288  3.16e+01  2.009e+05  2.799e+03  1.054e+02\r",
      " 289  3.16e+01  2.010e+05  2.779e+03  1.045e+02\r"
     ]
    },
    {
     "name": "stdout",
     "output_type": "stream",
     "text": [
      " 290  3.17e+01  2.013e+05  2.739e+03  1.037e+02\r",
      " 291  3.17e+01  2.016e+05  2.680e+03  1.032e+02\r",
      " 292  3.18e+01  2.020e+05  2.602e+03  1.034e+02\r"
     ]
    },
    {
     "name": "stdout",
     "output_type": "stream",
     "text": [
      " 293  3.19e+01  2.024e+05  2.508e+03  1.031e+02\r",
      " 294  3.20e+01  2.029e+05  2.400e+03  1.033e+02\r",
      " 295  3.20e+01  2.034e+05  2.280e+03  1.041e+02\r"
     ]
    },
    {
     "name": "stdout",
     "output_type": "stream",
     "text": [
      " 296  3.22e+01  2.039e+05  2.152e+03  1.054e+02\r",
      " 297  3.23e+01  2.043e+05  2.020e+03  1.072e+02\r"
     ]
    },
    {
     "name": "stdout",
     "output_type": "stream",
     "text": [
      " 298  3.24e+01  2.047e+05  1.889e+03  1.088e+02\r",
      " 299  3.26e+01  2.050e+05  1.763e+03  1.108e+02\r"
     ]
    },
    {
     "name": "stdout",
     "output_type": "stream",
     "text": [
      " 300  3.27e+01  2.052e+05  1.648e+03  1.128e+02\n",
      " 301  3.28e+01  2.054e+05  1.550e+03  1.144e+02\r"
     ]
    },
    {
     "name": "stdout",
     "output_type": "stream",
     "text": [
      " 302  3.29e+01  2.054e+05  1.474e+03  1.159e+02\r",
      " 303  3.31e+01  2.054e+05  1.424e+03  1.172e+02\r"
     ]
    },
    {
     "name": "stdout",
     "output_type": "stream",
     "text": [
      " 304  3.32e+01  2.052e+05  1.402e+03  1.183e+02\r",
      " 305  3.34e+01  2.049e+05  1.406e+03  1.192e+02\r"
     ]
    },
    {
     "name": "stdout",
     "output_type": "stream",
     "text": [
      " 306  3.35e+01  2.046e+05  1.433e+03  1.200e+02\r",
      " 307  3.36e+01  2.042e+05  1.477e+03  1.208e+02\r",
      " 308  3.37e+01  2.037e+05  1.532e+03  1.212e+02\r",
      " 309  3.37e+01  2.031e+05  1.592e+03  1.212e+02\r"
     ]
    },
    {
     "name": "stdout",
     "output_type": "stream",
     "text": [
      " 310  3.38e+01  2.026e+05  1.651e+03  1.211e+02\r",
      " 311  3.39e+01  2.020e+05  1.705e+03  1.210e+02\r",
      " 312  3.39e+01  2.014e+05  1.751e+03  1.214e+02\r",
      " 313  3.40e+01  2.008e+05  1.787e+03  1.213e+02\r"
     ]
    },
    {
     "name": "stdout",
     "output_type": "stream",
     "text": [
      " 314  3.40e+01  2.002e+05  1.811e+03  1.205e+02\r",
      " 315  3.41e+01  1.996e+05  1.823e+03  1.194e+02\r",
      " 316  3.42e+01  1.991e+05  1.822e+03  1.182e+02\r",
      " 317  3.42e+01  1.986e+05  1.809e+03  1.171e+02\r"
     ]
    },
    {
     "name": "stdout",
     "output_type": "stream",
     "text": [
      " 318  3.43e+01  1.981e+05  1.785e+03  1.160e+02\r",
      " 319  3.44e+01  1.976e+05  1.752e+03  1.148e+02\r",
      " 320  3.44e+01  1.972e+05  1.711e+03  1.141e+02\r",
      " 321  3.45e+01  1.968e+05  1.667e+03  1.137e+02\r"
     ]
    },
    {
     "name": "stdout",
     "output_type": "stream",
     "text": [
      " 322  3.46e+01  1.964e+05  1.620e+03  1.137e+02\r",
      " 323  3.46e+01  1.960e+05  1.576e+03  1.138e+02\r",
      " 324  3.47e+01  1.956e+05  1.537e+03  1.133e+02\r",
      " 325  3.47e+01  1.952e+05  1.507e+03  1.131e+02\r"
     ]
    },
    {
     "name": "stdout",
     "output_type": "stream",
     "text": [
      " 326  3.48e+01  1.948e+05  1.488e+03  1.131e+02\r",
      " 327  3.48e+01  1.944e+05  1.483e+03  1.134e+02\r",
      " 328  3.49e+01  1.940e+05  1.493e+03  1.131e+02\r",
      " 329  3.49e+01  1.935e+05  1.517e+03  1.133e+02\r"
     ]
    },
    {
     "name": "stdout",
     "output_type": "stream",
     "text": [
      " 330  3.50e+01  1.931e+05  1.553e+03  1.132e+02\r",
      " 331  3.50e+01  1.927e+05  1.599e+03  1.126e+02\r",
      " 332  3.51e+01  1.923e+05  1.653e+03  1.122e+02\r",
      " 333  3.52e+01  1.919e+05  1.711e+03  1.118e+02\r"
     ]
    },
    {
     "name": "stdout",
     "output_type": "stream",
     "text": [
      " 334  3.52e+01  1.915e+05  1.769e+03  1.108e+02\r",
      " 335  3.53e+01  1.912e+05  1.825e+03  1.075e+02\r",
      " 336  3.53e+01  1.908e+05  1.877e+03  1.036e+02\r"
     ]
    },
    {
     "name": "stdout",
     "output_type": "stream",
     "text": [
      " 337  3.54e+01  1.904e+05  1.923e+03  9.975e+01\r",
      " 338  3.55e+01  1.901e+05  1.960e+03  9.642e+01\r"
     ]
    },
    {
     "name": "stdout",
     "output_type": "stream",
     "text": [
      " 339  3.56e+01  1.898e+05  1.988e+03  9.338e+01\r",
      " 340  3.58e+01  1.896e+05  2.005e+03  9.051e+01\r"
     ]
    },
    {
     "name": "stdout",
     "output_type": "stream",
     "text": [
      " 341  3.59e+01  1.894e+05  2.011e+03  8.802e+01\r",
      " 342  3.60e+01  1.892e+05  2.006e+03  8.590e+01\r",
      " 343  3.61e+01  1.891e+05  1.990e+03  8.400e+01\r"
     ]
    },
    {
     "name": "stdout",
     "output_type": "stream",
     "text": [
      " 344  3.61e+01  1.890e+05  1.962e+03  8.252e+01\r",
      " 345  3.62e+01  1.890e+05  1.925e+03  8.113e+01\r",
      " 346  3.62e+01  1.890e+05  1.879e+03  7.985e+01\r",
      " 347  3.63e+01  1.890e+05  1.825e+03  7.895e+01\r"
     ]
    },
    {
     "name": "stdout",
     "output_type": "stream",
     "text": [
      " 348  3.64e+01  1.891e+05  1.764e+03  7.867e+01\r",
      " 349  3.64e+01  1.891e+05  1.700e+03  7.903e+01\r",
      " 350  3.65e+01  1.892e+05  1.632e+03  7.943e+01\n",
      " 351  3.66e+01  1.892e+05  1.564e+03  7.929e+01\r"
     ]
    },
    {
     "name": "stdout",
     "output_type": "stream",
     "text": [
      " 352  3.66e+01  1.892e+05  1.498e+03  7.924e+01\r",
      " 353  3.67e+01  1.893e+05  1.435e+03  7.937e+01\r",
      " 354  3.68e+01  1.892e+05  1.378e+03  7.948e+01\r",
      " 355  3.68e+01  1.892e+05  1.328e+03  7.996e+01\r"
     ]
    },
    {
     "name": "stdout",
     "output_type": "stream",
     "text": [
      " 356  3.69e+01  1.891e+05  1.286e+03  8.064e+01\r",
      " 357  3.70e+01  1.891e+05  1.253e+03  8.109e+01\r",
      " 358  3.70e+01  1.890e+05  1.228e+03  8.142e+01\r",
      " 359  3.71e+01  1.889e+05  1.212e+03  8.232e+01\r"
     ]
    },
    {
     "name": "stdout",
     "output_type": "stream",
     "text": [
      " 360  3.71e+01  1.887e+05  1.201e+03  8.361e+01\r",
      " 361  3.72e+01  1.886e+05  1.195e+03  8.481e+01\r",
      " 362  3.73e+01  1.884e+05  1.192e+03  8.597e+01\r",
      " 363  3.73e+01  1.883e+05  1.190e+03  8.708e+01\r"
     ]
    },
    {
     "name": "stdout",
     "output_type": "stream",
     "text": [
      " 364  3.74e+01  1.881e+05  1.187e+03  8.780e+01\r",
      " 365  3.74e+01  1.880e+05  1.181e+03  8.863e+01\r",
      " 366  3.75e+01  1.878e+05  1.172e+03  8.957e+01\r"
     ]
    },
    {
     "name": "stdout",
     "output_type": "stream",
     "text": [
      " 367  3.76e+01  1.877e+05  1.158e+03  9.051e+01\r",
      " 368  3.77e+01  1.876e+05  1.139e+03  9.062e+01\r",
      " 369  3.77e+01  1.874e+05  1.115e+03  8.953e+01\r",
      " 370  3.78e+01  1.873e+05  1.087e+03  8.860e+01\r"
     ]
    },
    {
     "name": "stdout",
     "output_type": "stream",
     "text": [
      " 371  3.79e+01  1.871e+05  1.055e+03  8.817e+01\r",
      " 372  3.79e+01  1.870e+05  1.020e+03  8.824e+01\r",
      " 373  3.80e+01  1.868e+05  9.837e+02  8.844e+01\r"
     ]
    },
    {
     "name": "stdout",
     "output_type": "stream",
     "text": [
      " 374  3.81e+01  1.867e+05  9.480e+02  8.903e+01\r",
      " 375  3.81e+01  1.865e+05  9.150e+02  8.968e+01\r",
      " 376  3.82e+01  1.863e+05  8.873e+02  8.978e+01\r"
     ]
    },
    {
     "name": "stdout",
     "output_type": "stream",
     "text": [
      " 377  3.83e+01  1.861e+05  8.675e+02  8.877e+01\r",
      " 378  3.84e+01  1.859e+05  8.579e+02  8.762e+01\r"
     ]
    },
    {
     "name": "stdout",
     "output_type": "stream",
     "text": [
      " 379  3.86e+01  1.857e+05  8.598e+02  8.687e+01\r",
      " 380  3.86e+01  1.854e+05  8.737e+02  8.627e+01\r"
     ]
    },
    {
     "name": "stdout",
     "output_type": "stream",
     "text": [
      " 381  3.87e+01  1.852e+05  8.991e+02  8.598e+01\r",
      " 382  3.89e+01  1.849e+05  9.345e+02  8.575e+01\r"
     ]
    },
    {
     "name": "stdout",
     "output_type": "stream",
     "text": [
      " 383  3.90e+01  1.846e+05  9.779e+02  8.545e+01\r",
      " 384  3.91e+01  1.843e+05  1.027e+03  8.549e+01\r",
      " 385  3.92e+01  1.840e+05  1.079e+03  8.587e+01\r"
     ]
    },
    {
     "name": "stdout",
     "output_type": "stream",
     "text": [
      " 386  3.93e+01  1.838e+05  1.133e+03  8.667e+01\r",
      " 387  3.94e+01  1.835e+05  1.185e+03  8.770e+01\r",
      " 388  3.95e+01  1.833e+05  1.235e+03  8.829e+01\r"
     ]
    },
    {
     "name": "stdout",
     "output_type": "stream",
     "text": [
      " 389  3.96e+01  1.831e+05  1.280e+03  8.849e+01\r",
      " 390  3.97e+01  1.829e+05  1.321e+03  8.996e+01\r"
     ]
    },
    {
     "name": "stdout",
     "output_type": "stream",
     "text": [
      " 391  3.98e+01  1.828e+05  1.356e+03  8.590e+01\r",
      " 392  3.99e+01  1.826e+05  1.385e+03  8.433e+01\r"
     ]
    },
    {
     "name": "stdout",
     "output_type": "stream",
     "text": [
      " 393  4.00e+01  1.825e+05  1.407e+03  8.353e+01\r",
      " 394  4.02e+01  1.823e+05  1.423e+03  8.093e+01\r"
     ]
    },
    {
     "name": "stdout",
     "output_type": "stream",
     "text": [
      " 395  4.03e+01  1.822e+05  1.431e+03  7.712e+01\r",
      " 396  4.04e+01  1.820e+05  1.434e+03  7.374e+01\r"
     ]
    },
    {
     "name": "stdout",
     "output_type": "stream",
     "text": [
      " 397  4.05e+01  1.819e+05  1.430e+03  7.160e+01\r",
      " 398  4.06e+01  1.817e+05  1.420e+03  6.969e+01\r",
      " 399  4.07e+01  1.816e+05  1.405e+03  6.794e+01\r"
     ]
    },
    {
     "name": "stdout",
     "output_type": "stream",
     "text": [
      " 400  4.08e+01  1.815e+05  1.385e+03  6.610e+01\n",
      " 401  4.09e+01  1.814e+05  1.362e+03  6.398e+01\r",
      " 402  4.10e+01  1.813e+05  1.335e+03  6.240e+01\r"
     ]
    },
    {
     "name": "stdout",
     "output_type": "stream",
     "text": [
      " 403  4.11e+01  1.812e+05  1.307e+03  6.161e+01\r",
      " 404  4.12e+01  1.811e+05  1.277e+03  6.100e+01\r"
     ]
    },
    {
     "name": "stdout",
     "output_type": "stream",
     "text": [
      " 405  4.13e+01  1.810e+05  1.247e+03  6.074e+01\r",
      " 406  4.14e+01  1.810e+05  1.217e+03  6.058e+01\r"
     ]
    },
    {
     "name": "stdout",
     "output_type": "stream",
     "text": [
      " 407  4.15e+01  1.809e+05  1.188e+03  6.034e+01\r",
      " 408  4.16e+01  1.808e+05  1.160e+03  6.034e+01\r",
      " 409  4.17e+01  1.807e+05  1.134e+03  6.028e+01\r",
      " 410  4.17e+01  1.806e+05  1.110e+03  6.009e+01\r"
     ]
    },
    {
     "name": "stdout",
     "output_type": "stream",
     "text": [
      " 411  4.18e+01  1.805e+05  1.088e+03  6.010e+01\r",
      " 412  4.18e+01  1.804e+05  1.067e+03  6.027e+01\r",
      " 413  4.19e+01  1.803e+05  1.047e+03  6.057e+01\r"
     ]
    },
    {
     "name": "stdout",
     "output_type": "stream",
     "text": [
      " 414  4.20e+01  1.802e+05  1.028e+03  6.067e+01\r",
      " 415  4.21e+01  1.801e+05  1.009e+03  6.061e+01\r",
      " 416  4.21e+01  1.800e+05  9.890e+02  6.043e+01\r",
      " 417  4.22e+01  1.799e+05  9.682e+02  6.024e+01\r"
     ]
    },
    {
     "name": "stdout",
     "output_type": "stream",
     "text": [
      " 418  4.23e+01  1.797e+05  9.458e+02  6.017e+01\r",
      " 419  4.23e+01  1.796e+05  9.213e+02  6.011e+01\r",
      " 420  4.24e+01  1.794e+05  8.946e+02  6.015e+01\r",
      " 421  4.24e+01  1.792e+05  8.654e+02  6.011e+01\r"
     ]
    },
    {
     "name": "stdout",
     "output_type": "stream",
     "text": [
      " 422  4.25e+01  1.790e+05  8.339e+02  6.021e+01\r",
      " 423  4.26e+01  1.788e+05  8.004e+02  6.033e+01\r",
      " 424  4.26e+01  1.786e+05  7.652e+02  6.053e+01\r",
      " 425  4.27e+01  1.784e+05  7.290e+02  6.063e+01\r"
     ]
    },
    {
     "name": "stdout",
     "output_type": "stream",
     "text": [
      " 426  4.28e+01  1.782e+05  6.928e+02  6.077e+01\r",
      " 427  4.28e+01  1.779e+05  6.578e+02  6.091e+01\r",
      " 428  4.29e+01  1.777e+05  6.254e+02  6.110e+01\r",
      " 429  4.30e+01  1.774e+05  5.971e+02  6.138e+01\r"
     ]
    },
    {
     "name": "stdout",
     "output_type": "stream",
     "text": [
      " 430  4.30e+01  1.771e+05  5.747e+02  6.167e+01\r",
      " 431  4.31e+01  1.768e+05  5.598e+02  6.196e+01\r",
      " 432  4.32e+01  1.765e+05  5.534e+02  6.209e+01\r"
     ]
    },
    {
     "name": "stdout",
     "output_type": "stream",
     "text": [
      " 433  4.32e+01  1.762e+05  5.562e+02  6.210e+01\r",
      " 434  4.33e+01  1.759e+05  5.680e+02  6.217e+01\r",
      " 435  4.34e+01  1.755e+05  5.877e+02  6.220e+01\r",
      " 436  4.34e+01  1.752e+05  6.141e+02  6.212e+01\r"
     ]
    },
    {
     "name": "stdout",
     "output_type": "stream",
     "text": [
      " 437  4.35e+01  1.749e+05  6.455e+02  6.207e+01\r",
      " 438  4.36e+01  1.746e+05  6.801e+02  6.190e+01\r",
      " 439  4.36e+01  1.743e+05  7.165e+02  6.178e+01\r",
      " 440  4.37e+01  1.739e+05  7.532e+02  6.183e+01\r"
     ]
    },
    {
     "name": "stdout",
     "output_type": "stream",
     "text": [
      " 441  4.38e+01  1.736e+05  7.890e+02  6.185e+01\r",
      " 442  4.39e+01  1.734e+05  8.231e+02  6.177e+01\r",
      " 443  4.40e+01  1.731e+05  8.547e+02  6.164e+01\r"
     ]
    },
    {
     "name": "stdout",
     "output_type": "stream",
     "text": [
      " 444  4.41e+01  1.729e+05  8.832e+02  6.152e+01\r",
      " 445  4.42e+01  1.726e+05  9.082e+02  6.158e+01\r"
     ]
    },
    {
     "name": "stdout",
     "output_type": "stream",
     "text": [
      " 446  4.43e+01  1.724e+05  9.295e+02  6.165e+01\r",
      " 447  4.44e+01  1.723e+05  9.469e+02  6.188e+01\r"
     ]
    },
    {
     "name": "stdout",
     "output_type": "stream",
     "text": [
      " 448  4.45e+01  1.721e+05  9.603e+02  6.212e+01\r",
      " 449  4.47e+01  1.720e+05  9.698e+02  6.257e+01\r"
     ]
    },
    {
     "name": "stdout",
     "output_type": "stream",
     "text": [
      " 450  4.48e+01  1.719e+05  9.755e+02  6.438e+01\n",
      " 451  4.49e+01  1.719e+05  9.773e+02  6.674e+01\r",
      " 452  4.49e+01  1.719e+05  9.761e+02  6.672e+01\r"
     ]
    },
    {
     "name": "stdout",
     "output_type": "stream",
     "text": [
      " 453  4.51e+01  1.718e+05  9.724e+02  6.352e+01\r",
      " 454  4.52e+01  1.718e+05  9.665e+02  6.153e+01\r"
     ]
    },
    {
     "name": "stdout",
     "output_type": "stream",
     "text": [
      " 455  4.53e+01  1.718e+05  9.588e+02  6.024e+01\r",
      " 456  4.54e+01  1.718e+05  9.497e+02  5.907e+01\r"
     ]
    },
    {
     "name": "stdout",
     "output_type": "stream",
     "text": [
      " 457  4.56e+01  1.718e+05  9.396e+02  5.824e+01\r",
      " 458  4.57e+01  1.718e+05  9.289e+02  5.731e+01\r"
     ]
    },
    {
     "name": "stdout",
     "output_type": "stream",
     "text": [
      " 459  4.58e+01  1.719e+05  9.177e+02  5.659e+01\r",
      " 460  4.60e+01  1.719e+05  9.065e+02  5.609e+01\r"
     ]
    },
    {
     "name": "stdout",
     "output_type": "stream",
     "text": [
      " 461  4.61e+01  1.720e+05  8.951e+02  5.596e+01\r",
      " 462  4.62e+01  1.720e+05  8.838e+02  5.649e+01\r"
     ]
    },
    {
     "name": "stdout",
     "output_type": "stream",
     "text": [
      " 463  4.63e+01  1.721e+05  8.725e+02  5.669e+01\r",
      " 464  4.65e+01  1.722e+05  8.611e+02  5.702e+01\r"
     ]
    },
    {
     "name": "stdout",
     "output_type": "stream",
     "text": [
      " 465  4.66e+01  1.723e+05  8.495e+02  5.715e+01\r",
      " 466  4.66e+01  1.724e+05  8.375e+02  5.685e+01\r",
      " 467  4.67e+01  1.725e+05  8.251e+02  5.642e+01\r"
     ]
    },
    {
     "name": "stdout",
     "output_type": "stream",
     "text": [
      " 468  4.68e+01  1.727e+05  8.118e+02  5.662e+01\r",
      " 469  4.68e+01  1.728e+05  7.974e+02  5.683e+01\r",
      " 470  4.69e+01  1.729e+05  7.820e+02  5.542e+01\r",
      " 471  4.70e+01  1.730e+05  7.657e+02  5.114e+01\r"
     ]
    },
    {
     "name": "stdout",
     "output_type": "stream",
     "text": [
      " 472  4.70e+01  1.731e+05  7.482e+02  4.898e+01\r",
      " 473  4.71e+01  1.732e+05  7.293e+02  4.771e+01\r",
      " 474  4.71e+01  1.733e+05  7.091e+02  4.660e+01\r",
      " 475  4.72e+01  1.734e+05  6.877e+02  4.590e+01\r"
     ]
    },
    {
     "name": "stdout",
     "output_type": "stream",
     "text": [
      " 476  4.72e+01  1.735e+05  6.653e+02  4.519e+01\r",
      " 477  4.73e+01  1.735e+05  6.421e+02  4.462e+01\r",
      " 478  4.73e+01  1.736e+05  6.186e+02  4.417e+01\r",
      " 479  4.74e+01  1.737e+05  5.952e+02  4.383e+01\r"
     ]
    },
    {
     "name": "stdout",
     "output_type": "stream",
     "text": [
      " 480  4.74e+01  1.737e+05  5.725e+02  4.371e+01\r",
      " 481  4.75e+01  1.737e+05  5.511e+02  4.371e+01\r",
      " 482  4.75e+01  1.738e+05  5.317e+02  4.379e+01\r",
      " 483  4.76e+01  1.738e+05  5.150e+02  4.384e+01\r"
     ]
    },
    {
     "name": "stdout",
     "output_type": "stream",
     "text": [
      " 484  4.77e+01  1.738e+05  5.016e+02  4.402e+01\r",
      " 485  4.77e+01  1.738e+05  4.920e+02  4.413e+01\r",
      " 486  4.78e+01  1.738e+05  4.867e+02  4.438e+01\r",
      " 487  4.78e+01  1.737e+05  4.856e+02  4.458e+01\r"
     ]
    },
    {
     "name": "stdout",
     "output_type": "stream",
     "text": [
      " 488  4.79e+01  1.737e+05  4.887e+02  4.495e+01\r",
      " 489  4.79e+01  1.737e+05  4.957e+02  4.507e+01\r",
      " 490  4.80e+01  1.736e+05  5.058e+02  4.528e+01\r",
      " 491  4.80e+01  1.736e+05  5.186e+02  4.550e+01\r"
     ]
    },
    {
     "name": "stdout",
     "output_type": "stream",
     "text": [
      " 492  4.81e+01  1.735e+05  5.332e+02  4.563e+01\r",
      " 493  4.81e+01  1.734e+05  5.490e+02  4.567e+01\r",
      " 494  4.82e+01  1.733e+05  5.654e+02  4.555e+01\r",
      " 495  4.83e+01  1.733e+05  5.817e+02  4.542e+01\r"
     ]
    },
    {
     "name": "stdout",
     "output_type": "stream",
     "text": [
      " 496  4.83e+01  1.732e+05  5.974e+02  4.528e+01\r",
      " 497  4.84e+01  1.731e+05  6.122e+02  4.521e+01\r",
      " 498  4.85e+01  1.730e+05  6.256e+02  4.525e+01\r"
     ]
    },
    {
     "name": "stdout",
     "output_type": "stream",
     "text": [
      " 499  4.85e+01  1.729e+05  6.375e+02  4.545e+01\r",
      " 500  4.86e+01  1.728e+05  6.477e+02  4.537e+01\n"
     ]
    },
    {
     "name": "stdout",
     "output_type": "stream",
     "text": [
      " 501  4.87e+01  1.727e+05  6.562e+02  4.512e+01\r",
      " 502  4.88e+01  1.726e+05  6.629e+02  4.479e+01\r"
     ]
    },
    {
     "name": "stdout",
     "output_type": "stream",
     "text": [
      " 503  4.89e+01  1.725e+05  6.680e+02  4.443e+01\r",
      " 504  4.90e+01  1.724e+05  6.715e+02  4.406e+01\r"
     ]
    },
    {
     "name": "stdout",
     "output_type": "stream",
     "text": [
      " 505  4.91e+01  1.723e+05  6.735e+02  4.365e+01\r",
      " 506  4.93e+01  1.723e+05  6.743e+02  4.329e+01\r"
     ]
    },
    {
     "name": "stdout",
     "output_type": "stream",
     "text": [
      " 507  4.94e+01  1.722e+05  6.740e+02  4.293e+01\r",
      " 508  4.96e+01  1.721e+05  6.728e+02  4.265e+01\r"
     ]
    },
    {
     "name": "stdout",
     "output_type": "stream",
     "text": [
      " 509  4.97e+01  1.720e+05  6.708e+02  4.245e+01\r",
      " 510  4.98e+01  1.719e+05  6.683e+02  4.224e+01\r"
     ]
    },
    {
     "name": "stdout",
     "output_type": "stream",
     "text": [
      " 511  5.00e+01  1.719e+05  6.652e+02  4.211e+01\r",
      " 512  5.01e+01  1.718e+05  6.617e+02  4.207e+01\r"
     ]
    },
    {
     "name": "stdout",
     "output_type": "stream",
     "text": [
      " 513  5.02e+01  1.717e+05  6.580e+02  4.205e+01\r",
      " 514  5.04e+01  1.717e+05  6.540e+02  4.203e+01\r"
     ]
    },
    {
     "name": "stdout",
     "output_type": "stream",
     "text": [
      " 515  5.05e+01  1.716e+05  6.497e+02  4.190e+01\r",
      " 516  5.06e+01  1.715e+05  6.451e+02  4.160e+01\r"
     ]
    },
    {
     "name": "stdout",
     "output_type": "stream",
     "text": [
      " 517  5.08e+01  1.715e+05  6.402e+02  4.128e+01\r",
      " 518  5.09e+01  1.714e+05  6.349e+02  4.086e+01\r",
      " 519  5.10e+01  1.714e+05  6.291e+02  4.040e+01\r"
     ]
    },
    {
     "name": "stdout",
     "output_type": "stream",
     "text": [
      " 520  5.11e+01  1.713e+05  6.227e+02  3.996e+01\r",
      " 521  5.12e+01  1.713e+05  6.155e+02  3.966e+01\r"
     ]
    },
    {
     "name": "stdout",
     "output_type": "stream",
     "text": [
      " 522  5.13e+01  1.712e+05  6.075e+02  3.942e+01\r",
      " 523  5.15e+01  1.712e+05  5.985e+02  3.914e+01\r"
     ]
    },
    {
     "name": "stdout",
     "output_type": "stream",
     "text": [
      " 524  5.16e+01  1.711e+05  5.885e+02  3.891e+01\r",
      " 525  5.17e+01  1.711e+05  5.774e+02  3.872e+01\r",
      " 526  5.18e+01  1.710e+05  5.653e+02  3.843e+01\r"
     ]
    },
    {
     "name": "stdout",
     "output_type": "stream",
     "text": [
      " 527  5.19e+01  1.710e+05  5.522e+02  3.800e+01\r",
      " 528  5.20e+01  1.709e+05  5.381e+02  3.767e+01\r",
      " 529  5.21e+01  1.709e+05  5.233e+02  3.726e+01\r"
     ]
    },
    {
     "name": "stdout",
     "output_type": "stream",
     "text": [
      " 530  5.22e+01  1.708e+05  5.078e+02  3.708e+01\r",
      " 531  5.23e+01  1.708e+05  4.919e+02  3.695e+01\r"
     ]
    },
    {
     "name": "stdout",
     "output_type": "stream",
     "text": [
      " 532  5.24e+01  1.707e+05  4.759e+02  3.687e+01\r",
      " 533  5.25e+01  1.707e+05  4.600e+02  3.685e+01\r"
     ]
    },
    {
     "name": "stdout",
     "output_type": "stream",
     "text": [
      " 534  5.26e+01  1.706e+05  4.447e+02  3.683e+01\r",
      " 535  5.27e+01  1.706e+05  4.302e+02  3.696e+01\r"
     ]
    },
    {
     "name": "stdout",
     "output_type": "stream",
     "text": [
      " 536  5.29e+01  1.705e+05  4.169e+02  3.725e+01\r",
      " 537  5.30e+01  1.704e+05  4.052e+02  3.763e+01\r",
      " 538  5.30e+01  1.704e+05  3.954e+02  3.797e+01\r",
      " 539  5.31e+01  1.703e+05  3.879e+02  3.763e+01\r"
     ]
    },
    {
     "name": "stdout",
     "output_type": "stream",
     "text": [
      " 540  5.32e+01  1.702e+05  3.829e+02  3.731e+01\r",
      " 541  5.32e+01  1.702e+05  3.804e+02  3.714e+01\r"
     ]
    },
    {
     "name": "stdout",
     "output_type": "stream",
     "text": [
      " 542  5.34e+01  1.701e+05  3.803e+02  3.691e+01\r",
      " 543  5.35e+01  1.700e+05  3.826e+02  3.676e+01\r",
      " 544  5.36e+01  1.699e+05  3.869e+02  3.662e+01\r"
     ]
    },
    {
     "name": "stdout",
     "output_type": "stream",
     "text": [
      " 545  5.37e+01  1.698e+05  3.930e+02  3.658e+01\r",
      " 546  5.38e+01  1.697e+05  4.004e+02  3.641e+01\r",
      " 547  5.39e+01  1.696e+05  4.089e+02  3.612e+01\r"
     ]
    },
    {
     "name": "stdout",
     "output_type": "stream",
     "text": [
      " 548  5.40e+01  1.695e+05  4.181e+02  3.563e+01\r",
      " 549  5.41e+01  1.694e+05  4.277e+02  3.531e+01\r"
     ]
    },
    {
     "name": "stdout",
     "output_type": "stream",
     "text": [
      " 550  5.42e+01  1.693e+05  4.373e+02  3.503e+01\n",
      " 551  5.43e+01  1.692e+05  4.468e+02  3.476e+01\r"
     ]
    },
    {
     "name": "stdout",
     "output_type": "stream",
     "text": [
      " 552  5.45e+01  1.691e+05  4.560e+02  3.446e+01\r",
      " 553  5.46e+01  1.690e+05  4.646e+02  3.418e+01\r"
     ]
    },
    {
     "name": "stdout",
     "output_type": "stream",
     "text": [
      " 554  5.47e+01  1.689e+05  4.727e+02  3.392e+01\r",
      " 555  5.48e+01  1.688e+05  4.801e+02  3.363e+01\r"
     ]
    },
    {
     "name": "stdout",
     "output_type": "stream",
     "text": [
      " 556  5.49e+01  1.687e+05  4.868e+02  3.339e+01\r",
      " 557  5.50e+01  1.686e+05  4.928e+02  3.313e+01\r",
      " 558  5.51e+01  1.685e+05  4.981e+02  3.289e+01\r",
      " 559  5.51e+01  1.684e+05  5.027e+02  3.274e+01\r"
     ]
    },
    {
     "name": "stdout",
     "output_type": "stream",
     "text": [
      " 560  5.52e+01  1.684e+05  5.067e+02  3.260e+01\r",
      " 561  5.53e+01  1.683e+05  5.100e+02  3.249e+01\r",
      " 562  5.54e+01  1.682e+05  5.127e+02  3.237e+01\r"
     ]
    },
    {
     "name": "stdout",
     "output_type": "stream",
     "text": [
      " 563  5.55e+01  1.682e+05  5.149e+02  3.226e+01\r",
      " 564  5.56e+01  1.681e+05  5.164e+02  3.215e+01\r",
      " 565  5.56e+01  1.680e+05  5.175e+02  3.192e+01\r"
     ]
    },
    {
     "name": "stdout",
     "output_type": "stream",
     "text": [
      " 566  5.57e+01  1.680e+05  5.179e+02  3.182e+01\r",
      " 567  5.58e+01  1.680e+05  5.177e+02  3.162e+01\r",
      " 568  5.59e+01  1.679e+05  5.169e+02  3.147e+01\r"
     ]
    },
    {
     "name": "stdout",
     "output_type": "stream",
     "text": [
      " 569  5.59e+01  1.679e+05  5.155e+02  3.123e+01\r",
      " 570  5.60e+01  1.679e+05  5.133e+02  3.102e+01\r",
      " 571  5.60e+01  1.679e+05  5.104e+02  3.085e+01\r",
      " 572  5.61e+01  1.679e+05  5.066e+02  3.066e+01\r"
     ]
    },
    {
     "name": "stdout",
     "output_type": "stream",
     "text": [
      " 573  5.62e+01  1.679e+05  5.019e+02  3.046e+01\r",
      " 574  5.62e+01  1.679e+05  4.963e+02  3.020e+01\r",
      " 575  5.63e+01  1.679e+05  4.897e+02  2.997e+01\r"
     ]
    },
    {
     "name": "stdout",
     "output_type": "stream",
     "text": [
      " 576  5.64e+01  1.679e+05  4.821e+02  2.977e+01\r",
      " 577  5.65e+01  1.679e+05  4.735e+02  2.958e+01\r"
     ]
    },
    {
     "name": "stdout",
     "output_type": "stream",
     "text": [
      " 578  5.66e+01  1.679e+05  4.639e+02  2.945e+01\r",
      " 579  5.67e+01  1.679e+05  4.532e+02  2.930e+01\r"
     ]
    },
    {
     "name": "stdout",
     "output_type": "stream",
     "text": [
      " 580  5.68e+01  1.679e+05  4.416e+02  2.922e+01\r",
      " 581  5.70e+01  1.680e+05  4.291e+02  2.920e+01\r"
     ]
    },
    {
     "name": "stdout",
     "output_type": "stream",
     "text": [
      " 582  5.71e+01  1.680e+05  4.158e+02  2.917e+01\r",
      " 583  5.72e+01  1.680e+05  4.019e+02  2.912e+01\r"
     ]
    },
    {
     "name": "stdout",
     "output_type": "stream",
     "text": [
      " 584  5.73e+01  1.680e+05  3.875e+02  2.905e+01\r",
      " 585  5.74e+01  1.681e+05  3.728e+02  2.891e+01\r"
     ]
    },
    {
     "name": "stdout",
     "output_type": "stream",
     "text": [
      " 586  5.76e+01  1.681e+05  3.580e+02  2.886e+01\r",
      " 587  5.77e+01  1.681e+05  3.433e+02  2.883e+01\r"
     ]
    },
    {
     "name": "stdout",
     "output_type": "stream",
     "text": [
      " 588  5.78e+01  1.681e+05  3.290e+02  2.887e+01\r",
      " 589  5.79e+01  1.682e+05  3.153e+02  2.893e+01\r"
     ]
    },
    {
     "name": "stdout",
     "output_type": "stream",
     "text": [
      " 590  5.80e+01  1.682e+05  3.026e+02  2.892e+01\r",
      " 591  5.82e+01  1.682e+05  2.910e+02  2.892e+01\r"
     ]
    },
    {
     "name": "stdout",
     "output_type": "stream",
     "text": [
      " 592  5.83e+01  1.682e+05  2.810e+02  2.890e+01\r",
      " 593  5.84e+01  1.682e+05  2.727e+02  2.892e+01\r"
     ]
    },
    {
     "name": "stdout",
     "output_type": "stream",
     "text": [
      " 594  5.86e+01  1.682e+05  2.663e+02  2.895e+01\r",
      " 595  5.87e+01  1.682e+05  2.620e+02  2.897e+01\r"
     ]
    },
    {
     "name": "stdout",
     "output_type": "stream",
     "text": [
      " 596  5.88e+01  1.682e+05  2.598e+02  2.903e+01\r",
      " 597  5.90e+01  1.683e+05  2.597e+02  2.906e+01\r"
     ]
    },
    {
     "name": "stdout",
     "output_type": "stream",
     "text": [
      " 598  5.91e+01  1.683e+05  2.616e+02  2.909e+01\r",
      " 599  5.92e+01  1.683e+05  2.652e+02  2.912e+01\r"
     ]
    },
    {
     "name": "stdout",
     "output_type": "stream",
     "text": [
      " 600  5.94e+01  1.682e+05  2.703e+02  2.917e+01\n",
      " 601  5.95e+01  1.682e+05  2.766e+02  2.927e+01\r"
     ]
    },
    {
     "name": "stdout",
     "output_type": "stream",
     "text": [
      " 602  5.96e+01  1.682e+05  2.839e+02  2.935e+01\r",
      " 603  5.98e+01  1.682e+05  2.919e+02  2.946e+01\r"
     ]
    },
    {
     "name": "stdout",
     "output_type": "stream",
     "text": [
      " 604  5.99e+01  1.682e+05  3.004e+02  2.956e+01\r",
      " 605  6.00e+01  1.682e+05  3.092e+02  2.968e+01\r"
     ]
    },
    {
     "name": "stdout",
     "output_type": "stream",
     "text": [
      " 606  6.02e+01  1.682e+05  3.180e+02  2.970e+01\r",
      " 607  6.03e+01  1.682e+05  3.269e+02  2.974e+01\r"
     ]
    },
    {
     "name": "stdout",
     "output_type": "stream",
     "text": [
      " 608  6.04e+01  1.682e+05  3.356e+02  2.967e+01\r",
      " 609  6.05e+01  1.682e+05  3.441e+02  2.956e+01\r"
     ]
    },
    {
     "name": "stdout",
     "output_type": "stream",
     "text": [
      " 610  6.07e+01  1.682e+05  3.523e+02  2.932e+01\r",
      " 611  6.08e+01  1.682e+05  3.602e+02  2.911e+01\r"
     ]
    },
    {
     "name": "stdout",
     "output_type": "stream",
     "text": [
      " 612  6.09e+01  1.682e+05  3.677e+02  2.887e+01\r",
      " 613  6.10e+01  1.682e+05  3.747e+02  2.872e+01\r"
     ]
    },
    {
     "name": "stdout",
     "output_type": "stream",
     "text": [
      " 614  6.11e+01  1.682e+05  3.813e+02  2.856e+01\r",
      " 615  6.13e+01  1.682e+05  3.873e+02  2.838e+01\r"
     ]
    },
    {
     "name": "stdout",
     "output_type": "stream",
     "text": [
      " 616  6.14e+01  1.682e+05  3.928e+02  2.818e+01\r",
      " 617  6.15e+01  1.681e+05  3.977e+02  2.800e+01\r"
     ]
    },
    {
     "name": "stdout",
     "output_type": "stream",
     "text": [
      " 618  6.16e+01  1.681e+05  4.019e+02  2.780e+01\r",
      " 619  6.17e+01  1.681e+05  4.055e+02  2.763e+01\r"
     ]
    },
    {
     "name": "stdout",
     "output_type": "stream",
     "text": [
      " 620  6.19e+01  1.681e+05  4.084e+02  2.748e+01\r",
      " 621  6.20e+01  1.681e+05  4.105e+02  2.738e+01\r"
     ]
    },
    {
     "name": "stdout",
     "output_type": "stream",
     "text": [
      " 622  6.21e+01  1.681e+05  4.118e+02  2.721e+01\r",
      " 623  6.22e+01  1.681e+05  4.123e+02  2.708e+01\r"
     ]
    },
    {
     "name": "stdout",
     "output_type": "stream",
     "text": [
      " 624  6.23e+01  1.681e+05  4.120e+02  2.694e+01\r",
      " 625  6.25e+01  1.681e+05  4.108e+02  2.666e+01\r"
     ]
    },
    {
     "name": "stdout",
     "output_type": "stream",
     "text": [
      " 626  6.26e+01  1.681e+05  4.087e+02  2.640e+01\r",
      " 627  6.28e+01  1.681e+05  4.057e+02  2.615e+01\r"
     ]
    },
    {
     "name": "stdout",
     "output_type": "stream",
     "text": [
      " 628  6.29e+01  1.681e+05  4.017e+02  2.594e+01\r",
      " 629  6.30e+01  1.681e+05  3.968e+02  2.571e+01\r"
     ]
    },
    {
     "name": "stdout",
     "output_type": "stream",
     "text": [
      " 630  6.32e+01  1.681e+05  3.910e+02  2.547e+01\r",
      " 631  6.33e+01  1.681e+05  3.843e+02  2.530e+01\r"
     ]
    },
    {
     "name": "stdout",
     "output_type": "stream",
     "text": [
      " 632  6.34e+01  1.681e+05  3.767e+02  2.514e+01\r",
      " 633  6.36e+01  1.680e+05  3.682e+02  2.504e+01\r"
     ]
    },
    {
     "name": "stdout",
     "output_type": "stream",
     "text": [
      " 634  6.37e+01  1.680e+05  3.590e+02  2.491e+01\r",
      " 635  6.38e+01  1.680e+05  3.491e+02  2.484e+01\r"
     ]
    },
    {
     "name": "stdout",
     "output_type": "stream",
     "text": [
      " 636  6.40e+01  1.680e+05  3.385e+02  2.476e+01\r",
      " 637  6.41e+01  1.680e+05  3.273e+02  2.478e+01\r"
     ]
    },
    {
     "name": "stdout",
     "output_type": "stream",
     "text": [
      " 638  6.42e+01  1.680e+05  3.157e+02  2.480e+01\r",
      " 639  6.44e+01  1.680e+05  3.037e+02  2.481e+01\r"
     ]
    },
    {
     "name": "stdout",
     "output_type": "stream",
     "text": [
      " 640  6.45e+01  1.680e+05  2.915e+02  2.485e+01\r",
      " 641  6.46e+01  1.680e+05  2.793e+02  2.485e+01\r"
     ]
    },
    {
     "name": "stdout",
     "output_type": "stream",
     "text": [
      " 642  6.47e+01  1.679e+05  2.671e+02  2.492e+01\r",
      " 643  6.48e+01  1.679e+05  2.553e+02  2.496e+01\r"
     ]
    },
    {
     "name": "stdout",
     "output_type": "stream",
     "text": [
      " 644  6.50e+01  1.679e+05  2.439e+02  2.501e+01\r",
      " 645  6.51e+01  1.679e+05  2.332e+02  2.506e+01\r"
     ]
    },
    {
     "name": "stdout",
     "output_type": "stream",
     "text": [
      " 646  6.52e+01  1.678e+05  2.234e+02  2.511e+01\r",
      " 647  6.53e+01  1.678e+05  2.145e+02  2.518e+01\r"
     ]
    },
    {
     "name": "stdout",
     "output_type": "stream",
     "text": [
      " 648  6.54e+01  1.678e+05  2.070e+02  2.521e+01\r",
      " 649  6.55e+01  1.677e+05  2.008e+02  2.528e+01\r"
     ]
    },
    {
     "name": "stdout",
     "output_type": "stream",
     "text": [
      " 650  6.57e+01  1.677e+05  1.962e+02  2.534e+01\n",
      " 651  6.58e+01  1.676e+05  1.931e+02  2.539e+01\r"
     ]
    },
    {
     "name": "stdout",
     "output_type": "stream",
     "text": [
      " 652  6.59e+01  1.676e+05  1.916e+02  2.545e+01\r",
      " 653  6.60e+01  1.675e+05  1.918e+02  2.544e+01\r"
     ]
    },
    {
     "name": "stdout",
     "output_type": "stream",
     "text": [
      " 654  6.61e+01  1.675e+05  1.934e+02  2.542e+01\r",
      " 655  6.62e+01  1.674e+05  1.963e+02  2.541e+01\r"
     ]
    },
    {
     "name": "stdout",
     "output_type": "stream",
     "text": [
      " 656  6.63e+01  1.673e+05  2.004e+02  2.539e+01\r",
      " 657  6.64e+01  1.673e+05  2.054e+02  2.534e+01\r"
     ]
    },
    {
     "name": "stdout",
     "output_type": "stream",
     "text": [
      " 658  6.66e+01  1.672e+05  2.113e+02  2.529e+01\r",
      " 659  6.68e+01  1.672e+05  2.177e+02  2.521e+01\r"
     ]
    },
    {
     "name": "stdout",
     "output_type": "stream",
     "text": [
      " 660  6.69e+01  1.671e+05  2.246e+02  2.515e+01\r",
      " 661  6.70e+01  1.670e+05  2.318e+02  2.505e+01\r"
     ]
    },
    {
     "name": "stdout",
     "output_type": "stream",
     "text": [
      " 662  6.72e+01  1.670e+05  2.392e+02  2.498e+01\r",
      " 663  6.73e+01  1.669e+05  2.466e+02  2.489e+01\r"
     ]
    },
    {
     "name": "stdout",
     "output_type": "stream",
     "text": [
      " 664  6.74e+01  1.669e+05  2.539e+02  2.477e+01\r",
      " 665  6.75e+01  1.668e+05  2.612e+02  2.467e+01\r"
     ]
    },
    {
     "name": "stdout",
     "output_type": "stream",
     "text": [
      " 666  6.77e+01  1.667e+05  2.682e+02  2.457e+01\r",
      " 667  6.78e+01  1.667e+05  2.749e+02  2.445e+01\r"
     ]
    },
    {
     "name": "stdout",
     "output_type": "stream",
     "text": [
      " 668  6.79e+01  1.666e+05  2.813e+02  2.431e+01\r",
      " 669  6.81e+01  1.666e+05  2.874e+02  2.415e+01\r"
     ]
    },
    {
     "name": "stdout",
     "output_type": "stream",
     "text": [
      " 670  6.82e+01  1.665e+05  2.929e+02  2.396e+01\r",
      " 671  6.84e+01  1.665e+05  2.980e+02  2.383e+01\r"
     ]
    },
    {
     "name": "stdout",
     "output_type": "stream",
     "text": [
      " 672  6.85e+01  1.665e+05  3.026e+02  2.363e+01\r",
      " 673  6.87e+01  1.664e+05  3.066e+02  2.341e+01\r"
     ]
    },
    {
     "name": "stdout",
     "output_type": "stream",
     "text": [
      " 674  6.88e+01  1.664e+05  3.100e+02  2.319e+01\r",
      " 675  6.89e+01  1.664e+05  3.128e+02  2.296e+01\r"
     ]
    },
    {
     "name": "stdout",
     "output_type": "stream",
     "text": [
      " 676  6.90e+01  1.663e+05  3.149e+02  2.272e+01\r",
      " 677  6.92e+01  1.663e+05  3.163e+02  2.250e+01\r"
     ]
    },
    {
     "name": "stdout",
     "output_type": "stream",
     "text": [
      " 678  6.93e+01  1.663e+05  3.170e+02  2.228e+01\r",
      " 679  6.94e+01  1.663e+05  3.170e+02  2.205e+01\r"
     ]
    },
    {
     "name": "stdout",
     "output_type": "stream",
     "text": [
      " 680  6.95e+01  1.663e+05  3.163e+02  2.180e+01\r",
      " 681  6.96e+01  1.663e+05  3.148e+02  2.156e+01\r"
     ]
    },
    {
     "name": "stdout",
     "output_type": "stream",
     "text": [
      " 682  6.98e+01  1.662e+05  3.127e+02  2.130e+01\r",
      " 683  6.99e+01  1.662e+05  3.098e+02  2.109e+01\r"
     ]
    },
    {
     "name": "stdout",
     "output_type": "stream",
     "text": [
      " 684  7.00e+01  1.662e+05  3.062e+02  2.086e+01\r",
      " 685  7.01e+01  1.662e+05  3.019e+02  2.064e+01\r"
     ]
    },
    {
     "name": "stdout",
     "output_type": "stream",
     "text": [
      " 686  7.03e+01  1.662e+05  2.970e+02  2.044e+01\r",
      " 687  7.04e+01  1.662e+05  2.914e+02  2.027e+01\r"
     ]
    },
    {
     "name": "stdout",
     "output_type": "stream",
     "text": [
      " 688  7.05e+01  1.662e+05  2.853e+02  2.012e+01\r",
      " 689  7.06e+01  1.663e+05  2.787e+02  1.996e+01\r"
     ]
    },
    {
     "name": "stdout",
     "output_type": "stream",
     "text": [
      " 690  7.08e+01  1.663e+05  2.716e+02  1.982e+01\r",
      " 691  7.09e+01  1.663e+05  2.641e+02  1.971e+01\r"
     ]
    },
    {
     "name": "stdout",
     "output_type": "stream",
     "text": [
      " 692  7.10e+01  1.663e+05  2.563e+02  1.960e+01\r",
      " 693  7.12e+01  1.663e+05  2.482e+02  1.950e+01\r"
     ]
    },
    {
     "name": "stdout",
     "output_type": "stream",
     "text": [
      " 694  7.13e+01  1.663e+05  2.399e+02  1.942e+01\r",
      " 695  7.14e+01  1.663e+05  2.315e+02  1.934e+01\r"
     ]
    },
    {
     "name": "stdout",
     "output_type": "stream",
     "text": [
      " 696  7.16e+01  1.663e+05  2.231e+02  1.927e+01\r",
      " 697  7.17e+01  1.663e+05  2.148e+02  1.921e+01\r"
     ]
    },
    {
     "name": "stdout",
     "output_type": "stream",
     "text": [
      " 698  7.18e+01  1.664e+05  2.067e+02  1.916e+01\r",
      " 699  7.20e+01  1.664e+05  1.989e+02  1.913e+01\r"
     ]
    },
    {
     "name": "stdout",
     "output_type": "stream",
     "text": [
      " 700  7.21e+01  1.664e+05  1.915e+02  1.911e+01\n",
      " 701  7.22e+01  1.664e+05  1.846e+02  1.911e+01\r"
     ]
    },
    {
     "name": "stdout",
     "output_type": "stream",
     "text": [
      " 702  7.24e+01  1.664e+05  1.783e+02  1.911e+01\r",
      " 703  7.25e+01  1.664e+05  1.727e+02  1.911e+01\r"
     ]
    },
    {
     "name": "stdout",
     "output_type": "stream",
     "text": [
      " 704  7.26e+01  1.664e+05  1.679e+02  1.909e+01\r",
      " 705  7.28e+01  1.664e+05  1.640e+02  1.907e+01\r"
     ]
    },
    {
     "name": "stdout",
     "output_type": "stream",
     "text": [
      " 706  7.29e+01  1.664e+05  1.610e+02  1.905e+01\r",
      " 707  7.31e+01  1.665e+05  1.591e+02  1.905e+01\r"
     ]
    },
    {
     "name": "stdout",
     "output_type": "stream",
     "text": [
      " 708  7.32e+01  1.665e+05  1.581e+02  1.905e+01\r",
      " 709  7.33e+01  1.665e+05  1.581e+02  1.908e+01\r"
     ]
    },
    {
     "name": "stdout",
     "output_type": "stream",
     "text": [
      " 710  7.35e+01  1.665e+05  1.590e+02  1.908e+01\r",
      " 711  7.36e+01  1.665e+05  1.607e+02  1.909e+01\r"
     ]
    },
    {
     "name": "stdout",
     "output_type": "stream",
     "text": [
      " 712  7.37e+01  1.665e+05  1.633e+02  1.912e+01\r",
      " 713  7.39e+01  1.665e+05  1.665e+02  1.911e+01\r"
     ]
    },
    {
     "name": "stdout",
     "output_type": "stream",
     "text": [
      " 714  7.40e+01  1.665e+05  1.703e+02  1.910e+01\r",
      " 715  7.41e+01  1.665e+05  1.746e+02  1.909e+01\r"
     ]
    },
    {
     "name": "stdout",
     "output_type": "stream",
     "text": [
      " 716  7.43e+01  1.665e+05  1.792e+02  1.907e+01\r",
      " 717  7.44e+01  1.665e+05  1.841e+02  1.906e+01\r"
     ]
    },
    {
     "name": "stdout",
     "output_type": "stream",
     "text": [
      " 718  7.45e+01  1.665e+05  1.892e+02  1.904e+01\r",
      " 719  7.47e+01  1.665e+05  1.945e+02  1.902e+01\r"
     ]
    },
    {
     "name": "stdout",
     "output_type": "stream",
     "text": [
      " 720  7.48e+01  1.665e+05  1.997e+02  1.896e+01\r",
      " 721  7.49e+01  1.665e+05  2.049e+02  1.892e+01\r"
     ]
    },
    {
     "name": "stdout",
     "output_type": "stream",
     "text": [
      " 722  7.50e+01  1.665e+05  2.100e+02  1.887e+01\r",
      " 723  7.51e+01  1.665e+05  2.149e+02  1.882e+01\r"
     ]
    },
    {
     "name": "stdout",
     "output_type": "stream",
     "text": [
      " 724  7.53e+01  1.665e+05  2.196e+02  1.879e+01\r",
      " 725  7.54e+01  1.665e+05  2.241e+02  1.874e+01\r"
     ]
    },
    {
     "name": "stdout",
     "output_type": "stream",
     "text": [
      " 726  7.55e+01  1.665e+05  2.282e+02  1.869e+01\r",
      " 727  7.57e+01  1.665e+05  2.319e+02  1.866e+01\r"
     ]
    },
    {
     "name": "stdout",
     "output_type": "stream",
     "text": [
      " 728  7.58e+01  1.665e+05  2.353e+02  1.861e+01\r",
      " 729  7.59e+01  1.665e+05  2.383e+02  1.855e+01\r"
     ]
    },
    {
     "name": "stdout",
     "output_type": "stream",
     "text": [
      " 730  7.61e+01  1.665e+05  2.408e+02  1.851e+01\r",
      " 731  7.62e+01  1.665e+05  2.428e+02  1.847e+01\r"
     ]
    },
    {
     "name": "stdout",
     "output_type": "stream",
     "text": [
      " 732  7.63e+01  1.665e+05  2.443e+02  1.843e+01\r",
      " 733  7.65e+01  1.665e+05  2.453e+02  1.838e+01\r"
     ]
    },
    {
     "name": "stdout",
     "output_type": "stream",
     "text": [
      " 734  7.66e+01  1.665e+05  2.458e+02  1.831e+01\r",
      " 735  7.67e+01  1.665e+05  2.457e+02  1.828e+01\r"
     ]
    },
    {
     "name": "stdout",
     "output_type": "stream",
     "text": [
      " 736  7.69e+01  1.665e+05  2.451e+02  1.823e+01\r",
      " 737  7.70e+01  1.665e+05  2.440e+02  1.821e+01\r"
     ]
    },
    {
     "name": "stdout",
     "output_type": "stream",
     "text": [
      " 738  7.71e+01  1.665e+05  2.423e+02  1.815e+01\r",
      " 739  7.73e+01  1.665e+05  2.402e+02  1.812e+01\r"
     ]
    },
    {
     "name": "stdout",
     "output_type": "stream",
     "text": [
      " 740  7.74e+01  1.665e+05  2.375e+02  1.807e+01\r",
      " 741  7.75e+01  1.665e+05  2.344e+02  1.803e+01\r"
     ]
    },
    {
     "name": "stdout",
     "output_type": "stream",
     "text": [
      " 742  7.77e+01  1.665e+05  2.308e+02  1.800e+01\r",
      " 743  7.78e+01  1.665e+05  2.268e+02  1.799e+01\r"
     ]
    },
    {
     "name": "stdout",
     "output_type": "stream",
     "text": [
      " 744  7.80e+01  1.665e+05  2.224e+02  1.800e+01\r",
      " 745  7.81e+01  1.665e+05  2.176e+02  1.796e+01\r"
     ]
    },
    {
     "name": "stdout",
     "output_type": "stream",
     "text": [
      " 746  7.82e+01  1.665e+05  2.125e+02  1.795e+01\r",
      " 747  7.83e+01  1.665e+05  2.071e+02  1.791e+01\r"
     ]
    },
    {
     "name": "stdout",
     "output_type": "stream",
     "text": [
      " 748  7.85e+01  1.665e+05  2.015e+02  1.786e+01\r",
      " 749  7.86e+01  1.665e+05  1.956e+02  1.784e+01\r"
     ]
    },
    {
     "name": "stdout",
     "output_type": "stream",
     "text": [
      " 750  7.87e+01  1.665e+05  1.896e+02  1.782e+01\n",
      " 751  7.88e+01  1.665e+05  1.835e+02  1.781e+01\r"
     ]
    },
    {
     "name": "stdout",
     "output_type": "stream",
     "text": [
      " 752  7.89e+01  1.665e+05  1.773e+02  1.781e+01\r",
      " 753  7.91e+01  1.665e+05  1.711e+02  1.779e+01\r"
     ]
    },
    {
     "name": "stdout",
     "output_type": "stream",
     "text": [
      " 754  7.92e+01  1.665e+05  1.650e+02  1.777e+01\r",
      " 755  7.93e+01  1.664e+05  1.591e+02  1.776e+01\r"
     ]
    },
    {
     "name": "stdout",
     "output_type": "stream",
     "text": [
      " 756  7.94e+01  1.664e+05  1.533e+02  1.774e+01\r",
      " 757  7.95e+01  1.664e+05  1.479e+02  1.773e+01\r"
     ]
    },
    {
     "name": "stdout",
     "output_type": "stream",
     "text": [
      " 758  7.97e+01  1.664e+05  1.427e+02  1.770e+01\r",
      " 759  7.98e+01  1.664e+05  1.380e+02  1.766e+01\r"
     ]
    },
    {
     "name": "stdout",
     "output_type": "stream",
     "text": [
      " 760  7.99e+01  1.664e+05  1.338e+02  1.760e+01\r",
      " 761  8.01e+01  1.663e+05  1.302e+02  1.756e+01\r"
     ]
    },
    {
     "name": "stdout",
     "output_type": "stream",
     "text": [
      " 762  8.02e+01  1.663e+05  1.272e+02  1.754e+01\r",
      " 763  8.04e+01  1.663e+05  1.249e+02  1.752e+01\r"
     ]
    },
    {
     "name": "stdout",
     "output_type": "stream",
     "text": [
      " 764  8.05e+01  1.663e+05  1.234e+02  1.748e+01\r",
      " 765  8.06e+01  1.663e+05  1.226e+02  1.744e+01\r"
     ]
    },
    {
     "name": "stdout",
     "output_type": "stream",
     "text": [
      " 766  8.07e+01  1.662e+05  1.225e+02  1.743e+01\r",
      " 767  8.09e+01  1.662e+05  1.232e+02  1.739e+01\r"
     ]
    },
    {
     "name": "stdout",
     "output_type": "stream",
     "text": [
      " 768  8.10e+01  1.662e+05  1.245e+02  1.735e+01\r",
      " 769  8.11e+01  1.661e+05  1.265e+02  1.731e+01\r"
     ]
    },
    {
     "name": "stdout",
     "output_type": "stream",
     "text": [
      " 770  8.13e+01  1.661e+05  1.291e+02  1.728e+01\r",
      " 771  8.14e+01  1.661e+05  1.321e+02  1.724e+01\r"
     ]
    },
    {
     "name": "stdout",
     "output_type": "stream",
     "text": [
      " 772  8.16e+01  1.661e+05  1.356e+02  1.721e+01\r",
      " 773  8.17e+01  1.660e+05  1.394e+02  1.717e+01\r"
     ]
    },
    {
     "name": "stdout",
     "output_type": "stream",
     "text": [
      " 774  8.18e+01  1.660e+05  1.434e+02  1.712e+01\r",
      " 775  8.20e+01  1.660e+05  1.476e+02  1.706e+01\r"
     ]
    },
    {
     "name": "stdout",
     "output_type": "stream",
     "text": [
      " 776  8.21e+01  1.659e+05  1.519e+02  1.701e+01\r",
      " 777  8.23e+01  1.659e+05  1.562e+02  1.696e+01\r"
     ]
    },
    {
     "name": "stdout",
     "output_type": "stream",
     "text": [
      " 778  8.24e+01  1.659e+05  1.604e+02  1.690e+01\r",
      " 779  8.25e+01  1.659e+05  1.646e+02  1.685e+01\r"
     ]
    },
    {
     "name": "stdout",
     "output_type": "stream",
     "text": [
      " 780  8.26e+01  1.658e+05  1.686e+02  1.677e+01\r",
      " 781  8.27e+01  1.658e+05  1.724e+02  1.668e+01\r"
     ]
    },
    {
     "name": "stdout",
     "output_type": "stream",
     "text": [
      " 782  8.29e+01  1.658e+05  1.760e+02  1.659e+01\r",
      " 783  8.30e+01  1.657e+05  1.793e+02  1.650e+01\r"
     ]
    },
    {
     "name": "stdout",
     "output_type": "stream",
     "text": [
      " 784  8.31e+01  1.657e+05  1.824e+02  1.637e+01\r",
      " 785  8.32e+01  1.657e+05  1.851e+02  1.626e+01\r"
     ]
    },
    {
     "name": "stdout",
     "output_type": "stream",
     "text": [
      " 786  8.33e+01  1.657e+05  1.874e+02  1.617e+01\r",
      " 787  8.35e+01  1.657e+05  1.894e+02  1.608e+01\r"
     ]
    },
    {
     "name": "stdout",
     "output_type": "stream",
     "text": [
      " 788  8.36e+01  1.656e+05  1.909e+02  1.599e+01\r",
      " 789  8.37e+01  1.656e+05  1.921e+02  1.590e+01\r"
     ]
    },
    {
     "name": "stdout",
     "output_type": "stream",
     "text": [
      " 790  8.38e+01  1.656e+05  1.928e+02  1.581e+01\r",
      " 791  8.39e+01  1.656e+05  1.932e+02  1.573e+01\r"
     ]
    },
    {
     "name": "stdout",
     "output_type": "stream",
     "text": [
      " 792  8.41e+01  1.656e+05  1.931e+02  1.565e+01\r",
      " 793  8.42e+01  1.656e+05  1.925e+02  1.556e+01\r"
     ]
    },
    {
     "name": "stdout",
     "output_type": "stream",
     "text": [
      " 794  8.43e+01  1.656e+05  1.916e+02  1.548e+01\r",
      " 795  8.45e+01  1.656e+05  1.902e+02  1.540e+01\r"
     ]
    },
    {
     "name": "stdout",
     "output_type": "stream",
     "text": [
      " 796  8.46e+01  1.655e+05  1.885e+02  1.533e+01\r",
      " 797  8.47e+01  1.655e+05  1.863e+02  1.526e+01\r"
     ]
    },
    {
     "name": "stdout",
     "output_type": "stream",
     "text": [
      " 798  8.49e+01  1.655e+05  1.838e+02  1.518e+01\r",
      " 799  8.50e+01  1.655e+05  1.809e+02  1.512e+01\r"
     ]
    },
    {
     "name": "stdout",
     "output_type": "stream",
     "text": [
      " 800  8.51e+01  1.655e+05  1.776e+02  1.507e+01\n",
      " 801  8.53e+01  1.655e+05  1.741e+02  1.499e+01\r"
     ]
    },
    {
     "name": "stdout",
     "output_type": "stream",
     "text": [
      " 802  8.54e+01  1.655e+05  1.702e+02  1.494e+01\r",
      " 803  8.55e+01  1.655e+05  1.661e+02  1.489e+01\r"
     ]
    },
    {
     "name": "stdout",
     "output_type": "stream",
     "text": [
      " 804  8.57e+01  1.655e+05  1.617e+02  1.482e+01\r",
      " 805  8.58e+01  1.655e+05  1.572e+02  1.474e+01\r"
     ]
    },
    {
     "name": "stdout",
     "output_type": "stream",
     "text": [
      " 806  8.60e+01  1.655e+05  1.524e+02  1.466e+01\r",
      " 807  8.61e+01  1.655e+05  1.476e+02  1.458e+01\r"
     ]
    },
    {
     "name": "stdout",
     "output_type": "stream",
     "text": [
      " 808  8.62e+01  1.655e+05  1.426e+02  1.451e+01\r",
      " 809  8.64e+01  1.656e+05  1.376e+02  1.445e+01\r"
     ]
    },
    {
     "name": "stdout",
     "output_type": "stream",
     "text": [
      " 810  8.65e+01  1.656e+05  1.326e+02  1.437e+01\r",
      " 811  8.66e+01  1.656e+05  1.277e+02  1.429e+01\r"
     ]
    },
    {
     "name": "stdout",
     "output_type": "stream",
     "text": [
      " 812  8.67e+01  1.656e+05  1.228e+02  1.422e+01\r",
      " 813  8.68e+01  1.656e+05  1.181e+02  1.415e+01\r"
     ]
    },
    {
     "name": "stdout",
     "output_type": "stream",
     "text": [
      " 814  8.70e+01  1.656e+05  1.137e+02  1.408e+01\r",
      " 815  8.71e+01  1.656e+05  1.095e+02  1.401e+01\r"
     ]
    },
    {
     "name": "stdout",
     "output_type": "stream",
     "text": [
      " 816  8.72e+01  1.656e+05  1.057e+02  1.394e+01\r",
      " 817  8.73e+01  1.656e+05  1.023e+02  1.387e+01\r"
     ]
    },
    {
     "name": "stdout",
     "output_type": "stream",
     "text": [
      " 818  8.75e+01  1.656e+05  9.949e+01  1.381e+01\r",
      " 819  8.76e+01  1.656e+05  9.721e+01  1.373e+01\r"
     ]
    },
    {
     "name": "stdout",
     "output_type": "stream",
     "text": [
      " 820  8.77e+01  1.656e+05  9.556e+01  1.366e+01\r",
      " 821  8.78e+01  1.656e+05  9.456e+01  1.359e+01\r"
     ]
    },
    {
     "name": "stdout",
     "output_type": "stream",
     "text": [
      " 822  8.80e+01  1.656e+05  9.423e+01  1.352e+01\r",
      " 823  8.81e+01  1.656e+05  9.457e+01  1.344e+01\r"
     ]
    },
    {
     "name": "stdout",
     "output_type": "stream",
     "text": [
      " 824  8.83e+01  1.656e+05  9.555e+01  1.337e+01\r",
      " 825  8.84e+01  1.656e+05  9.711e+01  1.330e+01\r"
     ]
    },
    {
     "name": "stdout",
     "output_type": "stream",
     "text": [
      " 826  8.85e+01  1.656e+05  9.920e+01  1.322e+01\r",
      " 827  8.87e+01  1.656e+05  1.017e+02  1.314e+01\r"
     ]
    },
    {
     "name": "stdout",
     "output_type": "stream",
     "text": [
      " 828  8.88e+01  1.657e+05  1.046e+02  1.307e+01\r",
      " 829  8.90e+01  1.657e+05  1.078e+02  1.301e+01\r"
     ]
    },
    {
     "name": "stdout",
     "output_type": "stream",
     "text": [
      " 830  8.91e+01  1.657e+05  1.113e+02  1.294e+01\r",
      " 831  8.92e+01  1.657e+05  1.148e+02  1.288e+01\r"
     ]
    },
    {
     "name": "stdout",
     "output_type": "stream",
     "text": [
      " 832  8.94e+01  1.657e+05  1.184e+02  1.282e+01\r",
      " 833  8.95e+01  1.657e+05  1.220e+02  1.276e+01\r"
     ]
    },
    {
     "name": "stdout",
     "output_type": "stream",
     "text": [
      " 834  8.96e+01  1.657e+05  1.256e+02  1.269e+01\r",
      " 835  8.98e+01  1.657e+05  1.291e+02  1.264e+01\r"
     ]
    },
    {
     "name": "stdout",
     "output_type": "stream",
     "text": [
      " 836  8.99e+01  1.657e+05  1.324e+02  1.259e+01\r",
      " 837  9.01e+01  1.657e+05  1.355e+02  1.253e+01\r"
     ]
    },
    {
     "name": "stdout",
     "output_type": "stream",
     "text": [
      " 838  9.02e+01  1.657e+05  1.385e+02  1.249e+01\r",
      " 839  9.04e+01  1.657e+05  1.411e+02  1.244e+01\r"
     ]
    },
    {
     "name": "stdout",
     "output_type": "stream",
     "text": [
      " 840  9.05e+01  1.657e+05  1.436e+02  1.239e+01\r",
      " 841  9.06e+01  1.657e+05  1.457e+02  1.234e+01\r"
     ]
    },
    {
     "name": "stdout",
     "output_type": "stream",
     "text": [
      " 842  9.07e+01  1.657e+05  1.475e+02  1.228e+01\r",
      " 843  9.08e+01  1.657e+05  1.491e+02  1.223e+01\r"
     ]
    },
    {
     "name": "stdout",
     "output_type": "stream",
     "text": [
      " 844  9.10e+01  1.657e+05  1.502e+02  1.219e+01\r",
      " 845  9.11e+01  1.658e+05  1.511e+02  1.213e+01\r"
     ]
    },
    {
     "name": "stdout",
     "output_type": "stream",
     "text": [
      " 846  9.12e+01  1.658e+05  1.516e+02  1.210e+01\r",
      " 847  9.13e+01  1.658e+05  1.518e+02  1.207e+01\r"
     ]
    },
    {
     "name": "stdout",
     "output_type": "stream",
     "text": [
      " 848  9.14e+01  1.658e+05  1.517e+02  1.205e+01\r",
      " 849  9.16e+01  1.658e+05  1.512e+02  1.204e+01\r"
     ]
    },
    {
     "name": "stdout",
     "output_type": "stream",
     "text": [
      " 850  9.17e+01  1.658e+05  1.504e+02  1.204e+01\n",
      " 851  9.18e+01  1.658e+05  1.493e+02  1.203e+01\r"
     ]
    },
    {
     "name": "stdout",
     "output_type": "stream",
     "text": [
      " 852  9.19e+01  1.658e+05  1.479e+02  1.203e+01\r",
      " 853  9.21e+01  1.658e+05  1.462e+02  1.203e+01\r"
     ]
    },
    {
     "name": "stdout",
     "output_type": "stream",
     "text": [
      " 854  9.22e+01  1.658e+05  1.441e+02  1.202e+01\r",
      " 855  9.23e+01  1.658e+05  1.419e+02  1.201e+01\r"
     ]
    },
    {
     "name": "stdout",
     "output_type": "stream",
     "text": [
      " 856  9.25e+01  1.658e+05  1.393e+02  1.202e+01\r",
      " 857  9.26e+01  1.659e+05  1.366e+02  1.203e+01\r"
     ]
    },
    {
     "name": "stdout",
     "output_type": "stream",
     "text": [
      " 858  9.27e+01  1.659e+05  1.336e+02  1.204e+01\r",
      " 859  9.29e+01  1.659e+05  1.304e+02  1.205e+01\r"
     ]
    },
    {
     "name": "stdout",
     "output_type": "stream",
     "text": [
      " 860  9.30e+01  1.659e+05  1.271e+02  1.204e+01\r",
      " 861  9.31e+01  1.659e+05  1.237e+02  1.204e+01\r"
     ]
    },
    {
     "name": "stdout",
     "output_type": "stream",
     "text": [
      " 862  9.33e+01  1.659e+05  1.201e+02  1.203e+01\r",
      " 863  9.34e+01  1.659e+05  1.165e+02  1.203e+01\r"
     ]
    },
    {
     "name": "stdout",
     "output_type": "stream",
     "text": [
      " 864  9.35e+01  1.659e+05  1.128e+02  1.202e+01\r",
      " 865  9.37e+01  1.659e+05  1.091e+02  1.201e+01\r"
     ]
    },
    {
     "name": "stdout",
     "output_type": "stream",
     "text": [
      " 866  9.38e+01  1.659e+05  1.055e+02  1.200e+01\r",
      " 867  9.40e+01  1.659e+05  1.020e+02  1.200e+01\r"
     ]
    },
    {
     "name": "stdout",
     "output_type": "stream",
     "text": [
      " 868  9.41e+01  1.659e+05  9.853e+01  1.199e+01\r",
      " 869  9.42e+01  1.659e+05  9.528e+01  1.198e+01\r"
     ]
    },
    {
     "name": "stdout",
     "output_type": "stream",
     "text": [
      " 870  9.44e+01  1.659e+05  9.225e+01  1.197e+01\r",
      " 871  9.45e+01  1.659e+05  8.948e+01  1.196e+01\r"
     ]
    },
    {
     "name": "stdout",
     "output_type": "stream",
     "text": [
      " 872  9.46e+01  1.659e+05  8.703e+01  1.195e+01\r",
      " 873  9.47e+01  1.659e+05  8.494e+01  1.194e+01\r"
     ]
    },
    {
     "name": "stdout",
     "output_type": "stream",
     "text": [
      " 874  9.49e+01  1.659e+05  8.324e+01  1.193e+01\r",
      " 875  9.50e+01  1.659e+05  8.196e+01  1.193e+01\r"
     ]
    },
    {
     "name": "stdout",
     "output_type": "stream",
     "text": [
      " 876  9.51e+01  1.658e+05  8.113e+01  1.193e+01\r",
      " 877  9.52e+01  1.658e+05  8.074e+01  1.193e+01\r"
     ]
    },
    {
     "name": "stdout",
     "output_type": "stream",
     "text": [
      " 878  9.54e+01  1.658e+05  8.079e+01  1.192e+01\r",
      " 879  9.55e+01  1.658e+05  8.128e+01  1.191e+01\r"
     ]
    },
    {
     "name": "stdout",
     "output_type": "stream",
     "text": [
      " 880  9.56e+01  1.658e+05  8.215e+01  1.190e+01\r",
      " 881  9.57e+01  1.658e+05  8.339e+01  1.189e+01\r"
     ]
    },
    {
     "name": "stdout",
     "output_type": "stream",
     "text": [
      " 882  9.59e+01  1.658e+05  8.493e+01  1.188e+01\r",
      " 883  9.60e+01  1.658e+05  8.673e+01  1.186e+01\r"
     ]
    },
    {
     "name": "stdout",
     "output_type": "stream",
     "text": [
      " 884  9.61e+01  1.658e+05  8.875e+01  1.184e+01\r",
      " 885  9.63e+01  1.658e+05  9.091e+01  1.183e+01\r"
     ]
    },
    {
     "name": "stdout",
     "output_type": "stream",
     "text": [
      " 886  9.65e+01  1.657e+05  9.319e+01  1.181e+01\r",
      " 887  9.66e+01  1.657e+05  9.552e+01  1.180e+01\r"
     ]
    },
    {
     "name": "stdout",
     "output_type": "stream",
     "text": [
      " 888  9.67e+01  1.657e+05  9.787e+01  1.178e+01\r",
      " 889  9.69e+01  1.657e+05  1.002e+02  1.177e+01\r"
     ]
    },
    {
     "name": "stdout",
     "output_type": "stream",
     "text": [
      " 890  9.70e+01  1.657e+05  1.025e+02  1.176e+01\r",
      " 891  9.71e+01  1.657e+05  1.046e+02  1.175e+01\r"
     ]
    },
    {
     "name": "stdout",
     "output_type": "stream",
     "text": [
      " 892  9.73e+01  1.657e+05  1.067e+02  1.174e+01\r",
      " 893  9.74e+01  1.656e+05  1.086e+02  1.172e+01\r"
     ]
    },
    {
     "name": "stdout",
     "output_type": "stream",
     "text": [
      " 894  9.76e+01  1.656e+05  1.103e+02  1.171e+01\r",
      " 895  9.77e+01  1.656e+05  1.119e+02  1.170e+01\r"
     ]
    },
    {
     "name": "stdout",
     "output_type": "stream",
     "text": [
      " 896  9.79e+01  1.656e+05  1.133e+02  1.167e+01\r",
      " 897  9.80e+01  1.656e+05  1.145e+02  1.166e+01\r"
     ]
    },
    {
     "name": "stdout",
     "output_type": "stream",
     "text": [
      " 898  9.81e+01  1.656e+05  1.154e+02  1.164e+01\r",
      " 899  9.83e+01  1.656e+05  1.162e+02  1.162e+01\r"
     ]
    },
    {
     "name": "stdout",
     "output_type": "stream",
     "text": [
      " 900  9.84e+01  1.655e+05  1.167e+02  1.160e+01\n",
      " 901  9.85e+01  1.655e+05  1.169e+02  1.159e+01\r"
     ]
    },
    {
     "name": "stdout",
     "output_type": "stream",
     "text": [
      " 902  9.87e+01  1.655e+05  1.170e+02  1.158e+01\r",
      " 903  9.88e+01  1.655e+05  1.168e+02  1.155e+01\r"
     ]
    },
    {
     "name": "stdout",
     "output_type": "stream",
     "text": [
      " 904  9.89e+01  1.655e+05  1.164e+02  1.152e+01\r",
      " 905  9.91e+01  1.655e+05  1.158e+02  1.149e+01\r"
     ]
    },
    {
     "name": "stdout",
     "output_type": "stream",
     "text": [
      " 906  9.92e+01  1.655e+05  1.149e+02  1.143e+01\r",
      " 907  9.93e+01  1.655e+05  1.139e+02  1.138e+01\r"
     ]
    },
    {
     "name": "stdout",
     "output_type": "stream",
     "text": [
      " 908  9.95e+01  1.655e+05  1.127e+02  1.134e+01\r",
      " 909  9.96e+01  1.655e+05  1.112e+02  1.129e+01\r"
     ]
    },
    {
     "name": "stdout",
     "output_type": "stream",
     "text": [
      " 910  9.97e+01  1.655e+05  1.096e+02  1.123e+01\r",
      " 911  9.99e+01  1.654e+05  1.079e+02  1.118e+01\r"
     ]
    },
    {
     "name": "stdout",
     "output_type": "stream",
     "text": [
      " 912  1.00e+02  1.654e+05  1.060e+02  1.113e+01\r",
      " 913  1.00e+02  1.654e+05  1.039e+02  1.108e+01\r"
     ]
    },
    {
     "name": "stdout",
     "output_type": "stream",
     "text": [
      " 914  1.00e+02  1.654e+05  1.018e+02  1.103e+01\r",
      " 915  1.00e+02  1.654e+05  9.954e+01  1.097e+01\r"
     ]
    },
    {
     "name": "stdout",
     "output_type": "stream",
     "text": [
      " 916  1.01e+02  1.654e+05  9.722e+01  1.091e+01\r",
      " 917  1.01e+02  1.654e+05  9.484e+01  1.086e+01\r"
     ]
    },
    {
     "name": "stdout",
     "output_type": "stream",
     "text": [
      " 918  1.01e+02  1.654e+05  9.243e+01  1.081e+01\r",
      " 919  1.01e+02  1.654e+05  9.002e+01  1.076e+01\r"
     ]
    },
    {
     "name": "stdout",
     "output_type": "stream",
     "text": [
      " 920  1.01e+02  1.654e+05  8.761e+01  1.071e+01\r",
      " 921  1.01e+02  1.654e+05  8.525e+01  1.066e+01\r"
     ]
    },
    {
     "name": "stdout",
     "output_type": "stream",
     "text": [
      " 922  1.01e+02  1.654e+05  8.296e+01  1.061e+01\r",
      " 923  1.02e+02  1.654e+05  8.077e+01  1.055e+01\r"
     ]
    },
    {
     "name": "stdout",
     "output_type": "stream",
     "text": [
      " 924  1.02e+02  1.654e+05  7.870e+01  1.049e+01\r",
      " 925  1.02e+02  1.654e+05  7.678e+01  1.044e+01\r"
     ]
    },
    {
     "name": "stdout",
     "output_type": "stream",
     "text": [
      " 926  1.02e+02  1.654e+05  7.504e+01  1.037e+01\r",
      " 927  1.02e+02  1.654e+05  7.351e+01  1.031e+01\r"
     ]
    },
    {
     "name": "stdout",
     "output_type": "stream",
     "text": [
      " 928  1.02e+02  1.654e+05  7.220e+01  1.025e+01\r",
      " 929  1.02e+02  1.654e+05  7.114e+01  1.019e+01\r"
     ]
    },
    {
     "name": "stdout",
     "output_type": "stream",
     "text": [
      " 930  1.03e+02  1.653e+05  7.034e+01  1.013e+01\r",
      " 931  1.03e+02  1.653e+05  6.980e+01  1.007e+01\r"
     ]
    },
    {
     "name": "stdout",
     "output_type": "stream",
     "text": [
      " 932  1.03e+02  1.653e+05  6.952e+01  1.000e+01\r",
      " 933  1.03e+02  1.653e+05  6.951e+01  9.935e+00\r"
     ]
    },
    {
     "name": "stdout",
     "output_type": "stream",
     "text": [
      " 934  1.03e+02  1.653e+05  6.974e+01  9.868e+00\r",
      " 935  1.03e+02  1.653e+05  7.021e+01  9.798e+00\r"
     ]
    },
    {
     "name": "stdout",
     "output_type": "stream",
     "text": [
      " 936  1.03e+02  1.653e+05  7.089e+01  9.733e+00\r",
      " 937  1.03e+02  1.653e+05  7.176e+01  9.664e+00\r"
     ]
    },
    {
     "name": "stdout",
     "output_type": "stream",
     "text": [
      " 938  1.04e+02  1.653e+05  7.278e+01  9.601e+00\r",
      " 939  1.04e+02  1.653e+05  7.394e+01  9.544e+00\r"
     ]
    },
    {
     "name": "stdout",
     "output_type": "stream",
     "text": [
      " 940  1.04e+02  1.653e+05  7.519e+01  9.491e+00\r",
      " 941  1.04e+02  1.653e+05  7.651e+01  9.440e+00\r",
      " 942  1.04e+02  1.653e+05  7.788e+01  9.390e+00\r"
     ]
    },
    {
     "name": "stdout",
     "output_type": "stream",
     "text": [
      " 943  1.04e+02  1.653e+05  7.927e+01  9.337e+00\r",
      " 944  1.04e+02  1.653e+05  8.065e+01  9.293e+00\r"
     ]
    },
    {
     "name": "stdout",
     "output_type": "stream",
     "text": [
      " 945  1.04e+02  1.653e+05  8.200e+01  9.253e+00\r",
      " 946  1.04e+02  1.653e+05  8.331e+01  9.215e+00\r"
     ]
    },
    {
     "name": "stdout",
     "output_type": "stream",
     "text": [
      " 947  1.05e+02  1.653e+05  8.455e+01  9.182e+00\r",
      " 948  1.05e+02  1.653e+05  8.571e+01  9.148e+00\r"
     ]
    },
    {
     "name": "stdout",
     "output_type": "stream",
     "text": [
      " 949  1.05e+02  1.654e+05  8.677e+01  9.107e+00\r",
      " 950  1.05e+02  1.654e+05  8.773e+01  9.069e+00\n"
     ]
    },
    {
     "name": "stdout",
     "output_type": "stream",
     "text": [
      " 951  1.05e+02  1.654e+05  8.858e+01  9.029e+00\r",
      " 952  1.05e+02  1.654e+05  8.930e+01  9.001e+00\r"
     ]
    },
    {
     "name": "stdout",
     "output_type": "stream",
     "text": [
      " 953  1.05e+02  1.654e+05  8.988e+01  8.967e+00\r",
      " 954  1.06e+02  1.654e+05  9.034e+01  8.941e+00\r"
     ]
    },
    {
     "name": "stdout",
     "output_type": "stream",
     "text": [
      " 955  1.06e+02  1.654e+05  9.065e+01  8.918e+00\r",
      " 956  1.06e+02  1.654e+05  9.081e+01  8.897e+00\r"
     ]
    },
    {
     "name": "stdout",
     "output_type": "stream",
     "text": [
      " 957  1.06e+02  1.654e+05  9.083e+01  8.878e+00\r",
      " 958  1.06e+02  1.654e+05  9.070e+01  8.861e+00\r"
     ]
    },
    {
     "name": "stdout",
     "output_type": "stream",
     "text": [
      " 959  1.06e+02  1.654e+05  9.043e+01  8.847e+00\r",
      " 960  1.06e+02  1.654e+05  9.001e+01  8.832e+00\r"
     ]
    },
    {
     "name": "stdout",
     "output_type": "stream",
     "text": [
      " 961  1.06e+02  1.654e+05  8.945e+01  8.818e+00\r",
      " 962  1.07e+02  1.654e+05  8.875e+01  8.800e+00\r"
     ]
    },
    {
     "name": "stdout",
     "output_type": "stream",
     "text": [
      " 963  1.07e+02  1.654e+05  8.792e+01  8.779e+00\r",
      " 964  1.07e+02  1.654e+05  8.697e+01  8.761e+00\r"
     ]
    },
    {
     "name": "stdout",
     "output_type": "stream",
     "text": [
      " 965  1.07e+02  1.654e+05  8.590e+01  8.742e+00\r",
      " 966  1.07e+02  1.654e+05  8.472e+01  8.723e+00\r"
     ]
    },
    {
     "name": "stdout",
     "output_type": "stream",
     "text": [
      " 967  1.07e+02  1.654e+05  8.344e+01  8.703e+00\r",
      " 968  1.07e+02  1.655e+05  8.207e+01  8.685e+00\r"
     ]
    },
    {
     "name": "stdout",
     "output_type": "stream",
     "text": [
      " 969  1.08e+02  1.655e+05  8.062e+01  8.667e+00\r",
      " 970  1.08e+02  1.655e+05  7.910e+01  8.648e+00\r"
     ]
    },
    {
     "name": "stdout",
     "output_type": "stream",
     "text": [
      " 971  1.08e+02  1.655e+05  7.752e+01  8.633e+00\r",
      " 972  1.08e+02  1.655e+05  7.590e+01  8.618e+00\r"
     ]
    },
    {
     "name": "stdout",
     "output_type": "stream",
     "text": [
      " 973  1.08e+02  1.655e+05  7.426e+01  8.603e+00\r",
      " 974  1.08e+02  1.655e+05  7.260e+01  8.581e+00\r"
     ]
    },
    {
     "name": "stdout",
     "output_type": "stream",
     "text": [
      " 975  1.08e+02  1.655e+05  7.096e+01  8.563e+00\r",
      " 976  1.08e+02  1.655e+05  6.933e+01  8.544e+00\r"
     ]
    },
    {
     "name": "stdout",
     "output_type": "stream",
     "text": [
      " 977  1.09e+02  1.655e+05  6.775e+01  8.521e+00\r",
      " 978  1.09e+02  1.655e+05  6.623e+01  8.502e+00\r"
     ]
    },
    {
     "name": "stdout",
     "output_type": "stream",
     "text": [
      " 979  1.09e+02  1.655e+05  6.480e+01  8.482e+00\r",
      " 980  1.09e+02  1.655e+05  6.346e+01  8.467e+00\r"
     ]
    },
    {
     "name": "stdout",
     "output_type": "stream",
     "text": [
      " 981  1.09e+02  1.655e+05  6.223e+01  8.448e+00\r",
      " 982  1.09e+02  1.655e+05  6.115e+01  8.428e+00\r"
     ]
    },
    {
     "name": "stdout",
     "output_type": "stream",
     "text": [
      " 983  1.09e+02  1.655e+05  6.021e+01  8.407e+00\r",
      " 984  1.10e+02  1.655e+05  5.943e+01  8.388e+00\r"
     ]
    },
    {
     "name": "stdout",
     "output_type": "stream",
     "text": [
      " 985  1.10e+02  1.655e+05  5.882e+01  8.368e+00\r",
      " 986  1.10e+02  1.655e+05  5.839e+01  8.350e+00\r"
     ]
    },
    {
     "name": "stdout",
     "output_type": "stream",
     "text": [
      " 987  1.10e+02  1.655e+05  5.813e+01  8.329e+00\r",
      " 988  1.10e+02  1.655e+05  5.806e+01  8.306e+00\r"
     ]
    },
    {
     "name": "stdout",
     "output_type": "stream",
     "text": [
      " 989  1.10e+02  1.655e+05  5.815e+01  8.289e+00\r",
      " 990  1.10e+02  1.655e+05  5.841e+01  8.280e+00\r"
     ]
    },
    {
     "name": "stdout",
     "output_type": "stream",
     "text": [
      " 991  1.10e+02  1.655e+05  5.881e+01  8.267e+00\r",
      " 992  1.11e+02  1.655e+05  5.935e+01  8.256e+00\r"
     ]
    },
    {
     "name": "stdout",
     "output_type": "stream",
     "text": [
      " 993  1.11e+02  1.655e+05  6.001e+01  8.243e+00\r",
      " 994  1.11e+02  1.655e+05  6.076e+01  8.235e+00\r"
     ]
    },
    {
     "name": "stdout",
     "output_type": "stream",
     "text": [
      " 995  1.11e+02  1.655e+05  6.160e+01  8.218e+00\r",
      " 996  1.11e+02  1.655e+05  6.250e+01  8.206e+00\r",
      " 997  1.11e+02  1.655e+05  6.345e+01  8.193e+00\r"
     ]
    },
    {
     "name": "stdout",
     "output_type": "stream",
     "text": [
      " 998  1.11e+02  1.655e+05  6.442e+01  8.180e+00\r",
      " 999  1.11e+02  1.655e+05  6.540e+01  8.168e+00\r\n"
     ]
    },
    {
     "name": "stdout",
     "output_type": "stream",
     "text": [
      "TV Restruction\n",
      "SNR: 22.04 (dB), MAE: 0.009\n"
     ]
    }
   ],
   "source": [
    "print(f\"Solving on {device_info()}\\n\")\n",
    "tangle_recon = solver.solve()\n",
    "hist = solver.itstat_object.history(transpose=True)\n",
    "\n",
    "print(\n",
    "    \"TV Restruction\\nSNR: %.2f (dB), MAE: %.3f\"\n",
    "    % (metric.snr(tangle, tangle_recon), metric.mae(tangle, tangle_recon))\n",
    ")"
   ]
  },
  {
   "cell_type": "markdown",
   "id": "71f618ef",
   "metadata": {},
   "source": [
    "Show the recovered image."
   ]
  },
  {
   "cell_type": "code",
   "execution_count": 5,
   "id": "d989ea13",
   "metadata": {
    "collapsed": false,
    "execution": {
     "iopub.execute_input": "2025-05-19T23:30:07.723647Z",
     "iopub.status.busy": "2025-05-19T23:30:07.723371Z",
     "iopub.status.idle": "2025-05-19T23:30:08.972992Z",
     "shell.execute_reply": "2025-05-19T23:30:08.972437Z"
    }
   },
   "outputs": [
    {
     "data": {
      "image/png": "[encoded data removed]",
      "text/plain": [
       "<Figure size 700x600 with 4 Axes>"
      ]
     },
     "metadata": {},
     "output_type": "display_data"
    }
   ],
   "source": [
    "fig, ax = plot.subplots(nrows=1, ncols=2, figsize=(7, 6))\n",
    "plot.imview(\n",
    "    tangle[32],\n",
    "    title=\"Ground truth (central slice)\",\n",
    "    cmap=plot.cm.Blues,\n",
    "    cbar=None,\n",
    "    fig=fig,\n",
    "    ax=ax[0],\n",
    ")\n",
    "plot.imview(\n",
    "    tangle_recon[32],\n",
    "    title=\"TV Reconstruction (central slice)\\nSNR: %.2f (dB), MAE: %.3f\"\n",
    "    % (metric.snr(tangle, tangle_recon), metric.mae(tangle, tangle_recon)),\n",
    "    cmap=plot.cm.Blues,\n",
    "    fig=fig,\n",
    "    ax=ax[1],\n",
    ")\n",
    "divider = make_axes_locatable(ax[1])\n",
    "cax = divider.append_axes(\"right\", size=\"5%\", pad=0.2)\n",
    "fig.colorbar(ax[1].get_images()[0], cax=cax, label=\"arbitrary units\")\n",
    "fig.show()"
   ]
  }
 ],
 "metadata": {
  "language_info": {
   "codemirror_mode": {
    "name": "ipython",
    "version": 3
   },
   "file_extension": ".py",
   "mimetype": "text/x-python",
   "name": "python",
   "nbconvert_exporter": "python",
   "pygments_lexer": "ipython3",
   "version": "3.12.2"
  }
 },
 "nbformat": 4,
 "nbformat_minor": 5
}
