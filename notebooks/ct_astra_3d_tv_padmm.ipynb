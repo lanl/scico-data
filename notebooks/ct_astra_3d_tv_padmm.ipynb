{
 "cells": [
  {
   "cell_type": "markdown",
   "id": "4f21e097",
   "metadata": {},
   "source": [
    "3D TV-Regularized Sparse-View CT Reconstruction (Proximal ADMM Solver)\n",
    "======================================================================\n",
    "\n",
    "This example demonstrates solution of a sparse-view, 3D CT\n",
    "reconstruction problem with isotropic total variation (TV)\n",
    "regularization\n",
    "\n",
    "  $$\\mathrm{argmin}_{\\mathbf{x}} \\; (1/2) \\| \\mathbf{y} - C \\mathbf{x}\n",
    "  \\|_2^2 + \\lambda \\| D \\mathbf{x} \\|_{2,1} \\;,$$\n",
    "\n",
    "where $C$ is the X-ray transform (the CT forward projection operator),\n",
    "$\\mathbf{y}$ is the sinogram, $D$ is a 3D finite difference operator,\n",
    "and $\\mathbf{x}$ is the desired image.\n",
    "\n",
    "In this example the problem is solved via proximal ADMM, while standard\n",
    "ADMM is used in a [companion example](ct_astra_3d_tv_admm.rst)."
   ]
  },
  {
   "cell_type": "code",
   "execution_count": 1,
   "id": "81de8d0b",
   "metadata": {
    "collapsed": false,
    "execution": {
     "iopub.execute_input": "2024-10-23T17:00:32.709073Z",
     "iopub.status.busy": "2024-10-23T17:00:32.708607Z",
     "iopub.status.idle": "2024-10-23T17:00:36.891714Z",
     "shell.execute_reply": "2024-10-23T17:00:36.891150Z"
    }
   },
   "outputs": [],
   "source": [
    "import numpy as np\n",
    "\n",
    "from mpl_toolkits.axes_grid1 import make_axes_locatable\n",
    "\n",
    "import scico.numpy as snp\n",
    "from scico import functional, linop, loss, metric, plot\n",
    "from scico.examples import create_tangle_phantom\n",
    "from scico.linop.xray.astra import XRayTransform3D, angle_to_vector\n",
    "from scico.optimize import ProximalADMM\n",
    "from scico.util import device_info\n",
    "plot.config_notebook_plotting()"
   ]
  },
  {
   "cell_type": "markdown",
   "id": "f3521e34",
   "metadata": {},
   "source": [
    "Create a ground truth image and projector."
   ]
  },
  {
   "cell_type": "code",
   "execution_count": 2,
   "id": "a06fae68",
   "metadata": {
    "collapsed": false,
    "execution": {
     "iopub.execute_input": "2024-10-23T17:00:36.897514Z",
     "iopub.status.busy": "2024-10-23T17:00:36.897174Z",
     "iopub.status.idle": "2024-10-23T17:00:37.137215Z",
     "shell.execute_reply": "2024-10-23T17:00:37.136091Z"
    }
   },
   "outputs": [],
   "source": [
    "Nx = 128\n",
    "Ny = 256\n",
    "Nz = 64\n",
    "\n",
    "tangle = snp.array(create_tangle_phantom(Nx, Ny, Nz))\n",
    "\n",
    "n_projection = 10  # number of projections\n",
    "angles = np.linspace(0, np.pi, n_projection, endpoint=False)  # evenly spaced projection angles\n",
    "det_spacing = [1.0, 1.0]\n",
    "det_count = [Nz, max(Nx, Ny)]\n",
    "vectors = angle_to_vector(det_spacing, angles)\n",
    "\n",
    "# It would have been more straightforward to use the det_spacing and angles keywords\n",
    "# in this case (since vectors is just computed directly from these two quantities), but\n",
    "# the more general form is used here as a demonstration.\n",
    "C = XRayTransform3D(tangle.shape, det_count=det_count, vectors=vectors)  # CT projection operator\n",
    "y = C @ tangle  # sinogram"
   ]
  },
  {
   "cell_type": "markdown",
   "id": "658c60dd",
   "metadata": {},
   "source": [
    "Set up problem and solver. We want to minimize the functional\n",
    "\n",
    "  $$\\mathrm{argmin}_{\\mathbf{x}} \\; (1/2) \\| \\mathbf{y} - C \\mathbf{x}\n",
    "  \\|_2^2 + \\lambda \\| D \\mathbf{x} \\|_{2,1} \\;,$$\n",
    "\n",
    "where $C$ is the X-ray transform and $D$ is a finite difference\n",
    "operator. This problem can be expressed as\n",
    "\n",
    "  $$\\mathrm{argmin}_{\\mathbf{x}, \\mathbf{z}} \\; (1/2) \\| \\mathbf{y} -\n",
    "  \\mathbf{z}_0 \\|_2^2 + \\lambda \\| \\mathbf{z}_1 \\|_{2,1} \\;\\;\n",
    "  \\text{such that} \\;\\; \\mathbf{z}_0 = C \\mathbf{x} \\;\\; \\text{and} \\;\\;\n",
    "  \\mathbf{z}_1 = D \\mathbf{x} \\;,$$\n",
    "\n",
    "which can be written in the form of a standard ADMM problem\n",
    "\n",
    "  $$\\mathrm{argmin}_{\\mathbf{x}, \\mathbf{z}} \\; f(\\mathbf{x}) + g(\\mathbf{z})\n",
    "  \\;\\; \\text{such that} \\;\\; A \\mathbf{x} + B \\mathbf{z} = \\mathbf{c}$$\n",
    "\n",
    "with\n",
    "\n",
    "  $$f = 0 \\qquad g = g_0 + g_1$$\n",
    "  $$g_0(\\mathbf{z}_0) = (1/2) \\| \\mathbf{y} - \\mathbf{z}_0 \\|_2^2 \\qquad\n",
    "  g_1(\\mathbf{z}_1) = \\lambda \\| \\mathbf{z}_1 \\|_{2,1}$$\n",
    "  $$A = \\left( \\begin{array}{c} C \\\\ D \\end{array} \\right) \\qquad\n",
    "  B = \\left( \\begin{array}{cc} -I & 0 \\\\ 0 & -I \\end{array} \\right) \\qquad\n",
    "  \\mathbf{c} = \\left( \\begin{array}{c} 0 \\\\ 0 \\end{array} \\right) \\;.$$\n",
    "\n",
    "This is a more complex splitting than that used in the\n",
    "[companion example](ct_astra_3d_tv_admm.rst), but it allows the use of a\n",
    "proximal ADMM solver in a way that avoids the need for the conjugate\n",
    "gradient sub-iterations used by the ADMM solver in the\n",
    "[companion example](ct_astra_3d_tv_admm.rst)."
   ]
  },
  {
   "cell_type": "code",
   "execution_count": 3,
   "id": "e0e7b288",
   "metadata": {
    "collapsed": false,
    "execution": {
     "iopub.execute_input": "2024-10-23T17:00:37.143095Z",
     "iopub.status.busy": "2024-10-23T17:00:37.142878Z",
     "iopub.status.idle": "2024-10-23T17:00:42.037914Z",
     "shell.execute_reply": "2024-10-23T17:00:42.037049Z"
    }
   },
   "outputs": [],
   "source": [
    "𝛼 = 1e2  # improve problem conditioning by balancing C and D components of A\n",
    "λ = 2e0 / 𝛼  # ℓ2,1 norm regularization parameter\n",
    "ρ = 5e-3  # ADMM penalty parameter\n",
    "maxiter = 1000  # number of ADMM iterations\n",
    "\n",
    "f = functional.ZeroFunctional()\n",
    "g0 = loss.SquaredL2Loss(y=y)\n",
    "g1 = λ * functional.L21Norm()\n",
    "g = functional.SeparableFunctional((g0, g1))\n",
    "D = linop.FiniteDifference(input_shape=tangle.shape, append=0)\n",
    "\n",
    "A = linop.VerticalStack((C, 𝛼 * D))\n",
    "mu, nu = ProximalADMM.estimate_parameters(A)\n",
    "\n",
    "solver = ProximalADMM(\n",
    "    f=f,\n",
    "    g=g,\n",
    "    A=A,\n",
    "    B=None,\n",
    "    rho=ρ,\n",
    "    mu=mu,\n",
    "    nu=nu,\n",
    "    maxiter=maxiter,\n",
    "    itstat_options={\"display\": True, \"period\": 50},\n",
    ")"
   ]
  },
  {
   "cell_type": "markdown",
   "id": "09c3dd16",
   "metadata": {},
   "source": [
    "Run the solver."
   ]
  },
  {
   "cell_type": "code",
   "execution_count": 4,
   "id": "da6129df",
   "metadata": {
    "collapsed": false,
    "execution": {
     "iopub.execute_input": "2024-10-23T17:00:42.043904Z",
     "iopub.status.busy": "2024-10-23T17:00:42.043389Z",
     "iopub.status.idle": "2024-10-23T17:01:39.927040Z",
     "shell.execute_reply": "2024-10-23T17:01:39.925592Z"
    }
   },
   "outputs": [
    {
     "name": "stdout",
     "output_type": "stream",
     "text": [
      "Solving on GPU (NVIDIA GeForce RTX 2080 Ti)\n",
      "\n"
     ]
    },
    {
     "name": "stdout",
     "output_type": "stream",
     "text": [
      "Iter  Time      Objective  Prml Rsdl  Dual Rsdl\n",
      "-----------------------------------------------\n",
      "   0  9.53e-01  1.361e+04  3.267e+04  3.267e+04\n",
      "   1  1.37e+00  5.171e+04  3.165e+04  1.566e+02\r",
      "   2  1.43e+00  1.117e+05  3.023e+04  1.511e+02\r",
      "   3  1.49e+00  1.899e+05  2.845e+04  2.687e+02\r"
     ]
    },
    {
     "name": "stdout",
     "output_type": "stream",
     "text": [
      "   4  1.55e+00  2.864e+05  2.634e+04  9.516e+02\r",
      "   5  1.62e+00  3.921e+05  2.394e+04  9.381e+02\r",
      "   6  1.68e+00  4.990e+05  2.131e+04  8.216e+02\r",
      "   7  1.74e+00  6.032e+05  1.850e+04  8.523e+02\r"
     ]
    },
    {
     "name": "stdout",
     "output_type": "stream",
     "text": [
      "   8  1.79e+00  7.015e+05  1.559e+04  9.516e+02\r",
      "   9  1.85e+00  7.886e+05  1.267e+04  9.841e+02\r",
      "  10  1.91e+00  8.597e+05  9.920e+03  9.807e+02\r",
      "  11  1.96e+00  9.117e+05  7.662e+03  9.647e+02\r"
     ]
    },
    {
     "name": "stdout",
     "output_type": "stream",
     "text": [
      "  12  2.02e+00  9.441e+05  6.489e+03  9.621e+02\r",
      "  13  2.07e+00  9.566e+05  6.932e+03  9.500e+02\r",
      "  14  2.12e+00  9.504e+05  8.647e+03  9.309e+02\r",
      "  15  2.17e+00  9.275e+05  1.093e+04  9.055e+02\r"
     ]
    },
    {
     "name": "stdout",
     "output_type": "stream",
     "text": [
      "  16  2.22e+00  8.908e+05  1.335e+04  8.739e+02\r",
      "  17  2.27e+00  8.439e+05  1.571e+04  8.371e+02\r",
      "  18  2.32e+00  7.905e+05  1.790e+04  7.962e+02\r",
      "  19  2.37e+00  7.348e+05  1.986e+04  7.527e+02\r",
      "  20  2.42e+00  6.806e+05  2.154e+04  7.083e+02\r"
     ]
    },
    {
     "name": "stdout",
     "output_type": "stream",
     "text": [
      "  21  2.47e+00  6.315e+05  2.291e+04  6.654e+02\r",
      "  22  2.52e+00  5.905e+05  2.395e+04  6.268e+02\r",
      "  23  2.57e+00  5.599e+05  2.465e+04  5.952e+02\r",
      "  24  2.63e+00  5.415e+05  2.501e+04  5.736e+02\r"
     ]
    },
    {
     "name": "stdout",
     "output_type": "stream",
     "text": [
      "  25  2.68e+00  5.361e+05  2.501e+04  5.643e+02\r",
      "  26  2.73e+00  5.434e+05  2.467e+04  5.663e+02\r",
      "  27  2.78e+00  5.628e+05  2.400e+04  5.789e+02\r",
      "  28  2.83e+00  5.926e+05  2.301e+04  6.000e+02\r"
     ]
    },
    {
     "name": "stdout",
     "output_type": "stream",
     "text": [
      "  29  2.88e+00  6.307e+05  2.173e+04  6.340e+02\r",
      "  30  2.95e+00  6.745e+05  2.017e+04  6.681e+02\r",
      "  31  3.01e+00  7.211e+05  1.838e+04  7.044e+02\r",
      "  32  3.08e+00  7.674e+05  1.638e+04  7.358e+02\r"
     ]
    },
    {
     "name": "stdout",
     "output_type": "stream",
     "text": [
      "  33  3.14e+00  8.106e+05  1.422e+04  7.748e+02\r",
      "  34  3.20e+00  8.480e+05  1.194e+04  8.092e+02\r",
      "  35  3.27e+00  8.773e+05  9.624e+03  8.299e+02\r",
      "  36  3.33e+00  8.968e+05  7.365e+03  8.497e+02\r"
     ]
    },
    {
     "name": "stdout",
     "output_type": "stream",
     "text": [
      "  37  3.39e+00  9.053e+05  5.389e+03  8.631e+02\r",
      "  38  3.45e+00  9.023e+05  4.210e+03  8.640e+02\r",
      "  39  3.50e+00  8.880e+05  4.491e+03  8.728e+02\r",
      "  40  3.56e+00  8.630e+05  5.964e+03  8.575e+02\r"
     ]
    },
    {
     "name": "stdout",
     "output_type": "stream",
     "text": [
      "  41  3.62e+00  8.285e+05  7.899e+03  8.382e+02\r",
      "  42  3.68e+00  7.862e+05  9.927e+03  8.210e+02\r",
      "  43  3.74e+00  7.379e+05  1.190e+04  7.758e+02\r",
      "  44  3.79e+00  6.860e+05  1.373e+04  7.247e+02\r"
     ]
    },
    {
     "name": "stdout",
     "output_type": "stream",
     "text": [
      "  45  3.85e+00  6.328e+05  1.538e+04  6.739e+02\r",
      "  46  3.91e+00  5.809e+05  1.682e+04  6.221e+02\r",
      "  47  3.97e+00  5.325e+05  1.803e+04  5.694e+02\r",
      "  48  4.02e+00  4.898e+05  1.898e+04  5.189e+02\r"
     ]
    },
    {
     "name": "stdout",
     "output_type": "stream",
     "text": [
      "  49  4.07e+00  4.545e+05  1.967e+04  4.735e+02\r",
      "  50  4.13e+00  4.277e+05  2.009e+04  4.360e+02\n",
      "  51  4.19e+00  4.101e+05  2.024e+04  4.070e+02\r",
      "  52  4.26e+00  4.021e+05  2.013e+04  3.865e+02\r"
     ]
    },
    {
     "name": "stdout",
     "output_type": "stream",
     "text": [
      "  53  4.32e+00  4.032e+05  1.976e+04  3.788e+02\r",
      "  54  4.37e+00  4.128e+05  1.915e+04  3.829e+02\r",
      "  55  4.44e+00  4.297e+05  1.830e+04  3.973e+02\r",
      "  56  4.50e+00  4.522e+05  1.725e+04  4.191e+02\r"
     ]
    },
    {
     "name": "stdout",
     "output_type": "stream",
     "text": [
      "  57  4.56e+00  4.788e+05  1.602e+04  4.457e+02\r",
      "  58  4.62e+00  5.075e+05  1.464e+04  4.747e+02\r",
      "  59  4.68e+00  5.363e+05  1.314e+04  5.022e+02\r",
      "  60  4.74e+00  5.635e+05  1.157e+04  5.281e+02\r"
     ]
    },
    {
     "name": "stdout",
     "output_type": "stream",
     "text": [
      "  61  4.79e+00  5.875e+05  9.987e+03  5.499e+02\r",
      "  62  4.84e+00  6.068e+05  8.482e+03  5.681e+02\r",
      "  63  4.90e+00  6.204e+05  7.176e+03  5.815e+02\r",
      "  64  4.95e+00  6.278e+05  6.250e+03  5.897e+02\r"
     ]
    },
    {
     "name": "stdout",
     "output_type": "stream",
     "text": [
      "  65  5.00e+00  6.287e+05  5.899e+03  5.920e+02\r",
      "  66  5.06e+00  6.231e+05  6.200e+03  5.896e+02\r",
      "  67  5.12e+00  6.117e+05  7.019e+03  5.808e+02\r",
      "  68  5.18e+00  5.953e+05  8.135e+03  5.661e+02\r"
     ]
    },
    {
     "name": "stdout",
     "output_type": "stream",
     "text": [
      "  69  5.23e+00  5.749e+05  9.371e+03  5.485e+02\r",
      "  70  5.29e+00  5.519e+05  1.061e+04  5.271e+02\r",
      "  71  5.34e+00  5.277e+05  1.178e+04  5.031e+02\r",
      "  72  5.40e+00  5.036e+05  1.283e+04  4.752e+02\r"
     ]
    },
    {
     "name": "stdout",
     "output_type": "stream",
     "text": [
      "  73  5.46e+00  4.811e+05  1.373e+04  4.470e+02\r",
      "  74  5.51e+00  4.612e+05  1.446e+04  4.192e+02\r",
      "  75  5.57e+00  4.452e+05  1.500e+04  3.930e+02\r",
      "  76  5.62e+00  4.335e+05  1.534e+04  3.689e+02\r"
     ]
    },
    {
     "name": "stdout",
     "output_type": "stream",
     "text": [
      "  77  5.68e+00  4.269e+05  1.549e+04  3.515e+02\r",
      "  78  5.73e+00  4.253e+05  1.543e+04  3.409e+02\r",
      "  79  5.78e+00  4.287e+05  1.517e+04  3.394e+02\r",
      "  80  5.84e+00  4.366e+05  1.472e+04  3.436e+02\r"
     ]
    },
    {
     "name": "stdout",
     "output_type": "stream",
     "text": [
      "  81  5.90e+00  4.484e+05  1.408e+04  3.558e+02\r",
      "  82  5.95e+00  4.631e+05  1.328e+04  3.735e+02\r",
      "  83  6.00e+00  4.798e+05  1.232e+04  3.941e+02\r",
      "  84  6.06e+00  4.974e+05  1.123e+04  4.164e+02\r"
     ]
    },
    {
     "name": "stdout",
     "output_type": "stream",
     "text": [
      "  85  6.11e+00  5.147e+05  1.003e+04  4.388e+02\r",
      "  86  6.16e+00  5.306e+05  8.745e+03  4.616e+02\r",
      "  87  6.22e+00  5.442e+05  7.414e+03  4.818e+02\r",
      "  88  6.27e+00  5.545e+05  6.086e+03  4.991e+02\r"
     ]
    },
    {
     "name": "stdout",
     "output_type": "stream",
     "text": [
      "  89  6.33e+00  5.609e+05  4.843e+03  5.127e+02\r",
      "  90  6.38e+00  5.630e+05  3.834e+03  5.221e+02\r",
      "  91  6.44e+00  5.605e+05  3.313e+03  5.279e+02\r",
      "  92  6.49e+00  5.536e+05  3.495e+03  5.293e+02\r"
     ]
    },
    {
     "name": "stdout",
     "output_type": "stream",
     "text": [
      "  93  6.54e+00  5.424e+05  4.250e+03  5.276e+02\r",
      "  94  6.61e+00  5.275e+05  5.287e+03  5.218e+02\r",
      "  95  6.68e+00  5.095e+05  6.411e+03  5.117e+02\r"
     ]
    },
    {
     "name": "stdout",
     "output_type": "stream",
     "text": [
      "  96  6.75e+00  4.891e+05  7.522e+03  4.974e+02\r",
      "  97  6.82e+00  4.672e+05  8.566e+03  4.802e+02\r",
      "  98  6.88e+00  4.447e+05  9.511e+03  4.610e+02\r",
      "  99  6.94e+00  4.225e+05  1.033e+04  4.411e+02\r"
     ]
    },
    {
     "name": "stdout",
     "output_type": "stream",
     "text": [
      " 100  7.00e+00  4.015e+05  1.102e+04  4.201e+02\n",
      " 101  7.06e+00  3.824e+05  1.156e+04  3.993e+02\r",
      " 102  7.11e+00  3.659e+05  1.195e+04  3.804e+02\r",
      " 103  7.16e+00  3.523e+05  1.218e+04  3.640e+02\r"
     ]
    },
    {
     "name": "stdout",
     "output_type": "stream",
     "text": [
      " 104  7.22e+00  3.420e+05  1.225e+04  3.512e+02\r",
      " 105  7.27e+00  3.350e+05  1.217e+04  3.433e+02\r",
      " 106  7.32e+00  3.313e+05  1.193e+04  3.401e+02\r",
      " 107  7.38e+00  3.306e+05  1.156e+04  3.413e+02\r"
     ]
    },
    {
     "name": "stdout",
     "output_type": "stream",
     "text": [
      " 108  7.43e+00  3.325e+05  1.106e+04  3.454e+02\r",
      " 109  7.48e+00  3.365e+05  1.044e+04  3.515e+02\r",
      " 110  7.53e+00  3.419e+05  9.729e+03  3.593e+02\r",
      " 111  7.59e+00  3.482e+05  8.937e+03  3.689e+02\r"
     ]
    },
    {
     "name": "stdout",
     "output_type": "stream",
     "text": [
      " 112  7.64e+00  3.546e+05  8.093e+03  3.794e+02\r",
      " 113  7.69e+00  3.607e+05  7.229e+03  3.900e+02\r",
      " 114  7.74e+00  3.658e+05  6.388e+03  3.997e+02\r",
      " 115  7.81e+00  3.695e+05  5.626e+03  4.076e+02\r"
     ]
    },
    {
     "name": "stdout",
     "output_type": "stream",
     "text": [
      " 116  7.87e+00  3.715e+05  5.014e+03  4.122e+02\r",
      " 117  7.93e+00  3.716e+05  4.635e+03  4.128e+02\r",
      " 118  7.99e+00  3.696e+05  4.550e+03  4.113e+02\r",
      " 119  8.05e+00  3.657e+05  4.761e+03  4.055e+02\r"
     ]
    },
    {
     "name": "stdout",
     "output_type": "stream",
     "text": [
      " 120  8.12e+00  3.602e+05  5.205e+03  3.974e+02\r",
      " 121  8.18e+00  3.531e+05  5.794e+03  3.863e+02\r",
      " 122  8.23e+00  3.450e+05  6.449e+03  3.764e+02\r",
      " 123  8.29e+00  3.362e+05  7.111e+03  3.603e+02\r"
     ]
    },
    {
     "name": "stdout",
     "output_type": "stream",
     "text": [
      " 124  8.34e+00  3.271e+05  7.740e+03  3.411e+02\r",
      " 125  8.40e+00  3.183e+05  8.306e+03  3.229e+02\r",
      " 126  8.46e+00  3.101e+05  8.789e+03  3.052e+02\r",
      " 127  8.52e+00  3.030e+05  9.175e+03  2.844e+02\r"
     ]
    },
    {
     "name": "stdout",
     "output_type": "stream",
     "text": [
      " 128  8.58e+00  2.972e+05  9.454e+03  2.673e+02\r",
      " 129  8.65e+00  2.930e+05  9.620e+03  2.533e+02\r",
      " 130  8.71e+00  2.906e+05  9.669e+03  2.430e+02\r",
      " 131  8.77e+00  2.900e+05  9.602e+03  2.364e+02\r"
     ]
    },
    {
     "name": "stdout",
     "output_type": "stream",
     "text": [
      " 132  8.83e+00  2.911e+05  9.419e+03  2.337e+02\r",
      " 133  8.89e+00  2.937e+05  9.126e+03  2.356e+02\r",
      " 134  8.94e+00  2.976e+05  8.728e+03  2.414e+02\r",
      " 135  9.01e+00  3.025e+05  8.235e+03  2.500e+02\r"
     ]
    },
    {
     "name": "stdout",
     "output_type": "stream",
     "text": [
      " 136  9.07e+00  3.080e+05  7.657e+03  2.603e+02\r",
      " 137  9.13e+00  3.136e+05  7.007e+03  2.712e+02\r",
      " 138  9.19e+00  3.191e+05  6.301e+03  2.828e+02\r",
      " 139  9.25e+00  3.240e+05  5.559e+03  2.950e+02\r"
     ]
    },
    {
     "name": "stdout",
     "output_type": "stream",
     "text": [
      " 140  9.32e+00  3.279e+05  4.807e+03  3.068e+02\r",
      " 141  9.37e+00  3.306e+05  4.081e+03  3.156e+02\r",
      " 142  9.42e+00  3.319e+05  3.436e+03  3.243e+02\r",
      " 143  9.48e+00  3.317e+05  2.954e+03  3.324e+02\r"
     ]
    },
    {
     "name": "stdout",
     "output_type": "stream",
     "text": [
      " 144  9.54e+00  3.298e+05  2.732e+03  3.382e+02\r",
      " 145  9.59e+00  3.264e+05  2.827e+03  3.390e+02\r",
      " 146  9.65e+00  3.216e+05  3.188e+03  3.375e+02\r",
      " 147  9.71e+00  3.155e+05  3.710e+03  3.355e+02\r"
     ]
    },
    {
     "name": "stdout",
     "output_type": "stream",
     "text": [
      " 148  9.76e+00  3.085e+05  4.302e+03  3.301e+02\r",
      " 149  9.82e+00  3.009e+05  4.905e+03  3.238e+02\r",
      " 150  9.87e+00  2.929e+05  5.481e+03  3.168e+02\n",
      " 151  9.94e+00  2.849e+05  6.008e+03  3.047e+02\r"
     ]
    },
    {
     "name": "stdout",
     "output_type": "stream",
     "text": [
      " 152  1.01e+01  2.772e+05  6.470e+03  2.928e+02\r",
      " 153  1.01e+01  2.701e+05  6.856e+03  2.817e+02\r",
      " 154  1.02e+01  2.639e+05  7.158e+03  2.725e+02\r",
      " 155  1.02e+01  2.588e+05  7.373e+03  2.644e+02\r"
     ]
    },
    {
     "name": "stdout",
     "output_type": "stream",
     "text": [
      " 156  1.03e+01  2.548e+05  7.498e+03  2.534e+02\r",
      " 157  1.04e+01  2.520e+05  7.534e+03  2.414e+02\r",
      " 158  1.04e+01  2.504e+05  7.483e+03  2.326e+02\r",
      " 159  1.05e+01  2.501e+05  7.348e+03  2.274e+02\r"
     ]
    },
    {
     "name": "stdout",
     "output_type": "stream",
     "text": [
      " 160  1.05e+01  2.508e+05  7.134e+03  2.254e+02\r",
      " 161  1.06e+01  2.524e+05  6.851e+03  2.259e+02\r",
      " 162  1.07e+01  2.548e+05  6.506e+03  2.288e+02\r",
      " 163  1.07e+01  2.577e+05  6.112e+03  2.318e+02\r"
     ]
    },
    {
     "name": "stdout",
     "output_type": "stream",
     "text": [
      " 164  1.08e+01  2.608e+05  5.684e+03  2.362e+02\r",
      " 165  1.08e+01  2.641e+05  5.238e+03  2.412e+02\r",
      " 166  1.09e+01  2.672e+05  4.796e+03  2.465e+02\r",
      " 167  1.10e+01  2.699e+05  4.384e+03  2.514e+02\r"
     ]
    },
    {
     "name": "stdout",
     "output_type": "stream",
     "text": [
      " 168  1.10e+01  2.722e+05  4.031e+03  2.559e+02\r",
      " 169  1.11e+01  2.739e+05  3.771e+03  2.592e+02\r",
      " 170  1.11e+01  2.750e+05  3.631e+03  2.610e+02\r",
      " 171  1.12e+01  2.753e+05  3.624e+03  2.607e+02\r"
     ]
    },
    {
     "name": "stdout",
     "output_type": "stream",
     "text": [
      " 172  1.12e+01  2.750e+05  3.744e+03  2.592e+02\r",
      " 173  1.13e+01  2.740e+05  3.965e+03  2.572e+02\r",
      " 174  1.14e+01  2.726e+05  4.254e+03  2.537e+02\r",
      " 175  1.14e+01  2.707e+05  4.578e+03  2.478e+02\r"
     ]
    },
    {
     "name": "stdout",
     "output_type": "stream",
     "text": [
      " 176  1.15e+01  2.687e+05  4.908e+03  2.416e+02\r",
      " 177  1.15e+01  2.665e+05  5.223e+03  2.350e+02\r",
      " 178  1.16e+01  2.645e+05  5.506e+03  2.267e+02\r",
      " 179  1.16e+01  2.627e+05  5.745e+03  2.181e+02\r"
     ]
    },
    {
     "name": "stdout",
     "output_type": "stream",
     "text": [
      " 180  1.17e+01  2.612e+05  5.931e+03  2.091e+02\r",
      " 181  1.17e+01  2.602e+05  6.057e+03  2.010e+02\r",
      " 182  1.18e+01  2.598e+05  6.120e+03  1.938e+02\r",
      " 183  1.18e+01  2.599e+05  6.116e+03  1.881e+02\r"
     ]
    },
    {
     "name": "stdout",
     "output_type": "stream",
     "text": [
      " 184  1.19e+01  2.606e+05  6.047e+03  1.847e+02\r",
      " 185  1.19e+01  2.619e+05  5.912e+03  1.826e+02\r",
      " 186  1.20e+01  2.637e+05  5.714e+03  1.824e+02\r",
      " 187  1.21e+01  2.658e+05  5.458e+03  1.844e+02\r"
     ]
    },
    {
     "name": "stdout",
     "output_type": "stream",
     "text": [
      " 188  1.21e+01  2.682e+05  5.149e+03  1.876e+02\r",
      " 189  1.22e+01  2.708e+05  4.794e+03  1.920e+02\r",
      " 190  1.22e+01  2.733e+05  4.400e+03  1.972e+02\r",
      " 191  1.23e+01  2.757e+05  3.980e+03  2.033e+02\r"
     ]
    },
    {
     "name": "stdout",
     "output_type": "stream",
     "text": [
      " 192  1.23e+01  2.778e+05  3.545e+03  2.100e+02\r",
      " 193  1.24e+01  2.795e+05  3.113e+03  2.166e+02\r",
      " 194  1.24e+01  2.807e+05  2.708e+03  2.213e+02\r",
      " 195  1.25e+01  2.813e+05  2.361e+03  2.266e+02\r"
     ]
    },
    {
     "name": "stdout",
     "output_type": "stream",
     "text": [
      " 196  1.25e+01  2.814e+05  2.113e+03  2.315e+02\r",
      " 197  1.26e+01  2.808e+05  2.006e+03  2.357e+02\r",
      " 198  1.26e+01  2.795e+05  2.057e+03  2.389e+02\r",
      " 199  1.27e+01  2.778e+05  2.243e+03  2.398e+02\r"
     ]
    },
    {
     "name": "stdout",
     "output_type": "stream",
     "text": [
      " 200  1.28e+01  2.754e+05  2.519e+03  2.388e+02\n",
      " 201  1.28e+01  2.727e+05  2.841e+03  2.358e+02\r",
      " 202  1.29e+01  2.696e+05  3.175e+03  2.331e+02\r"
     ]
    },
    {
     "name": "stdout",
     "output_type": "stream",
     "text": [
      " 203  1.30e+01  2.663e+05  3.499e+03  2.307e+02\r",
      " 204  1.30e+01  2.628e+05  3.799e+03  2.265e+02\r",
      " 205  1.31e+01  2.594e+05  4.063e+03  2.210e+02\r",
      " 206  1.32e+01  2.560e+05  4.287e+03  2.123e+02\r"
     ]
    },
    {
     "name": "stdout",
     "output_type": "stream",
     "text": [
      " 207  1.32e+01  2.528e+05  4.464e+03  2.046e+02\r",
      " 208  1.33e+01  2.498e+05  4.592e+03  1.979e+02\r",
      " 209  1.33e+01  2.472e+05  4.671e+03  1.917e+02\r",
      " 210  1.34e+01  2.448e+05  4.699e+03  1.873e+02\r"
     ]
    },
    {
     "name": "stdout",
     "output_type": "stream",
     "text": [
      " 211  1.34e+01  2.429e+05  4.678e+03  1.854e+02\r",
      " 212  1.35e+01  2.413e+05  4.612e+03  1.814e+02\r",
      " 213  1.35e+01  2.400e+05  4.503e+03  1.784e+02\r",
      " 214  1.36e+01  2.391e+05  4.358e+03  1.770e+02\r"
     ]
    },
    {
     "name": "stdout",
     "output_type": "stream",
     "text": [
      " 215  1.36e+01  2.383e+05  4.183e+03  1.752e+02\r",
      " 216  1.37e+01  2.377e+05  3.985e+03  1.727e+02\r",
      " 217  1.38e+01  2.371e+05  3.775e+03  1.722e+02\r",
      " 218  1.38e+01  2.366e+05  3.562e+03  1.721e+02\r"
     ]
    },
    {
     "name": "stdout",
     "output_type": "stream",
     "text": [
      " 219  1.39e+01  2.361e+05  3.359e+03  1.722e+02\r",
      " 220  1.39e+01  2.356e+05  3.179e+03  1.733e+02\r",
      " 221  1.40e+01  2.349e+05  3.036e+03  1.740e+02\r",
      " 222  1.40e+01  2.341e+05  2.940e+03  1.747e+02\r"
     ]
    },
    {
     "name": "stdout",
     "output_type": "stream",
     "text": [
      " 223  1.41e+01  2.332e+05  2.900e+03  1.751e+02\r",
      " 224  1.41e+01  2.322e+05  2.916e+03  1.761e+02\r",
      " 225  1.42e+01  2.311e+05  2.983e+03  1.790e+02\r",
      " 226  1.42e+01  2.299e+05  3.091e+03  1.824e+02\r"
     ]
    },
    {
     "name": "stdout",
     "output_type": "stream",
     "text": [
      " 227  1.43e+01  2.287e+05  3.228e+03  1.827e+02\r",
      " 228  1.43e+01  2.275e+05  3.379e+03  1.800e+02\r",
      " 229  1.44e+01  2.263e+05  3.533e+03  1.770e+02\r",
      " 230  1.45e+01  2.252e+05  3.680e+03  1.729e+02\r"
     ]
    },
    {
     "name": "stdout",
     "output_type": "stream",
     "text": [
      " 231  1.45e+01  2.242e+05  3.810e+03  1.690e+02\r",
      " 232  1.46e+01  2.233e+05  3.917e+03  1.621e+02\r",
      " 233  1.46e+01  2.225e+05  3.996e+03  1.545e+02\r",
      " 234  1.47e+01  2.220e+05  4.042e+03  1.490e+02\r"
     ]
    },
    {
     "name": "stdout",
     "output_type": "stream",
     "text": [
      " 235  1.47e+01  2.216e+05  4.054e+03  1.448e+02\r",
      " 236  1.48e+01  2.215e+05  4.029e+03  1.413e+02\r",
      " 237  1.48e+01  2.217e+05  3.969e+03  1.387e+02\r",
      " 238  1.49e+01  2.220e+05  3.872e+03  1.373e+02\r"
     ]
    },
    {
     "name": "stdout",
     "output_type": "stream",
     "text": [
      " 239  1.50e+01  2.224e+05  3.741e+03  1.368e+02\r",
      " 240  1.50e+01  2.230e+05  3.579e+03  1.377e+02\r",
      " 241  1.51e+01  2.237e+05  3.389e+03  1.391e+02\r",
      " 242  1.51e+01  2.244e+05  3.174e+03  1.412e+02\r"
     ]
    },
    {
     "name": "stdout",
     "output_type": "stream",
     "text": [
      " 243  1.52e+01  2.250e+05  2.941e+03  1.438e+02\r",
      " 244  1.52e+01  2.256e+05  2.697e+03  1.468e+02\r",
      " 245  1.53e+01  2.260e+05  2.449e+03  1.498e+02\r",
      " 246  1.54e+01  2.263e+05  2.208e+03  1.528e+02\r"
     ]
    },
    {
     "name": "stdout",
     "output_type": "stream",
     "text": [
      " 247  1.54e+01  2.263e+05  1.986e+03  1.558e+02\r",
      " 248  1.55e+01  2.261e+05  1.799e+03  1.583e+02\r",
      " 249  1.55e+01  2.257e+05  1.665e+03  1.604e+02\r",
      " 250  1.56e+01  2.250e+05  1.597e+03  1.622e+02\n"
     ]
    },
    {
     "name": "stdout",
     "output_type": "stream",
     "text": [
      " 251  1.56e+01  2.241e+05  1.602e+03  1.634e+02\r",
      " 252  1.57e+01  2.229e+05  1.673e+03  1.640e+02\r",
      " 253  1.57e+01  2.216e+05  1.793e+03  1.643e+02\r",
      " 254  1.58e+01  2.201e+05  1.945e+03  1.643e+02\r"
     ]
    },
    {
     "name": "stdout",
     "output_type": "stream",
     "text": [
      " 255  1.58e+01  2.185e+05  2.110e+03  1.639e+02\r",
      " 256  1.59e+01  2.169e+05  2.277e+03  1.631e+02\r",
      " 257  1.59e+01  2.152e+05  2.434e+03  1.618e+02\r",
      " 258  1.60e+01  2.136e+05  2.575e+03  1.592e+02\r"
     ]
    },
    {
     "name": "stdout",
     "output_type": "stream",
     "text": [
      " 259  1.61e+01  2.120e+05  2.696e+03  1.556e+02\r",
      " 260  1.61e+01  2.106e+05  2.793e+03  1.527e+02\r",
      " 261  1.62e+01  2.093e+05  2.864e+03  1.500e+02\r",
      " 262  1.62e+01  2.082e+05  2.908e+03  1.470e+02\r"
     ]
    },
    {
     "name": "stdout",
     "output_type": "stream",
     "text": [
      " 263  1.63e+01  2.072e+05  2.925e+03  1.440e+02\r",
      " 264  1.63e+01  2.064e+05  2.916e+03  1.413e+02\r",
      " 265  1.64e+01  2.057e+05  2.883e+03  1.399e+02\r",
      " 266  1.64e+01  2.053e+05  2.829e+03  1.394e+02\r"
     ]
    },
    {
     "name": "stdout",
     "output_type": "stream",
     "text": [
      " 267  1.65e+01  2.049e+05  2.756e+03  1.395e+02\r",
      " 268  1.65e+01  2.047e+05  2.669e+03  1.383e+02\r",
      " 269  1.66e+01  2.046e+05  2.574e+03  1.358e+02\r",
      " 270  1.66e+01  2.045e+05  2.475e+03  1.342e+02\r"
     ]
    },
    {
     "name": "stdout",
     "output_type": "stream",
     "text": [
      " 271  1.67e+01  2.044e+05  2.378e+03  1.341e+02\r",
      " 272  1.68e+01  2.043e+05  2.291e+03  1.340e+02\r",
      " 273  1.68e+01  2.043e+05  2.219e+03  1.334e+02\r",
      " 274  1.69e+01  2.041e+05  2.169e+03  1.324e+02\r"
     ]
    },
    {
     "name": "stdout",
     "output_type": "stream",
     "text": [
      " 275  1.69e+01  2.040e+05  2.143e+03  1.313e+02\r",
      " 276  1.70e+01  2.038e+05  2.145e+03  1.301e+02\r",
      " 277  1.71e+01  2.035e+05  2.172e+03  1.280e+02\r",
      " 278  1.71e+01  2.032e+05  2.222e+03  1.260e+02\r"
     ]
    },
    {
     "name": "stdout",
     "output_type": "stream",
     "text": [
      " 279  1.72e+01  2.029e+05  2.289e+03  1.238e+02\r",
      " 280  1.72e+01  2.025e+05  2.368e+03  1.216e+02\r",
      " 281  1.73e+01  2.021e+05  2.452e+03  1.196e+02\r",
      " 282  1.73e+01  2.018e+05  2.536e+03  1.179e+02\r"
     ]
    },
    {
     "name": "stdout",
     "output_type": "stream",
     "text": [
      " 283  1.74e+01  2.014e+05  2.615e+03  1.158e+02\r",
      " 284  1.74e+01  2.012e+05  2.683e+03  1.129e+02\r",
      " 285  1.75e+01  2.010e+05  2.739e+03  1.105e+02\r",
      " 286  1.76e+01  2.009e+05  2.778e+03  1.085e+02\r"
     ]
    },
    {
     "name": "stdout",
     "output_type": "stream",
     "text": [
      " 287  1.76e+01  2.008e+05  2.798e+03  1.065e+02\r",
      " 288  1.77e+01  2.009e+05  2.800e+03  1.054e+02\r",
      " 289  1.77e+01  2.010e+05  2.781e+03  1.045e+02\r",
      " 290  1.78e+01  2.013e+05  2.743e+03  1.037e+02\r"
     ]
    },
    {
     "name": "stdout",
     "output_type": "stream",
     "text": [
      " 291  1.78e+01  2.016e+05  2.685e+03  1.032e+02\r",
      " 292  1.79e+01  2.020e+05  2.608e+03  1.034e+02\r",
      " 293  1.79e+01  2.024e+05  2.515e+03  1.031e+02\r",
      " 294  1.80e+01  2.029e+05  2.408e+03  1.033e+02\r"
     ]
    },
    {
     "name": "stdout",
     "output_type": "stream",
     "text": [
      " 295  1.80e+01  2.034e+05  2.289e+03  1.040e+02\r",
      " 296  1.81e+01  2.038e+05  2.161e+03  1.053e+02\r",
      " 297  1.81e+01  2.043e+05  2.030e+03  1.071e+02\r",
      " 298  1.82e+01  2.047e+05  1.898e+03  1.087e+02\r"
     ]
    },
    {
     "name": "stdout",
     "output_type": "stream",
     "text": [
      " 299  1.82e+01  2.050e+05  1.771e+03  1.106e+02\r",
      " 300  1.83e+01  2.052e+05  1.655e+03  1.126e+02\n",
      " 301  1.84e+01  2.054e+05  1.556e+03  1.142e+02\r",
      " 302  1.84e+01  2.054e+05  1.478e+03  1.157e+02\r"
     ]
    },
    {
     "name": "stdout",
     "output_type": "stream",
     "text": [
      " 303  1.85e+01  2.054e+05  1.427e+03  1.171e+02\r",
      " 304  1.85e+01  2.052e+05  1.402e+03  1.182e+02\r",
      " 305  1.86e+01  2.050e+05  1.405e+03  1.191e+02\r",
      " 306  1.86e+01  2.046e+05  1.431e+03  1.199e+02\r"
     ]
    },
    {
     "name": "stdout",
     "output_type": "stream",
     "text": [
      " 307  1.87e+01  2.042e+05  1.474e+03  1.207e+02\r",
      " 308  1.87e+01  2.037e+05  1.528e+03  1.212e+02\r",
      " 309  1.88e+01  2.032e+05  1.588e+03  1.212e+02\r",
      " 310  1.88e+01  2.026e+05  1.647e+03  1.210e+02\r"
     ]
    },
    {
     "name": "stdout",
     "output_type": "stream",
     "text": [
      " 311  1.89e+01  2.020e+05  1.701e+03  1.210e+02\r",
      " 312  1.89e+01  2.014e+05  1.748e+03  1.213e+02\r",
      " 313  1.90e+01  2.008e+05  1.785e+03  1.213e+02\r",
      " 314  1.91e+01  2.003e+05  1.810e+03  1.206e+02\r"
     ]
    },
    {
     "name": "stdout",
     "output_type": "stream",
     "text": [
      " 315  1.91e+01  1.997e+05  1.822e+03  1.194e+02\r",
      " 316  1.92e+01  1.991e+05  1.822e+03  1.183e+02\r",
      " 317  1.92e+01  1.986e+05  1.810e+03  1.171e+02\r",
      " 318  1.93e+01  1.981e+05  1.787e+03  1.160e+02\r"
     ]
    },
    {
     "name": "stdout",
     "output_type": "stream",
     "text": [
      " 319  1.93e+01  1.977e+05  1.755e+03  1.149e+02\r",
      " 320  1.94e+01  1.972e+05  1.715e+03  1.141e+02\r",
      " 321  1.94e+01  1.968e+05  1.670e+03  1.137e+02\r",
      " 322  1.95e+01  1.964e+05  1.624e+03  1.136e+02\r"
     ]
    },
    {
     "name": "stdout",
     "output_type": "stream",
     "text": [
      " 323  1.95e+01  1.960e+05  1.579e+03  1.139e+02\r",
      " 324  1.96e+01  1.956e+05  1.540e+03  1.133e+02\r",
      " 325  1.97e+01  1.952e+05  1.509e+03  1.131e+02\r",
      " 326  1.97e+01  1.948e+05  1.489e+03  1.130e+02\r"
     ]
    },
    {
     "name": "stdout",
     "output_type": "stream",
     "text": [
      " 327  1.98e+01  1.944e+05  1.483e+03  1.134e+02\r",
      " 328  1.98e+01  1.940e+05  1.492e+03  1.130e+02\r",
      " 329  1.99e+01  1.936e+05  1.514e+03  1.133e+02\r",
      " 330  1.99e+01  1.932e+05  1.550e+03  1.132e+02\r"
     ]
    },
    {
     "name": "stdout",
     "output_type": "stream",
     "text": [
      " 331  2.00e+01  1.927e+05  1.595e+03  1.126e+02\r",
      " 332  2.00e+01  1.923e+05  1.649e+03  1.122e+02\r",
      " 333  2.01e+01  1.919e+05  1.706e+03  1.118e+02\r",
      " 334  2.01e+01  1.916e+05  1.764e+03  1.109e+02\r"
     ]
    },
    {
     "name": "stdout",
     "output_type": "stream",
     "text": [
      " 335  2.02e+01  1.912e+05  1.821e+03  1.078e+02\r",
      " 336  2.03e+01  1.908e+05  1.874e+03  1.039e+02\r",
      " 337  2.03e+01  1.905e+05  1.920e+03  1.000e+02\r",
      " 338  2.04e+01  1.901e+05  1.958e+03  9.663e+01\r"
     ]
    },
    {
     "name": "stdout",
     "output_type": "stream",
     "text": [
      " 339  2.04e+01  1.898e+05  1.986e+03  9.360e+01\r",
      " 340  2.05e+01  1.896e+05  2.005e+03  9.070e+01\r",
      " 341  2.05e+01  1.894e+05  2.011e+03  8.819e+01\r",
      " 342  2.06e+01  1.892e+05  2.007e+03  8.604e+01\r"
     ]
    },
    {
     "name": "stdout",
     "output_type": "stream",
     "text": [
      " 343  2.06e+01  1.891e+05  1.991e+03  8.411e+01\r",
      " 344  2.07e+01  1.890e+05  1.965e+03  8.261e+01\r",
      " 345  2.07e+01  1.890e+05  1.928e+03  8.122e+01\r",
      " 346  2.08e+01  1.890e+05  1.883e+03  7.990e+01\r"
     ]
    },
    {
     "name": "stdout",
     "output_type": "stream",
     "text": [
      " 347  2.08e+01  1.890e+05  1.829e+03  7.899e+01\r",
      " 348  2.09e+01  1.891e+05  1.769e+03  7.865e+01\r",
      " 349  2.10e+01  1.891e+05  1.705e+03  7.896e+01\r",
      " 350  2.10e+01  1.892e+05  1.638e+03  7.941e+01\n"
     ]
    },
    {
     "name": "stdout",
     "output_type": "stream",
     "text": [
      " 351  2.11e+01  1.892e+05  1.570e+03  7.930e+01\r",
      " 352  2.11e+01  1.892e+05  1.503e+03  7.920e+01\r",
      " 353  2.12e+01  1.893e+05  1.440e+03  7.934e+01\r",
      " 354  2.12e+01  1.893e+05  1.382e+03  7.944e+01\r"
     ]
    },
    {
     "name": "stdout",
     "output_type": "stream",
     "text": [
      " 355  2.13e+01  1.892e+05  1.332e+03  7.988e+01\r",
      " 356  2.13e+01  1.892e+05  1.289e+03  8.057e+01\r",
      " 357  2.14e+01  1.891e+05  1.255e+03  8.105e+01\r",
      " 358  2.14e+01  1.890e+05  1.230e+03  8.136e+01\r"
     ]
    },
    {
     "name": "stdout",
     "output_type": "stream",
     "text": [
      " 359  2.15e+01  1.889e+05  1.213e+03  8.222e+01\r",
      " 360  2.16e+01  1.887e+05  1.202e+03  8.348e+01\r",
      " 361  2.16e+01  1.886e+05  1.196e+03  8.468e+01\r",
      " 362  2.17e+01  1.885e+05  1.193e+03  8.585e+01\r"
     ]
    },
    {
     "name": "stdout",
     "output_type": "stream",
     "text": [
      " 363  2.17e+01  1.883e+05  1.190e+03  8.699e+01\r",
      " 364  2.18e+01  1.882e+05  1.187e+03  8.773e+01\r",
      " 365  2.18e+01  1.880e+05  1.182e+03  8.853e+01\r",
      " 366  2.19e+01  1.878e+05  1.173e+03  8.946e+01\r"
     ]
    },
    {
     "name": "stdout",
     "output_type": "stream",
     "text": [
      " 367  2.19e+01  1.877e+05  1.159e+03  9.043e+01\r",
      " 368  2.20e+01  1.876e+05  1.141e+03  9.067e+01\r",
      " 369  2.20e+01  1.874e+05  1.118e+03  8.959e+01\r",
      " 370  2.21e+01  1.873e+05  1.090e+03  8.863e+01\r"
     ]
    },
    {
     "name": "stdout",
     "output_type": "stream",
     "text": [
      " 371  2.21e+01  1.872e+05  1.058e+03  8.817e+01\r",
      " 372  2.22e+01  1.870e+05  1.023e+03  8.819e+01\r",
      " 373  2.23e+01  1.868e+05  9.870e+02  8.838e+01\r",
      " 374  2.23e+01  1.867e+05  9.512e+02  8.896e+01\r"
     ]
    },
    {
     "name": "stdout",
     "output_type": "stream",
     "text": [
      " 375  2.24e+01  1.865e+05  9.179e+02  8.961e+01\r",
      " 376  2.24e+01  1.863e+05  8.896e+02  8.980e+01\r",
      " 377  2.25e+01  1.862e+05  8.690e+02  8.884e+01\r",
      " 378  2.25e+01  1.859e+05  8.583e+02  8.771e+01\r"
     ]
    },
    {
     "name": "stdout",
     "output_type": "stream",
     "text": [
      " 379  2.26e+01  1.857e+05  8.591e+02  8.690e+01\r",
      " 380  2.26e+01  1.855e+05  8.719e+02  8.631e+01\r",
      " 381  2.27e+01  1.852e+05  8.963e+02  8.598e+01\r",
      " 382  2.27e+01  1.849e+05  9.309e+02  8.576e+01\r"
     ]
    },
    {
     "name": "stdout",
     "output_type": "stream",
     "text": [
      " 383  2.28e+01  1.846e+05  9.737e+02  8.544e+01\r",
      " 384  2.29e+01  1.844e+05  1.022e+03  8.545e+01\r",
      " 385  2.29e+01  1.841e+05  1.075e+03  8.579e+01\r",
      " 386  2.30e+01  1.838e+05  1.128e+03  8.660e+01\r"
     ]
    },
    {
     "name": "stdout",
     "output_type": "stream",
     "text": [
      " 387  2.30e+01  1.836e+05  1.180e+03  8.757e+01\r",
      " 388  2.31e+01  1.833e+05  1.230e+03  8.827e+01\r",
      " 389  2.31e+01  1.831e+05  1.277e+03  8.835e+01\r",
      " 390  2.32e+01  1.830e+05  1.318e+03  9.000e+01\r"
     ]
    },
    {
     "name": "stdout",
     "output_type": "stream",
     "text": [
      " 391  2.32e+01  1.828e+05  1.353e+03  8.626e+01\r",
      " 392  2.33e+01  1.826e+05  1.383e+03  8.427e+01\r",
      " 393  2.34e+01  1.825e+05  1.406e+03  8.371e+01\r",
      " 394  2.34e+01  1.823e+05  1.422e+03  8.115e+01\r"
     ]
    },
    {
     "name": "stdout",
     "output_type": "stream",
     "text": [
      " 395  2.35e+01  1.822e+05  1.431e+03  7.749e+01\r",
      " 396  2.35e+01  1.820e+05  1.434e+03  7.395e+01\r",
      " 397  2.36e+01  1.819e+05  1.430e+03  7.178e+01\r",
      " 398  2.36e+01  1.817e+05  1.421e+03  6.983e+01\r"
     ]
    },
    {
     "name": "stdout",
     "output_type": "stream",
     "text": [
      " 399  2.37e+01  1.816e+05  1.406e+03  6.809e+01\r",
      " 400  2.38e+01  1.815e+05  1.387e+03  6.628e+01\n",
      " 401  2.38e+01  1.814e+05  1.364e+03  6.413e+01\r",
      " 402  2.39e+01  1.813e+05  1.338e+03  6.251e+01\r"
     ]
    },
    {
     "name": "stdout",
     "output_type": "stream",
     "text": [
      " 403  2.40e+01  1.812e+05  1.310e+03  6.165e+01\r",
      " 404  2.40e+01  1.811e+05  1.280e+03  6.102e+01\r",
      " 405  2.41e+01  1.810e+05  1.250e+03  6.072e+01\r",
      " 406  2.41e+01  1.810e+05  1.220e+03  6.058e+01\r"
     ]
    },
    {
     "name": "stdout",
     "output_type": "stream",
     "text": [
      " 407  2.42e+01  1.809e+05  1.190e+03  6.033e+01\r",
      " 408  2.42e+01  1.808e+05  1.163e+03  6.033e+01\r",
      " 409  2.43e+01  1.807e+05  1.137e+03  6.030e+01\r",
      " 410  2.43e+01  1.806e+05  1.112e+03  6.007e+01\r"
     ]
    },
    {
     "name": "stdout",
     "output_type": "stream",
     "text": [
      " 411  2.44e+01  1.805e+05  1.090e+03  6.009e+01\r",
      " 412  2.44e+01  1.805e+05  1.069e+03  6.021e+01\r",
      " 413  2.45e+01  1.804e+05  1.049e+03  6.053e+01\r",
      " 414  2.45e+01  1.803e+05  1.030e+03  6.066e+01\r"
     ]
    },
    {
     "name": "stdout",
     "output_type": "stream",
     "text": [
      " 415  2.46e+01  1.801e+05  1.011e+03  6.060e+01\r",
      " 416  2.47e+01  1.800e+05  9.910e+02  6.045e+01\r",
      " 417  2.47e+01  1.799e+05  9.703e+02  6.025e+01\r",
      " 418  2.48e+01  1.797e+05  9.481e+02  6.016e+01\r"
     ]
    },
    {
     "name": "stdout",
     "output_type": "stream",
     "text": [
      " 419  2.48e+01  1.796e+05  9.239e+02  6.009e+01\r",
      " 420  2.49e+01  1.794e+05  8.974e+02  6.014e+01\r",
      " 421  2.49e+01  1.792e+05  8.685e+02  6.010e+01\r",
      " 422  2.50e+01  1.791e+05  8.373e+02  6.017e+01\r"
     ]
    },
    {
     "name": "stdout",
     "output_type": "stream",
     "text": [
      " 423  2.50e+01  1.789e+05  8.039e+02  6.031e+01\r",
      " 424  2.51e+01  1.787e+05  7.688e+02  6.048e+01\r",
      " 425  2.51e+01  1.784e+05  7.327e+02  6.060e+01\r",
      " 426  2.52e+01  1.782e+05  6.965e+02  6.074e+01\r"
     ]
    },
    {
     "name": "stdout",
     "output_type": "stream",
     "text": [
      " 427  2.53e+01  1.779e+05  6.613e+02  6.089e+01\r",
      " 428  2.53e+01  1.777e+05  6.285e+02  6.107e+01\r",
      " 429  2.54e+01  1.774e+05  5.998e+02  6.133e+01\r",
      " 430  2.54e+01  1.771e+05  5.767e+02  6.163e+01\r"
     ]
    },
    {
     "name": "stdout",
     "output_type": "stream",
     "text": [
      " 431  2.55e+01  1.768e+05  5.609e+02  6.192e+01\r",
      " 432  2.55e+01  1.765e+05  5.536e+02  6.207e+01\r",
      " 433  2.56e+01  1.762e+05  5.555e+02  6.210e+01\r",
      " 434  2.56e+01  1.759e+05  5.664e+02  6.214e+01\r"
     ]
    },
    {
     "name": "stdout",
     "output_type": "stream",
     "text": [
      " 435  2.57e+01  1.756e+05  5.854e+02  6.220e+01\r",
      " 436  2.57e+01  1.753e+05  6.112e+02  6.212e+01\r",
      " 437  2.58e+01  1.749e+05  6.421e+02  6.207e+01\r",
      " 438  2.58e+01  1.746e+05  6.765e+02  6.189e+01\r"
     ]
    },
    {
     "name": "stdout",
     "output_type": "stream",
     "text": [
      " 439  2.59e+01  1.743e+05  7.127e+02  6.177e+01\r",
      " 440  2.59e+01  1.740e+05  7.494e+02  6.180e+01\r",
      " 441  2.60e+01  1.737e+05  7.854e+02  6.183e+01\r",
      " 442  2.61e+01  1.734e+05  8.197e+02  6.176e+01\r"
     ]
    },
    {
     "name": "stdout",
     "output_type": "stream",
     "text": [
      " 443  2.61e+01  1.731e+05  8.516e+02  6.165e+01\r",
      " 444  2.62e+01  1.729e+05  8.804e+02  6.151e+01\r",
      " 445  2.62e+01  1.727e+05  9.058e+02  6.157e+01\r",
      " 446  2.63e+01  1.725e+05  9.275e+02  6.162e+01\r"
     ]
    },
    {
     "name": "stdout",
     "output_type": "stream",
     "text": [
      " 447  2.63e+01  1.723e+05  9.453e+02  6.183e+01\r",
      " 448  2.64e+01  1.721e+05  9.591e+02  6.211e+01\r",
      " 449  2.64e+01  1.720e+05  9.690e+02  6.244e+01\r",
      " 450  2.65e+01  1.719e+05  9.751e+02  6.413e+01\n"
     ]
    },
    {
     "name": "stdout",
     "output_type": "stream",
     "text": [
      " 451  2.65e+01  1.719e+05  9.773e+02  6.646e+01\r",
      " 452  2.66e+01  1.719e+05  9.763e+02  6.694e+01\r",
      " 453  2.66e+01  1.718e+05  9.728e+02  6.386e+01\r",
      " 454  2.67e+01  1.718e+05  9.672e+02  6.162e+01\r"
     ]
    },
    {
     "name": "stdout",
     "output_type": "stream",
     "text": [
      " 455  2.68e+01  1.718e+05  9.596e+02  6.036e+01\r",
      " 456  2.68e+01  1.718e+05  9.507e+02  5.914e+01\r",
      " 457  2.69e+01  1.718e+05  9.407e+02  5.831e+01\r",
      " 458  2.69e+01  1.718e+05  9.300e+02  5.740e+01\r"
     ]
    },
    {
     "name": "stdout",
     "output_type": "stream",
     "text": [
      " 459  2.70e+01  1.719e+05  9.189e+02  5.661e+01\r",
      " 460  2.70e+01  1.719e+05  9.076e+02  5.612e+01\r",
      " 461  2.71e+01  1.720e+05  8.963e+02  5.592e+01\r",
      " 462  2.71e+01  1.720e+05  8.850e+02  5.645e+01\r"
     ]
    },
    {
     "name": "stdout",
     "output_type": "stream",
     "text": [
      " 463  2.72e+01  1.721e+05  8.736e+02  5.663e+01\r",
      " 464  2.72e+01  1.722e+05  8.622e+02  5.699e+01\r",
      " 465  2.73e+01  1.723e+05  8.507e+02  5.713e+01\r",
      " 466  2.73e+01  1.724e+05  8.388e+02  5.690e+01\r"
     ]
    },
    {
     "name": "stdout",
     "output_type": "stream",
     "text": [
      " 467  2.74e+01  1.725e+05  8.264e+02  5.642e+01\r",
      " 468  2.75e+01  1.727e+05  8.132e+02  5.657e+01\r",
      " 469  2.75e+01  1.728e+05  7.990e+02  5.684e+01\r",
      " 470  2.76e+01  1.729e+05  7.838e+02  5.581e+01\r"
     ]
    },
    {
     "name": "stdout",
     "output_type": "stream",
     "text": [
      " 471  2.76e+01  1.730e+05  7.676e+02  5.145e+01\r",
      " 472  2.77e+01  1.731e+05  7.502e+02  4.915e+01\r",
      " 473  2.77e+01  1.732e+05  7.315e+02  4.780e+01\r",
      " 474  2.78e+01  1.733e+05  7.115e+02  4.668e+01\r"
     ]
    },
    {
     "name": "stdout",
     "output_type": "stream",
     "text": [
      " 475  2.78e+01  1.734e+05  6.902e+02  4.597e+01\r",
      " 476  2.79e+01  1.735e+05  6.678e+02  4.525e+01\r",
      " 477  2.79e+01  1.735e+05  6.447e+02  4.467e+01\r",
      " 478  2.80e+01  1.736e+05  6.212e+02  4.419e+01\r"
     ]
    },
    {
     "name": "stdout",
     "output_type": "stream",
     "text": [
      " 479  2.81e+01  1.737e+05  5.978e+02  4.385e+01\r",
      " 480  2.81e+01  1.737e+05  5.750e+02  4.368e+01\r",
      " 481  2.82e+01  1.737e+05  5.534e+02  4.370e+01\r",
      " 482  2.82e+01  1.738e+05  5.338e+02  4.376e+01\r"
     ]
    },
    {
     "name": "stdout",
     "output_type": "stream",
     "text": [
      " 483  2.83e+01  1.738e+05  5.167e+02  4.382e+01\r",
      " 484  2.83e+01  1.738e+05  5.029e+02  4.400e+01\r",
      " 485  2.84e+01  1.738e+05  4.929e+02  4.410e+01\r",
      " 486  2.84e+01  1.738e+05  4.870e+02  4.434e+01\r"
     ]
    },
    {
     "name": "stdout",
     "output_type": "stream",
     "text": [
      " 487  2.85e+01  1.738e+05  4.855e+02  4.454e+01\r",
      " 488  2.85e+01  1.737e+05  4.881e+02  4.490e+01\r",
      " 489  2.86e+01  1.737e+05  4.947e+02  4.505e+01\r",
      " 490  2.86e+01  1.736e+05  5.045e+02  4.523e+01\r"
     ]
    },
    {
     "name": "stdout",
     "output_type": "stream",
     "text": [
      " 491  2.87e+01  1.736e+05  5.170e+02  4.546e+01\r",
      " 492  2.88e+01  1.735e+05  5.315e+02  4.562e+01\r",
      " 493  2.88e+01  1.734e+05  5.472e+02  4.565e+01\r",
      " 494  2.89e+01  1.734e+05  5.635e+02  4.555e+01\r"
     ]
    },
    {
     "name": "stdout",
     "output_type": "stream",
     "text": [
      " 495  2.89e+01  1.733e+05  5.798e+02  4.542e+01\r",
      " 496  2.90e+01  1.732e+05  5.956e+02  4.529e+01\r",
      " 497  2.90e+01  1.731e+05  6.105e+02  4.521e+01\r",
      " 498  2.91e+01  1.730e+05  6.241e+02  4.523e+01\r"
     ]
    },
    {
     "name": "stdout",
     "output_type": "stream",
     "text": [
      " 499  2.92e+01  1.729e+05  6.362e+02  4.542e+01\r",
      " 500  2.92e+01  1.728e+05  6.466e+02  4.537e+01\n",
      " 501  2.93e+01  1.727e+05  6.553e+02  4.514e+01\r",
      " 502  2.94e+01  1.726e+05  6.622e+02  4.482e+01\r"
     ]
    },
    {
     "name": "stdout",
     "output_type": "stream",
     "text": [
      " 503  2.94e+01  1.725e+05  6.675e+02  4.447e+01\r",
      " 504  2.95e+01  1.725e+05  6.711e+02  4.409e+01\r",
      " 505  2.95e+01  1.724e+05  6.733e+02  4.367e+01\r",
      " 506  2.96e+01  1.723e+05  6.743e+02  4.332e+01\r"
     ]
    },
    {
     "name": "stdout",
     "output_type": "stream",
     "text": [
      " 507  2.96e+01  1.722e+05  6.741e+02  4.296e+01\r",
      " 508  2.97e+01  1.721e+05  6.730e+02  4.266e+01\r",
      " 509  2.97e+01  1.720e+05  6.711e+02  4.247e+01\r",
      " 510  2.98e+01  1.719e+05  6.685e+02  4.224e+01\r"
     ]
    },
    {
     "name": "stdout",
     "output_type": "stream",
     "text": [
      " 511  2.99e+01  1.719e+05  6.655e+02  4.212e+01\r",
      " 512  2.99e+01  1.718e+05  6.621e+02  4.206e+01\r",
      " 513  3.00e+01  1.717e+05  6.584e+02  4.204e+01\r",
      " 514  3.00e+01  1.717e+05  6.544e+02  4.202e+01\r"
     ]
    },
    {
     "name": "stdout",
     "output_type": "stream",
     "text": [
      " 515  3.01e+01  1.716e+05  6.502e+02  4.192e+01\r",
      " 516  3.02e+01  1.715e+05  6.456e+02  4.163e+01\r",
      " 517  3.02e+01  1.715e+05  6.408e+02  4.132e+01\r",
      " 518  3.03e+01  1.714e+05  6.355e+02  4.090e+01\r"
     ]
    },
    {
     "name": "stdout",
     "output_type": "stream",
     "text": [
      " 519  3.04e+01  1.714e+05  6.298e+02  4.045e+01\r",
      " 520  3.04e+01  1.713e+05  6.235e+02  3.999e+01\r",
      " 521  3.05e+01  1.713e+05  6.164e+02  3.968e+01\r",
      " 522  3.05e+01  1.712e+05  6.085e+02  3.945e+01\r"
     ]
    },
    {
     "name": "stdout",
     "output_type": "stream",
     "text": [
      " 523  3.06e+01  1.712e+05  5.997e+02  3.916e+01\r",
      " 524  3.06e+01  1.711e+05  5.898e+02  3.893e+01\r",
      " 525  3.07e+01  1.711e+05  5.788e+02  3.873e+01\r",
      " 526  3.08e+01  1.710e+05  5.669e+02  3.847e+01\r"
     ]
    },
    {
     "name": "stdout",
     "output_type": "stream",
     "text": [
      " 527  3.08e+01  1.710e+05  5.538e+02  3.804e+01\r",
      " 528  3.09e+01  1.709e+05  5.399e+02  3.769e+01\r",
      " 529  3.09e+01  1.709e+05  5.251e+02  3.730e+01\r",
      " 530  3.10e+01  1.708e+05  5.097e+02  3.708e+01\r"
     ]
    },
    {
     "name": "stdout",
     "output_type": "stream",
     "text": [
      " 531  3.10e+01  1.708e+05  4.939e+02  3.695e+01\r",
      " 532  3.11e+01  1.707e+05  4.779e+02  3.688e+01\r",
      " 533  3.11e+01  1.707e+05  4.620e+02  3.684e+01\r",
      " 534  3.12e+01  1.706e+05  4.465e+02  3.681e+01\r"
     ]
    },
    {
     "name": "stdout",
     "output_type": "stream",
     "text": [
      " 535  3.13e+01  1.706e+05  4.319e+02  3.691e+01\r",
      " 536  3.13e+01  1.705e+05  4.185e+02  3.719e+01\r",
      " 537  3.14e+01  1.705e+05  4.066e+02  3.757e+01\r",
      " 538  3.14e+01  1.704e+05  3.965e+02  3.795e+01\r"
     ]
    },
    {
     "name": "stdout",
     "output_type": "stream",
     "text": [
      " 539  3.15e+01  1.703e+05  3.887e+02  3.769e+01\r",
      " 540  3.16e+01  1.703e+05  3.834e+02  3.733e+01\r",
      " 541  3.16e+01  1.702e+05  3.805e+02  3.715e+01\r",
      " 542  3.17e+01  1.701e+05  3.802e+02  3.693e+01\r"
     ]
    },
    {
     "name": "stdout",
     "output_type": "stream",
     "text": [
      " 543  3.17e+01  1.700e+05  3.822e+02  3.675e+01\r",
      " 544  3.18e+01  1.699e+05  3.863e+02  3.662e+01\r",
      " 545  3.18e+01  1.698e+05  3.921e+02  3.661e+01\r",
      " 546  3.19e+01  1.697e+05  3.994e+02  3.642e+01\r"
     ]
    },
    {
     "name": "stdout",
     "output_type": "stream",
     "text": [
      " 547  3.19e+01  1.696e+05  4.078e+02  3.617e+01\r",
      " 548  3.20e+01  1.695e+05  4.169e+02  3.567e+01\r",
      " 549  3.20e+01  1.694e+05  4.264e+02  3.534e+01\r",
      " 550  3.21e+01  1.693e+05  4.361e+02  3.504e+01\n"
     ]
    },
    {
     "name": "stdout",
     "output_type": "stream",
     "text": [
      " 551  3.22e+01  1.692e+05  4.456e+02  3.479e+01\r",
      " 552  3.22e+01  1.691e+05  4.548e+02  3.449e+01\r",
      " 553  3.23e+01  1.690e+05  4.635e+02  3.420e+01\r",
      " 554  3.23e+01  1.689e+05  4.716e+02  3.395e+01\r"
     ]
    },
    {
     "name": "stdout",
     "output_type": "stream",
     "text": [
      " 555  3.24e+01  1.688e+05  4.791e+02  3.365e+01\r",
      " 556  3.24e+01  1.687e+05  4.859e+02  3.341e+01\r",
      " 557  3.25e+01  1.686e+05  4.920e+02  3.315e+01\r",
      " 558  3.26e+01  1.685e+05  4.974e+02  3.291e+01\r"
     ]
    },
    {
     "name": "stdout",
     "output_type": "stream",
     "text": [
      " 559  3.26e+01  1.684e+05  5.021e+02  3.274e+01\r",
      " 560  3.27e+01  1.684e+05  5.062e+02  3.260e+01\r",
      " 561  3.28e+01  1.683e+05  5.096e+02  3.250e+01\r",
      " 562  3.28e+01  1.682e+05  5.124e+02  3.238e+01\r"
     ]
    },
    {
     "name": "stdout",
     "output_type": "stream",
     "text": [
      " 563  3.29e+01  1.682e+05  5.146e+02  3.227e+01\r",
      " 564  3.29e+01  1.681e+05  5.162e+02  3.217e+01\r",
      " 565  3.30e+01  1.681e+05  5.173e+02  3.193e+01\r",
      " 566  3.30e+01  1.680e+05  5.178e+02  3.183e+01\r"
     ]
    },
    {
     "name": "stdout",
     "output_type": "stream",
     "text": [
      " 567  3.31e+01  1.680e+05  5.177e+02  3.164e+01\r",
      " 568  3.31e+01  1.679e+05  5.170e+02  3.148e+01\r",
      " 569  3.32e+01  1.679e+05  5.156e+02  3.126e+01\r",
      " 570  3.33e+01  1.679e+05  5.136e+02  3.104e+01\r"
     ]
    },
    {
     "name": "stdout",
     "output_type": "stream",
     "text": [
      " 571  3.33e+01  1.679e+05  5.107e+02  3.087e+01\r",
      " 572  3.34e+01  1.679e+05  5.071e+02  3.067e+01\r",
      " 573  3.34e+01  1.679e+05  5.026e+02  3.049e+01\r",
      " 574  3.35e+01  1.679e+05  4.971e+02  3.022e+01\r"
     ]
    },
    {
     "name": "stdout",
     "output_type": "stream",
     "text": [
      " 575  3.35e+01  1.679e+05  4.906e+02  2.999e+01\r",
      " 576  3.36e+01  1.679e+05  4.832e+02  2.978e+01\r",
      " 577  3.37e+01  1.679e+05  4.747e+02  2.959e+01\r",
      " 578  3.37e+01  1.679e+05  4.652e+02  2.945e+01\r"
     ]
    },
    {
     "name": "stdout",
     "output_type": "stream",
     "text": [
      " 579  3.38e+01  1.679e+05  4.547e+02  2.932e+01\r",
      " 580  3.38e+01  1.679e+05  4.432e+02  2.922e+01\r",
      " 581  3.39e+01  1.680e+05  4.308e+02  2.920e+01\r",
      " 582  3.39e+01  1.680e+05  4.177e+02  2.917e+01\r"
     ]
    },
    {
     "name": "stdout",
     "output_type": "stream",
     "text": [
      " 583  3.40e+01  1.680e+05  4.038e+02  2.913e+01\r",
      " 584  3.40e+01  1.680e+05  3.895e+02  2.905e+01\r",
      " 585  3.41e+01  1.681e+05  3.748e+02  2.892e+01\r",
      " 586  3.42e+01  1.681e+05  3.600e+02  2.885e+01\r"
     ]
    },
    {
     "name": "stdout",
     "output_type": "stream",
     "text": [
      " 587  3.42e+01  1.681e+05  3.453e+02  2.882e+01\r",
      " 588  3.43e+01  1.681e+05  3.309e+02  2.886e+01\r",
      " 589  3.43e+01  1.682e+05  3.171e+02  2.891e+01\r",
      " 590  3.44e+01  1.682e+05  3.042e+02  2.891e+01\r"
     ]
    },
    {
     "name": "stdout",
     "output_type": "stream",
     "text": [
      " 591  3.45e+01  1.682e+05  2.925e+02  2.891e+01\r",
      " 592  3.45e+01  1.682e+05  2.822e+02  2.888e+01\r",
      " 593  3.46e+01  1.682e+05  2.737e+02  2.892e+01\r",
      " 594  3.46e+01  1.682e+05  2.670e+02  2.894e+01\r"
     ]
    },
    {
     "name": "stdout",
     "output_type": "stream",
     "text": [
      " 595  3.47e+01  1.682e+05  2.625e+02  2.896e+01\r",
      " 596  3.47e+01  1.682e+05  2.600e+02  2.901e+01\r",
      " 597  3.48e+01  1.683e+05  2.596e+02  2.905e+01\r",
      " 598  3.48e+01  1.683e+05  2.612e+02  2.909e+01\r"
     ]
    },
    {
     "name": "stdout",
     "output_type": "stream",
     "text": [
      " 599  3.49e+01  1.683e+05  2.645e+02  2.910e+01\r",
      " 600  3.50e+01  1.682e+05  2.694e+02  2.915e+01\n",
      " 601  3.50e+01  1.682e+05  2.756e+02  2.925e+01\r",
      " 602  3.51e+01  1.682e+05  2.828e+02  2.932e+01\r"
     ]
    },
    {
     "name": "stdout",
     "output_type": "stream",
     "text": [
      " 603  3.51e+01  1.682e+05  2.907e+02  2.944e+01\r",
      " 604  3.52e+01  1.682e+05  2.992e+02  2.954e+01\r",
      " 605  3.52e+01  1.682e+05  3.079e+02  2.967e+01\r",
      " 606  3.53e+01  1.682e+05  3.167e+02  2.968e+01\r"
     ]
    },
    {
     "name": "stdout",
     "output_type": "stream",
     "text": [
      " 607  3.53e+01  1.682e+05  3.256e+02  2.974e+01\r",
      " 608  3.54e+01  1.682e+05  3.343e+02  2.968e+01\r",
      " 609  3.55e+01  1.682e+05  3.428e+02  2.957e+01\r",
      " 610  3.55e+01  1.682e+05  3.511e+02  2.935e+01\r"
     ]
    },
    {
     "name": "stdout",
     "output_type": "stream",
     "text": [
      " 611  3.56e+01  1.682e+05  3.590e+02  2.913e+01\r",
      " 612  3.56e+01  1.682e+05  3.666e+02  2.889e+01\r",
      " 613  3.57e+01  1.682e+05  3.737e+02  2.873e+01\r",
      " 614  3.57e+01  1.682e+05  3.803e+02  2.858e+01\r"
     ]
    },
    {
     "name": "stdout",
     "output_type": "stream",
     "text": [
      " 615  3.58e+01  1.682e+05  3.864e+02  2.839e+01\r",
      " 616  3.58e+01  1.682e+05  3.920e+02  2.820e+01\r",
      " 617  3.59e+01  1.681e+05  3.969e+02  2.802e+01\r",
      " 618  3.60e+01  1.681e+05  4.013e+02  2.781e+01\r"
     ]
    },
    {
     "name": "stdout",
     "output_type": "stream",
     "text": [
      " 619  3.60e+01  1.681e+05  4.050e+02  2.765e+01\r",
      " 620  3.61e+01  1.681e+05  4.080e+02  2.749e+01\r",
      " 621  3.61e+01  1.681e+05  4.102e+02  2.740e+01\r",
      " 622  3.62e+01  1.681e+05  4.116e+02  2.722e+01\r"
     ]
    },
    {
     "name": "stdout",
     "output_type": "stream",
     "text": [
      " 623  3.62e+01  1.681e+05  4.123e+02  2.710e+01\r",
      " 624  3.63e+01  1.681e+05  4.121e+02  2.695e+01\r",
      " 625  3.63e+01  1.681e+05  4.110e+02  2.670e+01\r",
      " 626  3.64e+01  1.681e+05  4.090e+02  2.643e+01\r"
     ]
    },
    {
     "name": "stdout",
     "output_type": "stream",
     "text": [
      " 627  3.65e+01  1.681e+05  4.061e+02  2.618e+01\r",
      " 628  3.65e+01  1.681e+05  4.023e+02  2.596e+01\r",
      " 629  3.66e+01  1.681e+05  3.975e+02  2.574e+01\r",
      " 630  3.66e+01  1.681e+05  3.919e+02  2.549e+01\r"
     ]
    },
    {
     "name": "stdout",
     "output_type": "stream",
     "text": [
      " 631  3.67e+01  1.681e+05  3.853e+02  2.532e+01\r",
      " 632  3.67e+01  1.681e+05  3.778e+02  2.515e+01\r",
      " 633  3.68e+01  1.680e+05  3.695e+02  2.504e+01\r",
      " 634  3.68e+01  1.680e+05  3.604e+02  2.493e+01\r"
     ]
    },
    {
     "name": "stdout",
     "output_type": "stream",
     "text": [
      " 635  3.69e+01  1.680e+05  3.506e+02  2.484e+01\r",
      " 636  3.69e+01  1.680e+05  3.400e+02  2.477e+01\r",
      " 637  3.70e+01  1.680e+05  3.290e+02  2.477e+01\r",
      " 638  3.71e+01  1.680e+05  3.174e+02  2.479e+01\r"
     ]
    },
    {
     "name": "stdout",
     "output_type": "stream",
     "text": [
      " 639  3.71e+01  1.680e+05  3.055e+02  2.480e+01\r",
      " 640  3.72e+01  1.680e+05  2.933e+02  2.484e+01\r",
      " 641  3.73e+01  1.680e+05  2.811e+02  2.484e+01\r",
      " 642  3.73e+01  1.679e+05  2.689e+02  2.490e+01\r"
     ]
    },
    {
     "name": "stdout",
     "output_type": "stream",
     "text": [
      " 643  3.74e+01  1.679e+05  2.570e+02  2.495e+01\r",
      " 644  3.74e+01  1.679e+05  2.456e+02  2.500e+01\r",
      " 645  3.75e+01  1.679e+05  2.347e+02  2.505e+01\r",
      " 646  3.75e+01  1.678e+05  2.247e+02  2.510e+01\r"
     ]
    },
    {
     "name": "stdout",
     "output_type": "stream",
     "text": [
      " 647  3.76e+01  1.678e+05  2.158e+02  2.516e+01\r",
      " 648  3.77e+01  1.678e+05  2.080e+02  2.520e+01\r",
      " 649  3.77e+01  1.677e+05  2.016e+02  2.526e+01\r",
      " 650  3.78e+01  1.677e+05  1.967e+02  2.532e+01\n"
     ]
    },
    {
     "name": "stdout",
     "output_type": "stream",
     "text": [
      " 651  3.78e+01  1.676e+05  1.934e+02  2.537e+01\r",
      " 652  3.79e+01  1.676e+05  1.917e+02  2.544e+01\r",
      " 653  3.79e+01  1.675e+05  1.916e+02  2.543e+01\r",
      " 654  3.80e+01  1.675e+05  1.930e+02  2.541e+01\r"
     ]
    },
    {
     "name": "stdout",
     "output_type": "stream",
     "text": [
      " 655  3.80e+01  1.674e+05  1.957e+02  2.541e+01\r",
      " 656  3.81e+01  1.674e+05  1.997e+02  2.538e+01\r",
      " 657  3.82e+01  1.673e+05  2.046e+02  2.534e+01\r",
      " 658  3.82e+01  1.672e+05  2.103e+02  2.529e+01\r"
     ]
    },
    {
     "name": "stdout",
     "output_type": "stream",
     "text": [
      " 659  3.83e+01  1.672e+05  2.167e+02  2.521e+01\r",
      " 660  3.83e+01  1.671e+05  2.235e+02  2.515e+01\r",
      " 661  3.84e+01  1.670e+05  2.307e+02  2.506e+01\r",
      " 662  3.84e+01  1.670e+05  2.380e+02  2.498e+01\r"
     ]
    },
    {
     "name": "stdout",
     "output_type": "stream",
     "text": [
      " 663  3.85e+01  1.669e+05  2.454e+02  2.489e+01\r",
      " 664  3.85e+01  1.669e+05  2.528e+02  2.479e+01\r",
      " 665  3.86e+01  1.668e+05  2.600e+02  2.468e+01\r",
      " 666  3.87e+01  1.667e+05  2.671e+02  2.458e+01\r"
     ]
    },
    {
     "name": "stdout",
     "output_type": "stream",
     "text": [
      " 667  3.87e+01  1.667e+05  2.739e+02  2.446e+01\r",
      " 668  3.88e+01  1.666e+05  2.803e+02  2.433e+01\r",
      " 669  3.88e+01  1.666e+05  2.864e+02  2.417e+01\r",
      " 670  3.89e+01  1.665e+05  2.921e+02  2.398e+01\r"
     ]
    },
    {
     "name": "stdout",
     "output_type": "stream",
     "text": [
      " 671  3.89e+01  1.665e+05  2.972e+02  2.384e+01\r",
      " 672  3.90e+01  1.665e+05  3.019e+02  2.365e+01\r",
      " 673  3.90e+01  1.664e+05  3.060e+02  2.344e+01\r",
      " 674  3.91e+01  1.664e+05  3.095e+02  2.322e+01\r"
     ]
    },
    {
     "name": "stdout",
     "output_type": "stream",
     "text": [
      " 675  3.92e+01  1.664e+05  3.123e+02  2.300e+01\r",
      " 676  3.92e+01  1.663e+05  3.145e+02  2.274e+01\r",
      " 677  3.93e+01  1.663e+05  3.161e+02  2.253e+01\r",
      " 678  3.93e+01  1.663e+05  3.169e+02  2.231e+01\r"
     ]
    },
    {
     "name": "stdout",
     "output_type": "stream",
     "text": [
      " 679  3.94e+01  1.663e+05  3.170e+02  2.209e+01\r",
      " 680  3.94e+01  1.663e+05  3.164e+02  2.184e+01\r",
      " 681  3.95e+01  1.663e+05  3.151e+02  2.159e+01\r",
      " 682  3.96e+01  1.662e+05  3.130e+02  2.134e+01\r"
     ]
    },
    {
     "name": "stdout",
     "output_type": "stream",
     "text": [
      " 683  3.96e+01  1.662e+05  3.102e+02  2.111e+01\r",
      " 684  3.97e+01  1.662e+05  3.068e+02  2.089e+01\r",
      " 685  3.97e+01  1.662e+05  3.026e+02  2.067e+01\r",
      " 686  3.98e+01  1.662e+05  2.978e+02  2.047e+01\r"
     ]
    },
    {
     "name": "stdout",
     "output_type": "stream",
     "text": [
      " 687  3.98e+01  1.662e+05  2.923e+02  2.029e+01\r",
      " 688  3.99e+01  1.662e+05  2.863e+02  2.014e+01\r",
      " 689  4.00e+01  1.663e+05  2.798e+02  1.998e+01\r",
      " 690  4.00e+01  1.663e+05  2.728e+02  1.984e+01\r"
     ]
    },
    {
     "name": "stdout",
     "output_type": "stream",
     "text": [
      " 691  4.01e+01  1.663e+05  2.653e+02  1.972e+01\r",
      " 692  4.01e+01  1.663e+05  2.575e+02  1.961e+01\r",
      " 693  4.02e+01  1.663e+05  2.495e+02  1.951e+01\r",
      " 694  4.02e+01  1.663e+05  2.412e+02  1.943e+01\r"
     ]
    },
    {
     "name": "stdout",
     "output_type": "stream",
     "text": [
      " 695  4.03e+01  1.663e+05  2.329e+02  1.934e+01\r",
      " 696  4.03e+01  1.663e+05  2.245e+02  1.927e+01\r",
      " 697  4.04e+01  1.663e+05  2.162e+02  1.921e+01\r",
      " 698  4.04e+01  1.664e+05  2.080e+02  1.916e+01\r"
     ]
    },
    {
     "name": "stdout",
     "output_type": "stream",
     "text": [
      " 699  4.05e+01  1.664e+05  2.002e+02  1.913e+01\r",
      " 700  4.06e+01  1.664e+05  1.927e+02  1.911e+01\n",
      " 701  4.06e+01  1.664e+05  1.857e+02  1.910e+01\r",
      " 702  4.07e+01  1.664e+05  1.793e+02  1.911e+01\r"
     ]
    },
    {
     "name": "stdout",
     "output_type": "stream",
     "text": [
      " 703  4.07e+01  1.664e+05  1.735e+02  1.910e+01\r",
      " 704  4.08e+01  1.664e+05  1.686e+02  1.908e+01\r",
      " 705  4.08e+01  1.664e+05  1.646e+02  1.906e+01\r",
      " 706  4.09e+01  1.664e+05  1.614e+02  1.905e+01\r"
     ]
    },
    {
     "name": "stdout",
     "output_type": "stream",
     "text": [
      " 707  4.10e+01  1.665e+05  1.593e+02  1.905e+01\r",
      " 708  4.10e+01  1.665e+05  1.582e+02  1.905e+01\r",
      " 709  4.11e+01  1.665e+05  1.580e+02  1.907e+01\r",
      " 710  4.11e+01  1.665e+05  1.587e+02  1.907e+01\r"
     ]
    },
    {
     "name": "stdout",
     "output_type": "stream",
     "text": [
      " 711  4.12e+01  1.665e+05  1.604e+02  1.908e+01\r",
      " 712  4.12e+01  1.665e+05  1.628e+02  1.911e+01\r",
      " 713  4.13e+01  1.665e+05  1.659e+02  1.910e+01\r",
      " 714  4.13e+01  1.665e+05  1.696e+02  1.910e+01\r"
     ]
    },
    {
     "name": "stdout",
     "output_type": "stream",
     "text": [
      " 715  4.14e+01  1.665e+05  1.738e+02  1.909e+01\r",
      " 716  4.15e+01  1.665e+05  1.784e+02  1.907e+01\r",
      " 717  4.15e+01  1.665e+05  1.833e+02  1.905e+01\r",
      " 718  4.16e+01  1.665e+05  1.883e+02  1.904e+01\r"
     ]
    },
    {
     "name": "stdout",
     "output_type": "stream",
     "text": [
      " 719  4.16e+01  1.665e+05  1.935e+02  1.902e+01\r",
      " 720  4.17e+01  1.665e+05  1.988e+02  1.896e+01\r",
      " 721  4.17e+01  1.665e+05  2.040e+02  1.892e+01\r",
      " 722  4.18e+01  1.665e+05  2.091e+02  1.887e+01\r"
     ]
    },
    {
     "name": "stdout",
     "output_type": "stream",
     "text": [
      " 723  4.18e+01  1.665e+05  2.141e+02  1.882e+01\r",
      " 724  4.19e+01  1.665e+05  2.188e+02  1.879e+01\r",
      " 725  4.20e+01  1.665e+05  2.233e+02  1.874e+01\r",
      " 726  4.20e+01  1.665e+05  2.275e+02  1.869e+01\r"
     ]
    },
    {
     "name": "stdout",
     "output_type": "stream",
     "text": [
      " 727  4.21e+01  1.665e+05  2.313e+02  1.866e+01\r",
      " 728  4.21e+01  1.665e+05  2.347e+02  1.862e+01\r",
      " 729  4.22e+01  1.665e+05  2.378e+02  1.855e+01\r",
      " 730  4.22e+01  1.665e+05  2.403e+02  1.851e+01\r"
     ]
    },
    {
     "name": "stdout",
     "output_type": "stream",
     "text": [
      " 731  4.23e+01  1.665e+05  2.424e+02  1.846e+01\r",
      " 732  4.24e+01  1.665e+05  2.440e+02  1.843e+01\r",
      " 733  4.24e+01  1.665e+05  2.451e+02  1.838e+01\r",
      " 734  4.25e+01  1.665e+05  2.457e+02  1.832e+01\r"
     ]
    },
    {
     "name": "stdout",
     "output_type": "stream",
     "text": [
      " 735  4.25e+01  1.665e+05  2.457e+02  1.828e+01\r",
      " 736  4.26e+01  1.665e+05  2.452e+02  1.823e+01\r",
      " 737  4.26e+01  1.665e+05  2.442e+02  1.821e+01\r",
      " 738  4.27e+01  1.665e+05  2.426e+02  1.816e+01\r"
     ]
    },
    {
     "name": "stdout",
     "output_type": "stream",
     "text": [
      " 739  4.27e+01  1.665e+05  2.406e+02  1.812e+01\r",
      " 740  4.28e+01  1.665e+05  2.380e+02  1.808e+01\r",
      " 741  4.29e+01  1.665e+05  2.350e+02  1.802e+01\r",
      " 742  4.29e+01  1.665e+05  2.315e+02  1.800e+01\r"
     ]
    },
    {
     "name": "stdout",
     "output_type": "stream",
     "text": [
      " 743  4.30e+01  1.665e+05  2.275e+02  1.799e+01\r",
      " 744  4.30e+01  1.665e+05  2.232e+02  1.799e+01\r",
      " 745  4.31e+01  1.665e+05  2.185e+02  1.797e+01\r",
      " 746  4.31e+01  1.665e+05  2.134e+02  1.794e+01\r"
     ]
    },
    {
     "name": "stdout",
     "output_type": "stream",
     "text": [
      " 747  4.32e+01  1.665e+05  2.080e+02  1.791e+01\r",
      " 748  4.32e+01  1.665e+05  2.024e+02  1.786e+01\r",
      " 749  4.33e+01  1.665e+05  1.966e+02  1.784e+01\r",
      " 750  4.34e+01  1.665e+05  1.906e+02  1.782e+01\n"
     ]
    },
    {
     "name": "stdout",
     "output_type": "stream",
     "text": [
      " 751  4.34e+01  1.665e+05  1.845e+02  1.780e+01\r",
      " 752  4.35e+01  1.665e+05  1.784e+02  1.781e+01\r",
      " 753  4.35e+01  1.665e+05  1.722e+02  1.778e+01\r",
      " 754  4.36e+01  1.665e+05  1.661e+02  1.777e+01\r"
     ]
    },
    {
     "name": "stdout",
     "output_type": "stream",
     "text": [
      " 755  4.36e+01  1.664e+05  1.601e+02  1.776e+01\r",
      " 756  4.37e+01  1.664e+05  1.543e+02  1.774e+01\r",
      " 757  4.37e+01  1.664e+05  1.488e+02  1.773e+01\r",
      " 758  4.38e+01  1.664e+05  1.436e+02  1.770e+01\r"
     ]
    },
    {
     "name": "stdout",
     "output_type": "stream",
     "text": [
      " 759  4.39e+01  1.664e+05  1.388e+02  1.766e+01\r",
      " 760  4.39e+01  1.664e+05  1.345e+02  1.761e+01\r",
      " 761  4.40e+01  1.663e+05  1.308e+02  1.756e+01\r",
      " 762  4.40e+01  1.663e+05  1.277e+02  1.754e+01\r"
     ]
    },
    {
     "name": "stdout",
     "output_type": "stream",
     "text": [
      " 763  4.41e+01  1.663e+05  1.253e+02  1.752e+01\r",
      " 764  4.41e+01  1.663e+05  1.236e+02  1.748e+01\r",
      " 765  4.42e+01  1.663e+05  1.226e+02  1.744e+01\r",
      " 766  4.42e+01  1.662e+05  1.224e+02  1.743e+01\r"
     ]
    },
    {
     "name": "stdout",
     "output_type": "stream",
     "text": [
      " 767  4.43e+01  1.662e+05  1.230e+02  1.739e+01\r",
      " 768  4.43e+01  1.662e+05  1.242e+02  1.735e+01\r",
      " 769  4.44e+01  1.662e+05  1.261e+02  1.731e+01\r",
      " 770  4.45e+01  1.661e+05  1.286e+02  1.728e+01\r"
     ]
    },
    {
     "name": "stdout",
     "output_type": "stream",
     "text": [
      " 771  4.45e+01  1.661e+05  1.315e+02  1.724e+01\r",
      " 772  4.46e+01  1.661e+05  1.349e+02  1.721e+01\r",
      " 773  4.46e+01  1.660e+05  1.387e+02  1.717e+01\r",
      " 774  4.47e+01  1.660e+05  1.426e+02  1.712e+01\r"
     ]
    },
    {
     "name": "stdout",
     "output_type": "stream",
     "text": [
      " 775  4.48e+01  1.660e+05  1.468e+02  1.707e+01\r",
      " 776  4.48e+01  1.659e+05  1.511e+02  1.701e+01\r",
      " 777  4.49e+01  1.659e+05  1.554e+02  1.696e+01\r",
      " 778  4.49e+01  1.659e+05  1.596e+02  1.691e+01\r"
     ]
    },
    {
     "name": "stdout",
     "output_type": "stream",
     "text": [
      " 779  4.50e+01  1.659e+05  1.638e+02  1.685e+01\r",
      " 780  4.50e+01  1.658e+05  1.678e+02  1.678e+01\r",
      " 781  4.51e+01  1.658e+05  1.717e+02  1.669e+01\r",
      " 782  4.52e+01  1.658e+05  1.753e+02  1.660e+01\r"
     ]
    },
    {
     "name": "stdout",
     "output_type": "stream",
     "text": [
      " 783  4.52e+01  1.658e+05  1.787e+02  1.651e+01\r",
      " 784  4.53e+01  1.657e+05  1.818e+02  1.639e+01\r",
      " 785  4.53e+01  1.657e+05  1.845e+02  1.628e+01\r",
      " 786  4.54e+01  1.657e+05  1.870e+02  1.618e+01\r"
     ]
    },
    {
     "name": "stdout",
     "output_type": "stream",
     "text": [
      " 787  4.54e+01  1.657e+05  1.890e+02  1.609e+01\r",
      " 788  4.55e+01  1.657e+05  1.906e+02  1.600e+01\r",
      " 789  4.55e+01  1.656e+05  1.919e+02  1.591e+01\r",
      " 790  4.56e+01  1.656e+05  1.927e+02  1.582e+01\r"
     ]
    },
    {
     "name": "stdout",
     "output_type": "stream",
     "text": [
      " 791  4.57e+01  1.656e+05  1.931e+02  1.574e+01\r",
      " 792  4.57e+01  1.656e+05  1.931e+02  1.566e+01\r",
      " 793  4.58e+01  1.656e+05  1.926e+02  1.558e+01\r",
      " 794  4.58e+01  1.656e+05  1.918e+02  1.549e+01\r"
     ]
    },
    {
     "name": "stdout",
     "output_type": "stream",
     "text": [
      " 795  4.59e+01  1.656e+05  1.905e+02  1.542e+01\r",
      " 796  4.59e+01  1.656e+05  1.888e+02  1.534e+01\r",
      " 797  4.60e+01  1.655e+05  1.867e+02  1.527e+01\r",
      " 798  4.60e+01  1.655e+05  1.842e+02  1.519e+01\r"
     ]
    },
    {
     "name": "stdout",
     "output_type": "stream",
     "text": [
      " 799  4.61e+01  1.655e+05  1.814e+02  1.513e+01\r",
      " 800  4.61e+01  1.655e+05  1.782e+02  1.507e+01\n",
      " 801  4.62e+01  1.655e+05  1.747e+02  1.500e+01\r",
      " 802  4.63e+01  1.655e+05  1.709e+02  1.494e+01\r"
     ]
    },
    {
     "name": "stdout",
     "output_type": "stream",
     "text": [
      " 803  4.63e+01  1.655e+05  1.668e+02  1.490e+01\r",
      " 804  4.64e+01  1.655e+05  1.625e+02  1.483e+01\r",
      " 805  4.64e+01  1.655e+05  1.580e+02  1.476e+01\r",
      " 806  4.65e+01  1.655e+05  1.533e+02  1.467e+01\r"
     ]
    },
    {
     "name": "stdout",
     "output_type": "stream",
     "text": [
      " 807  4.65e+01  1.655e+05  1.485e+02  1.459e+01\r",
      " 808  4.66e+01  1.655e+05  1.436e+02  1.451e+01\r",
      " 809  4.66e+01  1.655e+05  1.386e+02  1.446e+01\r",
      " 810  4.67e+01  1.656e+05  1.336e+02  1.438e+01\r"
     ]
    },
    {
     "name": "stdout",
     "output_type": "stream",
     "text": [
      " 811  4.67e+01  1.656e+05  1.286e+02  1.430e+01\r",
      " 812  4.68e+01  1.656e+05  1.237e+02  1.423e+01\r",
      " 813  4.69e+01  1.656e+05  1.190e+02  1.416e+01\r",
      " 814  4.69e+01  1.656e+05  1.145e+02  1.409e+01\r"
     ]
    },
    {
     "name": "stdout",
     "output_type": "stream",
     "text": [
      " 815  4.70e+01  1.656e+05  1.103e+02  1.402e+01\r",
      " 816  4.70e+01  1.656e+05  1.064e+02  1.395e+01\r",
      " 817  4.71e+01  1.656e+05  1.029e+02  1.389e+01\r",
      " 818  4.71e+01  1.656e+05  9.998e+01  1.382e+01\r"
     ]
    },
    {
     "name": "stdout",
     "output_type": "stream",
     "text": [
      " 819  4.73e+01  1.656e+05  9.759e+01  1.374e+01\r",
      " 820  4.74e+01  1.656e+05  9.581e+01  1.367e+01\r",
      " 821  4.74e+01  1.656e+05  9.468e+01  1.360e+01\r",
      " 822  4.75e+01  1.656e+05  9.423e+01  1.353e+01\r"
     ]
    },
    {
     "name": "stdout",
     "output_type": "stream",
     "text": [
      " 823  4.75e+01  1.656e+05  9.444e+01  1.345e+01\r",
      " 824  4.76e+01  1.656e+05  9.530e+01  1.338e+01\r",
      " 825  4.76e+01  1.656e+05  9.675e+01  1.331e+01\r",
      " 826  4.77e+01  1.656e+05  9.874e+01  1.323e+01\r"
     ]
    },
    {
     "name": "stdout",
     "output_type": "stream",
     "text": [
      " 827  4.77e+01  1.656e+05  1.012e+02  1.315e+01\r",
      " 828  4.78e+01  1.657e+05  1.040e+02  1.308e+01\r",
      " 829  4.79e+01  1.657e+05  1.072e+02  1.302e+01\r",
      " 830  4.79e+01  1.657e+05  1.106e+02  1.294e+01\r"
     ]
    },
    {
     "name": "stdout",
     "output_type": "stream",
     "text": [
      " 831  4.80e+01  1.657e+05  1.141e+02  1.289e+01\r",
      " 832  4.81e+01  1.657e+05  1.177e+02  1.283e+01\r",
      " 833  4.81e+01  1.657e+05  1.213e+02  1.277e+01\r"
     ]
    },
    {
     "name": "stdout",
     "output_type": "stream",
     "text": [
      " 834  4.82e+01  1.657e+05  1.249e+02  1.270e+01\r",
      " 835  4.83e+01  1.657e+05  1.284e+02  1.264e+01\r",
      " 836  4.83e+01  1.657e+05  1.317e+02  1.260e+01\r",
      " 837  4.84e+01  1.657e+05  1.349e+02  1.254e+01\r"
     ]
    },
    {
     "name": "stdout",
     "output_type": "stream",
     "text": [
      " 838  4.84e+01  1.657e+05  1.379e+02  1.250e+01\r",
      " 839  4.85e+01  1.657e+05  1.406e+02  1.245e+01\r",
      " 840  4.86e+01  1.657e+05  1.431e+02  1.239e+01\r",
      " 841  4.86e+01  1.657e+05  1.453e+02  1.235e+01\r"
     ]
    },
    {
     "name": "stdout",
     "output_type": "stream",
     "text": [
      " 842  4.87e+01  1.657e+05  1.472e+02  1.229e+01\r",
      " 843  4.87e+01  1.657e+05  1.487e+02  1.224e+01\r",
      " 844  4.88e+01  1.657e+05  1.500e+02  1.219e+01\r",
      " 845  4.88e+01  1.658e+05  1.509e+02  1.214e+01\r"
     ]
    },
    {
     "name": "stdout",
     "output_type": "stream",
     "text": [
      " 846  4.89e+01  1.658e+05  1.515e+02  1.210e+01\r",
      " 847  4.90e+01  1.658e+05  1.518e+02  1.207e+01\r",
      " 848  4.90e+01  1.658e+05  1.517e+02  1.205e+01\r",
      " 849  4.91e+01  1.658e+05  1.513e+02  1.204e+01\r"
     ]
    },
    {
     "name": "stdout",
     "output_type": "stream",
     "text": [
      " 850  4.91e+01  1.658e+05  1.506e+02  1.204e+01\n",
      " 851  4.92e+01  1.658e+05  1.495e+02  1.202e+01\r",
      " 852  4.93e+01  1.658e+05  1.482e+02  1.203e+01\r",
      " 853  4.93e+01  1.658e+05  1.465e+02  1.203e+01\r"
     ]
    },
    {
     "name": "stdout",
     "output_type": "stream",
     "text": [
      " 854  4.94e+01  1.658e+05  1.445e+02  1.202e+01\r",
      " 855  4.94e+01  1.658e+05  1.423e+02  1.201e+01\r",
      " 856  4.95e+01  1.658e+05  1.398e+02  1.202e+01\r",
      " 857  4.95e+01  1.659e+05  1.371e+02  1.203e+01\r"
     ]
    },
    {
     "name": "stdout",
     "output_type": "stream",
     "text": [
      " 858  4.96e+01  1.659e+05  1.342e+02  1.203e+01\r",
      " 859  4.96e+01  1.659e+05  1.311e+02  1.205e+01\r",
      " 860  4.97e+01  1.659e+05  1.278e+02  1.205e+01\r",
      " 861  4.98e+01  1.659e+05  1.243e+02  1.204e+01\r"
     ]
    },
    {
     "name": "stdout",
     "output_type": "stream",
     "text": [
      " 862  4.98e+01  1.659e+05  1.208e+02  1.203e+01\r",
      " 863  4.99e+01  1.659e+05  1.172e+02  1.203e+01\r",
      " 864  4.99e+01  1.659e+05  1.135e+02  1.202e+01\r",
      " 865  5.00e+01  1.659e+05  1.099e+02  1.201e+01\r"
     ]
    },
    {
     "name": "stdout",
     "output_type": "stream",
     "text": [
      " 866  5.00e+01  1.659e+05  1.062e+02  1.200e+01\r",
      " 867  5.01e+01  1.659e+05  1.027e+02  1.199e+01\r",
      " 868  5.01e+01  1.659e+05  9.920e+01  1.199e+01\r",
      " 869  5.02e+01  1.659e+05  9.591e+01  1.198e+01\r"
     ]
    },
    {
     "name": "stdout",
     "output_type": "stream",
     "text": [
      " 870  5.03e+01  1.659e+05  9.283e+01  1.197e+01\r",
      " 871  5.03e+01  1.659e+05  9.001e+01  1.195e+01\r",
      " 872  5.04e+01  1.659e+05  8.749e+01  1.194e+01\r",
      " 873  5.04e+01  1.659e+05  8.532e+01  1.193e+01\r"
     ]
    },
    {
     "name": "stdout",
     "output_type": "stream",
     "text": [
      " 874  5.05e+01  1.659e+05  8.354e+01  1.193e+01\r",
      " 875  5.05e+01  1.659e+05  8.217e+01  1.192e+01\r",
      " 876  5.06e+01  1.659e+05  8.124e+01  1.193e+01\r",
      " 877  5.06e+01  1.658e+05  8.076e+01  1.193e+01\r"
     ]
    },
    {
     "name": "stdout",
     "output_type": "stream",
     "text": [
      " 878  5.07e+01  1.658e+05  8.073e+01  1.192e+01\r",
      " 879  5.07e+01  1.658e+05  8.113e+01  1.191e+01\r",
      " 880  5.08e+01  1.658e+05  8.193e+01  1.190e+01\r",
      " 881  5.08e+01  1.658e+05  8.309e+01  1.188e+01\r"
     ]
    },
    {
     "name": "stdout",
     "output_type": "stream",
     "text": [
      " 882  5.09e+01  1.658e+05  8.457e+01  1.188e+01\r",
      " 883  5.10e+01  1.658e+05  8.632e+01  1.186e+01\r",
      " 884  5.10e+01  1.658e+05  8.830e+01  1.184e+01\r",
      " 885  5.11e+01  1.658e+05  9.044e+01  1.183e+01\r"
     ]
    },
    {
     "name": "stdout",
     "output_type": "stream",
     "text": [
      " 886  5.11e+01  1.657e+05  9.269e+01  1.181e+01\r",
      " 887  5.12e+01  1.657e+05  9.501e+01  1.180e+01\r",
      " 888  5.13e+01  1.657e+05  9.736e+01  1.178e+01\r",
      " 889  5.13e+01  1.657e+05  9.969e+01  1.177e+01\r"
     ]
    },
    {
     "name": "stdout",
     "output_type": "stream",
     "text": [
      " 890  5.14e+01  1.657e+05  1.020e+02  1.176e+01\r",
      " 891  5.14e+01  1.657e+05  1.042e+02  1.175e+01\r",
      " 892  5.15e+01  1.657e+05  1.062e+02  1.173e+01\r",
      " 893  5.16e+01  1.656e+05  1.082e+02  1.172e+01\r"
     ]
    },
    {
     "name": "stdout",
     "output_type": "stream",
     "text": [
      " 894  5.16e+01  1.656e+05  1.100e+02  1.171e+01\r",
      " 895  5.17e+01  1.656e+05  1.116e+02  1.169e+01\r",
      " 896  5.17e+01  1.656e+05  1.130e+02  1.168e+01\r",
      " 897  5.18e+01  1.656e+05  1.142e+02  1.166e+01\r"
     ]
    },
    {
     "name": "stdout",
     "output_type": "stream",
     "text": [
      " 898  5.18e+01  1.656e+05  1.152e+02  1.164e+01\r",
      " 899  5.19e+01  1.656e+05  1.160e+02  1.162e+01\r",
      " 900  5.20e+01  1.655e+05  1.166e+02  1.160e+01\n",
      " 901  5.20e+01  1.655e+05  1.169e+02  1.159e+01\r"
     ]
    },
    {
     "name": "stdout",
     "output_type": "stream",
     "text": [
      " 902  5.21e+01  1.655e+05  1.170e+02  1.158e+01\r",
      " 903  5.22e+01  1.655e+05  1.168e+02  1.155e+01\r",
      " 904  5.22e+01  1.655e+05  1.165e+02  1.152e+01\r",
      " 905  5.23e+01  1.655e+05  1.159e+02  1.149e+01\r"
     ]
    },
    {
     "name": "stdout",
     "output_type": "stream",
     "text": [
      " 906  5.23e+01  1.655e+05  1.151e+02  1.144e+01\r",
      " 907  5.24e+01  1.655e+05  1.141e+02  1.139e+01\r",
      " 908  5.24e+01  1.655e+05  1.129e+02  1.135e+01\r",
      " 909  5.25e+01  1.655e+05  1.115e+02  1.129e+01\r"
     ]
    },
    {
     "name": "stdout",
     "output_type": "stream",
     "text": [
      " 910  5.26e+01  1.655e+05  1.100e+02  1.124e+01\r",
      " 911  5.26e+01  1.654e+05  1.082e+02  1.119e+01\r",
      " 912  5.27e+01  1.654e+05  1.064e+02  1.114e+01\r",
      " 913  5.27e+01  1.654e+05  1.044e+02  1.108e+01\r"
     ]
    },
    {
     "name": "stdout",
     "output_type": "stream",
     "text": [
      " 914  5.28e+01  1.654e+05  1.022e+02  1.103e+01\r",
      " 915  5.28e+01  1.654e+05  1.000e+02  1.098e+01\r",
      " 916  5.29e+01  1.654e+05  9.770e+01  1.092e+01\r",
      " 917  5.29e+01  1.654e+05  9.534e+01  1.087e+01\r"
     ]
    },
    {
     "name": "stdout",
     "output_type": "stream",
     "text": [
      " 918  5.30e+01  1.654e+05  9.293e+01  1.082e+01\r",
      " 919  5.30e+01  1.654e+05  9.052e+01  1.077e+01\r",
      " 920  5.31e+01  1.654e+05  8.811e+01  1.072e+01\r",
      " 921  5.31e+01  1.654e+05  8.574e+01  1.067e+01\r"
     ]
    },
    {
     "name": "stdout",
     "output_type": "stream",
     "text": [
      " 922  5.32e+01  1.654e+05  8.343e+01  1.062e+01\r",
      " 923  5.33e+01  1.654e+05  8.121e+01  1.056e+01\r",
      " 924  5.33e+01  1.654e+05  7.911e+01  1.050e+01\r",
      " 925  5.34e+01  1.654e+05  7.716e+01  1.045e+01\r"
     ]
    },
    {
     "name": "stdout",
     "output_type": "stream",
     "text": [
      " 926  5.34e+01  1.654e+05  7.539e+01  1.039e+01\r",
      " 927  5.35e+01  1.654e+05  7.381e+01  1.032e+01\r",
      " 928  5.35e+01  1.654e+05  7.245e+01  1.026e+01\r",
      " 929  5.36e+01  1.654e+05  7.134e+01  1.020e+01\r"
     ]
    },
    {
     "name": "stdout",
     "output_type": "stream",
     "text": [
      " 930  5.36e+01  1.654e+05  7.048e+01  1.014e+01\r",
      " 931  5.37e+01  1.653e+05  6.988e+01  1.008e+01\r",
      " 932  5.38e+01  1.653e+05  6.954e+01  1.001e+01\r",
      " 933  5.38e+01  1.653e+05  6.947e+01  9.947e+00\r"
     ]
    },
    {
     "name": "stdout",
     "output_type": "stream",
     "text": [
      " 934  5.39e+01  1.653e+05  6.966e+01  9.880e+00\r",
      " 935  5.39e+01  1.653e+05  7.008e+01  9.811e+00\r",
      " 936  5.40e+01  1.653e+05  7.071e+01  9.745e+00\r",
      " 937  5.40e+01  1.653e+05  7.154e+01  9.676e+00\r"
     ]
    },
    {
     "name": "stdout",
     "output_type": "stream",
     "text": [
      " 938  5.41e+01  1.653e+05  7.253e+01  9.613e+00\r",
      " 939  5.41e+01  1.653e+05  7.366e+01  9.554e+00\r",
      " 940  5.42e+01  1.653e+05  7.489e+01  9.501e+00\r",
      " 941  5.43e+01  1.653e+05  7.620e+01  9.449e+00\r"
     ]
    },
    {
     "name": "stdout",
     "output_type": "stream",
     "text": [
      " 942  5.43e+01  1.653e+05  7.756e+01  9.399e+00\r",
      " 943  5.44e+01  1.653e+05  7.895e+01  9.348e+00\r",
      " 944  5.44e+01  1.653e+05  8.033e+01  9.300e+00\r",
      " 945  5.45e+01  1.653e+05  8.169e+01  9.261e+00\r"
     ]
    },
    {
     "name": "stdout",
     "output_type": "stream",
     "text": [
      " 946  5.45e+01  1.653e+05  8.301e+01  9.221e+00\r",
      " 947  5.46e+01  1.653e+05  8.426e+01  9.187e+00\r",
      " 948  5.46e+01  1.653e+05  8.544e+01  9.156e+00\r",
      " 949  5.47e+01  1.653e+05  8.653e+01  9.115e+00\r"
     ]
    },
    {
     "name": "stdout",
     "output_type": "stream",
     "text": [
      " 950  5.47e+01  1.654e+05  8.751e+01  9.077e+00\n",
      " 951  5.48e+01  1.654e+05  8.838e+01  9.035e+00\r",
      " 952  5.48e+01  1.654e+05  8.913e+01  9.005e+00\r",
      " 953  5.49e+01  1.654e+05  8.975e+01  8.972e+00\r"
     ]
    },
    {
     "name": "stdout",
     "output_type": "stream",
     "text": [
      " 954  5.50e+01  1.654e+05  9.023e+01  8.945e+00\r",
      " 955  5.50e+01  1.654e+05  9.057e+01  8.920e+00\r",
      " 956  5.51e+01  1.654e+05  9.077e+01  8.899e+00\r",
      " 957  5.51e+01  1.654e+05  9.082e+01  8.881e+00\r"
     ]
    },
    {
     "name": "stdout",
     "output_type": "stream",
     "text": [
      " 958  5.52e+01  1.654e+05  9.072e+01  8.862e+00\r",
      " 959  5.52e+01  1.654e+05  9.048e+01  8.848e+00\r",
      " 960  5.53e+01  1.654e+05  9.010e+01  8.835e+00\r",
      " 961  5.53e+01  1.654e+05  8.957e+01  8.819e+00\r"
     ]
    },
    {
     "name": "stdout",
     "output_type": "stream",
     "text": [
      " 962  5.54e+01  1.654e+05  8.890e+01  8.803e+00\r",
      " 963  5.54e+01  1.654e+05  8.810e+01  8.781e+00\r",
      " 964  5.55e+01  1.654e+05  8.718e+01  8.764e+00\r",
      " 965  5.55e+01  1.654e+05  8.614e+01  8.744e+00\r"
     ]
    },
    {
     "name": "stdout",
     "output_type": "stream",
     "text": [
      " 966  5.56e+01  1.654e+05  8.498e+01  8.726e+00\r",
      " 967  5.56e+01  1.654e+05  8.372e+01  8.706e+00\r",
      " 968  5.57e+01  1.655e+05  8.237e+01  8.688e+00\r",
      " 969  5.58e+01  1.655e+05  8.094e+01  8.669e+00\r"
     ]
    },
    {
     "name": "stdout",
     "output_type": "stream",
     "text": [
      " 970  5.59e+01  1.655e+05  7.943e+01  8.651e+00\r",
      " 971  5.60e+01  1.655e+05  7.787e+01  8.633e+00\r",
      " 972  5.60e+01  1.655e+05  7.626e+01  8.620e+00\r",
      " 973  5.61e+01  1.655e+05  7.462e+01  8.604e+00\r"
     ]
    },
    {
     "name": "stdout",
     "output_type": "stream",
     "text": [
      " 974  5.61e+01  1.655e+05  7.296e+01  8.585e+00\r",
      " 975  5.62e+01  1.655e+05  7.131e+01  8.565e+00\r",
      " 976  5.62e+01  1.655e+05  6.968e+01  8.548e+00\r",
      " 977  5.63e+01  1.655e+05  6.809e+01  8.524e+00\r"
     ]
    },
    {
     "name": "stdout",
     "output_type": "stream",
     "text": [
      " 978  5.63e+01  1.655e+05  6.656e+01  8.505e+00\r",
      " 979  5.64e+01  1.655e+05  6.510e+01  8.485e+00\r",
      " 980  5.64e+01  1.655e+05  6.374e+01  8.469e+00\r",
      " 981  5.65e+01  1.655e+05  6.249e+01  8.451e+00\r"
     ]
    },
    {
     "name": "stdout",
     "output_type": "stream",
     "text": [
      " 982  5.65e+01  1.655e+05  6.137e+01  8.432e+00\r",
      " 983  5.66e+01  1.655e+05  6.039e+01  8.410e+00\r",
      " 984  5.66e+01  1.655e+05  5.958e+01  8.392e+00\r",
      " 985  5.67e+01  1.655e+05  5.893e+01  8.370e+00\r"
     ]
    },
    {
     "name": "stdout",
     "output_type": "stream",
     "text": [
      " 986  5.68e+01  1.655e+05  5.846e+01  8.353e+00\r",
      " 987  5.68e+01  1.655e+05  5.816e+01  8.332e+00\r",
      " 988  5.69e+01  1.655e+05  5.805e+01  8.310e+00\r",
      " 989  5.69e+01  1.655e+05  5.810e+01  8.291e+00\r"
     ]
    },
    {
     "name": "stdout",
     "output_type": "stream",
     "text": [
      " 990  5.71e+01  1.655e+05  5.832e+01  8.282e+00\r",
      " 991  5.71e+01  1.655e+05  5.869e+01  8.268e+00\r",
      " 992  5.72e+01  1.655e+05  5.920e+01  8.256e+00\r",
      " 993  5.73e+01  1.655e+05  5.983e+01  8.244e+00\r"
     ]
    },
    {
     "name": "stdout",
     "output_type": "stream",
     "text": [
      " 994  5.73e+01  1.655e+05  6.056e+01  8.234e+00\r",
      " 995  5.74e+01  1.655e+05  6.138e+01  8.221e+00\r",
      " 996  5.74e+01  1.655e+05  6.227e+01  8.208e+00\r",
      " 997  5.75e+01  1.655e+05  6.321e+01  8.194e+00\r"
     ]
    },
    {
     "name": "stdout",
     "output_type": "stream",
     "text": [
      " 998  5.75e+01  1.655e+05  6.418e+01  8.182e+00\r",
      " 999  5.76e+01  1.655e+05  6.516e+01  8.168e+00\r\n"
     ]
    },
    {
     "name": "stdout",
     "output_type": "stream",
     "text": [
      "TV Restruction\n",
      "SNR: 22.04 (dB), MAE: 0.009\n"
     ]
    }
   ],
   "source": [
    "print(f\"Solving on {device_info()}\\n\")\n",
    "tangle_recon = solver.solve()\n",
    "hist = solver.itstat_object.history(transpose=True)\n",
    "\n",
    "print(\n",
    "    \"TV Restruction\\nSNR: %.2f (dB), MAE: %.3f\"\n",
    "    % (metric.snr(tangle, tangle_recon), metric.mae(tangle, tangle_recon))\n",
    ")"
   ]
  },
  {
   "cell_type": "markdown",
   "id": "dab8e383",
   "metadata": {},
   "source": [
    "Show the recovered image."
   ]
  },
  {
   "cell_type": "code",
   "execution_count": 5,
   "id": "9c994b37",
   "metadata": {
    "collapsed": false,
    "execution": {
     "iopub.execute_input": "2024-10-23T17:01:39.931713Z",
     "iopub.status.busy": "2024-10-23T17:01:39.931298Z",
     "iopub.status.idle": "2024-10-23T17:01:40.587067Z",
     "shell.execute_reply": "2024-10-23T17:01:40.586632Z"
    }
   },
   "outputs": [
    {
     "data": {
      "image/png": "[encoded data removed]",
      "text/plain": [
       "<Figure size 700x600 with 4 Axes>"
      ]
     },
     "metadata": {},
     "output_type": "display_data"
    }
   ],
   "source": [
    "fig, ax = plot.subplots(nrows=1, ncols=2, figsize=(7, 6))\n",
    "plot.imview(\n",
    "    tangle[32],\n",
    "    title=\"Ground truth (central slice)\",\n",
    "    cmap=plot.cm.Blues,\n",
    "    cbar=None,\n",
    "    fig=fig,\n",
    "    ax=ax[0],\n",
    ")\n",
    "plot.imview(\n",
    "    tangle_recon[32],\n",
    "    title=\"TV Reconstruction (central slice)\\nSNR: %.2f (dB), MAE: %.3f\"\n",
    "    % (metric.snr(tangle, tangle_recon), metric.mae(tangle, tangle_recon)),\n",
    "    cmap=plot.cm.Blues,\n",
    "    fig=fig,\n",
    "    ax=ax[1],\n",
    ")\n",
    "divider = make_axes_locatable(ax[1])\n",
    "cax = divider.append_axes(\"right\", size=\"5%\", pad=0.2)\n",
    "fig.colorbar(ax[1].get_images()[0], cax=cax, label=\"arbitrary units\")\n",
    "fig.show()"
   ]
  }
 ],
 "metadata": {
  "language_info": {
   "codemirror_mode": {
    "name": "ipython",
    "version": 3
   },
   "file_extension": ".py",
   "mimetype": "text/x-python",
   "name": "python",
   "nbconvert_exporter": "python",
   "pygments_lexer": "ipython3",
   "version": "3.12.2"
  }
 },
 "nbformat": 4,
 "nbformat_minor": 5
}
