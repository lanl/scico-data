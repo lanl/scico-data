{
 "cells": [
  {
   "cell_type": "markdown",
   "id": "3ebec67a",
   "metadata": {},
   "source": [
    "# Setup commands for the SCICO tutorial\n",
    "This notebook includes the commands you need to run to set up your Colab runtime\n",
    "so it is ready for the interactive SCICO tutorial.\n",
    "\n",
    "Run the cell below.\n",
    "\n",
    "If you get a popup with 'Warning: This notebook was not authored by Google.', select 'Run anyway'.\n",
    "You should see console outputs appearing.\n",
    "The install will take several minutes;\n",
    "when it is finished, you should see `Resolving deltas: 100% (187/187), done.`."
   ]
  },
  {
   "cell_type": "code",
   "execution_count": null,
   "id": "a37c1e12",
   "metadata": {
    "collapsed": false
   },
   "outputs": [],
   "source": [
    "!pip install -q condacolab\n",
    "import condacolab\n",
    "condacolab.install()\n",
    "\n",
    "!pip install git+https://github.com/lanl/scico@cristina/more-flax\n",
    "!pip install xdesign\n",
    "!conda install -c astra-toolbox astra-toolbox\n",
    "\n",
    "!git clone -b cristina-mike/tutorial https://github.com/lanl/scico-data.git"
   ]
  },
  {
   "cell_type": "markdown",
   "id": "9c48a74b",
   "metadata": {},
   "source": [
    "To test your installation, run the cell below.\n",
    "\n",
    "If you get no errors and a figure of some cells appears,\n",
    "you installation succeeded.\n",
    "If you get errors or see nothing, contact the instructors:\n",
    "`cgarciac@lanl.gov` and `mccann@lanl.gov`."
   ]
  },
  {
   "cell_type": "code",
   "execution_count": null,
   "id": "da0c53d0",
   "metadata": {
    "collapsed": false
   },
   "outputs": [],
   "source": [
    "%cd /content/scico-data/notebooks/tutorial\n",
    "\n",
    "import matplotlib.pyplot as plt\n",
    "import scico\n",
    "from scico import plot\n",
    "\n",
    "from tutorial_funcs import load_y1\n",
    "\n",
    "plot.config_notebook_plotting()  # set up plotting\n",
    "\n",
    "y1 = load_y1()\n",
    "fig, ax = plt.subplots()\n",
    "ax.imshow(y1)\n",
    "ax.set_title(\"$y_1$\")\n",
    "fig.show()"
   ]
  }
 ],
 "metadata": {},
 "nbformat": 4,
 "nbformat_minor": 5
}
