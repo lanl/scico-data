{
 "cells": [
  {
   "cell_type": "markdown",
   "id": "7787dc31",
   "metadata": {},
   "source": [
    "# Example: Data-Driven Priors for Inverse Problems\n",
    "\n",
    "In this example,\n",
    " we will explore how to use CNN models as data-driven priors in a SCICO pipeline for performing computed tomography (CT) reconstruction."
   ]
  },
  {
   "cell_type": "markdown",
   "id": "74a8ee0e",
   "metadata": {},
   "source": [
    "## Setup\n",
    "To set up your environment, run the cell below.\n",
    "\n",
    "If you get a popup with 'Warning: This notebook was not authored by Google.', select 'Run anyway'.\n",
    "You should see console outputs appearing.\n",
    "The install may take several minutes;\n",
    "when it is finished, you should see `==done with install==`."
   ]
  },
  {
   "cell_type": "code",
   "execution_count": null,
   "id": "85accd10",
   "metadata": {
    "collapsed": false
   },
   "outputs": [],
   "source": [
    "!pip install -q condacolab\n",
    "import condacolab\n",
    "\n",
    "condacolab.install()\n",
    "\n",
    "!pip install git+https://github.com/lanl/scico@cristina/more-flax\n",
    "!pip install xdesign\n",
    "!conda install -c astra-toolbox astra-toolbox\n",
    "\n",
    "print('==done with install==')"
   ]
  },
  {
   "cell_type": "markdown",
   "id": "4c1b77d3",
   "metadata": {},
   "source": [
    "## Introduction\n",
    "\n",
    "Suppose that you are performing CT scans of many similar objects\n",
    " and want to construct a pipeline to rapidly compute the reconstruction\n",
    " of each new measurement.\n",
    "For this example, we will use computer-generated foam images\n",
    "as the objects we want to image.\n",
    "Run the next cell to generate and visualize one of such foams."
   ]
  },
  {
   "cell_type": "code",
   "execution_count": null,
   "id": "af88409b",
   "metadata": {
    "collapsed": false
   },
   "outputs": [],
   "source": [
    "import numpy as np\n",
    "\n",
    "import matplotlib.pyplot as plt\n",
    "from xdesign import Foam, discrete_phantom\n",
    "\n",
    "from scico import plot\n",
    "\n",
    "plot.config_notebook_plotting()  # set up plotting\n",
    "plt.rcParams[\"image.cmap\"] = \"gray\"  # set default colormap\n",
    "\n",
    "np.random.seed(7654)\n",
    "\n",
    "N = 256  # image size\n",
    "x_fm = discrete_phantom(Foam(size_range=[0.075, 0.0025], gap=1e-3, porosity=1), size=N)\n",
    "x_gt = x_fm / np.max(x_fm)\n",
    "x_gt = np.clip(x_gt, 0, 1.0)\n",
    "\n",
    "# Plot signal\n",
    "fig, ax = plt.subplots()\n",
    "ax.imshow(x_gt)\n",
    "ax.set_title(\"Foam\")\n",
    "fig.show()"
   ]
  },
  {
   "cell_type": "markdown",
   "id": "6cbbe8e7",
   "metadata": {},
   "source": [
    "This image shows one foam,\n",
    " but data-driven pipelines assume that you have access to a wealth of relevant data.\n",
    " Let's generate several different foams to use in our CT reconstruction pipeline.\n",
    " Since we are interested in CT reconstruction, we need to generate both images and sinograms.\n",
    "\n",
    "SCICO provides CT projectors based on Python libraries such as ASTRA and SVMBIR. In this case we will use the\n",
    "ASTRA interface (see https://scico.readthedocs.io/en/latest/_autosummary/scico.linop.radon_astra.html).\n",
    "\n",
    "**Define an ASTRA SCICO CT projector assuming 45 equally spaced projections.**"
   ]
  },
  {
   "cell_type": "code",
   "execution_count": null,
   "id": "c460508e",
   "metadata": {
    "collapsed": false
   },
   "outputs": [],
   "source": [
    "n_projection = ...  # number of projections\n",
    "angles = ...\n",
    "A = ..."
   ]
  },
  {
   "cell_type": "markdown",
   "id": "804c0f27",
   "metadata": {},
   "source": [
    "Machine learning algorithms are typically very sensitive to the scaling of their inputs.\n",
    "For this reason, we normalize the operator `A` by the dimension of the image,\n",
    "which, for this operator, makes $ ||Ax|| \\approx ||x||$."
   ]
  },
  {
   "cell_type": "code",
   "execution_count": null,
   "id": "fc3ac3a3",
   "metadata": {
    "collapsed": false
   },
   "outputs": [],
   "source": [
    "A = A / N"
   ]
  },
  {
   "cell_type": "markdown",
   "id": "256e33f8",
   "metadata": {},
   "source": [
    "**Test your operator by computing the sinogram of the generated foam and plotting your results.**"
   ]
  },
  {
   "cell_type": "code",
   "execution_count": null,
   "id": "59def9e5",
   "metadata": {
    "collapsed": false
   },
   "outputs": [],
   "source": [
    "from mpl_toolkits.axes_grid1 import make_axes_locatable\n",
    "\n",
    "sino = ...\n",
    "\n",
    "fig, ax = plot.subplots(nrows=1, ncols=2, figsize=(15, 5))\n",
    "plot.imview(..., title=\"Ground truth\", cbar=None, fig=fig, ax=ax[0])\n",
    "plot.imview(\n",
    "    ...,\n",
    "    title=\"Sinogram\",\n",
    "    cbar=None,\n",
    "    fig=fig,\n",
    "    ax=ax[1],\n",
    ")\n",
    "divider = make_axes_locatable(ax[1])\n",
    "cax = divider.append_axes(\"right\", size=\"5%\", pad=0.2)\n",
    "fig.colorbar(ax[1].get_images()[0], cax=cax, label=\"arbitrary units\")\n",
    "fig.show()"
   ]
  },
  {
   "cell_type": "markdown",
   "id": "6ac9b2eb",
   "metadata": {},
   "source": [
    "Now, we repeat the proces to generate at least 24 different (foam, sinogram) pairs.\n",
    " **Start by generating the foams.**\n",
    "You'll need to make sure that you return an `ndarray`, not a `list`.\n",
    "The function `np.stack` may be useful for that."
   ]
  },
  {
   "cell_type": "code",
   "execution_count": null,
   "id": "2b833ed7",
   "metadata": {
    "collapsed": false
   },
   "outputs": [],
   "source": [
    "nfoams = ...\n",
    "foam_collection = ..."
   ]
  },
  {
   "cell_type": "markdown",
   "id": "0520309e",
   "metadata": {},
   "source": [
    "Run the next cell to plot the generated foams."
   ]
  },
  {
   "cell_type": "code",
   "execution_count": null,
   "id": "c0f11095",
   "metadata": {
    "collapsed": false
   },
   "outputs": [],
   "source": [
    "nrows = 4\n",
    "ncols = 6\n",
    "fig, ax = plot.subplots(nrows=nrows, ncols=ncols, figsize=(15, 10))\n",
    "for i in range(nrows):\n",
    "    for j in range(ncols):\n",
    "        plot.imview(foam_collection[i * ncols + j], cbar=None, fig=fig, ax=ax[i, j])\n",
    "    divider = make_axes_locatable(ax[i, j])\n",
    "    cax = divider.append_axes(\"right\", size=\"5%\", pad=0.2)\n",
    "    fig.colorbar(ax[i, j].get_images()[0], cax=cax, label=\"arbitrary units\")\n",
    "fig.show()"
   ]
  },
  {
   "cell_type": "markdown",
   "id": "6989ce39",
   "metadata": {},
   "source": [
    "Let's use parallel computation to accelerate the sinogram generation.\n",
    "Distributing processing among GPUs on the same node happens automatically in JAX,\n",
    " but for CPUs, JAX only uses one core by default.\n",
    "The following commands force JAX to use 8 CPU cores.\n",
    " (If GPUs are available, the command will be ignored)"
   ]
  },
  {
   "cell_type": "code",
   "execution_count": null,
   "id": "558d3573",
   "metadata": {
    "collapsed": false
   },
   "outputs": [],
   "source": [
    "import os\n",
    "\n",
    "import jax\n",
    "\n",
    "os.environ[\"XLA_FLAGS\"] = \"--xla_force_host_platform_device_count=8\"\n",
    "platform = jax.lib.xla_bridge.get_backend().platform\n",
    "print(\"Platform: \", platform)"
   ]
  },
  {
   "cell_type": "markdown",
   "id": "1bcfa97b",
   "metadata": {},
   "source": [
    "For purely jax functionality, a distributed processing can be computed via `jax.vmap`. However, the CT operator uses a python (not JAX) library.\n",
    "In that case we can distribute the processing via `jax.lax`. Run the next cell to distribute the computation of the sinograms."
   ]
  },
  {
   "cell_type": "code",
   "execution_count": null,
   "id": "b9f3deda",
   "metadata": {
    "collapsed": false
   },
   "outputs": [],
   "source": [
    "sino_collection = jax.lax.map(lambda x: A @ x, foam_collection)"
   ]
  },
  {
   "cell_type": "markdown",
   "id": "96a15e87",
   "metadata": {},
   "source": [
    "**Check the shape of the result.**"
   ]
  },
  {
   "cell_type": "code",
   "execution_count": null,
   "id": "a363f13b",
   "metadata": {
    "collapsed": false
   },
   "outputs": [],
   "source": [
    "..."
   ]
  },
  {
   "cell_type": "markdown",
   "id": "8c9e2140",
   "metadata": {},
   "source": [
    "**Explain the shape of `sino_collection`**"
   ]
  },
  {
   "cell_type": "markdown",
   "id": "921b37c4",
   "metadata": {},
   "source": [
    "The shape corresponds to ..."
   ]
  },
  {
   "cell_type": "markdown",
   "id": "b0bbdff7",
   "metadata": {},
   "source": [
    "You are done with part 1. Please report back in the Webex chat: **done with part 1**.\n",
    "\n",
    "While you wait for others to finish, you could explore other SCICO linear operators that can be used to transform image data, e.g., `Convolve`.\n",
    "\n",
    "🛑 **PAUSE HERE** 🛑"
   ]
  },
  {
   "cell_type": "markdown",
   "id": "f760cd91",
   "metadata": {},
   "source": [
    "# Solving a regularized reconstruction: Data-Driven Priors\n",
    "\n",
    "When there is an explicit representation of the forward model, the signal reconstruction can be posed as\n",
    "a regularized least squares problem\n",
    "\n",
    "$$ \\min_\\mathbf{x} \\| \\mathbf{y} - A \\mathbf{x} \\|_2^2 + \\, \\lambda \\, r(\\mathbf{x}).$$\n",
    "\n",
    "For example, in the CT case, the forward model $A$ is the CT projector, the measurements are the sinograms $y$ and\n",
    "the solution $x$ represents the signal reconstruction. The constant $\\lambda > 0$, establishes the trade-off\n",
    "between the fidelity to the measurements and the regularization of the solution represented as $r(x)$.\n",
    "\n",
    "In many cases, the regularization is necessary to find a meaningful solution for ill-posed problems. The difficulty\n",
    "arises in specifying an efficient regularization criterion. Functions like TV are adequate for piece-wise constant\n",
    "solutions, but may be not expressive enough for more general cases. Frameworks like plug-and-play priors provide\n",
    "a convenient alternative for cases when denoisers implement appropriate artifact removal. A complementary\n",
    "strategy is to unroll the iterative optimization process and build a neural network model that can be trained\n",
    "end-to-end. This kind of pipeline also offers the benefit of rapid evaluation in deployment, although its\n",
    "performance will depend on the training data, as is usually the case in machine learning models.\n",
    "\n",
    "The following diagram illustrates the kind of ML structure we will be training for the CT reconstruction:\n",
    "\n",
    "![Unrolled end-to-end](../../examples/tutorial/unrolled.png \"Unrolled end-to-end\")\n",
    "\n",
    "In the diagram, the green blocks correspond to a denoiser, generally a residual convolutional neural network, and are trainable. The red blocks correspond to a data consistency block and use the forward and adjoint operators. We will be constructing and training one such unrolled model."
   ]
  },
  {
   "cell_type": "markdown",
   "id": "d5910658",
   "metadata": {},
   "source": [
    "For this tutorial we will use the MoDL architecture.\n",
    "\n",
    "The class [flax.MoDLNet](../_autosummary/scico.learning.rst#scico.learning.MoDL)\n",
    " implements the MoDL architecture, which unrolls the optimization problem\n",
    "\n",
    "  $$\\mathrm{argmin}_{\\mathbf{x}} \\; \\| A \\mathbf{x} - \\mathbf{y} \\|_2^2 + \\lambda \\, \\| \\mathbf{x} - \\mathrm{D}_w(\\mathbf{x})\\|_2^2 \\;,$$\n",
    "\n",
    "where $A$ is a forward operator, in this case a CT projector, $\\mathbf{y}$ is a set of measurements, in this case a collection of sinograms, $\\mathrm{D}_w$ is the\n",
    " regularization (a denoiser), and $\\mathbf{x}$ is the set of reconstructed images.\n",
    "  The MoDL abstracts the iterative solution by an unrolled network where each iteration corresponds\n",
    "  to a different stage in the MoDL network and updates the prediction by solving\n",
    "\n",
    "  $$\\mathbf{x}^{k+1} = (A^T A + \\lambda \\, \\mathbf{I})^{-1} (A^T \\mathbf{y} + \\lambda \\, \\mathbf{z}^k) \\;,$$\n",
    "\n",
    "via conjugate gradient. In the expression, $k$ is the index of the stage (iteration),\n",
    " $\\mathbf{z}^k = \\mathrm{ResNet}(\\mathbf{x}^{k})$ is the regularization\n",
    " (a denoiser implemented as a residual convolutional neural network), $\\mathbf{x}^k$ is the output\n",
    "  of the previous stage, $\\lambda > 0$\n",
    "  is a learned regularization parameter, and $\\mathbf{I}$ is the identity operator.\n",
    "  The output of the final stage is the reconstructed image."
   ]
  },
  {
   "cell_type": "markdown",
   "id": "057ea1b6",
   "metadata": {},
   "source": [
    "## Constructing the Data Sets\n",
    "\n",
    "Machine learning processing for images in Flax assumes the following data shape: $(K, H, W, C)$\n",
    "\n",
    "- $K$ is the number of image samples\n",
    "- $H$ is the height of the images\n",
    "- $W$ is the width of the images\n",
    "- $C$ is the number of channels of the images (e.g. 1 for grayscale images, 3 for color images)\n",
    "\n",
    "**Reformat the training data to have the expected Flax shape.**"
   ]
  },
  {
   "cell_type": "code",
   "execution_count": null,
   "id": "f9a92ef4",
   "metadata": {
    "collapsed": false
   },
   "outputs": [],
   "source": [
    "foam_collection = foam_collection.reshape(...)\n",
    "sino_collection = sino_collection.reshape(...)"
   ]
  },
  {
   "cell_type": "markdown",
   "id": "d6582d09",
   "metadata": {},
   "source": [
    "SCICO passes the data to the ML models as a dictionary, with the `image` key to define the input and the `label` key to define the expected output. In other words, (`image`, `label`) define the pair needed for supervised training.\n",
    "\n",
    "**Construct training and testing partitions for the CT reconstuction problem**. Use the first 16 images for training and the rest for testing. Remember that in the CT problem you want to reconstruct images from sinograms."
   ]
  },
  {
   "cell_type": "code",
   "execution_count": null,
   "id": "5bef95d9",
   "metadata": {
    "collapsed": false
   },
   "outputs": [],
   "source": [
    "train_ds = {}\n",
    "test_ds = {}"
   ]
  },
  {
   "cell_type": "markdown",
   "id": "3a7b9ad8",
   "metadata": {},
   "source": [
    "## Configuring the ML model and its training\n",
    "\n",
    "SCICO configures both model and training via dictionaries too. An example of configuration dictionaries with the corresponding definitions is shown next.\n",
    "\n",
    "Run the next cell to build the configuration dictionaries."
   ]
  },
  {
   "cell_type": "code",
   "execution_count": null,
   "id": "8e6816c7",
   "metadata": {
    "collapsed": false
   },
   "outputs": [],
   "source": [
    "# Model configuration\n",
    "model_conf = {\n",
    "    \"depth\": 2,  # Number of layers (=iterations) in the unrolled ML model\n",
    "    \"num_filters\": 16,  # Number of filters in the denoiser\n",
    "    \"block_depth\": 3,  # Number of layers in the denoiser\n",
    "}\n",
    "\n",
    "# Training configuration\n",
    "train_conf = {\n",
    "    \"seed\": 100,  # Seed for random generation\n",
    "    \"opt_type\": \"ADAM\",  # Optimization (other available options: SGD, ADAMW)\n",
    "    \"batch_size\": 8,  # Number of samples to include in each batch\n",
    "    \"num_epochs\": 50,  # Number of training epochs\n",
    "    \"base_learning_rate\": 1e-2,  # Base learning rate\n",
    "    \"warmup_epochs\": 0,  # Iterations to reach the base learning rate (if a scheduler is specified)\n",
    "    \"log_every_steps\": 5,  # Frequency of reporting training stats, given in units of training steps\n",
    "    \"checkpointing\": False,  # Checkpoint stats during training\n",
    "    \"log\": True,  # Display training messages and statistics\n",
    "}"
   ]
  },
  {
   "cell_type": "markdown",
   "id": "5d0b2c62",
   "metadata": {},
   "source": [
    "## Constructing the ML model\n",
    "\n",
    "SCICO ML functionality is based on FLAX (see https://flax.readthedocs.io/en/latest/overview.html). Frequently used models are provided in SCICO.\n",
    "\n",
    "Run the next cell to import the Flax functionality in SCICO."
   ]
  },
  {
   "cell_type": "code",
   "execution_count": null,
   "id": "2a4428a7",
   "metadata": {
    "collapsed": false
   },
   "outputs": [],
   "source": [
    "from scico import flax as sflax"
   ]
  },
  {
   "cell_type": "markdown",
   "id": "20f8803f",
   "metadata": {},
   "source": [
    "**Look how to construct a MoDL model in the SCICO documentation and construct it.** Use the parameters already defined, but use 1 as depth."
   ]
  },
  {
   "cell_type": "code",
   "execution_count": null,
   "id": "6eb8c64b",
   "metadata": {
    "collapsed": false
   },
   "outputs": [],
   "source": [
    "channels = ...\n",
    "model = sflax.MoDLNet(...)"
   ]
  },
  {
   "cell_type": "markdown",
   "id": "f632b454",
   "metadata": {},
   "source": [
    "You are done with part 2. Please report back in the Webex chat: **done with part 2**.\n",
    "\n",
    "While you wait for others to finish, explore other ML models available in SCICO.\n",
    "\n",
    "🛑 **PAUSE HERE** 🛑"
   ]
  },
  {
   "cell_type": "markdown",
   "id": "f0ed433f",
   "metadata": {},
   "source": [
    "# Training the MoDL model\n",
    "\n",
    "$\\lambda$, the regularization parameter in MoDL, is also learned in the training process. However, it is important that it remains positive.\n",
    "\n",
    "Run the next cell to build the structure necessary to assure that the training will respect such constraint."
   ]
  },
  {
   "cell_type": "code",
   "execution_count": null,
   "id": "2b2315d8",
   "metadata": {
    "collapsed": false
   },
   "outputs": [],
   "source": [
    "from functools import partial\n",
    "\n",
    "from scico.flax.train.train import clip_positive, construct_traversal\n",
    "\n",
    "lmbdatrav = construct_traversal(\n",
    "    \"lmbda\"\n",
    ")  # Functionality to get parameter to constraint inside model\n",
    "lmbdapos = partial(\n",
    "    clip_positive,  # Type of constraint to apply, here positivity constraint\n",
    "    traversal=lmbdatrav, # Operate over lmbda parameters\n",
    "    minval=5e-4,  # Minimum value to accept when enforcing the positivity constraint\n",
    ")\n",
    "\n",
    "train_conf[\"post_lst\"] = [lmbdapos]  # Constraints to model parameters"
   ]
  },
  {
   "cell_type": "markdown",
   "id": "57b284a0",
   "metadata": {},
   "source": [
    "Now that we have all the structures needed for training: a data set, a model, and parameter constraints, we can use SCICO to train the model.\n",
    "\n",
    "All the training in SCICO is carried out through the `BasicFlaxTrainer` class. The following cell shows how to instantiate an object of that class. It uses an MSE loss function as minimization criterion by default (so it is not necessary to pass it explicitly). Look into the documentation and compare with the arguments provided.\n",
    "\n",
    "Run the next cell to train the model for the number of epochs specified. Check the output being produced. It corresponds, first, to the variables of the model and, next, to the training statistics. If it is taking too long, you can try to train for less epochs or use less layers in the model."
   ]
  },
  {
   "cell_type": "code",
   "execution_count": null,
   "id": "326c0fa6",
   "metadata": {
    "collapsed": false
   },
   "outputs": [],
   "source": [
    "from time import time\n",
    "\n",
    "trainer = sflax.BasicFlaxTrainer(\n",
    "    train_conf,  # Dictionary with training configuration\n",
    "    model,  # Model to train\n",
    "    train_ds,  # Data set for training (image-label dictionary)\n",
    "    test_ds,  # Data set for testing (image-label dictionary)\n",
    ")\n",
    "start_time = time()\n",
    "modvar, stats_object_ini = trainer.train()\n",
    "time_train = time() - start_time\n",
    "print(f\"Time train [s]: {time_train}\")"
   ]
  },
  {
   "cell_type": "markdown",
   "id": "d9d9acd3",
   "metadata": {},
   "source": [
    "Run the next cell to plot the training statistics."
   ]
  },
  {
   "cell_type": "code",
   "execution_count": null,
   "id": "28016fc4",
   "metadata": {
    "collapsed": false
   },
   "outputs": [],
   "source": [
    "hist = stats_object_ini.history(transpose=True)\n",
    "fig, ax = plot.subplots(nrows=1, ncols=2, figsize=(12, 5))\n",
    "plot.plot(\n",
    "    np.vstack((hist.Train_Loss, hist.Eval_Loss)).T,\n",
    "    x=hist.Epoch,\n",
    "    ptyp=\"semilogy\",\n",
    "    title=\"Loss function\",\n",
    "    xlbl=\"Epoch\",\n",
    "    ylbl=\"Loss value\",\n",
    "    lgnd=(\"Train\", \"Test\"),\n",
    "    fig=fig,\n",
    "    ax=ax[0],\n",
    ")\n",
    "\n",
    "plot.plot(\n",
    "    np.vstack((hist.Train_SNR, hist.Eval_SNR)).T,\n",
    "    x=hist.Epoch,\n",
    "    title=\"Metric\",\n",
    "    xlbl=\"Epoch\",\n",
    "    ylbl=\"SNR (dB)\",\n",
    "    lgnd=(\"Train\", \"Test\"),\n",
    "    fig=fig,\n",
    "    ax=ax[1],\n",
    ")\n",
    "fig.show()"
   ]
  },
  {
   "cell_type": "markdown",
   "id": "5d2bf4f1",
   "metadata": {},
   "source": [
    "The MoDL architecture shares the parameters between the different iteration layers. The previous training was the initialization and used only one layer (corresponding to only unrolling one iteration of the optimization computation). Now we can train the model with the specified depth (from `model_conf`).\n",
    "\n",
    "**Repeat the training process**, but this time use the configured depth, 10 cg iterations and initialize with the current model parameters. Train for 10 epochs.\n",
    "In addition, set an exponentially decaying learning rate by\n",
    " adding a `create_lr_schedule` and a decay rate of 0.95 to the training configuration dictionary. Create a new trainer object. Make sure you pass the parameter `variables0=modvar` when initializing the object to start training with your pretrained weights."
   ]
  },
  {
   "cell_type": "code",
   "execution_count": null,
   "id": "dd33bce9",
   "metadata": {
    "collapsed": false
   },
   "outputs": [],
   "source": [
    "from scico.flax.train.train import create_exp_lr_schedule\n",
    "\n",
    "model.depth = ...\n",
    "model.cg_iter = ...\n",
    "train_conf[\"num_epochs\"] = ...\n",
    "train_conf[\"lr_decay_rate\"] = ...\n",
    "train_conf[\"create_lr_schedule\"] = ...\n",
    "train_conf[\"post_lst\"] = ...\n",
    "\n",
    "trainer = ...\n",
    "start_time = time()\n",
    "modvar, stats_object = ...\n",
    "time_train = time() - start_time\n",
    "print(f\"Time train [s]: {time_train}\")"
   ]
  },
  {
   "cell_type": "markdown",
   "id": "b5d5452a",
   "metadata": {},
   "source": [
    "Plot the training stats for this last training."
   ]
  },
  {
   "cell_type": "code",
   "execution_count": null,
   "id": "d7acc36a",
   "metadata": {
    "collapsed": false
   },
   "outputs": [],
   "source": [
    "..."
   ]
  },
  {
   "cell_type": "markdown",
   "id": "3ee6f376",
   "metadata": {},
   "source": [
    "You are done with part 3. Please report back in the Webex chat: **done with part 3**.\n",
    "\n",
    "While you wait for others to finish, think of things you could try\n",
    " to improve the performance of MoDL for CT reconstruction.\n",
    "\n",
    "🛑 **PAUSE HERE** 🛑"
   ]
  },
  {
   "cell_type": "markdown",
   "id": "a2d5960b",
   "metadata": {},
   "source": [
    "# Deploying a trained model\n",
    "\n",
    "If all you need to do is to apply a trained model, SCICO provides the `FlaxMap` class. This also allows you to connect trained models to other SCICO functionality.\n",
    "\n",
    "Run the next cell to see the trained model applied to the testing set."
   ]
  },
  {
   "cell_type": "code",
   "execution_count": null,
   "id": "8b0dc040",
   "metadata": {
    "collapsed": false
   },
   "outputs": [],
   "source": [
    "start_time = time()\n",
    "fmap = sflax.FlaxMap(model, modvar)\n",
    "output = fmap(test_ds[\"image\"])\n",
    "time_eval = time() - start_time\n",
    "output = np.clip(output, a_min=0, a_max=1.0)"
   ]
  },
  {
   "cell_type": "markdown",
   "id": "2a9d5b68",
   "metadata": {},
   "source": [
    "Use the SCICO documentation to figure out how to compute SNR and MAE for the reconstructions obtained with MoDL.\n",
    "You might start looking in https://scico.readthedocs.io/en/latest/_autosummary/scico.metric.html."
   ]
  },
  {
   "cell_type": "code",
   "execution_count": null,
   "id": "d7ea09a3",
   "metadata": {
    "collapsed": false
   },
   "outputs": [],
   "source": [
    "from scico import metric\n",
    "\n",
    "snr_eval = ...\n",
    "mae_eval = ...\n",
    "print(f\"SNR [dB]: {snr_eval}\")\n",
    "print(f\"MAE: {mae_eval}\")"
   ]
  },
  {
   "cell_type": "markdown",
   "id": "2204e2f4",
   "metadata": {},
   "source": [
    "Run the next cell to check one of the testing results."
   ]
  },
  {
   "cell_type": "code",
   "execution_count": null,
   "id": "2227ab6d",
   "metadata": {
    "collapsed": false
   },
   "outputs": [],
   "source": [
    "np.random.seed(543)\n",
    "indx = np.random.randint(0, high=8)\n",
    "\n",
    "fig, ax = plot.subplots(nrows=1, ncols=3, figsize=(15, 5))\n",
    "plot.imview(test_ds[\"label\"][indx, ..., 0], title=\"Ground truth\", cbar=None, fig=fig, ax=ax[0])\n",
    "plot.imview(\n",
    "    test_ds[\"image\"][indx, ..., 0],\n",
    "    title=\"Sinogram\",\n",
    "    cbar=None,\n",
    "    fig=fig,\n",
    "    ax=ax[1],\n",
    ")\n",
    "plot.imview(\n",
    "    output[indx, ..., 0],\n",
    "    title=\"MoDL Reconstruction\\nSNR: %.2f (dB), MAE: %.3f\"\n",
    "    % (\n",
    "        metric.snr(test_ds[\"label\"][indx, ..., 0], output[indx, ..., 0]),\n",
    "        metric.mae(test_ds[\"label\"][indx, ..., 0], output[indx, ..., 0]),\n",
    "    ),\n",
    "    fig=fig,\n",
    "    ax=ax[2],\n",
    ")\n",
    "divider = make_axes_locatable(ax[2])\n",
    "cax = divider.append_axes(\"right\", size=\"5%\", pad=0.2)\n",
    "fig.colorbar(ax[2].get_images()[0], cax=cax, label=\"arbitrary units\")\n",
    "fig.show()"
   ]
  },
  {
   "cell_type": "markdown",
   "id": "0a0af0bd",
   "metadata": {},
   "source": [
    "## Conclusion\n",
    "This tutorial has shown how to set up\n",
    "a SCICO pipeline for performing computed tomography (CT) reconstruction using data-driven priors. In doing so, it has demonstrated SCICO functionality to build and train ML models for imaging problems. The functionality is based on FLAX and provides a  straightforward pipeline for other ML applications."
   ]
  },
  {
   "cell_type": "markdown",
   "id": "cec78e65",
   "metadata": {},
   "source": [
    "You are done with this tutorial! Please report back in the Webex chat: **done with the CNN tutorial**.\n",
    "\n",
    "While you wait for others to finish, you could think of similar problems you may want to solve with SCICO.\n",
    "We would be happy to talk with you about using SCICO in your own work!"
   ]
  }
 ],
 "metadata": {},
 "nbformat": 4,
 "nbformat_minor": 5
}
