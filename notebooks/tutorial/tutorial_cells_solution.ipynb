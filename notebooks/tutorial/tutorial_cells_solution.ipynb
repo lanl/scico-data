{
 "cells": [
  {
   "cell_type": "markdown",
   "id": "667a008b",
   "metadata": {},
   "source": [
    "# Example: Nonuniform Illumination\n",
    "This example demonstrates defining a linear operator and solving a least squares problem in SCICO."
   ]
  },
  {
   "cell_type": "markdown",
   "id": "1960506c",
   "metadata": {},
   "source": [
    "## Setup\n",
    "To set up your environment, run the cell below.\n",
    "\n",
    "If you get a popup with 'Warning: This notebook was not authored by Google.', select 'Run anyway'.\n",
    "You should see console outputs appearing.\n",
    "The install may take several minutes;\n",
    "when it is finished, you should see `==done with install==`."
   ]
  },
  {
   "cell_type": "code",
   "execution_count": null,
   "id": "a48da293",
   "metadata": {
    "collapsed": false
   },
   "outputs": [],
   "source": [
    "!pip install git+https://github.com/lanl/scico@cristina-mike/tutorial\n",
    "!git clone -b cristina-mike/tutorial https://github.com/lanl/scico-data.git\n",
    "print('==done with install==')"
   ]
  },
  {
   "cell_type": "markdown",
   "id": "62f25252",
   "metadata": {},
   "source": [
    "## Introduction\n",
    "You set up a new microscope in your lab and take a brightfield image, which we'll call $y_1$.\n",
    "\n",
    "Run the next cell to see $y_1$."
   ]
  },
  {
   "cell_type": "code",
   "execution_count": null,
   "id": "c410762a",
   "metadata": {
    "collapsed": false
   },
   "outputs": [],
   "source": [
    "%cd /content/scico-data/notebooks/tutorial\n",
    "\n",
    "import matplotlib.pyplot as plt\n",
    "\n",
    "plt.rcParams[\"image.cmap\"] = \"gray\"  # set default colormap\n",
    "\n",
    "from tutorial_funcs import load_y1\n",
    "\n",
    "y1 = load_y1()\n",
    "\n",
    "print(f\"The shape of y1 is {y1.shape}\")\n",
    "\n",
    "fig, ax = plt.subplots()\n",
    "ax.imshow(y1)\n",
    "ax.set_title(\"$y_1$\")\n",
    "fig.show()"
   ]
  },
  {
   "cell_type": "markdown",
   "id": "2afba951",
   "metadata": {},
   "source": [
    "The image looks good, except for a distracting bright spot in the upper-left corner.\n",
    "Based on your knowledge of this microscope,\n",
    "you suspect that this spot comes from an additive nonuniform illumation,\n",
    "$$y_1 = x_1 + w,$$\n",
    "where $x_1$ is the unknown image and $w$ is the unknown illumination.\n",
    "\n",
    "You want to estimate $x_1$ and $w$ from $y_1$, but the problem as is is hopelessly underdetermined:\n",
    "$350x350$ measurements and $2x350x350$ unknowns.\n",
    "You have the idea to move the slide to the left and take another image, $y_2$.\n",
    "\n",
    "Run the next cell to see $y_1$ and $y_2$."
   ]
  },
  {
   "cell_type": "code",
   "execution_count": null,
   "id": "6365641c",
   "metadata": {
    "collapsed": false
   },
   "outputs": [],
   "source": [
    "from tutorial_funcs import load_ys\n",
    "\n",
    "y1, y2 = load_ys()\n",
    "\n",
    "fig, ax = plt.subplots()\n",
    "ax.imshow(y1)\n",
    "ax.set_title(\"$y_1$\")\n",
    "\n",
    "fig, ax = plt.subplots()\n",
    "ax.imshow(y2)\n",
    "ax.set_title(\"$y_2$\")\n",
    "fig.show()"
   ]
  },
  {
   "cell_type": "markdown",
   "id": "d8a389b8",
   "metadata": {},
   "source": [
    "In reality, we would need to write code to find the offset between $y_1$ and $y_2$.\n",
    "Here, we'll assume that step is already done.\n",
    "Run the next cell to find the offset."
   ]
  },
  {
   "cell_type": "code",
   "execution_count": null,
   "id": "c0f2830a",
   "metadata": {
    "collapsed": false
   },
   "outputs": [],
   "source": [
    "from tutorial_funcs import find_offset\n",
    "\n",
    "offset = find_offset(y1, y2)\n",
    "\n",
    "print(f\"y2 is y1 shifted to the left by {offset} pixels\")"
   ]
  },
  {
   "cell_type": "markdown",
   "id": "04a38e44",
   "metadata": {},
   "source": [
    "You are done with part 1. Please report back in the Webex chat: **done with part 1**.\n",
    "\n",
    "While you wait for others to finish, you could think about how you would recover $x_1$ and $w$ with the tools you know.\n",
    "\n",
    "🛑 **PAUSE HERE** 🛑"
   ]
  },
  {
   "cell_type": "markdown",
   "id": "cac48180",
   "metadata": {},
   "source": [
    "## Defining a forward model (NumPy version)\n",
    "\n",
    "\n",
    "We now have the forward model\n",
    "$$y_1 = x_1 + w$$\n",
    "$$y_2 = x_2 + w.$$\n",
    "This is not immediately useful: $2x350x350$ meausurements and $3x350x350$ unknowns.\n",
    "However, we know that $x_1$ and $x_2$ are parts of a larger image, which we'll call $x$.\n",
    "In terms of $x$, we have\n",
    "$$y_1 = C_1x + w,$$\n",
    "$$y_2 = C_2x + w,$$\n",
    "where $x$ is $350x400$ and\n",
    "where $C_1$ and $C_2$ represent two different (known) cropping operations."
   ]
  },
  {
   "cell_type": "markdown",
   "id": "802235a9",
   "metadata": {},
   "source": [
    "**In the cell below, implement this forward model in NumPy.** You can test your forward model by running the cell below that."
   ]
  },
  {
   "cell_type": "code",
   "execution_count": null,
   "id": "0b4d1d21",
   "metadata": {
    "collapsed": false
   },
   "outputs": [],
   "source": [
    "def forward(x, w):\n",
    "    N_cols = w.shape[1]\n",
    "    y1 = x[:, :N_cols] + w\n",
    "    y2 = x[:, offset : N_cols + offset] + w\n",
    "    return y1, y2"
   ]
  },
  {
   "cell_type": "code",
   "execution_count": null,
   "id": "e244f76d",
   "metadata": {
    "collapsed": false
   },
   "outputs": [],
   "source": [
    "from tutorial_funcs import load_test_solution\n",
    "\n",
    "x_test, w_test = load_test_solution()\n",
    "\n",
    "# run the forward model\n",
    "y1_test, y2_test = forward(x_test, w_test)\n",
    "\n",
    "(\n",
    "    fig,\n",
    "    ax,\n",
    ") = (\n",
    "    plt.subplots()\n",
    ")  # NOTE: not using a single plot so that it is more clear x_test is wider than others\n",
    "ax.imshow(x_test)\n",
    "ax.set_title(\"x_test\")\n",
    "fig.show()\n",
    "\n",
    "fig, ax = plt.subplots()\n",
    "ax.imshow(w_test)\n",
    "ax.set_title(\"w_test\")\n",
    "fig.show()\n",
    "\n",
    "fig, ax = plt.subplots()\n",
    "ax.imshow(y1_test)\n",
    "ax.set_title(\"y1_test\")\n",
    "\n",
    "fig, ax = plt.subplots()\n",
    "ax.imshow(y2_test)\n",
    "ax.set_title(\"y2_test\")\n",
    "fig.show()"
   ]
  },
  {
   "cell_type": "markdown",
   "id": "b7ab5acc",
   "metadata": {},
   "source": [
    "You are done with part 2. Please report back in the Webex chat: **done with part 2**.\n",
    "\n",
    "While you wait for others to finish, you could think about measurements systems in your research in terms of forward models.\n",
    "\n",
    "🛑 **PAUSE HERE** 🛑"
   ]
  },
  {
   "cell_type": "markdown",
   "id": "12b49a39",
   "metadata": {},
   "source": [
    "## Defining a fowarding model (SCICO version)\n",
    "SCICO is designed to solve problems of the form $y = Aq$,\n",
    "where $A$ is the forward model,\n",
    "$q$ contains the image(s) you want to recover,\n",
    "and $y$ contains the measurements.\n",
    "In this section, we'll convert our problem into this form.\n",
    "\n",
    "A compact way to write our system of equations is\n",
    "$$ \\underbrace{\\begin{bmatrix}y_1 \\ y_2 \\end{bmatrix}}_{y}\n",
    "=\n",
    "\\underbrace{\\begin{bmatrix}C_1 & I   \\\\ C_2 & I  \\end{bmatrix}}_{A}\n",
    "\\underbrace{\\begin{bmatrix}x \\\\ w \\end{bmatrix}}_{q} $$\n",
    "\n",
    "$$y = A q.$$"
   ]
  },
  {
   "cell_type": "markdown",
   "id": "1e38a824",
   "metadata": {},
   "source": [
    "To represent this equation in SCICO code, we need to (1) convert $y_1$ and $y_2$ into SCICO arrays; (2) stack  $y_1$ and $y_2$ to form $y$; and (3) write the code for $A$."
   ]
  },
  {
   "cell_type": "markdown",
   "id": "39f62a59",
   "metadata": {},
   "source": [
    "For step 1, we'll convert $y_1$ and $y_2$ into SCICO arrays and stack them together. Note how we use snp instead of np; this is necessary when we want to use SCICO's operators and solvers."
   ]
  },
  {
   "cell_type": "code",
   "execution_count": null,
   "id": "9dea607c",
   "metadata": {
    "collapsed": false
   },
   "outputs": [],
   "source": [
    "from tutorial_funcs import load_ys\n",
    "\n",
    "import scico.numpy as snp\n",
    "\n",
    "y1, y2 = load_ys()\n",
    "\n",
    "y1 = snp.array(y1)  # convert to scico arrays\n",
    "y2 = snp.array(y2)"
   ]
  },
  {
   "cell_type": "markdown",
   "id": "9bac04d1",
   "metadata": {},
   "source": [
    "For step 2 (stacking $y_1$ and $y_2$), note that `scico.numpy` provides most of the functionality of `numpy`.\n",
    "(See https://scico.readthedocs.io/en/latest/_autosummary/scico.numpy.html#module-scico.numpy)\n",
    "**Find the appropriate `scico.numpy` function and use it to stack $y_1$ and $y_2$ into a single array.**"
   ]
  },
  {
   "cell_type": "code",
   "execution_count": null,
   "id": "4f65faf7",
   "metadata": {
    "collapsed": false
   },
   "outputs": [],
   "source": [
    "y = snp.stack((y1, y2))"
   ]
  },
  {
   "cell_type": "markdown",
   "id": "f34f61c8",
   "metadata": {},
   "source": [
    "For step 3 (define the linear operator $A$) we will first construct a `forward` function.\n",
    "The challenge is that the function needs to take a single argument, $q$,\n",
    "whereas our `forward` function from before currently takes $x$ and $w$ separately. Let's first redefine `forward` as a single argument function."
   ]
  },
  {
   "cell_type": "code",
   "execution_count": null,
   "id": "2852448f",
   "metadata": {
    "collapsed": false
   },
   "outputs": [],
   "source": [
    "def forward(q):\n",
    "    x = q[0]\n",
    "    w = q[1]\n",
    "\n",
    "    N_cols = w.shape[1]\n",
    "    y1 = x[:, :N_cols] + w\n",
    "    y2 = x[:, offset : N_cols + offset] + w\n",
    "    return snp.stack((y1, y2))"
   ]
  },
  {
   "cell_type": "markdown",
   "id": "aa720b7d",
   "metadata": {},
   "source": [
    "Now let's test `forward`.\n",
    "To do that, we need to stack `x` and `w`. However, your solution from before won't work. **Explain why.**"
   ]
  },
  {
   "cell_type": "markdown",
   "id": "b2aa0b39",
   "metadata": {},
   "source": [
    "We can't stack `x` and `w` because $x$ and $w$ have difference shapes."
   ]
  },
  {
   "cell_type": "markdown",
   "id": "844f1a04",
   "metadata": {},
   "source": [
    "We could use padding to allow $x$ and $w$ to stack.\n",
    "Instead, we can make use of SCICO's representation flexibility afforded via `BlockArray`.\n",
    "`BlockArray`s are lists of arrays intendend to extend NumPy functionality\n",
    "(really JAX functionality) over groups of arrays with different shapes. We will use SCICO's `BlockArray`\n",
    "to stack `x` and `w` together."
   ]
  },
  {
   "cell_type": "code",
   "execution_count": null,
   "id": "bacc708c",
   "metadata": {
    "collapsed": false
   },
   "outputs": [],
   "source": [
    "from tutorial_funcs import load_test_solution\n",
    "\n",
    "x_test, w_test = load_test_solution()\n",
    "\n",
    "q_test = snp.blockarray((x_test, w_test))"
   ]
  },
  {
   "cell_type": "markdown",
   "id": "7ea11790",
   "metadata": {},
   "source": [
    "The shape of a `BlockArray` is simply a tuple of the shapes of all the components. Run the next cell to check the shape of the constructued `BlockArray`."
   ]
  },
  {
   "cell_type": "code",
   "execution_count": null,
   "id": "abd7bbc4",
   "metadata": {
    "collapsed": false
   },
   "outputs": [],
   "source": [
    "q_test.shape"
   ]
  },
  {
   "cell_type": "markdown",
   "id": "4854c878",
   "metadata": {},
   "source": [
    "Now we can test the `BlockArray` version of the forward model."
   ]
  },
  {
   "cell_type": "code",
   "execution_count": null,
   "id": "52384549",
   "metadata": {
    "collapsed": false
   },
   "outputs": [],
   "source": [
    "# run the forward model\n",
    "y_test = forward(q_test)\n",
    "\n",
    "# plot\n",
    "fig, ax = plt.subplots()\n",
    "ax.imshow(x_test)\n",
    "ax.set_title(\"x_test\")\n",
    "fig.show()\n",
    "\n",
    "fig, ax = plt.subplots()\n",
    "ax.imshow(w_test)\n",
    "ax.set_title(\"w_test\")\n",
    "fig.show()\n",
    "\n",
    "fig, ax = plt.subplots()\n",
    "ax.imshow(y1_test)\n",
    "ax.set_title(\"y1_test\")\n",
    "\n",
    "fig, ax = plt.subplots()\n",
    "ax.imshow(y2_test)\n",
    "ax.set_title(\"y2_test\")\n",
    "fig.show()"
   ]
  },
  {
   "cell_type": "markdown",
   "id": "ca1da9e3",
   "metadata": {},
   "source": [
    "Finally,\n",
    "we can use `forward` to construct the linear operator $A$.\n",
    "**Read the [documentation on defining a linear operator](https://scico.readthedocs.io/en/latest/operator.html#defining-a-new-linear-operator) and define $A$ in the next cell.**"
   ]
  },
  {
   "cell_type": "code",
   "execution_count": null,
   "id": "a11b4587",
   "metadata": {
    "collapsed": false
   },
   "outputs": [],
   "source": [
    "import scico.linop\n",
    "\n",
    "\n",
    "A = scico.linop.LinearOperator(input_shape=q_test.shape, eval_fn=forward)"
   ]
  },
  {
   "cell_type": "markdown",
   "id": "74801f25",
   "metadata": {},
   "source": [
    "Once we've defined $A$ as a `scico.LinearOperator`,\n",
    "we can treat it just like a NumPy matrix, including using operators like `A @ q`, `A.T`, `A + A`, and `2*A`.\n",
    "Run the next cell to see an example of how we could compute $y_1$ and $y_2$\n",
    "from our previous example."
   ]
  },
  {
   "cell_type": "code",
   "execution_count": null,
   "id": "80a52ce1",
   "metadata": {
    "collapsed": false
   },
   "outputs": [],
   "source": [
    "y_test = A @ q_test\n",
    "\n",
    "fig, ax = plt.subplots()\n",
    "ax.imshow(y1_test)\n",
    "ax.set_title(\"y1_test\")\n",
    "\n",
    "fig, ax = plt.subplots()\n",
    "ax.imshow(y2_test)\n",
    "ax.set_title(\"y2_test\")\n",
    "fig.show()"
   ]
  },
  {
   "cell_type": "markdown",
   "id": "9911d2d7",
   "metadata": {},
   "source": [
    "You are done with part 3. Please report back in the Webex chat: **done with part 3**.\n",
    "\n",
    "While you wait for others to finish, you could think about what $A^T$ should do and try to plot it in the cell below."
   ]
  },
  {
   "cell_type": "code",
   "execution_count": null,
   "id": "5e1b4094",
   "metadata": {
    "collapsed": false
   },
   "outputs": [],
   "source": [
    "# this cell intentionally left blank"
   ]
  },
  {
   "cell_type": "markdown",
   "id": "8ffd8bc8",
   "metadata": {},
   "source": [
    "🛑 **PAUSE HERE** 🛑"
   ]
  },
  {
   "cell_type": "markdown",
   "id": "06e525f5",
   "metadata": {},
   "source": [
    "# Solving the Nonuniform Illumination Problem: SCICO CG Solver\n",
    "To solve this problem with SCICO,\n",
    "we can put it into the form\n",
    "$$ \\min_q \\| y - Aq \\|_2^2,$$\n",
    "where $y$ is an array, $q$ is a `BlockArray`,\n",
    "and $A$ is a `scico.LinearOperator`."
   ]
  },
  {
   "cell_type": "markdown",
   "id": "55a7e876",
   "metadata": {},
   "source": [
    "Since now we have all the components in place, we  are ready to solve. Because this is a least squares problem, a good approach is to equate the gradient to zero\n",
    "and solve with the conjugate gradient (CG) method. The gradient is\n",
    "\n",
    "$$A^T A q - A^T y.$$\n",
    "\n",
    "Note that the gradient computation requires $A^T$.\n",
    "One of the advantages of using SCICO is that it uses JAX autograd functionality for computing these expressions avoiding the need to implement them explicitly. We can test the $A^T$ operator available with the definition of the `LinearOperator`."
   ]
  },
  {
   "cell_type": "code",
   "execution_count": null,
   "id": "88986a7f",
   "metadata": {
    "collapsed": false
   },
   "outputs": [],
   "source": [
    "ATy = A.T @ y\n",
    "\n",
    "print(\"AT_eval.shape: \", ATy.shape)\n",
    "\n",
    "fig, ax = plt.subplots()\n",
    "ax.imshow(ATy[0])\n",
    "ax.set_title(\"ATy[0]\")\n",
    "\n",
    "fig, ax = plt.subplots()\n",
    "ax.imshow(ATy[1])\n",
    "ax.set_title(\"ATy[1]\")\n",
    "fig.show()"
   ]
  },
  {
   "cell_type": "markdown",
   "id": "2d660fc8",
   "metadata": {},
   "source": [
    "Take a look at the documentation for `scico.solver.cg`: https://scico.readthedocs.io/en/latest/_autosummary/scico.solver.html#scico.solver.cg and try to use it to find the $q$ that makes the gradient zero."
   ]
  },
  {
   "cell_type": "code",
   "execution_count": null,
   "id": "cf4dbec8",
   "metadata": {
    "collapsed": false
   },
   "outputs": [],
   "source": [
    "import scico.solver\n",
    "\n",
    "\n",
    "q_hat, info = scico.solver.cg(A.T @ A, A.T @ y, snp.zeros(A.input_shape))\n",
    "\n",
    "print(info)"
   ]
  },
  {
   "cell_type": "markdown",
   "id": "45047680",
   "metadata": {},
   "source": [
    "Run the cell below to see your results!"
   ]
  },
  {
   "cell_type": "code",
   "execution_count": null,
   "id": "1710862e",
   "metadata": {
    "collapsed": false
   },
   "outputs": [],
   "source": [
    "x_hat = q_hat[0]\n",
    "w_hat = q_hat[1]\n",
    "\n",
    "# plot\n",
    "fig, ax = plt.subplots()\n",
    "ax.imshow(y1)\n",
    "ax.set_title(\"measured $y_1$\")\n",
    "fig.show()\n",
    "\n",
    "fig, ax = plt.subplots()\n",
    "ax.imshow(y2)\n",
    "ax.set_title(\"measured $y_2$\")\n",
    "fig.show()\n",
    "\n",
    "fig, ax = plt.subplots()\n",
    "ax.imshow(x_hat)\n",
    "ax.set_title(\"recovered $x$\")\n",
    "\n",
    "fig, ax = plt.subplots()\n",
    "ax.imshow(w_hat)\n",
    "ax.set_title(\"recovered $w$\")\n",
    "fig.show()"
   ]
  },
  {
   "cell_type": "markdown",
   "id": "d5b335d2",
   "metadata": {},
   "source": [
    "You are done with part 4. Please report back in the Webex chat: **done with part 4**.\n",
    "\n",
    "While you wait for others to finish, you could think about what you like and dislike about the solution you got.\n",
    "How could you improve it?\n",
    "How do you know if it is correct?\n",
    "\n",
    "🛑 **PAUSE HERE** 🛑"
   ]
  },
  {
   "cell_type": "markdown",
   "id": "7da68f12",
   "metadata": {},
   "source": [
    "## Refining the solution with regularization\n",
    "\n",
    "If we closely inspect the recovered `x` solution, we can see that it exhibits\n",
    "some artifacts. In several cases we can improve the quality of results by seeking for a regularized least squares solution\n",
    "\n",
    "$$ \\min_q \\| y - Aq \\|_2^2 + \\, r(q),$$\n",
    "\n",
    "where $r$ is an appropriate regularization."
   ]
  },
  {
   "cell_type": "markdown",
   "id": "47691e81",
   "metadata": {},
   "source": [
    "In this case,\n",
    "we look for a solution with a smooth `w`. This can be expressed as the minimization of the $L_2$ norm of its gradients in $x$ and $y$ directions\n",
    "\n",
    "$$ \\min_q \\| y - Aq \\|_2^2 + \\alpha\\| D q \\|_2^2,$$\n",
    "\n",
    "where $Dq = D_w w$, and $D_w$ computes finite differences.\n",
    "SCICO provides an operator to compute these gradients.\n",
    "**Look through the [list of SCICO operators](https://scico.readthedocs.io/en/latest/_autosummary/scico.linop.html#module-scico.linop) to find the appropriate one\n",
    "and instantiate it.**"
   ]
  },
  {
   "cell_type": "code",
   "execution_count": null,
   "id": "b8d6dadd",
   "metadata": {
    "collapsed": false
   },
   "outputs": [],
   "source": [
    "Dw = scico.linop.FiniteDifference(input_shape=w_test.shape)"
   ]
  },
  {
   "cell_type": "markdown",
   "id": "6bb9cf11",
   "metadata": {},
   "source": [
    "Run the next cell to see $D$ in action."
   ]
  },
  {
   "cell_type": "code",
   "execution_count": null,
   "id": "5f5daaac",
   "metadata": {
    "collapsed": false
   },
   "outputs": [],
   "source": [
    "Dwy1 = Dw @ y1\n",
    "\n",
    "\n",
    "fig, ax = plt.subplots()\n",
    "ax.imshow(Dwy1[1])\n",
    "ax.set_title(r\"$\\nabla_x y_1$\")\n",
    "fig.show()\n",
    "\n",
    "fig, ax = plt.subplots()\n",
    "ax.imshow(Dwy1[0])\n",
    "ax.set_title(r\"$\\nabla_y y_1$\")"
   ]
  },
  {
   "cell_type": "markdown",
   "id": "d8e5b90c",
   "metadata": {},
   "source": [
    "Note, however, that we want to regularize for $w$ being smooth and this is only a part of $q$, the complete unknown we are solving for.\n",
    "We need an operator that can index into $q$ (this operation is called slicing in Python);\n",
    "SCICO has an operator for that!\n",
    "**Look through the [list of SCICO operators](https://scico.readthedocs.io/en/latest/_autosummary/scico.linop.html#module-scico.linop) to find the appropriate one\n",
    "and instantiate it.**"
   ]
  },
  {
   "cell_type": "code",
   "execution_count": null,
   "id": "55061769",
   "metadata": {
    "collapsed": false
   },
   "outputs": [],
   "source": [
    "S = scico.linop.Slice(idx=1, input_shape=q_test.shape)"
   ]
  },
  {
   "cell_type": "markdown",
   "id": "0a24a4e5",
   "metadata": {},
   "source": [
    "Let's test this new operator."
   ]
  },
  {
   "cell_type": "code",
   "execution_count": null,
   "id": "40040f5a",
   "metadata": {
    "collapsed": false
   },
   "outputs": [],
   "source": [
    "w_test = S @ q_test\n",
    "\n",
    "fig, ax = plt.subplots()\n",
    "ax.imshow(w_test)\n",
    "fig.show()"
   ]
  },
  {
   "cell_type": "markdown",
   "id": "5550b147",
   "metadata": {},
   "source": [
    "**In the next cell, combine `Dw` and `S` to make D.** Remember that SCICO supports matrix-like operations on operators."
   ]
  },
  {
   "cell_type": "code",
   "execution_count": null,
   "id": "c1429e4d",
   "metadata": {
    "collapsed": false
   },
   "outputs": [],
   "source": [
    "D = Dw @ S"
   ]
  },
  {
   "cell_type": "markdown",
   "id": "8a777d33",
   "metadata": {},
   "source": [
    "We are now ready to solve.\n",
    "We can still use the conjugate gradient (CG) method, we just need to compute the gradient including the regularization\n",
    "\n",
    "$$A^T A q + \\alpha D^T D - A^T y.$$\n",
    "\n",
    "**In the next cell, fill in the CG solver.**"
   ]
  },
  {
   "cell_type": "code",
   "execution_count": null,
   "id": "ee1aee3b",
   "metadata": {
    "collapsed": false
   },
   "outputs": [],
   "source": [
    "alpha = 1.0\n",
    "\n",
    "q_hat, info = scico.solver.cg(A.T @ A + alpha * D.T @ D, A.T @ y, snp.zeros(A.input_shape))\n",
    "\n",
    "print(info)"
   ]
  },
  {
   "cell_type": "markdown",
   "id": "07318292",
   "metadata": {},
   "source": [
    "Run the cell below to see your results!"
   ]
  },
  {
   "cell_type": "code",
   "execution_count": null,
   "id": "39cce815",
   "metadata": {
    "collapsed": false
   },
   "outputs": [],
   "source": [
    "x_hat = q_hat[0]\n",
    "w_hat = q_hat[1]\n",
    "\n",
    "# plot\n",
    "fig, ax = plt.subplots()\n",
    "ax.imshow(y1)\n",
    "ax.set_title(\"measured $y_1$\")\n",
    "fig.show()\n",
    "\n",
    "fig, ax = plt.subplots()\n",
    "ax.imshow(y2)\n",
    "ax.set_title(\"measured $y_2$\")\n",
    "fig.show()\n",
    "\n",
    "fig, ax = plt.subplots()\n",
    "ax.imshow(x_hat)\n",
    "ax.set_title(\"recovered $x$\")\n",
    "\n",
    "fig, ax = plt.subplots()\n",
    "ax.imshow(w_hat)\n",
    "ax.set_title(\"recovered $w$\")\n",
    "fig.show()"
   ]
  },
  {
   "cell_type": "markdown",
   "id": "367e679b",
   "metadata": {},
   "source": [
    "You are done with part 5. Please report back in the Webex chat: **done with part 5**.\n",
    "\n",
    "While you wait for others to finish, you could think about what effect $\\alpha$ should have on your solution.\n",
    "Try changing it.\n",
    "What trade off does it control?\n",
    "How can you pick the best value?\n",
    "\n",
    "🛑 **PAUSE HERE** 🛑"
   ]
  },
  {
   "cell_type": "markdown",
   "id": "a3eeb482",
   "metadata": {},
   "source": [
    "## Refining the Solution: SCICO Functionals, Losses, Optimizers\n",
    "\n",
    "If we closely inspect our recovered `x` we can see that it has negative values,\n",
    "which might be nonphysical."
   ]
  },
  {
   "cell_type": "code",
   "execution_count": null,
   "id": "1ffb40a9",
   "metadata": {
    "collapsed": false
   },
   "outputs": [],
   "source": [
    "print(\"Range of solution\")\n",
    "print(\"Minimum x: \", x_hat.min())\n",
    "print(\"Maximum x: \", x_hat.max())\n",
    "print(\"Minimum w: \", w_hat.min())\n",
    "print(\"Maximum w: \", w_hat.max())"
   ]
  },
  {
   "cell_type": "markdown",
   "id": "9e3dad07",
   "metadata": {},
   "source": [
    "We can add another regularization term to enforce that $x$ and $w$ are nonnegative\n",
    "\n",
    "$$\\min_q \\| y - Aq \\|_2^2, + \\, r_1(q) + \\, r_2(q)$$\n",
    "\n",
    "$r_1$ is the previously defined smoothness regularization and $r_2$ is the nonnegative constraint."
   ]
  },
  {
   "cell_type": "markdown",
   "id": "b5f22fa4",
   "metadata": {},
   "source": [
    "The nonnegative constraint is implemented in SCICO as a nonnegative indicator functional.\n",
    "Since this is a nonsmooth functional, it is necessary to use a different solver for this\n",
    "formulation. In this case, we will use the Proximal Gradient Method `PGM`\n",
    "(see https://scico.readthedocs.io/en/latest/_autosummary/scico.optimize.html#scico.optimize.PGM)\n",
    "\n",
    "The `PGM` optimizer solves problems of the form\n",
    "\n",
    "$$\\min_x f(x) + g(x),$$\n",
    "\n",
    "wher $f$ is a smooth function and $g$ is a function with a proximal map. Therefore, we need to cast our problem\n",
    " following the PGM structure. We do it as follows\n",
    "\n",
    " $$f(q) = \\| y - Aq \\|_2^2 + \\alpha \\| D q \\|_2^2,$$\n",
    " $$g(q) = \\iota_{\\mathbb{NN}}(q),$$\n",
    "\n",
    "with $\\iota_{\\mathbb{NN}}$ representing a nonnegative indicator function. In this way, we group the derivable (smooth) part\n",
    " of optimization problem in $f$, using a regularization hyper-parameter $\\alpha > 0$ to trade-off fidelity vs.\n",
    " smoothness and keep the non-smooth part in $g$."
   ]
  },
  {
   "cell_type": "markdown",
   "id": "a79c5f52",
   "metadata": {},
   "source": [
    "We show next how we can achieve this using SCICO losses and functionals."
   ]
  },
  {
   "cell_type": "code",
   "execution_count": null,
   "id": "2d40414f",
   "metadata": {
    "collapsed": false
   },
   "outputs": [],
   "source": [
    "from scico import functional, loss"
   ]
  },
  {
   "cell_type": "markdown",
   "id": "cb3fce74",
   "metadata": {},
   "source": [
    "First, we express the fidelity term $\\| y - Aq \\|_2^2,$ using a `scico.loss`.\n",
    "**Use the [loss docs](https://scico.readthedocs.io/en/latest/_autosummary/scico.loss.html#module-scico.loss) to find the appropriate way to express this data fidelity term in SCICO.**"
   ]
  },
  {
   "cell_type": "code",
   "execution_count": null,
   "id": "24c70234",
   "metadata": {
    "collapsed": false
   },
   "outputs": [],
   "source": [
    "# y and A included here for readability but are defined as before\n",
    "y = snp.stack((y1, y2))\n",
    "A = scico.linop.LinearOperator(input_shape=q_test.shape, eval_fn=forward)\n",
    "\n",
    "\n",
    "f_data = loss.SquaredL2Loss(y=y, A=A)"
   ]
  },
  {
   "cell_type": "markdown",
   "id": "d063ebe7",
   "metadata": {},
   "source": [
    "**Define a loss to quantify the smoothness of $w$, $\\| D w \\|_2^2$**."
   ]
  },
  {
   "cell_type": "code",
   "execution_count": null,
   "id": "1c2d8eba",
   "metadata": {
    "collapsed": false
   },
   "outputs": [],
   "source": [
    "f_smoothness = loss.SquaredL2Loss(y=snp.zeros(D.output_shape), A=D)"
   ]
  },
  {
   "cell_type": "markdown",
   "id": "91658731",
   "metadata": {},
   "source": [
    "To form $f$ from above, we need to make the sum of `f_data` and `f_smoothness`.\n",
    "Luckily, SCICO supports algebra on losses, just like it does on operators.\n",
    "**Make $f$ in the cell below.**"
   ]
  },
  {
   "cell_type": "code",
   "execution_count": null,
   "id": "743b3c57",
   "metadata": {
    "collapsed": false
   },
   "outputs": [],
   "source": [
    "alpha = 1.0\n",
    "\n",
    "f = f_data + alpha * f_smoothness"
   ]
  },
  {
   "cell_type": "markdown",
   "id": "eaf80fd0",
   "metadata": {},
   "source": [
    "Now we define the nonnegative indicator function, $g$.\n",
    "**Use the [functional docs](https://scico.readthedocs.io/en/latest/_autosummary/scico.functional.html#module-scico.functional) to find the appropriate way to express this data fidelity term in SCICO.**"
   ]
  },
  {
   "cell_type": "code",
   "execution_count": null,
   "id": "722c69bf",
   "metadata": {
    "collapsed": false
   },
   "outputs": [],
   "source": [
    "g = functional.NonNegativeIndicator()"
   ]
  },
  {
   "cell_type": "markdown",
   "id": "216ad9a8",
   "metadata": {},
   "source": [
    "We set up a PGM optimizer to compute the regularized solution."
   ]
  },
  {
   "cell_type": "code",
   "execution_count": null,
   "id": "e4112244",
   "metadata": {
    "collapsed": false
   },
   "outputs": [],
   "source": [
    "from scico.optimize.pgm import AcceleratedPGM\n",
    "\n",
    "L0 = 1e2  # Initial inverse of stepsize\n",
    "maxiter = 200  # Maximum iterations to compute\n",
    "x0 = snp.zeros(q_test.shape)  # Initial estimate of the solution\n",
    "\n",
    "solver = AcceleratedPGM(\n",
    "    f=f,\n",
    "    g=g,\n",
    "    L0=L0,\n",
    "    x0=x0,\n",
    "    maxiter=maxiter,\n",
    "    itstat_options={\"display\": True},\n",
    ")"
   ]
  },
  {
   "cell_type": "markdown",
   "id": "51343dd1",
   "metadata": {},
   "source": [
    "Run the next cell to see an example of running PGM to compute $y_1$ and $y_2$\n",
    "from our previous setup."
   ]
  },
  {
   "cell_type": "code",
   "execution_count": null,
   "id": "c634519e",
   "metadata": {
    "collapsed": false
   },
   "outputs": [],
   "source": [
    "q_hat = solver.solve()"
   ]
  },
  {
   "cell_type": "markdown",
   "id": "c913c736",
   "metadata": {},
   "source": [
    "Run the cell below to see your results!"
   ]
  },
  {
   "cell_type": "code",
   "execution_count": null,
   "id": "0824b0e1",
   "metadata": {
    "collapsed": false
   },
   "outputs": [],
   "source": [
    "x_hat = q_hat[0]\n",
    "w_hat = q_hat[1]\n",
    "\n",
    "# plot\n",
    "fig, ax = plt.subplots()\n",
    "ax.imshow(y1)\n",
    "ax.set_title(\"measured $y_1$\")\n",
    "fig.show()\n",
    "\n",
    "fig, ax = plt.subplots()\n",
    "ax.imshow(y2)\n",
    "ax.set_title(\"measured $y_2$\")\n",
    "fig.show()\n",
    "\n",
    "fig, ax = plt.subplots()\n",
    "ax.imshow(x_hat)\n",
    "ax.set_title(\"recovered $x$\")\n",
    "\n",
    "fig, ax = plt.subplots()\n",
    "ax.imshow(w_hat)\n",
    "ax.set_title(\"recovered $w$\")\n",
    "fig.show()"
   ]
  },
  {
   "cell_type": "markdown",
   "id": "8cb59fd4",
   "metadata": {},
   "source": [
    "Run the cell below to check if the nonnegativity constraint worked."
   ]
  },
  {
   "cell_type": "code",
   "execution_count": null,
   "id": "c7dc71ac",
   "metadata": {
    "collapsed": false
   },
   "outputs": [],
   "source": [
    "print(\"Range of solution\")\n",
    "print(\"Minimum: \", x_hat.min())\n",
    "print(\"Maximum: \", x_hat.max())\n",
    "print(\"Minimum: \", w_hat.min())\n",
    "print(\"Maximum: \", w_hat.max())"
   ]
  },
  {
   "cell_type": "markdown",
   "id": "5e4200a4",
   "metadata": {},
   "source": [
    "## Conclusion\n",
    "This tutorial has shown how to set up and solve a simple least squares imaging problem in\n",
    "SCICO as well as regularized least squares formulations. In doing so, it has demonstrated\n",
    "a diverse set of classes provided by SCICO such as operators, functionals, losses and\n",
    "solvers which make expressing regularized optimization problems more straightforward."
   ]
  },
  {
   "cell_type": "markdown",
   "id": "8ed86a82",
   "metadata": {},
   "source": [
    "You are done with the tutorial! Please report back in the Webex chat: **done with the tutorial**.\n",
    "\n",
    "While you wait for others to finish, you could check out the [PGM documentation](https://scico.readthedocs.io/en/latest/_autosummary/scico.optimize.html#scico.optimize.PGM) and [PGM step size documentation](https://scico.readthedocs.io/en/latest/_autosummary/scico.optimize.pgm.html) to understand more of the arguments to `AcceleratedPGM`."
   ]
  }
 ],
 "metadata": {},
 "nbformat": 4,
 "nbformat_minor": 5
}
