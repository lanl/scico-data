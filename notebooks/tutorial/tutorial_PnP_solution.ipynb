{
 "cells": [
  {
   "cell_type": "markdown",
   "id": "03d9f62a",
   "metadata": {},
   "source": [
    "# Example: CT Reconstruction\n",
    "\n",
    "This example demonstrates the process of signal reconstruction in SCICO.\n",
    "\n",
    "## Introduction\n",
    "\n",
    "You perform a computed tomography (CT) measurement of an object and will want to reconstruct it from\n",
    "the sinogram, which we'll call $y$."
   ]
  },
  {
   "cell_type": "code",
   "execution_count": null,
   "id": "615fc910",
   "metadata": {
    "collapsed": false
   },
   "outputs": [],
   "source": [
    "import scico.numpy as snp\n",
    "from scico import plot\n",
    "\n",
    "plot.config_notebook_plotting()"
   ]
  },
  {
   "cell_type": "markdown",
   "id": "9ea86866",
   "metadata": {},
   "source": [
    "Run the next cell to see $y$."
   ]
  },
  {
   "cell_type": "code",
   "execution_count": null,
   "id": "a5e0fa00",
   "metadata": {
    "collapsed": false
   },
   "outputs": [],
   "source": [
    "import matplotlib.pyplot as plt\n",
    "\n",
    "plt.rcParams[\"image.cmap\"] = \"gray\"  # set default colormap\n",
    "\n",
    "from tutorial_funcs_part2 import load_y_ct\n",
    "\n",
    "y = load_y_ct()\n",
    "\n",
    "print(f\"The shape of y is {y.shape}\")\n",
    "\n",
    "fig, ax = plt.subplots()\n",
    "ax.imshow(y)\n",
    "ax.set_title(\"$y$\")\n",
    "fig.show()"
   ]
  },
  {
   "cell_type": "markdown",
   "id": "6cb254ff",
   "metadata": {},
   "source": [
    "This image shows the sinogram, the first dimension represents the number of projections, while the second the\n",
    "size of the object. Although this is not directly specified, we will assume that the the projections are equally\n",
    "spaced. Let's try to construct a tomographic projector using SCICO. Run the next cell to build a ground truth\n",
    "signal."
   ]
  },
  {
   "cell_type": "code",
   "execution_count": null,
   "id": "bf65485b",
   "metadata": {
    "collapsed": false
   },
   "outputs": [],
   "source": [
    "from xdesign import SiemensStar, discrete_phantom\n",
    "\n",
    "phantom = SiemensStar(32)\n",
    "N = 512  # image size\n",
    "x_ss = snp.pad(discrete_phantom(phantom, N - 16), 8)\n",
    "\n",
    "# Plot signal\n",
    "fig, ax = plt.subplots()\n",
    "ax.imshow(x_ss)\n",
    "ax.set_title(\"Siemens Star\")\n",
    "fig.show()"
   ]
  },
  {
   "cell_type": "markdown",
   "id": "a670126e",
   "metadata": {},
   "source": [
    "SCICO provides CT projectors based on Python libraries such as ASTRA and SVMBIR. In this case we will use the\n",
    "SVMBIR interface (see https://scico.readthedocs.io/en/latest/_autosummary/scico.linop.radon_svmbir.html)\n",
    "\n",
    "**Find the appropriate functionality and use it to compute 120 projections of the Siemens Star.**"
   ]
  },
  {
   "cell_type": "code",
   "execution_count": null,
   "id": "2079a347",
   "metadata": {
    "collapsed": false
   },
   "outputs": [],
   "source": [
    "from scico.linop.radon_svmbir import TomographicProjector\n",
    "\n",
    "num_angles = 120\n",
    "angles = snp.linspace(0, snp.pi, num_angles, endpoint=False, dtype=snp.float32)\n",
    "num_channels = N\n",
    "A = TomographicProjector(x_ss.shape, angles, num_channels)\n",
    "sino = A @ x_ss"
   ]
  },
  {
   "cell_type": "markdown",
   "id": "416972b4",
   "metadata": {},
   "source": [
    "Run the next cell to plot the original signal and the corresponding sinogram."
   ]
  },
  {
   "cell_type": "code",
   "execution_count": null,
   "id": "356afcb7",
   "metadata": {
    "collapsed": false
   },
   "outputs": [],
   "source": [
    "from mpl_toolkits.axes_grid1 import make_axes_locatable\n",
    "\n",
    "fig, ax = plot.subplots(nrows=1, ncols=2, figsize=(15, 5))\n",
    "plot.imview(x_ss, title=\"Ground truth\", cbar=None, fig=fig, ax=ax[0])\n",
    "plot.imview(\n",
    "    sino,\n",
    "    title=\"Sinogram\",\n",
    "    cbar=None,\n",
    "    fig=fig,\n",
    "    ax=ax[1],\n",
    ")\n",
    "divider = make_axes_locatable(ax[1])\n",
    "cax = divider.append_axes(\"right\", size=\"5%\", pad=0.2)\n",
    "fig.colorbar(ax[1].get_images()[0], cax=cax, label=\"arbitrary units\")\n",
    "fig.show()"
   ]
  },
  {
   "cell_type": "markdown",
   "id": "27504dd3",
   "metadata": {},
   "source": [
    "You are done with part 1. Please report back in the Webex chat: **done with part 1**.\n",
    "\n",
    "While you wait for others to finish, you could explore the other SCICO CT interface\n",
    "(https://scico.readthedocs.io/en/latest/_autosummary/scico.linop.radon_astra.html)\n",
    "and think about what modifications are needed to construct the ASTRA-based CT operator.\n",
    "\n",
    "🛑 **PAUSE HERE** 🛑"
   ]
  },
  {
   "cell_type": "markdown",
   "id": "9c221eaf",
   "metadata": {},
   "source": [
    "## Solving a regularized reconstruction: TV regularization\n",
    "\n",
    "Now that you know how to construct an operator to represent tha CT projection, you can pose the reconstruction\n",
    "problem as a regularized least squares problem\n",
    "\n",
    "$$ \\min_x \\| y - Ax \\|_2^2 + \\, \\lambda \\, r(x),$$\n",
    "\n",
    "where $A$ is the forward model (i.e. the CT projector), $y$ contains the measurements (i.e. the sinogram)\n",
    "and $x$ contains the object you want to recover (i.e. the reconstruction). Since this is an ill-posed\n",
    "problem, you need to provide some prior information to be able to find a meaningful solution. This is expressed\n",
    "via $r$, which represents an appropriate regularization of the solution $x$, weighted by a constant $\\lambda > 0$,\n",
    "which establishes the trade-off between the fidelity to the measurements and the regularization of the solution.\n",
    "\n",
    "In this case, let's assume that you know that the solution is piece-wise constant. Total-Variation (TV) is\n",
    "a good model to represent such previous knowledge. TV is the $L_1$ norm of the gradient of the input, which can\n",
    "be written as:\n",
    "\n",
    "$$ r(x) = \\| D x \\|_1,$$\n",
    "\n",
    "where $D$ computes finite differences. In the previous part of the tutorial you used the corresponding SCICO\n",
    "operator. If you do not remember, **look through the [list of SCICO operators](https://scico.readthedocs.io/en/latest/_autosummary/scico.linop.html#module-scico.linop) to find the appropriate one\n",
    "and instantiate it.**"
   ]
  },
  {
   "cell_type": "code",
   "execution_count": null,
   "id": "e254e58b",
   "metadata": {
    "collapsed": false
   },
   "outputs": [],
   "source": [
    "import scico.linop\n",
    "\n",
    "# Fill in with the linear operator that computes finite differences\n",
    "\n",
    "D = scico.linop.FiniteDifference(input_shape=x_ss.shape)"
   ]
  },
  {
   "cell_type": "markdown",
   "id": "121faf79",
   "metadata": {},
   "source": [
    "Run the next cell to see $D$ in action."
   ]
  },
  {
   "cell_type": "code",
   "execution_count": null,
   "id": "17da75d7",
   "metadata": {
    "collapsed": false
   },
   "outputs": [],
   "source": [
    "Dx = D @ x_ss\n",
    "\n",
    "\n",
    "fig, ax = plt.subplots()\n",
    "ax.imshow(Dx[1])\n",
    "ax.set_title(r\"$\\nabla_x x_{ss}$\")\n",
    "fig.show()\n",
    "\n",
    "fig, ax = plt.subplots()\n",
    "ax.imshow(Dx[0])\n",
    "ax.set_title(r\"$\\nabla_y x_{ss}$\")\n",
    "fig.show()"
   ]
  },
  {
   "cell_type": "markdown",
   "id": "20076451",
   "metadata": {},
   "source": [
    "Since the regularization has some values where it is non-derivable, we will use the Alternating Direction\n",
    "Method of Multipliers `ADMM` optimizer (see https://scico.readthedocs.io/en/latest/_autosummary/scico.optimize.html#scico.optimize.ADMM).\n",
    "\n",
    "The `ADMM` optimizer solves problems of the form\n",
    "\n",
    "$$\\min_{\\mathbf{x}, \\mathbf{z}} \\; f(\\mathbf{x}) + g(\\mathbf{z}) \\; \\text{such that}\n",
    "   \\; \\acute{A} \\mathbf{x} + \\acute{B} \\mathbf{z} = \\mathbf{c} \\;,$$\n",
    "\n",
    "where $f$ and $g$ are convex (but not necessarily smooth)\n",
    "functions, $\\acute{A}$ and $\\acute{B}$ are linear operators,\n",
    "and $\\mathbf{c}$ is a constant vector.\n",
    "\n",
    "We can cast our problem in the ADMM structure as follows\n",
    "\n",
    "$$f(x) = \\| y - Ax \\|_2^2,$$\n",
    "$$g(z) = \\lambda \\| z \\|_1,$$\n",
    "$$z = Dx,$$\n",
    "\n",
    "which implies that $\\acute{A} = -D$, $\\acute{B} = I$ and $c = 0$, with $I$ the identity operator."
   ]
  },
  {
   "cell_type": "markdown",
   "id": "81934257",
   "metadata": {},
   "source": [
    "✋ Isotropic TV: the isotropic version of TV exhibits fewer block-like artifacts on edges that are not vertical or\n",
    "horizontal. Implementing the isotropic TV in scico requires two modifications: (i) use the L21Norm,\n",
    "instead of the L1Norm implied by the equation (ii) make the results of horizontal and vertical\n",
    "finite differences to have the same shape (which is required for the L21Norm).\n",
    "\n",
    "Look into the finite differences documentation\n",
    "(https://scico.readthedocs.io/en/latest/_autosummary/scico.linop.html#scico.linop.FiniteDifference)\n",
    "and **figure out how to make the results to have the same shape**."
   ]
  },
  {
   "cell_type": "code",
   "execution_count": null,
   "id": "4ef39c54",
   "metadata": {
    "collapsed": false
   },
   "outputs": [],
   "source": [
    "D2 = scico.linop.FiniteDifference(input_shape=(N, N), append=0)"
   ]
  },
  {
   "cell_type": "markdown",
   "id": "d3e4b88e",
   "metadata": {},
   "source": [
    "**Given the ADMM formulation of the CT reconstruction problem and the\n",
    "constants included in the following cell, construct a SCICO ADMM optimizer using isotropic TV.**\n",
    "\n",
    "Note that the ADMM optimizer from SCICO requires the specification of the subproblem solver.\n",
    "When $f$ takes the form $\\|\\mathbf{A} \\mathbf{x} - \\mathbf{y}\\|^2$ an `ADMM.LinearSubproblemSolver` can be used.\n",
    "It makes use of the conjugate gradient method, and is significantly more efficient than the\n",
    "`ADMM.GenericSubproblemSolver` (see: https://scico.readthedocs.io/en/latest/optimizer.html).\n",
    "\n",
    "Remember, however, that you are trying to reconstruct the sinogram $y$ that has 45 equally-spaced projections.\n",
    "Therefore, you need to start by defining the correct tomographic operator."
   ]
  },
  {
   "cell_type": "code",
   "execution_count": null,
   "id": "bfd8f71f",
   "metadata": {
    "collapsed": false
   },
   "outputs": [],
   "source": [
    "λ = 2e0  # L1 norm regularization parameter\n",
    "ρ = 5e0  # ADMM penalty parameter\n",
    "maxiter = 25  # number of ADMM iterations\n",
    "cg_tol = 1e-4  # CG relative tolerance\n",
    "cg_maxiter = 25  # maximum CG iterations per ADMM iteration"
   ]
  },
  {
   "cell_type": "code",
   "execution_count": null,
   "id": "3904e16e",
   "metadata": {
    "collapsed": false
   },
   "outputs": [],
   "source": [
    "from scico import functional, loss\n",
    "from scico.optimize.admm import ADMM, LinearSubproblemSolver\n",
    "\n",
    "\n",
    "num_angles, N = y.shape\n",
    "angles = snp.linspace(0, snp.pi, num_angles, endpoint=False, dtype=snp.float32)\n",
    "num_channels = N\n",
    "A = TomographicProjector((N, N), angles, num_channels)\n",
    "\n",
    "g = λ * functional.L21Norm()\n",
    "f = loss.SquaredL2Loss(y=y, A=A)\n",
    "\n",
    "x0 = A.T @ y / N\n",
    "\n",
    "solver = ADMM(\n",
    "    f=f,\n",
    "    g_list=[g],\n",
    "    C_list=[D2],\n",
    "    rho_list=[ρ],\n",
    "    x0=x0,\n",
    "    maxiter=maxiter,\n",
    "    subproblem_solver=LinearSubproblemSolver(cg_kwargs={\"tol\": cg_tol, \"maxiter\": cg_maxiter}),\n",
    "    itstat_options={\"display\": True, \"period\": 5},\n",
    ")"
   ]
  },
  {
   "cell_type": "markdown",
   "id": "b0d240a7",
   "metadata": {},
   "source": [
    "Run the next cell to see an example of running ADMM to compute $x$ from our previous setup."
   ]
  },
  {
   "cell_type": "code",
   "execution_count": null,
   "id": "ac2b3dd0",
   "metadata": {
    "collapsed": false
   },
   "outputs": [],
   "source": [
    "x_hat = solver.solve()"
   ]
  },
  {
   "cell_type": "markdown",
   "id": "36116933",
   "metadata": {},
   "source": [
    "Run the cell below to see your results!"
   ]
  },
  {
   "cell_type": "code",
   "execution_count": null,
   "id": "ba4bdd6c",
   "metadata": {
    "collapsed": false
   },
   "outputs": [],
   "source": [
    "from scico import metric\n",
    "\n",
    "x_reconstruction = snp.clip(x_hat, 0, 1.0)\n",
    "\n",
    "fig, ax = plot.subplots(nrows=1, ncols=3, figsize=(15, 5))\n",
    "plot.imview(y, title=\"Sinogram\", cbar=None, fig=fig, ax=ax[0])\n",
    "plot.imview(\n",
    "    x0,\n",
    "    title=\"Initial Reconstruction\",\n",
    "    cbar=None,\n",
    "    fig=fig,\n",
    "    ax=ax[1],\n",
    ")\n",
    "plot.imview(\n",
    "    x_reconstruction,\n",
    "    title=\"TV Reconstruction\",\n",
    "    fig=fig,\n",
    "    ax=ax[2],\n",
    ")\n",
    "divider = make_axes_locatable(ax[2])\n",
    "cax = divider.append_axes(\"right\", size=\"5%\", pad=0.2)\n",
    "fig.colorbar(ax[2].get_images()[0], cax=cax, label=\"arbitrary units\")\n",
    "fig.show()"
   ]
  },
  {
   "cell_type": "markdown",
   "id": "0f156e70",
   "metadata": {},
   "source": [
    "Run the cell below to plot some convergence statistics."
   ]
  },
  {
   "cell_type": "code",
   "execution_count": null,
   "id": "592d44ae",
   "metadata": {
    "collapsed": false
   },
   "outputs": [],
   "source": [
    "hist = solver.itstat_object.history(transpose=True)\n",
    "\n",
    "fig, ax = plot.subplots(nrows=1, ncols=2, figsize=(12, 5))\n",
    "plot.plot(\n",
    "    hist.Objective,\n",
    "    title=\"Objective function\",\n",
    "    xlbl=\"Iteration\",\n",
    "    ylbl=\"Functional value\",\n",
    "    fig=fig,\n",
    "    ax=ax[0],\n",
    ")\n",
    "plot.plot(\n",
    "    snp.vstack((hist.Prml_Rsdl, hist.Dual_Rsdl)).T,\n",
    "    ptyp=\"semilogy\",\n",
    "    title=\"Residuals\",\n",
    "    xlbl=\"Iteration\",\n",
    "    lgnd=(\"Primal\", \"Dual\"),\n",
    "    fig=fig,\n",
    "    ax=ax[1],\n",
    ")\n",
    "fig.show()"
   ]
  },
  {
   "cell_type": "markdown",
   "id": "eaf0dc50",
   "metadata": {},
   "source": [
    "Run the cell below to load the ground truth object and allow for a quantitative evaluation of the quality of the results."
   ]
  },
  {
   "cell_type": "code",
   "execution_count": null,
   "id": "06a11b30",
   "metadata": {
    "collapsed": false
   },
   "outputs": [],
   "source": [
    "from tutorial_funcs_part2 import load_gt_ct\n",
    "\n",
    "x_gt_ct = load_gt_ct()\n",
    "\n",
    "print(\"Range of ground truth\")\n",
    "print(\"Minimum: \", x_gt_ct.min())\n",
    "print(\"Maximum: \", x_gt_ct.max())"
   ]
  },
  {
   "cell_type": "markdown",
   "id": "4f869990",
   "metadata": {},
   "source": [
    "Run the cell below to see your results and a quantitative comparison against the ground truth."
   ]
  },
  {
   "cell_type": "code",
   "execution_count": null,
   "id": "ab09ff6e",
   "metadata": {
    "collapsed": false
   },
   "outputs": [],
   "source": [
    "fig, ax = plot.subplots(nrows=1, ncols=3, figsize=(15, 5))\n",
    "plot.imview(x_gt_ct, title=\"Ground truth\", cbar=None, fig=fig, ax=ax[0])\n",
    "plot.imview(\n",
    "    x0,\n",
    "    title=\"Initial Reconstruction: \\nSNR: %.2f (dB), MAE: %.3f\"\n",
    "    % (metric.snr(x_gt_ct, x0), metric.mae(x_gt_ct, x0)),\n",
    "    cbar=None,\n",
    "    fig=fig,\n",
    "    ax=ax[1],\n",
    ")\n",
    "plot.imview(\n",
    "    x_reconstruction,\n",
    "    title=\"TV Reconstruction\\nSNR: %.2f (dB), MAE: %.3f\"\n",
    "    % (metric.snr(x_gt_ct, x_reconstruction), metric.mae(x_gt_ct, x_reconstruction)),\n",
    "    fig=fig,\n",
    "    ax=ax[2],\n",
    ")\n",
    "divider = make_axes_locatable(ax[2])\n",
    "cax = divider.append_axes(\"right\", size=\"5%\", pad=0.2)\n",
    "fig.colorbar(ax[2].get_images()[0], cax=cax, label=\"arbitrary units\")\n",
    "fig.show()"
   ]
  },
  {
   "cell_type": "markdown",
   "id": "bd308319",
   "metadata": {},
   "source": [
    "You are done with part 2. Please report back in the Webex chat: **done with part 2**.\n",
    "\n",
    "While you wait for others to finish, you could think about how you would solve this\n",
    "problem with the PGM optimizer you used in the previous tutorial session.\n",
    "\n",
    "🛑 **PAUSE HERE** 🛑"
   ]
  },
  {
   "cell_type": "markdown",
   "id": "e3da220e",
   "metadata": {},
   "source": [
    "## Solving a regularized reconstruction with implicit prior: Plug-and-Play (PnP) Priors Framework\n",
    "\n",
    "In the previous part of the tutorial we assumed that the solution was piece-wise constant and\n",
    "applied a Total-Variation (TV) regularization. However, although the ground truth is effectively piece-wise\n",
    "constant, some artifacts can be seen in the TV-based solution.\n",
    "\n",
    "A less structured regularization, which may be useful in more general cases, is to assume that a good solution\n",
    "is one that has less noise. Denoisers, such as BM3D or DnCNN, are operators, or trained models, that reduce the\n",
    "Gaussian white noise of a signal and can take the role of $g$. In this way, they provide an implicit mechanism\n",
    "to reduce certain artifacts of the reconstructed image, without strictly requiring the definition of a function\n",
    "to be optimized. Hence the name plug-and-play.\n",
    "\n",
    "We can complement this with another regularization enforcing the solution to be nonnegative, since\n",
    "negative values might be nonphysical. We already implemented this type of regularization in a previous tutorial.\n",
    "\n",
    "The only modifications that we need to do is to define these alternative regularizers as follows\n",
    "\n",
    "$$g_1(z) = \\mathrm{Denoiser}(z)$$\n",
    "$$g_2(z) = \\iota_{\\mathbb{NN}}(z),$$\n",
    "\n",
    "with $\\iota_{\\mathbb{NN}}$ representing a nonnegative indicator function.\n",
    "\n",
    "**Construct a SCICO ADMM optimizer for this new regularized formulation of the problem.**"
   ]
  },
  {
   "cell_type": "code",
   "execution_count": null,
   "id": "874fe2c2",
   "metadata": {
    "collapsed": false
   },
   "outputs": [],
   "source": [
    "from scico.functional import BM3D, NonNegativeIndicator\n",
    "from scico.linop import Identity\n",
    "\n",
    "ρ = 15  # ADMM penalty parameter\n",
    "σ = 0.18  # denoiser sigma\n",
    "\n",
    "\n",
    "g1 = σ * ρ * BM3D()\n",
    "g2 = NonNegativeIndicator()\n",
    "\n",
    "solver_pnp = ADMM(\n",
    "    f=f,\n",
    "    g_list=[g1, g2],\n",
    "    C_list=[Identity((N, N)), Identity((N, N))],\n",
    "    rho_list=[ρ, ρ],\n",
    "    x0=x0,\n",
    "    maxiter=20,\n",
    "    subproblem_solver=LinearSubproblemSolver(cg_kwargs={\"tol\": 1e-4, \"maxiter\": 100}),\n",
    "    itstat_options={\"display\": True, \"period\": 5},\n",
    ")"
   ]
  },
  {
   "cell_type": "markdown",
   "id": "7b69964a",
   "metadata": {},
   "source": [
    "Run the next cell to see an example of running ADMM to compute $x$ from the PnP setup."
   ]
  },
  {
   "cell_type": "code",
   "execution_count": null,
   "id": "9b0540d9",
   "metadata": {
    "collapsed": false
   },
   "outputs": [],
   "source": [
    "x_bm3d = solver_pnp.solve()"
   ]
  },
  {
   "cell_type": "markdown",
   "id": "4b77cd84",
   "metadata": {},
   "source": [
    "Run the cell below to plot some convergence statistics."
   ]
  },
  {
   "cell_type": "code",
   "execution_count": null,
   "id": "719fe6c5",
   "metadata": {
    "collapsed": false
   },
   "outputs": [],
   "source": [
    "hist_bm3d = solver_pnp.itstat_object.history(transpose=True)\n",
    "\n",
    "plot.plot(\n",
    "    snp.vstack((hist_bm3d.Prml_Rsdl, hist_bm3d.Dual_Rsdl)).T,\n",
    "    ptyp=\"semilogy\",\n",
    "    title=\"Residuals\",\n",
    "    xlbl=\"Iteration\",\n",
    "    lgnd=(\"Primal\", \"Dual\"),\n",
    ")"
   ]
  },
  {
   "cell_type": "markdown",
   "id": "38d153c2",
   "metadata": {},
   "source": [
    "We do not have statistics for the objective function because..."
   ]
  },
  {
   "cell_type": "markdown",
   "id": "fd89233b",
   "metadata": {},
   "source": [
    "because the implicit prior used in the PnP framework is not the product of optimizing a function, it is a\n",
    "unsupervised improvement of the solution image."
   ]
  },
  {
   "cell_type": "markdown",
   "id": "fb0db991",
   "metadata": {},
   "source": [
    "Run the cell below to see your results and a quantitative comparison against the ground truth."
   ]
  },
  {
   "cell_type": "code",
   "execution_count": null,
   "id": "1e42ed69",
   "metadata": {
    "collapsed": false
   },
   "outputs": [],
   "source": [
    "x_bm3d_reconstruction = snp.clip(x_bm3d, 0, 1.0)\n",
    "\n",
    "fig, ax = plot.subplots(nrows=1, ncols=3, figsize=(15, 5))\n",
    "plot.imview(x_gt_ct, title=\"Ground truth\", cbar=None, fig=fig, ax=ax[0])\n",
    "plot.imview(\n",
    "    x0,\n",
    "    title=\"Initial Reconstruction: \\nSNR: %.2f (dB), MAE: %.3f\"\n",
    "    % (metric.snr(x_gt_ct, x0), metric.mae(x_gt_ct, x0)),\n",
    "    cbar=None,\n",
    "    fig=fig,\n",
    "    ax=ax[1],\n",
    ")\n",
    "plot.imview(\n",
    "    x_bm3d_reconstruction,\n",
    "    title=\"TV Reconstruction\\nSNR: %.2f (dB), MAE: %.3f\"\n",
    "    % (metric.snr(x_gt_ct, x_bm3d_reconstruction), metric.mae(x_gt_ct, x_bm3d_reconstruction)),\n",
    "    fig=fig,\n",
    "    ax=ax[2],\n",
    ")\n",
    "divider = make_axes_locatable(ax[2])\n",
    "cax = divider.append_axes(\"right\", size=\"5%\", pad=0.2)\n",
    "fig.colorbar(ax[2].get_images()[0], cax=cax, label=\"arbitrary units\")\n",
    "fig.show()"
   ]
  },
  {
   "cell_type": "markdown",
   "id": "a69ddcc6",
   "metadata": {},
   "source": [
    "## Conclusion\n",
    "This tutorial has shown how to set up and solve a simple CT reconstruction problem in\n",
    "SCICO using regularized least squares formulations. In doing so, it has demonstrated\n",
    "a diverse set of classes provided by SCICO such as operators, solvers and denoisers\n",
    "which make expressing regularized optimization problems more straightforward."
   ]
  },
  {
   "cell_type": "markdown",
   "id": "9df8dca1",
   "metadata": {},
   "source": [
    "You are done with this tutorial! Please report back in the Webex chat: **done with the PnP tutorial**.\n",
    "\n",
    "While you wait for others to finish, you could check out the [Denoiser documentation](https://scico.readthedocs.io/en/latest/_autosummary/scico.denoiser.html#module-scico.denoiser)\n",
    "to understand other types of denoisers available in SCICO for the `PnP` framework."
   ]
  }
 ],
 "metadata": {},
 "nbformat": 4,
 "nbformat_minor": 5
}
