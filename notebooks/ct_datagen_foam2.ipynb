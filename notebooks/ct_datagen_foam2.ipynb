{
 "cells": [
  {
   "cell_type": "markdown",
   "id": "54bab35e",
   "metadata": {},
   "source": [
    "CT Data Generation for NN Training\n",
    "==================================\n",
    "\n",
    "This example demonstrates how to generate synthetic CT data for training\n",
    "neural network models. If desired, a basic reconstruction can be\n",
    "generated using filtered back projection (FBP)."
   ]
  },
  {
   "cell_type": "code",
   "execution_count": 1,
   "id": "143ffba1",
   "metadata": {
    "collapsed": false,
    "execution": {
     "iopub.execute_input": "2024-10-11T21:35:53.753660Z",
     "iopub.status.busy": "2024-10-11T21:35:53.753497Z",
     "iopub.status.idle": "2024-10-11T21:36:58.099783Z",
     "shell.execute_reply": "2024-10-11T21:36:58.098737Z"
    }
   },
   "outputs": [],
   "source": [
    "# isort: off\n",
    "import os\n",
    "import numpy as np\n",
    "\n",
    "import logging\n",
    "import ray\n",
    "\n",
    "ray.init(logging_level=logging.ERROR)  # need to call init before jax import: ray-project/ray#44087\n",
    "\n",
    "# Set an arbitrary processor count (only applies if GPU is not available).\n",
    "os.environ[\"XLA_FLAGS\"] = \"--xla_force_host_platform_device_count=8\"\n",
    "\n",
    "from scico import plot\n",
    "from scico.flax.examples import load_ct_data\n",
    "plot.config_notebook_plotting()"
   ]
  },
  {
   "cell_type": "markdown",
   "id": "a7853c38",
   "metadata": {},
   "source": [
    "Read data from cache or generate if not available."
   ]
  },
  {
   "cell_type": "code",
   "execution_count": 2,
   "id": "8adeb961",
   "metadata": {
    "collapsed": false,
    "execution": {
     "iopub.execute_input": "2024-10-11T21:36:58.102744Z",
     "iopub.status.busy": "2024-10-11T21:36:58.102321Z",
     "iopub.status.idle": "2024-10-11T21:36:58.709407Z",
     "shell.execute_reply": "2024-10-11T21:36:58.708299Z"
    }
   },
   "outputs": [
    {
     "name": "stdout",
     "output_type": "stream",
     "text": [
      "Data read from path: ~/.cache/scico/examples/data\n",
      "Set --training-- size: 536\n",
      "Set --testing -- size: 64\n",
      "Data range --images  --  Min:  0.00  Max:  1.00\n",
      "Data range --sinogram--  Min: -0.00  Max:  0.95\n",
      "Data range --FBP     --  Min:  0.00  Max:  1.00\n"
     ]
    }
   ],
   "source": [
    "N = 256  # phantom size\n",
    "train_nimg = 536  # number of training images\n",
    "test_nimg = 64  # number of testing images\n",
    "nimg = train_nimg + test_nimg\n",
    "n_projection = 45  # CT views\n",
    "\n",
    "trdt, ttdt = load_ct_data(train_nimg, test_nimg, N, n_projection, verbose=True)"
   ]
  },
  {
   "cell_type": "markdown",
   "id": "54110ce9",
   "metadata": {},
   "source": [
    "Plot randomly selected sample."
   ]
  },
  {
   "cell_type": "code",
   "execution_count": 3,
   "id": "445e4068",
   "metadata": {
    "collapsed": false,
    "execution": {
     "iopub.execute_input": "2024-10-11T21:36:58.711640Z",
     "iopub.status.busy": "2024-10-11T21:36:58.711331Z",
     "iopub.status.idle": "2024-10-11T21:36:59.000318Z",
     "shell.execute_reply": "2024-10-11T21:36:58.999325Z"
    }
   },
   "outputs": [],
   "source": [
    "indx_tr = np.random.randint(0, train_nimg)\n",
    "indx_te = np.random.randint(0, test_nimg)\n",
    "fig, axes = plot.subplots(nrows=2, ncols=3, figsize=(9, 9))\n",
    "plot.imview(\n",
    "    trdt[\"img\"][indx_tr, ..., 0], title=\"Ground truth - Training Sample\", fig=fig, ax=axes[0, 0]\n",
    ")\n",
    "plot.imview(\n",
    "    trdt[\"sino\"][indx_tr, ..., 0], title=\"Sinogram - Training Sample\", fig=fig, ax=axes[0, 1]\n",
    ")\n",
    "plot.imview(\n",
    "    trdt[\"fbp\"][indx_tr, ..., 0],\n",
    "    title=\"FBP - Training Sample\",\n",
    "    fig=fig,\n",
    "    ax=axes[0, 2],\n",
    ")\n",
    "plot.imview(\n",
    "    ttdt[\"img\"][indx_te, ..., 0],\n",
    "    title=\"Ground truth - Testing Sample\",\n",
    "    fig=fig,\n",
    "    ax=axes[1, 0],\n",
    ")\n",
    "plot.imview(\n",
    "    ttdt[\"sino\"][indx_te, ..., 0], title=\"Sinogram - Testing Sample\", fig=fig, ax=axes[1, 1]\n",
    ")\n",
    "plot.imview(\n",
    "    ttdt[\"fbp\"][indx_te, ..., 0],\n",
    "    title=\"FBP - Testing Sample\",\n",
    "    fig=fig,\n",
    "    ax=axes[1, 2],\n",
    ")\n",
    "fig.suptitle(r\"Training and Testing samples\")\n",
    "fig.tight_layout()\n",
    "fig.colorbar(\n",
    "    axes[0, 2].get_images()[0],\n",
    "    ax=axes,\n",
    "    shrink=0.5,\n",
    "    pad=0.05,\n",
    "    label=\"Arbitrary Units\",\n",
    ")\n",
    "fig.show()"
   ]
  }
 ],
 "metadata": {
  "language_info": {
   "codemirror_mode": {
    "name": "ipython",
    "version": 3
   },
   "file_extension": ".py",
   "mimetype": "text/x-python",
   "name": "python",
   "nbconvert_exporter": "python",
   "pygments_lexer": "ipython3",
   "version": "3.12.7"
  }
 },
 "nbformat": 4,
 "nbformat_minor": 5
}
