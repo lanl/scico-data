{
 "cells": [
  {
   "cell_type": "markdown",
   "id": "a5860833",
   "metadata": {},
   "source": [
    "TV-Regularized Sparse-View CT Reconstruction (Multiple Projectors)\n",
    "==================================================================\n",
    "\n",
    "This example demonstrates solution of a sparse-view CT reconstruction\n",
    "problem with isotropic total variation (TV) regularization\n",
    "\n",
    "  $$\\mathrm{argmin}_{\\mathbf{x}} \\; (1/2) \\| \\mathbf{y} - A \\mathbf{x}\n",
    "  \\|_2^2 + \\lambda \\| C \\mathbf{x} \\|_{2,1} \\;,$$\n",
    "\n",
    "where $A$ is the X-ray transform (the CT forward projection operator),\n",
    "$\\mathbf{y}$ is the sinogram, $C$ is a 2D finite difference operator, and\n",
    "$\\mathbf{x}$ is the desired image. The solution is computed and compared\n",
    "for all three 2D CT projectors available in scico, using a sinogram\n",
    "computed with the astra projector."
   ]
  },
  {
   "cell_type": "code",
   "execution_count": 1,
   "id": "8ff3f931",
   "metadata": {
    "collapsed": false,
    "execution": {
     "iopub.execute_input": "2024-10-11T20:46:00.251365Z",
     "iopub.status.busy": "2024-10-11T20:46:00.251016Z",
     "iopub.status.idle": "2024-10-11T20:46:06.746712Z",
     "shell.execute_reply": "2024-10-11T20:46:06.745735Z"
    }
   },
   "outputs": [],
   "source": [
    "import numpy as np\n",
    "\n",
    "from xdesign import Foam, discrete_phantom\n",
    "\n",
    "import scico.numpy as snp\n",
    "from scico import functional, linop, loss, metric, plot\n",
    "from scico.linop.xray import XRayTransform2D, astra, svmbir\n",
    "from scico.optimize.admm import ADMM, LinearSubproblemSolver\n",
    "from scico.util import device_info\n",
    "plot.config_notebook_plotting()"
   ]
  },
  {
   "cell_type": "markdown",
   "id": "c69575eb",
   "metadata": {},
   "source": [
    "Create a ground truth image."
   ]
  },
  {
   "cell_type": "code",
   "execution_count": 2,
   "id": "7aa1f5b5",
   "metadata": {
    "collapsed": false,
    "execution": {
     "iopub.execute_input": "2024-10-11T20:46:06.749558Z",
     "iopub.status.busy": "2024-10-11T20:46:06.749290Z",
     "iopub.status.idle": "2024-10-11T20:46:10.619199Z",
     "shell.execute_reply": "2024-10-11T20:46:10.618369Z"
    }
   },
   "outputs": [],
   "source": [
    "N = 512  # phantom size\n",
    "np.random.seed(1234)\n",
    "x_gt = snp.array(discrete_phantom(Foam(size_range=[0.075, 0.0025], gap=1e-3, porosity=1), size=N))\n",
    "\n",
    "det_count = int(N * 1.05 / np.sqrt(2.0))\n",
    "det_spacing = np.sqrt(2)"
   ]
  },
  {
   "cell_type": "markdown",
   "id": "2d40cf05",
   "metadata": {},
   "source": [
    "Define CT geometry and construct array of (approximately) equivalent projectors."
   ]
  },
  {
   "cell_type": "code",
   "execution_count": 3,
   "id": "4d90948f",
   "metadata": {
    "collapsed": false,
    "execution": {
     "iopub.execute_input": "2024-10-11T20:46:10.621779Z",
     "iopub.status.busy": "2024-10-11T20:46:10.621589Z",
     "iopub.status.idle": "2024-10-11T20:46:11.506676Z",
     "shell.execute_reply": "2024-10-11T20:46:11.505650Z"
    }
   },
   "outputs": [],
   "source": [
    "n_projection = 45  # number of projections\n",
    "angles = np.linspace(0, np.pi, n_projection)  # evenly spaced projection angles\n",
    "projectors = {\n",
    "    \"astra\": astra.XRayTransform2D(\n",
    "        x_gt.shape, det_count, det_spacing, angles - np.pi / 2.0\n",
    "    ),  # astra\n",
    "    \"svmbir\": svmbir.XRayTransform(\n",
    "        x_gt.shape, 2 * np.pi - angles, det_count, delta_pixel=1.0, delta_channel=det_spacing\n",
    "    ),  # svmbir\n",
    "    \"scico\": XRayTransform2D((N, N), angles, det_count=det_count, dx=1 / det_spacing),  # scico\n",
    "}"
   ]
  },
  {
   "cell_type": "markdown",
   "id": "6449e17b",
   "metadata": {},
   "source": [
    "Compute common sinogram using astra projector."
   ]
  },
  {
   "cell_type": "code",
   "execution_count": 4,
   "id": "f6ee8a14",
   "metadata": {
    "collapsed": false,
    "execution": {
     "iopub.execute_input": "2024-10-11T20:46:11.509504Z",
     "iopub.status.busy": "2024-10-11T20:46:11.509295Z",
     "iopub.status.idle": "2024-10-11T20:46:11.615936Z",
     "shell.execute_reply": "2024-10-11T20:46:11.614951Z"
    }
   },
   "outputs": [],
   "source": [
    "A = projectors[\"astra\"]\n",
    "noise = np.random.normal(size=(n_projection, det_count)).astype(np.float32)\n",
    "y = A @ x_gt + 2.0 * noise"
   ]
  },
  {
   "cell_type": "markdown",
   "id": "d2328b71",
   "metadata": {},
   "source": [
    "Construct initial solution for regularized problem."
   ]
  },
  {
   "cell_type": "code",
   "execution_count": 5,
   "id": "11ab5282",
   "metadata": {
    "collapsed": false,
    "execution": {
     "iopub.execute_input": "2024-10-11T20:46:11.618314Z",
     "iopub.status.busy": "2024-10-11T20:46:11.618098Z",
     "iopub.status.idle": "2024-10-11T20:46:11.812301Z",
     "shell.execute_reply": "2024-10-11T20:46:11.811323Z"
    }
   },
   "outputs": [],
   "source": [
    "x0 = A.fbp(y)"
   ]
  },
  {
   "cell_type": "markdown",
   "id": "be5dc8fb",
   "metadata": {},
   "source": [
    "Solve the same problem using the different projectors."
   ]
  },
  {
   "cell_type": "code",
   "execution_count": 6,
   "id": "fecd89ff",
   "metadata": {
    "collapsed": false,
    "execution": {
     "iopub.execute_input": "2024-10-11T20:46:11.814681Z",
     "iopub.status.busy": "2024-10-11T20:46:11.814422Z",
     "iopub.status.idle": "2024-10-11T20:59:44.037515Z",
     "shell.execute_reply": "2024-10-11T20:59:44.036503Z"
    }
   },
   "outputs": [
    {
     "name": "stdout",
     "output_type": "stream",
     "text": [
      "Solving on GPU (NVIDIA A100-SXM4-80GB)\n",
      "\n",
      "Solving with astra projector\n"
     ]
    },
    {
     "name": "stdout",
     "output_type": "stream",
     "text": [
      "Iter  Time      Objective  Prml Rsdl  Dual Rsdl  CG It  CG Res   \n",
      "-----------------------------------------------------------------\n",
      "   0  3.10e+00  3.126e+06  3.234e+02  4.223e+04     26  9.839e-05\n"
     ]
    },
    {
     "name": "stdout",
     "output_type": "stream",
     "text": [
      "   1  5.18e+00  1.955e+06  4.934e+01  3.226e+04     20  8.832e-05\r"
     ]
    },
    {
     "name": "stdout",
     "output_type": "stream",
     "text": [
      "   2  6.48e+00  1.452e+06  4.692e+01  2.787e+04     13  9.025e-05\r"
     ]
    },
    {
     "name": "stdout",
     "output_type": "stream",
     "text": [
      "   3  7.52e+00  1.122e+06  4.866e+01  2.468e+04     12  9.610e-05\r"
     ]
    },
    {
     "name": "stdout",
     "output_type": "stream",
     "text": [
      "   4  8.57e+00  8.881e+05  5.316e+01  2.206e+04     12  9.775e-05\r"
     ]
    },
    {
     "name": "stdout",
     "output_type": "stream",
     "text": [
      "   5  9.68e+00  7.176e+05  5.848e+01  1.973e+04     13  8.586e-05\n"
     ]
    },
    {
     "name": "stdout",
     "output_type": "stream",
     "text": [
      "   6  1.08e+01  5.924e+05  6.284e+01  1.755e+04     14  7.716e-05\r"
     ]
    },
    {
     "name": "stdout",
     "output_type": "stream",
     "text": [
      "   7  1.19e+01  5.013e+05  6.522e+01  1.547e+04     13  9.221e-05\r"
     ]
    },
    {
     "name": "stdout",
     "output_type": "stream",
     "text": [
      "   8  1.30e+01  4.356e+05  6.510e+01  1.352e+04     14  8.708e-05\r"
     ]
    },
    {
     "name": "stdout",
     "output_type": "stream",
     "text": [
      "   9  1.41e+01  3.888e+05  6.317e+01  1.172e+04     14  9.082e-05\r"
     ]
    },
    {
     "name": "stdout",
     "output_type": "stream",
     "text": [
      "  10  1.52e+01  3.557e+05  5.932e+01  1.011e+04     14  9.490e-05\n"
     ]
    },
    {
     "name": "stdout",
     "output_type": "stream",
     "text": [
      "  11  1.65e+01  3.321e+05  5.454e+01  8.705e+03     16  8.157e-05\r"
     ]
    },
    {
     "name": "stdout",
     "output_type": "stream",
     "text": [
      "  12  1.77e+01  3.153e+05  5.021e+01  7.468e+03     15  8.875e-05\r"
     ]
    },
    {
     "name": "stdout",
     "output_type": "stream",
     "text": [
      "  13  1.89e+01  3.033e+05  4.572e+01  6.405e+03     14  9.267e-05\r"
     ]
    },
    {
     "name": "stdout",
     "output_type": "stream",
     "text": [
      "  14  2.00e+01  2.945e+05  4.112e+01  5.502e+03     14  9.675e-05\r"
     ]
    },
    {
     "name": "stdout",
     "output_type": "stream",
     "text": [
      "  15  2.11e+01  2.880e+05  3.661e+01  4.752e+03     13  9.400e-05\n"
     ]
    },
    {
     "name": "stdout",
     "output_type": "stream",
     "text": [
      "  16  2.20e+01  2.832e+05  3.296e+01  4.118e+03     12  9.894e-05\r"
     ]
    },
    {
     "name": "stdout",
     "output_type": "stream",
     "text": [
      "  17  2.30e+01  2.795e+05  2.914e+01  3.603e+03     12  9.469e-05\r"
     ]
    },
    {
     "name": "stdout",
     "output_type": "stream",
     "text": [
      "  18  2.39e+01  2.766e+05  2.618e+01  3.164e+03     12  9.124e-05\r"
     ]
    },
    {
     "name": "stdout",
     "output_type": "stream",
     "text": [
      "  19  2.48e+01  2.743e+05  2.352e+01  2.793e+03     11  9.259e-05\r"
     ]
    },
    {
     "name": "stdout",
     "output_type": "stream",
     "text": [
      "  20  2.57e+01  2.724e+05  2.090e+01  2.496e+03     11  8.804e-05\n"
     ]
    },
    {
     "name": "stdout",
     "output_type": "stream",
     "text": [
      "  21  2.65e+01  2.709e+05  1.919e+01  2.227e+03      9  9.850e-05\r"
     ]
    },
    {
     "name": "stdout",
     "output_type": "stream",
     "text": [
      "  22  2.73e+01  2.697e+05  1.694e+01  2.027e+03     10  9.510e-05\r"
     ]
    },
    {
     "name": "stdout",
     "output_type": "stream",
     "text": [
      "  23  2.82e+01  2.686e+05  1.537e+01  1.847e+03     10  8.774e-05\r"
     ]
    },
    {
     "name": "stdout",
     "output_type": "stream",
     "text": [
      "  24  2.89e+01  2.677e+05  1.424e+01  1.681e+03      8  9.729e-05\r"
     ]
    },
    {
     "name": "stdout",
     "output_type": "stream",
     "text": [
      "  25  2.96e+01  2.669e+05  1.270e+01  1.569e+03      9  9.150e-05\n"
     ]
    },
    {
     "name": "stdout",
     "output_type": "stream",
     "text": [
      "  26  3.03e+01  2.663e+05  1.169e+01  1.454e+03      8  9.644e-05\r"
     ]
    },
    {
     "name": "stdout",
     "output_type": "stream",
     "text": [
      "  27  3.11e+01  2.657e+05  1.082e+01  1.359e+03      9  8.274e-05\r"
     ]
    },
    {
     "name": "stdout",
     "output_type": "stream",
     "text": [
      "  28  3.17e+01  2.651e+05  1.063e+01  1.256e+03      6  9.470e-05\r"
     ]
    },
    {
     "name": "stdout",
     "output_type": "stream",
     "text": [
      "  29  3.23e+01  2.647e+05  9.383e+00  1.205e+03      7  9.129e-05\r"
     ]
    },
    {
     "name": "stdout",
     "output_type": "stream",
     "text": [
      "  30  3.30e+01  2.643e+05  8.916e+00  1.127e+03      6  9.948e-05\n"
     ]
    },
    {
     "name": "stdout",
     "output_type": "stream",
     "text": [
      "  31  3.36e+01  2.639e+05  8.112e+00  1.088e+03      6  9.773e-05\r"
     ]
    },
    {
     "name": "stdout",
     "output_type": "stream",
     "text": [
      "  32  3.41e+01  2.636e+05  7.607e+00  1.031e+03      6  9.782e-05\r"
     ]
    },
    {
     "name": "stdout",
     "output_type": "stream",
     "text": [
      "  33  3.47e+01  2.633e+05  7.129e+00  9.877e+02      6  9.213e-05\r"
     ]
    },
    {
     "name": "stdout",
     "output_type": "stream",
     "text": [
      "  34  3.53e+01  2.630e+05  6.761e+00  9.434e+02      6  8.965e-05\r"
     ]
    },
    {
     "name": "stdout",
     "output_type": "stream",
     "text": [
      "  35  3.57e+01  2.627e+05  7.288e+00  8.743e+02      4  9.876e-05\n"
     ]
    },
    {
     "name": "stdout",
     "output_type": "stream",
     "text": [
      "  36  3.62e+01  2.625e+05  6.101e+00  8.880e+02      5  9.368e-05\r"
     ]
    },
    {
     "name": "stdout",
     "output_type": "stream",
     "text": [
      "  37  3.67e+01  2.623e+05  6.095e+00  8.321e+02      6  8.482e-05\r"
     ]
    },
    {
     "name": "stdout",
     "output_type": "stream",
     "text": [
      "  38  3.70e+01  2.621e+05  5.896e+00  8.057e+02      2  9.765e-05\r"
     ]
    },
    {
     "name": "stdout",
     "output_type": "stream",
     "text": [
      "  39  3.74e+01  2.620e+05  5.785e+00  7.500e+02      4  8.909e-05\r"
     ]
    },
    {
     "name": "stdout",
     "output_type": "stream",
     "text": [
      "  40  3.79e+01  2.618e+05  5.021e+00  7.688e+02      5  8.910e-05\n"
     ]
    },
    {
     "name": "stdout",
     "output_type": "stream",
     "text": [
      "  41  3.82e+01  2.616e+05  4.977e+00  7.134e+02      2  9.779e-05\r"
     ]
    },
    {
     "name": "stdout",
     "output_type": "stream",
     "text": [
      "  42  3.89e+01  2.615e+05  4.884e+00  6.888e+02      4  9.421e-05\r"
     ]
    },
    {
     "name": "stdout",
     "output_type": "stream",
     "text": [
      "  43  3.94e+01  2.614e+05  4.621e+00  6.978e+02      5  8.714e-05\r"
     ]
    },
    {
     "name": "stdout",
     "output_type": "stream",
     "text": [
      "  44  3.97e+01  2.612e+05  4.358e+00  6.599e+02      2  9.124e-05\r"
     ]
    },
    {
     "name": "stdout",
     "output_type": "stream",
     "text": [
      "  45  4.01e+01  2.611e+05  3.895e+00  6.523e+02      3  9.413e-05\n"
     ]
    },
    {
     "name": "stdout",
     "output_type": "stream",
     "text": [
      "  46  4.05e+01  2.611e+05  4.018e+00  6.257e+02      4  8.946e-05\r"
     ]
    },
    {
     "name": "stdout",
     "output_type": "stream",
     "text": [
      "  47  4.09e+01  2.609e+05  3.678e+00  6.241e+02      4  9.705e-05\r"
     ]
    },
    {
     "name": "stdout",
     "output_type": "stream",
     "text": [
      "  48  4.13e+01  2.608e+05  3.609e+00  6.166e+02      3  9.800e-05\r"
     ]
    },
    {
     "name": "stdout",
     "output_type": "stream",
     "text": [
      "  49  4.19e+01  2.607e+05  3.117e+00  6.043e+02      3  9.155e-05\r"
     ]
    },
    {
     "name": "stdout",
     "output_type": "stream",
     "text": [
      "  50  4.23e+01  2.607e+05  3.689e+00  5.676e+02      4  8.602e-05\n"
     ]
    },
    {
     "name": "stdout",
     "output_type": "stream",
     "text": [
      "  51  4.26e+01  2.605e+05  3.187e+00  5.640e+02      2  9.235e-05\r"
     ]
    },
    {
     "name": "stdout",
     "output_type": "stream",
     "text": [
      "  52  4.30e+01  2.605e+05  2.801e+00  5.618e+02      3  8.809e-05\r"
     ]
    },
    {
     "name": "stdout",
     "output_type": "stream",
     "text": [
      "  53  4.34e+01  2.604e+05  3.373e+00  5.307e+02      4  8.397e-05\r"
     ]
    },
    {
     "name": "stdout",
     "output_type": "stream",
     "text": [
      "  54  4.37e+01  2.603e+05  2.890e+00  5.326e+02      2  8.881e-05\r"
     ]
    },
    {
     "name": "stdout",
     "output_type": "stream",
     "text": [
      "  55  4.40e+01  2.602e+05  2.537e+00  5.275e+02      3  8.427e-05\n"
     ]
    },
    {
     "name": "stdout",
     "output_type": "stream",
     "text": [
      "  56  4.44e+01  2.602e+05  2.349e+00  5.203e+02      3  9.682e-05\r"
     ]
    },
    {
     "name": "stdout",
     "output_type": "stream",
     "text": [
      "  57  4.51e+01  2.601e+05  2.245e+00  5.131e+02      3  8.614e-05\r"
     ]
    },
    {
     "name": "stdout",
     "output_type": "stream",
     "text": [
      "  58  4.54e+01  2.600e+05  2.149e+00  5.020e+02      3  9.550e-05\r"
     ]
    },
    {
     "name": "stdout",
     "output_type": "stream",
     "text": [
      "  59  4.58e+01  2.600e+05  2.079e+00  4.950e+02      3  8.475e-05\r"
     ]
    },
    {
     "name": "stdout",
     "output_type": "stream",
     "text": [
      "  60  4.61e+01  2.599e+05  2.037e+00  4.838e+02      3  9.349e-05\n"
     ]
    },
    {
     "name": "stdout",
     "output_type": "stream",
     "text": [
      "  61  4.64e+01  2.598e+05  2.558e+00  4.740e+02      2  9.808e-05\r"
     ]
    },
    {
     "name": "stdout",
     "output_type": "stream",
     "text": [
      "  62  4.67e+01  2.598e+05  2.271e+00  4.637e+02      2  9.110e-05\r"
     ]
    },
    {
     "name": "stdout",
     "output_type": "stream",
     "text": [
      "  63  4.70e+01  2.598e+05  2.127e+00  4.608e+02      3  8.224e-05\r"
     ]
    },
    {
     "name": "stdout",
     "output_type": "stream",
     "text": [
      "  64  4.73e+01  2.597e+05  2.670e+00  3.946e+02      1  9.775e-05\r"
     ]
    },
    {
     "name": "stdout",
     "output_type": "stream",
     "text": [
      "  65  4.76e+01  2.597e+05  2.034e+00  4.588e+02      3  8.408e-05\n"
     ]
    },
    {
     "name": "stdout",
     "output_type": "stream",
     "text": [
      "  66  4.80e+01  2.596e+05  1.864e+00  4.484e+02      3  8.675e-05\r"
     ]
    },
    {
     "name": "stdout",
     "output_type": "stream",
     "text": [
      "  67  4.84e+01  2.596e+05  2.253e+00  4.229e+02      2  9.909e-05\r"
     ]
    },
    {
     "name": "stdout",
     "output_type": "stream",
     "text": [
      "  68  4.90e+01  2.596e+05  2.187e+00  4.067e+02      2  9.005e-05\r"
     ]
    },
    {
     "name": "stdout",
     "output_type": "stream",
     "text": [
      "  69  4.94e+01  2.595e+05  1.782e+00  4.376e+02      3  7.805e-05\r"
     ]
    },
    {
     "name": "stdout",
     "output_type": "stream",
     "text": [
      "  70  4.96e+01  2.595e+05  2.442e+00  3.568e+02      1  9.367e-05\n"
     ]
    },
    {
     "name": "stdout",
     "output_type": "stream",
     "text": [
      "  71  4.99e+01  2.595e+05  2.402e+00  3.671e+02      2  9.931e-05\r"
     ]
    },
    {
     "name": "stdout",
     "output_type": "stream",
     "text": [
      "  72  5.02e+01  2.594e+05  2.853e+00  3.450e+02      2  9.982e-05\r"
     ]
    },
    {
     "name": "stdout",
     "output_type": "stream",
     "text": [
      "  73  5.05e+01  2.594e+05  1.775e+00  4.294e+02      3  7.598e-05\r"
     ]
    },
    {
     "name": "stdout",
     "output_type": "stream",
     "text": [
      "  74  5.07e+01  2.593e+05  2.147e+00  3.421e+02      1  8.789e-05\r"
     ]
    },
    {
     "name": "stdout",
     "output_type": "stream",
     "text": [
      "  75  5.10e+01  2.593e+05  2.085e+00  3.568e+02      2  9.673e-05\n"
     ]
    },
    {
     "name": "stdout",
     "output_type": "stream",
     "text": [
      "  76  5.13e+01  2.593e+05  2.481e+00  3.407e+02      2  9.184e-05\r"
     ]
    },
    {
     "name": "stdout",
     "output_type": "stream",
     "text": [
      "  77  5.16e+01  2.593e+05  2.728e+00  3.149e+02      2  9.857e-05\r"
     ]
    },
    {
     "name": "stdout",
     "output_type": "stream",
     "text": [
      "  78  5.21e+01  2.592e+05  2.801e+00  2.984e+02      2  9.571e-05\r"
     ]
    },
    {
     "name": "stdout",
     "output_type": "stream",
     "text": [
      "  79  5.24e+01  2.592e+05  2.852e+00  2.893e+02      2  9.749e-05\r"
     ]
    },
    {
     "name": "stdout",
     "output_type": "stream",
     "text": [
      "  80  5.27e+01  2.592e+05  2.832e+00  2.832e+02      2  9.672e-05\n"
     ]
    },
    {
     "name": "stdout",
     "output_type": "stream",
     "text": [
      "  81  5.29e+01  2.592e+05  2.831e+00  2.782e+02      2  9.604e-05\r"
     ]
    },
    {
     "name": "stdout",
     "output_type": "stream",
     "text": [
      "  82  5.32e+01  2.592e+05  2.805e+00  2.753e+02      2  9.646e-05\r"
     ]
    },
    {
     "name": "stdout",
     "output_type": "stream",
     "text": [
      "  83  5.35e+01  2.591e+05  2.788e+00  2.708e+02      2  9.472e-05\r"
     ]
    },
    {
     "name": "stdout",
     "output_type": "stream",
     "text": [
      "  84  5.38e+01  2.591e+05  2.767e+00  2.687e+02      2  9.555e-05\r"
     ]
    },
    {
     "name": "stdout",
     "output_type": "stream",
     "text": [
      "  85  5.41e+01  2.591e+05  2.745e+00  2.645e+02      2  9.355e-05\n"
     ]
    },
    {
     "name": "stdout",
     "output_type": "stream",
     "text": [
      "  86  5.44e+01  2.591e+05  2.725e+00  2.629e+02      2  9.440e-05\r"
     ]
    },
    {
     "name": "stdout",
     "output_type": "stream",
     "text": [
      "  87  5.46e+01  2.591e+05  2.703e+00  2.589e+02      2  9.250e-05\r"
     ]
    },
    {
     "name": "stdout",
     "output_type": "stream",
     "text": [
      "  88  5.49e+01  2.590e+05  2.686e+00  2.572e+02      2  9.317e-05\r"
     ]
    },
    {
     "name": "stdout",
     "output_type": "stream",
     "text": [
      "  89  5.52e+01  2.590e+05  2.665e+00  2.535e+02      2  9.154e-05\r"
     ]
    },
    {
     "name": "stdout",
     "output_type": "stream",
     "text": [
      "  90  5.55e+01  2.590e+05  2.649e+00  2.517e+02      2  9.194e-05\n"
     ]
    },
    {
     "name": "stdout",
     "output_type": "stream",
     "text": [
      "  91  5.58e+01  2.590e+05  2.626e+00  2.485e+02      2  9.058e-05\r"
     ]
    },
    {
     "name": "stdout",
     "output_type": "stream",
     "text": [
      "  92  5.61e+01  2.590e+05  2.612e+00  2.465e+02      2  9.067e-05\r"
     ]
    },
    {
     "name": "stdout",
     "output_type": "stream",
     "text": [
      "  93  5.64e+01  2.589e+05  2.592e+00  2.436e+02      2  8.961e-05\r"
     ]
    },
    {
     "name": "stdout",
     "output_type": "stream",
     "text": [
      "  94  5.66e+01  2.589e+05  2.576e+00  2.417e+02      2  8.945e-05\r"
     ]
    },
    {
     "name": "stdout",
     "output_type": "stream",
     "text": [
      "  95  5.69e+01  2.589e+05  2.555e+00  2.392e+02      2  8.863e-05\n"
     ]
    },
    {
     "name": "stdout",
     "output_type": "stream",
     "text": [
      "  96  5.71e+01  2.589e+05  1.884e+00  1.521e+02      1  9.942e-05\r"
     ]
    },
    {
     "name": "stdout",
     "output_type": "stream",
     "text": [
      "  97  5.74e+01  2.589e+05  2.021e+00  2.693e+02      2  8.270e-05\r"
     ]
    },
    {
     "name": "stdout",
     "output_type": "stream",
     "text": [
      "  98  5.76e+01  2.589e+05  2.340e+00  1.649e+02      1  8.977e-05\r"
     ]
    },
    {
     "name": "stdout",
     "output_type": "stream",
     "text": [
      "  99  5.79e+01  2.588e+05  2.252e+00  2.417e+02      2  8.829e-05\r\n",
      "\n",
      "Solving with svmbir projector\n"
     ]
    },
    {
     "name": "stdout",
     "output_type": "stream",
     "text": [
      "Iter  Time      Objective  Prml Rsdl  Dual Rsdl  CG It  CG Res   \n",
      "-----------------------------------------------------------------\n",
      "   0  2.34e+01  2.586e+06  3.234e+02  3.949e+04     25  8.964e-05\n"
     ]
    },
    {
     "name": "stdout",
     "output_type": "stream",
     "text": [
      "   1  4.18e+01  1.679e+06  4.703e+01  3.015e+04     18  9.812e-05\r"
     ]
    },
    {
     "name": "stdout",
     "output_type": "stream",
     "text": [
      "   2  5.46e+01  1.295e+06  4.371e+01  2.619e+04     12  9.126e-05\r"
     ]
    },
    {
     "name": "stdout",
     "output_type": "stream",
     "text": [
      "   3  6.69e+01  1.041e+06  4.484e+01  2.338e+04     11  9.619e-05\r"
     ]
    },
    {
     "name": "stdout",
     "output_type": "stream",
     "text": [
      "   4  7.93e+01  8.579e+05  4.835e+01  2.109e+04     11  9.847e-05\r"
     ]
    },
    {
     "name": "stdout",
     "output_type": "stream",
     "text": [
      "   5  9.28e+01  7.197e+05  5.330e+01  1.905e+04     12  8.733e-05\n"
     ]
    },
    {
     "name": "stdout",
     "output_type": "stream",
     "text": [
      "   6  1.06e+02  6.138e+05  5.760e+01  1.714e+04     12  8.803e-05\r"
     ]
    },
    {
     "name": "stdout",
     "output_type": "stream",
     "text": [
      "   7  1.20e+02  5.327e+05  6.002e+01  1.531e+04     12  9.186e-05\r"
     ]
    },
    {
     "name": "stdout",
     "output_type": "stream",
     "text": [
      "   8  1.33e+02  4.710e+05  6.059e+01  1.358e+04     12  9.799e-05\r"
     ]
    },
    {
     "name": "stdout",
     "output_type": "stream",
     "text": [
      "   9  1.47e+02  4.243e+05  5.961e+01  1.195e+04     13  9.044e-05\r"
     ]
    },
    {
     "name": "stdout",
     "output_type": "stream",
     "text": [
      "  10  1.62e+02  3.892e+05  5.719e+01  1.046e+04     13  9.350e-05\n"
     ]
    },
    {
     "name": "stdout",
     "output_type": "stream",
     "text": [
      "  11  1.78e+02  3.629e+05  5.318e+01  9.137e+03     13  9.525e-05\r"
     ]
    },
    {
     "name": "stdout",
     "output_type": "stream",
     "text": [
      "  12  1.93e+02  3.430e+05  4.909e+01  7.973e+03     13  9.459e-05\r"
     ]
    },
    {
     "name": "stdout",
     "output_type": "stream",
     "text": [
      "  13  2.08e+02  3.279e+05  4.526e+01  6.946e+03     13  9.191e-05\r"
     ]
    },
    {
     "name": "stdout",
     "output_type": "stream",
     "text": [
      "  14  2.24e+02  3.164e+05  4.147e+01  6.051e+03     13  8.842e-05\r"
     ]
    },
    {
     "name": "stdout",
     "output_type": "stream",
     "text": [
      "  15  2.37e+02  3.076e+05  3.785e+01  5.273e+03     12  9.518e-05\n"
     ]
    },
    {
     "name": "stdout",
     "output_type": "stream",
     "text": [
      "  16  2.52e+02  3.008e+05  3.394e+01  4.629e+03     12  9.209e-05\r"
     ]
    },
    {
     "name": "stdout",
     "output_type": "stream",
     "text": [
      "  17  2.65e+02  2.954e+05  3.067e+01  4.074e+03     11  9.869e-05\r"
     ]
    },
    {
     "name": "stdout",
     "output_type": "stream",
     "text": [
      "  18  2.78e+02  2.911e+05  2.761e+01  3.615e+03     11  9.507e-05\r"
     ]
    },
    {
     "name": "stdout",
     "output_type": "stream",
     "text": [
      "  19  2.91e+02  2.877e+05  2.522e+01  3.208e+03     11  8.929e-05\r"
     ]
    },
    {
     "name": "stdout",
     "output_type": "stream",
     "text": [
      "  20  3.02e+02  2.849e+05  2.289e+01  2.858e+03     10  9.481e-05\n"
     ]
    },
    {
     "name": "stdout",
     "output_type": "stream",
     "text": [
      "  21  3.14e+02  2.826e+05  2.052e+01  2.580e+03     10  9.128e-05\r"
     ]
    },
    {
     "name": "stdout",
     "output_type": "stream",
     "text": [
      "  22  3.25e+02  2.807e+05  1.885e+01  2.321e+03      9  9.859e-05\r"
     ]
    },
    {
     "name": "stdout",
     "output_type": "stream",
     "text": [
      "  23  3.36e+02  2.791e+05  1.702e+01  2.122e+03      9  9.586e-05\r"
     ]
    },
    {
     "name": "stdout",
     "output_type": "stream",
     "text": [
      "  24  3.47e+02  2.778e+05  1.537e+01  1.945e+03      9  9.161e-05\r"
     ]
    },
    {
     "name": "stdout",
     "output_type": "stream",
     "text": [
      "  25  3.57e+02  2.766e+05  1.443e+01  1.778e+03      8  9.679e-05\n"
     ]
    },
    {
     "name": "stdout",
     "output_type": "stream",
     "text": [
      "  26  3.67e+02  2.756e+05  1.297e+01  1.663e+03      8  9.479e-05\r"
     ]
    },
    {
     "name": "stdout",
     "output_type": "stream",
     "text": [
      "  27  3.77e+02  2.747e+05  1.195e+01  1.546e+03      8  9.199e-05\r"
     ]
    },
    {
     "name": "stdout",
     "output_type": "stream",
     "text": [
      "  28  3.86e+02  2.739e+05  1.132e+01  1.440e+03      7  9.801e-05\r"
     ]
    },
    {
     "name": "stdout",
     "output_type": "stream",
     "text": [
      "  29  3.95e+02  2.733e+05  1.031e+01  1.368e+03      7  9.764e-05\r"
     ]
    },
    {
     "name": "stdout",
     "output_type": "stream",
     "text": [
      "  30  4.04e+02  2.726e+05  9.520e+00  1.288e+03      7  9.648e-05\n"
     ]
    },
    {
     "name": "stdout",
     "output_type": "stream",
     "text": [
      "  31  4.13e+02  2.721e+05  8.902e+00  1.220e+03      7  9.127e-05\r"
     ]
    },
    {
     "name": "stdout",
     "output_type": "stream",
     "text": [
      "  32  4.20e+02  2.716e+05  8.830e+00  1.139e+03      6  9.790e-05\r"
     ]
    },
    {
     "name": "stdout",
     "output_type": "stream",
     "text": [
      "  33  4.28e+02  2.712e+05  7.945e+00  1.103e+03      6  9.490e-05\r"
     ]
    },
    {
     "name": "stdout",
     "output_type": "stream",
     "text": [
      "  34  4.36e+02  2.708e+05  7.477e+00  1.047e+03      6  9.787e-05\r"
     ]
    },
    {
     "name": "stdout",
     "output_type": "stream",
     "text": [
      "  35  4.45e+02  2.704e+05  7.038e+00  1.002e+03      6  9.099e-05\n"
     ]
    },
    {
     "name": "stdout",
     "output_type": "stream",
     "text": [
      "  36  4.52e+02  2.701e+05  6.749e+00  9.568e+02      6  9.058e-05\r"
     ]
    },
    {
     "name": "stdout",
     "output_type": "stream",
     "text": [
      "  37  4.58e+02  2.697e+05  7.197e+00  8.896e+02      4  9.545e-05\r"
     ]
    },
    {
     "name": "stdout",
     "output_type": "stream",
     "text": [
      "  38  4.66e+02  2.695e+05  6.027e+00  9.010e+02      5  9.409e-05\r"
     ]
    },
    {
     "name": "stdout",
     "output_type": "stream",
     "text": [
      "  39  4.74e+02  2.693e+05  6.043e+00  8.499e+02      6  8.521e-05\r"
     ]
    },
    {
     "name": "stdout",
     "output_type": "stream",
     "text": [
      "  40  4.78e+02  2.690e+05  5.836e+00  8.234e+02      2  9.295e-05\n"
     ]
    },
    {
     "name": "stdout",
     "output_type": "stream",
     "text": [
      "  41  4.84e+02  2.688e+05  5.710e+00  7.708e+02      4  9.135e-05\r"
     ]
    },
    {
     "name": "stdout",
     "output_type": "stream",
     "text": [
      "  42  4.91e+02  2.687e+05  5.018e+00  7.885e+02      5  9.013e-05\r"
     ]
    },
    {
     "name": "stdout",
     "output_type": "stream",
     "text": [
      "  43  4.95e+02  2.684e+05  4.974e+00  7.358e+02      2  9.294e-05\r"
     ]
    },
    {
     "name": "stdout",
     "output_type": "stream",
     "text": [
      "  44  5.01e+02  2.683e+05  4.922e+00  7.095e+02      4  9.642e-05\r"
     ]
    },
    {
     "name": "stdout",
     "output_type": "stream",
     "text": [
      "  45  5.08e+02  2.682e+05  4.697e+00  7.202e+02      5  8.888e-05\n"
     ]
    },
    {
     "name": "stdout",
     "output_type": "stream",
     "text": [
      "  46  5.12e+02  2.680e+05  4.406e+00  6.813e+02      2  8.636e-05\r"
     ]
    },
    {
     "name": "stdout",
     "output_type": "stream",
     "text": [
      "  47  5.19e+02  2.679e+05  4.483e+00  6.520e+02      4  8.937e-05\r"
     ]
    },
    {
     "name": "stdout",
     "output_type": "stream",
     "text": [
      "  48  5.25e+02  2.677e+05  4.065e+00  6.513e+02      4  9.988e-05\r"
     ]
    },
    {
     "name": "stdout",
     "output_type": "stream",
     "text": [
      "  49  5.31e+02  2.676e+05  4.131e+00  6.291e+02      4  9.009e-05\r"
     ]
    },
    {
     "name": "stdout",
     "output_type": "stream",
     "text": [
      "  50  5.37e+02  2.674e+05  3.927e+00  6.133e+02      4  9.447e-05\n"
     ]
    },
    {
     "name": "stdout",
     "output_type": "stream",
     "text": [
      "  51  5.42e+02  2.673e+05  3.609e+00  6.345e+02      3  9.848e-05\r"
     ]
    },
    {
     "name": "stdout",
     "output_type": "stream",
     "text": [
      "  52  5.46e+02  2.672e+05  3.158e+00  6.089e+02      3  9.032e-05\r"
     ]
    },
    {
     "name": "stdout",
     "output_type": "stream",
     "text": [
      "  53  5.52e+02  2.671e+05  3.673e+00  5.764e+02      4  8.623e-05\r"
     ]
    },
    {
     "name": "stdout",
     "output_type": "stream",
     "text": [
      "  54  5.56e+02  2.670e+05  3.144e+00  5.707e+02      2  9.640e-05\r"
     ]
    },
    {
     "name": "stdout",
     "output_type": "stream",
     "text": [
      "  55  5.61e+02  2.669e+05  2.785e+00  5.692e+02      3  8.755e-05\n"
     ]
    },
    {
     "name": "stdout",
     "output_type": "stream",
     "text": [
      "  56  5.67e+02  2.668e+05  3.371e+00  5.413e+02      4  8.508e-05\r"
     ]
    },
    {
     "name": "stdout",
     "output_type": "stream",
     "text": [
      "  57  5.71e+02  2.667e+05  2.822e+00  5.397e+02      2  9.499e-05\r"
     ]
    },
    {
     "name": "stdout",
     "output_type": "stream",
     "text": [
      "  58  5.76e+02  2.667e+05  2.528e+00  5.334e+02      3  8.343e-05\r"
     ]
    },
    {
     "name": "stdout",
     "output_type": "stream",
     "text": [
      "  59  5.83e+02  2.666e+05  3.097e+00  5.147e+02      4  8.159e-05\r"
     ]
    },
    {
     "name": "stdout",
     "output_type": "stream",
     "text": [
      "  60  5.86e+02  2.665e+05  3.203e+00  4.618e+02      1  9.482e-05\n"
     ]
    },
    {
     "name": "stdout",
     "output_type": "stream",
     "text": [
      "  61  5.91e+02  2.664e+05  2.596e+00  5.148e+02      3  7.984e-05\r"
     ]
    },
    {
     "name": "stdout",
     "output_type": "stream",
     "text": [
      "  62  5.96e+02  2.664e+05  2.188e+00  5.028e+02      3  8.598e-05\r"
     ]
    },
    {
     "name": "stdout",
     "output_type": "stream",
     "text": [
      "  63  6.01e+02  2.663e+05  2.075e+00  4.960e+02      3  8.574e-05\r"
     ]
    },
    {
     "name": "stdout",
     "output_type": "stream",
     "text": [
      "  64  6.06e+02  2.662e+05  1.995e+00  4.910e+02      3  8.559e-05\r"
     ]
    },
    {
     "name": "stdout",
     "output_type": "stream",
     "text": [
      "  65  6.11e+02  2.662e+05  1.936e+00  4.820e+02      3  8.414e-05\n"
     ]
    },
    {
     "name": "stdout",
     "output_type": "stream",
     "text": [
      "  66  6.16e+02  2.661e+05  1.900e+00  4.748e+02      3  8.390e-05\r"
     ]
    },
    {
     "name": "stdout",
     "output_type": "stream",
     "text": [
      "  67  6.22e+02  2.660e+05  1.895e+00  4.652e+02      3  8.193e-05\r"
     ]
    },
    {
     "name": "stdout",
     "output_type": "stream",
     "text": [
      "  68  6.27e+02  2.660e+05  1.911e+00  4.571e+02      3  8.195e-05\r"
     ]
    },
    {
     "name": "stdout",
     "output_type": "stream",
     "text": [
      "  69  6.30e+02  2.659e+05  2.494e+00  4.076e+02      1  9.990e-05\r"
     ]
    },
    {
     "name": "stdout",
     "output_type": "stream",
     "text": [
      "  70  6.34e+02  2.659e+05  2.242e+00  4.342e+02      2  8.676e-05\n"
     ]
    },
    {
     "name": "stdout",
     "output_type": "stream",
     "text": [
      "  71  6.39e+02  2.659e+05  1.882e+00  4.437e+02      3  7.701e-05\r"
     ]
    },
    {
     "name": "stdout",
     "output_type": "stream",
     "text": [
      "  72  6.43e+02  2.658e+05  2.209e+00  3.905e+02      1  9.039e-05\r"
     ]
    },
    {
     "name": "stdout",
     "output_type": "stream",
     "text": [
      "  73  6.47e+02  2.658e+05  2.095e+00  4.077e+02      2  9.601e-05\r"
     ]
    },
    {
     "name": "stdout",
     "output_type": "stream",
     "text": [
      "  74  6.51e+02  2.657e+05  2.367e+00  3.984e+02      2  9.419e-05\r"
     ]
    },
    {
     "name": "stdout",
     "output_type": "stream",
     "text": [
      "  75  6.55e+02  2.657e+05  2.664e+00  3.716e+02      2  9.846e-05\n"
     ]
    },
    {
     "name": "stdout",
     "output_type": "stream",
     "text": [
      "  76  6.60e+02  2.657e+05  1.866e+00  4.329e+02      3  7.607e-05\r"
     ]
    },
    {
     "name": "stdout",
     "output_type": "stream",
     "text": [
      "  77  6.63e+02  2.656e+05  1.953e+00  3.708e+02      1  8.563e-05\r"
     ]
    },
    {
     "name": "stdout",
     "output_type": "stream",
     "text": [
      "  78  6.67e+02  2.656e+05  1.733e+00  3.868e+02      2  9.567e-05\r"
     ]
    },
    {
     "name": "stdout",
     "output_type": "stream",
     "text": [
      "  79  6.71e+02  2.655e+05  2.044e+00  3.818e+02      2  8.821e-05\r"
     ]
    },
    {
     "name": "stdout",
     "output_type": "stream",
     "text": [
      "  80  6.75e+02  2.655e+05  2.352e+00  3.557e+02      2  9.677e-05\n"
     ]
    },
    {
     "name": "stdout",
     "output_type": "stream",
     "text": [
      "  81  6.79e+02  2.655e+05  2.593e+00  3.324e+02      2  9.424e-05\r"
     ]
    },
    {
     "name": "stdout",
     "output_type": "stream",
     "text": [
      "  82  6.83e+02  2.655e+05  2.752e+00  3.155e+02      2  9.668e-05\r"
     ]
    },
    {
     "name": "stdout",
     "output_type": "stream",
     "text": [
      "  83  6.87e+02  2.654e+05  2.757e+00  3.058e+02      2  9.573e-05\r"
     ]
    },
    {
     "name": "stdout",
     "output_type": "stream",
     "text": [
      "  84  6.91e+02  2.654e+05  2.774e+00  2.996e+02      2  9.464e-05\r"
     ]
    },
    {
     "name": "stdout",
     "output_type": "stream",
     "text": [
      "  85  6.95e+02  2.654e+05  2.748e+00  2.962e+02      2  9.561e-05\n"
     ]
    },
    {
     "name": "stdout",
     "output_type": "stream",
     "text": [
      "  86  6.99e+02  2.653e+05  2.739e+00  2.914e+02      2  9.287e-05\r"
     ]
    },
    {
     "name": "stdout",
     "output_type": "stream",
     "text": [
      "  87  7.03e+02  2.653e+05  2.713e+00  2.893e+02      2  9.488e-05\r"
     ]
    },
    {
     "name": "stdout",
     "output_type": "stream",
     "text": [
      "  88  7.07e+02  2.653e+05  2.697e+00  2.844e+02      2  9.142e-05\r"
     ]
    },
    {
     "name": "stdout",
     "output_type": "stream",
     "text": [
      "  89  7.11e+02  2.653e+05  2.678e+00  2.830e+02      2  9.397e-05\r"
     ]
    },
    {
     "name": "stdout",
     "output_type": "stream",
     "text": [
      "  90  7.15e+02  2.652e+05  2.660e+00  2.781e+02      2  9.021e-05\n"
     ]
    },
    {
     "name": "stdout",
     "output_type": "stream",
     "text": [
      "  91  7.19e+02  2.652e+05  2.641e+00  2.770e+02      2  9.288e-05\r"
     ]
    },
    {
     "name": "stdout",
     "output_type": "stream",
     "text": [
      "  92  7.23e+02  2.652e+05  2.624e+00  2.721e+02      2  8.907e-05\r"
     ]
    },
    {
     "name": "stdout",
     "output_type": "stream",
     "text": [
      "  93  7.27e+02  2.652e+05  2.607e+00  2.711e+02      2  9.176e-05\r"
     ]
    },
    {
     "name": "stdout",
     "output_type": "stream",
     "text": [
      "  94  7.31e+02  2.652e+05  2.589e+00  2.664e+02      2  8.803e-05\r"
     ]
    },
    {
     "name": "stdout",
     "output_type": "stream",
     "text": [
      "  95  7.35e+02  2.651e+05  2.573e+00  2.655e+02      2  9.064e-05\n"
     ]
    },
    {
     "name": "stdout",
     "output_type": "stream",
     "text": [
      "  96  7.39e+02  2.651e+05  2.554e+00  2.611e+02      2  8.707e-05\r"
     ]
    },
    {
     "name": "stdout",
     "output_type": "stream",
     "text": [
      "  97  7.43e+02  2.651e+05  2.539e+00  2.602e+02      2  8.954e-05\r"
     ]
    },
    {
     "name": "stdout",
     "output_type": "stream",
     "text": [
      "  98  7.47e+02  2.651e+05  2.520e+00  2.560e+02      2  8.611e-05\r"
     ]
    },
    {
     "name": "stdout",
     "output_type": "stream",
     "text": [
      "  99  7.50e+02  2.651e+05  1.948e+00  1.741e+02      1  9.928e-05\r\n",
      "\n",
      "Solving with scico projector\n"
     ]
    },
    {
     "name": "stdout",
     "output_type": "stream",
     "text": [
      "Iter  Time      Objective  Prml Rsdl  Dual Rsdl  CG It  CG Res   \n",
      "-----------------------------------------------------------------\n",
      "   0  2.28e-01  3.079e+06  3.234e+02  5.944e+04     42  8.637e-05\n",
      "   1  3.00e-01  1.600e+06  6.516e+01  3.879e+04     21  9.371e-05\r",
      "   2  3.45e-01  1.103e+06  5.955e+01  3.071e+04     14  9.926e-05\r",
      "   3  3.96e-01  8.219e+05  5.861e+01  2.561e+04     16  8.536e-05\r"
     ]
    },
    {
     "name": "stdout",
     "output_type": "stream",
     "text": [
      "   4  4.44e-01  6.413e+05  6.094e+01  2.195e+04     15  8.362e-05\r",
      "   5  4.90e-01  5.174e+05  6.499e+01  1.905e+04     15  9.469e-05\n",
      "   6  5.42e-01  4.299e+05  6.841e+01  1.657e+04     17  8.868e-05\r",
      "   7  5.94e-01  3.675e+05  6.919e+01  1.438e+04     17  8.870e-05\r"
     ]
    },
    {
     "name": "stdout",
     "output_type": "stream",
     "text": [
      "   8  6.46e-01  3.229e+05  6.732e+01  1.240e+04     17  8.570e-05\r",
      "   9  6.99e-01  2.911e+05  6.356e+01  1.064e+04     17  8.429e-05\r",
      "  10  7.46e-01  2.683e+05  5.866e+01  9.085e+03     15  9.580e-05\n",
      "  11  7.95e-01  2.520e+05  5.345e+01  7.755e+03     16  8.939e-05\r",
      "  12  8.45e-01  2.401e+05  4.813e+01  6.622e+03     16  8.690e-05\r"
     ]
    },
    {
     "name": "stdout",
     "output_type": "stream",
     "text": [
      "  13  8.90e-01  2.313e+05  4.295e+01  5.657e+03     15  8.690e-05\r",
      "  14  9.31e-01  2.248e+05  3.834e+01  4.861e+03     13  9.490e-05\r",
      "  15  9.73e-01  2.199e+05  3.386e+01  4.209e+03     13  9.065e-05\n",
      "  16  1.01e+00  2.161e+05  3.007e+01  3.658e+03     13  8.692e-05\r",
      "  17  1.05e+00  2.132e+05  2.688e+01  3.192e+03     12  9.487e-05\r"
     ]
    },
    {
     "name": "stdout",
     "output_type": "stream",
     "text": [
      "  18  1.09e+00  2.109e+05  2.369e+01  2.823e+03     12  9.735e-05\r",
      "  19  1.13e+00  2.090e+05  2.123e+01  2.507e+03     12  8.396e-05\r",
      "  20  1.16e+00  2.076e+05  1.966e+01  2.218e+03      6  9.893e-05\n",
      "  21  1.20e+00  2.065e+05  1.760e+01  1.993e+03     12  8.086e-05\r",
      "  22  1.22e+00  2.054e+05  1.572e+01  1.800e+03      7  9.655e-05\r",
      "  23  1.26e+00  2.046e+05  1.442e+01  1.663e+03     11  7.830e-05\r",
      "  24  1.28e+00  2.038e+05  1.304e+01  1.524e+03      5  9.046e-05\r"
     ]
    },
    {
     "name": "stdout",
     "output_type": "stream",
     "text": [
      "  25  1.31e+00  2.033e+05  1.207e+01  1.418e+03      9  8.456e-05\n",
      "  26  1.33e+00  2.027e+05  1.105e+01  1.298e+03      4  9.654e-05\r",
      "  27  1.35e+00  2.023e+05  1.003e+01  1.249e+03      5  9.477e-05\r",
      "  28  1.38e+00  2.019e+05  9.522e+00  1.183e+03      7  9.031e-05\r",
      "  29  1.40e+00  2.014e+05  8.799e+00  1.103e+03      3  9.436e-05\r",
      "  30  1.42e+00  2.012e+05  8.225e+00  1.045e+03      7  9.261e-05\n",
      "  31  1.44e+00  2.008e+05  7.570e+00  9.721e+02      4  9.787e-05\r",
      "  32  1.46e+00  2.006e+05  7.034e+00  9.753e+02      5  8.887e-05\r",
      "  33  1.48e+00  2.003e+05  6.696e+00  9.147e+02      3  9.651e-05\r",
      "  34  1.50e+00  2.001e+05  6.326e+00  8.814e+02      5  9.906e-05\r"
     ]
    },
    {
     "name": "stdout",
     "output_type": "stream",
     "text": [
      "  35  1.52e+00  1.999e+05  5.962e+00  8.433e+02      3  9.301e-05\n",
      "  36  1.54e+00  1.997e+05  5.198e+00  8.291e+02      4  9.749e-05\r",
      "  37  1.56e+00  1.995e+05  5.660e+00  7.984e+02      5  9.168e-05\r",
      "  38  1.57e+00  1.993e+05  5.042e+00  7.672e+02      3  8.996e-05\r",
      "  39  1.59e+00  1.992e+05  4.552e+00  7.406e+02      4  8.714e-05\r",
      "  40  1.61e+00  1.990e+05  4.206e+00  7.334e+02      4  9.755e-05\n",
      "  41  1.63e+00  1.989e+05  4.003e+00  7.150e+02      4  8.799e-05\r",
      "  42  1.65e+00  1.988e+05  3.868e+00  6.910e+02      4  9.371e-05\r",
      "  43  1.67e+00  1.986e+05  3.784e+00  6.723e+02      4  8.553e-05\r",
      "  44  1.69e+00  1.985e+05  3.855e+00  6.584e+02      3  9.682e-05\r",
      "  45  1.70e+00  1.984e+05  3.521e+00  6.722e+02      3  8.880e-05\n"
     ]
    },
    {
     "name": "stdout",
     "output_type": "stream",
     "text": [
      "  46  1.72e+00  1.983e+05  3.216e+00  6.450e+02      3  9.377e-05\r",
      "  47  1.74e+00  1.983e+05  3.091e+00  6.346e+02      3  9.191e-05\r",
      "  48  1.75e+00  1.982e+05  2.925e+00  6.153e+02      3  9.194e-05\r",
      "  49  1.77e+00  1.981e+05  2.809e+00  6.021e+02      3  9.142e-05\r",
      "  50  1.78e+00  1.980e+05  2.752e+00  5.852e+02      3  8.957e-05\n",
      "  51  1.80e+00  1.979e+05  2.752e+00  5.691e+02      3  8.971e-05\r",
      "  52  1.82e+00  1.979e+05  2.795e+00  5.509e+02      3  8.722e-05\r",
      "  53  1.84e+00  1.978e+05  2.891e+00  5.320e+02      3  8.789e-05\r",
      "  54  1.85e+00  1.977e+05  3.011e+00  5.110e+02      3  8.518e-05\r",
      "  55  1.87e+00  1.977e+05  3.142e+00  4.901e+02      3  8.619e-05\n",
      "  56  1.89e+00  1.976e+05  3.233e+00  4.704e+02      3  8.325e-05\r",
      "  57  1.90e+00  1.976e+05  3.282e+00  4.536e+02      3  8.432e-05\r",
      "  58  1.92e+00  1.975e+05  3.298e+00  4.396e+02      3  8.148e-05\r"
     ]
    },
    {
     "name": "stdout",
     "output_type": "stream",
     "text": [
      "  59  1.93e+00  1.975e+05  2.905e+00  3.681e+02      2  9.767e-05\r",
      "  60  1.95e+00  1.974e+05  2.723e+00  3.668e+02      2  8.250e-05\n",
      "  61  1.96e+00  1.974e+05  2.990e+00  4.319e+02      3  8.630e-05\r",
      "  62  1.98e+00  1.973e+05  3.148e+00  4.095e+02      3  8.199e-05\r",
      "  63  1.99e+00  1.973e+05  2.865e+00  3.208e+02      2  9.271e-05\r",
      "  64  2.01e+00  1.973e+05  2.736e+00  3.232e+02      2  7.753e-05\r",
      "  65  2.02e+00  1.973e+05  2.891e+00  3.135e+02      2  9.213e-05\n",
      "  66  2.03e+00  1.972e+05  2.993e+00  2.980e+02      2  7.546e-05\r",
      "  67  2.05e+00  1.972e+05  3.056e+00  2.893e+02      2  8.879e-05\r",
      "  68  2.06e+00  1.972e+05  3.106e+00  2.779e+02      2  7.240e-05\r",
      "  69  2.07e+00  1.972e+05  3.136e+00  2.733e+02      2  8.567e-05\r",
      "  70  2.09e+00  1.971e+05  3.143e+00  2.630e+02      2  7.014e-05\n",
      "  71  2.10e+00  1.971e+05  3.144e+00  2.609e+02      2  8.334e-05\r",
      "  72  2.12e+00  1.971e+05  3.128e+00  2.517e+02      2  6.870e-05\r",
      "  73  2.13e+00  1.971e+05  2.690e+00  2.089e+02      1  9.866e-05\r"
     ]
    },
    {
     "name": "stdout",
     "output_type": "stream",
     "text": [
      "  74  2.14e+00  1.971e+05  2.819e+00  2.640e+02      2  6.928e-05\r",
      "  75  2.15e+00  1.970e+05  2.982e+00  2.081e+02      1  8.342e-05\n",
      "  76  2.17e+00  1.970e+05  2.873e+00  2.383e+02      2  6.929e-05\r",
      "  77  2.18e+00  1.970e+05  2.624e+00  1.911e+02      1  9.811e-05\r",
      "  78  2.19e+00  1.970e+05  2.685e+00  2.462e+02      2  6.894e-05\r",
      "  79  2.21e+00  1.970e+05  2.834e+00  1.923e+02      1  8.312e-05\r",
      "  80  2.22e+00  1.970e+05  2.715e+00  2.257e+02      2  6.897e-05\n",
      "  81  2.23e+00  1.969e+05  2.460e+00  1.777e+02      1  9.717e-05\r",
      "  82  2.24e+00  1.969e+05  2.518e+00  2.358e+02      2  6.888e-05\r",
      "  83  2.26e+00  1.969e+05  2.651e+00  1.795e+02      1  8.324e-05\r",
      "  84  2.27e+00  1.969e+05  2.525e+00  2.163e+02      2  6.910e-05\r",
      "  85  2.28e+00  1.969e+05  2.262e+00  1.656e+02      1  9.690e-05\n",
      "  86  2.30e+00  1.969e+05  2.315e+00  2.286e+02      2  6.939e-05\r",
      "  87  2.31e+00  1.968e+05  2.431e+00  1.675e+02      1  8.380e-05\r",
      "  88  2.32e+00  1.968e+05  2.301e+00  2.089e+02      2  6.993e-05\r",
      "  89  2.33e+00  1.968e+05  2.023e+00  1.534e+02      1  9.720e-05\r"
     ]
    },
    {
     "name": "stdout",
     "output_type": "stream",
     "text": [
      "  90  2.35e+00  1.968e+05  2.060e+00  2.248e+02      2  7.064e-05\n",
      "  91  2.36e+00  1.968e+05  2.158e+00  1.556e+02      1  8.457e-05\r",
      "  92  2.37e+00  1.968e+05  2.020e+00  2.042e+02      2  7.148e-05\r",
      "  93  2.39e+00  1.968e+05  1.730e+00  1.408e+02      1  9.752e-05\r",
      "  94  2.40e+00  1.967e+05  1.735e+00  2.255e+02      2  7.252e-05\r",
      "  95  2.41e+00  1.967e+05  1.817e+00  1.436e+02      1  8.491e-05\n",
      "  96  2.43e+00  1.967e+05  1.680e+00  2.031e+02      2  7.377e-05\r",
      "  97  2.44e+00  1.967e+05  1.395e+00  1.273e+02      1  9.703e-05\r",
      "  98  2.45e+00  1.967e+05  8.872e-01  5.948e+01      1  9.731e-05\r",
      "  99  2.46e+00  1.967e+05  6.752e-01  5.824e+01      1  9.524e-05\r\n"
     ]
    }
   ],
   "source": [
    "print(f\"Solving on {device_info()}\")\n",
    "x_rec, hist = {}, {}\n",
    "for p in projectors.keys():\n",
    "    print(f\"\\nSolving with {p} projector\")\n",
    "\n",
    "    # Set up ADMM solver object.\n",
    "    λ = 2e1  # L1 norm regularization parameter\n",
    "    ρ = 1e3  # ADMM penalty parameter\n",
    "    maxiter = 100  # number of ADMM iterations\n",
    "    cg_tol = 1e-4  # CG relative tolerance\n",
    "    cg_maxiter = 50  # maximum CG iterations per ADMM iteration\n",
    "\n",
    "    # The append=0 option makes the results of horizontal and vertical\n",
    "    # finite differences the same shape, which is required for the L21Norm,\n",
    "    # which is used so that g(Cx) corresponds to isotropic TV.\n",
    "    C = linop.FiniteDifference(input_shape=x_gt.shape, append=0)\n",
    "    g = λ * functional.L21Norm()\n",
    "    A = projectors[p]\n",
    "    f = loss.SquaredL2Loss(y=y, A=A)\n",
    "\n",
    "    # Set up the solver.\n",
    "    solver = ADMM(\n",
    "        f=f,\n",
    "        g_list=[g],\n",
    "        C_list=[C],\n",
    "        rho_list=[ρ],\n",
    "        x0=x0,\n",
    "        maxiter=maxiter,\n",
    "        subproblem_solver=LinearSubproblemSolver(cg_kwargs={\"tol\": cg_tol, \"maxiter\": cg_maxiter}),\n",
    "        itstat_options={\"display\": True, \"period\": 5},\n",
    "    )\n",
    "\n",
    "    # Run the solver.\n",
    "    solver.solve()\n",
    "    hist[p] = solver.itstat_object.history(transpose=True)\n",
    "    x_rec[p] = solver.x\n",
    "\n",
    "    if p == \"scico\":\n",
    "        x_rec[p] = x_rec[p] * det_spacing  # to match ASTRA's scaling"
   ]
  },
  {
   "cell_type": "markdown",
   "id": "429b5866",
   "metadata": {},
   "source": [
    "Compare reconstruction results."
   ]
  },
  {
   "cell_type": "code",
   "execution_count": 7,
   "id": "5e7635bf",
   "metadata": {
    "collapsed": false,
    "execution": {
     "iopub.execute_input": "2024-10-11T20:59:44.039826Z",
     "iopub.status.busy": "2024-10-11T20:59:44.039624Z",
     "iopub.status.idle": "2024-10-11T20:59:44.248096Z",
     "shell.execute_reply": "2024-10-11T20:59:44.247190Z"
    }
   },
   "outputs": [
    {
     "name": "stdout",
     "output_type": "stream",
     "text": [
      "Reconstruction SNR:\n"
     ]
    },
    {
     "name": "stdout",
     "output_type": "stream",
     "text": [
      "  astra:   11.00 dB\n",
      "  svmbir:  11.13 dB\n",
      "  scico:   10.95 dB\n"
     ]
    }
   ],
   "source": [
    "print(\"Reconstruction SNR:\")\n",
    "for p in projectors.keys():\n",
    "    print(f\"  {(p + ':'):7s}  {metric.snr(x_gt, x_rec[p]):5.2f} dB\")"
   ]
  },
  {
   "cell_type": "markdown",
   "id": "3eeb584d",
   "metadata": {},
   "source": [
    "Display sinogram."
   ]
  },
  {
   "cell_type": "code",
   "execution_count": 8,
   "id": "5b1a285d",
   "metadata": {
    "collapsed": false,
    "execution": {
     "iopub.execute_input": "2024-10-11T20:59:44.250112Z",
     "iopub.status.busy": "2024-10-11T20:59:44.249873Z",
     "iopub.status.idle": "2024-10-11T20:59:44.442832Z",
     "shell.execute_reply": "2024-10-11T20:59:44.441910Z"
    }
   },
   "outputs": [],
   "source": [
    "fig, ax = plot.subplots(nrows=1, ncols=1, figsize=(15, 3))\n",
    "plot.imview(y, title=\"sinogram\", fig=fig, ax=ax)\n",
    "fig.show()"
   ]
  },
  {
   "cell_type": "markdown",
   "id": "83c08d6a",
   "metadata": {},
   "source": [
    "Plot convergence statistics."
   ]
  },
  {
   "cell_type": "code",
   "execution_count": 9,
   "id": "feae2335",
   "metadata": {
    "collapsed": false,
    "execution": {
     "iopub.execute_input": "2024-10-11T20:59:44.445144Z",
     "iopub.status.busy": "2024-10-11T20:59:44.444871Z",
     "iopub.status.idle": "2024-10-11T20:59:44.799351Z",
     "shell.execute_reply": "2024-10-11T20:59:44.798589Z"
    }
   },
   "outputs": [],
   "source": [
    "fig, ax = plot.subplots(nrows=1, ncols=3, figsize=(12, 5))\n",
    "plot.plot(\n",
    "    np.vstack([hist[p].Objective for p in projectors.keys()]).T,\n",
    "    title=\"Objective function\",\n",
    "    xlbl=\"Iteration\",\n",
    "    ylbl=\"Functional value\",\n",
    "    lgnd=projectors.keys(),\n",
    "    fig=fig,\n",
    "    ax=ax[0],\n",
    ")\n",
    "plot.plot(\n",
    "    np.vstack([hist[p].Prml_Rsdl for p in projectors.keys()]).T,\n",
    "    ptyp=\"semilogy\",\n",
    "    title=\"Primal Residual\",\n",
    "    xlbl=\"Iteration\",\n",
    "    fig=fig,\n",
    "    ax=ax[1],\n",
    ")\n",
    "plot.plot(\n",
    "    np.vstack([hist[p].Dual_Rsdl for p in projectors.keys()]).T,\n",
    "    ptyp=\"semilogy\",\n",
    "    title=\"Dual Residual\",\n",
    "    xlbl=\"Iteration\",\n",
    "    fig=fig,\n",
    "    ax=ax[2],\n",
    ")\n",
    "fig.show()"
   ]
  },
  {
   "cell_type": "markdown",
   "id": "37c19d37",
   "metadata": {},
   "source": [
    "Show the recovered images."
   ]
  },
  {
   "cell_type": "code",
   "execution_count": 10,
   "id": "36784e8e",
   "metadata": {
    "collapsed": false,
    "execution": {
     "iopub.execute_input": "2024-10-11T20:59:44.801585Z",
     "iopub.status.busy": "2024-10-11T20:59:44.801341Z",
     "iopub.status.idle": "2024-10-11T20:59:45.040440Z",
     "shell.execute_reply": "2024-10-11T20:59:45.039602Z"
    }
   },
   "outputs": [],
   "source": [
    "fig, ax = plot.subplots(nrows=1, ncols=4, figsize=(15, 5))\n",
    "plot.imview(x_gt, title=\"Ground truth\", fig=fig, ax=ax[0])\n",
    "for n, p in enumerate(projectors.keys()):\n",
    "    plot.imview(\n",
    "        x_rec[p],\n",
    "        title=\"%s  SNR: %.2f (dB)\" % (p, metric.snr(x_gt, x_rec[p])),\n",
    "        fig=fig,\n",
    "        ax=ax[n + 1],\n",
    "    )\n",
    "for ax in ax:\n",
    "    ax.get_images()[0].set_clim(-0.1, 1.1)\n",
    "fig.show()"
   ]
  }
 ],
 "metadata": {
  "language_info": {
   "codemirror_mode": {
    "name": "ipython",
    "version": 3
   },
   "file_extension": ".py",
   "mimetype": "text/x-python",
   "name": "python",
   "nbconvert_exporter": "python",
   "pygments_lexer": "ipython3",
   "version": "3.12.7"
  }
 },
 "nbformat": 4,
 "nbformat_minor": 5
}
