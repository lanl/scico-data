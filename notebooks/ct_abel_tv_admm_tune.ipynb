{
 "cells": [
  {
   "cell_type": "markdown",
   "id": "ad2a3356",
   "metadata": {},
   "source": [
    "Parameter Tuning for TV-Regularized Abel Inversion\n",
    "==================================================\n",
    "\n",
    "This example demonstrates the use of\n",
    "[scico.ray.tune](../_autosummary/scico.ray.tune.rst) to tune\n",
    "parameters for the companion [example script](ct_abel_tv_admm.rst). The\n",
    "`ray.tune` class API is used in this example.\n",
    "\n",
    "This script is hard-coded to run on CPU only to avoid the large number of\n",
    "warnings that are emitted when GPU resources are requested but not\n",
    "available, and due to the difficulty of supressing these warnings in a\n",
    "way that does not force use of the CPU only. To enable GPU usage, comment\n",
    "out the `os.environ` statements near the beginning of the script, and\n",
    "change the value of the \"gpu\" entry in the `resources` dict from 0 to 1.\n",
    "Note that two environment variables are set to suppress the warnings\n",
    "because `JAX_PLATFORMS` was intended to replace `JAX_PLATFORM_NAME` but\n",
    "this change has yet to be correctly implemented\n",
    "(see [google/jax#6805](https://github.com/google/jax/issues/6805) and\n",
    "[google/jax#10272](https://github.com/google/jax/pull/10272)."
   ]
  },
  {
   "cell_type": "code",
   "execution_count": 1,
   "id": "490000c7",
   "metadata": {
    "collapsed": false,
    "execution": {
     "iopub.execute_input": "2024-06-06T02:13:44.067180Z",
     "iopub.status.busy": "2024-06-06T02:13:44.066552Z",
     "iopub.status.idle": "2024-06-06T02:13:56.172534Z",
     "shell.execute_reply": "2024-06-06T02:13:56.170924Z"
    }
   },
   "outputs": [
    {
     "name": "stderr",
     "output_type": "stream",
     "text": [
      "/nh/research/brendt/CondaHome/miniconda3/envs/py310gpu/lib/python3.10/site-packages/tqdm/auto.py:21: TqdmWarning: IProgress not found. Please update jupyter and ipywidgets. See https://ipywidgets.readthedocs.io/en/stable/user_install.html\n",
      "  from .autonotebook import tqdm as notebook_tqdm\n",
      "2024-06-05 20:13:44,547\tINFO util.py:159 -- Missing packages: ['ipywidgets']. Run `pip install -U ipywidgets`, then restart the notebook server for rich notebook output.\n"
     ]
    }
   ],
   "source": [
    "# isort: off\n",
    "import os\n",
    "\n",
    "os.environ[\"JAX_PLATFORM_NAME\"] = \"cpu\"\n",
    "os.environ[\"JAX_PLATFORMS\"] = \"cpu\"\n",
    "\n",
    "import numpy as np\n",
    "\n",
    "import logging\n",
    "import ray\n",
    "\n",
    "ray.init(logging_level=logging.ERROR)  # need to call init before jax import: ray-project/ray#44087\n",
    "\n",
    "import scico.numpy as snp\n",
    "from scico import functional, linop, loss, metric, plot\n",
    "from scico.examples import create_circular_phantom\n",
    "from scico.linop.abel import AbelTransform\n",
    "from scico.optimize.admm import ADMM, LinearSubproblemSolver\n",
    "from scico.ray import tune\n",
    "plot.config_notebook_plotting()"
   ]
  },
  {
   "cell_type": "markdown",
   "id": "5f87e449",
   "metadata": {},
   "source": [
    "Create a ground truth image."
   ]
  },
  {
   "cell_type": "code",
   "execution_count": 2,
   "id": "b57bf052",
   "metadata": {
    "collapsed": false,
    "execution": {
     "iopub.execute_input": "2024-06-06T02:13:56.179799Z",
     "iopub.status.busy": "2024-06-06T02:13:56.178983Z",
     "iopub.status.idle": "2024-06-06T02:13:56.937906Z",
     "shell.execute_reply": "2024-06-06T02:13:56.936990Z"
    }
   },
   "outputs": [],
   "source": [
    "N = 256  # image size\n",
    "x_gt = create_circular_phantom((N, N), [0.4 * N, 0.2 * N, 0.1 * N], [1, 0, 0.5])"
   ]
  },
  {
   "cell_type": "markdown",
   "id": "f93b1791",
   "metadata": {},
   "source": [
    "Set up the forward operator and create a test measurement."
   ]
  },
  {
   "cell_type": "code",
   "execution_count": 3,
   "id": "20f8e4bf",
   "metadata": {
    "collapsed": false,
    "execution": {
     "iopub.execute_input": "2024-06-06T02:13:56.942749Z",
     "iopub.status.busy": "2024-06-06T02:13:56.942354Z",
     "iopub.status.idle": "2024-06-06T02:13:57.069217Z",
     "shell.execute_reply": "2024-06-06T02:13:57.068180Z"
    }
   },
   "outputs": [],
   "source": [
    "A = AbelTransform(x_gt.shape)\n",
    "y = A @ x_gt\n",
    "np.random.seed(12345)\n",
    "y = y + np.random.normal(size=y.shape).astype(np.float32)"
   ]
  },
  {
   "cell_type": "markdown",
   "id": "b77f97cb",
   "metadata": {},
   "source": [
    "Compute inverse Abel transform solution for use as initial solution."
   ]
  },
  {
   "cell_type": "code",
   "execution_count": 4,
   "id": "be2c646d",
   "metadata": {
    "collapsed": false,
    "execution": {
     "iopub.execute_input": "2024-06-06T02:13:57.074721Z",
     "iopub.status.busy": "2024-06-06T02:13:57.074375Z",
     "iopub.status.idle": "2024-06-06T02:13:57.264518Z",
     "shell.execute_reply": "2024-06-06T02:13:57.263530Z"
    }
   },
   "outputs": [],
   "source": [
    "x_inv = A.inverse(y)\n",
    "x0 = snp.clip(x_inv, 0.0, 1.0)"
   ]
  },
  {
   "cell_type": "markdown",
   "id": "9c51be04",
   "metadata": {},
   "source": [
    "Define performance evaluation class."
   ]
  },
  {
   "cell_type": "code",
   "execution_count": 5,
   "id": "97284606",
   "metadata": {
    "collapsed": false,
    "execution": {
     "iopub.execute_input": "2024-06-06T02:13:57.269078Z",
     "iopub.status.busy": "2024-06-06T02:13:57.268769Z",
     "iopub.status.idle": "2024-06-06T02:13:57.281220Z",
     "shell.execute_reply": "2024-06-06T02:13:57.280478Z"
    }
   },
   "outputs": [],
   "source": [
    "class Trainable(tune.Trainable):\n",
    "    \"\"\"Parameter evaluation class.\"\"\"\n",
    "\n",
    "    def setup(self, config, x_gt, x0, y):\n",
    "        \"\"\"This method initializes a new parameter evaluation object. It\n",
    "        is called once when a new parameter evaluation object is created.\n",
    "        The `config` parameter is a dict of specific parameters for\n",
    "        evaluation of a single parameter set (a pair of parameters in\n",
    "        this case). The remaining parameters are objects that are passed\n",
    "        to the evaluation function via the ray object store.\n",
    "        \"\"\"\n",
    "        # Get arrays passed by tune call.\n",
    "        self.x_gt, self.x0, self.y = snp.array(x_gt), snp.array(x0), snp.array(y)\n",
    "        # Set up problem to be solved.\n",
    "        self.A = AbelTransform(self.x_gt.shape)\n",
    "        self.f = loss.SquaredL2Loss(y=self.y, A=self.A)\n",
    "        self.C = linop.FiniteDifference(input_shape=self.x_gt.shape)\n",
    "        self.reset_config(config)\n",
    "\n",
    "    def reset_config(self, config):\n",
    "        \"\"\"This method is only required when `scico.ray.tune.Tuner` is\n",
    "        initialized with `reuse_actors` set to ``True`` (the default). In\n",
    "        this case, a set of parameter evaluation processes and\n",
    "        corresponding objects are created once (including initialization\n",
    "        via a call to the `setup` method), and this method is called when\n",
    "        switching to evaluation of a different parameter configuration.\n",
    "        If `reuse_actors` is set to ``False``, then a new process and\n",
    "        object are created for each parameter configuration, and this\n",
    "        method is not used.\n",
    "        \"\"\"\n",
    "        # Extract solver parameters from config dict.\n",
    "        λ, ρ = config[\"lambda\"], config[\"rho\"]\n",
    "        # Set up parameter-dependent functional.\n",
    "        g = λ * functional.L1Norm()\n",
    "        # Define solver.\n",
    "        cg_tol = 1e-4\n",
    "        cg_maxiter = 25\n",
    "        self.solver = ADMM(\n",
    "            f=self.f,\n",
    "            g_list=[g],\n",
    "            C_list=[self.C],\n",
    "            rho_list=[ρ],\n",
    "            x0=self.x0,\n",
    "            maxiter=10,\n",
    "            subproblem_solver=LinearSubproblemSolver(\n",
    "                cg_kwargs={\"tol\": cg_tol, \"maxiter\": cg_maxiter}\n",
    "            ),\n",
    "        )\n",
    "        return True\n",
    "\n",
    "    def step(self):\n",
    "        \"\"\"This method is called for each step in the evaluation of a\n",
    "        single parameter configuration. The maximum number of times it\n",
    "        can be called is controlled by the `num_iterations` parameter\n",
    "        in the initialization of a `scico.ray.tune.Tuner` object.\n",
    "        \"\"\"\n",
    "        # Perform 10 solver steps for every ray.tune step\n",
    "        x_tv = snp.clip(self.solver.solve(), 0.0, 1.0)\n",
    "        return {\"psnr\": float(metric.psnr(self.x_gt, x_tv))}"
   ]
  },
  {
   "cell_type": "markdown",
   "id": "a6222202",
   "metadata": {},
   "source": [
    "Define parameter search space and resources per trial."
   ]
  },
  {
   "cell_type": "code",
   "execution_count": 6,
   "id": "9c261b05",
   "metadata": {
    "collapsed": false,
    "execution": {
     "iopub.execute_input": "2024-06-06T02:13:57.285171Z",
     "iopub.status.busy": "2024-06-06T02:13:57.284714Z",
     "iopub.status.idle": "2024-06-06T02:13:57.288732Z",
     "shell.execute_reply": "2024-06-06T02:13:57.288027Z"
    }
   },
   "outputs": [],
   "source": [
    "config = {\"lambda\": tune.loguniform(1e0, 1e2), \"rho\": tune.loguniform(1e1, 1e3)}\n",
    "resources = {\"gpu\": 0, \"cpu\": 1}  # gpus per trial, cpus per trial"
   ]
  },
  {
   "cell_type": "markdown",
   "id": "1ee99902",
   "metadata": {},
   "source": [
    "Run parameter search."
   ]
  },
  {
   "cell_type": "code",
   "execution_count": 7,
   "id": "91ca58a8",
   "metadata": {
    "collapsed": false,
    "execution": {
     "iopub.execute_input": "2024-06-06T02:13:57.292449Z",
     "iopub.status.busy": "2024-06-06T02:13:57.292000Z",
     "iopub.status.idle": "2024-06-06T02:15:03.783589Z",
     "shell.execute_reply": "2024-06-06T02:15:03.781628Z"
    }
   },
   "outputs": [
    {
     "name": "stdout",
     "output_type": "stream",
     "text": [
      "P:   1 R:   0 T:   0 \r",
      "P:   1 R:   0 T:   0 \r"
     ]
    },
    {
     "name": "stdout",
     "output_type": "stream",
     "text": [
      "P:   1 R:   0 T:   0 \r",
      "P:   1 R:   0 T:   0 \r"
     ]
    },
    {
     "name": "stdout",
     "output_type": "stream",
     "text": [
      "P:   1 R:   0 T:   0 \r",
      "P:   1 R:   0 T:   0 \r"
     ]
    },
    {
     "name": "stdout",
     "output_type": "stream",
     "text": [
      "P:   1 R:   0 T:   0 \r",
      "P:   1 R:   0 T:   0 \r"
     ]
    },
    {
     "name": "stdout",
     "output_type": "stream",
     "text": [
      "P:   1 R:   0 T:   0 \r",
      "P:   1 R:   0 T:   0 \r"
     ]
    },
    {
     "name": "stdout",
     "output_type": "stream",
     "text": [
      "P:   1 R:   0 T:   0 \r",
      "P:   1 R:   0 T:   0 \r"
     ]
    },
    {
     "name": "stdout",
     "output_type": "stream",
     "text": [
      "P:   1 R:   0 T:   0 \r",
      "P:   1 R:   0 T:   0 \r"
     ]
    },
    {
     "name": "stdout",
     "output_type": "stream",
     "text": [
      "P:   1 R:   0 T:   0 \r",
      "P:   1 R:   0 T:   0 \r"
     ]
    },
    {
     "name": "stdout",
     "output_type": "stream",
     "text": [
      "P:   1 R:   0 T:   0 \r",
      "P:   1 R:   0 T:   0 \r"
     ]
    },
    {
     "name": "stdout",
     "output_type": "stream",
     "text": [
      "P:   1 R:   0 T:   0 \r",
      "P:   1 R:   0 T:   0 \r"
     ]
    },
    {
     "name": "stdout",
     "output_type": "stream",
     "text": [
      "P:   1 R:   0 T:   0 \r",
      "P:   1 R:   0 T:   0 \r"
     ]
    },
    {
     "name": "stdout",
     "output_type": "stream",
     "text": [
      "P:   1 R:   0 T:   0 \r",
      "P:   1 R:   0 T:   0 \r"
     ]
    },
    {
     "name": "stdout",
     "output_type": "stream",
     "text": [
      "P:   1 R:   0 T:   0 \r",
      "P:   1 R:   0 T:   0 \r"
     ]
    },
    {
     "name": "stdout",
     "output_type": "stream",
     "text": [
      "P:   1 R:   0 T:   0 \r",
      "P:   1 R:   0 T:   0 \r"
     ]
    },
    {
     "name": "stdout",
     "output_type": "stream",
     "text": [
      "P:   1 R:   0 T:   0 \r",
      "P:   1 R:   0 T:   0 \r"
     ]
    },
    {
     "name": "stdout",
     "output_type": "stream",
     "text": [
      "P:   1 R:   0 T:   0 \r",
      "P:   1 R:   0 T:   0 \r"
     ]
    },
    {
     "name": "stdout",
     "output_type": "stream",
     "text": [
      "P:   1 R:   0 T:   0 \r",
      "P:   1 R:   0 T:   0 \r"
     ]
    },
    {
     "name": "stdout",
     "output_type": "stream",
     "text": [
      "P:   1 R:   0 T:   0 \r",
      "P:   1 R:   0 T:   0 \r"
     ]
    },
    {
     "name": "stdout",
     "output_type": "stream",
     "text": [
      "P:   1 R:   0 T:   0 \r",
      "P:   1 R:   0 T:   0 \r"
     ]
    },
    {
     "name": "stdout",
     "output_type": "stream",
     "text": [
      "P:   1 R:   0 T:   0 \r",
      "P:   1 R:   0 T:   0 \r"
     ]
    },
    {
     "name": "stdout",
     "output_type": "stream",
     "text": [
      "P:   1 R:   0 T:   0 \r",
      "P:   1 R:   0 T:   0 \r"
     ]
    },
    {
     "name": "stdout",
     "output_type": "stream",
     "text": [
      "P:   1 R:   0 T:   0 \r",
      "P:   1 R:   0 T:   0 \r"
     ]
    },
    {
     "name": "stdout",
     "output_type": "stream",
     "text": [
      "P:   1 R:   0 T:   0 \r",
      "P:   1 R:   0 T:   0 \r"
     ]
    },
    {
     "name": "stdout",
     "output_type": "stream",
     "text": [
      "P:   1 R:   0 T:   0 \r",
      "P:   1 R:   0 T:   0 \r"
     ]
    },
    {
     "name": "stdout",
     "output_type": "stream",
     "text": [
      "P:   1 R:   0 T:   0 \r",
      "P:   1 R:   0 T:   0 \r"
     ]
    },
    {
     "name": "stdout",
     "output_type": "stream",
     "text": [
      "P:   1 R:   0 T:   0 \r",
      "P:   1 R:   0 T:   0 \r"
     ]
    },
    {
     "name": "stdout",
     "output_type": "stream",
     "text": [
      "P:   1 R:   0 T:   0 \r",
      "P:   1 R:   0 T:   0 \r"
     ]
    },
    {
     "name": "stdout",
     "output_type": "stream",
     "text": [
      "P:   1 R:   0 T:   0 \r",
      "P:   0 R:   1 T:   0 \r",
      "P:   1 R:   1 T:   0 \r"
     ]
    },
    {
     "name": "stdout",
     "output_type": "stream",
     "text": [
      "P:   1 R:   1 T:   0 \r",
      "P:   1 R:   1 T:   0 \r"
     ]
    },
    {
     "name": "stdout",
     "output_type": "stream",
     "text": [
      "P:   1 R:   1 T:   0 \r",
      "P:   1 R:   1 T:   0 \r"
     ]
    },
    {
     "name": "stdout",
     "output_type": "stream",
     "text": [
      "P:   1 R:   1 T:   0 \r",
      "P:   1 R:   1 T:   0 \r"
     ]
    },
    {
     "name": "stdout",
     "output_type": "stream",
     "text": [
      "P:   1 R:   1 T:   0 \r",
      "P:   1 R:   1 T:   0  psnr: 2.40e+01 at lambda: 2.05e+00, rho: 4.38e+01\r",
      "P:   1 R:   1 T:   0  psnr: 2.43e+01 at lambda: 2.05e+00, rho: 4.38e+01\r"
     ]
    },
    {
     "name": "stdout",
     "output_type": "stream",
     "text": [
      "P:   1 R:   1 T:   0  psnr: 2.43e+01 at lambda: 2.05e+00, rho: 4.38e+01\r",
      "P:   1 R:   1 T:   0  psnr: 2.50e+01 at lambda: 2.05e+00, rho: 4.38e+01\r",
      "P:   1 R:   1 T:   0  psnr: 2.54e+01 at lambda: 2.05e+00, rho: 4.38e+01\r"
     ]
    },
    {
     "name": "stdout",
     "output_type": "stream",
     "text": [
      "P:   1 R:   1 T:   0  psnr: 2.56e+01 at lambda: 2.05e+00, rho: 4.38e+01\r",
      "P:   1 R:   1 T:   0  psnr: 2.57e+01 at lambda: 2.05e+00, rho: 4.38e+01\r",
      "P:   1 R:   1 T:   0  psnr: 2.59e+01 at lambda: 2.05e+00, rho: 4.38e+01\r"
     ]
    },
    {
     "name": "stdout",
     "output_type": "stream",
     "text": [
      "P:   1 R:   1 T:   0  psnr: 2.60e+01 at lambda: 2.05e+00, rho: 4.38e+01\r",
      "P:   1 R:   1 T:   0  psnr: 2.60e+01 at lambda: 2.05e+00, rho: 4.38e+01\r",
      "P:   1 R:   0 T:   1  psnr: 2.60e+01 at lambda: 2.05e+00, rho: 4.38e+01\r",
      "P:   0 R:   1 T:   1  psnr: 2.60e+01 at lambda: 2.05e+00, rho: 4.38e+01\r"
     ]
    },
    {
     "name": "stdout",
     "output_type": "stream",
     "text": [
      "P:   1 R:   1 T:   1  psnr: 2.60e+01 at lambda: 2.05e+00, rho: 4.38e+01\r",
      "P:   1 R:   0 T:   2  psnr: 2.60e+01 at lambda: 2.05e+00, rho: 4.38e+01\r",
      "P:   0 R:   1 T:   2  psnr: 2.60e+01 at lambda: 2.05e+00, rho: 4.38e+01\r",
      "P:   1 R:   1 T:   2  psnr: 2.60e+01 at lambda: 2.05e+00, rho: 4.38e+01\r"
     ]
    },
    {
     "name": "stdout",
     "output_type": "stream",
     "text": [
      "P:   1 R:   0 T:   3  psnr: 2.60e+01 at lambda: 2.05e+00, rho: 4.38e+01\r",
      "P:   0 R:   1 T:   3  psnr: 2.60e+01 at lambda: 2.05e+00, rho: 4.38e+01\r",
      "P:   1 R:   1 T:   3  psnr: 2.60e+01 at lambda: 2.05e+00, rho: 4.38e+01\r"
     ]
    },
    {
     "name": "stdout",
     "output_type": "stream",
     "text": [
      "P:   1 R:   1 T:   3  psnr: 2.60e+01 at lambda: 2.05e+00, rho: 4.38e+01\r",
      "P:   1 R:   1 T:   3  psnr: 2.60e+01 at lambda: 2.05e+00, rho: 4.38e+01\r",
      "P:   1 R:   1 T:   3  psnr: 3.75e+01 at lambda: 1.77e+01, rho: 1.61e+02\r"
     ]
    },
    {
     "name": "stdout",
     "output_type": "stream",
     "text": [
      "P:   1 R:   1 T:   3  psnr: 3.75e+01 at lambda: 1.77e+01, rho: 1.61e+02\r",
      "P:   1 R:   1 T:   3  psnr: 3.92e+01 at lambda: 1.77e+01, rho: 1.61e+02\r",
      "P:   1 R:   1 T:   3  psnr: 3.92e+01 at lambda: 1.77e+01, rho: 1.61e+02\r",
      "P:   1 R:   1 T:   3  psnr: 3.96e+01 at lambda: 1.77e+01, rho: 1.61e+02\r"
     ]
    },
    {
     "name": "stdout",
     "output_type": "stream",
     "text": [
      "P:   1 R:   1 T:   3  psnr: 3.97e+01 at lambda: 1.77e+01, rho: 1.61e+02\r",
      "P:   1 R:   1 T:   3  psnr: 3.97e+01 at lambda: 1.77e+01, rho: 1.61e+02\r",
      "P:   1 R:   1 T:   3  psnr: 3.98e+01 at lambda: 1.77e+01, rho: 1.61e+02\r"
     ]
    },
    {
     "name": "stdout",
     "output_type": "stream",
     "text": [
      "P:   1 R:   1 T:   3  psnr: 3.98e+01 at lambda: 1.77e+01, rho: 1.61e+02\r",
      "P:   1 R:   1 T:   3  psnr: 3.98e+01 at lambda: 1.77e+01, rho: 1.61e+02\r",
      "P:   1 R:   1 T:   3  psnr: 3.99e+01 at lambda: 1.77e+01, rho: 1.61e+02\r"
     ]
    },
    {
     "name": "stdout",
     "output_type": "stream",
     "text": [
      "P:   1 R:   1 T:   3  psnr: 3.99e+01 at lambda: 1.77e+01, rho: 1.61e+02\r",
      "P:   1 R:   1 T:   3  psnr: 3.99e+01 at lambda: 1.77e+01, rho: 1.61e+02\r",
      "P:   1 R:   1 T:   3  psnr: 3.99e+01 at lambda: 1.77e+01, rho: 1.61e+02\r"
     ]
    },
    {
     "name": "stdout",
     "output_type": "stream",
     "text": [
      "P:   1 R:   0 T:   4  psnr: 4.00e+01 at lambda: 1.77e+01, rho: 1.61e+02\r",
      "P:   0 R:   1 T:   4  psnr: 4.00e+01 at lambda: 1.77e+01, rho: 1.61e+02\r",
      "P:   1 R:   1 T:   4  psnr: 4.00e+01 at lambda: 1.77e+01, rho: 1.61e+02\r"
     ]
    },
    {
     "name": "stdout",
     "output_type": "stream",
     "text": [
      "P:   1 R:   0 T:   5  psnr: 4.00e+01 at lambda: 1.77e+01, rho: 1.61e+02\r",
      "P:   0 R:   1 T:   5  psnr: 4.00e+01 at lambda: 1.77e+01, rho: 1.61e+02\r",
      "P:   1 R:   1 T:   5  psnr: 4.00e+01 at lambda: 1.77e+01, rho: 1.61e+02\r"
     ]
    },
    {
     "name": "stdout",
     "output_type": "stream",
     "text": [
      "P:   1 R:   1 T:   5  psnr: 4.00e+01 at lambda: 1.77e+01, rho: 1.61e+02\r",
      "P:   1 R:   1 T:   5  psnr: 4.00e+01 at lambda: 1.77e+01, rho: 1.61e+02\r",
      "P:   1 R:   1 T:   5  psnr: 4.00e+01 at lambda: 1.77e+01, rho: 1.61e+02\r",
      "P:   1 R:   1 T:   5  psnr: 4.00e+01 at lambda: 1.77e+01, rho: 1.61e+02\r"
     ]
    },
    {
     "name": "stdout",
     "output_type": "stream",
     "text": [
      "P:   1 R:   1 T:   5  psnr: 4.00e+01 at lambda: 1.77e+01, rho: 1.61e+02\r",
      "P:   1 R:   1 T:   5  psnr: 4.00e+01 at lambda: 1.77e+01, rho: 1.61e+02\r",
      "P:   1 R:   0 T:   6  psnr: 4.00e+01 at lambda: 1.77e+01, rho: 1.61e+02\r",
      "P:   0 R:   1 T:   6  psnr: 4.00e+01 at lambda: 1.77e+01, rho: 1.61e+02\r"
     ]
    },
    {
     "name": "stdout",
     "output_type": "stream",
     "text": [
      "P:   1 R:   1 T:   6  psnr: 4.00e+01 at lambda: 1.77e+01, rho: 1.61e+02\r",
      "P:   1 R:   0 T:   7  psnr: 4.00e+01 at lambda: 1.77e+01, rho: 1.61e+02\r",
      "P:   0 R:   1 T:   7  psnr: 4.00e+01 at lambda: 1.77e+01, rho: 1.61e+02\r",
      "P:   1 R:   1 T:   7  psnr: 4.00e+01 at lambda: 1.77e+01, rho: 1.61e+02\r"
     ]
    },
    {
     "name": "stdout",
     "output_type": "stream",
     "text": [
      "P:   1 R:   1 T:   7  psnr: 4.00e+01 at lambda: 1.77e+01, rho: 1.61e+02\r",
      "P:   1 R:   0 T:   8  psnr: 4.00e+01 at lambda: 1.77e+01, rho: 1.61e+02\r",
      "P:   0 R:   1 T:   8  psnr: 4.00e+01 at lambda: 1.77e+01, rho: 1.61e+02\r",
      "P:   1 R:   1 T:   8  psnr: 4.00e+01 at lambda: 1.77e+01, rho: 1.61e+02\r"
     ]
    },
    {
     "name": "stdout",
     "output_type": "stream",
     "text": [
      "P:   1 R:   1 T:   8  psnr: 4.00e+01 at lambda: 1.77e+01, rho: 1.61e+02\r",
      "P:   1 R:   1 T:   8  psnr: 4.00e+01 at lambda: 1.77e+01, rho: 1.61e+02\r"
     ]
    },
    {
     "name": "stdout",
     "output_type": "stream",
     "text": [
      "P:   1 R:   1 T:   8  psnr: 4.00e+01 at lambda: 1.77e+01, rho: 1.61e+02\r",
      "P:   1 R:   1 T:   8  psnr: 4.00e+01 at lambda: 1.77e+01, rho: 1.61e+02\r",
      "P:   1 R:   1 T:   8  psnr: 4.00e+01 at lambda: 1.77e+01, rho: 1.61e+02\r",
      "P:   1 R:   1 T:   8  psnr: 4.00e+01 at lambda: 1.77e+01, rho: 1.61e+02\r"
     ]
    },
    {
     "name": "stdout",
     "output_type": "stream",
     "text": [
      "P:   1 R:   1 T:   8  psnr: 4.00e+01 at lambda: 1.77e+01, rho: 1.61e+02\r",
      "P:   1 R:   1 T:   8  psnr: 4.00e+01 at lambda: 1.77e+01, rho: 1.61e+02\r",
      "P:   1 R:   1 T:   8  psnr: 4.00e+01 at lambda: 1.77e+01, rho: 1.61e+02\r",
      "P:   1 R:   1 T:   8  psnr: 4.00e+01 at lambda: 1.77e+01, rho: 1.61e+02\r"
     ]
    },
    {
     "name": "stdout",
     "output_type": "stream",
     "text": [
      "P:   1 R:   1 T:   8  psnr: 4.00e+01 at lambda: 1.77e+01, rho: 1.61e+02\r",
      "P:   1 R:   1 T:   8  psnr: 4.00e+01 at lambda: 1.77e+01, rho: 1.61e+02\r",
      "P:   1 R:   1 T:   8  psnr: 4.00e+01 at lambda: 1.77e+01, rho: 1.61e+02\r"
     ]
    },
    {
     "name": "stdout",
     "output_type": "stream",
     "text": [
      "P:   1 R:   1 T:   8  psnr: 4.00e+01 at lambda: 1.77e+01, rho: 1.61e+02\r",
      "P:   1 R:   0 T:   9  psnr: 4.00e+01 at lambda: 1.77e+01, rho: 1.61e+02\r",
      "P:   0 R:   1 T:   9  psnr: 4.00e+01 at lambda: 1.77e+01, rho: 1.61e+02\r",
      "P:   1 R:   1 T:   9  psnr: 4.00e+01 at lambda: 1.77e+01, rho: 1.61e+02\r",
      "P:   1 R:   1 T:   9  psnr: 4.00e+01 at lambda: 1.77e+01, rho: 1.61e+02\r"
     ]
    },
    {
     "name": "stdout",
     "output_type": "stream",
     "text": [
      "P:   1 R:   1 T:   9  psnr: 4.00e+01 at lambda: 1.77e+01, rho: 1.61e+02\r",
      "P:   1 R:   1 T:   9  psnr: 4.00e+01 at lambda: 1.77e+01, rho: 1.61e+02\r",
      "P:   1 R:   1 T:   9  psnr: 4.00e+01 at lambda: 1.77e+01, rho: 1.61e+02\r",
      "P:   1 R:   1 T:   9  psnr: 4.00e+01 at lambda: 1.77e+01, rho: 1.61e+02\r"
     ]
    },
    {
     "name": "stdout",
     "output_type": "stream",
     "text": [
      "P:   1 R:   1 T:   9  psnr: 4.00e+01 at lambda: 1.77e+01, rho: 1.61e+02\r",
      "P:   1 R:   1 T:   9  psnr: 4.00e+01 at lambda: 1.77e+01, rho: 1.61e+02\r",
      "P:   1 R:   1 T:   9  psnr: 4.00e+01 at lambda: 1.77e+01, rho: 1.61e+02\r",
      "P:   1 R:   0 T:  10  psnr: 4.00e+01 at lambda: 1.77e+01, rho: 1.61e+02\r",
      "P:   0 R:   1 T:  10  psnr: 4.00e+01 at lambda: 1.77e+01, rho: 1.61e+02\r"
     ]
    },
    {
     "name": "stdout",
     "output_type": "stream",
     "text": [
      "P:   1 R:   1 T:  10  psnr: 4.00e+01 at lambda: 1.77e+01, rho: 1.61e+02\r",
      "P:   1 R:   0 T:  11  psnr: 4.00e+01 at lambda: 1.77e+01, rho: 1.61e+02\r",
      "P:   0 R:   1 T:  11  psnr: 4.00e+01 at lambda: 1.77e+01, rho: 1.61e+02\r"
     ]
    },
    {
     "name": "stdout",
     "output_type": "stream",
     "text": [
      "P:   1 R:   1 T:  11  psnr: 4.00e+01 at lambda: 1.77e+01, rho: 1.61e+02\r",
      "P:   1 R:   1 T:  11  psnr: 4.00e+01 at lambda: 1.77e+01, rho: 1.61e+02\r"
     ]
    },
    {
     "name": "stdout",
     "output_type": "stream",
     "text": [
      "P:   1 R:   1 T:  11  psnr: 4.00e+01 at lambda: 1.77e+01, rho: 1.61e+02\r",
      "P:   1 R:   1 T:  11  psnr: 4.00e+01 at lambda: 1.77e+01, rho: 1.61e+02\r",
      "P:   1 R:   1 T:  11  psnr: 4.00e+01 at lambda: 1.77e+01, rho: 1.61e+02\r",
      "P:   1 R:   1 T:  11  psnr: 4.00e+01 at lambda: 1.77e+01, rho: 1.61e+02\r"
     ]
    },
    {
     "name": "stdout",
     "output_type": "stream",
     "text": [
      "P:   1 R:   1 T:  11  psnr: 4.00e+01 at lambda: 1.77e+01, rho: 1.61e+02\r",
      "P:   1 R:   1 T:  11  psnr: 4.00e+01 at lambda: 1.77e+01, rho: 1.61e+02\r",
      "P:   1 R:   1 T:  11  psnr: 4.00e+01 at lambda: 1.77e+01, rho: 1.61e+02\r",
      "P:   1 R:   0 T:  12  psnr: 4.00e+01 at lambda: 1.77e+01, rho: 1.61e+02\r",
      "P:   0 R:   1 T:  12  psnr: 4.00e+01 at lambda: 1.77e+01, rho: 1.61e+02\r"
     ]
    },
    {
     "name": "stdout",
     "output_type": "stream",
     "text": [
      "P:   1 R:   1 T:  12  psnr: 4.00e+01 at lambda: 1.77e+01, rho: 1.61e+02\r",
      "P:   1 R:   1 T:  12  psnr: 4.00e+01 at lambda: 1.77e+01, rho: 1.61e+02\r",
      "P:   1 R:   1 T:  12  psnr: 4.00e+01 at lambda: 1.77e+01, rho: 1.61e+02\r"
     ]
    },
    {
     "name": "stdout",
     "output_type": "stream",
     "text": [
      "P:   1 R:   1 T:  12  psnr: 4.00e+01 at lambda: 1.77e+01, rho: 1.61e+02\r",
      "P:   1 R:   1 T:  12  psnr: 4.00e+01 at lambda: 1.77e+01, rho: 1.61e+02\r",
      "P:   1 R:   1 T:  12  psnr: 4.00e+01 at lambda: 1.77e+01, rho: 1.61e+02\r",
      "P:   1 R:   1 T:  12  psnr: 4.00e+01 at lambda: 1.77e+01, rho: 1.61e+02\r"
     ]
    },
    {
     "name": "stdout",
     "output_type": "stream",
     "text": [
      "P:   1 R:   1 T:  12  psnr: 4.00e+01 at lambda: 1.77e+01, rho: 1.61e+02\r",
      "P:   1 R:   1 T:  12  psnr: 4.00e+01 at lambda: 1.77e+01, rho: 1.61e+02\r",
      "P:   1 R:   1 T:  12  psnr: 4.00e+01 at lambda: 1.77e+01, rho: 1.61e+02\r",
      "P:   1 R:   1 T:  12  psnr: 4.00e+01 at lambda: 1.77e+01, rho: 1.61e+02\r",
      "P:   1 R:   1 T:  12  psnr: 4.00e+01 at lambda: 1.77e+01, rho: 1.61e+02\r"
     ]
    },
    {
     "name": "stdout",
     "output_type": "stream",
     "text": [
      "P:   1 R:   1 T:  12  psnr: 4.00e+01 at lambda: 1.77e+01, rho: 1.61e+02\r",
      "P:   1 R:   1 T:  12  psnr: 4.00e+01 at lambda: 1.77e+01, rho: 1.61e+02\r",
      "P:   1 R:   1 T:  12  psnr: 4.00e+01 at lambda: 1.77e+01, rho: 1.61e+02\r",
      "P:   1 R:   1 T:  12  psnr: 4.00e+01 at lambda: 1.77e+01, rho: 1.61e+02\r"
     ]
    },
    {
     "name": "stdout",
     "output_type": "stream",
     "text": [
      "P:   1 R:   1 T:  12  psnr: 4.00e+01 at lambda: 1.77e+01, rho: 1.61e+02\r",
      "P:   1 R:   1 T:  12  psnr: 4.00e+01 at lambda: 1.77e+01, rho: 1.61e+02\r",
      "P:   1 R:   1 T:  12  psnr: 4.00e+01 at lambda: 1.77e+01, rho: 1.61e+02\r",
      "P:   1 R:   1 T:  12  psnr: 4.00e+01 at lambda: 1.77e+01, rho: 1.61e+02\r"
     ]
    },
    {
     "name": "stdout",
     "output_type": "stream",
     "text": [
      "P:   1 R:   1 T:  12  psnr: 4.00e+01 at lambda: 1.77e+01, rho: 1.61e+02\r",
      "P:   1 R:   0 T:  13  psnr: 4.00e+01 at lambda: 1.77e+01, rho: 1.61e+02\r",
      "P:   0 R:   1 T:  13  psnr: 4.00e+01 at lambda: 1.77e+01, rho: 1.61e+02\r",
      "P:   1 R:   1 T:  13  psnr: 4.00e+01 at lambda: 1.77e+01, rho: 1.61e+02\r"
     ]
    },
    {
     "name": "stdout",
     "output_type": "stream",
     "text": [
      "P:   1 R:   1 T:  13  psnr: 4.00e+01 at lambda: 1.77e+01, rho: 1.61e+02\r",
      "P:   1 R:   0 T:  14  psnr: 4.00e+01 at lambda: 1.77e+01, rho: 1.61e+02\r",
      "P:   0 R:   1 T:  14  psnr: 4.00e+01 at lambda: 1.77e+01, rho: 1.61e+02\r",
      "P:   1 R:   1 T:  14  psnr: 4.00e+01 at lambda: 1.77e+01, rho: 1.61e+02\r"
     ]
    },
    {
     "name": "stdout",
     "output_type": "stream",
     "text": [
      "P:   1 R:   0 T:  15  psnr: 4.00e+01 at lambda: 1.77e+01, rho: 1.61e+02\r",
      "P:   0 R:   1 T:  15  psnr: 4.00e+01 at lambda: 1.77e+01, rho: 1.61e+02\r",
      "P:   1 R:   1 T:  15  psnr: 4.00e+01 at lambda: 1.77e+01, rho: 1.61e+02\r"
     ]
    },
    {
     "name": "stdout",
     "output_type": "stream",
     "text": [
      "P:   1 R:   1 T:  15  psnr: 4.00e+01 at lambda: 1.77e+01, rho: 1.61e+02\r",
      "P:   1 R:   0 T:  16  psnr: 4.00e+01 at lambda: 1.77e+01, rho: 1.61e+02\r",
      "P:   0 R:   1 T:  16  psnr: 4.00e+01 at lambda: 1.77e+01, rho: 1.61e+02\r",
      "P:   1 R:   1 T:  16  psnr: 4.00e+01 at lambda: 1.77e+01, rho: 1.61e+02\r"
     ]
    },
    {
     "name": "stdout",
     "output_type": "stream",
     "text": [
      "P:   1 R:   1 T:  16  psnr: 4.00e+01 at lambda: 1.77e+01, rho: 1.61e+02\r",
      "P:   1 R:   1 T:  16  psnr: 4.00e+01 at lambda: 1.77e+01, rho: 1.61e+02\r",
      "P:   1 R:   1 T:  16  psnr: 4.00e+01 at lambda: 1.77e+01, rho: 1.61e+02\r",
      "P:   1 R:   1 T:  16  psnr: 4.00e+01 at lambda: 1.77e+01, rho: 1.61e+02\r"
     ]
    },
    {
     "name": "stdout",
     "output_type": "stream",
     "text": [
      "P:   1 R:   1 T:  16  psnr: 4.00e+01 at lambda: 1.77e+01, rho: 1.61e+02\r",
      "P:   1 R:   1 T:  16  psnr: 4.00e+01 at lambda: 1.77e+01, rho: 1.61e+02\r",
      "P:   1 R:   1 T:  16  psnr: 4.00e+01 at lambda: 1.77e+01, rho: 1.61e+02\r",
      "P:   1 R:   1 T:  16  psnr: 4.00e+01 at lambda: 1.77e+01, rho: 1.61e+02\r",
      "P:   1 R:   0 T:  17  psnr: 4.00e+01 at lambda: 1.77e+01, rho: 1.61e+02\r",
      "P:   0 R:   1 T:  17  psnr: 4.00e+01 at lambda: 1.77e+01, rho: 1.61e+02\r"
     ]
    },
    {
     "name": "stdout",
     "output_type": "stream",
     "text": [
      "P:   1 R:   1 T:  17  psnr: 4.00e+01 at lambda: 1.77e+01, rho: 1.61e+02\r",
      "P:   1 R:   0 T:  18  psnr: 4.00e+01 at lambda: 1.77e+01, rho: 1.61e+02\r",
      "P:   0 R:   1 T:  18  psnr: 4.00e+01 at lambda: 1.77e+01, rho: 1.61e+02\r"
     ]
    },
    {
     "name": "stdout",
     "output_type": "stream",
     "text": [
      "P:   1 R:   1 T:  18  psnr: 4.00e+01 at lambda: 1.77e+01, rho: 1.61e+02\r",
      "P:   1 R:   1 T:  18  psnr: 4.00e+01 at lambda: 1.77e+01, rho: 1.61e+02\r",
      "P:   1 R:   0 T:  19  psnr: 4.00e+01 at lambda: 1.77e+01, rho: 1.61e+02\r",
      "P:   0 R:   1 T:  19  psnr: 4.00e+01 at lambda: 1.77e+01, rho: 1.61e+02\r"
     ]
    },
    {
     "name": "stdout",
     "output_type": "stream",
     "text": [
      "P:   1 R:   1 T:  19  psnr: 4.00e+01 at lambda: 1.77e+01, rho: 1.61e+02\r",
      "P:   1 R:   1 T:  19  psnr: 4.00e+01 at lambda: 1.77e+01, rho: 1.61e+02\r",
      "P:   1 R:   1 T:  19  psnr: 4.00e+01 at lambda: 1.77e+01, rho: 1.61e+02\r",
      "P:   1 R:   0 T:  20  psnr: 4.00e+01 at lambda: 1.77e+01, rho: 1.61e+02\r"
     ]
    },
    {
     "name": "stdout",
     "output_type": "stream",
     "text": [
      "P:   0 R:   1 T:  20  psnr: 4.00e+01 at lambda: 1.77e+01, rho: 1.61e+02\r",
      "P:   1 R:   1 T:  20  psnr: 4.00e+01 at lambda: 1.77e+01, rho: 1.61e+02\r"
     ]
    },
    {
     "name": "stdout",
     "output_type": "stream",
     "text": [
      "P:   1 R:   1 T:  20  psnr: 4.00e+01 at lambda: 1.77e+01, rho: 1.61e+02\r",
      "P:   1 R:   1 T:  20  psnr: 4.00e+01 at lambda: 1.77e+01, rho: 1.61e+02\r",
      "P:   1 R:   1 T:  20  psnr: 4.00e+01 at lambda: 1.77e+01, rho: 1.61e+02\r"
     ]
    },
    {
     "name": "stdout",
     "output_type": "stream",
     "text": [
      "P:   1 R:   1 T:  20  psnr: 4.00e+01 at lambda: 1.77e+01, rho: 1.61e+02\r",
      "P:   1 R:   1 T:  20  psnr: 4.00e+01 at lambda: 1.77e+01, rho: 1.61e+02\r",
      "P:   1 R:   1 T:  20  psnr: 4.00e+01 at lambda: 1.77e+01, rho: 1.61e+02\r"
     ]
    },
    {
     "name": "stdout",
     "output_type": "stream",
     "text": [
      "P:   1 R:   1 T:  20  psnr: 4.00e+01 at lambda: 1.77e+01, rho: 1.61e+02\r",
      "P:   1 R:   0 T:  21  psnr: 4.00e+01 at lambda: 1.77e+01, rho: 1.61e+02\r",
      "P:   0 R:   1 T:  21  psnr: 4.00e+01 at lambda: 1.77e+01, rho: 1.61e+02\r",
      "P:   1 R:   1 T:  21  psnr: 4.00e+01 at lambda: 1.77e+01, rho: 1.61e+02\r"
     ]
    },
    {
     "name": "stdout",
     "output_type": "stream",
     "text": [
      "P:   1 R:   1 T:  21  psnr: 4.00e+01 at lambda: 1.77e+01, rho: 1.61e+02\r",
      "P:   1 R:   0 T:  22  psnr: 4.00e+01 at lambda: 1.77e+01, rho: 1.61e+02\r",
      "P:   0 R:   1 T:  22  psnr: 4.00e+01 at lambda: 1.77e+01, rho: 1.61e+02\r",
      "P:   1 R:   1 T:  22  psnr: 4.00e+01 at lambda: 1.77e+01, rho: 1.61e+02\r"
     ]
    },
    {
     "name": "stdout",
     "output_type": "stream",
     "text": [
      "P:   1 R:   1 T:  22  psnr: 4.00e+01 at lambda: 1.77e+01, rho: 1.61e+02\r",
      "P:   1 R:   1 T:  22  psnr: 4.00e+01 at lambda: 1.77e+01, rho: 1.61e+02\r",
      "P:   1 R:   1 T:  22  psnr: 4.00e+01 at lambda: 1.77e+01, rho: 1.61e+02\r"
     ]
    },
    {
     "name": "stdout",
     "output_type": "stream",
     "text": [
      "P:   1 R:   1 T:  22  psnr: 4.00e+01 at lambda: 1.77e+01, rho: 1.61e+02\r",
      "P:   1 R:   1 T:  22  psnr: 4.00e+01 at lambda: 1.77e+01, rho: 1.61e+02\r",
      "P:   1 R:   1 T:  22  psnr: 4.00e+01 at lambda: 1.77e+01, rho: 1.61e+02\r",
      "P:   1 R:   1 T:  22  psnr: 4.00e+01 at lambda: 1.77e+01, rho: 1.61e+02\r"
     ]
    },
    {
     "name": "stdout",
     "output_type": "stream",
     "text": [
      "P:   1 R:   1 T:  22  psnr: 4.00e+01 at lambda: 1.77e+01, rho: 1.61e+02\r",
      "P:   1 R:   0 T:  23  psnr: 4.00e+01 at lambda: 1.77e+01, rho: 1.61e+02\r",
      "P:   0 R:   1 T:  23  psnr: 4.00e+01 at lambda: 1.77e+01, rho: 1.61e+02\r"
     ]
    },
    {
     "name": "stdout",
     "output_type": "stream",
     "text": [
      "P:   1 R:   1 T:  23  psnr: 4.00e+01 at lambda: 1.77e+01, rho: 1.61e+02\r",
      "P:   1 R:   1 T:  23  psnr: 4.00e+01 at lambda: 1.77e+01, rho: 1.61e+02\r",
      "P:   1 R:   0 T:  24  psnr: 4.00e+01 at lambda: 1.77e+01, rho: 1.61e+02\r",
      "P:   0 R:   1 T:  24  psnr: 4.00e+01 at lambda: 1.77e+01, rho: 1.61e+02\r"
     ]
    },
    {
     "name": "stdout",
     "output_type": "stream",
     "text": [
      "P:   1 R:   1 T:  24  psnr: 4.00e+01 at lambda: 1.77e+01, rho: 1.61e+02\r",
      "P:   1 R:   1 T:  24  psnr: 4.00e+01 at lambda: 1.77e+01, rho: 1.61e+02\r",
      "P:   1 R:   1 T:  24  psnr: 4.00e+01 at lambda: 1.77e+01, rho: 1.61e+02\r",
      "P:   1 R:   0 T:  25  psnr: 4.00e+01 at lambda: 1.77e+01, rho: 1.61e+02\r",
      "P:   0 R:   1 T:  25  psnr: 4.00e+01 at lambda: 1.77e+01, rho: 1.61e+02\r"
     ]
    },
    {
     "name": "stdout",
     "output_type": "stream",
     "text": [
      "P:   1 R:   1 T:  25  psnr: 4.00e+01 at lambda: 1.77e+01, rho: 1.61e+02\r",
      "P:   1 R:   1 T:  25  psnr: 4.00e+01 at lambda: 1.77e+01, rho: 1.61e+02\r",
      "P:   1 R:   1 T:  25  psnr: 4.00e+01 at lambda: 1.77e+01, rho: 1.61e+02\r"
     ]
    },
    {
     "name": "stdout",
     "output_type": "stream",
     "text": [
      "P:   1 R:   1 T:  25  psnr: 4.00e+01 at lambda: 1.77e+01, rho: 1.61e+02\r",
      "P:   1 R:   1 T:  25  psnr: 4.00e+01 at lambda: 1.77e+01, rho: 1.61e+02\r",
      "P:   1 R:   1 T:  25  psnr: 4.00e+01 at lambda: 1.77e+01, rho: 1.61e+02\r",
      "P:   1 R:   1 T:  25  psnr: 4.00e+01 at lambda: 1.77e+01, rho: 1.61e+02\r"
     ]
    },
    {
     "name": "stdout",
     "output_type": "stream",
     "text": [
      "P:   1 R:   1 T:  25  psnr: 4.00e+01 at lambda: 1.77e+01, rho: 1.61e+02\r",
      "P:   1 R:   1 T:  25  psnr: 4.00e+01 at lambda: 1.77e+01, rho: 1.61e+02\r",
      "P:   1 R:   1 T:  25  psnr: 4.00e+01 at lambda: 1.77e+01, rho: 1.61e+02\r",
      "P:   1 R:   1 T:  25  psnr: 4.00e+01 at lambda: 1.77e+01, rho: 1.61e+02\r"
     ]
    },
    {
     "name": "stdout",
     "output_type": "stream",
     "text": [
      "P:   1 R:   1 T:  25  psnr: 4.00e+01 at lambda: 1.77e+01, rho: 1.61e+02\r",
      "P:   1 R:   1 T:  25  psnr: 4.00e+01 at lambda: 1.77e+01, rho: 1.61e+02\r",
      "P:   1 R:   1 T:  25  psnr: 4.00e+01 at lambda: 1.77e+01, rho: 1.61e+02\r",
      "P:   1 R:   1 T:  25  psnr: 4.00e+01 at lambda: 1.77e+01, rho: 1.61e+02\r"
     ]
    },
    {
     "name": "stdout",
     "output_type": "stream",
     "text": [
      "P:   1 R:   1 T:  25  psnr: 4.00e+01 at lambda: 1.77e+01, rho: 1.61e+02\r",
      "P:   1 R:   1 T:  25  psnr: 4.00e+01 at lambda: 1.77e+01, rho: 1.61e+02\r",
      "P:   1 R:   1 T:  25  psnr: 4.00e+01 at lambda: 1.77e+01, rho: 1.61e+02\r",
      "P:   1 R:   1 T:  25  psnr: 4.00e+01 at lambda: 1.77e+01, rho: 1.61e+02\r"
     ]
    },
    {
     "name": "stdout",
     "output_type": "stream",
     "text": [
      "P:   1 R:   1 T:  25  psnr: 4.00e+01 at lambda: 1.77e+01, rho: 1.61e+02\r",
      "P:   1 R:   1 T:  25  psnr: 4.00e+01 at lambda: 1.77e+01, rho: 1.61e+02\r",
      "P:   1 R:   1 T:  25  psnr: 4.00e+01 at lambda: 1.77e+01, rho: 1.61e+02\r",
      "P:   1 R:   0 T:  26  psnr: 4.00e+01 at lambda: 2.35e+01, rho: 2.27e+02\r",
      "P:   0 R:   1 T:  26  psnr: 4.00e+01 at lambda: 2.35e+01, rho: 2.27e+02\r"
     ]
    },
    {
     "name": "stdout",
     "output_type": "stream",
     "text": [
      "P:   1 R:   1 T:  26  psnr: 4.00e+01 at lambda: 2.35e+01, rho: 2.27e+02\r",
      "P:   1 R:   1 T:  26  psnr: 4.00e+01 at lambda: 2.35e+01, rho: 2.27e+02\r"
     ]
    },
    {
     "name": "stdout",
     "output_type": "stream",
     "text": [
      "P:   1 R:   1 T:  26  psnr: 4.00e+01 at lambda: 2.35e+01, rho: 2.27e+02\r",
      "P:   1 R:   0 T:  27  psnr: 4.00e+01 at lambda: 2.35e+01, rho: 2.27e+02\r",
      "P:   0 R:   1 T:  27  psnr: 4.00e+01 at lambda: 2.35e+01, rho: 2.27e+02\r",
      "P:   1 R:   1 T:  27  psnr: 4.00e+01 at lambda: 2.35e+01, rho: 2.27e+02\r"
     ]
    },
    {
     "name": "stdout",
     "output_type": "stream",
     "text": [
      "P:   1 R:   1 T:  27  psnr: 4.00e+01 at lambda: 2.35e+01, rho: 2.27e+02\r",
      "P:   1 R:   1 T:  27  psnr: 4.00e+01 at lambda: 2.35e+01, rho: 2.27e+02\r",
      "P:   1 R:   1 T:  27  psnr: 4.00e+01 at lambda: 2.35e+01, rho: 2.27e+02\r"
     ]
    },
    {
     "name": "stdout",
     "output_type": "stream",
     "text": [
      "P:   1 R:   1 T:  27  psnr: 4.00e+01 at lambda: 2.35e+01, rho: 2.27e+02\r",
      "P:   1 R:   1 T:  27  psnr: 4.00e+01 at lambda: 2.35e+01, rho: 2.27e+02\r",
      "P:   1 R:   1 T:  27  psnr: 4.00e+01 at lambda: 2.35e+01, rho: 2.27e+02\r",
      "P:   1 R:   1 T:  27  psnr: 4.00e+01 at lambda: 2.35e+01, rho: 2.27e+02\r",
      "P:   1 R:   1 T:  27  psnr: 4.00e+01 at lambda: 2.35e+01, rho: 2.27e+02\r"
     ]
    },
    {
     "name": "stdout",
     "output_type": "stream",
     "text": [
      "P:   1 R:   0 T:  28  psnr: 4.00e+01 at lambda: 2.35e+01, rho: 2.27e+02\r",
      "P:   0 R:   1 T:  28  psnr: 4.00e+01 at lambda: 2.35e+01, rho: 2.27e+02\r",
      "P:   1 R:   1 T:  28  psnr: 4.00e+01 at lambda: 2.35e+01, rho: 2.27e+02\r",
      "P:   1 R:   1 T:  28  psnr: 4.00e+01 at lambda: 2.35e+01, rho: 2.27e+02\r"
     ]
    },
    {
     "name": "stdout",
     "output_type": "stream",
     "text": [
      "P:   1 R:   1 T:  28  psnr: 4.00e+01 at lambda: 2.35e+01, rho: 2.27e+02\r",
      "P:   1 R:   1 T:  28  psnr: 4.00e+01 at lambda: 2.35e+01, rho: 2.27e+02\r",
      "P:   1 R:   1 T:  28  psnr: 4.00e+01 at lambda: 2.35e+01, rho: 2.27e+02\r",
      "P:   1 R:   1 T:  28  psnr: 4.00e+01 at lambda: 2.35e+01, rho: 2.27e+02\r"
     ]
    },
    {
     "name": "stdout",
     "output_type": "stream",
     "text": [
      "P:   1 R:   1 T:  28  psnr: 4.00e+01 at lambda: 2.35e+01, rho: 2.27e+02\r",
      "P:   1 R:   1 T:  28  psnr: 4.00e+01 at lambda: 2.35e+01, rho: 2.27e+02\r",
      "P:   1 R:   1 T:  28  psnr: 4.00e+01 at lambda: 2.35e+01, rho: 2.27e+02\r",
      "P:   1 R:   1 T:  28  psnr: 4.00e+01 at lambda: 2.35e+01, rho: 2.27e+02\r"
     ]
    },
    {
     "name": "stdout",
     "output_type": "stream",
     "text": [
      "P:   1 R:   1 T:  28  psnr: 4.00e+01 at lambda: 2.35e+01, rho: 2.27e+02\r",
      "P:   1 R:   0 T:  29  psnr: 4.00e+01 at lambda: 2.35e+01, rho: 2.27e+02\r",
      "P:   0 R:   1 T:  29  psnr: 4.00e+01 at lambda: 2.35e+01, rho: 2.27e+02\r"
     ]
    },
    {
     "name": "stdout",
     "output_type": "stream",
     "text": [
      "P:   1 R:   1 T:  29  psnr: 4.00e+01 at lambda: 2.35e+01, rho: 2.27e+02\r",
      "P:   1 R:   1 T:  29  psnr: 4.00e+01 at lambda: 2.35e+01, rho: 2.27e+02\r",
      "P:   1 R:   0 T:  30  psnr: 4.00e+01 at lambda: 2.35e+01, rho: 2.27e+02\r",
      "P:   0 R:   1 T:  30  psnr: 4.00e+01 at lambda: 2.35e+01, rho: 2.27e+02\r"
     ]
    },
    {
     "name": "stdout",
     "output_type": "stream",
     "text": [
      "P:   1 R:   1 T:  30  psnr: 4.00e+01 at lambda: 2.35e+01, rho: 2.27e+02\r",
      "P:   1 R:   1 T:  30  psnr: 4.00e+01 at lambda: 2.35e+01, rho: 2.27e+02\r",
      "P:   1 R:   1 T:  30  psnr: 4.00e+01 at lambda: 2.35e+01, rho: 2.27e+02\r",
      "P:   1 R:   0 T:  31  psnr: 4.00e+01 at lambda: 2.35e+01, rho: 2.27e+02\r"
     ]
    },
    {
     "name": "stdout",
     "output_type": "stream",
     "text": [
      "P:   0 R:   1 T:  31  psnr: 4.00e+01 at lambda: 2.35e+01, rho: 2.27e+02\r",
      "P:   1 R:   1 T:  31  psnr: 4.00e+01 at lambda: 2.35e+01, rho: 2.27e+02\r",
      "P:   1 R:   1 T:  31  psnr: 4.00e+01 at lambda: 2.35e+01, rho: 2.27e+02\r"
     ]
    },
    {
     "name": "stdout",
     "output_type": "stream",
     "text": [
      "P:   1 R:   1 T:  31  psnr: 4.00e+01 at lambda: 2.35e+01, rho: 2.27e+02\r",
      "P:   1 R:   0 T:  32  psnr: 4.00e+01 at lambda: 2.35e+01, rho: 2.27e+02\r",
      "P:   0 R:   1 T:  32  psnr: 4.00e+01 at lambda: 2.35e+01, rho: 2.27e+02\r",
      "P:   1 R:   1 T:  32  psnr: 4.00e+01 at lambda: 2.35e+01, rho: 2.27e+02\r",
      "P:   1 R:   1 T:  32  psnr: 4.00e+01 at lambda: 2.35e+01, rho: 2.27e+02\r"
     ]
    },
    {
     "name": "stdout",
     "output_type": "stream",
     "text": [
      "P:   1 R:   1 T:  32  psnr: 4.00e+01 at lambda: 2.35e+01, rho: 2.27e+02\r",
      "P:   1 R:   1 T:  32  psnr: 4.00e+01 at lambda: 2.35e+01, rho: 2.27e+02\r",
      "P:   1 R:   1 T:  32  psnr: 4.00e+01 at lambda: 2.35e+01, rho: 2.27e+02\r"
     ]
    },
    {
     "name": "stdout",
     "output_type": "stream",
     "text": [
      "P:   1 R:   1 T:  32  psnr: 4.00e+01 at lambda: 2.35e+01, rho: 2.27e+02\r",
      "P:   1 R:   1 T:  32  psnr: 4.00e+01 at lambda: 2.35e+01, rho: 2.27e+02\r",
      "P:   1 R:   1 T:  32  psnr: 4.00e+01 at lambda: 2.35e+01, rho: 2.27e+02\r",
      "P:   1 R:   1 T:  32  psnr: 4.00e+01 at lambda: 2.35e+01, rho: 2.27e+02\r"
     ]
    },
    {
     "name": "stdout",
     "output_type": "stream",
     "text": [
      "P:   1 R:   0 T:  33  psnr: 4.00e+01 at lambda: 2.35e+01, rho: 2.27e+02\r",
      "P:   0 R:   1 T:  33  psnr: 4.00e+01 at lambda: 2.35e+01, rho: 2.27e+02\r",
      "P:   1 R:   1 T:  33  psnr: 4.00e+01 at lambda: 2.35e+01, rho: 2.27e+02\r"
     ]
    },
    {
     "name": "stdout",
     "output_type": "stream",
     "text": [
      "P:   1 R:   1 T:  33  psnr: 4.00e+01 at lambda: 2.35e+01, rho: 2.27e+02\r",
      "P:   1 R:   1 T:  33  psnr: 4.00e+01 at lambda: 2.35e+01, rho: 2.27e+02\r",
      "P:   1 R:   0 T:  34  psnr: 4.00e+01 at lambda: 2.35e+01, rho: 2.27e+02\r",
      "P:   0 R:   1 T:  34  psnr: 4.00e+01 at lambda: 2.35e+01, rho: 2.27e+02\r"
     ]
    },
    {
     "name": "stdout",
     "output_type": "stream",
     "text": [
      "P:   1 R:   1 T:  34  psnr: 4.00e+01 at lambda: 2.35e+01, rho: 2.27e+02\r",
      "P:   1 R:   1 T:  34  psnr: 4.00e+01 at lambda: 2.35e+01, rho: 2.27e+02\r"
     ]
    },
    {
     "name": "stdout",
     "output_type": "stream",
     "text": [
      "P:   1 R:   1 T:  34  psnr: 4.00e+01 at lambda: 2.35e+01, rho: 2.27e+02\r",
      "P:   1 R:   0 T:  35  psnr: 4.00e+01 at lambda: 2.35e+01, rho: 2.27e+02\r",
      "P:   0 R:   1 T:  35  psnr: 4.00e+01 at lambda: 2.35e+01, rho: 2.27e+02\r"
     ]
    },
    {
     "name": "stdout",
     "output_type": "stream",
     "text": [
      "P:   1 R:   1 T:  35  psnr: 4.00e+01 at lambda: 2.35e+01, rho: 2.27e+02\r",
      "P:   1 R:   1 T:  35  psnr: 4.00e+01 at lambda: 2.35e+01, rho: 2.27e+02\r",
      "P:   1 R:   1 T:  35  psnr: 4.00e+01 at lambda: 2.35e+01, rho: 2.27e+02\r"
     ]
    },
    {
     "name": "stdout",
     "output_type": "stream",
     "text": [
      "P:   1 R:   0 T:  36  psnr: 4.00e+01 at lambda: 2.35e+01, rho: 2.27e+02\r",
      "P:   0 R:   1 T:  36  psnr: 4.00e+01 at lambda: 2.35e+01, rho: 2.27e+02\r",
      "P:   1 R:   1 T:  36  psnr: 4.00e+01 at lambda: 2.35e+01, rho: 2.27e+02\r"
     ]
    },
    {
     "name": "stdout",
     "output_type": "stream",
     "text": [
      "P:   1 R:   1 T:  36  psnr: 4.00e+01 at lambda: 2.35e+01, rho: 2.27e+02\r",
      "P:   1 R:   1 T:  36  psnr: 4.00e+01 at lambda: 2.35e+01, rho: 2.27e+02\r",
      "P:   1 R:   1 T:  36  psnr: 4.00e+01 at lambda: 2.35e+01, rho: 2.27e+02\r",
      "P:   1 R:   1 T:  36  psnr: 4.00e+01 at lambda: 2.35e+01, rho: 2.27e+02\r"
     ]
    },
    {
     "name": "stdout",
     "output_type": "stream",
     "text": [
      "P:   1 R:   1 T:  36  psnr: 4.00e+01 at lambda: 2.35e+01, rho: 2.27e+02\r",
      "P:   1 R:   1 T:  36  psnr: 4.00e+01 at lambda: 2.35e+01, rho: 2.27e+02\r",
      "P:   1 R:   1 T:  36  psnr: 4.00e+01 at lambda: 2.35e+01, rho: 2.27e+02\r",
      "P:   1 R:   1 T:  36  psnr: 4.00e+01 at lambda: 2.35e+01, rho: 2.27e+02\r"
     ]
    },
    {
     "name": "stdout",
     "output_type": "stream",
     "text": [
      "P:   1 R:   1 T:  36  psnr: 4.00e+01 at lambda: 2.35e+01, rho: 2.27e+02\r",
      "P:   1 R:   0 T:  37  psnr: 4.00e+01 at lambda: 2.35e+01, rho: 2.27e+02\r",
      "P:   0 R:   1 T:  37  psnr: 4.00e+01 at lambda: 2.35e+01, rho: 2.27e+02\r",
      "P:   1 R:   1 T:  37  psnr: 4.00e+01 at lambda: 2.35e+01, rho: 2.27e+02\r"
     ]
    },
    {
     "name": "stdout",
     "output_type": "stream",
     "text": [
      "P:   1 R:   1 T:  37  psnr: 4.00e+01 at lambda: 2.35e+01, rho: 2.27e+02\r",
      "P:   1 R:   0 T:  38  psnr: 4.00e+01 at lambda: 2.35e+01, rho: 2.27e+02\r",
      "P:   0 R:   1 T:  38  psnr: 4.00e+01 at lambda: 2.35e+01, rho: 2.27e+02\r",
      "P:   1 R:   1 T:  38  psnr: 4.00e+01 at lambda: 2.35e+01, rho: 2.27e+02\r"
     ]
    },
    {
     "name": "stdout",
     "output_type": "stream",
     "text": [
      "P:   1 R:   1 T:  38  psnr: 4.00e+01 at lambda: 2.35e+01, rho: 2.27e+02\r",
      "P:   1 R:   1 T:  38  psnr: 4.00e+01 at lambda: 2.35e+01, rho: 2.27e+02\r",
      "P:   1 R:   1 T:  38  psnr: 4.00e+01 at lambda: 2.35e+01, rho: 2.27e+02\r"
     ]
    },
    {
     "name": "stdout",
     "output_type": "stream",
     "text": [
      "P:   1 R:   1 T:  38  psnr: 4.00e+01 at lambda: 2.35e+01, rho: 2.27e+02\r",
      "P:   1 R:   1 T:  38  psnr: 4.00e+01 at lambda: 2.35e+01, rho: 2.27e+02\r",
      "P:   1 R:   1 T:  38  psnr: 4.00e+01 at lambda: 2.35e+01, rho: 2.27e+02\r",
      "P:   1 R:   1 T:  38  psnr: 4.00e+01 at lambda: 2.35e+01, rho: 2.27e+02\r"
     ]
    },
    {
     "name": "stdout",
     "output_type": "stream",
     "text": [
      "P:   1 R:   1 T:  38  psnr: 4.00e+01 at lambda: 2.35e+01, rho: 2.27e+02\r",
      "P:   1 R:   1 T:  38  psnr: 4.00e+01 at lambda: 2.35e+01, rho: 2.27e+02\r",
      "P:   1 R:   1 T:  38  psnr: 4.00e+01 at lambda: 2.35e+01, rho: 2.27e+02\r",
      "P:   1 R:   1 T:  38  psnr: 4.00e+01 at lambda: 2.35e+01, rho: 2.27e+02\r"
     ]
    },
    {
     "name": "stdout",
     "output_type": "stream",
     "text": [
      "P:   1 R:   1 T:  38  psnr: 4.00e+01 at lambda: 2.35e+01, rho: 2.27e+02\r",
      "P:   1 R:   1 T:  38  psnr: 4.00e+01 at lambda: 2.35e+01, rho: 2.27e+02\r",
      "P:   1 R:   1 T:  38  psnr: 4.00e+01 at lambda: 2.35e+01, rho: 2.27e+02\r",
      "P:   1 R:   1 T:  38  psnr: 4.00e+01 at lambda: 2.35e+01, rho: 2.27e+02\r"
     ]
    },
    {
     "name": "stdout",
     "output_type": "stream",
     "text": [
      "P:   1 R:   1 T:  38  psnr: 4.00e+01 at lambda: 2.35e+01, rho: 2.27e+02\r",
      "P:   1 R:   1 T:  38  psnr: 4.00e+01 at lambda: 2.35e+01, rho: 2.27e+02\r",
      "P:   1 R:   1 T:  38  psnr: 4.00e+01 at lambda: 2.35e+01, rho: 2.27e+02\r",
      "P:   1 R:   1 T:  38  psnr: 4.00e+01 at lambda: 2.35e+01, rho: 2.27e+02\r"
     ]
    },
    {
     "name": "stdout",
     "output_type": "stream",
     "text": [
      "P:   1 R:   1 T:  38  psnr: 4.00e+01 at lambda: 2.35e+01, rho: 2.27e+02\r",
      "P:   1 R:   0 T:  39  psnr: 4.00e+01 at lambda: 2.35e+01, rho: 2.27e+02\r",
      "P:   0 R:   1 T:  39  psnr: 4.00e+01 at lambda: 2.35e+01, rho: 2.27e+02\r",
      "P:   1 R:   1 T:  39  psnr: 4.00e+01 at lambda: 2.35e+01, rho: 2.27e+02\r"
     ]
    },
    {
     "name": "stdout",
     "output_type": "stream",
     "text": [
      "P:   1 R:   1 T:  39  psnr: 4.00e+01 at lambda: 2.35e+01, rho: 2.27e+02\r",
      "P:   1 R:   1 T:  39  psnr: 4.00e+01 at lambda: 2.35e+01, rho: 2.27e+02\r"
     ]
    },
    {
     "name": "stdout",
     "output_type": "stream",
     "text": [
      "P:   1 R:   1 T:  39  psnr: 4.00e+01 at lambda: 2.35e+01, rho: 2.27e+02\r",
      "P:   1 R:   1 T:  39  psnr: 4.00e+01 at lambda: 2.35e+01, rho: 2.27e+02\r",
      "P:   1 R:   1 T:  39  psnr: 4.00e+01 at lambda: 2.35e+01, rho: 2.27e+02\r",
      "P:   1 R:   1 T:  39  psnr: 4.00e+01 at lambda: 2.35e+01, rho: 2.27e+02\r",
      "P:   1 R:   1 T:  39  psnr: 4.00e+01 at lambda: 2.35e+01, rho: 2.27e+02\r"
     ]
    },
    {
     "name": "stdout",
     "output_type": "stream",
     "text": [
      "P:   1 R:   1 T:  39  psnr: 4.00e+01 at lambda: 2.35e+01, rho: 2.27e+02\r",
      "P:   1 R:   0 T:  40  psnr: 4.00e+01 at lambda: 2.35e+01, rho: 2.27e+02\r",
      "P:   0 R:   1 T:  40  psnr: 4.00e+01 at lambda: 2.35e+01, rho: 2.27e+02\r",
      "P:   1 R:   1 T:  40  psnr: 4.00e+01 at lambda: 2.35e+01, rho: 2.27e+02\r"
     ]
    },
    {
     "name": "stdout",
     "output_type": "stream",
     "text": [
      "P:   1 R:   1 T:  40  psnr: 4.00e+01 at lambda: 2.35e+01, rho: 2.27e+02\r",
      "P:   1 R:   1 T:  40  psnr: 4.00e+01 at lambda: 2.35e+01, rho: 2.27e+02\r",
      "P:   1 R:   0 T:  41  psnr: 4.00e+01 at lambda: 2.35e+01, rho: 2.27e+02\r",
      "P:   0 R:   1 T:  41  psnr: 4.00e+01 at lambda: 2.35e+01, rho: 2.27e+02\r",
      "P:   1 R:   1 T:  41  psnr: 4.00e+01 at lambda: 2.35e+01, rho: 2.27e+02\r"
     ]
    },
    {
     "name": "stdout",
     "output_type": "stream",
     "text": [
      "P:   1 R:   1 T:  41  psnr: 4.00e+01 at lambda: 2.35e+01, rho: 2.27e+02\r",
      "P:   1 R:   1 T:  41  psnr: 4.00e+01 at lambda: 2.35e+01, rho: 2.27e+02\r",
      "P:   1 R:   0 T:  42  psnr: 4.00e+01 at lambda: 2.35e+01, rho: 2.27e+02\r"
     ]
    },
    {
     "name": "stdout",
     "output_type": "stream",
     "text": [
      "P:   0 R:   1 T:  42  psnr: 4.00e+01 at lambda: 2.35e+01, rho: 2.27e+02\r",
      "P:   1 R:   1 T:  42  psnr: 4.00e+01 at lambda: 2.35e+01, rho: 2.27e+02\r"
     ]
    },
    {
     "name": "stdout",
     "output_type": "stream",
     "text": [
      "P:   1 R:   1 T:  42  psnr: 4.00e+01 at lambda: 2.35e+01, rho: 2.27e+02\r",
      "P:   1 R:   0 T:  43  psnr: 4.00e+01 at lambda: 2.35e+01, rho: 2.27e+02\r",
      "P:   0 R:   1 T:  43  psnr: 4.00e+01 at lambda: 2.35e+01, rho: 2.27e+02\r",
      "P:   1 R:   1 T:  43  psnr: 4.00e+01 at lambda: 2.35e+01, rho: 2.27e+02\r"
     ]
    },
    {
     "name": "stdout",
     "output_type": "stream",
     "text": [
      "P:   1 R:   1 T:  43  psnr: 4.00e+01 at lambda: 2.35e+01, rho: 2.27e+02\r",
      "P:   1 R:   1 T:  43  psnr: 4.00e+01 at lambda: 2.35e+01, rho: 2.27e+02\r",
      "P:   1 R:   1 T:  43  psnr: 4.00e+01 at lambda: 2.35e+01, rho: 2.27e+02\r",
      "P:   1 R:   1 T:  43  psnr: 4.00e+01 at lambda: 2.35e+01, rho: 2.27e+02\r"
     ]
    },
    {
     "name": "stdout",
     "output_type": "stream",
     "text": [
      "P:   1 R:   1 T:  43  psnr: 4.00e+01 at lambda: 2.35e+01, rho: 2.27e+02\r",
      "P:   1 R:   1 T:  43  psnr: 4.00e+01 at lambda: 2.35e+01, rho: 2.27e+02\r",
      "P:   1 R:   1 T:  43  psnr: 4.00e+01 at lambda: 2.35e+01, rho: 2.27e+02\r",
      "P:   1 R:   1 T:  43  psnr: 4.00e+01 at lambda: 2.35e+01, rho: 2.27e+02\r",
      "P:   1 R:   1 T:  43  psnr: 4.00e+01 at lambda: 2.35e+01, rho: 2.27e+02\r"
     ]
    },
    {
     "name": "stdout",
     "output_type": "stream",
     "text": [
      "P:   1 R:   1 T:  43  psnr: 4.00e+01 at lambda: 2.35e+01, rho: 2.27e+02\r",
      "P:   1 R:   0 T:  44  psnr: 4.00e+01 at lambda: 2.35e+01, rho: 2.27e+02\r",
      "P:   0 R:   1 T:  44  psnr: 4.00e+01 at lambda: 2.35e+01, rho: 2.27e+02\r",
      "P:   1 R:   1 T:  44  psnr: 4.00e+01 at lambda: 2.35e+01, rho: 2.27e+02\r"
     ]
    },
    {
     "name": "stdout",
     "output_type": "stream",
     "text": [
      "P:   1 R:   1 T:  44  psnr: 4.00e+01 at lambda: 2.35e+01, rho: 2.27e+02\r",
      "P:   1 R:   0 T:  45  psnr: 4.00e+01 at lambda: 2.35e+01, rho: 2.27e+02\r",
      "P:   0 R:   1 T:  45  psnr: 4.00e+01 at lambda: 2.35e+01, rho: 2.27e+02\r"
     ]
    },
    {
     "name": "stdout",
     "output_type": "stream",
     "text": [
      "P:   1 R:   1 T:  45  psnr: 4.00e+01 at lambda: 2.35e+01, rho: 2.27e+02\r",
      "P:   1 R:   1 T:  45  psnr: 4.00e+01 at lambda: 2.35e+01, rho: 2.27e+02\r",
      "P:   1 R:   0 T:  46  psnr: 4.00e+01 at lambda: 2.35e+01, rho: 2.27e+02\r"
     ]
    },
    {
     "name": "stdout",
     "output_type": "stream",
     "text": [
      "P:   0 R:   1 T:  46  psnr: 4.00e+01 at lambda: 2.35e+01, rho: 2.27e+02\r",
      "P:   1 R:   1 T:  46  psnr: 4.00e+01 at lambda: 2.35e+01, rho: 2.27e+02\r",
      "P:   1 R:   1 T:  46  psnr: 4.00e+01 at lambda: 2.35e+01, rho: 2.27e+02\r"
     ]
    },
    {
     "name": "stdout",
     "output_type": "stream",
     "text": [
      "P:   1 R:   1 T:  46  psnr: 4.00e+01 at lambda: 2.35e+01, rho: 2.27e+02\r",
      "P:   1 R:   0 T:  47  psnr: 4.00e+01 at lambda: 2.35e+01, rho: 2.27e+02\r",
      "P:   0 R:   1 T:  47  psnr: 4.00e+01 at lambda: 2.35e+01, rho: 2.27e+02\r",
      "P:   1 R:   1 T:  47  psnr: 4.00e+01 at lambda: 2.35e+01, rho: 2.27e+02\r"
     ]
    },
    {
     "name": "stdout",
     "output_type": "stream",
     "text": [
      "P:   1 R:   1 T:  47  psnr: 4.00e+01 at lambda: 2.35e+01, rho: 2.27e+02\r",
      "P:   1 R:   0 T:  48  psnr: 4.00e+01 at lambda: 2.35e+01, rho: 2.27e+02\r",
      "P:   0 R:   1 T:  48  psnr: 4.00e+01 at lambda: 2.35e+01, rho: 2.27e+02\r",
      "P:   1 R:   1 T:  48  psnr: 4.00e+01 at lambda: 2.35e+01, rho: 2.27e+02\r"
     ]
    },
    {
     "name": "stdout",
     "output_type": "stream",
     "text": [
      "P:   1 R:   1 T:  48  psnr: 4.00e+01 at lambda: 2.35e+01, rho: 2.27e+02\r",
      "P:   1 R:   1 T:  48  psnr: 4.00e+01 at lambda: 2.35e+01, rho: 2.27e+02\r",
      "P:   1 R:   0 T:  49  psnr: 4.00e+01 at lambda: 2.35e+01, rho: 2.27e+02\r",
      "P:   0 R:   1 T:  49  psnr: 4.00e+01 at lambda: 2.35e+01, rho: 2.27e+02\r",
      "P:   1 R:   1 T:  49  psnr: 4.00e+01 at lambda: 2.35e+01, rho: 2.27e+02\r"
     ]
    },
    {
     "name": "stdout",
     "output_type": "stream",
     "text": [
      "P:   1 R:   1 T:  49  psnr: 4.00e+01 at lambda: 2.35e+01, rho: 2.27e+02\r",
      "P:   1 R:   1 T:  49  psnr: 4.00e+01 at lambda: 2.35e+01, rho: 2.27e+02\r",
      "P:   1 R:   0 T:  50  psnr: 4.00e+01 at lambda: 2.35e+01, rho: 2.27e+02\r"
     ]
    },
    {
     "name": "stdout",
     "output_type": "stream",
     "text": [
      "P:   0 R:   1 T:  50  psnr: 4.00e+01 at lambda: 2.35e+01, rho: 2.27e+02\r",
      "P:   1 R:   1 T:  50  psnr: 4.00e+01 at lambda: 2.35e+01, rho: 2.27e+02\r",
      "P:   1 R:   0 T:  51  psnr: 4.00e+01 at lambda: 2.35e+01, rho: 2.27e+02\r",
      "P:   0 R:   1 T:  51  psnr: 4.00e+01 at lambda: 2.35e+01, rho: 2.27e+02\r"
     ]
    },
    {
     "name": "stdout",
     "output_type": "stream",
     "text": [
      "P:   1 R:   1 T:  51  psnr: 4.00e+01 at lambda: 2.35e+01, rho: 2.27e+02\r",
      "P:   1 R:   1 T:  51  psnr: 4.00e+01 at lambda: 2.35e+01, rho: 2.27e+02\r",
      "P:   1 R:   1 T:  51  psnr: 4.00e+01 at lambda: 2.35e+01, rho: 2.27e+02\r"
     ]
    },
    {
     "name": "stdout",
     "output_type": "stream",
     "text": [
      "P:   1 R:   1 T:  51  psnr: 4.00e+01 at lambda: 2.35e+01, rho: 2.27e+02\r",
      "P:   1 R:   1 T:  51  psnr: 4.00e+01 at lambda: 2.35e+01, rho: 2.27e+02\r",
      "P:   1 R:   1 T:  51  psnr: 4.00e+01 at lambda: 2.35e+01, rho: 2.27e+02\r",
      "P:   1 R:   1 T:  51  psnr: 4.00e+01 at lambda: 2.35e+01, rho: 2.27e+02\r"
     ]
    },
    {
     "name": "stdout",
     "output_type": "stream",
     "text": [
      "P:   1 R:   1 T:  51  psnr: 4.00e+01 at lambda: 2.35e+01, rho: 2.27e+02\r",
      "P:   1 R:   1 T:  51  psnr: 4.00e+01 at lambda: 2.35e+01, rho: 2.27e+02\r",
      "P:   1 R:   1 T:  51  psnr: 4.00e+01 at lambda: 2.35e+01, rho: 2.27e+02\r",
      "P:   1 R:   1 T:  51  psnr: 4.00e+01 at lambda: 2.35e+01, rho: 2.27e+02\r"
     ]
    },
    {
     "name": "stdout",
     "output_type": "stream",
     "text": [
      "P:   1 R:   1 T:  51  psnr: 4.00e+01 at lambda: 2.35e+01, rho: 2.27e+02\r",
      "P:   1 R:   1 T:  51  psnr: 4.00e+01 at lambda: 2.35e+01, rho: 2.27e+02\r",
      "P:   1 R:   1 T:  51  psnr: 4.00e+01 at lambda: 2.35e+01, rho: 2.27e+02\r",
      "P:   1 R:   1 T:  51  psnr: 4.00e+01 at lambda: 2.35e+01, rho: 2.27e+02\r"
     ]
    },
    {
     "name": "stdout",
     "output_type": "stream",
     "text": [
      "P:   1 R:   1 T:  51  psnr: 4.00e+01 at lambda: 2.35e+01, rho: 2.27e+02\r",
      "P:   1 R:   1 T:  51  psnr: 4.00e+01 at lambda: 2.35e+01, rho: 2.27e+02\r",
      "P:   1 R:   1 T:  51  psnr: 4.00e+01 at lambda: 2.35e+01, rho: 2.27e+02\r",
      "P:   1 R:   1 T:  51  psnr: 4.00e+01 at lambda: 2.35e+01, rho: 2.27e+02\r"
     ]
    },
    {
     "name": "stdout",
     "output_type": "stream",
     "text": [
      "P:   1 R:   1 T:  51  psnr: 4.00e+01 at lambda: 2.35e+01, rho: 2.27e+02\r",
      "P:   1 R:   0 T:  52  psnr: 4.00e+01 at lambda: 2.35e+01, rho: 2.27e+02\r",
      "P:   0 R:   1 T:  52  psnr: 4.00e+01 at lambda: 2.35e+01, rho: 2.27e+02\r"
     ]
    },
    {
     "name": "stdout",
     "output_type": "stream",
     "text": [
      "P:   1 R:   1 T:  52  psnr: 4.00e+01 at lambda: 2.35e+01, rho: 2.27e+02\r",
      "P:   1 R:   1 T:  52  psnr: 4.00e+01 at lambda: 2.35e+01, rho: 2.27e+02\r"
     ]
    },
    {
     "name": "stdout",
     "output_type": "stream",
     "text": [
      "P:   1 R:   1 T:  52  psnr: 4.00e+01 at lambda: 2.35e+01, rho: 2.27e+02\r",
      "P:   1 R:   0 T:  53  psnr: 4.00e+01 at lambda: 2.35e+01, rho: 2.27e+02\r",
      "P:   0 R:   1 T:  53  psnr: 4.00e+01 at lambda: 2.35e+01, rho: 2.27e+02\r",
      "P:   1 R:   1 T:  53  psnr: 4.00e+01 at lambda: 2.35e+01, rho: 2.27e+02\r"
     ]
    },
    {
     "name": "stdout",
     "output_type": "stream",
     "text": [
      "P:   1 R:   0 T:  54  psnr: 4.00e+01 at lambda: 2.35e+01, rho: 2.27e+02\r",
      "P:   0 R:   1 T:  54  psnr: 4.00e+01 at lambda: 2.35e+01, rho: 2.27e+02\r",
      "P:   1 R:   1 T:  54  psnr: 4.00e+01 at lambda: 2.35e+01, rho: 2.27e+02\r"
     ]
    },
    {
     "name": "stdout",
     "output_type": "stream",
     "text": [
      "P:   1 R:   1 T:  54  psnr: 4.00e+01 at lambda: 2.35e+01, rho: 2.27e+02\r",
      "P:   1 R:   1 T:  54  psnr: 4.00e+01 at lambda: 2.35e+01, rho: 2.27e+02\r",
      "P:   1 R:   0 T:  55  psnr: 4.00e+01 at lambda: 2.35e+01, rho: 2.27e+02\r",
      "P:   0 R:   1 T:  55  psnr: 4.00e+01 at lambda: 2.35e+01, rho: 2.27e+02\r"
     ]
    },
    {
     "name": "stdout",
     "output_type": "stream",
     "text": [
      "P:   1 R:   1 T:  55  psnr: 4.00e+01 at lambda: 2.35e+01, rho: 2.27e+02\r",
      "P:   1 R:   1 T:  55  psnr: 4.00e+01 at lambda: 2.35e+01, rho: 2.27e+02\r"
     ]
    },
    {
     "name": "stdout",
     "output_type": "stream",
     "text": [
      "P:   1 R:   1 T:  55  psnr: 4.00e+01 at lambda: 2.35e+01, rho: 2.27e+02\r",
      "P:   1 R:   0 T:  56  psnr: 4.00e+01 at lambda: 2.35e+01, rho: 2.27e+02\r",
      "P:   0 R:   1 T:  56  psnr: 4.00e+01 at lambda: 2.35e+01, rho: 2.27e+02\r",
      "P:   1 R:   1 T:  56  psnr: 4.00e+01 at lambda: 2.35e+01, rho: 2.27e+02\r"
     ]
    },
    {
     "name": "stdout",
     "output_type": "stream",
     "text": [
      "P:   1 R:   1 T:  56  psnr: 4.00e+01 at lambda: 2.35e+01, rho: 2.27e+02\r",
      "P:   1 R:   0 T:  57  psnr: 4.00e+01 at lambda: 2.35e+01, rho: 2.27e+02\r",
      "P:   0 R:   1 T:  57  psnr: 4.00e+01 at lambda: 2.35e+01, rho: 2.27e+02\r"
     ]
    },
    {
     "name": "stdout",
     "output_type": "stream",
     "text": [
      "P:   1 R:   1 T:  57  psnr: 4.00e+01 at lambda: 2.35e+01, rho: 2.27e+02\r",
      "P:   1 R:   1 T:  57  psnr: 4.00e+01 at lambda: 2.35e+01, rho: 2.27e+02\r",
      "P:   1 R:   1 T:  57  psnr: 4.00e+01 at lambda: 2.35e+01, rho: 2.27e+02\r"
     ]
    },
    {
     "name": "stdout",
     "output_type": "stream",
     "text": [
      "P:   1 R:   1 T:  57  psnr: 4.00e+01 at lambda: 2.35e+01, rho: 2.27e+02\r",
      "P:   1 R:   0 T:  58  psnr: 4.00e+01 at lambda: 2.35e+01, rho: 2.27e+02\r",
      "P:   0 R:   1 T:  58  psnr: 4.00e+01 at lambda: 2.35e+01, rho: 2.27e+02\r",
      "P:   1 R:   1 T:  58  psnr: 4.00e+01 at lambda: 2.35e+01, rho: 2.27e+02\r"
     ]
    },
    {
     "name": "stdout",
     "output_type": "stream",
     "text": [
      "P:   1 R:   1 T:  58  psnr: 4.00e+01 at lambda: 2.35e+01, rho: 2.27e+02\r",
      "P:   1 R:   0 T:  59  psnr: 4.00e+01 at lambda: 2.35e+01, rho: 2.27e+02\r",
      "P:   0 R:   1 T:  59  psnr: 4.00e+01 at lambda: 2.35e+01, rho: 2.27e+02\r",
      "P:   1 R:   1 T:  59  psnr: 4.00e+01 at lambda: 2.35e+01, rho: 2.27e+02\r"
     ]
    },
    {
     "name": "stdout",
     "output_type": "stream",
     "text": [
      "P:   1 R:   1 T:  59  psnr: 4.00e+01 at lambda: 2.35e+01, rho: 2.27e+02\r",
      "P:   1 R:   1 T:  59  psnr: 4.00e+01 at lambda: 2.35e+01, rho: 2.27e+02\r",
      "P:   1 R:   1 T:  59  psnr: 4.00e+01 at lambda: 2.35e+01, rho: 2.27e+02\r"
     ]
    },
    {
     "name": "stdout",
     "output_type": "stream",
     "text": [
      "P:   1 R:   1 T:  59  psnr: 4.00e+01 at lambda: 2.35e+01, rho: 2.27e+02\r",
      "P:   1 R:   1 T:  59  psnr: 4.00e+01 at lambda: 2.35e+01, rho: 2.27e+02\r",
      "P:   1 R:   1 T:  59  psnr: 4.00e+01 at lambda: 2.35e+01, rho: 2.27e+02\r",
      "P:   1 R:   1 T:  59  psnr: 4.00e+01 at lambda: 2.35e+01, rho: 2.27e+02\r"
     ]
    },
    {
     "name": "stdout",
     "output_type": "stream",
     "text": [
      "P:   1 R:   1 T:  59  psnr: 4.00e+01 at lambda: 2.35e+01, rho: 2.27e+02\r",
      "P:   1 R:   0 T:  60  psnr: 4.00e+01 at lambda: 2.35e+01, rho: 2.27e+02\r",
      "P:   1 R:   0 T:  60  psnr: 4.00e+01 at lambda: 2.35e+01, rho: 2.27e+02\r",
      "P:   0 R:   1 T:  60  psnr: 4.00e+01 at lambda: 2.35e+01, rho: 2.27e+02\r",
      "P:   1 R:   1 T:  60  psnr: 4.00e+01 at lambda: 2.35e+01, rho: 2.27e+02\r"
     ]
    },
    {
     "name": "stdout",
     "output_type": "stream",
     "text": [
      "P:   1 R:   1 T:  60  psnr: 4.00e+01 at lambda: 2.35e+01, rho: 2.27e+02\r",
      "P:   1 R:   0 T:  61  psnr: 4.00e+01 at lambda: 2.35e+01, rho: 2.27e+02\r",
      "P:   0 R:   1 T:  61  psnr: 4.00e+01 at lambda: 2.35e+01, rho: 2.27e+02\r"
     ]
    },
    {
     "name": "stdout",
     "output_type": "stream",
     "text": [
      "P:   1 R:   1 T:  61  psnr: 4.00e+01 at lambda: 2.35e+01, rho: 2.27e+02\r",
      "P:   1 R:   1 T:  61  psnr: 4.00e+01 at lambda: 2.35e+01, rho: 2.27e+02\r",
      "P:   1 R:   0 T:  62  psnr: 4.00e+01 at lambda: 2.35e+01, rho: 2.27e+02\r",
      "P:   0 R:   1 T:  62  psnr: 4.00e+01 at lambda: 2.35e+01, rho: 2.27e+02\r"
     ]
    },
    {
     "name": "stdout",
     "output_type": "stream",
     "text": [
      "P:   1 R:   1 T:  62  psnr: 4.00e+01 at lambda: 2.35e+01, rho: 2.27e+02\r",
      "P:   1 R:   1 T:  62  psnr: 4.00e+01 at lambda: 2.35e+01, rho: 2.27e+02\r"
     ]
    },
    {
     "name": "stdout",
     "output_type": "stream",
     "text": [
      "P:   1 R:   1 T:  62  psnr: 4.00e+01 at lambda: 2.35e+01, rho: 2.27e+02\r",
      "P:   1 R:   0 T:  63  psnr: 4.00e+01 at lambda: 2.35e+01, rho: 2.27e+02\r",
      "P:   1 R:   0 T:  63  psnr: 4.00e+01 at lambda: 2.35e+01, rho: 2.27e+02\r",
      "P:   0 R:   1 T:  63  psnr: 4.00e+01 at lambda: 2.35e+01, rho: 2.27e+02\r",
      "P:   1 R:   1 T:  63  psnr: 4.00e+01 at lambda: 2.35e+01, rho: 2.27e+02\r"
     ]
    },
    {
     "name": "stdout",
     "output_type": "stream",
     "text": [
      "P:   1 R:   1 T:  63  psnr: 4.00e+01 at lambda: 2.35e+01, rho: 2.27e+02\r",
      "P:   1 R:   1 T:  63  psnr: 4.00e+01 at lambda: 2.35e+01, rho: 2.27e+02\r",
      "P:   1 R:   0 T:  64  psnr: 4.00e+01 at lambda: 2.35e+01, rho: 2.27e+02\r",
      "P:   0 R:   1 T:  64  psnr: 4.00e+01 at lambda: 2.35e+01, rho: 2.27e+02\r"
     ]
    },
    {
     "name": "stdout",
     "output_type": "stream",
     "text": [
      "P:   1 R:   1 T:  64  psnr: 4.00e+01 at lambda: 2.35e+01, rho: 2.27e+02\r",
      "P:   1 R:   1 T:  64  psnr: 4.00e+01 at lambda: 2.35e+01, rho: 2.27e+02\r",
      "P:   1 R:   1 T:  64  psnr: 4.00e+01 at lambda: 2.35e+01, rho: 2.27e+02\r"
     ]
    },
    {
     "name": "stdout",
     "output_type": "stream",
     "text": [
      "P:   1 R:   1 T:  64  psnr: 4.00e+01 at lambda: 2.35e+01, rho: 2.27e+02\r",
      "P:   1 R:   1 T:  64  psnr: 4.00e+01 at lambda: 2.35e+01, rho: 2.27e+02\r",
      "P:   1 R:   1 T:  64  psnr: 4.00e+01 at lambda: 2.35e+01, rho: 2.27e+02\r"
     ]
    },
    {
     "name": "stdout",
     "output_type": "stream",
     "text": [
      "P:   1 R:   1 T:  64  psnr: 4.00e+01 at lambda: 2.35e+01, rho: 2.27e+02\r",
      "P:   1 R:   1 T:  64  psnr: 4.00e+01 at lambda: 2.35e+01, rho: 2.27e+02\r",
      "P:   1 R:   1 T:  64  psnr: 4.00e+01 at lambda: 2.35e+01, rho: 2.27e+02\r",
      "P:   1 R:   1 T:  64  psnr: 4.00e+01 at lambda: 2.35e+01, rho: 2.27e+02\r"
     ]
    },
    {
     "name": "stdout",
     "output_type": "stream",
     "text": [
      "P:   1 R:   1 T:  64  psnr: 4.00e+01 at lambda: 2.35e+01, rho: 2.27e+02\r",
      "P:   1 R:   1 T:  64  psnr: 4.00e+01 at lambda: 2.35e+01, rho: 2.27e+02\r",
      "P:   1 R:   1 T:  64  psnr: 4.00e+01 at lambda: 2.35e+01, rho: 2.27e+02\r",
      "P:   1 R:   1 T:  64  psnr: 4.00e+01 at lambda: 2.35e+01, rho: 2.27e+02\r"
     ]
    },
    {
     "name": "stdout",
     "output_type": "stream",
     "text": [
      "P:   1 R:   1 T:  64  psnr: 4.00e+01 at lambda: 2.35e+01, rho: 2.27e+02\r",
      "P:   1 R:   1 T:  64  psnr: 4.00e+01 at lambda: 2.35e+01, rho: 2.27e+02\r",
      "P:   1 R:   1 T:  64  psnr: 4.00e+01 at lambda: 2.35e+01, rho: 2.27e+02\r",
      "P:   1 R:   1 T:  64  psnr: 4.00e+01 at lambda: 2.06e+01, rho: 1.58e+02\r"
     ]
    },
    {
     "name": "stdout",
     "output_type": "stream",
     "text": [
      "P:   1 R:   1 T:  64  psnr: 4.00e+01 at lambda: 2.35e+01, rho: 2.27e+02\r",
      "P:   1 R:   1 T:  64  psnr: 4.00e+01 at lambda: 2.35e+01, rho: 2.27e+02\r",
      "P:   1 R:   0 T:  65  psnr: 4.00e+01 at lambda: 2.35e+01, rho: 2.27e+02\r",
      "P:   0 R:   1 T:  65  psnr: 4.00e+01 at lambda: 2.35e+01, rho: 2.27e+02\r"
     ]
    },
    {
     "name": "stdout",
     "output_type": "stream",
     "text": [
      "P:   1 R:   1 T:  65  psnr: 4.00e+01 at lambda: 2.35e+01, rho: 2.27e+02\r",
      "P:   1 R:   1 T:  65  psnr: 4.00e+01 at lambda: 2.35e+01, rho: 2.27e+02\r",
      "P:   1 R:   1 T:  65  psnr: 4.00e+01 at lambda: 2.35e+01, rho: 2.27e+02\r",
      "P:   1 R:   1 T:  65  psnr: 4.00e+01 at lambda: 2.35e+01, rho: 2.27e+02\r"
     ]
    },
    {
     "name": "stdout",
     "output_type": "stream",
     "text": [
      "P:   1 R:   1 T:  65  psnr: 4.00e+01 at lambda: 2.35e+01, rho: 2.27e+02\r",
      "P:   1 R:   1 T:  65  psnr: 4.00e+01 at lambda: 2.35e+01, rho: 2.27e+02\r",
      "P:   1 R:   1 T:  65  psnr: 4.00e+01 at lambda: 2.35e+01, rho: 2.27e+02\r",
      "P:   1 R:   1 T:  65  psnr: 4.00e+01 at lambda: 2.35e+01, rho: 2.27e+02\r",
      "P:   1 R:   1 T:  65  psnr: 4.00e+01 at lambda: 2.35e+01, rho: 2.27e+02\r"
     ]
    },
    {
     "name": "stdout",
     "output_type": "stream",
     "text": [
      "P:   1 R:   1 T:  65  psnr: 4.00e+01 at lambda: 2.35e+01, rho: 2.27e+02\r",
      "P:   1 R:   0 T:  66  psnr: 4.00e+01 at lambda: 2.35e+01, rho: 2.27e+02\r",
      "P:   0 R:   1 T:  66  psnr: 4.00e+01 at lambda: 2.35e+01, rho: 2.27e+02\r",
      "P:   1 R:   1 T:  66  psnr: 4.00e+01 at lambda: 2.35e+01, rho: 2.27e+02\r"
     ]
    },
    {
     "name": "stdout",
     "output_type": "stream",
     "text": [
      "P:   1 R:   1 T:  66  psnr: 4.00e+01 at lambda: 2.35e+01, rho: 2.27e+02\r",
      "P:   1 R:   1 T:  66  psnr: 4.00e+01 at lambda: 2.35e+01, rho: 2.27e+02\r",
      "P:   1 R:   1 T:  66  psnr: 4.00e+01 at lambda: 2.35e+01, rho: 2.27e+02\r"
     ]
    },
    {
     "name": "stdout",
     "output_type": "stream",
     "text": [
      "P:   1 R:   1 T:  66  psnr: 4.00e+01 at lambda: 2.35e+01, rho: 2.27e+02\r",
      "P:   1 R:   1 T:  66  psnr: 4.00e+01 at lambda: 2.35e+01, rho: 2.27e+02\r",
      "P:   1 R:   1 T:  66  psnr: 4.00e+01 at lambda: 2.35e+01, rho: 2.27e+02\r"
     ]
    },
    {
     "name": "stdout",
     "output_type": "stream",
     "text": [
      "P:   1 R:   1 T:  66  psnr: 4.00e+01 at lambda: 2.35e+01, rho: 2.27e+02\r",
      "P:   1 R:   1 T:  66  psnr: 4.00e+01 at lambda: 2.35e+01, rho: 2.27e+02\r",
      "P:   1 R:   1 T:  66  psnr: 4.00e+01 at lambda: 2.35e+01, rho: 2.27e+02\r",
      "P:   1 R:   1 T:  66  psnr: 4.00e+01 at lambda: 2.35e+01, rho: 2.27e+02\r"
     ]
    },
    {
     "name": "stdout",
     "output_type": "stream",
     "text": [
      "P:   1 R:   1 T:  66  psnr: 4.00e+01 at lambda: 2.35e+01, rho: 2.27e+02\r",
      "P:   1 R:   1 T:  66  psnr: 4.00e+01 at lambda: 2.35e+01, rho: 2.27e+02\r",
      "P:   1 R:   1 T:  66  psnr: 4.00e+01 at lambda: 2.35e+01, rho: 2.27e+02\r",
      "P:   1 R:   1 T:  66  psnr: 4.00e+01 at lambda: 2.35e+01, rho: 2.27e+02\r"
     ]
    },
    {
     "name": "stdout",
     "output_type": "stream",
     "text": [
      "P:   1 R:   1 T:  66  psnr: 4.00e+01 at lambda: 2.35e+01, rho: 2.27e+02\r",
      "P:   1 R:   1 T:  66  psnr: 4.00e+01 at lambda: 2.35e+01, rho: 2.27e+02\r",
      "P:   1 R:   1 T:  66  psnr: 4.00e+01 at lambda: 2.35e+01, rho: 2.27e+02\r",
      "P:   1 R:   1 T:  66  psnr: 4.00e+01 at lambda: 2.35e+01, rho: 2.27e+02\r",
      "P:   1 R:   1 T:  66  psnr: 4.00e+01 at lambda: 2.35e+01, rho: 2.27e+02\r"
     ]
    },
    {
     "name": "stdout",
     "output_type": "stream",
     "text": [
      "P:   1 R:   0 T:  67  psnr: 4.00e+01 at lambda: 2.35e+01, rho: 2.27e+02\r",
      "P:   0 R:   1 T:  67  psnr: 4.00e+01 at lambda: 2.35e+01, rho: 2.27e+02\r",
      "P:   1 R:   1 T:  67  psnr: 4.00e+01 at lambda: 2.35e+01, rho: 2.27e+02\r"
     ]
    },
    {
     "name": "stdout",
     "output_type": "stream",
     "text": [
      "P:   1 R:   1 T:  67  psnr: 4.00e+01 at lambda: 2.35e+01, rho: 2.27e+02\r",
      "P:   1 R:   1 T:  67  psnr: 4.00e+01 at lambda: 2.35e+01, rho: 2.27e+02\r"
     ]
    },
    {
     "name": "stdout",
     "output_type": "stream",
     "text": [
      "P:   1 R:   1 T:  67  psnr: 4.00e+01 at lambda: 2.35e+01, rho: 2.27e+02\r",
      "P:   1 R:   1 T:  67  psnr: 4.00e+01 at lambda: 2.35e+01, rho: 2.27e+02\r",
      "P:   1 R:   1 T:  67  psnr: 4.00e+01 at lambda: 2.35e+01, rho: 2.27e+02\r",
      "P:   1 R:   1 T:  67  psnr: 4.00e+01 at lambda: 2.35e+01, rho: 2.27e+02\r"
     ]
    },
    {
     "name": "stdout",
     "output_type": "stream",
     "text": [
      "P:   1 R:   1 T:  67  psnr: 4.00e+01 at lambda: 2.35e+01, rho: 2.27e+02\r",
      "P:   1 R:   0 T:  68  psnr: 4.00e+01 at lambda: 2.35e+01, rho: 2.27e+02\r",
      "P:   0 R:   1 T:  68  psnr: 4.00e+01 at lambda: 2.35e+01, rho: 2.27e+02\r",
      "P:   1 R:   1 T:  68  psnr: 4.00e+01 at lambda: 2.35e+01, rho: 2.27e+02\r"
     ]
    },
    {
     "name": "stdout",
     "output_type": "stream",
     "text": [
      "P:   1 R:   1 T:  68  psnr: 4.00e+01 at lambda: 2.35e+01, rho: 2.27e+02\r",
      "P:   1 R:   1 T:  68  psnr: 4.00e+01 at lambda: 2.35e+01, rho: 2.27e+02\r",
      "P:   1 R:   1 T:  68  psnr: 4.00e+01 at lambda: 2.35e+01, rho: 2.27e+02\r"
     ]
    },
    {
     "name": "stdout",
     "output_type": "stream",
     "text": [
      "P:   1 R:   1 T:  68  psnr: 4.00e+01 at lambda: 2.35e+01, rho: 2.27e+02\r",
      "P:   1 R:   1 T:  68  psnr: 4.00e+01 at lambda: 2.35e+01, rho: 2.27e+02\r",
      "P:   1 R:   1 T:  68  psnr: 4.00e+01 at lambda: 2.35e+01, rho: 2.27e+02\r",
      "P:   1 R:   1 T:  68  psnr: 4.00e+01 at lambda: 2.35e+01, rho: 2.27e+02\r",
      "P:   1 R:   1 T:  68  psnr: 4.00e+01 at lambda: 2.35e+01, rho: 2.27e+02\r"
     ]
    },
    {
     "name": "stdout",
     "output_type": "stream",
     "text": [
      "P:   1 R:   1 T:  68  psnr: 4.00e+01 at lambda: 2.35e+01, rho: 2.27e+02\r",
      "P:   1 R:   0 T:  69  psnr: 4.00e+01 at lambda: 2.35e+01, rho: 2.27e+02\r",
      "P:   0 R:   1 T:  69  psnr: 4.00e+01 at lambda: 2.35e+01, rho: 2.27e+02\r",
      "P:   1 R:   1 T:  69  psnr: 4.00e+01 at lambda: 2.35e+01, rho: 2.27e+02\r"
     ]
    },
    {
     "name": "stdout",
     "output_type": "stream",
     "text": [
      "P:   1 R:   1 T:  69  psnr: 4.00e+01 at lambda: 2.35e+01, rho: 2.27e+02\r",
      "P:   1 R:   0 T:  70  psnr: 4.00e+01 at lambda: 2.35e+01, rho: 2.27e+02\r",
      "P:   0 R:   1 T:  70  psnr: 4.00e+01 at lambda: 2.35e+01, rho: 2.27e+02\r"
     ]
    },
    {
     "name": "stdout",
     "output_type": "stream",
     "text": [
      "P:   1 R:   1 T:  70  psnr: 4.00e+01 at lambda: 2.35e+01, rho: 2.27e+02\r",
      "P:   1 R:   1 T:  70  psnr: 4.00e+01 at lambda: 2.35e+01, rho: 2.27e+02\r",
      "P:   1 R:   0 T:  71  psnr: 4.00e+01 at lambda: 2.35e+01, rho: 2.27e+02\r",
      "P:   0 R:   1 T:  71  psnr: 4.00e+01 at lambda: 2.35e+01, rho: 2.27e+02\r"
     ]
    },
    {
     "name": "stdout",
     "output_type": "stream",
     "text": [
      "P:   1 R:   1 T:  71  psnr: 4.00e+01 at lambda: 2.35e+01, rho: 2.27e+02\r",
      "P:   1 R:   1 T:  71  psnr: 4.00e+01 at lambda: 2.35e+01, rho: 2.27e+02\r",
      "P:   1 R:   1 T:  71  psnr: 4.00e+01 at lambda: 2.35e+01, rho: 2.27e+02\r",
      "P:   1 R:   1 T:  71  psnr: 4.00e+01 at lambda: 2.35e+01, rho: 2.27e+02\r"
     ]
    },
    {
     "name": "stdout",
     "output_type": "stream",
     "text": [
      "P:   1 R:   1 T:  71  psnr: 4.00e+01 at lambda: 2.35e+01, rho: 2.27e+02\r",
      "P:   1 R:   1 T:  71  psnr: 4.00e+01 at lambda: 2.35e+01, rho: 2.27e+02\r",
      "P:   1 R:   1 T:  71  psnr: 4.00e+01 at lambda: 2.35e+01, rho: 2.27e+02\r",
      "P:   1 R:   1 T:  71  psnr: 4.00e+01 at lambda: 2.35e+01, rho: 2.27e+02\r"
     ]
    },
    {
     "name": "stdout",
     "output_type": "stream",
     "text": [
      "P:   1 R:   1 T:  71  psnr: 4.00e+01 at lambda: 2.35e+01, rho: 2.27e+02\r",
      "P:   1 R:   0 T:  72  psnr: 4.00e+01 at lambda: 2.35e+01, rho: 2.27e+02\r",
      "P:   0 R:   1 T:  72  psnr: 4.00e+01 at lambda: 2.35e+01, rho: 2.27e+02\r",
      "P:   1 R:   1 T:  72  psnr: 4.00e+01 at lambda: 2.35e+01, rho: 2.27e+02\r",
      "P:   1 R:   1 T:  72  psnr: 4.00e+01 at lambda: 2.35e+01, rho: 2.27e+02\r"
     ]
    },
    {
     "name": "stdout",
     "output_type": "stream",
     "text": [
      "P:   1 R:   1 T:  72  psnr: 4.00e+01 at lambda: 2.35e+01, rho: 2.27e+02\r",
      "P:   1 R:   1 T:  72  psnr: 4.00e+01 at lambda: 2.35e+01, rho: 2.27e+02\r",
      "P:   1 R:   1 T:  72  psnr: 4.00e+01 at lambda: 2.35e+01, rho: 2.27e+02\r",
      "P:   1 R:   1 T:  72  psnr: 4.00e+01 at lambda: 2.35e+01, rho: 2.27e+02\r"
     ]
    },
    {
     "name": "stdout",
     "output_type": "stream",
     "text": [
      "P:   1 R:   1 T:  72  psnr: 4.00e+01 at lambda: 2.35e+01, rho: 2.27e+02\r",
      "P:   1 R:   1 T:  72  psnr: 4.00e+01 at lambda: 2.35e+01, rho: 2.27e+02\r",
      "P:   1 R:   0 T:  73  psnr: 4.00e+01 at lambda: 2.35e+01, rho: 2.27e+02\r",
      "P:   0 R:   1 T:  73  psnr: 4.00e+01 at lambda: 2.35e+01, rho: 2.27e+02\r"
     ]
    },
    {
     "name": "stdout",
     "output_type": "stream",
     "text": [
      "P:   1 R:   1 T:  73  psnr: 4.00e+01 at lambda: 2.35e+01, rho: 2.27e+02\r",
      "P:   1 R:   1 T:  73  psnr: 4.00e+01 at lambda: 2.35e+01, rho: 2.27e+02\r"
     ]
    },
    {
     "name": "stdout",
     "output_type": "stream",
     "text": [
      "P:   1 R:   1 T:  73  psnr: 4.00e+01 at lambda: 2.35e+01, rho: 2.27e+02\r",
      "P:   1 R:   1 T:  73  psnr: 4.00e+01 at lambda: 2.35e+01, rho: 2.27e+02\r",
      "P:   1 R:   1 T:  73  psnr: 4.00e+01 at lambda: 2.35e+01, rho: 2.27e+02\r",
      "P:   1 R:   1 T:  73  psnr: 4.00e+01 at lambda: 2.35e+01, rho: 2.27e+02\r"
     ]
    },
    {
     "name": "stdout",
     "output_type": "stream",
     "text": [
      "P:   1 R:   1 T:  73  psnr: 4.00e+01 at lambda: 2.35e+01, rho: 2.27e+02\r",
      "P:   1 R:   1 T:  73  psnr: 4.00e+01 at lambda: 2.35e+01, rho: 2.27e+02\r",
      "P:   1 R:   1 T:  73  psnr: 4.00e+01 at lambda: 2.35e+01, rho: 2.27e+02\r",
      "P:   1 R:   0 T:  74  psnr: 4.00e+01 at lambda: 2.35e+01, rho: 2.27e+02\r",
      "P:   0 R:   1 T:  74  psnr: 4.00e+01 at lambda: 2.35e+01, rho: 2.27e+02\r"
     ]
    },
    {
     "name": "stdout",
     "output_type": "stream",
     "text": [
      "P:   1 R:   1 T:  74  psnr: 4.00e+01 at lambda: 2.35e+01, rho: 2.27e+02\r",
      "P:   1 R:   1 T:  74  psnr: 4.00e+01 at lambda: 2.35e+01, rho: 2.27e+02\r"
     ]
    },
    {
     "name": "stdout",
     "output_type": "stream",
     "text": [
      "P:   1 R:   1 T:  74  psnr: 4.00e+01 at lambda: 2.35e+01, rho: 2.27e+02\r",
      "P:   1 R:   0 T:  75  psnr: 4.00e+01 at lambda: 2.35e+01, rho: 2.27e+02\r",
      "P:   1 R:   0 T:  75  psnr: 4.00e+01 at lambda: 2.35e+01, rho: 2.27e+02\r",
      "P:   0 R:   1 T:  75  psnr: 4.00e+01 at lambda: 2.35e+01, rho: 2.27e+02\r",
      "P:   1 R:   1 T:  75  psnr: 4.00e+01 at lambda: 2.35e+01, rho: 2.27e+02\r"
     ]
    },
    {
     "name": "stdout",
     "output_type": "stream",
     "text": [
      "P:   1 R:   1 T:  75  psnr: 4.00e+01 at lambda: 2.35e+01, rho: 2.27e+02\r",
      "P:   1 R:   1 T:  75  psnr: 4.00e+01 at lambda: 2.35e+01, rho: 2.27e+02\r",
      "P:   1 R:   0 T:  76  psnr: 4.00e+01 at lambda: 2.35e+01, rho: 2.27e+02\r",
      "P:   0 R:   1 T:  76  psnr: 4.00e+01 at lambda: 2.35e+01, rho: 2.27e+02\r"
     ]
    },
    {
     "name": "stdout",
     "output_type": "stream",
     "text": [
      "P:   1 R:   1 T:  76  psnr: 4.00e+01 at lambda: 2.35e+01, rho: 2.27e+02\r",
      "P:   1 R:   1 T:  76  psnr: 4.00e+01 at lambda: 2.35e+01, rho: 2.27e+02\r",
      "P:   1 R:   0 T:  77  psnr: 4.00e+01 at lambda: 2.35e+01, rho: 2.27e+02\r"
     ]
    },
    {
     "name": "stdout",
     "output_type": "stream",
     "text": [
      "P:   0 R:   1 T:  77  psnr: 4.00e+01 at lambda: 2.35e+01, rho: 2.27e+02\r",
      "P:   1 R:   1 T:  77  psnr: 4.00e+01 at lambda: 2.35e+01, rho: 2.27e+02\r"
     ]
    },
    {
     "name": "stdout",
     "output_type": "stream",
     "text": [
      "P:   1 R:   1 T:  77  psnr: 4.00e+01 at lambda: 2.35e+01, rho: 2.27e+02\r",
      "P:   1 R:   1 T:  77  psnr: 4.00e+01 at lambda: 2.35e+01, rho: 2.27e+02\r",
      "P:   1 R:   1 T:  77  psnr: 4.00e+01 at lambda: 2.35e+01, rho: 2.27e+02\r"
     ]
    },
    {
     "name": "stdout",
     "output_type": "stream",
     "text": [
      "P:   1 R:   1 T:  77  psnr: 4.00e+01 at lambda: 2.35e+01, rho: 2.27e+02\r",
      "P:   1 R:   1 T:  77  psnr: 4.00e+01 at lambda: 2.35e+01, rho: 2.27e+02\r",
      "P:   1 R:   1 T:  77  psnr: 4.00e+01 at lambda: 2.35e+01, rho: 2.27e+02\r"
     ]
    },
    {
     "name": "stdout",
     "output_type": "stream",
     "text": [
      "P:   1 R:   1 T:  77  psnr: 4.00e+01 at lambda: 2.35e+01, rho: 2.27e+02\r",
      "P:   1 R:   1 T:  77  psnr: 4.00e+01 at lambda: 2.35e+01, rho: 2.27e+02\r",
      "P:   1 R:   1 T:  77  psnr: 4.00e+01 at lambda: 2.35e+01, rho: 2.27e+02\r",
      "P:   1 R:   1 T:  77  psnr: 4.00e+01 at lambda: 2.35e+01, rho: 2.27e+02\r",
      "P:   1 R:   1 T:  77  psnr: 4.00e+01 at lambda: 2.35e+01, rho: 2.27e+02\r"
     ]
    },
    {
     "name": "stdout",
     "output_type": "stream",
     "text": [
      "P:   1 R:   1 T:  77  psnr: 4.00e+01 at lambda: 2.35e+01, rho: 2.27e+02\r",
      "P:   1 R:   1 T:  77  psnr: 4.00e+01 at lambda: 2.35e+01, rho: 2.27e+02\r",
      "P:   1 R:   1 T:  77  psnr: 4.00e+01 at lambda: 2.35e+01, rho: 2.27e+02\r"
     ]
    },
    {
     "name": "stdout",
     "output_type": "stream",
     "text": [
      "P:   1 R:   1 T:  77  psnr: 4.00e+01 at lambda: 2.35e+01, rho: 2.27e+02\r",
      "P:   1 R:   1 T:  77  psnr: 4.00e+01 at lambda: 2.35e+01, rho: 2.27e+02\r",
      "P:   1 R:   0 T:  78  psnr: 4.00e+01 at lambda: 2.35e+01, rho: 2.27e+02\r",
      "P:   0 R:   1 T:  78  psnr: 4.00e+01 at lambda: 2.35e+01, rho: 2.27e+02\r"
     ]
    },
    {
     "name": "stdout",
     "output_type": "stream",
     "text": [
      "P:   1 R:   1 T:  78  psnr: 4.00e+01 at lambda: 2.35e+01, rho: 2.27e+02\r",
      "P:   1 R:   1 T:  78  psnr: 4.00e+01 at lambda: 2.35e+01, rho: 2.27e+02\r",
      "P:   1 R:   0 T:  79  psnr: 4.00e+01 at lambda: 2.35e+01, rho: 2.27e+02\r",
      "P:   0 R:   1 T:  79  psnr: 4.00e+01 at lambda: 2.35e+01, rho: 2.27e+02\r"
     ]
    },
    {
     "name": "stdout",
     "output_type": "stream",
     "text": [
      "P:   1 R:   1 T:  79  psnr: 4.00e+01 at lambda: 2.35e+01, rho: 2.27e+02\r",
      "P:   1 R:   0 T:  80  psnr: 4.00e+01 at lambda: 2.35e+01, rho: 2.27e+02\r",
      "P:   0 R:   1 T:  80  psnr: 4.00e+01 at lambda: 2.35e+01, rho: 2.27e+02\r"
     ]
    },
    {
     "name": "stdout",
     "output_type": "stream",
     "text": [
      "P:   1 R:   1 T:  80  psnr: 4.00e+01 at lambda: 2.35e+01, rho: 2.27e+02\r",
      "P:   1 R:   1 T:  80  psnr: 4.00e+01 at lambda: 2.35e+01, rho: 2.27e+02\r",
      "P:   1 R:   1 T:  80  psnr: 4.00e+01 at lambda: 2.35e+01, rho: 2.27e+02\r",
      "P:   1 R:   0 T:  81  psnr: 4.00e+01 at lambda: 2.35e+01, rho: 2.27e+02\r"
     ]
    },
    {
     "name": "stdout",
     "output_type": "stream",
     "text": [
      "P:   0 R:   1 T:  81  psnr: 4.00e+01 at lambda: 2.35e+01, rho: 2.27e+02\r",
      "P:   1 R:   1 T:  81  psnr: 4.00e+01 at lambda: 2.35e+01, rho: 2.27e+02\r"
     ]
    },
    {
     "name": "stdout",
     "output_type": "stream",
     "text": [
      "P:   1 R:   1 T:  81  psnr: 4.00e+01 at lambda: 2.35e+01, rho: 2.27e+02\r",
      "P:   1 R:   1 T:  81  psnr: 4.00e+01 at lambda: 2.35e+01, rho: 2.27e+02\r",
      "P:   1 R:   1 T:  81  psnr: 4.00e+01 at lambda: 2.35e+01, rho: 2.27e+02\r",
      "P:   1 R:   1 T:  81  psnr: 4.00e+01 at lambda: 2.35e+01, rho: 2.27e+02\r",
      "P:   1 R:   1 T:  81  psnr: 4.00e+01 at lambda: 2.35e+01, rho: 2.27e+02\r"
     ]
    },
    {
     "name": "stdout",
     "output_type": "stream",
     "text": [
      "P:   1 R:   1 T:  81  psnr: 4.00e+01 at lambda: 2.35e+01, rho: 2.27e+02\r",
      "P:   1 R:   1 T:  81  psnr: 4.00e+01 at lambda: 2.35e+01, rho: 2.27e+02\r",
      "P:   1 R:   1 T:  81  psnr: 4.00e+01 at lambda: 2.35e+01, rho: 2.27e+02\r",
      "P:   1 R:   0 T:  82  psnr: 4.00e+01 at lambda: 2.35e+01, rho: 2.27e+02\r",
      "P:   0 R:   1 T:  82  psnr: 4.00e+01 at lambda: 2.35e+01, rho: 2.27e+02\r",
      "P:   1 R:   1 T:  82  psnr: 4.00e+01 at lambda: 2.35e+01, rho: 2.27e+02\r"
     ]
    },
    {
     "name": "stdout",
     "output_type": "stream",
     "text": [
      "P:   1 R:   1 T:  82  psnr: 4.00e+01 at lambda: 2.35e+01, rho: 2.27e+02\r",
      "P:   1 R:   1 T:  82  psnr: 4.00e+01 at lambda: 2.35e+01, rho: 2.27e+02\r",
      "P:   1 R:   1 T:  82  psnr: 4.00e+01 at lambda: 2.35e+01, rho: 2.27e+02\r",
      "P:   1 R:   1 T:  82  psnr: 4.00e+01 at lambda: 2.35e+01, rho: 2.27e+02\r"
     ]
    },
    {
     "name": "stdout",
     "output_type": "stream",
     "text": [
      "P:   1 R:   1 T:  82  psnr: 4.00e+01 at lambda: 2.35e+01, rho: 2.27e+02\r",
      "P:   1 R:   1 T:  82  psnr: 4.00e+01 at lambda: 2.35e+01, rho: 2.27e+02\r",
      "P:   1 R:   1 T:  82  psnr: 4.00e+01 at lambda: 2.35e+01, rho: 2.27e+02\r"
     ]
    },
    {
     "name": "stdout",
     "output_type": "stream",
     "text": [
      "P:   1 R:   0 T:  83  psnr: 4.00e+01 at lambda: 2.35e+01, rho: 2.27e+02\r",
      "P:   0 R:   1 T:  83  psnr: 4.00e+01 at lambda: 2.35e+01, rho: 2.27e+02\r",
      "P:   1 R:   1 T:  83  psnr: 4.00e+01 at lambda: 2.35e+01, rho: 2.27e+02\r"
     ]
    },
    {
     "name": "stdout",
     "output_type": "stream",
     "text": [
      "P:   1 R:   1 T:  83  psnr: 4.00e+01 at lambda: 2.35e+01, rho: 2.27e+02\r",
      "P:   1 R:   0 T:  84  psnr: 4.00e+01 at lambda: 2.35e+01, rho: 2.27e+02\r",
      "P:   0 R:   1 T:  84  psnr: 4.00e+01 at lambda: 2.35e+01, rho: 2.27e+02\r",
      "P:   1 R:   1 T:  84  psnr: 4.00e+01 at lambda: 2.35e+01, rho: 2.27e+02\r"
     ]
    },
    {
     "name": "stdout",
     "output_type": "stream",
     "text": [
      "P:   1 R:   1 T:  84  psnr: 4.00e+01 at lambda: 2.35e+01, rho: 2.27e+02\r",
      "P:   1 R:   0 T:  85  psnr: 4.00e+01 at lambda: 2.35e+01, rho: 2.27e+02\r",
      "P:   1 R:   0 T:  85  psnr: 4.00e+01 at lambda: 2.35e+01, rho: 2.27e+02\r",
      "P:   0 R:   1 T:  85  psnr: 4.00e+01 at lambda: 2.35e+01, rho: 2.27e+02\r"
     ]
    },
    {
     "name": "stdout",
     "output_type": "stream",
     "text": [
      "P:   1 R:   1 T:  85  psnr: 4.00e+01 at lambda: 2.35e+01, rho: 2.27e+02\r",
      "P:   1 R:   1 T:  85  psnr: 4.00e+01 at lambda: 2.35e+01, rho: 2.27e+02\r"
     ]
    },
    {
     "name": "stdout",
     "output_type": "stream",
     "text": [
      "P:   1 R:   1 T:  85  psnr: 4.00e+01 at lambda: 2.35e+01, rho: 2.27e+02\r",
      "P:   1 R:   1 T:  85  psnr: 4.00e+01 at lambda: 2.35e+01, rho: 2.27e+02\r",
      "P:   1 R:   1 T:  85  psnr: 4.00e+01 at lambda: 2.35e+01, rho: 2.27e+02\r"
     ]
    },
    {
     "name": "stdout",
     "output_type": "stream",
     "text": [
      "P:   1 R:   1 T:  85  psnr: 4.00e+01 at lambda: 2.35e+01, rho: 2.27e+02\r",
      "P:   1 R:   1 T:  85  psnr: 4.00e+01 at lambda: 2.35e+01, rho: 2.27e+02\r",
      "P:   1 R:   1 T:  85  psnr: 4.00e+01 at lambda: 2.35e+01, rho: 2.27e+02\r",
      "P:   1 R:   0 T:  86  psnr: 4.00e+01 at lambda: 2.35e+01, rho: 2.27e+02\r",
      "P:   0 R:   1 T:  86  psnr: 4.00e+01 at lambda: 2.35e+01, rho: 2.27e+02\r"
     ]
    },
    {
     "name": "stdout",
     "output_type": "stream",
     "text": [
      "P:   1 R:   1 T:  86  psnr: 4.00e+01 at lambda: 2.35e+01, rho: 2.27e+02\r",
      "P:   1 R:   1 T:  86  psnr: 4.00e+01 at lambda: 2.35e+01, rho: 2.27e+02\r",
      "P:   1 R:   1 T:  86  psnr: 4.00e+01 at lambda: 2.35e+01, rho: 2.27e+02\r"
     ]
    },
    {
     "name": "stdout",
     "output_type": "stream",
     "text": [
      "P:   1 R:   1 T:  86  psnr: 4.00e+01 at lambda: 2.35e+01, rho: 2.27e+02\r",
      "P:   1 R:   1 T:  86  psnr: 4.00e+01 at lambda: 2.35e+01, rho: 2.27e+02\r",
      "P:   1 R:   1 T:  86  psnr: 4.00e+01 at lambda: 2.35e+01, rho: 2.27e+02\r"
     ]
    },
    {
     "name": "stdout",
     "output_type": "stream",
     "text": [
      "P:   1 R:   1 T:  86  psnr: 4.00e+01 at lambda: 2.35e+01, rho: 2.27e+02\r",
      "P:   1 R:   1 T:  86  psnr: 4.00e+01 at lambda: 2.35e+01, rho: 2.27e+02\r",
      "P:   1 R:   1 T:  86  psnr: 4.00e+01 at lambda: 2.35e+01, rho: 2.27e+02\r",
      "P:   1 R:   1 T:  86  psnr: 4.00e+01 at lambda: 2.35e+01, rho: 2.27e+02\r"
     ]
    },
    {
     "name": "stdout",
     "output_type": "stream",
     "text": [
      "P:   1 R:   1 T:  86  psnr: 4.00e+01 at lambda: 2.35e+01, rho: 2.27e+02\r",
      "P:   1 R:   1 T:  86  psnr: 4.00e+01 at lambda: 2.35e+01, rho: 2.27e+02\r",
      "P:   1 R:   1 T:  86  psnr: 4.00e+01 at lambda: 2.35e+01, rho: 2.27e+02\r"
     ]
    },
    {
     "name": "stdout",
     "output_type": "stream",
     "text": [
      "P:   1 R:   1 T:  86  psnr: 4.00e+01 at lambda: 2.35e+01, rho: 2.27e+02\r",
      "P:   1 R:   1 T:  86  psnr: 4.00e+01 at lambda: 2.35e+01, rho: 2.27e+02\r"
     ]
    },
    {
     "name": "stdout",
     "output_type": "stream",
     "text": [
      "P:   1 R:   1 T:  86  psnr: 4.00e+01 at lambda: 2.35e+01, rho: 2.27e+02\r",
      "P:   1 R:   0 T:  87  psnr: 4.00e+01 at lambda: 2.35e+01, rho: 2.27e+02\r",
      "P:   0 R:   1 T:  87  psnr: 4.00e+01 at lambda: 2.35e+01, rho: 2.27e+02\r",
      "P:   1 R:   1 T:  87  psnr: 4.00e+01 at lambda: 2.35e+01, rho: 2.27e+02\r",
      "P:   1 R:   1 T:  87  psnr: 4.00e+01 at lambda: 2.35e+01, rho: 2.27e+02\r"
     ]
    },
    {
     "name": "stdout",
     "output_type": "stream",
     "text": [
      "P:   1 R:   1 T:  87  psnr: 4.00e+01 at lambda: 2.35e+01, rho: 2.27e+02\r",
      "P:   1 R:   0 T:  88  psnr: 4.00e+01 at lambda: 2.35e+01, rho: 2.27e+02\r",
      "P:   1 R:   0 T:  88  psnr: 4.00e+01 at lambda: 2.35e+01, rho: 2.27e+02\r",
      "P:   0 R:   1 T:  88  psnr: 4.00e+01 at lambda: 2.35e+01, rho: 2.27e+02\r",
      "P:   1 R:   1 T:  88  psnr: 4.00e+01 at lambda: 2.35e+01, rho: 2.27e+02\r"
     ]
    },
    {
     "name": "stdout",
     "output_type": "stream",
     "text": [
      "P:   1 R:   1 T:  88  psnr: 4.00e+01 at lambda: 2.35e+01, rho: 2.27e+02\r",
      "P:   1 R:   1 T:  88  psnr: 4.00e+01 at lambda: 2.35e+01, rho: 2.27e+02\r",
      "P:   1 R:   0 T:  89  psnr: 4.00e+01 at lambda: 2.35e+01, rho: 2.27e+02\r",
      "P:   0 R:   1 T:  89  psnr: 4.00e+01 at lambda: 2.35e+01, rho: 2.27e+02\r"
     ]
    },
    {
     "name": "stdout",
     "output_type": "stream",
     "text": [
      "P:   1 R:   1 T:  89  psnr: 4.00e+01 at lambda: 2.35e+01, rho: 2.27e+02\r",
      "P:   1 R:   1 T:  89  psnr: 4.00e+01 at lambda: 2.35e+01, rho: 2.27e+02\r"
     ]
    },
    {
     "name": "stdout",
     "output_type": "stream",
     "text": [
      "P:   1 R:   1 T:  89  psnr: 4.00e+01 at lambda: 2.35e+01, rho: 2.27e+02\r",
      "P:   1 R:   0 T:  90  psnr: 4.00e+01 at lambda: 2.35e+01, rho: 2.27e+02\r",
      "P:   0 R:   1 T:  90  psnr: 4.00e+01 at lambda: 2.35e+01, rho: 2.27e+02\r",
      "P:   1 R:   1 T:  90  psnr: 4.00e+01 at lambda: 2.35e+01, rho: 2.27e+02\r"
     ]
    },
    {
     "name": "stdout",
     "output_type": "stream",
     "text": [
      "P:   1 R:   1 T:  90  psnr: 4.00e+01 at lambda: 2.35e+01, rho: 2.27e+02\r",
      "P:   1 R:   1 T:  90  psnr: 4.00e+01 at lambda: 2.35e+01, rho: 2.27e+02\r",
      "P:   1 R:   0 T:  91  psnr: 4.00e+01 at lambda: 2.35e+01, rho: 2.27e+02\r",
      "P:   0 R:   1 T:  91  psnr: 4.00e+01 at lambda: 2.35e+01, rho: 2.27e+02\r"
     ]
    },
    {
     "name": "stdout",
     "output_type": "stream",
     "text": [
      "P:   1 R:   1 T:  91  psnr: 4.00e+01 at lambda: 2.35e+01, rho: 2.27e+02\r",
      "P:   1 R:   1 T:  91  psnr: 4.00e+01 at lambda: 2.35e+01, rho: 2.27e+02\r"
     ]
    },
    {
     "name": "stdout",
     "output_type": "stream",
     "text": [
      "P:   1 R:   1 T:  91  psnr: 4.00e+01 at lambda: 2.35e+01, rho: 2.27e+02\r",
      "P:   1 R:   0 T:  92  psnr: 4.00e+01 at lambda: 2.35e+01, rho: 2.27e+02\r",
      "P:   0 R:   1 T:  92  psnr: 4.00e+01 at lambda: 2.35e+01, rho: 2.27e+02\r",
      "P:   1 R:   1 T:  92  psnr: 4.00e+01 at lambda: 2.35e+01, rho: 2.27e+02\r"
     ]
    },
    {
     "name": "stdout",
     "output_type": "stream",
     "text": [
      "P:   1 R:   1 T:  92  psnr: 4.00e+01 at lambda: 2.35e+01, rho: 2.27e+02\r",
      "P:   1 R:   1 T:  92  psnr: 4.00e+01 at lambda: 2.35e+01, rho: 2.27e+02\r",
      "P:   1 R:   1 T:  92  psnr: 4.00e+01 at lambda: 2.35e+01, rho: 2.27e+02\r"
     ]
    },
    {
     "name": "stdout",
     "output_type": "stream",
     "text": [
      "P:   1 R:   1 T:  92  psnr: 4.00e+01 at lambda: 2.35e+01, rho: 2.27e+02\r",
      "P:   1 R:   1 T:  92  psnr: 4.00e+01 at lambda: 2.35e+01, rho: 2.27e+02\r",
      "P:   1 R:   1 T:  92  psnr: 4.00e+01 at lambda: 2.35e+01, rho: 2.27e+02\r",
      "P:   1 R:   1 T:  92  psnr: 4.00e+01 at lambda: 2.35e+01, rho: 2.27e+02\r"
     ]
    },
    {
     "name": "stdout",
     "output_type": "stream",
     "text": [
      "P:   1 R:   1 T:  92  psnr: 4.00e+01 at lambda: 2.35e+01, rho: 2.27e+02\r",
      "P:   1 R:   0 T:  93  psnr: 4.00e+01 at lambda: 2.35e+01, rho: 2.27e+02\r",
      "P:   1 R:   0 T:  93  psnr: 4.00e+01 at lambda: 2.35e+01, rho: 2.27e+02\r",
      "P:   0 R:   1 T:  93  psnr: 4.00e+01 at lambda: 2.35e+01, rho: 2.27e+02\r",
      "P:   1 R:   1 T:  93  psnr: 4.00e+01 at lambda: 2.35e+01, rho: 2.27e+02\r"
     ]
    },
    {
     "name": "stdout",
     "output_type": "stream",
     "text": [
      "P:   1 R:   1 T:  93  psnr: 4.00e+01 at lambda: 2.35e+01, rho: 2.27e+02\r",
      "P:   1 R:   1 T:  93  psnr: 4.00e+01 at lambda: 2.35e+01, rho: 2.27e+02\r",
      "P:   1 R:   0 T:  94  psnr: 4.00e+01 at lambda: 2.35e+01, rho: 2.27e+02\r",
      "P:   0 R:   1 T:  94  psnr: 4.00e+01 at lambda: 2.35e+01, rho: 2.27e+02\r"
     ]
    },
    {
     "name": "stdout",
     "output_type": "stream",
     "text": [
      "P:   1 R:   1 T:  94  psnr: 4.00e+01 at lambda: 2.35e+01, rho: 2.27e+02\r",
      "P:   1 R:   1 T:  94  psnr: 4.00e+01 at lambda: 2.35e+01, rho: 2.27e+02\r",
      "P:   1 R:   0 T:  95  psnr: 4.00e+01 at lambda: 2.35e+01, rho: 2.27e+02\r",
      "P:   1 R:   0 T:  95  psnr: 4.00e+01 at lambda: 2.35e+01, rho: 2.27e+02\r",
      "P:   1 R:   0 T:  95  psnr: 4.00e+01 at lambda: 2.35e+01, rho: 2.27e+02\r"
     ]
    },
    {
     "name": "stdout",
     "output_type": "stream",
     "text": [
      "P:   0 R:   1 T:  95  psnr: 4.00e+01 at lambda: 2.35e+01, rho: 2.27e+02\r",
      "P:   1 R:   1 T:  95  psnr: 4.00e+01 at lambda: 2.35e+01, rho: 2.27e+02\r"
     ]
    },
    {
     "name": "stdout",
     "output_type": "stream",
     "text": [
      "P:   1 R:   1 T:  95  psnr: 4.00e+01 at lambda: 2.35e+01, rho: 2.27e+02\r",
      "P:   1 R:   0 T:  96  psnr: 4.00e+01 at lambda: 2.35e+01, rho: 2.27e+02\r",
      "P:   0 R:   1 T:  96  psnr: 4.00e+01 at lambda: 2.35e+01, rho: 2.27e+02\r",
      "P:   1 R:   1 T:  96  psnr: 4.00e+01 at lambda: 2.35e+01, rho: 2.27e+02\r"
     ]
    },
    {
     "name": "stdout",
     "output_type": "stream",
     "text": [
      "P:   1 R:   1 T:  96  psnr: 4.00e+01 at lambda: 2.35e+01, rho: 2.27e+02\r",
      "P:   1 R:   1 T:  96  psnr: 4.00e+01 at lambda: 2.35e+01, rho: 2.27e+02\r",
      "P:   1 R:   0 T:  97  psnr: 4.00e+01 at lambda: 2.35e+01, rho: 2.27e+02\r",
      "P:   0 R:   1 T:  97  psnr: 4.00e+01 at lambda: 2.35e+01, rho: 2.27e+02\r"
     ]
    },
    {
     "name": "stdout",
     "output_type": "stream",
     "text": [
      "P:   1 R:   1 T:  97  psnr: 4.00e+01 at lambda: 2.35e+01, rho: 2.27e+02\r",
      "P:   1 R:   1 T:  97  psnr: 4.00e+01 at lambda: 2.35e+01, rho: 2.27e+02\r",
      "P:   1 R:   0 T:  98  psnr: 4.00e+01 at lambda: 2.35e+01, rho: 2.27e+02\r",
      "P:   0 R:   1 T:  98  psnr: 4.00e+01 at lambda: 2.35e+01, rho: 2.27e+02\r"
     ]
    },
    {
     "name": "stdout",
     "output_type": "stream",
     "text": [
      "P:   1 R:   1 T:  98  psnr: 4.00e+01 at lambda: 2.35e+01, rho: 2.27e+02\r",
      "P:   1 R:   1 T:  98  psnr: 4.00e+01 at lambda: 2.35e+01, rho: 2.27e+02\r",
      "P:   1 R:   0 T:  99  psnr: 4.00e+01 at lambda: 2.35e+01, rho: 2.27e+02\r",
      "P:   1 R:   0 T:  99  psnr: 4.00e+01 at lambda: 2.35e+01, rho: 2.27e+02\r",
      "P:   0 R:   1 T:  99  psnr: 4.00e+01 at lambda: 2.35e+01, rho: 2.27e+02\r"
     ]
    },
    {
     "name": "stdout",
     "output_type": "stream",
     "text": [
      "P:   0 R:   1 T:  99  psnr: 4.00e+01 at lambda: 2.35e+01, rho: 2.27e+02\r",
      "P:   0 R:   1 T:  99  psnr: 4.00e+01 at lambda: 2.35e+01, rho: 2.27e+02\r",
      "P:   0 R:   0 T: 100  psnr: 4.00e+01 at lambda: 2.35e+01, rho: 2.27e+02\n"
     ]
    }
   ],
   "source": [
    "tuner = tune.Tuner(\n",
    "    tune.with_parameters(Trainable, x_gt=x_gt, x0=x0, y=y),\n",
    "    param_space=config,\n",
    "    resources=resources,\n",
    "    metric=\"psnr\",\n",
    "    mode=\"max\",\n",
    "    num_samples=100,  # perform 100 parameter evaluations\n",
    "    num_iterations=10,  # perform at most 10 steps for each parameter evaluation\n",
    ")\n",
    "results = tuner.fit()\n",
    "ray.shutdown()"
   ]
  },
  {
   "cell_type": "markdown",
   "id": "d9388863",
   "metadata": {},
   "source": [
    "Display best parameters and corresponding performance."
   ]
  },
  {
   "cell_type": "code",
   "execution_count": 8,
   "id": "ef2ba9cc",
   "metadata": {
    "collapsed": false,
    "execution": {
     "iopub.execute_input": "2024-06-06T02:15:03.792110Z",
     "iopub.status.busy": "2024-06-06T02:15:03.791768Z",
     "iopub.status.idle": "2024-06-06T02:15:03.799441Z",
     "shell.execute_reply": "2024-06-06T02:15:03.798486Z"
    }
   },
   "outputs": [
    {
     "name": "stdout",
     "output_type": "stream",
     "text": [
      "Best PSNR: 39.97 dB\n",
      "Best config: lambda: 2.35e+01, rho: 2.27e+02\n"
     ]
    }
   ],
   "source": [
    "best_result = results.get_best_result()\n",
    "best_config = best_result.config\n",
    "print(f\"Best PSNR: {best_result.metrics['psnr']:.2f} dB\")\n",
    "print(\"Best config: \" + \", \".join([f\"{k}: {v:.2e}\" for k, v in best_config.items()]))"
   ]
  },
  {
   "cell_type": "markdown",
   "id": "3723dc02",
   "metadata": {},
   "source": [
    "Plot parameter values visited during parameter search. Marker sizes are\n",
    "proportional to number of iterations run at each parameter pair. The best\n",
    "point in the parameter space is indicated in red."
   ]
  },
  {
   "cell_type": "code",
   "execution_count": 9,
   "id": "22a53ff5",
   "metadata": {
    "collapsed": false,
    "execution": {
     "iopub.execute_input": "2024-06-06T02:15:03.803149Z",
     "iopub.status.busy": "2024-06-06T02:15:03.802712Z",
     "iopub.status.idle": "2024-06-06T02:15:04.649152Z",
     "shell.execute_reply": "2024-06-06T02:15:04.648214Z"
    }
   },
   "outputs": [
    {
     "data": {
      "image/png": "[encoded data removed]",
      "text/plain": [
       "<Figure size 800x800 with 1 Axes>"
      ]
     },
     "metadata": {},
     "output_type": "display_data"
    }
   ],
   "source": [
    "fig = plot.figure(figsize=(8, 8))\n",
    "trials = results.get_dataframe()\n",
    "for t in trials.iloc:\n",
    "    n = t[\"training_iteration\"]\n",
    "    plot.plot(\n",
    "        t[\"config/lambda\"],\n",
    "        t[\"config/rho\"],\n",
    "        ptyp=\"loglog\",\n",
    "        lw=0,\n",
    "        ms=(0.5 + 1.5 * n),\n",
    "        marker=\"o\",\n",
    "        mfc=\"blue\",\n",
    "        mec=\"blue\",\n",
    "        fig=fig,\n",
    "    )\n",
    "plot.plot(\n",
    "    best_config[\"lambda\"],\n",
    "    best_config[\"rho\"],\n",
    "    ptyp=\"loglog\",\n",
    "    title=\"Parameter search sampling locations\\n(marker size proportional to number of iterations)\",\n",
    "    xlbl=r\"$\\rho$\",\n",
    "    ylbl=r\"$\\lambda$\",\n",
    "    lw=0,\n",
    "    ms=5.0,\n",
    "    marker=\"o\",\n",
    "    mfc=\"red\",\n",
    "    mec=\"red\",\n",
    "    fig=fig,\n",
    ")\n",
    "ax = fig.axes[0]\n",
    "ax.set_xlim([config[\"rho\"].lower, config[\"rho\"].upper])\n",
    "ax.set_ylim([config[\"lambda\"].lower, config[\"lambda\"].upper])\n",
    "fig.show()"
   ]
  },
  {
   "cell_type": "markdown",
   "id": "cd3a69b9",
   "metadata": {},
   "source": [
    "Plot parameter values visited during parameter search and corresponding\n",
    "reconstruction PSNRs.The best point in the parameter space is indicated\n",
    "in red."
   ]
  },
  {
   "cell_type": "code",
   "execution_count": 10,
   "id": "a7386678",
   "metadata": {
    "collapsed": false,
    "execution": {
     "iopub.execute_input": "2024-06-06T02:15:04.658187Z",
     "iopub.status.busy": "2024-06-06T02:15:04.657660Z",
     "iopub.status.idle": "2024-06-06T02:15:05.100664Z",
     "shell.execute_reply": "2024-06-06T02:15:05.099332Z"
    }
   },
   "outputs": [
    {
     "data": {
      "image/png": "[encoded data removed]",
      "text/plain": [
       "<Figure size 1000x800 with 2 Axes>"
      ]
     },
     "metadata": {},
     "output_type": "display_data"
    }
   ],
   "source": [
    "𝜌 = [t[\"config/rho\"] for t in trials.iloc]\n",
    "𝜆 = [t[\"config/lambda\"] for t in trials.iloc]\n",
    "psnr = [t[\"psnr\"] for t in trials.iloc]\n",
    "minpsnr = min(max(psnr), 20.0)\n",
    "𝜌, 𝜆, psnr = zip(*filter(lambda x: x[2] >= minpsnr, zip(𝜌, 𝜆, psnr)))\n",
    "fig, ax = plot.subplots(figsize=(10, 8))\n",
    "sc = ax.scatter(𝜌, 𝜆, c=psnr, cmap=plot.cm.plasma_r)\n",
    "fig.colorbar(sc)\n",
    "plot.plot(\n",
    "    best_config[\"lambda\"],\n",
    "    best_config[\"rho\"],\n",
    "    ptyp=\"loglog\",\n",
    "    lw=0,\n",
    "    ms=12.0,\n",
    "    marker=\"2\",\n",
    "    mfc=\"red\",\n",
    "    mec=\"red\",\n",
    "    fig=fig,\n",
    "    ax=ax,\n",
    ")\n",
    "ax.set_xscale(\"log\")\n",
    "ax.set_yscale(\"log\")\n",
    "ax.set_xlabel(r\"$\\rho$\")\n",
    "ax.set_ylabel(r\"$\\lambda$\")\n",
    "ax.set_title(\"PSNR at each sample location\\n(values below 20 dB omitted)\")\n",
    "fig.show()"
   ]
  }
 ],
 "metadata": {
  "language_info": {
   "codemirror_mode": {
    "name": "ipython",
    "version": 3
   },
   "file_extension": ".py",
   "mimetype": "text/x-python",
   "name": "python",
   "nbconvert_exporter": "python",
   "pygments_lexer": "ipython3",
   "version": "3.10.13"
  }
 },
 "nbformat": 4,
 "nbformat_minor": 5
}
