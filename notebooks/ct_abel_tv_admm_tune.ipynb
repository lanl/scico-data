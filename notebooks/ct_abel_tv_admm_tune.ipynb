{
 "cells": [
  {
   "cell_type": "markdown",
   "id": "d2940b95",
   "metadata": {},
   "source": [
    "Parameter Tuning for TV-Regularized Abel Inversion\n",
    "==================================================\n",
    "\n",
    "This example demonstrates the use of\n",
    "[scico.ray.tune](../_autosummary/scico.ray.tune.rst) to tune\n",
    "parameters for the companion [example script](ct_abel_tv_admm.rst). The\n",
    "`ray.tune` class API is used in this example.\n",
    "\n",
    "This script is hard-coded to run on CPU only to avoid the large number of\n",
    "warnings that are emitted when GPU resources are requested but not available,\n",
    "and due to the difficulty of supressing these warnings in a way that does\n",
    "not force use of the CPU only. To enable GPU usage, comment out the\n",
    "`os.environ` statements near the beginning of the script, and change the\n",
    "value of the \"gpu\" entry in the `resources` dict from 0 to 1. Note that\n",
    "two environment variables are set to suppress the warnings because\n",
    "`JAX_PLATFORMS` was intended to replace `JAX_PLATFORM_NAME` but this change\n",
    "has yet to be correctly implemented\n",
    "(see [google/jax#6805](https://github.com/google/jax/issues/6805) and\n",
    "[google/jax#10272](https://github.com/google/jax/pull/10272)."
   ]
  },
  {
   "cell_type": "code",
   "execution_count": 1,
   "id": "62a11390",
   "metadata": {
    "collapsed": false,
    "execution": {
     "iopub.execute_input": "2023-04-05T13:33:22.843839Z",
     "iopub.status.busy": "2023-04-05T13:33:22.843554Z",
     "iopub.status.idle": "2023-04-05T13:33:24.665349Z",
     "shell.execute_reply": "2023-04-05T13:33:24.664580Z"
    }
   },
   "outputs": [],
   "source": [
    "# isort: off\n",
    "import os\n",
    "\n",
    "os.environ[\"JAX_PLATFORM_NAME\"] = \"cpu\"\n",
    "os.environ[\"JAX_PLATFORMS\"] = \"cpu\"\n",
    "\n",
    "import numpy as np\n",
    "\n",
    "import jax\n",
    "\n",
    "from scico import functional, linop, loss, metric, plot\n",
    "from scico.examples import create_circular_phantom\n",
    "from scico.linop.abel import AbelProjector\n",
    "from scico.optimize.admm import ADMM, LinearSubproblemSolver\n",
    "from scico.ray import tune\n",
    "plot.config_notebook_plotting()"
   ]
  },
  {
   "cell_type": "markdown",
   "id": "79983a29",
   "metadata": {},
   "source": [
    "Create a ground truth image."
   ]
  },
  {
   "cell_type": "code",
   "execution_count": 2,
   "id": "8d5eb86e",
   "metadata": {
    "collapsed": false,
    "execution": {
     "iopub.execute_input": "2023-04-05T13:33:24.669049Z",
     "iopub.status.busy": "2023-04-05T13:33:24.668431Z",
     "iopub.status.idle": "2023-04-05T13:33:25.269149Z",
     "shell.execute_reply": "2023-04-05T13:33:25.268586Z"
    }
   },
   "outputs": [],
   "source": [
    "N = 256  # image size\n",
    "x_gt = create_circular_phantom((N, N), [0.4 * N, 0.2 * N, 0.1 * N], [1, 0, 0.5])"
   ]
  },
  {
   "cell_type": "markdown",
   "id": "5d3ab2a8",
   "metadata": {},
   "source": [
    "Set up the forward operator and create a test measurement."
   ]
  },
  {
   "cell_type": "code",
   "execution_count": 3,
   "id": "a4b27ded",
   "metadata": {
    "collapsed": false,
    "execution": {
     "iopub.execute_input": "2023-04-05T13:33:25.272735Z",
     "iopub.status.busy": "2023-04-05T13:33:25.272320Z",
     "iopub.status.idle": "2023-04-05T13:33:25.366828Z",
     "shell.execute_reply": "2023-04-05T13:33:25.365565Z"
    }
   },
   "outputs": [],
   "source": [
    "A = AbelProjector(x_gt.shape)\n",
    "y = A @ x_gt\n",
    "np.random.seed(12345)\n",
    "y = y + np.random.normal(size=y.shape)"
   ]
  },
  {
   "cell_type": "markdown",
   "id": "5077fe89",
   "metadata": {},
   "source": [
    "Define performance evaluation class."
   ]
  },
  {
   "cell_type": "code",
   "execution_count": 4,
   "id": "af16de11",
   "metadata": {
    "collapsed": false,
    "execution": {
     "iopub.execute_input": "2023-04-05T13:33:25.369745Z",
     "iopub.status.busy": "2023-04-05T13:33:25.369485Z",
     "iopub.status.idle": "2023-04-05T13:33:25.377229Z",
     "shell.execute_reply": "2023-04-05T13:33:25.376492Z"
    }
   },
   "outputs": [],
   "source": [
    "class Trainable(tune.Trainable):\n",
    "    \"\"\"Parameter evaluation class.\"\"\"\n",
    "\n",
    "    def setup(self, config, x_gt, y):\n",
    "        \"\"\"This method initializes a new parameter evaluation object. It\n",
    "        is called once when a new parameter evaluation object is created.\n",
    "        The `config` parameter is a dict of specific parameters for\n",
    "        evaluation of a single parameter set (a pair of parameters in\n",
    "        this case). The remaining parameters are objects that are passed\n",
    "        to the evaluation function via the ray object store.\n",
    "        \"\"\"\n",
    "        # Put main arrays on jax device.\n",
    "        self.x_gt, self.y = jax.device_put([x_gt, y])\n",
    "        # Set up problem to be solved.\n",
    "        self.A = AbelProjector(self.x_gt.shape)\n",
    "        self.f = loss.SquaredL2Loss(y=self.y, A=self.A)\n",
    "        self.C = linop.FiniteDifference(input_shape=self.x_gt.shape)\n",
    "        self.reset_config(config)\n",
    "\n",
    "    def reset_config(self, config):\n",
    "        \"\"\"This method is only required when `scico.ray.tune.Tuner` is\n",
    "        initialized with `reuse_actors` set to ``True`` (the default). In\n",
    "        this case, a set of parameter evaluation processes and\n",
    "        corresponding objects are created once (including initialization\n",
    "        via a call to the `setup` method), and this method is called when\n",
    "        switching to evaluation of a different parameter configuration.\n",
    "        If `reuse_actors` is set to ``False``, then a new process and\n",
    "        object are created for each parameter configuration, and this\n",
    "        method is not used.\n",
    "        \"\"\"\n",
    "        # Extract solver parameters from config dict.\n",
    "        λ, ρ = config[\"lambda\"], config[\"rho\"]\n",
    "        # Set up parameter-dependent functional.\n",
    "        g = λ * functional.L1Norm()\n",
    "        # Define solver.\n",
    "        self.solver = ADMM(\n",
    "            f=self.f,\n",
    "            g_list=[g],\n",
    "            C_list=[self.C],\n",
    "            rho_list=[ρ],\n",
    "            x0=A.inverse(self.y),\n",
    "            maxiter=10,\n",
    "            subproblem_solver=LinearSubproblemSolver(),\n",
    "        )\n",
    "        return True\n",
    "\n",
    "    def step(self):\n",
    "        \"\"\"This method is called for each step in the evaluation of a\n",
    "        single parameter configuration. The maximum number of times it\n",
    "        can be called is controlled by the `num_iterations` parameter\n",
    "        in the initialization of a `scico.ray.tune.Tuner` object.\n",
    "        \"\"\"\n",
    "        # Perform 10 solver steps for every ray.tune step\n",
    "        x_admm = self.solver.solve()\n",
    "        return {\"psnr\": float(metric.psnr(self.x_gt, x_admm))}"
   ]
  },
  {
   "cell_type": "markdown",
   "id": "a7c9d20d",
   "metadata": {},
   "source": [
    "Define parameter search space and resources per trial."
   ]
  },
  {
   "cell_type": "code",
   "execution_count": 5,
   "id": "938cc640",
   "metadata": {
    "collapsed": false,
    "execution": {
     "iopub.execute_input": "2023-04-05T13:33:25.379643Z",
     "iopub.status.busy": "2023-04-05T13:33:25.379451Z",
     "iopub.status.idle": "2023-04-05T13:33:25.384250Z",
     "shell.execute_reply": "2023-04-05T13:33:25.382948Z"
    }
   },
   "outputs": [],
   "source": [
    "config = {\"lambda\": tune.loguniform(1e0, 1e2), \"rho\": tune.loguniform(1e1, 1e3)}\n",
    "resources = {\"gpu\": 0, \"cpu\": 1}  # gpus per trial, cpus per trial"
   ]
  },
  {
   "cell_type": "markdown",
   "id": "492d9fde",
   "metadata": {},
   "source": [
    "Run parameter search."
   ]
  },
  {
   "cell_type": "code",
   "execution_count": 6,
   "id": "770a7c83",
   "metadata": {
    "collapsed": false,
    "execution": {
     "iopub.execute_input": "2023-04-05T13:33:25.387122Z",
     "iopub.status.busy": "2023-04-05T13:33:25.386878Z",
     "iopub.status.idle": "2023-04-05T13:34:04.593385Z",
     "shell.execute_reply": "2023-04-05T13:34:04.591909Z"
    }
   },
   "outputs": [
    {
     "name": "stdout",
     "output_type": "stream",
     "text": [
      "P:   0 R:   1 T:   0 \r"
     ]
    },
    {
     "name": "stdout",
     "output_type": "stream",
     "text": [
      "P:   0 R:   2 T:   0 \r",
      "P:   1 R:   2 T:   0  psnr: 2.08e+01 at lambda: 2.52e+00, rho: 1.45e+01\r"
     ]
    },
    {
     "name": "stdout",
     "output_type": "stream",
     "text": [
      "P:   0 R:   3 T:   0  psnr: 2.08e+01 at lambda: 2.52e+00, rho: 1.45e+01\r",
      "P:   1 R:   2 T:   1  psnr: 2.08e+01 at lambda: 2.52e+00, rho: 1.45e+01\r",
      "P:   0 R:   3 T:   1  psnr: 2.08e+01 at lambda: 2.52e+00, rho: 1.45e+01\r",
      "P:   1 R:   3 T:   1  psnr: 2.13e+01 at lambda: 2.52e+00, rho: 1.45e+01\r"
     ]
    },
    {
     "name": "stdout",
     "output_type": "stream",
     "text": [
      "P:   0 R:   4 T:   1  psnr: 2.13e+01 at lambda: 2.52e+00, rho: 1.45e+01\r",
      "P:   1 R:   3 T:   2  psnr: 2.13e+01 at lambda: 2.52e+00, rho: 1.45e+01\r",
      "P:   0 R:   4 T:   2  psnr: 2.13e+01 at lambda: 2.52e+00, rho: 1.45e+01\r",
      "P:   1 R:   4 T:   2  psnr: 2.13e+01 at lambda: 2.52e+00, rho: 1.45e+01\r",
      "P:   1 R:   4 T:   2  psnr: 3.36e+01 at lambda: 8.14e+00, rho: 1.30e+01\r",
      "P:   1 R:   4 T:   2  psnr: 3.36e+01 at lambda: 8.14e+00, rho: 1.30e+01\r",
      "P:   1 R:   4 T:   2  psnr: 3.54e+01 at lambda: 8.14e+00, rho: 1.30e+01\r"
     ]
    },
    {
     "name": "stdout",
     "output_type": "stream",
     "text": [
      "P:   1 R:   4 T:   2  psnr: 3.54e+01 at lambda: 8.14e+00, rho: 1.30e+01\r",
      "P:   1 R:   4 T:   2  psnr: 3.59e+01 at lambda: 8.14e+00, rho: 1.30e+01\r",
      "P:   1 R:   4 T:   2  psnr: 3.59e+01 at lambda: 8.14e+00, rho: 1.30e+01\r",
      "P:   1 R:   4 T:   2  psnr: 3.64e+01 at lambda: 8.14e+00, rho: 1.30e+01\r",
      "P:   1 R:   4 T:   2  psnr: 3.64e+01 at lambda: 8.14e+00, rho: 1.30e+01\r"
     ]
    },
    {
     "name": "stdout",
     "output_type": "stream",
     "text": [
      "P:   1 R:   4 T:   2  psnr: 3.64e+01 at lambda: 8.14e+00, rho: 1.30e+01\r",
      "P:   1 R:   4 T:   2  psnr: 3.64e+01 at lambda: 8.14e+00, rho: 1.30e+01\r",
      "P:   1 R:   4 T:   2  psnr: 3.64e+01 at lambda: 8.14e+00, rho: 1.30e+01\r",
      "P:   1 R:   4 T:   2  psnr: 3.58e+01 at lambda: 8.14e+00, rho: 1.30e+01\r",
      "P:   1 R:   4 T:   2  psnr: 3.58e+01 at lambda: 8.14e+00, rho: 1.30e+01\r"
     ]
    },
    {
     "name": "stdout",
     "output_type": "stream",
     "text": [
      "P:   1 R:   4 T:   2  psnr: 3.58e+01 at lambda: 8.14e+00, rho: 1.30e+01\r",
      "P:   1 R:   3 T:   3  psnr: 3.58e+01 at lambda: 8.14e+00, rho: 1.30e+01\r",
      "P:   0 R:   4 T:   3  psnr: 3.58e+01 at lambda: 8.14e+00, rho: 1.30e+01\r",
      "P:   1 R:   4 T:   3  psnr: 3.63e+01 at lambda: 8.14e+00, rho: 1.30e+01\r",
      "P:   1 R:   4 T:   3  psnr: 3.63e+01 at lambda: 8.14e+00, rho: 1.30e+01\r"
     ]
    },
    {
     "name": "stdout",
     "output_type": "stream",
     "text": [
      "P:   1 R:   4 T:   3  psnr: 3.66e+01 at lambda: 8.14e+00, rho: 1.30e+01\r",
      "P:   1 R:   4 T:   3  psnr: 3.67e+01 at lambda: 9.34e+01, rho: 2.49e+02\r",
      "P:   1 R:   4 T:   3  psnr: 3.70e+01 at lambda: 8.14e+00, rho: 1.30e+01\r",
      "P:   1 R:   4 T:   3  psnr: 3.70e+01 at lambda: 8.14e+00, rho: 1.30e+01\r",
      "P:   1 R:   3 T:   4  psnr: 3.70e+01 at lambda: 8.14e+00, rho: 1.30e+01\r",
      "P:   0 R:   4 T:   4  psnr: 3.70e+01 at lambda: 8.14e+00, rho: 1.30e+01\r"
     ]
    },
    {
     "name": "stdout",
     "output_type": "stream",
     "text": [
      "P:   1 R:   3 T:   5  psnr: 3.69e+01 at lambda: 9.34e+01, rho: 2.49e+02\r",
      "P:   0 R:   4 T:   5  psnr: 3.69e+01 at lambda: 9.34e+01, rho: 2.49e+02\r",
      "P:   1 R:   4 T:   5  psnr: 3.71e+01 at lambda: 9.34e+01, rho: 2.49e+02\r",
      "P:   1 R:   4 T:   5  psnr: 3.73e+01 at lambda: 9.34e+01, rho: 2.49e+02\r",
      "P:   1 R:   4 T:   5  psnr: 3.73e+01 at lambda: 9.34e+01, rho: 2.49e+02\r"
     ]
    },
    {
     "name": "stdout",
     "output_type": "stream",
     "text": [
      "P:   1 R:   4 T:   5  psnr: 3.75e+01 at lambda: 9.34e+01, rho: 2.49e+02\r",
      "P:   1 R:   3 T:   6  psnr: 3.75e+01 at lambda: 9.34e+01, rho: 2.49e+02\r",
      "P:   0 R:   4 T:   6  psnr: 3.75e+01 at lambda: 9.34e+01, rho: 2.49e+02\r",
      "P:   1 R:   3 T:   7  psnr: 3.75e+01 at lambda: 9.34e+01, rho: 2.49e+02\r",
      "P:   0 R:   4 T:   7  psnr: 3.75e+01 at lambda: 9.34e+01, rho: 2.49e+02\r",
      "P:   1 R:   4 T:   7  psnr: 3.75e+01 at lambda: 9.34e+01, rho: 2.49e+02\r",
      "P:   1 R:   4 T:   7  psnr: 3.75e+01 at lambda: 9.34e+01, rho: 2.49e+02\r"
     ]
    },
    {
     "name": "stdout",
     "output_type": "stream",
     "text": [
      "P:   1 R:   3 T:   8  psnr: 3.76e+01 at lambda: 9.34e+01, rho: 2.49e+02\r",
      "P:   0 R:   4 T:   8  psnr: 3.76e+01 at lambda: 9.34e+01, rho: 2.49e+02\r",
      "P:   1 R:   4 T:   8  psnr: 3.76e+01 at lambda: 9.34e+01, rho: 2.49e+02\r",
      "P:   1 R:   4 T:   8  psnr: 3.76e+01 at lambda: 9.34e+01, rho: 2.49e+02\r",
      "P:   1 R:   3 T:   9  psnr: 3.76e+01 at lambda: 9.34e+01, rho: 2.49e+02\r",
      "P:   0 R:   4 T:   9  psnr: 3.76e+01 at lambda: 9.34e+01, rho: 2.49e+02\r"
     ]
    },
    {
     "name": "stdout",
     "output_type": "stream",
     "text": [
      "P:   1 R:   4 T:   9  psnr: 3.80e+01 at lambda: 7.80e+01, rho: 2.86e+02\r",
      "P:   1 R:   3 T:  10  psnr: 3.80e+01 at lambda: 7.80e+01, rho: 2.86e+02\r",
      "P:   0 R:   4 T:  10  psnr: 3.80e+01 at lambda: 7.80e+01, rho: 2.86e+02\r",
      "P:   1 R:   4 T:  10  psnr: 3.82e+01 at lambda: 7.80e+01, rho: 2.86e+02\r",
      "P:   1 R:   3 T:  11  psnr: 3.82e+01 at lambda: 7.80e+01, rho: 2.86e+02\r",
      "P:   0 R:   4 T:  11  psnr: 3.82e+01 at lambda: 7.80e+01, rho: 2.86e+02\r"
     ]
    },
    {
     "name": "stdout",
     "output_type": "stream",
     "text": [
      "P:   1 R:   4 T:  11  psnr: 3.83e+01 at lambda: 7.80e+01, rho: 2.86e+02\r",
      "P:   1 R:   4 T:  11  psnr: 3.84e+01 at lambda: 7.80e+01, rho: 2.86e+02\r",
      "P:   1 R:   3 T:  12  psnr: 3.84e+01 at lambda: 7.80e+01, rho: 2.86e+02\r",
      "P:   0 R:   4 T:  12  psnr: 3.84e+01 at lambda: 7.80e+01, rho: 2.86e+02\r"
     ]
    },
    {
     "name": "stdout",
     "output_type": "stream",
     "text": [
      "P:   1 R:   4 T:  12  psnr: 3.85e+01 at lambda: 7.80e+01, rho: 2.86e+02\r",
      "P:   1 R:   3 T:  13  psnr: 3.85e+01 at lambda: 7.80e+01, rho: 2.86e+02\r",
      "P:   0 R:   4 T:  13  psnr: 3.85e+01 at lambda: 7.80e+01, rho: 2.86e+02\r",
      "P:   1 R:   3 T:  14  psnr: 3.86e+01 at lambda: 7.80e+01, rho: 2.86e+02\r",
      "P:   0 R:   4 T:  14  psnr: 3.86e+01 at lambda: 7.80e+01, rho: 2.86e+02\r"
     ]
    },
    {
     "name": "stdout",
     "output_type": "stream",
     "text": [
      "P:   1 R:   4 T:  14  psnr: 3.86e+01 at lambda: 7.80e+01, rho: 2.86e+02\r",
      "P:   1 R:   3 T:  15  psnr: 3.86e+01 at lambda: 7.80e+01, rho: 2.86e+02\r",
      "P:   0 R:   4 T:  15  psnr: 3.86e+01 at lambda: 7.80e+01, rho: 2.86e+02\r",
      "P:   1 R:   4 T:  15  psnr: 3.86e+01 at lambda: 7.80e+01, rho: 2.86e+02\r",
      "P:   1 R:   3 T:  16  psnr: 3.86e+01 at lambda: 7.80e+01, rho: 2.86e+02\r"
     ]
    },
    {
     "name": "stdout",
     "output_type": "stream",
     "text": [
      "P:   0 R:   4 T:  16  psnr: 3.86e+01 at lambda: 7.80e+01, rho: 2.86e+02\r",
      "P:   1 R:   4 T:  16  psnr: 3.86e+01 at lambda: 7.80e+01, rho: 2.86e+02\r",
      "P:   1 R:   4 T:  16  psnr: 3.86e+01 at lambda: 7.80e+01, rho: 2.86e+02\r",
      "P:   1 R:   4 T:  16  psnr: 3.86e+01 at lambda: 7.80e+01, rho: 2.86e+02\r"
     ]
    },
    {
     "name": "stdout",
     "output_type": "stream",
     "text": [
      "P:   1 R:   3 T:  17  psnr: 3.86e+01 at lambda: 7.80e+01, rho: 2.86e+02\r",
      "P:   0 R:   4 T:  17  psnr: 3.86e+01 at lambda: 7.80e+01, rho: 2.86e+02\r",
      "P:   1 R:   4 T:  17  psnr: 3.86e+01 at lambda: 7.80e+01, rho: 2.86e+02\r",
      "P:   1 R:   4 T:  17  psnr: 3.91e+01 at lambda: 4.08e+01, rho: 9.61e+01\r",
      "P:   1 R:   3 T:  18  psnr: 3.91e+01 at lambda: 4.08e+01, rho: 9.61e+01\r",
      "P:   0 R:   4 T:  18  psnr: 3.91e+01 at lambda: 4.08e+01, rho: 9.61e+01\r",
      "P:   1 R:   4 T:  18  psnr: 3.92e+01 at lambda: 4.08e+01, rho: 9.61e+01\r",
      "P:   1 R:   4 T:  18  psnr: 3.92e+01 at lambda: 4.08e+01, rho: 9.61e+01\r"
     ]
    },
    {
     "name": "stdout",
     "output_type": "stream",
     "text": [
      "P:   1 R:   4 T:  18  psnr: 3.95e+01 at lambda: 4.08e+01, rho: 9.61e+01\r",
      "P:   1 R:   3 T:  19  psnr: 3.95e+01 at lambda: 4.08e+01, rho: 9.61e+01\r",
      "P:   0 R:   4 T:  19  psnr: 3.95e+01 at lambda: 4.08e+01, rho: 9.61e+01\r",
      "P:   1 R:   4 T:  19  psnr: 3.95e+01 at lambda: 4.08e+01, rho: 9.61e+01\r"
     ]
    },
    {
     "name": "stdout",
     "output_type": "stream",
     "text": [
      "P:   1 R:   4 T:  19  psnr: 3.93e+01 at lambda: 4.08e+01, rho: 9.61e+01\r",
      "P:   1 R:   4 T:  19  psnr: 3.93e+01 at lambda: 4.08e+01, rho: 9.61e+01\r",
      "P:   1 R:   3 T:  20  psnr: 3.96e+01 at lambda: 4.08e+01, rho: 9.61e+01\r",
      "P:   0 R:   4 T:  20  psnr: 3.96e+01 at lambda: 4.08e+01, rho: 9.61e+01\r",
      "P:   1 R:   4 T:  20  psnr: 3.96e+01 at lambda: 4.08e+01, rho: 9.61e+01\r",
      "P:   1 R:   4 T:  20  psnr: 3.96e+01 at lambda: 4.08e+01, rho: 9.61e+01\r"
     ]
    },
    {
     "name": "stdout",
     "output_type": "stream",
     "text": [
      "P:   1 R:   3 T:  21  psnr: 3.96e+01 at lambda: 4.08e+01, rho: 9.61e+01\r",
      "P:   0 R:   4 T:  21  psnr: 3.96e+01 at lambda: 4.08e+01, rho: 9.61e+01\r",
      "P:   1 R:   4 T:  21  psnr: 3.96e+01 at lambda: 4.08e+01, rho: 9.61e+01\r",
      "P:   1 R:   4 T:  21  psnr: 3.96e+01 at lambda: 4.08e+01, rho: 9.61e+01\r",
      "P:   1 R:   3 T:  22  psnr: 3.96e+01 at lambda: 4.08e+01, rho: 9.61e+01\r",
      "P:   0 R:   4 T:  22  psnr: 3.96e+01 at lambda: 4.08e+01, rho: 9.61e+01\r"
     ]
    },
    {
     "name": "stdout",
     "output_type": "stream",
     "text": [
      "P:   1 R:   4 T:  22  psnr: 3.96e+01 at lambda: 4.08e+01, rho: 9.61e+01\r",
      "P:   1 R:   3 T:  23  psnr: 3.96e+01 at lambda: 4.08e+01, rho: 9.61e+01\r",
      "P:   0 R:   4 T:  23  psnr: 3.96e+01 at lambda: 4.08e+01, rho: 9.61e+01\r",
      "P:   1 R:   4 T:  23  psnr: 3.96e+01 at lambda: 4.08e+01, rho: 9.61e+01\r"
     ]
    },
    {
     "name": "stdout",
     "output_type": "stream",
     "text": [
      "P:   1 R:   4 T:  23  psnr: 3.96e+01 at lambda: 4.08e+01, rho: 9.61e+01\r",
      "P:   1 R:   4 T:  23  psnr: 3.96e+01 at lambda: 4.08e+01, rho: 9.61e+01\r",
      "P:   1 R:   4 T:  23  psnr: 3.96e+01 at lambda: 4.08e+01, rho: 9.61e+01\r"
     ]
    },
    {
     "name": "stdout",
     "output_type": "stream",
     "text": [
      "P:   1 R:   3 T:  24  psnr: 3.96e+01 at lambda: 4.08e+01, rho: 9.61e+01\r",
      "P:   0 R:   4 T:  24  psnr: 3.96e+01 at lambda: 4.08e+01, rho: 9.61e+01\r",
      "P:   1 R:   4 T:  24  psnr: 3.96e+01 at lambda: 4.08e+01, rho: 9.61e+01\r",
      "P:   1 R:   4 T:  24  psnr: 3.96e+01 at lambda: 4.08e+01, rho: 9.61e+01\r",
      "P:   1 R:   4 T:  24  psnr: 3.96e+01 at lambda: 4.08e+01, rho: 9.61e+01\r",
      "P:   1 R:   4 T:  24  psnr: 3.96e+01 at lambda: 4.08e+01, rho: 9.61e+01\r",
      "P:   1 R:   4 T:  24  psnr: 3.96e+01 at lambda: 4.08e+01, rho: 9.61e+01\r"
     ]
    },
    {
     "name": "stdout",
     "output_type": "stream",
     "text": [
      "P:   1 R:   4 T:  24  psnr: 3.96e+01 at lambda: 4.08e+01, rho: 9.61e+01\r",
      "P:   1 R:   4 T:  24  psnr: 3.96e+01 at lambda: 4.08e+01, rho: 9.61e+01\r",
      "P:   1 R:   3 T:  25  psnr: 3.96e+01 at lambda: 4.08e+01, rho: 9.61e+01\r",
      "P:   0 R:   4 T:  25  psnr: 3.96e+01 at lambda: 4.08e+01, rho: 9.61e+01\r",
      "P:   1 R:   3 T:  26  psnr: 3.96e+01 at lambda: 4.08e+01, rho: 9.61e+01\r",
      "P:   0 R:   4 T:  26  psnr: 3.96e+01 at lambda: 4.08e+01, rho: 9.61e+01\r"
     ]
    },
    {
     "name": "stdout",
     "output_type": "stream",
     "text": [
      "P:   1 R:   3 T:  27  psnr: 3.96e+01 at lambda: 4.08e+01, rho: 9.61e+01\r",
      "P:   0 R:   4 T:  27  psnr: 3.96e+01 at lambda: 4.08e+01, rho: 9.61e+01\r",
      "P:   1 R:   4 T:  27  psnr: 3.96e+01 at lambda: 4.08e+01, rho: 9.61e+01\r",
      "P:   1 R:   3 T:  28  psnr: 3.96e+01 at lambda: 4.08e+01, rho: 9.61e+01\r",
      "P:   0 R:   4 T:  28  psnr: 3.96e+01 at lambda: 4.08e+01, rho: 9.61e+01\r"
     ]
    },
    {
     "name": "stdout",
     "output_type": "stream",
     "text": [
      "P:   1 R:   3 T:  29  psnr: 3.96e+01 at lambda: 4.08e+01, rho: 9.61e+01\r",
      "P:   0 R:   4 T:  29  psnr: 3.96e+01 at lambda: 4.08e+01, rho: 9.61e+01\r",
      "P:   1 R:   4 T:  29  psnr: 3.96e+01 at lambda: 4.08e+01, rho: 9.61e+01\r"
     ]
    },
    {
     "name": "stdout",
     "output_type": "stream",
     "text": [
      "P:   1 R:   4 T:  29  psnr: 3.96e+01 at lambda: 4.08e+01, rho: 9.61e+01\r",
      "P:   1 R:   4 T:  29  psnr: 3.96e+01 at lambda: 4.08e+01, rho: 9.61e+01\r"
     ]
    },
    {
     "name": "stdout",
     "output_type": "stream",
     "text": [
      "P:   1 R:   4 T:  29  psnr: 3.96e+01 at lambda: 4.08e+01, rho: 9.61e+01\r",
      "P:   1 R:   4 T:  29  psnr: 3.96e+01 at lambda: 4.08e+01, rho: 9.61e+01\r",
      "P:   1 R:   4 T:  29  psnr: 3.96e+01 at lambda: 4.08e+01, rho: 9.61e+01\r",
      "P:   1 R:   4 T:  29  psnr: 3.96e+01 at lambda: 4.08e+01, rho: 9.61e+01\r",
      "P:   1 R:   4 T:  29  psnr: 3.96e+01 at lambda: 4.08e+01, rho: 9.61e+01\r"
     ]
    },
    {
     "name": "stdout",
     "output_type": "stream",
     "text": [
      "P:   1 R:   4 T:  29  psnr: 3.96e+01 at lambda: 4.08e+01, rho: 9.61e+01\r",
      "P:   1 R:   4 T:  29  psnr: 3.96e+01 at lambda: 4.08e+01, rho: 9.61e+01\r",
      "P:   1 R:   4 T:  29  psnr: 3.96e+01 at lambda: 4.08e+01, rho: 9.61e+01\r",
      "P:   1 R:   4 T:  29  psnr: 3.96e+01 at lambda: 4.08e+01, rho: 9.61e+01\r",
      "P:   1 R:   4 T:  29  psnr: 3.96e+01 at lambda: 4.08e+01, rho: 9.61e+01\r",
      "P:   1 R:   4 T:  29  psnr: 3.96e+01 at lambda: 4.08e+01, rho: 9.61e+01\r",
      "P:   1 R:   4 T:  29  psnr: 3.96e+01 at lambda: 4.08e+01, rho: 9.61e+01\r",
      "P:   1 R:   4 T:  29  psnr: 3.96e+01 at lambda: 4.08e+01, rho: 9.61e+01\r"
     ]
    },
    {
     "name": "stdout",
     "output_type": "stream",
     "text": [
      "P:   1 R:   4 T:  29  psnr: 3.96e+01 at lambda: 4.08e+01, rho: 9.61e+01\r",
      "P:   1 R:   4 T:  29  psnr: 3.96e+01 at lambda: 4.08e+01, rho: 9.61e+01\r",
      "P:   1 R:   4 T:  29  psnr: 3.96e+01 at lambda: 4.08e+01, rho: 9.61e+01\r",
      "P:   1 R:   3 T:  30  psnr: 3.96e+01 at lambda: 4.08e+01, rho: 9.61e+01\r",
      "P:   0 R:   4 T:  30  psnr: 3.96e+01 at lambda: 4.08e+01, rho: 9.61e+01\r",
      "P:   1 R:   4 T:  30  psnr: 3.96e+01 at lambda: 4.08e+01, rho: 9.61e+01\r",
      "P:   1 R:   4 T:  30  psnr: 3.96e+01 at lambda: 4.08e+01, rho: 9.61e+01\r",
      "P:   1 R:   4 T:  30  psnr: 3.96e+01 at lambda: 4.08e+01, rho: 9.61e+01\r"
     ]
    },
    {
     "name": "stdout",
     "output_type": "stream",
     "text": [
      "P:   1 R:   4 T:  30  psnr: 3.96e+01 at lambda: 4.08e+01, rho: 9.61e+01\r",
      "P:   1 R:   4 T:  30  psnr: 3.96e+01 at lambda: 4.08e+01, rho: 9.61e+01\r",
      "P:   1 R:   4 T:  30  psnr: 3.96e+01 at lambda: 4.08e+01, rho: 9.61e+01\r",
      "P:   1 R:   4 T:  30  psnr: 3.96e+01 at lambda: 4.08e+01, rho: 9.61e+01\r",
      "P:   1 R:   4 T:  30  psnr: 3.96e+01 at lambda: 4.08e+01, rho: 9.61e+01\r",
      "P:   1 R:   3 T:  31  psnr: 3.97e+01 at lambda: 2.66e+01, rho: 6.24e+01\r",
      "P:   0 R:   4 T:  31  psnr: 3.97e+01 at lambda: 2.66e+01, rho: 6.24e+01\r"
     ]
    },
    {
     "name": "stdout",
     "output_type": "stream",
     "text": [
      "P:   1 R:   4 T:  31  psnr: 3.97e+01 at lambda: 2.66e+01, rho: 6.24e+01\r",
      "P:   1 R:   4 T:  31  psnr: 3.97e+01 at lambda: 2.66e+01, rho: 6.24e+01\r",
      "P:   1 R:   3 T:  32  psnr: 3.97e+01 at lambda: 2.66e+01, rho: 6.24e+01\r",
      "P:   0 R:   4 T:  32  psnr: 3.97e+01 at lambda: 2.66e+01, rho: 6.24e+01\r",
      "P:   1 R:   4 T:  32  psnr: 3.97e+01 at lambda: 2.66e+01, rho: 6.24e+01\r"
     ]
    },
    {
     "name": "stdout",
     "output_type": "stream",
     "text": [
      "P:   1 R:   3 T:  33  psnr: 3.97e+01 at lambda: 2.66e+01, rho: 6.24e+01\r",
      "P:   0 R:   4 T:  33  psnr: 3.97e+01 at lambda: 2.66e+01, rho: 6.24e+01\r",
      "P:   1 R:   3 T:  34  psnr: 3.97e+01 at lambda: 2.66e+01, rho: 6.24e+01\r",
      "P:   0 R:   4 T:  34  psnr: 3.97e+01 at lambda: 2.66e+01, rho: 6.24e+01\r",
      "P:   1 R:   3 T:  35  psnr: 3.97e+01 at lambda: 2.66e+01, rho: 6.24e+01\r",
      "P:   0 R:   4 T:  35  psnr: 3.97e+01 at lambda: 2.66e+01, rho: 6.24e+01\r"
     ]
    },
    {
     "name": "stdout",
     "output_type": "stream",
     "text": [
      "P:   1 R:   4 T:  35  psnr: 3.97e+01 at lambda: 2.66e+01, rho: 6.24e+01\r",
      "P:   1 R:   3 T:  36  psnr: 3.97e+01 at lambda: 2.66e+01, rho: 6.24e+01\r",
      "P:   0 R:   4 T:  36  psnr: 3.97e+01 at lambda: 2.66e+01, rho: 6.24e+01\r",
      "P:   1 R:   4 T:  36  psnr: 3.97e+01 at lambda: 2.66e+01, rho: 6.24e+01\r",
      "P:   1 R:   4 T:  36  psnr: 3.97e+01 at lambda: 2.66e+01, rho: 6.24e+01\r"
     ]
    },
    {
     "name": "stdout",
     "output_type": "stream",
     "text": [
      "P:   1 R:   4 T:  36  psnr: 3.97e+01 at lambda: 2.66e+01, rho: 6.24e+01\r",
      "P:   1 R:   4 T:  36  psnr: 3.97e+01 at lambda: 2.66e+01, rho: 6.24e+01\r",
      "P:   1 R:   3 T:  37  psnr: 3.97e+01 at lambda: 2.66e+01, rho: 6.24e+01\r",
      "P:   0 R:   4 T:  37  psnr: 3.97e+01 at lambda: 2.66e+01, rho: 6.24e+01\r",
      "P:   1 R:   4 T:  37  psnr: 3.97e+01 at lambda: 2.66e+01, rho: 6.24e+01\r",
      "P:   1 R:   4 T:  37  psnr: 3.97e+01 at lambda: 2.66e+01, rho: 6.24e+01\r"
     ]
    },
    {
     "name": "stdout",
     "output_type": "stream",
     "text": [
      "P:   1 R:   4 T:  37  psnr: 3.97e+01 at lambda: 2.66e+01, rho: 6.24e+01\r",
      "P:   1 R:   3 T:  38  psnr: 3.97e+01 at lambda: 2.66e+01, rho: 6.24e+01\r",
      "P:   0 R:   4 T:  38  psnr: 3.97e+01 at lambda: 2.66e+01, rho: 6.24e+01\r",
      "P:   1 R:   3 T:  39  psnr: 3.97e+01 at lambda: 2.66e+01, rho: 6.24e+01\r",
      "P:   0 R:   4 T:  39  psnr: 3.97e+01 at lambda: 2.66e+01, rho: 6.24e+01\r",
      "P:   1 R:   4 T:  39  psnr: 3.97e+01 at lambda: 2.66e+01, rho: 6.24e+01\r"
     ]
    },
    {
     "name": "stdout",
     "output_type": "stream",
     "text": [
      "P:   1 R:   4 T:  39  psnr: 3.97e+01 at lambda: 2.66e+01, rho: 6.24e+01\r",
      "P:   1 R:   4 T:  39  psnr: 3.97e+01 at lambda: 2.66e+01, rho: 6.24e+01\r",
      "P:   1 R:   4 T:  39  psnr: 3.97e+01 at lambda: 2.66e+01, rho: 6.24e+01\r",
      "P:   1 R:   4 T:  39  psnr: 3.97e+01 at lambda: 2.66e+01, rho: 6.24e+01\r"
     ]
    },
    {
     "name": "stdout",
     "output_type": "stream",
     "text": [
      "P:   1 R:   4 T:  39  psnr: 3.97e+01 at lambda: 2.66e+01, rho: 6.24e+01\r",
      "P:   1 R:   3 T:  40  psnr: 3.97e+01 at lambda: 2.66e+01, rho: 6.24e+01\r",
      "P:   0 R:   4 T:  40  psnr: 3.97e+01 at lambda: 2.66e+01, rho: 6.24e+01\r",
      "P:   1 R:   4 T:  40  psnr: 3.97e+01 at lambda: 2.66e+01, rho: 6.24e+01\r",
      "P:   1 R:   4 T:  40  psnr: 3.97e+01 at lambda: 2.66e+01, rho: 6.24e+01\r",
      "P:   1 R:   3 T:  41  psnr: 3.97e+01 at lambda: 2.93e+01, rho: 4.61e+01\r",
      "P:   0 R:   4 T:  41  psnr: 3.97e+01 at lambda: 2.93e+01, rho: 4.61e+01\r"
     ]
    },
    {
     "name": "stdout",
     "output_type": "stream",
     "text": [
      "P:   1 R:   3 T:  42  psnr: 3.97e+01 at lambda: 2.93e+01, rho: 4.61e+01\r",
      "P:   0 R:   4 T:  42  psnr: 3.97e+01 at lambda: 2.93e+01, rho: 4.61e+01\r",
      "P:   1 R:   4 T:  42  psnr: 3.97e+01 at lambda: 2.93e+01, rho: 4.61e+01\r",
      "P:   1 R:   4 T:  42  psnr: 3.97e+01 at lambda: 2.93e+01, rho: 4.61e+01\r"
     ]
    },
    {
     "name": "stdout",
     "output_type": "stream",
     "text": [
      "P:   1 R:   4 T:  42  psnr: 3.97e+01 at lambda: 2.93e+01, rho: 4.61e+01\r",
      "P:   1 R:   3 T:  43  psnr: 3.97e+01 at lambda: 2.93e+01, rho: 4.61e+01\r",
      "P:   0 R:   4 T:  43  psnr: 3.97e+01 at lambda: 2.93e+01, rho: 4.61e+01\r",
      "P:   1 R:   4 T:  43  psnr: 3.97e+01 at lambda: 2.93e+01, rho: 4.61e+01\r",
      "P:   1 R:   4 T:  43  psnr: 3.97e+01 at lambda: 2.93e+01, rho: 4.61e+01\r",
      "P:   1 R:   4 T:  43  psnr: 3.97e+01 at lambda: 2.93e+01, rho: 4.61e+01\r"
     ]
    },
    {
     "name": "stdout",
     "output_type": "stream",
     "text": [
      "P:   1 R:   4 T:  43  psnr: 3.97e+01 at lambda: 2.93e+01, rho: 4.61e+01\r",
      "P:   1 R:   4 T:  43  psnr: 3.97e+01 at lambda: 2.93e+01, rho: 4.61e+01\r",
      "P:   1 R:   4 T:  43  psnr: 3.97e+01 at lambda: 2.93e+01, rho: 4.61e+01\r",
      "P:   1 R:   4 T:  43  psnr: 3.97e+01 at lambda: 2.93e+01, rho: 4.61e+01\r",
      "P:   1 R:   4 T:  43  psnr: 3.97e+01 at lambda: 2.93e+01, rho: 4.61e+01\r"
     ]
    },
    {
     "name": "stdout",
     "output_type": "stream",
     "text": [
      "P:   1 R:   3 T:  44  psnr: 3.97e+01 at lambda: 2.93e+01, rho: 4.61e+01\r",
      "P:   0 R:   4 T:  44  psnr: 3.97e+01 at lambda: 2.93e+01, rho: 4.61e+01\r",
      "P:   1 R:   4 T:  44  psnr: 3.97e+01 at lambda: 2.93e+01, rho: 4.61e+01\r",
      "P:   1 R:   4 T:  44  psnr: 3.97e+01 at lambda: 2.93e+01, rho: 4.61e+01\r",
      "P:   1 R:   4 T:  44  psnr: 3.97e+01 at lambda: 2.93e+01, rho: 4.61e+01\r",
      "P:   1 R:   4 T:  44  psnr: 3.97e+01 at lambda: 2.93e+01, rho: 4.61e+01\r",
      "P:   1 R:   4 T:  44  psnr: 3.97e+01 at lambda: 1.85e+01, rho: 5.90e+01\r",
      "P:   1 R:   3 T:  45  psnr: 3.97e+01 at lambda: 1.85e+01, rho: 5.90e+01\r"
     ]
    },
    {
     "name": "stdout",
     "output_type": "stream",
     "text": [
      "P:   0 R:   4 T:  45  psnr: 3.97e+01 at lambda: 1.85e+01, rho: 5.90e+01\r",
      "P:   1 R:   4 T:  45  psnr: 3.97e+01 at lambda: 1.85e+01, rho: 5.90e+01\r",
      "P:   1 R:   3 T:  46  psnr: 3.97e+01 at lambda: 2.93e+01, rho: 4.61e+01\r",
      "P:   0 R:   4 T:  46  psnr: 3.97e+01 at lambda: 2.93e+01, rho: 4.61e+01\r",
      "P:   1 R:   4 T:  46  psnr: 3.98e+01 at lambda: 3.63e+01, rho: 1.20e+02\r"
     ]
    },
    {
     "name": "stdout",
     "output_type": "stream",
     "text": [
      "P:   1 R:   3 T:  47  psnr: 3.98e+01 at lambda: 3.63e+01, rho: 1.20e+02\r",
      "P:   0 R:   4 T:  47  psnr: 3.98e+01 at lambda: 3.63e+01, rho: 1.20e+02\r",
      "P:   1 R:   4 T:  47  psnr: 3.98e+01 at lambda: 3.63e+01, rho: 1.20e+02\r",
      "P:   1 R:   4 T:  47  psnr: 3.99e+01 at lambda: 3.63e+01, rho: 1.20e+02\r"
     ]
    },
    {
     "name": "stdout",
     "output_type": "stream",
     "text": [
      "P:   1 R:   4 T:  47  psnr: 3.99e+01 at lambda: 3.63e+01, rho: 1.20e+02\r",
      "P:   1 R:   3 T:  48  psnr: 3.99e+01 at lambda: 3.63e+01, rho: 1.20e+02\r",
      "P:   0 R:   4 T:  48  psnr: 3.99e+01 at lambda: 3.63e+01, rho: 1.20e+02\r",
      "P:   1 R:   3 T:  49  psnr: 3.99e+01 at lambda: 3.63e+01, rho: 1.20e+02\r",
      "P:   0 R:   4 T:  49  psnr: 3.99e+01 at lambda: 3.63e+01, rho: 1.20e+02\r",
      "P:   1 R:   4 T:  49  psnr: 3.99e+01 at lambda: 3.63e+01, rho: 1.20e+02\r",
      "P:   1 R:   4 T:  49  psnr: 3.99e+01 at lambda: 3.63e+01, rho: 1.20e+02\r"
     ]
    },
    {
     "name": "stdout",
     "output_type": "stream",
     "text": [
      "P:   1 R:   4 T:  49  psnr: 3.99e+01 at lambda: 3.63e+01, rho: 1.20e+02\r",
      "P:   1 R:   4 T:  49  psnr: 3.99e+01 at lambda: 3.63e+01, rho: 1.20e+02\r",
      "P:   1 R:   4 T:  49  psnr: 3.99e+01 at lambda: 3.63e+01, rho: 1.20e+02\r",
      "P:   1 R:   3 T:  50  psnr: 3.99e+01 at lambda: 3.63e+01, rho: 1.20e+02\r",
      "P:   0 R:   4 T:  50  psnr: 3.99e+01 at lambda: 3.63e+01, rho: 1.20e+02\r",
      "P:   1 R:   4 T:  50  psnr: 3.99e+01 at lambda: 3.63e+01, rho: 1.20e+02\r"
     ]
    },
    {
     "name": "stdout",
     "output_type": "stream",
     "text": [
      "P:   1 R:   3 T:  51  psnr: 3.99e+01 at lambda: 3.63e+01, rho: 1.20e+02\r",
      "P:   0 R:   4 T:  51  psnr: 3.99e+01 at lambda: 3.63e+01, rho: 1.20e+02\r",
      "P:   1 R:   3 T:  52  psnr: 3.99e+01 at lambda: 3.63e+01, rho: 1.20e+02\r",
      "P:   0 R:   4 T:  52  psnr: 3.99e+01 at lambda: 3.63e+01, rho: 1.20e+02\r",
      "P:   1 R:   4 T:  52  psnr: 3.99e+01 at lambda: 3.63e+01, rho: 1.20e+02\r"
     ]
    },
    {
     "name": "stdout",
     "output_type": "stream",
     "text": [
      "P:   1 R:   4 T:  52  psnr: 3.99e+01 at lambda: 3.63e+01, rho: 1.20e+02\r",
      "P:   1 R:   4 T:  52  psnr: 3.99e+01 at lambda: 3.63e+01, rho: 1.20e+02\r",
      "P:   1 R:   3 T:  53  psnr: 3.99e+01 at lambda: 3.63e+01, rho: 1.20e+02\r"
     ]
    },
    {
     "name": "stdout",
     "output_type": "stream",
     "text": [
      "P:   0 R:   4 T:  53  psnr: 3.99e+01 at lambda: 3.63e+01, rho: 1.20e+02\r",
      "P:   1 R:   4 T:  53  psnr: 3.99e+01 at lambda: 3.63e+01, rho: 1.20e+02\r",
      "P:   1 R:   4 T:  53  psnr: 3.99e+01 at lambda: 3.63e+01, rho: 1.20e+02\r",
      "P:   1 R:   3 T:  54  psnr: 3.99e+01 at lambda: 3.63e+01, rho: 1.20e+02\r",
      "P:   0 R:   4 T:  54  psnr: 3.99e+01 at lambda: 3.63e+01, rho: 1.20e+02\r",
      "P:   1 R:   4 T:  54  psnr: 3.99e+01 at lambda: 3.63e+01, rho: 1.20e+02\r"
     ]
    },
    {
     "name": "stdout",
     "output_type": "stream",
     "text": [
      "P:   1 R:   4 T:  54  psnr: 3.99e+01 at lambda: 3.63e+01, rho: 1.20e+02\r",
      "P:   1 R:   3 T:  55  psnr: 3.99e+01 at lambda: 3.63e+01, rho: 1.20e+02\r",
      "P:   0 R:   4 T:  55  psnr: 3.99e+01 at lambda: 3.63e+01, rho: 1.20e+02\r",
      "P:   1 R:   3 T:  56  psnr: 3.99e+01 at lambda: 3.63e+01, rho: 1.20e+02\r",
      "P:   0 R:   4 T:  56  psnr: 3.99e+01 at lambda: 3.63e+01, rho: 1.20e+02\r",
      "P:   1 R:   4 T:  56  psnr: 3.99e+01 at lambda: 3.63e+01, rho: 1.20e+02\r"
     ]
    },
    {
     "name": "stdout",
     "output_type": "stream",
     "text": [
      "P:   1 R:   4 T:  56  psnr: 3.99e+01 at lambda: 3.63e+01, rho: 1.20e+02\r",
      "P:   1 R:   3 T:  57  psnr: 3.99e+01 at lambda: 3.63e+01, rho: 1.20e+02\r",
      "P:   0 R:   4 T:  57  psnr: 3.99e+01 at lambda: 3.63e+01, rho: 1.20e+02\r",
      "P:   1 R:   4 T:  57  psnr: 3.99e+01 at lambda: 3.63e+01, rho: 1.20e+02\r",
      "P:   1 R:   3 T:  58  psnr: 3.99e+01 at lambda: 3.63e+01, rho: 1.20e+02\r"
     ]
    },
    {
     "name": "stdout",
     "output_type": "stream",
     "text": [
      "P:   0 R:   4 T:  58  psnr: 3.99e+01 at lambda: 3.63e+01, rho: 1.20e+02\r",
      "P:   1 R:   3 T:  59  psnr: 3.99e+01 at lambda: 3.63e+01, rho: 1.20e+02\r",
      "P:   0 R:   4 T:  59  psnr: 3.99e+01 at lambda: 3.63e+01, rho: 1.20e+02\r",
      "P:   1 R:   4 T:  59  psnr: 3.99e+01 at lambda: 3.63e+01, rho: 1.20e+02\r",
      "P:   1 R:   4 T:  59  psnr: 3.99e+01 at lambda: 3.63e+01, rho: 1.20e+02\r"
     ]
    },
    {
     "name": "stdout",
     "output_type": "stream",
     "text": [
      "P:   1 R:   4 T:  59  psnr: 3.99e+01 at lambda: 3.63e+01, rho: 1.20e+02\r",
      "P:   1 R:   4 T:  59  psnr: 3.99e+01 at lambda: 3.63e+01, rho: 1.20e+02\r",
      "P:   1 R:   4 T:  59  psnr: 3.99e+01 at lambda: 3.63e+01, rho: 1.20e+02\r",
      "P:   1 R:   4 T:  59  psnr: 3.99e+01 at lambda: 3.63e+01, rho: 1.20e+02\r"
     ]
    },
    {
     "name": "stdout",
     "output_type": "stream",
     "text": [
      "P:   1 R:   3 T:  60  psnr: 3.99e+01 at lambda: 3.63e+01, rho: 1.20e+02\r",
      "P:   0 R:   4 T:  60  psnr: 3.99e+01 at lambda: 3.63e+01, rho: 1.20e+02\r",
      "P:   1 R:   4 T:  60  psnr: 3.99e+01 at lambda: 3.63e+01, rho: 1.20e+02\r",
      "P:   1 R:   3 T:  61  psnr: 3.99e+01 at lambda: 3.63e+01, rho: 1.20e+02\r",
      "P:   0 R:   4 T:  61  psnr: 3.99e+01 at lambda: 3.63e+01, rho: 1.20e+02\r",
      "P:   1 R:   4 T:  61  psnr: 3.99e+01 at lambda: 3.63e+01, rho: 1.20e+02\r",
      "P:   1 R:   4 T:  61  psnr: 3.99e+01 at lambda: 3.63e+01, rho: 1.20e+02\r"
     ]
    },
    {
     "name": "stdout",
     "output_type": "stream",
     "text": [
      "P:   1 R:   4 T:  61  psnr: 3.99e+01 at lambda: 3.63e+01, rho: 1.20e+02\r",
      "P:   1 R:   3 T:  62  psnr: 3.99e+01 at lambda: 3.63e+01, rho: 1.20e+02\r",
      "P:   0 R:   4 T:  62  psnr: 3.99e+01 at lambda: 3.63e+01, rho: 1.20e+02\r",
      "P:   1 R:   3 T:  63  psnr: 3.99e+01 at lambda: 3.63e+01, rho: 1.20e+02\r"
     ]
    },
    {
     "name": "stdout",
     "output_type": "stream",
     "text": [
      "P:   0 R:   4 T:  63  psnr: 3.99e+01 at lambda: 3.63e+01, rho: 1.20e+02\r",
      "P:   1 R:   3 T:  64  psnr: 3.99e+01 at lambda: 3.63e+01, rho: 1.20e+02\r",
      "P:   0 R:   4 T:  64  psnr: 3.99e+01 at lambda: 3.63e+01, rho: 1.20e+02\r",
      "P:   1 R:   3 T:  65  psnr: 3.99e+01 at lambda: 3.63e+01, rho: 1.20e+02\r",
      "P:   0 R:   4 T:  65  psnr: 3.99e+01 at lambda: 3.63e+01, rho: 1.20e+02\r"
     ]
    },
    {
     "name": "stdout",
     "output_type": "stream",
     "text": [
      "P:   1 R:   4 T:  65  psnr: 3.99e+01 at lambda: 3.63e+01, rho: 1.20e+02\r",
      "P:   1 R:   4 T:  65  psnr: 3.99e+01 at lambda: 3.63e+01, rho: 1.20e+02\r",
      "P:   1 R:   3 T:  66  psnr: 3.99e+01 at lambda: 3.63e+01, rho: 1.20e+02\r",
      "P:   0 R:   4 T:  66  psnr: 3.99e+01 at lambda: 3.63e+01, rho: 1.20e+02\r",
      "P:   1 R:   4 T:  66  psnr: 3.99e+01 at lambda: 3.63e+01, rho: 1.20e+02\r",
      "P:   1 R:   3 T:  67  psnr: 3.99e+01 at lambda: 3.63e+01, rho: 1.20e+02\r",
      "P:   0 R:   4 T:  67  psnr: 3.99e+01 at lambda: 3.63e+01, rho: 1.20e+02\r"
     ]
    },
    {
     "name": "stdout",
     "output_type": "stream",
     "text": [
      "P:   1 R:   4 T:  67  psnr: 3.99e+01 at lambda: 3.63e+01, rho: 1.20e+02\r",
      "P:   1 R:   4 T:  67  psnr: 3.99e+01 at lambda: 3.63e+01, rho: 1.20e+02\r",
      "P:   1 R:   4 T:  67  psnr: 3.99e+01 at lambda: 3.63e+01, rho: 1.20e+02\r",
      "P:   1 R:   4 T:  67  psnr: 3.99e+01 at lambda: 3.63e+01, rho: 1.20e+02\r"
     ]
    },
    {
     "name": "stdout",
     "output_type": "stream",
     "text": [
      "P:   1 R:   3 T:  68  psnr: 3.99e+01 at lambda: 3.63e+01, rho: 1.20e+02\r",
      "P:   0 R:   4 T:  68  psnr: 3.99e+01 at lambda: 3.63e+01, rho: 1.20e+02\r",
      "P:   1 R:   4 T:  68  psnr: 3.99e+01 at lambda: 3.63e+01, rho: 1.20e+02\r",
      "P:   1 R:   4 T:  68  psnr: 3.99e+01 at lambda: 3.63e+01, rho: 1.20e+02\r",
      "P:   1 R:   4 T:  68  psnr: 3.99e+01 at lambda: 3.63e+01, rho: 1.20e+02\r"
     ]
    },
    {
     "name": "stdout",
     "output_type": "stream",
     "text": [
      "P:   1 R:   3 T:  69  psnr: 3.99e+01 at lambda: 3.63e+01, rho: 1.20e+02\r",
      "P:   0 R:   4 T:  69  psnr: 3.99e+01 at lambda: 3.63e+01, rho: 1.20e+02\r",
      "P:   1 R:   4 T:  69  psnr: 3.99e+01 at lambda: 3.63e+01, rho: 1.20e+02\r",
      "P:   1 R:   4 T:  69  psnr: 3.99e+01 at lambda: 3.63e+01, rho: 1.20e+02\r",
      "P:   1 R:   4 T:  69  psnr: 3.99e+01 at lambda: 3.63e+01, rho: 1.20e+02\r"
     ]
    },
    {
     "name": "stdout",
     "output_type": "stream",
     "text": [
      "P:   1 R:   4 T:  69  psnr: 3.99e+01 at lambda: 3.63e+01, rho: 1.20e+02\r",
      "P:   1 R:   4 T:  69  psnr: 3.99e+01 at lambda: 3.63e+01, rho: 1.20e+02\r",
      "P:   1 R:   3 T:  70  psnr: 3.99e+01 at lambda: 3.63e+01, rho: 1.20e+02\r",
      "P:   0 R:   4 T:  70  psnr: 3.99e+01 at lambda: 3.63e+01, rho: 1.20e+02\r",
      "P:   1 R:   3 T:  71  psnr: 3.99e+01 at lambda: 3.63e+01, rho: 1.20e+02\r"
     ]
    },
    {
     "name": "stdout",
     "output_type": "stream",
     "text": [
      "P:   0 R:   4 T:  71  psnr: 3.99e+01 at lambda: 3.63e+01, rho: 1.20e+02\r",
      "P:   1 R:   3 T:  72  psnr: 3.99e+01 at lambda: 3.63e+01, rho: 1.20e+02\r",
      "P:   0 R:   4 T:  72  psnr: 3.99e+01 at lambda: 3.63e+01, rho: 1.20e+02\r"
     ]
    },
    {
     "name": "stdout",
     "output_type": "stream",
     "text": [
      "P:   1 R:   3 T:  73  psnr: 3.99e+01 at lambda: 3.63e+01, rho: 1.20e+02\r",
      "P:   0 R:   4 T:  73  psnr: 3.99e+01 at lambda: 3.63e+01, rho: 1.20e+02\r"
     ]
    },
    {
     "name": "stdout",
     "output_type": "stream",
     "text": [
      "P:   1 R:   3 T:  74  psnr: 3.99e+01 at lambda: 3.63e+01, rho: 1.20e+02\r",
      "P:   0 R:   4 T:  74  psnr: 3.99e+01 at lambda: 3.63e+01, rho: 1.20e+02\r",
      "P:   1 R:   3 T:  75  psnr: 3.99e+01 at lambda: 3.63e+01, rho: 1.20e+02\r",
      "P:   0 R:   4 T:  75  psnr: 3.99e+01 at lambda: 3.63e+01, rho: 1.20e+02\r",
      "P:   1 R:   3 T:  76  psnr: 3.99e+01 at lambda: 3.63e+01, rho: 1.20e+02\r",
      "P:   0 R:   4 T:  76  psnr: 3.99e+01 at lambda: 3.63e+01, rho: 1.20e+02\r"
     ]
    },
    {
     "name": "stdout",
     "output_type": "stream",
     "text": [
      "P:   1 R:   3 T:  77  psnr: 3.99e+01 at lambda: 3.63e+01, rho: 1.20e+02\r",
      "P:   0 R:   4 T:  77  psnr: 3.99e+01 at lambda: 3.63e+01, rho: 1.20e+02\r",
      "P:   1 R:   3 T:  78  psnr: 3.99e+01 at lambda: 3.63e+01, rho: 1.20e+02\r"
     ]
    },
    {
     "name": "stdout",
     "output_type": "stream",
     "text": [
      "P:   0 R:   4 T:  78  psnr: 3.99e+01 at lambda: 3.63e+01, rho: 1.20e+02\r",
      "P:   1 R:   3 T:  79  psnr: 3.99e+01 at lambda: 3.63e+01, rho: 1.20e+02\r",
      "P:   0 R:   4 T:  79  psnr: 3.99e+01 at lambda: 3.63e+01, rho: 1.20e+02\r",
      "P:   1 R:   4 T:  79  psnr: 3.99e+01 at lambda: 3.63e+01, rho: 1.20e+02\r"
     ]
    },
    {
     "name": "stdout",
     "output_type": "stream",
     "text": [
      "P:   1 R:   3 T:  80  psnr: 3.99e+01 at lambda: 3.63e+01, rho: 1.20e+02\r",
      "P:   0 R:   4 T:  80  psnr: 3.99e+01 at lambda: 3.63e+01, rho: 1.20e+02\r",
      "P:   1 R:   4 T:  80  psnr: 3.99e+01 at lambda: 3.63e+01, rho: 1.20e+02\r"
     ]
    },
    {
     "name": "stdout",
     "output_type": "stream",
     "text": [
      "P:   1 R:   3 T:  81  psnr: 3.99e+01 at lambda: 3.63e+01, rho: 1.20e+02\r",
      "P:   0 R:   4 T:  81  psnr: 3.99e+01 at lambda: 3.63e+01, rho: 1.20e+02\r",
      "P:   1 R:   4 T:  81  psnr: 3.99e+01 at lambda: 3.63e+01, rho: 1.20e+02\r",
      "P:   1 R:   3 T:  82  psnr: 3.99e+01 at lambda: 3.63e+01, rho: 1.20e+02\r",
      "P:   0 R:   4 T:  82  psnr: 3.99e+01 at lambda: 3.63e+01, rho: 1.20e+02\r"
     ]
    },
    {
     "name": "stdout",
     "output_type": "stream",
     "text": [
      "P:   1 R:   3 T:  83  psnr: 3.99e+01 at lambda: 3.63e+01, rho: 1.20e+02\r",
      "P:   0 R:   4 T:  83  psnr: 3.99e+01 at lambda: 3.63e+01, rho: 1.20e+02\r",
      "P:   1 R:   4 T:  83  psnr: 3.99e+01 at lambda: 3.63e+01, rho: 1.20e+02\r"
     ]
    },
    {
     "name": "stdout",
     "output_type": "stream",
     "text": [
      "P:   1 R:   4 T:  83  psnr: 3.99e+01 at lambda: 3.63e+01, rho: 1.20e+02\r",
      "P:   1 R:   4 T:  83  psnr: 3.99e+01 at lambda: 3.63e+01, rho: 1.20e+02\r",
      "P:   1 R:   3 T:  84  psnr: 3.99e+01 at lambda: 3.63e+01, rho: 1.20e+02\r"
     ]
    },
    {
     "name": "stdout",
     "output_type": "stream",
     "text": [
      "P:   0 R:   4 T:  84  psnr: 3.99e+01 at lambda: 3.63e+01, rho: 1.20e+02\r",
      "P:   1 R:   4 T:  84  psnr: 3.99e+01 at lambda: 3.63e+01, rho: 1.20e+02\r",
      "P:   1 R:   3 T:  85  psnr: 3.99e+01 at lambda: 3.63e+01, rho: 1.20e+02\r",
      "P:   0 R:   4 T:  85  psnr: 3.99e+01 at lambda: 3.63e+01, rho: 1.20e+02\r",
      "P:   1 R:   4 T:  85  psnr: 3.99e+01 at lambda: 3.63e+01, rho: 1.20e+02\r",
      "P:   1 R:   4 T:  85  psnr: 3.99e+01 at lambda: 3.63e+01, rho: 1.20e+02\r",
      "P:   1 R:   4 T:  85  psnr: 3.99e+01 at lambda: 3.10e+01, rho: 8.99e+01\r"
     ]
    },
    {
     "name": "stdout",
     "output_type": "stream",
     "text": [
      "P:   1 R:   4 T:  85  psnr: 3.99e+01 at lambda: 3.10e+01, rho: 8.99e+01\r",
      "P:   1 R:   3 T:  86  psnr: 4.00e+01 at lambda: 3.10e+01, rho: 8.99e+01\r",
      "P:   0 R:   4 T:  86  psnr: 4.00e+01 at lambda: 3.10e+01, rho: 8.99e+01\r",
      "P:   1 R:   4 T:  86  psnr: 4.00e+01 at lambda: 3.10e+01, rho: 8.99e+01\r",
      "P:   1 R:   3 T:  87  psnr: 4.00e+01 at lambda: 3.10e+01, rho: 8.99e+01\r",
      "P:   0 R:   4 T:  87  psnr: 4.00e+01 at lambda: 3.10e+01, rho: 8.99e+01\r"
     ]
    },
    {
     "name": "stdout",
     "output_type": "stream",
     "text": [
      "P:   1 R:   3 T:  88  psnr: 4.00e+01 at lambda: 3.10e+01, rho: 8.99e+01\r",
      "P:   0 R:   4 T:  88  psnr: 4.00e+01 at lambda: 3.10e+01, rho: 8.99e+01\r",
      "P:   1 R:   3 T:  89  psnr: 4.00e+01 at lambda: 3.10e+01, rho: 8.99e+01\r",
      "P:   0 R:   4 T:  89  psnr: 4.00e+01 at lambda: 3.10e+01, rho: 8.99e+01\r"
     ]
    },
    {
     "name": "stdout",
     "output_type": "stream",
     "text": [
      "P:   1 R:   3 T:  90  psnr: 4.00e+01 at lambda: 3.10e+01, rho: 8.99e+01\r",
      "P:   0 R:   4 T:  90  psnr: 4.00e+01 at lambda: 3.10e+01, rho: 8.99e+01\r",
      "P:   1 R:   3 T:  91  psnr: 4.00e+01 at lambda: 3.10e+01, rho: 8.99e+01\r",
      "P:   0 R:   4 T:  91  psnr: 4.00e+01 at lambda: 3.10e+01, rho: 8.99e+01\r",
      "P:   1 R:   4 T:  91  psnr: 4.00e+01 at lambda: 3.10e+01, rho: 8.99e+01\r"
     ]
    },
    {
     "name": "stdout",
     "output_type": "stream",
     "text": [
      "P:   1 R:   3 T:  92  psnr: 4.00e+01 at lambda: 3.10e+01, rho: 8.99e+01\r",
      "P:   0 R:   4 T:  92  psnr: 4.00e+01 at lambda: 3.10e+01, rho: 8.99e+01\r",
      "P:   1 R:   4 T:  92  psnr: 4.00e+01 at lambda: 3.10e+01, rho: 8.99e+01\r",
      "P:   1 R:   3 T:  93  psnr: 4.00e+01 at lambda: 3.10e+01, rho: 8.99e+01\r",
      "P:   0 R:   4 T:  93  psnr: 4.00e+01 at lambda: 3.10e+01, rho: 8.99e+01\r"
     ]
    },
    {
     "name": "stdout",
     "output_type": "stream",
     "text": [
      "P:   1 R:   4 T:  93  psnr: 4.00e+01 at lambda: 3.10e+01, rho: 8.99e+01\r",
      "P:   1 R:   3 T:  94  psnr: 4.00e+01 at lambda: 3.10e+01, rho: 8.99e+01\r",
      "P:   0 R:   4 T:  94  psnr: 4.00e+01 at lambda: 3.10e+01, rho: 8.99e+01\r",
      "P:   1 R:   4 T:  94  psnr: 4.00e+01 at lambda: 3.10e+01, rho: 8.99e+01\r",
      "P:   1 R:   3 T:  95  psnr: 4.00e+01 at lambda: 3.10e+01, rho: 8.99e+01\r"
     ]
    },
    {
     "name": "stdout",
     "output_type": "stream",
     "text": [
      "P:   0 R:   4 T:  95  psnr: 4.00e+01 at lambda: 3.10e+01, rho: 8.99e+01\r",
      "P:   1 R:   4 T:  95  psnr: 4.00e+01 at lambda: 3.10e+01, rho: 8.99e+01\r"
     ]
    },
    {
     "name": "stdout",
     "output_type": "stream",
     "text": [
      "P:   1 R:   3 T:  96  psnr: 4.00e+01 at lambda: 3.10e+01, rho: 8.99e+01\r",
      "P:   0 R:   4 T:  96  psnr: 4.00e+01 at lambda: 3.10e+01, rho: 8.99e+01\r",
      "P:   0 R:   4 T:  96  psnr: 4.00e+01 at lambda: 3.10e+01, rho: 8.99e+01\r"
     ]
    },
    {
     "name": "stdout",
     "output_type": "stream",
     "text": [
      "P:   0 R:   4 T:  96  psnr: 4.00e+01 at lambda: 3.10e+01, rho: 8.99e+01\r",
      "P:   0 R:   4 T:  96  psnr: 4.00e+01 at lambda: 3.10e+01, rho: 8.99e+01\r"
     ]
    },
    {
     "name": "stdout",
     "output_type": "stream",
     "text": [
      "P:   0 R:   4 T:  96  psnr: 4.00e+01 at lambda: 3.10e+01, rho: 8.99e+01\r",
      "P:   0 R:   4 T:  96  psnr: 4.00e+01 at lambda: 3.10e+01, rho: 8.99e+01\r",
      "P:   0 R:   4 T:  96  psnr: 4.00e+01 at lambda: 3.10e+01, rho: 8.99e+01\r",
      "P:   0 R:   3 T:  97  psnr: 4.00e+01 at lambda: 3.10e+01, rho: 8.99e+01\r",
      "P:   0 R:   2 T:  98  psnr: 4.00e+01 at lambda: 3.10e+01, rho: 8.99e+01\r"
     ]
    },
    {
     "name": "stdout",
     "output_type": "stream",
     "text": [
      "P:   0 R:   2 T:  98  psnr: 4.00e+01 at lambda: 3.10e+01, rho: 8.99e+01\r",
      "P:   0 R:   2 T:  98  psnr: 4.00e+01 at lambda: 3.10e+01, rho: 8.99e+01\r",
      "P:   0 R:   2 T:  98  psnr: 4.00e+01 at lambda: 3.10e+01, rho: 8.99e+01\r",
      "P:   0 R:   2 T:  98  psnr: 4.00e+01 at lambda: 3.10e+01, rho: 8.99e+01\r"
     ]
    },
    {
     "name": "stdout",
     "output_type": "stream",
     "text": [
      "P:   0 R:   2 T:  98  psnr: 4.00e+01 at lambda: 3.10e+01, rho: 8.99e+01\r",
      "P:   0 R:   2 T:  98  psnr: 4.00e+01 at lambda: 3.10e+01, rho: 8.99e+01\r",
      "P:   0 R:   2 T:  98  psnr: 4.00e+01 at lambda: 3.10e+01, rho: 8.99e+01\r",
      "P:   0 R:   2 T:  98  psnr: 4.00e+01 at lambda: 3.10e+01, rho: 8.99e+01\r"
     ]
    },
    {
     "name": "stdout",
     "output_type": "stream",
     "text": [
      "P:   0 R:   2 T:  98  psnr: 4.00e+01 at lambda: 3.10e+01, rho: 8.99e+01\r",
      "P:   0 R:   2 T:  98  psnr: 4.00e+01 at lambda: 3.10e+01, rho: 8.99e+01\r",
      "P:   0 R:   2 T:  98  psnr: 4.00e+01 at lambda: 3.10e+01, rho: 8.99e+01\r"
     ]
    },
    {
     "name": "stdout",
     "output_type": "stream",
     "text": [
      "P:   0 R:   2 T:  98  psnr: 4.00e+01 at lambda: 3.10e+01, rho: 8.99e+01\r",
      "P:   0 R:   2 T:  98  psnr: 4.00e+01 at lambda: 3.10e+01, rho: 8.99e+01\r"
     ]
    },
    {
     "name": "stdout",
     "output_type": "stream",
     "text": [
      "P:   0 R:   2 T:  98  psnr: 4.00e+01 at lambda: 3.10e+01, rho: 8.99e+01\r",
      "P:   0 R:   2 T:  98  psnr: 4.00e+01 at lambda: 3.10e+01, rho: 8.99e+01\r",
      "P:   0 R:   1 T:  99  psnr: 4.00e+01 at lambda: 3.10e+01, rho: 8.99e+01\r",
      "P:   0 R:   1 T:  99  psnr: 4.00e+01 at lambda: 3.10e+01, rho: 8.99e+01\r"
     ]
    },
    {
     "name": "stdout",
     "output_type": "stream",
     "text": [
      "P:   0 R:   0 T: 100  psnr: 4.00e+01 at lambda: 3.10e+01, rho: 8.99e+01\n"
     ]
    }
   ],
   "source": [
    "tuner = tune.Tuner(\n",
    "    tune.with_parameters(Trainable, x_gt=x_gt, y=y),\n",
    "    param_space=config,\n",
    "    resources=resources,\n",
    "    metric=\"psnr\",\n",
    "    mode=\"max\",\n",
    "    num_samples=100,  # perform 100 parameter evaluations\n",
    "    num_iterations=10,  # perform at most 10 steps for each parameter evaluation\n",
    ")\n",
    "results = tuner.fit()"
   ]
  },
  {
   "cell_type": "markdown",
   "id": "7814ae78",
   "metadata": {},
   "source": [
    "Display best parameters and corresponding performance."
   ]
  },
  {
   "cell_type": "code",
   "execution_count": 7,
   "id": "e5252172",
   "metadata": {
    "collapsed": false,
    "execution": {
     "iopub.execute_input": "2023-04-05T13:34:04.597894Z",
     "iopub.status.busy": "2023-04-05T13:34:04.597602Z",
     "iopub.status.idle": "2023-04-05T13:34:04.605232Z",
     "shell.execute_reply": "2023-04-05T13:34:04.603907Z"
    }
   },
   "outputs": [
    {
     "name": "stdout",
     "output_type": "stream",
     "text": [
      "Best PSNR: 39.96 dB\n",
      "Best config: lambda: 3.10e+01, rho: 8.99e+01\n"
     ]
    }
   ],
   "source": [
    "best_result = results.get_best_result()\n",
    "best_config = best_result.config\n",
    "print(f\"Best PSNR: {best_result.metrics['psnr']:.2f} dB\")\n",
    "print(\"Best config: \" + \", \".join([f\"{k}: {v:.2e}\" for k, v in best_config.items()]))"
   ]
  },
  {
   "cell_type": "markdown",
   "id": "0794bde2",
   "metadata": {},
   "source": [
    "Plot parameter values visited during parameter search. Marker sizes are\n",
    "proportional to number of iterations run at each parameter pair. The best\n",
    "point in the parameter space is indicated in red."
   ]
  },
  {
   "cell_type": "code",
   "execution_count": 8,
   "id": "b758edac",
   "metadata": {
    "collapsed": false,
    "execution": {
     "iopub.execute_input": "2023-04-05T13:34:04.608545Z",
     "iopub.status.busy": "2023-04-05T13:34:04.608281Z",
     "iopub.status.idle": "2023-04-05T13:34:05.207477Z",
     "shell.execute_reply": "2023-04-05T13:34:05.206654Z"
    }
   },
   "outputs": [
    {
     "data": {
      "image/png": "[encoded data removed]",
      "text/plain": [
       "<Figure size 800x800 with 1 Axes>"
      ]
     },
     "metadata": {},
     "output_type": "display_data"
    }
   ],
   "source": [
    "fig = plot.figure(figsize=(8, 8))\n",
    "trials = results.get_dataframe()\n",
    "for t in trials.iloc:\n",
    "    n = t[\"training_iteration\"]\n",
    "    plot.plot(\n",
    "        t[\"config/lambda\"],\n",
    "        t[\"config/rho\"],\n",
    "        ptyp=\"loglog\",\n",
    "        lw=0,\n",
    "        ms=(0.5 + 1.5 * n),\n",
    "        marker=\"o\",\n",
    "        mfc=\"blue\",\n",
    "        mec=\"blue\",\n",
    "        fig=fig,\n",
    "    )\n",
    "plot.plot(\n",
    "    best_config[\"lambda\"],\n",
    "    best_config[\"rho\"],\n",
    "    ptyp=\"loglog\",\n",
    "    title=\"Parameter search sampling locations\\n(marker size proportional to number of iterations)\",\n",
    "    xlbl=r\"$\\rho$\",\n",
    "    ylbl=r\"$\\lambda$\",\n",
    "    lw=0,\n",
    "    ms=5.0,\n",
    "    marker=\"o\",\n",
    "    mfc=\"red\",\n",
    "    mec=\"red\",\n",
    "    fig=fig,\n",
    ")\n",
    "ax = fig.axes[0]\n",
    "ax.set_xlim([config[\"rho\"].lower, config[\"rho\"].upper])\n",
    "ax.set_ylim([config[\"lambda\"].lower, config[\"lambda\"].upper])\n",
    "fig.show()"
   ]
  },
  {
   "cell_type": "markdown",
   "id": "e308c713",
   "metadata": {},
   "source": [
    "Plot parameter values visited during parameter search and corresponding\n",
    "reconstruction PSNRs.The best point in the parameter space is indicated\n",
    "in red."
   ]
  },
  {
   "cell_type": "code",
   "execution_count": 9,
   "id": "f7340f0e",
   "metadata": {
    "collapsed": false,
    "execution": {
     "iopub.execute_input": "2023-04-05T13:34:05.210031Z",
     "iopub.status.busy": "2023-04-05T13:34:05.209691Z",
     "iopub.status.idle": "2023-04-05T13:34:05.650262Z",
     "shell.execute_reply": "2023-04-05T13:34:05.649380Z"
    }
   },
   "outputs": [
    {
     "data": {
      "image/png": "[encoded data removed]",
      "text/plain": [
       "<Figure size 1000x800 with 2 Axes>"
      ]
     },
     "metadata": {},
     "output_type": "display_data"
    }
   ],
   "source": [
    "𝜌 = [t[\"config/rho\"] for t in trials.iloc]\n",
    "𝜆 = [t[\"config/lambda\"] for t in trials.iloc]\n",
    "psnr = [t[\"psnr\"] for t in trials.iloc]\n",
    "minpsnr = min(max(psnr), 20.0)\n",
    "𝜌, 𝜆, psnr = zip(*filter(lambda x: x[2] >= minpsnr, zip(𝜌, 𝜆, psnr)))\n",
    "fig, ax = plot.subplots(figsize=(10, 8))\n",
    "sc = ax.scatter(𝜌, 𝜆, c=psnr, cmap=plot.cm.plasma_r)\n",
    "fig.colorbar(sc)\n",
    "plot.plot(\n",
    "    best_config[\"lambda\"],\n",
    "    best_config[\"rho\"],\n",
    "    ptyp=\"loglog\",\n",
    "    lw=0,\n",
    "    ms=12.0,\n",
    "    marker=\"2\",\n",
    "    mfc=\"red\",\n",
    "    mec=\"red\",\n",
    "    fig=fig,\n",
    "    ax=ax,\n",
    ")\n",
    "ax.set_xscale(\"log\")\n",
    "ax.set_yscale(\"log\")\n",
    "ax.set_xlabel(r\"$\\rho$\")\n",
    "ax.set_ylabel(r\"$\\lambda$\")\n",
    "ax.set_title(\"PSNR at each sample location\\n(values below 20 dB omitted)\")\n",
    "fig.show()"
   ]
  }
 ],
 "metadata": {
  "language_info": {
   "codemirror_mode": {
    "name": "ipython",
    "version": 3
   },
   "file_extension": ".py",
   "mimetype": "text/x-python",
   "name": "python",
   "nbconvert_exporter": "python",
   "pygments_lexer": "ipython3",
   "version": "3.9.15"
  }
 },
 "nbformat": 4,
 "nbformat_minor": 5
}
