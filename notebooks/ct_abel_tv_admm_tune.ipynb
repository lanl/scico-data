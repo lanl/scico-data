{
 "cells": [
  {
   "cell_type": "markdown",
   "id": "718d93fc",
   "metadata": {},
   "source": [
    "Parameter Tuning for TV-Regularized Abel Inversion\n",
    "==================================================\n",
    "\n",
    "This example demonstrates the use of\n",
    "[scico.ray.tune](../_autosummary/scico.ray.tune.rst) to tune\n",
    "parameters for the companion [example script](ct_abel_tv_admm.rst). The\n",
    "`ray.tune` class API is used in this example.\n",
    "\n",
    "This script is hard-coded to run on CPU only to avoid the large number of\n",
    "warnings that are emitted when GPU resources are requested but not\n",
    "available, and due to the difficulty of supressing these warnings in a\n",
    "way that does not force use of the CPU only. To enable GPU usage, comment\n",
    "out the `os.environ` statements near the beginning of the script, and\n",
    "change the value of the \"gpu\" entry in the `resources` dict from 0 to 1.\n",
    "Note that two environment variables are set to suppress the warnings\n",
    "because `JAX_PLATFORMS` was intended to replace `JAX_PLATFORM_NAME` but\n",
    "this change has yet to be correctly implemented\n",
    "(see [google/jax#6805](https://github.com/google/jax/issues/6805) and\n",
    "[google/jax#10272](https://github.com/google/jax/pull/10272)."
   ]
  },
  {
   "cell_type": "code",
   "execution_count": 1,
   "id": "1f56f0f0",
   "metadata": {
    "collapsed": false,
    "execution": {
     "iopub.execute_input": "2024-06-06T17:46:57.637068Z",
     "iopub.status.busy": "2024-06-06T17:46:57.636665Z",
     "iopub.status.idle": "2024-06-06T17:47:10.638318Z",
     "shell.execute_reply": "2024-06-06T17:47:10.636534Z"
    }
   },
   "outputs": [],
   "source": [
    "# This scico project Jupyter notebook has been automatically modified\n",
    "# to install the dependencies required for running it on Google Colab.\n",
    "# If you encounter any problems in running it, please open an issue at\n",
    "#   https://github.com/lanl/scico-data/issues\n",
    "\n",
    "!pip install git+https://github.com/lanl/scico\n",
    "!pip install hyperopt ray ray[tune]\n",
    "\n",
    "# isort: off\n",
    "import os\n",
    "\n",
    "os.environ[\"JAX_PLATFORM_NAME\"] = \"cpu\"\n",
    "os.environ[\"JAX_PLATFORMS\"] = \"cpu\"\n",
    "\n",
    "import numpy as np\n",
    "\n",
    "import logging\n",
    "import ray\n",
    "\n",
    "ray.init(logging_level=logging.ERROR)  # need to call init before jax import: ray-project/ray#44087\n",
    "\n",
    "import scico.numpy as snp\n",
    "from scico import functional, linop, loss, metric, plot\n",
    "from scico.examples import create_circular_phantom\n",
    "from scico.linop.abel import AbelTransform\n",
    "from scico.optimize.admm import ADMM, LinearSubproblemSolver\n",
    "from scico.ray import tune\n",
    "plot.config_notebook_plotting()"
   ]
  },
  {
   "cell_type": "markdown",
   "id": "a2ed613b",
   "metadata": {},
   "source": [
    "Create a ground truth image."
   ]
  },
  {
   "cell_type": "code",
   "execution_count": 2,
   "id": "2f0106cf",
   "metadata": {
    "collapsed": false,
    "execution": {
     "iopub.execute_input": "2024-06-06T17:47:10.645867Z",
     "iopub.status.busy": "2024-06-06T17:47:10.645097Z",
     "iopub.status.idle": "2024-06-06T17:47:11.353907Z",
     "shell.execute_reply": "2024-06-06T17:47:11.352589Z"
    }
   },
   "outputs": [],
   "source": [
    "N = 256  # image size\n",
    "x_gt = create_circular_phantom((N, N), [0.4 * N, 0.2 * N, 0.1 * N], [1, 0, 0.5])"
   ]
  },
  {
   "cell_type": "markdown",
   "id": "21be7616",
   "metadata": {},
   "source": [
    "Set up the forward operator and create a test measurement."
   ]
  },
  {
   "cell_type": "code",
   "execution_count": 3,
   "id": "d0a1ac7e",
   "metadata": {
    "collapsed": false,
    "execution": {
     "iopub.execute_input": "2024-06-06T17:47:11.359772Z",
     "iopub.status.busy": "2024-06-06T17:47:11.359346Z",
     "iopub.status.idle": "2024-06-06T17:47:11.490750Z",
     "shell.execute_reply": "2024-06-06T17:47:11.489540Z"
    }
   },
   "outputs": [],
   "source": [
    "A = AbelTransform(x_gt.shape)\n",
    "y = A @ x_gt\n",
    "np.random.seed(12345)\n",
    "y = y + np.random.normal(size=y.shape).astype(np.float32)"
   ]
  },
  {
   "cell_type": "markdown",
   "id": "15ddc559",
   "metadata": {},
   "source": [
    "Compute inverse Abel transform solution for use as initial solution."
   ]
  },
  {
   "cell_type": "code",
   "execution_count": 4,
   "id": "06db934b",
   "metadata": {
    "collapsed": false,
    "execution": {
     "iopub.execute_input": "2024-06-06T17:47:11.496458Z",
     "iopub.status.busy": "2024-06-06T17:47:11.496012Z",
     "iopub.status.idle": "2024-06-06T17:47:11.722138Z",
     "shell.execute_reply": "2024-06-06T17:47:11.721241Z"
    }
   },
   "outputs": [],
   "source": [
    "x_inv = A.inverse(y)\n",
    "x0 = snp.clip(x_inv, 0.0, 1.0)"
   ]
  },
  {
   "cell_type": "markdown",
   "id": "b81b7067",
   "metadata": {},
   "source": [
    "Define performance evaluation class."
   ]
  },
  {
   "cell_type": "code",
   "execution_count": 5,
   "id": "40996688",
   "metadata": {
    "collapsed": false,
    "execution": {
     "iopub.execute_input": "2024-06-06T17:47:11.725684Z",
     "iopub.status.busy": "2024-06-06T17:47:11.725227Z",
     "iopub.status.idle": "2024-06-06T17:47:11.734319Z",
     "shell.execute_reply": "2024-06-06T17:47:11.733191Z"
    }
   },
   "outputs": [],
   "source": [
    "class Trainable(tune.Trainable):\n",
    "    \"\"\"Parameter evaluation class.\"\"\"\n",
    "\n",
    "    def setup(self, config, x_gt, x0, y):\n",
    "        \"\"\"This method initializes a new parameter evaluation object. It\n",
    "        is called once when a new parameter evaluation object is created.\n",
    "        The `config` parameter is a dict of specific parameters for\n",
    "        evaluation of a single parameter set (a pair of parameters in\n",
    "        this case). The remaining parameters are objects that are passed\n",
    "        to the evaluation function via the ray object store.\n",
    "        \"\"\"\n",
    "        # Get arrays passed by tune call.\n",
    "        self.x_gt, self.x0, self.y = snp.array(x_gt), snp.array(x0), snp.array(y)\n",
    "        # Set up problem to be solved.\n",
    "        self.A = AbelTransform(self.x_gt.shape)\n",
    "        self.f = loss.SquaredL2Loss(y=self.y, A=self.A)\n",
    "        self.C = linop.FiniteDifference(input_shape=self.x_gt.shape)\n",
    "        self.reset_config(config)\n",
    "\n",
    "    def reset_config(self, config):\n",
    "        \"\"\"This method is only required when `scico.ray.tune.Tuner` is\n",
    "        initialized with `reuse_actors` set to ``True`` (the default). In\n",
    "        this case, a set of parameter evaluation processes and\n",
    "        corresponding objects are created once (including initialization\n",
    "        via a call to the `setup` method), and this method is called when\n",
    "        switching to evaluation of a different parameter configuration.\n",
    "        If `reuse_actors` is set to ``False``, then a new process and\n",
    "        object are created for each parameter configuration, and this\n",
    "        method is not used.\n",
    "        \"\"\"\n",
    "        # Extract solver parameters from config dict.\n",
    "        λ, ρ = config[\"lambda\"], config[\"rho\"]\n",
    "        # Set up parameter-dependent functional.\n",
    "        g = λ * functional.L1Norm()\n",
    "        # Define solver.\n",
    "        cg_tol = 1e-4\n",
    "        cg_maxiter = 25\n",
    "        self.solver = ADMM(\n",
    "            f=self.f,\n",
    "            g_list=[g],\n",
    "            C_list=[self.C],\n",
    "            rho_list=[ρ],\n",
    "            x0=self.x0,\n",
    "            maxiter=10,\n",
    "            subproblem_solver=LinearSubproblemSolver(\n",
    "                cg_kwargs={\"tol\": cg_tol, \"maxiter\": cg_maxiter}\n",
    "            ),\n",
    "        )\n",
    "        return True\n",
    "\n",
    "    def step(self):\n",
    "        \"\"\"This method is called for each step in the evaluation of a\n",
    "        single parameter configuration. The maximum number of times it\n",
    "        can be called is controlled by the `num_iterations` parameter\n",
    "        in the initialization of a `scico.ray.tune.Tuner` object.\n",
    "        \"\"\"\n",
    "        # Perform 10 solver steps for every ray.tune step\n",
    "        x_tv = snp.clip(self.solver.solve(), 0.0, 1.0)\n",
    "        return {\"psnr\": float(metric.psnr(self.x_gt, x_tv))}"
   ]
  },
  {
   "cell_type": "markdown",
   "id": "a410ca05",
   "metadata": {},
   "source": [
    "Define parameter search space and resources per trial."
   ]
  },
  {
   "cell_type": "code",
   "execution_count": 6,
   "id": "0d746bcf",
   "metadata": {
    "collapsed": false,
    "execution": {
     "iopub.execute_input": "2024-06-06T17:47:11.737868Z",
     "iopub.status.busy": "2024-06-06T17:47:11.737692Z",
     "iopub.status.idle": "2024-06-06T17:47:11.741835Z",
     "shell.execute_reply": "2024-06-06T17:47:11.741079Z"
    }
   },
   "outputs": [],
   "source": [
    "config = {\"lambda\": tune.loguniform(1e0, 1e2), \"rho\": tune.loguniform(1e1, 1e3)}\n",
    "resources = {\"gpu\": 0, \"cpu\": 1}  # gpus per trial, cpus per trial"
   ]
  },
  {
   "cell_type": "markdown",
   "id": "a1496f68",
   "metadata": {},
   "source": [
    "Run parameter search."
   ]
  },
  {
   "cell_type": "code",
   "execution_count": 7,
   "id": "6421e6e9",
   "metadata": {
    "collapsed": false,
    "execution": {
     "iopub.execute_input": "2024-06-06T17:47:11.744812Z",
     "iopub.status.busy": "2024-06-06T17:47:11.744460Z",
     "iopub.status.idle": "2024-06-06T17:48:22.061576Z",
     "shell.execute_reply": "2024-06-06T17:48:22.059637Z"
    }
   },
   "outputs": [
    {
     "name": "stdout",
     "output_type": "stream",
     "text": [
      "P:   1 R:   0 T:   0 \r",
      "P:   1 R:   0 T:   0 \r"
     ]
    },
    {
     "name": "stdout",
     "output_type": "stream",
     "text": [
      "P:   1 R:   0 T:   0 \r",
      "P:   1 R:   0 T:   0 \r"
     ]
    },
    {
     "name": "stdout",
     "output_type": "stream",
     "text": [
      "P:   1 R:   0 T:   0 \r",
      "P:   1 R:   0 T:   0 \r"
     ]
    },
    {
     "name": "stdout",
     "output_type": "stream",
     "text": [
      "P:   1 R:   0 T:   0 \r",
      "P:   1 R:   0 T:   0 \r"
     ]
    },
    {
     "name": "stdout",
     "output_type": "stream",
     "text": [
      "P:   1 R:   0 T:   0 \r",
      "P:   1 R:   0 T:   0 \r"
     ]
    },
    {
     "name": "stdout",
     "output_type": "stream",
     "text": [
      "P:   1 R:   0 T:   0 \r",
      "P:   1 R:   0 T:   0 \r"
     ]
    },
    {
     "name": "stdout",
     "output_type": "stream",
     "text": [
      "P:   1 R:   0 T:   0 \r",
      "P:   1 R:   0 T:   0 \r"
     ]
    },
    {
     "name": "stdout",
     "output_type": "stream",
     "text": [
      "P:   1 R:   0 T:   0 \r",
      "P:   1 R:   0 T:   0 \r"
     ]
    },
    {
     "name": "stdout",
     "output_type": "stream",
     "text": [
      "P:   1 R:   0 T:   0 \r",
      "P:   1 R:   0 T:   0 \r"
     ]
    },
    {
     "name": "stdout",
     "output_type": "stream",
     "text": [
      "P:   1 R:   0 T:   0 \r",
      "P:   1 R:   0 T:   0 \r"
     ]
    },
    {
     "name": "stdout",
     "output_type": "stream",
     "text": [
      "P:   1 R:   0 T:   0 \r",
      "P:   1 R:   0 T:   0 \r"
     ]
    },
    {
     "name": "stdout",
     "output_type": "stream",
     "text": [
      "P:   1 R:   0 T:   0 \r",
      "P:   1 R:   0 T:   0 \r"
     ]
    },
    {
     "name": "stdout",
     "output_type": "stream",
     "text": [
      "P:   1 R:   0 T:   0 \r",
      "P:   1 R:   0 T:   0 \r"
     ]
    },
    {
     "name": "stdout",
     "output_type": "stream",
     "text": [
      "P:   1 R:   0 T:   0 \r",
      "P:   1 R:   0 T:   0 \r"
     ]
    },
    {
     "name": "stdout",
     "output_type": "stream",
     "text": [
      "P:   1 R:   0 T:   0 \r",
      "P:   1 R:   0 T:   0 \r"
     ]
    },
    {
     "name": "stdout",
     "output_type": "stream",
     "text": [
      "P:   1 R:   0 T:   0 \r",
      "P:   1 R:   0 T:   0 \r"
     ]
    },
    {
     "name": "stdout",
     "output_type": "stream",
     "text": [
      "P:   1 R:   0 T:   0 \r",
      "P:   1 R:   0 T:   0 \r"
     ]
    },
    {
     "name": "stdout",
     "output_type": "stream",
     "text": [
      "P:   1 R:   0 T:   0 \r",
      "P:   1 R:   0 T:   0 \r"
     ]
    },
    {
     "name": "stdout",
     "output_type": "stream",
     "text": [
      "P:   1 R:   0 T:   0 \r",
      "P:   1 R:   0 T:   0 \r",
      "P:   1 R:   0 T:   0 \r"
     ]
    },
    {
     "name": "stdout",
     "output_type": "stream",
     "text": [
      "P:   1 R:   0 T:   0 \r",
      "P:   1 R:   0 T:   0 \r"
     ]
    },
    {
     "name": "stdout",
     "output_type": "stream",
     "text": [
      "P:   1 R:   0 T:   0 \r",
      "P:   1 R:   0 T:   0 \r"
     ]
    },
    {
     "name": "stdout",
     "output_type": "stream",
     "text": [
      "P:   1 R:   0 T:   0 \r",
      "P:   1 R:   0 T:   0 \r"
     ]
    },
    {
     "name": "stdout",
     "output_type": "stream",
     "text": [
      "P:   1 R:   0 T:   0 \r",
      "P:   1 R:   0 T:   0 \r"
     ]
    },
    {
     "name": "stdout",
     "output_type": "stream",
     "text": [
      "P:   1 R:   0 T:   0 \r",
      "P:   1 R:   0 T:   0 \r"
     ]
    },
    {
     "name": "stdout",
     "output_type": "stream",
     "text": [
      "P:   1 R:   0 T:   0 \r",
      "P:   1 R:   0 T:   0 \r"
     ]
    },
    {
     "name": "stdout",
     "output_type": "stream",
     "text": [
      "P:   1 R:   0 T:   0 \r",
      "P:   0 R:   1 T:   0 \r"
     ]
    },
    {
     "name": "stdout",
     "output_type": "stream",
     "text": [
      "P:   1 R:   1 T:   0 \r",
      "P:   1 R:   1 T:   0 \r"
     ]
    },
    {
     "name": "stdout",
     "output_type": "stream",
     "text": [
      "P:   1 R:   1 T:   0 \r",
      "P:   1 R:   1 T:   0 \r"
     ]
    },
    {
     "name": "stdout",
     "output_type": "stream",
     "text": [
      "P:   1 R:   1 T:   0 \r",
      "P:   1 R:   1 T:   0 \r"
     ]
    },
    {
     "name": "stdout",
     "output_type": "stream",
     "text": [
      "P:   1 R:   1 T:   0 \r",
      "P:   1 R:   1 T:   0 \r"
     ]
    },
    {
     "name": "stdout",
     "output_type": "stream",
     "text": [
      "P:   1 R:   1 T:   0 \r",
      "P:   1 R:   1 T:   0  psnr: 2.91e+01 at lambda: 4.00e+00, rho: 4.90e+01\r",
      "P:   1 R:   1 T:   0  psnr: 2.91e+01 at lambda: 4.00e+00, rho: 4.90e+01\r"
     ]
    },
    {
     "name": "stdout",
     "output_type": "stream",
     "text": [
      "P:   1 R:   1 T:   0  psnr: 3.00e+01 at lambda: 4.00e+00, rho: 4.90e+01\r",
      "P:   1 R:   1 T:   0  psnr: 3.01e+01 at lambda: 4.00e+00, rho: 4.90e+01\r",
      "P:   1 R:   1 T:   0  psnr: 3.08e+01 at lambda: 4.00e+00, rho: 4.90e+01\r"
     ]
    },
    {
     "name": "stdout",
     "output_type": "stream",
     "text": [
      "P:   1 R:   1 T:   0  psnr: 3.08e+01 at lambda: 4.00e+00, rho: 4.90e+01\r",
      "P:   1 R:   1 T:   0  psnr: 3.16e+01 at lambda: 4.00e+00, rho: 4.90e+01\r",
      "P:   1 R:   1 T:   0  psnr: 3.18e+01 at lambda: 4.00e+00, rho: 4.90e+01\r",
      "P:   1 R:   1 T:   0  psnr: 3.18e+01 at lambda: 4.00e+00, rho: 4.90e+01\r"
     ]
    },
    {
     "name": "stdout",
     "output_type": "stream",
     "text": [
      "P:   1 R:   1 T:   0  psnr: 3.22e+01 at lambda: 4.00e+00, rho: 4.90e+01\r",
      "P:   1 R:   1 T:   0  psnr: 3.25e+01 at lambda: 4.00e+00, rho: 4.90e+01\r",
      "P:   1 R:   1 T:   0  psnr: 3.25e+01 at lambda: 4.00e+00, rho: 4.90e+01\r"
     ]
    },
    {
     "name": "stdout",
     "output_type": "stream",
     "text": [
      "P:   1 R:   0 T:   1  psnr: 3.31e+01 at lambda: 4.00e+00, rho: 4.90e+01\r",
      "P:   0 R:   1 T:   1  psnr: 3.31e+01 at lambda: 4.00e+00, rho: 4.90e+01\r",
      "P:   1 R:   1 T:   1  psnr: 3.31e+01 at lambda: 4.00e+00, rho: 4.90e+01\r"
     ]
    },
    {
     "name": "stdout",
     "output_type": "stream",
     "text": [
      "P:   1 R:   1 T:   1  psnr: 3.31e+01 at lambda: 4.00e+00, rho: 4.90e+01\r",
      "P:   1 R:   1 T:   1  psnr: 3.49e+01 at lambda: 3.20e+01, rho: 4.69e+01\r",
      "P:   1 R:   1 T:   1  psnr: 3.49e+01 at lambda: 3.20e+01, rho: 4.69e+01\r"
     ]
    },
    {
     "name": "stdout",
     "output_type": "stream",
     "text": [
      "P:   1 R:   1 T:   1  psnr: 3.71e+01 at lambda: 3.20e+01, rho: 4.69e+01\r",
      "P:   1 R:   1 T:   1  psnr: 3.71e+01 at lambda: 3.20e+01, rho: 4.69e+01\r",
      "P:   1 R:   1 T:   1  psnr: 3.83e+01 at lambda: 3.20e+01, rho: 4.69e+01\r"
     ]
    },
    {
     "name": "stdout",
     "output_type": "stream",
     "text": [
      "P:   1 R:   1 T:   1  psnr: 3.83e+01 at lambda: 3.20e+01, rho: 4.69e+01\r",
      "P:   1 R:   1 T:   1  psnr: 3.88e+01 at lambda: 3.20e+01, rho: 4.69e+01\r",
      "P:   1 R:   1 T:   1  psnr: 3.90e+01 at lambda: 3.20e+01, rho: 4.69e+01\r"
     ]
    },
    {
     "name": "stdout",
     "output_type": "stream",
     "text": [
      "P:   1 R:   1 T:   1  psnr: 3.90e+01 at lambda: 3.20e+01, rho: 4.69e+01\r",
      "P:   1 R:   1 T:   1  psnr: 3.94e+01 at lambda: 3.20e+01, rho: 4.69e+01\r",
      "P:   1 R:   1 T:   1  psnr: 3.94e+01 at lambda: 3.20e+01, rho: 4.69e+01\r",
      "P:   1 R:   1 T:   1  psnr: 3.95e+01 at lambda: 3.20e+01, rho: 4.69e+01\r"
     ]
    },
    {
     "name": "stdout",
     "output_type": "stream",
     "text": [
      "P:   1 R:   1 T:   1  psnr: 3.95e+01 at lambda: 3.20e+01, rho: 4.69e+01\r",
      "P:   1 R:   1 T:   1  psnr: 3.95e+01 at lambda: 3.20e+01, rho: 4.69e+01\r",
      "P:   1 R:   1 T:   1  psnr: 3.95e+01 at lambda: 3.20e+01, rho: 4.69e+01\r",
      "P:   1 R:   1 T:   1  psnr: 3.95e+01 at lambda: 3.20e+01, rho: 4.69e+01\r"
     ]
    },
    {
     "name": "stdout",
     "output_type": "stream",
     "text": [
      "P:   1 R:   1 T:   1  psnr: 3.95e+01 at lambda: 3.20e+01, rho: 4.69e+01\r",
      "P:   1 R:   0 T:   2  psnr: 3.97e+01 at lambda: 3.20e+01, rho: 4.69e+01\r",
      "P:   0 R:   1 T:   2  psnr: 3.97e+01 at lambda: 3.20e+01, rho: 4.69e+01\r",
      "P:   1 R:   1 T:   2  psnr: 3.97e+01 at lambda: 3.20e+01, rho: 4.69e+01\r"
     ]
    },
    {
     "name": "stdout",
     "output_type": "stream",
     "text": [
      "P:   1 R:   1 T:   2  psnr: 3.97e+01 at lambda: 3.20e+01, rho: 4.69e+01\r",
      "P:   1 R:   0 T:   3  psnr: 3.97e+01 at lambda: 3.20e+01, rho: 4.69e+01\r",
      "P:   0 R:   1 T:   3  psnr: 3.97e+01 at lambda: 3.20e+01, rho: 4.69e+01\r",
      "P:   1 R:   1 T:   3  psnr: 3.97e+01 at lambda: 3.20e+01, rho: 4.69e+01\r"
     ]
    },
    {
     "name": "stdout",
     "output_type": "stream",
     "text": [
      "P:   1 R:   1 T:   3  psnr: 3.97e+01 at lambda: 3.20e+01, rho: 4.69e+01\r",
      "P:   1 R:   1 T:   3  psnr: 3.97e+01 at lambda: 3.20e+01, rho: 4.69e+01\r",
      "P:   1 R:   1 T:   3  psnr: 3.97e+01 at lambda: 3.20e+01, rho: 4.69e+01\r"
     ]
    },
    {
     "name": "stdout",
     "output_type": "stream",
     "text": [
      "P:   1 R:   1 T:   3  psnr: 3.97e+01 at lambda: 3.20e+01, rho: 4.69e+01\r",
      "P:   1 R:   1 T:   3  psnr: 3.97e+01 at lambda: 3.20e+01, rho: 4.69e+01\r",
      "P:   1 R:   1 T:   3  psnr: 3.97e+01 at lambda: 3.20e+01, rho: 4.69e+01\r"
     ]
    },
    {
     "name": "stdout",
     "output_type": "stream",
     "text": [
      "P:   1 R:   1 T:   3  psnr: 3.97e+01 at lambda: 3.20e+01, rho: 4.69e+01\r",
      "P:   1 R:   1 T:   3  psnr: 3.97e+01 at lambda: 3.20e+01, rho: 4.69e+01\r",
      "P:   1 R:   1 T:   3  psnr: 3.97e+01 at lambda: 3.20e+01, rho: 4.69e+01\r"
     ]
    },
    {
     "name": "stdout",
     "output_type": "stream",
     "text": [
      "P:   1 R:   1 T:   3  psnr: 3.97e+01 at lambda: 3.20e+01, rho: 4.69e+01\r",
      "P:   1 R:   1 T:   3  psnr: 3.97e+01 at lambda: 3.20e+01, rho: 4.69e+01\r",
      "P:   1 R:   1 T:   3  psnr: 3.97e+01 at lambda: 3.20e+01, rho: 4.69e+01\r"
     ]
    },
    {
     "name": "stdout",
     "output_type": "stream",
     "text": [
      "P:   1 R:   1 T:   3  psnr: 3.97e+01 at lambda: 3.20e+01, rho: 4.69e+01\r",
      "P:   1 R:   0 T:   4  psnr: 3.97e+01 at lambda: 3.20e+01, rho: 4.69e+01\r",
      "P:   0 R:   1 T:   4  psnr: 3.97e+01 at lambda: 3.20e+01, rho: 4.69e+01\r",
      "P:   1 R:   1 T:   4  psnr: 3.97e+01 at lambda: 3.20e+01, rho: 4.69e+01\r"
     ]
    },
    {
     "name": "stdout",
     "output_type": "stream",
     "text": [
      "P:   1 R:   0 T:   5  psnr: 3.97e+01 at lambda: 3.20e+01, rho: 4.69e+01\r",
      "P:   0 R:   1 T:   5  psnr: 3.97e+01 at lambda: 3.20e+01, rho: 4.69e+01\r",
      "P:   1 R:   1 T:   5  psnr: 3.97e+01 at lambda: 3.20e+01, rho: 4.69e+01\r"
     ]
    },
    {
     "name": "stdout",
     "output_type": "stream",
     "text": [
      "P:   1 R:   0 T:   6  psnr: 3.97e+01 at lambda: 3.20e+01, rho: 4.69e+01\r",
      "P:   0 R:   1 T:   6  psnr: 3.97e+01 at lambda: 3.20e+01, rho: 4.69e+01\r",
      "P:   1 R:   1 T:   6  psnr: 3.97e+01 at lambda: 3.20e+01, rho: 4.69e+01\r"
     ]
    },
    {
     "name": "stdout",
     "output_type": "stream",
     "text": [
      "P:   1 R:   1 T:   6  psnr: 3.97e+01 at lambda: 3.20e+01, rho: 4.69e+01\r",
      "P:   1 R:   1 T:   6  psnr: 3.97e+01 at lambda: 3.20e+01, rho: 4.69e+01\r",
      "P:   1 R:   1 T:   6  psnr: 3.97e+01 at lambda: 3.20e+01, rho: 4.69e+01\r"
     ]
    },
    {
     "name": "stdout",
     "output_type": "stream",
     "text": [
      "P:   1 R:   1 T:   6  psnr: 3.97e+01 at lambda: 3.20e+01, rho: 4.69e+01\r",
      "P:   1 R:   1 T:   6  psnr: 3.97e+01 at lambda: 3.20e+01, rho: 4.69e+01\r",
      "P:   1 R:   1 T:   6  psnr: 3.97e+01 at lambda: 3.20e+01, rho: 4.69e+01\r",
      "P:   1 R:   1 T:   6  psnr: 3.97e+01 at lambda: 3.20e+01, rho: 4.69e+01\r",
      "P:   1 R:   1 T:   6  psnr: 3.97e+01 at lambda: 3.20e+01, rho: 4.69e+01\r"
     ]
    },
    {
     "name": "stdout",
     "output_type": "stream",
     "text": [
      "P:   1 R:   1 T:   6  psnr: 3.97e+01 at lambda: 3.20e+01, rho: 4.69e+01\r",
      "P:   1 R:   0 T:   7  psnr: 3.97e+01 at lambda: 3.20e+01, rho: 4.69e+01\r",
      "P:   0 R:   1 T:   7  psnr: 3.97e+01 at lambda: 3.20e+01, rho: 4.69e+01\r",
      "P:   1 R:   1 T:   7  psnr: 3.97e+01 at lambda: 3.20e+01, rho: 4.69e+01\r"
     ]
    },
    {
     "name": "stdout",
     "output_type": "stream",
     "text": [
      "P:   1 R:   0 T:   8  psnr: 3.97e+01 at lambda: 3.20e+01, rho: 4.69e+01\r",
      "P:   0 R:   1 T:   8  psnr: 3.97e+01 at lambda: 3.20e+01, rho: 4.69e+01\r",
      "P:   1 R:   1 T:   8  psnr: 3.97e+01 at lambda: 3.20e+01, rho: 4.69e+01\r"
     ]
    },
    {
     "name": "stdout",
     "output_type": "stream",
     "text": [
      "P:   1 R:   1 T:   8  psnr: 3.97e+01 at lambda: 3.20e+01, rho: 4.69e+01\r",
      "P:   1 R:   0 T:   9  psnr: 3.97e+01 at lambda: 3.20e+01, rho: 4.69e+01\r",
      "P:   0 R:   1 T:   9  psnr: 3.97e+01 at lambda: 3.20e+01, rho: 4.69e+01\r",
      "P:   1 R:   1 T:   9  psnr: 3.97e+01 at lambda: 3.20e+01, rho: 4.69e+01\r"
     ]
    },
    {
     "name": "stdout",
     "output_type": "stream",
     "text": [
      "P:   1 R:   1 T:   9  psnr: 3.97e+01 at lambda: 3.20e+01, rho: 4.69e+01\r",
      "P:   1 R:   0 T:  10  psnr: 3.97e+01 at lambda: 3.20e+01, rho: 4.69e+01\r",
      "P:   0 R:   1 T:  10  psnr: 3.97e+01 at lambda: 3.20e+01, rho: 4.69e+01\r",
      "P:   1 R:   1 T:  10  psnr: 3.97e+01 at lambda: 3.20e+01, rho: 4.69e+01\r"
     ]
    },
    {
     "name": "stdout",
     "output_type": "stream",
     "text": [
      "P:   1 R:   0 T:  11  psnr: 3.97e+01 at lambda: 3.20e+01, rho: 4.69e+01\r",
      "P:   0 R:   1 T:  11  psnr: 3.97e+01 at lambda: 3.20e+01, rho: 4.69e+01\r",
      "P:   1 R:   1 T:  11  psnr: 3.97e+01 at lambda: 3.20e+01, rho: 4.69e+01\r"
     ]
    },
    {
     "name": "stdout",
     "output_type": "stream",
     "text": [
      "P:   1 R:   1 T:  11  psnr: 3.97e+01 at lambda: 3.20e+01, rho: 4.69e+01\r",
      "P:   1 R:   0 T:  12  psnr: 3.97e+01 at lambda: 3.20e+01, rho: 4.69e+01\r",
      "P:   0 R:   1 T:  12  psnr: 3.97e+01 at lambda: 3.20e+01, rho: 4.69e+01\r",
      "P:   1 R:   1 T:  12  psnr: 3.97e+01 at lambda: 3.20e+01, rho: 4.69e+01\r"
     ]
    },
    {
     "name": "stdout",
     "output_type": "stream",
     "text": [
      "P:   1 R:   1 T:  12  psnr: 3.97e+01 at lambda: 3.20e+01, rho: 4.69e+01\r",
      "P:   1 R:   0 T:  13  psnr: 3.97e+01 at lambda: 3.20e+01, rho: 4.69e+01\r",
      "P:   0 R:   1 T:  13  psnr: 3.97e+01 at lambda: 3.20e+01, rho: 4.69e+01\r",
      "P:   1 R:   1 T:  13  psnr: 3.97e+01 at lambda: 3.20e+01, rho: 4.69e+01\r"
     ]
    },
    {
     "name": "stdout",
     "output_type": "stream",
     "text": [
      "P:   1 R:   0 T:  14  psnr: 3.97e+01 at lambda: 3.20e+01, rho: 4.69e+01\r",
      "P:   0 R:   1 T:  14  psnr: 3.97e+01 at lambda: 3.20e+01, rho: 4.69e+01\r",
      "P:   1 R:   1 T:  14  psnr: 3.97e+01 at lambda: 3.20e+01, rho: 4.69e+01\r"
     ]
    },
    {
     "name": "stdout",
     "output_type": "stream",
     "text": [
      "P:   1 R:   1 T:  14  psnr: 3.97e+01 at lambda: 3.20e+01, rho: 4.69e+01\r",
      "P:   1 R:   0 T:  15  psnr: 3.97e+01 at lambda: 3.20e+01, rho: 4.69e+01\r",
      "P:   0 R:   1 T:  15  psnr: 3.97e+01 at lambda: 3.20e+01, rho: 4.69e+01\r",
      "P:   1 R:   1 T:  15  psnr: 3.97e+01 at lambda: 3.20e+01, rho: 4.69e+01\r"
     ]
    },
    {
     "name": "stdout",
     "output_type": "stream",
     "text": [
      "P:   1 R:   1 T:  15  psnr: 3.97e+01 at lambda: 3.20e+01, rho: 4.69e+01\r",
      "P:   1 R:   0 T:  16  psnr: 3.97e+01 at lambda: 3.20e+01, rho: 4.69e+01\r",
      "P:   0 R:   1 T:  16  psnr: 3.97e+01 at lambda: 3.20e+01, rho: 4.69e+01\r",
      "P:   1 R:   1 T:  16  psnr: 3.97e+01 at lambda: 3.20e+01, rho: 4.69e+01\r"
     ]
    },
    {
     "name": "stdout",
     "output_type": "stream",
     "text": [
      "P:   1 R:   0 T:  17  psnr: 3.97e+01 at lambda: 3.20e+01, rho: 4.69e+01\r",
      "P:   0 R:   1 T:  17  psnr: 3.97e+01 at lambda: 3.20e+01, rho: 4.69e+01\r",
      "P:   1 R:   1 T:  17  psnr: 3.97e+01 at lambda: 3.20e+01, rho: 4.69e+01\r"
     ]
    },
    {
     "name": "stdout",
     "output_type": "stream",
     "text": [
      "P:   1 R:   1 T:  17  psnr: 3.97e+01 at lambda: 3.20e+01, rho: 4.69e+01\r",
      "P:   1 R:   0 T:  18  psnr: 3.97e+01 at lambda: 3.20e+01, rho: 4.69e+01\r",
      "P:   0 R:   1 T:  18  psnr: 3.97e+01 at lambda: 3.20e+01, rho: 4.69e+01\r",
      "P:   1 R:   1 T:  18  psnr: 3.97e+01 at lambda: 3.20e+01, rho: 4.69e+01\r"
     ]
    },
    {
     "name": "stdout",
     "output_type": "stream",
     "text": [
      "P:   1 R:   0 T:  19  psnr: 3.97e+01 at lambda: 3.20e+01, rho: 4.69e+01\r",
      "P:   0 R:   1 T:  19  psnr: 3.97e+01 at lambda: 3.20e+01, rho: 4.69e+01\r",
      "P:   1 R:   1 T:  19  psnr: 3.97e+01 at lambda: 3.20e+01, rho: 4.69e+01\r"
     ]
    },
    {
     "name": "stdout",
     "output_type": "stream",
     "text": [
      "P:   1 R:   0 T:  20  psnr: 3.97e+01 at lambda: 3.20e+01, rho: 4.69e+01\r",
      "P:   0 R:   1 T:  20  psnr: 3.97e+01 at lambda: 3.20e+01, rho: 4.69e+01\r",
      "P:   1 R:   1 T:  20  psnr: 3.97e+01 at lambda: 3.20e+01, rho: 4.69e+01\r"
     ]
    },
    {
     "name": "stdout",
     "output_type": "stream",
     "text": [
      "P:   1 R:   1 T:  20  psnr: 3.97e+01 at lambda: 3.20e+01, rho: 4.69e+01\r",
      "P:   1 R:   1 T:  20  psnr: 3.97e+01 at lambda: 3.20e+01, rho: 4.69e+01\r",
      "P:   1 R:   1 T:  20  psnr: 3.97e+01 at lambda: 3.20e+01, rho: 4.69e+01\r"
     ]
    },
    {
     "name": "stdout",
     "output_type": "stream",
     "text": [
      "P:   1 R:   1 T:  20  psnr: 3.97e+01 at lambda: 3.20e+01, rho: 4.69e+01\r",
      "P:   1 R:   1 T:  20  psnr: 3.97e+01 at lambda: 3.20e+01, rho: 4.69e+01\r",
      "P:   1 R:   1 T:  20  psnr: 3.97e+01 at lambda: 3.20e+01, rho: 4.69e+01\r",
      "P:   1 R:   1 T:  20  psnr: 3.97e+01 at lambda: 3.20e+01, rho: 4.69e+01\r"
     ]
    },
    {
     "name": "stdout",
     "output_type": "stream",
     "text": [
      "P:   1 R:   1 T:  20  psnr: 3.97e+01 at lambda: 3.20e+01, rho: 4.69e+01\r",
      "P:   1 R:   1 T:  20  psnr: 3.97e+01 at lambda: 3.20e+01, rho: 4.69e+01\r",
      "P:   1 R:   1 T:  20  psnr: 3.97e+01 at lambda: 3.20e+01, rho: 4.69e+01\r",
      "P:   1 R:   1 T:  20  psnr: 3.97e+01 at lambda: 3.20e+01, rho: 4.69e+01\r"
     ]
    },
    {
     "name": "stdout",
     "output_type": "stream",
     "text": [
      "P:   1 R:   1 T:  20  psnr: 3.97e+01 at lambda: 3.20e+01, rho: 4.69e+01\r",
      "P:   1 R:   1 T:  20  psnr: 3.97e+01 at lambda: 3.20e+01, rho: 4.69e+01\r",
      "P:   1 R:   1 T:  20  psnr: 3.97e+01 at lambda: 3.20e+01, rho: 4.69e+01\r",
      "P:   1 R:   1 T:  20  psnr: 3.97e+01 at lambda: 3.20e+01, rho: 4.69e+01\r"
     ]
    },
    {
     "name": "stdout",
     "output_type": "stream",
     "text": [
      "P:   1 R:   1 T:  20  psnr: 3.97e+01 at lambda: 3.20e+01, rho: 4.69e+01\r",
      "P:   1 R:   1 T:  20  psnr: 3.97e+01 at lambda: 3.20e+01, rho: 4.69e+01\r",
      "P:   1 R:   1 T:  20  psnr: 3.97e+01 at lambda: 3.20e+01, rho: 4.69e+01\r",
      "P:   1 R:   1 T:  20  psnr: 3.97e+01 at lambda: 3.20e+01, rho: 4.69e+01\r",
      "P:   1 R:   1 T:  20  psnr: 3.97e+01 at lambda: 3.20e+01, rho: 4.69e+01\r"
     ]
    },
    {
     "name": "stdout",
     "output_type": "stream",
     "text": [
      "P:   1 R:   1 T:  20  psnr: 3.97e+01 at lambda: 3.20e+01, rho: 4.69e+01\r",
      "P:   1 R:   0 T:  21  psnr: 3.97e+01 at lambda: 4.05e+01, rho: 1.34e+02\r",
      "P:   0 R:   1 T:  21  psnr: 3.97e+01 at lambda: 4.05e+01, rho: 1.34e+02\r",
      "P:   1 R:   1 T:  21  psnr: 3.97e+01 at lambda: 4.05e+01, rho: 1.34e+02\r"
     ]
    },
    {
     "name": "stdout",
     "output_type": "stream",
     "text": [
      "P:   1 R:   1 T:  21  psnr: 3.97e+01 at lambda: 4.05e+01, rho: 1.34e+02\r",
      "P:   1 R:   1 T:  21  psnr: 3.97e+01 at lambda: 4.05e+01, rho: 1.34e+02\r",
      "P:   1 R:   1 T:  21  psnr: 3.97e+01 at lambda: 4.05e+01, rho: 1.34e+02\r"
     ]
    },
    {
     "name": "stdout",
     "output_type": "stream",
     "text": [
      "P:   1 R:   1 T:  21  psnr: 3.97e+01 at lambda: 4.05e+01, rho: 1.34e+02\r",
      "P:   1 R:   1 T:  21  psnr: 3.97e+01 at lambda: 4.05e+01, rho: 1.34e+02\r",
      "P:   1 R:   1 T:  21  psnr: 3.97e+01 at lambda: 4.05e+01, rho: 1.34e+02\r"
     ]
    },
    {
     "name": "stdout",
     "output_type": "stream",
     "text": [
      "P:   1 R:   1 T:  21  psnr: 3.97e+01 at lambda: 4.05e+01, rho: 1.34e+02\r",
      "P:   1 R:   0 T:  22  psnr: 3.97e+01 at lambda: 4.05e+01, rho: 1.34e+02\r",
      "P:   0 R:   1 T:  22  psnr: 3.97e+01 at lambda: 4.05e+01, rho: 1.34e+02\r",
      "P:   1 R:   1 T:  22  psnr: 3.97e+01 at lambda: 4.05e+01, rho: 1.34e+02\r"
     ]
    },
    {
     "name": "stdout",
     "output_type": "stream",
     "text": [
      "P:   1 R:   1 T:  22  psnr: 3.97e+01 at lambda: 4.05e+01, rho: 1.34e+02\r",
      "P:   1 R:   1 T:  22  psnr: 3.97e+01 at lambda: 4.05e+01, rho: 1.34e+02\r"
     ]
    },
    {
     "name": "stdout",
     "output_type": "stream",
     "text": [
      "P:   1 R:   1 T:  22  psnr: 3.97e+01 at lambda: 4.05e+01, rho: 1.34e+02\r",
      "P:   1 R:   1 T:  22  psnr: 3.97e+01 at lambda: 4.05e+01, rho: 1.34e+02\r",
      "P:   1 R:   1 T:  22  psnr: 3.97e+01 at lambda: 4.05e+01, rho: 1.34e+02\r",
      "P:   1 R:   1 T:  22  psnr: 3.97e+01 at lambda: 4.05e+01, rho: 1.34e+02\r"
     ]
    },
    {
     "name": "stdout",
     "output_type": "stream",
     "text": [
      "P:   1 R:   1 T:  22  psnr: 3.97e+01 at lambda: 4.05e+01, rho: 1.34e+02\r",
      "P:   1 R:   1 T:  22  psnr: 3.97e+01 at lambda: 4.05e+01, rho: 1.34e+02\r",
      "P:   1 R:   1 T:  22  psnr: 3.97e+01 at lambda: 4.05e+01, rho: 1.34e+02\r",
      "P:   1 R:   0 T:  23  psnr: 3.97e+01 at lambda: 4.05e+01, rho: 1.34e+02\r",
      "P:   0 R:   1 T:  23  psnr: 3.97e+01 at lambda: 4.05e+01, rho: 1.34e+02\r"
     ]
    },
    {
     "name": "stdout",
     "output_type": "stream",
     "text": [
      "P:   1 R:   1 T:  23  psnr: 3.97e+01 at lambda: 4.05e+01, rho: 1.34e+02\r",
      "P:   1 R:   1 T:  23  psnr: 3.97e+01 at lambda: 4.05e+01, rho: 1.34e+02\r",
      "P:   1 R:   1 T:  23  psnr: 3.97e+01 at lambda: 4.05e+01, rho: 1.34e+02\r"
     ]
    },
    {
     "name": "stdout",
     "output_type": "stream",
     "text": [
      "P:   1 R:   1 T:  23  psnr: 3.97e+01 at lambda: 4.05e+01, rho: 1.34e+02\r",
      "P:   1 R:   1 T:  23  psnr: 3.97e+01 at lambda: 4.05e+01, rho: 1.34e+02\r",
      "P:   1 R:   1 T:  23  psnr: 3.97e+01 at lambda: 4.05e+01, rho: 1.34e+02\r"
     ]
    },
    {
     "name": "stdout",
     "output_type": "stream",
     "text": [
      "P:   1 R:   1 T:  23  psnr: 3.97e+01 at lambda: 4.05e+01, rho: 1.34e+02\r",
      "P:   1 R:   1 T:  23  psnr: 3.97e+01 at lambda: 4.05e+01, rho: 1.34e+02\r",
      "P:   1 R:   1 T:  23  psnr: 3.97e+01 at lambda: 4.05e+01, rho: 1.34e+02\r",
      "P:   1 R:   1 T:  23  psnr: 3.97e+01 at lambda: 4.05e+01, rho: 1.34e+02\r"
     ]
    },
    {
     "name": "stdout",
     "output_type": "stream",
     "text": [
      "P:   1 R:   1 T:  23  psnr: 3.97e+01 at lambda: 4.05e+01, rho: 1.34e+02\r",
      "P:   1 R:   1 T:  23  psnr: 3.97e+01 at lambda: 4.05e+01, rho: 1.34e+02\r",
      "P:   1 R:   1 T:  23  psnr: 3.97e+01 at lambda: 4.05e+01, rho: 1.34e+02\r",
      "P:   1 R:   1 T:  23  psnr: 3.97e+01 at lambda: 4.05e+01, rho: 1.34e+02\r"
     ]
    },
    {
     "name": "stdout",
     "output_type": "stream",
     "text": [
      "P:   1 R:   1 T:  23  psnr: 3.97e+01 at lambda: 4.05e+01, rho: 1.34e+02\r",
      "P:   1 R:   1 T:  23  psnr: 3.97e+01 at lambda: 4.05e+01, rho: 1.34e+02\r",
      "P:   1 R:   1 T:  23  psnr: 3.97e+01 at lambda: 4.05e+01, rho: 1.34e+02\r",
      "P:   1 R:   1 T:  23  psnr: 3.97e+01 at lambda: 3.95e+01, rho: 1.37e+02\r",
      "P:   1 R:   1 T:  23  psnr: 3.97e+01 at lambda: 3.95e+01, rho: 1.37e+02\r"
     ]
    },
    {
     "name": "stdout",
     "output_type": "stream",
     "text": [
      "P:   1 R:   1 T:  23  psnr: 3.98e+01 at lambda: 3.95e+01, rho: 1.37e+02\r",
      "P:   1 R:   0 T:  24  psnr: 3.98e+01 at lambda: 3.95e+01, rho: 1.37e+02\r",
      "P:   0 R:   1 T:  24  psnr: 3.98e+01 at lambda: 3.95e+01, rho: 1.37e+02\r",
      "P:   1 R:   1 T:  24  psnr: 3.98e+01 at lambda: 3.95e+01, rho: 1.37e+02\r"
     ]
    },
    {
     "name": "stdout",
     "output_type": "stream",
     "text": [
      "P:   1 R:   1 T:  24  psnr: 3.98e+01 at lambda: 3.95e+01, rho: 1.37e+02\r",
      "P:   1 R:   1 T:  24  psnr: 3.98e+01 at lambda: 3.95e+01, rho: 1.37e+02\r",
      "P:   1 R:   0 T:  25  psnr: 3.98e+01 at lambda: 3.95e+01, rho: 1.37e+02\r",
      "P:   0 R:   1 T:  25  psnr: 3.98e+01 at lambda: 3.95e+01, rho: 1.37e+02\r"
     ]
    },
    {
     "name": "stdout",
     "output_type": "stream",
     "text": [
      "P:   1 R:   1 T:  25  psnr: 3.98e+01 at lambda: 3.95e+01, rho: 1.37e+02\r",
      "P:   1 R:   1 T:  25  psnr: 3.98e+01 at lambda: 3.95e+01, rho: 1.37e+02\r",
      "P:   1 R:   1 T:  25  psnr: 3.98e+01 at lambda: 3.95e+01, rho: 1.37e+02\r"
     ]
    },
    {
     "name": "stdout",
     "output_type": "stream",
     "text": [
      "P:   1 R:   1 T:  25  psnr: 3.98e+01 at lambda: 3.95e+01, rho: 1.37e+02\r",
      "P:   1 R:   1 T:  25  psnr: 3.98e+01 at lambda: 3.95e+01, rho: 1.37e+02\r",
      "P:   1 R:   1 T:  25  psnr: 3.98e+01 at lambda: 3.95e+01, rho: 1.37e+02\r"
     ]
    },
    {
     "name": "stdout",
     "output_type": "stream",
     "text": [
      "P:   1 R:   1 T:  25  psnr: 3.98e+01 at lambda: 3.95e+01, rho: 1.37e+02\r",
      "P:   1 R:   1 T:  25  psnr: 3.98e+01 at lambda: 3.95e+01, rho: 1.37e+02\r",
      "P:   1 R:   1 T:  25  psnr: 3.98e+01 at lambda: 3.95e+01, rho: 1.37e+02\r",
      "P:   1 R:   0 T:  26  psnr: 3.98e+01 at lambda: 3.95e+01, rho: 1.37e+02\r",
      "P:   1 R:   0 T:  26  psnr: 3.98e+01 at lambda: 3.95e+01, rho: 1.37e+02\r",
      "P:   0 R:   1 T:  26  psnr: 3.98e+01 at lambda: 3.95e+01, rho: 1.37e+02\r",
      "P:   1 R:   1 T:  26  psnr: 3.98e+01 at lambda: 3.95e+01, rho: 1.37e+02\r"
     ]
    },
    {
     "name": "stdout",
     "output_type": "stream",
     "text": [
      "P:   1 R:   1 T:  26  psnr: 3.98e+01 at lambda: 3.95e+01, rho: 1.37e+02\r",
      "P:   1 R:   1 T:  26  psnr: 3.98e+01 at lambda: 3.95e+01, rho: 1.37e+02\r",
      "P:   1 R:   1 T:  26  psnr: 3.98e+01 at lambda: 3.95e+01, rho: 1.37e+02\r"
     ]
    },
    {
     "name": "stdout",
     "output_type": "stream",
     "text": [
      "P:   1 R:   1 T:  26  psnr: 3.98e+01 at lambda: 3.95e+01, rho: 1.37e+02\r",
      "P:   1 R:   1 T:  26  psnr: 3.98e+01 at lambda: 3.95e+01, rho: 1.37e+02\r",
      "P:   1 R:   1 T:  26  psnr: 3.98e+01 at lambda: 3.95e+01, rho: 1.37e+02\r",
      "P:   1 R:   1 T:  26  psnr: 3.98e+01 at lambda: 3.95e+01, rho: 1.37e+02\r"
     ]
    },
    {
     "name": "stdout",
     "output_type": "stream",
     "text": [
      "P:   1 R:   1 T:  26  psnr: 3.98e+01 at lambda: 3.95e+01, rho: 1.37e+02\r",
      "P:   1 R:   1 T:  26  psnr: 3.98e+01 at lambda: 3.95e+01, rho: 1.37e+02\r",
      "P:   1 R:   0 T:  27  psnr: 3.98e+01 at lambda: 3.95e+01, rho: 1.37e+02\r",
      "P:   0 R:   1 T:  27  psnr: 3.98e+01 at lambda: 3.95e+01, rho: 1.37e+02\r",
      "P:   1 R:   1 T:  27  psnr: 3.98e+01 at lambda: 3.95e+01, rho: 1.37e+02\r"
     ]
    },
    {
     "name": "stdout",
     "output_type": "stream",
     "text": [
      "P:   1 R:   1 T:  27  psnr: 3.98e+01 at lambda: 3.95e+01, rho: 1.37e+02\r",
      "P:   1 R:   1 T:  27  psnr: 3.98e+01 at lambda: 3.95e+01, rho: 1.37e+02\r",
      "P:   1 R:   1 T:  27  psnr: 3.98e+01 at lambda: 3.95e+01, rho: 1.37e+02\r",
      "P:   1 R:   1 T:  27  psnr: 3.98e+01 at lambda: 3.95e+01, rho: 1.37e+02\r"
     ]
    },
    {
     "name": "stdout",
     "output_type": "stream",
     "text": [
      "P:   1 R:   1 T:  27  psnr: 3.98e+01 at lambda: 3.95e+01, rho: 1.37e+02\r",
      "P:   1 R:   1 T:  27  psnr: 3.98e+01 at lambda: 3.95e+01, rho: 1.37e+02\r",
      "P:   1 R:   1 T:  27  psnr: 3.98e+01 at lambda: 3.95e+01, rho: 1.37e+02\r",
      "P:   1 R:   1 T:  27  psnr: 3.98e+01 at lambda: 3.95e+01, rho: 1.37e+02\r"
     ]
    },
    {
     "name": "stdout",
     "output_type": "stream",
     "text": [
      "P:   1 R:   1 T:  27  psnr: 3.98e+01 at lambda: 3.95e+01, rho: 1.37e+02\r",
      "P:   1 R:   1 T:  27  psnr: 3.98e+01 at lambda: 3.95e+01, rho: 1.37e+02\r",
      "P:   1 R:   1 T:  27  psnr: 3.98e+01 at lambda: 3.95e+01, rho: 1.37e+02\r"
     ]
    },
    {
     "name": "stdout",
     "output_type": "stream",
     "text": [
      "P:   1 R:   1 T:  27  psnr: 3.98e+01 at lambda: 1.92e+01, rho: 1.95e+02\r",
      "P:   1 R:   1 T:  27  psnr: 3.98e+01 at lambda: 1.92e+01, rho: 1.95e+02\r",
      "P:   1 R:   1 T:  27  psnr: 3.98e+01 at lambda: 1.92e+01, rho: 1.95e+02\r",
      "P:   1 R:   1 T:  27  psnr: 3.99e+01 at lambda: 1.92e+01, rho: 1.95e+02\r"
     ]
    },
    {
     "name": "stdout",
     "output_type": "stream",
     "text": [
      "P:   1 R:   1 T:  27  psnr: 3.99e+01 at lambda: 1.92e+01, rho: 1.95e+02\r",
      "P:   1 R:   1 T:  27  psnr: 3.99e+01 at lambda: 1.92e+01, rho: 1.95e+02\r",
      "P:   1 R:   1 T:  27  psnr: 3.99e+01 at lambda: 1.92e+01, rho: 1.95e+02\r",
      "P:   1 R:   1 T:  27  psnr: 3.99e+01 at lambda: 1.92e+01, rho: 1.95e+02\r"
     ]
    },
    {
     "name": "stdout",
     "output_type": "stream",
     "text": [
      "P:   1 R:   0 T:  28  psnr: 4.00e+01 at lambda: 1.92e+01, rho: 1.95e+02\r",
      "P:   0 R:   1 T:  28  psnr: 4.00e+01 at lambda: 1.92e+01, rho: 1.95e+02\r",
      "P:   1 R:   1 T:  28  psnr: 4.00e+01 at lambda: 1.92e+01, rho: 1.95e+02\r"
     ]
    },
    {
     "name": "stdout",
     "output_type": "stream",
     "text": [
      "P:   1 R:   1 T:  28  psnr: 4.00e+01 at lambda: 1.92e+01, rho: 1.95e+02\r",
      "P:   1 R:   1 T:  28  psnr: 4.00e+01 at lambda: 1.92e+01, rho: 1.95e+02\r",
      "P:   1 R:   1 T:  28  psnr: 4.00e+01 at lambda: 1.92e+01, rho: 1.95e+02\r"
     ]
    },
    {
     "name": "stdout",
     "output_type": "stream",
     "text": [
      "P:   1 R:   1 T:  28  psnr: 4.00e+01 at lambda: 1.92e+01, rho: 1.95e+02\r",
      "P:   1 R:   1 T:  28  psnr: 4.00e+01 at lambda: 1.92e+01, rho: 1.95e+02\r",
      "P:   1 R:   1 T:  28  psnr: 4.00e+01 at lambda: 1.92e+01, rho: 1.95e+02\r"
     ]
    },
    {
     "name": "stdout",
     "output_type": "stream",
     "text": [
      "P:   1 R:   1 T:  28  psnr: 4.00e+01 at lambda: 1.92e+01, rho: 1.95e+02\r",
      "P:   1 R:   0 T:  29  psnr: 4.00e+01 at lambda: 1.92e+01, rho: 1.95e+02\r",
      "P:   0 R:   1 T:  29  psnr: 4.00e+01 at lambda: 1.92e+01, rho: 1.95e+02\r",
      "P:   1 R:   1 T:  29  psnr: 4.00e+01 at lambda: 1.92e+01, rho: 1.95e+02\r"
     ]
    },
    {
     "name": "stdout",
     "output_type": "stream",
     "text": [
      "P:   1 R:   1 T:  29  psnr: 4.00e+01 at lambda: 1.92e+01, rho: 1.95e+02\r",
      "P:   1 R:   1 T:  29  psnr: 4.00e+01 at lambda: 1.92e+01, rho: 1.95e+02\r",
      "P:   1 R:   1 T:  29  psnr: 4.00e+01 at lambda: 1.92e+01, rho: 1.95e+02\r"
     ]
    },
    {
     "name": "stdout",
     "output_type": "stream",
     "text": [
      "P:   1 R:   1 T:  29  psnr: 4.00e+01 at lambda: 1.92e+01, rho: 1.95e+02\r",
      "P:   1 R:   1 T:  29  psnr: 4.00e+01 at lambda: 1.92e+01, rho: 1.95e+02\r",
      "P:   1 R:   1 T:  29  psnr: 4.00e+01 at lambda: 1.92e+01, rho: 1.95e+02\r"
     ]
    },
    {
     "name": "stdout",
     "output_type": "stream",
     "text": [
      "P:   1 R:   1 T:  29  psnr: 4.00e+01 at lambda: 1.92e+01, rho: 1.95e+02\r",
      "P:   1 R:   1 T:  29  psnr: 4.00e+01 at lambda: 1.92e+01, rho: 1.95e+02\r",
      "P:   1 R:   1 T:  29  psnr: 4.00e+01 at lambda: 1.92e+01, rho: 1.95e+02\r",
      "P:   1 R:   1 T:  29  psnr: 4.00e+01 at lambda: 1.92e+01, rho: 1.95e+02\r"
     ]
    },
    {
     "name": "stdout",
     "output_type": "stream",
     "text": [
      "P:   1 R:   1 T:  29  psnr: 4.00e+01 at lambda: 1.92e+01, rho: 1.95e+02\r",
      "P:   1 R:   1 T:  29  psnr: 4.00e+01 at lambda: 1.92e+01, rho: 1.95e+02\r",
      "P:   1 R:   1 T:  29  psnr: 4.00e+01 at lambda: 1.92e+01, rho: 1.95e+02\r"
     ]
    },
    {
     "name": "stdout",
     "output_type": "stream",
     "text": [
      "P:   1 R:   1 T:  29  psnr: 4.00e+01 at lambda: 1.92e+01, rho: 1.95e+02\r",
      "P:   1 R:   1 T:  29  psnr: 4.00e+01 at lambda: 1.92e+01, rho: 1.95e+02\r",
      "P:   1 R:   1 T:  29  psnr: 4.00e+01 at lambda: 1.92e+01, rho: 1.95e+02\r"
     ]
    },
    {
     "name": "stdout",
     "output_type": "stream",
     "text": [
      "P:   1 R:   1 T:  29  psnr: 4.00e+01 at lambda: 1.92e+01, rho: 1.95e+02\r",
      "P:   1 R:   0 T:  30  psnr: 4.00e+01 at lambda: 1.94e+01, rho: 1.95e+02\r",
      "P:   0 R:   1 T:  30  psnr: 4.00e+01 at lambda: 1.94e+01, rho: 1.95e+02\r",
      "P:   1 R:   1 T:  30  psnr: 4.00e+01 at lambda: 1.94e+01, rho: 1.95e+02\r"
     ]
    },
    {
     "name": "stdout",
     "output_type": "stream",
     "text": [
      "P:   1 R:   1 T:  30  psnr: 4.00e+01 at lambda: 1.94e+01, rho: 1.95e+02\r",
      "P:   1 R:   0 T:  31  psnr: 4.00e+01 at lambda: 1.94e+01, rho: 1.95e+02\r",
      "P:   0 R:   1 T:  31  psnr: 4.00e+01 at lambda: 1.94e+01, rho: 1.95e+02\r"
     ]
    },
    {
     "name": "stdout",
     "output_type": "stream",
     "text": [
      "P:   1 R:   1 T:  31  psnr: 4.00e+01 at lambda: 1.94e+01, rho: 1.95e+02\r",
      "P:   1 R:   1 T:  31  psnr: 4.00e+01 at lambda: 1.94e+01, rho: 1.95e+02\r",
      "P:   1 R:   1 T:  31  psnr: 4.00e+01 at lambda: 1.94e+01, rho: 1.95e+02\r"
     ]
    },
    {
     "name": "stdout",
     "output_type": "stream",
     "text": [
      "P:   1 R:   1 T:  31  psnr: 4.00e+01 at lambda: 1.94e+01, rho: 1.95e+02\r",
      "P:   1 R:   1 T:  31  psnr: 4.00e+01 at lambda: 1.94e+01, rho: 1.95e+02\r",
      "P:   1 R:   1 T:  31  psnr: 4.00e+01 at lambda: 1.94e+01, rho: 1.95e+02\r",
      "P:   1 R:   1 T:  31  psnr: 4.00e+01 at lambda: 1.94e+01, rho: 1.95e+02\r"
     ]
    },
    {
     "name": "stdout",
     "output_type": "stream",
     "text": [
      "P:   1 R:   1 T:  31  psnr: 4.00e+01 at lambda: 1.94e+01, rho: 1.95e+02\r",
      "P:   1 R:   1 T:  31  psnr: 4.00e+01 at lambda: 1.94e+01, rho: 1.95e+02\r",
      "P:   1 R:   1 T:  31  psnr: 4.00e+01 at lambda: 1.94e+01, rho: 1.95e+02\r",
      "P:   1 R:   1 T:  31  psnr: 4.00e+01 at lambda: 1.94e+01, rho: 1.95e+02\r"
     ]
    },
    {
     "name": "stdout",
     "output_type": "stream",
     "text": [
      "P:   1 R:   1 T:  31  psnr: 4.00e+01 at lambda: 1.94e+01, rho: 1.95e+02\r",
      "P:   1 R:   1 T:  31  psnr: 4.00e+01 at lambda: 1.94e+01, rho: 1.95e+02\r",
      "P:   1 R:   1 T:  31  psnr: 4.00e+01 at lambda: 1.94e+01, rho: 1.95e+02\r",
      "P:   1 R:   1 T:  31  psnr: 4.00e+01 at lambda: 1.94e+01, rho: 1.95e+02\r"
     ]
    },
    {
     "name": "stdout",
     "output_type": "stream",
     "text": [
      "P:   1 R:   1 T:  31  psnr: 4.00e+01 at lambda: 1.94e+01, rho: 1.95e+02\r",
      "P:   1 R:   1 T:  31  psnr: 4.00e+01 at lambda: 1.94e+01, rho: 1.95e+02\r",
      "P:   1 R:   1 T:  31  psnr: 4.00e+01 at lambda: 1.94e+01, rho: 1.95e+02\r",
      "P:   1 R:   0 T:  32  psnr: 4.00e+01 at lambda: 2.02e+01, rho: 1.90e+02\r",
      "P:   0 R:   1 T:  32  psnr: 4.00e+01 at lambda: 2.02e+01, rho: 1.90e+02\r"
     ]
    },
    {
     "name": "stdout",
     "output_type": "stream",
     "text": [
      "P:   1 R:   1 T:  32  psnr: 4.00e+01 at lambda: 2.02e+01, rho: 1.90e+02\r",
      "P:   1 R:   1 T:  32  psnr: 4.00e+01 at lambda: 2.02e+01, rho: 1.90e+02\r",
      "P:   1 R:   0 T:  33  psnr: 4.00e+01 at lambda: 2.02e+01, rho: 1.90e+02\r"
     ]
    },
    {
     "name": "stdout",
     "output_type": "stream",
     "text": [
      "P:   0 R:   1 T:  33  psnr: 4.00e+01 at lambda: 2.02e+01, rho: 1.90e+02\r",
      "P:   1 R:   1 T:  33  psnr: 4.00e+01 at lambda: 2.02e+01, rho: 1.90e+02\r",
      "P:   1 R:   1 T:  33  psnr: 4.00e+01 at lambda: 2.02e+01, rho: 1.90e+02\r"
     ]
    },
    {
     "name": "stdout",
     "output_type": "stream",
     "text": [
      "P:   1 R:   1 T:  33  psnr: 4.00e+01 at lambda: 2.02e+01, rho: 1.90e+02\r",
      "P:   1 R:   1 T:  33  psnr: 4.00e+01 at lambda: 2.02e+01, rho: 1.90e+02\r",
      "P:   1 R:   1 T:  33  psnr: 4.00e+01 at lambda: 2.02e+01, rho: 1.90e+02\r"
     ]
    },
    {
     "name": "stdout",
     "output_type": "stream",
     "text": [
      "P:   1 R:   1 T:  33  psnr: 4.00e+01 at lambda: 2.02e+01, rho: 1.90e+02\r",
      "P:   1 R:   1 T:  33  psnr: 4.00e+01 at lambda: 2.02e+01, rho: 1.90e+02\r",
      "P:   1 R:   1 T:  33  psnr: 4.00e+01 at lambda: 2.02e+01, rho: 1.90e+02\r"
     ]
    },
    {
     "name": "stdout",
     "output_type": "stream",
     "text": [
      "P:   1 R:   1 T:  33  psnr: 4.00e+01 at lambda: 2.02e+01, rho: 1.90e+02\r",
      "P:   1 R:   1 T:  33  psnr: 4.00e+01 at lambda: 2.02e+01, rho: 1.90e+02\r",
      "P:   1 R:   1 T:  33  psnr: 4.00e+01 at lambda: 2.02e+01, rho: 1.90e+02\r"
     ]
    },
    {
     "name": "stdout",
     "output_type": "stream",
     "text": [
      "P:   1 R:   1 T:  33  psnr: 4.00e+01 at lambda: 2.02e+01, rho: 1.90e+02\r",
      "P:   1 R:   1 T:  33  psnr: 4.00e+01 at lambda: 2.02e+01, rho: 1.90e+02\r",
      "P:   1 R:   1 T:  33  psnr: 4.00e+01 at lambda: 2.02e+01, rho: 1.90e+02\r",
      "P:   1 R:   1 T:  33  psnr: 4.00e+01 at lambda: 2.02e+01, rho: 1.90e+02\r"
     ]
    },
    {
     "name": "stdout",
     "output_type": "stream",
     "text": [
      "P:   1 R:   1 T:  33  psnr: 4.00e+01 at lambda: 2.02e+01, rho: 1.90e+02\r",
      "P:   1 R:   1 T:  33  psnr: 4.00e+01 at lambda: 2.02e+01, rho: 1.90e+02\r",
      "P:   1 R:   1 T:  33  psnr: 4.00e+01 at lambda: 2.02e+01, rho: 1.90e+02\r",
      "P:   1 R:   0 T:  34  psnr: 4.00e+01 at lambda: 2.02e+01, rho: 1.90e+02\r"
     ]
    },
    {
     "name": "stdout",
     "output_type": "stream",
     "text": [
      "P:   0 R:   1 T:  34  psnr: 4.00e+01 at lambda: 2.02e+01, rho: 1.90e+02\r",
      "P:   1 R:   1 T:  34  psnr: 4.00e+01 at lambda: 2.02e+01, rho: 1.90e+02\r"
     ]
    },
    {
     "name": "stdout",
     "output_type": "stream",
     "text": [
      "P:   1 R:   1 T:  34  psnr: 4.00e+01 at lambda: 2.02e+01, rho: 1.90e+02\r",
      "P:   1 R:   0 T:  35  psnr: 4.00e+01 at lambda: 2.02e+01, rho: 1.90e+02\r",
      "P:   0 R:   1 T:  35  psnr: 4.00e+01 at lambda: 2.02e+01, rho: 1.90e+02\r"
     ]
    },
    {
     "name": "stdout",
     "output_type": "stream",
     "text": [
      "P:   1 R:   1 T:  35  psnr: 4.00e+01 at lambda: 2.02e+01, rho: 1.90e+02\r",
      "P:   1 R:   1 T:  35  psnr: 4.00e+01 at lambda: 2.02e+01, rho: 1.90e+02\r",
      "P:   1 R:   0 T:  36  psnr: 4.00e+01 at lambda: 2.02e+01, rho: 1.90e+02\r",
      "P:   0 R:   1 T:  36  psnr: 4.00e+01 at lambda: 2.02e+01, rho: 1.90e+02\r"
     ]
    },
    {
     "name": "stdout",
     "output_type": "stream",
     "text": [
      "P:   1 R:   1 T:  36  psnr: 4.00e+01 at lambda: 2.02e+01, rho: 1.90e+02\r",
      "P:   1 R:   1 T:  36  psnr: 4.00e+01 at lambda: 2.02e+01, rho: 1.90e+02\r",
      "P:   1 R:   0 T:  37  psnr: 4.00e+01 at lambda: 2.02e+01, rho: 1.90e+02\r",
      "P:   0 R:   1 T:  37  psnr: 4.00e+01 at lambda: 2.02e+01, rho: 1.90e+02\r"
     ]
    },
    {
     "name": "stdout",
     "output_type": "stream",
     "text": [
      "P:   1 R:   1 T:  37  psnr: 4.00e+01 at lambda: 2.02e+01, rho: 1.90e+02\r",
      "P:   1 R:   1 T:  37  psnr: 4.00e+01 at lambda: 2.02e+01, rho: 1.90e+02\r",
      "P:   1 R:   0 T:  38  psnr: 4.00e+01 at lambda: 2.02e+01, rho: 1.90e+02\r",
      "P:   0 R:   1 T:  38  psnr: 4.00e+01 at lambda: 2.02e+01, rho: 1.90e+02\r"
     ]
    },
    {
     "name": "stdout",
     "output_type": "stream",
     "text": [
      "P:   1 R:   1 T:  38  psnr: 4.00e+01 at lambda: 2.02e+01, rho: 1.90e+02\r",
      "P:   1 R:   1 T:  38  psnr: 4.00e+01 at lambda: 2.02e+01, rho: 1.90e+02\r",
      "P:   1 R:   0 T:  39  psnr: 4.00e+01 at lambda: 2.02e+01, rho: 1.90e+02\r",
      "P:   0 R:   1 T:  39  psnr: 4.00e+01 at lambda: 2.02e+01, rho: 1.90e+02\r",
      "P:   1 R:   1 T:  39  psnr: 4.00e+01 at lambda: 2.02e+01, rho: 1.90e+02\r"
     ]
    },
    {
     "name": "stdout",
     "output_type": "stream",
     "text": [
      "P:   1 R:   1 T:  39  psnr: 4.00e+01 at lambda: 2.02e+01, rho: 1.90e+02\r",
      "P:   1 R:   1 T:  39  psnr: 4.00e+01 at lambda: 2.02e+01, rho: 1.90e+02\r",
      "P:   1 R:   0 T:  40  psnr: 4.00e+01 at lambda: 2.02e+01, rho: 1.90e+02\r",
      "P:   0 R:   1 T:  40  psnr: 4.00e+01 at lambda: 2.02e+01, rho: 1.90e+02\r"
     ]
    },
    {
     "name": "stdout",
     "output_type": "stream",
     "text": [
      "P:   1 R:   1 T:  40  psnr: 4.00e+01 at lambda: 2.02e+01, rho: 1.90e+02\r",
      "P:   1 R:   1 T:  40  psnr: 4.00e+01 at lambda: 2.02e+01, rho: 1.90e+02\r",
      "P:   1 R:   0 T:  41  psnr: 4.00e+01 at lambda: 2.02e+01, rho: 1.90e+02\r",
      "P:   0 R:   1 T:  41  psnr: 4.00e+01 at lambda: 2.02e+01, rho: 1.90e+02\r"
     ]
    },
    {
     "name": "stdout",
     "output_type": "stream",
     "text": [
      "P:   1 R:   1 T:  41  psnr: 4.00e+01 at lambda: 2.02e+01, rho: 1.90e+02\r",
      "P:   1 R:   1 T:  41  psnr: 4.00e+01 at lambda: 2.02e+01, rho: 1.90e+02\r",
      "P:   1 R:   1 T:  41  psnr: 4.00e+01 at lambda: 2.02e+01, rho: 1.90e+02\r"
     ]
    },
    {
     "name": "stdout",
     "output_type": "stream",
     "text": [
      "P:   1 R:   1 T:  41  psnr: 4.00e+01 at lambda: 2.02e+01, rho: 1.90e+02\r",
      "P:   1 R:   1 T:  41  psnr: 4.00e+01 at lambda: 2.02e+01, rho: 1.90e+02\r",
      "P:   1 R:   1 T:  41  psnr: 4.00e+01 at lambda: 2.02e+01, rho: 1.90e+02\r",
      "P:   1 R:   1 T:  41  psnr: 4.00e+01 at lambda: 2.02e+01, rho: 1.90e+02\r"
     ]
    },
    {
     "name": "stdout",
     "output_type": "stream",
     "text": [
      "P:   1 R:   1 T:  41  psnr: 4.00e+01 at lambda: 2.02e+01, rho: 1.90e+02\r",
      "P:   1 R:   1 T:  41  psnr: 4.00e+01 at lambda: 2.02e+01, rho: 1.90e+02\r",
      "P:   1 R:   1 T:  41  psnr: 4.00e+01 at lambda: 2.02e+01, rho: 1.90e+02\r",
      "P:   1 R:   1 T:  41  psnr: 4.00e+01 at lambda: 2.02e+01, rho: 1.90e+02\r"
     ]
    },
    {
     "name": "stdout",
     "output_type": "stream",
     "text": [
      "P:   1 R:   1 T:  41  psnr: 4.00e+01 at lambda: 2.02e+01, rho: 1.90e+02\r",
      "P:   1 R:   1 T:  41  psnr: 4.00e+01 at lambda: 2.02e+01, rho: 1.90e+02\r",
      "P:   1 R:   1 T:  41  psnr: 4.00e+01 at lambda: 2.02e+01, rho: 1.90e+02\r",
      "P:   1 R:   1 T:  41  psnr: 4.00e+01 at lambda: 2.02e+01, rho: 1.90e+02\r"
     ]
    },
    {
     "name": "stdout",
     "output_type": "stream",
     "text": [
      "P:   1 R:   1 T:  41  psnr: 4.00e+01 at lambda: 2.02e+01, rho: 1.90e+02\r",
      "P:   1 R:   1 T:  41  psnr: 4.00e+01 at lambda: 2.02e+01, rho: 1.90e+02\r",
      "P:   1 R:   1 T:  41  psnr: 4.00e+01 at lambda: 2.02e+01, rho: 1.90e+02\r"
     ]
    },
    {
     "name": "stdout",
     "output_type": "stream",
     "text": [
      "P:   1 R:   0 T:  42  psnr: 4.00e+01 at lambda: 2.02e+01, rho: 1.90e+02\r",
      "P:   0 R:   1 T:  42  psnr: 4.00e+01 at lambda: 2.02e+01, rho: 1.90e+02\r",
      "P:   1 R:   1 T:  42  psnr: 4.00e+01 at lambda: 2.02e+01, rho: 1.90e+02\r",
      "P:   1 R:   1 T:  42  psnr: 4.00e+01 at lambda: 2.02e+01, rho: 1.90e+02\r"
     ]
    },
    {
     "name": "stdout",
     "output_type": "stream",
     "text": [
      "P:   1 R:   1 T:  42  psnr: 4.00e+01 at lambda: 2.02e+01, rho: 1.90e+02\r",
      "P:   1 R:   0 T:  43  psnr: 4.00e+01 at lambda: 2.02e+01, rho: 1.90e+02\r",
      "P:   0 R:   1 T:  43  psnr: 4.00e+01 at lambda: 2.02e+01, rho: 1.90e+02\r",
      "P:   1 R:   1 T:  43  psnr: 4.00e+01 at lambda: 2.02e+01, rho: 1.90e+02\r"
     ]
    },
    {
     "name": "stdout",
     "output_type": "stream",
     "text": [
      "P:   1 R:   1 T:  43  psnr: 4.00e+01 at lambda: 2.02e+01, rho: 1.90e+02\r",
      "P:   1 R:   1 T:  43  psnr: 4.00e+01 at lambda: 2.02e+01, rho: 1.90e+02\r"
     ]
    },
    {
     "name": "stdout",
     "output_type": "stream",
     "text": [
      "P:   1 R:   1 T:  43  psnr: 4.00e+01 at lambda: 2.02e+01, rho: 1.90e+02\r",
      "P:   1 R:   1 T:  43  psnr: 4.00e+01 at lambda: 2.02e+01, rho: 1.90e+02\r",
      "P:   1 R:   1 T:  43  psnr: 4.00e+01 at lambda: 2.02e+01, rho: 1.90e+02\r",
      "P:   1 R:   1 T:  43  psnr: 4.00e+01 at lambda: 2.02e+01, rho: 1.90e+02\r"
     ]
    },
    {
     "name": "stdout",
     "output_type": "stream",
     "text": [
      "P:   1 R:   1 T:  43  psnr: 4.00e+01 at lambda: 2.02e+01, rho: 1.90e+02\r",
      "P:   1 R:   0 T:  44  psnr: 4.00e+01 at lambda: 2.02e+01, rho: 1.90e+02\r",
      "P:   0 R:   1 T:  44  psnr: 4.00e+01 at lambda: 2.02e+01, rho: 1.90e+02\r",
      "P:   1 R:   1 T:  44  psnr: 4.00e+01 at lambda: 2.02e+01, rho: 1.90e+02\r"
     ]
    },
    {
     "name": "stdout",
     "output_type": "stream",
     "text": [
      "P:   1 R:   1 T:  44  psnr: 4.00e+01 at lambda: 2.02e+01, rho: 1.90e+02\r",
      "P:   1 R:   0 T:  45  psnr: 4.00e+01 at lambda: 2.02e+01, rho: 1.90e+02\r",
      "P:   0 R:   1 T:  45  psnr: 4.00e+01 at lambda: 2.02e+01, rho: 1.90e+02\r"
     ]
    },
    {
     "name": "stdout",
     "output_type": "stream",
     "text": [
      "P:   1 R:   1 T:  45  psnr: 4.00e+01 at lambda: 2.02e+01, rho: 1.90e+02\r",
      "P:   1 R:   1 T:  45  psnr: 4.00e+01 at lambda: 2.02e+01, rho: 1.90e+02\r",
      "P:   1 R:   1 T:  45  psnr: 4.00e+01 at lambda: 2.02e+01, rho: 1.90e+02\r"
     ]
    },
    {
     "name": "stdout",
     "output_type": "stream",
     "text": [
      "P:   1 R:   1 T:  45  psnr: 4.00e+01 at lambda: 2.02e+01, rho: 1.90e+02\r",
      "P:   1 R:   1 T:  45  psnr: 4.00e+01 at lambda: 2.02e+01, rho: 1.90e+02\r",
      "P:   1 R:   1 T:  45  psnr: 4.00e+01 at lambda: 2.02e+01, rho: 1.90e+02\r",
      "P:   1 R:   1 T:  45  psnr: 4.00e+01 at lambda: 2.02e+01, rho: 1.90e+02\r",
      "P:   1 R:   1 T:  45  psnr: 4.00e+01 at lambda: 2.02e+01, rho: 1.90e+02\r"
     ]
    },
    {
     "name": "stdout",
     "output_type": "stream",
     "text": [
      "P:   1 R:   1 T:  45  psnr: 4.00e+01 at lambda: 2.02e+01, rho: 1.90e+02\r",
      "P:   1 R:   0 T:  46  psnr: 4.00e+01 at lambda: 2.02e+01, rho: 1.90e+02\r",
      "P:   0 R:   1 T:  46  psnr: 4.00e+01 at lambda: 2.02e+01, rho: 1.90e+02\r",
      "P:   1 R:   1 T:  46  psnr: 4.00e+01 at lambda: 2.02e+01, rho: 1.90e+02\r"
     ]
    },
    {
     "name": "stdout",
     "output_type": "stream",
     "text": [
      "P:   1 R:   1 T:  46  psnr: 4.00e+01 at lambda: 2.02e+01, rho: 1.90e+02\r",
      "P:   1 R:   0 T:  47  psnr: 4.00e+01 at lambda: 2.02e+01, rho: 1.90e+02\r",
      "P:   0 R:   1 T:  47  psnr: 4.00e+01 at lambda: 2.02e+01, rho: 1.90e+02\r"
     ]
    },
    {
     "name": "stdout",
     "output_type": "stream",
     "text": [
      "P:   1 R:   1 T:  47  psnr: 4.00e+01 at lambda: 2.02e+01, rho: 1.90e+02\r",
      "P:   1 R:   1 T:  47  psnr: 4.00e+01 at lambda: 2.02e+01, rho: 1.90e+02\r"
     ]
    },
    {
     "name": "stdout",
     "output_type": "stream",
     "text": [
      "P:   1 R:   1 T:  47  psnr: 4.00e+01 at lambda: 2.02e+01, rho: 1.90e+02\r",
      "P:   1 R:   1 T:  47  psnr: 4.00e+01 at lambda: 2.02e+01, rho: 1.90e+02\r",
      "P:   1 R:   1 T:  47  psnr: 4.00e+01 at lambda: 2.02e+01, rho: 1.90e+02\r",
      "P:   1 R:   1 T:  47  psnr: 4.00e+01 at lambda: 2.02e+01, rho: 1.90e+02\r"
     ]
    },
    {
     "name": "stdout",
     "output_type": "stream",
     "text": [
      "P:   1 R:   1 T:  47  psnr: 4.00e+01 at lambda: 2.02e+01, rho: 1.90e+02\r",
      "P:   1 R:   1 T:  47  psnr: 4.00e+01 at lambda: 2.02e+01, rho: 1.90e+02\r",
      "P:   1 R:   0 T:  48  psnr: 4.00e+01 at lambda: 2.02e+01, rho: 1.90e+02\r",
      "P:   0 R:   1 T:  48  psnr: 4.00e+01 at lambda: 2.02e+01, rho: 1.90e+02\r"
     ]
    },
    {
     "name": "stdout",
     "output_type": "stream",
     "text": [
      "P:   1 R:   1 T:  48  psnr: 4.00e+01 at lambda: 2.02e+01, rho: 1.90e+02\r",
      "P:   1 R:   0 T:  49  psnr: 4.00e+01 at lambda: 2.02e+01, rho: 1.90e+02\r",
      "P:   0 R:   1 T:  49  psnr: 4.00e+01 at lambda: 2.02e+01, rho: 1.90e+02\r"
     ]
    },
    {
     "name": "stdout",
     "output_type": "stream",
     "text": [
      "P:   1 R:   1 T:  49  psnr: 4.00e+01 at lambda: 2.02e+01, rho: 1.90e+02\r",
      "P:   1 R:   1 T:  49  psnr: 4.00e+01 at lambda: 2.02e+01, rho: 1.90e+02\r"
     ]
    },
    {
     "name": "stdout",
     "output_type": "stream",
     "text": [
      "P:   1 R:   1 T:  49  psnr: 4.00e+01 at lambda: 2.02e+01, rho: 1.90e+02\r",
      "P:   1 R:   0 T:  50  psnr: 4.00e+01 at lambda: 2.02e+01, rho: 1.90e+02\r",
      "P:   0 R:   1 T:  50  psnr: 4.00e+01 at lambda: 2.02e+01, rho: 1.90e+02\r",
      "P:   1 R:   1 T:  50  psnr: 4.00e+01 at lambda: 2.02e+01, rho: 1.90e+02\r"
     ]
    },
    {
     "name": "stdout",
     "output_type": "stream",
     "text": [
      "P:   1 R:   1 T:  50  psnr: 4.00e+01 at lambda: 2.02e+01, rho: 1.90e+02\r",
      "P:   1 R:   0 T:  51  psnr: 4.00e+01 at lambda: 2.02e+01, rho: 1.90e+02\r",
      "P:   0 R:   1 T:  51  psnr: 4.00e+01 at lambda: 2.02e+01, rho: 1.90e+02\r",
      "P:   1 R:   1 T:  51  psnr: 4.00e+01 at lambda: 2.02e+01, rho: 1.90e+02\r"
     ]
    },
    {
     "name": "stdout",
     "output_type": "stream",
     "text": [
      "P:   1 R:   1 T:  51  psnr: 4.00e+01 at lambda: 2.02e+01, rho: 1.90e+02\r",
      "P:   1 R:   0 T:  52  psnr: 4.00e+01 at lambda: 2.02e+01, rho: 1.90e+02\r",
      "P:   0 R:   1 T:  52  psnr: 4.00e+01 at lambda: 2.02e+01, rho: 1.90e+02\r"
     ]
    },
    {
     "name": "stdout",
     "output_type": "stream",
     "text": [
      "P:   1 R:   1 T:  52  psnr: 4.00e+01 at lambda: 2.02e+01, rho: 1.90e+02\r",
      "P:   1 R:   1 T:  52  psnr: 4.00e+01 at lambda: 2.02e+01, rho: 1.90e+02\r",
      "P:   1 R:   1 T:  52  psnr: 4.00e+01 at lambda: 2.02e+01, rho: 1.90e+02\r",
      "P:   1 R:   0 T:  53  psnr: 4.00e+01 at lambda: 2.02e+01, rho: 1.90e+02\r",
      "P:   0 R:   1 T:  53  psnr: 4.00e+01 at lambda: 2.02e+01, rho: 1.90e+02\r"
     ]
    },
    {
     "name": "stdout",
     "output_type": "stream",
     "text": [
      "P:   1 R:   1 T:  53  psnr: 4.00e+01 at lambda: 2.02e+01, rho: 1.90e+02\r",
      "P:   1 R:   1 T:  53  psnr: 4.00e+01 at lambda: 2.02e+01, rho: 1.90e+02\r"
     ]
    },
    {
     "name": "stdout",
     "output_type": "stream",
     "text": [
      "P:   1 R:   1 T:  53  psnr: 4.00e+01 at lambda: 2.02e+01, rho: 1.90e+02\r",
      "P:   1 R:   1 T:  53  psnr: 4.00e+01 at lambda: 2.02e+01, rho: 1.90e+02\r",
      "P:   1 R:   0 T:  54  psnr: 4.00e+01 at lambda: 2.02e+01, rho: 1.90e+02\r",
      "P:   0 R:   1 T:  54  psnr: 4.00e+01 at lambda: 2.02e+01, rho: 1.90e+02\r"
     ]
    },
    {
     "name": "stdout",
     "output_type": "stream",
     "text": [
      "P:   1 R:   1 T:  54  psnr: 4.00e+01 at lambda: 2.02e+01, rho: 1.90e+02\r",
      "P:   1 R:   0 T:  55  psnr: 4.00e+01 at lambda: 2.02e+01, rho: 1.90e+02\r",
      "P:   0 R:   1 T:  55  psnr: 4.00e+01 at lambda: 2.02e+01, rho: 1.90e+02\r"
     ]
    },
    {
     "name": "stdout",
     "output_type": "stream",
     "text": [
      "P:   1 R:   1 T:  55  psnr: 4.00e+01 at lambda: 2.02e+01, rho: 1.90e+02\r",
      "P:   1 R:   1 T:  55  psnr: 4.00e+01 at lambda: 2.02e+01, rho: 1.90e+02\r",
      "P:   1 R:   0 T:  56  psnr: 4.00e+01 at lambda: 2.02e+01, rho: 1.90e+02\r",
      "P:   0 R:   1 T:  56  psnr: 4.00e+01 at lambda: 2.02e+01, rho: 1.90e+02\r"
     ]
    },
    {
     "name": "stdout",
     "output_type": "stream",
     "text": [
      "P:   1 R:   1 T:  56  psnr: 4.00e+01 at lambda: 2.02e+01, rho: 1.90e+02\r",
      "P:   1 R:   1 T:  56  psnr: 4.00e+01 at lambda: 2.02e+01, rho: 1.90e+02\r",
      "P:   1 R:   1 T:  56  psnr: 4.00e+01 at lambda: 2.02e+01, rho: 1.90e+02\r"
     ]
    },
    {
     "name": "stdout",
     "output_type": "stream",
     "text": [
      "P:   1 R:   1 T:  56  psnr: 4.00e+01 at lambda: 2.02e+01, rho: 1.90e+02\r",
      "P:   1 R:   1 T:  56  psnr: 4.00e+01 at lambda: 2.02e+01, rho: 1.90e+02\r",
      "P:   1 R:   1 T:  56  psnr: 4.00e+01 at lambda: 2.02e+01, rho: 1.90e+02\r"
     ]
    },
    {
     "name": "stdout",
     "output_type": "stream",
     "text": [
      "P:   1 R:   1 T:  56  psnr: 4.00e+01 at lambda: 2.02e+01, rho: 1.90e+02\r",
      "P:   1 R:   1 T:  56  psnr: 4.00e+01 at lambda: 2.02e+01, rho: 1.90e+02\r",
      "P:   1 R:   1 T:  56  psnr: 4.00e+01 at lambda: 2.02e+01, rho: 1.90e+02\r",
      "P:   1 R:   0 T:  57  psnr: 4.00e+01 at lambda: 2.02e+01, rho: 1.90e+02\r",
      "P:   0 R:   1 T:  57  psnr: 4.00e+01 at lambda: 2.02e+01, rho: 1.90e+02\r"
     ]
    },
    {
     "name": "stdout",
     "output_type": "stream",
     "text": [
      "P:   1 R:   1 T:  57  psnr: 4.00e+01 at lambda: 2.02e+01, rho: 1.90e+02\r",
      "P:   1 R:   1 T:  57  psnr: 4.00e+01 at lambda: 2.02e+01, rho: 1.90e+02\r"
     ]
    },
    {
     "name": "stdout",
     "output_type": "stream",
     "text": [
      "P:   1 R:   1 T:  57  psnr: 4.00e+01 at lambda: 2.02e+01, rho: 1.90e+02\r",
      "P:   1 R:   1 T:  57  psnr: 4.00e+01 at lambda: 2.02e+01, rho: 1.90e+02\r",
      "P:   1 R:   1 T:  57  psnr: 4.00e+01 at lambda: 2.02e+01, rho: 1.90e+02\r",
      "P:   1 R:   1 T:  57  psnr: 4.00e+01 at lambda: 2.02e+01, rho: 1.90e+02\r"
     ]
    },
    {
     "name": "stdout",
     "output_type": "stream",
     "text": [
      "P:   1 R:   1 T:  57  psnr: 4.00e+01 at lambda: 2.02e+01, rho: 1.90e+02\r",
      "P:   1 R:   1 T:  57  psnr: 4.00e+01 at lambda: 2.02e+01, rho: 1.90e+02\r",
      "P:   1 R:   1 T:  57  psnr: 4.00e+01 at lambda: 2.02e+01, rho: 1.90e+02\r",
      "P:   1 R:   1 T:  57  psnr: 4.00e+01 at lambda: 2.02e+01, rho: 1.90e+02\r"
     ]
    },
    {
     "name": "stdout",
     "output_type": "stream",
     "text": [
      "P:   1 R:   1 T:  57  psnr: 4.00e+01 at lambda: 2.02e+01, rho: 1.90e+02\r",
      "P:   1 R:   1 T:  57  psnr: 4.00e+01 at lambda: 2.02e+01, rho: 1.90e+02\r",
      "P:   1 R:   1 T:  57  psnr: 4.00e+01 at lambda: 2.02e+01, rho: 1.90e+02\r",
      "P:   1 R:   1 T:  57  psnr: 4.00e+01 at lambda: 2.02e+01, rho: 1.90e+02\r"
     ]
    },
    {
     "name": "stdout",
     "output_type": "stream",
     "text": [
      "P:   1 R:   1 T:  57  psnr: 4.00e+01 at lambda: 2.02e+01, rho: 1.90e+02\r",
      "P:   1 R:   1 T:  57  psnr: 4.00e+01 at lambda: 2.02e+01, rho: 1.90e+02\r",
      "P:   1 R:   1 T:  57  psnr: 4.00e+01 at lambda: 2.02e+01, rho: 1.90e+02\r",
      "P:   1 R:   1 T:  57  psnr: 4.00e+01 at lambda: 2.02e+01, rho: 1.90e+02\r"
     ]
    },
    {
     "name": "stdout",
     "output_type": "stream",
     "text": [
      "P:   1 R:   0 T:  58  psnr: 4.00e+01 at lambda: 2.02e+01, rho: 1.90e+02\r",
      "P:   0 R:   1 T:  58  psnr: 4.00e+01 at lambda: 2.02e+01, rho: 1.90e+02\r",
      "P:   1 R:   1 T:  58  psnr: 4.00e+01 at lambda: 2.02e+01, rho: 1.90e+02\r"
     ]
    },
    {
     "name": "stdout",
     "output_type": "stream",
     "text": [
      "P:   1 R:   1 T:  58  psnr: 4.00e+01 at lambda: 2.02e+01, rho: 1.90e+02\r",
      "P:   1 R:   0 T:  59  psnr: 4.00e+01 at lambda: 2.02e+01, rho: 1.90e+02\r",
      "P:   0 R:   1 T:  59  psnr: 4.00e+01 at lambda: 2.02e+01, rho: 1.90e+02\r",
      "P:   1 R:   1 T:  59  psnr: 4.00e+01 at lambda: 2.02e+01, rho: 1.90e+02\r"
     ]
    },
    {
     "name": "stdout",
     "output_type": "stream",
     "text": [
      "P:   1 R:   1 T:  59  psnr: 4.00e+01 at lambda: 2.02e+01, rho: 1.90e+02\r",
      "P:   1 R:   0 T:  60  psnr: 4.00e+01 at lambda: 2.02e+01, rho: 1.90e+02\r",
      "P:   0 R:   1 T:  60  psnr: 4.00e+01 at lambda: 2.02e+01, rho: 1.90e+02\r"
     ]
    },
    {
     "name": "stdout",
     "output_type": "stream",
     "text": [
      "P:   1 R:   1 T:  60  psnr: 4.00e+01 at lambda: 2.02e+01, rho: 1.90e+02\r",
      "P:   1 R:   1 T:  60  psnr: 4.00e+01 at lambda: 2.02e+01, rho: 1.90e+02\r",
      "P:   1 R:   0 T:  61  psnr: 4.00e+01 at lambda: 2.02e+01, rho: 1.90e+02\r"
     ]
    },
    {
     "name": "stdout",
     "output_type": "stream",
     "text": [
      "P:   0 R:   1 T:  61  psnr: 4.00e+01 at lambda: 2.02e+01, rho: 1.90e+02\r",
      "P:   1 R:   1 T:  61  psnr: 4.00e+01 at lambda: 2.02e+01, rho: 1.90e+02\r",
      "P:   1 R:   1 T:  61  psnr: 4.00e+01 at lambda: 2.02e+01, rho: 1.90e+02\r"
     ]
    },
    {
     "name": "stdout",
     "output_type": "stream",
     "text": [
      "P:   1 R:   1 T:  61  psnr: 4.00e+01 at lambda: 2.02e+01, rho: 1.90e+02\r",
      "P:   1 R:   1 T:  61  psnr: 4.00e+01 at lambda: 2.02e+01, rho: 1.90e+02\r"
     ]
    },
    {
     "name": "stdout",
     "output_type": "stream",
     "text": [
      "P:   1 R:   1 T:  61  psnr: 4.00e+01 at lambda: 2.02e+01, rho: 1.90e+02\r",
      "P:   1 R:   1 T:  61  psnr: 4.00e+01 at lambda: 2.02e+01, rho: 1.90e+02\r",
      "P:   1 R:   1 T:  61  psnr: 4.00e+01 at lambda: 2.02e+01, rho: 1.90e+02\r"
     ]
    },
    {
     "name": "stdout",
     "output_type": "stream",
     "text": [
      "P:   1 R:   1 T:  61  psnr: 4.00e+01 at lambda: 2.02e+01, rho: 1.90e+02\r",
      "P:   1 R:   0 T:  62  psnr: 4.00e+01 at lambda: 2.02e+01, rho: 1.90e+02\r",
      "P:   0 R:   1 T:  62  psnr: 4.00e+01 at lambda: 2.02e+01, rho: 1.90e+02\r",
      "P:   1 R:   1 T:  62  psnr: 4.00e+01 at lambda: 2.02e+01, rho: 1.90e+02\r"
     ]
    },
    {
     "name": "stdout",
     "output_type": "stream",
     "text": [
      "P:   1 R:   1 T:  62  psnr: 4.00e+01 at lambda: 2.02e+01, rho: 1.90e+02\r",
      "P:   1 R:   1 T:  62  psnr: 4.00e+01 at lambda: 2.02e+01, rho: 1.90e+02\r",
      "P:   1 R:   1 T:  62  psnr: 4.00e+01 at lambda: 2.02e+01, rho: 1.90e+02\r",
      "P:   1 R:   0 T:  63  psnr: 4.00e+01 at lambda: 2.02e+01, rho: 1.90e+02\r",
      "P:   0 R:   1 T:  63  psnr: 4.00e+01 at lambda: 2.02e+01, rho: 1.90e+02\r"
     ]
    },
    {
     "name": "stdout",
     "output_type": "stream",
     "text": [
      "P:   1 R:   1 T:  63  psnr: 4.00e+01 at lambda: 2.02e+01, rho: 1.90e+02\r",
      "P:   1 R:   0 T:  64  psnr: 4.00e+01 at lambda: 2.02e+01, rho: 1.90e+02\r",
      "P:   0 R:   1 T:  64  psnr: 4.00e+01 at lambda: 2.02e+01, rho: 1.90e+02\r"
     ]
    },
    {
     "name": "stdout",
     "output_type": "stream",
     "text": [
      "P:   1 R:   1 T:  64  psnr: 4.00e+01 at lambda: 2.02e+01, rho: 1.90e+02\r",
      "P:   1 R:   1 T:  64  psnr: 4.00e+01 at lambda: 2.02e+01, rho: 1.90e+02\r"
     ]
    },
    {
     "name": "stdout",
     "output_type": "stream",
     "text": [
      "P:   1 R:   1 T:  64  psnr: 4.00e+01 at lambda: 2.02e+01, rho: 1.90e+02\r",
      "P:   1 R:   1 T:  64  psnr: 4.00e+01 at lambda: 2.02e+01, rho: 1.90e+02\r",
      "P:   1 R:   1 T:  64  psnr: 4.00e+01 at lambda: 2.02e+01, rho: 1.90e+02\r"
     ]
    },
    {
     "name": "stdout",
     "output_type": "stream",
     "text": [
      "P:   1 R:   1 T:  64  psnr: 4.00e+01 at lambda: 2.02e+01, rho: 1.90e+02\r",
      "P:   1 R:   1 T:  64  psnr: 4.00e+01 at lambda: 2.02e+01, rho: 1.90e+02\r",
      "P:   1 R:   1 T:  64  psnr: 4.00e+01 at lambda: 2.02e+01, rho: 1.90e+02\r",
      "P:   1 R:   1 T:  64  psnr: 4.00e+01 at lambda: 2.02e+01, rho: 1.90e+02\r",
      "P:   1 R:   1 T:  64  psnr: 4.00e+01 at lambda: 2.02e+01, rho: 1.90e+02\r"
     ]
    },
    {
     "name": "stdout",
     "output_type": "stream",
     "text": [
      "P:   1 R:   1 T:  64  psnr: 4.00e+01 at lambda: 2.02e+01, rho: 1.90e+02\r",
      "P:   1 R:   1 T:  64  psnr: 4.00e+01 at lambda: 2.02e+01, rho: 1.90e+02\r",
      "P:   1 R:   1 T:  64  psnr: 4.00e+01 at lambda: 2.02e+01, rho: 1.90e+02\r"
     ]
    },
    {
     "name": "stdout",
     "output_type": "stream",
     "text": [
      "P:   1 R:   1 T:  64  psnr: 4.00e+01 at lambda: 2.02e+01, rho: 1.90e+02\r",
      "P:   1 R:   1 T:  64  psnr: 4.00e+01 at lambda: 2.02e+01, rho: 1.90e+02\r",
      "P:   1 R:   1 T:  64  psnr: 4.00e+01 at lambda: 2.02e+01, rho: 1.90e+02\r",
      "P:   1 R:   1 T:  64  psnr: 4.00e+01 at lambda: 2.02e+01, rho: 1.90e+02\r",
      "P:   1 R:   1 T:  64  psnr: 4.00e+01 at lambda: 2.02e+01, rho: 1.90e+02\r",
      "P:   1 R:   1 T:  64  psnr: 4.00e+01 at lambda: 2.02e+01, rho: 1.90e+02\r"
     ]
    },
    {
     "name": "stdout",
     "output_type": "stream",
     "text": [
      "P:   1 R:   1 T:  64  psnr: 4.00e+01 at lambda: 2.02e+01, rho: 1.90e+02\r",
      "P:   1 R:   0 T:  65  psnr: 4.00e+01 at lambda: 2.02e+01, rho: 1.90e+02\r",
      "P:   0 R:   1 T:  65  psnr: 4.00e+01 at lambda: 2.02e+01, rho: 1.90e+02\r"
     ]
    },
    {
     "name": "stdout",
     "output_type": "stream",
     "text": [
      "P:   1 R:   1 T:  65  psnr: 4.00e+01 at lambda: 2.02e+01, rho: 1.90e+02\r",
      "P:   1 R:   1 T:  65  psnr: 4.00e+01 at lambda: 2.02e+01, rho: 1.90e+02\r",
      "P:   1 R:   1 T:  65  psnr: 4.00e+01 at lambda: 2.02e+01, rho: 1.90e+02\r"
     ]
    },
    {
     "name": "stdout",
     "output_type": "stream",
     "text": [
      "P:   1 R:   1 T:  65  psnr: 4.00e+01 at lambda: 2.02e+01, rho: 1.90e+02\r",
      "P:   1 R:   1 T:  65  psnr: 4.00e+01 at lambda: 2.02e+01, rho: 1.90e+02\r",
      "P:   1 R:   1 T:  65  psnr: 4.00e+01 at lambda: 2.02e+01, rho: 1.90e+02\r",
      "P:   1 R:   1 T:  65  psnr: 4.00e+01 at lambda: 2.02e+01, rho: 1.90e+02\r"
     ]
    },
    {
     "name": "stdout",
     "output_type": "stream",
     "text": [
      "P:   1 R:   1 T:  65  psnr: 4.00e+01 at lambda: 2.02e+01, rho: 1.90e+02\r",
      "P:   1 R:   1 T:  65  psnr: 4.00e+01 at lambda: 2.02e+01, rho: 1.90e+02\r",
      "P:   1 R:   1 T:  65  psnr: 4.00e+01 at lambda: 2.02e+01, rho: 1.90e+02\r"
     ]
    },
    {
     "name": "stdout",
     "output_type": "stream",
     "text": [
      "P:   1 R:   1 T:  65  psnr: 4.00e+01 at lambda: 2.02e+01, rho: 1.90e+02\r",
      "P:   1 R:   1 T:  65  psnr: 4.00e+01 at lambda: 2.02e+01, rho: 1.90e+02\r",
      "P:   1 R:   1 T:  65  psnr: 4.00e+01 at lambda: 2.02e+01, rho: 1.90e+02\r",
      "P:   1 R:   1 T:  65  psnr: 4.00e+01 at lambda: 2.02e+01, rho: 1.90e+02\r",
      "P:   1 R:   1 T:  65  psnr: 4.00e+01 at lambda: 2.02e+01, rho: 1.90e+02\r",
      "P:   1 R:   1 T:  65  psnr: 4.00e+01 at lambda: 2.02e+01, rho: 1.90e+02\r"
     ]
    },
    {
     "name": "stdout",
     "output_type": "stream",
     "text": [
      "P:   1 R:   1 T:  65  psnr: 4.00e+01 at lambda: 2.02e+01, rho: 1.90e+02\r",
      "P:   1 R:   1 T:  65  psnr: 4.00e+01 at lambda: 2.02e+01, rho: 1.90e+02\r",
      "P:   1 R:   1 T:  65  psnr: 4.00e+01 at lambda: 2.02e+01, rho: 1.90e+02\r"
     ]
    },
    {
     "name": "stdout",
     "output_type": "stream",
     "text": [
      "P:   1 R:   1 T:  65  psnr: 4.00e+01 at lambda: 2.02e+01, rho: 1.90e+02\r",
      "P:   1 R:   1 T:  65  psnr: 4.00e+01 at lambda: 2.02e+01, rho: 1.90e+02\r",
      "P:   1 R:   1 T:  65  psnr: 4.00e+01 at lambda: 2.02e+01, rho: 1.90e+02\r"
     ]
    },
    {
     "name": "stdout",
     "output_type": "stream",
     "text": [
      "P:   1 R:   0 T:  66  psnr: 4.00e+01 at lambda: 2.02e+01, rho: 1.90e+02\r",
      "P:   0 R:   1 T:  66  psnr: 4.00e+01 at lambda: 2.02e+01, rho: 1.90e+02\r",
      "P:   1 R:   1 T:  66  psnr: 4.00e+01 at lambda: 2.02e+01, rho: 1.90e+02\r"
     ]
    },
    {
     "name": "stdout",
     "output_type": "stream",
     "text": [
      "P:   1 R:   1 T:  66  psnr: 4.00e+01 at lambda: 2.02e+01, rho: 1.90e+02\r",
      "P:   1 R:   1 T:  66  psnr: 4.00e+01 at lambda: 2.02e+01, rho: 1.90e+02\r",
      "P:   1 R:   1 T:  66  psnr: 4.00e+01 at lambda: 2.02e+01, rho: 1.90e+02\r"
     ]
    },
    {
     "name": "stdout",
     "output_type": "stream",
     "text": [
      "P:   1 R:   1 T:  66  psnr: 4.00e+01 at lambda: 2.02e+01, rho: 1.90e+02\r",
      "P:   1 R:   1 T:  66  psnr: 4.00e+01 at lambda: 2.02e+01, rho: 1.90e+02\r"
     ]
    },
    {
     "name": "stdout",
     "output_type": "stream",
     "text": [
      "P:   1 R:   1 T:  66  psnr: 4.00e+01 at lambda: 2.02e+01, rho: 1.90e+02\r",
      "P:   1 R:   0 T:  67  psnr: 4.00e+01 at lambda: 2.02e+01, rho: 1.90e+02\r",
      "P:   0 R:   1 T:  67  psnr: 4.00e+01 at lambda: 2.02e+01, rho: 1.90e+02\r",
      "P:   1 R:   1 T:  67  psnr: 4.00e+01 at lambda: 2.02e+01, rho: 1.90e+02\r",
      "P:   1 R:   1 T:  67  psnr: 4.00e+01 at lambda: 2.02e+01, rho: 1.90e+02\r"
     ]
    },
    {
     "name": "stdout",
     "output_type": "stream",
     "text": [
      "P:   1 R:   1 T:  67  psnr: 4.00e+01 at lambda: 2.02e+01, rho: 1.90e+02\r",
      "P:   1 R:   1 T:  67  psnr: 4.00e+01 at lambda: 2.02e+01, rho: 1.90e+02\r",
      "P:   1 R:   1 T:  67  psnr: 4.00e+01 at lambda: 2.02e+01, rho: 1.90e+02\r"
     ]
    },
    {
     "name": "stdout",
     "output_type": "stream",
     "text": [
      "P:   1 R:   1 T:  67  psnr: 4.00e+01 at lambda: 2.02e+01, rho: 1.90e+02\r",
      "P:   1 R:   1 T:  67  psnr: 4.00e+01 at lambda: 2.02e+01, rho: 1.90e+02\r",
      "P:   1 R:   1 T:  67  psnr: 4.00e+01 at lambda: 2.02e+01, rho: 1.90e+02\r"
     ]
    },
    {
     "name": "stdout",
     "output_type": "stream",
     "text": [
      "P:   1 R:   1 T:  67  psnr: 4.00e+01 at lambda: 2.02e+01, rho: 1.90e+02\r",
      "P:   1 R:   1 T:  67  psnr: 4.00e+01 at lambda: 2.02e+01, rho: 1.90e+02\r",
      "P:   1 R:   1 T:  67  psnr: 4.00e+01 at lambda: 2.02e+01, rho: 1.90e+02\r",
      "P:   1 R:   1 T:  67  psnr: 4.00e+01 at lambda: 2.02e+01, rho: 1.90e+02\r"
     ]
    },
    {
     "name": "stdout",
     "output_type": "stream",
     "text": [
      "P:   1 R:   1 T:  67  psnr: 4.00e+01 at lambda: 2.02e+01, rho: 1.90e+02\r",
      "P:   1 R:   1 T:  67  psnr: 4.00e+01 at lambda: 2.02e+01, rho: 1.90e+02\r",
      "P:   1 R:   1 T:  67  psnr: 4.00e+01 at lambda: 2.02e+01, rho: 1.90e+02\r"
     ]
    },
    {
     "name": "stdout",
     "output_type": "stream",
     "text": [
      "P:   1 R:   1 T:  67  psnr: 4.00e+01 at lambda: 2.02e+01, rho: 1.90e+02\r",
      "P:   1 R:   1 T:  67  psnr: 4.00e+01 at lambda: 2.02e+01, rho: 1.90e+02\r",
      "P:   1 R:   1 T:  67  psnr: 4.00e+01 at lambda: 2.02e+01, rho: 1.90e+02\r",
      "P:   1 R:   0 T:  68  psnr: 4.00e+01 at lambda: 2.02e+01, rho: 1.90e+02\r",
      "P:   1 R:   0 T:  68  psnr: 4.00e+01 at lambda: 2.02e+01, rho: 1.90e+02\r",
      "P:   0 R:   1 T:  68  psnr: 4.00e+01 at lambda: 2.02e+01, rho: 1.90e+02\r"
     ]
    },
    {
     "name": "stdout",
     "output_type": "stream",
     "text": [
      "P:   1 R:   1 T:  68  psnr: 4.00e+01 at lambda: 2.02e+01, rho: 1.90e+02\r",
      "P:   1 R:   1 T:  68  psnr: 4.00e+01 at lambda: 2.02e+01, rho: 1.90e+02\r",
      "P:   1 R:   0 T:  69  psnr: 4.00e+01 at lambda: 2.02e+01, rho: 1.90e+02\r",
      "P:   0 R:   1 T:  69  psnr: 4.00e+01 at lambda: 2.02e+01, rho: 1.90e+02\r"
     ]
    },
    {
     "name": "stdout",
     "output_type": "stream",
     "text": [
      "P:   1 R:   1 T:  69  psnr: 4.00e+01 at lambda: 2.02e+01, rho: 1.90e+02\r",
      "P:   1 R:   1 T:  69  psnr: 4.00e+01 at lambda: 2.02e+01, rho: 1.90e+02\r",
      "P:   1 R:   1 T:  69  psnr: 4.00e+01 at lambda: 2.02e+01, rho: 1.90e+02\r",
      "P:   1 R:   1 T:  69  psnr: 4.00e+01 at lambda: 2.02e+01, rho: 1.90e+02\r"
     ]
    },
    {
     "name": "stdout",
     "output_type": "stream",
     "text": [
      "P:   1 R:   1 T:  69  psnr: 4.00e+01 at lambda: 2.02e+01, rho: 1.90e+02\r",
      "P:   1 R:   1 T:  69  psnr: 4.00e+01 at lambda: 2.02e+01, rho: 1.90e+02\r",
      "P:   1 R:   1 T:  69  psnr: 4.00e+01 at lambda: 2.02e+01, rho: 1.90e+02\r"
     ]
    },
    {
     "name": "stdout",
     "output_type": "stream",
     "text": [
      "P:   1 R:   1 T:  69  psnr: 4.00e+01 at lambda: 2.02e+01, rho: 1.90e+02\r",
      "P:   1 R:   1 T:  69  psnr: 4.00e+01 at lambda: 2.02e+01, rho: 1.90e+02\r",
      "P:   1 R:   1 T:  69  psnr: 4.00e+01 at lambda: 2.02e+01, rho: 1.90e+02\r",
      "P:   1 R:   1 T:  69  psnr: 4.00e+01 at lambda: 2.02e+01, rho: 1.90e+02\r"
     ]
    },
    {
     "name": "stdout",
     "output_type": "stream",
     "text": [
      "P:   1 R:   1 T:  69  psnr: 4.00e+01 at lambda: 2.02e+01, rho: 1.90e+02\r",
      "P:   1 R:   1 T:  69  psnr: 4.00e+01 at lambda: 2.02e+01, rho: 1.90e+02\r",
      "P:   1 R:   1 T:  69  psnr: 4.00e+01 at lambda: 2.02e+01, rho: 1.90e+02\r",
      "P:   1 R:   1 T:  69  psnr: 4.00e+01 at lambda: 2.02e+01, rho: 1.90e+02\r"
     ]
    },
    {
     "name": "stdout",
     "output_type": "stream",
     "text": [
      "P:   1 R:   1 T:  69  psnr: 4.00e+01 at lambda: 2.02e+01, rho: 1.90e+02\r",
      "P:   1 R:   1 T:  69  psnr: 4.00e+01 at lambda: 2.02e+01, rho: 1.90e+02\r",
      "P:   1 R:   1 T:  69  psnr: 4.00e+01 at lambda: 2.02e+01, rho: 1.90e+02\r",
      "P:   1 R:   1 T:  69  psnr: 4.00e+01 at lambda: 2.02e+01, rho: 1.90e+02\r"
     ]
    },
    {
     "name": "stdout",
     "output_type": "stream",
     "text": [
      "P:   1 R:   0 T:  70  psnr: 4.00e+01 at lambda: 2.04e+01, rho: 1.89e+02\r",
      "P:   0 R:   1 T:  70  psnr: 4.00e+01 at lambda: 2.04e+01, rho: 1.89e+02\r",
      "P:   1 R:   1 T:  70  psnr: 4.00e+01 at lambda: 2.04e+01, rho: 1.89e+02\r",
      "P:   1 R:   1 T:  70  psnr: 4.00e+01 at lambda: 2.04e+01, rho: 1.89e+02\r"
     ]
    },
    {
     "name": "stdout",
     "output_type": "stream",
     "text": [
      "P:   1 R:   1 T:  70  psnr: 4.00e+01 at lambda: 2.04e+01, rho: 1.89e+02\r",
      "P:   1 R:   1 T:  70  psnr: 4.00e+01 at lambda: 2.04e+01, rho: 1.89e+02\r"
     ]
    },
    {
     "name": "stdout",
     "output_type": "stream",
     "text": [
      "P:   1 R:   1 T:  70  psnr: 4.00e+01 at lambda: 2.04e+01, rho: 1.89e+02\r",
      "P:   1 R:   1 T:  70  psnr: 4.00e+01 at lambda: 2.04e+01, rho: 1.89e+02\r",
      "P:   1 R:   1 T:  70  psnr: 4.00e+01 at lambda: 2.04e+01, rho: 1.89e+02\r",
      "P:   1 R:   1 T:  70  psnr: 4.00e+01 at lambda: 2.04e+01, rho: 1.89e+02\r"
     ]
    },
    {
     "name": "stdout",
     "output_type": "stream",
     "text": [
      "P:   1 R:   0 T:  71  psnr: 4.00e+01 at lambda: 2.04e+01, rho: 1.89e+02\r",
      "P:   0 R:   1 T:  71  psnr: 4.00e+01 at lambda: 2.04e+01, rho: 1.89e+02\r",
      "P:   1 R:   1 T:  71  psnr: 4.00e+01 at lambda: 2.04e+01, rho: 1.89e+02\r"
     ]
    },
    {
     "name": "stdout",
     "output_type": "stream",
     "text": [
      "P:   1 R:   1 T:  71  psnr: 4.00e+01 at lambda: 2.04e+01, rho: 1.89e+02\r",
      "P:   1 R:   1 T:  71  psnr: 4.00e+01 at lambda: 2.04e+01, rho: 1.89e+02\r",
      "P:   1 R:   1 T:  71  psnr: 4.00e+01 at lambda: 2.04e+01, rho: 1.89e+02\r",
      "P:   1 R:   1 T:  71  psnr: 4.00e+01 at lambda: 2.04e+01, rho: 1.89e+02\r"
     ]
    },
    {
     "name": "stdout",
     "output_type": "stream",
     "text": [
      "P:   1 R:   1 T:  71  psnr: 4.00e+01 at lambda: 2.04e+01, rho: 1.89e+02\r",
      "P:   1 R:   1 T:  71  psnr: 4.00e+01 at lambda: 2.04e+01, rho: 1.89e+02\r",
      "P:   1 R:   0 T:  72  psnr: 4.00e+01 at lambda: 2.04e+01, rho: 1.89e+02\r",
      "P:   0 R:   1 T:  72  psnr: 4.00e+01 at lambda: 2.04e+01, rho: 1.89e+02\r",
      "P:   1 R:   1 T:  72  psnr: 4.00e+01 at lambda: 2.04e+01, rho: 1.89e+02\r"
     ]
    },
    {
     "name": "stdout",
     "output_type": "stream",
     "text": [
      "P:   1 R:   1 T:  72  psnr: 4.00e+01 at lambda: 2.04e+01, rho: 1.89e+02\r",
      "P:   1 R:   1 T:  72  psnr: 4.00e+01 at lambda: 2.04e+01, rho: 1.89e+02\r",
      "P:   1 R:   1 T:  72  psnr: 4.00e+01 at lambda: 2.04e+01, rho: 1.89e+02\r"
     ]
    },
    {
     "name": "stdout",
     "output_type": "stream",
     "text": [
      "P:   1 R:   1 T:  72  psnr: 4.00e+01 at lambda: 2.04e+01, rho: 1.89e+02\r",
      "P:   1 R:   1 T:  72  psnr: 4.00e+01 at lambda: 2.04e+01, rho: 1.89e+02\r",
      "P:   1 R:   1 T:  72  psnr: 4.00e+01 at lambda: 2.04e+01, rho: 1.89e+02\r",
      "P:   1 R:   1 T:  72  psnr: 4.00e+01 at lambda: 2.04e+01, rho: 1.89e+02\r"
     ]
    },
    {
     "name": "stdout",
     "output_type": "stream",
     "text": [
      "P:   1 R:   1 T:  72  psnr: 4.00e+01 at lambda: 2.04e+01, rho: 1.89e+02\r",
      "P:   1 R:   1 T:  72  psnr: 4.00e+01 at lambda: 2.04e+01, rho: 1.89e+02\r",
      "P:   1 R:   1 T:  72  psnr: 4.00e+01 at lambda: 2.04e+01, rho: 1.89e+02\r"
     ]
    },
    {
     "name": "stdout",
     "output_type": "stream",
     "text": [
      "P:   1 R:   1 T:  72  psnr: 4.00e+01 at lambda: 2.04e+01, rho: 1.89e+02\r",
      "P:   1 R:   1 T:  72  psnr: 4.00e+01 at lambda: 2.04e+01, rho: 1.89e+02\r",
      "P:   1 R:   1 T:  72  psnr: 4.00e+01 at lambda: 2.04e+01, rho: 1.89e+02\r",
      "P:   1 R:   1 T:  72  psnr: 4.00e+01 at lambda: 2.04e+01, rho: 1.89e+02\r"
     ]
    },
    {
     "name": "stdout",
     "output_type": "stream",
     "text": [
      "P:   1 R:   1 T:  72  psnr: 4.00e+01 at lambda: 2.04e+01, rho: 1.89e+02\r",
      "P:   1 R:   1 T:  72  psnr: 4.00e+01 at lambda: 2.07e+01, rho: 1.25e+02\r",
      "P:   1 R:   0 T:  73  psnr: 4.00e+01 at lambda: 2.07e+01, rho: 1.25e+02\r",
      "P:   1 R:   0 T:  73  psnr: 4.00e+01 at lambda: 2.07e+01, rho: 1.25e+02\r",
      "P:   0 R:   1 T:  73  psnr: 4.00e+01 at lambda: 2.07e+01, rho: 1.25e+02\r"
     ]
    },
    {
     "name": "stdout",
     "output_type": "stream",
     "text": [
      "P:   1 R:   1 T:  73  psnr: 4.00e+01 at lambda: 2.07e+01, rho: 1.25e+02\r",
      "P:   1 R:   1 T:  73  psnr: 4.00e+01 at lambda: 2.07e+01, rho: 1.25e+02\r",
      "P:   1 R:   0 T:  74  psnr: 4.00e+01 at lambda: 2.07e+01, rho: 1.25e+02\r",
      "P:   0 R:   1 T:  74  psnr: 4.00e+01 at lambda: 2.07e+01, rho: 1.25e+02\r"
     ]
    },
    {
     "name": "stdout",
     "output_type": "stream",
     "text": [
      "P:   1 R:   1 T:  74  psnr: 4.00e+01 at lambda: 2.07e+01, rho: 1.25e+02\r",
      "P:   1 R:   1 T:  74  psnr: 4.00e+01 at lambda: 2.07e+01, rho: 1.25e+02\r",
      "P:   1 R:   0 T:  75  psnr: 4.00e+01 at lambda: 2.07e+01, rho: 1.25e+02\r"
     ]
    },
    {
     "name": "stdout",
     "output_type": "stream",
     "text": [
      "P:   0 R:   1 T:  75  psnr: 4.00e+01 at lambda: 2.07e+01, rho: 1.25e+02\r",
      "P:   1 R:   1 T:  75  psnr: 4.00e+01 at lambda: 2.07e+01, rho: 1.25e+02\r"
     ]
    },
    {
     "name": "stdout",
     "output_type": "stream",
     "text": [
      "P:   1 R:   1 T:  75  psnr: 4.00e+01 at lambda: 2.07e+01, rho: 1.25e+02\r",
      "P:   1 R:   1 T:  75  psnr: 4.00e+01 at lambda: 2.07e+01, rho: 1.25e+02\r",
      "P:   1 R:   1 T:  75  psnr: 4.00e+01 at lambda: 2.07e+01, rho: 1.25e+02\r"
     ]
    },
    {
     "name": "stdout",
     "output_type": "stream",
     "text": [
      "P:   1 R:   1 T:  75  psnr: 4.00e+01 at lambda: 2.07e+01, rho: 1.25e+02\r",
      "P:   1 R:   1 T:  75  psnr: 4.00e+01 at lambda: 2.07e+01, rho: 1.25e+02\r",
      "P:   1 R:   1 T:  75  psnr: 4.00e+01 at lambda: 2.07e+01, rho: 1.25e+02\r",
      "P:   1 R:   1 T:  75  psnr: 4.00e+01 at lambda: 2.07e+01, rho: 1.25e+02\r"
     ]
    },
    {
     "name": "stdout",
     "output_type": "stream",
     "text": [
      "P:   1 R:   0 T:  76  psnr: 4.00e+01 at lambda: 2.07e+01, rho: 1.25e+02\r",
      "P:   0 R:   1 T:  76  psnr: 4.00e+01 at lambda: 2.07e+01, rho: 1.25e+02\r",
      "P:   1 R:   1 T:  76  psnr: 4.00e+01 at lambda: 2.07e+01, rho: 1.25e+02\r"
     ]
    },
    {
     "name": "stdout",
     "output_type": "stream",
     "text": [
      "P:   1 R:   1 T:  76  psnr: 4.00e+01 at lambda: 2.07e+01, rho: 1.25e+02\r",
      "P:   1 R:   1 T:  76  psnr: 4.00e+01 at lambda: 2.07e+01, rho: 1.25e+02\r",
      "P:   1 R:   1 T:  76  psnr: 4.00e+01 at lambda: 2.07e+01, rho: 1.25e+02\r"
     ]
    },
    {
     "name": "stdout",
     "output_type": "stream",
     "text": [
      "P:   1 R:   1 T:  76  psnr: 4.00e+01 at lambda: 2.07e+01, rho: 1.25e+02\r",
      "P:   1 R:   1 T:  76  psnr: 4.00e+01 at lambda: 2.07e+01, rho: 1.25e+02\r",
      "P:   1 R:   1 T:  76  psnr: 4.00e+01 at lambda: 2.07e+01, rho: 1.25e+02\r"
     ]
    },
    {
     "name": "stdout",
     "output_type": "stream",
     "text": [
      "P:   1 R:   1 T:  76  psnr: 4.00e+01 at lambda: 2.07e+01, rho: 1.25e+02\r",
      "P:   1 R:   1 T:  76  psnr: 4.00e+01 at lambda: 2.07e+01, rho: 1.25e+02\r",
      "P:   1 R:   1 T:  76  psnr: 4.00e+01 at lambda: 2.07e+01, rho: 1.25e+02\r",
      "P:   1 R:   1 T:  76  psnr: 4.00e+01 at lambda: 2.07e+01, rho: 1.25e+02\r"
     ]
    },
    {
     "name": "stdout",
     "output_type": "stream",
     "text": [
      "P:   1 R:   1 T:  76  psnr: 4.00e+01 at lambda: 2.07e+01, rho: 1.25e+02\r",
      "P:   1 R:   1 T:  76  psnr: 4.00e+01 at lambda: 2.07e+01, rho: 1.25e+02\r",
      "P:   1 R:   1 T:  76  psnr: 4.00e+01 at lambda: 2.07e+01, rho: 1.25e+02\r"
     ]
    },
    {
     "name": "stdout",
     "output_type": "stream",
     "text": [
      "P:   1 R:   1 T:  76  psnr: 4.00e+01 at lambda: 2.07e+01, rho: 1.25e+02\r",
      "P:   1 R:   1 T:  76  psnr: 4.00e+01 at lambda: 2.07e+01, rho: 1.25e+02\r",
      "P:   1 R:   0 T:  77  psnr: 4.00e+01 at lambda: 2.07e+01, rho: 1.25e+02\r",
      "P:   0 R:   1 T:  77  psnr: 4.00e+01 at lambda: 2.07e+01, rho: 1.25e+02\r"
     ]
    },
    {
     "name": "stdout",
     "output_type": "stream",
     "text": [
      "P:   1 R:   1 T:  77  psnr: 4.00e+01 at lambda: 2.07e+01, rho: 1.25e+02\r",
      "P:   1 R:   1 T:  77  psnr: 4.00e+01 at lambda: 2.07e+01, rho: 1.25e+02\r",
      "P:   1 R:   1 T:  77  psnr: 4.00e+01 at lambda: 2.07e+01, rho: 1.25e+02\r"
     ]
    },
    {
     "name": "stdout",
     "output_type": "stream",
     "text": [
      "P:   1 R:   1 T:  77  psnr: 4.00e+01 at lambda: 2.07e+01, rho: 1.25e+02\r",
      "P:   1 R:   1 T:  77  psnr: 4.00e+01 at lambda: 2.07e+01, rho: 1.25e+02\r",
      "P:   1 R:   1 T:  77  psnr: 4.00e+01 at lambda: 2.07e+01, rho: 1.25e+02\r",
      "P:   1 R:   1 T:  77  psnr: 4.00e+01 at lambda: 2.07e+01, rho: 1.25e+02\r"
     ]
    },
    {
     "name": "stdout",
     "output_type": "stream",
     "text": [
      "P:   1 R:   0 T:  78  psnr: 4.00e+01 at lambda: 2.07e+01, rho: 1.25e+02\r",
      "P:   0 R:   1 T:  78  psnr: 4.00e+01 at lambda: 2.07e+01, rho: 1.25e+02\r",
      "P:   1 R:   1 T:  78  psnr: 4.00e+01 at lambda: 2.07e+01, rho: 1.25e+02\r"
     ]
    },
    {
     "name": "stdout",
     "output_type": "stream",
     "text": [
      "P:   1 R:   1 T:  78  psnr: 4.00e+01 at lambda: 2.07e+01, rho: 1.25e+02\r",
      "P:   1 R:   1 T:  78  psnr: 4.00e+01 at lambda: 2.07e+01, rho: 1.25e+02\r",
      "P:   1 R:   1 T:  78  psnr: 4.00e+01 at lambda: 2.07e+01, rho: 1.25e+02\r",
      "P:   1 R:   1 T:  78  psnr: 4.00e+01 at lambda: 2.07e+01, rho: 1.25e+02\r"
     ]
    },
    {
     "name": "stdout",
     "output_type": "stream",
     "text": [
      "P:   1 R:   1 T:  78  psnr: 4.00e+01 at lambda: 2.07e+01, rho: 1.25e+02\r",
      "P:   1 R:   1 T:  78  psnr: 4.00e+01 at lambda: 2.07e+01, rho: 1.25e+02\r",
      "P:   1 R:   1 T:  78  psnr: 4.00e+01 at lambda: 2.07e+01, rho: 1.25e+02\r",
      "P:   1 R:   0 T:  79  psnr: 4.00e+01 at lambda: 2.07e+01, rho: 1.25e+02\r",
      "P:   0 R:   1 T:  79  psnr: 4.00e+01 at lambda: 2.07e+01, rho: 1.25e+02\r"
     ]
    },
    {
     "name": "stdout",
     "output_type": "stream",
     "text": [
      "P:   1 R:   1 T:  79  psnr: 4.00e+01 at lambda: 2.07e+01, rho: 1.25e+02\r",
      "P:   1 R:   1 T:  79  psnr: 4.00e+01 at lambda: 2.07e+01, rho: 1.25e+02\r",
      "P:   1 R:   0 T:  80  psnr: 4.00e+01 at lambda: 2.07e+01, rho: 1.25e+02\r",
      "P:   0 R:   1 T:  80  psnr: 4.00e+01 at lambda: 2.07e+01, rho: 1.25e+02\r"
     ]
    },
    {
     "name": "stdout",
     "output_type": "stream",
     "text": [
      "P:   1 R:   1 T:  80  psnr: 4.00e+01 at lambda: 2.07e+01, rho: 1.25e+02\r",
      "P:   1 R:   1 T:  80  psnr: 4.00e+01 at lambda: 2.07e+01, rho: 1.25e+02\r",
      "P:   1 R:   1 T:  80  psnr: 4.00e+01 at lambda: 2.07e+01, rho: 1.25e+02\r"
     ]
    },
    {
     "name": "stdout",
     "output_type": "stream",
     "text": [
      "P:   1 R:   1 T:  80  psnr: 4.00e+01 at lambda: 2.07e+01, rho: 1.25e+02\r",
      "P:   1 R:   1 T:  80  psnr: 4.00e+01 at lambda: 2.07e+01, rho: 1.25e+02\r",
      "P:   1 R:   1 T:  80  psnr: 4.00e+01 at lambda: 2.07e+01, rho: 1.25e+02\r",
      "P:   1 R:   1 T:  80  psnr: 4.00e+01 at lambda: 2.07e+01, rho: 1.25e+02\r",
      "P:   1 R:   1 T:  80  psnr: 4.00e+01 at lambda: 2.07e+01, rho: 1.25e+02\r"
     ]
    },
    {
     "name": "stdout",
     "output_type": "stream",
     "text": [
      "P:   1 R:   1 T:  80  psnr: 4.00e+01 at lambda: 2.07e+01, rho: 1.25e+02\r",
      "P:   1 R:   0 T:  81  psnr: 4.00e+01 at lambda: 2.07e+01, rho: 1.25e+02\r",
      "P:   0 R:   1 T:  81  psnr: 4.00e+01 at lambda: 2.07e+01, rho: 1.25e+02\r",
      "P:   1 R:   1 T:  81  psnr: 4.00e+01 at lambda: 2.07e+01, rho: 1.25e+02\r"
     ]
    },
    {
     "name": "stdout",
     "output_type": "stream",
     "text": [
      "P:   1 R:   1 T:  81  psnr: 4.00e+01 at lambda: 2.07e+01, rho: 1.25e+02\r",
      "P:   1 R:   0 T:  82  psnr: 4.00e+01 at lambda: 2.07e+01, rho: 1.25e+02\r",
      "P:   0 R:   1 T:  82  psnr: 4.00e+01 at lambda: 2.07e+01, rho: 1.25e+02\r"
     ]
    },
    {
     "name": "stdout",
     "output_type": "stream",
     "text": [
      "P:   1 R:   1 T:  82  psnr: 4.00e+01 at lambda: 2.07e+01, rho: 1.25e+02\r",
      "P:   1 R:   1 T:  82  psnr: 4.00e+01 at lambda: 2.07e+01, rho: 1.25e+02\r",
      "P:   1 R:   1 T:  82  psnr: 4.00e+01 at lambda: 2.07e+01, rho: 1.25e+02\r",
      "P:   1 R:   1 T:  82  psnr: 4.00e+01 at lambda: 2.07e+01, rho: 1.25e+02\r"
     ]
    },
    {
     "name": "stdout",
     "output_type": "stream",
     "text": [
      "P:   1 R:   1 T:  82  psnr: 4.00e+01 at lambda: 2.07e+01, rho: 1.25e+02\r",
      "P:   1 R:   1 T:  82  psnr: 4.00e+01 at lambda: 2.07e+01, rho: 1.25e+02\r",
      "P:   1 R:   1 T:  82  psnr: 4.00e+01 at lambda: 2.07e+01, rho: 1.25e+02\r",
      "P:   1 R:   1 T:  82  psnr: 4.00e+01 at lambda: 2.07e+01, rho: 1.25e+02\r"
     ]
    },
    {
     "name": "stdout",
     "output_type": "stream",
     "text": [
      "P:   1 R:   1 T:  82  psnr: 4.00e+01 at lambda: 2.07e+01, rho: 1.25e+02\r",
      "P:   1 R:   0 T:  83  psnr: 4.00e+01 at lambda: 2.07e+01, rho: 1.25e+02\r",
      "P:   0 R:   1 T:  83  psnr: 4.00e+01 at lambda: 2.07e+01, rho: 1.25e+02\r",
      "P:   1 R:   1 T:  83  psnr: 4.00e+01 at lambda: 2.07e+01, rho: 1.25e+02\r"
     ]
    },
    {
     "name": "stdout",
     "output_type": "stream",
     "text": [
      "P:   1 R:   1 T:  83  psnr: 4.00e+01 at lambda: 2.07e+01, rho: 1.25e+02\r",
      "P:   1 R:   0 T:  84  psnr: 4.00e+01 at lambda: 2.07e+01, rho: 1.25e+02\r",
      "P:   0 R:   1 T:  84  psnr: 4.00e+01 at lambda: 2.07e+01, rho: 1.25e+02\r"
     ]
    },
    {
     "name": "stdout",
     "output_type": "stream",
     "text": [
      "P:   1 R:   1 T:  84  psnr: 4.00e+01 at lambda: 2.07e+01, rho: 1.25e+02\r",
      "P:   1 R:   1 T:  84  psnr: 4.00e+01 at lambda: 2.07e+01, rho: 1.25e+02\r",
      "P:   1 R:   0 T:  85  psnr: 4.00e+01 at lambda: 2.07e+01, rho: 1.25e+02\r",
      "P:   0 R:   1 T:  85  psnr: 4.00e+01 at lambda: 2.07e+01, rho: 1.25e+02\r"
     ]
    },
    {
     "name": "stdout",
     "output_type": "stream",
     "text": [
      "P:   1 R:   1 T:  85  psnr: 4.00e+01 at lambda: 2.07e+01, rho: 1.25e+02\r",
      "P:   1 R:   1 T:  85  psnr: 4.00e+01 at lambda: 2.07e+01, rho: 1.25e+02\r",
      "P:   1 R:   0 T:  86  psnr: 4.00e+01 at lambda: 2.07e+01, rho: 1.25e+02\r"
     ]
    },
    {
     "name": "stdout",
     "output_type": "stream",
     "text": [
      "P:   0 R:   1 T:  86  psnr: 4.00e+01 at lambda: 2.07e+01, rho: 1.25e+02\r",
      "P:   1 R:   1 T:  86  psnr: 4.00e+01 at lambda: 2.07e+01, rho: 1.25e+02\r"
     ]
    },
    {
     "name": "stdout",
     "output_type": "stream",
     "text": [
      "P:   1 R:   1 T:  86  psnr: 4.00e+01 at lambda: 2.07e+01, rho: 1.25e+02\r",
      "P:   1 R:   0 T:  87  psnr: 4.00e+01 at lambda: 2.07e+01, rho: 1.25e+02\r",
      "P:   0 R:   1 T:  87  psnr: 4.00e+01 at lambda: 2.07e+01, rho: 1.25e+02\r",
      "P:   1 R:   1 T:  87  psnr: 4.00e+01 at lambda: 2.07e+01, rho: 1.25e+02\r"
     ]
    },
    {
     "name": "stdout",
     "output_type": "stream",
     "text": [
      "P:   1 R:   1 T:  87  psnr: 4.00e+01 at lambda: 2.07e+01, rho: 1.25e+02\r",
      "P:   1 R:   1 T:  87  psnr: 4.00e+01 at lambda: 2.07e+01, rho: 1.25e+02\r",
      "P:   1 R:   1 T:  87  psnr: 4.00e+01 at lambda: 2.07e+01, rho: 1.25e+02\r",
      "P:   1 R:   0 T:  88  psnr: 4.00e+01 at lambda: 2.07e+01, rho: 1.25e+02\r",
      "P:   0 R:   1 T:  88  psnr: 4.00e+01 at lambda: 2.07e+01, rho: 1.25e+02\r"
     ]
    },
    {
     "name": "stdout",
     "output_type": "stream",
     "text": [
      "P:   1 R:   1 T:  88  psnr: 4.00e+01 at lambda: 2.07e+01, rho: 1.25e+02\r",
      "P:   1 R:   1 T:  88  psnr: 4.00e+01 at lambda: 2.07e+01, rho: 1.25e+02\r",
      "P:   1 R:   0 T:  89  psnr: 4.00e+01 at lambda: 2.07e+01, rho: 1.25e+02\r",
      "P:   0 R:   1 T:  89  psnr: 4.00e+01 at lambda: 2.07e+01, rho: 1.25e+02\r"
     ]
    },
    {
     "name": "stdout",
     "output_type": "stream",
     "text": [
      "P:   1 R:   1 T:  89  psnr: 4.00e+01 at lambda: 2.07e+01, rho: 1.25e+02\r",
      "P:   1 R:   1 T:  89  psnr: 4.00e+01 at lambda: 2.07e+01, rho: 1.25e+02\r",
      "P:   1 R:   1 T:  89  psnr: 4.00e+01 at lambda: 2.07e+01, rho: 1.25e+02\r",
      "P:   1 R:   1 T:  89  psnr: 4.00e+01 at lambda: 2.07e+01, rho: 1.25e+02\r"
     ]
    },
    {
     "name": "stdout",
     "output_type": "stream",
     "text": [
      "P:   1 R:   1 T:  89  psnr: 4.00e+01 at lambda: 2.07e+01, rho: 1.25e+02\r",
      "P:   1 R:   1 T:  89  psnr: 4.00e+01 at lambda: 2.07e+01, rho: 1.25e+02\r",
      "P:   1 R:   1 T:  89  psnr: 4.00e+01 at lambda: 2.07e+01, rho: 1.25e+02\r",
      "P:   1 R:   1 T:  89  psnr: 4.00e+01 at lambda: 2.07e+01, rho: 1.25e+02\r"
     ]
    },
    {
     "name": "stdout",
     "output_type": "stream",
     "text": [
      "P:   1 R:   1 T:  89  psnr: 4.00e+01 at lambda: 2.07e+01, rho: 1.25e+02\r",
      "P:   1 R:   1 T:  89  psnr: 4.00e+01 at lambda: 2.07e+01, rho: 1.25e+02\r",
      "P:   1 R:   1 T:  89  psnr: 4.00e+01 at lambda: 2.07e+01, rho: 1.25e+02\r",
      "P:   1 R:   1 T:  89  psnr: 4.00e+01 at lambda: 2.07e+01, rho: 1.25e+02\r"
     ]
    },
    {
     "name": "stdout",
     "output_type": "stream",
     "text": [
      "P:   1 R:   1 T:  89  psnr: 4.00e+01 at lambda: 2.07e+01, rho: 1.25e+02\r",
      "P:   1 R:   1 T:  89  psnr: 4.00e+01 at lambda: 2.07e+01, rho: 1.25e+02\r",
      "P:   1 R:   1 T:  89  psnr: 4.00e+01 at lambda: 2.07e+01, rho: 1.25e+02\r"
     ]
    },
    {
     "name": "stdout",
     "output_type": "stream",
     "text": [
      "P:   1 R:   1 T:  89  psnr: 4.00e+01 at lambda: 2.07e+01, rho: 1.25e+02\r",
      "P:   1 R:   1 T:  89  psnr: 4.00e+01 at lambda: 2.07e+01, rho: 1.25e+02\r",
      "P:   1 R:   1 T:  89  psnr: 4.00e+01 at lambda: 2.07e+01, rho: 1.25e+02\r",
      "P:   1 R:   1 T:  89  psnr: 4.00e+01 at lambda: 2.07e+01, rho: 1.25e+02\r"
     ]
    },
    {
     "name": "stdout",
     "output_type": "stream",
     "text": [
      "P:   1 R:   1 T:  89  psnr: 4.00e+01 at lambda: 2.07e+01, rho: 1.25e+02\r",
      "P:   1 R:   0 T:  90  psnr: 4.00e+01 at lambda: 2.07e+01, rho: 1.25e+02\r",
      "P:   0 R:   1 T:  90  psnr: 4.00e+01 at lambda: 2.07e+01, rho: 1.25e+02\r",
      "P:   1 R:   1 T:  90  psnr: 4.00e+01 at lambda: 2.07e+01, rho: 1.25e+02\r"
     ]
    },
    {
     "name": "stdout",
     "output_type": "stream",
     "text": [
      "P:   1 R:   1 T:  90  psnr: 4.00e+01 at lambda: 2.07e+01, rho: 1.25e+02\r",
      "P:   1 R:   1 T:  90  psnr: 4.00e+01 at lambda: 2.07e+01, rho: 1.25e+02\r",
      "P:   1 R:   1 T:  90  psnr: 4.00e+01 at lambda: 2.07e+01, rho: 1.25e+02\r",
      "P:   1 R:   1 T:  90  psnr: 4.00e+01 at lambda: 2.07e+01, rho: 1.25e+02\r"
     ]
    },
    {
     "name": "stdout",
     "output_type": "stream",
     "text": [
      "P:   1 R:   1 T:  90  psnr: 4.00e+01 at lambda: 2.07e+01, rho: 1.25e+02\r",
      "P:   1 R:   1 T:  90  psnr: 4.00e+01 at lambda: 2.07e+01, rho: 1.25e+02\r",
      "P:   1 R:   1 T:  90  psnr: 4.00e+01 at lambda: 2.07e+01, rho: 1.25e+02\r"
     ]
    },
    {
     "name": "stdout",
     "output_type": "stream",
     "text": [
      "P:   1 R:   1 T:  90  psnr: 4.00e+01 at lambda: 2.07e+01, rho: 1.25e+02\r",
      "P:   1 R:   0 T:  91  psnr: 4.00e+01 at lambda: 2.07e+01, rho: 1.25e+02\r",
      "P:   0 R:   1 T:  91  psnr: 4.00e+01 at lambda: 2.07e+01, rho: 1.25e+02\r"
     ]
    },
    {
     "name": "stdout",
     "output_type": "stream",
     "text": [
      "P:   1 R:   1 T:  91  psnr: 4.00e+01 at lambda: 2.07e+01, rho: 1.25e+02\r",
      "P:   1 R:   1 T:  91  psnr: 4.00e+01 at lambda: 2.07e+01, rho: 1.25e+02\r",
      "P:   1 R:   1 T:  91  psnr: 4.00e+01 at lambda: 2.07e+01, rho: 1.25e+02\r",
      "P:   1 R:   0 T:  92  psnr: 4.00e+01 at lambda: 2.07e+01, rho: 1.25e+02\r"
     ]
    },
    {
     "name": "stdout",
     "output_type": "stream",
     "text": [
      "P:   0 R:   1 T:  92  psnr: 4.00e+01 at lambda: 2.07e+01, rho: 1.25e+02\r",
      "P:   1 R:   1 T:  92  psnr: 4.00e+01 at lambda: 2.07e+01, rho: 1.25e+02\r"
     ]
    },
    {
     "name": "stdout",
     "output_type": "stream",
     "text": [
      "P:   1 R:   0 T:  93  psnr: 4.00e+01 at lambda: 2.07e+01, rho: 1.25e+02\r",
      "P:   0 R:   1 T:  93  psnr: 4.00e+01 at lambda: 2.07e+01, rho: 1.25e+02\r",
      "P:   1 R:   1 T:  93  psnr: 4.00e+01 at lambda: 2.07e+01, rho: 1.25e+02\r"
     ]
    },
    {
     "name": "stdout",
     "output_type": "stream",
     "text": [
      "P:   1 R:   1 T:  93  psnr: 4.00e+01 at lambda: 2.07e+01, rho: 1.25e+02\r",
      "P:   1 R:   0 T:  94  psnr: 4.00e+01 at lambda: 2.07e+01, rho: 1.25e+02\r",
      "P:   0 R:   1 T:  94  psnr: 4.00e+01 at lambda: 2.07e+01, rho: 1.25e+02\r",
      "P:   1 R:   1 T:  94  psnr: 4.00e+01 at lambda: 2.07e+01, rho: 1.25e+02\r"
     ]
    },
    {
     "name": "stdout",
     "output_type": "stream",
     "text": [
      "P:   1 R:   1 T:  94  psnr: 4.00e+01 at lambda: 2.07e+01, rho: 1.25e+02\r",
      "P:   1 R:   0 T:  95  psnr: 4.00e+01 at lambda: 2.07e+01, rho: 1.25e+02\r",
      "P:   0 R:   1 T:  95  psnr: 4.00e+01 at lambda: 2.07e+01, rho: 1.25e+02\r",
      "P:   1 R:   1 T:  95  psnr: 4.00e+01 at lambda: 2.07e+01, rho: 1.25e+02\r"
     ]
    },
    {
     "name": "stdout",
     "output_type": "stream",
     "text": [
      "P:   1 R:   1 T:  95  psnr: 4.00e+01 at lambda: 2.07e+01, rho: 1.25e+02\r",
      "P:   1 R:   1 T:  95  psnr: 4.00e+01 at lambda: 2.07e+01, rho: 1.25e+02\r",
      "P:   1 R:   0 T:  96  psnr: 4.00e+01 at lambda: 2.07e+01, rho: 1.25e+02\r",
      "P:   0 R:   1 T:  96  psnr: 4.00e+01 at lambda: 2.07e+01, rho: 1.25e+02\r"
     ]
    },
    {
     "name": "stdout",
     "output_type": "stream",
     "text": [
      "P:   1 R:   1 T:  96  psnr: 4.00e+01 at lambda: 2.07e+01, rho: 1.25e+02\r",
      "P:   1 R:   1 T:  96  psnr: 4.00e+01 at lambda: 2.07e+01, rho: 1.25e+02\r",
      "P:   1 R:   0 T:  97  psnr: 4.00e+01 at lambda: 2.07e+01, rho: 1.25e+02\r",
      "P:   0 R:   1 T:  97  psnr: 4.00e+01 at lambda: 2.07e+01, rho: 1.25e+02\r"
     ]
    },
    {
     "name": "stdout",
     "output_type": "stream",
     "text": [
      "P:   1 R:   1 T:  97  psnr: 4.00e+01 at lambda: 2.07e+01, rho: 1.25e+02\r",
      "P:   1 R:   1 T:  97  psnr: 4.00e+01 at lambda: 2.07e+01, rho: 1.25e+02\r"
     ]
    },
    {
     "name": "stdout",
     "output_type": "stream",
     "text": [
      "P:   1 R:   1 T:  97  psnr: 4.00e+01 at lambda: 2.07e+01, rho: 1.25e+02\r",
      "P:   1 R:   0 T:  98  psnr: 4.00e+01 at lambda: 2.07e+01, rho: 1.25e+02\r",
      "P:   0 R:   1 T:  98  psnr: 4.00e+01 at lambda: 2.07e+01, rho: 1.25e+02\r",
      "P:   1 R:   1 T:  98  psnr: 4.00e+01 at lambda: 2.07e+01, rho: 1.25e+02\r"
     ]
    },
    {
     "name": "stdout",
     "output_type": "stream",
     "text": [
      "P:   1 R:   1 T:  98  psnr: 4.00e+01 at lambda: 2.07e+01, rho: 1.25e+02\r",
      "P:   1 R:   0 T:  99  psnr: 4.00e+01 at lambda: 2.07e+01, rho: 1.25e+02\r",
      "P:   0 R:   1 T:  99  psnr: 4.00e+01 at lambda: 2.07e+01, rho: 1.25e+02\r"
     ]
    },
    {
     "name": "stdout",
     "output_type": "stream",
     "text": [
      "P:   0 R:   1 T:  99  psnr: 4.00e+01 at lambda: 2.07e+01, rho: 1.25e+02\r",
      "P:   0 R:   1 T:  99  psnr: 4.00e+01 at lambda: 2.07e+01, rho: 1.25e+02\r"
     ]
    },
    {
     "name": "stdout",
     "output_type": "stream",
     "text": [
      "P:   0 R:   1 T:  99  psnr: 4.00e+01 at lambda: 2.07e+01, rho: 1.25e+02\r",
      "P:   0 R:   0 T: 100  psnr: 4.00e+01 at lambda: 2.07e+01, rho: 1.25e+02\n"
     ]
    }
   ],
   "source": [
    "tuner = tune.Tuner(\n",
    "    tune.with_parameters(Trainable, x_gt=x_gt, x0=x0, y=y),\n",
    "    param_space=config,\n",
    "    resources=resources,\n",
    "    metric=\"psnr\",\n",
    "    mode=\"max\",\n",
    "    num_samples=100,  # perform 100 parameter evaluations\n",
    "    num_iterations=10,  # perform at most 10 steps for each parameter evaluation\n",
    ")\n",
    "results = tuner.fit()\n",
    "ray.shutdown()"
   ]
  },
  {
   "cell_type": "markdown",
   "id": "60a1704e",
   "metadata": {},
   "source": [
    "Display best parameters and corresponding performance."
   ]
  },
  {
   "cell_type": "code",
   "execution_count": 8,
   "id": "d60c4c44",
   "metadata": {
    "collapsed": false,
    "execution": {
     "iopub.execute_input": "2024-06-06T17:48:22.070937Z",
     "iopub.status.busy": "2024-06-06T17:48:22.070535Z",
     "iopub.status.idle": "2024-06-06T17:48:22.078999Z",
     "shell.execute_reply": "2024-06-06T17:48:22.077824Z"
    }
   },
   "outputs": [
    {
     "name": "stdout",
     "output_type": "stream",
     "text": [
      "Best PSNR: 40.04 dB\n",
      "Best config: lambda: 2.07e+01, rho: 1.25e+02\n"
     ]
    }
   ],
   "source": [
    "best_result = results.get_best_result()\n",
    "best_config = best_result.config\n",
    "print(f\"Best PSNR: {best_result.metrics['psnr']:.2f} dB\")\n",
    "print(\"Best config: \" + \", \".join([f\"{k}: {v:.2e}\" for k, v in best_config.items()]))"
   ]
  },
  {
   "cell_type": "markdown",
   "id": "367c4f16",
   "metadata": {},
   "source": [
    "Plot parameter values visited during parameter search. Marker sizes are\n",
    "proportional to number of iterations run at each parameter pair. The best\n",
    "point in the parameter space is indicated in red."
   ]
  },
  {
   "cell_type": "code",
   "execution_count": 9,
   "id": "ca51b304",
   "metadata": {
    "collapsed": false,
    "execution": {
     "iopub.execute_input": "2024-06-06T17:48:22.082700Z",
     "iopub.status.busy": "2024-06-06T17:48:22.082415Z",
     "iopub.status.idle": "2024-06-06T17:48:22.974975Z",
     "shell.execute_reply": "2024-06-06T17:48:22.973415Z"
    }
   },
   "outputs": [
    {
     "data": {
      "image/png": "[encoded data removed]",
      "text/plain": [
       "<Figure size 800x800 with 1 Axes>"
      ]
     },
     "metadata": {},
     "output_type": "display_data"
    }
   ],
   "source": [
    "fig = plot.figure(figsize=(8, 8))\n",
    "trials = results.get_dataframe()\n",
    "for t in trials.iloc:\n",
    "    n = t[\"training_iteration\"]\n",
    "    plot.plot(\n",
    "        t[\"config/lambda\"],\n",
    "        t[\"config/rho\"],\n",
    "        ptyp=\"loglog\",\n",
    "        lw=0,\n",
    "        ms=(0.5 + 1.5 * n),\n",
    "        marker=\"o\",\n",
    "        mfc=\"blue\",\n",
    "        mec=\"blue\",\n",
    "        fig=fig,\n",
    "    )\n",
    "plot.plot(\n",
    "    best_config[\"lambda\"],\n",
    "    best_config[\"rho\"],\n",
    "    ptyp=\"loglog\",\n",
    "    title=\"Parameter search sampling locations\\n(marker size proportional to number of iterations)\",\n",
    "    xlbl=r\"$\\rho$\",\n",
    "    ylbl=r\"$\\lambda$\",\n",
    "    lw=0,\n",
    "    ms=5.0,\n",
    "    marker=\"o\",\n",
    "    mfc=\"red\",\n",
    "    mec=\"red\",\n",
    "    fig=fig,\n",
    ")\n",
    "ax = fig.axes[0]\n",
    "ax.set_xlim([config[\"rho\"].lower, config[\"rho\"].upper])\n",
    "ax.set_ylim([config[\"lambda\"].lower, config[\"lambda\"].upper])\n",
    "fig.show()"
   ]
  },
  {
   "cell_type": "markdown",
   "id": "ada1283c",
   "metadata": {},
   "source": [
    "Plot parameter values visited during parameter search and corresponding\n",
    "reconstruction PSNRs.The best point in the parameter space is indicated\n",
    "in red."
   ]
  },
  {
   "cell_type": "code",
   "execution_count": 10,
   "id": "299b9e6b",
   "metadata": {
    "collapsed": false,
    "execution": {
     "iopub.execute_input": "2024-06-06T17:48:22.978280Z",
     "iopub.status.busy": "2024-06-06T17:48:22.977884Z",
     "iopub.status.idle": "2024-06-06T17:48:23.422925Z",
     "shell.execute_reply": "2024-06-06T17:48:23.421818Z"
    }
   },
   "outputs": [
    {
     "data": {
      "image/png": "[encoded data removed]",
      "text/plain": [
       "<Figure size 1000x800 with 2 Axes>"
      ]
     },
     "metadata": {},
     "output_type": "display_data"
    }
   ],
   "source": [
    "𝜌 = [t[\"config/rho\"] for t in trials.iloc]\n",
    "𝜆 = [t[\"config/lambda\"] for t in trials.iloc]\n",
    "psnr = [t[\"psnr\"] for t in trials.iloc]\n",
    "minpsnr = min(max(psnr), 20.0)\n",
    "𝜌, 𝜆, psnr = zip(*filter(lambda x: x[2] >= minpsnr, zip(𝜌, 𝜆, psnr)))\n",
    "fig, ax = plot.subplots(figsize=(10, 8))\n",
    "sc = ax.scatter(𝜌, 𝜆, c=psnr, cmap=plot.cm.plasma_r)\n",
    "fig.colorbar(sc)\n",
    "plot.plot(\n",
    "    best_config[\"lambda\"],\n",
    "    best_config[\"rho\"],\n",
    "    ptyp=\"loglog\",\n",
    "    lw=0,\n",
    "    ms=12.0,\n",
    "    marker=\"2\",\n",
    "    mfc=\"red\",\n",
    "    mec=\"red\",\n",
    "    fig=fig,\n",
    "    ax=ax,\n",
    ")\n",
    "ax.set_xscale(\"log\")\n",
    "ax.set_yscale(\"log\")\n",
    "ax.set_xlabel(r\"$\\rho$\")\n",
    "ax.set_ylabel(r\"$\\lambda$\")\n",
    "ax.set_title(\"PSNR at each sample location\\n(values below 20 dB omitted)\")\n",
    "fig.show()"
   ]
  }
 ],
 "metadata": {
  "language_info": {
   "codemirror_mode": {
    "name": "ipython",
    "version": 3
   },
   "file_extension": ".py",
   "mimetype": "text/x-python",
   "name": "python",
   "nbconvert_exporter": "python",
   "pygments_lexer": "ipython3",
   "version": "3.10.13"
  }
 },
 "nbformat": 4,
 "nbformat_minor": 5
}