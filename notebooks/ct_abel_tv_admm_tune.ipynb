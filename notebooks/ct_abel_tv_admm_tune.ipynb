{
 "cells": [
  {
   "cell_type": "markdown",
   "id": "2327c5e4",
   "metadata": {},
   "source": [
    "Parameter Tuning for TV-Regularized Abel Inversion\n",
    "==================================================\n",
    "\n",
    "This example demonstrates the use of\n",
    "[scico.ray.tune](../_autosummary/scico.ray.tune.rst) to tune\n",
    "parameters for the companion [example script](ct_abel_tv_admm.rst). The\n",
    "`ray.tune` class API is used in this example.\n",
    "\n",
    "This script is hard-coded to run on CPU only to avoid the large number of\n",
    "warnings that are emitted when GPU resources are requested but not\n",
    "available, and due to the difficulty of supressing these warnings in a\n",
    "way that does not force use of the CPU only. To enable GPU usage, comment\n",
    "out the `os.environ` statements near the beginning of the script, and\n",
    "change the value of the \"gpu\" entry in the `resources` dict from 0 to 1.\n",
    "Note that two environment variables are set to suppress the warnings\n",
    "because `JAX_PLATFORMS` was intended to replace `JAX_PLATFORM_NAME` but\n",
    "this change has yet to be correctly implemented\n",
    "(see [google/jax#6805](https://github.com/google/jax/issues/6805) and\n",
    "[google/jax#10272](https://github.com/google/jax/pull/10272)."
   ]
  },
  {
   "cell_type": "code",
   "execution_count": 1,
   "id": "2448e0fc",
   "metadata": {
    "collapsed": false,
    "execution": {
     "iopub.execute_input": "2023-04-27T17:53:13.517516Z",
     "iopub.status.busy": "2023-04-27T17:53:13.517009Z",
     "iopub.status.idle": "2023-04-27T17:53:18.708812Z",
     "shell.execute_reply": "2023-04-27T17:53:18.707897Z"
    }
   },
   "outputs": [],
   "source": [
    "# isort: off\n",
    "import os\n",
    "\n",
    "os.environ[\"JAX_PLATFORM_NAME\"] = \"cpu\"\n",
    "os.environ[\"JAX_PLATFORMS\"] = \"cpu\"\n",
    "\n",
    "import numpy as np\n",
    "\n",
    "\n",
    "import scico.numpy as snp\n",
    "from scico import functional, linop, loss, metric, plot\n",
    "from scico.examples import create_circular_phantom\n",
    "from scico.linop.abel import AbelTransform\n",
    "from scico.optimize.admm import ADMM, LinearSubproblemSolver\n",
    "from scico.ray import tune\n",
    "plot.config_notebook_plotting()"
   ]
  },
  {
   "cell_type": "markdown",
   "id": "4fc0465a",
   "metadata": {},
   "source": [
    "Create a ground truth image."
   ]
  },
  {
   "cell_type": "code",
   "execution_count": 2,
   "id": "c3410a93",
   "metadata": {
    "collapsed": false,
    "execution": {
     "iopub.execute_input": "2023-04-27T17:53:18.713751Z",
     "iopub.status.busy": "2023-04-27T17:53:18.713301Z",
     "iopub.status.idle": "2023-04-27T17:53:19.330490Z",
     "shell.execute_reply": "2023-04-27T17:53:19.329486Z"
    }
   },
   "outputs": [],
   "source": [
    "N = 256  # image size\n",
    "x_gt = create_circular_phantom((N, N), [0.4 * N, 0.2 * N, 0.1 * N], [1, 0, 0.5])"
   ]
  },
  {
   "cell_type": "markdown",
   "id": "a45c5c54",
   "metadata": {},
   "source": [
    "Set up the forward operator and create a test measurement."
   ]
  },
  {
   "cell_type": "code",
   "execution_count": 3,
   "id": "6ff8d1ba",
   "metadata": {
    "collapsed": false,
    "execution": {
     "iopub.execute_input": "2023-04-27T17:53:19.335836Z",
     "iopub.status.busy": "2023-04-27T17:53:19.335549Z",
     "iopub.status.idle": "2023-04-27T17:53:19.462225Z",
     "shell.execute_reply": "2023-04-27T17:53:19.461520Z"
    }
   },
   "outputs": [],
   "source": [
    "A = AbelTransform(x_gt.shape)\n",
    "y = A @ x_gt\n",
    "np.random.seed(12345)\n",
    "y = y + np.random.normal(size=y.shape).astype(np.float32)"
   ]
  },
  {
   "cell_type": "markdown",
   "id": "d68ec191",
   "metadata": {},
   "source": [
    "Compute inverse Abel transform solution for use as initial solution."
   ]
  },
  {
   "cell_type": "code",
   "execution_count": 4,
   "id": "40cbff80",
   "metadata": {
    "collapsed": false,
    "execution": {
     "iopub.execute_input": "2023-04-27T17:53:19.467146Z",
     "iopub.status.busy": "2023-04-27T17:53:19.466910Z",
     "iopub.status.idle": "2023-04-27T17:53:19.622043Z",
     "shell.execute_reply": "2023-04-27T17:53:19.621218Z"
    }
   },
   "outputs": [],
   "source": [
    "x_inv = A.inverse(y)\n",
    "x0 = snp.clip(x_inv, 0.0, 1.0)"
   ]
  },
  {
   "cell_type": "markdown",
   "id": "03d55cdc",
   "metadata": {},
   "source": [
    "Define performance evaluation class."
   ]
  },
  {
   "cell_type": "code",
   "execution_count": 5,
   "id": "04c08356",
   "metadata": {
    "collapsed": false,
    "execution": {
     "iopub.execute_input": "2023-04-27T17:53:19.627078Z",
     "iopub.status.busy": "2023-04-27T17:53:19.626871Z",
     "iopub.status.idle": "2023-04-27T17:53:19.636639Z",
     "shell.execute_reply": "2023-04-27T17:53:19.635854Z"
    }
   },
   "outputs": [],
   "source": [
    "class Trainable(tune.Trainable):\n",
    "    \"\"\"Parameter evaluation class.\"\"\"\n",
    "\n",
    "    def setup(self, config, x_gt, x0, y):\n",
    "        \"\"\"This method initializes a new parameter evaluation object. It\n",
    "        is called once when a new parameter evaluation object is created.\n",
    "        The `config` parameter is a dict of specific parameters for\n",
    "        evaluation of a single parameter set (a pair of parameters in\n",
    "        this case). The remaining parameters are objects that are passed\n",
    "        to the evaluation function via the ray object store.\n",
    "        \"\"\"\n",
    "        # Get arrays passed by tune call.\n",
    "        self.x_gt, self.x0, self.y = snp.array(x_gt), snp.array(x0), snp.array(y)\n",
    "        # Set up problem to be solved.\n",
    "        self.A = AbelTransform(self.x_gt.shape)\n",
    "        self.f = loss.SquaredL2Loss(y=self.y, A=self.A)\n",
    "        self.C = linop.FiniteDifference(input_shape=self.x_gt.shape)\n",
    "        self.reset_config(config)\n",
    "\n",
    "    def reset_config(self, config):\n",
    "        \"\"\"This method is only required when `scico.ray.tune.Tuner` is\n",
    "        initialized with `reuse_actors` set to ``True`` (the default). In\n",
    "        this case, a set of parameter evaluation processes and\n",
    "        corresponding objects are created once (including initialization\n",
    "        via a call to the `setup` method), and this method is called when\n",
    "        switching to evaluation of a different parameter configuration.\n",
    "        If `reuse_actors` is set to ``False``, then a new process and\n",
    "        object are created for each parameter configuration, and this\n",
    "        method is not used.\n",
    "        \"\"\"\n",
    "        # Extract solver parameters from config dict.\n",
    "        λ, ρ = config[\"lambda\"], config[\"rho\"]\n",
    "        # Set up parameter-dependent functional.\n",
    "        g = λ * functional.L1Norm()\n",
    "        # Define solver.\n",
    "        cg_tol = 1e-4\n",
    "        cg_maxiter = 25\n",
    "        self.solver = ADMM(\n",
    "            f=self.f,\n",
    "            g_list=[g],\n",
    "            C_list=[self.C],\n",
    "            rho_list=[ρ],\n",
    "            x0=self.x0,\n",
    "            maxiter=10,\n",
    "            subproblem_solver=LinearSubproblemSolver(\n",
    "                cg_kwargs={\"tol\": cg_tol, \"maxiter\": cg_maxiter}\n",
    "            ),\n",
    "        )\n",
    "        return True\n",
    "\n",
    "    def step(self):\n",
    "        \"\"\"This method is called for each step in the evaluation of a\n",
    "        single parameter configuration. The maximum number of times it\n",
    "        can be called is controlled by the `num_iterations` parameter\n",
    "        in the initialization of a `scico.ray.tune.Tuner` object.\n",
    "        \"\"\"\n",
    "        # Perform 10 solver steps for every ray.tune step\n",
    "        x_tv = snp.clip(self.solver.solve(), 0.0, 1.0)\n",
    "        return {\"psnr\": float(metric.psnr(self.x_gt, x_tv))}"
   ]
  },
  {
   "cell_type": "markdown",
   "id": "cd7053fb",
   "metadata": {},
   "source": [
    "Define parameter search space and resources per trial."
   ]
  },
  {
   "cell_type": "code",
   "execution_count": 6,
   "id": "678bf5b3",
   "metadata": {
    "collapsed": false,
    "execution": {
     "iopub.execute_input": "2023-04-27T17:53:19.640194Z",
     "iopub.status.busy": "2023-04-27T17:53:19.639872Z",
     "iopub.status.idle": "2023-04-27T17:53:19.643905Z",
     "shell.execute_reply": "2023-04-27T17:53:19.643205Z"
    }
   },
   "outputs": [],
   "source": [
    "config = {\"lambda\": tune.loguniform(1e0, 1e2), \"rho\": tune.loguniform(1e1, 1e3)}\n",
    "resources = {\"gpu\": 0, \"cpu\": 1}  # gpus per trial, cpus per trial"
   ]
  },
  {
   "cell_type": "markdown",
   "id": "9b27139c",
   "metadata": {},
   "source": [
    "Run parameter search."
   ]
  },
  {
   "cell_type": "code",
   "execution_count": 7,
   "id": "1b3be8a3",
   "metadata": {
    "collapsed": false,
    "execution": {
     "iopub.execute_input": "2023-04-27T17:53:19.646815Z",
     "iopub.status.busy": "2023-04-27T17:53:19.646571Z",
     "iopub.status.idle": "2023-04-27T17:56:39.581374Z",
     "shell.execute_reply": "2023-04-27T17:56:39.579871Z"
    }
   },
   "outputs": [
    {
     "name": "stdout",
     "output_type": "stream",
     "text": [
      "P:   0 R:   1 T:   0 \r"
     ]
    },
    {
     "name": "stdout",
     "output_type": "stream",
     "text": [
      "P:   0 R:   2 T:   0 \r",
      "P:   1 R:   2 T:   0  psnr: 3.51e+01 at lambda: 7.52e+00, rho: 3.92e+01\r"
     ]
    },
    {
     "name": "stdout",
     "output_type": "stream",
     "text": [
      "P:   0 R:   3 T:   0  psnr: 3.51e+01 at lambda: 7.52e+00, rho: 3.92e+01\r",
      "P:   1 R:   3 T:   0  psnr: 3.70e+01 at lambda: 7.52e+00, rho: 3.92e+01\r"
     ]
    },
    {
     "name": "stdout",
     "output_type": "stream",
     "text": [
      "P:   0 R:   4 T:   0  psnr: 3.70e+01 at lambda: 7.52e+00, rho: 3.92e+01\r",
      "P:   1 R:   4 T:   0  psnr: 3.77e+01 at lambda: 7.52e+00, rho: 3.92e+01\r"
     ]
    },
    {
     "name": "stdout",
     "output_type": "stream",
     "text": [
      "P:   0 R:   5 T:   0  psnr: 3.77e+01 at lambda: 7.52e+00, rho: 3.92e+01\r",
      "P:   1 R:   5 T:   0  psnr: 3.79e+01 at lambda: 7.52e+00, rho: 3.92e+01\r"
     ]
    },
    {
     "name": "stdout",
     "output_type": "stream",
     "text": [
      "P:   0 R:   6 T:   0  psnr: 3.79e+01 at lambda: 7.52e+00, rho: 3.92e+01\r",
      "P:   1 R:   5 T:   1  psnr: 3.79e+01 at lambda: 7.52e+00, rho: 3.92e+01\r",
      "P:   0 R:   6 T:   1  psnr: 3.79e+01 at lambda: 7.52e+00, rho: 3.92e+01\r",
      "P:   1 R:   5 T:   2  psnr: 3.79e+01 at lambda: 7.52e+00, rho: 3.92e+01\r",
      "P:   0 R:   6 T:   2  psnr: 3.79e+01 at lambda: 7.52e+00, rho: 3.92e+01\r",
      "P:   1 R:   6 T:   2  psnr: 3.77e+01 at lambda: 7.52e+00, rho: 3.92e+01\r"
     ]
    },
    {
     "name": "stdout",
     "output_type": "stream",
     "text": [
      "P:   0 R:   7 T:   2  psnr: 3.77e+01 at lambda: 7.52e+00, rho: 3.92e+01\r",
      "P:   1 R:   6 T:   3  psnr: 3.77e+01 at lambda: 7.52e+00, rho: 3.92e+01\r",
      "P:   0 R:   7 T:   3  psnr: 3.77e+01 at lambda: 7.52e+00, rho: 3.92e+01\r",
      "P:   1 R:   7 T:   3  psnr: 3.77e+01 at lambda: 7.52e+00, rho: 3.92e+01\r"
     ]
    },
    {
     "name": "stdout",
     "output_type": "stream",
     "text": [
      "P:   0 R:   8 T:   3  psnr: 3.77e+01 at lambda: 7.52e+00, rho: 3.92e+01\r",
      "P:   1 R:   7 T:   4  psnr: 3.77e+01 at lambda: 7.52e+00, rho: 3.92e+01\r",
      "P:   0 R:   8 T:   4  psnr: 3.77e+01 at lambda: 7.52e+00, rho: 3.92e+01\r",
      "P:   1 R:   7 T:   5  psnr: 3.77e+01 at lambda: 7.52e+00, rho: 3.92e+01\r",
      "P:   0 R:   8 T:   5  psnr: 3.77e+01 at lambda: 7.52e+00, rho: 3.92e+01\r",
      "P:   1 R:   8 T:   5  psnr: 3.79e+01 at lambda: 7.52e+00, rho: 3.92e+01\r"
     ]
    },
    {
     "name": "stdout",
     "output_type": "stream",
     "text": [
      "P:   0 R:   9 T:   5  psnr: 3.79e+01 at lambda: 7.52e+00, rho: 3.92e+01\r",
      "P:   1 R:   9 T:   5  psnr: 3.79e+01 at lambda: 7.52e+00, rho: 3.92e+01\r"
     ]
    },
    {
     "name": "stdout",
     "output_type": "stream",
     "text": [
      "P:   0 R:  10 T:   5  psnr: 3.79e+01 at lambda: 7.52e+00, rho: 3.92e+01\r",
      "P:   1 R:   9 T:   6  psnr: 3.79e+01 at lambda: 7.52e+00, rho: 3.92e+01\r",
      "P:   0 R:  10 T:   6  psnr: 3.79e+01 at lambda: 7.52e+00, rho: 3.92e+01\r",
      "P:   1 R:   9 T:   7  psnr: 3.79e+01 at lambda: 7.52e+00, rho: 3.92e+01\r",
      "P:   0 R:  10 T:   7  psnr: 3.79e+01 at lambda: 7.52e+00, rho: 3.92e+01\r",
      "P:   1 R:  10 T:   7  psnr: 3.79e+01 at lambda: 7.52e+00, rho: 3.92e+01\r",
      "P:   1 R:   9 T:   8  psnr: 3.79e+01 at lambda: 7.52e+00, rho: 3.92e+01\r",
      "P:   0 R:  10 T:   8  psnr: 3.79e+01 at lambda: 7.52e+00, rho: 3.92e+01\r",
      "P:   1 R:   9 T:   9  psnr: 3.79e+01 at lambda: 7.52e+00, rho: 3.92e+01\r",
      "P:   0 R:  10 T:   9  psnr: 3.79e+01 at lambda: 7.52e+00, rho: 3.92e+01\r",
      "P:   1 R:  10 T:   9  psnr: 3.80e+01 at lambda: 7.52e+00, rho: 3.92e+01\r"
     ]
    },
    {
     "name": "stdout",
     "output_type": "stream",
     "text": [
      "P:   0 R:  11 T:   9  psnr: 3.80e+01 at lambda: 7.52e+00, rho: 3.92e+01\r",
      "P:   1 R:  11 T:   9  psnr: 3.80e+01 at lambda: 7.52e+00, rho: 3.92e+01\r"
     ]
    },
    {
     "name": "stdout",
     "output_type": "stream",
     "text": [
      "P:   0 R:  12 T:   9  psnr: 3.80e+01 at lambda: 7.52e+00, rho: 3.92e+01\r",
      "P:   1 R:  12 T:   9  psnr: 3.81e+01 at lambda: 2.75e+01, rho: 6.09e+01\r"
     ]
    },
    {
     "name": "stdout",
     "output_type": "stream",
     "text": [
      "P:   0 R:  13 T:   9  psnr: 3.81e+01 at lambda: 2.75e+01, rho: 6.09e+01\r",
      "P:   1 R:  12 T:  10  psnr: 3.81e+01 at lambda: 2.75e+01, rho: 6.09e+01\r",
      "P:   0 R:  13 T:  10  psnr: 3.81e+01 at lambda: 2.75e+01, rho: 6.09e+01\r",
      "P:   1 R:  13 T:  10  psnr: 3.81e+01 at lambda: 2.75e+01, rho: 6.09e+01\r"
     ]
    },
    {
     "name": "stdout",
     "output_type": "stream",
     "text": [
      "P:   0 R:  14 T:  10  psnr: 3.81e+01 at lambda: 2.75e+01, rho: 6.09e+01\r",
      "P:   1 R:  13 T:  11  psnr: 3.81e+01 at lambda: 2.75e+01, rho: 6.09e+01\r",
      "P:   0 R:  14 T:  11  psnr: 3.81e+01 at lambda: 2.75e+01, rho: 6.09e+01\r",
      "P:   1 R:  14 T:  11  psnr: 3.81e+01 at lambda: 2.75e+01, rho: 6.09e+01\r"
     ]
    },
    {
     "name": "stdout",
     "output_type": "stream",
     "text": [
      "P:   0 R:  15 T:  11  psnr: 3.81e+01 at lambda: 2.75e+01, rho: 6.09e+01\r",
      "P:   1 R:  15 T:  11  psnr: 3.81e+01 at lambda: 2.75e+01, rho: 6.09e+01\r"
     ]
    },
    {
     "name": "stdout",
     "output_type": "stream",
     "text": [
      "P:   0 R:  16 T:  11  psnr: 3.81e+01 at lambda: 2.75e+01, rho: 6.09e+01\r",
      "P:   1 R:  16 T:  11  psnr: 3.82e+01 at lambda: 2.36e+01, rho: 2.98e+01\r"
     ]
    },
    {
     "name": "stdout",
     "output_type": "stream",
     "text": [
      "P:   0 R:  17 T:  11  psnr: 3.82e+01 at lambda: 2.36e+01, rho: 2.98e+01\r",
      "P:   1 R:  16 T:  12  psnr: 3.82e+01 at lambda: 2.36e+01, rho: 2.98e+01\r",
      "P:   0 R:  17 T:  12  psnr: 3.82e+01 at lambda: 2.36e+01, rho: 2.98e+01\r",
      "P:   1 R:  16 T:  13  psnr: 3.82e+01 at lambda: 2.36e+01, rho: 2.98e+01\r",
      "P:   0 R:  17 T:  13  psnr: 3.82e+01 at lambda: 2.36e+01, rho: 2.98e+01\r",
      "P:   1 R:  16 T:  14  psnr: 3.82e+01 at lambda: 2.36e+01, rho: 2.98e+01\r",
      "P:   0 R:  17 T:  14  psnr: 3.82e+01 at lambda: 2.36e+01, rho: 2.98e+01\r",
      "P:   1 R:  17 T:  14  psnr: 3.82e+01 at lambda: 2.36e+01, rho: 2.98e+01\r"
     ]
    },
    {
     "name": "stdout",
     "output_type": "stream",
     "text": [
      "P:   0 R:  18 T:  14  psnr: 3.82e+01 at lambda: 2.36e+01, rho: 2.98e+01\r",
      "P:   1 R:  18 T:  14  psnr: 3.82e+01 at lambda: 2.36e+01, rho: 2.98e+01\r"
     ]
    },
    {
     "name": "stdout",
     "output_type": "stream",
     "text": [
      "P:   0 R:  19 T:  14  psnr: 3.82e+01 at lambda: 2.36e+01, rho: 2.98e+01\r",
      "P:   1 R:  18 T:  15  psnr: 3.82e+01 at lambda: 2.36e+01, rho: 2.98e+01\r",
      "P:   0 R:  19 T:  15  psnr: 3.82e+01 at lambda: 2.36e+01, rho: 2.98e+01\r",
      "P:   1 R:  18 T:  16  psnr: 3.82e+01 at lambda: 2.36e+01, rho: 2.98e+01\r",
      "P:   0 R:  19 T:  16  psnr: 3.82e+01 at lambda: 2.36e+01, rho: 2.98e+01\r",
      "P:   1 R:  19 T:  16  psnr: 3.82e+01 at lambda: 2.36e+01, rho: 2.98e+01\r"
     ]
    },
    {
     "name": "stdout",
     "output_type": "stream",
     "text": [
      "P:   0 R:  20 T:  16  psnr: 3.82e+01 at lambda: 2.36e+01, rho: 2.98e+01\r",
      "P:   1 R:  20 T:  16  psnr: 3.82e+01 at lambda: 2.36e+01, rho: 2.98e+01\r"
     ]
    },
    {
     "name": "stdout",
     "output_type": "stream",
     "text": [
      "P:   0 R:  21 T:  16  psnr: 3.82e+01 at lambda: 2.36e+01, rho: 2.98e+01\r",
      "P:   1 R:  20 T:  17  psnr: 3.82e+01 at lambda: 2.36e+01, rho: 2.98e+01\r",
      "P:   0 R:  21 T:  17  psnr: 3.82e+01 at lambda: 2.36e+01, rho: 2.98e+01\r",
      "P:   1 R:  21 T:  17  psnr: 3.82e+01 at lambda: 2.36e+01, rho: 2.98e+01\r"
     ]
    },
    {
     "name": "stdout",
     "output_type": "stream",
     "text": [
      "P:   0 R:  22 T:  17  psnr: 3.82e+01 at lambda: 2.36e+01, rho: 2.98e+01\r",
      "P:   1 R:  22 T:  17  psnr: 3.82e+01 at lambda: 2.36e+01, rho: 2.98e+01\r"
     ]
    },
    {
     "name": "stdout",
     "output_type": "stream",
     "text": [
      "P:   0 R:  23 T:  17  psnr: 3.82e+01 at lambda: 2.36e+01, rho: 2.98e+01\r",
      "P:   1 R:  23 T:  17  psnr: 3.87e+01 at lambda: 2.75e+01, rho: 6.09e+01\r"
     ]
    },
    {
     "name": "stdout",
     "output_type": "stream",
     "text": [
      "P:   0 R:  24 T:  17  psnr: 3.87e+01 at lambda: 2.75e+01, rho: 6.09e+01\r",
      "P:   1 R:  24 T:  17  psnr: 3.87e+01 at lambda: 2.75e+01, rho: 6.09e+01\r"
     ]
    },
    {
     "name": "stdout",
     "output_type": "stream",
     "text": [
      "P:   0 R:  25 T:  17  psnr: 3.87e+01 at lambda: 2.75e+01, rho: 6.09e+01\r",
      "P:   1 R:  25 T:  17  psnr: 3.91e+01 at lambda: 2.36e+01, rho: 2.98e+01\r"
     ]
    },
    {
     "name": "stdout",
     "output_type": "stream",
     "text": [
      "P:   0 R:  26 T:  17  psnr: 3.91e+01 at lambda: 2.36e+01, rho: 2.98e+01\r",
      "P:   1 R:  26 T:  17  psnr: 3.91e+01 at lambda: 2.36e+01, rho: 2.98e+01\r"
     ]
    },
    {
     "name": "stdout",
     "output_type": "stream",
     "text": [
      "P:   0 R:  27 T:  17  psnr: 3.91e+01 at lambda: 2.36e+01, rho: 2.98e+01\r",
      "P:   1 R:  26 T:  18  psnr: 3.91e+01 at lambda: 2.36e+01, rho: 2.98e+01\r",
      "P:   0 R:  27 T:  18  psnr: 3.91e+01 at lambda: 2.36e+01, rho: 2.98e+01\r",
      "P:   1 R:  26 T:  19  psnr: 3.91e+01 at lambda: 2.36e+01, rho: 2.98e+01\r",
      "P:   0 R:  27 T:  19  psnr: 3.91e+01 at lambda: 2.36e+01, rho: 2.98e+01\r",
      "P:   1 R:  26 T:  20  psnr: 3.91e+01 at lambda: 2.36e+01, rho: 2.98e+01\r",
      "P:   0 R:  27 T:  20  psnr: 3.91e+01 at lambda: 2.36e+01, rho: 2.98e+01\r",
      "P:   1 R:  26 T:  21  psnr: 3.91e+01 at lambda: 2.36e+01, rho: 2.98e+01\r",
      "P:   0 R:  27 T:  21  psnr: 3.91e+01 at lambda: 2.36e+01, rho: 2.98e+01\r",
      "P:   1 R:  27 T:  21  psnr: 3.91e+01 at lambda: 2.36e+01, rho: 2.98e+01\r"
     ]
    },
    {
     "name": "stdout",
     "output_type": "stream",
     "text": [
      "P:   0 R:  28 T:  21  psnr: 3.91e+01 at lambda: 2.36e+01, rho: 2.98e+01\r",
      "P:   1 R:  28 T:  21  psnr: 3.91e+01 at lambda: 2.36e+01, rho: 2.98e+01\r"
     ]
    },
    {
     "name": "stdout",
     "output_type": "stream",
     "text": [
      "P:   0 R:  29 T:  21  psnr: 3.91e+01 at lambda: 2.36e+01, rho: 2.98e+01\r",
      "P:   1 R:  28 T:  22  psnr: 3.91e+01 at lambda: 2.36e+01, rho: 2.98e+01\r",
      "P:   0 R:  29 T:  22  psnr: 3.91e+01 at lambda: 2.36e+01, rho: 2.98e+01\r",
      "P:   1 R:  29 T:  22  psnr: 3.91e+01 at lambda: 2.36e+01, rho: 2.98e+01\r"
     ]
    },
    {
     "name": "stdout",
     "output_type": "stream",
     "text": [
      "P:   0 R:  30 T:  22  psnr: 3.91e+01 at lambda: 2.36e+01, rho: 2.98e+01\r",
      "P:   1 R:  29 T:  23  psnr: 3.91e+01 at lambda: 2.36e+01, rho: 2.98e+01\r",
      "P:   0 R:  30 T:  23  psnr: 3.91e+01 at lambda: 2.36e+01, rho: 2.98e+01\r",
      "P:   1 R:  30 T:  23  psnr: 3.91e+01 at lambda: 2.36e+01, rho: 2.98e+01\r"
     ]
    },
    {
     "name": "stdout",
     "output_type": "stream",
     "text": [
      "P:   0 R:  31 T:  23  psnr: 3.91e+01 at lambda: 2.36e+01, rho: 2.98e+01\r",
      "P:   1 R:  30 T:  24  psnr: 3.91e+01 at lambda: 2.36e+01, rho: 2.98e+01\r",
      "P:   0 R:  31 T:  24  psnr: 3.91e+01 at lambda: 2.36e+01, rho: 2.98e+01\r",
      "P:   1 R:  30 T:  25  psnr: 3.91e+01 at lambda: 2.36e+01, rho: 2.98e+01\r",
      "P:   0 R:  31 T:  25  psnr: 3.91e+01 at lambda: 2.36e+01, rho: 2.98e+01\r",
      "P:   1 R:  31 T:  25  psnr: 3.91e+01 at lambda: 2.36e+01, rho: 2.98e+01\r"
     ]
    },
    {
     "name": "stdout",
     "output_type": "stream",
     "text": [
      "P:   0 R:  32 T:  25  psnr: 3.91e+01 at lambda: 2.36e+01, rho: 2.98e+01\r",
      "P:   1 R:  32 T:  25  psnr: 3.91e+01 at lambda: 2.36e+01, rho: 2.98e+01\r",
      "P:   1 R:  31 T:  26  psnr: 3.91e+01 at lambda: 2.36e+01, rho: 2.98e+01\r",
      "P:   0 R:  32 T:  26  psnr: 3.91e+01 at lambda: 2.36e+01, rho: 2.98e+01\r",
      "P:   1 R:  31 T:  27  psnr: 3.91e+01 at lambda: 2.36e+01, rho: 2.98e+01\r",
      "P:   0 R:  32 T:  27  psnr: 3.91e+01 at lambda: 2.36e+01, rho: 2.98e+01\r",
      "P:   1 R:  32 T:  27  psnr: 3.91e+01 at lambda: 2.36e+01, rho: 2.98e+01\r",
      "P:   1 R:  31 T:  28  psnr: 3.91e+01 at lambda: 2.36e+01, rho: 2.98e+01\r",
      "P:   0 R:  32 T:  28  psnr: 3.91e+01 at lambda: 2.36e+01, rho: 2.98e+01\r",
      "P:   1 R:  32 T:  28  psnr: 3.93e+01 at lambda: 2.36e+01, rho: 2.98e+01\r",
      "P:   1 R:  32 T:  28  psnr: 3.93e+01 at lambda: 2.36e+01, rho: 2.98e+01\r",
      "P:   1 R:  31 T:  29  psnr: 3.93e+01 at lambda: 2.36e+01, rho: 2.98e+01\r",
      "P:   0 R:  32 T:  29  psnr: 3.93e+01 at lambda: 2.36e+01, rho: 2.98e+01\r"
     ]
    },
    {
     "name": "stdout",
     "output_type": "stream",
     "text": [
      "P:   1 R:  31 T:  30  psnr: 3.93e+01 at lambda: 2.36e+01, rho: 2.98e+01\r",
      "P:   0 R:  32 T:  30  psnr: 3.93e+01 at lambda: 2.36e+01, rho: 2.98e+01\r",
      "P:   1 R:  32 T:  30  psnr: 3.93e+01 at lambda: 2.36e+01, rho: 2.98e+01\r",
      "P:   1 R:  32 T:  30  psnr: 3.93e+01 at lambda: 2.36e+01, rho: 2.98e+01\r",
      "P:   1 R:  32 T:  30  psnr: 3.93e+01 at lambda: 2.36e+01, rho: 2.98e+01\r",
      "P:   1 R:  31 T:  31  psnr: 3.93e+01 at lambda: 2.36e+01, rho: 2.98e+01\r",
      "P:   0 R:  32 T:  31  psnr: 3.93e+01 at lambda: 2.36e+01, rho: 2.98e+01\r",
      "P:   1 R:  31 T:  32  psnr: 3.93e+01 at lambda: 2.36e+01, rho: 2.98e+01\r",
      "P:   0 R:  32 T:  32  psnr: 3.93e+01 at lambda: 2.36e+01, rho: 2.98e+01\r",
      "P:   1 R:  31 T:  33  psnr: 3.93e+01 at lambda: 2.36e+01, rho: 2.98e+01\r",
      "P:   0 R:  32 T:  33  psnr: 3.93e+01 at lambda: 2.36e+01, rho: 2.98e+01\r",
      "P:   1 R:  32 T:  33  psnr: 3.93e+01 at lambda: 2.36e+01, rho: 2.98e+01\r",
      "P:   1 R:  32 T:  33  psnr: 3.93e+01 at lambda: 2.36e+01, rho: 2.98e+01\r",
      "P:   1 R:  32 T:  33  psnr: 3.93e+01 at lambda: 2.36e+01, rho: 2.98e+01\r",
      "P:   1 R:  32 T:  33  psnr: 3.95e+01 at lambda: 2.36e+01, rho: 2.98e+01\r",
      "P:   1 R:  32 T:  33  psnr: 3.95e+01 at lambda: 2.36e+01, rho: 2.98e+01\r"
     ]
    },
    {
     "name": "stdout",
     "output_type": "stream",
     "text": [
      "P:   1 R:  31 T:  34  psnr: 3.95e+01 at lambda: 2.36e+01, rho: 2.98e+01\r",
      "P:   0 R:  32 T:  34  psnr: 3.95e+01 at lambda: 2.36e+01, rho: 2.98e+01\r",
      "P:   1 R:  32 T:  34  psnr: 3.95e+01 at lambda: 2.36e+01, rho: 2.98e+01\r",
      "P:   1 R:  32 T:  34  psnr: 3.95e+01 at lambda: 2.36e+01, rho: 2.98e+01\r",
      "P:   1 R:  31 T:  35  psnr: 3.95e+01 at lambda: 2.36e+01, rho: 2.98e+01\r",
      "P:   0 R:  32 T:  35  psnr: 3.95e+01 at lambda: 2.36e+01, rho: 2.98e+01\r",
      "P:   1 R:  32 T:  35  psnr: 3.95e+01 at lambda: 2.36e+01, rho: 2.98e+01\r",
      "P:   1 R:  31 T:  36  psnr: 3.95e+01 at lambda: 2.36e+01, rho: 2.98e+01\r",
      "P:   0 R:  32 T:  36  psnr: 3.95e+01 at lambda: 2.36e+01, rho: 2.98e+01\r",
      "P:   1 R:  32 T:  36  psnr: 3.95e+01 at lambda: 2.36e+01, rho: 2.98e+01\r",
      "P:   1 R:  31 T:  37  psnr: 3.95e+01 at lambda: 2.36e+01, rho: 2.98e+01\r",
      "P:   0 R:  32 T:  37  psnr: 3.95e+01 at lambda: 2.36e+01, rho: 2.98e+01\r",
      "P:   1 R:  31 T:  38  psnr: 3.95e+01 at lambda: 2.36e+01, rho: 2.98e+01\r",
      "P:   0 R:  32 T:  38  psnr: 3.95e+01 at lambda: 2.36e+01, rho: 2.98e+01\r"
     ]
    },
    {
     "name": "stdout",
     "output_type": "stream",
     "text": [
      "P:   1 R:  32 T:  38  psnr: 3.95e+01 at lambda: 2.02e+01, rho: 7.13e+01\r",
      "P:   1 R:  31 T:  39  psnr: 3.95e+01 at lambda: 2.02e+01, rho: 7.13e+01\r",
      "P:   0 R:  32 T:  39  psnr: 3.95e+01 at lambda: 2.02e+01, rho: 7.13e+01\r",
      "P:   1 R:  32 T:  39  psnr: 3.95e+01 at lambda: 2.02e+01, rho: 7.13e+01\r",
      "P:   1 R:  31 T:  40  psnr: 3.95e+01 at lambda: 2.02e+01, rho: 7.13e+01\r",
      "P:   0 R:  32 T:  40  psnr: 3.95e+01 at lambda: 2.02e+01, rho: 7.13e+01\r",
      "P:   1 R:  32 T:  40  psnr: 3.95e+01 at lambda: 2.02e+01, rho: 7.13e+01\r",
      "P:   1 R:  32 T:  40  psnr: 3.96e+01 at lambda: 1.59e+01, rho: 2.01e+02\r",
      "P:   1 R:  31 T:  41  psnr: 3.96e+01 at lambda: 1.59e+01, rho: 2.01e+02\r",
      "P:   0 R:  32 T:  41  psnr: 3.96e+01 at lambda: 1.59e+01, rho: 2.01e+02\r",
      "P:   1 R:  32 T:  41  psnr: 3.96e+01 at lambda: 1.59e+01, rho: 2.01e+02\r",
      "P:   1 R:  32 T:  41  psnr: 3.96e+01 at lambda: 1.59e+01, rho: 2.01e+02\r",
      "P:   1 R:  32 T:  41  psnr: 3.96e+01 at lambda: 2.32e+01, rho: 3.23e+02\r",
      "P:   1 R:  32 T:  41  psnr: 3.96e+01 at lambda: 2.32e+01, rho: 3.23e+02\r",
      "P:   1 R:  31 T:  42  psnr: 3.96e+01 at lambda: 2.32e+01, rho: 3.23e+02\r"
     ]
    },
    {
     "name": "stdout",
     "output_type": "stream",
     "text": [
      "P:   0 R:  32 T:  42  psnr: 3.96e+01 at lambda: 2.32e+01, rho: 3.23e+02\r",
      "P:   1 R:  31 T:  43  psnr: 3.96e+01 at lambda: 2.32e+01, rho: 3.23e+02\r",
      "P:   0 R:  32 T:  43  psnr: 3.96e+01 at lambda: 2.32e+01, rho: 3.23e+02\r",
      "P:   1 R:  32 T:  43  psnr: 3.96e+01 at lambda: 2.32e+01, rho: 3.23e+02\r",
      "P:   1 R:  31 T:  44  psnr: 3.96e+01 at lambda: 2.32e+01, rho: 3.23e+02\r",
      "P:   0 R:  32 T:  44  psnr: 3.96e+01 at lambda: 2.32e+01, rho: 3.23e+02\r",
      "P:   1 R:  32 T:  44  psnr: 3.96e+01 at lambda: 2.32e+01, rho: 3.23e+02\r",
      "P:   1 R:  31 T:  45  psnr: 3.96e+01 at lambda: 2.32e+01, rho: 3.23e+02\r",
      "P:   0 R:  32 T:  45  psnr: 3.96e+01 at lambda: 2.32e+01, rho: 3.23e+02\r",
      "P:   1 R:  31 T:  46  psnr: 3.96e+01 at lambda: 2.32e+01, rho: 3.23e+02\r",
      "P:   0 R:  32 T:  46  psnr: 3.96e+01 at lambda: 2.32e+01, rho: 3.23e+02\r"
     ]
    },
    {
     "name": "stdout",
     "output_type": "stream",
     "text": [
      "P:   1 R:  31 T:  47  psnr: 3.96e+01 at lambda: 2.32e+01, rho: 3.23e+02\r",
      "P:   0 R:  32 T:  47  psnr: 3.96e+01 at lambda: 2.32e+01, rho: 3.23e+02\r",
      "P:   1 R:  32 T:  47  psnr: 3.96e+01 at lambda: 2.32e+01, rho: 3.23e+02\r",
      "P:   1 R:  31 T:  48  psnr: 3.96e+01 at lambda: 2.32e+01, rho: 3.23e+02\r",
      "P:   0 R:  32 T:  48  psnr: 3.96e+01 at lambda: 2.32e+01, rho: 3.23e+02\r",
      "P:   1 R:  31 T:  49  psnr: 3.96e+01 at lambda: 2.32e+01, rho: 3.23e+02\r",
      "P:   0 R:  32 T:  49  psnr: 3.96e+01 at lambda: 2.32e+01, rho: 3.23e+02\r",
      "P:   1 R:  32 T:  49  psnr: 3.97e+01 at lambda: 1.59e+01, rho: 2.01e+02\r",
      "P:   1 R:  31 T:  50  psnr: 3.97e+01 at lambda: 1.59e+01, rho: 2.01e+02\r",
      "P:   0 R:  32 T:  50  psnr: 3.97e+01 at lambda: 1.59e+01, rho: 2.01e+02\r",
      "P:   1 R:  31 T:  51  psnr: 3.97e+01 at lambda: 1.59e+01, rho: 2.01e+02\r",
      "P:   0 R:  32 T:  51  psnr: 3.97e+01 at lambda: 1.59e+01, rho: 2.01e+02\r",
      "P:   1 R:  32 T:  51  psnr: 3.97e+01 at lambda: 1.59e+01, rho: 2.01e+02\r"
     ]
    },
    {
     "name": "stdout",
     "output_type": "stream",
     "text": [
      "P:   1 R:  32 T:  51  psnr: 3.97e+01 at lambda: 1.59e+01, rho: 2.01e+02\r",
      "P:   1 R:  31 T:  52  psnr: 3.97e+01 at lambda: 1.59e+01, rho: 2.01e+02\r",
      "P:   0 R:  32 T:  52  psnr: 3.97e+01 at lambda: 1.59e+01, rho: 2.01e+02\r",
      "P:   1 R:  32 T:  52  psnr: 3.98e+01 at lambda: 2.02e+01, rho: 7.13e+01\r",
      "P:   1 R:  32 T:  52  psnr: 3.98e+01 at lambda: 2.02e+01, rho: 7.13e+01\r",
      "P:   1 R:  31 T:  53  psnr: 3.98e+01 at lambda: 2.02e+01, rho: 7.13e+01\r",
      "P:   0 R:  32 T:  53  psnr: 3.98e+01 at lambda: 2.02e+01, rho: 7.13e+01\r",
      "P:   1 R:  31 T:  54  psnr: 3.98e+01 at lambda: 2.02e+01, rho: 7.13e+01\r",
      "P:   0 R:  32 T:  54  psnr: 3.98e+01 at lambda: 2.02e+01, rho: 7.13e+01\r",
      "P:   1 R:  32 T:  54  psnr: 3.98e+01 at lambda: 2.02e+01, rho: 7.13e+01\r",
      "P:   1 R:  31 T:  55  psnr: 3.98e+01 at lambda: 2.02e+01, rho: 7.13e+01\r",
      "P:   0 R:  32 T:  55  psnr: 3.98e+01 at lambda: 2.02e+01, rho: 7.13e+01\r",
      "P:   1 R:  32 T:  55  psnr: 3.98e+01 at lambda: 1.59e+01, rho: 2.01e+02\r"
     ]
    },
    {
     "name": "stdout",
     "output_type": "stream",
     "text": [
      "P:   1 R:  31 T:  56  psnr: 3.98e+01 at lambda: 1.59e+01, rho: 2.01e+02\r",
      "P:   0 R:  32 T:  56  psnr: 3.98e+01 at lambda: 1.59e+01, rho: 2.01e+02\r",
      "P:   1 R:  31 T:  57  psnr: 3.98e+01 at lambda: 1.59e+01, rho: 2.01e+02\r",
      "P:   0 R:  32 T:  57  psnr: 3.98e+01 at lambda: 1.59e+01, rho: 2.01e+02\r",
      "P:   1 R:  31 T:  58  psnr: 3.98e+01 at lambda: 1.59e+01, rho: 2.01e+02\r",
      "P:   0 R:  32 T:  58  psnr: 3.98e+01 at lambda: 1.59e+01, rho: 2.01e+02\r",
      "P:   1 R:  32 T:  58  psnr: 3.98e+01 at lambda: 1.59e+01, rho: 2.01e+02\r",
      "P:   1 R:  32 T:  58  psnr: 3.98e+01 at lambda: 1.59e+01, rho: 2.01e+02\r",
      "P:   1 R:  31 T:  59  psnr: 3.98e+01 at lambda: 1.59e+01, rho: 2.01e+02\r",
      "P:   0 R:  32 T:  59  psnr: 3.98e+01 at lambda: 1.59e+01, rho: 2.01e+02\r",
      "P:   1 R:  32 T:  59  psnr: 3.98e+01 at lambda: 1.59e+01, rho: 2.01e+02\r",
      "P:   1 R:  31 T:  60  psnr: 3.98e+01 at lambda: 1.59e+01, rho: 2.01e+02\r",
      "P:   0 R:  32 T:  60  psnr: 3.98e+01 at lambda: 1.59e+01, rho: 2.01e+02\r"
     ]
    },
    {
     "name": "stdout",
     "output_type": "stream",
     "text": [
      "P:   1 R:  31 T:  61  psnr: 3.98e+01 at lambda: 1.59e+01, rho: 2.01e+02\r",
      "P:   0 R:  32 T:  61  psnr: 3.98e+01 at lambda: 1.59e+01, rho: 2.01e+02\r",
      "P:   1 R:  32 T:  61  psnr: 3.98e+01 at lambda: 1.59e+01, rho: 2.01e+02\r",
      "P:   1 R:  32 T:  61  psnr: 3.98e+01 at lambda: 1.59e+01, rho: 2.01e+02\r",
      "P:   1 R:  32 T:  61  psnr: 3.98e+01 at lambda: 1.59e+01, rho: 2.01e+02\r",
      "P:   1 R:  32 T:  61  psnr: 3.98e+01 at lambda: 1.59e+01, rho: 2.01e+02\r",
      "P:   1 R:  32 T:  61  psnr: 3.98e+01 at lambda: 1.59e+01, rho: 2.01e+02\r",
      "P:   1 R:  32 T:  61  psnr: 3.98e+01 at lambda: 1.59e+01, rho: 2.01e+02\r",
      "P:   1 R:  32 T:  61  psnr: 3.98e+01 at lambda: 1.59e+01, rho: 2.01e+02\r",
      "P:   1 R:  32 T:  61  psnr: 3.98e+01 at lambda: 1.59e+01, rho: 2.01e+02\r",
      "P:   1 R:  32 T:  61  psnr: 3.99e+01 at lambda: 2.02e+01, rho: 7.13e+01\r",
      "P:   1 R:  32 T:  61  psnr: 3.99e+01 at lambda: 2.02e+01, rho: 7.13e+01\r",
      "P:   1 R:  32 T:  61  psnr: 3.99e+01 at lambda: 2.02e+01, rho: 7.13e+01\r",
      "P:   1 R:  32 T:  61  psnr: 3.99e+01 at lambda: 2.02e+01, rho: 7.13e+01\r",
      "P:   1 R:  31 T:  62  psnr: 3.99e+01 at lambda: 2.02e+01, rho: 7.13e+01\r"
     ]
    },
    {
     "name": "stdout",
     "output_type": "stream",
     "text": [
      "P:   0 R:  32 T:  62  psnr: 3.99e+01 at lambda: 2.02e+01, rho: 7.13e+01\r",
      "P:   1 R:  32 T:  62  psnr: 3.99e+01 at lambda: 2.02e+01, rho: 7.13e+01\r",
      "P:   1 R:  32 T:  62  psnr: 3.99e+01 at lambda: 2.02e+01, rho: 7.13e+01\r",
      "P:   1 R:  32 T:  62  psnr: 3.99e+01 at lambda: 2.02e+01, rho: 7.13e+01\r",
      "P:   1 R:  32 T:  62  psnr: 3.99e+01 at lambda: 2.02e+01, rho: 7.13e+01\r",
      "P:   1 R:  31 T:  63  psnr: 3.99e+01 at lambda: 2.02e+01, rho: 7.13e+01\r",
      "P:   0 R:  32 T:  63  psnr: 3.99e+01 at lambda: 2.02e+01, rho: 7.13e+01\r",
      "P:   1 R:  32 T:  63  psnr: 3.99e+01 at lambda: 2.02e+01, rho: 7.13e+01\r",
      "P:   1 R:  32 T:  63  psnr: 3.99e+01 at lambda: 2.02e+01, rho: 7.13e+01\r",
      "P:   1 R:  32 T:  63  psnr: 3.99e+01 at lambda: 2.02e+01, rho: 7.13e+01\r",
      "P:   1 R:  31 T:  64  psnr: 3.99e+01 at lambda: 2.02e+01, rho: 7.13e+01\r"
     ]
    },
    {
     "name": "stdout",
     "output_type": "stream",
     "text": [
      "P:   0 R:  32 T:  64  psnr: 3.99e+01 at lambda: 2.02e+01, rho: 7.13e+01\r",
      "P:   1 R:  31 T:  65  psnr: 3.99e+01 at lambda: 2.02e+01, rho: 7.13e+01\r",
      "P:   0 R:  32 T:  65  psnr: 3.99e+01 at lambda: 2.02e+01, rho: 7.13e+01\r",
      "P:   1 R:  32 T:  65  psnr: 3.99e+01 at lambda: 2.02e+01, rho: 7.13e+01\r",
      "P:   1 R:  32 T:  65  psnr: 3.99e+01 at lambda: 2.02e+01, rho: 7.13e+01\r",
      "P:   1 R:  32 T:  65  psnr: 3.99e+01 at lambda: 2.02e+01, rho: 7.13e+01\r",
      "P:   1 R:  32 T:  65  psnr: 3.99e+01 at lambda: 2.02e+01, rho: 7.13e+01\r",
      "P:   1 R:  32 T:  65  psnr: 3.99e+01 at lambda: 2.02e+01, rho: 7.13e+01\r",
      "P:   1 R:  32 T:  65  psnr: 3.99e+01 at lambda: 2.02e+01, rho: 7.13e+01\r",
      "P:   1 R:  32 T:  65  psnr: 3.99e+01 at lambda: 2.02e+01, rho: 7.13e+01\r",
      "P:   1 R:  32 T:  65  psnr: 3.99e+01 at lambda: 2.02e+01, rho: 7.13e+01\r",
      "P:   1 R:  32 T:  65  psnr: 3.99e+01 at lambda: 2.02e+01, rho: 7.13e+01\r",
      "P:   1 R:  32 T:  65  psnr: 3.99e+01 at lambda: 2.02e+01, rho: 7.13e+01\r",
      "P:   1 R:  32 T:  65  psnr: 3.99e+01 at lambda: 2.02e+01, rho: 7.13e+01\r"
     ]
    },
    {
     "name": "stdout",
     "output_type": "stream",
     "text": [
      "P:   1 R:  32 T:  65  psnr: 3.99e+01 at lambda: 2.02e+01, rho: 7.13e+01\r",
      "P:   1 R:  32 T:  65  psnr: 3.99e+01 at lambda: 2.02e+01, rho: 7.13e+01\r",
      "P:   1 R:  31 T:  66  psnr: 3.99e+01 at lambda: 2.02e+01, rho: 7.13e+01\r",
      "P:   0 R:  32 T:  66  psnr: 3.99e+01 at lambda: 2.02e+01, rho: 7.13e+01\r",
      "P:   1 R:  32 T:  66  psnr: 3.99e+01 at lambda: 2.02e+01, rho: 7.13e+01\r",
      "P:   1 R:  31 T:  67  psnr: 3.99e+01 at lambda: 2.02e+01, rho: 7.13e+01\r",
      "P:   0 R:  32 T:  67  psnr: 3.99e+01 at lambda: 2.02e+01, rho: 7.13e+01\r",
      "P:   1 R:  32 T:  67  psnr: 3.99e+01 at lambda: 2.02e+01, rho: 7.13e+01\r",
      "P:   1 R:  32 T:  67  psnr: 3.99e+01 at lambda: 2.02e+01, rho: 7.13e+01\r",
      "P:   1 R:  31 T:  68  psnr: 3.99e+01 at lambda: 2.02e+01, rho: 7.13e+01\r"
     ]
    },
    {
     "name": "stdout",
     "output_type": "stream",
     "text": [
      "P:   0 R:  32 T:  68  psnr: 3.99e+01 at lambda: 2.02e+01, rho: 7.13e+01\r",
      "P:   0 R:  32 T:  68  psnr: 3.99e+01 at lambda: 2.02e+01, rho: 7.13e+01\r",
      "P:   0 R:  32 T:  68  psnr: 3.99e+01 at lambda: 2.02e+01, rho: 7.13e+01\r",
      "P:   0 R:  32 T:  68  psnr: 3.99e+01 at lambda: 2.02e+01, rho: 7.13e+01\r",
      "P:   0 R:  32 T:  68  psnr: 3.99e+01 at lambda: 2.02e+01, rho: 7.13e+01\r",
      "P:   0 R:  32 T:  68  psnr: 3.99e+01 at lambda: 2.02e+01, rho: 7.13e+01\r",
      "P:   0 R:  32 T:  68  psnr: 3.99e+01 at lambda: 2.02e+01, rho: 7.13e+01\r",
      "P:   0 R:  31 T:  69  psnr: 3.99e+01 at lambda: 2.02e+01, rho: 7.13e+01\r",
      "P:   0 R:  31 T:  69  psnr: 3.99e+01 at lambda: 2.02e+01, rho: 7.13e+01\r",
      "P:   0 R:  31 T:  69  psnr: 3.99e+01 at lambda: 2.02e+01, rho: 7.13e+01\r",
      "P:   0 R:  31 T:  69  psnr: 3.99e+01 at lambda: 2.02e+01, rho: 7.13e+01\r",
      "P:   0 R:  31 T:  69  psnr: 3.99e+01 at lambda: 2.02e+01, rho: 7.13e+01\r",
      "P:   0 R:  31 T:  69  psnr: 3.99e+01 at lambda: 2.02e+01, rho: 7.13e+01\r",
      "P:   0 R:  30 T:  70  psnr: 3.99e+01 at lambda: 2.02e+01, rho: 7.13e+01\r",
      "P:   0 R:  30 T:  70  psnr: 3.99e+01 at lambda: 2.02e+01, rho: 7.13e+01\r",
      "P:   0 R:  30 T:  70  psnr: 3.99e+01 at lambda: 2.02e+01, rho: 7.13e+01\r",
      "P:   0 R:  30 T:  70  psnr: 3.99e+01 at lambda: 2.02e+01, rho: 7.13e+01\r",
      "P:   0 R:  30 T:  70  psnr: 3.99e+01 at lambda: 2.02e+01, rho: 7.13e+01\r"
     ]
    },
    {
     "name": "stdout",
     "output_type": "stream",
     "text": [
      "P:   0 R:  29 T:  71  psnr: 3.99e+01 at lambda: 2.02e+01, rho: 7.13e+01\r",
      "P:   0 R:  28 T:  72  psnr: 3.99e+01 at lambda: 2.02e+01, rho: 7.13e+01\r",
      "P:   0 R:  28 T:  72  psnr: 3.99e+01 at lambda: 2.02e+01, rho: 7.13e+01\r",
      "P:   0 R:  28 T:  72  psnr: 3.99e+01 at lambda: 2.02e+01, rho: 7.13e+01\r",
      "P:   0 R:  28 T:  72  psnr: 3.99e+01 at lambda: 2.02e+01, rho: 7.13e+01\r",
      "P:   0 R:  27 T:  73  psnr: 3.99e+01 at lambda: 2.02e+01, rho: 7.13e+01\r",
      "P:   0 R:  27 T:  73  psnr: 3.99e+01 at lambda: 2.02e+01, rho: 7.13e+01\r",
      "P:   0 R:  26 T:  74  psnr: 3.99e+01 at lambda: 2.02e+01, rho: 7.13e+01\r"
     ]
    },
    {
     "name": "stdout",
     "output_type": "stream",
     "text": [
      "P:   0 R:  25 T:  75  psnr: 3.99e+01 at lambda: 2.02e+01, rho: 7.13e+01\r",
      "P:   0 R:  24 T:  76  psnr: 3.99e+01 at lambda: 2.02e+01, rho: 7.13e+01\r",
      "P:   0 R:  24 T:  76  psnr: 3.99e+01 at lambda: 2.02e+01, rho: 7.13e+01\r",
      "P:   0 R:  23 T:  77  psnr: 3.99e+01 at lambda: 2.02e+01, rho: 7.13e+01\r",
      "P:   0 R:  23 T:  77  psnr: 3.99e+01 at lambda: 2.02e+01, rho: 7.13e+01\r",
      "P:   0 R:  22 T:  78  psnr: 3.99e+01 at lambda: 2.02e+01, rho: 7.13e+01\r",
      "P:   0 R:  22 T:  78  psnr: 3.99e+01 at lambda: 2.02e+01, rho: 7.13e+01\r",
      "P:   0 R:  22 T:  78  psnr: 3.99e+01 at lambda: 2.02e+01, rho: 7.13e+01\r",
      "P:   0 R:  21 T:  79  psnr: 3.99e+01 at lambda: 2.02e+01, rho: 7.13e+01\r",
      "P:   0 R:  21 T:  79  psnr: 3.99e+01 at lambda: 2.02e+01, rho: 7.13e+01\r",
      "P:   0 R:  21 T:  79  psnr: 3.99e+01 at lambda: 2.02e+01, rho: 7.13e+01\r",
      "P:   0 R:  21 T:  79  psnr: 3.99e+01 at lambda: 2.02e+01, rho: 7.13e+01\r",
      "P:   0 R:  20 T:  80  psnr: 3.99e+01 at lambda: 2.02e+01, rho: 7.13e+01\r",
      "P:   0 R:  20 T:  80  psnr: 3.99e+01 at lambda: 2.02e+01, rho: 7.13e+01\r",
      "P:   0 R:  20 T:  80  psnr: 3.99e+01 at lambda: 2.02e+01, rho: 7.13e+01\r",
      "P:   0 R:  19 T:  81  psnr: 4.00e+01 at lambda: 2.02e+01, rho: 7.13e+01\r",
      "P:   0 R:  19 T:  81  psnr: 4.00e+01 at lambda: 2.02e+01, rho: 7.13e+01\r",
      "P:   0 R:  18 T:  82  psnr: 4.00e+01 at lambda: 2.02e+01, rho: 7.13e+01\r"
     ]
    },
    {
     "name": "stdout",
     "output_type": "stream",
     "text": [
      "P:   0 R:  17 T:  83  psnr: 4.00e+01 at lambda: 2.02e+01, rho: 7.13e+01\r",
      "P:   0 R:  16 T:  84  psnr: 4.00e+01 at lambda: 2.02e+01, rho: 7.13e+01\r",
      "P:   0 R:  16 T:  84  psnr: 4.00e+01 at lambda: 2.02e+01, rho: 7.13e+01\r",
      "P:   0 R:  16 T:  84  psnr: 4.00e+01 at lambda: 2.02e+01, rho: 7.13e+01\r",
      "P:   0 R:  16 T:  84  psnr: 4.00e+01 at lambda: 2.02e+01, rho: 7.13e+01\r",
      "P:   0 R:  15 T:  85  psnr: 4.00e+01 at lambda: 2.02e+01, rho: 7.13e+01\r",
      "P:   0 R:  15 T:  85  psnr: 4.00e+01 at lambda: 2.02e+01, rho: 7.13e+01\r",
      "P:   0 R:  15 T:  85  psnr: 4.00e+01 at lambda: 2.02e+01, rho: 7.13e+01\r",
      "P:   0 R:  15 T:  85  psnr: 4.00e+01 at lambda: 2.02e+01, rho: 7.13e+01\r",
      "P:   0 R:  14 T:  86  psnr: 4.00e+01 at lambda: 2.02e+01, rho: 7.13e+01\r",
      "P:   0 R:  14 T:  86  psnr: 4.00e+01 at lambda: 2.02e+01, rho: 7.13e+01\r",
      "P:   0 R:  14 T:  86  psnr: 4.00e+01 at lambda: 2.02e+01, rho: 7.13e+01\r",
      "P:   0 R:  14 T:  86  psnr: 4.00e+01 at lambda: 2.02e+01, rho: 7.13e+01\r",
      "P:   0 R:  13 T:  87  psnr: 4.00e+01 at lambda: 2.02e+01, rho: 7.13e+01\r",
      "P:   0 R:  13 T:  87  psnr: 4.00e+01 at lambda: 2.02e+01, rho: 7.13e+01\r",
      "P:   0 R:  13 T:  87  psnr: 4.00e+01 at lambda: 2.02e+01, rho: 7.13e+01\r"
     ]
    },
    {
     "name": "stdout",
     "output_type": "stream",
     "text": [
      "P:   0 R:  12 T:  88  psnr: 4.00e+01 at lambda: 2.02e+01, rho: 7.13e+01\r",
      "P:   0 R:  12 T:  88  psnr: 4.00e+01 at lambda: 2.02e+01, rho: 7.13e+01\r",
      "P:   0 R:  12 T:  88  psnr: 4.00e+01 at lambda: 2.02e+01, rho: 7.13e+01\r",
      "P:   0 R:  12 T:  88  psnr: 4.00e+01 at lambda: 2.02e+01, rho: 7.13e+01\r",
      "P:   0 R:  12 T:  88  psnr: 4.00e+01 at lambda: 2.02e+01, rho: 7.13e+01\r",
      "P:   0 R:  12 T:  88  psnr: 4.00e+01 at lambda: 2.02e+01, rho: 7.13e+01\r",
      "P:   0 R:  12 T:  88  psnr: 4.00e+01 at lambda: 2.02e+01, rho: 7.13e+01\r",
      "P:   0 R:  12 T:  88  psnr: 4.00e+01 at lambda: 2.02e+01, rho: 7.13e+01\r",
      "P:   0 R:  12 T:  88  psnr: 4.00e+01 at lambda: 2.02e+01, rho: 7.13e+01\r",
      "P:   0 R:  11 T:  89  psnr: 4.00e+01 at lambda: 2.02e+01, rho: 7.13e+01\r",
      "P:   0 R:  11 T:  89  psnr: 4.00e+01 at lambda: 2.02e+01, rho: 7.13e+01\r",
      "P:   0 R:  11 T:  89  psnr: 4.00e+01 at lambda: 2.02e+01, rho: 7.13e+01\r",
      "P:   0 R:  11 T:  89  psnr: 4.00e+01 at lambda: 2.02e+01, rho: 7.13e+01\r",
      "P:   0 R:  11 T:  89  psnr: 4.00e+01 at lambda: 2.02e+01, rho: 7.13e+01\r",
      "P:   0 R:  11 T:  89  psnr: 4.00e+01 at lambda: 2.02e+01, rho: 7.13e+01\r"
     ]
    },
    {
     "name": "stdout",
     "output_type": "stream",
     "text": [
      "P:   0 R:  11 T:  89  psnr: 4.00e+01 at lambda: 2.02e+01, rho: 7.13e+01\r",
      "P:   0 R:  11 T:  89  psnr: 4.00e+01 at lambda: 2.02e+01, rho: 7.13e+01\r",
      "P:   0 R:  10 T:  90  psnr: 4.00e+01 at lambda: 2.02e+01, rho: 7.13e+01\r",
      "P:   0 R:   9 T:  91  psnr: 4.00e+01 at lambda: 2.02e+01, rho: 7.13e+01\r",
      "P:   0 R:   9 T:  91  psnr: 4.00e+01 at lambda: 2.02e+01, rho: 7.13e+01\r",
      "P:   0 R:   9 T:  91  psnr: 4.00e+01 at lambda: 2.02e+01, rho: 7.13e+01\r",
      "P:   0 R:   9 T:  91  psnr: 4.00e+01 at lambda: 2.02e+01, rho: 7.13e+01\r",
      "P:   0 R:   9 T:  91  psnr: 4.00e+01 at lambda: 2.02e+01, rho: 7.13e+01\r",
      "P:   0 R:   9 T:  91  psnr: 4.00e+01 at lambda: 2.02e+01, rho: 7.13e+01\r",
      "P:   0 R:   9 T:  91  psnr: 4.00e+01 at lambda: 2.02e+01, rho: 7.13e+01\r",
      "P:   0 R:   8 T:  92  psnr: 4.00e+01 at lambda: 2.02e+01, rho: 7.13e+01\r",
      "P:   0 R:   7 T:  93  psnr: 4.00e+01 at lambda: 2.02e+01, rho: 7.13e+01\r",
      "P:   0 R:   7 T:  93  psnr: 4.00e+01 at lambda: 2.02e+01, rho: 7.13e+01\r",
      "P:   0 R:   7 T:  93  psnr: 4.00e+01 at lambda: 2.02e+01, rho: 7.13e+01\r",
      "P:   0 R:   7 T:  93  psnr: 4.00e+01 at lambda: 2.02e+01, rho: 7.13e+01\r"
     ]
    },
    {
     "name": "stdout",
     "output_type": "stream",
     "text": [
      "P:   0 R:   7 T:  93  psnr: 4.00e+01 at lambda: 2.02e+01, rho: 7.13e+01\r",
      "P:   0 R:   7 T:  93  psnr: 4.00e+01 at lambda: 2.02e+01, rho: 7.13e+01\r",
      "P:   0 R:   7 T:  93  psnr: 4.00e+01 at lambda: 2.02e+01, rho: 7.13e+01\r",
      "P:   0 R:   6 T:  94  psnr: 4.00e+01 at lambda: 2.02e+01, rho: 7.13e+01\r",
      "P:   0 R:   6 T:  94  psnr: 4.00e+01 at lambda: 2.02e+01, rho: 7.13e+01\r",
      "P:   0 R:   6 T:  94  psnr: 4.00e+01 at lambda: 2.02e+01, rho: 7.13e+01\r",
      "P:   0 R:   6 T:  94  psnr: 4.00e+01 at lambda: 2.02e+01, rho: 7.13e+01\r",
      "P:   0 R:   6 T:  94  psnr: 4.00e+01 at lambda: 2.02e+01, rho: 7.13e+01\r",
      "P:   0 R:   6 T:  94  psnr: 4.00e+01 at lambda: 2.02e+01, rho: 7.13e+01\r",
      "P:   0 R:   6 T:  94  psnr: 4.00e+01 at lambda: 2.02e+01, rho: 7.13e+01\r"
     ]
    },
    {
     "name": "stdout",
     "output_type": "stream",
     "text": [
      "P:   0 R:   5 T:  95  psnr: 4.00e+01 at lambda: 2.02e+01, rho: 7.13e+01\r",
      "P:   0 R:   5 T:  95  psnr: 4.00e+01 at lambda: 2.02e+01, rho: 7.13e+01\r",
      "P:   0 R:   5 T:  95  psnr: 4.00e+01 at lambda: 2.02e+01, rho: 7.13e+01\r",
      "P:   0 R:   5 T:  95  psnr: 4.00e+01 at lambda: 2.02e+01, rho: 7.13e+01\r",
      "P:   0 R:   5 T:  95  psnr: 4.00e+01 at lambda: 2.02e+01, rho: 7.13e+01\r",
      "P:   0 R:   5 T:  95  psnr: 4.00e+01 at lambda: 2.02e+01, rho: 7.13e+01\r",
      "P:   0 R:   4 T:  96  psnr: 4.00e+01 at lambda: 2.02e+01, rho: 7.13e+01\r",
      "P:   0 R:   4 T:  96  psnr: 4.00e+01 at lambda: 2.16e+01, rho: 5.85e+01\r",
      "P:   0 R:   4 T:  96  psnr: 4.00e+01 at lambda: 2.16e+01, rho: 5.85e+01\r",
      "P:   0 R:   4 T:  96  psnr: 4.00e+01 at lambda: 2.16e+01, rho: 5.85e+01\r"
     ]
    },
    {
     "name": "stdout",
     "output_type": "stream",
     "text": [
      "P:   0 R:   3 T:  97  psnr: 4.00e+01 at lambda: 2.16e+01, rho: 5.85e+01\r",
      "P:   0 R:   2 T:  98  psnr: 4.01e+01 at lambda: 2.16e+01, rho: 5.85e+01\r",
      "P:   0 R:   1 T:  99  psnr: 4.01e+01 at lambda: 2.16e+01, rho: 5.85e+01\r",
      "P:   0 R:   1 T:  99  psnr: 4.01e+01 at lambda: 2.16e+01, rho: 5.85e+01\r"
     ]
    },
    {
     "name": "stdout",
     "output_type": "stream",
     "text": [
      "P:   0 R:   1 T:  99  psnr: 4.01e+01 at lambda: 2.16e+01, rho: 5.85e+01\r",
      "P:   0 R:   0 T: 100  psnr: 4.01e+01 at lambda: 2.16e+01, rho: 5.85e+01\n"
     ]
    }
   ],
   "source": [
    "tuner = tune.Tuner(\n",
    "    tune.with_parameters(Trainable, x_gt=x_gt, x0=x0, y=y),\n",
    "    param_space=config,\n",
    "    resources=resources,\n",
    "    metric=\"psnr\",\n",
    "    mode=\"max\",\n",
    "    num_samples=100,  # perform 100 parameter evaluations\n",
    "    num_iterations=10,  # perform at most 10 steps for each parameter evaluation\n",
    ")\n",
    "results = tuner.fit()"
   ]
  },
  {
   "cell_type": "markdown",
   "id": "daec2043",
   "metadata": {},
   "source": [
    "Display best parameters and corresponding performance."
   ]
  },
  {
   "cell_type": "code",
   "execution_count": 8,
   "id": "cd601962",
   "metadata": {
    "collapsed": false,
    "execution": {
     "iopub.execute_input": "2023-04-27T17:56:39.587685Z",
     "iopub.status.busy": "2023-04-27T17:56:39.587390Z",
     "iopub.status.idle": "2023-04-27T17:56:39.593982Z",
     "shell.execute_reply": "2023-04-27T17:56:39.593141Z"
    }
   },
   "outputs": [
    {
     "name": "stdout",
     "output_type": "stream",
     "text": [
      "Best PSNR: 40.06 dB\n",
      "Best config: lambda: 2.16e+01, rho: 5.85e+01\n"
     ]
    }
   ],
   "source": [
    "best_result = results.get_best_result()\n",
    "best_config = best_result.config\n",
    "print(f\"Best PSNR: {best_result.metrics['psnr']:.2f} dB\")\n",
    "print(\"Best config: \" + \", \".join([f\"{k}: {v:.2e}\" for k, v in best_config.items()]))"
   ]
  },
  {
   "cell_type": "markdown",
   "id": "bd81d5e2",
   "metadata": {},
   "source": [
    "Plot parameter values visited during parameter search. Marker sizes are\n",
    "proportional to number of iterations run at each parameter pair. The best\n",
    "point in the parameter space is indicated in red."
   ]
  },
  {
   "cell_type": "code",
   "execution_count": 9,
   "id": "b6fa2f01",
   "metadata": {
    "collapsed": false,
    "execution": {
     "iopub.execute_input": "2023-04-27T17:56:39.598975Z",
     "iopub.status.busy": "2023-04-27T17:56:39.598728Z",
     "iopub.status.idle": "2023-04-27T17:56:40.755604Z",
     "shell.execute_reply": "2023-04-27T17:56:40.754577Z"
    }
   },
   "outputs": [
    {
     "data": {
      "image/png": "[encoded data removed]",
      "text/plain": [
       "<Figure size 800x800 with 1 Axes>"
      ]
     },
     "metadata": {},
     "output_type": "display_data"
    }
   ],
   "source": [
    "fig = plot.figure(figsize=(8, 8))\n",
    "trials = results.get_dataframe()\n",
    "for t in trials.iloc:\n",
    "    n = t[\"training_iteration\"]\n",
    "    plot.plot(\n",
    "        t[\"config/lambda\"],\n",
    "        t[\"config/rho\"],\n",
    "        ptyp=\"loglog\",\n",
    "        lw=0,\n",
    "        ms=(0.5 + 1.5 * n),\n",
    "        marker=\"o\",\n",
    "        mfc=\"blue\",\n",
    "        mec=\"blue\",\n",
    "        fig=fig,\n",
    "    )\n",
    "plot.plot(\n",
    "    best_config[\"lambda\"],\n",
    "    best_config[\"rho\"],\n",
    "    ptyp=\"loglog\",\n",
    "    title=\"Parameter search sampling locations\\n(marker size proportional to number of iterations)\",\n",
    "    xlbl=r\"$\\rho$\",\n",
    "    ylbl=r\"$\\lambda$\",\n",
    "    lw=0,\n",
    "    ms=5.0,\n",
    "    marker=\"o\",\n",
    "    mfc=\"red\",\n",
    "    mec=\"red\",\n",
    "    fig=fig,\n",
    ")\n",
    "ax = fig.axes[0]\n",
    "ax.set_xlim([config[\"rho\"].lower, config[\"rho\"].upper])\n",
    "ax.set_ylim([config[\"lambda\"].lower, config[\"lambda\"].upper])\n",
    "fig.show()"
   ]
  },
  {
   "cell_type": "markdown",
   "id": "92b03ebe",
   "metadata": {},
   "source": [
    "Plot parameter values visited during parameter search and corresponding\n",
    "reconstruction PSNRs.The best point in the parameter space is indicated\n",
    "in red."
   ]
  },
  {
   "cell_type": "code",
   "execution_count": 10,
   "id": "90db5ff7",
   "metadata": {
    "collapsed": false,
    "execution": {
     "iopub.execute_input": "2023-04-27T17:56:40.761604Z",
     "iopub.status.busy": "2023-04-27T17:56:40.761318Z",
     "iopub.status.idle": "2023-04-27T17:56:41.647993Z",
     "shell.execute_reply": "2023-04-27T17:56:41.647040Z"
    }
   },
   "outputs": [
    {
     "data": {
      "image/png": "[encoded data removed]",
      "text/plain": [
       "<Figure size 1000x800 with 2 Axes>"
      ]
     },
     "metadata": {},
     "output_type": "display_data"
    }
   ],
   "source": [
    "𝜌 = [t[\"config/rho\"] for t in trials.iloc]\n",
    "𝜆 = [t[\"config/lambda\"] for t in trials.iloc]\n",
    "psnr = [t[\"psnr\"] for t in trials.iloc]\n",
    "minpsnr = min(max(psnr), 20.0)\n",
    "𝜌, 𝜆, psnr = zip(*filter(lambda x: x[2] >= minpsnr, zip(𝜌, 𝜆, psnr)))\n",
    "fig, ax = plot.subplots(figsize=(10, 8))\n",
    "sc = ax.scatter(𝜌, 𝜆, c=psnr, cmap=plot.cm.plasma_r)\n",
    "fig.colorbar(sc)\n",
    "plot.plot(\n",
    "    best_config[\"lambda\"],\n",
    "    best_config[\"rho\"],\n",
    "    ptyp=\"loglog\",\n",
    "    lw=0,\n",
    "    ms=12.0,\n",
    "    marker=\"2\",\n",
    "    mfc=\"red\",\n",
    "    mec=\"red\",\n",
    "    fig=fig,\n",
    "    ax=ax,\n",
    ")\n",
    "ax.set_xscale(\"log\")\n",
    "ax.set_yscale(\"log\")\n",
    "ax.set_xlabel(r\"$\\rho$\")\n",
    "ax.set_ylabel(r\"$\\lambda$\")\n",
    "ax.set_title(\"PSNR at each sample location\\n(values below 20 dB omitted)\")\n",
    "fig.show()"
   ]
  }
 ],
 "metadata": {
  "language_info": {
   "codemirror_mode": {
    "name": "ipython",
    "version": 3
   },
   "file_extension": ".py",
   "mimetype": "text/x-python",
   "name": "python",
   "nbconvert_exporter": "python",
   "pygments_lexer": "ipython3",
   "version": "3.9.15"
  }
 },
 "nbformat": 4,
 "nbformat_minor": 5
}
