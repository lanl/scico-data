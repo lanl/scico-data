{
 "cells": [
  {
   "cell_type": "markdown",
   "id": "7776db10",
   "metadata": {},
   "source": [
    "Basis Pursuit DeNoising (Accelerated PGM)\n",
    "=========================================\n",
    "\n",
    "This example demonstrates the use of class\n",
    "[pgm.AcceleratedPGM](../_autosummary/scico.pgm.rst#scico.pgm.AcceleratedPGM)\n",
    "to solve the sparse coding problem problem\n",
    "\n",
    "  $$\\mathrm{argmin}_{\\mathbf{x}} \\; \\| \\mathbf{y} - D \\mathbf{x} \\|_2^2\n",
    "  + \\lambda \\| \\mathbf{x} \\|_1\\;,$$\n",
    "\n",
    "where $D$ the dictionary, $\\mathbf{y}$ the signal to be represented,\n",
    "and $\\mathbf{x}$ is the sparse representation."
   ]
  },
  {
   "cell_type": "code",
   "execution_count": 1,
   "id": "d6acc9d7",
   "metadata": {
    "collapsed": false,
    "execution": {
     "iopub.execute_input": "2021-10-19T21:17:43.221347Z",
     "iopub.status.busy": "2021-10-19T21:17:43.220808Z",
     "iopub.status.idle": "2021-10-19T21:17:44.945894Z",
     "shell.execute_reply": "2021-10-19T21:17:44.944741Z"
    }
   },
   "outputs": [],
   "source": [
    "import numpy as np\n",
    "\n",
    "import jax\n",
    "\n",
    "from scico import functional, linop, loss, plot\n",
    "from scico.pgm import AcceleratedPGM\n",
    "plot.config_notebook_plotting()"
   ]
  },
  {
   "cell_type": "markdown",
   "id": "34e9303d",
   "metadata": {},
   "source": [
    "Construct a random dictionary, a reference random sparse\n",
    "representation, and a test signal consisting of the synthesis of the\n",
    "reference sparse representation."
   ]
  },
  {
   "cell_type": "code",
   "execution_count": 2,
   "id": "1d129162",
   "metadata": {
    "collapsed": false,
    "execution": {
     "iopub.execute_input": "2021-10-19T21:17:44.952923Z",
     "iopub.status.busy": "2021-10-19T21:17:44.952332Z",
     "iopub.status.idle": "2021-10-19T21:17:47.691822Z",
     "shell.execute_reply": "2021-10-19T21:17:47.691215Z"
    }
   },
   "outputs": [],
   "source": [
    "m = 512  # Signal size\n",
    "n = 4 * m  # Dictionary size\n",
    "s = 32  # Sparsity level (number of non-zeros)\n",
    "σ = 0.5  # Noise level\n",
    "\n",
    "np.random.seed(12345)\n",
    "D = np.random.randn(m, n)\n",
    "L0 = np.linalg.norm(D, 2) ** 2\n",
    "\n",
    "x_gt = np.zeros(n)  # true signal\n",
    "idx = np.random.permutation(list(range(0, n - 1)))\n",
    "x_gt[idx[0:s]] = np.random.randn(s)\n",
    "y = D @ x_gt + σ * np.random.randn(m)  # synthetic signal\n",
    "\n",
    "x_gt = jax.device_put(x_gt)  # convert to jax array, push to GPU\n",
    "y = jax.device_put(y)  # convert to jax array, push to GPU"
   ]
  },
  {
   "cell_type": "markdown",
   "id": "ef7c56d2",
   "metadata": {},
   "source": [
    "Set up the forward operator and AcceleratedPGM solver object."
   ]
  },
  {
   "cell_type": "code",
   "execution_count": 3,
   "id": "eda323ae",
   "metadata": {
    "collapsed": false,
    "execution": {
     "iopub.execute_input": "2021-10-19T21:17:47.699090Z",
     "iopub.status.busy": "2021-10-19T21:17:47.698475Z",
     "iopub.status.idle": "2021-10-19T21:17:48.206937Z",
     "shell.execute_reply": "2021-10-19T21:17:48.206272Z"
    }
   },
   "outputs": [],
   "source": [
    "maxiter = 100\n",
    "λ = 2.98e1\n",
    "A = linop.MatrixOperator(D)\n",
    "f = loss.SquaredL2Loss(y=y, A=A)\n",
    "g = λ * functional.L1Norm()\n",
    "solver = AcceleratedPGM(f=f, g=g, L0=L0, x0=A.adj(y), maxiter=maxiter, verbose=True)"
   ]
  },
  {
   "cell_type": "markdown",
   "id": "afffcf1b",
   "metadata": {},
   "source": [
    "Run the solver."
   ]
  },
  {
   "cell_type": "code",
   "execution_count": 4,
   "id": "4a5b6aac",
   "metadata": {
    "collapsed": false,
    "execution": {
     "iopub.execute_input": "2021-10-19T21:17:48.233284Z",
     "iopub.status.busy": "2021-10-19T21:17:48.232613Z",
     "iopub.status.idle": "2021-10-19T21:17:50.380069Z",
     "shell.execute_reply": "2021-10-19T21:17:50.380445Z"
    }
   },
   "outputs": [
    {
     "name": "stdout",
     "output_type": "stream",
     "text": [
      "Iter  Objective  L         Residual\n",
      "-----------------------------------\n",
      "   0  7.795e+09  4.611e+03  4.126e+03\n"
     ]
    },
    {
     "name": "stdout",
     "output_type": "stream",
     "text": [
      "   1  2.097e+09  4.611e+03  1.310e+03\n",
      "   2  5.399e+08  4.611e+03  4.524e+02\n",
      "   3  1.406e+08  4.611e+03  1.845e+02\n",
      "   4  4.021e+07  4.611e+03  1.002e+02\n",
      "   5  1.382e+07  4.611e+03  6.608e+01\n",
      "   6  5.955e+06  4.611e+03  4.542e+01\n",
      "   7  3.351e+06  4.611e+03  3.125e+01\n",
      "   8  2.373e+06  4.611e+03  2.261e+01\n",
      "   9  1.771e+06  4.611e+03  1.751e+01\n",
      "  10  1.211e+06  4.611e+03  1.369e+01\n",
      "  11  7.238e+05  4.611e+03  1.023e+01\n",
      "  12  3.867e+05  4.611e+03  7.277e+00\n",
      "  13  2.045e+05  4.611e+03  5.249e+00\n",
      "  14  1.251e+05  4.611e+03  4.212e+00\n",
      "  15  9.184e+04  4.611e+03  3.683e+00\n",
      "  16  7.175e+04  4.611e+03  3.203e+00\n",
      "  17  5.452e+04  4.611e+03  2.665e+00\n",
      "  18  4.005e+04  4.611e+03  2.153e+00\n",
      "  19  2.904e+04  4.611e+03  1.756e+00\n",
      "  20  2.102e+04  4.611e+03  1.476e+00\n",
      "  21  1.503e+04  4.611e+03  1.254e+00\n",
      "  22  1.064e+04  4.611e+03  1.066e+00\n",
      "  23  7.613e+03  4.611e+03  9.034e-01\n",
      "  24  5.804e+03  4.611e+03  7.621e-01\n",
      "  25  4.800e+03  4.611e+03  6.525e-01\n",
      "  26  4.155e+03  4.611e+03  5.744e-01\n",
      "  27  3.596e+03  4.611e+03  5.036e-01\n",
      "  28  3.034e+03  4.611e+03  4.274e-01\n",
      "  29  2.518e+03  4.611e+03  3.595e-01\n",
      "  30  2.126e+03  4.611e+03  3.078e-01\n",
      "  31  1.849e+03  4.611e+03  2.687e-01\n",
      "  32  1.642e+03  4.611e+03  2.391e-01\n",
      "  33  1.466e+03  4.611e+03  2.222e-01\n",
      "  34  1.312e+03  4.611e+03  2.004e-01\n",
      "  35  1.186e+03  4.611e+03  1.781e-01\n",
      "  36  1.083e+03  4.611e+03  1.549e-01\n",
      "  37  1.006e+03  4.611e+03  1.361e-01\n",
      "  38  9.468e+02  4.611e+03  1.196e-01\n",
      "  39  9.051e+02  4.611e+03  1.049e-01\n",
      "  40  8.819e+02  4.611e+03  9.745e-02\n",
      "  41  8.693e+02  4.611e+03  8.914e-02\n",
      "  42  8.638e+02  4.611e+03  8.380e-02\n",
      "  43  8.617e+02  4.611e+03  7.403e-02\n",
      "  44  8.629e+02  4.611e+03  6.728e-02\n",
      "  45  8.617e+02  4.611e+03  5.959e-02\n",
      "  46  8.588e+02  4.611e+03  5.390e-02\n",
      "  47  8.519e+02  4.611e+03  4.904e-02\n",
      "  48  8.442e+02  4.611e+03  4.318e-02\n",
      "  49  8.367e+02  4.611e+03  3.637e-02\n",
      "  50  8.306e+02  4.611e+03  2.501e-02\n",
      "  51  8.270e+02  4.611e+03  2.013e-02\n",
      "  52  8.251e+02  4.611e+03  1.787e-02\n",
      "  53  8.243e+02  4.611e+03  1.639e-02\n",
      "  54  8.244e+02  4.611e+03  1.716e-02\n",
      "  55  8.246e+02  4.611e+03  1.604e-02\n",
      "  56  8.249e+02  4.611e+03  1.535e-02\n",
      "  57  8.249e+02  4.611e+03  1.426e-02\n",
      "  58  8.247e+02  4.611e+03  1.538e-02\n",
      "  59  8.244e+02  4.611e+03  1.266e-02\n",
      "  60  8.240e+02  4.611e+03  1.229e-02\n",
      "  61  8.234e+02  4.611e+03  1.125e-02\n",
      "  62  8.228e+02  4.611e+03  1.074e-02\n",
      "  63  8.221e+02  4.611e+03  9.988e-03\n",
      "  64  8.215e+02  4.611e+03  9.180e-03\n",
      "  65  8.210e+02  4.611e+03  1.101e-02\n",
      "  66  8.206e+02  4.611e+03  7.594e-03\n",
      "  67  8.203e+02  4.611e+03  8.154e-03\n",
      "  68  8.202e+02  4.611e+03  6.300e-03\n",
      "  69  8.201e+02  4.611e+03  7.831e-03\n",
      "  70  8.201e+02  4.611e+03  6.280e-03\n",
      "  71  8.201e+02  4.611e+03  7.017e-03\n",
      "  72  8.201e+02  4.611e+03  5.412e-03\n",
      "  73  8.201e+02  4.611e+03  4.841e-03\n",
      "  74  8.200e+02  4.611e+03  4.669e-03\n",
      "  75  8.200e+02  4.611e+03  4.320e-03\n",
      "  76  8.200e+02  4.611e+03  4.307e-03\n",
      "  77  8.199e+02  4.611e+03  3.889e-03\n",
      "  78  8.198e+02  4.611e+03  3.467e-03\n",
      "  79  8.197e+02  4.611e+03  3.102e-03\n",
      "  80  8.197e+02  4.611e+03  2.977e-03\n",
      "  81  8.196e+02  4.611e+03  2.504e-03\n",
      "  82  8.196e+02  4.611e+03  2.324e-03\n",
      "  83  8.196e+02  4.611e+03  2.238e-03\n",
      "  84  8.196e+02  4.611e+03  2.207e-03\n",
      "  85  8.196e+02  4.611e+03  2.227e-03\n",
      "  86  8.196e+02  4.611e+03  2.541e-03\n",
      "  87  8.196e+02  4.611e+03  2.319e-03\n",
      "  88  8.196e+02  4.611e+03  2.407e-03\n",
      "  89  8.196e+02  4.611e+03  2.051e-03\n",
      "  90  8.195e+02  4.611e+03  1.814e-03\n",
      "  91  8.195e+02  4.611e+03  1.688e-03\n",
      "  92  8.195e+02  4.611e+03  1.948e-03\n",
      "  93  8.195e+02  4.611e+03  1.494e-03\n",
      "  94  8.195e+02  4.611e+03  1.362e-03\n",
      "  95  8.195e+02  4.611e+03  1.294e-03\n",
      "  96  8.195e+02  4.611e+03  1.317e-03\n",
      "  97  8.195e+02  4.611e+03  1.384e-03\n",
      "  98  8.195e+02  4.611e+03  1.132e-03\n",
      "  99  8.195e+02  4.611e+03  1.059e-03\n"
     ]
    }
   ],
   "source": [
    "x = solver.solve()\n",
    "hist = solver.itstat_object.history(transpose=True)"
   ]
  },
  {
   "cell_type": "markdown",
   "id": "7ee15956",
   "metadata": {},
   "source": [
    "Plot the recovered coefficients and convergence statistics."
   ]
  },
  {
   "cell_type": "code",
   "execution_count": 5,
   "id": "de647ef4",
   "metadata": {
    "collapsed": false,
    "execution": {
     "iopub.execute_input": "2021-10-19T21:17:50.391787Z",
     "iopub.status.busy": "2021-10-19T21:17:50.391053Z",
     "iopub.status.idle": "2021-10-19T21:17:51.142945Z",
     "shell.execute_reply": "2021-10-19T21:17:51.143219Z"
    }
   },
   "outputs": [
    {
     "data": {
      "image/png": "[encoded data removed]",
      "text/plain": [
       "<Figure size 864x360 with 2 Axes>"
      ]
     },
     "metadata": {
      "needs_background": "light"
     },
     "output_type": "display_data"
    }
   ],
   "source": [
    "fig, ax = plot.subplots(nrows=1, ncols=2, figsize=(12, 5))\n",
    "plot.plot(\n",
    "    np.vstack((x_gt, x)).T,\n",
    "    title=\"Coefficients\",\n",
    "    lgnd=(\"Ground Truth\", \"Recovered\"),\n",
    "    fig=fig,\n",
    "    ax=ax[0],\n",
    ")\n",
    "plot.plot(\n",
    "    np.vstack((hist.Objective, hist.Residual)).T,\n",
    "    ptyp=\"semilogy\",\n",
    "    title=\"Convergence\",\n",
    "    xlbl=\"Iteration\",\n",
    "    lgnd=(\"Objective\", \"Residual\"),\n",
    "    fig=fig,\n",
    "    ax=ax[1],\n",
    ")\n",
    "fig.show()"
   ]
  }
 ],
 "metadata": {
  "language_info": {
   "codemirror_mode": {
    "name": "ipython",
    "version": 3
   },
   "file_extension": ".py",
   "mimetype": "text/x-python",
   "name": "python",
   "nbconvert_exporter": "python",
   "pygments_lexer": "ipython3",
   "version": "3.8.12"
  }
 },
 "nbformat": 4,
 "nbformat_minor": 5
}
