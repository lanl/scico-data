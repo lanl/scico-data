{
 "cells": [
  {
   "cell_type": "markdown",
   "id": "982c1c80",
   "metadata": {},
   "source": [
    "Basis Pursuit DeNoising (Accelerated PGM)\n",
    "=========================================\n",
    "\n",
    "This example demonstrates the use of class\n",
    "[pgm.AcceleratedPGM](../_autosummary/scico.pgm.rst#scico.pgm.AcceleratedPGM)\n",
    "to solve the sparse coding problem problem\n",
    "\n",
    "  $$\\mathrm{argmin}_{\\mathbf{x}} \\; \\| \\mathbf{y} - D \\mathbf{x} \\|_2^2\n",
    "  + \\lambda \\| \\mathbf{x} \\|_1\\;,$$\n",
    "\n",
    "where $D$ the dictionary, $\\mathbf{y}$ the signal to be represented,\n",
    "and $\\mathbf{x}$ is the sparse representation."
   ]
  },
  {
   "cell_type": "code",
   "execution_count": 1,
   "id": "96a88b5a",
   "metadata": {
    "collapsed": false,
    "execution": {
     "iopub.execute_input": "2021-11-24T13:58:51.500472Z",
     "iopub.status.busy": "2021-11-24T13:58:51.499792Z",
     "iopub.status.idle": "2021-11-24T13:58:52.756873Z",
     "shell.execute_reply": "2021-11-24T13:58:52.755327Z"
    }
   },
   "outputs": [],
   "source": [
    "import numpy as np\n",
    "\n",
    "import jax\n",
    "\n",
    "from scico import functional, linop, loss, plot\n",
    "from scico.pgm import AcceleratedPGM\n",
    "from scico.util import device_info\n",
    "plot.config_notebook_plotting()"
   ]
  },
  {
   "cell_type": "markdown",
   "id": "83b260d3",
   "metadata": {},
   "source": [
    "Construct a random dictionary, a reference random sparse\n",
    "representation, and a test signal consisting of the synthesis of the\n",
    "reference sparse representation."
   ]
  },
  {
   "cell_type": "code",
   "execution_count": 2,
   "id": "8c584534",
   "metadata": {
    "collapsed": false,
    "execution": {
     "iopub.execute_input": "2021-11-24T13:58:52.763725Z",
     "iopub.status.busy": "2021-11-24T13:58:52.763165Z",
     "iopub.status.idle": "2021-11-24T13:59:00.655760Z",
     "shell.execute_reply": "2021-11-24T13:59:00.654158Z"
    }
   },
   "outputs": [],
   "source": [
    "m = 512  # Signal size\n",
    "n = 4 * m  # Dictionary size\n",
    "s = 32  # Sparsity level (number of non-zeros)\n",
    "σ = 0.5  # Noise level\n",
    "\n",
    "np.random.seed(12345)\n",
    "D = np.random.randn(m, n)\n",
    "L0 = np.linalg.norm(D, 2) ** 2\n",
    "\n",
    "x_gt = np.zeros(n)  # true signal\n",
    "idx = np.random.permutation(list(range(0, n - 1)))\n",
    "x_gt[idx[0:s]] = np.random.randn(s)\n",
    "y = D @ x_gt + σ * np.random.randn(m)  # synthetic signal\n",
    "\n",
    "x_gt = jax.device_put(x_gt)  # convert to jax array, push to GPU\n",
    "y = jax.device_put(y)  # convert to jax array, push to GPU"
   ]
  },
  {
   "cell_type": "markdown",
   "id": "cd1cf860",
   "metadata": {},
   "source": [
    "Set up the forward operator and AcceleratedPGM solver object."
   ]
  },
  {
   "cell_type": "code",
   "execution_count": 3,
   "id": "4137166d",
   "metadata": {
    "collapsed": false,
    "execution": {
     "iopub.execute_input": "2021-11-24T13:59:00.664277Z",
     "iopub.status.busy": "2021-11-24T13:59:00.663688Z",
     "iopub.status.idle": "2021-11-24T13:59:01.263104Z",
     "shell.execute_reply": "2021-11-24T13:59:01.262566Z"
    }
   },
   "outputs": [],
   "source": [
    "maxiter = 100\n",
    "λ = 2.98e1\n",
    "A = linop.MatrixOperator(D)\n",
    "f = loss.SquaredL2Loss(y=y, A=A)\n",
    "g = λ * functional.L1Norm()\n",
    "solver = AcceleratedPGM(f=f, g=g, L0=L0, x0=A.adj(y), maxiter=maxiter, verbose=True)"
   ]
  },
  {
   "cell_type": "markdown",
   "id": "0cb2510b",
   "metadata": {},
   "source": [
    "Run the solver."
   ]
  },
  {
   "cell_type": "code",
   "execution_count": 4,
   "id": "2dca5236",
   "metadata": {
    "collapsed": false,
    "execution": {
     "iopub.execute_input": "2021-11-24T13:59:01.302152Z",
     "iopub.status.busy": "2021-11-24T13:59:01.300740Z",
     "iopub.status.idle": "2021-11-24T13:59:04.249783Z",
     "shell.execute_reply": "2021-11-24T13:59:04.251112Z"
    }
   },
   "outputs": [
    {
     "name": "stdout",
     "output_type": "stream",
     "text": [
      "Solving on GPU (NVIDIA GeForce RTX 2080 Ti)\n",
      "\n"
     ]
    },
    {
     "name": "stdout",
     "output_type": "stream",
     "text": [
      "Iter  Time      Objective  L         Residual\n",
      "---------------------------------------------\n",
      "   0  1.32e+00  7.795e+09  4.611e+03  4.126e+03\n"
     ]
    },
    {
     "name": "stdout",
     "output_type": "stream",
     "text": [
      "   1  2.60e+00  2.097e+09  4.611e+03  1.310e+03\n",
      "   2  2.61e+00  5.399e+08  4.611e+03  4.524e+02\n",
      "   3  2.61e+00  1.406e+08  4.611e+03  1.845e+02\n",
      "   4  2.61e+00  4.021e+07  4.611e+03  1.002e+02\n",
      "   5  2.62e+00  1.382e+07  4.611e+03  6.608e+01\n",
      "   6  2.62e+00  5.955e+06  4.611e+03  4.542e+01\n",
      "   7  2.62e+00  3.351e+06  4.611e+03  3.125e+01\n",
      "   8  2.62e+00  2.373e+06  4.611e+03  2.261e+01\n",
      "   9  2.63e+00  1.771e+06  4.611e+03  1.751e+01\n",
      "  10  2.63e+00  1.211e+06  4.611e+03  1.369e+01\n",
      "  11  2.63e+00  7.238e+05  4.611e+03  1.023e+01\n",
      "  12  2.63e+00  3.867e+05  4.611e+03  7.277e+00\n",
      "  13  2.64e+00  2.045e+05  4.611e+03  5.249e+00\n",
      "  14  2.64e+00  1.251e+05  4.611e+03  4.212e+00\n",
      "  15  2.64e+00  9.184e+04  4.611e+03  3.683e+00\n",
      "  16  2.65e+00  7.175e+04  4.611e+03  3.203e+00\n",
      "  17  2.65e+00  5.452e+04  4.611e+03  2.665e+00\n",
      "  18  2.66e+00  4.005e+04  4.611e+03  2.153e+00\n",
      "  19  2.67e+00  2.904e+04  4.611e+03  1.756e+00\n",
      "  20  2.67e+00  2.102e+04  4.611e+03  1.476e+00\n",
      "  21  2.67e+00  1.503e+04  4.611e+03  1.254e+00\n",
      "  22  2.68e+00  1.064e+04  4.611e+03  1.066e+00\n",
      "  23  2.68e+00  7.613e+03  4.611e+03  9.034e-01\n",
      "  24  2.69e+00  5.804e+03  4.611e+03  7.621e-01\n",
      "  25  2.69e+00  4.800e+03  4.611e+03  6.525e-01\n",
      "  26  2.69e+00  4.155e+03  4.611e+03  5.744e-01\n",
      "  27  2.70e+00  3.596e+03  4.611e+03  5.036e-01\n",
      "  28  2.70e+00  3.034e+03  4.611e+03  4.274e-01\n",
      "  29  2.71e+00  2.518e+03  4.611e+03  3.595e-01\n",
      "  30  2.71e+00  2.126e+03  4.611e+03  3.078e-01\n",
      "  31  2.72e+00  1.849e+03  4.611e+03  2.687e-01\n",
      "  32  2.72e+00  1.642e+03  4.611e+03  2.391e-01\n",
      "  33  2.73e+00  1.466e+03  4.611e+03  2.222e-01\n",
      "  34  2.73e+00  1.312e+03  4.611e+03  2.004e-01\n",
      "  35  2.73e+00  1.186e+03  4.611e+03  1.782e-01\n",
      "  36  2.74e+00  1.083e+03  4.611e+03  1.549e-01\n",
      "  37  2.75e+00  1.006e+03  4.611e+03  1.361e-01\n",
      "  38  2.75e+00  9.468e+02  4.611e+03  1.197e-01\n",
      "  39  2.75e+00  9.051e+02  4.611e+03  1.049e-01\n",
      "  40  2.76e+00  8.819e+02  4.611e+03  9.747e-02\n",
      "  41  2.76e+00  8.693e+02  4.611e+03  8.916e-02\n",
      "  42  2.76e+00  8.638e+02  4.611e+03  8.379e-02\n",
      "  43  2.77e+00  8.617e+02  4.611e+03  7.406e-02\n",
      "  44  2.77e+00  8.629e+02  4.611e+03  6.725e-02\n",
      "  45  2.77e+00  8.617e+02  4.611e+03  5.961e-02\n",
      "  46  2.77e+00  8.588e+02  4.611e+03  5.390e-02\n",
      "  47  2.78e+00  8.519e+02  4.611e+03  4.903e-02\n",
      "  48  2.78e+00  8.442e+02  4.611e+03  4.319e-02\n",
      "  49  2.78e+00  8.367e+02  4.611e+03  3.637e-02\n",
      "  50  2.79e+00  8.306e+02  4.611e+03  2.501e-02\n",
      "  51  2.79e+00  8.270e+02  4.611e+03  2.012e-02\n",
      "  52  2.80e+00  8.251e+02  4.611e+03  1.786e-02\n"
     ]
    },
    {
     "name": "stdout",
     "output_type": "stream",
     "text": [
      "  53  2.80e+00  8.243e+02  4.611e+03  1.639e-02\n",
      "  54  2.81e+00  8.244e+02  4.611e+03  1.716e-02\n",
      "  55  2.81e+00  8.246e+02  4.611e+03  1.604e-02\n",
      "  56  2.81e+00  8.249e+02  4.611e+03  1.536e-02\n",
      "  57  2.82e+00  8.249e+02  4.611e+03  1.426e-02\n",
      "  58  2.82e+00  8.247e+02  4.611e+03  1.538e-02\n",
      "  59  2.82e+00  8.244e+02  4.611e+03  1.265e-02\n",
      "  60  2.83e+00  8.240e+02  4.611e+03  1.229e-02\n",
      "  61  2.83e+00  8.234e+02  4.611e+03  1.125e-02\n",
      "  62  2.84e+00  8.228e+02  4.611e+03  1.075e-02\n",
      "  63  2.84e+00  8.221e+02  4.611e+03  9.987e-03\n",
      "  64  2.85e+00  8.215e+02  4.611e+03  9.179e-03\n",
      "  65  2.85e+00  8.210e+02  4.611e+03  1.101e-02\n",
      "  66  2.86e+00  8.206e+02  4.611e+03  7.594e-03\n",
      "  67  2.86e+00  8.203e+02  4.611e+03  8.157e-03\n",
      "  68  2.87e+00  8.202e+02  4.611e+03  6.300e-03\n",
      "  69  2.87e+00  8.201e+02  4.611e+03  7.833e-03\n",
      "  70  2.87e+00  8.201e+02  4.611e+03  6.280e-03\n",
      "  71  2.87e+00  8.201e+02  4.611e+03  7.017e-03\n",
      "  72  2.88e+00  8.201e+02  4.611e+03  5.411e-03\n",
      "  73  2.88e+00  8.201e+02  4.611e+03  4.842e-03\n",
      "  74  2.88e+00  8.200e+02  4.611e+03  4.669e-03\n",
      "  75  2.89e+00  8.200e+02  4.611e+03  4.320e-03\n",
      "  76  2.89e+00  8.200e+02  4.611e+03  4.308e-03\n",
      "  77  2.89e+00  8.199e+02  4.611e+03  3.889e-03\n",
      "  78  2.90e+00  8.198e+02  4.611e+03  3.467e-03\n",
      "  79  2.90e+00  8.197e+02  4.611e+03  3.102e-03\n",
      "  80  2.90e+00  8.197e+02  4.611e+03  2.978e-03\n",
      "  81  2.90e+00  8.196e+02  4.611e+03  2.504e-03\n",
      "  82  2.91e+00  8.196e+02  4.611e+03  2.324e-03\n",
      "  83  2.91e+00  8.196e+02  4.611e+03  2.238e-03\n",
      "  84  2.91e+00  8.196e+02  4.611e+03  2.207e-03\n",
      "  85  2.92e+00  8.196e+02  4.611e+03  2.227e-03\n",
      "  86  2.92e+00  8.196e+02  4.611e+03  2.541e-03\n",
      "  87  2.92e+00  8.196e+02  4.611e+03  2.320e-03\n",
      "  88  2.93e+00  8.196e+02  4.611e+03  2.407e-03\n",
      "  89  2.93e+00  8.196e+02  4.611e+03  2.051e-03\n",
      "  90  2.94e+00  8.195e+02  4.611e+03  1.815e-03\n",
      "  91  2.94e+00  8.195e+02  4.611e+03  1.688e-03\n",
      "  92  2.94e+00  8.195e+02  4.611e+03  1.948e-03\n",
      "  93  2.95e+00  8.195e+02  4.611e+03  1.494e-03\n",
      "  94  2.95e+00  8.195e+02  4.611e+03  1.362e-03\n",
      "  95  2.95e+00  8.195e+02  4.611e+03  1.294e-03\n",
      "  96  2.96e+00  8.195e+02  4.611e+03  1.317e-03\n",
      "  97  2.96e+00  8.195e+02  4.611e+03  1.384e-03\n",
      "  98  2.97e+00  8.195e+02  4.611e+03  1.132e-03\n",
      "  99  2.97e+00  8.195e+02  4.611e+03  1.059e-03\n"
     ]
    }
   ],
   "source": [
    "print(f\"Solving on {device_info()}\\n\")\n",
    "x = solver.solve()\n",
    "hist = solver.itstat_object.history(transpose=True)"
   ]
  },
  {
   "cell_type": "markdown",
   "id": "4d01692a",
   "metadata": {},
   "source": [
    "Plot the recovered coefficients and convergence statistics."
   ]
  },
  {
   "cell_type": "code",
   "execution_count": 5,
   "id": "5f1e3c0e",
   "metadata": {
    "collapsed": false,
    "execution": {
     "iopub.execute_input": "2021-11-24T13:59:04.270538Z",
     "iopub.status.busy": "2021-11-24T13:59:04.267426Z",
     "iopub.status.idle": "2021-11-24T13:59:05.041424Z",
     "shell.execute_reply": "2021-11-24T13:59:05.042194Z"
    }
   },
   "outputs": [
    {
     "data": {
      "image/png": "[encoded data removed]",
      "text/plain": [
       "<Figure size 864x360 with 2 Axes>"
      ]
     },
     "metadata": {
      "needs_background": "light"
     },
     "output_type": "display_data"
    }
   ],
   "source": [
    "fig, ax = plot.subplots(nrows=1, ncols=2, figsize=(12, 5))\n",
    "plot.plot(\n",
    "    np.vstack((x_gt, x)).T,\n",
    "    title=\"Coefficients\",\n",
    "    lgnd=(\"Ground Truth\", \"Recovered\"),\n",
    "    fig=fig,\n",
    "    ax=ax[0],\n",
    ")\n",
    "plot.plot(\n",
    "    np.vstack((hist.Objective, hist.Residual)).T,\n",
    "    ptyp=\"semilogy\",\n",
    "    title=\"Convergence\",\n",
    "    xlbl=\"Iteration\",\n",
    "    lgnd=(\"Objective\", \"Residual\"),\n",
    "    fig=fig,\n",
    "    ax=ax[1],\n",
    ")\n",
    "fig.show()"
   ]
  }
 ],
 "metadata": {
  "language_info": {
   "codemirror_mode": {
    "name": "ipython",
    "version": 3
   },
   "file_extension": ".py",
   "mimetype": "text/x-python",
   "name": "python",
   "nbconvert_exporter": "python",
   "pygments_lexer": "ipython3",
   "version": "3.8.12"
  }
 },
 "nbformat": 4,
 "nbformat_minor": 5
}
