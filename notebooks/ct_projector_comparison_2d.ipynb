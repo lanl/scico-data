{
 "cells": [
  {
   "cell_type": "markdown",
   "id": "399c75df",
   "metadata": {},
   "source": [
    "2D X-ray Transform Comparison\n",
    "=============================\n",
    "\n",
    "This example compares SCICO's native 2D X-ray transform algorithm\n",
    "to that of the ASTRA toolbox."
   ]
  },
  {
   "cell_type": "code",
   "execution_count": 1,
   "id": "16e89dea",
   "metadata": {
    "collapsed": false,
    "execution": {
     "iopub.execute_input": "2024-10-12T00:09:44.288404Z",
     "iopub.status.busy": "2024-10-12T00:09:44.287739Z",
     "iopub.status.idle": "2024-10-12T00:09:48.853266Z",
     "shell.execute_reply": "2024-10-12T00:09:48.851921Z"
    }
   },
   "outputs": [],
   "source": [
    "import numpy as np\n",
    "\n",
    "import jax\n",
    "import jax.numpy as jnp\n",
    "\n",
    "from xdesign import Foam, discrete_phantom\n",
    "\n",
    "import scico.linop.xray.astra as astra\n",
    "from scico import plot\n",
    "from scico.linop.xray import XRayTransform2D\n",
    "from scico.util import Timer\n",
    "plot.config_notebook_plotting()"
   ]
  },
  {
   "cell_type": "markdown",
   "id": "aadf1dcf",
   "metadata": {},
   "source": [
    "Create a ground truth image."
   ]
  },
  {
   "cell_type": "code",
   "execution_count": 2,
   "id": "d868c740",
   "metadata": {
    "collapsed": false,
    "execution": {
     "iopub.execute_input": "2024-10-12T00:09:48.859254Z",
     "iopub.status.busy": "2024-10-12T00:09:48.858716Z",
     "iopub.status.idle": "2024-10-12T00:09:53.164701Z",
     "shell.execute_reply": "2024-10-12T00:09:53.163512Z"
    }
   },
   "outputs": [],
   "source": [
    "N = 512\n",
    "x_gt = discrete_phantom(Foam(size_range=[0.075, 0.0025], gap=1e-3, porosity=1), size=N)\n",
    "x_gt = jnp.array(x_gt)"
   ]
  },
  {
   "cell_type": "markdown",
   "id": "b56467cc",
   "metadata": {},
   "source": [
    "Time projector instantiation."
   ]
  },
  {
   "cell_type": "code",
   "execution_count": 3,
   "id": "ce8c9382",
   "metadata": {
    "collapsed": false,
    "execution": {
     "iopub.execute_input": "2024-10-12T00:09:53.170097Z",
     "iopub.status.busy": "2024-10-12T00:09:53.169915Z",
     "iopub.status.idle": "2024-10-12T00:09:53.976316Z",
     "shell.execute_reply": "2024-10-12T00:09:53.974910Z"
    }
   },
   "outputs": [],
   "source": [
    "num_angles = 500\n",
    "angles = jnp.linspace(0, jnp.pi, num=num_angles, endpoint=False)\n",
    "det_count = int(N * 1.02 / jnp.sqrt(2.0))\n",
    "\n",
    "timer = Timer()\n",
    "\n",
    "projectors = {}\n",
    "timer.start(\"scico_init\")\n",
    "projectors[\"scico\"] = XRayTransform2D((N, N), angles, det_count=det_count)\n",
    "timer.stop(\"scico_init\")\n",
    "\n",
    "timer.start(\"astra_init\")\n",
    "projectors[\"astra\"] = astra.XRayTransform2D(\n",
    "    (N, N), det_count=det_count, det_spacing=np.sqrt(2), angles=angles - jnp.pi / 2.0\n",
    ")\n",
    "timer.stop(\"astra_init\")"
   ]
  },
  {
   "cell_type": "markdown",
   "id": "c65b497c",
   "metadata": {},
   "source": [
    "Time first projector application, which might include JIT overhead."
   ]
  },
  {
   "cell_type": "code",
   "execution_count": 4,
   "id": "675c1192",
   "metadata": {
    "collapsed": false,
    "execution": {
     "iopub.execute_input": "2024-10-12T00:09:53.982057Z",
     "iopub.status.busy": "2024-10-12T00:09:53.981635Z",
     "iopub.status.idle": "2024-10-12T00:09:54.074776Z",
     "shell.execute_reply": "2024-10-12T00:09:54.074201Z"
    }
   },
   "outputs": [],
   "source": [
    "ys = {}\n",
    "for name, H in projectors.items():\n",
    "    timer_label = f\"{name}_first_fwd\"\n",
    "    timer.start(timer_label)\n",
    "    ys[name] = H @ x_gt\n",
    "    jax.block_until_ready(ys[name])\n",
    "    timer.stop(timer_label)"
   ]
  },
  {
   "cell_type": "markdown",
   "id": "dad94c9d",
   "metadata": {},
   "source": [
    "Compute average time for a projector application."
   ]
  },
  {
   "cell_type": "code",
   "execution_count": 5,
   "id": "9a0d59c5",
   "metadata": {
    "collapsed": false,
    "execution": {
     "iopub.execute_input": "2024-10-12T00:09:54.080249Z",
     "iopub.status.busy": "2024-10-12T00:09:54.079854Z",
     "iopub.status.idle": "2024-10-12T00:09:54.359771Z",
     "shell.execute_reply": "2024-10-12T00:09:54.358389Z"
    }
   },
   "outputs": [],
   "source": [
    "num_repeats = 3\n",
    "for name, H in projectors.items():\n",
    "    timer_label = f\"{name}_avg_fwd\"\n",
    "    timer.start(timer_label)\n",
    "    for _ in range(num_repeats):\n",
    "        ys[name] = H @ x_gt\n",
    "        jax.block_until_ready(ys[name])\n",
    "    timer.stop(timer_label)\n",
    "    timer.td[timer_label] /= num_repeats"
   ]
  },
  {
   "cell_type": "markdown",
   "id": "12bd24ad",
   "metadata": {},
   "source": [
    "Time first back projection, which might include JIT overhead."
   ]
  },
  {
   "cell_type": "code",
   "execution_count": 6,
   "id": "d933b82a",
   "metadata": {
    "collapsed": false,
    "execution": {
     "iopub.execute_input": "2024-10-12T00:09:54.365767Z",
     "iopub.status.busy": "2024-10-12T00:09:54.365332Z",
     "iopub.status.idle": "2024-10-12T00:09:54.885104Z",
     "shell.execute_reply": "2024-10-12T00:09:54.884058Z"
    }
   },
   "outputs": [],
   "source": [
    "y = np.zeros(H.output_shape, dtype=np.float32)\n",
    "y[num_angles // 3, det_count // 2] = 1.0\n",
    "y = jnp.array(y)\n",
    "\n",
    "HTys = {}\n",
    "for name, H in projectors.items():\n",
    "    timer_label = f\"{name}_first_back\"\n",
    "    timer.start(timer_label)\n",
    "    HTys[name] = H.T @ y\n",
    "    jax.block_until_ready(ys[name])\n",
    "    timer.stop(timer_label)"
   ]
  },
  {
   "cell_type": "markdown",
   "id": "76d2f8da",
   "metadata": {},
   "source": [
    "Compute average time for back projection."
   ]
  },
  {
   "cell_type": "code",
   "execution_count": 7,
   "id": "57b0d992",
   "metadata": {
    "collapsed": false,
    "execution": {
     "iopub.execute_input": "2024-10-12T00:09:54.890885Z",
     "iopub.status.busy": "2024-10-12T00:09:54.890432Z",
     "iopub.status.idle": "2024-10-12T00:09:55.057491Z",
     "shell.execute_reply": "2024-10-12T00:09:55.056302Z"
    }
   },
   "outputs": [],
   "source": [
    "num_repeats = 3\n",
    "for name, H in projectors.items():\n",
    "    timer_label = f\"{name}_avg_back\"\n",
    "    timer.start(timer_label)\n",
    "    for _ in range(num_repeats):\n",
    "        HTys[name] = H.T @ y\n",
    "        jax.block_until_ready(ys[name])\n",
    "    timer.stop(timer_label)\n",
    "    timer.td[timer_label] /= num_repeats"
   ]
  },
  {
   "cell_type": "markdown",
   "id": "a846099e",
   "metadata": {},
   "source": [
    "Display timing results.\n",
    "\n",
    "On our server, when using the GPU, the SCICO projector (both forward\n",
    "and backward) is faster than ASTRA. When using the CPU, it is slower\n",
    "for forward projection and faster for back projection. The SCICO object\n",
    "initialization and first back projection are slow due to JIT\n",
    "overhead.\n",
    "\n",
    "On our server, using the GPU:\n",
    "```\n",
    "init         astra    4.81e-02 s\n",
    "init         scico    2.53e-01 s\n",
    "\n",
    "first  fwd   astra    4.44e-02 s\n",
    "first  fwd   scico    2.82e-02 s\n",
    "\n",
    "first  back  astra    3.31e-02 s\n",
    "first  back  scico    2.80e-01 s\n",
    "\n",
    "avg    fwd   astra    4.76e-02 s\n",
    "avg    fwd   scico    2.83e-02 s\n",
    "\n",
    "avg    back  astra    3.96e-02 s\n",
    "avg    back  scico    6.80e-04 s\n",
    "```\n",
    "\n",
    "Using the CPU:\n",
    "```\n",
    "init         astra    1.72e-02 s\n",
    "init         scico    2.88e+00 s\n",
    "\n",
    "first  fwd   astra    1.02e+00 s\n",
    "first  fwd   scico    2.40e+00 s\n",
    "\n",
    "first  back  astra    1.03e+00 s\n",
    "first  back  scico    3.53e+00 s\n",
    "\n",
    "avg    fwd   astra    1.03e+00 s\n",
    "avg    fwd   scico    2.54e+00 s\n",
    "\n",
    "avg    back  astra    1.01e+00 s\n",
    "avg    back  scico    5.98e-01 s\n",
    "```"
   ]
  },
  {
   "cell_type": "code",
   "execution_count": 8,
   "id": "c9170ef5",
   "metadata": {
    "collapsed": false,
    "execution": {
     "iopub.execute_input": "2024-10-12T00:09:55.063346Z",
     "iopub.status.busy": "2024-10-12T00:09:55.062928Z",
     "iopub.status.idle": "2024-10-12T00:09:55.069672Z",
     "shell.execute_reply": "2024-10-12T00:09:55.068890Z"
    }
   },
   "outputs": [
    {
     "name": "stdout",
     "output_type": "stream",
     "text": [
      "init         astra    4.37e-02 s\n",
      "init         scico    5.12e-01 s\n",
      "\n",
      "first  fwd   astra    5.37e-02 s\n",
      "first  fwd   scico    3.55e-02 s\n",
      "\n",
      "first  back  astra    5.54e-02 s\n",
      "first  back  scico    4.41e-01 s\n",
      "\n",
      "avg    fwd   astra    5.86e-02 s\n",
      "avg    fwd   scico    3.30e-02 s\n",
      "\n",
      "avg    back  astra    5.32e-02 s\n",
      "avg    back  scico    6.34e-04 s\n",
      "\n"
     ]
    }
   ],
   "source": [
    "print(f\"init         astra    {timer.td['astra_init']:.2e} s\")\n",
    "print(f\"init         scico    {timer.td['scico_init']:.2e} s\")\n",
    "print(\"\")\n",
    "for tstr in (\"first\", \"avg\"):\n",
    "    for dstr in (\"fwd\", \"back\"):\n",
    "        for pstr in (\"astra\", \"scico\"):\n",
    "            print(\n",
    "                f\"{tstr:5s}  {dstr:4s}  {pstr}    {timer.td[pstr + '_' + tstr + '_' + dstr]:.2e} s\"\n",
    "            )\n",
    "        print()"
   ]
  },
  {
   "cell_type": "markdown",
   "id": "0f17015f",
   "metadata": {},
   "source": [
    "Show projections."
   ]
  },
  {
   "cell_type": "code",
   "execution_count": 9,
   "id": "4946e699",
   "metadata": {
    "collapsed": false,
    "execution": {
     "iopub.execute_input": "2024-10-12T00:09:55.072874Z",
     "iopub.status.busy": "2024-10-12T00:09:55.072517Z",
     "iopub.status.idle": "2024-10-12T00:09:55.497998Z",
     "shell.execute_reply": "2024-10-12T00:09:55.496633Z"
    }
   },
   "outputs": [],
   "source": [
    "fig, ax = plot.subplots(nrows=1, ncols=2, figsize=(12, 6))\n",
    "plot.imview(ys[\"scico\"], title=\"SCICO projection\", cbar=None, fig=fig, ax=ax[0])\n",
    "plot.imview(ys[\"astra\"], title=\"ASTRA projection\", cbar=None, fig=fig, ax=ax[1])\n",
    "fig.show()"
   ]
  },
  {
   "cell_type": "markdown",
   "id": "15f6a9a9",
   "metadata": {},
   "source": [
    "Show back projections of a single detector element, i.e., a line."
   ]
  },
  {
   "cell_type": "code",
   "execution_count": 10,
   "id": "ce9affa3",
   "metadata": {
    "collapsed": false,
    "execution": {
     "iopub.execute_input": "2024-10-12T00:09:55.503470Z",
     "iopub.status.busy": "2024-10-12T00:09:55.502922Z",
     "iopub.status.idle": "2024-10-12T00:09:55.882840Z",
     "shell.execute_reply": "2024-10-12T00:09:55.881900Z"
    }
   },
   "outputs": [],
   "source": [
    "fig, ax = plot.subplots(nrows=1, ncols=2, figsize=(12, 6))\n",
    "plot.imview(HTys[\"scico\"], title=\"SCICO back projection (zoom)\", cbar=None, fig=fig, ax=ax[0])\n",
    "plot.imview(HTys[\"astra\"], title=\"ASTRA back projection (zoom)\", cbar=None, fig=fig, ax=ax[1])\n",
    "for ax_i in ax:\n",
    "    ax_i.set_xlim(2 * N / 5, N - 2 * N / 5)\n",
    "    ax_i.set_ylim(2 * N / 5, N - 2 * N / 5)\n",
    "fig.show()"
   ]
  }
 ],
 "metadata": {
  "language_info": {
   "codemirror_mode": {
    "name": "ipython",
    "version": 3
   },
   "file_extension": ".py",
   "mimetype": "text/x-python",
   "name": "python",
   "nbconvert_exporter": "python",
   "pygments_lexer": "ipython3",
   "version": "3.12.2"
  }
 },
 "nbformat": 4,
 "nbformat_minor": 5
}
