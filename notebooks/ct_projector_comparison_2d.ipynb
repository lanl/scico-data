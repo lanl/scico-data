{
 "cells": [
  {
   "cell_type": "markdown",
   "id": "f83027ea",
   "metadata": {},
   "source": [
    "2D X-ray Transform Comparison\n",
    "=============================\n",
    "\n",
    "This example compares SCICO's native 2D X-ray transform algorithm\n",
    "to that of the ASTRA toolbox."
   ]
  },
  {
   "cell_type": "code",
   "execution_count": null,
   "id": "9d3bbb40",
   "metadata": {
    "collapsed": false
   },
   "outputs": [],
   "source": [
    "import numpy as np\n",
    "\n",
    "import jax\n",
    "import jax.numpy as jnp\n",
    "\n",
    "from xdesign import Foam, discrete_phantom\n",
    "\n",
    "import scico.linop.xray.astra as astra\n",
    "from scico import plot\n",
    "from scico.linop.xray import XRayTransform2D\n",
    "from scico.util import Timer\n",
    "plot.config_notebook_plotting()"
   ]
  },
  {
   "cell_type": "markdown",
   "id": "3658d990",
   "metadata": {},
   "source": [
    "Create a ground truth image."
   ]
  },
  {
   "cell_type": "code",
   "execution_count": null,
   "id": "9f8a6a76",
   "metadata": {
    "collapsed": false
   },
   "outputs": [],
   "source": [
    "N = 512\n",
    "\n",
    "det_count = int(jnp.ceil(jnp.sqrt(2 * N**2)))\n",
    "\n",
    "x_gt = discrete_phantom(Foam(size_range=[0.075, 0.0025], gap=1e-3, porosity=1), size=N)\n",
    "x_gt = jnp.array(x_gt)"
   ]
  },
  {
   "cell_type": "markdown",
   "id": "963dedd4",
   "metadata": {},
   "source": [
    "Time projector instantiation."
   ]
  },
  {
   "cell_type": "code",
   "execution_count": null,
   "id": "765e716e",
   "metadata": {
    "collapsed": false
   },
   "outputs": [],
   "source": [
    "num_angles = 500\n",
    "angles = jnp.linspace(0, jnp.pi, num=num_angles, endpoint=False)\n",
    "\n",
    "timer = Timer()\n",
    "\n",
    "projectors = {}\n",
    "timer.start(\"scico_init\")\n",
    "projectors[\"scico\"] = XRayTransform2D((N, N), angles)\n",
    "timer.stop(\"scico_init\")\n",
    "\n",
    "timer.start(\"astra_init\")\n",
    "projectors[\"astra\"] = astra.XRayTransform2D(\n",
    "    (N, N), det_count=det_count, det_spacing=1.0, angles=angles - jnp.pi / 2.0\n",
    ")\n",
    "timer.stop(\"astra_init\")"
   ]
  },
  {
   "cell_type": "markdown",
   "id": "3584ab52",
   "metadata": {},
   "source": [
    "Time first projector application, which might include JIT overhead."
   ]
  },
  {
   "cell_type": "code",
   "execution_count": null,
   "id": "818d524d",
   "metadata": {
    "collapsed": false
   },
   "outputs": [],
   "source": [
    "ys = {}\n",
    "for name, H in projectors.items():\n",
    "    timer_label = f\"{name}_first_fwd\"\n",
    "    timer.start(timer_label)\n",
    "    ys[name] = H @ x_gt\n",
    "    jax.block_until_ready(ys[name])\n",
    "    timer.stop(timer_label)"
   ]
  },
  {
   "cell_type": "markdown",
   "id": "54cf68d6",
   "metadata": {},
   "source": [
    "Compute average time for a projector application."
   ]
  },
  {
   "cell_type": "code",
   "execution_count": null,
   "id": "5bd8a8d3",
   "metadata": {
    "collapsed": false
   },
   "outputs": [],
   "source": [
    "num_repeats = 3\n",
    "for name, H in projectors.items():\n",
    "    timer_label = f\"{name}_avg_fwd\"\n",
    "    timer.start(timer_label)\n",
    "    for _ in range(num_repeats):\n",
    "        ys[name] = H @ x_gt\n",
    "        jax.block_until_ready(ys[name])\n",
    "    timer.stop(timer_label)\n",
    "    timer.td[timer_label] /= num_repeats"
   ]
  },
  {
   "cell_type": "markdown",
   "id": "68d4de52",
   "metadata": {},
   "source": [
    "Time first back projection, which might include JIT overhead."
   ]
  },
  {
   "cell_type": "code",
   "execution_count": null,
   "id": "fdc631ae",
   "metadata": {
    "collapsed": false
   },
   "outputs": [],
   "source": [
    "y = np.zeros(H.output_shape, dtype=np.float32)\n",
    "y[num_angles // 3, det_count // 2] = 1.0\n",
    "y = jnp.array(y)\n",
    "\n",
    "HTys = {}\n",
    "for name, H in projectors.items():\n",
    "    timer_label = f\"{name}_first_back\"\n",
    "    timer.start(timer_label)\n",
    "    HTys[name] = H.T @ y\n",
    "    jax.block_until_ready(ys[name])\n",
    "    timer.stop(timer_label)"
   ]
  },
  {
   "cell_type": "markdown",
   "id": "1ae3511a",
   "metadata": {},
   "source": [
    "Compute average time for back projection."
   ]
  },
  {
   "cell_type": "code",
   "execution_count": null,
   "id": "6c6d32fe",
   "metadata": {
    "collapsed": false
   },
   "outputs": [],
   "source": [
    "num_repeats = 3\n",
    "for name, H in projectors.items():\n",
    "    timer_label = f\"{name}_avg_back\"\n",
    "    timer.start(timer_label)\n",
    "    for _ in range(num_repeats):\n",
    "        HTys[name] = H.T @ y\n",
    "        jax.block_until_ready(ys[name])\n",
    "    timer.stop(timer_label)\n",
    "    timer.td[timer_label] /= num_repeats"
   ]
  },
  {
   "cell_type": "markdown",
   "id": "5b33494c",
   "metadata": {},
   "source": [
    "Display timing results.\n",
    "\n",
    "On our server, when using the GPU, the SCICO projector (both forward\n",
    "and backward) is faster than ASTRA. When using the CPU, it is slower\n",
    "for forward projection and faster for back projection. The SCICO object\n",
    "initialization and first back projection are slow due to JIT\n",
    "overhead.\n",
    "\n",
    "On our server, using the GPU:\n",
    "```\n",
    "init         astra    4.81e-02 s\n",
    "init         scico    2.53e-01 s\n",
    "\n",
    "first  fwd   astra    4.44e-02 s\n",
    "first  fwd   scico    2.82e-02 s\n",
    "\n",
    "first  back  astra    3.31e-02 s\n",
    "first  back  scico    2.80e-01 s\n",
    "\n",
    "avg    fwd   astra    4.76e-02 s\n",
    "avg    fwd   scico    2.83e-02 s\n",
    "\n",
    "avg    back  astra    3.96e-02 s\n",
    "avg    back  scico    6.80e-04 s\n",
    "```\n",
    "\n",
    "Using the CPU:\n",
    "```\n",
    "init         astra    1.72e-02 s\n",
    "init         scico    2.88e+00 s\n",
    "\n",
    "first  fwd   astra    1.02e+00 s\n",
    "first  fwd   scico    2.40e+00 s\n",
    "\n",
    "first  back  astra    1.03e+00 s\n",
    "first  back  scico    3.53e+00 s\n",
    "\n",
    "avg    fwd   astra    1.03e+00 s\n",
    "avg    fwd   scico    2.54e+00 s\n",
    "\n",
    "avg    back  astra    1.01e+00 s\n",
    "avg    back  scico    5.98e-01 s\n",
    "```"
   ]
  },
  {
   "cell_type": "code",
   "execution_count": null,
   "id": "8059f95d",
   "metadata": {
    "collapsed": false
   },
   "outputs": [],
   "source": [
    "print(f\"init         astra    {timer.td['astra_init']:.2e} s\")\n",
    "print(f\"init         scico    {timer.td['scico_init']:.2e} s\")\n",
    "print(\"\")\n",
    "for tstr in (\"first\", \"avg\"):\n",
    "    for dstr in (\"fwd\", \"back\"):\n",
    "        for pstr in (\"astra\", \"scico\"):\n",
    "            print(\n",
    "                f\"{tstr:5s}  {dstr:4s}  {pstr}    {timer.td[pstr + '_' + tstr + '_' + dstr]:.2e} s\"\n",
    "            )\n",
    "        print()"
   ]
  },
  {
   "cell_type": "markdown",
   "id": "87425949",
   "metadata": {},
   "source": [
    "Show projections."
   ]
  },
  {
   "cell_type": "code",
   "execution_count": null,
   "id": "bfae9ab1",
   "metadata": {
    "collapsed": false
   },
   "outputs": [],
   "source": [
    "fig, ax = plot.subplots(nrows=1, ncols=2, figsize=(12, 6))\n",
    "plot.imview(ys[\"scico\"], title=\"SCICO projection\", cbar=None, fig=fig, ax=ax[0])\n",
    "plot.imview(ys[\"astra\"], title=\"ASTRA projection\", cbar=None, fig=fig, ax=ax[1])\n",
    "fig.show()"
   ]
  },
  {
   "cell_type": "markdown",
   "id": "81cb1af5",
   "metadata": {},
   "source": [
    "Show back projections of a single detector element, i.e., a line."
   ]
  },
  {
   "cell_type": "code",
   "execution_count": null,
   "id": "26b461db",
   "metadata": {
    "collapsed": false
   },
   "outputs": [],
   "source": [
    "fig, ax = plot.subplots(nrows=1, ncols=2, figsize=(12, 6))\n",
    "plot.imview(HTys[\"scico\"], title=\"SCICO back projection (zoom)\", cbar=None, fig=fig, ax=ax[0])\n",
    "plot.imview(HTys[\"astra\"], title=\"ASTRA back projection (zoom)\", cbar=None, fig=fig, ax=ax[1])\n",
    "for ax_i in ax:\n",
    "    ax_i.set_xlim(2 * N / 5, N - 2 * N / 5)\n",
    "    ax_i.set_ylim(2 * N / 5, N - 2 * N / 5)\n",
    "fig.show()"
   ]
  }
 ],
 "metadata": {},
 "nbformat": 4,
 "nbformat_minor": 5
}
