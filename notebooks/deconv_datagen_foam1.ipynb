{
 "cells": [
  {
   "cell_type": "markdown",
   "id": "817fd17b",
   "metadata": {},
   "source": [
    "Blurred Data Generation (Foams) for NN Training\n",
    "===============================================\n",
    "\n",
    "This example demonstrates how to generate blurred image data for\n",
    "training neural network models for deconvolution (deblurring). Foam\n",
    "phantoms from xdesign are used to generate the clean images."
   ]
  },
  {
   "cell_type": "code",
   "execution_count": 1,
   "id": "e7c25969",
   "metadata": {
    "collapsed": false,
    "execution": {
     "iopub.execute_input": "2024-10-11T19:39:19.118469Z",
     "iopub.status.busy": "2024-10-11T19:39:19.118262Z",
     "iopub.status.idle": "2024-10-11T19:40:22.453531Z",
     "shell.execute_reply": "2024-10-11T19:40:22.452349Z"
    }
   },
   "outputs": [],
   "source": [
    "# isort: off\n",
    "import numpy as np\n",
    "\n",
    "import logging\n",
    "import ray\n",
    "\n",
    "ray.init(logging_level=logging.ERROR)  # need to call init before jax import: ray-project/ray#44087\n",
    "\n",
    "from scico import plot\n",
    "from scico.flax.examples import load_blur_data\n",
    "plot.config_notebook_plotting()"
   ]
  },
  {
   "cell_type": "markdown",
   "id": "7db46205",
   "metadata": {},
   "source": [
    "Read data from cache or generate if not available."
   ]
  },
  {
   "cell_type": "code",
   "execution_count": 2,
   "id": "80c1a152",
   "metadata": {
    "collapsed": false,
    "execution": {
     "iopub.execute_input": "2024-10-11T19:40:22.456882Z",
     "iopub.status.busy": "2024-10-11T19:40:22.456355Z",
     "iopub.status.idle": "2024-10-11T19:40:23.828095Z",
     "shell.execute_reply": "2024-10-11T19:40:23.826905Z"
    }
   },
   "outputs": [
    {
     "name": "stdout",
     "output_type": "stream",
     "text": [
      "Data read from path: ~/.cache/scico/examples/data\n",
      "Set --training-- size: 416\n",
      "Set --testing -- size: 64\n",
      "Data range -- images --  Min:  0.00  Max:  1.00\n",
      "Data range -- labels --  Min:  0.00  Max:  1.00\n"
     ]
    }
   ],
   "source": [
    "n = 3  # convolution kernel size\n",
    "σ = 20.0 / 255  # noise level\n",
    "psf = np.ones((n, n)) / (n * n)  # kernel\n",
    "\n",
    "train_nimg = 416  # number of training images\n",
    "test_nimg = 64  # number of testing images\n",
    "nimg = train_nimg + test_nimg\n",
    "output_size = 256  # image size\n",
    "\n",
    "train_ds, test_ds = load_blur_data(\n",
    "    train_nimg,\n",
    "    test_nimg,\n",
    "    output_size,\n",
    "    psf,\n",
    "    σ,\n",
    "    verbose=True,\n",
    ")"
   ]
  },
  {
   "cell_type": "markdown",
   "id": "065a376c",
   "metadata": {},
   "source": [
    "Plot randomly selected sample."
   ]
  },
  {
   "cell_type": "code",
   "execution_count": 3,
   "id": "d07fa081",
   "metadata": {
    "collapsed": false,
    "execution": {
     "iopub.execute_input": "2024-10-11T19:40:23.831321Z",
     "iopub.status.busy": "2024-10-11T19:40:23.830914Z",
     "iopub.status.idle": "2024-10-11T19:40:24.043880Z",
     "shell.execute_reply": "2024-10-11T19:40:24.042809Z"
    }
   },
   "outputs": [],
   "source": [
    "indx_tr = np.random.randint(0, train_nimg)\n",
    "indx_te = np.random.randint(0, test_nimg)\n",
    "fig, axes = plot.subplots(nrows=2, ncols=2, figsize=(7, 7))\n",
    "plot.imview(\n",
    "    train_ds[\"label\"][indx_tr, ..., 0],\n",
    "    title=\"Ground truth - Training Sample\",\n",
    "    fig=fig,\n",
    "    ax=axes[0, 0],\n",
    ")\n",
    "plot.imview(\n",
    "    train_ds[\"image\"][indx_tr, ..., 0],\n",
    "    title=\"Blurred Image - Training Sample\",\n",
    "    fig=fig,\n",
    "    ax=axes[0, 1],\n",
    ")\n",
    "plot.imview(\n",
    "    test_ds[\"label\"][indx_te, ..., 0],\n",
    "    title=\"Ground truth - Testing Sample\",\n",
    "    fig=fig,\n",
    "    ax=axes[1, 0],\n",
    ")\n",
    "plot.imview(\n",
    "    test_ds[\"image\"][indx_te, ..., 0],\n",
    "    title=\"Blurred Image - Testing Sample\",\n",
    "    fig=fig,\n",
    "    ax=axes[1, 1],\n",
    ")\n",
    "fig.suptitle(r\"Training and Testing samples\")\n",
    "fig.tight_layout()\n",
    "fig.colorbar(\n",
    "    axes[0, 1].get_images()[0],\n",
    "    ax=axes,\n",
    "    shrink=0.5,\n",
    "    pad=0.05,\n",
    "    label=\"Arbitrary Units\",\n",
    ")\n",
    "fig.show()"
   ]
  }
 ],
 "metadata": {
  "language_info": {
   "codemirror_mode": {
    "name": "ipython",
    "version": 3
   },
   "file_extension": ".py",
   "mimetype": "text/x-python",
   "name": "python",
   "nbconvert_exporter": "python",
   "pygments_lexer": "ipython3",
   "version": "3.12.7"
  }
 },
 "nbformat": 4,
 "nbformat_minor": 5
}
