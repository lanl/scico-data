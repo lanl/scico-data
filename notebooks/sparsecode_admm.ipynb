{
 "cells": [
  {
   "cell_type": "markdown",
   "id": "851facac",
   "metadata": {},
   "source": [
    "Non-negative Basis Pursuit DeNoising (ADMM)\n",
    "===========================================\n",
    "\n",
    "This example demonstrates the use of class\n",
    "[admm.ADMM](../_autosummary/scico.optimize.html#scico.optimize.ADMM) to\n",
    "solve the non-negative sparse coding problem problem\n",
    "\n",
    "  $$\\mathrm{argmin}_{\\mathbf{x}} \\; \\| \\mathbf{y} - D \\mathbf{x} \\|_2^2\n",
    "  + \\lambda \\| \\mathbf{x} \\|_1 + I(\\mathbf{x} \\geq 0)\\;,$$\n",
    "\n",
    "where $D$ the dictionary, $\\mathbf{y}$ the signal to be represented,\n",
    "$\\mathbf{x}$ is the sparse representation, and $I(\\mathbf{x} \\geq 0)$\n",
    "is the non-negative indicator."
   ]
  },
  {
   "cell_type": "code",
   "execution_count": 1,
   "id": "2b9f5de5",
   "metadata": {
    "collapsed": false,
    "execution": {
     "iopub.execute_input": "2021-12-16T21:53:38.056494Z",
     "iopub.status.busy": "2021-12-16T21:53:38.055935Z",
     "iopub.status.idle": "2021-12-16T21:53:40.958993Z",
     "shell.execute_reply": "2021-12-16T21:53:40.958516Z"
    }
   },
   "outputs": [],
   "source": [
    "import numpy as np\n",
    "\n",
    "import jax\n",
    "\n",
    "from scico import functional, linop, loss, plot\n",
    "from scico.optimize.admm import ADMM, LinearSubproblemSolver\n",
    "from scico.util import device_info\n",
    "plot.config_notebook_plotting()"
   ]
  },
  {
   "cell_type": "markdown",
   "id": "31b4e115",
   "metadata": {},
   "source": [
    "Create random dictionary, reference random sparse representation, and\n",
    "test signal consisting of the synthesis of the reference sparse\n",
    "representation."
   ]
  },
  {
   "cell_type": "code",
   "execution_count": 2,
   "id": "6e88556d",
   "metadata": {
    "collapsed": false,
    "execution": {
     "iopub.execute_input": "2021-12-16T21:53:40.966295Z",
     "iopub.status.busy": "2021-12-16T21:53:40.965657Z",
     "iopub.status.idle": "2021-12-16T21:53:42.869880Z",
     "shell.execute_reply": "2021-12-16T21:53:42.869164Z"
    }
   },
   "outputs": [],
   "source": [
    "m = 32  # signal size\n",
    "n = 128  # dictionary size\n",
    "s = 10  # sparsity level\n",
    "\n",
    "np.random.seed(1)\n",
    "D = np.random.randn(m, n)\n",
    "D = D / np.linalg.norm(D, axis=0, keepdims=True)  # normalize dictionary\n",
    "\n",
    "xt = np.zeros(n)  # true signal\n",
    "idx = np.random.randint(low=0, high=n, size=s)  # support of xt\n",
    "xt[idx] = np.random.rand(s)\n",
    "y = D @ xt + 5e-2 * np.random.randn(m)  # synthetic signal\n",
    "\n",
    "xt = jax.device_put(xt)  # convert to jax array, push to GPU\n",
    "y = jax.device_put(y)  # convert to jax array, push to GPU"
   ]
  },
  {
   "cell_type": "markdown",
   "id": "c8c7b981",
   "metadata": {},
   "source": [
    "Set up the forward operator and ADMM solver object."
   ]
  },
  {
   "cell_type": "code",
   "execution_count": 3,
   "id": "93eceff7",
   "metadata": {
    "collapsed": false,
    "execution": {
     "iopub.execute_input": "2021-12-16T21:53:42.880668Z",
     "iopub.status.busy": "2021-12-16T21:53:42.879812Z",
     "iopub.status.idle": "2021-12-16T21:53:43.332730Z",
     "shell.execute_reply": "2021-12-16T21:53:43.333197Z"
    }
   },
   "outputs": [],
   "source": [
    "lmbda = 1e-1\n",
    "A = linop.MatrixOperator(D)\n",
    "f = loss.SquaredL2Loss(y=y, A=A)\n",
    "g_list = [lmbda * functional.L1Norm(), functional.NonNegativeIndicator()]\n",
    "C_list = [linop.Identity((n)), linop.Identity((n))]\n",
    "rho_list = [1.0, 1.0]\n",
    "maxiter = 100  # number of ADMM iterations\n",
    "\n",
    "solver = ADMM(\n",
    "    f=f,\n",
    "    g_list=g_list,\n",
    "    C_list=C_list,\n",
    "    rho_list=rho_list,\n",
    "    x0=A.adj(y),\n",
    "    maxiter=maxiter,\n",
    "    subproblem_solver=LinearSubproblemSolver(),\n",
    "    itstat_options={\"display\": True, \"period\": 10},\n",
    ")"
   ]
  },
  {
   "cell_type": "markdown",
   "id": "cf57f70b",
   "metadata": {},
   "source": [
    "Run the solver."
   ]
  },
  {
   "cell_type": "code",
   "execution_count": 4,
   "id": "fc3e8ffb",
   "metadata": {
    "collapsed": false,
    "execution": {
     "iopub.execute_input": "2021-12-16T21:53:43.339669Z",
     "iopub.status.busy": "2021-12-16T21:53:43.339105Z",
     "iopub.status.idle": "2021-12-16T21:53:48.697886Z",
     "shell.execute_reply": "2021-12-16T21:53:48.699192Z"
    }
   },
   "outputs": [
    {
     "name": "stdout",
     "output_type": "stream",
     "text": [
      "Solving on GPU (NVIDIA GeForce RTX 2080 Ti)\n",
      "\n"
     ]
    },
    {
     "name": "stdout",
     "output_type": "stream",
     "text": [
      "Iter  Time      Objective  Primal Rsdl  Dual Rsdl\n",
      "-------------------------------------------------\n",
      "   0  1.49e+00  2.810e+00    1.435e+00  4.750e+00\n",
      "   1  2.33e+00  6.810e-01    4.430e-01  8.297e-01\r",
      "   2  2.37e+00  6.931e-01    3.791e-01  2.579e-01\r",
      "   3  2.41e+00  6.060e-01    2.025e-01  1.891e-01\r",
      "   4  2.45e+00  5.527e-01    1.014e-01  1.657e-01\r"
     ]
    },
    {
     "name": "stdout",
     "output_type": "stream",
     "text": [
      "   5  2.50e+00  5.219e-01    7.435e-02  1.383e-01\r",
      "   6  2.54e+00  5.079e-01    7.708e-02  1.088e-01\r",
      "   7  2.58e+00  4.989e-01    5.200e-02  9.590e-02\r",
      "   8  2.62e+00  4.928e-01    4.370e-02  8.704e-02\r",
      "   9  2.65e+00  4.904e-01    5.080e-02  7.129e-02\r",
      "  10  2.68e+00  4.879e-01    3.589e-02  6.160e-02\n"
     ]
    },
    {
     "name": "stdout",
     "output_type": "stream",
     "text": [
      "  11  2.72e+00  4.858e-01    3.085e-02  5.369e-02\r",
      "  12  2.75e+00  4.847e-01    3.254e-02  4.529e-02\r",
      "  13  2.79e+00  4.829e-01    2.271e-02  3.870e-02\r",
      "  14  2.83e+00  4.811e-01    1.596e-02  3.524e-02\r",
      "  15  2.88e+00  4.797e-01    1.319e-02  3.197e-02\r",
      "  16  2.91e+00  4.785e-01    1.167e-02  2.921e-02\r"
     ]
    },
    {
     "name": "stdout",
     "output_type": "stream",
     "text": [
      "  17  2.94e+00  4.775e-01    1.091e-02  2.673e-02\r",
      "  18  2.96e+00  4.765e-01    1.011e-02  2.467e-02\r",
      "  19  3.00e+00  4.757e-01    9.884e-03  2.269e-02\r",
      "  20  3.03e+00  4.753e-01    1.018e-02  2.036e-02\n",
      "  21  3.08e+00  4.750e-01    9.116e-03  1.848e-02\r"
     ]
    },
    {
     "name": "stdout",
     "output_type": "stream",
     "text": [
      "  22  3.14e+00  4.749e-01    8.490e-03  1.640e-02\r",
      "  23  3.18e+00  4.749e-01    8.105e-03  1.462e-02\r",
      "  24  3.23e+00  4.748e-01    6.656e-03  1.307e-02\r",
      "  25  3.26e+00  4.746e-01    5.801e-03  1.176e-02\r",
      "  26  3.30e+00  4.744e-01    5.057e-03  1.065e-02\r",
      "  27  3.34e+00  4.742e-01    4.407e-03  9.717e-03\r"
     ]
    },
    {
     "name": "stdout",
     "output_type": "stream",
     "text": [
      "  28  3.38e+00  4.740e-01    3.852e-03  8.930e-03\r",
      "  29  3.43e+00  4.739e-01    3.385e-03  8.260e-03\r",
      "  30  3.48e+00  4.737e-01    2.998e-03  7.681e-03\n",
      "  31  3.50e+00  4.736e-01    2.681e-03  7.170e-03\r",
      "  32  3.53e+00  4.735e-01    2.423e-03  6.714e-03\r",
      "  33  3.55e+00  4.734e-01    2.210e-03  6.299e-03\r"
     ]
    },
    {
     "name": "stdout",
     "output_type": "stream",
     "text": [
      "  34  3.59e+00  4.733e-01    2.034e-03  5.919e-03\r",
      "  35  3.64e+00  4.733e-01    1.883e-03  5.567e-03\r",
      "  36  3.67e+00  4.732e-01    1.753e-03  5.240e-03\r",
      "  37  3.72e+00  4.732e-01    1.637e-03  4.933e-03\r",
      "  38  3.77e+00  4.731e-01    1.533e-03  4.646e-03\r",
      "  39  3.79e+00  4.731e-01    1.438e-03  4.377e-03\r"
     ]
    },
    {
     "name": "stdout",
     "output_type": "stream",
     "text": [
      "  40  3.83e+00  4.732e-01    1.711e-03  3.709e-03\n",
      "  41  3.88e+00  4.732e-01    1.777e-03  3.219e-03\r",
      "  42  3.92e+00  4.732e-01    1.506e-03  2.784e-03\r",
      "  43  3.98e+00  4.732e-01    1.417e-03  2.403e-03\r",
      "  44  4.02e+00  4.732e-01    1.297e-03  2.078e-03\r"
     ]
    },
    {
     "name": "stdout",
     "output_type": "stream",
     "text": [
      "  45  4.05e+00  4.732e-01    1.166e-03  1.802e-03\r",
      "  46  4.08e+00  4.731e-01    1.036e-03  1.566e-03\r",
      "  47  4.11e+00  4.731e-01    9.219e-04  1.341e-03\r",
      "  48  4.16e+00  4.731e-01    8.266e-04  1.141e-03\r",
      "  49  4.19e+00  4.731e-01    7.104e-04  9.697e-04\r",
      "  50  4.23e+00  4.731e-01    6.210e-04  8.221e-04\n"
     ]
    },
    {
     "name": "stdout",
     "output_type": "stream",
     "text": [
      "  51  4.26e+00  4.731e-01    5.394e-04  6.972e-04\r",
      "  52  4.28e+00  4.730e-01    4.663e-04  5.905e-04\r",
      "  53  4.31e+00  4.730e-01    4.012e-04  4.993e-04\r",
      "  54  4.34e+00  4.730e-01    3.439e-04  4.220e-04\r",
      "  55  4.37e+00  4.730e-01    2.936e-04  3.561e-04\r",
      "  56  4.40e+00  4.730e-01    2.498e-04  3.006e-04\r",
      "  57  4.44e+00  4.730e-01    2.099e-04  2.507e-04\r"
     ]
    },
    {
     "name": "stdout",
     "output_type": "stream",
     "text": [
      "  58  4.47e+00  4.730e-01    1.780e-04  2.144e-04\r",
      "  59  4.50e+00  4.730e-01    1.506e-04  1.818e-04\r",
      "  60  4.52e+00  4.730e-01    1.274e-04  1.549e-04\n",
      "  61  4.55e+00  4.730e-01    1.080e-04  1.322e-04\r",
      "  62  4.57e+00  4.730e-01    9.142e-05  1.131e-04\r",
      "  63  4.60e+00  4.730e-01    7.722e-05  9.760e-05\r",
      "  64  4.62e+00  4.730e-01    6.169e-05  7.752e-05\r",
      "  65  4.64e+00  4.730e-01    5.078e-05  7.121e-05\r",
      "  66  4.67e+00  4.730e-01    4.403e-05  6.321e-05\r"
     ]
    },
    {
     "name": "stdout",
     "output_type": "stream",
     "text": [
      "  67  4.69e+00  4.730e-01    3.877e-05  5.688e-05\r",
      "  68  4.72e+00  4.730e-01    3.307e-05  5.035e-05\r",
      "  69  4.74e+00  4.730e-01    2.901e-05  4.580e-05\r",
      "  70  4.77e+00  4.730e-01    2.507e-05  4.112e-05\n",
      "  71  4.79e+00  4.730e-01    1.710e-05  2.172e-05\r",
      "  72  4.81e+00  4.730e-01    2.128e-05  1.658e-05\r",
      "  73  4.83e+00  4.730e-01    1.280e-05  1.101e-05\r",
      "  74  4.85e+00  4.730e-01    1.280e-05  0.000e+00\r",
      "  75  4.87e+00  4.730e-01    9.261e-06  1.535e-05\r"
     ]
    },
    {
     "name": "stdout",
     "output_type": "stream",
     "text": [
      "  76  4.90e+00  4.730e-01    6.906e-06  1.154e-05\r",
      "  77  4.93e+00  4.730e-01    6.906e-06  0.000e+00\r",
      "  78  4.95e+00  4.730e-01    8.234e-06  1.153e-05\r",
      "  79  4.97e+00  4.730e-01    4.058e-06  1.016e-05\r",
      "  80  4.99e+00  4.730e-01    4.058e-06  0.000e+00\n",
      "  81  5.01e+00  4.730e-01    4.058e-06  0.000e+00\r",
      "  82  5.03e+00  4.730e-01    4.058e-06  0.000e+00\r",
      "  83  5.05e+00  4.730e-01    4.058e-06  0.000e+00\r",
      "  84  5.07e+00  4.730e-01    7.535e-06  9.742e-06\r",
      "  85  5.09e+00  4.730e-01    7.535e-06  0.000e+00\r"
     ]
    },
    {
     "name": "stdout",
     "output_type": "stream",
     "text": [
      "  86  5.11e+00  4.730e-01    1.874e-06  8.316e-06\r",
      "  87  5.13e+00  4.730e-01    1.874e-06  0.000e+00\r",
      "  88  5.15e+00  4.730e-01    1.874e-06  0.000e+00\r",
      "  89  5.17e+00  4.730e-01    1.874e-06  0.000e+00\r",
      "  90  5.18e+00  4.730e-01    1.874e-06  0.000e+00\n",
      "  91  5.20e+00  4.730e-01    1.874e-06  0.000e+00\r",
      "  92  5.22e+00  4.730e-01    1.874e-06  0.000e+00\r",
      "  93  5.23e+00  4.730e-01    1.874e-06  0.000e+00\r",
      "  94  5.25e+00  4.730e-01    1.874e-06  0.000e+00\r",
      "  95  5.27e+00  4.730e-01    7.745e-06  8.150e-06\r",
      "  96  5.29e+00  4.730e-01    7.745e-06  0.000e+00\r",
      "  97  5.31e+00  4.730e-01    1.829e-06  7.832e-06\r"
     ]
    },
    {
     "name": "stdout",
     "output_type": "stream",
     "text": [
      "  98  5.32e+00  4.730e-01    1.829e-06  0.000e+00\r",
      "  99  5.34e+00  4.730e-01    1.829e-06  0.000e+00\r\n"
     ]
    }
   ],
   "source": [
    "print(f\"Solving on {device_info()}\\n\")\n",
    "x = solver.solve()"
   ]
  },
  {
   "cell_type": "markdown",
   "id": "66605028",
   "metadata": {},
   "source": [
    "Plot the recovered coefficients and signal."
   ]
  },
  {
   "cell_type": "code",
   "execution_count": 5,
   "id": "b5a711c9",
   "metadata": {
    "collapsed": false,
    "execution": {
     "iopub.execute_input": "2021-12-16T21:53:48.726990Z",
     "iopub.status.busy": "2021-12-16T21:53:48.726242Z",
     "iopub.status.idle": "2021-12-16T21:53:49.180726Z",
     "shell.execute_reply": "2021-12-16T21:53:49.181337Z"
    }
   },
   "outputs": [
    {
     "data": {
      "image/png": "[encoded data removed]",
      "text/plain": [
       "<Figure size 864x360 with 2 Axes>"
      ]
     },
     "metadata": {
      "needs_background": "light"
     },
     "output_type": "display_data"
    }
   ],
   "source": [
    "fig, ax = plot.subplots(nrows=1, ncols=2, figsize=(12, 5))\n",
    "plot.plot(\n",
    "    np.vstack((xt, solver.x)).T,\n",
    "    title=\"Coefficients\",\n",
    "    lgnd=(\"Ground Truth\", \"Recovered\"),\n",
    "    fig=fig,\n",
    "    ax=ax[0],\n",
    ")\n",
    "plot.plot(\n",
    "    np.vstack((D @ xt, y, D @ solver.x)).T,\n",
    "    title=\"Signal\",\n",
    "    lgnd=(\"Ground Truth\", \"Noisy\", \"Recovered\"),\n",
    "    fig=fig,\n",
    "    ax=ax[1],\n",
    ")\n",
    "fig.show()"
   ]
  }
 ],
 "metadata": {
  "language_info": {
   "codemirror_mode": {
    "name": "ipython",
    "version": 3
   },
   "file_extension": ".py",
   "mimetype": "text/x-python",
   "name": "python",
   "nbconvert_exporter": "python",
   "pygments_lexer": "ipython3",
   "version": "3.8.12"
  }
 },
 "nbformat": 4,
 "nbformat_minor": 5
}
