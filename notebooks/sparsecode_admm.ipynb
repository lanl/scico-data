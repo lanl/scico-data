{
 "cells": [
  {
   "cell_type": "markdown",
   "id": "6c4a070e",
   "metadata": {},
   "source": [
    "Non-negative Basis Pursuit DeNoising (ADMM)\n",
    "===========================================\n",
    "\n",
    "This example demonstrates the use of class\n",
    "[admm.ADMM](../_autosummary/scico.admm.rst#scico.admm.ADMM) to solve\n",
    "the non-negative sparse coding problem problem\n",
    "\n",
    "  $$\\mathrm{argmin}_{\\mathbf{x}} \\; \\| \\mathbf{y} - D \\mathbf{x} \\|_2^2\n",
    "  + \\lambda \\| \\mathbf{x} \\|_1 + I(\\mathbf{x} \\geq 0)\\;,$$\n",
    "\n",
    "where $D$ the dictionary, $\\mathbf{y}$ the signal to be represented,\n",
    "$\\mathbf{x}$ is the sparse representation, and $I(\\mathbf{x} \\geq 0)$\n",
    "is the non-negative indicator."
   ]
  },
  {
   "cell_type": "code",
   "execution_count": 1,
   "id": "1a5ad991",
   "metadata": {
    "collapsed": false,
    "execution": {
     "iopub.execute_input": "2021-11-16T22:09:24.453928Z",
     "iopub.status.busy": "2021-11-16T22:09:24.453415Z",
     "iopub.status.idle": "2021-11-16T22:09:26.233089Z",
     "shell.execute_reply": "2021-11-16T22:09:26.232468Z"
    }
   },
   "outputs": [],
   "source": [
    "import numpy as np\n",
    "\n",
    "import jax\n",
    "\n",
    "from scico import functional, linop, loss, plot\n",
    "from scico.admm import ADMM, LinearSubproblemSolver\n",
    "from scico.util import device_info\n",
    "plot.config_notebook_plotting()"
   ]
  },
  {
   "cell_type": "markdown",
   "id": "e18d7557",
   "metadata": {},
   "source": [
    "Create random dictionary, reference random sparse representation, and\n",
    "test signal consisting of the synthesis of the reference sparse\n",
    "representation."
   ]
  },
  {
   "cell_type": "code",
   "execution_count": 2,
   "id": "158092fc",
   "metadata": {
    "collapsed": false,
    "execution": {
     "iopub.execute_input": "2021-11-16T22:09:26.240310Z",
     "iopub.status.busy": "2021-11-16T22:09:26.239759Z",
     "iopub.status.idle": "2021-11-16T22:09:28.736048Z",
     "shell.execute_reply": "2021-11-16T22:09:28.736662Z"
    }
   },
   "outputs": [],
   "source": [
    "m = 32  # signal size\n",
    "n = 128  # dictionary size\n",
    "s = 10  # sparsity level\n",
    "\n",
    "np.random.seed(1)\n",
    "D = np.random.randn(m, n)\n",
    "D = D / np.linalg.norm(D, axis=0, keepdims=True)  # normalize dictionary\n",
    "\n",
    "xt = np.zeros(n)  # true signal\n",
    "idx = np.random.randint(low=0, high=n, size=s)  # support of xt\n",
    "xt[idx] = np.random.rand(s)\n",
    "y = D @ xt + 5e-2 * np.random.randn(m)  # synthetic signal\n",
    "\n",
    "xt = jax.device_put(xt)  # convert to jax array, push to GPU\n",
    "y = jax.device_put(y)  # convert to jax array, push to GPU"
   ]
  },
  {
   "cell_type": "markdown",
   "id": "484dee75",
   "metadata": {},
   "source": [
    "Set up the forward operator and ADMM solver object."
   ]
  },
  {
   "cell_type": "code",
   "execution_count": 3,
   "id": "8d4008e4",
   "metadata": {
    "collapsed": false,
    "execution": {
     "iopub.execute_input": "2021-11-16T22:09:28.748538Z",
     "iopub.status.busy": "2021-11-16T22:09:28.747925Z",
     "iopub.status.idle": "2021-11-16T22:09:30.815134Z",
     "shell.execute_reply": "2021-11-16T22:09:30.815816Z"
    }
   },
   "outputs": [],
   "source": [
    "lmbda = 1e-1\n",
    "A = linop.MatrixOperator(D)\n",
    "f = loss.SquaredL2Loss(y=y, A=A)\n",
    "g_list = [lmbda * functional.L1Norm(), functional.NonNegativeIndicator()]\n",
    "C_list = [linop.Identity((n)), linop.Identity((n))]\n",
    "rho_list = [1.0, 1.0]\n",
    "maxiter = 100  # number of ADMM iterations\n",
    "\n",
    "solver = ADMM(\n",
    "    f=f,\n",
    "    g_list=g_list,\n",
    "    C_list=C_list,\n",
    "    rho_list=rho_list,\n",
    "    x0=A.adj(y),\n",
    "    maxiter=maxiter,\n",
    "    subproblem_solver=LinearSubproblemSolver(),\n",
    "    verbose=True,\n",
    ")"
   ]
  },
  {
   "cell_type": "markdown",
   "id": "7b923c81",
   "metadata": {},
   "source": [
    "Run the solver."
   ]
  },
  {
   "cell_type": "code",
   "execution_count": 4,
   "id": "f520dd90",
   "metadata": {
    "collapsed": false,
    "execution": {
     "iopub.execute_input": "2021-11-16T22:09:30.820784Z",
     "iopub.status.busy": "2021-11-16T22:09:30.820037Z",
     "iopub.status.idle": "2021-11-16T22:09:36.469071Z",
     "shell.execute_reply": "2021-11-16T22:09:36.470067Z"
    }
   },
   "outputs": [
    {
     "name": "stdout",
     "output_type": "stream",
     "text": [
      "Solving on GPU (NVIDIA GeForce RTX 2080 Ti)\n",
      "\n"
     ]
    },
    {
     "name": "stdout",
     "output_type": "stream",
     "text": [
      "Iter  Time      Objective  Primal Rsdl  Dual Rsdl\n",
      "-------------------------------------------------\n",
      "   0  1.63e+00  2.810e+00    1.435e+00  4.750e+00\n",
      "   1  2.62e+00  6.810e-01    4.430e-01  8.297e-01\n",
      "   2  2.66e+00  6.931e-01    3.791e-01  2.579e-01\n",
      "   3  2.72e+00  6.060e-01    2.025e-01  1.891e-01\n",
      "   4  2.77e+00  5.527e-01    1.014e-01  1.657e-01\n"
     ]
    },
    {
     "name": "stdout",
     "output_type": "stream",
     "text": [
      "   5  2.81e+00  5.219e-01    7.435e-02  1.383e-01\n",
      "   6  2.86e+00  5.079e-01    7.708e-02  1.088e-01\n",
      "   7  2.89e+00  4.989e-01    5.200e-02  9.590e-02\n",
      "   8  2.93e+00  4.928e-01    4.370e-02  8.704e-02\n",
      "   9  2.97e+00  4.904e-01    5.080e-02  7.129e-02\n",
      "  10  3.00e+00  4.879e-01    3.589e-02  6.160e-02\n"
     ]
    },
    {
     "name": "stdout",
     "output_type": "stream",
     "text": [
      "  11  3.03e+00  4.858e-01    3.085e-02  5.368e-02\n",
      "  12  3.06e+00  4.847e-01    3.254e-02  4.529e-02\n",
      "  13  3.09e+00  4.829e-01    2.271e-02  3.870e-02\n",
      "  14  3.13e+00  4.811e-01    1.596e-02  3.524e-02\n",
      "  15  3.17e+00  4.797e-01    1.319e-02  3.197e-02\n",
      "  16  3.21e+00  4.785e-01    1.167e-02  2.921e-02\n"
     ]
    },
    {
     "name": "stdout",
     "output_type": "stream",
     "text": [
      "  17  3.25e+00  4.775e-01    1.091e-02  2.673e-02\n",
      "  18  3.29e+00  4.765e-01    1.011e-02  2.467e-02\n",
      "  19  3.32e+00  4.757e-01    9.884e-03  2.269e-02\n",
      "  20  3.35e+00  4.753e-01    1.018e-02  2.036e-02\n",
      "  21  3.39e+00  4.750e-01    9.116e-03  1.848e-02\n",
      "  22  3.41e+00  4.749e-01    8.490e-03  1.640e-02\n",
      "  23  3.44e+00  4.749e-01    8.105e-03  1.462e-02\n"
     ]
    },
    {
     "name": "stdout",
     "output_type": "stream",
     "text": [
      "  24  3.47e+00  4.748e-01    6.656e-03  1.307e-02\n",
      "  25  3.51e+00  4.746e-01    5.801e-03  1.176e-02\n",
      "  26  3.54e+00  4.744e-01    5.057e-03  1.065e-02\n",
      "  27  3.58e+00  4.742e-01    4.407e-03  9.717e-03\n",
      "  28  3.61e+00  4.740e-01    3.852e-03  8.930e-03\n",
      "  29  3.65e+00  4.739e-01    3.385e-03  8.260e-03\n"
     ]
    },
    {
     "name": "stdout",
     "output_type": "stream",
     "text": [
      "  30  3.69e+00  4.737e-01    2.998e-03  7.681e-03\n",
      "  31  3.73e+00  4.736e-01    2.681e-03  7.170e-03\n",
      "  32  3.76e+00  4.735e-01    2.423e-03  6.714e-03\n",
      "  33  3.79e+00  4.734e-01    2.210e-03  6.299e-03\n",
      "  34  3.83e+00  4.733e-01    2.034e-03  5.919e-03\n",
      "  35  3.86e+00  4.733e-01    1.883e-03  5.567e-03\n",
      "  36  3.89e+00  4.732e-01    1.753e-03  5.239e-03\n"
     ]
    },
    {
     "name": "stdout",
     "output_type": "stream",
     "text": [
      "  37  3.92e+00  4.732e-01    1.637e-03  4.933e-03\n",
      "  38  3.95e+00  4.731e-01    1.533e-03  4.646e-03\n",
      "  39  3.98e+00  4.731e-01    1.438e-03  4.377e-03\n",
      "  40  4.01e+00  4.732e-01    1.711e-03  3.709e-03\n",
      "  41  4.04e+00  4.732e-01    1.777e-03  3.219e-03\n",
      "  42  4.07e+00  4.732e-01    1.506e-03  2.784e-03\n",
      "  43  4.11e+00  4.732e-01    1.417e-03  2.403e-03\n"
     ]
    },
    {
     "name": "stdout",
     "output_type": "stream",
     "text": [
      "  44  4.14e+00  4.732e-01    1.297e-03  2.078e-03\n",
      "  45  4.17e+00  4.732e-01    1.166e-03  1.802e-03\n",
      "  46  4.20e+00  4.731e-01    1.036e-03  1.566e-03\n",
      "  47  4.23e+00  4.731e-01    9.219e-04  1.341e-03\n",
      "  48  4.27e+00  4.731e-01    8.267e-04  1.142e-03\n",
      "  49  4.29e+00  4.731e-01    7.104e-04  9.697e-04\n",
      "  50  4.32e+00  4.731e-01    6.210e-04  8.221e-04\n"
     ]
    },
    {
     "name": "stdout",
     "output_type": "stream",
     "text": [
      "  51  4.35e+00  4.731e-01    5.394e-04  6.971e-04\n",
      "  52  4.38e+00  4.730e-01    4.663e-04  5.905e-04\n",
      "  53  4.41e+00  4.730e-01    4.013e-04  4.993e-04\n",
      "  54  4.45e+00  4.730e-01    3.439e-04  4.219e-04\n",
      "  55  4.48e+00  4.730e-01    2.936e-04  3.562e-04\n",
      "  56  4.50e+00  4.730e-01    2.498e-04  3.007e-04\n",
      "  57  4.53e+00  4.730e-01    2.099e-04  2.506e-04\n"
     ]
    },
    {
     "name": "stdout",
     "output_type": "stream",
     "text": [
      "  58  4.56e+00  4.730e-01    1.780e-04  2.145e-04\n",
      "  59  4.59e+00  4.730e-01    1.506e-04  1.818e-04\n",
      "  60  4.62e+00  4.730e-01    1.274e-04  1.548e-04\n",
      "  61  4.65e+00  4.730e-01    1.080e-04  1.320e-04\n",
      "  62  4.68e+00  4.730e-01    9.141e-05  1.132e-04\n",
      "  63  4.71e+00  4.730e-01    7.721e-05  9.759e-05\n",
      "  64  4.74e+00  4.730e-01    6.170e-05  7.761e-05\n"
     ]
    },
    {
     "name": "stdout",
     "output_type": "stream",
     "text": [
      "  65  4.76e+00  4.730e-01    5.081e-05  7.133e-05\n",
      "  66  4.79e+00  4.730e-01    4.402e-05  6.308e-05\n",
      "  67  4.82e+00  4.730e-01    3.880e-05  5.695e-05\n",
      "  68  4.84e+00  4.730e-01    3.305e-05  5.026e-05\n",
      "  69  4.87e+00  4.730e-01    2.900e-05  4.579e-05\n",
      "  70  4.89e+00  4.730e-01    1.966e-05  2.374e-05\n",
      "  71  4.92e+00  4.730e-01    2.221e-05  3.919e-05\n",
      "  72  4.95e+00  4.730e-01    1.348e-05  2.179e-05\n"
     ]
    },
    {
     "name": "stdout",
     "output_type": "stream",
     "text": [
      "  73  4.98e+00  4.730e-01    1.348e-05  0.000e+00\n",
      "  74  5.01e+00  4.730e-01    1.348e-05  0.000e+00\n",
      "  75  5.03e+00  4.730e-01    1.044e-05  2.067e-05\n",
      "  76  5.06e+00  4.730e-01    1.044e-05  0.000e+00\n",
      "  77  5.08e+00  4.730e-01    7.163e-06  1.302e-05\n",
      "  78  5.10e+00  4.730e-01    7.163e-06  0.000e+00\n",
      "  79  5.13e+00  4.730e-01    8.850e-06  1.205e-05\n",
      "  80  5.15e+00  4.730e-01    8.850e-06  0.000e+00\n",
      "  81  5.17e+00  4.730e-01    3.871e-06  9.385e-06\n"
     ]
    },
    {
     "name": "stdout",
     "output_type": "stream",
     "text": [
      "  82  5.19e+00  4.730e-01    3.871e-06  0.000e+00\n",
      "  83  5.21e+00  4.730e-01    3.871e-06  0.000e+00\n",
      "  84  5.23e+00  4.730e-01    3.871e-06  0.000e+00\n",
      "  85  5.26e+00  4.730e-01    3.871e-06  0.000e+00\n",
      "  86  5.28e+00  4.730e-01    6.685e-06  9.553e-06\n",
      "  87  5.31e+00  4.730e-01    6.685e-06  0.000e+00\n",
      "  88  5.34e+00  4.730e-01    6.685e-06  0.000e+00\n",
      "  89  5.37e+00  4.730e-01    3.372e-06  7.933e-06\n"
     ]
    },
    {
     "name": "stdout",
     "output_type": "stream",
     "text": [
      "  90  5.40e+00  4.730e-01    3.372e-06  0.000e+00\n",
      "  91  5.43e+00  4.730e-01    3.372e-06  0.000e+00\n",
      "  92  5.45e+00  4.730e-01    3.372e-06  0.000e+00\n",
      "  93  5.49e+00  4.730e-01    3.372e-06  0.000e+00\n",
      "  94  5.52e+00  4.730e-01    3.372e-06  0.000e+00\n",
      "  95  5.54e+00  4.730e-01    6.564e-06  8.057e-06\n",
      "  96  5.56e+00  4.730e-01    6.564e-06  0.000e+00\n",
      "  97  5.58e+00  4.730e-01    6.564e-06  0.000e+00\n"
     ]
    },
    {
     "name": "stdout",
     "output_type": "stream",
     "text": [
      "  98  5.60e+00  4.730e-01    3.105e-06  7.714e-06\n",
      "  99  5.63e+00  4.730e-01    3.105e-06  0.000e+00\n"
     ]
    }
   ],
   "source": [
    "print(f\"Solving on {device_info()}\\n\")\n",
    "x = solver.solve()"
   ]
  },
  {
   "cell_type": "markdown",
   "id": "0079c4c5",
   "metadata": {},
   "source": [
    "Plot the recovered coefficients and signal."
   ]
  },
  {
   "cell_type": "code",
   "execution_count": 5,
   "id": "7de3d893",
   "metadata": {
    "collapsed": false,
    "execution": {
     "iopub.execute_input": "2021-11-16T22:09:36.588282Z",
     "iopub.status.busy": "2021-11-16T22:09:36.586800Z",
     "iopub.status.idle": "2021-11-16T22:09:36.973649Z",
     "shell.execute_reply": "2021-11-16T22:09:36.974054Z"
    }
   },
   "outputs": [
    {
     "data": {
      "image/png": "[encoded data removed]",
      "text/plain": [
       "<Figure size 864x360 with 2 Axes>"
      ]
     },
     "metadata": {
      "needs_background": "light"
     },
     "output_type": "display_data"
    }
   ],
   "source": [
    "fig, ax = plot.subplots(nrows=1, ncols=2, figsize=(12, 5))\n",
    "plot.plot(\n",
    "    np.vstack((xt, solver.x)).T,\n",
    "    title=\"Coefficients\",\n",
    "    lgnd=(\"Ground Truth\", \"Recovered\"),\n",
    "    fig=fig,\n",
    "    ax=ax[0],\n",
    ")\n",
    "plot.plot(\n",
    "    np.vstack((D @ xt, y, D @ solver.x)).T,\n",
    "    title=\"Signal\",\n",
    "    lgnd=(\"Ground Truth\", \"Noisy\", \"Recovered\"),\n",
    "    fig=fig,\n",
    "    ax=ax[1],\n",
    ")\n",
    "fig.show()"
   ]
  }
 ],
 "metadata": {
  "language_info": {
   "codemirror_mode": {
    "name": "ipython",
    "version": 3
   },
   "file_extension": ".py",
   "mimetype": "text/x-python",
   "name": "python",
   "nbconvert_exporter": "python",
   "pygments_lexer": "ipython3",
   "version": "3.8.12"
  }
 },
 "nbformat": 4,
 "nbformat_minor": 5
}
