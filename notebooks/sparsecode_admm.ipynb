{
 "cells": [
  {
   "cell_type": "markdown",
   "id": "80d82c4e",
   "metadata": {},
   "source": [
    "Non-negative Basis Pursuit DeNoising (ADMM)\n",
    "===========================================\n",
    "\n",
    "This example demonstrates the use of class\n",
    "[admm.ADMM](../_autosummary/scico.admm.rst#scico.admm.ADMM) to solve\n",
    "the non-negative sparse coding problem problem\n",
    "\n",
    "  $$\\mathrm{argmin}_{\\mathbf{x}} \\; \\| \\mathbf{y} - D \\mathbf{x} \\|_2^2\n",
    "  + \\lambda \\| \\mathbf{x} \\|_1 + I(\\mathbf{x} \\geq 0)\\;,$$\n",
    "\n",
    "where $D$ the dictionary, $\\mathbf{y}$ the signal to be represented,\n",
    "$\\mathbf{x}$ is the sparse representation, and $I(\\mathbf{x} \\geq 0)$\n",
    "is the non-negative indicator."
   ]
  },
  {
   "cell_type": "code",
   "execution_count": 1,
   "id": "d6539780",
   "metadata": {
    "collapsed": false,
    "execution": {
     "iopub.execute_input": "2021-11-24T13:59:17.571066Z",
     "iopub.status.busy": "2021-11-24T13:59:17.570307Z",
     "iopub.status.idle": "2021-11-24T13:59:18.983434Z",
     "shell.execute_reply": "2021-11-24T13:59:18.982140Z"
    }
   },
   "outputs": [],
   "source": [
    "import numpy as np\n",
    "\n",
    "import jax\n",
    "\n",
    "from scico import functional, linop, loss, plot\n",
    "from scico.admm import ADMM, LinearSubproblemSolver\n",
    "from scico.util import device_info\n",
    "plot.config_notebook_plotting()"
   ]
  },
  {
   "cell_type": "markdown",
   "id": "eabc6e83",
   "metadata": {},
   "source": [
    "Create random dictionary, reference random sparse representation, and\n",
    "test signal consisting of the synthesis of the reference sparse\n",
    "representation."
   ]
  },
  {
   "cell_type": "code",
   "execution_count": 2,
   "id": "e462bf9f",
   "metadata": {
    "collapsed": false,
    "execution": {
     "iopub.execute_input": "2021-11-24T13:59:18.991098Z",
     "iopub.status.busy": "2021-11-24T13:59:18.989641Z",
     "iopub.status.idle": "2021-11-24T13:59:23.505942Z",
     "shell.execute_reply": "2021-11-24T13:59:23.504733Z"
    }
   },
   "outputs": [],
   "source": [
    "m = 32  # signal size\n",
    "n = 128  # dictionary size\n",
    "s = 10  # sparsity level\n",
    "\n",
    "np.random.seed(1)\n",
    "D = np.random.randn(m, n)\n",
    "D = D / np.linalg.norm(D, axis=0, keepdims=True)  # normalize dictionary\n",
    "\n",
    "xt = np.zeros(n)  # true signal\n",
    "idx = np.random.randint(low=0, high=n, size=s)  # support of xt\n",
    "xt[idx] = np.random.rand(s)\n",
    "y = D @ xt + 5e-2 * np.random.randn(m)  # synthetic signal\n",
    "\n",
    "xt = jax.device_put(xt)  # convert to jax array, push to GPU\n",
    "y = jax.device_put(y)  # convert to jax array, push to GPU"
   ]
  },
  {
   "cell_type": "markdown",
   "id": "db6a4e3d",
   "metadata": {},
   "source": [
    "Set up the forward operator and ADMM solver object."
   ]
  },
  {
   "cell_type": "code",
   "execution_count": 3,
   "id": "d9002029",
   "metadata": {
    "collapsed": false,
    "execution": {
     "iopub.execute_input": "2021-11-24T13:59:23.516264Z",
     "iopub.status.busy": "2021-11-24T13:59:23.515018Z",
     "iopub.status.idle": "2021-11-24T13:59:24.168732Z",
     "shell.execute_reply": "2021-11-24T13:59:24.167670Z"
    }
   },
   "outputs": [],
   "source": [
    "lmbda = 1e-1\n",
    "A = linop.MatrixOperator(D)\n",
    "f = loss.SquaredL2Loss(y=y, A=A)\n",
    "g_list = [lmbda * functional.L1Norm(), functional.NonNegativeIndicator()]\n",
    "C_list = [linop.Identity((n)), linop.Identity((n))]\n",
    "rho_list = [1.0, 1.0]\n",
    "maxiter = 100  # number of ADMM iterations\n",
    "\n",
    "solver = ADMM(\n",
    "    f=f,\n",
    "    g_list=g_list,\n",
    "    C_list=C_list,\n",
    "    rho_list=rho_list,\n",
    "    x0=A.adj(y),\n",
    "    maxiter=maxiter,\n",
    "    subproblem_solver=LinearSubproblemSolver(),\n",
    "    verbose=True,\n",
    ")"
   ]
  },
  {
   "cell_type": "markdown",
   "id": "93d4053b",
   "metadata": {},
   "source": [
    "Run the solver."
   ]
  },
  {
   "cell_type": "code",
   "execution_count": 4,
   "id": "669e4e0f",
   "metadata": {
    "collapsed": false,
    "execution": {
     "iopub.execute_input": "2021-11-24T13:59:24.175478Z",
     "iopub.status.busy": "2021-11-24T13:59:24.173473Z",
     "iopub.status.idle": "2021-11-24T13:59:30.584401Z",
     "shell.execute_reply": "2021-11-24T13:59:30.585307Z"
    }
   },
   "outputs": [
    {
     "name": "stdout",
     "output_type": "stream",
     "text": [
      "Solving on GPU (NVIDIA GeForce RTX 2080 Ti)\n",
      "\n"
     ]
    },
    {
     "name": "stdout",
     "output_type": "stream",
     "text": [
      "Iter  Time      Objective  Primal Rsdl  Dual Rsdl\n",
      "-------------------------------------------------\n",
      "   0  2.17e+00  2.810e+00    1.435e+00  4.750e+00\n",
      "   1  3.42e+00  6.810e-01    4.430e-01  8.297e-01\n",
      "   2  3.47e+00  6.931e-01    3.791e-01  2.579e-01\n",
      "   3  3.52e+00  6.060e-01    2.025e-01  1.891e-01\n",
      "   4  3.56e+00  5.527e-01    1.014e-01  1.657e-01\n"
     ]
    },
    {
     "name": "stdout",
     "output_type": "stream",
     "text": [
      "   5  3.62e+00  5.219e-01    7.435e-02  1.383e-01\n",
      "   6  3.66e+00  5.079e-01    7.708e-02  1.088e-01\n",
      "   7  3.71e+00  4.989e-01    5.200e-02  9.590e-02\n",
      "   8  3.76e+00  4.928e-01    4.370e-02  8.704e-02\n",
      "   9  3.81e+00  4.904e-01    5.080e-02  7.129e-02\n"
     ]
    },
    {
     "name": "stdout",
     "output_type": "stream",
     "text": [
      "  10  3.85e+00  4.879e-01    3.589e-02  6.160e-02\n",
      "  11  3.90e+00  4.858e-01    3.085e-02  5.369e-02\n",
      "  12  3.95e+00  4.847e-01    3.254e-02  4.529e-02\n",
      "  13  3.99e+00  4.829e-01    2.271e-02  3.870e-02\n",
      "  14  4.03e+00  4.811e-01    1.596e-02  3.524e-02\n"
     ]
    },
    {
     "name": "stdout",
     "output_type": "stream",
     "text": [
      "  15  4.07e+00  4.797e-01    1.319e-02  3.197e-02\n",
      "  16  4.11e+00  4.785e-01    1.167e-02  2.921e-02\n",
      "  17  4.15e+00  4.775e-01    1.091e-02  2.673e-02\n",
      "  18  4.18e+00  4.765e-01    1.011e-02  2.467e-02\n",
      "  19  4.22e+00  4.757e-01    9.884e-03  2.269e-02\n",
      "  20  4.25e+00  4.753e-01    1.018e-02  2.036e-02\n"
     ]
    },
    {
     "name": "stdout",
     "output_type": "stream",
     "text": [
      "  21  4.28e+00  4.750e-01    9.116e-03  1.848e-02\n",
      "  22  4.31e+00  4.749e-01    8.490e-03  1.640e-02\n",
      "  23  4.35e+00  4.749e-01    8.105e-03  1.462e-02\n",
      "  24  4.38e+00  4.748e-01    6.656e-03  1.307e-02\n",
      "  25  4.40e+00  4.746e-01    5.801e-03  1.176e-02\n",
      "  26  4.43e+00  4.744e-01    5.057e-03  1.065e-02\n",
      "  27  4.47e+00  4.742e-01    4.407e-03  9.717e-03\n"
     ]
    },
    {
     "name": "stdout",
     "output_type": "stream",
     "text": [
      "  28  4.50e+00  4.740e-01    3.852e-03  8.930e-03\n",
      "  29  4.54e+00  4.739e-01    3.385e-03  8.260e-03\n",
      "  30  4.56e+00  4.737e-01    2.998e-03  7.681e-03\n",
      "  31  4.59e+00  4.736e-01    2.681e-03  7.170e-03\n",
      "  32  4.62e+00  4.735e-01    2.423e-03  6.714e-03\n",
      "  33  4.65e+00  4.734e-01    2.210e-03  6.299e-03\n",
      "  34  4.69e+00  4.733e-01    2.034e-03  5.919e-03\n"
     ]
    },
    {
     "name": "stdout",
     "output_type": "stream",
     "text": [
      "  35  4.72e+00  4.733e-01    1.883e-03  5.567e-03\n",
      "  36  4.75e+00  4.732e-01    1.753e-03  5.240e-03\n",
      "  37  4.78e+00  4.732e-01    1.637e-03  4.933e-03\n",
      "  38  4.80e+00  4.731e-01    1.533e-03  4.646e-03\n",
      "  39  4.83e+00  4.731e-01    1.438e-03  4.377e-03\n",
      "  40  4.86e+00  4.732e-01    1.711e-03  3.709e-03\n",
      "  41  4.89e+00  4.732e-01    1.777e-03  3.219e-03\n"
     ]
    },
    {
     "name": "stdout",
     "output_type": "stream",
     "text": [
      "  42  4.92e+00  4.732e-01    1.506e-03  2.784e-03\n",
      "  43  4.95e+00  4.732e-01    1.417e-03  2.403e-03\n",
      "  44  4.98e+00  4.732e-01    1.297e-03  2.078e-03\n",
      "  45  5.01e+00  4.732e-01    1.166e-03  1.802e-03\n",
      "  46  5.04e+00  4.731e-01    1.036e-03  1.566e-03\n",
      "  47  5.06e+00  4.731e-01    9.219e-04  1.341e-03\n",
      "  48  5.09e+00  4.731e-01    8.266e-04  1.141e-03\n",
      "  49  5.12e+00  4.731e-01    7.104e-04  9.697e-04\n"
     ]
    },
    {
     "name": "stdout",
     "output_type": "stream",
     "text": [
      "  50  5.14e+00  4.731e-01    6.210e-04  8.221e-04\n",
      "  51  5.17e+00  4.731e-01    5.394e-04  6.972e-04\n",
      "  52  5.20e+00  4.730e-01    4.663e-04  5.905e-04\n",
      "  53  5.23e+00  4.730e-01    4.012e-04  4.993e-04\n",
      "  54  5.26e+00  4.730e-01    3.439e-04  4.220e-04\n",
      "  55  5.28e+00  4.730e-01    2.936e-04  3.561e-04\n",
      "  56  5.31e+00  4.730e-01    2.498e-04  3.006e-04\n"
     ]
    },
    {
     "name": "stdout",
     "output_type": "stream",
     "text": [
      "  57  5.35e+00  4.730e-01    2.099e-04  2.507e-04\n",
      "  58  5.38e+00  4.730e-01    1.780e-04  2.144e-04\n",
      "  59  5.41e+00  4.730e-01    1.506e-04  1.818e-04\n",
      "  60  5.43e+00  4.730e-01    1.274e-04  1.549e-04\n",
      "  61  5.47e+00  4.730e-01    1.080e-04  1.322e-04\n",
      "  62  5.49e+00  4.730e-01    9.142e-05  1.131e-04\n",
      "  63  5.52e+00  4.730e-01    7.722e-05  9.760e-05\n",
      "  64  5.54e+00  4.730e-01    6.169e-05  7.752e-05\n"
     ]
    },
    {
     "name": "stdout",
     "output_type": "stream",
     "text": [
      "  65  5.57e+00  4.730e-01    5.078e-05  7.121e-05\n",
      "  66  5.59e+00  4.730e-01    4.403e-05  6.321e-05\n",
      "  67  5.61e+00  4.730e-01    3.877e-05  5.688e-05\n",
      "  68  5.64e+00  4.730e-01    3.307e-05  5.035e-05\n",
      "  69  5.66e+00  4.730e-01    2.901e-05  4.580e-05\n",
      "  70  5.69e+00  4.730e-01    2.507e-05  4.112e-05\n",
      "  71  5.71e+00  4.730e-01    1.710e-05  2.172e-05\n",
      "  72  5.73e+00  4.730e-01    2.128e-05  1.658e-05\n",
      "  73  5.76e+00  4.730e-01    1.280e-05  1.101e-05\n"
     ]
    },
    {
     "name": "stdout",
     "output_type": "stream",
     "text": [
      "  74  5.79e+00  4.730e-01    1.280e-05  0.000e+00\n",
      "  75  5.81e+00  4.730e-01    9.261e-06  1.535e-05\n",
      "  76  5.84e+00  4.730e-01    6.906e-06  1.154e-05\n",
      "  77  5.86e+00  4.730e-01    6.906e-06  0.000e+00\n",
      "  78  5.88e+00  4.730e-01    8.234e-06  1.153e-05\n",
      "  79  5.91e+00  4.730e-01    4.058e-06  1.016e-05\n",
      "  80  5.93e+00  4.730e-01    4.058e-06  0.000e+00\n",
      "  81  5.96e+00  4.730e-01    4.058e-06  0.000e+00\n",
      "  82  5.98e+00  4.730e-01    4.058e-06  0.000e+00\n"
     ]
    },
    {
     "name": "stdout",
     "output_type": "stream",
     "text": [
      "  83  6.01e+00  4.730e-01    4.058e-06  0.000e+00\n",
      "  84  6.03e+00  4.730e-01    7.535e-06  9.742e-06\n",
      "  85  6.06e+00  4.730e-01    7.535e-06  0.000e+00\n",
      "  86  6.09e+00  4.730e-01    1.874e-06  8.316e-06\n",
      "  87  6.11e+00  4.730e-01    1.874e-06  0.000e+00\n",
      "  88  6.13e+00  4.730e-01    1.874e-06  0.000e+00\n",
      "  89  6.16e+00  4.730e-01    1.874e-06  0.000e+00\n",
      "  90  6.19e+00  4.730e-01    1.874e-06  0.000e+00\n"
     ]
    },
    {
     "name": "stdout",
     "output_type": "stream",
     "text": [
      "  91  6.22e+00  4.730e-01    1.874e-06  0.000e+00\n",
      "  92  6.25e+00  4.730e-01    1.874e-06  0.000e+00\n",
      "  93  6.27e+00  4.730e-01    1.874e-06  0.000e+00\n",
      "  94  6.29e+00  4.730e-01    1.874e-06  0.000e+00\n",
      "  95  6.31e+00  4.730e-01    7.745e-06  8.150e-06\n",
      "  96  6.33e+00  4.730e-01    7.745e-06  0.000e+00\n",
      "  97  6.35e+00  4.730e-01    1.829e-06  7.832e-06\n",
      "  98  6.37e+00  4.730e-01    1.829e-06  0.000e+00\n",
      "  99  6.39e+00  4.730e-01    1.829e-06  0.000e+00\n"
     ]
    }
   ],
   "source": [
    "print(f\"Solving on {device_info()}\\n\")\n",
    "x = solver.solve()"
   ]
  },
  {
   "cell_type": "markdown",
   "id": "419acb63",
   "metadata": {},
   "source": [
    "Plot the recovered coefficients and signal."
   ]
  },
  {
   "cell_type": "code",
   "execution_count": 5,
   "id": "8c308db5",
   "metadata": {
    "collapsed": false,
    "execution": {
     "iopub.execute_input": "2021-11-24T13:59:30.613825Z",
     "iopub.status.busy": "2021-11-24T13:59:30.612818Z",
     "iopub.status.idle": "2021-11-24T13:59:31.031965Z",
     "shell.execute_reply": "2021-11-24T13:59:31.032483Z"
    }
   },
   "outputs": [
    {
     "data": {
      "image/png": "[encoded data removed]",
      "text/plain": [
       "<Figure size 864x360 with 2 Axes>"
      ]
     },
     "metadata": {
      "needs_background": "light"
     },
     "output_type": "display_data"
    }
   ],
   "source": [
    "fig, ax = plot.subplots(nrows=1, ncols=2, figsize=(12, 5))\n",
    "plot.plot(\n",
    "    np.vstack((xt, solver.x)).T,\n",
    "    title=\"Coefficients\",\n",
    "    lgnd=(\"Ground Truth\", \"Recovered\"),\n",
    "    fig=fig,\n",
    "    ax=ax[0],\n",
    ")\n",
    "plot.plot(\n",
    "    np.vstack((D @ xt, y, D @ solver.x)).T,\n",
    "    title=\"Signal\",\n",
    "    lgnd=(\"Ground Truth\", \"Noisy\", \"Recovered\"),\n",
    "    fig=fig,\n",
    "    ax=ax[1],\n",
    ")\n",
    "fig.show()"
   ]
  }
 ],
 "metadata": {
  "language_info": {
   "codemirror_mode": {
    "name": "ipython",
    "version": 3
   },
   "file_extension": ".py",
   "mimetype": "text/x-python",
   "name": "python",
   "nbconvert_exporter": "python",
   "pygments_lexer": "ipython3",
   "version": "3.8.12"
  }
 },
 "nbformat": 4,
 "nbformat_minor": 5
}
