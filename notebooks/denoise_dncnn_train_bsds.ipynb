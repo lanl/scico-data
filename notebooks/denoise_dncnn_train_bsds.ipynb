{
 "cells": [
  {
   "cell_type": "markdown",
   "id": "665cda9b",
   "metadata": {},
   "source": [
    "Training of DnCNN for Denoising\n",
    "===============================\n",
    "\n",
    "This example demonstrates the training and application of the DnCNN model\n",
    "from <cite data-cite=\"zhang-2017-dncnn\"/> to denoise images that have been corrupted\n",
    "with additive Gaussian noise."
   ]
  },
  {
   "cell_type": "code",
   "execution_count": 1,
   "id": "cb2830d0",
   "metadata": {
    "collapsed": false,
    "execution": {
     "iopub.execute_input": "2024-06-13T00:58:33.231008Z",
     "iopub.status.busy": "2024-06-13T00:58:33.230367Z",
     "iopub.status.idle": "2024-06-13T00:58:38.293056Z",
     "shell.execute_reply": "2024-06-13T00:58:38.291040Z"
    }
   },
   "outputs": [],
   "source": [
    "import os\n",
    "from time import time\n",
    "\n",
    "import numpy as np\n",
    "\n",
    "import jax\n",
    "\n",
    "from mpl_toolkits.axes_grid1 import make_axes_locatable\n",
    "\n",
    "from scico import flax as sflax\n",
    "from scico import metric, plot\n",
    "from scico.flax.examples import load_image_data\n",
    "plot.config_notebook_plotting()"
   ]
  },
  {
   "cell_type": "markdown",
   "id": "3ca80f75",
   "metadata": {},
   "source": [
    "Prepare parallel processing. Set an arbitrary processor count (only\n",
    "applies if GPU is not available)."
   ]
  },
  {
   "cell_type": "code",
   "execution_count": 2,
   "id": "97523fbe",
   "metadata": {
    "collapsed": false,
    "execution": {
     "iopub.execute_input": "2024-06-13T00:58:38.297269Z",
     "iopub.status.busy": "2024-06-13T00:58:38.296805Z",
     "iopub.status.idle": "2024-06-13T00:58:38.301441Z",
     "shell.execute_reply": "2024-06-13T00:58:38.300630Z"
    }
   },
   "outputs": [
    {
     "name": "stdout",
     "output_type": "stream",
     "text": [
      "Platform:  gpu\n"
     ]
    }
   ],
   "source": [
    "os.environ[\"XLA_FLAGS\"] = \"--xla_force_host_platform_device_count=8\"\n",
    "platform = jax.lib.xla_bridge.get_backend().platform\n",
    "print(\"Platform: \", platform)"
   ]
  },
  {
   "cell_type": "markdown",
   "id": "52e65bfb",
   "metadata": {},
   "source": [
    "Read data from cache or generate if not available."
   ]
  },
  {
   "cell_type": "code",
   "execution_count": 3,
   "id": "e94724ee",
   "metadata": {
    "collapsed": false,
    "execution": {
     "iopub.execute_input": "2024-06-13T00:58:38.305743Z",
     "iopub.status.busy": "2024-06-13T00:58:38.305317Z",
     "iopub.status.idle": "2024-06-13T00:58:41.324138Z",
     "shell.execute_reply": "2024-06-13T00:58:41.323177Z"
    }
   },
   "outputs": [
    {
     "name": "stdout",
     "output_type": "stream",
     "text": [
      "Data read from path       :   ~/.cache/scico/examples/data\n",
      "Set --training--          :   Size:   104000\n",
      "Set --testing --          :   Size:   4160\n",
      "Data range -- images --   :    Min:   0.00, Max: 1.00\n"
     ]
    },
    {
     "name": "stdout",
     "output_type": "stream",
     "text": [
      "Data range -- labels --   :    Min:   0.00, Max: 1.00\n",
      "NOTE: If blur kernel or noise parameter are changed, the cache must be manually\n",
      "      deleted to ensure that the training data is regenerated with the new\n",
      "      parameters.\n"
     ]
    }
   ],
   "source": [
    "size = 40  # patch size\n",
    "train_nimg = 400  # number of training images\n",
    "test_nimg = 16  # number of testing images\n",
    "nimg = train_nimg + test_nimg\n",
    "gray = True  # use gray scale images\n",
    "data_mode = \"dn\"  # Denoising problem\n",
    "noise_level = 0.1  # Standard deviation of noise\n",
    "noise_range = False  # Use fixed noise level\n",
    "stride = 23  # Stride to sample multiple patches from each image\n",
    "\n",
    "train_ds, test_ds = load_image_data(\n",
    "    train_nimg,\n",
    "    test_nimg,\n",
    "    size,\n",
    "    gray,\n",
    "    data_mode,\n",
    "    verbose=True,\n",
    "    noise_level=noise_level,\n",
    "    noise_range=noise_range,\n",
    "    stride=stride,\n",
    ")"
   ]
  },
  {
   "cell_type": "markdown",
   "id": "83c1817a",
   "metadata": {},
   "source": [
    "Define configuration dictionary for model and training loop.\n",
    "\n",
    "Parameters have been selected for demonstration purposes and relatively\n",
    "short training. The depth of the model has been reduced to 6, instead of\n",
    "the 17 of the original model. The suggested settings can be found in the\n",
    "original paper."
   ]
  },
  {
   "cell_type": "code",
   "execution_count": 4,
   "id": "c3327a89",
   "metadata": {
    "collapsed": false,
    "execution": {
     "iopub.execute_input": "2024-06-13T00:58:41.326976Z",
     "iopub.status.busy": "2024-06-13T00:58:41.326738Z",
     "iopub.status.idle": "2024-06-13T00:58:41.330535Z",
     "shell.execute_reply": "2024-06-13T00:58:41.329967Z"
    }
   },
   "outputs": [],
   "source": [
    "# model configuration\n",
    "model_conf = {\n",
    "    \"depth\": 6,\n",
    "    \"num_filters\": 64,\n",
    "}\n",
    "# training configuration\n",
    "train_conf: sflax.ConfigDict = {\n",
    "    \"seed\": 0,\n",
    "    \"opt_type\": \"ADAM\",\n",
    "    \"batch_size\": 128,\n",
    "    \"num_epochs\": 50,\n",
    "    \"base_learning_rate\": 1e-3,\n",
    "    \"warmup_epochs\": 0,\n",
    "    \"log_every_steps\": 5000,\n",
    "    \"log\": True,\n",
    "    \"checkpointing\": True,\n",
    "}"
   ]
  },
  {
   "cell_type": "markdown",
   "id": "8a04cc51",
   "metadata": {},
   "source": [
    "Construct DnCNN model."
   ]
  },
  {
   "cell_type": "code",
   "execution_count": 5,
   "id": "c040fd9f",
   "metadata": {
    "collapsed": false,
    "execution": {
     "iopub.execute_input": "2024-06-13T00:58:41.333365Z",
     "iopub.status.busy": "2024-06-13T00:58:41.332847Z",
     "iopub.status.idle": "2024-06-13T00:58:41.336289Z",
     "shell.execute_reply": "2024-06-13T00:58:41.335692Z"
    }
   },
   "outputs": [],
   "source": [
    "channels = train_ds[\"image\"].shape[-1]\n",
    "model = sflax.DnCNNNet(\n",
    "    depth=model_conf[\"depth\"],\n",
    "    channels=channels,\n",
    "    num_filters=model_conf[\"num_filters\"],\n",
    ")"
   ]
  },
  {
   "cell_type": "markdown",
   "id": "3db2304b",
   "metadata": {},
   "source": [
    "Run training loop."
   ]
  },
  {
   "cell_type": "code",
   "execution_count": 6,
   "id": "cfad895a",
   "metadata": {
    "collapsed": false,
    "execution": {
     "iopub.execute_input": "2024-06-13T00:58:41.338899Z",
     "iopub.status.busy": "2024-06-13T00:58:41.338670Z",
     "iopub.status.idle": "2024-06-13T00:58:47.921541Z",
     "shell.execute_reply": "2024-06-13T00:58:47.919820Z"
    }
   },
   "outputs": [
    {
     "name": "stdout",
     "output_type": "stream",
     "text": [
      "\n",
      "JAX local devices: [cuda(id=0), cuda(id=1), cuda(id=2), cuda(id=3), cuda(id=4), cuda(id=5), cuda(id=6), cuda(id=7)]\n",
      "\n"
     ]
    },
    {
     "name": "stdout",
     "output_type": "stream",
     "text": [
      "channels: 1   training signals: 104000   testing signals: 4160   signal size: 40\n",
      "\n"
     ]
    },
    {
     "name": "stdout",
     "output_type": "stream",
     "text": [
      "Network Structure:\n",
      "+---------------------------------+----------------+--------+----------+-------+\n",
      "| Name                            | Shape          | Size   | Mean     | Std   |\n",
      "+---------------------------------+----------------+--------+----------+-------+\n",
      "| ConvBNBlock_0/BatchNorm_0/bias  | (64,)          | 64     | -0.0208  | 0.482 |\n",
      "| ConvBNBlock_0/BatchNorm_0/scale | (64,)          | 64     | 0.813    | 0.163 |\n",
      "| ConvBNBlock_0/Conv_0/kernel     | (3, 3, 64, 64) | 36,864 | -0.0133  | 0.165 |\n",
      "| ConvBNBlock_1/BatchNorm_0/bias  | (64,)          | 64     | 0.193    | 0.783 |\n",
      "| ConvBNBlock_1/BatchNorm_0/scale | (64,)          | 64     | 0.822    | 0.152 |\n",
      "| ConvBNBlock_1/Conv_0/kernel     | (3, 3, 64, 64) | 36,864 | -0.00286 | 0.121 |\n",
      "| ConvBNBlock_2/BatchNorm_0/bias  | (64,)          | 64     | 0.102    | 0.41  |\n",
      "| ConvBNBlock_2/BatchNorm_0/scale | (64,)          | 64     | 0.917    | 0.228 |\n",
      "| ConvBNBlock_2/Conv_0/kernel     | (3, 3, 64, 64) | 36,864 | 0.00272  | 0.116 |\n",
      "| ConvBNBlock_3/BatchNorm_0/bias  | (64,)          | 64     | -0.0856  | 0.107 |\n",
      "| ConvBNBlock_3/BatchNorm_0/scale | (64,)          | 64     | 0.658    | 0.253 |\n",
      "| ConvBNBlock_3/Conv_0/kernel     | (3, 3, 64, 64) | 36,864 | -0.0114  | 0.114 |\n",
      "| conv_end/kernel                 | (3, 3, 64, 1)  | 576    | 4.22e-05 | 0.051 |\n",
      "| conv_start/kernel               | (3, 3, 1, 64)  | 576    | 0.000584 | 0.472 |\n",
      "+---------------------------------+----------------+--------+----------+-------+\n",
      "Total weights: 149,120\n",
      "\n",
      "Batch Normalization:\n",
      "+--------------------------------+-------+------+----------+----------+\n",
      "| Name                           | Shape | Size | Mean     | Std      |\n",
      "+--------------------------------+-------+------+----------+----------+\n",
      "| ConvBNBlock_0/BatchNorm_0/mean | (64,) | 64   | -0.431   | 0.929    |\n",
      "| ConvBNBlock_0/BatchNorm_0/var  | (64,) | 64   | 0.494    | 0.302    |\n",
      "| ConvBNBlock_1/BatchNorm_0/mean | (64,) | 64   | -0.377   | 1.21     |\n",
      "| ConvBNBlock_1/BatchNorm_0/var  | (64,) | 64   | 2.84     | 1.63     |\n",
      "| ConvBNBlock_2/BatchNorm_0/mean | (64,) | 64   | 0.759    | 2.53     |\n",
      "| ConvBNBlock_2/BatchNorm_0/var  | (64,) | 64   | 14.4     | 7.64     |\n",
      "| ConvBNBlock_3/BatchNorm_0/mean | (64,) | 64   | -1.79    | 2.66     |\n",
      "| ConvBNBlock_3/BatchNorm_0/var  | (64,) | 64   | 3.68e+02 | 2.29e+02 |\n",
      "+--------------------------------+-------+------+----------+----------+\n",
      "Total weights: 512\n",
      "\n",
      "Initial compilation, which might take some time ...\n"
     ]
    }
   ],
   "source": [
    "workdir = os.path.join(os.path.expanduser(\"~\"), \".cache\", \"scico\", \"examples\", \"dncnn_out\")\n",
    "train_conf[\"workdir\"] = workdir\n",
    "print(f\"\\nJAX local devices: {jax.local_devices()}\\n\")\n",
    "\n",
    "trainer = sflax.BasicFlaxTrainer(\n",
    "    train_conf,\n",
    "    model,\n",
    "    train_ds,\n",
    "    test_ds,\n",
    ")\n",
    "modvar, stats_object = trainer.train()"
   ]
  },
  {
   "cell_type": "markdown",
   "id": "f77bbd88",
   "metadata": {},
   "source": [
    "Evaluate on testing data."
   ]
  },
  {
   "cell_type": "code",
   "execution_count": 7,
   "id": "99f8ca38",
   "metadata": {
    "collapsed": false,
    "execution": {
     "iopub.execute_input": "2024-06-13T00:58:47.927254Z",
     "iopub.status.busy": "2024-06-13T00:58:47.926943Z",
     "iopub.status.idle": "2024-06-13T00:58:51.165429Z",
     "shell.execute_reply": "2024-06-13T00:58:51.164528Z"
    }
   },
   "outputs": [],
   "source": [
    "test_patches = 720\n",
    "start_time = time()\n",
    "fmap = sflax.FlaxMap(model, modvar)\n",
    "output = fmap(test_ds[\"image\"][:test_patches])\n",
    "time_eval = time() - start_time\n",
    "output = np.clip(output, a_min=0, a_max=1.0)"
   ]
  },
  {
   "cell_type": "markdown",
   "id": "1209cb3d",
   "metadata": {},
   "source": [
    "Evaluate trained model in terms of reconstruction time and data fidelity."
   ]
  },
  {
   "cell_type": "code",
   "execution_count": 8,
   "id": "996f790b",
   "metadata": {
    "collapsed": false,
    "execution": {
     "iopub.execute_input": "2024-06-13T00:58:51.171795Z",
     "iopub.status.busy": "2024-06-13T00:58:51.171326Z",
     "iopub.status.idle": "2024-06-13T00:58:52.328463Z",
     "shell.execute_reply": "2024-06-13T00:58:52.327358Z"
    }
   },
   "outputs": [
    {
     "name": "stdout",
     "output_type": "stream",
     "text": [
      "DnCNNNet training epochs:   50                     time[s]:     2.75\n",
      "DnCNNNet testing  SNR: 15.39 dB   PSNR: 27.77 dB   time[s]:     3.15\n"
     ]
    }
   ],
   "source": [
    "snr_eval = metric.snr(test_ds[\"label\"][:test_patches], output)\n",
    "psnr_eval = metric.psnr(test_ds[\"label\"][:test_patches], output)\n",
    "print(\n",
    "    f\"{'DnCNNNet training':18s}{'epochs:':2s}{train_conf['num_epochs']:>5d}\"\n",
    "    f\"{'':21s}{'time[s]:':10s}{trainer.train_time:>7.2f}\"\n",
    ")\n",
    "print(\n",
    "    f\"{'DnCNNNet testing':18s}{'SNR:':5s}{snr_eval:>5.2f}{' dB'}{'':3s}\"\n",
    "    f\"{'PSNR:':6s}{psnr_eval:>5.2f}{' dB'}{'':3s}{'time[s]:':10s}{time_eval:>7.2f}\"\n",
    ")"
   ]
  },
  {
   "cell_type": "markdown",
   "id": "ef3139c8",
   "metadata": {},
   "source": [
    "Plot comparison. Note that plots may display unidentifiable image\n",
    "fragments due to the small patch size."
   ]
  },
  {
   "cell_type": "code",
   "execution_count": 9,
   "id": "566b36b0",
   "metadata": {
    "collapsed": false,
    "execution": {
     "iopub.execute_input": "2024-06-13T00:58:52.335056Z",
     "iopub.status.busy": "2024-06-13T00:58:52.334465Z",
     "iopub.status.idle": "2024-06-13T00:58:53.656295Z",
     "shell.execute_reply": "2024-06-13T00:58:53.655299Z"
    }
   },
   "outputs": [
    {
     "data": {
      "image/png": "[encoded data removed]",
      "text/plain": [
       "<Figure size 1500x500 with 6 Axes>"
      ]
     },
     "metadata": {},
     "output_type": "display_data"
    }
   ],
   "source": [
    "np.random.seed(123)\n",
    "indx = np.random.randint(0, high=test_patches)\n",
    "\n",
    "fig, ax = plot.subplots(nrows=1, ncols=3, figsize=(15, 5))\n",
    "plot.imview(test_ds[\"label\"][indx, ..., 0], title=\"Ground truth\", cbar=None, fig=fig, ax=ax[0])\n",
    "plot.imview(\n",
    "    test_ds[\"image\"][indx, ..., 0],\n",
    "    title=\"Noisy: \\nSNR: %.2f (dB), PSNR: %.2f\"\n",
    "    % (\n",
    "        metric.snr(test_ds[\"label\"][indx, ..., 0], test_ds[\"image\"][indx, ..., 0]),\n",
    "        metric.psnr(test_ds[\"label\"][indx, ..., 0], test_ds[\"image\"][indx, ..., 0]),\n",
    "    ),\n",
    "    cbar=None,\n",
    "    fig=fig,\n",
    "    ax=ax[1],\n",
    ")\n",
    "plot.imview(\n",
    "    output[indx, ..., 0],\n",
    "    title=\"DnCNNNet Reconstruction\\nSNR: %.2f (dB), PSNR: %.2f\"\n",
    "    % (\n",
    "        metric.snr(test_ds[\"label\"][indx, ..., 0], output[indx, ..., 0]),\n",
    "        metric.psnr(test_ds[\"label\"][indx, ..., 0], output[indx, ..., 0]),\n",
    "    ),\n",
    "    fig=fig,\n",
    "    ax=ax[2],\n",
    ")\n",
    "divider = make_axes_locatable(ax[2])\n",
    "cax = divider.append_axes(\"right\", size=\"5%\", pad=0.2)\n",
    "fig.colorbar(ax[2].get_images()[0], cax=cax, label=\"arbitrary units\")\n",
    "fig.show()"
   ]
  },
  {
   "cell_type": "markdown",
   "id": "f16e49d8",
   "metadata": {},
   "source": [
    "Plot convergence statistics. Statistics are generated only if a training\n",
    "cycle was done (i.e. if not reading final epoch results from checkpoint)."
   ]
  },
  {
   "cell_type": "code",
   "execution_count": 10,
   "id": "6f608baa",
   "metadata": {
    "collapsed": false,
    "execution": {
     "iopub.execute_input": "2024-06-13T00:58:53.664856Z",
     "iopub.status.busy": "2024-06-13T00:58:53.664302Z",
     "iopub.status.idle": "2024-06-13T00:58:53.673440Z",
     "shell.execute_reply": "2024-06-13T00:58:53.672433Z"
    }
   },
   "outputs": [],
   "source": [
    "if stats_object is not None and len(stats_object.iterations) > 0:\n",
    "    hist = stats_object.history(transpose=True)\n",
    "    fig, ax = plot.subplots(nrows=1, ncols=2, figsize=(12, 5))\n",
    "    plot.plot(\n",
    "        np.vstack((hist.Train_Loss, hist.Eval_Loss)).T,\n",
    "        x=hist.Epoch,\n",
    "        ptyp=\"semilogy\",\n",
    "        title=\"Loss function\",\n",
    "        xlbl=\"Epoch\",\n",
    "        ylbl=\"Loss value\",\n",
    "        lgnd=(\"Train\", \"Test\"),\n",
    "        fig=fig,\n",
    "        ax=ax[0],\n",
    "    )\n",
    "    plot.plot(\n",
    "        np.vstack((hist.Train_SNR, hist.Eval_SNR)).T,\n",
    "        x=hist.Epoch,\n",
    "        title=\"Metric\",\n",
    "        xlbl=\"Epoch\",\n",
    "        ylbl=\"SNR (dB)\",\n",
    "        lgnd=(\"Train\", \"Test\"),\n",
    "        fig=fig,\n",
    "        ax=ax[1],\n",
    "    )\n",
    "    fig.show()"
   ]
  }
 ],
 "metadata": {
  "language_info": {
   "codemirror_mode": {
    "name": "ipython",
    "version": 3
   },
   "file_extension": ".py",
   "mimetype": "text/x-python",
   "name": "python",
   "nbconvert_exporter": "python",
   "pygments_lexer": "ipython3",
   "version": "3.10.13"
  }
 },
 "nbformat": 4,
 "nbformat_minor": 5
}
