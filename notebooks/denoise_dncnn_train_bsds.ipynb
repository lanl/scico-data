{
 "cells": [
  {
   "cell_type": "markdown",
   "id": "6d1128d2",
   "metadata": {},
   "source": [
    "Training of DnCNN for Denoising\n",
    "===============================\n",
    "\n",
    "This example demonstrates the training and application of the DnCNN model\n",
    "from <cite data-cite=\"zhang-2017-dncnn\"/> to denoise images that have been corrupted\n",
    "with additive Gaussian noise."
   ]
  },
  {
   "cell_type": "code",
   "execution_count": 1,
   "id": "b5ba7207",
   "metadata": {
    "collapsed": false,
    "execution": {
     "iopub.execute_input": "2024-10-11T21:37:30.143037Z",
     "iopub.status.busy": "2024-10-11T21:37:30.142717Z",
     "iopub.status.idle": "2024-10-11T21:37:35.328415Z",
     "shell.execute_reply": "2024-10-11T21:37:35.327114Z"
    }
   },
   "outputs": [
    {
     "name": "stdout",
     "output_type": "stream",
     "text": [
      "Platform:  gpu\n"
     ]
    }
   ],
   "source": [
    "# isort: off\n",
    "import os\n",
    "from time import time\n",
    "\n",
    "import numpy as np\n",
    "\n",
    "# Set an arbitrary processor count (only applies if GPU is not available).\n",
    "os.environ[\"XLA_FLAGS\"] = \"--xla_force_host_platform_device_count=8\"\n",
    "\n",
    "import jax\n",
    "\n",
    "try:\n",
    "    from jax.extend.backend import get_backend  # introduced in jax 0.4.33\n",
    "except ImportError:\n",
    "    from jax.lib.xla_bridge import get_backend\n",
    "\n",
    "from mpl_toolkits.axes_grid1 import make_axes_locatable\n",
    "\n",
    "from scico import flax as sflax\n",
    "from scico import metric, plot\n",
    "from scico.flax.examples import load_image_data\n",
    "plot.config_notebook_plotting()\n",
    "\n",
    "\n",
    "platform = get_backend().platform\n",
    "print(\"Platform: \", platform)"
   ]
  },
  {
   "cell_type": "markdown",
   "id": "7738c886",
   "metadata": {},
   "source": [
    "Read data from cache or generate if not available."
   ]
  },
  {
   "cell_type": "code",
   "execution_count": 2,
   "id": "122cac57",
   "metadata": {
    "collapsed": false,
    "execution": {
     "iopub.execute_input": "2024-10-11T21:37:35.331311Z",
     "iopub.status.busy": "2024-10-11T21:37:35.330850Z",
     "iopub.status.idle": "2024-10-11T21:37:55.408417Z",
     "shell.execute_reply": "2024-10-11T21:37:55.406577Z"
    }
   },
   "outputs": [
    {
     "name": "stdout",
     "output_type": "stream",
     "text": [
      "Downloading BSR_bsds500.tgz from https://www2.eecs.berkeley.edu/Research/Projects/CS/vision/grouping/BSR/\n"
     ]
    },
    {
     "name": "stdout",
     "output_type": "stream",
     "text": [
      "Download complete\n",
      "Extracting content from tar file BSR_bsds500.tgz\n"
     ]
    },
    {
     "name": "stdout",
     "output_type": "stream",
     "text": [
      "Read 400 images for training\n",
      "Read 100 images for testing\n",
      "Saving as ~/.cache/scico/examples/data/BSDS/bsds500.npz\n"
     ]
    },
    {
     "name": "stdout",
     "output_type": "stream",
     "text": [
      "Storing data in path: ~/.cache/scico/examples/data\n",
      "Set --training-- size: 104000\n",
      "Set --testing -- size: 4160\n",
      "Data range -- images --  Min:  0.00  Max:  1.00\n",
      "Data range -- labels --  Min:  0.00  Max:  1.00\n"
     ]
    }
   ],
   "source": [
    "size = 40  # patch size\n",
    "train_nimg = 400  # number of training images\n",
    "test_nimg = 16  # number of testing images\n",
    "nimg = train_nimg + test_nimg\n",
    "gray = True  # use gray scale images\n",
    "data_mode = \"dn\"  # Denoising problem\n",
    "noise_level = 0.1  # Standard deviation of noise\n",
    "noise_range = False  # Use fixed noise level\n",
    "stride = 23  # Stride to sample multiple patches from each image\n",
    "\n",
    "train_ds, test_ds = load_image_data(\n",
    "    train_nimg,\n",
    "    test_nimg,\n",
    "    size,\n",
    "    gray,\n",
    "    data_mode,\n",
    "    verbose=True,\n",
    "    noise_level=noise_level,\n",
    "    noise_range=noise_range,\n",
    "    stride=stride,\n",
    ")"
   ]
  },
  {
   "cell_type": "markdown",
   "id": "231c1a4f",
   "metadata": {},
   "source": [
    "Define configuration dictionary for model and training loop.\n",
    "\n",
    "Parameters have been selected for demonstration purposes and relatively\n",
    "short training. The depth of the model has been reduced to 6, instead of\n",
    "the 17 of the original model. The suggested settings can be found in the\n",
    "original paper."
   ]
  },
  {
   "cell_type": "code",
   "execution_count": 3,
   "id": "ed8eaa7f",
   "metadata": {
    "collapsed": false,
    "execution": {
     "iopub.execute_input": "2024-10-11T21:37:55.412718Z",
     "iopub.status.busy": "2024-10-11T21:37:55.411898Z",
     "iopub.status.idle": "2024-10-11T21:37:55.418071Z",
     "shell.execute_reply": "2024-10-11T21:37:55.417266Z"
    }
   },
   "outputs": [],
   "source": [
    "# model configuration\n",
    "model_conf = {\n",
    "    \"depth\": 6,\n",
    "    \"num_filters\": 64,\n",
    "}\n",
    "# training configuration\n",
    "train_conf: sflax.ConfigDict = {\n",
    "    \"seed\": 0,\n",
    "    \"opt_type\": \"ADAM\",\n",
    "    \"batch_size\": 128,\n",
    "    \"num_epochs\": 50,\n",
    "    \"base_learning_rate\": 1e-3,\n",
    "    \"warmup_epochs\": 0,\n",
    "    \"log_every_steps\": 5000,\n",
    "    \"log\": True,\n",
    "    \"checkpointing\": True,\n",
    "}"
   ]
  },
  {
   "cell_type": "markdown",
   "id": "bea9c9d4",
   "metadata": {},
   "source": [
    "Construct DnCNN model."
   ]
  },
  {
   "cell_type": "code",
   "execution_count": 4,
   "id": "c3e22c33",
   "metadata": {
    "collapsed": false,
    "execution": {
     "iopub.execute_input": "2024-10-11T21:37:55.420175Z",
     "iopub.status.busy": "2024-10-11T21:37:55.419930Z",
     "iopub.status.idle": "2024-10-11T21:37:55.423295Z",
     "shell.execute_reply": "2024-10-11T21:37:55.422632Z"
    }
   },
   "outputs": [],
   "source": [
    "channels = train_ds[\"image\"].shape[-1]\n",
    "model = sflax.DnCNNNet(\n",
    "    depth=model_conf[\"depth\"],\n",
    "    channels=channels,\n",
    "    num_filters=model_conf[\"num_filters\"],\n",
    ")"
   ]
  },
  {
   "cell_type": "markdown",
   "id": "d9f37799",
   "metadata": {},
   "source": [
    "Run training loop."
   ]
  },
  {
   "cell_type": "code",
   "execution_count": 5,
   "id": "81019215",
   "metadata": {
    "collapsed": false,
    "execution": {
     "iopub.execute_input": "2024-10-11T21:37:55.425262Z",
     "iopub.status.busy": "2024-10-11T21:37:55.425047Z",
     "iopub.status.idle": "2024-10-11T21:42:55.031904Z",
     "shell.execute_reply": "2024-10-11T21:42:55.030893Z"
    }
   },
   "outputs": [
    {
     "name": "stdout",
     "output_type": "stream",
     "text": [
      "\n",
      "JAX local devices: [CudaDevice(id=0), CudaDevice(id=1), CudaDevice(id=2), CudaDevice(id=3), CudaDevice(id=4), CudaDevice(id=5), CudaDevice(id=6), CudaDevice(id=7)]\n",
      "\n"
     ]
    },
    {
     "name": "stdout",
     "output_type": "stream",
     "text": [
      "channels: 1   training signals: 104000   testing signals: 4160   signal size: 40\n",
      "\n"
     ]
    },
    {
     "name": "stdout",
     "output_type": "stream",
     "text": [
      "Network Structure:\n",
      "+---------------------------------+----------------+--------+-----------+--------+\n",
      "| Name                            | Shape          | Size   | Mean      | Std    |\n",
      "+---------------------------------+----------------+--------+-----------+--------+\n",
      "| ConvBNBlock_0/BatchNorm_0/bias  | (64,)          | 64     | 0.0       | 0.0    |\n",
      "| ConvBNBlock_0/BatchNorm_0/scale | (64,)          | 64     | 1.0       | 0.0    |\n",
      "| ConvBNBlock_0/Conv_0/kernel     | (3, 3, 64, 64) | 36,864 | -0.000522 | 0.0589 |\n",
      "| ConvBNBlock_1/BatchNorm_0/bias  | (64,)          | 64     | 0.0       | 0.0    |\n",
      "| ConvBNBlock_1/BatchNorm_0/scale | (64,)          | 64     | 1.0       | 0.0    |\n",
      "| ConvBNBlock_1/Conv_0/kernel     | (3, 3, 64, 64) | 36,864 | 0.000178  | 0.0589 |\n",
      "| ConvBNBlock_2/BatchNorm_0/bias  | (64,)          | 64     | 0.0       | 0.0    |\n",
      "| ConvBNBlock_2/BatchNorm_0/scale | (64,)          | 64     | 1.0       | 0.0    |\n",
      "| ConvBNBlock_2/Conv_0/kernel     | (3, 3, 64, 64) | 36,864 | 5.46e-05  | 0.0588 |\n",
      "| ConvBNBlock_3/BatchNorm_0/bias  | (64,)          | 64     | 0.0       | 0.0    |\n",
      "| ConvBNBlock_3/BatchNorm_0/scale | (64,)          | 64     | 1.0       | 0.0    |\n",
      "| ConvBNBlock_3/Conv_0/kernel     | (3, 3, 64, 64) | 36,864 | -9.56e-05 | 0.0592 |\n",
      "| conv_end/kernel                 | (3, 3, 64, 1)  | 576    | -0.00121  | 0.0605 |\n",
      "| conv_start/kernel               | (3, 3, 1, 64)  | 576    | 0.0155    | 0.457  |\n",
      "+---------------------------------+----------------+--------+-----------+--------+\n",
      "Total weights: 149,120\n",
      "\n",
      "Batch Normalization:\n",
      "+--------------------------------+-------+------+------+-----+\n",
      "| Name                           | Shape | Size | Mean | Std |\n",
      "+--------------------------------+-------+------+------+-----+\n",
      "| ConvBNBlock_0/BatchNorm_0/mean | (64,) | 64   | 0.0  | 0.0 |\n",
      "| ConvBNBlock_0/BatchNorm_0/var  | (64,) | 64   | 1.0  | 0.0 |\n",
      "| ConvBNBlock_1/BatchNorm_0/mean | (64,) | 64   | 0.0  | 0.0 |\n",
      "| ConvBNBlock_1/BatchNorm_0/var  | (64,) | 64   | 1.0  | 0.0 |\n",
      "| ConvBNBlock_2/BatchNorm_0/mean | (64,) | 64   | 0.0  | 0.0 |\n",
      "| ConvBNBlock_2/BatchNorm_0/var  | (64,) | 64   | 1.0  | 0.0 |\n",
      "| ConvBNBlock_3/BatchNorm_0/mean | (64,) | 64   | 0.0  | 0.0 |\n",
      "| ConvBNBlock_3/BatchNorm_0/var  | (64,) | 64   | 1.0  | 0.0 |\n",
      "+--------------------------------+-------+------+------+-----+\n",
      "Total weights: 512\n",
      "\n"
     ]
    },
    {
     "name": "stdout",
     "output_type": "stream",
     "text": [
      "Initial compilation, which might take some time ...\n"
     ]
    },
    {
     "name": "stdout",
     "output_type": "stream",
     "text": [
      "Initial compilation completed.\n",
      "\n"
     ]
    },
    {
     "name": "stdout",
     "output_type": "stream",
     "text": [
      "Epoch  Time      Train_LR  Train_Loss  Train_SNR  Eval_Loss  Eval_SNR\n",
      "---------------------------------------------------------------------\n",
      "    6  4.08e+01  0.001000    0.001950      13.21   0.000959     14.55\n"
     ]
    },
    {
     "name": "stdout",
     "output_type": "stream",
     "text": [
      "   12  7.83e+01  0.001000    0.000936      14.34   0.001058     14.12\n"
     ]
    },
    {
     "name": "stdout",
     "output_type": "stream",
     "text": [
      "   18  1.15e+02  0.001000    0.000873      14.64   0.001055     14.14\n"
     ]
    },
    {
     "name": "stdout",
     "output_type": "stream",
     "text": [
      "   24  1.51e+02  0.001000    0.000840      14.81   0.000836     15.16\n"
     ]
    },
    {
     "name": "stdout",
     "output_type": "stream",
     "text": [
      "   30  1.84e+02  0.001000    0.000817      14.93   0.000844     15.11\n"
     ]
    },
    {
     "name": "stdout",
     "output_type": "stream",
     "text": [
      "   36  2.19e+02  0.001000    0.000806      14.99   0.000851     15.07\n"
     ]
    },
    {
     "name": "stdout",
     "output_type": "stream",
     "text": [
      "   43  2.54e+02  0.001000    0.000799      15.03   0.000824     15.22\n"
     ]
    },
    {
     "name": "stdout",
     "output_type": "stream",
     "text": [
      "   49  2.89e+02  0.001000    0.000793      15.06   0.001069     14.16\n"
     ]
    }
   ],
   "source": [
    "workdir = os.path.join(os.path.expanduser(\"~\"), \".cache\", \"scico\", \"examples\", \"dncnn_out\")\n",
    "train_conf[\"workdir\"] = workdir\n",
    "print(f\"\\nJAX local devices: {jax.local_devices()}\\n\")\n",
    "\n",
    "trainer = sflax.BasicFlaxTrainer(\n",
    "    train_conf,\n",
    "    model,\n",
    "    train_ds,\n",
    "    test_ds,\n",
    ")\n",
    "modvar, stats_object = trainer.train()"
   ]
  },
  {
   "cell_type": "markdown",
   "id": "61f923d9",
   "metadata": {},
   "source": [
    "Evaluate on testing data."
   ]
  },
  {
   "cell_type": "code",
   "execution_count": 6,
   "id": "1a66b720",
   "metadata": {
    "collapsed": false,
    "execution": {
     "iopub.execute_input": "2024-10-11T21:42:55.035834Z",
     "iopub.status.busy": "2024-10-11T21:42:55.035646Z",
     "iopub.status.idle": "2024-10-11T21:42:56.085156Z",
     "shell.execute_reply": "2024-10-11T21:42:56.084141Z"
    }
   },
   "outputs": [],
   "source": [
    "test_patches = 720\n",
    "start_time = time()\n",
    "fmap = sflax.FlaxMap(model, modvar)\n",
    "output = fmap(test_ds[\"image\"][:test_patches])\n",
    "time_eval = time() - start_time\n",
    "output = np.clip(output, a_min=0, a_max=1.0)"
   ]
  },
  {
   "cell_type": "markdown",
   "id": "c84259b0",
   "metadata": {},
   "source": [
    "Evaluate trained model in terms of reconstruction time and data fidelity."
   ]
  },
  {
   "cell_type": "code",
   "execution_count": 7,
   "id": "dac387d0",
   "metadata": {
    "collapsed": false,
    "execution": {
     "iopub.execute_input": "2024-10-11T21:42:56.087745Z",
     "iopub.status.busy": "2024-10-11T21:42:56.087464Z",
     "iopub.status.idle": "2024-10-11T21:42:56.696258Z",
     "shell.execute_reply": "2024-10-11T21:42:56.695111Z"
    }
   },
   "outputs": [
    {
     "name": "stdout",
     "output_type": "stream",
     "text": [
      "DnCNNNet training epochs:   50                     time[s]:   293.46\n",
      "DnCNNNet testing  SNR: 15.34 dB   PSNR: 27.72 dB   time[s]:     1.04\n"
     ]
    }
   ],
   "source": [
    "snr_eval = metric.snr(test_ds[\"label\"][:test_patches], output)\n",
    "psnr_eval = metric.psnr(test_ds[\"label\"][:test_patches], output)\n",
    "print(\n",
    "    f\"{'DnCNNNet training':18s}{'epochs:':2s}{train_conf['num_epochs']:>5d}\"\n",
    "    f\"{'':21s}{'time[s]:':10s}{trainer.train_time:>7.2f}\"\n",
    ")\n",
    "print(\n",
    "    f\"{'DnCNNNet testing':18s}{'SNR:':5s}{snr_eval:>5.2f}{' dB'}{'':3s}\"\n",
    "    f\"{'PSNR:':6s}{psnr_eval:>5.2f}{' dB'}{'':3s}{'time[s]:':10s}{time_eval:>7.2f}\"\n",
    ")"
   ]
  },
  {
   "cell_type": "markdown",
   "id": "fa7356c2",
   "metadata": {},
   "source": [
    "Plot comparison. Note that plots may display unidentifiable image\n",
    "fragments due to the small patch size."
   ]
  },
  {
   "cell_type": "code",
   "execution_count": 8,
   "id": "606274de",
   "metadata": {
    "collapsed": false,
    "execution": {
     "iopub.execute_input": "2024-10-11T21:42:56.698481Z",
     "iopub.status.busy": "2024-10-11T21:42:56.698302Z",
     "iopub.status.idle": "2024-10-11T21:42:57.197532Z",
     "shell.execute_reply": "2024-10-11T21:42:57.196362Z"
    }
   },
   "outputs": [],
   "source": [
    "np.random.seed(123)\n",
    "indx = np.random.randint(0, high=test_patches)\n",
    "\n",
    "fig, ax = plot.subplots(nrows=1, ncols=3, figsize=(15, 5))\n",
    "plot.imview(test_ds[\"label\"][indx, ..., 0], title=\"Ground truth\", cbar=None, fig=fig, ax=ax[0])\n",
    "plot.imview(\n",
    "    test_ds[\"image\"][indx, ..., 0],\n",
    "    title=\"Noisy: \\nSNR: %.2f (dB), PSNR: %.2f\"\n",
    "    % (\n",
    "        metric.snr(test_ds[\"label\"][indx, ..., 0], test_ds[\"image\"][indx, ..., 0]),\n",
    "        metric.psnr(test_ds[\"label\"][indx, ..., 0], test_ds[\"image\"][indx, ..., 0]),\n",
    "    ),\n",
    "    cbar=None,\n",
    "    fig=fig,\n",
    "    ax=ax[1],\n",
    ")\n",
    "plot.imview(\n",
    "    output[indx, ..., 0],\n",
    "    title=\"DnCNNNet Reconstruction\\nSNR: %.2f (dB), PSNR: %.2f\"\n",
    "    % (\n",
    "        metric.snr(test_ds[\"label\"][indx, ..., 0], output[indx, ..., 0]),\n",
    "        metric.psnr(test_ds[\"label\"][indx, ..., 0], output[indx, ..., 0]),\n",
    "    ),\n",
    "    fig=fig,\n",
    "    ax=ax[2],\n",
    ")\n",
    "divider = make_axes_locatable(ax[2])\n",
    "cax = divider.append_axes(\"right\", size=\"5%\", pad=0.2)\n",
    "fig.colorbar(ax[2].get_images()[0], cax=cax, label=\"arbitrary units\")\n",
    "fig.show()"
   ]
  },
  {
   "cell_type": "markdown",
   "id": "fb98d799",
   "metadata": {},
   "source": [
    "Plot convergence statistics. Statistics are generated only if a training\n",
    "cycle was done (i.e. if not reading final epoch results from checkpoint)."
   ]
  },
  {
   "cell_type": "code",
   "execution_count": 9,
   "id": "a647cf16",
   "metadata": {
    "collapsed": false,
    "execution": {
     "iopub.execute_input": "2024-10-11T21:42:57.200879Z",
     "iopub.status.busy": "2024-10-11T21:42:57.200690Z",
     "iopub.status.idle": "2024-10-11T21:42:57.406111Z",
     "shell.execute_reply": "2024-10-11T21:42:57.405070Z"
    }
   },
   "outputs": [],
   "source": [
    "if stats_object is not None and len(stats_object.iterations) > 0:\n",
    "    hist = stats_object.history(transpose=True)\n",
    "    fig, ax = plot.subplots(nrows=1, ncols=2, figsize=(12, 5))\n",
    "    plot.plot(\n",
    "        np.vstack((hist.Train_Loss, hist.Eval_Loss)).T,\n",
    "        x=hist.Epoch,\n",
    "        ptyp=\"semilogy\",\n",
    "        title=\"Loss function\",\n",
    "        xlbl=\"Epoch\",\n",
    "        ylbl=\"Loss value\",\n",
    "        lgnd=(\"Train\", \"Test\"),\n",
    "        fig=fig,\n",
    "        ax=ax[0],\n",
    "    )\n",
    "    plot.plot(\n",
    "        np.vstack((hist.Train_SNR, hist.Eval_SNR)).T,\n",
    "        x=hist.Epoch,\n",
    "        title=\"Metric\",\n",
    "        xlbl=\"Epoch\",\n",
    "        ylbl=\"SNR (dB)\",\n",
    "        lgnd=(\"Train\", \"Test\"),\n",
    "        fig=fig,\n",
    "        ax=ax[1],\n",
    "    )\n",
    "    fig.show()"
   ]
  }
 ],
 "metadata": {
  "language_info": {
   "codemirror_mode": {
    "name": "ipython",
    "version": 3
   },
   "file_extension": ".py",
   "mimetype": "text/x-python",
   "name": "python",
   "nbconvert_exporter": "python",
   "pygments_lexer": "ipython3",
   "version": "3.12.7"
  }
 },
 "nbformat": 4,
 "nbformat_minor": 5
}
