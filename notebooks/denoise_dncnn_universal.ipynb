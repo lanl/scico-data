{
 "cells": [
  {
   "cell_type": "markdown",
   "id": "dded9b79",
   "metadata": {},
   "source": [
    "# Comparison of DnCNN Variants for Image Denoising\n",
    "\n",
    "This example demonstrates the solution of an image denoising problem\n",
    "using different DnCNN variants.\n",
    ":cite:`zhang-2017-dncnn` DnCNN,\n",
    ":cite:`zhang-2021-plug` training denoiser with noise level as input.\n",
    "\n",
    "Overview of different DnCNNs used in this script:\n",
    "[6L, 6M, 6H, 17L, 17M, 17H] non-blind DnCNNs, where [6, 17] denote the\n",
    "number of layers, and [L, M, H] represent noise level of the training\n",
    "samples.\n",
    "\n",
    "[6N, 17N] DnCNNs with addtional noise levels as inputs, where [6, 17]\n",
    "denote the number of layers"
   ]
  },
  {
   "cell_type": "code",
   "execution_count": 1,
   "id": "ba5e0b51",
   "metadata": {},
   "outputs": [],
   "source": [
    "import numpy as np\n",
    "\n",
    "import jax\n",
    "\n",
    "from xdesign import Foam, discrete_phantom\n",
    "\n",
    "import scico.numpy as snp\n",
    "import scico.random\n",
    "from scico import metric, plot\n",
    "from scico.denoiser import DnCNN"
   ]
  },
  {
   "cell_type": "markdown",
   "id": "8189f96f",
   "metadata": {},
   "source": [
    "### Create a ground truth image."
   ]
  },
  {
   "cell_type": "code",
   "execution_count": null,
   "id": "8f8d8f4c",
   "metadata": {},
   "outputs": [],
   "source": [
    "np.random.seed(1234)\n",
    "N = 512  # image size\n",
    "x_gt = discrete_phantom(Foam(size_range=[0.075, 0.0025], gap=1e-3, porosity=1), size=N)\n",
    "x_gt = jax.device_put(x_gt)  # convert to jax array, push to GPU"
   ]
  },
  {
   "cell_type": "markdown",
   "id": "70a16813",
   "metadata": {},
   "source": [
    "### Test different DnCNN on images with different noise levels"
   ]
  },
  {
   "cell_type": "code",
   "execution_count": null,
   "id": "d7595a74",
   "metadata": {},
   "outputs": [],
   "source": [
    "print(\"  σ   | variant | noisy image PSNR (dB)   | denoised image PSNR (dB)\")\n",
    "for σ in [0.06, 0.1, 0.2]:\n",
    "    for variant in [\"17L\", \"17M\", \"17H\", \"17N\", \"6L\", \"6M\", \"6H\", \"6N\"]:\n",
    "\n",
    "        \"\"\"\n",
    "        Instantiate a DnCnn\n",
    "        \"\"\"\n",
    "        denoiser = DnCNN(variant=variant)\n",
    "\n",
    "        \"\"\"\n",
    "        Generate a noisy image.\n",
    "        \"\"\"\n",
    "        noise, key = scico.random.randn(x_gt.shape, seed=0)\n",
    "        y = x_gt + σ * noise\n",
    "\n",
    "        if variant in [\"6N\", \"17N\"]:\n",
    "            x_hat = denoiser(y, noise_level=σ)\n",
    "        else:\n",
    "            x_hat = denoiser(y)\n",
    "\n",
    "        x_hat = np.clip(x_hat, a_min=0, a_max=1.0)\n",
    "\n",
    "        if variant[0] == \"6\":\n",
    "            variant += \" \"  # add spaces for better visulaization\n",
    "\n",
    "        print(\n",
    "            \" %.2f | %s     |          %.2f          |          %.2f          \"\n",
    "            % (σ, variant, metric.psnr(x_gt, y), metric.psnr(x_gt, x_hat))\n",
    "        )\n",
    "\n",
    "    print(\"\")\n"
   ]
  },
  {
   "cell_type": "markdown",
   "id": "9fc35295",
   "metadata": {},
   "source": [
    "### Show reference and denoised images, where σ=0.2 and variant=6N."
   ]
  },
  {
   "cell_type": "code",
   "execution_count": null,
   "id": "073943d4",
   "metadata": {},
   "outputs": [],
   "source": [
    "fig, ax = plot.subplots(nrows=1, ncols=3, sharex=True, sharey=True, figsize=(21, 7))\n",
    "plot.imview(x_gt, title=\"Reference\", fig=fig, ax=ax[0])\n",
    "plot.imview(y, title=\"Noisy image: %.2f (dB)\" % metric.psnr(x_gt, y), fig=fig, ax=ax[1])\n",
    "plot.imview(x_hat, title=\"Denoised image: %.2f (dB)\" % metric.psnr(x_gt, x_hat), fig=fig, ax=ax[2])\n",
    "fig.show()"
   ]
  },
  {
   "cell_type": "code",
   "execution_count": null,
   "id": "ee5beb90",
   "metadata": {},
   "outputs": [],
   "source": []
  }
 ],
 "metadata": {
  "kernelspec": {
   "display_name": "Python 3 (ipykernel)",
   "language": "python",
   "name": "python3"
  },
  "language_info": {
   "codemirror_mode": {
    "name": "ipython",
    "version": 3
   },
   "file_extension": ".py",
   "mimetype": "text/x-python",
   "name": "python",
   "nbconvert_exporter": "python",
   "pygments_lexer": "ipython3",
   "version": "3.9.13"
  }
 },
 "nbformat": 4,
 "nbformat_minor": 5
}
