{
 "cells": [
  {
   "cell_type": "markdown",
   "id": "ddc55028",
   "metadata": {},
   "source": [
    "TV-Regularized Low-Dose CT Reconstruction\n",
    "=========================================\n",
    "\n",
    "This example demonstrates solution of a low-dose CT reconstruction problem\n",
    "with isotropic total variation (TV) regularization\n",
    "\n",
    "  $$\\mathrm{argmin}_{\\mathbf{x}} \\; (1/2) \\| \\mathbf{y} - A \\mathbf{x}\n",
    "  \\|_W^2 + \\lambda \\| C \\mathbf{x} \\|_{2,1} \\;,$$\n",
    "\n",
    "where $A$ is the X-ray transform (the CT forward projection),\n",
    "$\\mathbf{y}$ is the sinogram, the norm weighting $W$ is chosen so that\n",
    "the weighted norm is an approximation to the Poisson negative log\n",
    "likelihood <cite data-cite=\"sauer-1993-local\"/>, $C$ is a 2D finite difference\n",
    "operator, and $\\mathbf{x}$ is the desired image."
   ]
  },
  {
   "cell_type": "code",
   "execution_count": 1,
   "id": "eba89821",
   "metadata": {
    "collapsed": false,
    "execution": {
     "iopub.execute_input": "2024-06-06T02:27:43.238881Z",
     "iopub.status.busy": "2024-06-06T02:27:43.238212Z",
     "iopub.status.idle": "2024-06-06T02:27:46.576512Z",
     "shell.execute_reply": "2024-06-06T02:27:46.574961Z"
    }
   },
   "outputs": [],
   "source": [
    "import numpy as np\n",
    "\n",
    "from xdesign import Soil, discrete_phantom\n",
    "\n",
    "import scico.numpy as snp\n",
    "from scico import functional, linop, loss, metric, plot\n",
    "from scico.linop.xray.astra import XRayTransform2D\n",
    "from scico.optimize.admm import ADMM, LinearSubproblemSolver\n",
    "from scico.util import device_info\n",
    "plot.config_notebook_plotting()"
   ]
  },
  {
   "cell_type": "markdown",
   "id": "a482182c",
   "metadata": {},
   "source": [
    "Create a ground truth image."
   ]
  },
  {
   "cell_type": "code",
   "execution_count": 2,
   "id": "554043d1",
   "metadata": {
    "collapsed": false,
    "execution": {
     "iopub.execute_input": "2024-06-06T02:27:46.584470Z",
     "iopub.status.busy": "2024-06-06T02:27:46.583403Z",
     "iopub.status.idle": "2024-06-06T02:27:48.039969Z",
     "shell.execute_reply": "2024-06-06T02:27:48.039000Z"
    }
   },
   "outputs": [],
   "source": [
    "N = 512  # phantom size\n",
    "\n",
    "np.random.seed(0)\n",
    "x_gt = discrete_phantom(Soil(porosity=0.80), size=384)\n",
    "x_gt = np.ascontiguousarray(np.pad(x_gt, (64, 64)))\n",
    "x_gt = np.clip(x_gt, 0, np.inf)  # clip to positive values\n",
    "x_gt = snp.array(x_gt)  # convert to jax type"
   ]
  },
  {
   "cell_type": "markdown",
   "id": "ef259703",
   "metadata": {},
   "source": [
    "Configure CT projection operator and generate synthetic measurements."
   ]
  },
  {
   "cell_type": "code",
   "execution_count": 3,
   "id": "e86069c6",
   "metadata": {
    "collapsed": false,
    "execution": {
     "iopub.execute_input": "2024-06-06T02:27:48.045068Z",
     "iopub.status.busy": "2024-06-06T02:27:48.044540Z",
     "iopub.status.idle": "2024-06-06T02:27:48.156804Z",
     "shell.execute_reply": "2024-06-06T02:27:48.155732Z"
    }
   },
   "outputs": [],
   "source": [
    "n_projection = 360  # number of projections\n",
    "Io = 1e3  # source flux\n",
    "𝛼 = 1e-2  # attenuation coefficient\n",
    "\n",
    "angles = np.linspace(0, 2 * np.pi, n_projection)  # evenly spaced projection angles\n",
    "A = XRayTransform2D(x_gt.shape, N, 1.0, angles)  # CT projection operator\n",
    "y_c = A @ x_gt  # sinogram"
   ]
  },
  {
   "cell_type": "markdown",
   "id": "4709c28d",
   "metadata": {},
   "source": [
    "Add Poisson noise to projections according to\n",
    "\n",
    "$$\\mathrm{counts} \\sim \\mathrm{Poi}\\left(I_0 exp\\left\\{- \\alpha A\n",
    "\\mathbf{x} \\right\\}\\right)$$\n",
    "\n",
    "$$\\mathbf{y} = - \\frac{1}{\\alpha} \\log\\left(\\mathrm{counts} /\n",
    "I_0\\right).$$\n",
    "\n",
    "We use the NumPy random functionality so we can generate using 64-bit\n",
    "numbers."
   ]
  },
  {
   "cell_type": "code",
   "execution_count": 4,
   "id": "fdde686b",
   "metadata": {
    "collapsed": false,
    "execution": {
     "iopub.execute_input": "2024-06-06T02:27:48.163194Z",
     "iopub.status.busy": "2024-06-06T02:27:48.162830Z",
     "iopub.status.idle": "2024-06-06T02:27:48.514931Z",
     "shell.execute_reply": "2024-06-06T02:27:48.513801Z"
    }
   },
   "outputs": [],
   "source": [
    "counts = np.random.poisson(Io * snp.exp(-𝛼 * A @ x_gt))\n",
    "counts = np.clip(counts, a_min=1, a_max=np.inf)  # replace any 0s count with 1\n",
    "y = -1 / 𝛼 * np.log(counts / Io)\n",
    "y = snp.array(y)  # convert back to float32 as a jax array"
   ]
  },
  {
   "cell_type": "markdown",
   "id": "511c6872",
   "metadata": {},
   "source": [
    "Set up post processing. For this example, we clip all reconstructions\n",
    "to the range of the ground truth."
   ]
  },
  {
   "cell_type": "code",
   "execution_count": 5,
   "id": "594a01a9",
   "metadata": {
    "collapsed": false,
    "execution": {
     "iopub.execute_input": "2024-06-06T02:27:48.519719Z",
     "iopub.status.busy": "2024-06-06T02:27:48.519213Z",
     "iopub.status.idle": "2024-06-06T02:27:48.524014Z",
     "shell.execute_reply": "2024-06-06T02:27:48.523166Z"
    }
   },
   "outputs": [],
   "source": [
    "def postprocess(x):\n",
    "    return snp.clip(x, 0, snp.max(x_gt))"
   ]
  },
  {
   "cell_type": "markdown",
   "id": "0370a27e",
   "metadata": {},
   "source": [
    "Compute an FBP reconstruction as an initial guess."
   ]
  },
  {
   "cell_type": "code",
   "execution_count": 6,
   "id": "e15cf1fd",
   "metadata": {
    "collapsed": false,
    "execution": {
     "iopub.execute_input": "2024-06-06T02:27:48.527707Z",
     "iopub.status.busy": "2024-06-06T02:27:48.527359Z",
     "iopub.status.idle": "2024-06-06T02:27:48.886086Z",
     "shell.execute_reply": "2024-06-06T02:27:48.885200Z"
    }
   },
   "outputs": [],
   "source": [
    "x0 = postprocess(A.fbp(y))"
   ]
  },
  {
   "cell_type": "markdown",
   "id": "ecfd4932",
   "metadata": {},
   "source": [
    "Set up and solve the un-weighted reconstruction problem\n",
    "\n",
    "  $$\\mathrm{argmin}_{\\mathbf{x}} \\; (1/2) \\| \\mathbf{y} - A \\mathbf{x}\n",
    "  \\|_2^2 + \\lambda \\| C \\mathbf{x} \\|_{2,1} \\;.$$"
   ]
  },
  {
   "cell_type": "code",
   "execution_count": 7,
   "id": "ca84510a",
   "metadata": {
    "collapsed": false,
    "execution": {
     "iopub.execute_input": "2024-06-06T02:27:48.892816Z",
     "iopub.status.busy": "2024-06-06T02:27:48.892276Z",
     "iopub.status.idle": "2024-06-06T02:30:10.335177Z",
     "shell.execute_reply": "2024-06-06T02:30:10.333611Z"
    }
   },
   "outputs": [
    {
     "name": "stdout",
     "output_type": "stream",
     "text": [
      "Solving on GPU (NVIDIA GeForce RTX 2080 Ti)\n",
      "\n"
     ]
    },
    {
     "name": "stdout",
     "output_type": "stream",
     "text": [
      "Iter  Time      Objective  Prml Rsdl  Dual Rsdl  CG It  CG Res   \n",
      "-----------------------------------------------------------------\n",
      "   0  5.42e+00  4.227e+06  8.341e+02  1.203e+03     10  1.516e-03\n"
     ]
    },
    {
     "name": "stdout",
     "output_type": "stream",
     "text": [
      "   1  8.76e+00  4.662e+06  4.876e+02  1.001e+04     10  1.577e-04\r"
     ]
    },
    {
     "name": "stdout",
     "output_type": "stream",
     "text": [
      "   2  1.12e+01  4.936e+06  2.988e+02  1.049e+04     10  8.810e-05\r"
     ]
    },
    {
     "name": "stdout",
     "output_type": "stream",
     "text": [
      "   3  1.38e+01  5.082e+06  1.987e+02  8.783e+03     10  5.987e-05\r"
     ]
    },
    {
     "name": "stdout",
     "output_type": "stream",
     "text": [
      "   4  1.65e+01  5.162e+06  1.385e+02  7.117e+03     10  4.780e-05\r"
     ]
    },
    {
     "name": "stdout",
     "output_type": "stream",
     "text": [
      "   5  1.91e+01  5.202e+06  1.064e+02  5.713e+03     10  2.410e-05\r"
     ]
    },
    {
     "name": "stdout",
     "output_type": "stream",
     "text": [
      "   6  2.15e+01  5.222e+06  8.734e+01  4.774e+03     10  2.566e-05\r"
     ]
    },
    {
     "name": "stdout",
     "output_type": "stream",
     "text": [
      "   7  2.40e+01  5.233e+06  7.390e+01  4.129e+03     10  1.539e-05\r"
     ]
    },
    {
     "name": "stdout",
     "output_type": "stream",
     "text": [
      "   8  2.66e+01  5.240e+06  6.399e+01  3.624e+03     10  1.990e-05\r"
     ]
    },
    {
     "name": "stdout",
     "output_type": "stream",
     "text": [
      "   9  2.93e+01  5.245e+06  5.631e+01  3.213e+03     10  1.243e-05\r"
     ]
    },
    {
     "name": "stdout",
     "output_type": "stream",
     "text": [
      "  10  3.19e+01  5.250e+06  5.032e+01  2.849e+03     10  2.354e-05\n"
     ]
    },
    {
     "name": "stdout",
     "output_type": "stream",
     "text": [
      "  11  3.46e+01  5.253e+06  4.565e+01  2.540e+03     10  1.003e-05\r"
     ]
    },
    {
     "name": "stdout",
     "output_type": "stream",
     "text": [
      "  12  3.73e+01  5.257e+06  4.172e+01  2.280e+03     10  8.943e-06\r"
     ]
    },
    {
     "name": "stdout",
     "output_type": "stream",
     "text": [
      "  13  4.00e+01  5.260e+06  3.846e+01  2.055e+03      9  8.404e-06\r"
     ]
    },
    {
     "name": "stdout",
     "output_type": "stream",
     "text": [
      "  14  4.18e+01  5.262e+06  3.591e+01  1.875e+03      6  9.872e-06\r"
     ]
    },
    {
     "name": "stdout",
     "output_type": "stream",
     "text": [
      "  15  4.37e+01  5.265e+06  3.329e+01  1.728e+03      6  9.681e-06\r"
     ]
    },
    {
     "name": "stdout",
     "output_type": "stream",
     "text": [
      "  16  4.57e+01  5.267e+06  3.095e+01  1.549e+03      7  9.994e-06\r"
     ]
    },
    {
     "name": "stdout",
     "output_type": "stream",
     "text": [
      "  17  4.77e+01  5.269e+06  2.910e+01  1.421e+03      7  8.388e-06\r"
     ]
    },
    {
     "name": "stdout",
     "output_type": "stream",
     "text": [
      "  18  4.98e+01  5.271e+06  2.739e+01  1.308e+03      7  8.684e-06\r"
     ]
    },
    {
     "name": "stdout",
     "output_type": "stream",
     "text": [
      "  19  5.18e+01  5.272e+06  2.592e+01  1.204e+03      7  8.035e-06\r"
     ]
    },
    {
     "name": "stdout",
     "output_type": "stream",
     "text": [
      "  20  5.38e+01  5.274e+06  2.458e+01  1.117e+03      7  7.970e-06\n"
     ]
    },
    {
     "name": "stdout",
     "output_type": "stream",
     "text": [
      "  21  5.54e+01  5.275e+06  2.375e+01  1.022e+03      5  9.912e-06\r"
     ]
    },
    {
     "name": "stdout",
     "output_type": "stream",
     "text": [
      "  22  5.74e+01  5.276e+06  2.235e+01  9.481e+02      7  7.163e-06\r"
     ]
    },
    {
     "name": "stdout",
     "output_type": "stream",
     "text": [
      "  23  5.89e+01  5.277e+06  2.159e+01  8.887e+02      5  9.781e-06\r"
     ]
    },
    {
     "name": "stdout",
     "output_type": "stream",
     "text": [
      "  24  6.10e+01  5.278e+06  2.045e+01  8.304e+02      7  7.513e-06\r"
     ]
    },
    {
     "name": "stdout",
     "output_type": "stream",
     "text": [
      "  25  6.23e+01  5.279e+06  1.992e+01  7.834e+02      4  9.896e-06\r"
     ]
    },
    {
     "name": "stdout",
     "output_type": "stream",
     "text": [
      "  26  6.39e+01  5.280e+06  1.908e+01  7.576e+02      5  8.932e-06\r"
     ]
    },
    {
     "name": "stdout",
     "output_type": "stream",
     "text": [
      "  27  6.55e+01  5.281e+06  1.834e+01  7.094e+02      5  9.417e-06\r"
     ]
    },
    {
     "name": "stdout",
     "output_type": "stream",
     "text": [
      "  28  6.71e+01  5.282e+06  1.766e+01  6.677e+02      5  7.988e-06\r"
     ]
    },
    {
     "name": "stdout",
     "output_type": "stream",
     "text": [
      "  29  6.87e+01  5.282e+06  1.702e+01  6.282e+02      5  8.224e-06\r"
     ]
    },
    {
     "name": "stdout",
     "output_type": "stream",
     "text": [
      "  30  7.02e+01  5.283e+06  1.644e+01  5.912e+02      5  6.955e-06\n"
     ]
    },
    {
     "name": "stdout",
     "output_type": "stream",
     "text": [
      "  31  7.15e+01  5.284e+06  1.596e+01  5.665e+02      4  9.447e-06\r"
     ]
    },
    {
     "name": "stdout",
     "output_type": "stream",
     "text": [
      "  32  7.28e+01  5.284e+06  1.547e+01  5.468e+02      4  9.896e-06\r"
     ]
    },
    {
     "name": "stdout",
     "output_type": "stream",
     "text": [
      "  33  7.44e+01  5.285e+06  1.493e+01  5.007e+02      5  5.924e-06\r"
     ]
    },
    {
     "name": "stdout",
     "output_type": "stream",
     "text": [
      "  34  7.57e+01  5.285e+06  1.452e+01  4.825e+02      4  7.081e-06\r"
     ]
    },
    {
     "name": "stdout",
     "output_type": "stream",
     "text": [
      "  35  7.69e+01  5.286e+06  1.426e+01  4.868e+02      3  9.801e-06\r"
     ]
    },
    {
     "name": "stdout",
     "output_type": "stream",
     "text": [
      "  36  7.85e+01  5.286e+06  1.371e+01  4.140e+02      5  5.673e-06\r"
     ]
    },
    {
     "name": "stdout",
     "output_type": "stream",
     "text": [
      "  37  7.91e+01  5.286e+06  1.352e+01  4.043e+02      1  8.646e-06\r"
     ]
    },
    {
     "name": "stdout",
     "output_type": "stream",
     "text": [
      "  38  8.07e+01  5.287e+06  1.299e+01  3.823e+02      5  5.664e-06\r"
     ]
    },
    {
     "name": "stdout",
     "output_type": "stream",
     "text": [
      "  39  8.13e+01  5.287e+06  1.281e+01  3.663e+02      1  9.558e-06\r"
     ]
    },
    {
     "name": "stdout",
     "output_type": "stream",
     "text": [
      "  40  8.25e+01  5.288e+06  1.251e+01  4.338e+02      3  9.395e-06\n"
     ]
    },
    {
     "name": "stdout",
     "output_type": "stream",
     "text": [
      "  41  8.38e+01  5.288e+06  1.207e+01  3.751e+02      4  9.683e-06\r"
     ]
    },
    {
     "name": "stdout",
     "output_type": "stream",
     "text": [
      "  42  8.47e+01  5.288e+06  1.186e+01  3.556e+02      2  9.404e-06\r"
     ]
    },
    {
     "name": "stdout",
     "output_type": "stream",
     "text": [
      "  43  8.58e+01  5.289e+06  1.160e+01  3.877e+02      3  8.501e-06\r"
     ]
    },
    {
     "name": "stdout",
     "output_type": "stream",
     "text": [
      "  44  8.71e+01  5.289e+06  1.120e+01  3.219e+02      4  6.377e-06\r"
     ]
    },
    {
     "name": "stdout",
     "output_type": "stream",
     "text": [
      "  45  8.78e+01  5.289e+06  1.104e+01  2.675e+02      1  9.244e-06\r"
     ]
    },
    {
     "name": "stdout",
     "output_type": "stream",
     "text": [
      "  46  8.89e+01  5.290e+06  1.080e+01  3.415e+02      3  8.580e-06\r"
     ]
    },
    {
     "name": "stdout",
     "output_type": "stream",
     "text": [
      "  47  9.00e+01  5.290e+06  1.063e+01  3.152e+02      3  8.921e-06\r"
     ]
    },
    {
     "name": "stdout",
     "output_type": "stream",
     "text": [
      "  48  9.12e+01  5.290e+06  1.047e+01  2.564e+02      3  9.437e-06\r"
     ]
    },
    {
     "name": "stdout",
     "output_type": "stream",
     "text": [
      "  49  9.23e+01  5.291e+06  1.030e+01  2.325e+02      3  9.358e-06\r"
     ]
    },
    {
     "name": "stdout",
     "output_type": "stream",
     "text": [
      "  50  9.34e+01  5.291e+06  1.011e+01  2.183e+02      3  9.824e-06\n"
     ]
    },
    {
     "name": "stdout",
     "output_type": "stream",
     "text": [
      "  51  9.46e+01  5.291e+06  9.929e+00  2.133e+02      3  9.837e-06\r"
     ]
    },
    {
     "name": "stdout",
     "output_type": "stream",
     "text": [
      "  52  9.57e+01  5.291e+06  9.743e+00  2.013e+02      3  9.869e-06\r"
     ]
    },
    {
     "name": "stdout",
     "output_type": "stream",
     "text": [
      "  53  9.69e+01  5.291e+06  9.559e+00  1.989e+02      3  9.863e-06\r"
     ]
    },
    {
     "name": "stdout",
     "output_type": "stream",
     "text": [
      "  54  9.80e+01  5.292e+06  9.376e+00  1.897e+02      3  9.711e-06\r"
     ]
    },
    {
     "name": "stdout",
     "output_type": "stream",
     "text": [
      "  55  9.92e+01  5.292e+06  9.201e+00  1.867e+02      3  9.726e-06\r"
     ]
    },
    {
     "name": "stdout",
     "output_type": "stream",
     "text": [
      "  56  1.00e+02  5.292e+06  9.029e+00  1.789e+02      3  9.429e-06\r"
     ]
    },
    {
     "name": "stdout",
     "output_type": "stream",
     "text": [
      "  57  1.01e+02  5.292e+06  8.865e+00  1.754e+02      3  9.477e-06\r"
     ]
    },
    {
     "name": "stdout",
     "output_type": "stream",
     "text": [
      "  58  1.03e+02  5.293e+06  8.697e+00  1.692e+02      3  9.053e-06\r"
     ]
    },
    {
     "name": "stdout",
     "output_type": "stream",
     "text": [
      "  59  1.04e+02  5.293e+06  8.531e+00  1.676e+02      3  9.153e-06\r"
     ]
    },
    {
     "name": "stdout",
     "output_type": "stream",
     "text": [
      "  60  1.05e+02  5.293e+06  8.376e+00  1.616e+02      3  8.722e-06\n"
     ]
    },
    {
     "name": "stdout",
     "output_type": "stream",
     "text": [
      "  61  1.06e+02  5.293e+06  8.226e+00  1.588e+02      3  8.840e-06\r"
     ]
    },
    {
     "name": "stdout",
     "output_type": "stream",
     "text": [
      "  62  1.07e+02  5.293e+06  8.081e+00  1.531e+02      3  8.323e-06\r"
     ]
    },
    {
     "name": "stdout",
     "output_type": "stream",
     "text": [
      "  63  1.08e+02  5.293e+06  7.939e+00  1.509e+02      3  8.435e-06\r"
     ]
    },
    {
     "name": "stdout",
     "output_type": "stream",
     "text": [
      "  64  1.09e+02  5.294e+06  7.801e+00  1.453e+02      3  7.900e-06\r"
     ]
    },
    {
     "name": "stdout",
     "output_type": "stream",
     "text": [
      "  65  1.11e+02  5.294e+06  7.669e+00  1.424e+02      3  8.017e-06\r"
     ]
    },
    {
     "name": "stdout",
     "output_type": "stream",
     "text": [
      "  66  1.12e+02  5.294e+06  7.538e+00  1.374e+02      3  7.481e-06\r"
     ]
    },
    {
     "name": "stdout",
     "output_type": "stream",
     "text": [
      "  67  1.13e+02  5.294e+06  7.409e+00  1.347e+02      3  7.610e-06\r"
     ]
    },
    {
     "name": "stdout",
     "output_type": "stream",
     "text": [
      "  68  1.14e+02  5.294e+06  7.289e+00  1.293e+02      3  7.096e-06\r"
     ]
    },
    {
     "name": "stdout",
     "output_type": "stream",
     "text": [
      "  69  1.15e+02  5.294e+06  7.175e+00  1.259e+02      3  7.244e-06\r"
     ]
    },
    {
     "name": "stdout",
     "output_type": "stream",
     "text": [
      "  70  1.16e+02  5.294e+06  7.031e+00  9.963e+01      2  9.969e-06\n"
     ]
    },
    {
     "name": "stdout",
     "output_type": "stream",
     "text": [
      "  71  1.17e+02  5.295e+06  6.937e+00  1.430e+02      3  6.670e-06\r"
     ]
    },
    {
     "name": "stdout",
     "output_type": "stream",
     "text": [
      "  72  1.18e+02  5.295e+06  6.850e+00  8.898e+01      1  9.083e-06\r"
     ]
    },
    {
     "name": "stdout",
     "output_type": "stream",
     "text": [
      "  73  1.19e+02  5.295e+06  6.725e+00  1.313e+02      3  6.460e-06\r"
     ]
    },
    {
     "name": "stdout",
     "output_type": "stream",
     "text": [
      "  74  1.20e+02  5.295e+06  6.647e+00  8.570e+01      1  9.771e-06\r"
     ]
    },
    {
     "name": "stdout",
     "output_type": "stream",
     "text": [
      "  75  1.21e+02  5.295e+06  6.530e+00  1.279e+02      3  6.330e-06\r"
     ]
    },
    {
     "name": "stdout",
     "output_type": "stream",
     "text": [
      "  76  1.21e+02  5.295e+06  6.458e+00  8.276e+01      1  8.672e-06\r"
     ]
    },
    {
     "name": "stdout",
     "output_type": "stream",
     "text": [
      "  77  1.23e+02  5.295e+06  6.346e+00  1.209e+02      3  6.143e-06\r"
     ]
    },
    {
     "name": "stdout",
     "output_type": "stream",
     "text": [
      "  78  1.23e+02  5.295e+06  6.273e+00  7.837e+01      1  9.268e-06\r"
     ]
    },
    {
     "name": "stdout",
     "output_type": "stream",
     "text": [
      "  79  1.24e+02  5.295e+06  6.169e+00  1.181e+02      3  6.000e-06\r"
     ]
    },
    {
     "name": "stdout",
     "output_type": "stream",
     "text": [
      "  80  1.25e+02  5.296e+06  6.105e+00  7.512e+01      1  8.140e-06\n"
     ]
    },
    {
     "name": "stdout",
     "output_type": "stream",
     "text": [
      "  81  1.26e+02  5.296e+06  6.002e+00  1.106e+02      3  5.777e-06\r"
     ]
    },
    {
     "name": "stdout",
     "output_type": "stream",
     "text": [
      "  82  1.27e+02  5.296e+06  5.935e+00  7.171e+01      1  8.669e-06\r"
     ]
    },
    {
     "name": "stdout",
     "output_type": "stream",
     "text": [
      "  83  1.28e+02  5.296e+06  5.839e+00  1.084e+02      3  5.632e-06\r"
     ]
    },
    {
     "name": "stdout",
     "output_type": "stream",
     "text": [
      "  84  1.29e+02  5.296e+06  5.780e+00  6.976e+01      1  7.601e-06\r"
     ]
    },
    {
     "name": "stdout",
     "output_type": "stream",
     "text": [
      "  85  1.30e+02  5.296e+06  5.686e+00  1.020e+02      3  5.423e-06\r"
     ]
    },
    {
     "name": "stdout",
     "output_type": "stream",
     "text": [
      "  86  1.30e+02  5.296e+06  5.626e+00  6.537e+01      1  8.136e-06\r"
     ]
    },
    {
     "name": "stdout",
     "output_type": "stream",
     "text": [
      "  87  1.31e+02  5.296e+06  5.500e+00  5.886e+01      2  9.598e-06\r"
     ]
    },
    {
     "name": "stdout",
     "output_type": "stream",
     "text": [
      "  88  1.32e+02  5.296e+06  5.463e+00  2.577e+01      1  9.075e-06\r"
     ]
    },
    {
     "name": "stdout",
     "output_type": "stream",
     "text": [
      "  89  1.33e+02  5.296e+06  5.391e+00  1.451e+02      2  9.334e-06\r"
     ]
    },
    {
     "name": "stdout",
     "output_type": "stream",
     "text": [
      "  90  1.33e+02  5.296e+06  5.321e+00  2.889e+01      1  8.480e-06\n"
     ]
    },
    {
     "name": "stdout",
     "output_type": "stream",
     "text": [
      "  91  1.34e+02  5.296e+06  5.301e+00  1.760e+01      0  9.779e-06\r"
     ]
    },
    {
     "name": "stdout",
     "output_type": "stream",
     "text": [
      "  92  1.35e+02  5.297e+06  5.418e+00  1.346e+02      3  6.380e-06\r"
     ]
    },
    {
     "name": "stdout",
     "output_type": "stream",
     "text": [
      "  93  1.36e+02  5.297e+06  5.215e+00  6.327e+01      1  8.380e-06\r"
     ]
    },
    {
     "name": "stdout",
     "output_type": "stream",
     "text": [
      "  94  1.37e+02  5.297e+06  5.072e+00  5.589e+01      2  9.934e-06\r"
     ]
    },
    {
     "name": "stdout",
     "output_type": "stream",
     "text": [
      "  95  1.38e+02  5.297e+06  5.038e+00  2.282e+01      1  9.049e-06\r"
     ]
    },
    {
     "name": "stdout",
     "output_type": "stream",
     "text": [
      "  96  1.38e+02  5.297e+06  5.006e+00  2.071e+01      1  9.831e-06\r"
     ]
    },
    {
     "name": "stdout",
     "output_type": "stream",
     "text": [
      "  97  1.39e+02  5.297e+06  5.022e+00  1.632e+02      2  6.408e-06\r"
     ]
    },
    {
     "name": "stdout",
     "output_type": "stream",
     "text": [
      "  98  1.40e+02  5.297e+06  4.952e+00  6.456e+01      1  6.805e-06\r"
     ]
    },
    {
     "name": "stdout",
     "output_type": "stream",
     "text": [
      "  99  1.41e+02  5.297e+06  4.821e+00  5.501e+01      2  9.240e-06\r\n"
     ]
    }
   ],
   "source": [
    "# Note that rho and lambda were selected via a parameter sweep (not\n",
    "# shown here).\n",
    "ρ = 2.5e3  # ADMM penalty parameter\n",
    "lambda_unweighted = 3e2  # regularization strength\n",
    "\n",
    "maxiter = 100  # number of ADMM iterations\n",
    "cg_tol = 1e-5  # CG relative tolerance\n",
    "cg_maxiter = 10  # maximum CG iterations per ADMM iteration\n",
    "\n",
    "f = loss.SquaredL2Loss(y=y, A=A)\n",
    "\n",
    "admm_unweighted = ADMM(\n",
    "    f=f,\n",
    "    g_list=[lambda_unweighted * functional.L21Norm()],\n",
    "    C_list=[linop.FiniteDifference(x_gt.shape, append=0)],\n",
    "    rho_list=[ρ],\n",
    "    x0=x0,\n",
    "    maxiter=maxiter,\n",
    "    subproblem_solver=LinearSubproblemSolver(cg_kwargs={\"tol\": cg_tol, \"maxiter\": cg_maxiter}),\n",
    "    itstat_options={\"display\": True, \"period\": 10},\n",
    ")\n",
    "print(f\"Solving on {device_info()}\\n\")\n",
    "admm_unweighted.solve()\n",
    "x_unweighted = postprocess(admm_unweighted.x)"
   ]
  },
  {
   "cell_type": "markdown",
   "id": "9ff40505",
   "metadata": {},
   "source": [
    "Set up and solve the weighted reconstruction problem\n",
    "\n",
    "  $$\\mathrm{argmin}_{\\mathbf{x}} \\; (1/2) \\| \\mathbf{y} - A \\mathbf{x}\n",
    "  \\|_W^2 + \\lambda \\| C \\mathbf{x} \\|_{2,1} \\;,$$\n",
    "\n",
    "where\n",
    "\n",
    "  $$W = \\mathrm{diag}\\left\\{ \\mathrm{counts} / I_0 \\right\\} \\;.$$\n",
    "\n",
    "The data fidelity term in this formulation follows\n",
    "<cite data-cite=\"sauer-1993-local\"/> (9) except for the scaling by $I_0$, which we\n",
    "use to maintain balance between the data and regularization terms if\n",
    "$I_0$ changes."
   ]
  },
  {
   "cell_type": "code",
   "execution_count": 8,
   "id": "811ff513",
   "metadata": {
    "collapsed": false,
    "execution": {
     "iopub.execute_input": "2024-06-06T02:30:10.340042Z",
     "iopub.status.busy": "2024-06-06T02:30:10.339686Z",
     "iopub.status.idle": "2024-06-06T02:33:20.787807Z",
     "shell.execute_reply": "2024-06-06T02:33:20.786126Z"
    }
   },
   "outputs": [
    {
     "name": "stdout",
     "output_type": "stream",
     "text": [
      "Iter  Time      Objective  Prml Rsdl  Dual Rsdl  CG It  CG Res   \n",
      "-----------------------------------------------------------------\n",
      "   0  2.78e+00  1.062e+06  2.867e+02  7.215e+03     10  5.396e-03\n"
     ]
    },
    {
     "name": "stdout",
     "output_type": "stream",
     "text": [
      "   1  5.46e+00  1.030e+06  1.196e+02  6.225e+03     10  1.005e-03\r"
     ]
    },
    {
     "name": "stdout",
     "output_type": "stream",
     "text": [
      "   2  8.13e+00  1.029e+06  6.911e+01  4.774e+03     10  5.409e-04\r"
     ]
    },
    {
     "name": "stdout",
     "output_type": "stream",
     "text": [
      "   3  1.08e+01  1.029e+06  4.829e+01  4.026e+03     10  4.176e-04\r"
     ]
    },
    {
     "name": "stdout",
     "output_type": "stream",
     "text": [
      "   4  1.35e+01  1.027e+06  3.788e+01  3.604e+03     10  1.887e-04\r"
     ]
    },
    {
     "name": "stdout",
     "output_type": "stream",
     "text": [
      "   5  1.62e+01  1.027e+06  3.041e+01  3.216e+03     10  9.375e-05\r"
     ]
    },
    {
     "name": "stdout",
     "output_type": "stream",
     "text": [
      "   6  1.88e+01  1.026e+06  2.487e+01  2.908e+03     10  7.081e-05\r"
     ]
    },
    {
     "name": "stdout",
     "output_type": "stream",
     "text": [
      "   7  2.15e+01  1.025e+06  2.079e+01  2.648e+03     10  4.531e-05\r"
     ]
    },
    {
     "name": "stdout",
     "output_type": "stream",
     "text": [
      "   8  2.42e+01  1.025e+06  1.773e+01  2.419e+03     10  4.208e-05\r"
     ]
    },
    {
     "name": "stdout",
     "output_type": "stream",
     "text": [
      "   9  2.68e+01  1.024e+06  1.531e+01  2.224e+03     10  3.094e-05\r"
     ]
    },
    {
     "name": "stdout",
     "output_type": "stream",
     "text": [
      "  10  2.95e+01  1.024e+06  1.343e+01  2.055e+03     10  3.047e-05\n"
     ]
    },
    {
     "name": "stdout",
     "output_type": "stream",
     "text": [
      "  11  3.22e+01  1.024e+06  1.180e+01  1.911e+03     10  2.364e-05\r"
     ]
    },
    {
     "name": "stdout",
     "output_type": "stream",
     "text": [
      "  12  3.49e+01  1.023e+06  1.062e+01  1.777e+03     10  2.372e-05\r"
     ]
    },
    {
     "name": "stdout",
     "output_type": "stream",
     "text": [
      "  13  3.76e+01  1.023e+06  9.608e+00  1.659e+03     10  1.907e-05\r"
     ]
    },
    {
     "name": "stdout",
     "output_type": "stream",
     "text": [
      "  14  4.03e+01  1.023e+06  8.734e+00  1.555e+03     10  1.964e-05\r"
     ]
    },
    {
     "name": "stdout",
     "output_type": "stream",
     "text": [
      "  15  4.30e+01  1.023e+06  7.945e+00  1.465e+03     10  1.585e-05\r"
     ]
    },
    {
     "name": "stdout",
     "output_type": "stream",
     "text": [
      "  16  4.57e+01  1.023e+06  7.267e+00  1.385e+03     10  1.607e-05\r"
     ]
    },
    {
     "name": "stdout",
     "output_type": "stream",
     "text": [
      "  17  4.84e+01  1.023e+06  6.681e+00  1.312e+03     10  1.299e-05\r"
     ]
    },
    {
     "name": "stdout",
     "output_type": "stream",
     "text": [
      "  18  5.10e+01  1.022e+06  6.193e+00  1.244e+03     10  1.312e-05\r"
     ]
    },
    {
     "name": "stdout",
     "output_type": "stream",
     "text": [
      "  19  5.38e+01  1.022e+06  5.770e+00  1.182e+03     10  1.057e-05\r"
     ]
    },
    {
     "name": "stdout",
     "output_type": "stream",
     "text": [
      "  20  5.65e+01  1.022e+06  5.393e+00  1.126e+03     10  1.073e-05\n"
     ]
    },
    {
     "name": "stdout",
     "output_type": "stream",
     "text": [
      "  21  5.92e+01  1.022e+06  5.029e+00  1.075e+03     10  8.681e-06\r"
     ]
    },
    {
     "name": "stdout",
     "output_type": "stream",
     "text": [
      "  22  6.20e+01  1.022e+06  4.670e+00  1.029e+03     10  8.976e-06\r"
     ]
    },
    {
     "name": "stdout",
     "output_type": "stream",
     "text": [
      "  23  6.47e+01  1.022e+06  4.393e+00  9.859e+02      9  9.317e-06\r"
     ]
    },
    {
     "name": "stdout",
     "output_type": "stream",
     "text": [
      "  24  6.74e+01  1.022e+06  4.097e+00  9.462e+02     10  7.082e-06\r"
     ]
    },
    {
     "name": "stdout",
     "output_type": "stream",
     "text": [
      "  25  6.99e+01  1.022e+06  3.874e+00  9.101e+02      9  9.402e-06\r"
     ]
    },
    {
     "name": "stdout",
     "output_type": "stream",
     "text": [
      "  26  7.24e+01  1.022e+06  3.678e+00  8.754e+02      9  7.999e-06\r"
     ]
    },
    {
     "name": "stdout",
     "output_type": "stream",
     "text": [
      "  27  7.46e+01  1.022e+06  3.513e+00  8.419e+02      8  9.329e-06\r"
     ]
    },
    {
     "name": "stdout",
     "output_type": "stream",
     "text": [
      "  28  7.71e+01  1.022e+06  3.336e+00  8.098e+02      9  7.994e-06\r"
     ]
    },
    {
     "name": "stdout",
     "output_type": "stream",
     "text": [
      "  29  7.94e+01  1.022e+06  3.195e+00  7.796e+02      8  9.451e-06\r"
     ]
    },
    {
     "name": "stdout",
     "output_type": "stream",
     "text": [
      "  30  8.17e+01  1.022e+06  3.043e+00  7.522e+02      8  9.616e-06\n"
     ]
    },
    {
     "name": "stdout",
     "output_type": "stream",
     "text": [
      "  31  8.39e+01  1.022e+06  2.909e+00  7.257e+02      8  8.707e-06\r"
     ]
    },
    {
     "name": "stdout",
     "output_type": "stream",
     "text": [
      "  32  8.62e+01  1.022e+06  2.791e+00  7.004e+02      8  8.707e-06\r"
     ]
    },
    {
     "name": "stdout",
     "output_type": "stream",
     "text": [
      "  33  8.85e+01  1.021e+06  2.666e+00  6.771e+02      8  7.954e-06\r"
     ]
    },
    {
     "name": "stdout",
     "output_type": "stream",
     "text": [
      "  34  9.03e+01  1.021e+06  2.591e+00  6.563e+02      6  9.381e-06\r"
     ]
    },
    {
     "name": "stdout",
     "output_type": "stream",
     "text": [
      "  35  9.24e+01  1.021e+06  2.438e+00  6.363e+02      7  8.057e-06\r"
     ]
    },
    {
     "name": "stdout",
     "output_type": "stream",
     "text": [
      "  36  9.45e+01  1.021e+06  2.317e+00  6.193e+02      7  8.963e-06\r"
     ]
    },
    {
     "name": "stdout",
     "output_type": "stream",
     "text": [
      "  37  9.63e+01  1.021e+06  2.250e+00  6.019e+02      6  9.210e-06\r"
     ]
    },
    {
     "name": "stdout",
     "output_type": "stream",
     "text": [
      "  38  9.81e+01  1.021e+06  2.130e+00  5.877e+02      6  9.930e-06\r"
     ]
    },
    {
     "name": "stdout",
     "output_type": "stream",
     "text": [
      "  39  9.99e+01  1.021e+06  2.040e+00  5.721e+02      6  9.983e-06\r"
     ]
    },
    {
     "name": "stdout",
     "output_type": "stream",
     "text": [
      "  40  1.02e+02  1.021e+06  1.974e+00  5.539e+02      7  8.071e-06\n"
     ]
    },
    {
     "name": "stdout",
     "output_type": "stream",
     "text": [
      "  41  1.04e+02  1.021e+06  1.924e+00  5.396e+02      6  9.656e-06\r"
     ]
    },
    {
     "name": "stdout",
     "output_type": "stream",
     "text": [
      "  42  1.06e+02  1.021e+06  1.872e+00  5.260e+02      6  8.463e-06\r"
     ]
    },
    {
     "name": "stdout",
     "output_type": "stream",
     "text": [
      "  43  1.07e+02  1.021e+06  1.806e+00  5.127e+02      6  8.727e-06\r"
     ]
    },
    {
     "name": "stdout",
     "output_type": "stream",
     "text": [
      "  44  1.09e+02  1.021e+06  1.738e+00  5.000e+02      6  8.519e-06\r"
     ]
    },
    {
     "name": "stdout",
     "output_type": "stream",
     "text": [
      "  45  1.11e+02  1.021e+06  1.688e+00  4.873e+02      6  8.402e-06\r"
     ]
    },
    {
     "name": "stdout",
     "output_type": "stream",
     "text": [
      "  46  1.13e+02  1.021e+06  1.622e+00  4.757e+02      6  8.133e-06\r"
     ]
    },
    {
     "name": "stdout",
     "output_type": "stream",
     "text": [
      "  47  1.15e+02  1.021e+06  1.575e+00  4.642e+02      6  7.959e-06\r"
     ]
    },
    {
     "name": "stdout",
     "output_type": "stream",
     "text": [
      "  48  1.17e+02  1.021e+06  1.532e+00  4.532e+02      6  7.654e-06\r"
     ]
    },
    {
     "name": "stdout",
     "output_type": "stream",
     "text": [
      "  49  1.18e+02  1.021e+06  1.489e+00  4.426e+02      6  7.456e-06\r"
     ]
    },
    {
     "name": "stdout",
     "output_type": "stream",
     "text": [
      "  50  1.20e+02  1.021e+06  1.455e+00  4.316e+02      6  7.169e-06\n"
     ]
    },
    {
     "name": "stdout",
     "output_type": "stream",
     "text": [
      "  51  1.22e+02  1.021e+06  1.421e+00  4.212e+02      6  7.043e-06\r"
     ]
    },
    {
     "name": "stdout",
     "output_type": "stream",
     "text": [
      "  52  1.24e+02  1.021e+06  1.403e+00  4.105e+02      5  9.569e-06\r"
     ]
    },
    {
     "name": "stdout",
     "output_type": "stream",
     "text": [
      "  53  1.25e+02  1.021e+06  1.348e+00  4.036e+02      5  9.037e-06\r"
     ]
    },
    {
     "name": "stdout",
     "output_type": "stream",
     "text": [
      "  54  1.27e+02  1.021e+06  1.306e+00  3.931e+02      6  6.809e-06\r"
     ]
    },
    {
     "name": "stdout",
     "output_type": "stream",
     "text": [
      "  55  1.29e+02  1.021e+06  1.258e+00  3.861e+02      6  6.500e-06\r"
     ]
    },
    {
     "name": "stdout",
     "output_type": "stream",
     "text": [
      "  56  1.31e+02  1.021e+06  1.250e+00  3.762e+02      5  8.312e-06\r"
     ]
    },
    {
     "name": "stdout",
     "output_type": "stream",
     "text": [
      "  57  1.32e+02  1.021e+06  1.214e+00  3.695e+02      5  8.102e-06\r"
     ]
    },
    {
     "name": "stdout",
     "output_type": "stream",
     "text": [
      "  58  1.34e+02  1.021e+06  1.178e+00  3.614e+02      5  8.895e-06\r"
     ]
    },
    {
     "name": "stdout",
     "output_type": "stream",
     "text": [
      "  59  1.35e+02  1.021e+06  1.142e+00  3.541e+02      5  8.283e-06\r"
     ]
    },
    {
     "name": "stdout",
     "output_type": "stream",
     "text": [
      "  60  1.37e+02  1.021e+06  1.106e+00  3.470e+02      5  8.670e-06\n"
     ]
    },
    {
     "name": "stdout",
     "output_type": "stream",
     "text": [
      "  61  1.39e+02  1.021e+06  1.080e+00  3.397e+02      5  7.992e-06\r"
     ]
    },
    {
     "name": "stdout",
     "output_type": "stream",
     "text": [
      "  62  1.40e+02  1.021e+06  1.051e+00  3.329e+02      5  8.225e-06\r"
     ]
    },
    {
     "name": "stdout",
     "output_type": "stream",
     "text": [
      "  63  1.42e+02  1.021e+06  1.031e+00  3.259e+02      5  7.594e-06\r"
     ]
    },
    {
     "name": "stdout",
     "output_type": "stream",
     "text": [
      "  64  1.43e+02  1.021e+06  1.013e+00  3.189e+02      5  7.756e-06\r"
     ]
    },
    {
     "name": "stdout",
     "output_type": "stream",
     "text": [
      "  65  1.45e+02  1.021e+06  9.883e-01  3.124e+02      5  7.198e-06\r"
     ]
    },
    {
     "name": "stdout",
     "output_type": "stream",
     "text": [
      "  66  1.47e+02  1.021e+06  9.611e-01  3.062e+02      5  7.350e-06\r"
     ]
    },
    {
     "name": "stdout",
     "output_type": "stream",
     "text": [
      "  67  1.48e+02  1.021e+06  9.358e-01  3.004e+02      5  6.850e-06\r"
     ]
    },
    {
     "name": "stdout",
     "output_type": "stream",
     "text": [
      "  68  1.50e+02  1.021e+06  9.178e-01  2.945e+02      5  6.952e-06\r"
     ]
    },
    {
     "name": "stdout",
     "output_type": "stream",
     "text": [
      "  69  1.52e+02  1.021e+06  8.895e-01  2.890e+02      5  6.544e-06\r"
     ]
    },
    {
     "name": "stdout",
     "output_type": "stream",
     "text": [
      "  70  1.53e+02  1.021e+06  8.635e-01  2.839e+02      5  6.663e-06\n"
     ]
    },
    {
     "name": "stdout",
     "output_type": "stream",
     "text": [
      "  71  1.55e+02  1.021e+06  8.404e-01  2.790e+02      5  6.280e-06\r"
     ]
    },
    {
     "name": "stdout",
     "output_type": "stream",
     "text": [
      "  72  1.56e+02  1.021e+06  8.240e-01  2.741e+02      5  6.349e-06\r"
     ]
    },
    {
     "name": "stdout",
     "output_type": "stream",
     "text": [
      "  73  1.58e+02  1.021e+06  8.088e-01  2.691e+02      5  5.987e-06\r"
     ]
    },
    {
     "name": "stdout",
     "output_type": "stream",
     "text": [
      "  74  1.59e+02  1.021e+06  8.487e-01  2.619e+02      3  9.752e-06\r"
     ]
    },
    {
     "name": "stdout",
     "output_type": "stream",
     "text": [
      "  75  1.60e+02  1.021e+06  8.253e-01  2.601e+02      3  9.681e-06\r"
     ]
    },
    {
     "name": "stdout",
     "output_type": "stream",
     "text": [
      "  76  1.62e+02  1.021e+06  8.191e-01  2.513e+02      5  7.069e-06\r"
     ]
    },
    {
     "name": "stdout",
     "output_type": "stream",
     "text": [
      "  77  1.63e+02  1.021e+06  7.876e-01  2.463e+02      3  9.818e-06\r"
     ]
    },
    {
     "name": "stdout",
     "output_type": "stream",
     "text": [
      "  78  1.64e+02  1.021e+06  7.627e-01  2.459e+02      3  9.414e-06\r"
     ]
    },
    {
     "name": "stdout",
     "output_type": "stream",
     "text": [
      "  79  1.66e+02  1.021e+06  7.663e-01  2.386e+02      5  7.125e-06\r"
     ]
    },
    {
     "name": "stdout",
     "output_type": "stream",
     "text": [
      "  80  1.67e+02  1.021e+06  7.353e-01  2.341e+02      3  9.492e-06\n"
     ]
    },
    {
     "name": "stdout",
     "output_type": "stream",
     "text": [
      "  81  1.68e+02  1.021e+06  7.133e-01  2.340e+02      3  8.870e-06\r"
     ]
    },
    {
     "name": "stdout",
     "output_type": "stream",
     "text": [
      "  82  1.69e+02  1.021e+06  7.140e-01  2.275e+02      4  7.531e-06\r"
     ]
    },
    {
     "name": "stdout",
     "output_type": "stream",
     "text": [
      "  83  1.70e+02  1.021e+06  6.887e-01  2.236e+02      3  9.720e-06\r"
     ]
    },
    {
     "name": "stdout",
     "output_type": "stream",
     "text": [
      "  84  1.72e+02  1.021e+06  6.716e-01  2.233e+02      3  8.735e-06\r"
     ]
    },
    {
     "name": "stdout",
     "output_type": "stream",
     "text": [
      "  85  1.73e+02  1.021e+06  6.916e-01  2.165e+02      5  6.521e-06\r"
     ]
    },
    {
     "name": "stdout",
     "output_type": "stream",
     "text": [
      "  86  1.74e+02  1.021e+06  6.659e-01  2.123e+02      3  8.789e-06\r"
     ]
    },
    {
     "name": "stdout",
     "output_type": "stream",
     "text": [
      "  87  1.75e+02  1.021e+06  6.456e-01  2.125e+02      3  8.117e-06\r"
     ]
    },
    {
     "name": "stdout",
     "output_type": "stream",
     "text": [
      "  88  1.77e+02  1.021e+06  6.271e-01  2.093e+02      3  9.775e-06\r"
     ]
    },
    {
     "name": "stdout",
     "output_type": "stream",
     "text": [
      "  89  1.78e+02  1.021e+06  6.146e-01  2.063e+02      3  8.726e-06\r"
     ]
    },
    {
     "name": "stdout",
     "output_type": "stream",
     "text": [
      "  90  1.79e+02  1.021e+06  6.504e-01  2.007e+02      5  6.107e-06\n"
     ]
    },
    {
     "name": "stdout",
     "output_type": "stream",
     "text": [
      "  91  1.81e+02  1.021e+06  6.088e-01  1.970e+02      3  8.034e-06\r"
     ]
    },
    {
     "name": "stdout",
     "output_type": "stream",
     "text": [
      "  92  1.82e+02  1.021e+06  5.861e-01  1.976e+02      3  7.358e-06\r"
     ]
    },
    {
     "name": "stdout",
     "output_type": "stream",
     "text": [
      "  93  1.83e+02  1.021e+06  5.749e-01  1.947e+02      3  8.821e-06\r"
     ]
    },
    {
     "name": "stdout",
     "output_type": "stream",
     "text": [
      "  94  1.84e+02  1.021e+06  5.660e-01  1.921e+02      3  7.879e-06\r"
     ]
    },
    {
     "name": "stdout",
     "output_type": "stream",
     "text": [
      "  95  1.85e+02  1.021e+06  5.564e-01  1.895e+02      3  8.973e-06\r"
     ]
    },
    {
     "name": "stdout",
     "output_type": "stream",
     "text": [
      "  96  1.86e+02  1.021e+06  5.487e-01  1.869e+02      3  7.950e-06\r"
     ]
    },
    {
     "name": "stdout",
     "output_type": "stream",
     "text": [
      "  97  1.87e+02  1.021e+06  5.363e-01  1.846e+02      3  8.904e-06\r"
     ]
    },
    {
     "name": "stdout",
     "output_type": "stream",
     "text": [
      "  98  1.89e+02  1.021e+06  5.249e-01  1.822e+02      3  7.923e-06\r"
     ]
    },
    {
     "name": "stdout",
     "output_type": "stream",
     "text": [
      "  99  1.90e+02  1.021e+06  5.158e-01  1.799e+02      3  8.943e-06\r\n"
     ]
    }
   ],
   "source": [
    "lambda_weighted = 5e1\n",
    "\n",
    "weights = snp.array(counts / Io)\n",
    "f = loss.SquaredL2Loss(y=y, A=A, W=linop.Diagonal(weights))\n",
    "\n",
    "admm_weighted = ADMM(\n",
    "    f=f,\n",
    "    g_list=[lambda_weighted * functional.L21Norm()],\n",
    "    C_list=[linop.FiniteDifference(x_gt.shape, append=0)],\n",
    "    rho_list=[ρ],\n",
    "    maxiter=maxiter,\n",
    "    x0=x0,\n",
    "    subproblem_solver=LinearSubproblemSolver(cg_kwargs={\"tol\": cg_tol, \"maxiter\": cg_maxiter}),\n",
    "    itstat_options={\"display\": True, \"period\": 10},\n",
    ")\n",
    "admm_weighted.solve()\n",
    "x_weighted = postprocess(admm_weighted.x)"
   ]
  },
  {
   "cell_type": "markdown",
   "id": "09985375",
   "metadata": {},
   "source": [
    "Show recovered images."
   ]
  },
  {
   "cell_type": "code",
   "execution_count": 9,
   "id": "39ba9c7c",
   "metadata": {
    "collapsed": false,
    "execution": {
     "iopub.execute_input": "2024-06-06T02:33:20.792830Z",
     "iopub.status.busy": "2024-06-06T02:33:20.792269Z",
     "iopub.status.idle": "2024-06-06T02:33:22.122327Z",
     "shell.execute_reply": "2024-06-06T02:33:22.121605Z"
    }
   },
   "outputs": [
    {
     "data": {
      "image/png": "[encoded data removed]",
      "text/plain": [
       "<Figure size 1100x1000 with 5 Axes>"
      ]
     },
     "metadata": {},
     "output_type": "display_data"
    }
   ],
   "source": [
    "def plot_recon(x, title, ax):\n",
    "    \"\"\"Plot an image with title indicating error metrics.\"\"\"\n",
    "    plot.imview(\n",
    "        x,\n",
    "        title=f\"{title}\\nSNR: {metric.snr(x_gt, x):.2f} (dB), MAE: {metric.mae(x_gt, x):.3f}\",\n",
    "        fig=fig,\n",
    "        ax=ax,\n",
    "    )\n",
    "\n",
    "\n",
    "fig, ax = plot.subplots(nrows=2, ncols=2, figsize=(11, 10))\n",
    "plot.imview(x_gt, title=\"Ground truth\", fig=fig, ax=ax[0, 0])\n",
    "plot_recon(x0, \"FBP Reconstruction\", ax=ax[0, 1])\n",
    "plot_recon(x_unweighted, \"Unweighted TV Reconstruction\", ax=ax[1, 0])\n",
    "plot_recon(x_weighted, \"Weighted TV Reconstruction\", ax=ax[1, 1])\n",
    "for ax_ in ax.ravel():\n",
    "    ax_.set_xlim(64, 448)\n",
    "    ax_.set_ylim(64, 448)\n",
    "fig.subplots_adjust(left=0.1, right=0.99, top=0.95, bottom=0.05, wspace=0.2, hspace=0.01)\n",
    "fig.colorbar(\n",
    "    ax[0, 0].get_images()[0], ax=ax, location=\"right\", shrink=0.9, pad=0.05, label=\"arbitrary units\"\n",
    ")\n",
    "fig.show()"
   ]
  }
 ],
 "metadata": {
  "language_info": {
   "codemirror_mode": {
    "name": "ipython",
    "version": 3
   },
   "file_extension": ".py",
   "mimetype": "text/x-python",
   "name": "python",
   "nbconvert_exporter": "python",
   "pygments_lexer": "ipython3",
   "version": "3.10.13"
  }
 },
 "nbformat": 4,
 "nbformat_minor": 5
}
