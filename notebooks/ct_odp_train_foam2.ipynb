{
 "cells": [
  {
   "cell_type": "markdown",
   "id": "d1f03757",
   "metadata": {},
   "source": [
    "CT Training and Reconstruction with ODP\n",
    "=======================================\n",
    "\n",
    "This example demonstrates the training of the unrolled optimization with\n",
    "deep priors (ODP) gradient descent architecture described in\n",
    "<cite data-cite=\"diamond-2018-odp\"/> applied to a CT reconstruction problem.\n",
    "\n",
    "The source images are foam phantoms generated with xdesign.\n",
    "\n",
    "A class\n",
    "[scico.flax.ODPNet](../_autosummary/scico.flax.rst#scico.flax.ODPNet)\n",
    "implements the ODP architecture, which solves the optimization problem\n",
    "\n",
    "$$\\mathrm{argmin}_{\\mathbf{x}} \\; \\| A \\mathbf{x} - \\mathbf{y} \\|_2^2\n",
    "+ r(\\mathbf{x}) \\;,$$\n",
    "\n",
    "where $A$ is a tomographic projector, $\\mathbf{y}$ is a set of sinograms,\n",
    "$r$ is a regularizer and $\\mathbf{x}$ is the set of reconstructed images.\n",
    "The ODP, gradient descent architecture, abstracts the iterative solution\n",
    "by an unrolled network where each iteration corresponds to a different\n",
    "stage in the ODP network and updates the prediction by solving\n",
    "\n",
    "$$\\mathbf{x}^{k+1} = \\mathrm{argmin}_{\\mathbf{x}} \\; \\alpha_k \\| A\n",
    "\\mathbf{x} - \\mathbf{y} \\|_2^2 + \\frac{1}{2} \\| \\mathbf{x} -\n",
    "\\mathbf{x}^k - \\mathbf{x}^{k+1/2} \\|_2^2 \\;,$$\n",
    "\n",
    "which for the CT problem, using gradient descent, corresponds to\n",
    "\n",
    "$$\\mathbf{x}^{k+1} = \\mathbf{x}^k + \\mathbf{x}^{k+1/2} - \\alpha_k \\,\n",
    "A^T \\, (A \\mathbf{x}^k - \\mathbf{y}) \\;,$$\n",
    "\n",
    "where $k$ is the index of the stage (iteration), $\\mathbf{x}^k +\n",
    "\\mathbf{x}^{k+1/2} = \\mathrm{ResNet}(\\mathbf{x}^{k})$ is the\n",
    "regularization (implemented as a residual convolutional neural network),\n",
    "$\\mathbf{x}^k$ is the output of the previous stage and $\\alpha_k > 0$ is\n",
    "a learned stage-wise parameter weighting the contribution of the fidelity\n",
    "term. The output of the final stage is the set of reconstructed images."
   ]
  },
  {
   "cell_type": "code",
   "execution_count": 1,
   "id": "a044e65c",
   "metadata": {
    "collapsed": false,
    "execution": {
     "iopub.execute_input": "2024-10-11T21:23:21.837942Z",
     "iopub.status.busy": "2024-10-11T21:23:21.837693Z",
     "iopub.status.idle": "2024-10-11T21:24:24.406517Z",
     "shell.execute_reply": "2024-10-11T21:24:24.405420Z"
    }
   },
   "outputs": [
    {
     "name": "stdout",
     "output_type": "stream",
     "text": [
      "Platform:  gpu\n"
     ]
    }
   ],
   "source": [
    "# isort: off\n",
    "import os\n",
    "from functools import partial\n",
    "from time import time\n",
    "\n",
    "import numpy as np\n",
    "\n",
    "import logging\n",
    "import ray\n",
    "\n",
    "ray.init(logging_level=logging.ERROR)  # need to call init before jax import: ray-project/ray#44087\n",
    "\n",
    "# Set an arbitrary processor count (only applies if GPU is not available).\n",
    "os.environ[\"XLA_FLAGS\"] = \"--xla_force_host_platform_device_count=8\"\n",
    "\n",
    "import jax\n",
    "\n",
    "try:\n",
    "    from jax.extend.backend import get_backend  # introduced in jax 0.4.33\n",
    "except ImportError:\n",
    "    from jax.lib.xla_bridge import get_backend\n",
    "\n",
    "from mpl_toolkits.axes_grid1 import make_axes_locatable\n",
    "\n",
    "from scico import flax as sflax\n",
    "from scico import metric, plot\n",
    "from scico.flax.examples import load_ct_data\n",
    "from scico.flax.train.traversals import clip_positive, construct_traversal\n",
    "from scico.linop.xray import XRayTransform2D\n",
    "plot.config_notebook_plotting()\n",
    "\n",
    "\n",
    "platform = get_backend().platform\n",
    "print(\"Platform: \", platform)"
   ]
  },
  {
   "cell_type": "markdown",
   "id": "0f043077",
   "metadata": {},
   "source": [
    "Read data from cache or generate if not available."
   ]
  },
  {
   "cell_type": "code",
   "execution_count": 2,
   "id": "86ca61c9",
   "metadata": {
    "collapsed": false,
    "execution": {
     "iopub.execute_input": "2024-10-11T21:24:24.409665Z",
     "iopub.status.busy": "2024-10-11T21:24:24.409161Z",
     "iopub.status.idle": "2024-10-11T21:24:24.989175Z",
     "shell.execute_reply": "2024-10-11T21:24:24.987932Z"
    }
   },
   "outputs": [
    {
     "name": "stdout",
     "output_type": "stream",
     "text": [
      "Data read from path: ~/.cache/scico/examples/data\n",
      "Set --training-- size: 536\n",
      "Set --testing -- size: 64\n",
      "Data range --images  --  Min:  0.00  Max:  1.00\n",
      "Data range --sinogram--  Min: -0.00  Max:  0.95\n",
      "Data range --FBP     --  Min:  0.00  Max:  1.00\n"
     ]
    }
   ],
   "source": [
    "N = 256  # phantom size\n",
    "train_nimg = 536  # number of training images\n",
    "test_nimg = 64  # number of testing images\n",
    "nimg = train_nimg + test_nimg\n",
    "n_projection = 45  # CT views\n",
    "\n",
    "trdt, ttdt = load_ct_data(train_nimg, test_nimg, N, n_projection, verbose=True)"
   ]
  },
  {
   "cell_type": "markdown",
   "id": "b60eac51",
   "metadata": {},
   "source": [
    "Build CT projection operator. Parameters are chosen so that the operator\n",
    "is equivalent to the one used to generate the training data."
   ]
  },
  {
   "cell_type": "code",
   "execution_count": 3,
   "id": "c46d9ae2",
   "metadata": {
    "collapsed": false,
    "execution": {
     "iopub.execute_input": "2024-10-11T21:24:24.991994Z",
     "iopub.status.busy": "2024-10-11T21:24:24.991577Z",
     "iopub.status.idle": "2024-10-11T21:24:25.517071Z",
     "shell.execute_reply": "2024-10-11T21:24:25.515975Z"
    }
   },
   "outputs": [],
   "source": [
    "angles = np.linspace(0, np.pi, n_projection)  # evenly spaced projection angles\n",
    "A = XRayTransform2D(\n",
    "    input_shape=(N, N),\n",
    "    angles=angles,\n",
    "    det_count=int(N * 1.05 / np.sqrt(2.0)),\n",
    "    dx=1.0 / np.sqrt(2),\n",
    ")\n",
    "A = (1.0 / N) * A  # normalize projection operator"
   ]
  },
  {
   "cell_type": "markdown",
   "id": "88c135e2",
   "metadata": {},
   "source": [
    "Build training and testing structures. Inputs are the sinograms and\n",
    "outputs are the original generated foams. Keep training and testing\n",
    "partitions."
   ]
  },
  {
   "cell_type": "code",
   "execution_count": 4,
   "id": "48a4f970",
   "metadata": {
    "collapsed": false,
    "execution": {
     "iopub.execute_input": "2024-10-11T21:24:25.519855Z",
     "iopub.status.busy": "2024-10-11T21:24:25.519466Z",
     "iopub.status.idle": "2024-10-11T21:24:25.522936Z",
     "shell.execute_reply": "2024-10-11T21:24:25.522398Z"
    }
   },
   "outputs": [],
   "source": [
    "numtr = 320\n",
    "numtt = 32\n",
    "train_ds = {\"image\": trdt[\"sino\"][:numtr], \"label\": trdt[\"img\"][:numtr]}\n",
    "test_ds = {\"image\": ttdt[\"sino\"][:numtt], \"label\": ttdt[\"img\"][:numtt]}"
   ]
  },
  {
   "cell_type": "markdown",
   "id": "338e404e",
   "metadata": {},
   "source": [
    "Define configuration dictionary for model and training loop.\n",
    "\n",
    "Parameters have been selected for demonstration purposes and relatively\n",
    "short training. The model depth is akin to the number of unrolled\n",
    "iterations in the MoDL model. The block depth controls the number of\n",
    "layers at each unrolled iteration. The number of filters is uniform\n",
    "throughout the iterations. The iterations used for the conjugate gradient\n",
    "(CG) solver can also be specified. Better performance may be obtained by\n",
    "increasing depth, block depth, number of filters, CG iterations, or\n",
    "training epochs, but may require longer training times."
   ]
  },
  {
   "cell_type": "code",
   "execution_count": 5,
   "id": "0b189b94",
   "metadata": {
    "collapsed": false,
    "execution": {
     "iopub.execute_input": "2024-10-11T21:24:25.524821Z",
     "iopub.status.busy": "2024-10-11T21:24:25.524591Z",
     "iopub.status.idle": "2024-10-11T21:24:25.527559Z",
     "shell.execute_reply": "2024-10-11T21:24:25.527052Z"
    }
   },
   "outputs": [],
   "source": [
    "# model configuration\n",
    "model_conf = {\n",
    "    \"depth\": 8,\n",
    "    \"num_filters\": 64,\n",
    "    \"block_depth\": 6,\n",
    "}\n",
    "# training configuration\n",
    "train_conf: sflax.ConfigDict = {\n",
    "    \"seed\": 1234,\n",
    "    \"opt_type\": \"ADAM\",\n",
    "    \"batch_size\": 16,\n",
    "    \"num_epochs\": 200,\n",
    "    \"base_learning_rate\": 1e-3,\n",
    "    \"warmup_epochs\": 0,\n",
    "    \"log_every_steps\": 160,\n",
    "    \"log\": True,\n",
    "    \"checkpointing\": True,\n",
    "}"
   ]
  },
  {
   "cell_type": "markdown",
   "id": "67ad5e5a",
   "metadata": {},
   "source": [
    "Construct functionality for ensuring that the learned fidelity weight\n",
    "parameter is always positive."
   ]
  },
  {
   "cell_type": "code",
   "execution_count": 6,
   "id": "3b60ff51",
   "metadata": {
    "collapsed": false,
    "execution": {
     "iopub.execute_input": "2024-10-11T21:24:25.529406Z",
     "iopub.status.busy": "2024-10-11T21:24:25.529184Z",
     "iopub.status.idle": "2024-10-11T21:24:25.531862Z",
     "shell.execute_reply": "2024-10-11T21:24:25.531363Z"
    }
   },
   "outputs": [],
   "source": [
    "alphatrav = construct_traversal(\"alpha\")  # select alpha parameters in model\n",
    "alphapost = partial(\n",
    "    clip_positive,  # apply this function\n",
    "    traversal=alphatrav,  # to alpha parameters in model\n",
    "    minval=1e-3,\n",
    ")"
   ]
  },
  {
   "cell_type": "markdown",
   "id": "33e737eb",
   "metadata": {},
   "source": [
    "Print configuration of distributed run."
   ]
  },
  {
   "cell_type": "code",
   "execution_count": 7,
   "id": "16a3baa4",
   "metadata": {
    "collapsed": false,
    "execution": {
     "iopub.execute_input": "2024-10-11T21:24:25.533822Z",
     "iopub.status.busy": "2024-10-11T21:24:25.533447Z",
     "iopub.status.idle": "2024-10-11T21:24:25.536620Z",
     "shell.execute_reply": "2024-10-11T21:24:25.536087Z"
    }
   },
   "outputs": [
    {
     "name": "stdout",
     "output_type": "stream",
     "text": [
      "\n",
      "JAX process: 0 / 1\n",
      "JAX local devices: [CudaDevice(id=0), CudaDevice(id=1), CudaDevice(id=2), CudaDevice(id=3), CudaDevice(id=4), CudaDevice(id=5), CudaDevice(id=6), CudaDevice(id=7)]\n",
      "\n"
     ]
    }
   ],
   "source": [
    "print(f\"\\nJAX process: {jax.process_index()}{' / '}{jax.process_count()}\")\n",
    "print(f\"JAX local devices: {jax.local_devices()}\\n\")"
   ]
  },
  {
   "cell_type": "markdown",
   "id": "3dcea77b",
   "metadata": {},
   "source": [
    "Construct ODPNet model."
   ]
  },
  {
   "cell_type": "code",
   "execution_count": 8,
   "id": "0db1d0fd",
   "metadata": {
    "collapsed": false,
    "execution": {
     "iopub.execute_input": "2024-10-11T21:24:25.538630Z",
     "iopub.status.busy": "2024-10-11T21:24:25.538177Z",
     "iopub.status.idle": "2024-10-11T21:24:25.541106Z",
     "shell.execute_reply": "2024-10-11T21:24:25.540592Z"
    }
   },
   "outputs": [],
   "source": [
    "channels = train_ds[\"image\"].shape[-1]\n",
    "model = sflax.ODPNet(\n",
    "    operator=A,\n",
    "    depth=model_conf[\"depth\"],\n",
    "    channels=channels,\n",
    "    num_filters=model_conf[\"num_filters\"],\n",
    "    block_depth=model_conf[\"block_depth\"],\n",
    "    odp_block=sflax.inverse.ODPGrDescBlock,\n",
    "    alpha_ini=1e-2,\n",
    ")"
   ]
  },
  {
   "cell_type": "markdown",
   "id": "39353bac",
   "metadata": {},
   "source": [
    "Run training loop."
   ]
  },
  {
   "cell_type": "code",
   "execution_count": 9,
   "id": "281f9e0b",
   "metadata": {
    "collapsed": false,
    "execution": {
     "iopub.execute_input": "2024-10-11T21:24:25.543092Z",
     "iopub.status.busy": "2024-10-11T21:24:25.542856Z",
     "iopub.status.idle": "2024-10-11T21:31:19.954277Z",
     "shell.execute_reply": "2024-10-11T21:31:19.953203Z"
    }
   },
   "outputs": [
    {
     "name": "stdout",
     "output_type": "stream",
     "text": [
      "channels: 1   training signals: 320   testing signals: 32   signal size: 256\n",
      "\n"
     ]
    },
    {
     "name": "stdout",
     "output_type": "stream",
     "text": [
      "Network Structure:\n",
      "+---------------------------------------------------------+----------------+--------+-----------+--------+\n",
      "| Name                                                    | Shape          | Size   | Mean      | Std    |\n",
      "+---------------------------------------------------------+----------------+--------+-----------+--------+\n",
      "| ODPGrDescBlock_0/alpha                                  | (1,)           | 1      | 0.01      | 0.0    |\n",
      "| ODPGrDescBlock_0/resnet/BatchNorm_0/bias                | (1,)           | 1      | 0.0       | 0.0    |\n",
      "| ODPGrDescBlock_0/resnet/BatchNorm_0/scale               | (1,)           | 1      | 1.0       | 0.0    |\n",
      "| ODPGrDescBlock_0/resnet/ConvBNBlock_0/BatchNorm_0/bias  | (64,)          | 64     | 0.0       | 0.0    |\n",
      "| ODPGrDescBlock_0/resnet/ConvBNBlock_0/BatchNorm_0/scale | (64,)          | 64     | 1.0       | 0.0    |\n",
      "| ODPGrDescBlock_0/resnet/ConvBNBlock_0/Conv_0/kernel     | (3, 3, 1, 64)  | 576    | -0.000308 | 0.0568 |\n",
      "| ODPGrDescBlock_0/resnet/ConvBNBlock_1/BatchNorm_0/bias  | (64,)          | 64     | 0.0       | 0.0    |\n",
      "| ODPGrDescBlock_0/resnet/ConvBNBlock_1/BatchNorm_0/scale | (64,)          | 64     | 1.0       | 0.0    |\n",
      "| ODPGrDescBlock_0/resnet/ConvBNBlock_1/Conv_0/kernel     | (3, 3, 64, 64) | 36,864 | 2.38e-05  | 0.0416 |\n",
      "| ODPGrDescBlock_0/resnet/ConvBNBlock_2/BatchNorm_0/bias  | (64,)          | 64     | 0.0       | 0.0    |\n",
      "| ODPGrDescBlock_0/resnet/ConvBNBlock_2/BatchNorm_0/scale | (64,)          | 64     | 1.0       | 0.0    |\n",
      "| ODPGrDescBlock_0/resnet/ConvBNBlock_2/Conv_0/kernel     | (3, 3, 64, 64) | 36,864 | 0.000402  | 0.0418 |\n",
      "| ODPGrDescBlock_0/resnet/ConvBNBlock_3/BatchNorm_0/bias  | (64,)          | 64     | 0.0       | 0.0    |\n",
      "| ODPGrDescBlock_0/resnet/ConvBNBlock_3/BatchNorm_0/scale | (64,)          | 64     | 1.0       | 0.0    |\n",
      "| ODPGrDescBlock_0/resnet/ConvBNBlock_3/Conv_0/kernel     | (3, 3, 64, 64) | 36,864 | 0.000185  | 0.0416 |\n",
      "| ODPGrDescBlock_0/resnet/ConvBNBlock_4/BatchNorm_0/bias  | (64,)          | 64     | 0.0       | 0.0    |\n",
      "| ODPGrDescBlock_0/resnet/ConvBNBlock_4/BatchNorm_0/scale | (64,)          | 64     | 1.0       | 0.0    |\n",
      "| ODPGrDescBlock_0/resnet/ConvBNBlock_4/Conv_0/kernel     | (3, 3, 64, 64) | 36,864 | -0.000101 | 0.0418 |\n",
      "| ODPGrDescBlock_0/resnet/Conv_0/kernel                   | (3, 3, 64, 1)  | 576    | 0.00276   | 0.058  |\n",
      "| ODPGrDescBlock_1/alpha                                  | (1,)           | 1      | 0.005     | 0.0    |\n",
      "| ODPGrDescBlock_1/resnet/BatchNorm_0/bias                | (1,)           | 1      | 0.0       | 0.0    |\n",
      "| ODPGrDescBlock_1/resnet/BatchNorm_0/scale               | (1,)           | 1      | 1.0       | 0.0    |\n",
      "| ODPGrDescBlock_1/resnet/ConvBNBlock_0/BatchNorm_0/bias  | (64,)          | 64     | 0.0       | 0.0    |\n",
      "| ODPGrDescBlock_1/resnet/ConvBNBlock_0/BatchNorm_0/scale | (64,)          | 64     | 1.0       | 0.0    |\n",
      "| ODPGrDescBlock_1/resnet/ConvBNBlock_0/Conv_0/kernel     | (3, 3, 1, 64)  | 576    | 0.00128   | 0.0583 |\n",
      "| ODPGrDescBlock_1/resnet/ConvBNBlock_1/BatchNorm_0/bias  | (64,)          | 64     | 0.0       | 0.0    |\n",
      "| ODPGrDescBlock_1/resnet/ConvBNBlock_1/BatchNorm_0/scale | (64,)          | 64     | 1.0       | 0.0    |\n",
      "| ODPGrDescBlock_1/resnet/ConvBNBlock_1/Conv_0/kernel     | (3, 3, 64, 64) | 36,864 | -0.000226 | 0.0419 |\n",
      "| ODPGrDescBlock_1/resnet/ConvBNBlock_2/BatchNorm_0/bias  | (64,)          | 64     | 0.0       | 0.0    |\n",
      "| ODPGrDescBlock_1/resnet/ConvBNBlock_2/BatchNorm_0/scale | (64,)          | 64     | 1.0       | 0.0    |\n",
      "| ODPGrDescBlock_1/resnet/ConvBNBlock_2/Conv_0/kernel     | (3, 3, 64, 64) | 36,864 | 0.00029   | 0.0415 |\n",
      "| ODPGrDescBlock_1/resnet/ConvBNBlock_3/BatchNorm_0/bias  | (64,)          | 64     | 0.0       | 0.0    |\n",
      "| ODPGrDescBlock_1/resnet/ConvBNBlock_3/BatchNorm_0/scale | (64,)          | 64     | 1.0       | 0.0    |\n",
      "| ODPGrDescBlock_1/resnet/ConvBNBlock_3/Conv_0/kernel     | (3, 3, 64, 64) | 36,864 | -5.14e-05 | 0.0417 |\n",
      "| ODPGrDescBlock_1/resnet/ConvBNBlock_4/BatchNorm_0/bias  | (64,)          | 64     | 0.0       | 0.0    |\n",
      "| ODPGrDescBlock_1/resnet/ConvBNBlock_4/BatchNorm_0/scale | (64,)          | 64     | 1.0       | 0.0    |\n",
      "| ODPGrDescBlock_1/resnet/ConvBNBlock_4/Conv_0/kernel     | (3, 3, 64, 64) | 36,864 | 0.000319  | 0.0416 |\n",
      "| ODPGrDescBlock_1/resnet/Conv_0/kernel                   | (3, 3, 64, 1)  | 576    | 0.000334  | 0.0583 |\n",
      "| ODPGrDescBlock_2/alpha                                  | (1,)           | 1      | 0.0025    | 0.0    |\n",
      "| ODPGrDescBlock_2/resnet/BatchNorm_0/bias                | (1,)           | 1      | 0.0       | 0.0    |\n",
      "| ODPGrDescBlock_2/resnet/BatchNorm_0/scale               | (1,)           | 1      | 1.0       | 0.0    |\n",
      "| ODPGrDescBlock_2/resnet/ConvBNBlock_0/BatchNorm_0/bias  | (64,)          | 64     | 0.0       | 0.0    |\n",
      "| ODPGrDescBlock_2/resnet/ConvBNBlock_0/BatchNorm_0/scale | (64,)          | 64     | 1.0       | 0.0    |\n",
      "| ODPGrDescBlock_2/resnet/ConvBNBlock_0/Conv_0/kernel     | (3, 3, 1, 64)  | 576    | -0.00119  | 0.0602 |\n",
      "| ODPGrDescBlock_2/resnet/ConvBNBlock_1/BatchNorm_0/bias  | (64,)          | 64     | 0.0       | 0.0    |\n",
      "| ODPGrDescBlock_2/resnet/ConvBNBlock_1/BatchNorm_0/scale | (64,)          | 64     | 1.0       | 0.0    |\n",
      "| ODPGrDescBlock_2/resnet/ConvBNBlock_1/Conv_0/kernel     | (3, 3, 64, 64) | 36,864 | 0.000443  | 0.0415 |\n",
      "| ODPGrDescBlock_2/resnet/ConvBNBlock_2/BatchNorm_0/bias  | (64,)          | 64     | 0.0       | 0.0    |\n",
      "| ODPGrDescBlock_2/resnet/ConvBNBlock_2/BatchNorm_0/scale | (64,)          | 64     | 1.0       | 0.0    |\n",
      "| ODPGrDescBlock_2/resnet/ConvBNBlock_2/Conv_0/kernel     | (3, 3, 64, 64) | 36,864 | 0.000163  | 0.0416 |\n",
      "| ODPGrDescBlock_2/resnet/ConvBNBlock_3/BatchNorm_0/bias  | (64,)          | 64     | 0.0       | 0.0    |\n",
      "| ODPGrDescBlock_2/resnet/ConvBNBlock_3/BatchNorm_0/scale | (64,)          | 64     | 1.0       | 0.0    |\n",
      "| ODPGrDescBlock_2/resnet/ConvBNBlock_3/Conv_0/kernel     | (3, 3, 64, 64) | 36,864 | -0.0004   | 0.0417 |\n",
      "| ODPGrDescBlock_2/resnet/ConvBNBlock_4/BatchNorm_0/bias  | (64,)          | 64     | 0.0       | 0.0    |\n",
      "| ODPGrDescBlock_2/resnet/ConvBNBlock_4/BatchNorm_0/scale | (64,)          | 64     | 1.0       | 0.0    |\n",
      "| ODPGrDescBlock_2/resnet/ConvBNBlock_4/Conv_0/kernel     | (3, 3, 64, 64) | 36,864 | 6.25e-05  | 0.0417 |\n",
      "| ODPGrDescBlock_2/resnet/Conv_0/kernel                   | (3, 3, 64, 1)  | 576    | 0.000515  | 0.0586 |\n",
      "| ODPGrDescBlock_3/alpha                                  | (1,)           | 1      | 0.00125   | 0.0    |\n",
      "| ODPGrDescBlock_3/resnet/BatchNorm_0/bias                | (1,)           | 1      | 0.0       | 0.0    |\n",
      "| ODPGrDescBlock_3/resnet/BatchNorm_0/scale               | (1,)           | 1      | 1.0       | 0.0    |\n",
      "| ODPGrDescBlock_3/resnet/ConvBNBlock_0/BatchNorm_0/bias  | (64,)          | 64     | 0.0       | 0.0    |\n",
      "| ODPGrDescBlock_3/resnet/ConvBNBlock_0/BatchNorm_0/scale | (64,)          | 64     | 1.0       | 0.0    |\n",
      "| ODPGrDescBlock_3/resnet/ConvBNBlock_0/Conv_0/kernel     | (3, 3, 1, 64)  | 576    | -0.00179  | 0.057  |\n",
      "| ODPGrDescBlock_3/resnet/ConvBNBlock_1/BatchNorm_0/bias  | (64,)          | 64     | 0.0       | 0.0    |\n",
      "| ODPGrDescBlock_3/resnet/ConvBNBlock_1/BatchNorm_0/scale | (64,)          | 64     | 1.0       | 0.0    |\n",
      "| ODPGrDescBlock_3/resnet/ConvBNBlock_1/Conv_0/kernel     | (3, 3, 64, 64) | 36,864 | -3.06e-05 | 0.0417 |\n",
      "| ODPGrDescBlock_3/resnet/ConvBNBlock_2/BatchNorm_0/bias  | (64,)          | 64     | 0.0       | 0.0    |\n",
      "| ODPGrDescBlock_3/resnet/ConvBNBlock_2/BatchNorm_0/scale | (64,)          | 64     | 1.0       | 0.0    |\n",
      "| ODPGrDescBlock_3/resnet/ConvBNBlock_2/Conv_0/kernel     | (3, 3, 64, 64) | 36,864 | 0.000153  | 0.0416 |\n",
      "| ODPGrDescBlock_3/resnet/ConvBNBlock_3/BatchNorm_0/bias  | (64,)          | 64     | 0.0       | 0.0    |\n",
      "| ODPGrDescBlock_3/resnet/ConvBNBlock_3/BatchNorm_0/scale | (64,)          | 64     | 1.0       | 0.0    |\n",
      "| ODPGrDescBlock_3/resnet/ConvBNBlock_3/Conv_0/kernel     | (3, 3, 64, 64) | 36,864 | 0.000617  | 0.0418 |\n",
      "| ODPGrDescBlock_3/resnet/ConvBNBlock_4/BatchNorm_0/bias  | (64,)          | 64     | 0.0       | 0.0    |\n",
      "| ODPGrDescBlock_3/resnet/ConvBNBlock_4/BatchNorm_0/scale | (64,)          | 64     | 1.0       | 0.0    |\n",
      "| ODPGrDescBlock_3/resnet/ConvBNBlock_4/Conv_0/kernel     | (3, 3, 64, 64) | 36,864 | -0.000218 | 0.0419 |\n",
      "| ODPGrDescBlock_3/resnet/Conv_0/kernel                   | (3, 3, 64, 1)  | 576    | -0.000309 | 0.0575 |\n",
      "| ODPGrDescBlock_4/alpha                                  | (1,)           | 1      | 0.000625  | 0.0    |\n",
      "| ODPGrDescBlock_4/resnet/BatchNorm_0/bias                | (1,)           | 1      | 0.0       | 0.0    |\n",
      "| ODPGrDescBlock_4/resnet/BatchNorm_0/scale               | (1,)           | 1      | 1.0       | 0.0    |\n",
      "| ODPGrDescBlock_4/resnet/ConvBNBlock_0/BatchNorm_0/bias  | (64,)          | 64     | 0.0       | 0.0    |\n",
      "| ODPGrDescBlock_4/resnet/ConvBNBlock_0/BatchNorm_0/scale | (64,)          | 64     | 1.0       | 0.0    |\n",
      "| ODPGrDescBlock_4/resnet/ConvBNBlock_0/Conv_0/kernel     | (3, 3, 1, 64)  | 576    | 0.00173   | 0.0585 |\n",
      "| ODPGrDescBlock_4/resnet/ConvBNBlock_1/BatchNorm_0/bias  | (64,)          | 64     | 0.0       | 0.0    |\n",
      "| ODPGrDescBlock_4/resnet/ConvBNBlock_1/BatchNorm_0/scale | (64,)          | 64     | 1.0       | 0.0    |\n",
      "| ODPGrDescBlock_4/resnet/ConvBNBlock_1/Conv_0/kernel     | (3, 3, 64, 64) | 36,864 | -0.000285 | 0.0417 |\n",
      "| ODPGrDescBlock_4/resnet/ConvBNBlock_2/BatchNorm_0/bias  | (64,)          | 64     | 0.0       | 0.0    |\n",
      "| ODPGrDescBlock_4/resnet/ConvBNBlock_2/BatchNorm_0/scale | (64,)          | 64     | 1.0       | 0.0    |\n",
      "| ODPGrDescBlock_4/resnet/ConvBNBlock_2/Conv_0/kernel     | (3, 3, 64, 64) | 36,864 | -0.000136 | 0.0416 |\n",
      "| ODPGrDescBlock_4/resnet/ConvBNBlock_3/BatchNorm_0/bias  | (64,)          | 64     | 0.0       | 0.0    |\n",
      "| ODPGrDescBlock_4/resnet/ConvBNBlock_3/BatchNorm_0/scale | (64,)          | 64     | 1.0       | 0.0    |\n",
      "| ODPGrDescBlock_4/resnet/ConvBNBlock_3/Conv_0/kernel     | (3, 3, 64, 64) | 36,864 | 0.000243  | 0.0417 |\n",
      "| ODPGrDescBlock_4/resnet/ConvBNBlock_4/BatchNorm_0/bias  | (64,)          | 64     | 0.0       | 0.0    |\n",
      "| ODPGrDescBlock_4/resnet/ConvBNBlock_4/BatchNorm_0/scale | (64,)          | 64     | 1.0       | 0.0    |\n",
      "| ODPGrDescBlock_4/resnet/ConvBNBlock_4/Conv_0/kernel     | (3, 3, 64, 64) | 36,864 | 0.000183  | 0.0417 |\n",
      "| ODPGrDescBlock_4/resnet/Conv_0/kernel                   | (3, 3, 64, 1)  | 576    | 0.0033    | 0.0608 |\n",
      "| ODPGrDescBlock_5/alpha                                  | (1,)           | 1      | 0.000312  | 0.0    |\n",
      "| ODPGrDescBlock_5/resnet/BatchNorm_0/bias                | (1,)           | 1      | 0.0       | 0.0    |\n",
      "| ODPGrDescBlock_5/resnet/BatchNorm_0/scale               | (1,)           | 1      | 1.0       | 0.0    |\n",
      "| ODPGrDescBlock_5/resnet/ConvBNBlock_0/BatchNorm_0/bias  | (64,)          | 64     | 0.0       | 0.0    |\n",
      "| ODPGrDescBlock_5/resnet/ConvBNBlock_0/BatchNorm_0/scale | (64,)          | 64     | 1.0       | 0.0    |\n",
      "| ODPGrDescBlock_5/resnet/ConvBNBlock_0/Conv_0/kernel     | (3, 3, 1, 64)  | 576    | 0.00178   | 0.0589 |\n",
      "| ODPGrDescBlock_5/resnet/ConvBNBlock_1/BatchNorm_0/bias  | (64,)          | 64     | 0.0       | 0.0    |\n",
      "| ODPGrDescBlock_5/resnet/ConvBNBlock_1/BatchNorm_0/scale | (64,)          | 64     | 1.0       | 0.0    |\n",
      "| ODPGrDescBlock_5/resnet/ConvBNBlock_1/Conv_0/kernel     | (3, 3, 64, 64) | 36,864 | -0.000261 | 0.0417 |\n",
      "| ODPGrDescBlock_5/resnet/ConvBNBlock_2/BatchNorm_0/bias  | (64,)          | 64     | 0.0       | 0.0    |\n",
      "| ODPGrDescBlock_5/resnet/ConvBNBlock_2/BatchNorm_0/scale | (64,)          | 64     | 1.0       | 0.0    |\n",
      "| ODPGrDescBlock_5/resnet/ConvBNBlock_2/Conv_0/kernel     | (3, 3, 64, 64) | 36,864 | 0.000299  | 0.0417 |\n",
      "| ODPGrDescBlock_5/resnet/ConvBNBlock_3/BatchNorm_0/bias  | (64,)          | 64     | 0.0       | 0.0    |\n",
      "| ODPGrDescBlock_5/resnet/ConvBNBlock_3/BatchNorm_0/scale | (64,)          | 64     | 1.0       | 0.0    |\n",
      "| ODPGrDescBlock_5/resnet/ConvBNBlock_3/Conv_0/kernel     | (3, 3, 64, 64) | 36,864 | -0.000267 | 0.0418 |\n",
      "| ODPGrDescBlock_5/resnet/ConvBNBlock_4/BatchNorm_0/bias  | (64,)          | 64     | 0.0       | 0.0    |\n",
      "| ODPGrDescBlock_5/resnet/ConvBNBlock_4/BatchNorm_0/scale | (64,)          | 64     | 1.0       | 0.0    |\n",
      "| ODPGrDescBlock_5/resnet/ConvBNBlock_4/Conv_0/kernel     | (3, 3, 64, 64) | 36,864 | 0.000261  | 0.0416 |\n",
      "| ODPGrDescBlock_5/resnet/Conv_0/kernel                   | (3, 3, 64, 1)  | 576    | 0.00478   | 0.0608 |\n",
      "| ODPGrDescBlock_6/alpha                                  | (1,)           | 1      | 0.000156  | 0.0    |\n",
      "| ODPGrDescBlock_6/resnet/BatchNorm_0/bias                | (1,)           | 1      | 0.0       | 0.0    |\n",
      "| ODPGrDescBlock_6/resnet/BatchNorm_0/scale               | (1,)           | 1      | 1.0       | 0.0    |\n",
      "| ODPGrDescBlock_6/resnet/ConvBNBlock_0/BatchNorm_0/bias  | (64,)          | 64     | 0.0       | 0.0    |\n",
      "| ODPGrDescBlock_6/resnet/ConvBNBlock_0/BatchNorm_0/scale | (64,)          | 64     | 1.0       | 0.0    |\n",
      "| ODPGrDescBlock_6/resnet/ConvBNBlock_0/Conv_0/kernel     | (3, 3, 1, 64)  | 576    | 0.000588  | 0.0576 |\n",
      "| ODPGrDescBlock_6/resnet/ConvBNBlock_1/BatchNorm_0/bias  | (64,)          | 64     | 0.0       | 0.0    |\n",
      "| ODPGrDescBlock_6/resnet/ConvBNBlock_1/BatchNorm_0/scale | (64,)          | 64     | 1.0       | 0.0    |\n",
      "| ODPGrDescBlock_6/resnet/ConvBNBlock_1/Conv_0/kernel     | (3, 3, 64, 64) | 36,864 | 0.000272  | 0.0416 |\n",
      "| ODPGrDescBlock_6/resnet/ConvBNBlock_2/BatchNorm_0/bias  | (64,)          | 64     | 0.0       | 0.0    |\n",
      "| ODPGrDescBlock_6/resnet/ConvBNBlock_2/BatchNorm_0/scale | (64,)          | 64     | 1.0       | 0.0    |\n",
      "| ODPGrDescBlock_6/resnet/ConvBNBlock_2/Conv_0/kernel     | (3, 3, 64, 64) | 36,864 | 6.59e-05  | 0.0417 |\n",
      "| ODPGrDescBlock_6/resnet/ConvBNBlock_3/BatchNorm_0/bias  | (64,)          | 64     | 0.0       | 0.0    |\n",
      "| ODPGrDescBlock_6/resnet/ConvBNBlock_3/BatchNorm_0/scale | (64,)          | 64     | 1.0       | 0.0    |\n",
      "| ODPGrDescBlock_6/resnet/ConvBNBlock_3/Conv_0/kernel     | (3, 3, 64, 64) | 36,864 | 7.39e-05  | 0.0418 |\n",
      "| ODPGrDescBlock_6/resnet/ConvBNBlock_4/BatchNorm_0/bias  | (64,)          | 64     | 0.0       | 0.0    |\n",
      "| ODPGrDescBlock_6/resnet/ConvBNBlock_4/BatchNorm_0/scale | (64,)          | 64     | 1.0       | 0.0    |\n",
      "| ODPGrDescBlock_6/resnet/ConvBNBlock_4/Conv_0/kernel     | (3, 3, 64, 64) | 36,864 | -5e-05    | 0.0418 |\n",
      "| ODPGrDescBlock_6/resnet/Conv_0/kernel                   | (3, 3, 64, 1)  | 576    | -0.000458 | 0.0583 |\n",
      "| ODPGrDescBlock_7/alpha                                  | (1,)           | 1      | 7.81e-05  | 0.0    |\n",
      "| ODPGrDescBlock_7/resnet/BatchNorm_0/bias                | (1,)           | 1      | 0.0       | 0.0    |\n",
      "| ODPGrDescBlock_7/resnet/BatchNorm_0/scale               | (1,)           | 1      | 1.0       | 0.0    |\n",
      "| ODPGrDescBlock_7/resnet/ConvBNBlock_0/BatchNorm_0/bias  | (64,)          | 64     | 0.0       | 0.0    |\n",
      "| ODPGrDescBlock_7/resnet/ConvBNBlock_0/BatchNorm_0/scale | (64,)          | 64     | 1.0       | 0.0    |\n",
      "| ODPGrDescBlock_7/resnet/ConvBNBlock_0/Conv_0/kernel     | (3, 3, 1, 64)  | 576    | 0.00317   | 0.0574 |\n",
      "| ODPGrDescBlock_7/resnet/ConvBNBlock_1/BatchNorm_0/bias  | (64,)          | 64     | 0.0       | 0.0    |\n",
      "| ODPGrDescBlock_7/resnet/ConvBNBlock_1/BatchNorm_0/scale | (64,)          | 64     | 1.0       | 0.0    |\n",
      "| ODPGrDescBlock_7/resnet/ConvBNBlock_1/Conv_0/kernel     | (3, 3, 64, 64) | 36,864 | -0.000238 | 0.0415 |\n",
      "| ODPGrDescBlock_7/resnet/ConvBNBlock_2/BatchNorm_0/bias  | (64,)          | 64     | 0.0       | 0.0    |\n",
      "| ODPGrDescBlock_7/resnet/ConvBNBlock_2/BatchNorm_0/scale | (64,)          | 64     | 1.0       | 0.0    |\n",
      "| ODPGrDescBlock_7/resnet/ConvBNBlock_2/Conv_0/kernel     | (3, 3, 64, 64) | 36,864 | 0.000153  | 0.0418 |\n",
      "| ODPGrDescBlock_7/resnet/ConvBNBlock_3/BatchNorm_0/bias  | (64,)          | 64     | 0.0       | 0.0    |\n",
      "| ODPGrDescBlock_7/resnet/ConvBNBlock_3/BatchNorm_0/scale | (64,)          | 64     | 1.0       | 0.0    |\n",
      "| ODPGrDescBlock_7/resnet/ConvBNBlock_3/Conv_0/kernel     | (3, 3, 64, 64) | 36,864 | -3.74e-05 | 0.0417 |\n",
      "| ODPGrDescBlock_7/resnet/ConvBNBlock_4/BatchNorm_0/bias  | (64,)          | 64     | 0.0       | 0.0    |\n",
      "| ODPGrDescBlock_7/resnet/ConvBNBlock_4/BatchNorm_0/scale | (64,)          | 64     | 1.0       | 0.0    |\n",
      "| ODPGrDescBlock_7/resnet/ConvBNBlock_4/Conv_0/kernel     | (3, 3, 64, 64) | 36,864 | 0.000368  | 0.0418 |\n",
      "| ODPGrDescBlock_7/resnet/Conv_0/kernel                   | (3, 3, 64, 1)  | 576    | -0.00299  | 0.0604 |\n",
      "+---------------------------------------------------------+----------------+--------+-----------+--------+\n",
      "Total weights: 1,194,008\n",
      "\n",
      "Batch Normalization:\n",
      "+--------------------------------------------------------+-------+------+------+-----+\n",
      "| Name                                                   | Shape | Size | Mean | Std |\n",
      "+--------------------------------------------------------+-------+------+------+-----+\n",
      "| ODPGrDescBlock_0/resnet/BatchNorm_0/mean               | (1,)  | 1    | 0.0  | 0.0 |\n",
      "| ODPGrDescBlock_0/resnet/BatchNorm_0/var                | (1,)  | 1    | 1.0  | 0.0 |\n",
      "| ODPGrDescBlock_0/resnet/ConvBNBlock_0/BatchNorm_0/mean | (64,) | 64   | 0.0  | 0.0 |\n",
      "| ODPGrDescBlock_0/resnet/ConvBNBlock_0/BatchNorm_0/var  | (64,) | 64   | 1.0  | 0.0 |\n",
      "| ODPGrDescBlock_0/resnet/ConvBNBlock_1/BatchNorm_0/mean | (64,) | 64   | 0.0  | 0.0 |\n",
      "| ODPGrDescBlock_0/resnet/ConvBNBlock_1/BatchNorm_0/var  | (64,) | 64   | 1.0  | 0.0 |\n",
      "| ODPGrDescBlock_0/resnet/ConvBNBlock_2/BatchNorm_0/mean | (64,) | 64   | 0.0  | 0.0 |\n",
      "| ODPGrDescBlock_0/resnet/ConvBNBlock_2/BatchNorm_0/var  | (64,) | 64   | 1.0  | 0.0 |\n",
      "| ODPGrDescBlock_0/resnet/ConvBNBlock_3/BatchNorm_0/mean | (64,) | 64   | 0.0  | 0.0 |\n",
      "| ODPGrDescBlock_0/resnet/ConvBNBlock_3/BatchNorm_0/var  | (64,) | 64   | 1.0  | 0.0 |\n",
      "| ODPGrDescBlock_0/resnet/ConvBNBlock_4/BatchNorm_0/mean | (64,) | 64   | 0.0  | 0.0 |\n",
      "| ODPGrDescBlock_0/resnet/ConvBNBlock_4/BatchNorm_0/var  | (64,) | 64   | 1.0  | 0.0 |\n",
      "| ODPGrDescBlock_1/resnet/BatchNorm_0/mean               | (1,)  | 1    | 0.0  | 0.0 |\n",
      "| ODPGrDescBlock_1/resnet/BatchNorm_0/var                | (1,)  | 1    | 1.0  | 0.0 |\n",
      "| ODPGrDescBlock_1/resnet/ConvBNBlock_0/BatchNorm_0/mean | (64,) | 64   | 0.0  | 0.0 |\n",
      "| ODPGrDescBlock_1/resnet/ConvBNBlock_0/BatchNorm_0/var  | (64,) | 64   | 1.0  | 0.0 |\n",
      "| ODPGrDescBlock_1/resnet/ConvBNBlock_1/BatchNorm_0/mean | (64,) | 64   | 0.0  | 0.0 |\n",
      "| ODPGrDescBlock_1/resnet/ConvBNBlock_1/BatchNorm_0/var  | (64,) | 64   | 1.0  | 0.0 |\n",
      "| ODPGrDescBlock_1/resnet/ConvBNBlock_2/BatchNorm_0/mean | (64,) | 64   | 0.0  | 0.0 |\n",
      "| ODPGrDescBlock_1/resnet/ConvBNBlock_2/BatchNorm_0/var  | (64,) | 64   | 1.0  | 0.0 |\n",
      "| ODPGrDescBlock_1/resnet/ConvBNBlock_3/BatchNorm_0/mean | (64,) | 64   | 0.0  | 0.0 |\n",
      "| ODPGrDescBlock_1/resnet/ConvBNBlock_3/BatchNorm_0/var  | (64,) | 64   | 1.0  | 0.0 |\n",
      "| ODPGrDescBlock_1/resnet/ConvBNBlock_4/BatchNorm_0/mean | (64,) | 64   | 0.0  | 0.0 |\n",
      "| ODPGrDescBlock_1/resnet/ConvBNBlock_4/BatchNorm_0/var  | (64,) | 64   | 1.0  | 0.0 |\n",
      "| ODPGrDescBlock_2/resnet/BatchNorm_0/mean               | (1,)  | 1    | 0.0  | 0.0 |\n",
      "| ODPGrDescBlock_2/resnet/BatchNorm_0/var                | (1,)  | 1    | 1.0  | 0.0 |\n",
      "| ODPGrDescBlock_2/resnet/ConvBNBlock_0/BatchNorm_0/mean | (64,) | 64   | 0.0  | 0.0 |\n",
      "| ODPGrDescBlock_2/resnet/ConvBNBlock_0/BatchNorm_0/var  | (64,) | 64   | 1.0  | 0.0 |\n",
      "| ODPGrDescBlock_2/resnet/ConvBNBlock_1/BatchNorm_0/mean | (64,) | 64   | 0.0  | 0.0 |\n",
      "| ODPGrDescBlock_2/resnet/ConvBNBlock_1/BatchNorm_0/var  | (64,) | 64   | 1.0  | 0.0 |\n",
      "| ODPGrDescBlock_2/resnet/ConvBNBlock_2/BatchNorm_0/mean | (64,) | 64   | 0.0  | 0.0 |\n",
      "| ODPGrDescBlock_2/resnet/ConvBNBlock_2/BatchNorm_0/var  | (64,) | 64   | 1.0  | 0.0 |\n",
      "| ODPGrDescBlock_2/resnet/ConvBNBlock_3/BatchNorm_0/mean | (64,) | 64   | 0.0  | 0.0 |\n",
      "| ODPGrDescBlock_2/resnet/ConvBNBlock_3/BatchNorm_0/var  | (64,) | 64   | 1.0  | 0.0 |\n",
      "| ODPGrDescBlock_2/resnet/ConvBNBlock_4/BatchNorm_0/mean | (64,) | 64   | 0.0  | 0.0 |\n",
      "| ODPGrDescBlock_2/resnet/ConvBNBlock_4/BatchNorm_0/var  | (64,) | 64   | 1.0  | 0.0 |\n",
      "| ODPGrDescBlock_3/resnet/BatchNorm_0/mean               | (1,)  | 1    | 0.0  | 0.0 |\n",
      "| ODPGrDescBlock_3/resnet/BatchNorm_0/var                | (1,)  | 1    | 1.0  | 0.0 |\n",
      "| ODPGrDescBlock_3/resnet/ConvBNBlock_0/BatchNorm_0/mean | (64,) | 64   | 0.0  | 0.0 |\n",
      "| ODPGrDescBlock_3/resnet/ConvBNBlock_0/BatchNorm_0/var  | (64,) | 64   | 1.0  | 0.0 |\n",
      "| ODPGrDescBlock_3/resnet/ConvBNBlock_1/BatchNorm_0/mean | (64,) | 64   | 0.0  | 0.0 |\n",
      "| ODPGrDescBlock_3/resnet/ConvBNBlock_1/BatchNorm_0/var  | (64,) | 64   | 1.0  | 0.0 |\n",
      "| ODPGrDescBlock_3/resnet/ConvBNBlock_2/BatchNorm_0/mean | (64,) | 64   | 0.0  | 0.0 |\n",
      "| ODPGrDescBlock_3/resnet/ConvBNBlock_2/BatchNorm_0/var  | (64,) | 64   | 1.0  | 0.0 |\n",
      "| ODPGrDescBlock_3/resnet/ConvBNBlock_3/BatchNorm_0/mean | (64,) | 64   | 0.0  | 0.0 |\n",
      "| ODPGrDescBlock_3/resnet/ConvBNBlock_3/BatchNorm_0/var  | (64,) | 64   | 1.0  | 0.0 |\n",
      "| ODPGrDescBlock_3/resnet/ConvBNBlock_4/BatchNorm_0/mean | (64,) | 64   | 0.0  | 0.0 |\n",
      "| ODPGrDescBlock_3/resnet/ConvBNBlock_4/BatchNorm_0/var  | (64,) | 64   | 1.0  | 0.0 |\n",
      "| ODPGrDescBlock_4/resnet/BatchNorm_0/mean               | (1,)  | 1    | 0.0  | 0.0 |\n",
      "| ODPGrDescBlock_4/resnet/BatchNorm_0/var                | (1,)  | 1    | 1.0  | 0.0 |\n",
      "| ODPGrDescBlock_4/resnet/ConvBNBlock_0/BatchNorm_0/mean | (64,) | 64   | 0.0  | 0.0 |\n",
      "| ODPGrDescBlock_4/resnet/ConvBNBlock_0/BatchNorm_0/var  | (64,) | 64   | 1.0  | 0.0 |\n",
      "| ODPGrDescBlock_4/resnet/ConvBNBlock_1/BatchNorm_0/mean | (64,) | 64   | 0.0  | 0.0 |\n",
      "| ODPGrDescBlock_4/resnet/ConvBNBlock_1/BatchNorm_0/var  | (64,) | 64   | 1.0  | 0.0 |\n",
      "| ODPGrDescBlock_4/resnet/ConvBNBlock_2/BatchNorm_0/mean | (64,) | 64   | 0.0  | 0.0 |\n",
      "| ODPGrDescBlock_4/resnet/ConvBNBlock_2/BatchNorm_0/var  | (64,) | 64   | 1.0  | 0.0 |\n",
      "| ODPGrDescBlock_4/resnet/ConvBNBlock_3/BatchNorm_0/mean | (64,) | 64   | 0.0  | 0.0 |\n",
      "| ODPGrDescBlock_4/resnet/ConvBNBlock_3/BatchNorm_0/var  | (64,) | 64   | 1.0  | 0.0 |\n",
      "| ODPGrDescBlock_4/resnet/ConvBNBlock_4/BatchNorm_0/mean | (64,) | 64   | 0.0  | 0.0 |\n",
      "| ODPGrDescBlock_4/resnet/ConvBNBlock_4/BatchNorm_0/var  | (64,) | 64   | 1.0  | 0.0 |\n",
      "| ODPGrDescBlock_5/resnet/BatchNorm_0/mean               | (1,)  | 1    | 0.0  | 0.0 |\n",
      "| ODPGrDescBlock_5/resnet/BatchNorm_0/var                | (1,)  | 1    | 1.0  | 0.0 |\n",
      "| ODPGrDescBlock_5/resnet/ConvBNBlock_0/BatchNorm_0/mean | (64,) | 64   | 0.0  | 0.0 |\n",
      "| ODPGrDescBlock_5/resnet/ConvBNBlock_0/BatchNorm_0/var  | (64,) | 64   | 1.0  | 0.0 |\n",
      "| ODPGrDescBlock_5/resnet/ConvBNBlock_1/BatchNorm_0/mean | (64,) | 64   | 0.0  | 0.0 |\n",
      "| ODPGrDescBlock_5/resnet/ConvBNBlock_1/BatchNorm_0/var  | (64,) | 64   | 1.0  | 0.0 |\n",
      "| ODPGrDescBlock_5/resnet/ConvBNBlock_2/BatchNorm_0/mean | (64,) | 64   | 0.0  | 0.0 |\n",
      "| ODPGrDescBlock_5/resnet/ConvBNBlock_2/BatchNorm_0/var  | (64,) | 64   | 1.0  | 0.0 |\n",
      "| ODPGrDescBlock_5/resnet/ConvBNBlock_3/BatchNorm_0/mean | (64,) | 64   | 0.0  | 0.0 |\n",
      "| ODPGrDescBlock_5/resnet/ConvBNBlock_3/BatchNorm_0/var  | (64,) | 64   | 1.0  | 0.0 |\n",
      "| ODPGrDescBlock_5/resnet/ConvBNBlock_4/BatchNorm_0/mean | (64,) | 64   | 0.0  | 0.0 |\n",
      "| ODPGrDescBlock_5/resnet/ConvBNBlock_4/BatchNorm_0/var  | (64,) | 64   | 1.0  | 0.0 |\n",
      "| ODPGrDescBlock_6/resnet/BatchNorm_0/mean               | (1,)  | 1    | 0.0  | 0.0 |\n",
      "| ODPGrDescBlock_6/resnet/BatchNorm_0/var                | (1,)  | 1    | 1.0  | 0.0 |\n",
      "| ODPGrDescBlock_6/resnet/ConvBNBlock_0/BatchNorm_0/mean | (64,) | 64   | 0.0  | 0.0 |\n",
      "| ODPGrDescBlock_6/resnet/ConvBNBlock_0/BatchNorm_0/var  | (64,) | 64   | 1.0  | 0.0 |\n",
      "| ODPGrDescBlock_6/resnet/ConvBNBlock_1/BatchNorm_0/mean | (64,) | 64   | 0.0  | 0.0 |\n",
      "| ODPGrDescBlock_6/resnet/ConvBNBlock_1/BatchNorm_0/var  | (64,) | 64   | 1.0  | 0.0 |\n",
      "| ODPGrDescBlock_6/resnet/ConvBNBlock_2/BatchNorm_0/mean | (64,) | 64   | 0.0  | 0.0 |\n",
      "| ODPGrDescBlock_6/resnet/ConvBNBlock_2/BatchNorm_0/var  | (64,) | 64   | 1.0  | 0.0 |\n",
      "| ODPGrDescBlock_6/resnet/ConvBNBlock_3/BatchNorm_0/mean | (64,) | 64   | 0.0  | 0.0 |\n",
      "| ODPGrDescBlock_6/resnet/ConvBNBlock_3/BatchNorm_0/var  | (64,) | 64   | 1.0  | 0.0 |\n",
      "| ODPGrDescBlock_6/resnet/ConvBNBlock_4/BatchNorm_0/mean | (64,) | 64   | 0.0  | 0.0 |\n",
      "| ODPGrDescBlock_6/resnet/ConvBNBlock_4/BatchNorm_0/var  | (64,) | 64   | 1.0  | 0.0 |\n",
      "| ODPGrDescBlock_7/resnet/BatchNorm_0/mean               | (1,)  | 1    | 0.0  | 0.0 |\n",
      "| ODPGrDescBlock_7/resnet/BatchNorm_0/var                | (1,)  | 1    | 1.0  | 0.0 |\n",
      "| ODPGrDescBlock_7/resnet/ConvBNBlock_0/BatchNorm_0/mean | (64,) | 64   | 0.0  | 0.0 |\n",
      "| ODPGrDescBlock_7/resnet/ConvBNBlock_0/BatchNorm_0/var  | (64,) | 64   | 1.0  | 0.0 |\n",
      "| ODPGrDescBlock_7/resnet/ConvBNBlock_1/BatchNorm_0/mean | (64,) | 64   | 0.0  | 0.0 |\n",
      "| ODPGrDescBlock_7/resnet/ConvBNBlock_1/BatchNorm_0/var  | (64,) | 64   | 1.0  | 0.0 |\n",
      "| ODPGrDescBlock_7/resnet/ConvBNBlock_2/BatchNorm_0/mean | (64,) | 64   | 0.0  | 0.0 |\n",
      "| ODPGrDescBlock_7/resnet/ConvBNBlock_2/BatchNorm_0/var  | (64,) | 64   | 1.0  | 0.0 |\n",
      "| ODPGrDescBlock_7/resnet/ConvBNBlock_3/BatchNorm_0/mean | (64,) | 64   | 0.0  | 0.0 |\n",
      "| ODPGrDescBlock_7/resnet/ConvBNBlock_3/BatchNorm_0/var  | (64,) | 64   | 1.0  | 0.0 |\n",
      "| ODPGrDescBlock_7/resnet/ConvBNBlock_4/BatchNorm_0/mean | (64,) | 64   | 0.0  | 0.0 |\n",
      "| ODPGrDescBlock_7/resnet/ConvBNBlock_4/BatchNorm_0/var  | (64,) | 64   | 1.0  | 0.0 |\n",
      "+--------------------------------------------------------+-------+------+------+-----+\n",
      "Total weights: 5,136\n",
      "\n"
     ]
    },
    {
     "name": "stdout",
     "output_type": "stream",
     "text": [
      "Initial compilation, which might take some time ...\n"
     ]
    },
    {
     "name": "stdout",
     "output_type": "stream",
     "text": [
      "Initial compilation completed.\n",
      "\n"
     ]
    },
    {
     "name": "stdout",
     "output_type": "stream",
     "text": [
      "Epoch  Time      Train_LR  Train_Loss  Train_SNR  Eval_Loss  Eval_SNR\n",
      "---------------------------------------------------------------------\n",
      "    7  3.18e+01  0.001000    0.060204       2.52   0.103062     -3.52\n"
     ]
    },
    {
     "name": "stdout",
     "output_type": "stream",
     "text": [
      "   15  5.03e+01  0.001000    0.014217       5.13   0.067383     -1.67\n"
     ]
    },
    {
     "name": "stdout",
     "output_type": "stream",
     "text": [
      "   23  6.54e+01  0.001000    0.009713       6.76   0.032944      1.44\n"
     ]
    },
    {
     "name": "stdout",
     "output_type": "stream",
     "text": [
      "   31  8.06e+01  0.001000    0.006883       8.27   0.081245     -2.48\n"
     ]
    },
    {
     "name": "stdout",
     "output_type": "stream",
     "text": [
      "   39  9.46e+01  0.001000    0.005894       8.92   0.139889     -4.84\n"
     ]
    },
    {
     "name": "stdout",
     "output_type": "stream",
     "text": [
      "   47  1.10e+02  0.001000    0.005371       9.32   0.085426     -2.70\n"
     ]
    },
    {
     "name": "stdout",
     "output_type": "stream",
     "text": [
      "   55  1.25e+02  0.001000    0.004940       9.68   0.014515      5.00\n"
     ]
    },
    {
     "name": "stdout",
     "output_type": "stream",
     "text": [
      "   63  1.40e+02  0.001000    0.004762       9.84   0.005266      9.41\n"
     ]
    },
    {
     "name": "stdout",
     "output_type": "stream",
     "text": [
      "   71  1.55e+02  0.001000    0.004479      10.10   0.004954      9.67\n"
     ]
    },
    {
     "name": "stdout",
     "output_type": "stream",
     "text": [
      "   79  1.70e+02  0.001000    0.004494      10.11   0.004642      9.95\n"
     ]
    },
    {
     "name": "stdout",
     "output_type": "stream",
     "text": [
      "   87  1.85e+02  0.001000    0.004259      10.33   0.005954      8.88\n"
     ]
    },
    {
     "name": "stdout",
     "output_type": "stream",
     "text": [
      "   95  2.00e+02  0.001000    0.005938       9.23   0.031729      1.60\n"
     ]
    },
    {
     "name": "stdout",
     "output_type": "stream",
     "text": [
      "  103  2.15e+02  0.001000    0.004270      10.31   0.011373      6.06\n"
     ]
    },
    {
     "name": "stdout",
     "output_type": "stream",
     "text": [
      "  111  2.30e+02  0.001000    0.004045      10.55   0.004815      9.79\n"
     ]
    },
    {
     "name": "stdout",
     "output_type": "stream",
     "text": [
      "  119  2.44e+02  0.001000    0.003847      10.76   0.003991     10.61\n"
     ]
    },
    {
     "name": "stdout",
     "output_type": "stream",
     "text": [
      "  127  2.60e+02  0.001000    0.003730      10.90   0.004092     10.50\n"
     ]
    },
    {
     "name": "stdout",
     "output_type": "stream",
     "text": [
      "  135  2.75e+02  0.001000    0.003657      10.98   0.003674     10.97\n"
     ]
    },
    {
     "name": "stdout",
     "output_type": "stream",
     "text": [
      "  143  2.90e+02  0.001000    0.003573      11.08   0.003769     10.86\n"
     ]
    },
    {
     "name": "stdout",
     "output_type": "stream",
     "text": [
      "  151  3.05e+02  0.001000    0.003510      11.16   0.003572     11.09\n"
     ]
    },
    {
     "name": "stdout",
     "output_type": "stream",
     "text": [
      "  159  3.19e+02  0.001000    0.005631       9.66   0.068132     -1.72\n"
     ]
    },
    {
     "name": "stdout",
     "output_type": "stream",
     "text": [
      "  167  3.34e+02  0.001000    0.004039      10.55   0.006583      8.43\n"
     ]
    },
    {
     "name": "stdout",
     "output_type": "stream",
     "text": [
      "  175  3.49e+02  0.001000    0.003732      10.90   0.004465     10.12\n"
     ]
    },
    {
     "name": "stdout",
     "output_type": "stream",
     "text": [
      "  183  3.64e+02  0.001000    0.003526      11.14   0.004392     10.19\n"
     ]
    },
    {
     "name": "stdout",
     "output_type": "stream",
     "text": [
      "  191  3.80e+02  0.001000    0.003405      11.29   0.003868     10.75\n"
     ]
    },
    {
     "name": "stdout",
     "output_type": "stream",
     "text": [
      "  199  3.94e+02  0.001000    0.003336      11.38   0.003345     11.38\n"
     ]
    }
   ],
   "source": [
    "workdir = os.path.join(os.path.expanduser(\"~\"), \".cache\", \"scico\", \"examples\", \"odp_ct_out\")\n",
    "\n",
    "train_conf[\"workdir\"] = workdir\n",
    "train_conf[\"post_lst\"] = [alphapost]\n",
    "# Construct training object\n",
    "trainer = sflax.BasicFlaxTrainer(\n",
    "    train_conf,\n",
    "    model,\n",
    "    train_ds,\n",
    "    test_ds,\n",
    ")\n",
    "modvar, stats_object = trainer.train()"
   ]
  },
  {
   "cell_type": "markdown",
   "id": "3dfb9286",
   "metadata": {},
   "source": [
    "Evaluate on testing data."
   ]
  },
  {
   "cell_type": "code",
   "execution_count": 10,
   "id": "a79c2311",
   "metadata": {
    "collapsed": false,
    "execution": {
     "iopub.execute_input": "2024-10-11T21:31:19.963713Z",
     "iopub.status.busy": "2024-10-11T21:31:19.963405Z",
     "iopub.status.idle": "2024-10-11T21:31:25.445756Z",
     "shell.execute_reply": "2024-10-11T21:31:25.444565Z"
    }
   },
   "outputs": [],
   "source": [
    "del train_ds[\"image\"]\n",
    "del train_ds[\"label\"]\n",
    "\n",
    "fmap = sflax.FlaxMap(model, modvar)\n",
    "del model, modvar\n",
    "\n",
    "maxn = numtt\n",
    "start_time = time()\n",
    "output = fmap(test_ds[\"image\"][:maxn])\n",
    "time_eval = time() - start_time\n",
    "output = np.clip(output, a_min=0, a_max=1.0)\n",
    "epochs = train_conf[\"num_epochs\"]"
   ]
  },
  {
   "cell_type": "markdown",
   "id": "2f1ac5e3",
   "metadata": {},
   "source": [
    "Evaluate trained model in terms of reconstruction time and data fidelity."
   ]
  },
  {
   "cell_type": "code",
   "execution_count": 11,
   "id": "378d91b3",
   "metadata": {
    "collapsed": false,
    "execution": {
     "iopub.execute_input": "2024-10-11T21:31:25.449272Z",
     "iopub.status.busy": "2024-10-11T21:31:25.448916Z",
     "iopub.status.idle": "2024-10-11T21:31:25.982430Z",
     "shell.execute_reply": "2024-10-11T21:31:25.981450Z"
    }
   },
   "outputs": [
    {
     "name": "stdout",
     "output_type": "stream",
     "text": [
      "ODPNet training   epochs:  200                     time[s]:   395.15\n",
      "ODPNet testing    SNR: 11.38 dB   PSNR: 21.75 dB   time[s]:     5.47\n"
     ]
    }
   ],
   "source": [
    "snr_eval = metric.snr(test_ds[\"label\"][:maxn], output)\n",
    "psnr_eval = metric.psnr(test_ds[\"label\"][:maxn], output)\n",
    "print(\n",
    "    f\"{'ODPNet training':18s}{'epochs:':2s}{epochs:>5d}{'':21s}\"\n",
    "    f\"{'time[s]:':10s}{trainer.train_time:>7.2f}\"\n",
    ")\n",
    "print(\n",
    "    f\"{'ODPNet testing':18s}{'SNR:':5s}{snr_eval:>5.2f}{' dB'}{'':3s}\"\n",
    "    f\"{'PSNR:':6s}{psnr_eval:>5.2f}{' dB'}{'':3s}{'time[s]:':10s}{time_eval:>7.2f}\"\n",
    ")"
   ]
  },
  {
   "cell_type": "markdown",
   "id": "706f3093",
   "metadata": {},
   "source": [
    "Plot comparison."
   ]
  },
  {
   "cell_type": "code",
   "execution_count": 12,
   "id": "29c7a969",
   "metadata": {
    "collapsed": false,
    "execution": {
     "iopub.execute_input": "2024-10-11T21:31:25.984593Z",
     "iopub.status.busy": "2024-10-11T21:31:25.984306Z",
     "iopub.status.idle": "2024-10-11T21:31:26.464741Z",
     "shell.execute_reply": "2024-10-11T21:31:26.463600Z"
    }
   },
   "outputs": [],
   "source": [
    "np.random.seed(123)\n",
    "indx = np.random.randint(0, high=maxn)\n",
    "\n",
    "fig, ax = plot.subplots(nrows=1, ncols=3, figsize=(15, 5))\n",
    "plot.imview(test_ds[\"label\"][indx, ..., 0], title=\"Ground truth\", cbar=None, fig=fig, ax=ax[0])\n",
    "plot.imview(\n",
    "    test_ds[\"image\"][indx, ..., 0],\n",
    "    title=\"Sinogram\",\n",
    "    cbar=None,\n",
    "    fig=fig,\n",
    "    ax=ax[1],\n",
    ")\n",
    "plot.imview(\n",
    "    output[indx, ..., 0],\n",
    "    title=\"ODPNet Reconstruction\\nSNR: %.2f (dB), PSNR: %.2f\"\n",
    "    % (\n",
    "        metric.snr(test_ds[\"label\"][indx, ..., 0], output[indx, ..., 0]),\n",
    "        metric.psnr(test_ds[\"label\"][indx, ..., 0], output[indx, ..., 0]),\n",
    "    ),\n",
    "    fig=fig,\n",
    "    ax=ax[2],\n",
    ")\n",
    "divider = make_axes_locatable(ax[2])\n",
    "cax = divider.append_axes(\"right\", size=\"5%\", pad=0.2)\n",
    "fig.colorbar(ax[2].get_images()[0], cax=cax, label=\"arbitrary units\")\n",
    "fig.show()"
   ]
  },
  {
   "cell_type": "markdown",
   "id": "3539a362",
   "metadata": {},
   "source": [
    "Plot convergence statistics. Statistics are generated only if a training\n",
    "cycle was done (i.e. if not reading final epoch results from checkpoint)."
   ]
  },
  {
   "cell_type": "code",
   "execution_count": 13,
   "id": "24b57f52",
   "metadata": {
    "collapsed": false,
    "execution": {
     "iopub.execute_input": "2024-10-11T21:31:26.467265Z",
     "iopub.status.busy": "2024-10-11T21:31:26.466996Z",
     "iopub.status.idle": "2024-10-11T21:31:26.690742Z",
     "shell.execute_reply": "2024-10-11T21:31:26.689689Z"
    }
   },
   "outputs": [],
   "source": [
    "if stats_object is not None and len(stats_object.iterations) > 0:\n",
    "    hist = stats_object.history(transpose=True)\n",
    "    fig, ax = plot.subplots(nrows=1, ncols=2, figsize=(12, 5))\n",
    "    plot.plot(\n",
    "        np.vstack((hist.Train_Loss, hist.Eval_Loss)).T,\n",
    "        x=hist.Epoch,\n",
    "        ptyp=\"semilogy\",\n",
    "        title=\"Loss function\",\n",
    "        xlbl=\"Epoch\",\n",
    "        ylbl=\"Loss value\",\n",
    "        lgnd=(\"Train\", \"Test\"),\n",
    "        fig=fig,\n",
    "        ax=ax[0],\n",
    "    )\n",
    "    plot.plot(\n",
    "        np.vstack((hist.Train_SNR, hist.Eval_SNR)).T,\n",
    "        x=hist.Epoch,\n",
    "        title=\"Metric\",\n",
    "        xlbl=\"Epoch\",\n",
    "        ylbl=\"SNR (dB)\",\n",
    "        lgnd=(\"Train\", \"Test\"),\n",
    "        fig=fig,\n",
    "        ax=ax[1],\n",
    "    )\n",
    "    fig.show()"
   ]
  }
 ],
 "metadata": {
  "language_info": {
   "codemirror_mode": {
    "name": "ipython",
    "version": 3
   },
   "file_extension": ".py",
   "mimetype": "text/x-python",
   "name": "python",
   "nbconvert_exporter": "python",
   "pygments_lexer": "ipython3",
   "version": "3.12.7"
  }
 },
 "nbformat": 4,
 "nbformat_minor": 5
}
