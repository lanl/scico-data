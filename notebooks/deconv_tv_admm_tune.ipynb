{
 "cells": [
  {
   "cell_type": "markdown",
   "id": "d6c60b8f",
   "metadata": {},
   "source": [
    "Parameter Tuning for Image Deconvolution with TV Regularization (ADMM Solver)\n",
    "=============================================================================\n",
    "\n",
    "This example demonstrates the use of\n",
    "[scico.ray.tune](../_autosummary/scico.ray.tune.rst) to tune parameters\n",
    "for the companion [example script](deconv_tv_admm.rst). The `ray.tune`\n",
    "function API is used in this example.\n",
    "\n",
    "This script is hard-coded to run on CPU only to avoid the large number of\n",
    "warnings that are emitted when GPU resources are requested but not available,\n",
    "and due to the difficulty of supressing these warnings in a way that does\n",
    "not force use of the CPU only. To enable GPU usage, comment out the\n",
    "`os.environ` statements near the beginning of the script, and change the\n",
    "value of the \"gpu\" entry in the `resources` dict from 0 to 1. Note that\n",
    "two environment variables are set to suppress the warnings because\n",
    "`JAX_PLATFORMS` was intended to replace `JAX_PLATFORM_NAME` but this change\n",
    "has yet to be correctly implemented\n",
    "(see [google/jax#6805](https://github.com/google/jax/issues/6805) and\n",
    "[google/jax#10272](https://github.com/google/jax/pull/10272))."
   ]
  },
  {
   "cell_type": "code",
   "execution_count": null,
   "id": "1c476aae",
   "metadata": {
    "collapsed": false
   },
   "outputs": [],
   "source": [
    "# isort: off\n",
    "import os\n",
    "\n",
    "os.environ[\"JAX_PLATFORM_NAME\"] = \"cpu\"\n",
    "os.environ[\"JAX_PLATFORMS\"] = \"cpu\"\n",
    "\n",
    "from xdesign import SiemensStar, discrete_phantom\n",
    "\n",
    "import logging\n",
    "import ray\n",
    "plot.config_notebook_plotting()\n",
    "\n",
    "ray.init(logging_level=logging.ERROR)  # need to call init before jax import: ray-project/ray#44087\n",
    "\n",
    "import scico.numpy as snp\n",
    "import scico.random\n",
    "from scico import functional, linop, loss, metric, plot\n",
    "from scico.optimize.admm import ADMM, LinearSubproblemSolver\n",
    "from scico.ray import report, tune"
   ]
  },
  {
   "cell_type": "markdown",
   "id": "b196186f",
   "metadata": {},
   "source": [
    "Create a ground truth image."
   ]
  },
  {
   "cell_type": "code",
   "execution_count": null,
   "id": "8632bd8f",
   "metadata": {
    "collapsed": false
   },
   "outputs": [],
   "source": [
    "phantom = SiemensStar(32)\n",
    "N = 256  # image size\n",
    "x_gt = snp.pad(discrete_phantom(phantom, N - 16), 8)"
   ]
  },
  {
   "cell_type": "markdown",
   "id": "45d343f5",
   "metadata": {},
   "source": [
    "Set up the forward operator and create a test signal consisting of a\n",
    "blurred signal with additive Gaussian noise."
   ]
  },
  {
   "cell_type": "code",
   "execution_count": null,
   "id": "f0dce52f",
   "metadata": {
    "collapsed": false
   },
   "outputs": [],
   "source": [
    "n = 5  # convolution kernel size\n",
    "σ = 20.0 / 255  # noise level\n",
    "\n",
    "psf = snp.ones((n, n)) / (n * n)\n",
    "A = linop.Convolve(h=psf, input_shape=x_gt.shape)\n",
    "\n",
    "Ax = A(x_gt)  # blurred image\n",
    "noise, key = scico.random.randn(Ax.shape, seed=0)\n",
    "y = Ax + σ * noise"
   ]
  },
  {
   "cell_type": "markdown",
   "id": "1340513b",
   "metadata": {},
   "source": [
    "Define performance evaluation function."
   ]
  },
  {
   "cell_type": "code",
   "execution_count": null,
   "id": "c9527f6e",
   "metadata": {
    "collapsed": false
   },
   "outputs": [],
   "source": [
    "def eval_params(config, x_gt, psf, y):\n",
    "    \"\"\"Parameter evaluation function. The `config` parameter is a\n",
    "    dict of specific parameters for evaluation of a single parameter\n",
    "    set (a pair of parameters in this case). The remaining parameters\n",
    "    are objects that are passed to the evaluation function via the\n",
    "    ray object store.\n",
    "    \"\"\"\n",
    "    # Extract solver parameters from config dict.\n",
    "    λ, ρ = config[\"lambda\"], config[\"rho\"]\n",
    "    # Set up problem to be solved.\n",
    "    A = linop.Convolve(h=psf, input_shape=x_gt.shape)\n",
    "    f = loss.SquaredL2Loss(y=y, A=A)\n",
    "    g = λ * functional.L21Norm()\n",
    "    C = linop.FiniteDifference(input_shape=x_gt.shape, append=0)\n",
    "    # Define solver.\n",
    "    solver = ADMM(\n",
    "        f=f,\n",
    "        g_list=[g],\n",
    "        C_list=[C],\n",
    "        rho_list=[ρ],\n",
    "        x0=A.adj(y),\n",
    "        maxiter=10,\n",
    "        subproblem_solver=LinearSubproblemSolver(),\n",
    "    )\n",
    "    # Perform 50 iterations, reporting performance to ray.tune every 10 iterations.\n",
    "    for step in range(5):\n",
    "        x_admm = solver.solve()\n",
    "        report({\"psnr\": float(metric.psnr(x_gt, x_admm))})"
   ]
  },
  {
   "cell_type": "markdown",
   "id": "c7040160",
   "metadata": {},
   "source": [
    "Define parameter search space and resources per trial."
   ]
  },
  {
   "cell_type": "code",
   "execution_count": null,
   "id": "04b9debd",
   "metadata": {
    "collapsed": false
   },
   "outputs": [],
   "source": [
    "config = {\"lambda\": tune.loguniform(1e-3, 1e-1), \"rho\": tune.loguniform(1e-2, 1e0)}\n",
    "resources = {\"cpu\": 4, \"gpu\": 0}  # cpus per trial, gpus per trial"
   ]
  },
  {
   "cell_type": "markdown",
   "id": "1f640807",
   "metadata": {},
   "source": [
    "Run parameter search."
   ]
  },
  {
   "cell_type": "code",
   "execution_count": null,
   "id": "6aa3c44a",
   "metadata": {
    "collapsed": false
   },
   "outputs": [],
   "source": [
    "tuner = tune.Tuner(\n",
    "    tune.with_parameters(eval_params, x_gt=x_gt, psf=psf, y=y),\n",
    "    param_space=config,\n",
    "    resources=resources,\n",
    "    metric=\"psnr\",\n",
    "    mode=\"max\",\n",
    "    num_samples=100,  # perform 100 parameter evaluations\n",
    ")\n",
    "results = tuner.fit()\n",
    "ray.shutdown()"
   ]
  },
  {
   "cell_type": "markdown",
   "id": "703e3477",
   "metadata": {},
   "source": [
    "Display best parameters and corresponding performance."
   ]
  },
  {
   "cell_type": "code",
   "execution_count": null,
   "id": "1663c939",
   "metadata": {
    "collapsed": false
   },
   "outputs": [],
   "source": [
    "best_result = results.get_best_result()\n",
    "best_config = best_result.config\n",
    "print(f\"Best PSNR: {best_result.metrics['psnr']:.2f} dB\")\n",
    "print(\"Best config: \" + \", \".join([f\"{k}: {v:.2e}\" for k, v in best_config.items()]))"
   ]
  },
  {
   "cell_type": "markdown",
   "id": "dd9503d6",
   "metadata": {},
   "source": [
    "Plot parameter values visited during parameter search. Marker sizes are\n",
    "proportional to number of iterations run at each parameter pair. The best\n",
    "point in the parameter space is indicated in red."
   ]
  },
  {
   "cell_type": "code",
   "execution_count": null,
   "id": "d890d482",
   "metadata": {
    "collapsed": false
   },
   "outputs": [],
   "source": [
    "fig = plot.figure(figsize=(8, 8))\n",
    "trials = results.get_dataframe()\n",
    "for t in trials.iloc:\n",
    "    n = t[\"training_iteration\"]\n",
    "    plot.plot(\n",
    "        t[\"config/lambda\"],\n",
    "        t[\"config/rho\"],\n",
    "        ptyp=\"loglog\",\n",
    "        lw=0,\n",
    "        ms=(0.5 + 1.5 * n),\n",
    "        marker=\"o\",\n",
    "        mfc=\"blue\",\n",
    "        mec=\"blue\",\n",
    "        fig=fig,\n",
    "    )\n",
    "plot.plot(\n",
    "    best_config[\"lambda\"],\n",
    "    best_config[\"rho\"],\n",
    "    ptyp=\"loglog\",\n",
    "    title=\"Parameter search sampling locations\\n(marker size proportional to number of iterations)\",\n",
    "    xlbl=r\"$\\rho$\",\n",
    "    ylbl=r\"$\\lambda$\",\n",
    "    lw=0,\n",
    "    ms=5.0,\n",
    "    marker=\"o\",\n",
    "    mfc=\"red\",\n",
    "    mec=\"red\",\n",
    "    fig=fig,\n",
    ")\n",
    "ax = fig.axes[0]\n",
    "ax.set_xlim([config[\"rho\"].lower, config[\"rho\"].upper])\n",
    "ax.set_ylim([config[\"lambda\"].lower, config[\"lambda\"].upper])\n",
    "fig.show()"
   ]
  },
  {
   "cell_type": "markdown",
   "id": "163fe5b5",
   "metadata": {},
   "source": [
    "Plot parameter values visited during parameter search and corresponding\n",
    "reconstruction PSNRs.The best point in the parameter space is indicated\n",
    "in red."
   ]
  },
  {
   "cell_type": "code",
   "execution_count": null,
   "id": "e17e0afe",
   "metadata": {
    "collapsed": false
   },
   "outputs": [],
   "source": [
    "𝜌 = [t[\"config/rho\"] for t in trials.iloc]\n",
    "𝜆 = [t[\"config/lambda\"] for t in trials.iloc]\n",
    "psnr = [t[\"psnr\"] for t in trials.iloc]\n",
    "minpsnr = min(max(psnr), 18.0)\n",
    "𝜌, 𝜆, psnr = zip(*filter(lambda x: x[2] >= minpsnr, zip(𝜌, 𝜆, psnr)))\n",
    "fig, ax = plot.subplots(figsize=(10, 8))\n",
    "sc = ax.scatter(𝜌, 𝜆, c=psnr, cmap=plot.cm.plasma_r)\n",
    "fig.colorbar(sc)\n",
    "plot.plot(\n",
    "    best_config[\"lambda\"],\n",
    "    best_config[\"rho\"],\n",
    "    ptyp=\"loglog\",\n",
    "    lw=0,\n",
    "    ms=12.0,\n",
    "    marker=\"2\",\n",
    "    mfc=\"red\",\n",
    "    mec=\"red\",\n",
    "    fig=fig,\n",
    "    ax=ax,\n",
    ")\n",
    "ax.set_xscale(\"log\")\n",
    "ax.set_yscale(\"log\")\n",
    "ax.set_xlabel(r\"$\\rho$\")\n",
    "ax.set_ylabel(r\"$\\lambda$\")\n",
    "ax.set_title(\"PSNR at each sample location\\n(values below 18 dB omitted)\")\n",
    "fig.show()"
   ]
  }
 ],
 "metadata": {},
 "nbformat": 4,
 "nbformat_minor": 5
}
