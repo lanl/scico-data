{
 "cells": [
  {
   "cell_type": "markdown",
   "id": "70a80951",
   "metadata": {},
   "source": [
    "Image Deconvolution Parameter Tuning\n",
    "====================================\n",
    "\n",
    "This example demonstrates the use of\n",
    "[scico.ray.tune](../_autosummary/scico.ray.tune.rst) to tune parameters\n",
    "for the companion [example script](deconv_tv_admm.rst).\n",
    "\n",
    "This script is hard-coded to run on CPU only to avoid the large number of\n",
    "warnings that are emitted when GPU resources are requested but not available,\n",
    "and due to the difficulty of supressing these warnings in a way that does\n",
    "not force use of the CPU only. To enable GPU usage, comment out the\n",
    "`os.environ` statements near the beginning of the script, and change the\n",
    "value of the \"gpu\" entry in the `resources` dict from 0 to 1. Note that\n",
    "two environment variables are set to suppress the warnings because\n",
    "`JAX_PLATFORMS` was intended to replace `JAX_PLATFORM_NAME` but this change\n",
    "has yet to be correctly implemented\n",
    "(see [google/jax#6805](https://github.com/google/jax/issues/6805) and\n",
    "[google/jax#10272](https://github.com/google/jax/pull/10272))."
   ]
  },
  {
   "cell_type": "code",
   "execution_count": 1,
   "id": "40805cf0",
   "metadata": {
    "collapsed": false,
    "execution": {
     "iopub.execute_input": "2022-05-23T19:51:54.289280Z",
     "iopub.status.busy": "2022-05-23T19:51:54.288590Z",
     "iopub.status.idle": "2022-05-23T19:51:57.327901Z",
     "shell.execute_reply": "2022-05-23T19:51:57.327288Z"
    }
   },
   "outputs": [],
   "source": [
    "# isort: off\n",
    "import os\n",
    "\n",
    "os.environ[\"JAX_PLATFORM_NAME\"] = \"cpu\"\n",
    "os.environ[\"JAX_PLATFORMS\"] = \"cpu\"\n",
    "\n",
    "import numpy as np\n",
    "\n",
    "import jax\n",
    "\n",
    "from xdesign import SiemensStar, discrete_phantom\n",
    "\n",
    "import scico.numpy as snp\n",
    "import scico.random\n",
    "import scico.ray as ray\n",
    "from scico import functional, linop, loss, metric, plot\n",
    "from scico.optimize.admm import ADMM, LinearSubproblemSolver\n",
    "from scico.ray import tune\n",
    "plot.config_notebook_plotting()"
   ]
  },
  {
   "cell_type": "markdown",
   "id": "1bea15a5",
   "metadata": {},
   "source": [
    "Create a ground truth image."
   ]
  },
  {
   "cell_type": "code",
   "execution_count": 2,
   "id": "b6d40bc5",
   "metadata": {
    "collapsed": false,
    "execution": {
     "iopub.execute_input": "2022-05-23T19:51:57.333904Z",
     "iopub.status.busy": "2022-05-23T19:51:57.333570Z",
     "iopub.status.idle": "2022-05-23T19:51:57.728259Z",
     "shell.execute_reply": "2022-05-23T19:51:57.727557Z"
    }
   },
   "outputs": [],
   "source": [
    "phantom = SiemensStar(32)\n",
    "N = 256  # image size\n",
    "x_gt = snp.pad(discrete_phantom(phantom, N - 16), 8)"
   ]
  },
  {
   "cell_type": "markdown",
   "id": "2f0b60b0",
   "metadata": {},
   "source": [
    "Set up the forward operator and create a test signal consisting of a\n",
    "blurred signal with additive Gaussian noise."
   ]
  },
  {
   "cell_type": "code",
   "execution_count": 3,
   "id": "97bfac96",
   "metadata": {
    "collapsed": false,
    "execution": {
     "iopub.execute_input": "2022-05-23T19:51:57.734148Z",
     "iopub.status.busy": "2022-05-23T19:51:57.733817Z",
     "iopub.status.idle": "2022-05-23T19:51:58.306391Z",
     "shell.execute_reply": "2022-05-23T19:51:58.305673Z"
    }
   },
   "outputs": [],
   "source": [
    "n = 5  # convolution kernel size\n",
    "σ = 20.0 / 255  # noise level\n",
    "\n",
    "psf = snp.ones((n, n)) / (n * n)\n",
    "A = linop.Convolve(h=psf, input_shape=x_gt.shape)\n",
    "\n",
    "Ax = A(x_gt)  # blurred image\n",
    "noise, key = scico.random.randn(Ax.shape, seed=0)\n",
    "y = Ax + σ * noise"
   ]
  },
  {
   "cell_type": "markdown",
   "id": "1ee319d7",
   "metadata": {},
   "source": [
    "Put main arrays into ray object store."
   ]
  },
  {
   "cell_type": "code",
   "execution_count": 4,
   "id": "6300c58d",
   "metadata": {
    "collapsed": false,
    "execution": {
     "iopub.execute_input": "2022-05-23T19:51:58.311737Z",
     "iopub.status.busy": "2022-05-23T19:51:58.311481Z",
     "iopub.status.idle": "2022-05-23T19:52:02.411259Z",
     "shell.execute_reply": "2022-05-23T19:52:02.410183Z"
    }
   },
   "outputs": [],
   "source": [
    "ray_x_gt, ray_psf, ray_y = ray.put(np.array(x_gt)), ray.put(np.array(psf)), ray.put(np.array(y))"
   ]
  },
  {
   "cell_type": "markdown",
   "id": "add55a8e",
   "metadata": {},
   "source": [
    "Define performance evaluation function."
   ]
  },
  {
   "cell_type": "code",
   "execution_count": 5,
   "id": "765c4899",
   "metadata": {
    "collapsed": false,
    "execution": {
     "iopub.execute_input": "2022-05-23T19:52:02.416506Z",
     "iopub.status.busy": "2022-05-23T19:52:02.416297Z",
     "iopub.status.idle": "2022-05-23T19:52:02.424213Z",
     "shell.execute_reply": "2022-05-23T19:52:02.423517Z"
    }
   },
   "outputs": [],
   "source": [
    "def eval_params(config, reporter):\n",
    "    # Extract solver parameters from config dict.\n",
    "    λ, ρ = config[\"lambda\"], config[\"rho\"]\n",
    "    # Get main arrays from ray object store.\n",
    "    x_gt, psf, y = ray.get([ray_x_gt, ray_psf, ray_y])\n",
    "    # Put main arrays on jax device.\n",
    "    x_gt, psf, y = jax.device_put([x_gt, psf, y])\n",
    "    # Set up problem to be solved.\n",
    "    A = linop.Convolve(h=psf, input_shape=x_gt.shape)\n",
    "    f = loss.SquaredL2Loss(y=y, A=A)\n",
    "    g = λ * functional.L21Norm()\n",
    "    C = linop.FiniteDifference(input_shape=x_gt.shape, append=0)\n",
    "    # Define solver.\n",
    "    solver = ADMM(\n",
    "        f=f,\n",
    "        g_list=[g],\n",
    "        C_list=[C],\n",
    "        rho_list=[ρ],\n",
    "        x0=A.adj(y),\n",
    "        maxiter=10,\n",
    "        subproblem_solver=LinearSubproblemSolver(),\n",
    "    )\n",
    "    # Perform 50 iterations, reporting performance to ray.tune every 10 iterations.\n",
    "    for step in range(5):\n",
    "        x_admm = solver.solve()\n",
    "        reporter(psnr=float(metric.psnr(x_gt, x_admm)))"
   ]
  },
  {
   "cell_type": "markdown",
   "id": "78d82076",
   "metadata": {},
   "source": [
    "Define parameter search space and resources per trial."
   ]
  },
  {
   "cell_type": "code",
   "execution_count": 6,
   "id": "7a59da5e",
   "metadata": {
    "collapsed": false,
    "execution": {
     "iopub.execute_input": "2022-05-23T19:52:02.426837Z",
     "iopub.status.busy": "2022-05-23T19:52:02.426703Z",
     "iopub.status.idle": "2022-05-23T19:52:02.430791Z",
     "shell.execute_reply": "2022-05-23T19:52:02.430166Z"
    }
   },
   "outputs": [],
   "source": [
    "config = {\"lambda\": tune.loguniform(1e-2, 1e0), \"rho\": tune.loguniform(1e-1, 1e1)}\n",
    "resources = {\"cpu\": 4, \"gpu\": 0}  # cpus per trial, gpus per trial"
   ]
  },
  {
   "cell_type": "markdown",
   "id": "85adc544",
   "metadata": {},
   "source": [
    "Run parameter search."
   ]
  },
  {
   "cell_type": "code",
   "execution_count": 7,
   "id": "c5480833",
   "metadata": {
    "collapsed": false,
    "execution": {
     "iopub.execute_input": "2022-05-23T19:52:02.433363Z",
     "iopub.status.busy": "2022-05-23T19:52:02.433195Z",
     "iopub.status.idle": "2022-05-23T19:52:54.392784Z",
     "shell.execute_reply": "2022-05-23T19:52:54.391924Z"
    }
   },
   "outputs": [
    {
     "name": "stdout",
     "output_type": "stream",
     "text": [
      "P:   0 R:   1 T:   0 \r",
      "P:   1 R:   1 T:   0 \r"
     ]
    },
    {
     "name": "stdout",
     "output_type": "stream",
     "text": [
      "P:   0 R:   2 T:   0 \r",
      "P:   1 R:   2 T:   0 \r"
     ]
    },
    {
     "name": "stdout",
     "output_type": "stream",
     "text": [
      "P:   0 R:   3 T:   0 \r",
      "P:   1 R:   3 T:   0  psnr: 2.14e+01 at lambda: 4.58e-02, rho: 5.22e-01\r"
     ]
    },
    {
     "name": "stdout",
     "output_type": "stream",
     "text": [
      "P:   0 R:   4 T:   0  psnr: 2.14e+01 at lambda: 4.58e-02, rho: 5.22e-01\r",
      "P:   1 R:   4 T:   0  psnr: 2.22e+01 at lambda: 4.58e-02, rho: 5.22e-01\r",
      "P:   1 R:   3 T:   1  psnr: 2.22e+01 at lambda: 4.58e-02, rho: 5.22e-01\r",
      "P:   0 R:   4 T:   1  psnr: 2.22e+01 at lambda: 4.58e-02, rho: 5.22e-01\r"
     ]
    },
    {
     "name": "stdout",
     "output_type": "stream",
     "text": [
      "P:   0 R:   5 T:   1  psnr: 2.22e+01 at lambda: 4.58e-02, rho: 5.22e-01\r",
      "P:   1 R:   5 T:   1  psnr: 2.30e+01 at lambda: 3.12e-02, rho: 1.14e-01\r"
     ]
    },
    {
     "name": "stdout",
     "output_type": "stream",
     "text": [
      "P:   0 R:   6 T:   1  psnr: 2.30e+01 at lambda: 3.12e-02, rho: 1.14e-01\r",
      "P:   1 R:   6 T:   1  psnr: 2.33e+01 at lambda: 3.12e-02, rho: 1.14e-01\r"
     ]
    },
    {
     "name": "stdout",
     "output_type": "stream",
     "text": [
      "P:   0 R:   7 T:   1  psnr: 2.33e+01 at lambda: 3.12e-02, rho: 1.14e-01\r",
      "P:   1 R:   6 T:   2  psnr: 2.33e+01 at lambda: 3.12e-02, rho: 1.14e-01\r",
      "P:   0 R:   7 T:   2  psnr: 2.33e+01 at lambda: 3.12e-02, rho: 1.14e-01\r",
      "P:   1 R:   7 T:   2  psnr: 2.34e+01 at lambda: 3.12e-02, rho: 1.14e-01\r"
     ]
    },
    {
     "name": "stdout",
     "output_type": "stream",
     "text": [
      "P:   0 R:   8 T:   2  psnr: 2.34e+01 at lambda: 3.12e-02, rho: 1.14e-01\r",
      "P:   1 R:   7 T:   3  psnr: 2.34e+01 at lambda: 3.12e-02, rho: 1.14e-01\r",
      "P:   0 R:   8 T:   3  psnr: 2.34e+01 at lambda: 3.12e-02, rho: 1.14e-01\r",
      "P:   1 R:   7 T:   4  psnr: 2.34e+01 at lambda: 3.12e-02, rho: 1.14e-01\r",
      "P:   0 R:   8 T:   4  psnr: 2.34e+01 at lambda: 3.12e-02, rho: 1.14e-01\r"
     ]
    },
    {
     "name": "stdout",
     "output_type": "stream",
     "text": [
      "P:   0 R:   9 T:   4  psnr: 2.34e+01 at lambda: 3.12e-02, rho: 1.14e-01\r",
      "P:   1 R:   9 T:   4  psnr: 2.34e+01 at lambda: 3.12e-02, rho: 1.14e-01\r",
      "P:   1 R:   8 T:   5  psnr: 2.34e+01 at lambda: 3.12e-02, rho: 1.14e-01\r",
      "P:   0 R:   9 T:   5  psnr: 2.34e+01 at lambda: 3.12e-02, rho: 1.14e-01\r",
      "P:   1 R:   9 T:   5  psnr: 2.34e+01 at lambda: 3.12e-02, rho: 1.14e-01\r",
      "P:   1 R:   8 T:   6  psnr: 2.34e+01 at lambda: 3.12e-02, rho: 1.14e-01\r",
      "P:   0 R:   9 T:   6  psnr: 2.34e+01 at lambda: 3.12e-02, rho: 1.14e-01\r",
      "P:   1 R:   8 T:   7  psnr: 2.34e+01 at lambda: 3.12e-02, rho: 1.14e-01\r",
      "P:   0 R:   9 T:   7  psnr: 2.34e+01 at lambda: 3.12e-02, rho: 1.14e-01\r",
      "P:   1 R:   8 T:   8  psnr: 2.34e+01 at lambda: 3.12e-02, rho: 1.14e-01\r",
      "P:   0 R:   9 T:   8  psnr: 2.34e+01 at lambda: 3.12e-02, rho: 1.14e-01\r",
      "P:   1 R:   9 T:   8  psnr: 2.34e+01 at lambda: 3.12e-02, rho: 1.14e-01\r"
     ]
    },
    {
     "name": "stdout",
     "output_type": "stream",
     "text": [
      "P:   0 R:  10 T:   8  psnr: 2.34e+01 at lambda: 3.12e-02, rho: 1.14e-01\r",
      "P:   1 R:  10 T:   8  psnr: 2.34e+01 at lambda: 3.12e-02, rho: 1.14e-01\r"
     ]
    },
    {
     "name": "stdout",
     "output_type": "stream",
     "text": [
      "P:   0 R:  11 T:   8  psnr: 2.34e+01 at lambda: 3.12e-02, rho: 1.14e-01\r",
      "P:   1 R:  10 T:   9  psnr: 2.34e+01 at lambda: 3.12e-02, rho: 1.14e-01\r",
      "P:   0 R:  11 T:   9  psnr: 2.34e+01 at lambda: 3.12e-02, rho: 1.14e-01\r",
      "P:   1 R:  10 T:  10  psnr: 2.34e+01 at lambda: 3.12e-02, rho: 1.14e-01\r",
      "P:   0 R:  11 T:  10  psnr: 2.34e+01 at lambda: 3.12e-02, rho: 1.14e-01\r",
      "P:   1 R:  10 T:  11  psnr: 2.34e+01 at lambda: 3.12e-02, rho: 1.14e-01\r",
      "P:   0 R:  11 T:  11  psnr: 2.34e+01 at lambda: 3.12e-02, rho: 1.14e-01\r",
      "P:   1 R:  10 T:  12  psnr: 2.34e+01 at lambda: 3.12e-02, rho: 1.14e-01\r",
      "P:   0 R:  11 T:  12  psnr: 2.34e+01 at lambda: 3.12e-02, rho: 1.14e-01\r",
      "P:   1 R:  10 T:  13  psnr: 2.34e+01 at lambda: 3.12e-02, rho: 1.14e-01\r",
      "P:   0 R:  11 T:  13  psnr: 2.34e+01 at lambda: 3.12e-02, rho: 1.14e-01\r",
      "P:   1 R:  10 T:  14  psnr: 2.34e+01 at lambda: 3.12e-02, rho: 1.14e-01\r",
      "P:   0 R:  11 T:  14  psnr: 2.34e+01 at lambda: 3.12e-02, rho: 1.14e-01\r",
      "P:   1 R:  10 T:  15  psnr: 2.34e+01 at lambda: 3.12e-02, rho: 1.14e-01\r",
      "P:   0 R:  11 T:  15  psnr: 2.34e+01 at lambda: 3.12e-02, rho: 1.14e-01\r",
      "P:   1 R:  10 T:  16  psnr: 2.34e+01 at lambda: 3.12e-02, rho: 1.14e-01\r",
      "P:   0 R:  11 T:  16  psnr: 2.34e+01 at lambda: 3.12e-02, rho: 1.14e-01\r"
     ]
    },
    {
     "name": "stdout",
     "output_type": "stream",
     "text": [
      "P:   1 R:  10 T:  17  psnr: 2.34e+01 at lambda: 3.12e-02, rho: 1.14e-01\r",
      "P:   0 R:  11 T:  17  psnr: 2.34e+01 at lambda: 3.12e-02, rho: 1.14e-01\r",
      "P:   1 R:  11 T:  17  psnr: 2.34e+01 at lambda: 3.12e-02, rho: 1.14e-01\r"
     ]
    },
    {
     "name": "stdout",
     "output_type": "stream",
     "text": [
      "P:   0 R:  12 T:  17  psnr: 2.34e+01 at lambda: 3.12e-02, rho: 1.14e-01\r",
      "P:   1 R:  12 T:  17  psnr: 2.34e+01 at lambda: 3.12e-02, rho: 1.14e-01\r"
     ]
    },
    {
     "name": "stdout",
     "output_type": "stream",
     "text": [
      "P:   0 R:  13 T:  17  psnr: 2.34e+01 at lambda: 3.12e-02, rho: 1.14e-01\r",
      "P:   1 R:  13 T:  17  psnr: 2.34e+01 at lambda: 3.12e-02, rho: 1.14e-01\r"
     ]
    },
    {
     "name": "stdout",
     "output_type": "stream",
     "text": [
      "P:   0 R:  14 T:  17  psnr: 2.34e+01 at lambda: 3.12e-02, rho: 1.14e-01\r",
      "P:   1 R:  14 T:  17  psnr: 2.34e+01 at lambda: 3.12e-02, rho: 1.14e-01\r"
     ]
    },
    {
     "name": "stdout",
     "output_type": "stream",
     "text": [
      "P:   0 R:  15 T:  17  psnr: 2.34e+01 at lambda: 3.12e-02, rho: 1.14e-01\r",
      "P:   1 R:  15 T:  17  psnr: 2.34e+01 at lambda: 3.12e-02, rho: 1.14e-01\r"
     ]
    },
    {
     "name": "stdout",
     "output_type": "stream",
     "text": [
      "P:   0 R:  16 T:  17  psnr: 2.34e+01 at lambda: 3.12e-02, rho: 1.14e-01\r",
      "P:   1 R:  15 T:  18  psnr: 2.34e+01 at lambda: 3.12e-02, rho: 1.14e-01\r",
      "P:   0 R:  16 T:  18  psnr: 2.34e+01 at lambda: 3.12e-02, rho: 1.14e-01\r",
      "P:   1 R:  16 T:  18  psnr: 2.34e+01 at lambda: 3.12e-02, rho: 1.14e-01\r"
     ]
    },
    {
     "name": "stdout",
     "output_type": "stream",
     "text": [
      "P:   0 R:  17 T:  18  psnr: 2.34e+01 at lambda: 3.12e-02, rho: 1.14e-01\r",
      "P:   1 R:  17 T:  18  psnr: 2.34e+01 at lambda: 3.12e-02, rho: 1.14e-01\r",
      "P:   1 R:  17 T:  18  psnr: 2.34e+01 at lambda: 3.12e-02, rho: 1.14e-01\r"
     ]
    },
    {
     "name": "stdout",
     "output_type": "stream",
     "text": [
      "P:   0 R:  18 T:  18  psnr: 2.34e+01 at lambda: 3.12e-02, rho: 1.14e-01\r",
      "P:   1 R:  18 T:  18  psnr: 2.34e+01 at lambda: 3.12e-02, rho: 1.14e-01\r"
     ]
    },
    {
     "name": "stdout",
     "output_type": "stream",
     "text": [
      "P:   0 R:  19 T:  18  psnr: 2.34e+01 at lambda: 3.12e-02, rho: 1.14e-01\r",
      "P:   1 R:  19 T:  18  psnr: 2.34e+01 at lambda: 3.12e-02, rho: 1.14e-01\r"
     ]
    },
    {
     "name": "stdout",
     "output_type": "stream",
     "text": [
      "P:   0 R:  20 T:  18  psnr: 2.34e+01 at lambda: 3.12e-02, rho: 1.14e-01\r",
      "P:   1 R:  19 T:  19  psnr: 2.34e+01 at lambda: 3.12e-02, rho: 1.14e-01\r",
      "P:   0 R:  20 T:  19  psnr: 2.34e+01 at lambda: 3.12e-02, rho: 1.14e-01\r",
      "P:   1 R:  20 T:  19  psnr: 2.34e+01 at lambda: 3.12e-02, rho: 1.14e-01\r",
      "P:   1 R:  20 T:  19  psnr: 2.34e+01 at lambda: 3.12e-02, rho: 1.14e-01\r",
      "P:   1 R:  20 T:  19  psnr: 2.34e+01 at lambda: 3.12e-02, rho: 1.14e-01\r",
      "P:   1 R:  19 T:  20  psnr: 2.34e+01 at lambda: 3.12e-02, rho: 1.14e-01\r",
      "P:   0 R:  20 T:  20  psnr: 2.34e+01 at lambda: 3.12e-02, rho: 1.14e-01\r",
      "P:   1 R:  19 T:  21  psnr: 2.34e+01 at lambda: 3.12e-02, rho: 1.14e-01\r",
      "P:   0 R:  20 T:  21  psnr: 2.34e+01 at lambda: 3.12e-02, rho: 1.14e-01\r",
      "P:   1 R:  19 T:  22  psnr: 2.34e+01 at lambda: 3.12e-02, rho: 1.14e-01\r",
      "P:   0 R:  20 T:  22  psnr: 2.34e+01 at lambda: 3.12e-02, rho: 1.14e-01\r",
      "P:   1 R:  20 T:  22  psnr: 2.34e+01 at lambda: 3.12e-02, rho: 1.14e-01\r",
      "P:   1 R:  19 T:  23  psnr: 2.34e+01 at lambda: 3.12e-02, rho: 1.14e-01\r",
      "P:   0 R:  20 T:  23  psnr: 2.34e+01 at lambda: 3.12e-02, rho: 1.14e-01\r",
      "P:   1 R:  19 T:  24  psnr: 2.34e+01 at lambda: 3.12e-02, rho: 1.14e-01\r",
      "P:   0 R:  20 T:  24  psnr: 2.34e+01 at lambda: 3.12e-02, rho: 1.14e-01\r",
      "P:   1 R:  20 T:  24  psnr: 2.34e+01 at lambda: 3.12e-02, rho: 1.14e-01\r"
     ]
    },
    {
     "name": "stdout",
     "output_type": "stream",
     "text": [
      "P:   1 R:  20 T:  24  psnr: 2.34e+01 at lambda: 3.12e-02, rho: 1.14e-01\r",
      "P:   1 R:  19 T:  25  psnr: 2.34e+01 at lambda: 3.12e-02, rho: 1.14e-01\r",
      "P:   0 R:  20 T:  25  psnr: 2.34e+01 at lambda: 3.12e-02, rho: 1.14e-01\r",
      "P:   1 R:  20 T:  25  psnr: 2.34e+01 at lambda: 3.12e-02, rho: 1.14e-01\r",
      "P:   1 R:  20 T:  25  psnr: 2.34e+01 at lambda: 3.12e-02, rho: 1.14e-01\r",
      "P:   1 R:  20 T:  25  psnr: 2.34e+01 at lambda: 3.12e-02, rho: 1.14e-01\r",
      "P:   1 R:  19 T:  26  psnr: 2.34e+01 at lambda: 3.12e-02, rho: 1.14e-01\r",
      "P:   0 R:  20 T:  26  psnr: 2.34e+01 at lambda: 3.12e-02, rho: 1.14e-01\r",
      "P:   1 R:  19 T:  27  psnr: 2.34e+01 at lambda: 3.12e-02, rho: 1.14e-01\r",
      "P:   0 R:  20 T:  27  psnr: 2.34e+01 at lambda: 3.12e-02, rho: 1.14e-01\r"
     ]
    },
    {
     "name": "stdout",
     "output_type": "stream",
     "text": [
      "P:   1 R:  20 T:  27  psnr: 2.34e+01 at lambda: 3.12e-02, rho: 1.14e-01\r",
      "P:   1 R:  20 T:  27  psnr: 2.34e+01 at lambda: 3.12e-02, rho: 1.14e-01\r"
     ]
    },
    {
     "name": "stdout",
     "output_type": "stream",
     "text": [
      "P:   1 R:  20 T:  27  psnr: 2.34e+01 at lambda: 3.12e-02, rho: 1.14e-01\r",
      "P:   1 R:  19 T:  28  psnr: 2.34e+01 at lambda: 3.12e-02, rho: 1.14e-01\r",
      "P:   0 R:  20 T:  28  psnr: 2.34e+01 at lambda: 3.12e-02, rho: 1.14e-01\r",
      "P:   1 R:  20 T:  28  psnr: 2.34e+01 at lambda: 2.53e-02, rho: 1.00e-01\r",
      "P:   1 R:  20 T:  28  psnr: 2.34e+01 at lambda: 2.53e-02, rho: 1.00e-01\r",
      "P:   1 R:  20 T:  28  psnr: 2.34e+01 at lambda: 3.07e-02, rho: 1.03e-01\r",
      "P:   1 R:  20 T:  28  psnr: 2.34e+01 at lambda: 3.07e-02, rho: 1.03e-01\r"
     ]
    },
    {
     "name": "stdout",
     "output_type": "stream",
     "text": [
      "P:   1 R:  20 T:  28  psnr: 2.34e+01 at lambda: 3.07e-02, rho: 1.03e-01\r",
      "P:   1 R:  19 T:  29  psnr: 2.34e+01 at lambda: 3.07e-02, rho: 1.03e-01\r",
      "P:   0 R:  20 T:  29  psnr: 2.34e+01 at lambda: 3.07e-02, rho: 1.03e-01\r",
      "P:   1 R:  20 T:  29  psnr: 2.34e+01 at lambda: 3.07e-02, rho: 1.03e-01\r",
      "P:   1 R:  20 T:  29  psnr: 2.34e+01 at lambda: 3.07e-02, rho: 1.03e-01\r",
      "P:   1 R:  20 T:  29  psnr: 2.34e+01 at lambda: 3.07e-02, rho: 1.03e-01\r"
     ]
    },
    {
     "name": "stdout",
     "output_type": "stream",
     "text": [
      "P:   1 R:  20 T:  29  psnr: 2.34e+01 at lambda: 3.07e-02, rho: 1.03e-01\r",
      "P:   1 R:  19 T:  30  psnr: 2.34e+01 at lambda: 3.07e-02, rho: 1.03e-01\r",
      "P:   0 R:  20 T:  30  psnr: 2.34e+01 at lambda: 3.07e-02, rho: 1.03e-01\r",
      "P:   1 R:  20 T:  30  psnr: 2.34e+01 at lambda: 3.07e-02, rho: 1.03e-01\r"
     ]
    },
    {
     "name": "stdout",
     "output_type": "stream",
     "text": [
      "P:   1 R:  20 T:  30  psnr: 2.34e+01 at lambda: 2.53e-02, rho: 1.00e-01\r",
      "P:   1 R:  20 T:  30  psnr: 2.34e+01 at lambda: 2.53e-02, rho: 1.00e-01\r"
     ]
    },
    {
     "name": "stdout",
     "output_type": "stream",
     "text": [
      "P:   1 R:  20 T:  30  psnr: 2.34e+01 at lambda: 2.53e-02, rho: 1.00e-01\r",
      "P:   1 R:  20 T:  30  psnr: 2.34e+01 at lambda: 2.53e-02, rho: 1.00e-01\r",
      "P:   1 R:  20 T:  30  psnr: 2.34e+01 at lambda: 2.53e-02, rho: 1.00e-01\r",
      "P:   1 R:  20 T:  30  psnr: 2.34e+01 at lambda: 2.53e-02, rho: 1.00e-01\r"
     ]
    },
    {
     "name": "stdout",
     "output_type": "stream",
     "text": [
      "P:   1 R:  20 T:  30  psnr: 2.34e+01 at lambda: 2.53e-02, rho: 1.00e-01\r",
      "P:   1 R:  20 T:  30  psnr: 2.34e+01 at lambda: 2.53e-02, rho: 1.00e-01\r"
     ]
    },
    {
     "name": "stdout",
     "output_type": "stream",
     "text": [
      "P:   1 R:  20 T:  30  psnr: 2.34e+01 at lambda: 2.53e-02, rho: 1.00e-01\r",
      "P:   1 R:  20 T:  30  psnr: 2.34e+01 at lambda: 2.53e-02, rho: 1.00e-01\r",
      "P:   1 R:  19 T:  31  psnr: 2.34e+01 at lambda: 2.53e-02, rho: 1.00e-01\r",
      "P:   0 R:  20 T:  31  psnr: 2.34e+01 at lambda: 2.53e-02, rho: 1.00e-01\r",
      "P:   1 R:  20 T:  31  psnr: 2.34e+01 at lambda: 3.07e-02, rho: 1.03e-01\r",
      "P:   1 R:  19 T:  32  psnr: 2.34e+01 at lambda: 3.07e-02, rho: 1.03e-01\r",
      "P:   0 R:  20 T:  32  psnr: 2.34e+01 at lambda: 3.07e-02, rho: 1.03e-01\r",
      "P:   1 R:  20 T:  32  psnr: 2.34e+01 at lambda: 3.07e-02, rho: 1.03e-01\r"
     ]
    },
    {
     "name": "stdout",
     "output_type": "stream",
     "text": [
      "P:   1 R:  20 T:  32  psnr: 2.34e+01 at lambda: 3.12e-02, rho: 1.14e-01\r",
      "P:   1 R:  19 T:  33  psnr: 2.34e+01 at lambda: 3.12e-02, rho: 1.14e-01\r",
      "P:   0 R:  20 T:  33  psnr: 2.34e+01 at lambda: 3.12e-02, rho: 1.14e-01\r",
      "P:   1 R:  20 T:  33  psnr: 2.34e+01 at lambda: 3.12e-02, rho: 1.14e-01\r"
     ]
    },
    {
     "name": "stdout",
     "output_type": "stream",
     "text": [
      "P:   1 R:  20 T:  33  psnr: 2.34e+01 at lambda: 3.12e-02, rho: 1.14e-01\r",
      "P:   1 R:  19 T:  34  psnr: 2.34e+01 at lambda: 3.12e-02, rho: 1.14e-01\r",
      "P:   0 R:  20 T:  34  psnr: 2.34e+01 at lambda: 3.12e-02, rho: 1.14e-01\r",
      "P:   1 R:  20 T:  34  psnr: 2.34e+01 at lambda: 3.12e-02, rho: 1.14e-01\r",
      "P:   1 R:  20 T:  34  psnr: 2.34e+01 at lambda: 3.12e-02, rho: 1.14e-01\r"
     ]
    },
    {
     "name": "stdout",
     "output_type": "stream",
     "text": [
      "P:   1 R:  20 T:  34  psnr: 2.34e+01 at lambda: 3.12e-02, rho: 1.14e-01\r",
      "P:   1 R:  20 T:  34  psnr: 2.34e+01 at lambda: 3.12e-02, rho: 1.14e-01\r",
      "P:   1 R:  19 T:  35  psnr: 2.34e+01 at lambda: 3.12e-02, rho: 1.14e-01\r",
      "P:   0 R:  20 T:  35  psnr: 2.34e+01 at lambda: 3.12e-02, rho: 1.14e-01\r",
      "P:   1 R:  19 T:  36  psnr: 2.34e+01 at lambda: 3.12e-02, rho: 1.14e-01\r"
     ]
    },
    {
     "name": "stdout",
     "output_type": "stream",
     "text": [
      "P:   0 R:  20 T:  36  psnr: 2.34e+01 at lambda: 3.12e-02, rho: 1.14e-01\r",
      "P:   1 R:  19 T:  37  psnr: 2.34e+01 at lambda: 3.12e-02, rho: 1.14e-01\r",
      "P:   0 R:  20 T:  37  psnr: 2.34e+01 at lambda: 3.12e-02, rho: 1.14e-01\r",
      "P:   1 R:  20 T:  37  psnr: 2.34e+01 at lambda: 3.12e-02, rho: 1.14e-01\r",
      "P:   1 R:  19 T:  38  psnr: 2.34e+01 at lambda: 3.12e-02, rho: 1.14e-01\r"
     ]
    },
    {
     "name": "stdout",
     "output_type": "stream",
     "text": [
      "P:   0 R:  20 T:  38  psnr: 2.34e+01 at lambda: 3.12e-02, rho: 1.14e-01\r",
      "P:   1 R:  19 T:  39  psnr: 2.34e+01 at lambda: 3.12e-02, rho: 1.14e-01\r",
      "P:   0 R:  20 T:  39  psnr: 2.34e+01 at lambda: 3.12e-02, rho: 1.14e-01\r"
     ]
    },
    {
     "name": "stdout",
     "output_type": "stream",
     "text": [
      "P:   1 R:  20 T:  39  psnr: 2.34e+01 at lambda: 3.12e-02, rho: 1.14e-01\r",
      "P:   1 R:  20 T:  39  psnr: 2.34e+01 at lambda: 3.12e-02, rho: 1.14e-01\r"
     ]
    },
    {
     "name": "stdout",
     "output_type": "stream",
     "text": [
      "P:   1 R:  20 T:  39  psnr: 2.34e+01 at lambda: 3.12e-02, rho: 1.14e-01\r",
      "P:   1 R:  19 T:  40  psnr: 2.34e+01 at lambda: 3.12e-02, rho: 1.14e-01\r",
      "P:   0 R:  20 T:  40  psnr: 2.34e+01 at lambda: 3.12e-02, rho: 1.14e-01\r",
      "P:   1 R:  20 T:  40  psnr: 2.34e+01 at lambda: 3.12e-02, rho: 1.14e-01\r"
     ]
    },
    {
     "name": "stdout",
     "output_type": "stream",
     "text": [
      "P:   1 R:  19 T:  41  psnr: 2.34e+01 at lambda: 3.12e-02, rho: 1.14e-01\r",
      "P:   0 R:  20 T:  41  psnr: 2.34e+01 at lambda: 3.12e-02, rho: 1.14e-01\r",
      "P:   1 R:  20 T:  41  psnr: 2.34e+01 at lambda: 3.12e-02, rho: 1.14e-01\r",
      "P:   1 R:  19 T:  42  psnr: 2.34e+01 at lambda: 3.12e-02, rho: 1.14e-01\r",
      "P:   0 R:  20 T:  42  psnr: 2.34e+01 at lambda: 3.12e-02, rho: 1.14e-01\r",
      "P:   1 R:  19 T:  43  psnr: 2.34e+01 at lambda: 3.12e-02, rho: 1.14e-01\r",
      "P:   0 R:  20 T:  43  psnr: 2.34e+01 at lambda: 3.12e-02, rho: 1.14e-01\r"
     ]
    },
    {
     "name": "stdout",
     "output_type": "stream",
     "text": [
      "P:   1 R:  19 T:  44  psnr: 2.34e+01 at lambda: 3.12e-02, rho: 1.14e-01\r",
      "P:   0 R:  20 T:  44  psnr: 2.34e+01 at lambda: 3.12e-02, rho: 1.14e-01\r",
      "P:   1 R:  20 T:  44  psnr: 2.34e+01 at lambda: 3.12e-02, rho: 1.14e-01\r",
      "P:   1 R:  19 T:  45  psnr: 2.34e+01 at lambda: 3.12e-02, rho: 1.14e-01\r",
      "P:   0 R:  20 T:  45  psnr: 2.34e+01 at lambda: 3.12e-02, rho: 1.14e-01\r"
     ]
    },
    {
     "name": "stdout",
     "output_type": "stream",
     "text": [
      "P:   1 R:  20 T:  45  psnr: 2.34e+01 at lambda: 3.12e-02, rho: 1.14e-01\r",
      "P:   1 R:  20 T:  45  psnr: 2.34e+01 at lambda: 3.12e-02, rho: 1.14e-01\r",
      "P:   1 R:  20 T:  45  psnr: 2.34e+01 at lambda: 3.12e-02, rho: 1.14e-01\r"
     ]
    },
    {
     "name": "stdout",
     "output_type": "stream",
     "text": [
      "P:   1 R:  20 T:  45  psnr: 2.34e+01 at lambda: 3.12e-02, rho: 1.14e-01\r",
      "P:   1 R:  20 T:  45  psnr: 2.34e+01 at lambda: 3.12e-02, rho: 1.14e-01\r",
      "P:   1 R:  20 T:  45  psnr: 2.34e+01 at lambda: 3.12e-02, rho: 1.14e-01\r",
      "P:   1 R:  20 T:  45  psnr: 2.34e+01 at lambda: 3.12e-02, rho: 1.14e-01\r"
     ]
    },
    {
     "name": "stdout",
     "output_type": "stream",
     "text": [
      "P:   1 R:  20 T:  45  psnr: 2.34e+01 at lambda: 3.12e-02, rho: 1.14e-01\r",
      "P:   1 R:  20 T:  45  psnr: 2.34e+01 at lambda: 3.12e-02, rho: 1.14e-01\r",
      "P:   1 R:  20 T:  45  psnr: 2.34e+01 at lambda: 3.12e-02, rho: 1.14e-01\r"
     ]
    },
    {
     "name": "stdout",
     "output_type": "stream",
     "text": [
      "P:   1 R:  19 T:  46  psnr: 2.34e+01 at lambda: 3.12e-02, rho: 1.14e-01\r",
      "P:   0 R:  20 T:  46  psnr: 2.34e+01 at lambda: 3.12e-02, rho: 1.14e-01\r",
      "P:   1 R:  20 T:  46  psnr: 2.34e+01 at lambda: 3.12e-02, rho: 1.14e-01\r",
      "P:   1 R:  19 T:  47  psnr: 2.34e+01 at lambda: 3.12e-02, rho: 1.14e-01\r",
      "P:   0 R:  20 T:  47  psnr: 2.34e+01 at lambda: 3.12e-02, rho: 1.14e-01\r"
     ]
    },
    {
     "name": "stdout",
     "output_type": "stream",
     "text": [
      "P:   1 R:  20 T:  47  psnr: 2.34e+01 at lambda: 3.12e-02, rho: 1.14e-01\r",
      "P:   1 R:  20 T:  47  psnr: 2.34e+01 at lambda: 3.12e-02, rho: 1.14e-01\r",
      "P:   1 R:  20 T:  47  psnr: 2.34e+01 at lambda: 3.12e-02, rho: 1.14e-01\r"
     ]
    },
    {
     "name": "stdout",
     "output_type": "stream",
     "text": [
      "P:   1 R:  19 T:  48  psnr: 2.34e+01 at lambda: 3.12e-02, rho: 1.14e-01\r",
      "P:   0 R:  20 T:  48  psnr: 2.34e+01 at lambda: 3.12e-02, rho: 1.14e-01\r",
      "P:   1 R:  20 T:  48  psnr: 2.34e+01 at lambda: 3.12e-02, rho: 1.14e-01\r",
      "P:   1 R:  20 T:  48  psnr: 2.34e+01 at lambda: 3.12e-02, rho: 1.14e-01\r"
     ]
    },
    {
     "name": "stdout",
     "output_type": "stream",
     "text": [
      "P:   1 R:  20 T:  48  psnr: 2.34e+01 at lambda: 3.12e-02, rho: 1.14e-01\r",
      "P:   1 R:  19 T:  49  psnr: 2.34e+01 at lambda: 3.12e-02, rho: 1.14e-01\r",
      "P:   0 R:  20 T:  49  psnr: 2.34e+01 at lambda: 3.12e-02, rho: 1.14e-01\r",
      "P:   1 R:  20 T:  49  psnr: 2.34e+01 at lambda: 3.12e-02, rho: 1.14e-01\r",
      "P:   1 R:  20 T:  49  psnr: 2.34e+01 at lambda: 3.12e-02, rho: 1.14e-01\r",
      "P:   1 R:  20 T:  49  psnr: 2.34e+01 at lambda: 3.12e-02, rho: 1.14e-01\r"
     ]
    },
    {
     "name": "stdout",
     "output_type": "stream",
     "text": [
      "P:   1 R:  20 T:  49  psnr: 2.34e+01 at lambda: 3.12e-02, rho: 1.14e-01\r",
      "P:   1 R:  20 T:  49  psnr: 2.34e+01 at lambda: 3.12e-02, rho: 1.14e-01\r",
      "P:   1 R:  20 T:  49  psnr: 2.34e+01 at lambda: 3.12e-02, rho: 1.14e-01\r"
     ]
    },
    {
     "name": "stdout",
     "output_type": "stream",
     "text": [
      "P:   1 R:  20 T:  49  psnr: 2.34e+01 at lambda: 3.12e-02, rho: 1.14e-01\r",
      "P:   1 R:  20 T:  49  psnr: 2.34e+01 at lambda: 3.12e-02, rho: 1.14e-01\r",
      "P:   1 R:  20 T:  49  psnr: 2.34e+01 at lambda: 3.12e-02, rho: 1.14e-01\r"
     ]
    },
    {
     "name": "stdout",
     "output_type": "stream",
     "text": [
      "P:   1 R:  20 T:  49  psnr: 2.34e+01 at lambda: 3.12e-02, rho: 1.14e-01\r",
      "P:   1 R:  19 T:  50  psnr: 2.34e+01 at lambda: 3.12e-02, rho: 1.14e-01\r",
      "P:   0 R:  20 T:  50  psnr: 2.34e+01 at lambda: 3.12e-02, rho: 1.14e-01\r",
      "P:   1 R:  19 T:  51  psnr: 2.34e+01 at lambda: 3.12e-02, rho: 1.14e-01\r",
      "P:   0 R:  20 T:  51  psnr: 2.34e+01 at lambda: 3.12e-02, rho: 1.14e-01\r",
      "P:   1 R:  20 T:  51  psnr: 2.34e+01 at lambda: 3.12e-02, rho: 1.14e-01\r"
     ]
    },
    {
     "name": "stdout",
     "output_type": "stream",
     "text": [
      "P:   1 R:  19 T:  52  psnr: 2.34e+01 at lambda: 3.12e-02, rho: 1.14e-01\r",
      "P:   0 R:  20 T:  52  psnr: 2.34e+01 at lambda: 3.12e-02, rho: 1.14e-01\r",
      "P:   1 R:  19 T:  53  psnr: 2.34e+01 at lambda: 3.12e-02, rho: 1.14e-01\r",
      "P:   0 R:  20 T:  53  psnr: 2.34e+01 at lambda: 3.12e-02, rho: 1.14e-01\r",
      "P:   1 R:  20 T:  53  psnr: 2.34e+01 at lambda: 3.12e-02, rho: 1.14e-01\r",
      "P:   1 R:  20 T:  53  psnr: 2.34e+01 at lambda: 3.12e-02, rho: 1.14e-01\r",
      "P:   1 R:  19 T:  54  psnr: 2.34e+01 at lambda: 3.12e-02, rho: 1.14e-01\r"
     ]
    },
    {
     "name": "stdout",
     "output_type": "stream",
     "text": [
      "P:   0 R:  20 T:  54  psnr: 2.34e+01 at lambda: 3.12e-02, rho: 1.14e-01\r",
      "P:   1 R:  20 T:  54  psnr: 2.34e+01 at lambda: 3.12e-02, rho: 1.14e-01\r",
      "P:   1 R:  20 T:  54  psnr: 2.34e+01 at lambda: 3.12e-02, rho: 1.14e-01\r",
      "P:   1 R:  20 T:  54  psnr: 2.34e+01 at lambda: 3.12e-02, rho: 1.14e-01\r",
      "P:   1 R:  20 T:  54  psnr: 2.34e+01 at lambda: 3.12e-02, rho: 1.14e-01\r"
     ]
    },
    {
     "name": "stdout",
     "output_type": "stream",
     "text": [
      "P:   1 R:  20 T:  54  psnr: 2.34e+01 at lambda: 3.12e-02, rho: 1.14e-01\r",
      "P:   1 R:  20 T:  54  psnr: 2.34e+01 at lambda: 3.12e-02, rho: 1.14e-01\r",
      "P:   1 R:  20 T:  54  psnr: 2.34e+01 at lambda: 3.12e-02, rho: 1.14e-01\r"
     ]
    },
    {
     "name": "stdout",
     "output_type": "stream",
     "text": [
      "P:   1 R:  20 T:  54  psnr: 2.34e+01 at lambda: 3.12e-02, rho: 1.14e-01\r",
      "P:   1 R:  20 T:  54  psnr: 2.34e+01 at lambda: 3.12e-02, rho: 1.14e-01\r",
      "P:   1 R:  20 T:  54  psnr: 2.34e+01 at lambda: 3.12e-02, rho: 1.14e-01\r"
     ]
    },
    {
     "name": "stdout",
     "output_type": "stream",
     "text": [
      "P:   1 R:  20 T:  54  psnr: 2.34e+01 at lambda: 3.12e-02, rho: 1.14e-01\r",
      "P:   1 R:  20 T:  54  psnr: 2.34e+01 at lambda: 3.12e-02, rho: 1.14e-01\r",
      "P:   1 R:  20 T:  54  psnr: 2.34e+01 at lambda: 3.12e-02, rho: 1.14e-01\r"
     ]
    },
    {
     "name": "stdout",
     "output_type": "stream",
     "text": [
      "P:   1 R:  20 T:  54  psnr: 2.34e+01 at lambda: 3.12e-02, rho: 1.14e-01\r",
      "P:   1 R:  19 T:  55  psnr: 2.34e+01 at lambda: 3.12e-02, rho: 1.14e-01\r",
      "P:   0 R:  20 T:  55  psnr: 2.34e+01 at lambda: 3.12e-02, rho: 1.14e-01\r",
      "P:   1 R:  20 T:  55  psnr: 2.34e+01 at lambda: 3.12e-02, rho: 1.14e-01\r",
      "P:   1 R:  20 T:  55  psnr: 2.34e+01 at lambda: 3.12e-02, rho: 1.14e-01\r",
      "P:   1 R:  19 T:  56  psnr: 2.34e+01 at lambda: 3.12e-02, rho: 1.14e-01\r",
      "P:   0 R:  20 T:  56  psnr: 2.34e+01 at lambda: 3.12e-02, rho: 1.14e-01\r",
      "P:   1 R:  20 T:  56  psnr: 2.34e+01 at lambda: 3.12e-02, rho: 1.14e-01\r",
      "P:   1 R:  19 T:  57  psnr: 2.34e+01 at lambda: 3.12e-02, rho: 1.14e-01\r",
      "P:   0 R:  20 T:  57  psnr: 2.34e+01 at lambda: 3.12e-02, rho: 1.14e-01\r"
     ]
    },
    {
     "name": "stdout",
     "output_type": "stream",
     "text": [
      "P:   1 R:  20 T:  57  psnr: 2.34e+01 at lambda: 3.12e-02, rho: 1.14e-01\r",
      "P:   1 R:  19 T:  58  psnr: 2.34e+01 at lambda: 3.12e-02, rho: 1.14e-01\r",
      "P:   0 R:  20 T:  58  psnr: 2.34e+01 at lambda: 3.12e-02, rho: 1.14e-01\r"
     ]
    },
    {
     "name": "stdout",
     "output_type": "stream",
     "text": [
      "P:   1 R:  20 T:  58  psnr: 2.34e+01 at lambda: 3.12e-02, rho: 1.14e-01\r",
      "P:   1 R:  20 T:  58  psnr: 2.34e+01 at lambda: 3.12e-02, rho: 1.14e-01\r",
      "P:   1 R:  20 T:  58  psnr: 2.34e+01 at lambda: 3.12e-02, rho: 1.14e-01\r",
      "P:   1 R:  20 T:  58  psnr: 2.34e+01 at lambda: 3.12e-02, rho: 1.14e-01\r",
      "P:   1 R:  19 T:  59  psnr: 2.34e+01 at lambda: 3.12e-02, rho: 1.14e-01\r",
      "P:   0 R:  20 T:  59  psnr: 2.34e+01 at lambda: 3.12e-02, rho: 1.14e-01\r",
      "P:   1 R:  19 T:  60  psnr: 2.34e+01 at lambda: 3.12e-02, rho: 1.14e-01\r",
      "P:   0 R:  20 T:  60  psnr: 2.34e+01 at lambda: 3.12e-02, rho: 1.14e-01\r",
      "P:   1 R:  19 T:  61  psnr: 2.34e+01 at lambda: 3.12e-02, rho: 1.14e-01\r"
     ]
    },
    {
     "name": "stdout",
     "output_type": "stream",
     "text": [
      "P:   0 R:  20 T:  61  psnr: 2.34e+01 at lambda: 3.12e-02, rho: 1.14e-01\r",
      "P:   1 R:  20 T:  61  psnr: 2.34e+01 at lambda: 3.12e-02, rho: 1.14e-01\r",
      "P:   1 R:  20 T:  61  psnr: 2.34e+01 at lambda: 3.12e-02, rho: 1.14e-01\r"
     ]
    },
    {
     "name": "stdout",
     "output_type": "stream",
     "text": [
      "P:   1 R:  20 T:  61  psnr: 2.34e+01 at lambda: 3.12e-02, rho: 1.14e-01\r",
      "P:   1 R:  20 T:  61  psnr: 2.34e+01 at lambda: 3.12e-02, rho: 1.14e-01\r",
      "P:   1 R:  20 T:  61  psnr: 2.34e+01 at lambda: 3.12e-02, rho: 1.14e-01\r"
     ]
    },
    {
     "name": "stdout",
     "output_type": "stream",
     "text": [
      "P:   1 R:  20 T:  61  psnr: 2.34e+01 at lambda: 3.12e-02, rho: 1.14e-01\r",
      "P:   1 R:  20 T:  61  psnr: 2.34e+01 at lambda: 3.12e-02, rho: 1.14e-01\r",
      "P:   1 R:  19 T:  62  psnr: 2.34e+01 at lambda: 3.12e-02, rho: 1.14e-01\r",
      "P:   0 R:  20 T:  62  psnr: 2.34e+01 at lambda: 3.12e-02, rho: 1.14e-01\r",
      "P:   1 R:  20 T:  62  psnr: 2.34e+01 at lambda: 3.12e-02, rho: 1.14e-01\r",
      "P:   1 R:  19 T:  63  psnr: 2.34e+01 at lambda: 3.12e-02, rho: 1.14e-01\r",
      "P:   0 R:  20 T:  63  psnr: 2.34e+01 at lambda: 3.12e-02, rho: 1.14e-01\r"
     ]
    },
    {
     "name": "stdout",
     "output_type": "stream",
     "text": [
      "P:   1 R:  19 T:  64  psnr: 2.34e+01 at lambda: 3.12e-02, rho: 1.14e-01\r",
      "P:   0 R:  20 T:  64  psnr: 2.34e+01 at lambda: 3.12e-02, rho: 1.14e-01\r"
     ]
    },
    {
     "name": "stdout",
     "output_type": "stream",
     "text": [
      "P:   1 R:  19 T:  65  psnr: 2.34e+01 at lambda: 3.12e-02, rho: 1.14e-01\r",
      "P:   0 R:  20 T:  65  psnr: 2.34e+01 at lambda: 3.12e-02, rho: 1.14e-01\r",
      "P:   1 R:  19 T:  66  psnr: 2.34e+01 at lambda: 3.12e-02, rho: 1.14e-01\r",
      "P:   0 R:  20 T:  66  psnr: 2.34e+01 at lambda: 3.12e-02, rho: 1.14e-01\r",
      "P:   1 R:  20 T:  66  psnr: 2.34e+01 at lambda: 3.12e-02, rho: 1.14e-01\r",
      "P:   1 R:  19 T:  67  psnr: 2.34e+01 at lambda: 3.12e-02, rho: 1.14e-01\r",
      "P:   0 R:  20 T:  67  psnr: 2.34e+01 at lambda: 3.12e-02, rho: 1.14e-01\r",
      "P:   1 R:  20 T:  67  psnr: 2.34e+01 at lambda: 3.12e-02, rho: 1.14e-01\r",
      "P:   1 R:  20 T:  67  psnr: 2.34e+01 at lambda: 3.12e-02, rho: 1.14e-01\r",
      "P:   1 R:  19 T:  68  psnr: 2.34e+01 at lambda: 3.12e-02, rho: 1.14e-01\r",
      "P:   0 R:  20 T:  68  psnr: 2.34e+01 at lambda: 3.12e-02, rho: 1.14e-01\r",
      "P:   1 R:  19 T:  69  psnr: 2.34e+01 at lambda: 3.12e-02, rho: 1.14e-01\r",
      "P:   0 R:  20 T:  69  psnr: 2.34e+01 at lambda: 3.12e-02, rho: 1.14e-01\r"
     ]
    },
    {
     "name": "stdout",
     "output_type": "stream",
     "text": [
      "P:   1 R:  20 T:  69  psnr: 2.34e+01 at lambda: 3.12e-02, rho: 1.14e-01\r",
      "P:   1 R:  20 T:  69  psnr: 2.34e+01 at lambda: 3.12e-02, rho: 1.14e-01\r"
     ]
    },
    {
     "name": "stdout",
     "output_type": "stream",
     "text": [
      "P:   1 R:  20 T:  69  psnr: 2.34e+01 at lambda: 3.12e-02, rho: 1.14e-01\r",
      "P:   1 R:  20 T:  69  psnr: 2.34e+01 at lambda: 3.12e-02, rho: 1.14e-01\r",
      "P:   1 R:  20 T:  69  psnr: 2.34e+01 at lambda: 3.12e-02, rho: 1.14e-01\r"
     ]
    },
    {
     "name": "stdout",
     "output_type": "stream",
     "text": [
      "P:   1 R:  20 T:  69  psnr: 2.34e+01 at lambda: 3.12e-02, rho: 1.14e-01\r",
      "P:   1 R:  20 T:  69  psnr: 2.34e+01 at lambda: 3.12e-02, rho: 1.14e-01\r",
      "P:   1 R:  19 T:  70  psnr: 2.34e+01 at lambda: 3.12e-02, rho: 1.14e-01\r",
      "P:   0 R:  20 T:  70  psnr: 2.34e+01 at lambda: 3.12e-02, rho: 1.14e-01\r"
     ]
    },
    {
     "name": "stdout",
     "output_type": "stream",
     "text": [
      "P:   1 R:  19 T:  71  psnr: 2.34e+01 at lambda: 3.12e-02, rho: 1.14e-01\r",
      "P:   0 R:  20 T:  71  psnr: 2.34e+01 at lambda: 3.12e-02, rho: 1.14e-01\r",
      "P:   1 R:  20 T:  71  psnr: 2.34e+01 at lambda: 3.12e-02, rho: 1.14e-01\r",
      "P:   1 R:  19 T:  72  psnr: 2.34e+01 at lambda: 3.12e-02, rho: 1.14e-01\r",
      "P:   0 R:  20 T:  72  psnr: 2.34e+01 at lambda: 3.12e-02, rho: 1.14e-01\r"
     ]
    },
    {
     "name": "stdout",
     "output_type": "stream",
     "text": [
      "P:   1 R:  19 T:  73  psnr: 2.34e+01 at lambda: 3.12e-02, rho: 1.14e-01\r",
      "P:   0 R:  20 T:  73  psnr: 2.34e+01 at lambda: 3.12e-02, rho: 1.14e-01\r",
      "P:   1 R:  20 T:  73  psnr: 2.34e+01 at lambda: 3.12e-02, rho: 1.14e-01\r"
     ]
    },
    {
     "name": "stdout",
     "output_type": "stream",
     "text": [
      "P:   1 R:  20 T:  73  psnr: 2.34e+01 at lambda: 3.12e-02, rho: 1.14e-01\r",
      "P:   1 R:  20 T:  73  psnr: 2.34e+01 at lambda: 3.12e-02, rho: 1.14e-01\r",
      "P:   1 R:  20 T:  73  psnr: 2.34e+01 at lambda: 3.12e-02, rho: 1.14e-01\r",
      "P:   1 R:  19 T:  74  psnr: 2.34e+01 at lambda: 3.12e-02, rho: 1.14e-01\r",
      "P:   0 R:  20 T:  74  psnr: 2.34e+01 at lambda: 3.12e-02, rho: 1.14e-01\r"
     ]
    },
    {
     "name": "stdout",
     "output_type": "stream",
     "text": [
      "P:   1 R:  19 T:  75  psnr: 2.34e+01 at lambda: 3.12e-02, rho: 1.14e-01\r",
      "P:   0 R:  20 T:  75  psnr: 2.34e+01 at lambda: 3.12e-02, rho: 1.14e-01\r",
      "P:   1 R:  20 T:  75  psnr: 2.34e+01 at lambda: 3.12e-02, rho: 1.14e-01\r",
      "P:   1 R:  20 T:  75  psnr: 2.34e+01 at lambda: 3.12e-02, rho: 1.14e-01\r"
     ]
    },
    {
     "name": "stdout",
     "output_type": "stream",
     "text": [
      "P:   1 R:  20 T:  75  psnr: 2.34e+01 at lambda: 3.12e-02, rho: 1.14e-01\r",
      "P:   1 R:  19 T:  76  psnr: 2.34e+01 at lambda: 3.12e-02, rho: 1.14e-01\r",
      "P:   0 R:  20 T:  76  psnr: 2.34e+01 at lambda: 3.12e-02, rho: 1.14e-01\r",
      "P:   1 R:  19 T:  77  psnr: 2.34e+01 at lambda: 3.12e-02, rho: 1.14e-01\r",
      "P:   0 R:  20 T:  77  psnr: 2.34e+01 at lambda: 3.12e-02, rho: 1.14e-01\r"
     ]
    },
    {
     "name": "stdout",
     "output_type": "stream",
     "text": [
      "P:   1 R:  20 T:  77  psnr: 2.34e+01 at lambda: 3.12e-02, rho: 1.14e-01\r",
      "P:   1 R:  20 T:  77  psnr: 2.34e+01 at lambda: 3.12e-02, rho: 1.14e-01\r",
      "P:   1 R:  20 T:  77  psnr: 2.34e+01 at lambda: 3.12e-02, rho: 1.14e-01\r",
      "P:   1 R:  19 T:  78  psnr: 2.34e+01 at lambda: 3.12e-02, rho: 1.14e-01\r"
     ]
    },
    {
     "name": "stdout",
     "output_type": "stream",
     "text": [
      "P:   0 R:  20 T:  78  psnr: 2.34e+01 at lambda: 3.12e-02, rho: 1.14e-01\r",
      "P:   1 R:  19 T:  79  psnr: 2.34e+01 at lambda: 3.12e-02, rho: 1.14e-01\r",
      "P:   0 R:  20 T:  79  psnr: 2.34e+01 at lambda: 3.12e-02, rho: 1.14e-01\r"
     ]
    },
    {
     "name": "stdout",
     "output_type": "stream",
     "text": [
      "P:   1 R:  20 T:  79  psnr: 2.34e+01 at lambda: 3.12e-02, rho: 1.14e-01\r",
      "P:   1 R:  20 T:  79  psnr: 2.34e+01 at lambda: 3.12e-02, rho: 1.14e-01\r",
      "P:   1 R:  19 T:  80  psnr: 2.34e+01 at lambda: 3.12e-02, rho: 1.14e-01\r",
      "P:   0 R:  20 T:  80  psnr: 2.34e+01 at lambda: 3.12e-02, rho: 1.14e-01\r",
      "P:   0 R:  20 T:  80  psnr: 2.34e+01 at lambda: 3.01e-02, rho: 1.14e-01\r"
     ]
    },
    {
     "name": "stdout",
     "output_type": "stream",
     "text": [
      "P:   0 R:  19 T:  81  psnr: 2.34e+01 at lambda: 3.01e-02, rho: 1.14e-01\r",
      "P:   0 R:  18 T:  82  psnr: 2.34e+01 at lambda: 3.01e-02, rho: 1.14e-01\r",
      "P:   0 R:  17 T:  83  psnr: 2.34e+01 at lambda: 3.01e-02, rho: 1.14e-01\r"
     ]
    },
    {
     "name": "stdout",
     "output_type": "stream",
     "text": [
      "P:   0 R:  17 T:  83  psnr: 2.34e+01 at lambda: 3.01e-02, rho: 1.14e-01\r",
      "P:   0 R:  16 T:  84  psnr: 2.34e+01 at lambda: 3.01e-02, rho: 1.14e-01\r"
     ]
    },
    {
     "name": "stdout",
     "output_type": "stream",
     "text": [
      "P:   0 R:  16 T:  84  psnr: 2.34e+01 at lambda: 3.01e-02, rho: 1.14e-01\r",
      "P:   0 R:  16 T:  84  psnr: 2.34e+01 at lambda: 3.01e-02, rho: 1.14e-01\r",
      "P:   0 R:  15 T:  85  psnr: 2.34e+01 at lambda: 3.01e-02, rho: 1.14e-01\r",
      "P:   0 R:  14 T:  86  psnr: 2.34e+01 at lambda: 3.01e-02, rho: 1.14e-01\r"
     ]
    },
    {
     "name": "stdout",
     "output_type": "stream",
     "text": [
      "P:   0 R:  14 T:  86  psnr: 2.34e+01 at lambda: 3.01e-02, rho: 1.14e-01\r",
      "P:   0 R:  13 T:  87  psnr: 2.34e+01 at lambda: 3.01e-02, rho: 1.14e-01\r"
     ]
    },
    {
     "name": "stdout",
     "output_type": "stream",
     "text": [
      "P:   0 R:  13 T:  87  psnr: 2.34e+01 at lambda: 3.01e-02, rho: 1.14e-01\r",
      "P:   0 R:  13 T:  87  psnr: 2.34e+01 at lambda: 3.01e-02, rho: 1.14e-01\r",
      "P:   0 R:  13 T:  87  psnr: 2.34e+01 at lambda: 3.01e-02, rho: 1.14e-01\r",
      "P:   0 R:  12 T:  88  psnr: 2.34e+01 at lambda: 3.01e-02, rho: 1.14e-01\r"
     ]
    },
    {
     "name": "stdout",
     "output_type": "stream",
     "text": [
      "P:   0 R:  12 T:  88  psnr: 2.34e+01 at lambda: 3.01e-02, rho: 1.14e-01\r",
      "P:   0 R:  11 T:  89  psnr: 2.34e+01 at lambda: 3.01e-02, rho: 1.14e-01\r",
      "P:   0 R:  11 T:  89  psnr: 2.34e+01 at lambda: 3.01e-02, rho: 1.14e-01\r",
      "P:   0 R:  10 T:  90  psnr: 2.34e+01 at lambda: 3.01e-02, rho: 1.14e-01\r"
     ]
    },
    {
     "name": "stdout",
     "output_type": "stream",
     "text": [
      "P:   0 R:  10 T:  90  psnr: 2.34e+01 at lambda: 3.01e-02, rho: 1.14e-01\r",
      "P:   0 R:  10 T:  90  psnr: 2.34e+01 at lambda: 3.01e-02, rho: 1.14e-01\r",
      "P:   0 R:   9 T:  91  psnr: 2.34e+01 at lambda: 3.01e-02, rho: 1.14e-01\r",
      "P:   0 R:   8 T:  92  psnr: 2.34e+01 at lambda: 3.01e-02, rho: 1.14e-01\r"
     ]
    },
    {
     "name": "stdout",
     "output_type": "stream",
     "text": [
      "P:   0 R:   7 T:  93  psnr: 2.34e+01 at lambda: 3.01e-02, rho: 1.14e-01\r",
      "P:   0 R:   7 T:  93  psnr: 2.34e+01 at lambda: 3.01e-02, rho: 1.14e-01\r",
      "P:   0 R:   7 T:  93  psnr: 2.34e+01 at lambda: 3.01e-02, rho: 1.14e-01\r",
      "P:   0 R:   6 T:  94  psnr: 2.34e+01 at lambda: 3.01e-02, rho: 1.14e-01\r",
      "P:   0 R:   6 T:  94  psnr: 2.34e+01 at lambda: 3.01e-02, rho: 1.14e-01\r"
     ]
    },
    {
     "name": "stdout",
     "output_type": "stream",
     "text": [
      "P:   0 R:   6 T:  94  psnr: 2.34e+01 at lambda: 3.01e-02, rho: 1.14e-01\r",
      "P:   0 R:   6 T:  94  psnr: 2.34e+01 at lambda: 3.01e-02, rho: 1.14e-01\r"
     ]
    },
    {
     "name": "stdout",
     "output_type": "stream",
     "text": [
      "P:   0 R:   5 T:  95  psnr: 2.34e+01 at lambda: 3.01e-02, rho: 1.14e-01\r",
      "P:   0 R:   5 T:  95  psnr: 2.34e+01 at lambda: 3.01e-02, rho: 1.14e-01\r",
      "P:   0 R:   5 T:  95  psnr: 2.34e+01 at lambda: 3.01e-02, rho: 1.14e-01\r",
      "P:   0 R:   4 T:  96  psnr: 2.34e+01 at lambda: 3.01e-02, rho: 1.14e-01\r"
     ]
    },
    {
     "name": "stdout",
     "output_type": "stream",
     "text": [
      "P:   0 R:   4 T:  96  psnr: 2.34e+01 at lambda: 3.01e-02, rho: 1.14e-01\r",
      "P:   0 R:   3 T:  97  psnr: 2.34e+01 at lambda: 3.01e-02, rho: 1.14e-01\r",
      "P:   0 R:   2 T:  98  psnr: 2.34e+01 at lambda: 3.01e-02, rho: 1.14e-01\r"
     ]
    },
    {
     "name": "stdout",
     "output_type": "stream",
     "text": [
      "P:   0 R:   1 T:  99  psnr: 2.34e+01 at lambda: 3.01e-02, rho: 1.14e-01\r"
     ]
    },
    {
     "name": "stdout",
     "output_type": "stream",
     "text": [
      "P:   0 R:   0 T: 100  psnr: 2.34e+01 at lambda: 3.01e-02, rho: 1.14e-01\n"
     ]
    }
   ],
   "source": [
    "analysis = tune.run(\n",
    "    eval_params,\n",
    "    metric=\"psnr\",\n",
    "    mode=\"max\",\n",
    "    num_samples=100,\n",
    "    config=config,\n",
    "    resources_per_trial=resources,\n",
    "    hyperopt=True,\n",
    "    verbose=True,\n",
    ")"
   ]
  },
  {
   "cell_type": "markdown",
   "id": "6e0f61f1",
   "metadata": {},
   "source": [
    "Display best parameters and corresponding performance."
   ]
  },
  {
   "cell_type": "code",
   "execution_count": 8,
   "id": "a8979d18",
   "metadata": {
    "collapsed": false,
    "execution": {
     "iopub.execute_input": "2022-05-23T19:52:54.398475Z",
     "iopub.status.busy": "2022-05-23T19:52:54.398180Z",
     "iopub.status.idle": "2022-05-23T19:52:54.404524Z",
     "shell.execute_reply": "2022-05-23T19:52:54.403878Z"
    }
   },
   "outputs": [
    {
     "name": "stdout",
     "output_type": "stream",
     "text": [
      "Best PSNR: 23.40 dB\n",
      "Best config: lambda: 3.01e-02, rho: 1.14e-01\n"
     ]
    }
   ],
   "source": [
    "best_config = analysis.get_best_config(metric=\"psnr\", mode=\"max\")\n",
    "print(f\"Best PSNR: {analysis.get_best_trial().last_result['psnr']:.2f} dB\")\n",
    "print(\"Best config: \" + \", \".join([f\"{k}: {v:.2e}\" for k, v in best_config.items()]))"
   ]
  },
  {
   "cell_type": "markdown",
   "id": "dfdbc11e",
   "metadata": {},
   "source": [
    "Plot parameter values visited during parameter search. Marker sizes are\n",
    "proportional to number of iterations run at each parameter pair. The best\n",
    "point in the parameter space is indicated in red."
   ]
  },
  {
   "cell_type": "code",
   "execution_count": 9,
   "id": "5d96c4e9",
   "metadata": {
    "collapsed": false,
    "execution": {
     "iopub.execute_input": "2022-05-23T19:52:54.410340Z",
     "iopub.status.busy": "2022-05-23T19:52:54.410083Z",
     "iopub.status.idle": "2022-05-23T19:52:55.038962Z",
     "shell.execute_reply": "2022-05-23T19:52:55.038310Z"
    }
   },
   "outputs": [
    {
     "data": {
      "image/png": "[encoded data removed]",
      "text/plain": [
       "<Figure size 576x576 with 1 Axes>"
      ]
     },
     "metadata": {
      "needs_background": "light"
     },
     "output_type": "display_data"
    }
   ],
   "source": [
    "fig = plot.figure(figsize=(8, 8))\n",
    "for t in analysis.trials:\n",
    "    n = t.metric_analysis[\"training_iteration\"][\"max\"]\n",
    "    plot.plot(\n",
    "        t.config[\"lambda\"],\n",
    "        t.config[\"rho\"],\n",
    "        ptyp=\"loglog\",\n",
    "        lw=0,\n",
    "        ms=(0.5 + 1.5 * n),\n",
    "        marker=\"o\",\n",
    "        mfc=\"blue\",\n",
    "        mec=\"blue\",\n",
    "        fig=fig,\n",
    "    )\n",
    "plot.plot(\n",
    "    best_config[\"lambda\"],\n",
    "    best_config[\"rho\"],\n",
    "    ptyp=\"loglog\",\n",
    "    title=\"Parameter search sampling locations\\n(marker size proportional to number of iterations)\",\n",
    "    xlbl=r\"$\\rho$\",\n",
    "    ylbl=r\"$\\lambda$\",\n",
    "    lw=0,\n",
    "    ms=5.0,\n",
    "    marker=\"o\",\n",
    "    mfc=\"red\",\n",
    "    mec=\"red\",\n",
    "    fig=fig,\n",
    ")\n",
    "ax = fig.axes[0]\n",
    "ax.set_xlim([config[\"rho\"].lower, config[\"rho\"].upper])\n",
    "ax.set_ylim([config[\"lambda\"].lower, config[\"lambda\"].upper])\n",
    "fig.show()"
   ]
  }
 ],
 "metadata": {
  "language_info": {
   "codemirror_mode": {
    "name": "ipython",
    "version": 3
   },
   "file_extension": ".py",
   "mimetype": "text/x-python",
   "name": "python",
   "nbconvert_exporter": "python",
   "pygments_lexer": "ipython3",
   "version": "3.9.12"
  }
 },
 "nbformat": 4,
 "nbformat_minor": 5
}
