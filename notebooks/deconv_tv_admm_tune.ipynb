{
 "cells": [
  {
   "cell_type": "markdown",
   "id": "8b04196e",
   "metadata": {},
   "source": [
    "Parameter Tuning for Image Deconvolution with TV Regularization (ADMM Solver)\n",
    "=============================================================================\n",
    "\n",
    "This example demonstrates the use of\n",
    "[scico.ray.tune](../_autosummary/scico.ray.tune.rst) to tune parameters\n",
    "for the companion [example script](deconv_tv_admm.rst). The `ray.tune`\n",
    "function API is used in this example.\n",
    "\n",
    "This script is hard-coded to run on CPU only to avoid the large number of\n",
    "warnings that are emitted when GPU resources are requested but not available,\n",
    "and due to the difficulty of supressing these warnings in a way that does\n",
    "not force use of the CPU only. To enable GPU usage, comment out the\n",
    "`os.environ` statements near the beginning of the script, and change the\n",
    "value of the \"gpu\" entry in the `resources` dict from 0 to 1. Note that\n",
    "two environment variables are set to suppress the warnings because\n",
    "`JAX_PLATFORMS` was intended to replace `JAX_PLATFORM_NAME` but this change\n",
    "has yet to be correctly implemented\n",
    "(see [google/jax#6805](https://github.com/google/jax/issues/6805) and\n",
    "[google/jax#10272](https://github.com/google/jax/pull/10272))."
   ]
  },
  {
   "cell_type": "code",
   "execution_count": 1,
   "id": "1c48ce93",
   "metadata": {
    "collapsed": false,
    "execution": {
     "iopub.execute_input": "2024-06-06T02:16:20.370140Z",
     "iopub.status.busy": "2024-06-06T02:16:20.369741Z",
     "iopub.status.idle": "2024-06-06T02:16:31.287104Z",
     "shell.execute_reply": "2024-06-06T02:16:31.285336Z"
    }
   },
   "outputs": [
    {
     "name": "stderr",
     "output_type": "stream",
     "text": [
      "/nh/research/brendt/CondaHome/miniconda3/envs/py310gpu/lib/python3.10/site-packages/tqdm/auto.py:21: TqdmWarning: IProgress not found. Please update jupyter and ipywidgets. See https://ipywidgets.readthedocs.io/en/stable/user_install.html\n",
      "  from .autonotebook import tqdm as notebook_tqdm\n",
      "2024-06-05 20:16:21,941\tINFO util.py:159 -- Missing packages: ['ipywidgets']. Run `pip install -U ipywidgets`, then restart the notebook server for rich notebook output.\n"
     ]
    }
   ],
   "source": [
    "# isort: off\n",
    "import os\n",
    "\n",
    "os.environ[\"JAX_PLATFORM_NAME\"] = \"cpu\"\n",
    "os.environ[\"JAX_PLATFORMS\"] = \"cpu\"\n",
    "\n",
    "from xdesign import SiemensStar, discrete_phantom\n",
    "\n",
    "import logging\n",
    "import ray\n",
    "\n",
    "ray.init(logging_level=logging.ERROR)  # need to call init before jax import: ray-project/ray#44087\n",
    "\n",
    "import scico.numpy as snp\n",
    "import scico.random\n",
    "from scico import functional, linop, loss, metric, plot\n",
    "from scico.optimize.admm import ADMM, LinearSubproblemSolver\n",
    "from scico.ray import report, tune\n",
    "plot.config_notebook_plotting()"
   ]
  },
  {
   "cell_type": "markdown",
   "id": "19f506ec",
   "metadata": {},
   "source": [
    "Create a ground truth image."
   ]
  },
  {
   "cell_type": "code",
   "execution_count": 2,
   "id": "6818b5e2",
   "metadata": {
    "collapsed": false,
    "execution": {
     "iopub.execute_input": "2024-06-06T02:16:31.294203Z",
     "iopub.status.busy": "2024-06-06T02:16:31.293566Z",
     "iopub.status.idle": "2024-06-06T02:16:31.973365Z",
     "shell.execute_reply": "2024-06-06T02:16:31.972297Z"
    }
   },
   "outputs": [],
   "source": [
    "phantom = SiemensStar(32)\n",
    "N = 256  # image size\n",
    "x_gt = snp.pad(discrete_phantom(phantom, N - 16), 8)"
   ]
  },
  {
   "cell_type": "markdown",
   "id": "a362395b",
   "metadata": {},
   "source": [
    "Set up the forward operator and create a test signal consisting of a\n",
    "blurred signal with additive Gaussian noise."
   ]
  },
  {
   "cell_type": "code",
   "execution_count": 3,
   "id": "c0ccf11c",
   "metadata": {
    "collapsed": false,
    "execution": {
     "iopub.execute_input": "2024-06-06T02:16:31.979690Z",
     "iopub.status.busy": "2024-06-06T02:16:31.979325Z",
     "iopub.status.idle": "2024-06-06T02:16:32.649508Z",
     "shell.execute_reply": "2024-06-06T02:16:32.648409Z"
    }
   },
   "outputs": [],
   "source": [
    "n = 5  # convolution kernel size\n",
    "σ = 20.0 / 255  # noise level\n",
    "\n",
    "psf = snp.ones((n, n)) / (n * n)\n",
    "A = linop.Convolve(h=psf, input_shape=x_gt.shape)\n",
    "\n",
    "Ax = A(x_gt)  # blurred image\n",
    "noise, key = scico.random.randn(Ax.shape, seed=0)\n",
    "y = Ax + σ * noise"
   ]
  },
  {
   "cell_type": "markdown",
   "id": "7266aa21",
   "metadata": {},
   "source": [
    "Define performance evaluation function."
   ]
  },
  {
   "cell_type": "code",
   "execution_count": 4,
   "id": "7e28f489",
   "metadata": {
    "collapsed": false,
    "execution": {
     "iopub.execute_input": "2024-06-06T02:16:32.655382Z",
     "iopub.status.busy": "2024-06-06T02:16:32.655027Z",
     "iopub.status.idle": "2024-06-06T02:16:32.662481Z",
     "shell.execute_reply": "2024-06-06T02:16:32.661419Z"
    }
   },
   "outputs": [],
   "source": [
    "def eval_params(config, x_gt, psf, y):\n",
    "    \"\"\"Parameter evaluation function. The `config` parameter is a\n",
    "    dict of specific parameters for evaluation of a single parameter\n",
    "    set (a pair of parameters in this case). The remaining parameters\n",
    "    are objects that are passed to the evaluation function via the\n",
    "    ray object store.\n",
    "    \"\"\"\n",
    "    # Extract solver parameters from config dict.\n",
    "    λ, ρ = config[\"lambda\"], config[\"rho\"]\n",
    "    # Set up problem to be solved.\n",
    "    A = linop.Convolve(h=psf, input_shape=x_gt.shape)\n",
    "    f = loss.SquaredL2Loss(y=y, A=A)\n",
    "    g = λ * functional.L21Norm()\n",
    "    C = linop.FiniteDifference(input_shape=x_gt.shape, append=0)\n",
    "    # Define solver.\n",
    "    solver = ADMM(\n",
    "        f=f,\n",
    "        g_list=[g],\n",
    "        C_list=[C],\n",
    "        rho_list=[ρ],\n",
    "        x0=A.adj(y),\n",
    "        maxiter=10,\n",
    "        subproblem_solver=LinearSubproblemSolver(),\n",
    "    )\n",
    "    # Perform 50 iterations, reporting performance to ray.tune every 10 iterations.\n",
    "    for step in range(5):\n",
    "        x_admm = solver.solve()\n",
    "        report({\"psnr\": float(metric.psnr(x_gt, x_admm))})"
   ]
  },
  {
   "cell_type": "markdown",
   "id": "d792aaf8",
   "metadata": {},
   "source": [
    "Define parameter search space and resources per trial."
   ]
  },
  {
   "cell_type": "code",
   "execution_count": 5,
   "id": "09625981",
   "metadata": {
    "collapsed": false,
    "execution": {
     "iopub.execute_input": "2024-06-06T02:16:32.667275Z",
     "iopub.status.busy": "2024-06-06T02:16:32.666891Z",
     "iopub.status.idle": "2024-06-06T02:16:32.672191Z",
     "shell.execute_reply": "2024-06-06T02:16:32.671346Z"
    }
   },
   "outputs": [],
   "source": [
    "config = {\"lambda\": tune.loguniform(1e-3, 1e-1), \"rho\": tune.loguniform(1e-2, 1e0)}\n",
    "resources = {\"cpu\": 4, \"gpu\": 0}  # cpus per trial, gpus per trial"
   ]
  },
  {
   "cell_type": "markdown",
   "id": "bc12aa20",
   "metadata": {},
   "source": [
    "Run parameter search."
   ]
  },
  {
   "cell_type": "code",
   "execution_count": 6,
   "id": "7c1e6432",
   "metadata": {
    "collapsed": false,
    "execution": {
     "iopub.execute_input": "2024-06-06T02:16:32.675721Z",
     "iopub.status.busy": "2024-06-06T02:16:32.674987Z",
     "iopub.status.idle": "2024-06-06T02:19:12.692163Z",
     "shell.execute_reply": "2024-06-06T02:19:12.690034Z"
    }
   },
   "outputs": [
    {
     "name": "stdout",
     "output_type": "stream",
     "text": [
      "P:   1 R:   0 T:   0 \r",
      "P:   1 R:   0 T:   0 \r"
     ]
    },
    {
     "name": "stdout",
     "output_type": "stream",
     "text": [
      "P:   1 R:   0 T:   0 \r",
      "P:   1 R:   0 T:   0 \r"
     ]
    },
    {
     "name": "stdout",
     "output_type": "stream",
     "text": [
      "P:   1 R:   0 T:   0 \r",
      "P:   1 R:   0 T:   0 \r"
     ]
    },
    {
     "name": "stdout",
     "output_type": "stream",
     "text": [
      "P:   1 R:   0 T:   0 \r",
      "P:   1 R:   0 T:   0 \r"
     ]
    },
    {
     "name": "stdout",
     "output_type": "stream",
     "text": [
      "P:   1 R:   0 T:   0 \r",
      "P:   1 R:   0 T:   0 \r"
     ]
    },
    {
     "name": "stdout",
     "output_type": "stream",
     "text": [
      "P:   1 R:   0 T:   0 \r",
      "P:   1 R:   0 T:   0 \r"
     ]
    },
    {
     "name": "stdout",
     "output_type": "stream",
     "text": [
      "P:   1 R:   0 T:   0 \r",
      "P:   1 R:   0 T:   0 \r"
     ]
    },
    {
     "name": "stdout",
     "output_type": "stream",
     "text": [
      "P:   1 R:   0 T:   0 \r",
      "P:   1 R:   0 T:   0 \r"
     ]
    },
    {
     "name": "stdout",
     "output_type": "stream",
     "text": [
      "P:   1 R:   0 T:   0 \r",
      "P:   1 R:   0 T:   0 \r"
     ]
    },
    {
     "name": "stdout",
     "output_type": "stream",
     "text": [
      "P:   1 R:   0 T:   0 \r",
      "P:   1 R:   0 T:   0 \r"
     ]
    },
    {
     "name": "stdout",
     "output_type": "stream",
     "text": [
      "P:   1 R:   0 T:   0 \r",
      "P:   1 R:   0 T:   0 \r"
     ]
    },
    {
     "name": "stdout",
     "output_type": "stream",
     "text": [
      "P:   1 R:   0 T:   0 \r",
      "P:   1 R:   0 T:   0 \r"
     ]
    },
    {
     "name": "stdout",
     "output_type": "stream",
     "text": [
      "P:   1 R:   0 T:   0 \r",
      "P:   1 R:   0 T:   0 \r"
     ]
    },
    {
     "name": "stdout",
     "output_type": "stream",
     "text": [
      "P:   1 R:   0 T:   0 \r",
      "P:   1 R:   0 T:   0 \r"
     ]
    },
    {
     "name": "stdout",
     "output_type": "stream",
     "text": [
      "P:   1 R:   0 T:   0 \r",
      "P:   1 R:   0 T:   0 \r"
     ]
    },
    {
     "name": "stdout",
     "output_type": "stream",
     "text": [
      "P:   1 R:   0 T:   0 \r",
      "P:   1 R:   0 T:   0 \r"
     ]
    },
    {
     "name": "stdout",
     "output_type": "stream",
     "text": [
      "P:   1 R:   0 T:   0 \r",
      "P:   1 R:   0 T:   0 \r"
     ]
    },
    {
     "name": "stdout",
     "output_type": "stream",
     "text": [
      "P:   1 R:   0 T:   0 \r",
      "P:   1 R:   0 T:   0 \r"
     ]
    },
    {
     "name": "stdout",
     "output_type": "stream",
     "text": [
      "P:   1 R:   0 T:   0 \r",
      "P:   1 R:   0 T:   0 \r"
     ]
    },
    {
     "name": "stdout",
     "output_type": "stream",
     "text": [
      "P:   1 R:   0 T:   0 \r",
      "P:   1 R:   0 T:   0 \r"
     ]
    },
    {
     "name": "stdout",
     "output_type": "stream",
     "text": [
      "P:   1 R:   0 T:   0 \r",
      "P:   1 R:   0 T:   0 \r"
     ]
    },
    {
     "name": "stdout",
     "output_type": "stream",
     "text": [
      "P:   1 R:   0 T:   0 \r",
      "P:   1 R:   0 T:   0 \r"
     ]
    },
    {
     "name": "stdout",
     "output_type": "stream",
     "text": [
      "P:   1 R:   0 T:   0 \r",
      "P:   1 R:   0 T:   0 \r"
     ]
    },
    {
     "name": "stdout",
     "output_type": "stream",
     "text": [
      "P:   1 R:   0 T:   0 \r",
      "P:   1 R:   0 T:   0 \r"
     ]
    },
    {
     "name": "stdout",
     "output_type": "stream",
     "text": [
      "P:   1 R:   0 T:   0 \r",
      "P:   1 R:   0 T:   0 \r"
     ]
    },
    {
     "name": "stdout",
     "output_type": "stream",
     "text": [
      "P:   1 R:   0 T:   0 \r",
      "P:   1 R:   0 T:   0 \r"
     ]
    },
    {
     "name": "stdout",
     "output_type": "stream",
     "text": [
      "P:   1 R:   0 T:   0 \r",
      "P:   1 R:   0 T:   0 \r"
     ]
    },
    {
     "name": "stdout",
     "output_type": "stream",
     "text": [
      "P:   1 R:   0 T:   0 \r",
      "P:   1 R:   0 T:   0 \r"
     ]
    },
    {
     "name": "stdout",
     "output_type": "stream",
     "text": [
      "P:   1 R:   0 T:   0 \r",
      "P:   0 R:   1 T:   0 \r"
     ]
    },
    {
     "name": "stdout",
     "output_type": "stream",
     "text": [
      "P:   1 R:   1 T:   0 \r",
      "P:   1 R:   1 T:   0 \r"
     ]
    },
    {
     "name": "stdout",
     "output_type": "stream",
     "text": [
      "P:   1 R:   1 T:   0 \r",
      "P:   1 R:   1 T:   0 \r"
     ]
    },
    {
     "name": "stdout",
     "output_type": "stream",
     "text": [
      "P:   1 R:   1 T:   0 \r",
      "P:   1 R:   1 T:   0 \r"
     ]
    },
    {
     "name": "stdout",
     "output_type": "stream",
     "text": [
      "P:   1 R:   1 T:   0 \r",
      "P:   1 R:   1 T:   0 \r"
     ]
    },
    {
     "name": "stdout",
     "output_type": "stream",
     "text": [
      "P:   1 R:   1 T:   0 \r",
      "P:   1 R:   1 T:   0 \r"
     ]
    },
    {
     "name": "stdout",
     "output_type": "stream",
     "text": [
      "P:   1 R:   1 T:   0 \r",
      "P:   1 R:   1 T:   0 \r"
     ]
    },
    {
     "name": "stdout",
     "output_type": "stream",
     "text": [
      "P:   1 R:   1 T:   0 \r",
      "P:   1 R:   1 T:   0 \r"
     ]
    },
    {
     "name": "stdout",
     "output_type": "stream",
     "text": [
      "P:   1 R:   1 T:   0 \r",
      "P:   1 R:   1 T:   0 \r"
     ]
    },
    {
     "name": "stdout",
     "output_type": "stream",
     "text": [
      "P:   1 R:   1 T:   0 \r",
      "P:   1 R:   1 T:   0 \r"
     ]
    },
    {
     "name": "stdout",
     "output_type": "stream",
     "text": [
      "P:   1 R:   1 T:   0 \r",
      "P:   1 R:   1 T:   0  psnr: 2.14e+01 at lambda: 2.20e-02, rho: 2.84e-01\r",
      "P:   1 R:   1 T:   0  psnr: 2.14e+01 at lambda: 2.20e-02, rho: 2.84e-01\r"
     ]
    },
    {
     "name": "stdout",
     "output_type": "stream",
     "text": [
      "P:   1 R:   1 T:   0  psnr: 2.14e+01 at lambda: 2.20e-02, rho: 2.84e-01\r",
      "P:   1 R:   1 T:   0  psnr: 2.14e+01 at lambda: 2.20e-02, rho: 2.84e-01\r"
     ]
    },
    {
     "name": "stdout",
     "output_type": "stream",
     "text": [
      "P:   1 R:   1 T:   0  psnr: 2.14e+01 at lambda: 2.20e-02, rho: 2.84e-01\r",
      "P:   1 R:   1 T:   0  psnr: 2.14e+01 at lambda: 2.20e-02, rho: 2.84e-01\r",
      "P:   1 R:   1 T:   0  psnr: 2.19e+01 at lambda: 2.20e-02, rho: 2.84e-01\r"
     ]
    },
    {
     "name": "stdout",
     "output_type": "stream",
     "text": [
      "P:   1 R:   1 T:   0  psnr: 2.19e+01 at lambda: 2.20e-02, rho: 2.84e-01\r",
      "P:   1 R:   1 T:   0  psnr: 2.19e+01 at lambda: 2.20e-02, rho: 2.84e-01\r"
     ]
    },
    {
     "name": "stdout",
     "output_type": "stream",
     "text": [
      "P:   1 R:   1 T:   0  psnr: 2.19e+01 at lambda: 2.20e-02, rho: 2.84e-01\r",
      "P:   1 R:   1 T:   0  psnr: 2.19e+01 at lambda: 2.20e-02, rho: 2.84e-01\r"
     ]
    },
    {
     "name": "stdout",
     "output_type": "stream",
     "text": [
      "P:   1 R:   1 T:   0  psnr: 2.19e+01 at lambda: 2.20e-02, rho: 2.84e-01\r",
      "P:   1 R:   1 T:   0  psnr: 2.21e+01 at lambda: 2.20e-02, rho: 2.84e-01\r",
      "P:   1 R:   1 T:   0  psnr: 2.21e+01 at lambda: 2.20e-02, rho: 2.84e-01\r"
     ]
    },
    {
     "name": "stdout",
     "output_type": "stream",
     "text": [
      "P:   1 R:   1 T:   0  psnr: 2.21e+01 at lambda: 2.20e-02, rho: 2.84e-01\r",
      "P:   1 R:   1 T:   0  psnr: 2.21e+01 at lambda: 2.20e-02, rho: 2.84e-01\r"
     ]
    },
    {
     "name": "stdout",
     "output_type": "stream",
     "text": [
      "P:   1 R:   1 T:   0  psnr: 2.21e+01 at lambda: 2.20e-02, rho: 2.84e-01\r",
      "P:   1 R:   1 T:   0  psnr: 2.22e+01 at lambda: 2.20e-02, rho: 2.84e-01\r",
      "P:   1 R:   1 T:   0  psnr: 2.22e+01 at lambda: 2.20e-02, rho: 2.84e-01\r"
     ]
    },
    {
     "name": "stdout",
     "output_type": "stream",
     "text": [
      "P:   1 R:   1 T:   0  psnr: 2.22e+01 at lambda: 2.20e-02, rho: 2.84e-01\r",
      "P:   1 R:   1 T:   0  psnr: 2.22e+01 at lambda: 2.20e-02, rho: 2.84e-01\r"
     ]
    },
    {
     "name": "stdout",
     "output_type": "stream",
     "text": [
      "P:   1 R:   1 T:   0  psnr: 2.22e+01 at lambda: 2.20e-02, rho: 2.84e-01\r",
      "P:   1 R:   1 T:   0  psnr: 2.22e+01 at lambda: 2.20e-02, rho: 2.84e-01\r",
      "P:   1 R:   0 T:   1  psnr: 2.22e+01 at lambda: 2.20e-02, rho: 2.84e-01\r",
      "P:   0 R:   1 T:   1  psnr: 2.22e+01 at lambda: 2.20e-02, rho: 2.84e-01\r",
      "P:   1 R:   1 T:   1  psnr: 2.22e+01 at lambda: 2.20e-02, rho: 2.84e-01\r"
     ]
    },
    {
     "name": "stdout",
     "output_type": "stream",
     "text": [
      "P:   1 R:   1 T:   1  psnr: 2.22e+01 at lambda: 2.20e-02, rho: 2.84e-01\r",
      "P:   1 R:   1 T:   1  psnr: 2.22e+01 at lambda: 2.20e-02, rho: 2.84e-01\r"
     ]
    },
    {
     "name": "stdout",
     "output_type": "stream",
     "text": [
      "P:   1 R:   1 T:   1  psnr: 2.22e+01 at lambda: 2.20e-02, rho: 2.84e-01\r",
      "P:   1 R:   1 T:   1  psnr: 2.22e+01 at lambda: 2.20e-02, rho: 2.84e-01\r"
     ]
    },
    {
     "name": "stdout",
     "output_type": "stream",
     "text": [
      "P:   1 R:   1 T:   1  psnr: 2.22e+01 at lambda: 2.20e-02, rho: 2.84e-01\r",
      "P:   1 R:   1 T:   1  psnr: 2.22e+01 at lambda: 2.20e-02, rho: 2.84e-01\r"
     ]
    },
    {
     "name": "stdout",
     "output_type": "stream",
     "text": [
      "P:   1 R:   1 T:   1  psnr: 2.22e+01 at lambda: 2.20e-02, rho: 2.84e-01\r",
      "P:   1 R:   1 T:   1  psnr: 2.22e+01 at lambda: 2.20e-02, rho: 2.84e-01\r",
      "P:   1 R:   1 T:   1  psnr: 2.22e+01 at lambda: 2.20e-02, rho: 2.84e-01\r"
     ]
    },
    {
     "name": "stdout",
     "output_type": "stream",
     "text": [
      "P:   1 R:   1 T:   1  psnr: 2.22e+01 at lambda: 2.20e-02, rho: 2.84e-01\r",
      "P:   1 R:   1 T:   1  psnr: 2.22e+01 at lambda: 2.20e-02, rho: 2.84e-01\r"
     ]
    },
    {
     "name": "stdout",
     "output_type": "stream",
     "text": [
      "P:   1 R:   1 T:   1  psnr: 2.22e+01 at lambda: 2.20e-02, rho: 2.84e-01\r",
      "P:   1 R:   1 T:   1  psnr: 2.22e+01 at lambda: 2.20e-02, rho: 2.84e-01\r",
      "P:   1 R:   1 T:   1  psnr: 2.22e+01 at lambda: 2.20e-02, rho: 2.84e-01\r"
     ]
    },
    {
     "name": "stdout",
     "output_type": "stream",
     "text": [
      "P:   1 R:   1 T:   1  psnr: 2.22e+01 at lambda: 2.20e-02, rho: 2.84e-01\r",
      "P:   1 R:   1 T:   1  psnr: 2.22e+01 at lambda: 2.20e-02, rho: 2.84e-01\r",
      "P:   1 R:   1 T:   1  psnr: 2.22e+01 at lambda: 2.20e-02, rho: 2.84e-01\r"
     ]
    },
    {
     "name": "stdout",
     "output_type": "stream",
     "text": [
      "P:   1 R:   1 T:   1  psnr: 2.22e+01 at lambda: 2.20e-02, rho: 2.84e-01\r",
      "P:   1 R:   1 T:   1  psnr: 2.22e+01 at lambda: 2.20e-02, rho: 2.84e-01\r"
     ]
    },
    {
     "name": "stdout",
     "output_type": "stream",
     "text": [
      "P:   1 R:   1 T:   1  psnr: 2.22e+01 at lambda: 2.20e-02, rho: 2.84e-01\r",
      "P:   1 R:   1 T:   1  psnr: 2.22e+01 at lambda: 2.56e-02, rho: 1.31e-01\r",
      "P:   1 R:   1 T:   1  psnr: 2.22e+01 at lambda: 2.56e-02, rho: 1.31e-01\r"
     ]
    },
    {
     "name": "stdout",
     "output_type": "stream",
     "text": [
      "P:   1 R:   1 T:   1  psnr: 2.22e+01 at lambda: 2.56e-02, rho: 1.31e-01\r",
      "P:   1 R:   1 T:   1  psnr: 2.22e+01 at lambda: 2.56e-02, rho: 1.31e-01\r",
      "P:   1 R:   1 T:   1  psnr: 2.22e+01 at lambda: 2.56e-02, rho: 1.31e-01\r",
      "P:   1 R:   0 T:   2  psnr: 2.22e+01 at lambda: 2.56e-02, rho: 1.31e-01\r",
      "P:   0 R:   1 T:   2  psnr: 2.22e+01 at lambda: 2.56e-02, rho: 1.31e-01\r"
     ]
    },
    {
     "name": "stdout",
     "output_type": "stream",
     "text": [
      "P:   1 R:   1 T:   2  psnr: 2.22e+01 at lambda: 2.56e-02, rho: 1.31e-01\r",
      "P:   1 R:   1 T:   2  psnr: 2.22e+01 at lambda: 2.56e-02, rho: 1.31e-01\r"
     ]
    },
    {
     "name": "stdout",
     "output_type": "stream",
     "text": [
      "P:   1 R:   1 T:   2  psnr: 2.22e+01 at lambda: 2.56e-02, rho: 1.31e-01\r",
      "P:   1 R:   1 T:   2  psnr: 2.22e+01 at lambda: 2.56e-02, rho: 1.31e-01\r"
     ]
    },
    {
     "name": "stdout",
     "output_type": "stream",
     "text": [
      "P:   1 R:   1 T:   2  psnr: 2.22e+01 at lambda: 2.56e-02, rho: 1.31e-01\r",
      "P:   1 R:   1 T:   2  psnr: 2.22e+01 at lambda: 2.56e-02, rho: 1.31e-01\r"
     ]
    },
    {
     "name": "stdout",
     "output_type": "stream",
     "text": [
      "P:   1 R:   1 T:   2  psnr: 2.22e+01 at lambda: 2.56e-02, rho: 1.31e-01\r",
      "P:   1 R:   1 T:   2  psnr: 2.22e+01 at lambda: 2.56e-02, rho: 1.31e-01\r"
     ]
    },
    {
     "name": "stdout",
     "output_type": "stream",
     "text": [
      "P:   1 R:   1 T:   2  psnr: 2.22e+01 at lambda: 2.56e-02, rho: 1.31e-01\r",
      "P:   1 R:   1 T:   2  psnr: 2.22e+01 at lambda: 2.56e-02, rho: 1.31e-01\r",
      "P:   1 R:   0 T:   3  psnr: 2.22e+01 at lambda: 2.56e-02, rho: 1.31e-01\r"
     ]
    },
    {
     "name": "stdout",
     "output_type": "stream",
     "text": [
      "P:   0 R:   1 T:   3  psnr: 2.22e+01 at lambda: 2.56e-02, rho: 1.31e-01\r",
      "P:   1 R:   1 T:   3  psnr: 2.22e+01 at lambda: 2.56e-02, rho: 1.31e-01\r"
     ]
    },
    {
     "name": "stdout",
     "output_type": "stream",
     "text": [
      "P:   1 R:   1 T:   3  psnr: 2.22e+01 at lambda: 2.56e-02, rho: 1.31e-01\r",
      "P:   1 R:   1 T:   3  psnr: 2.22e+01 at lambda: 2.56e-02, rho: 1.31e-01\r"
     ]
    },
    {
     "name": "stdout",
     "output_type": "stream",
     "text": [
      "P:   1 R:   1 T:   3  psnr: 2.22e+01 at lambda: 2.56e-02, rho: 1.31e-01\r",
      "P:   1 R:   1 T:   3  psnr: 2.22e+01 at lambda: 2.56e-02, rho: 1.31e-01\r"
     ]
    },
    {
     "name": "stdout",
     "output_type": "stream",
     "text": [
      "P:   1 R:   1 T:   3  psnr: 2.22e+01 at lambda: 2.56e-02, rho: 1.31e-01\r",
      "P:   1 R:   1 T:   3  psnr: 2.22e+01 at lambda: 2.56e-02, rho: 1.31e-01\r"
     ]
    },
    {
     "name": "stdout",
     "output_type": "stream",
     "text": [
      "P:   1 R:   1 T:   3  psnr: 2.22e+01 at lambda: 2.56e-02, rho: 1.31e-01\r",
      "P:   1 R:   1 T:   3  psnr: 2.22e+01 at lambda: 2.56e-02, rho: 1.31e-01\r"
     ]
    },
    {
     "name": "stdout",
     "output_type": "stream",
     "text": [
      "P:   1 R:   1 T:   3  psnr: 2.22e+01 at lambda: 2.56e-02, rho: 1.31e-01\r",
      "P:   1 R:   0 T:   4  psnr: 2.22e+01 at lambda: 2.56e-02, rho: 1.31e-01\r",
      "P:   0 R:   1 T:   4  psnr: 2.22e+01 at lambda: 2.56e-02, rho: 1.31e-01\r",
      "P:   1 R:   1 T:   4  psnr: 2.22e+01 at lambda: 2.56e-02, rho: 1.31e-01\r"
     ]
    },
    {
     "name": "stdout",
     "output_type": "stream",
     "text": [
      "P:   1 R:   1 T:   4  psnr: 2.22e+01 at lambda: 2.56e-02, rho: 1.31e-01\r",
      "P:   1 R:   1 T:   4  psnr: 2.22e+01 at lambda: 2.56e-02, rho: 1.31e-01\r"
     ]
    },
    {
     "name": "stdout",
     "output_type": "stream",
     "text": [
      "P:   1 R:   1 T:   4  psnr: 2.22e+01 at lambda: 2.56e-02, rho: 1.31e-01\r",
      "P:   1 R:   1 T:   4  psnr: 2.22e+01 at lambda: 2.56e-02, rho: 1.31e-01\r"
     ]
    },
    {
     "name": "stdout",
     "output_type": "stream",
     "text": [
      "P:   1 R:   1 T:   4  psnr: 2.22e+01 at lambda: 2.56e-02, rho: 1.31e-01\r",
      "P:   1 R:   1 T:   4  psnr: 2.22e+01 at lambda: 2.56e-02, rho: 1.31e-01\r"
     ]
    },
    {
     "name": "stdout",
     "output_type": "stream",
     "text": [
      "P:   1 R:   1 T:   4  psnr: 2.22e+01 at lambda: 2.56e-02, rho: 1.31e-01\r",
      "P:   1 R:   1 T:   4  psnr: 2.22e+01 at lambda: 2.56e-02, rho: 1.31e-01\r",
      "P:   1 R:   1 T:   4  psnr: 2.22e+01 at lambda: 2.56e-02, rho: 1.31e-01\r"
     ]
    },
    {
     "name": "stdout",
     "output_type": "stream",
     "text": [
      "P:   1 R:   1 T:   4  psnr: 2.22e+01 at lambda: 2.56e-02, rho: 1.31e-01\r",
      "P:   1 R:   1 T:   4  psnr: 2.22e+01 at lambda: 2.56e-02, rho: 1.31e-01\r",
      "P:   1 R:   1 T:   4  psnr: 2.22e+01 at lambda: 2.56e-02, rho: 1.31e-01\r"
     ]
    },
    {
     "name": "stdout",
     "output_type": "stream",
     "text": [
      "P:   1 R:   1 T:   4  psnr: 2.22e+01 at lambda: 2.56e-02, rho: 1.31e-01\r",
      "P:   1 R:   1 T:   4  psnr: 2.22e+01 at lambda: 2.56e-02, rho: 1.31e-01\r"
     ]
    },
    {
     "name": "stdout",
     "output_type": "stream",
     "text": [
      "P:   1 R:   1 T:   4  psnr: 2.22e+01 at lambda: 2.56e-02, rho: 1.31e-01\r",
      "P:   1 R:   1 T:   4  psnr: 2.22e+01 at lambda: 2.56e-02, rho: 1.31e-01\r"
     ]
    },
    {
     "name": "stdout",
     "output_type": "stream",
     "text": [
      "P:   1 R:   1 T:   4  psnr: 2.22e+01 at lambda: 2.56e-02, rho: 1.31e-01\r",
      "P:   1 R:   1 T:   4  psnr: 2.22e+01 at lambda: 2.56e-02, rho: 1.31e-01\r",
      "P:   1 R:   1 T:   4  psnr: 2.22e+01 at lambda: 2.56e-02, rho: 1.31e-01\r"
     ]
    },
    {
     "name": "stdout",
     "output_type": "stream",
     "text": [
      "P:   1 R:   1 T:   4  psnr: 2.22e+01 at lambda: 2.56e-02, rho: 1.31e-01\r",
      "P:   1 R:   1 T:   4  psnr: 2.22e+01 at lambda: 2.56e-02, rho: 1.31e-01\r"
     ]
    },
    {
     "name": "stdout",
     "output_type": "stream",
     "text": [
      "P:   1 R:   1 T:   4  psnr: 2.22e+01 at lambda: 2.56e-02, rho: 1.31e-01\r",
      "P:   1 R:   1 T:   4  psnr: 2.22e+01 at lambda: 2.56e-02, rho: 1.31e-01\r",
      "P:   1 R:   1 T:   4  psnr: 2.22e+01 at lambda: 2.29e-02, rho: 2.05e-01\r"
     ]
    },
    {
     "name": "stdout",
     "output_type": "stream",
     "text": [
      "P:   1 R:   1 T:   4  psnr: 2.22e+01 at lambda: 2.29e-02, rho: 2.05e-01\r",
      "P:   1 R:   1 T:   4  psnr: 2.22e+01 at lambda: 2.29e-02, rho: 2.05e-01\r"
     ]
    },
    {
     "name": "stdout",
     "output_type": "stream",
     "text": [
      "P:   1 R:   1 T:   4  psnr: 2.22e+01 at lambda: 2.29e-02, rho: 2.05e-01\r",
      "P:   1 R:   1 T:   4  psnr: 2.23e+01 at lambda: 2.29e-02, rho: 2.05e-01\r",
      "P:   1 R:   0 T:   5  psnr: 2.23e+01 at lambda: 2.29e-02, rho: 2.05e-01\r",
      "P:   0 R:   1 T:   5  psnr: 2.23e+01 at lambda: 2.29e-02, rho: 2.05e-01\r"
     ]
    },
    {
     "name": "stdout",
     "output_type": "stream",
     "text": [
      "P:   1 R:   1 T:   5  psnr: 2.23e+01 at lambda: 2.29e-02, rho: 2.05e-01\r",
      "P:   1 R:   1 T:   5  psnr: 2.23e+01 at lambda: 2.29e-02, rho: 2.05e-01\r"
     ]
    },
    {
     "name": "stdout",
     "output_type": "stream",
     "text": [
      "P:   1 R:   1 T:   5  psnr: 2.23e+01 at lambda: 2.29e-02, rho: 2.05e-01\r",
      "P:   1 R:   1 T:   5  psnr: 2.23e+01 at lambda: 2.29e-02, rho: 2.05e-01\r"
     ]
    },
    {
     "name": "stdout",
     "output_type": "stream",
     "text": [
      "P:   1 R:   1 T:   5  psnr: 2.23e+01 at lambda: 2.29e-02, rho: 2.05e-01\r",
      "P:   1 R:   1 T:   5  psnr: 2.23e+01 at lambda: 2.29e-02, rho: 2.05e-01\r"
     ]
    },
    {
     "name": "stdout",
     "output_type": "stream",
     "text": [
      "P:   1 R:   1 T:   5  psnr: 2.23e+01 at lambda: 2.29e-02, rho: 2.05e-01\r",
      "P:   1 R:   1 T:   5  psnr: 2.23e+01 at lambda: 2.29e-02, rho: 2.05e-01\r"
     ]
    },
    {
     "name": "stdout",
     "output_type": "stream",
     "text": [
      "P:   1 R:   1 T:   5  psnr: 2.23e+01 at lambda: 2.29e-02, rho: 2.05e-01\r",
      "P:   1 R:   1 T:   5  psnr: 2.23e+01 at lambda: 2.29e-02, rho: 2.05e-01\r",
      "P:   1 R:   1 T:   5  psnr: 2.23e+01 at lambda: 2.29e-02, rho: 2.05e-01\r"
     ]
    },
    {
     "name": "stdout",
     "output_type": "stream",
     "text": [
      "P:   1 R:   1 T:   5  psnr: 2.23e+01 at lambda: 2.29e-02, rho: 2.05e-01\r",
      "P:   1 R:   1 T:   5  psnr: 2.23e+01 at lambda: 2.29e-02, rho: 2.05e-01\r",
      "P:   1 R:   0 T:   6  psnr: 2.23e+01 at lambda: 2.29e-02, rho: 2.05e-01\r",
      "P:   0 R:   1 T:   6  psnr: 2.23e+01 at lambda: 2.29e-02, rho: 2.05e-01\r"
     ]
    },
    {
     "name": "stdout",
     "output_type": "stream",
     "text": [
      "P:   1 R:   1 T:   6  psnr: 2.23e+01 at lambda: 2.29e-02, rho: 2.05e-01\r",
      "P:   1 R:   1 T:   6  psnr: 2.23e+01 at lambda: 2.29e-02, rho: 2.05e-01\r"
     ]
    },
    {
     "name": "stdout",
     "output_type": "stream",
     "text": [
      "P:   1 R:   1 T:   6  psnr: 2.23e+01 at lambda: 2.29e-02, rho: 2.05e-01\r",
      "P:   1 R:   1 T:   6  psnr: 2.23e+01 at lambda: 2.29e-02, rho: 2.05e-01\r"
     ]
    },
    {
     "name": "stdout",
     "output_type": "stream",
     "text": [
      "P:   1 R:   1 T:   6  psnr: 2.23e+01 at lambda: 2.29e-02, rho: 2.05e-01\r",
      "P:   1 R:   1 T:   6  psnr: 2.23e+01 at lambda: 2.29e-02, rho: 2.05e-01\r"
     ]
    },
    {
     "name": "stdout",
     "output_type": "stream",
     "text": [
      "P:   1 R:   1 T:   6  psnr: 2.23e+01 at lambda: 2.29e-02, rho: 2.05e-01\r",
      "P:   1 R:   1 T:   6  psnr: 2.23e+01 at lambda: 2.29e-02, rho: 2.05e-01\r",
      "P:   1 R:   1 T:   6  psnr: 2.23e+01 at lambda: 2.29e-02, rho: 2.05e-01\r"
     ]
    },
    {
     "name": "stdout",
     "output_type": "stream",
     "text": [
      "P:   1 R:   1 T:   6  psnr: 2.23e+01 at lambda: 2.29e-02, rho: 2.05e-01\r",
      "P:   1 R:   1 T:   6  psnr: 2.23e+01 at lambda: 2.29e-02, rho: 2.05e-01\r",
      "P:   1 R:   1 T:   6  psnr: 2.23e+01 at lambda: 2.29e-02, rho: 2.05e-01\r"
     ]
    },
    {
     "name": "stdout",
     "output_type": "stream",
     "text": [
      "P:   1 R:   1 T:   6  psnr: 2.23e+01 at lambda: 2.29e-02, rho: 2.05e-01\r",
      "P:   1 R:   1 T:   6  psnr: 2.23e+01 at lambda: 2.29e-02, rho: 2.05e-01\r"
     ]
    },
    {
     "name": "stdout",
     "output_type": "stream",
     "text": [
      "P:   1 R:   1 T:   6  psnr: 2.23e+01 at lambda: 2.29e-02, rho: 2.05e-01\r",
      "P:   1 R:   1 T:   6  psnr: 2.23e+01 at lambda: 2.29e-02, rho: 2.05e-01\r",
      "P:   1 R:   1 T:   6  psnr: 2.23e+01 at lambda: 2.29e-02, rho: 2.05e-01\r",
      "P:   1 R:   1 T:   6  psnr: 2.23e+01 at lambda: 2.29e-02, rho: 2.05e-01\r"
     ]
    },
    {
     "name": "stdout",
     "output_type": "stream",
     "text": [
      "P:   1 R:   1 T:   6  psnr: 2.23e+01 at lambda: 2.29e-02, rho: 2.05e-01\r",
      "P:   1 R:   1 T:   6  psnr: 2.23e+01 at lambda: 2.29e-02, rho: 2.05e-01\r"
     ]
    },
    {
     "name": "stdout",
     "output_type": "stream",
     "text": [
      "P:   1 R:   1 T:   6  psnr: 2.23e+01 at lambda: 2.29e-02, rho: 2.05e-01\r",
      "P:   1 R:   1 T:   6  psnr: 2.23e+01 at lambda: 2.29e-02, rho: 2.05e-01\r",
      "P:   1 R:   1 T:   6  psnr: 2.23e+01 at lambda: 2.29e-02, rho: 2.05e-01\r"
     ]
    },
    {
     "name": "stdout",
     "output_type": "stream",
     "text": [
      "P:   1 R:   1 T:   6  psnr: 2.23e+01 at lambda: 2.29e-02, rho: 2.05e-01\r",
      "P:   1 R:   1 T:   6  psnr: 2.23e+01 at lambda: 2.29e-02, rho: 2.05e-01\r"
     ]
    },
    {
     "name": "stdout",
     "output_type": "stream",
     "text": [
      "P:   1 R:   1 T:   6  psnr: 2.23e+01 at lambda: 2.29e-02, rho: 2.05e-01\r",
      "P:   1 R:   0 T:   7  psnr: 2.23e+01 at lambda: 2.29e-02, rho: 2.05e-01\r",
      "P:   0 R:   1 T:   7  psnr: 2.23e+01 at lambda: 2.29e-02, rho: 2.05e-01\r",
      "P:   1 R:   1 T:   7  psnr: 2.23e+01 at lambda: 2.29e-02, rho: 2.05e-01\r"
     ]
    },
    {
     "name": "stdout",
     "output_type": "stream",
     "text": [
      "P:   1 R:   1 T:   7  psnr: 2.23e+01 at lambda: 2.29e-02, rho: 2.05e-01\r",
      "P:   1 R:   1 T:   7  psnr: 2.23e+01 at lambda: 2.29e-02, rho: 2.05e-01\r"
     ]
    },
    {
     "name": "stdout",
     "output_type": "stream",
     "text": [
      "P:   1 R:   1 T:   7  psnr: 2.23e+01 at lambda: 2.29e-02, rho: 2.05e-01\r",
      "P:   1 R:   1 T:   7  psnr: 2.23e+01 at lambda: 2.29e-02, rho: 2.05e-01\r"
     ]
    },
    {
     "name": "stdout",
     "output_type": "stream",
     "text": [
      "P:   1 R:   1 T:   7  psnr: 2.23e+01 at lambda: 2.29e-02, rho: 2.05e-01\r",
      "P:   1 R:   1 T:   7  psnr: 2.23e+01 at lambda: 2.29e-02, rho: 2.05e-01\r"
     ]
    },
    {
     "name": "stdout",
     "output_type": "stream",
     "text": [
      "P:   1 R:   1 T:   7  psnr: 2.23e+01 at lambda: 2.29e-02, rho: 2.05e-01\r",
      "P:   1 R:   1 T:   7  psnr: 2.23e+01 at lambda: 2.29e-02, rho: 2.05e-01\r",
      "P:   1 R:   0 T:   8  psnr: 2.23e+01 at lambda: 2.29e-02, rho: 2.05e-01\r",
      "P:   0 R:   1 T:   8  psnr: 2.23e+01 at lambda: 2.29e-02, rho: 2.05e-01\r"
     ]
    },
    {
     "name": "stdout",
     "output_type": "stream",
     "text": [
      "P:   1 R:   1 T:   8  psnr: 2.23e+01 at lambda: 2.29e-02, rho: 2.05e-01\r",
      "P:   1 R:   1 T:   8  psnr: 2.23e+01 at lambda: 2.29e-02, rho: 2.05e-01\r"
     ]
    },
    {
     "name": "stdout",
     "output_type": "stream",
     "text": [
      "P:   1 R:   1 T:   8  psnr: 2.23e+01 at lambda: 2.29e-02, rho: 2.05e-01\r",
      "P:   1 R:   1 T:   8  psnr: 2.23e+01 at lambda: 2.29e-02, rho: 2.05e-01\r"
     ]
    },
    {
     "name": "stdout",
     "output_type": "stream",
     "text": [
      "P:   1 R:   1 T:   8  psnr: 2.23e+01 at lambda: 2.29e-02, rho: 2.05e-01\r",
      "P:   1 R:   1 T:   8  psnr: 2.23e+01 at lambda: 2.29e-02, rho: 2.05e-01\r",
      "P:   1 R:   1 T:   8  psnr: 2.23e+01 at lambda: 2.29e-02, rho: 2.05e-01\r"
     ]
    },
    {
     "name": "stdout",
     "output_type": "stream",
     "text": [
      "P:   1 R:   1 T:   8  psnr: 2.23e+01 at lambda: 2.29e-02, rho: 2.05e-01\r",
      "P:   1 R:   1 T:   8  psnr: 2.23e+01 at lambda: 2.29e-02, rho: 2.05e-01\r"
     ]
    },
    {
     "name": "stdout",
     "output_type": "stream",
     "text": [
      "P:   1 R:   1 T:   8  psnr: 2.23e+01 at lambda: 2.29e-02, rho: 2.05e-01\r",
      "P:   1 R:   1 T:   8  psnr: 2.23e+01 at lambda: 2.29e-02, rho: 2.05e-01\r"
     ]
    },
    {
     "name": "stdout",
     "output_type": "stream",
     "text": [
      "P:   1 R:   1 T:   8  psnr: 2.23e+01 at lambda: 2.29e-02, rho: 2.05e-01\r",
      "P:   1 R:   1 T:   8  psnr: 2.23e+01 at lambda: 2.29e-02, rho: 2.05e-01\r"
     ]
    },
    {
     "name": "stdout",
     "output_type": "stream",
     "text": [
      "P:   1 R:   1 T:   8  psnr: 2.23e+01 at lambda: 2.29e-02, rho: 2.05e-01\r",
      "P:   1 R:   1 T:   8  psnr: 2.23e+01 at lambda: 2.29e-02, rho: 2.05e-01\r"
     ]
    },
    {
     "name": "stdout",
     "output_type": "stream",
     "text": [
      "P:   1 R:   1 T:   8  psnr: 2.23e+01 at lambda: 2.29e-02, rho: 2.05e-01\r",
      "P:   1 R:   1 T:   8  psnr: 2.23e+01 at lambda: 2.29e-02, rho: 2.05e-01\r",
      "P:   1 R:   1 T:   8  psnr: 2.23e+01 at lambda: 2.29e-02, rho: 2.05e-01\r"
     ]
    },
    {
     "name": "stdout",
     "output_type": "stream",
     "text": [
      "P:   1 R:   1 T:   8  psnr: 2.23e+01 at lambda: 2.29e-02, rho: 2.05e-01\r",
      "P:   1 R:   1 T:   8  psnr: 2.23e+01 at lambda: 2.29e-02, rho: 2.05e-01\r"
     ]
    },
    {
     "name": "stdout",
     "output_type": "stream",
     "text": [
      "P:   1 R:   1 T:   8  psnr: 2.23e+01 at lambda: 2.29e-02, rho: 2.05e-01\r",
      "P:   1 R:   1 T:   8  psnr: 2.23e+01 at lambda: 2.29e-02, rho: 2.05e-01\r",
      "P:   1 R:   1 T:   8  psnr: 2.23e+01 at lambda: 2.29e-02, rho: 2.05e-01\r"
     ]
    },
    {
     "name": "stdout",
     "output_type": "stream",
     "text": [
      "P:   1 R:   1 T:   8  psnr: 2.23e+01 at lambda: 2.29e-02, rho: 2.05e-01\r",
      "P:   1 R:   1 T:   8  psnr: 2.23e+01 at lambda: 2.29e-02, rho: 2.05e-01\r"
     ]
    },
    {
     "name": "stdout",
     "output_type": "stream",
     "text": [
      "P:   1 R:   1 T:   8  psnr: 2.23e+01 at lambda: 2.29e-02, rho: 2.05e-01\r",
      "P:   1 R:   0 T:   9  psnr: 2.23e+01 at lambda: 2.29e-02, rho: 2.05e-01\r",
      "P:   0 R:   1 T:   9  psnr: 2.23e+01 at lambda: 2.29e-02, rho: 2.05e-01\r"
     ]
    },
    {
     "name": "stdout",
     "output_type": "stream",
     "text": [
      "P:   1 R:   1 T:   9  psnr: 2.23e+01 at lambda: 2.29e-02, rho: 2.05e-01\r",
      "P:   1 R:   1 T:   9  psnr: 2.23e+01 at lambda: 2.29e-02, rho: 2.05e-01\r"
     ]
    },
    {
     "name": "stdout",
     "output_type": "stream",
     "text": [
      "P:   1 R:   1 T:   9  psnr: 2.23e+01 at lambda: 2.29e-02, rho: 2.05e-01\r",
      "P:   1 R:   1 T:   9  psnr: 2.23e+01 at lambda: 2.29e-02, rho: 2.05e-01\r"
     ]
    },
    {
     "name": "stdout",
     "output_type": "stream",
     "text": [
      "P:   1 R:   1 T:   9  psnr: 2.23e+01 at lambda: 2.29e-02, rho: 2.05e-01\r",
      "P:   1 R:   1 T:   9  psnr: 2.23e+01 at lambda: 2.29e-02, rho: 2.05e-01\r"
     ]
    },
    {
     "name": "stdout",
     "output_type": "stream",
     "text": [
      "P:   1 R:   1 T:   9  psnr: 2.23e+01 at lambda: 2.29e-02, rho: 2.05e-01\r",
      "P:   1 R:   1 T:   9  psnr: 2.23e+01 at lambda: 2.29e-02, rho: 2.05e-01\r"
     ]
    },
    {
     "name": "stdout",
     "output_type": "stream",
     "text": [
      "P:   1 R:   1 T:   9  psnr: 2.23e+01 at lambda: 2.29e-02, rho: 2.05e-01\r",
      "P:   1 R:   1 T:   9  psnr: 2.23e+01 at lambda: 2.29e-02, rho: 2.05e-01\r"
     ]
    },
    {
     "name": "stdout",
     "output_type": "stream",
     "text": [
      "P:   1 R:   1 T:   9  psnr: 2.23e+01 at lambda: 2.29e-02, rho: 2.05e-01\r",
      "P:   1 R:   0 T:  10  psnr: 2.23e+01 at lambda: 2.29e-02, rho: 2.05e-01\r",
      "P:   0 R:   1 T:  10  psnr: 2.23e+01 at lambda: 2.29e-02, rho: 2.05e-01\r",
      "P:   1 R:   1 T:  10  psnr: 2.23e+01 at lambda: 2.29e-02, rho: 2.05e-01\r"
     ]
    },
    {
     "name": "stdout",
     "output_type": "stream",
     "text": [
      "P:   1 R:   1 T:  10  psnr: 2.23e+01 at lambda: 2.29e-02, rho: 2.05e-01\r",
      "P:   1 R:   1 T:  10  psnr: 2.23e+01 at lambda: 2.29e-02, rho: 2.05e-01\r"
     ]
    },
    {
     "name": "stdout",
     "output_type": "stream",
     "text": [
      "P:   1 R:   1 T:  10  psnr: 2.23e+01 at lambda: 2.29e-02, rho: 2.05e-01\r",
      "P:   1 R:   1 T:  10  psnr: 2.23e+01 at lambda: 2.29e-02, rho: 2.05e-01\r"
     ]
    },
    {
     "name": "stdout",
     "output_type": "stream",
     "text": [
      "P:   1 R:   1 T:  10  psnr: 2.23e+01 at lambda: 2.29e-02, rho: 2.05e-01\r",
      "P:   1 R:   1 T:  10  psnr: 2.23e+01 at lambda: 2.29e-02, rho: 2.05e-01\r"
     ]
    },
    {
     "name": "stdout",
     "output_type": "stream",
     "text": [
      "P:   1 R:   1 T:  10  psnr: 2.23e+01 at lambda: 2.29e-02, rho: 2.05e-01\r",
      "P:   1 R:   1 T:  10  psnr: 2.23e+01 at lambda: 2.29e-02, rho: 2.05e-01\r",
      "P:   1 R:   1 T:  10  psnr: 2.23e+01 at lambda: 2.29e-02, rho: 2.05e-01\r"
     ]
    },
    {
     "name": "stdout",
     "output_type": "stream",
     "text": [
      "P:   1 R:   1 T:  10  psnr: 2.23e+01 at lambda: 2.29e-02, rho: 2.05e-01\r",
      "P:   1 R:   0 T:  11  psnr: 2.23e+01 at lambda: 2.29e-02, rho: 2.05e-01\r",
      "P:   0 R:   1 T:  11  psnr: 2.23e+01 at lambda: 2.29e-02, rho: 2.05e-01\r"
     ]
    },
    {
     "name": "stdout",
     "output_type": "stream",
     "text": [
      "P:   1 R:   1 T:  11  psnr: 2.23e+01 at lambda: 2.29e-02, rho: 2.05e-01\r",
      "P:   1 R:   1 T:  11  psnr: 2.23e+01 at lambda: 2.29e-02, rho: 2.05e-01\r"
     ]
    },
    {
     "name": "stdout",
     "output_type": "stream",
     "text": [
      "P:   1 R:   1 T:  11  psnr: 2.23e+01 at lambda: 2.29e-02, rho: 2.05e-01\r",
      "P:   1 R:   1 T:  11  psnr: 2.23e+01 at lambda: 2.29e-02, rho: 2.05e-01\r"
     ]
    },
    {
     "name": "stdout",
     "output_type": "stream",
     "text": [
      "P:   1 R:   1 T:  11  psnr: 2.23e+01 at lambda: 2.29e-02, rho: 2.05e-01\r",
      "P:   1 R:   1 T:  11  psnr: 2.23e+01 at lambda: 2.29e-02, rho: 2.05e-01\r",
      "P:   1 R:   1 T:  11  psnr: 2.23e+01 at lambda: 2.29e-02, rho: 2.05e-01\r"
     ]
    },
    {
     "name": "stdout",
     "output_type": "stream",
     "text": [
      "P:   1 R:   1 T:  11  psnr: 2.23e+01 at lambda: 2.29e-02, rho: 2.05e-01\r",
      "P:   1 R:   1 T:  11  psnr: 2.23e+01 at lambda: 2.29e-02, rho: 2.05e-01\r"
     ]
    },
    {
     "name": "stdout",
     "output_type": "stream",
     "text": [
      "P:   1 R:   1 T:  11  psnr: 2.23e+01 at lambda: 2.29e-02, rho: 2.05e-01\r",
      "P:   1 R:   1 T:  11  psnr: 2.23e+01 at lambda: 2.29e-02, rho: 2.05e-01\r",
      "P:   1 R:   0 T:  12  psnr: 2.23e+01 at lambda: 2.29e-02, rho: 2.05e-01\r",
      "P:   0 R:   1 T:  12  psnr: 2.23e+01 at lambda: 2.29e-02, rho: 2.05e-01\r"
     ]
    },
    {
     "name": "stdout",
     "output_type": "stream",
     "text": [
      "P:   1 R:   1 T:  12  psnr: 2.23e+01 at lambda: 2.29e-02, rho: 2.05e-01\r",
      "P:   1 R:   1 T:  12  psnr: 2.23e+01 at lambda: 2.29e-02, rho: 2.05e-01\r"
     ]
    },
    {
     "name": "stdout",
     "output_type": "stream",
     "text": [
      "P:   1 R:   1 T:  12  psnr: 2.23e+01 at lambda: 2.29e-02, rho: 2.05e-01\r",
      "P:   1 R:   1 T:  12  psnr: 2.23e+01 at lambda: 2.29e-02, rho: 2.05e-01\r"
     ]
    },
    {
     "name": "stdout",
     "output_type": "stream",
     "text": [
      "P:   1 R:   1 T:  12  psnr: 2.23e+01 at lambda: 2.29e-02, rho: 2.05e-01\r",
      "P:   1 R:   1 T:  12  psnr: 2.23e+01 at lambda: 2.29e-02, rho: 2.05e-01\r"
     ]
    },
    {
     "name": "stdout",
     "output_type": "stream",
     "text": [
      "P:   1 R:   1 T:  12  psnr: 2.23e+01 at lambda: 2.29e-02, rho: 2.05e-01\r",
      "P:   1 R:   1 T:  12  psnr: 2.23e+01 at lambda: 2.29e-02, rho: 2.05e-01\r"
     ]
    },
    {
     "name": "stdout",
     "output_type": "stream",
     "text": [
      "P:   1 R:   1 T:  12  psnr: 2.23e+01 at lambda: 2.29e-02, rho: 2.05e-01\r",
      "P:   1 R:   1 T:  12  psnr: 2.23e+01 at lambda: 2.29e-02, rho: 2.05e-01\r"
     ]
    },
    {
     "name": "stdout",
     "output_type": "stream",
     "text": [
      "P:   1 R:   1 T:  12  psnr: 2.23e+01 at lambda: 2.29e-02, rho: 2.05e-01\r",
      "P:   1 R:   1 T:  12  psnr: 2.23e+01 at lambda: 2.29e-02, rho: 2.05e-01\r"
     ]
    },
    {
     "name": "stdout",
     "output_type": "stream",
     "text": [
      "P:   1 R:   1 T:  12  psnr: 2.23e+01 at lambda: 2.29e-02, rho: 2.05e-01\r",
      "P:   1 R:   0 T:  13  psnr: 2.23e+01 at lambda: 2.29e-02, rho: 2.05e-01\r",
      "P:   0 R:   1 T:  13  psnr: 2.23e+01 at lambda: 2.29e-02, rho: 2.05e-01\r"
     ]
    },
    {
     "name": "stdout",
     "output_type": "stream",
     "text": [
      "P:   1 R:   1 T:  13  psnr: 2.23e+01 at lambda: 2.29e-02, rho: 2.05e-01\r",
      "P:   1 R:   1 T:  13  psnr: 2.23e+01 at lambda: 2.29e-02, rho: 2.05e-01\r"
     ]
    },
    {
     "name": "stdout",
     "output_type": "stream",
     "text": [
      "P:   1 R:   1 T:  13  psnr: 2.23e+01 at lambda: 2.29e-02, rho: 2.05e-01\r",
      "P:   1 R:   1 T:  13  psnr: 2.23e+01 at lambda: 2.29e-02, rho: 2.05e-01\r"
     ]
    },
    {
     "name": "stdout",
     "output_type": "stream",
     "text": [
      "P:   1 R:   1 T:  13  psnr: 2.23e+01 at lambda: 2.29e-02, rho: 2.05e-01\r",
      "P:   1 R:   1 T:  13  psnr: 2.23e+01 at lambda: 2.29e-02, rho: 2.05e-01\r"
     ]
    },
    {
     "name": "stdout",
     "output_type": "stream",
     "text": [
      "P:   1 R:   1 T:  13  psnr: 2.23e+01 at lambda: 2.29e-02, rho: 2.05e-01\r",
      "P:   1 R:   1 T:  13  psnr: 2.23e+01 at lambda: 2.29e-02, rho: 2.05e-01\r",
      "P:   1 R:   1 T:  13  psnr: 2.23e+01 at lambda: 2.29e-02, rho: 2.05e-01\r"
     ]
    },
    {
     "name": "stdout",
     "output_type": "stream",
     "text": [
      "P:   1 R:   0 T:  14  psnr: 2.23e+01 at lambda: 2.29e-02, rho: 2.05e-01\r",
      "P:   0 R:   1 T:  14  psnr: 2.23e+01 at lambda: 2.29e-02, rho: 2.05e-01\r",
      "P:   1 R:   1 T:  14  psnr: 2.23e+01 at lambda: 2.29e-02, rho: 2.05e-01\r"
     ]
    },
    {
     "name": "stdout",
     "output_type": "stream",
     "text": [
      "P:   1 R:   1 T:  14  psnr: 2.23e+01 at lambda: 2.29e-02, rho: 2.05e-01\r",
      "P:   1 R:   1 T:  14  psnr: 2.23e+01 at lambda: 2.29e-02, rho: 2.05e-01\r"
     ]
    },
    {
     "name": "stdout",
     "output_type": "stream",
     "text": [
      "P:   1 R:   1 T:  14  psnr: 2.23e+01 at lambda: 2.29e-02, rho: 2.05e-01\r",
      "P:   1 R:   1 T:  14  psnr: 2.23e+01 at lambda: 2.29e-02, rho: 2.05e-01\r"
     ]
    },
    {
     "name": "stdout",
     "output_type": "stream",
     "text": [
      "P:   1 R:   1 T:  14  psnr: 2.23e+01 at lambda: 2.29e-02, rho: 2.05e-01\r",
      "P:   1 R:   1 T:  14  psnr: 2.23e+01 at lambda: 2.29e-02, rho: 2.05e-01\r"
     ]
    },
    {
     "name": "stdout",
     "output_type": "stream",
     "text": [
      "P:   1 R:   1 T:  14  psnr: 2.23e+01 at lambda: 2.29e-02, rho: 2.05e-01\r",
      "P:   1 R:   1 T:  14  psnr: 2.23e+01 at lambda: 2.29e-02, rho: 2.05e-01\r"
     ]
    },
    {
     "name": "stdout",
     "output_type": "stream",
     "text": [
      "P:   1 R:   1 T:  14  psnr: 2.23e+01 at lambda: 2.29e-02, rho: 2.05e-01\r",
      "P:   1 R:   1 T:  14  psnr: 2.23e+01 at lambda: 2.29e-02, rho: 2.05e-01\r"
     ]
    },
    {
     "name": "stdout",
     "output_type": "stream",
     "text": [
      "P:   1 R:   1 T:  14  psnr: 2.23e+01 at lambda: 2.29e-02, rho: 2.05e-01\r",
      "P:   1 R:   1 T:  14  psnr: 2.23e+01 at lambda: 2.29e-02, rho: 2.05e-01\r",
      "P:   1 R:   0 T:  15  psnr: 2.23e+01 at lambda: 2.29e-02, rho: 2.05e-01\r"
     ]
    },
    {
     "name": "stdout",
     "output_type": "stream",
     "text": [
      "P:   0 R:   1 T:  15  psnr: 2.23e+01 at lambda: 2.29e-02, rho: 2.05e-01\r",
      "P:   1 R:   1 T:  15  psnr: 2.23e+01 at lambda: 2.29e-02, rho: 2.05e-01\r",
      "P:   1 R:   1 T:  15  psnr: 2.23e+01 at lambda: 2.29e-02, rho: 2.05e-01\r"
     ]
    },
    {
     "name": "stdout",
     "output_type": "stream",
     "text": [
      "P:   1 R:   1 T:  15  psnr: 2.23e+01 at lambda: 2.29e-02, rho: 2.05e-01\r",
      "P:   1 R:   1 T:  15  psnr: 2.23e+01 at lambda: 2.29e-02, rho: 2.05e-01\r"
     ]
    },
    {
     "name": "stdout",
     "output_type": "stream",
     "text": [
      "P:   1 R:   1 T:  15  psnr: 2.23e+01 at lambda: 2.29e-02, rho: 2.05e-01\r",
      "P:   1 R:   1 T:  15  psnr: 2.23e+01 at lambda: 2.29e-02, rho: 2.05e-01\r"
     ]
    },
    {
     "name": "stdout",
     "output_type": "stream",
     "text": [
      "P:   1 R:   1 T:  15  psnr: 2.23e+01 at lambda: 2.29e-02, rho: 2.05e-01\r",
      "P:   1 R:   1 T:  15  psnr: 2.23e+01 at lambda: 2.29e-02, rho: 2.05e-01\r"
     ]
    },
    {
     "name": "stdout",
     "output_type": "stream",
     "text": [
      "P:   1 R:   1 T:  15  psnr: 2.23e+01 at lambda: 2.29e-02, rho: 2.05e-01\r",
      "P:   1 R:   1 T:  15  psnr: 2.23e+01 at lambda: 2.29e-02, rho: 2.05e-01\r",
      "P:   1 R:   1 T:  15  psnr: 2.23e+01 at lambda: 2.29e-02, rho: 2.05e-01\r"
     ]
    },
    {
     "name": "stdout",
     "output_type": "stream",
     "text": [
      "P:   1 R:   1 T:  15  psnr: 2.23e+01 at lambda: 2.29e-02, rho: 2.05e-01\r",
      "P:   1 R:   1 T:  15  psnr: 2.23e+01 at lambda: 2.29e-02, rho: 2.05e-01\r",
      "P:   1 R:   0 T:  16  psnr: 2.23e+01 at lambda: 2.29e-02, rho: 2.05e-01\r",
      "P:   0 R:   1 T:  16  psnr: 2.23e+01 at lambda: 2.29e-02, rho: 2.05e-01\r"
     ]
    },
    {
     "name": "stdout",
     "output_type": "stream",
     "text": [
      "P:   1 R:   1 T:  16  psnr: 2.23e+01 at lambda: 2.29e-02, rho: 2.05e-01\r",
      "P:   1 R:   1 T:  16  psnr: 2.23e+01 at lambda: 2.29e-02, rho: 2.05e-01\r"
     ]
    },
    {
     "name": "stdout",
     "output_type": "stream",
     "text": [
      "P:   1 R:   1 T:  16  psnr: 2.23e+01 at lambda: 2.29e-02, rho: 2.05e-01\r",
      "P:   1 R:   1 T:  16  psnr: 2.23e+01 at lambda: 2.29e-02, rho: 2.05e-01\r"
     ]
    },
    {
     "name": "stdout",
     "output_type": "stream",
     "text": [
      "P:   1 R:   1 T:  16  psnr: 2.23e+01 at lambda: 2.29e-02, rho: 2.05e-01\r",
      "P:   1 R:   1 T:  16  psnr: 2.23e+01 at lambda: 2.29e-02, rho: 2.05e-01\r"
     ]
    },
    {
     "name": "stdout",
     "output_type": "stream",
     "text": [
      "P:   1 R:   1 T:  16  psnr: 2.23e+01 at lambda: 2.29e-02, rho: 2.05e-01\r",
      "P:   1 R:   1 T:  16  psnr: 2.23e+01 at lambda: 2.29e-02, rho: 2.05e-01\r",
      "P:   1 R:   1 T:  16  psnr: 2.23e+01 at lambda: 2.29e-02, rho: 2.05e-01\r"
     ]
    },
    {
     "name": "stdout",
     "output_type": "stream",
     "text": [
      "P:   1 R:   1 T:  16  psnr: 2.23e+01 at lambda: 2.29e-02, rho: 2.05e-01\r",
      "P:   1 R:   0 T:  17  psnr: 2.23e+01 at lambda: 2.29e-02, rho: 2.05e-01\r",
      "P:   0 R:   1 T:  17  psnr: 2.23e+01 at lambda: 2.29e-02, rho: 2.05e-01\r",
      "P:   1 R:   1 T:  17  psnr: 2.23e+01 at lambda: 2.29e-02, rho: 2.05e-01\r"
     ]
    },
    {
     "name": "stdout",
     "output_type": "stream",
     "text": [
      "P:   1 R:   1 T:  17  psnr: 2.23e+01 at lambda: 2.29e-02, rho: 2.05e-01\r",
      "P:   1 R:   1 T:  17  psnr: 2.23e+01 at lambda: 2.29e-02, rho: 2.05e-01\r"
     ]
    },
    {
     "name": "stdout",
     "output_type": "stream",
     "text": [
      "P:   1 R:   1 T:  17  psnr: 2.23e+01 at lambda: 2.29e-02, rho: 2.05e-01\r",
      "P:   1 R:   1 T:  17  psnr: 2.23e+01 at lambda: 2.29e-02, rho: 2.05e-01\r"
     ]
    },
    {
     "name": "stdout",
     "output_type": "stream",
     "text": [
      "P:   1 R:   1 T:  17  psnr: 2.23e+01 at lambda: 2.29e-02, rho: 2.05e-01\r",
      "P:   1 R:   1 T:  17  psnr: 2.23e+01 at lambda: 2.29e-02, rho: 2.05e-01\r"
     ]
    },
    {
     "name": "stdout",
     "output_type": "stream",
     "text": [
      "P:   1 R:   1 T:  17  psnr: 2.23e+01 at lambda: 2.29e-02, rho: 2.05e-01\r",
      "P:   1 R:   0 T:  18  psnr: 2.23e+01 at lambda: 2.29e-02, rho: 2.05e-01\r",
      "P:   0 R:   1 T:  18  psnr: 2.23e+01 at lambda: 2.29e-02, rho: 2.05e-01\r"
     ]
    },
    {
     "name": "stdout",
     "output_type": "stream",
     "text": [
      "P:   1 R:   1 T:  18  psnr: 2.23e+01 at lambda: 2.29e-02, rho: 2.05e-01\r",
      "P:   1 R:   1 T:  18  psnr: 2.23e+01 at lambda: 2.29e-02, rho: 2.05e-01\r"
     ]
    },
    {
     "name": "stdout",
     "output_type": "stream",
     "text": [
      "P:   1 R:   1 T:  18  psnr: 2.23e+01 at lambda: 2.29e-02, rho: 2.05e-01\r",
      "P:   1 R:   1 T:  18  psnr: 2.23e+01 at lambda: 2.29e-02, rho: 2.05e-01\r"
     ]
    },
    {
     "name": "stdout",
     "output_type": "stream",
     "text": [
      "P:   1 R:   1 T:  18  psnr: 2.23e+01 at lambda: 2.29e-02, rho: 2.05e-01\r",
      "P:   1 R:   1 T:  18  psnr: 2.23e+01 at lambda: 2.29e-02, rho: 2.05e-01\r"
     ]
    },
    {
     "name": "stdout",
     "output_type": "stream",
     "text": [
      "P:   1 R:   1 T:  18  psnr: 2.23e+01 at lambda: 2.29e-02, rho: 2.05e-01\r",
      "P:   1 R:   1 T:  18  psnr: 2.23e+01 at lambda: 2.29e-02, rho: 2.05e-01\r",
      "P:   1 R:   0 T:  19  psnr: 2.23e+01 at lambda: 2.29e-02, rho: 2.05e-01\r"
     ]
    },
    {
     "name": "stdout",
     "output_type": "stream",
     "text": [
      "P:   0 R:   1 T:  19  psnr: 2.23e+01 at lambda: 2.29e-02, rho: 2.05e-01\r",
      "P:   1 R:   1 T:  19  psnr: 2.23e+01 at lambda: 2.29e-02, rho: 2.05e-01\r"
     ]
    },
    {
     "name": "stdout",
     "output_type": "stream",
     "text": [
      "P:   1 R:   1 T:  19  psnr: 2.23e+01 at lambda: 2.29e-02, rho: 2.05e-01\r",
      "P:   1 R:   1 T:  19  psnr: 2.23e+01 at lambda: 2.29e-02, rho: 2.05e-01\r"
     ]
    },
    {
     "name": "stdout",
     "output_type": "stream",
     "text": [
      "P:   1 R:   1 T:  19  psnr: 2.23e+01 at lambda: 2.29e-02, rho: 2.05e-01\r",
      "P:   1 R:   1 T:  19  psnr: 2.23e+01 at lambda: 2.29e-02, rho: 2.05e-01\r",
      "P:   1 R:   1 T:  19  psnr: 2.23e+01 at lambda: 2.29e-02, rho: 2.05e-01\r"
     ]
    },
    {
     "name": "stdout",
     "output_type": "stream",
     "text": [
      "P:   1 R:   1 T:  19  psnr: 2.23e+01 at lambda: 2.29e-02, rho: 2.05e-01\r",
      "P:   1 R:   1 T:  19  psnr: 2.23e+01 at lambda: 2.29e-02, rho: 2.05e-01\r",
      "P:   1 R:   1 T:  19  psnr: 2.23e+01 at lambda: 2.29e-02, rho: 2.05e-01\r"
     ]
    },
    {
     "name": "stdout",
     "output_type": "stream",
     "text": [
      "P:   1 R:   1 T:  19  psnr: 2.23e+01 at lambda: 2.29e-02, rho: 2.05e-01\r",
      "P:   1 R:   1 T:  19  psnr: 2.23e+01 at lambda: 2.29e-02, rho: 2.05e-01\r"
     ]
    },
    {
     "name": "stdout",
     "output_type": "stream",
     "text": [
      "P:   1 R:   1 T:  19  psnr: 2.23e+01 at lambda: 2.29e-02, rho: 2.05e-01\r",
      "P:   1 R:   1 T:  19  psnr: 2.23e+01 at lambda: 2.29e-02, rho: 2.05e-01\r",
      "P:   1 R:   1 T:  19  psnr: 2.23e+01 at lambda: 2.29e-02, rho: 2.05e-01\r"
     ]
    },
    {
     "name": "stdout",
     "output_type": "stream",
     "text": [
      "P:   1 R:   1 T:  19  psnr: 2.23e+01 at lambda: 2.29e-02, rho: 2.05e-01\r",
      "P:   1 R:   1 T:  19  psnr: 2.23e+01 at lambda: 2.29e-02, rho: 2.05e-01\r"
     ]
    },
    {
     "name": "stdout",
     "output_type": "stream",
     "text": [
      "P:   1 R:   1 T:  19  psnr: 2.23e+01 at lambda: 2.29e-02, rho: 2.05e-01\r",
      "P:   1 R:   1 T:  19  psnr: 2.23e+01 at lambda: 2.29e-02, rho: 2.05e-01\r",
      "P:   1 R:   1 T:  19  psnr: 2.23e+01 at lambda: 2.29e-02, rho: 2.05e-01\r",
      "P:   1 R:   1 T:  19  psnr: 2.23e+01 at lambda: 2.29e-02, rho: 2.05e-01\r"
     ]
    },
    {
     "name": "stdout",
     "output_type": "stream",
     "text": [
      "P:   1 R:   1 T:  19  psnr: 2.23e+01 at lambda: 2.29e-02, rho: 2.05e-01\r",
      "P:   1 R:   1 T:  19  psnr: 2.23e+01 at lambda: 2.29e-02, rho: 2.05e-01\r",
      "P:   1 R:   1 T:  19  psnr: 2.23e+01 at lambda: 2.33e-02, rho: 1.14e-01\r"
     ]
    },
    {
     "name": "stdout",
     "output_type": "stream",
     "text": [
      "P:   1 R:   1 T:  19  psnr: 2.23e+01 at lambda: 2.33e-02, rho: 1.14e-01\r",
      "P:   1 R:   1 T:  19  psnr: 2.23e+01 at lambda: 2.33e-02, rho: 1.14e-01\r"
     ]
    },
    {
     "name": "stdout",
     "output_type": "stream",
     "text": [
      "P:   1 R:   1 T:  19  psnr: 2.23e+01 at lambda: 2.33e-02, rho: 1.14e-01\r",
      "P:   1 R:   0 T:  20  psnr: 2.23e+01 at lambda: 2.33e-02, rho: 1.14e-01\r",
      "P:   0 R:   1 T:  20  psnr: 2.23e+01 at lambda: 2.33e-02, rho: 1.14e-01\r",
      "P:   1 R:   1 T:  20  psnr: 2.23e+01 at lambda: 2.33e-02, rho: 1.14e-01\r"
     ]
    },
    {
     "name": "stdout",
     "output_type": "stream",
     "text": [
      "P:   1 R:   1 T:  20  psnr: 2.23e+01 at lambda: 2.33e-02, rho: 1.14e-01\r",
      "P:   1 R:   1 T:  20  psnr: 2.23e+01 at lambda: 2.33e-02, rho: 1.14e-01\r"
     ]
    },
    {
     "name": "stdout",
     "output_type": "stream",
     "text": [
      "P:   1 R:   1 T:  20  psnr: 2.23e+01 at lambda: 2.33e-02, rho: 1.14e-01\r",
      "P:   1 R:   1 T:  20  psnr: 2.23e+01 at lambda: 2.33e-02, rho: 1.14e-01\r"
     ]
    },
    {
     "name": "stdout",
     "output_type": "stream",
     "text": [
      "P:   1 R:   1 T:  20  psnr: 2.23e+01 at lambda: 2.33e-02, rho: 1.14e-01\r",
      "P:   1 R:   1 T:  20  psnr: 2.23e+01 at lambda: 2.33e-02, rho: 1.14e-01\r",
      "P:   1 R:   1 T:  20  psnr: 2.23e+01 at lambda: 2.33e-02, rho: 1.14e-01\r"
     ]
    },
    {
     "name": "stdout",
     "output_type": "stream",
     "text": [
      "P:   1 R:   1 T:  20  psnr: 2.23e+01 at lambda: 2.33e-02, rho: 1.14e-01\r",
      "P:   1 R:   1 T:  20  psnr: 2.23e+01 at lambda: 2.33e-02, rho: 1.14e-01\r",
      "P:   1 R:   0 T:  21  psnr: 2.23e+01 at lambda: 2.33e-02, rho: 1.14e-01\r"
     ]
    },
    {
     "name": "stdout",
     "output_type": "stream",
     "text": [
      "P:   0 R:   1 T:  21  psnr: 2.23e+01 at lambda: 2.33e-02, rho: 1.14e-01\r",
      "P:   1 R:   1 T:  21  psnr: 2.23e+01 at lambda: 2.33e-02, rho: 1.14e-01\r"
     ]
    },
    {
     "name": "stdout",
     "output_type": "stream",
     "text": [
      "P:   1 R:   1 T:  21  psnr: 2.23e+01 at lambda: 2.33e-02, rho: 1.14e-01\r",
      "P:   1 R:   1 T:  21  psnr: 2.23e+01 at lambda: 2.33e-02, rho: 1.14e-01\r"
     ]
    },
    {
     "name": "stdout",
     "output_type": "stream",
     "text": [
      "P:   1 R:   1 T:  21  psnr: 2.23e+01 at lambda: 2.33e-02, rho: 1.14e-01\r",
      "P:   1 R:   1 T:  21  psnr: 2.23e+01 at lambda: 2.33e-02, rho: 1.14e-01\r"
     ]
    },
    {
     "name": "stdout",
     "output_type": "stream",
     "text": [
      "P:   1 R:   1 T:  21  psnr: 2.23e+01 at lambda: 2.33e-02, rho: 1.14e-01\r",
      "P:   1 R:   1 T:  21  psnr: 2.23e+01 at lambda: 2.33e-02, rho: 1.14e-01\r",
      "P:   1 R:   1 T:  21  psnr: 2.23e+01 at lambda: 2.33e-02, rho: 1.14e-01\r"
     ]
    },
    {
     "name": "stdout",
     "output_type": "stream",
     "text": [
      "P:   1 R:   1 T:  21  psnr: 2.23e+01 at lambda: 2.33e-02, rho: 1.14e-01\r",
      "P:   1 R:   1 T:  21  psnr: 2.23e+01 at lambda: 2.33e-02, rho: 1.14e-01\r",
      "P:   1 R:   1 T:  21  psnr: 2.23e+01 at lambda: 2.33e-02, rho: 1.14e-01\r"
     ]
    },
    {
     "name": "stdout",
     "output_type": "stream",
     "text": [
      "P:   1 R:   1 T:  21  psnr: 2.23e+01 at lambda: 2.33e-02, rho: 1.14e-01\r",
      "P:   1 R:   1 T:  21  psnr: 2.23e+01 at lambda: 2.33e-02, rho: 1.14e-01\r"
     ]
    },
    {
     "name": "stdout",
     "output_type": "stream",
     "text": [
      "P:   1 R:   1 T:  21  psnr: 2.23e+01 at lambda: 2.33e-02, rho: 1.14e-01\r",
      "P:   1 R:   1 T:  21  psnr: 2.23e+01 at lambda: 2.33e-02, rho: 1.14e-01\r",
      "P:   1 R:   1 T:  21  psnr: 2.23e+01 at lambda: 2.33e-02, rho: 1.14e-01\r",
      "P:   1 R:   1 T:  21  psnr: 2.23e+01 at lambda: 2.33e-02, rho: 1.14e-01\r"
     ]
    },
    {
     "name": "stdout",
     "output_type": "stream",
     "text": [
      "P:   1 R:   1 T:  21  psnr: 2.23e+01 at lambda: 2.33e-02, rho: 1.14e-01\r",
      "P:   1 R:   1 T:  21  psnr: 2.23e+01 at lambda: 2.33e-02, rho: 1.14e-01\r",
      "P:   1 R:   1 T:  21  psnr: 2.23e+01 at lambda: 2.33e-02, rho: 1.14e-01\r"
     ]
    },
    {
     "name": "stdout",
     "output_type": "stream",
     "text": [
      "P:   1 R:   1 T:  21  psnr: 2.23e+01 at lambda: 2.33e-02, rho: 1.14e-01\r",
      "P:   1 R:   1 T:  21  psnr: 2.23e+01 at lambda: 2.33e-02, rho: 1.14e-01\r"
     ]
    },
    {
     "name": "stdout",
     "output_type": "stream",
     "text": [
      "P:   1 R:   1 T:  21  psnr: 2.23e+01 at lambda: 2.33e-02, rho: 1.14e-01\r",
      "P:   1 R:   0 T:  22  psnr: 2.23e+01 at lambda: 2.33e-02, rho: 1.14e-01\r",
      "P:   0 R:   1 T:  22  psnr: 2.23e+01 at lambda: 2.33e-02, rho: 1.14e-01\r",
      "P:   1 R:   1 T:  22  psnr: 2.23e+01 at lambda: 2.33e-02, rho: 1.14e-01\r"
     ]
    },
    {
     "name": "stdout",
     "output_type": "stream",
     "text": [
      "P:   1 R:   1 T:  22  psnr: 2.23e+01 at lambda: 2.33e-02, rho: 1.14e-01\r",
      "P:   1 R:   1 T:  22  psnr: 2.23e+01 at lambda: 2.33e-02, rho: 1.14e-01\r"
     ]
    },
    {
     "name": "stdout",
     "output_type": "stream",
     "text": [
      "P:   1 R:   1 T:  22  psnr: 2.23e+01 at lambda: 2.33e-02, rho: 1.14e-01\r",
      "P:   1 R:   1 T:  22  psnr: 2.23e+01 at lambda: 2.33e-02, rho: 1.14e-01\r"
     ]
    },
    {
     "name": "stdout",
     "output_type": "stream",
     "text": [
      "P:   1 R:   1 T:  22  psnr: 2.23e+01 at lambda: 2.33e-02, rho: 1.14e-01\r",
      "P:   1 R:   1 T:  22  psnr: 2.23e+01 at lambda: 2.33e-02, rho: 1.14e-01\r"
     ]
    },
    {
     "name": "stdout",
     "output_type": "stream",
     "text": [
      "P:   1 R:   1 T:  22  psnr: 2.23e+01 at lambda: 2.33e-02, rho: 1.14e-01\r",
      "P:   1 R:   1 T:  22  psnr: 2.23e+01 at lambda: 2.33e-02, rho: 1.14e-01\r",
      "P:   1 R:   0 T:  23  psnr: 2.23e+01 at lambda: 2.33e-02, rho: 1.14e-01\r",
      "P:   0 R:   1 T:  23  psnr: 2.23e+01 at lambda: 2.33e-02, rho: 1.14e-01\r"
     ]
    },
    {
     "name": "stdout",
     "output_type": "stream",
     "text": [
      "P:   1 R:   1 T:  23  psnr: 2.23e+01 at lambda: 2.33e-02, rho: 1.14e-01\r",
      "P:   1 R:   1 T:  23  psnr: 2.23e+01 at lambda: 2.33e-02, rho: 1.14e-01\r"
     ]
    },
    {
     "name": "stdout",
     "output_type": "stream",
     "text": [
      "P:   1 R:   1 T:  23  psnr: 2.23e+01 at lambda: 2.33e-02, rho: 1.14e-01\r",
      "P:   1 R:   1 T:  23  psnr: 2.23e+01 at lambda: 2.33e-02, rho: 1.14e-01\r"
     ]
    },
    {
     "name": "stdout",
     "output_type": "stream",
     "text": [
      "P:   1 R:   1 T:  23  psnr: 2.23e+01 at lambda: 2.33e-02, rho: 1.14e-01\r",
      "P:   1 R:   1 T:  23  psnr: 2.23e+01 at lambda: 2.33e-02, rho: 1.14e-01\r"
     ]
    },
    {
     "name": "stdout",
     "output_type": "stream",
     "text": [
      "P:   1 R:   1 T:  23  psnr: 2.23e+01 at lambda: 2.33e-02, rho: 1.14e-01\r",
      "P:   1 R:   1 T:  23  psnr: 2.23e+01 at lambda: 2.33e-02, rho: 1.14e-01\r"
     ]
    },
    {
     "name": "stdout",
     "output_type": "stream",
     "text": [
      "P:   1 R:   1 T:  23  psnr: 2.23e+01 at lambda: 2.33e-02, rho: 1.14e-01\r",
      "P:   1 R:   1 T:  23  psnr: 2.23e+01 at lambda: 2.33e-02, rho: 1.14e-01\r",
      "P:   1 R:   1 T:  23  psnr: 2.23e+01 at lambda: 2.33e-02, rho: 1.14e-01\r"
     ]
    },
    {
     "name": "stdout",
     "output_type": "stream",
     "text": [
      "P:   1 R:   1 T:  23  psnr: 2.23e+01 at lambda: 2.33e-02, rho: 1.14e-01\r",
      "P:   1 R:   1 T:  23  psnr: 2.23e+01 at lambda: 2.33e-02, rho: 1.14e-01\r",
      "P:   1 R:   1 T:  23  psnr: 2.23e+01 at lambda: 2.33e-02, rho: 1.14e-01\r"
     ]
    },
    {
     "name": "stdout",
     "output_type": "stream",
     "text": [
      "P:   1 R:   1 T:  23  psnr: 2.23e+01 at lambda: 2.33e-02, rho: 1.14e-01\r",
      "P:   1 R:   1 T:  23  psnr: 2.23e+01 at lambda: 2.33e-02, rho: 1.14e-01\r",
      "P:   1 R:   1 T:  23  psnr: 2.23e+01 at lambda: 2.33e-02, rho: 1.14e-01\r"
     ]
    },
    {
     "name": "stdout",
     "output_type": "stream",
     "text": [
      "P:   1 R:   1 T:  23  psnr: 2.23e+01 at lambda: 2.33e-02, rho: 1.14e-01\r",
      "P:   1 R:   1 T:  23  psnr: 2.23e+01 at lambda: 2.33e-02, rho: 1.14e-01\r"
     ]
    },
    {
     "name": "stdout",
     "output_type": "stream",
     "text": [
      "P:   1 R:   1 T:  23  psnr: 2.23e+01 at lambda: 2.33e-02, rho: 1.14e-01\r",
      "P:   1 R:   1 T:  23  psnr: 2.23e+01 at lambda: 2.33e-02, rho: 1.14e-01\r"
     ]
    },
    {
     "name": "stdout",
     "output_type": "stream",
     "text": [
      "P:   1 R:   1 T:  23  psnr: 2.23e+01 at lambda: 2.33e-02, rho: 1.14e-01\r",
      "P:   1 R:   1 T:  23  psnr: 2.23e+01 at lambda: 2.33e-02, rho: 1.14e-01\r",
      "P:   1 R:   0 T:  24  psnr: 2.23e+01 at lambda: 2.33e-02, rho: 1.14e-01\r",
      "P:   0 R:   1 T:  24  psnr: 2.23e+01 at lambda: 2.33e-02, rho: 1.14e-01\r"
     ]
    },
    {
     "name": "stdout",
     "output_type": "stream",
     "text": [
      "P:   1 R:   1 T:  24  psnr: 2.23e+01 at lambda: 2.33e-02, rho: 1.14e-01\r",
      "P:   1 R:   1 T:  24  psnr: 2.23e+01 at lambda: 2.33e-02, rho: 1.14e-01\r"
     ]
    },
    {
     "name": "stdout",
     "output_type": "stream",
     "text": [
      "P:   1 R:   1 T:  24  psnr: 2.23e+01 at lambda: 2.33e-02, rho: 1.14e-01\r",
      "P:   1 R:   1 T:  24  psnr: 2.23e+01 at lambda: 2.33e-02, rho: 1.14e-01\r"
     ]
    },
    {
     "name": "stdout",
     "output_type": "stream",
     "text": [
      "P:   1 R:   1 T:  24  psnr: 2.23e+01 at lambda: 2.33e-02, rho: 1.14e-01\r",
      "P:   1 R:   1 T:  24  psnr: 2.23e+01 at lambda: 2.33e-02, rho: 1.14e-01\r"
     ]
    },
    {
     "name": "stdout",
     "output_type": "stream",
     "text": [
      "P:   1 R:   1 T:  24  psnr: 2.23e+01 at lambda: 2.33e-02, rho: 1.14e-01\r",
      "P:   1 R:   1 T:  24  psnr: 2.23e+01 at lambda: 2.33e-02, rho: 1.14e-01\r",
      "P:   1 R:   1 T:  24  psnr: 2.23e+01 at lambda: 2.33e-02, rho: 1.14e-01\r"
     ]
    },
    {
     "name": "stdout",
     "output_type": "stream",
     "text": [
      "P:   1 R:   1 T:  24  psnr: 2.23e+01 at lambda: 2.33e-02, rho: 1.14e-01\r",
      "P:   1 R:   1 T:  24  psnr: 2.23e+01 at lambda: 2.33e-02, rho: 1.14e-01\r"
     ]
    },
    {
     "name": "stdout",
     "output_type": "stream",
     "text": [
      "P:   1 R:   1 T:  24  psnr: 2.23e+01 at lambda: 2.33e-02, rho: 1.14e-01\r",
      "P:   1 R:   0 T:  25  psnr: 2.23e+01 at lambda: 2.33e-02, rho: 1.14e-01\r",
      "P:   0 R:   1 T:  25  psnr: 2.23e+01 at lambda: 2.33e-02, rho: 1.14e-01\r",
      "P:   1 R:   1 T:  25  psnr: 2.23e+01 at lambda: 2.33e-02, rho: 1.14e-01\r"
     ]
    },
    {
     "name": "stdout",
     "output_type": "stream",
     "text": [
      "P:   1 R:   1 T:  25  psnr: 2.23e+01 at lambda: 2.33e-02, rho: 1.14e-01\r",
      "P:   1 R:   1 T:  25  psnr: 2.23e+01 at lambda: 2.33e-02, rho: 1.14e-01\r"
     ]
    },
    {
     "name": "stdout",
     "output_type": "stream",
     "text": [
      "P:   1 R:   1 T:  25  psnr: 2.23e+01 at lambda: 2.33e-02, rho: 1.14e-01\r",
      "P:   1 R:   1 T:  25  psnr: 2.23e+01 at lambda: 2.33e-02, rho: 1.14e-01\r"
     ]
    },
    {
     "name": "stdout",
     "output_type": "stream",
     "text": [
      "P:   1 R:   1 T:  25  psnr: 2.23e+01 at lambda: 2.33e-02, rho: 1.14e-01\r",
      "P:   1 R:   1 T:  25  psnr: 2.23e+01 at lambda: 2.33e-02, rho: 1.14e-01\r"
     ]
    },
    {
     "name": "stdout",
     "output_type": "stream",
     "text": [
      "P:   1 R:   1 T:  25  psnr: 2.23e+01 at lambda: 2.33e-02, rho: 1.14e-01\r",
      "P:   1 R:   1 T:  25  psnr: 2.23e+01 at lambda: 2.33e-02, rho: 1.14e-01\r",
      "P:   1 R:   1 T:  25  psnr: 2.23e+01 at lambda: 2.33e-02, rho: 1.14e-01\r"
     ]
    },
    {
     "name": "stdout",
     "output_type": "stream",
     "text": [
      "P:   1 R:   1 T:  25  psnr: 2.23e+01 at lambda: 2.33e-02, rho: 1.14e-01\r",
      "P:   1 R:   1 T:  25  psnr: 2.23e+01 at lambda: 2.33e-02, rho: 1.14e-01\r"
     ]
    },
    {
     "name": "stdout",
     "output_type": "stream",
     "text": [
      "P:   1 R:   1 T:  25  psnr: 2.23e+01 at lambda: 2.33e-02, rho: 1.14e-01\r",
      "P:   1 R:   1 T:  25  psnr: 2.23e+01 at lambda: 2.33e-02, rho: 1.14e-01\r",
      "P:   1 R:   1 T:  25  psnr: 2.23e+01 at lambda: 2.33e-02, rho: 1.14e-01\r"
     ]
    },
    {
     "name": "stdout",
     "output_type": "stream",
     "text": [
      "P:   1 R:   1 T:  25  psnr: 2.23e+01 at lambda: 2.33e-02, rho: 1.14e-01\r",
      "P:   1 R:   1 T:  25  psnr: 2.23e+01 at lambda: 2.33e-02, rho: 1.14e-01\r"
     ]
    },
    {
     "name": "stdout",
     "output_type": "stream",
     "text": [
      "P:   1 R:   1 T:  25  psnr: 2.23e+01 at lambda: 2.33e-02, rho: 1.14e-01\r",
      "P:   1 R:   1 T:  25  psnr: 2.23e+01 at lambda: 2.33e-02, rho: 1.14e-01\r",
      "P:   1 R:   1 T:  25  psnr: 2.23e+01 at lambda: 2.33e-02, rho: 1.14e-01\r"
     ]
    },
    {
     "name": "stdout",
     "output_type": "stream",
     "text": [
      "P:   1 R:   1 T:  25  psnr: 2.23e+01 at lambda: 2.33e-02, rho: 1.14e-01\r",
      "P:   1 R:   1 T:  25  psnr: 2.23e+01 at lambda: 2.33e-02, rho: 1.14e-01\r",
      "P:   1 R:   0 T:  26  psnr: 2.23e+01 at lambda: 2.33e-02, rho: 1.14e-01\r",
      "P:   0 R:   1 T:  26  psnr: 2.23e+01 at lambda: 2.33e-02, rho: 1.14e-01\r"
     ]
    },
    {
     "name": "stdout",
     "output_type": "stream",
     "text": [
      "P:   1 R:   1 T:  26  psnr: 2.23e+01 at lambda: 2.33e-02, rho: 1.14e-01\r",
      "P:   1 R:   1 T:  26  psnr: 2.23e+01 at lambda: 2.33e-02, rho: 1.14e-01\r"
     ]
    },
    {
     "name": "stdout",
     "output_type": "stream",
     "text": [
      "P:   1 R:   1 T:  26  psnr: 2.23e+01 at lambda: 2.33e-02, rho: 1.14e-01\r",
      "P:   1 R:   1 T:  26  psnr: 2.23e+01 at lambda: 2.33e-02, rho: 1.14e-01\r",
      "P:   1 R:   1 T:  26  psnr: 2.23e+01 at lambda: 2.33e-02, rho: 1.14e-01\r"
     ]
    },
    {
     "name": "stdout",
     "output_type": "stream",
     "text": [
      "P:   1 R:   1 T:  26  psnr: 2.23e+01 at lambda: 2.33e-02, rho: 1.14e-01\r",
      "P:   1 R:   1 T:  26  psnr: 2.23e+01 at lambda: 2.33e-02, rho: 1.14e-01\r"
     ]
    },
    {
     "name": "stdout",
     "output_type": "stream",
     "text": [
      "P:   1 R:   1 T:  26  psnr: 2.23e+01 at lambda: 2.33e-02, rho: 1.14e-01\r",
      "P:   1 R:   1 T:  26  psnr: 2.23e+01 at lambda: 2.33e-02, rho: 1.14e-01\r"
     ]
    },
    {
     "name": "stdout",
     "output_type": "stream",
     "text": [
      "P:   1 R:   0 T:  27  psnr: 2.23e+01 at lambda: 2.33e-02, rho: 1.14e-01\r",
      "P:   0 R:   1 T:  27  psnr: 2.23e+01 at lambda: 2.33e-02, rho: 1.14e-01\r",
      "P:   1 R:   1 T:  27  psnr: 2.23e+01 at lambda: 2.33e-02, rho: 1.14e-01\r"
     ]
    },
    {
     "name": "stdout",
     "output_type": "stream",
     "text": [
      "P:   1 R:   1 T:  27  psnr: 2.23e+01 at lambda: 2.33e-02, rho: 1.14e-01\r",
      "P:   1 R:   1 T:  27  psnr: 2.23e+01 at lambda: 2.33e-02, rho: 1.14e-01\r"
     ]
    },
    {
     "name": "stdout",
     "output_type": "stream",
     "text": [
      "P:   1 R:   1 T:  27  psnr: 2.23e+01 at lambda: 2.33e-02, rho: 1.14e-01\r",
      "P:   1 R:   1 T:  27  psnr: 2.23e+01 at lambda: 2.33e-02, rho: 1.14e-01\r"
     ]
    },
    {
     "name": "stdout",
     "output_type": "stream",
     "text": [
      "P:   1 R:   1 T:  27  psnr: 2.23e+01 at lambda: 2.33e-02, rho: 1.14e-01\r",
      "P:   1 R:   1 T:  27  psnr: 2.23e+01 at lambda: 2.33e-02, rho: 1.14e-01\r"
     ]
    },
    {
     "name": "stdout",
     "output_type": "stream",
     "text": [
      "P:   1 R:   1 T:  27  psnr: 2.23e+01 at lambda: 2.33e-02, rho: 1.14e-01\r",
      "P:   1 R:   1 T:  27  psnr: 2.23e+01 at lambda: 2.33e-02, rho: 1.14e-01\r",
      "P:   1 R:   1 T:  27  psnr: 2.23e+01 at lambda: 2.33e-02, rho: 1.14e-01\r"
     ]
    },
    {
     "name": "stdout",
     "output_type": "stream",
     "text": [
      "P:   1 R:   1 T:  27  psnr: 2.23e+01 at lambda: 2.33e-02, rho: 1.14e-01\r",
      "P:   1 R:   1 T:  27  psnr: 2.23e+01 at lambda: 2.33e-02, rho: 1.14e-01\r"
     ]
    },
    {
     "name": "stdout",
     "output_type": "stream",
     "text": [
      "P:   1 R:   1 T:  27  psnr: 2.23e+01 at lambda: 2.33e-02, rho: 1.14e-01\r",
      "P:   1 R:   1 T:  27  psnr: 2.23e+01 at lambda: 2.33e-02, rho: 1.14e-01\r",
      "P:   1 R:   1 T:  27  psnr: 2.23e+01 at lambda: 2.33e-02, rho: 1.14e-01\r"
     ]
    },
    {
     "name": "stdout",
     "output_type": "stream",
     "text": [
      "P:   1 R:   1 T:  27  psnr: 2.23e+01 at lambda: 2.33e-02, rho: 1.14e-01\r",
      "P:   1 R:   1 T:  27  psnr: 2.23e+01 at lambda: 2.33e-02, rho: 1.14e-01\r"
     ]
    },
    {
     "name": "stdout",
     "output_type": "stream",
     "text": [
      "P:   1 R:   1 T:  27  psnr: 2.23e+01 at lambda: 2.33e-02, rho: 1.14e-01\r",
      "P:   1 R:   1 T:  27  psnr: 2.23e+01 at lambda: 1.96e-02, rho: 9.31e-02\r",
      "P:   1 R:   1 T:  27  psnr: 2.23e+01 at lambda: 1.96e-02, rho: 9.31e-02\r"
     ]
    },
    {
     "name": "stdout",
     "output_type": "stream",
     "text": [
      "P:   1 R:   1 T:  27  psnr: 2.23e+01 at lambda: 1.96e-02, rho: 9.31e-02\r",
      "P:   1 R:   1 T:  27  psnr: 2.23e+01 at lambda: 1.96e-02, rho: 9.31e-02\r",
      "P:   1 R:   1 T:  27  psnr: 2.23e+01 at lambda: 1.96e-02, rho: 9.31e-02\r"
     ]
    },
    {
     "name": "stdout",
     "output_type": "stream",
     "text": [
      "P:   1 R:   1 T:  27  psnr: 2.23e+01 at lambda: 1.96e-02, rho: 9.31e-02\r",
      "P:   1 R:   1 T:  27  psnr: 2.23e+01 at lambda: 1.96e-02, rho: 9.31e-02\r",
      "P:   1 R:   1 T:  27  psnr: 2.23e+01 at lambda: 1.96e-02, rho: 9.31e-02\r"
     ]
    },
    {
     "name": "stdout",
     "output_type": "stream",
     "text": [
      "P:   1 R:   0 T:  28  psnr: 2.23e+01 at lambda: 1.96e-02, rho: 9.31e-02\r",
      "P:   0 R:   1 T:  28  psnr: 2.23e+01 at lambda: 1.96e-02, rho: 9.31e-02\r",
      "P:   1 R:   1 T:  28  psnr: 2.23e+01 at lambda: 1.96e-02, rho: 9.31e-02\r"
     ]
    },
    {
     "name": "stdout",
     "output_type": "stream",
     "text": [
      "P:   1 R:   1 T:  28  psnr: 2.23e+01 at lambda: 1.96e-02, rho: 9.31e-02\r",
      "P:   1 R:   1 T:  28  psnr: 2.23e+01 at lambda: 1.96e-02, rho: 9.31e-02\r",
      "P:   1 R:   1 T:  28  psnr: 2.23e+01 at lambda: 1.96e-02, rho: 9.31e-02\r"
     ]
    },
    {
     "name": "stdout",
     "output_type": "stream",
     "text": [
      "P:   1 R:   1 T:  28  psnr: 2.23e+01 at lambda: 1.96e-02, rho: 9.31e-02\r",
      "P:   1 R:   1 T:  28  psnr: 2.23e+01 at lambda: 1.96e-02, rho: 9.31e-02\r"
     ]
    },
    {
     "name": "stdout",
     "output_type": "stream",
     "text": [
      "P:   1 R:   1 T:  28  psnr: 2.23e+01 at lambda: 1.96e-02, rho: 9.31e-02\r",
      "P:   1 R:   1 T:  28  psnr: 2.23e+01 at lambda: 1.96e-02, rho: 9.31e-02\r"
     ]
    },
    {
     "name": "stdout",
     "output_type": "stream",
     "text": [
      "P:   1 R:   1 T:  28  psnr: 2.23e+01 at lambda: 1.96e-02, rho: 9.31e-02\r",
      "P:   1 R:   0 T:  29  psnr: 2.23e+01 at lambda: 1.96e-02, rho: 9.31e-02\r",
      "P:   0 R:   1 T:  29  psnr: 2.23e+01 at lambda: 1.96e-02, rho: 9.31e-02\r"
     ]
    },
    {
     "name": "stdout",
     "output_type": "stream",
     "text": [
      "P:   1 R:   1 T:  29  psnr: 2.23e+01 at lambda: 1.96e-02, rho: 9.31e-02\r",
      "P:   1 R:   1 T:  29  psnr: 2.23e+01 at lambda: 1.96e-02, rho: 9.31e-02\r"
     ]
    },
    {
     "name": "stdout",
     "output_type": "stream",
     "text": [
      "P:   1 R:   1 T:  29  psnr: 2.23e+01 at lambda: 1.96e-02, rho: 9.31e-02\r",
      "P:   1 R:   1 T:  29  psnr: 2.23e+01 at lambda: 1.96e-02, rho: 9.31e-02\r"
     ]
    },
    {
     "name": "stdout",
     "output_type": "stream",
     "text": [
      "P:   1 R:   1 T:  29  psnr: 2.23e+01 at lambda: 1.96e-02, rho: 9.31e-02\r",
      "P:   1 R:   1 T:  29  psnr: 2.23e+01 at lambda: 1.96e-02, rho: 9.31e-02\r"
     ]
    },
    {
     "name": "stdout",
     "output_type": "stream",
     "text": [
      "P:   1 R:   1 T:  29  psnr: 2.23e+01 at lambda: 1.96e-02, rho: 9.31e-02\r",
      "P:   1 R:   1 T:  29  psnr: 2.23e+01 at lambda: 1.96e-02, rho: 9.31e-02\r",
      "P:   1 R:   1 T:  29  psnr: 2.23e+01 at lambda: 1.96e-02, rho: 9.31e-02\r"
     ]
    },
    {
     "name": "stdout",
     "output_type": "stream",
     "text": [
      "P:   1 R:   1 T:  29  psnr: 2.23e+01 at lambda: 1.96e-02, rho: 9.31e-02\r",
      "P:   1 R:   1 T:  29  psnr: 2.23e+01 at lambda: 1.96e-02, rho: 9.31e-02\r"
     ]
    },
    {
     "name": "stdout",
     "output_type": "stream",
     "text": [
      "P:   1 R:   1 T:  29  psnr: 2.23e+01 at lambda: 1.96e-02, rho: 9.31e-02\r",
      "P:   1 R:   1 T:  29  psnr: 2.23e+01 at lambda: 1.96e-02, rho: 9.31e-02\r",
      "P:   1 R:   1 T:  29  psnr: 2.23e+01 at lambda: 1.96e-02, rho: 9.31e-02\r"
     ]
    },
    {
     "name": "stdout",
     "output_type": "stream",
     "text": [
      "P:   1 R:   1 T:  29  psnr: 2.23e+01 at lambda: 1.96e-02, rho: 9.31e-02\r",
      "P:   1 R:   1 T:  29  psnr: 2.23e+01 at lambda: 1.96e-02, rho: 9.31e-02\r",
      "P:   1 R:   1 T:  29  psnr: 2.23e+01 at lambda: 1.96e-02, rho: 9.31e-02\r"
     ]
    },
    {
     "name": "stdout",
     "output_type": "stream",
     "text": [
      "P:   1 R:   1 T:  29  psnr: 2.23e+01 at lambda: 1.96e-02, rho: 9.31e-02\r",
      "P:   1 R:   1 T:  29  psnr: 2.23e+01 at lambda: 1.96e-02, rho: 9.31e-02\r",
      "P:   1 R:   1 T:  29  psnr: 2.23e+01 at lambda: 1.96e-02, rho: 9.31e-02\r"
     ]
    },
    {
     "name": "stdout",
     "output_type": "stream",
     "text": [
      "P:   1 R:   1 T:  29  psnr: 2.23e+01 at lambda: 1.96e-02, rho: 9.31e-02\r",
      "P:   1 R:   1 T:  29  psnr: 2.23e+01 at lambda: 1.96e-02, rho: 9.31e-02\r",
      "P:   1 R:   1 T:  29  psnr: 2.23e+01 at lambda: 1.96e-02, rho: 1.02e-01\r"
     ]
    },
    {
     "name": "stdout",
     "output_type": "stream",
     "text": [
      "P:   1 R:   1 T:  29  psnr: 2.23e+01 at lambda: 1.96e-02, rho: 1.02e-01\r",
      "P:   1 R:   1 T:  29  psnr: 2.23e+01 at lambda: 1.96e-02, rho: 1.02e-01\r",
      "P:   1 R:   1 T:  29  psnr: 2.23e+01 at lambda: 1.96e-02, rho: 1.02e-01\r",
      "P:   1 R:   0 T:  30  psnr: 2.23e+01 at lambda: 1.96e-02, rho: 1.02e-01\r"
     ]
    },
    {
     "name": "stdout",
     "output_type": "stream",
     "text": [
      "P:   0 R:   1 T:  30  psnr: 2.23e+01 at lambda: 1.96e-02, rho: 1.02e-01\r",
      "P:   1 R:   1 T:  30  psnr: 2.23e+01 at lambda: 1.96e-02, rho: 1.02e-01\r",
      "P:   1 R:   1 T:  30  psnr: 2.23e+01 at lambda: 1.96e-02, rho: 1.02e-01\r"
     ]
    },
    {
     "name": "stdout",
     "output_type": "stream",
     "text": [
      "P:   1 R:   1 T:  30  psnr: 2.23e+01 at lambda: 1.96e-02, rho: 1.02e-01\r",
      "P:   1 R:   1 T:  30  psnr: 2.23e+01 at lambda: 1.96e-02, rho: 1.02e-01\r"
     ]
    },
    {
     "name": "stdout",
     "output_type": "stream",
     "text": [
      "P:   1 R:   1 T:  30  psnr: 2.23e+01 at lambda: 1.96e-02, rho: 1.02e-01\r",
      "P:   1 R:   1 T:  30  psnr: 2.23e+01 at lambda: 1.96e-02, rho: 1.02e-01\r"
     ]
    },
    {
     "name": "stdout",
     "output_type": "stream",
     "text": [
      "P:   1 R:   1 T:  30  psnr: 2.23e+01 at lambda: 1.96e-02, rho: 1.02e-01\r",
      "P:   1 R:   1 T:  30  psnr: 2.23e+01 at lambda: 1.96e-02, rho: 1.02e-01\r"
     ]
    },
    {
     "name": "stdout",
     "output_type": "stream",
     "text": [
      "P:   1 R:   1 T:  30  psnr: 2.23e+01 at lambda: 1.96e-02, rho: 1.02e-01\r",
      "P:   1 R:   0 T:  31  psnr: 2.23e+01 at lambda: 1.96e-02, rho: 1.02e-01\r",
      "P:   0 R:   1 T:  31  psnr: 2.23e+01 at lambda: 1.96e-02, rho: 1.02e-01\r",
      "P:   1 R:   1 T:  31  psnr: 2.23e+01 at lambda: 1.96e-02, rho: 1.02e-01\r"
     ]
    },
    {
     "name": "stdout",
     "output_type": "stream",
     "text": [
      "P:   1 R:   1 T:  31  psnr: 2.23e+01 at lambda: 1.96e-02, rho: 1.02e-01\r",
      "P:   1 R:   1 T:  31  psnr: 2.23e+01 at lambda: 1.96e-02, rho: 1.02e-01\r"
     ]
    },
    {
     "name": "stdout",
     "output_type": "stream",
     "text": [
      "P:   1 R:   1 T:  31  psnr: 2.23e+01 at lambda: 1.96e-02, rho: 1.02e-01\r",
      "P:   1 R:   1 T:  31  psnr: 2.23e+01 at lambda: 1.96e-02, rho: 1.02e-01\r"
     ]
    },
    {
     "name": "stdout",
     "output_type": "stream",
     "text": [
      "P:   1 R:   1 T:  31  psnr: 2.23e+01 at lambda: 1.96e-02, rho: 1.02e-01\r",
      "P:   1 R:   1 T:  31  psnr: 2.23e+01 at lambda: 1.96e-02, rho: 1.02e-01\r"
     ]
    },
    {
     "name": "stdout",
     "output_type": "stream",
     "text": [
      "P:   1 R:   1 T:  31  psnr: 2.23e+01 at lambda: 1.96e-02, rho: 1.02e-01\r",
      "P:   1 R:   0 T:  32  psnr: 2.23e+01 at lambda: 1.96e-02, rho: 1.02e-01\r",
      "P:   0 R:   1 T:  32  psnr: 2.23e+01 at lambda: 1.96e-02, rho: 1.02e-01\r"
     ]
    },
    {
     "name": "stdout",
     "output_type": "stream",
     "text": [
      "P:   1 R:   1 T:  32  psnr: 2.23e+01 at lambda: 1.96e-02, rho: 1.02e-01\r",
      "P:   1 R:   1 T:  32  psnr: 2.23e+01 at lambda: 1.96e-02, rho: 1.02e-01\r"
     ]
    },
    {
     "name": "stdout",
     "output_type": "stream",
     "text": [
      "P:   1 R:   1 T:  32  psnr: 2.23e+01 at lambda: 1.96e-02, rho: 1.02e-01\r",
      "P:   1 R:   1 T:  32  psnr: 2.23e+01 at lambda: 1.96e-02, rho: 1.02e-01\r"
     ]
    },
    {
     "name": "stdout",
     "output_type": "stream",
     "text": [
      "P:   1 R:   1 T:  32  psnr: 2.23e+01 at lambda: 1.96e-02, rho: 1.02e-01\r",
      "P:   1 R:   1 T:  32  psnr: 2.23e+01 at lambda: 1.96e-02, rho: 1.02e-01\r"
     ]
    },
    {
     "name": "stdout",
     "output_type": "stream",
     "text": [
      "P:   1 R:   1 T:  32  psnr: 2.23e+01 at lambda: 1.96e-02, rho: 1.02e-01\r",
      "P:   1 R:   1 T:  32  psnr: 2.23e+01 at lambda: 1.96e-02, rho: 1.02e-01\r"
     ]
    },
    {
     "name": "stdout",
     "output_type": "stream",
     "text": [
      "P:   1 R:   1 T:  32  psnr: 2.23e+01 at lambda: 1.96e-02, rho: 1.02e-01\r",
      "P:   1 R:   1 T:  32  psnr: 2.23e+01 at lambda: 1.96e-02, rho: 1.02e-01\r"
     ]
    },
    {
     "name": "stdout",
     "output_type": "stream",
     "text": [
      "P:   1 R:   1 T:  32  psnr: 2.23e+01 at lambda: 1.96e-02, rho: 1.02e-01\r",
      "P:   1 R:   1 T:  32  psnr: 2.23e+01 at lambda: 1.96e-02, rho: 1.02e-01\r",
      "P:   1 R:   1 T:  32  psnr: 2.23e+01 at lambda: 1.96e-02, rho: 1.02e-01\r",
      "P:   1 R:   1 T:  32  psnr: 2.23e+01 at lambda: 1.96e-02, rho: 1.02e-01\r"
     ]
    },
    {
     "name": "stdout",
     "output_type": "stream",
     "text": [
      "P:   1 R:   1 T:  32  psnr: 2.23e+01 at lambda: 1.96e-02, rho: 1.02e-01\r",
      "P:   1 R:   1 T:  32  psnr: 2.23e+01 at lambda: 1.96e-02, rho: 1.02e-01\r"
     ]
    },
    {
     "name": "stdout",
     "output_type": "stream",
     "text": [
      "P:   1 R:   1 T:  32  psnr: 2.23e+01 at lambda: 1.96e-02, rho: 1.02e-01\r",
      "P:   1 R:   1 T:  32  psnr: 2.23e+01 at lambda: 1.96e-02, rho: 1.02e-01\r",
      "P:   1 R:   1 T:  32  psnr: 2.23e+01 at lambda: 1.96e-02, rho: 1.02e-01\r"
     ]
    },
    {
     "name": "stdout",
     "output_type": "stream",
     "text": [
      "P:   1 R:   1 T:  32  psnr: 2.23e+01 at lambda: 1.96e-02, rho: 1.02e-01\r",
      "P:   1 R:   1 T:  32  psnr: 2.23e+01 at lambda: 1.96e-02, rho: 1.02e-01\r"
     ]
    },
    {
     "name": "stdout",
     "output_type": "stream",
     "text": [
      "P:   1 R:   1 T:  32  psnr: 2.23e+01 at lambda: 1.96e-02, rho: 1.02e-01\r",
      "P:   1 R:   1 T:  32  psnr: 2.23e+01 at lambda: 1.96e-02, rho: 1.02e-01\r",
      "P:   1 R:   1 T:  32  psnr: 2.23e+01 at lambda: 1.96e-02, rho: 1.02e-01\r"
     ]
    },
    {
     "name": "stdout",
     "output_type": "stream",
     "text": [
      "P:   1 R:   1 T:  32  psnr: 2.23e+01 at lambda: 1.96e-02, rho: 1.02e-01\r",
      "P:   1 R:   1 T:  32  psnr: 2.23e+01 at lambda: 1.96e-02, rho: 1.02e-01\r",
      "P:   1 R:   0 T:  33  psnr: 2.23e+01 at lambda: 1.96e-02, rho: 1.02e-01\r",
      "P:   0 R:   1 T:  33  psnr: 2.23e+01 at lambda: 1.96e-02, rho: 1.02e-01\r"
     ]
    },
    {
     "name": "stdout",
     "output_type": "stream",
     "text": [
      "P:   1 R:   1 T:  33  psnr: 2.23e+01 at lambda: 1.96e-02, rho: 1.02e-01\r",
      "P:   1 R:   1 T:  33  psnr: 2.23e+01 at lambda: 1.96e-02, rho: 1.02e-01\r"
     ]
    },
    {
     "name": "stdout",
     "output_type": "stream",
     "text": [
      "P:   1 R:   1 T:  33  psnr: 2.23e+01 at lambda: 1.96e-02, rho: 1.02e-01\r",
      "P:   1 R:   1 T:  33  psnr: 2.23e+01 at lambda: 1.96e-02, rho: 1.02e-01\r"
     ]
    },
    {
     "name": "stdout",
     "output_type": "stream",
     "text": [
      "P:   1 R:   1 T:  33  psnr: 2.23e+01 at lambda: 1.96e-02, rho: 1.02e-01\r",
      "P:   1 R:   1 T:  33  psnr: 2.23e+01 at lambda: 1.96e-02, rho: 1.02e-01\r"
     ]
    },
    {
     "name": "stdout",
     "output_type": "stream",
     "text": [
      "P:   1 R:   1 T:  33  psnr: 2.23e+01 at lambda: 1.96e-02, rho: 1.02e-01\r",
      "P:   1 R:   1 T:  33  psnr: 2.23e+01 at lambda: 1.96e-02, rho: 1.02e-01\r"
     ]
    },
    {
     "name": "stdout",
     "output_type": "stream",
     "text": [
      "P:   1 R:   1 T:  33  psnr: 2.23e+01 at lambda: 1.96e-02, rho: 1.02e-01\r",
      "P:   1 R:   1 T:  33  psnr: 2.23e+01 at lambda: 1.96e-02, rho: 1.02e-01\r"
     ]
    },
    {
     "name": "stdout",
     "output_type": "stream",
     "text": [
      "P:   1 R:   1 T:  33  psnr: 2.23e+01 at lambda: 1.96e-02, rho: 1.02e-01\r",
      "P:   1 R:   1 T:  33  psnr: 2.23e+01 at lambda: 1.96e-02, rho: 1.02e-01\r"
     ]
    },
    {
     "name": "stdout",
     "output_type": "stream",
     "text": [
      "P:   1 R:   1 T:  33  psnr: 2.23e+01 at lambda: 1.96e-02, rho: 1.02e-01\r",
      "P:   1 R:   1 T:  33  psnr: 2.23e+01 at lambda: 1.96e-02, rho: 1.02e-01\r",
      "P:   1 R:   1 T:  33  psnr: 2.23e+01 at lambda: 1.96e-02, rho: 1.02e-01\r"
     ]
    },
    {
     "name": "stdout",
     "output_type": "stream",
     "text": [
      "P:   1 R:   1 T:  33  psnr: 2.23e+01 at lambda: 1.96e-02, rho: 1.02e-01\r",
      "P:   1 R:   1 T:  33  psnr: 2.23e+01 at lambda: 1.96e-02, rho: 1.02e-01\r"
     ]
    },
    {
     "name": "stdout",
     "output_type": "stream",
     "text": [
      "P:   1 R:   1 T:  33  psnr: 2.23e+01 at lambda: 1.96e-02, rho: 1.02e-01\r",
      "P:   1 R:   1 T:  33  psnr: 2.23e+01 at lambda: 1.96e-02, rho: 1.02e-01\r",
      "P:   1 R:   1 T:  33  psnr: 2.23e+01 at lambda: 1.96e-02, rho: 1.02e-01\r"
     ]
    },
    {
     "name": "stdout",
     "output_type": "stream",
     "text": [
      "P:   1 R:   1 T:  33  psnr: 2.23e+01 at lambda: 1.96e-02, rho: 1.02e-01\r",
      "P:   1 R:   1 T:  33  psnr: 2.23e+01 at lambda: 1.96e-02, rho: 1.02e-01\r",
      "P:   1 R:   0 T:  34  psnr: 2.23e+01 at lambda: 1.96e-02, rho: 1.02e-01\r",
      "P:   0 R:   1 T:  34  psnr: 2.23e+01 at lambda: 1.96e-02, rho: 1.02e-01\r"
     ]
    },
    {
     "name": "stdout",
     "output_type": "stream",
     "text": [
      "P:   1 R:   1 T:  34  psnr: 2.23e+01 at lambda: 1.96e-02, rho: 1.02e-01\r",
      "P:   1 R:   1 T:  34  psnr: 2.23e+01 at lambda: 1.96e-02, rho: 1.02e-01\r"
     ]
    },
    {
     "name": "stdout",
     "output_type": "stream",
     "text": [
      "P:   1 R:   1 T:  34  psnr: 2.23e+01 at lambda: 1.96e-02, rho: 1.02e-01\r",
      "P:   1 R:   1 T:  34  psnr: 2.23e+01 at lambda: 1.96e-02, rho: 1.02e-01\r"
     ]
    },
    {
     "name": "stdout",
     "output_type": "stream",
     "text": [
      "P:   1 R:   1 T:  34  psnr: 2.23e+01 at lambda: 1.96e-02, rho: 1.02e-01\r",
      "P:   1 R:   1 T:  34  psnr: 2.23e+01 at lambda: 1.96e-02, rho: 1.02e-01\r"
     ]
    },
    {
     "name": "stdout",
     "output_type": "stream",
     "text": [
      "P:   1 R:   1 T:  34  psnr: 2.23e+01 at lambda: 1.96e-02, rho: 1.02e-01\r",
      "P:   1 R:   1 T:  34  psnr: 2.23e+01 at lambda: 1.96e-02, rho: 1.02e-01\r",
      "P:   1 R:   1 T:  34  psnr: 2.23e+01 at lambda: 1.96e-02, rho: 1.02e-01\r"
     ]
    },
    {
     "name": "stdout",
     "output_type": "stream",
     "text": [
      "P:   1 R:   1 T:  34  psnr: 2.23e+01 at lambda: 1.96e-02, rho: 1.02e-01\r",
      "P:   1 R:   1 T:  34  psnr: 2.23e+01 at lambda: 1.96e-02, rho: 1.02e-01\r",
      "P:   1 R:   1 T:  34  psnr: 2.23e+01 at lambda: 1.96e-02, rho: 1.02e-01\r"
     ]
    },
    {
     "name": "stdout",
     "output_type": "stream",
     "text": [
      "P:   1 R:   1 T:  34  psnr: 2.23e+01 at lambda: 1.96e-02, rho: 1.02e-01\r",
      "P:   1 R:   1 T:  34  psnr: 2.23e+01 at lambda: 1.96e-02, rho: 1.02e-01\r",
      "P:   1 R:   1 T:  34  psnr: 2.23e+01 at lambda: 1.96e-02, rho: 1.02e-01\r"
     ]
    },
    {
     "name": "stdout",
     "output_type": "stream",
     "text": [
      "P:   1 R:   1 T:  34  psnr: 2.23e+01 at lambda: 1.96e-02, rho: 1.02e-01\r",
      "P:   1 R:   1 T:  34  psnr: 2.23e+01 at lambda: 1.96e-02, rho: 1.02e-01\r"
     ]
    },
    {
     "name": "stdout",
     "output_type": "stream",
     "text": [
      "P:   1 R:   1 T:  34  psnr: 2.23e+01 at lambda: 1.96e-02, rho: 1.02e-01\r",
      "P:   1 R:   1 T:  34  psnr: 2.23e+01 at lambda: 1.96e-02, rho: 1.02e-01\r"
     ]
    },
    {
     "name": "stdout",
     "output_type": "stream",
     "text": [
      "P:   1 R:   1 T:  34  psnr: 2.23e+01 at lambda: 1.96e-02, rho: 1.02e-01\r",
      "P:   1 R:   1 T:  34  psnr: 2.23e+01 at lambda: 1.96e-02, rho: 1.02e-01\r"
     ]
    },
    {
     "name": "stdout",
     "output_type": "stream",
     "text": [
      "P:   1 R:   1 T:  34  psnr: 2.23e+01 at lambda: 1.96e-02, rho: 1.02e-01\r",
      "P:   1 R:   1 T:  34  psnr: 2.23e+01 at lambda: 1.96e-02, rho: 1.02e-01\r",
      "P:   1 R:   1 T:  34  psnr: 2.23e+01 at lambda: 1.96e-02, rho: 1.02e-01\r"
     ]
    },
    {
     "name": "stdout",
     "output_type": "stream",
     "text": [
      "P:   1 R:   1 T:  34  psnr: 2.23e+01 at lambda: 1.96e-02, rho: 1.02e-01\r",
      "P:   1 R:   1 T:  34  psnr: 2.23e+01 at lambda: 1.96e-02, rho: 1.02e-01\r",
      "P:   1 R:   1 T:  34  psnr: 2.23e+01 at lambda: 1.96e-02, rho: 1.02e-01\r"
     ]
    },
    {
     "name": "stdout",
     "output_type": "stream",
     "text": [
      "P:   1 R:   1 T:  34  psnr: 2.23e+01 at lambda: 1.96e-02, rho: 1.02e-01\r",
      "P:   1 R:   1 T:  34  psnr: 2.23e+01 at lambda: 1.96e-02, rho: 1.02e-01\r",
      "P:   1 R:   0 T:  35  psnr: 2.23e+01 at lambda: 1.96e-02, rho: 1.02e-01\r",
      "P:   0 R:   1 T:  35  psnr: 2.23e+01 at lambda: 1.96e-02, rho: 1.02e-01\r",
      "P:   1 R:   1 T:  35  psnr: 2.23e+01 at lambda: 1.96e-02, rho: 1.02e-01\r"
     ]
    },
    {
     "name": "stdout",
     "output_type": "stream",
     "text": [
      "P:   1 R:   1 T:  35  psnr: 2.23e+01 at lambda: 1.96e-02, rho: 1.02e-01\r",
      "P:   1 R:   1 T:  35  psnr: 2.23e+01 at lambda: 1.96e-02, rho: 1.02e-01\r"
     ]
    },
    {
     "name": "stdout",
     "output_type": "stream",
     "text": [
      "P:   1 R:   1 T:  35  psnr: 2.23e+01 at lambda: 1.96e-02, rho: 1.02e-01\r",
      "P:   1 R:   1 T:  35  psnr: 2.23e+01 at lambda: 1.96e-02, rho: 1.02e-01\r"
     ]
    },
    {
     "name": "stdout",
     "output_type": "stream",
     "text": [
      "P:   1 R:   1 T:  35  psnr: 2.23e+01 at lambda: 1.96e-02, rho: 1.02e-01\r",
      "P:   1 R:   1 T:  35  psnr: 2.23e+01 at lambda: 1.96e-02, rho: 1.02e-01\r"
     ]
    },
    {
     "name": "stdout",
     "output_type": "stream",
     "text": [
      "P:   1 R:   1 T:  35  psnr: 2.23e+01 at lambda: 1.96e-02, rho: 1.02e-01\r",
      "P:   1 R:   0 T:  36  psnr: 2.23e+01 at lambda: 1.96e-02, rho: 1.02e-01\r",
      "P:   0 R:   1 T:  36  psnr: 2.23e+01 at lambda: 1.96e-02, rho: 1.02e-01\r"
     ]
    },
    {
     "name": "stdout",
     "output_type": "stream",
     "text": [
      "P:   1 R:   1 T:  36  psnr: 2.23e+01 at lambda: 1.96e-02, rho: 1.02e-01\r",
      "P:   1 R:   1 T:  36  psnr: 2.23e+01 at lambda: 1.96e-02, rho: 1.02e-01\r"
     ]
    },
    {
     "name": "stdout",
     "output_type": "stream",
     "text": [
      "P:   1 R:   1 T:  36  psnr: 2.23e+01 at lambda: 1.96e-02, rho: 1.02e-01\r",
      "P:   1 R:   1 T:  36  psnr: 2.23e+01 at lambda: 1.96e-02, rho: 1.02e-01\r"
     ]
    },
    {
     "name": "stdout",
     "output_type": "stream",
     "text": [
      "P:   1 R:   1 T:  36  psnr: 2.23e+01 at lambda: 1.96e-02, rho: 1.02e-01\r",
      "P:   1 R:   1 T:  36  psnr: 2.23e+01 at lambda: 1.96e-02, rho: 1.02e-01\r"
     ]
    },
    {
     "name": "stdout",
     "output_type": "stream",
     "text": [
      "P:   1 R:   1 T:  36  psnr: 2.23e+01 at lambda: 1.96e-02, rho: 1.02e-01\r",
      "P:   1 R:   1 T:  36  psnr: 2.23e+01 at lambda: 1.96e-02, rho: 1.02e-01\r"
     ]
    },
    {
     "name": "stdout",
     "output_type": "stream",
     "text": [
      "P:   1 R:   1 T:  36  psnr: 2.23e+01 at lambda: 1.96e-02, rho: 1.02e-01\r",
      "P:   1 R:   1 T:  36  psnr: 2.23e+01 at lambda: 1.96e-02, rho: 1.02e-01\r"
     ]
    },
    {
     "name": "stdout",
     "output_type": "stream",
     "text": [
      "P:   1 R:   1 T:  36  psnr: 2.23e+01 at lambda: 1.96e-02, rho: 1.02e-01\r",
      "P:   1 R:   0 T:  37  psnr: 2.23e+01 at lambda: 1.96e-02, rho: 1.02e-01\r",
      "P:   0 R:   1 T:  37  psnr: 2.23e+01 at lambda: 1.96e-02, rho: 1.02e-01\r",
      "P:   1 R:   1 T:  37  psnr: 2.23e+01 at lambda: 1.96e-02, rho: 1.02e-01\r"
     ]
    },
    {
     "name": "stdout",
     "output_type": "stream",
     "text": [
      "P:   1 R:   1 T:  37  psnr: 2.23e+01 at lambda: 1.96e-02, rho: 1.02e-01\r",
      "P:   1 R:   1 T:  37  psnr: 2.23e+01 at lambda: 1.96e-02, rho: 1.02e-01\r"
     ]
    },
    {
     "name": "stdout",
     "output_type": "stream",
     "text": [
      "P:   1 R:   1 T:  37  psnr: 2.23e+01 at lambda: 1.96e-02, rho: 1.02e-01\r",
      "P:   1 R:   1 T:  37  psnr: 2.23e+01 at lambda: 1.96e-02, rho: 1.02e-01\r"
     ]
    },
    {
     "name": "stdout",
     "output_type": "stream",
     "text": [
      "P:   1 R:   1 T:  37  psnr: 2.23e+01 at lambda: 1.96e-02, rho: 1.02e-01\r",
      "P:   1 R:   1 T:  37  psnr: 2.23e+01 at lambda: 1.96e-02, rho: 1.02e-01\r"
     ]
    },
    {
     "name": "stdout",
     "output_type": "stream",
     "text": [
      "P:   1 R:   1 T:  37  psnr: 2.23e+01 at lambda: 1.96e-02, rho: 1.02e-01\r",
      "P:   1 R:   0 T:  38  psnr: 2.23e+01 at lambda: 1.96e-02, rho: 1.02e-01\r",
      "P:   0 R:   1 T:  38  psnr: 2.23e+01 at lambda: 1.96e-02, rho: 1.02e-01\r",
      "P:   1 R:   1 T:  38  psnr: 2.23e+01 at lambda: 1.96e-02, rho: 1.02e-01\r"
     ]
    },
    {
     "name": "stdout",
     "output_type": "stream",
     "text": [
      "P:   1 R:   1 T:  38  psnr: 2.23e+01 at lambda: 1.96e-02, rho: 1.02e-01\r",
      "P:   1 R:   1 T:  38  psnr: 2.23e+01 at lambda: 1.96e-02, rho: 1.02e-01\r"
     ]
    },
    {
     "name": "stdout",
     "output_type": "stream",
     "text": [
      "P:   1 R:   1 T:  38  psnr: 2.23e+01 at lambda: 1.96e-02, rho: 1.02e-01\r",
      "P:   1 R:   1 T:  38  psnr: 2.23e+01 at lambda: 1.96e-02, rho: 1.02e-01\r",
      "P:   1 R:   1 T:  38  psnr: 2.23e+01 at lambda: 1.96e-02, rho: 1.02e-01\r"
     ]
    },
    {
     "name": "stdout",
     "output_type": "stream",
     "text": [
      "P:   1 R:   1 T:  38  psnr: 2.23e+01 at lambda: 1.96e-02, rho: 1.02e-01\r",
      "P:   1 R:   1 T:  38  psnr: 2.23e+01 at lambda: 1.96e-02, rho: 1.02e-01\r"
     ]
    },
    {
     "name": "stdout",
     "output_type": "stream",
     "text": [
      "P:   1 R:   1 T:  38  psnr: 2.23e+01 at lambda: 1.96e-02, rho: 1.02e-01\r",
      "P:   1 R:   1 T:  38  psnr: 2.23e+01 at lambda: 1.96e-02, rho: 1.02e-01\r"
     ]
    },
    {
     "name": "stdout",
     "output_type": "stream",
     "text": [
      "P:   1 R:   1 T:  38  psnr: 2.23e+01 at lambda: 1.96e-02, rho: 1.02e-01\r",
      "P:   1 R:   1 T:  38  psnr: 2.23e+01 at lambda: 1.96e-02, rho: 1.02e-01\r"
     ]
    },
    {
     "name": "stdout",
     "output_type": "stream",
     "text": [
      "P:   1 R:   1 T:  38  psnr: 2.23e+01 at lambda: 1.96e-02, rho: 1.02e-01\r",
      "P:   1 R:   1 T:  38  psnr: 2.23e+01 at lambda: 1.96e-02, rho: 1.02e-01\r"
     ]
    },
    {
     "name": "stdout",
     "output_type": "stream",
     "text": [
      "P:   1 R:   1 T:  38  psnr: 2.23e+01 at lambda: 1.96e-02, rho: 1.02e-01\r",
      "P:   1 R:   1 T:  38  psnr: 2.23e+01 at lambda: 1.96e-02, rho: 1.02e-01\r",
      "P:   1 R:   1 T:  38  psnr: 2.23e+01 at lambda: 1.96e-02, rho: 1.02e-01\r"
     ]
    },
    {
     "name": "stdout",
     "output_type": "stream",
     "text": [
      "P:   1 R:   1 T:  38  psnr: 2.23e+01 at lambda: 1.96e-02, rho: 1.02e-01\r",
      "P:   1 R:   1 T:  38  psnr: 2.23e+01 at lambda: 1.96e-02, rho: 1.02e-01\r",
      "P:   1 R:   1 T:  38  psnr: 2.23e+01 at lambda: 1.96e-02, rho: 1.02e-01\r"
     ]
    },
    {
     "name": "stdout",
     "output_type": "stream",
     "text": [
      "P:   1 R:   1 T:  38  psnr: 2.23e+01 at lambda: 1.96e-02, rho: 1.02e-01\r",
      "P:   1 R:   1 T:  38  psnr: 2.23e+01 at lambda: 1.96e-02, rho: 1.02e-01\r",
      "P:   1 R:   0 T:  39  psnr: 2.23e+01 at lambda: 1.96e-02, rho: 1.02e-01\r",
      "P:   0 R:   1 T:  39  psnr: 2.23e+01 at lambda: 1.96e-02, rho: 1.02e-01\r"
     ]
    },
    {
     "name": "stdout",
     "output_type": "stream",
     "text": [
      "P:   1 R:   1 T:  39  psnr: 2.23e+01 at lambda: 1.96e-02, rho: 1.02e-01\r",
      "P:   1 R:   1 T:  39  psnr: 2.23e+01 at lambda: 1.96e-02, rho: 1.02e-01\r"
     ]
    },
    {
     "name": "stdout",
     "output_type": "stream",
     "text": [
      "P:   1 R:   1 T:  39  psnr: 2.23e+01 at lambda: 1.96e-02, rho: 1.02e-01\r",
      "P:   1 R:   1 T:  39  psnr: 2.23e+01 at lambda: 1.96e-02, rho: 1.02e-01\r"
     ]
    },
    {
     "name": "stdout",
     "output_type": "stream",
     "text": [
      "P:   1 R:   1 T:  39  psnr: 2.23e+01 at lambda: 1.96e-02, rho: 1.02e-01\r",
      "P:   1 R:   1 T:  39  psnr: 2.23e+01 at lambda: 1.96e-02, rho: 1.02e-01\r",
      "P:   1 R:   1 T:  39  psnr: 2.23e+01 at lambda: 1.96e-02, rho: 1.02e-01\r"
     ]
    },
    {
     "name": "stdout",
     "output_type": "stream",
     "text": [
      "P:   1 R:   1 T:  39  psnr: 2.23e+01 at lambda: 1.96e-02, rho: 1.02e-01\r",
      "P:   1 R:   1 T:  39  psnr: 2.23e+01 at lambda: 1.96e-02, rho: 1.02e-01\r"
     ]
    },
    {
     "name": "stdout",
     "output_type": "stream",
     "text": [
      "P:   1 R:   1 T:  39  psnr: 2.23e+01 at lambda: 1.96e-02, rho: 1.02e-01\r",
      "P:   1 R:   0 T:  40  psnr: 2.23e+01 at lambda: 1.96e-02, rho: 1.02e-01\r",
      "P:   0 R:   1 T:  40  psnr: 2.23e+01 at lambda: 1.96e-02, rho: 1.02e-01\r",
      "P:   1 R:   1 T:  40  psnr: 2.23e+01 at lambda: 1.96e-02, rho: 1.02e-01\r"
     ]
    },
    {
     "name": "stdout",
     "output_type": "stream",
     "text": [
      "P:   1 R:   1 T:  40  psnr: 2.23e+01 at lambda: 1.96e-02, rho: 1.02e-01\r",
      "P:   1 R:   1 T:  40  psnr: 2.23e+01 at lambda: 1.96e-02, rho: 1.02e-01\r"
     ]
    },
    {
     "name": "stdout",
     "output_type": "stream",
     "text": [
      "P:   1 R:   1 T:  40  psnr: 2.23e+01 at lambda: 1.96e-02, rho: 1.02e-01\r",
      "P:   1 R:   1 T:  40  psnr: 2.23e+01 at lambda: 1.96e-02, rho: 1.02e-01\r"
     ]
    },
    {
     "name": "stdout",
     "output_type": "stream",
     "text": [
      "P:   1 R:   1 T:  40  psnr: 2.23e+01 at lambda: 1.96e-02, rho: 1.02e-01\r",
      "P:   1 R:   1 T:  40  psnr: 2.23e+01 at lambda: 1.96e-02, rho: 1.02e-01\r",
      "P:   1 R:   1 T:  40  psnr: 2.23e+01 at lambda: 1.96e-02, rho: 1.02e-01\r"
     ]
    },
    {
     "name": "stdout",
     "output_type": "stream",
     "text": [
      "P:   1 R:   1 T:  40  psnr: 2.23e+01 at lambda: 1.96e-02, rho: 1.02e-01\r",
      "P:   1 R:   1 T:  40  psnr: 2.23e+01 at lambda: 1.96e-02, rho: 1.02e-01\r"
     ]
    },
    {
     "name": "stdout",
     "output_type": "stream",
     "text": [
      "P:   1 R:   1 T:  40  psnr: 2.23e+01 at lambda: 1.96e-02, rho: 1.02e-01\r",
      "P:   1 R:   1 T:  40  psnr: 2.23e+01 at lambda: 1.96e-02, rho: 1.02e-01\r",
      "P:   1 R:   1 T:  40  psnr: 2.23e+01 at lambda: 1.96e-02, rho: 1.02e-01\r"
     ]
    },
    {
     "name": "stdout",
     "output_type": "stream",
     "text": [
      "P:   1 R:   1 T:  40  psnr: 2.23e+01 at lambda: 1.96e-02, rho: 1.02e-01\r",
      "P:   1 R:   1 T:  40  psnr: 2.23e+01 at lambda: 1.96e-02, rho: 1.02e-01\r"
     ]
    },
    {
     "name": "stdout",
     "output_type": "stream",
     "text": [
      "P:   1 R:   1 T:  40  psnr: 2.23e+01 at lambda: 1.96e-02, rho: 1.02e-01\r",
      "P:   1 R:   1 T:  40  psnr: 2.23e+01 at lambda: 1.96e-02, rho: 1.02e-01\r",
      "P:   1 R:   1 T:  40  psnr: 2.23e+01 at lambda: 1.96e-02, rho: 1.02e-01\r"
     ]
    },
    {
     "name": "stdout",
     "output_type": "stream",
     "text": [
      "P:   1 R:   1 T:  40  psnr: 2.23e+01 at lambda: 1.96e-02, rho: 1.02e-01\r",
      "P:   1 R:   1 T:  40  psnr: 2.23e+01 at lambda: 1.96e-02, rho: 1.02e-01\r",
      "P:   1 R:   1 T:  40  psnr: 2.23e+01 at lambda: 1.96e-02, rho: 1.02e-01\r"
     ]
    },
    {
     "name": "stdout",
     "output_type": "stream",
     "text": [
      "P:   1 R:   1 T:  40  psnr: 2.23e+01 at lambda: 1.96e-02, rho: 1.02e-01\r",
      "P:   1 R:   1 T:  40  psnr: 2.23e+01 at lambda: 1.96e-02, rho: 1.02e-01\r"
     ]
    },
    {
     "name": "stdout",
     "output_type": "stream",
     "text": [
      "P:   1 R:   1 T:  40  psnr: 2.23e+01 at lambda: 1.96e-02, rho: 1.02e-01\r",
      "P:   1 R:   1 T:  40  psnr: 2.23e+01 at lambda: 1.96e-02, rho: 1.02e-01\r",
      "P:   1 R:   1 T:  40  psnr: 2.23e+01 at lambda: 1.96e-02, rho: 1.02e-01\r"
     ]
    },
    {
     "name": "stdout",
     "output_type": "stream",
     "text": [
      "P:   1 R:   1 T:  40  psnr: 2.23e+01 at lambda: 1.96e-02, rho: 1.02e-01\r",
      "P:   1 R:   1 T:  40  psnr: 2.23e+01 at lambda: 1.96e-02, rho: 1.02e-01\r",
      "P:   1 R:   1 T:  40  psnr: 2.23e+01 at lambda: 1.96e-02, rho: 1.02e-01\r",
      "P:   1 R:   0 T:  41  psnr: 2.23e+01 at lambda: 1.96e-02, rho: 1.02e-01\r"
     ]
    },
    {
     "name": "stdout",
     "output_type": "stream",
     "text": [
      "P:   0 R:   1 T:  41  psnr: 2.23e+01 at lambda: 1.96e-02, rho: 1.02e-01\r",
      "P:   1 R:   1 T:  41  psnr: 2.23e+01 at lambda: 1.96e-02, rho: 1.02e-01\r"
     ]
    },
    {
     "name": "stdout",
     "output_type": "stream",
     "text": [
      "P:   1 R:   1 T:  41  psnr: 2.23e+01 at lambda: 1.96e-02, rho: 1.02e-01\r",
      "P:   1 R:   1 T:  41  psnr: 2.23e+01 at lambda: 1.96e-02, rho: 1.02e-01\r"
     ]
    },
    {
     "name": "stdout",
     "output_type": "stream",
     "text": [
      "P:   1 R:   1 T:  41  psnr: 2.23e+01 at lambda: 1.96e-02, rho: 1.02e-01\r",
      "P:   1 R:   1 T:  41  psnr: 2.23e+01 at lambda: 1.96e-02, rho: 1.02e-01\r"
     ]
    },
    {
     "name": "stdout",
     "output_type": "stream",
     "text": [
      "P:   1 R:   1 T:  41  psnr: 2.23e+01 at lambda: 1.96e-02, rho: 1.02e-01\r",
      "P:   1 R:   1 T:  41  psnr: 2.23e+01 at lambda: 1.96e-02, rho: 1.02e-01\r"
     ]
    },
    {
     "name": "stdout",
     "output_type": "stream",
     "text": [
      "P:   1 R:   1 T:  41  psnr: 2.23e+01 at lambda: 1.96e-02, rho: 1.02e-01\r",
      "P:   1 R:   0 T:  42  psnr: 2.23e+01 at lambda: 1.96e-02, rho: 1.02e-01\r",
      "P:   0 R:   1 T:  42  psnr: 2.23e+01 at lambda: 1.96e-02, rho: 1.02e-01\r",
      "P:   1 R:   1 T:  42  psnr: 2.23e+01 at lambda: 1.96e-02, rho: 1.02e-01\r"
     ]
    },
    {
     "name": "stdout",
     "output_type": "stream",
     "text": [
      "P:   1 R:   1 T:  42  psnr: 2.23e+01 at lambda: 1.96e-02, rho: 1.02e-01\r",
      "P:   1 R:   1 T:  42  psnr: 2.23e+01 at lambda: 1.96e-02, rho: 1.02e-01\r"
     ]
    },
    {
     "name": "stdout",
     "output_type": "stream",
     "text": [
      "P:   1 R:   1 T:  42  psnr: 2.23e+01 at lambda: 1.96e-02, rho: 1.02e-01\r",
      "P:   1 R:   1 T:  42  psnr: 2.23e+01 at lambda: 1.96e-02, rho: 1.02e-01\r"
     ]
    },
    {
     "name": "stdout",
     "output_type": "stream",
     "text": [
      "P:   1 R:   1 T:  42  psnr: 2.23e+01 at lambda: 1.96e-02, rho: 1.02e-01\r",
      "P:   1 R:   1 T:  42  psnr: 2.23e+01 at lambda: 1.96e-02, rho: 1.02e-01\r"
     ]
    },
    {
     "name": "stdout",
     "output_type": "stream",
     "text": [
      "P:   1 R:   1 T:  42  psnr: 2.23e+01 at lambda: 1.96e-02, rho: 1.02e-01\r",
      "P:   1 R:   1 T:  42  psnr: 2.23e+01 at lambda: 1.96e-02, rho: 1.02e-01\r"
     ]
    },
    {
     "name": "stdout",
     "output_type": "stream",
     "text": [
      "P:   1 R:   1 T:  42  psnr: 2.23e+01 at lambda: 1.96e-02, rho: 1.02e-01\r",
      "P:   1 R:   1 T:  42  psnr: 2.23e+01 at lambda: 1.96e-02, rho: 1.02e-01\r"
     ]
    },
    {
     "name": "stdout",
     "output_type": "stream",
     "text": [
      "P:   1 R:   1 T:  42  psnr: 2.23e+01 at lambda: 1.96e-02, rho: 1.02e-01\r",
      "P:   1 R:   1 T:  42  psnr: 2.23e+01 at lambda: 1.96e-02, rho: 1.02e-01\r",
      "P:   1 R:   1 T:  42  psnr: 2.23e+01 at lambda: 1.96e-02, rho: 1.02e-01\r"
     ]
    },
    {
     "name": "stdout",
     "output_type": "stream",
     "text": [
      "P:   1 R:   1 T:  42  psnr: 2.23e+01 at lambda: 1.96e-02, rho: 1.02e-01\r",
      "P:   1 R:   1 T:  42  psnr: 2.23e+01 at lambda: 1.96e-02, rho: 1.02e-01\r"
     ]
    },
    {
     "name": "stdout",
     "output_type": "stream",
     "text": [
      "P:   1 R:   1 T:  42  psnr: 2.23e+01 at lambda: 1.96e-02, rho: 1.02e-01\r",
      "P:   1 R:   1 T:  42  psnr: 2.23e+01 at lambda: 1.96e-02, rho: 1.02e-01\r",
      "P:   1 R:   1 T:  42  psnr: 2.23e+01 at lambda: 1.96e-02, rho: 1.02e-01\r"
     ]
    },
    {
     "name": "stdout",
     "output_type": "stream",
     "text": [
      "P:   1 R:   1 T:  42  psnr: 2.23e+01 at lambda: 1.96e-02, rho: 1.02e-01\r",
      "P:   1 R:   1 T:  42  psnr: 2.23e+01 at lambda: 1.96e-02, rho: 1.02e-01\r",
      "P:   1 R:   0 T:  43  psnr: 2.23e+01 at lambda: 1.96e-02, rho: 1.02e-01\r",
      "P:   0 R:   1 T:  43  psnr: 2.23e+01 at lambda: 1.96e-02, rho: 1.02e-01\r"
     ]
    },
    {
     "name": "stdout",
     "output_type": "stream",
     "text": [
      "P:   1 R:   1 T:  43  psnr: 2.23e+01 at lambda: 1.96e-02, rho: 1.02e-01\r",
      "P:   1 R:   1 T:  43  psnr: 2.23e+01 at lambda: 1.96e-02, rho: 1.02e-01\r",
      "P:   1 R:   1 T:  43  psnr: 2.23e+01 at lambda: 1.96e-02, rho: 1.02e-01\r"
     ]
    },
    {
     "name": "stdout",
     "output_type": "stream",
     "text": [
      "P:   1 R:   1 T:  43  psnr: 2.23e+01 at lambda: 1.96e-02, rho: 1.02e-01\r",
      "P:   1 R:   1 T:  43  psnr: 2.23e+01 at lambda: 1.96e-02, rho: 1.02e-01\r"
     ]
    },
    {
     "name": "stdout",
     "output_type": "stream",
     "text": [
      "P:   1 R:   1 T:  43  psnr: 2.23e+01 at lambda: 1.96e-02, rho: 1.02e-01\r",
      "P:   1 R:   1 T:  43  psnr: 2.23e+01 at lambda: 1.96e-02, rho: 1.02e-01\r"
     ]
    },
    {
     "name": "stdout",
     "output_type": "stream",
     "text": [
      "P:   1 R:   1 T:  43  psnr: 2.23e+01 at lambda: 1.96e-02, rho: 1.02e-01\r",
      "P:   1 R:   1 T:  43  psnr: 2.23e+01 at lambda: 1.96e-02, rho: 1.02e-01\r"
     ]
    },
    {
     "name": "stdout",
     "output_type": "stream",
     "text": [
      "P:   1 R:   1 T:  43  psnr: 2.23e+01 at lambda: 1.96e-02, rho: 1.02e-01\r",
      "P:   1 R:   1 T:  43  psnr: 2.23e+01 at lambda: 1.96e-02, rho: 1.02e-01\r"
     ]
    },
    {
     "name": "stdout",
     "output_type": "stream",
     "text": [
      "P:   1 R:   1 T:  43  psnr: 2.23e+01 at lambda: 1.96e-02, rho: 1.02e-01\r",
      "P:   1 R:   1 T:  43  psnr: 2.23e+01 at lambda: 1.96e-02, rho: 1.02e-01\r",
      "P:   1 R:   0 T:  44  psnr: 2.23e+01 at lambda: 1.96e-02, rho: 1.02e-01\r",
      "P:   0 R:   1 T:  44  psnr: 2.23e+01 at lambda: 1.96e-02, rho: 1.02e-01\r"
     ]
    },
    {
     "name": "stdout",
     "output_type": "stream",
     "text": [
      "P:   1 R:   1 T:  44  psnr: 2.23e+01 at lambda: 1.96e-02, rho: 1.02e-01\r",
      "P:   1 R:   1 T:  44  psnr: 2.23e+01 at lambda: 1.96e-02, rho: 1.02e-01\r"
     ]
    },
    {
     "name": "stdout",
     "output_type": "stream",
     "text": [
      "P:   1 R:   1 T:  44  psnr: 2.23e+01 at lambda: 1.96e-02, rho: 1.02e-01\r",
      "P:   1 R:   1 T:  44  psnr: 2.23e+01 at lambda: 1.96e-02, rho: 1.02e-01\r"
     ]
    },
    {
     "name": "stdout",
     "output_type": "stream",
     "text": [
      "P:   1 R:   1 T:  44  psnr: 2.23e+01 at lambda: 1.96e-02, rho: 1.02e-01\r",
      "P:   1 R:   1 T:  44  psnr: 2.23e+01 at lambda: 1.96e-02, rho: 1.02e-01\r"
     ]
    },
    {
     "name": "stdout",
     "output_type": "stream",
     "text": [
      "P:   1 R:   1 T:  44  psnr: 2.23e+01 at lambda: 1.96e-02, rho: 1.02e-01\r",
      "P:   1 R:   0 T:  45  psnr: 2.23e+01 at lambda: 1.96e-02, rho: 1.02e-01\r",
      "P:   0 R:   1 T:  45  psnr: 2.23e+01 at lambda: 1.96e-02, rho: 1.02e-01\r"
     ]
    },
    {
     "name": "stdout",
     "output_type": "stream",
     "text": [
      "P:   1 R:   1 T:  45  psnr: 2.23e+01 at lambda: 1.96e-02, rho: 1.02e-01\r",
      "P:   1 R:   1 T:  45  psnr: 2.23e+01 at lambda: 1.96e-02, rho: 1.02e-01\r"
     ]
    },
    {
     "name": "stdout",
     "output_type": "stream",
     "text": [
      "P:   1 R:   1 T:  45  psnr: 2.23e+01 at lambda: 1.96e-02, rho: 1.02e-01\r",
      "P:   1 R:   1 T:  45  psnr: 2.23e+01 at lambda: 1.96e-02, rho: 1.02e-01\r"
     ]
    },
    {
     "name": "stdout",
     "output_type": "stream",
     "text": [
      "P:   1 R:   1 T:  45  psnr: 2.23e+01 at lambda: 1.96e-02, rho: 1.02e-01\r",
      "P:   1 R:   1 T:  45  psnr: 2.23e+01 at lambda: 1.96e-02, rho: 1.02e-01\r"
     ]
    },
    {
     "name": "stdout",
     "output_type": "stream",
     "text": [
      "P:   1 R:   1 T:  45  psnr: 2.23e+01 at lambda: 1.96e-02, rho: 1.02e-01\r",
      "P:   1 R:   1 T:  45  psnr: 2.23e+01 at lambda: 1.96e-02, rho: 1.02e-01\r",
      "P:   1 R:   1 T:  45  psnr: 2.23e+01 at lambda: 1.96e-02, rho: 1.02e-01\r"
     ]
    },
    {
     "name": "stdout",
     "output_type": "stream",
     "text": [
      "P:   1 R:   1 T:  45  psnr: 2.23e+01 at lambda: 1.96e-02, rho: 1.02e-01\r",
      "P:   1 R:   1 T:  45  psnr: 2.23e+01 at lambda: 1.96e-02, rho: 1.02e-01\r",
      "P:   1 R:   0 T:  46  psnr: 2.23e+01 at lambda: 1.96e-02, rho: 1.02e-01\r",
      "P:   0 R:   1 T:  46  psnr: 2.23e+01 at lambda: 1.96e-02, rho: 1.02e-01\r"
     ]
    },
    {
     "name": "stdout",
     "output_type": "stream",
     "text": [
      "P:   1 R:   1 T:  46  psnr: 2.23e+01 at lambda: 1.96e-02, rho: 1.02e-01\r",
      "P:   1 R:   1 T:  46  psnr: 2.23e+01 at lambda: 1.96e-02, rho: 1.02e-01\r",
      "P:   1 R:   1 T:  46  psnr: 2.23e+01 at lambda: 1.96e-02, rho: 1.02e-01\r"
     ]
    },
    {
     "name": "stdout",
     "output_type": "stream",
     "text": [
      "P:   1 R:   1 T:  46  psnr: 2.23e+01 at lambda: 1.96e-02, rho: 1.02e-01\r",
      "P:   1 R:   1 T:  46  psnr: 2.23e+01 at lambda: 1.96e-02, rho: 1.02e-01\r"
     ]
    },
    {
     "name": "stdout",
     "output_type": "stream",
     "text": [
      "P:   1 R:   1 T:  46  psnr: 2.23e+01 at lambda: 1.96e-02, rho: 1.02e-01\r",
      "P:   1 R:   1 T:  46  psnr: 2.23e+01 at lambda: 1.96e-02, rho: 1.02e-01\r"
     ]
    },
    {
     "name": "stdout",
     "output_type": "stream",
     "text": [
      "P:   1 R:   1 T:  46  psnr: 2.23e+01 at lambda: 1.96e-02, rho: 1.02e-01\r",
      "P:   1 R:   1 T:  46  psnr: 2.23e+01 at lambda: 1.96e-02, rho: 1.02e-01\r"
     ]
    },
    {
     "name": "stdout",
     "output_type": "stream",
     "text": [
      "P:   1 R:   1 T:  46  psnr: 2.23e+01 at lambda: 1.96e-02, rho: 1.02e-01\r",
      "P:   1 R:   1 T:  46  psnr: 2.23e+01 at lambda: 1.96e-02, rho: 1.02e-01\r",
      "P:   1 R:   1 T:  46  psnr: 2.23e+01 at lambda: 1.96e-02, rho: 1.02e-01\r"
     ]
    },
    {
     "name": "stdout",
     "output_type": "stream",
     "text": [
      "P:   1 R:   1 T:  46  psnr: 2.23e+01 at lambda: 1.96e-02, rho: 1.02e-01\r",
      "P:   1 R:   1 T:  46  psnr: 2.23e+01 at lambda: 1.96e-02, rho: 1.02e-01\r"
     ]
    },
    {
     "name": "stdout",
     "output_type": "stream",
     "text": [
      "P:   1 R:   1 T:  46  psnr: 2.23e+01 at lambda: 1.96e-02, rho: 1.02e-01\r",
      "P:   1 R:   1 T:  46  psnr: 2.23e+01 at lambda: 1.96e-02, rho: 1.02e-01\r",
      "P:   1 R:   1 T:  46  psnr: 2.23e+01 at lambda: 1.96e-02, rho: 1.02e-01\r"
     ]
    },
    {
     "name": "stdout",
     "output_type": "stream",
     "text": [
      "P:   1 R:   1 T:  46  psnr: 2.23e+01 at lambda: 1.96e-02, rho: 1.02e-01\r",
      "P:   1 R:   1 T:  46  psnr: 2.23e+01 at lambda: 1.96e-02, rho: 1.02e-01\r"
     ]
    },
    {
     "name": "stdout",
     "output_type": "stream",
     "text": [
      "P:   1 R:   1 T:  46  psnr: 2.23e+01 at lambda: 1.96e-02, rho: 1.02e-01\r",
      "P:   1 R:   1 T:  46  psnr: 2.23e+01 at lambda: 1.96e-02, rho: 1.02e-01\r"
     ]
    },
    {
     "name": "stdout",
     "output_type": "stream",
     "text": [
      "P:   1 R:   1 T:  46  psnr: 2.23e+01 at lambda: 1.96e-02, rho: 1.02e-01\r",
      "P:   1 R:   1 T:  46  psnr: 2.23e+01 at lambda: 1.96e-02, rho: 1.02e-01\r",
      "P:   1 R:   1 T:  46  psnr: 2.23e+01 at lambda: 1.96e-02, rho: 1.02e-01\r"
     ]
    },
    {
     "name": "stdout",
     "output_type": "stream",
     "text": [
      "P:   1 R:   1 T:  46  psnr: 2.23e+01 at lambda: 1.96e-02, rho: 1.02e-01\r",
      "P:   1 R:   1 T:  46  psnr: 2.23e+01 at lambda: 1.96e-02, rho: 1.02e-01\r"
     ]
    },
    {
     "name": "stdout",
     "output_type": "stream",
     "text": [
      "P:   1 R:   1 T:  46  psnr: 2.23e+01 at lambda: 1.96e-02, rho: 1.02e-01\r",
      "P:   1 R:   1 T:  46  psnr: 2.23e+01 at lambda: 1.96e-02, rho: 1.02e-01\r",
      "P:   1 R:   0 T:  47  psnr: 2.23e+01 at lambda: 1.96e-02, rho: 1.02e-01\r",
      "P:   0 R:   1 T:  47  psnr: 2.23e+01 at lambda: 1.96e-02, rho: 1.02e-01\r"
     ]
    },
    {
     "name": "stdout",
     "output_type": "stream",
     "text": [
      "P:   1 R:   1 T:  47  psnr: 2.23e+01 at lambda: 1.96e-02, rho: 1.02e-01\r",
      "P:   1 R:   1 T:  47  psnr: 2.23e+01 at lambda: 1.96e-02, rho: 1.02e-01\r"
     ]
    },
    {
     "name": "stdout",
     "output_type": "stream",
     "text": [
      "P:   1 R:   1 T:  47  psnr: 2.23e+01 at lambda: 1.96e-02, rho: 1.02e-01\r",
      "P:   1 R:   1 T:  47  psnr: 2.23e+01 at lambda: 1.96e-02, rho: 1.02e-01\r"
     ]
    },
    {
     "name": "stdout",
     "output_type": "stream",
     "text": [
      "P:   1 R:   1 T:  47  psnr: 2.23e+01 at lambda: 1.96e-02, rho: 1.02e-01\r",
      "P:   1 R:   1 T:  47  psnr: 2.23e+01 at lambda: 1.96e-02, rho: 1.02e-01\r"
     ]
    },
    {
     "name": "stdout",
     "output_type": "stream",
     "text": [
      "P:   1 R:   1 T:  47  psnr: 2.23e+01 at lambda: 1.96e-02, rho: 1.02e-01\r",
      "P:   1 R:   1 T:  47  psnr: 2.23e+01 at lambda: 1.96e-02, rho: 1.02e-01\r",
      "P:   1 R:   0 T:  48  psnr: 2.23e+01 at lambda: 1.96e-02, rho: 1.02e-01\r"
     ]
    },
    {
     "name": "stdout",
     "output_type": "stream",
     "text": [
      "P:   0 R:   1 T:  48  psnr: 2.23e+01 at lambda: 1.96e-02, rho: 1.02e-01\r",
      "P:   1 R:   1 T:  48  psnr: 2.23e+01 at lambda: 1.96e-02, rho: 1.02e-01\r",
      "P:   1 R:   1 T:  48  psnr: 2.23e+01 at lambda: 1.96e-02, rho: 1.02e-01\r"
     ]
    },
    {
     "name": "stdout",
     "output_type": "stream",
     "text": [
      "P:   1 R:   1 T:  48  psnr: 2.23e+01 at lambda: 1.96e-02, rho: 1.02e-01\r",
      "P:   1 R:   1 T:  48  psnr: 2.23e+01 at lambda: 1.96e-02, rho: 1.02e-01\r"
     ]
    },
    {
     "name": "stdout",
     "output_type": "stream",
     "text": [
      "P:   1 R:   1 T:  48  psnr: 2.23e+01 at lambda: 1.96e-02, rho: 1.02e-01\r",
      "P:   1 R:   1 T:  48  psnr: 2.23e+01 at lambda: 1.96e-02, rho: 1.02e-01\r"
     ]
    },
    {
     "name": "stdout",
     "output_type": "stream",
     "text": [
      "P:   1 R:   1 T:  48  psnr: 2.23e+01 at lambda: 1.96e-02, rho: 1.02e-01\r",
      "P:   1 R:   1 T:  48  psnr: 2.23e+01 at lambda: 1.96e-02, rho: 1.02e-01\r"
     ]
    },
    {
     "name": "stdout",
     "output_type": "stream",
     "text": [
      "P:   1 R:   1 T:  48  psnr: 2.23e+01 at lambda: 1.96e-02, rho: 1.02e-01\r",
      "P:   1 R:   1 T:  48  psnr: 2.23e+01 at lambda: 1.96e-02, rho: 1.02e-01\r",
      "P:   1 R:   1 T:  48  psnr: 2.23e+01 at lambda: 1.96e-02, rho: 1.02e-01\r"
     ]
    },
    {
     "name": "stdout",
     "output_type": "stream",
     "text": [
      "P:   1 R:   1 T:  48  psnr: 2.23e+01 at lambda: 1.96e-02, rho: 1.02e-01\r",
      "P:   1 R:   1 T:  48  psnr: 2.23e+01 at lambda: 1.96e-02, rho: 1.02e-01\r"
     ]
    },
    {
     "name": "stdout",
     "output_type": "stream",
     "text": [
      "P:   1 R:   1 T:  48  psnr: 2.23e+01 at lambda: 1.96e-02, rho: 1.02e-01\r",
      "P:   1 R:   1 T:  48  psnr: 2.23e+01 at lambda: 1.96e-02, rho: 1.02e-01\r",
      "P:   1 R:   1 T:  48  psnr: 2.23e+01 at lambda: 1.96e-02, rho: 1.02e-01\r"
     ]
    },
    {
     "name": "stdout",
     "output_type": "stream",
     "text": [
      "P:   1 R:   1 T:  48  psnr: 2.23e+01 at lambda: 1.96e-02, rho: 1.02e-01\r",
      "P:   1 R:   1 T:  48  psnr: 2.23e+01 at lambda: 1.96e-02, rho: 1.02e-01\r"
     ]
    },
    {
     "name": "stdout",
     "output_type": "stream",
     "text": [
      "P:   1 R:   1 T:  48  psnr: 2.23e+01 at lambda: 1.96e-02, rho: 1.02e-01\r",
      "P:   1 R:   1 T:  48  psnr: 2.23e+01 at lambda: 1.96e-02, rho: 1.02e-01\r",
      "P:   1 R:   1 T:  48  psnr: 2.23e+01 at lambda: 1.96e-02, rho: 1.02e-01\r"
     ]
    },
    {
     "name": "stdout",
     "output_type": "stream",
     "text": [
      "P:   1 R:   1 T:  48  psnr: 2.23e+01 at lambda: 1.96e-02, rho: 1.02e-01\r",
      "P:   1 R:   1 T:  48  psnr: 2.23e+01 at lambda: 1.96e-02, rho: 1.02e-01\r",
      "P:   1 R:   0 T:  49  psnr: 2.23e+01 at lambda: 1.96e-02, rho: 1.02e-01\r",
      "P:   0 R:   1 T:  49  psnr: 2.23e+01 at lambda: 1.96e-02, rho: 1.02e-01\r"
     ]
    },
    {
     "name": "stdout",
     "output_type": "stream",
     "text": [
      "P:   1 R:   1 T:  49  psnr: 2.23e+01 at lambda: 1.96e-02, rho: 1.02e-01\r",
      "P:   1 R:   1 T:  49  psnr: 2.23e+01 at lambda: 1.96e-02, rho: 1.02e-01\r"
     ]
    },
    {
     "name": "stdout",
     "output_type": "stream",
     "text": [
      "P:   1 R:   1 T:  49  psnr: 2.23e+01 at lambda: 1.96e-02, rho: 1.02e-01\r",
      "P:   1 R:   1 T:  49  psnr: 2.23e+01 at lambda: 1.96e-02, rho: 1.02e-01\r"
     ]
    },
    {
     "name": "stdout",
     "output_type": "stream",
     "text": [
      "P:   1 R:   1 T:  49  psnr: 2.23e+01 at lambda: 1.96e-02, rho: 1.02e-01\r",
      "P:   1 R:   1 T:  49  psnr: 2.23e+01 at lambda: 1.96e-02, rho: 1.02e-01\r"
     ]
    },
    {
     "name": "stdout",
     "output_type": "stream",
     "text": [
      "P:   1 R:   1 T:  49  psnr: 2.23e+01 at lambda: 1.96e-02, rho: 1.02e-01\r",
      "P:   1 R:   1 T:  49  psnr: 2.23e+01 at lambda: 1.96e-02, rho: 1.02e-01\r"
     ]
    },
    {
     "name": "stdout",
     "output_type": "stream",
     "text": [
      "P:   1 R:   1 T:  49  psnr: 2.23e+01 at lambda: 1.96e-02, rho: 1.02e-01\r",
      "P:   1 R:   1 T:  49  psnr: 2.23e+01 at lambda: 1.96e-02, rho: 1.02e-01\r"
     ]
    },
    {
     "name": "stdout",
     "output_type": "stream",
     "text": [
      "P:   1 R:   1 T:  49  psnr: 2.23e+01 at lambda: 1.96e-02, rho: 1.02e-01\r",
      "P:   1 R:   0 T:  50  psnr: 2.23e+01 at lambda: 1.96e-02, rho: 1.02e-01\r",
      "P:   0 R:   1 T:  50  psnr: 2.23e+01 at lambda: 1.96e-02, rho: 1.02e-01\r",
      "P:   1 R:   1 T:  50  psnr: 2.23e+01 at lambda: 1.96e-02, rho: 1.02e-01\r"
     ]
    },
    {
     "name": "stdout",
     "output_type": "stream",
     "text": [
      "P:   1 R:   1 T:  50  psnr: 2.23e+01 at lambda: 1.96e-02, rho: 1.02e-01\r",
      "P:   1 R:   1 T:  50  psnr: 2.23e+01 at lambda: 1.96e-02, rho: 1.02e-01\r"
     ]
    },
    {
     "name": "stdout",
     "output_type": "stream",
     "text": [
      "P:   1 R:   1 T:  50  psnr: 2.23e+01 at lambda: 1.96e-02, rho: 1.02e-01\r",
      "P:   1 R:   1 T:  50  psnr: 2.23e+01 at lambda: 1.96e-02, rho: 1.02e-01\r"
     ]
    },
    {
     "name": "stdout",
     "output_type": "stream",
     "text": [
      "P:   1 R:   1 T:  50  psnr: 2.23e+01 at lambda: 1.96e-02, rho: 1.02e-01\r",
      "P:   1 R:   1 T:  50  psnr: 2.23e+01 at lambda: 1.96e-02, rho: 1.02e-01\r"
     ]
    },
    {
     "name": "stdout",
     "output_type": "stream",
     "text": [
      "P:   1 R:   1 T:  50  psnr: 2.23e+01 at lambda: 1.96e-02, rho: 1.02e-01\r",
      "P:   1 R:   1 T:  50  psnr: 2.23e+01 at lambda: 1.96e-02, rho: 1.02e-01\r",
      "P:   1 R:   0 T:  51  psnr: 2.23e+01 at lambda: 1.96e-02, rho: 1.02e-01\r"
     ]
    },
    {
     "name": "stdout",
     "output_type": "stream",
     "text": [
      "P:   0 R:   1 T:  51  psnr: 2.23e+01 at lambda: 1.96e-02, rho: 1.02e-01\r",
      "P:   1 R:   1 T:  51  psnr: 2.23e+01 at lambda: 1.96e-02, rho: 1.02e-01\r"
     ]
    },
    {
     "name": "stdout",
     "output_type": "stream",
     "text": [
      "P:   1 R:   1 T:  51  psnr: 2.23e+01 at lambda: 1.96e-02, rho: 1.02e-01\r",
      "P:   1 R:   1 T:  51  psnr: 2.23e+01 at lambda: 1.96e-02, rho: 1.02e-01\r",
      "P:   1 R:   1 T:  51  psnr: 2.23e+01 at lambda: 1.96e-02, rho: 1.02e-01\r"
     ]
    },
    {
     "name": "stdout",
     "output_type": "stream",
     "text": [
      "P:   1 R:   1 T:  51  psnr: 2.23e+01 at lambda: 1.96e-02, rho: 1.02e-01\r",
      "P:   1 R:   1 T:  51  psnr: 2.23e+01 at lambda: 1.96e-02, rho: 1.02e-01\r"
     ]
    },
    {
     "name": "stdout",
     "output_type": "stream",
     "text": [
      "P:   1 R:   1 T:  51  psnr: 2.23e+01 at lambda: 1.96e-02, rho: 1.02e-01\r",
      "P:   1 R:   1 T:  51  psnr: 2.23e+01 at lambda: 1.96e-02, rho: 1.02e-01\r"
     ]
    },
    {
     "name": "stdout",
     "output_type": "stream",
     "text": [
      "P:   1 R:   1 T:  51  psnr: 2.23e+01 at lambda: 1.96e-02, rho: 1.02e-01\r",
      "P:   1 R:   0 T:  52  psnr: 2.23e+01 at lambda: 1.96e-02, rho: 1.02e-01\r",
      "P:   0 R:   1 T:  52  psnr: 2.23e+01 at lambda: 1.96e-02, rho: 1.02e-01\r"
     ]
    },
    {
     "name": "stdout",
     "output_type": "stream",
     "text": [
      "P:   1 R:   1 T:  52  psnr: 2.23e+01 at lambda: 1.96e-02, rho: 1.02e-01\r",
      "P:   1 R:   1 T:  52  psnr: 2.23e+01 at lambda: 1.96e-02, rho: 1.02e-01\r",
      "P:   1 R:   1 T:  52  psnr: 2.23e+01 at lambda: 1.96e-02, rho: 1.02e-01\r"
     ]
    },
    {
     "name": "stdout",
     "output_type": "stream",
     "text": [
      "P:   1 R:   1 T:  52  psnr: 2.23e+01 at lambda: 1.96e-02, rho: 1.02e-01\r",
      "P:   1 R:   1 T:  52  psnr: 2.23e+01 at lambda: 1.96e-02, rho: 1.02e-01\r"
     ]
    },
    {
     "name": "stdout",
     "output_type": "stream",
     "text": [
      "P:   1 R:   1 T:  52  psnr: 2.23e+01 at lambda: 1.96e-02, rho: 1.02e-01\r",
      "P:   1 R:   1 T:  52  psnr: 2.23e+01 at lambda: 1.96e-02, rho: 1.02e-01\r"
     ]
    },
    {
     "name": "stdout",
     "output_type": "stream",
     "text": [
      "P:   1 R:   1 T:  52  psnr: 2.23e+01 at lambda: 1.96e-02, rho: 1.02e-01\r",
      "P:   1 R:   1 T:  52  psnr: 2.23e+01 at lambda: 1.96e-02, rho: 1.02e-01\r"
     ]
    },
    {
     "name": "stdout",
     "output_type": "stream",
     "text": [
      "P:   1 R:   1 T:  52  psnr: 2.23e+01 at lambda: 1.96e-02, rho: 1.02e-01\r",
      "P:   1 R:   0 T:  53  psnr: 2.23e+01 at lambda: 1.96e-02, rho: 1.02e-01\r",
      "P:   0 R:   1 T:  53  psnr: 2.23e+01 at lambda: 1.96e-02, rho: 1.02e-01\r"
     ]
    },
    {
     "name": "stdout",
     "output_type": "stream",
     "text": [
      "P:   1 R:   1 T:  53  psnr: 2.23e+01 at lambda: 1.96e-02, rho: 1.02e-01\r",
      "P:   1 R:   1 T:  53  psnr: 2.23e+01 at lambda: 1.96e-02, rho: 1.02e-01\r"
     ]
    },
    {
     "name": "stdout",
     "output_type": "stream",
     "text": [
      "P:   1 R:   1 T:  53  psnr: 2.23e+01 at lambda: 1.96e-02, rho: 1.02e-01\r",
      "P:   1 R:   1 T:  53  psnr: 2.23e+01 at lambda: 1.96e-02, rho: 1.02e-01\r"
     ]
    },
    {
     "name": "stdout",
     "output_type": "stream",
     "text": [
      "P:   1 R:   1 T:  53  psnr: 2.23e+01 at lambda: 1.96e-02, rho: 1.02e-01\r",
      "P:   1 R:   1 T:  53  psnr: 2.23e+01 at lambda: 1.96e-02, rho: 1.02e-01\r"
     ]
    },
    {
     "name": "stdout",
     "output_type": "stream",
     "text": [
      "P:   1 R:   1 T:  53  psnr: 2.23e+01 at lambda: 1.96e-02, rho: 1.02e-01\r",
      "P:   1 R:   1 T:  53  psnr: 2.23e+01 at lambda: 1.96e-02, rho: 1.02e-01\r",
      "P:   1 R:   0 T:  54  psnr: 2.23e+01 at lambda: 1.96e-02, rho: 1.02e-01\r",
      "P:   0 R:   1 T:  54  psnr: 2.23e+01 at lambda: 1.96e-02, rho: 1.02e-01\r"
     ]
    },
    {
     "name": "stdout",
     "output_type": "stream",
     "text": [
      "P:   1 R:   1 T:  54  psnr: 2.23e+01 at lambda: 1.96e-02, rho: 1.02e-01\r",
      "P:   1 R:   1 T:  54  psnr: 2.23e+01 at lambda: 1.96e-02, rho: 1.02e-01\r"
     ]
    },
    {
     "name": "stdout",
     "output_type": "stream",
     "text": [
      "P:   1 R:   1 T:  54  psnr: 2.23e+01 at lambda: 1.96e-02, rho: 1.02e-01\r",
      "P:   1 R:   1 T:  54  psnr: 2.23e+01 at lambda: 1.96e-02, rho: 1.02e-01\r"
     ]
    },
    {
     "name": "stdout",
     "output_type": "stream",
     "text": [
      "P:   1 R:   1 T:  54  psnr: 2.23e+01 at lambda: 1.96e-02, rho: 1.02e-01\r",
      "P:   1 R:   1 T:  54  psnr: 2.23e+01 at lambda: 1.96e-02, rho: 1.02e-01\r"
     ]
    },
    {
     "name": "stdout",
     "output_type": "stream",
     "text": [
      "P:   1 R:   1 T:  54  psnr: 2.23e+01 at lambda: 1.96e-02, rho: 1.02e-01\r",
      "P:   1 R:   1 T:  54  psnr: 2.23e+01 at lambda: 1.96e-02, rho: 1.02e-01\r"
     ]
    },
    {
     "name": "stdout",
     "output_type": "stream",
     "text": [
      "P:   1 R:   1 T:  54  psnr: 2.23e+01 at lambda: 1.96e-02, rho: 1.02e-01\r",
      "P:   1 R:   1 T:  54  psnr: 2.23e+01 at lambda: 1.96e-02, rho: 1.02e-01\r",
      "P:   1 R:   0 T:  55  psnr: 2.23e+01 at lambda: 1.96e-02, rho: 1.02e-01\r",
      "P:   0 R:   1 T:  55  psnr: 2.23e+01 at lambda: 1.96e-02, rho: 1.02e-01\r"
     ]
    },
    {
     "name": "stdout",
     "output_type": "stream",
     "text": [
      "P:   1 R:   1 T:  55  psnr: 2.23e+01 at lambda: 1.96e-02, rho: 1.02e-01\r",
      "P:   1 R:   1 T:  55  psnr: 2.23e+01 at lambda: 1.96e-02, rho: 1.02e-01\r"
     ]
    },
    {
     "name": "stdout",
     "output_type": "stream",
     "text": [
      "P:   1 R:   1 T:  55  psnr: 2.23e+01 at lambda: 1.96e-02, rho: 1.02e-01\r",
      "P:   1 R:   1 T:  55  psnr: 2.23e+01 at lambda: 1.96e-02, rho: 1.02e-01\r"
     ]
    },
    {
     "name": "stdout",
     "output_type": "stream",
     "text": [
      "P:   1 R:   1 T:  55  psnr: 2.23e+01 at lambda: 1.96e-02, rho: 1.02e-01\r",
      "P:   1 R:   1 T:  55  psnr: 2.23e+01 at lambda: 1.96e-02, rho: 1.02e-01\r"
     ]
    },
    {
     "name": "stdout",
     "output_type": "stream",
     "text": [
      "P:   1 R:   1 T:  55  psnr: 2.23e+01 at lambda: 1.96e-02, rho: 1.02e-01\r",
      "P:   1 R:   1 T:  55  psnr: 2.23e+01 at lambda: 1.96e-02, rho: 1.02e-01\r"
     ]
    },
    {
     "name": "stdout",
     "output_type": "stream",
     "text": [
      "P:   1 R:   1 T:  55  psnr: 2.23e+01 at lambda: 1.96e-02, rho: 1.02e-01\r",
      "P:   1 R:   1 T:  55  psnr: 2.23e+01 at lambda: 1.96e-02, rho: 1.02e-01\r",
      "P:   1 R:   1 T:  55  psnr: 2.23e+01 at lambda: 1.96e-02, rho: 1.02e-01\r"
     ]
    },
    {
     "name": "stdout",
     "output_type": "stream",
     "text": [
      "P:   1 R:   1 T:  55  psnr: 2.23e+01 at lambda: 1.96e-02, rho: 1.02e-01\r",
      "P:   1 R:   1 T:  55  psnr: 2.23e+01 at lambda: 1.96e-02, rho: 1.02e-01\r"
     ]
    },
    {
     "name": "stdout",
     "output_type": "stream",
     "text": [
      "P:   1 R:   1 T:  55  psnr: 2.23e+01 at lambda: 1.96e-02, rho: 1.02e-01\r",
      "P:   1 R:   1 T:  55  psnr: 2.23e+01 at lambda: 1.96e-02, rho: 1.02e-01\r",
      "P:   1 R:   1 T:  55  psnr: 2.23e+01 at lambda: 1.96e-02, rho: 1.02e-01\r",
      "P:   1 R:   1 T:  55  psnr: 2.23e+01 at lambda: 1.96e-02, rho: 1.02e-01\r"
     ]
    },
    {
     "name": "stdout",
     "output_type": "stream",
     "text": [
      "P:   1 R:   1 T:  55  psnr: 2.23e+01 at lambda: 1.96e-02, rho: 1.02e-01\r",
      "P:   1 R:   1 T:  55  psnr: 2.23e+01 at lambda: 1.96e-02, rho: 1.02e-01\r"
     ]
    },
    {
     "name": "stdout",
     "output_type": "stream",
     "text": [
      "P:   1 R:   1 T:  55  psnr: 2.23e+01 at lambda: 1.96e-02, rho: 1.02e-01\r",
      "P:   1 R:   1 T:  55  psnr: 2.23e+01 at lambda: 1.96e-02, rho: 1.02e-01\r",
      "P:   1 R:   1 T:  55  psnr: 2.23e+01 at lambda: 1.96e-02, rho: 1.02e-01\r"
     ]
    },
    {
     "name": "stdout",
     "output_type": "stream",
     "text": [
      "P:   1 R:   1 T:  55  psnr: 2.23e+01 at lambda: 1.96e-02, rho: 1.02e-01\r",
      "P:   1 R:   1 T:  55  psnr: 2.23e+01 at lambda: 1.96e-02, rho: 1.02e-01\r",
      "P:   1 R:   0 T:  56  psnr: 2.23e+01 at lambda: 1.96e-02, rho: 1.02e-01\r",
      "P:   0 R:   1 T:  56  psnr: 2.23e+01 at lambda: 1.96e-02, rho: 1.02e-01\r"
     ]
    },
    {
     "name": "stdout",
     "output_type": "stream",
     "text": [
      "P:   1 R:   1 T:  56  psnr: 2.23e+01 at lambda: 1.96e-02, rho: 1.02e-01\r",
      "P:   1 R:   1 T:  56  psnr: 2.23e+01 at lambda: 1.96e-02, rho: 1.02e-01\r"
     ]
    },
    {
     "name": "stdout",
     "output_type": "stream",
     "text": [
      "P:   1 R:   1 T:  56  psnr: 2.23e+01 at lambda: 1.96e-02, rho: 1.02e-01\r",
      "P:   1 R:   1 T:  56  psnr: 2.23e+01 at lambda: 1.96e-02, rho: 1.02e-01\r",
      "P:   1 R:   1 T:  56  psnr: 2.23e+01 at lambda: 1.96e-02, rho: 1.02e-01\r"
     ]
    },
    {
     "name": "stdout",
     "output_type": "stream",
     "text": [
      "P:   1 R:   1 T:  56  psnr: 2.23e+01 at lambda: 1.96e-02, rho: 1.02e-01\r",
      "P:   1 R:   1 T:  56  psnr: 2.23e+01 at lambda: 1.96e-02, rho: 1.02e-01\r"
     ]
    },
    {
     "name": "stdout",
     "output_type": "stream",
     "text": [
      "P:   1 R:   1 T:  56  psnr: 2.23e+01 at lambda: 1.96e-02, rho: 1.02e-01\r",
      "P:   1 R:   0 T:  57  psnr: 2.23e+01 at lambda: 1.96e-02, rho: 1.02e-01\r",
      "P:   0 R:   1 T:  57  psnr: 2.23e+01 at lambda: 1.96e-02, rho: 1.02e-01\r"
     ]
    },
    {
     "name": "stdout",
     "output_type": "stream",
     "text": [
      "P:   1 R:   1 T:  57  psnr: 2.23e+01 at lambda: 1.96e-02, rho: 1.02e-01\r",
      "P:   1 R:   1 T:  57  psnr: 2.23e+01 at lambda: 1.96e-02, rho: 1.02e-01\r"
     ]
    },
    {
     "name": "stdout",
     "output_type": "stream",
     "text": [
      "P:   1 R:   1 T:  57  psnr: 2.23e+01 at lambda: 1.96e-02, rho: 1.02e-01\r",
      "P:   1 R:   1 T:  57  psnr: 2.23e+01 at lambda: 1.96e-02, rho: 1.02e-01\r"
     ]
    },
    {
     "name": "stdout",
     "output_type": "stream",
     "text": [
      "P:   1 R:   1 T:  57  psnr: 2.23e+01 at lambda: 1.96e-02, rho: 1.02e-01\r",
      "P:   1 R:   1 T:  57  psnr: 2.23e+01 at lambda: 1.96e-02, rho: 1.02e-01\r",
      "P:   1 R:   1 T:  57  psnr: 2.23e+01 at lambda: 1.96e-02, rho: 1.02e-01\r"
     ]
    },
    {
     "name": "stdout",
     "output_type": "stream",
     "text": [
      "P:   1 R:   1 T:  57  psnr: 2.23e+01 at lambda: 1.96e-02, rho: 1.02e-01\r",
      "P:   1 R:   1 T:  57  psnr: 2.23e+01 at lambda: 1.96e-02, rho: 1.02e-01\r",
      "P:   1 R:   0 T:  58  psnr: 2.23e+01 at lambda: 1.96e-02, rho: 1.02e-01\r",
      "P:   0 R:   1 T:  58  psnr: 2.23e+01 at lambda: 1.96e-02, rho: 1.02e-01\r"
     ]
    },
    {
     "name": "stdout",
     "output_type": "stream",
     "text": [
      "P:   1 R:   1 T:  58  psnr: 2.23e+01 at lambda: 1.96e-02, rho: 1.02e-01\r",
      "P:   1 R:   1 T:  58  psnr: 2.23e+01 at lambda: 1.96e-02, rho: 1.02e-01\r"
     ]
    },
    {
     "name": "stdout",
     "output_type": "stream",
     "text": [
      "P:   1 R:   1 T:  58  psnr: 2.23e+01 at lambda: 1.96e-02, rho: 1.02e-01\r",
      "P:   1 R:   1 T:  58  psnr: 2.23e+01 at lambda: 1.96e-02, rho: 1.02e-01\r"
     ]
    },
    {
     "name": "stdout",
     "output_type": "stream",
     "text": [
      "P:   1 R:   1 T:  58  psnr: 2.23e+01 at lambda: 1.96e-02, rho: 1.02e-01\r",
      "P:   1 R:   1 T:  58  psnr: 2.23e+01 at lambda: 1.96e-02, rho: 1.02e-01\r"
     ]
    },
    {
     "name": "stdout",
     "output_type": "stream",
     "text": [
      "P:   1 R:   1 T:  58  psnr: 2.23e+01 at lambda: 1.96e-02, rho: 1.02e-01\r",
      "P:   1 R:   1 T:  58  psnr: 2.23e+01 at lambda: 1.96e-02, rho: 1.02e-01\r"
     ]
    },
    {
     "name": "stdout",
     "output_type": "stream",
     "text": [
      "P:   1 R:   1 T:  58  psnr: 2.23e+01 at lambda: 1.96e-02, rho: 1.02e-01\r",
      "P:   1 R:   0 T:  59  psnr: 2.23e+01 at lambda: 1.96e-02, rho: 1.02e-01\r",
      "P:   0 R:   1 T:  59  psnr: 2.23e+01 at lambda: 1.96e-02, rho: 1.02e-01\r",
      "P:   1 R:   1 T:  59  psnr: 2.23e+01 at lambda: 1.96e-02, rho: 1.02e-01\r"
     ]
    },
    {
     "name": "stdout",
     "output_type": "stream",
     "text": [
      "P:   1 R:   1 T:  59  psnr: 2.23e+01 at lambda: 1.96e-02, rho: 1.02e-01\r",
      "P:   1 R:   1 T:  59  psnr: 2.23e+01 at lambda: 1.96e-02, rho: 1.02e-01\r"
     ]
    },
    {
     "name": "stdout",
     "output_type": "stream",
     "text": [
      "P:   1 R:   1 T:  59  psnr: 2.23e+01 at lambda: 1.96e-02, rho: 1.02e-01\r",
      "P:   1 R:   1 T:  59  psnr: 2.23e+01 at lambda: 1.96e-02, rho: 1.02e-01\r"
     ]
    },
    {
     "name": "stdout",
     "output_type": "stream",
     "text": [
      "P:   1 R:   1 T:  59  psnr: 2.23e+01 at lambda: 1.96e-02, rho: 1.02e-01\r",
      "P:   1 R:   1 T:  59  psnr: 2.23e+01 at lambda: 1.96e-02, rho: 1.02e-01\r"
     ]
    },
    {
     "name": "stdout",
     "output_type": "stream",
     "text": [
      "P:   1 R:   1 T:  59  psnr: 2.23e+01 at lambda: 1.96e-02, rho: 1.02e-01\r",
      "P:   1 R:   1 T:  59  psnr: 2.23e+01 at lambda: 1.96e-02, rho: 1.02e-01\r",
      "P:   1 R:   1 T:  59  psnr: 2.23e+01 at lambda: 1.96e-02, rho: 1.02e-01\r"
     ]
    },
    {
     "name": "stdout",
     "output_type": "stream",
     "text": [
      "P:   1 R:   1 T:  59  psnr: 2.23e+01 at lambda: 1.96e-02, rho: 1.02e-01\r",
      "P:   1 R:   1 T:  59  psnr: 2.23e+01 at lambda: 1.96e-02, rho: 1.02e-01\r"
     ]
    },
    {
     "name": "stdout",
     "output_type": "stream",
     "text": [
      "P:   1 R:   1 T:  59  psnr: 2.23e+01 at lambda: 1.96e-02, rho: 1.02e-01\r",
      "P:   1 R:   1 T:  59  psnr: 2.23e+01 at lambda: 1.96e-02, rho: 1.02e-01\r",
      "P:   1 R:   1 T:  59  psnr: 2.23e+01 at lambda: 1.96e-02, rho: 1.02e-01\r"
     ]
    },
    {
     "name": "stdout",
     "output_type": "stream",
     "text": [
      "P:   1 R:   1 T:  59  psnr: 2.23e+01 at lambda: 1.96e-02, rho: 1.02e-01\r",
      "P:   1 R:   1 T:  59  psnr: 2.23e+01 at lambda: 1.96e-02, rho: 1.02e-01\r",
      "P:   1 R:   1 T:  59  psnr: 2.23e+01 at lambda: 1.96e-02, rho: 1.02e-01\r"
     ]
    },
    {
     "name": "stdout",
     "output_type": "stream",
     "text": [
      "P:   1 R:   1 T:  59  psnr: 2.23e+01 at lambda: 1.96e-02, rho: 1.02e-01\r",
      "P:   1 R:   1 T:  59  psnr: 2.23e+01 at lambda: 1.96e-02, rho: 1.02e-01\r"
     ]
    },
    {
     "name": "stdout",
     "output_type": "stream",
     "text": [
      "P:   1 R:   1 T:  59  psnr: 2.23e+01 at lambda: 1.96e-02, rho: 1.02e-01\r",
      "P:   1 R:   0 T:  60  psnr: 2.23e+01 at lambda: 1.96e-02, rho: 1.02e-01\r",
      "P:   0 R:   1 T:  60  psnr: 2.23e+01 at lambda: 1.96e-02, rho: 1.02e-01\r",
      "P:   1 R:   1 T:  60  psnr: 2.23e+01 at lambda: 1.96e-02, rho: 1.02e-01\r"
     ]
    },
    {
     "name": "stdout",
     "output_type": "stream",
     "text": [
      "P:   1 R:   1 T:  60  psnr: 2.23e+01 at lambda: 1.96e-02, rho: 1.02e-01\r",
      "P:   1 R:   1 T:  60  psnr: 2.23e+01 at lambda: 1.96e-02, rho: 1.02e-01\r"
     ]
    },
    {
     "name": "stdout",
     "output_type": "stream",
     "text": [
      "P:   1 R:   1 T:  60  psnr: 2.23e+01 at lambda: 1.96e-02, rho: 1.02e-01\r",
      "P:   1 R:   1 T:  60  psnr: 2.23e+01 at lambda: 1.96e-02, rho: 1.02e-01\r"
     ]
    },
    {
     "name": "stdout",
     "output_type": "stream",
     "text": [
      "P:   1 R:   1 T:  60  psnr: 2.23e+01 at lambda: 1.96e-02, rho: 1.02e-01\r",
      "P:   1 R:   1 T:  60  psnr: 2.23e+01 at lambda: 1.96e-02, rho: 1.02e-01\r"
     ]
    },
    {
     "name": "stdout",
     "output_type": "stream",
     "text": [
      "P:   1 R:   1 T:  60  psnr: 2.23e+01 at lambda: 1.96e-02, rho: 1.02e-01\r",
      "P:   1 R:   1 T:  60  psnr: 2.23e+01 at lambda: 1.96e-02, rho: 1.02e-01\r",
      "P:   1 R:   1 T:  60  psnr: 2.23e+01 at lambda: 1.96e-02, rho: 1.02e-01\r"
     ]
    },
    {
     "name": "stdout",
     "output_type": "stream",
     "text": [
      "P:   1 R:   1 T:  60  psnr: 2.23e+01 at lambda: 1.96e-02, rho: 1.02e-01\r",
      "P:   1 R:   0 T:  61  psnr: 2.23e+01 at lambda: 1.96e-02, rho: 1.02e-01\r",
      "P:   0 R:   1 T:  61  psnr: 2.23e+01 at lambda: 1.96e-02, rho: 1.02e-01\r"
     ]
    },
    {
     "name": "stdout",
     "output_type": "stream",
     "text": [
      "P:   1 R:   1 T:  61  psnr: 2.23e+01 at lambda: 1.96e-02, rho: 1.02e-01\r",
      "P:   1 R:   1 T:  61  psnr: 2.23e+01 at lambda: 1.96e-02, rho: 1.02e-01\r"
     ]
    },
    {
     "name": "stdout",
     "output_type": "stream",
     "text": [
      "P:   1 R:   1 T:  61  psnr: 2.23e+01 at lambda: 1.96e-02, rho: 1.02e-01\r",
      "P:   1 R:   1 T:  61  psnr: 2.23e+01 at lambda: 1.96e-02, rho: 1.02e-01\r"
     ]
    },
    {
     "name": "stdout",
     "output_type": "stream",
     "text": [
      "P:   1 R:   1 T:  61  psnr: 2.23e+01 at lambda: 1.96e-02, rho: 1.02e-01\r",
      "P:   1 R:   1 T:  61  psnr: 2.23e+01 at lambda: 1.96e-02, rho: 1.02e-01\r"
     ]
    },
    {
     "name": "stdout",
     "output_type": "stream",
     "text": [
      "P:   1 R:   1 T:  61  psnr: 2.23e+01 at lambda: 1.96e-02, rho: 1.02e-01\r",
      "P:   1 R:   1 T:  61  psnr: 2.23e+01 at lambda: 1.96e-02, rho: 1.02e-01\r",
      "P:   1 R:   1 T:  61  psnr: 2.23e+01 at lambda: 1.96e-02, rho: 1.02e-01\r"
     ]
    },
    {
     "name": "stdout",
     "output_type": "stream",
     "text": [
      "P:   1 R:   0 T:  62  psnr: 2.23e+01 at lambda: 1.96e-02, rho: 1.02e-01\r",
      "P:   0 R:   1 T:  62  psnr: 2.23e+01 at lambda: 1.96e-02, rho: 1.02e-01\r",
      "P:   1 R:   1 T:  62  psnr: 2.23e+01 at lambda: 1.96e-02, rho: 1.02e-01\r"
     ]
    },
    {
     "name": "stdout",
     "output_type": "stream",
     "text": [
      "P:   1 R:   1 T:  62  psnr: 2.23e+01 at lambda: 1.96e-02, rho: 1.02e-01\r",
      "P:   1 R:   1 T:  62  psnr: 2.23e+01 at lambda: 1.96e-02, rho: 1.02e-01\r"
     ]
    },
    {
     "name": "stdout",
     "output_type": "stream",
     "text": [
      "P:   1 R:   1 T:  62  psnr: 2.23e+01 at lambda: 1.96e-02, rho: 1.02e-01\r",
      "P:   1 R:   1 T:  62  psnr: 2.23e+01 at lambda: 1.96e-02, rho: 1.02e-01\r"
     ]
    },
    {
     "name": "stdout",
     "output_type": "stream",
     "text": [
      "P:   1 R:   1 T:  62  psnr: 2.23e+01 at lambda: 1.96e-02, rho: 1.02e-01\r",
      "P:   1 R:   1 T:  62  psnr: 2.23e+01 at lambda: 1.96e-02, rho: 1.02e-01\r"
     ]
    },
    {
     "name": "stdout",
     "output_type": "stream",
     "text": [
      "P:   1 R:   1 T:  62  psnr: 2.23e+01 at lambda: 1.96e-02, rho: 1.02e-01\r",
      "P:   1 R:   1 T:  62  psnr: 2.23e+01 at lambda: 1.96e-02, rho: 1.02e-01\r",
      "P:   1 R:   1 T:  62  psnr: 2.23e+01 at lambda: 1.96e-02, rho: 1.02e-01\r",
      "P:   1 R:   1 T:  62  psnr: 2.23e+01 at lambda: 1.96e-02, rho: 1.02e-01\r"
     ]
    },
    {
     "name": "stdout",
     "output_type": "stream",
     "text": [
      "P:   1 R:   1 T:  62  psnr: 2.23e+01 at lambda: 1.96e-02, rho: 1.02e-01\r",
      "P:   1 R:   1 T:  62  psnr: 2.23e+01 at lambda: 1.96e-02, rho: 1.02e-01\r"
     ]
    },
    {
     "name": "stdout",
     "output_type": "stream",
     "text": [
      "P:   1 R:   1 T:  62  psnr: 2.23e+01 at lambda: 1.96e-02, rho: 1.02e-01\r",
      "P:   1 R:   1 T:  62  psnr: 2.23e+01 at lambda: 1.96e-02, rho: 1.02e-01\r"
     ]
    },
    {
     "name": "stdout",
     "output_type": "stream",
     "text": [
      "P:   1 R:   1 T:  62  psnr: 2.23e+01 at lambda: 1.96e-02, rho: 1.02e-01\r",
      "P:   1 R:   1 T:  62  psnr: 2.23e+01 at lambda: 1.96e-02, rho: 1.02e-01\r"
     ]
    },
    {
     "name": "stdout",
     "output_type": "stream",
     "text": [
      "P:   1 R:   1 T:  62  psnr: 2.23e+01 at lambda: 1.96e-02, rho: 1.02e-01\r",
      "P:   1 R:   1 T:  62  psnr: 2.23e+01 at lambda: 1.96e-02, rho: 1.02e-01\r",
      "P:   1 R:   1 T:  62  psnr: 2.23e+01 at lambda: 1.96e-02, rho: 1.02e-01\r"
     ]
    },
    {
     "name": "stdout",
     "output_type": "stream",
     "text": [
      "P:   1 R:   1 T:  62  psnr: 2.23e+01 at lambda: 1.96e-02, rho: 1.02e-01\r",
      "P:   1 R:   1 T:  62  psnr: 2.23e+01 at lambda: 1.96e-02, rho: 1.02e-01\r"
     ]
    },
    {
     "name": "stdout",
     "output_type": "stream",
     "text": [
      "P:   1 R:   1 T:  62  psnr: 2.23e+01 at lambda: 1.96e-02, rho: 1.02e-01\r",
      "P:   1 R:   0 T:  63  psnr: 2.23e+01 at lambda: 1.96e-02, rho: 1.02e-01\r",
      "P:   0 R:   1 T:  63  psnr: 2.23e+01 at lambda: 1.96e-02, rho: 1.02e-01\r",
      "P:   1 R:   1 T:  63  psnr: 2.23e+01 at lambda: 1.96e-02, rho: 1.02e-01\r"
     ]
    },
    {
     "name": "stdout",
     "output_type": "stream",
     "text": [
      "P:   1 R:   1 T:  63  psnr: 2.23e+01 at lambda: 1.96e-02, rho: 1.02e-01\r",
      "P:   1 R:   1 T:  63  psnr: 2.23e+01 at lambda: 1.96e-02, rho: 1.02e-01\r"
     ]
    },
    {
     "name": "stdout",
     "output_type": "stream",
     "text": [
      "P:   1 R:   1 T:  63  psnr: 2.23e+01 at lambda: 1.96e-02, rho: 1.02e-01\r",
      "P:   1 R:   1 T:  63  psnr: 2.23e+01 at lambda: 1.96e-02, rho: 1.02e-01\r"
     ]
    },
    {
     "name": "stdout",
     "output_type": "stream",
     "text": [
      "P:   1 R:   1 T:  63  psnr: 2.23e+01 at lambda: 1.96e-02, rho: 1.02e-01\r",
      "P:   1 R:   1 T:  63  psnr: 2.23e+01 at lambda: 1.96e-02, rho: 1.02e-01\r"
     ]
    },
    {
     "name": "stdout",
     "output_type": "stream",
     "text": [
      "P:   1 R:   1 T:  63  psnr: 2.23e+01 at lambda: 1.96e-02, rho: 1.02e-01\r",
      "P:   1 R:   0 T:  64  psnr: 2.23e+01 at lambda: 1.96e-02, rho: 1.02e-01\r",
      "P:   0 R:   1 T:  64  psnr: 2.23e+01 at lambda: 1.96e-02, rho: 1.02e-01\r"
     ]
    },
    {
     "name": "stdout",
     "output_type": "stream",
     "text": [
      "P:   1 R:   1 T:  64  psnr: 2.23e+01 at lambda: 1.96e-02, rho: 1.02e-01\r",
      "P:   1 R:   1 T:  64  psnr: 2.23e+01 at lambda: 1.96e-02, rho: 1.02e-01\r"
     ]
    },
    {
     "name": "stdout",
     "output_type": "stream",
     "text": [
      "P:   1 R:   1 T:  64  psnr: 2.23e+01 at lambda: 1.96e-02, rho: 1.02e-01\r",
      "P:   1 R:   1 T:  64  psnr: 2.23e+01 at lambda: 1.96e-02, rho: 1.02e-01\r"
     ]
    },
    {
     "name": "stdout",
     "output_type": "stream",
     "text": [
      "P:   1 R:   1 T:  64  psnr: 2.23e+01 at lambda: 1.96e-02, rho: 1.02e-01\r",
      "P:   1 R:   1 T:  64  psnr: 2.23e+01 at lambda: 1.96e-02, rho: 1.02e-01\r"
     ]
    },
    {
     "name": "stdout",
     "output_type": "stream",
     "text": [
      "P:   1 R:   1 T:  64  psnr: 2.23e+01 at lambda: 1.96e-02, rho: 1.02e-01\r",
      "P:   1 R:   1 T:  64  psnr: 2.23e+01 at lambda: 1.96e-02, rho: 1.02e-01\r"
     ]
    },
    {
     "name": "stdout",
     "output_type": "stream",
     "text": [
      "P:   1 R:   0 T:  65  psnr: 2.23e+01 at lambda: 1.96e-02, rho: 1.02e-01\r",
      "P:   0 R:   1 T:  65  psnr: 2.23e+01 at lambda: 1.96e-02, rho: 1.02e-01\r",
      "P:   1 R:   1 T:  65  psnr: 2.23e+01 at lambda: 1.96e-02, rho: 1.02e-01\r"
     ]
    },
    {
     "name": "stdout",
     "output_type": "stream",
     "text": [
      "P:   1 R:   1 T:  65  psnr: 2.23e+01 at lambda: 1.96e-02, rho: 1.02e-01\r",
      "P:   1 R:   1 T:  65  psnr: 2.23e+01 at lambda: 1.96e-02, rho: 1.02e-01\r"
     ]
    },
    {
     "name": "stdout",
     "output_type": "stream",
     "text": [
      "P:   1 R:   1 T:  65  psnr: 2.23e+01 at lambda: 1.96e-02, rho: 1.02e-01\r",
      "P:   1 R:   1 T:  65  psnr: 2.23e+01 at lambda: 1.96e-02, rho: 1.02e-01\r"
     ]
    },
    {
     "name": "stdout",
     "output_type": "stream",
     "text": [
      "P:   1 R:   1 T:  65  psnr: 2.23e+01 at lambda: 1.96e-02, rho: 1.02e-01\r",
      "P:   1 R:   1 T:  65  psnr: 2.23e+01 at lambda: 1.96e-02, rho: 1.02e-01\r"
     ]
    },
    {
     "name": "stdout",
     "output_type": "stream",
     "text": [
      "P:   1 R:   1 T:  65  psnr: 2.23e+01 at lambda: 1.96e-02, rho: 1.02e-01\r",
      "P:   1 R:   1 T:  65  psnr: 2.23e+01 at lambda: 1.96e-02, rho: 1.02e-01\r",
      "P:   1 R:   1 T:  65  psnr: 2.23e+01 at lambda: 1.96e-02, rho: 1.02e-01\r"
     ]
    },
    {
     "name": "stdout",
     "output_type": "stream",
     "text": [
      "P:   1 R:   1 T:  65  psnr: 2.23e+01 at lambda: 1.96e-02, rho: 1.02e-01\r",
      "P:   1 R:   1 T:  65  psnr: 2.23e+01 at lambda: 1.96e-02, rho: 1.02e-01\r",
      "P:   1 R:   1 T:  65  psnr: 2.23e+01 at lambda: 1.96e-02, rho: 1.02e-01\r"
     ]
    },
    {
     "name": "stdout",
     "output_type": "stream",
     "text": [
      "P:   1 R:   1 T:  65  psnr: 2.23e+01 at lambda: 1.96e-02, rho: 1.02e-01\r",
      "P:   1 R:   1 T:  65  psnr: 2.23e+01 at lambda: 1.96e-02, rho: 1.02e-01\r"
     ]
    },
    {
     "name": "stdout",
     "output_type": "stream",
     "text": [
      "P:   1 R:   1 T:  65  psnr: 2.23e+01 at lambda: 1.96e-02, rho: 1.02e-01\r",
      "P:   1 R:   1 T:  65  psnr: 2.23e+01 at lambda: 1.96e-02, rho: 1.02e-01\r",
      "P:   1 R:   1 T:  65  psnr: 2.23e+01 at lambda: 1.96e-02, rho: 1.02e-01\r"
     ]
    },
    {
     "name": "stdout",
     "output_type": "stream",
     "text": [
      "P:   1 R:   1 T:  65  psnr: 2.23e+01 at lambda: 1.96e-02, rho: 1.02e-01\r",
      "P:   1 R:   1 T:  65  psnr: 2.23e+01 at lambda: 1.96e-02, rho: 1.02e-01\r",
      "P:   1 R:   1 T:  65  psnr: 2.23e+01 at lambda: 1.96e-02, rho: 1.02e-01\r"
     ]
    },
    {
     "name": "stdout",
     "output_type": "stream",
     "text": [
      "P:   1 R:   1 T:  65  psnr: 2.23e+01 at lambda: 1.96e-02, rho: 1.02e-01\r",
      "P:   1 R:   1 T:  65  psnr: 2.23e+01 at lambda: 1.96e-02, rho: 1.02e-01\r"
     ]
    },
    {
     "name": "stdout",
     "output_type": "stream",
     "text": [
      "P:   1 R:   1 T:  65  psnr: 2.23e+01 at lambda: 1.96e-02, rho: 1.02e-01\r",
      "P:   1 R:   1 T:  65  psnr: 2.23e+01 at lambda: 1.96e-02, rho: 1.02e-01\r",
      "P:   1 R:   0 T:  66  psnr: 2.23e+01 at lambda: 1.96e-02, rho: 1.02e-01\r",
      "P:   0 R:   1 T:  66  psnr: 2.23e+01 at lambda: 1.96e-02, rho: 1.02e-01\r",
      "P:   1 R:   1 T:  66  psnr: 2.23e+01 at lambda: 1.96e-02, rho: 1.02e-01\r"
     ]
    },
    {
     "name": "stdout",
     "output_type": "stream",
     "text": [
      "P:   1 R:   1 T:  66  psnr: 2.23e+01 at lambda: 1.96e-02, rho: 1.02e-01\r",
      "P:   1 R:   1 T:  66  psnr: 2.23e+01 at lambda: 1.96e-02, rho: 1.02e-01\r"
     ]
    },
    {
     "name": "stdout",
     "output_type": "stream",
     "text": [
      "P:   1 R:   1 T:  66  psnr: 2.23e+01 at lambda: 1.96e-02, rho: 1.02e-01\r",
      "P:   1 R:   1 T:  66  psnr: 2.23e+01 at lambda: 1.96e-02, rho: 1.02e-01\r"
     ]
    },
    {
     "name": "stdout",
     "output_type": "stream",
     "text": [
      "P:   1 R:   1 T:  66  psnr: 2.23e+01 at lambda: 1.96e-02, rho: 1.02e-01\r",
      "P:   1 R:   1 T:  66  psnr: 2.23e+01 at lambda: 1.96e-02, rho: 1.02e-01\r"
     ]
    },
    {
     "name": "stdout",
     "output_type": "stream",
     "text": [
      "P:   1 R:   1 T:  66  psnr: 2.23e+01 at lambda: 1.96e-02, rho: 1.02e-01\r",
      "P:   1 R:   1 T:  66  psnr: 2.23e+01 at lambda: 1.96e-02, rho: 1.02e-01\r",
      "P:   1 R:   1 T:  66  psnr: 2.23e+01 at lambda: 1.96e-02, rho: 1.02e-01\r"
     ]
    },
    {
     "name": "stdout",
     "output_type": "stream",
     "text": [
      "P:   1 R:   1 T:  66  psnr: 2.23e+01 at lambda: 1.96e-02, rho: 1.02e-01\r",
      "P:   1 R:   1 T:  66  psnr: 2.23e+01 at lambda: 1.96e-02, rho: 1.02e-01\r"
     ]
    },
    {
     "name": "stdout",
     "output_type": "stream",
     "text": [
      "P:   1 R:   1 T:  66  psnr: 2.23e+01 at lambda: 1.96e-02, rho: 1.02e-01\r",
      "P:   1 R:   1 T:  66  psnr: 2.23e+01 at lambda: 1.96e-02, rho: 1.02e-01\r",
      "P:   1 R:   1 T:  66  psnr: 2.23e+01 at lambda: 1.96e-02, rho: 1.02e-01\r"
     ]
    },
    {
     "name": "stdout",
     "output_type": "stream",
     "text": [
      "P:   1 R:   1 T:  66  psnr: 2.23e+01 at lambda: 1.96e-02, rho: 1.02e-01\r",
      "P:   1 R:   1 T:  66  psnr: 2.23e+01 at lambda: 1.96e-02, rho: 1.02e-01\r"
     ]
    },
    {
     "name": "stdout",
     "output_type": "stream",
     "text": [
      "P:   1 R:   1 T:  66  psnr: 2.23e+01 at lambda: 1.96e-02, rho: 1.02e-01\r",
      "P:   1 R:   1 T:  66  psnr: 2.23e+01 at lambda: 1.96e-02, rho: 1.02e-01\r",
      "P:   1 R:   1 T:  66  psnr: 2.23e+01 at lambda: 1.96e-02, rho: 1.02e-01\r"
     ]
    },
    {
     "name": "stdout",
     "output_type": "stream",
     "text": [
      "P:   1 R:   1 T:  66  psnr: 2.23e+01 at lambda: 1.96e-02, rho: 1.02e-01\r",
      "P:   1 R:   1 T:  66  psnr: 2.23e+01 at lambda: 1.96e-02, rho: 1.02e-01\r"
     ]
    },
    {
     "name": "stdout",
     "output_type": "stream",
     "text": [
      "P:   1 R:   1 T:  66  psnr: 2.23e+01 at lambda: 1.96e-02, rho: 1.02e-01\r",
      "P:   1 R:   1 T:  66  psnr: 2.23e+01 at lambda: 1.96e-02, rho: 1.02e-01\r"
     ]
    },
    {
     "name": "stdout",
     "output_type": "stream",
     "text": [
      "P:   1 R:   1 T:  66  psnr: 2.23e+01 at lambda: 1.96e-02, rho: 1.02e-01\r",
      "P:   1 R:   1 T:  66  psnr: 2.23e+01 at lambda: 1.96e-02, rho: 1.02e-01\r",
      "P:   1 R:   0 T:  67  psnr: 2.23e+01 at lambda: 1.96e-02, rho: 1.02e-01\r",
      "P:   0 R:   1 T:  67  psnr: 2.23e+01 at lambda: 1.96e-02, rho: 1.02e-01\r"
     ]
    },
    {
     "name": "stdout",
     "output_type": "stream",
     "text": [
      "P:   1 R:   1 T:  67  psnr: 2.23e+01 at lambda: 1.96e-02, rho: 1.02e-01\r",
      "P:   1 R:   1 T:  67  psnr: 2.23e+01 at lambda: 1.96e-02, rho: 1.02e-01\r",
      "P:   1 R:   1 T:  67  psnr: 2.23e+01 at lambda: 1.96e-02, rho: 1.02e-01\r"
     ]
    },
    {
     "name": "stdout",
     "output_type": "stream",
     "text": [
      "P:   1 R:   1 T:  67  psnr: 2.23e+01 at lambda: 1.96e-02, rho: 1.02e-01\r",
      "P:   1 R:   1 T:  67  psnr: 2.23e+01 at lambda: 1.96e-02, rho: 1.02e-01\r"
     ]
    },
    {
     "name": "stdout",
     "output_type": "stream",
     "text": [
      "P:   1 R:   1 T:  67  psnr: 2.23e+01 at lambda: 1.96e-02, rho: 1.02e-01\r",
      "P:   1 R:   1 T:  67  psnr: 2.23e+01 at lambda: 1.96e-02, rho: 1.02e-01\r"
     ]
    },
    {
     "name": "stdout",
     "output_type": "stream",
     "text": [
      "P:   1 R:   1 T:  67  psnr: 2.23e+01 at lambda: 1.96e-02, rho: 1.02e-01\r",
      "P:   1 R:   1 T:  67  psnr: 2.23e+01 at lambda: 1.96e-02, rho: 1.02e-01\r"
     ]
    },
    {
     "name": "stdout",
     "output_type": "stream",
     "text": [
      "P:   1 R:   1 T:  67  psnr: 2.23e+01 at lambda: 1.96e-02, rho: 1.02e-01\r",
      "P:   1 R:   1 T:  67  psnr: 2.23e+01 at lambda: 1.96e-02, rho: 1.02e-01\r",
      "P:   1 R:   1 T:  67  psnr: 2.23e+01 at lambda: 1.96e-02, rho: 1.02e-01\r"
     ]
    },
    {
     "name": "stdout",
     "output_type": "stream",
     "text": [
      "P:   1 R:   1 T:  67  psnr: 2.23e+01 at lambda: 1.96e-02, rho: 1.02e-01\r",
      "P:   1 R:   1 T:  67  psnr: 2.23e+01 at lambda: 1.96e-02, rho: 1.02e-01\r"
     ]
    },
    {
     "name": "stdout",
     "output_type": "stream",
     "text": [
      "P:   1 R:   1 T:  67  psnr: 2.23e+01 at lambda: 1.96e-02, rho: 1.02e-01\r",
      "P:   1 R:   1 T:  67  psnr: 2.23e+01 at lambda: 1.96e-02, rho: 1.02e-01\r",
      "P:   1 R:   1 T:  67  psnr: 2.23e+01 at lambda: 1.96e-02, rho: 1.02e-01\r"
     ]
    },
    {
     "name": "stdout",
     "output_type": "stream",
     "text": [
      "P:   1 R:   1 T:  67  psnr: 2.23e+01 at lambda: 1.96e-02, rho: 1.02e-01\r",
      "P:   1 R:   1 T:  67  psnr: 2.23e+01 at lambda: 1.96e-02, rho: 1.02e-01\r"
     ]
    },
    {
     "name": "stdout",
     "output_type": "stream",
     "text": [
      "P:   1 R:   1 T:  67  psnr: 2.23e+01 at lambda: 1.96e-02, rho: 1.02e-01\r",
      "P:   1 R:   1 T:  67  psnr: 2.23e+01 at lambda: 1.96e-02, rho: 1.02e-01\r",
      "P:   1 R:   1 T:  67  psnr: 2.23e+01 at lambda: 1.96e-02, rho: 1.02e-01\r"
     ]
    },
    {
     "name": "stdout",
     "output_type": "stream",
     "text": [
      "P:   1 R:   1 T:  67  psnr: 2.23e+01 at lambda: 1.96e-02, rho: 1.02e-01\r",
      "P:   1 R:   1 T:  67  psnr: 2.23e+01 at lambda: 1.96e-02, rho: 1.02e-01\r",
      "P:   1 R:   0 T:  68  psnr: 2.23e+01 at lambda: 1.96e-02, rho: 1.02e-01\r",
      "P:   0 R:   1 T:  68  psnr: 2.23e+01 at lambda: 1.96e-02, rho: 1.02e-01\r"
     ]
    },
    {
     "name": "stdout",
     "output_type": "stream",
     "text": [
      "P:   1 R:   1 T:  68  psnr: 2.23e+01 at lambda: 1.96e-02, rho: 1.02e-01\r",
      "P:   1 R:   1 T:  68  psnr: 2.23e+01 at lambda: 1.96e-02, rho: 1.02e-01\r"
     ]
    },
    {
     "name": "stdout",
     "output_type": "stream",
     "text": [
      "P:   1 R:   1 T:  68  psnr: 2.23e+01 at lambda: 1.96e-02, rho: 1.02e-01\r",
      "P:   1 R:   1 T:  68  psnr: 2.23e+01 at lambda: 1.96e-02, rho: 1.02e-01\r"
     ]
    },
    {
     "name": "stdout",
     "output_type": "stream",
     "text": [
      "P:   1 R:   1 T:  68  psnr: 2.23e+01 at lambda: 1.96e-02, rho: 1.02e-01\r",
      "P:   1 R:   1 T:  68  psnr: 2.23e+01 at lambda: 1.96e-02, rho: 1.02e-01\r"
     ]
    },
    {
     "name": "stdout",
     "output_type": "stream",
     "text": [
      "P:   1 R:   1 T:  68  psnr: 2.23e+01 at lambda: 1.96e-02, rho: 1.02e-01\r",
      "P:   1 R:   1 T:  68  psnr: 2.23e+01 at lambda: 1.96e-02, rho: 1.02e-01\r",
      "P:   1 R:   0 T:  69  psnr: 2.23e+01 at lambda: 1.96e-02, rho: 1.02e-01\r"
     ]
    },
    {
     "name": "stdout",
     "output_type": "stream",
     "text": [
      "P:   0 R:   1 T:  69  psnr: 2.23e+01 at lambda: 1.96e-02, rho: 1.02e-01\r",
      "P:   1 R:   1 T:  69  psnr: 2.23e+01 at lambda: 1.96e-02, rho: 1.02e-01\r",
      "P:   1 R:   1 T:  69  psnr: 2.23e+01 at lambda: 1.96e-02, rho: 1.02e-01\r"
     ]
    },
    {
     "name": "stdout",
     "output_type": "stream",
     "text": [
      "P:   1 R:   1 T:  69  psnr: 2.23e+01 at lambda: 1.96e-02, rho: 1.02e-01\r",
      "P:   1 R:   1 T:  69  psnr: 2.23e+01 at lambda: 1.96e-02, rho: 1.02e-01\r"
     ]
    },
    {
     "name": "stdout",
     "output_type": "stream",
     "text": [
      "P:   1 R:   1 T:  69  psnr: 2.23e+01 at lambda: 1.96e-02, rho: 1.02e-01\r",
      "P:   1 R:   1 T:  69  psnr: 2.23e+01 at lambda: 1.96e-02, rho: 1.02e-01\r"
     ]
    },
    {
     "name": "stdout",
     "output_type": "stream",
     "text": [
      "P:   1 R:   1 T:  69  psnr: 2.23e+01 at lambda: 1.96e-02, rho: 1.02e-01\r",
      "P:   1 R:   1 T:  69  psnr: 2.23e+01 at lambda: 1.96e-02, rho: 1.02e-01\r"
     ]
    },
    {
     "name": "stdout",
     "output_type": "stream",
     "text": [
      "P:   1 R:   1 T:  69  psnr: 2.23e+01 at lambda: 1.96e-02, rho: 1.02e-01\r",
      "P:   1 R:   0 T:  70  psnr: 2.23e+01 at lambda: 1.96e-02, rho: 1.02e-01\r",
      "P:   0 R:   1 T:  70  psnr: 2.23e+01 at lambda: 1.96e-02, rho: 1.02e-01\r",
      "P:   1 R:   1 T:  70  psnr: 2.23e+01 at lambda: 1.96e-02, rho: 1.02e-01\r"
     ]
    },
    {
     "name": "stdout",
     "output_type": "stream",
     "text": [
      "P:   1 R:   1 T:  70  psnr: 2.23e+01 at lambda: 1.96e-02, rho: 1.02e-01\r",
      "P:   1 R:   1 T:  70  psnr: 2.23e+01 at lambda: 1.96e-02, rho: 1.02e-01\r"
     ]
    },
    {
     "name": "stdout",
     "output_type": "stream",
     "text": [
      "P:   1 R:   1 T:  70  psnr: 2.23e+01 at lambda: 1.96e-02, rho: 1.02e-01\r",
      "P:   1 R:   1 T:  70  psnr: 2.23e+01 at lambda: 1.96e-02, rho: 1.02e-01\r"
     ]
    },
    {
     "name": "stdout",
     "output_type": "stream",
     "text": [
      "P:   1 R:   1 T:  70  psnr: 2.23e+01 at lambda: 1.96e-02, rho: 1.02e-01\r",
      "P:   1 R:   1 T:  70  psnr: 2.23e+01 at lambda: 1.96e-02, rho: 1.02e-01\r",
      "P:   1 R:   1 T:  70  psnr: 2.23e+01 at lambda: 1.96e-02, rho: 1.02e-01\r"
     ]
    },
    {
     "name": "stdout",
     "output_type": "stream",
     "text": [
      "P:   1 R:   1 T:  70  psnr: 2.23e+01 at lambda: 1.96e-02, rho: 1.02e-01\r",
      "P:   1 R:   1 T:  70  psnr: 2.23e+01 at lambda: 1.96e-02, rho: 1.02e-01\r"
     ]
    },
    {
     "name": "stdout",
     "output_type": "stream",
     "text": [
      "P:   1 R:   1 T:  70  psnr: 2.23e+01 at lambda: 1.96e-02, rho: 1.02e-01\r",
      "P:   1 R:   1 T:  70  psnr: 2.23e+01 at lambda: 1.96e-02, rho: 1.02e-01\r"
     ]
    },
    {
     "name": "stdout",
     "output_type": "stream",
     "text": [
      "P:   1 R:   1 T:  70  psnr: 2.23e+01 at lambda: 1.96e-02, rho: 1.02e-01\r",
      "P:   1 R:   1 T:  70  psnr: 2.23e+01 at lambda: 1.96e-02, rho: 1.02e-01\r"
     ]
    },
    {
     "name": "stdout",
     "output_type": "stream",
     "text": [
      "P:   1 R:   1 T:  70  psnr: 2.23e+01 at lambda: 1.96e-02, rho: 1.02e-01\r",
      "P:   1 R:   1 T:  70  psnr: 2.23e+01 at lambda: 1.96e-02, rho: 1.02e-01\r",
      "P:   1 R:   1 T:  70  psnr: 2.23e+01 at lambda: 1.96e-02, rho: 1.02e-01\r",
      "P:   1 R:   1 T:  70  psnr: 2.23e+01 at lambda: 1.96e-02, rho: 1.02e-01\r"
     ]
    },
    {
     "name": "stdout",
     "output_type": "stream",
     "text": [
      "P:   1 R:   1 T:  70  psnr: 2.23e+01 at lambda: 1.96e-02, rho: 1.02e-01\r",
      "P:   1 R:   1 T:  70  psnr: 2.23e+01 at lambda: 1.96e-02, rho: 1.02e-01\r",
      "P:   1 R:   1 T:  70  psnr: 2.23e+01 at lambda: 1.96e-02, rho: 1.02e-01\r"
     ]
    },
    {
     "name": "stdout",
     "output_type": "stream",
     "text": [
      "P:   1 R:   1 T:  70  psnr: 2.23e+01 at lambda: 1.96e-02, rho: 1.02e-01\r",
      "P:   1 R:   1 T:  70  psnr: 2.23e+01 at lambda: 1.96e-02, rho: 1.02e-01\r",
      "P:   1 R:   1 T:  70  psnr: 2.23e+01 at lambda: 1.96e-02, rho: 1.02e-01\r"
     ]
    },
    {
     "name": "stdout",
     "output_type": "stream",
     "text": [
      "P:   1 R:   0 T:  71  psnr: 2.23e+01 at lambda: 1.96e-02, rho: 1.02e-01\r",
      "P:   0 R:   1 T:  71  psnr: 2.23e+01 at lambda: 1.96e-02, rho: 1.02e-01\r",
      "P:   1 R:   1 T:  71  psnr: 2.23e+01 at lambda: 1.96e-02, rho: 1.02e-01\r"
     ]
    },
    {
     "name": "stdout",
     "output_type": "stream",
     "text": [
      "P:   1 R:   1 T:  71  psnr: 2.23e+01 at lambda: 1.96e-02, rho: 1.02e-01\r",
      "P:   1 R:   1 T:  71  psnr: 2.23e+01 at lambda: 1.96e-02, rho: 1.02e-01\r"
     ]
    },
    {
     "name": "stdout",
     "output_type": "stream",
     "text": [
      "P:   1 R:   1 T:  71  psnr: 2.23e+01 at lambda: 1.96e-02, rho: 1.02e-01\r",
      "P:   1 R:   1 T:  71  psnr: 2.23e+01 at lambda: 1.96e-02, rho: 1.02e-01\r"
     ]
    },
    {
     "name": "stdout",
     "output_type": "stream",
     "text": [
      "P:   1 R:   1 T:  71  psnr: 2.23e+01 at lambda: 1.96e-02, rho: 1.02e-01\r",
      "P:   1 R:   1 T:  71  psnr: 2.23e+01 at lambda: 1.96e-02, rho: 1.02e-01\r",
      "P:   1 R:   0 T:  72  psnr: 2.23e+01 at lambda: 1.96e-02, rho: 1.02e-01\r",
      "P:   0 R:   1 T:  72  psnr: 2.23e+01 at lambda: 1.96e-02, rho: 1.02e-01\r"
     ]
    },
    {
     "name": "stdout",
     "output_type": "stream",
     "text": [
      "P:   1 R:   1 T:  72  psnr: 2.23e+01 at lambda: 1.96e-02, rho: 1.02e-01\r",
      "P:   1 R:   1 T:  72  psnr: 2.23e+01 at lambda: 1.96e-02, rho: 1.02e-01\r"
     ]
    },
    {
     "name": "stdout",
     "output_type": "stream",
     "text": [
      "P:   1 R:   1 T:  72  psnr: 2.23e+01 at lambda: 1.96e-02, rho: 1.02e-01\r",
      "P:   1 R:   1 T:  72  psnr: 2.23e+01 at lambda: 1.96e-02, rho: 1.02e-01\r"
     ]
    },
    {
     "name": "stdout",
     "output_type": "stream",
     "text": [
      "P:   1 R:   1 T:  72  psnr: 2.23e+01 at lambda: 1.96e-02, rho: 1.02e-01\r",
      "P:   1 R:   1 T:  72  psnr: 2.23e+01 at lambda: 1.96e-02, rho: 1.02e-01\r"
     ]
    },
    {
     "name": "stdout",
     "output_type": "stream",
     "text": [
      "P:   1 R:   1 T:  72  psnr: 2.23e+01 at lambda: 1.96e-02, rho: 1.02e-01\r",
      "P:   1 R:   1 T:  72  psnr: 2.23e+01 at lambda: 1.96e-02, rho: 1.02e-01\r",
      "P:   1 R:   0 T:  73  psnr: 2.23e+01 at lambda: 1.96e-02, rho: 1.02e-01\r",
      "P:   0 R:   1 T:  73  psnr: 2.23e+01 at lambda: 1.96e-02, rho: 1.02e-01\r"
     ]
    },
    {
     "name": "stdout",
     "output_type": "stream",
     "text": [
      "P:   1 R:   1 T:  73  psnr: 2.23e+01 at lambda: 1.96e-02, rho: 1.02e-01\r",
      "P:   1 R:   1 T:  73  psnr: 2.23e+01 at lambda: 1.96e-02, rho: 1.02e-01\r",
      "P:   1 R:   1 T:  73  psnr: 2.23e+01 at lambda: 1.96e-02, rho: 1.02e-01\r"
     ]
    },
    {
     "name": "stdout",
     "output_type": "stream",
     "text": [
      "P:   1 R:   1 T:  73  psnr: 2.23e+01 at lambda: 1.96e-02, rho: 1.02e-01\r",
      "P:   1 R:   1 T:  73  psnr: 2.23e+01 at lambda: 1.96e-02, rho: 1.02e-01\r"
     ]
    },
    {
     "name": "stdout",
     "output_type": "stream",
     "text": [
      "P:   1 R:   1 T:  73  psnr: 2.23e+01 at lambda: 1.96e-02, rho: 1.02e-01\r",
      "P:   1 R:   1 T:  73  psnr: 2.23e+01 at lambda: 1.96e-02, rho: 1.02e-01\r"
     ]
    },
    {
     "name": "stdout",
     "output_type": "stream",
     "text": [
      "P:   1 R:   1 T:  73  psnr: 2.23e+01 at lambda: 1.96e-02, rho: 1.02e-01\r",
      "P:   1 R:   1 T:  73  psnr: 2.23e+01 at lambda: 1.96e-02, rho: 1.02e-01\r",
      "P:   1 R:   1 T:  73  psnr: 2.23e+01 at lambda: 1.96e-02, rho: 1.02e-01\r",
      "P:   1 R:   0 T:  74  psnr: 2.23e+01 at lambda: 1.96e-02, rho: 1.02e-01\r",
      "P:   0 R:   1 T:  74  psnr: 2.23e+01 at lambda: 1.96e-02, rho: 1.02e-01\r"
     ]
    },
    {
     "name": "stdout",
     "output_type": "stream",
     "text": [
      "P:   1 R:   1 T:  74  psnr: 2.23e+01 at lambda: 1.96e-02, rho: 1.02e-01\r",
      "P:   1 R:   1 T:  74  psnr: 2.23e+01 at lambda: 1.96e-02, rho: 1.02e-01\r"
     ]
    },
    {
     "name": "stdout",
     "output_type": "stream",
     "text": [
      "P:   1 R:   1 T:  74  psnr: 2.23e+01 at lambda: 1.96e-02, rho: 1.02e-01\r",
      "P:   1 R:   1 T:  74  psnr: 2.23e+01 at lambda: 1.96e-02, rho: 1.02e-01\r"
     ]
    },
    {
     "name": "stdout",
     "output_type": "stream",
     "text": [
      "P:   1 R:   1 T:  74  psnr: 2.23e+01 at lambda: 1.96e-02, rho: 1.02e-01\r",
      "P:   1 R:   1 T:  74  psnr: 2.23e+01 at lambda: 1.96e-02, rho: 1.02e-01\r"
     ]
    },
    {
     "name": "stdout",
     "output_type": "stream",
     "text": [
      "P:   1 R:   1 T:  74  psnr: 2.23e+01 at lambda: 1.96e-02, rho: 1.02e-01\r",
      "P:   1 R:   1 T:  74  psnr: 2.23e+01 at lambda: 1.96e-02, rho: 1.02e-01\r",
      "P:   1 R:   1 T:  74  psnr: 2.23e+01 at lambda: 1.96e-02, rho: 1.02e-01\r"
     ]
    },
    {
     "name": "stdout",
     "output_type": "stream",
     "text": [
      "P:   1 R:   1 T:  74  psnr: 2.23e+01 at lambda: 1.96e-02, rho: 1.02e-01\r",
      "P:   1 R:   1 T:  74  psnr: 2.23e+01 at lambda: 1.96e-02, rho: 1.02e-01\r",
      "P:   1 R:   0 T:  75  psnr: 2.23e+01 at lambda: 1.96e-02, rho: 1.02e-01\r",
      "P:   0 R:   1 T:  75  psnr: 2.23e+01 at lambda: 1.96e-02, rho: 1.02e-01\r"
     ]
    },
    {
     "name": "stdout",
     "output_type": "stream",
     "text": [
      "P:   1 R:   1 T:  75  psnr: 2.23e+01 at lambda: 1.96e-02, rho: 1.02e-01\r",
      "P:   1 R:   1 T:  75  psnr: 2.23e+01 at lambda: 1.96e-02, rho: 1.02e-01\r"
     ]
    },
    {
     "name": "stdout",
     "output_type": "stream",
     "text": [
      "P:   1 R:   1 T:  75  psnr: 2.23e+01 at lambda: 1.96e-02, rho: 1.02e-01\r",
      "P:   1 R:   1 T:  75  psnr: 2.23e+01 at lambda: 1.96e-02, rho: 1.02e-01\r"
     ]
    },
    {
     "name": "stdout",
     "output_type": "stream",
     "text": [
      "P:   1 R:   1 T:  75  psnr: 2.23e+01 at lambda: 1.96e-02, rho: 1.02e-01\r",
      "P:   1 R:   1 T:  75  psnr: 2.23e+01 at lambda: 1.96e-02, rho: 1.02e-01\r"
     ]
    },
    {
     "name": "stdout",
     "output_type": "stream",
     "text": [
      "P:   1 R:   1 T:  75  psnr: 2.23e+01 at lambda: 1.96e-02, rho: 1.02e-01\r",
      "P:   1 R:   1 T:  75  psnr: 2.23e+01 at lambda: 1.96e-02, rho: 1.02e-01\r"
     ]
    },
    {
     "name": "stdout",
     "output_type": "stream",
     "text": [
      "P:   1 R:   1 T:  75  psnr: 2.23e+01 at lambda: 1.96e-02, rho: 1.02e-01\r",
      "P:   1 R:   0 T:  76  psnr: 2.23e+01 at lambda: 1.96e-02, rho: 1.02e-01\r",
      "P:   0 R:   1 T:  76  psnr: 2.23e+01 at lambda: 1.96e-02, rho: 1.02e-01\r",
      "P:   1 R:   1 T:  76  psnr: 2.23e+01 at lambda: 1.96e-02, rho: 1.02e-01\r"
     ]
    },
    {
     "name": "stdout",
     "output_type": "stream",
     "text": [
      "P:   1 R:   1 T:  76  psnr: 2.23e+01 at lambda: 1.96e-02, rho: 1.02e-01\r",
      "P:   1 R:   1 T:  76  psnr: 2.23e+01 at lambda: 1.96e-02, rho: 1.02e-01\r"
     ]
    },
    {
     "name": "stdout",
     "output_type": "stream",
     "text": [
      "P:   1 R:   1 T:  76  psnr: 2.23e+01 at lambda: 1.96e-02, rho: 1.02e-01\r",
      "P:   1 R:   1 T:  76  psnr: 2.23e+01 at lambda: 1.96e-02, rho: 1.02e-01\r"
     ]
    },
    {
     "name": "stdout",
     "output_type": "stream",
     "text": [
      "P:   1 R:   1 T:  76  psnr: 2.23e+01 at lambda: 1.96e-02, rho: 1.02e-01\r",
      "P:   1 R:   1 T:  76  psnr: 2.23e+01 at lambda: 1.96e-02, rho: 1.02e-01\r"
     ]
    },
    {
     "name": "stdout",
     "output_type": "stream",
     "text": [
      "P:   1 R:   1 T:  76  psnr: 2.23e+01 at lambda: 1.96e-02, rho: 1.02e-01\r",
      "P:   1 R:   1 T:  76  psnr: 2.23e+01 at lambda: 1.96e-02, rho: 1.02e-01\r",
      "P:   1 R:   1 T:  76  psnr: 2.23e+01 at lambda: 1.96e-02, rho: 1.02e-01\r"
     ]
    },
    {
     "name": "stdout",
     "output_type": "stream",
     "text": [
      "P:   1 R:   1 T:  76  psnr: 2.23e+01 at lambda: 1.96e-02, rho: 1.02e-01\r",
      "P:   1 R:   1 T:  76  psnr: 2.23e+01 at lambda: 1.96e-02, rho: 1.02e-01\r"
     ]
    },
    {
     "name": "stdout",
     "output_type": "stream",
     "text": [
      "P:   1 R:   1 T:  76  psnr: 2.23e+01 at lambda: 1.96e-02, rho: 1.02e-01\r",
      "P:   1 R:   1 T:  76  psnr: 2.23e+01 at lambda: 1.96e-02, rho: 1.02e-01\r",
      "P:   1 R:   1 T:  76  psnr: 2.23e+01 at lambda: 1.96e-02, rho: 1.02e-01\r"
     ]
    },
    {
     "name": "stdout",
     "output_type": "stream",
     "text": [
      "P:   1 R:   1 T:  76  psnr: 2.23e+01 at lambda: 1.96e-02, rho: 1.02e-01\r",
      "P:   1 R:   1 T:  76  psnr: 2.23e+01 at lambda: 1.96e-02, rho: 1.02e-01\r",
      "P:   1 R:   1 T:  76  psnr: 2.23e+01 at lambda: 1.96e-02, rho: 1.02e-01\r"
     ]
    },
    {
     "name": "stdout",
     "output_type": "stream",
     "text": [
      "P:   1 R:   1 T:  76  psnr: 2.23e+01 at lambda: 1.96e-02, rho: 1.02e-01\r",
      "P:   1 R:   1 T:  76  psnr: 2.23e+01 at lambda: 1.96e-02, rho: 1.02e-01\r",
      "P:   1 R:   1 T:  76  psnr: 2.23e+01 at lambda: 1.96e-02, rho: 1.02e-01\r"
     ]
    },
    {
     "name": "stdout",
     "output_type": "stream",
     "text": [
      "P:   1 R:   1 T:  76  psnr: 2.23e+01 at lambda: 1.96e-02, rho: 1.02e-01\r",
      "P:   1 R:   1 T:  76  psnr: 2.23e+01 at lambda: 1.96e-02, rho: 1.02e-01\r",
      "P:   1 R:   0 T:  77  psnr: 2.23e+01 at lambda: 1.96e-02, rho: 1.02e-01\r",
      "P:   0 R:   1 T:  77  psnr: 2.23e+01 at lambda: 1.96e-02, rho: 1.02e-01\r"
     ]
    },
    {
     "name": "stdout",
     "output_type": "stream",
     "text": [
      "P:   1 R:   1 T:  77  psnr: 2.23e+01 at lambda: 1.96e-02, rho: 1.02e-01\r",
      "P:   1 R:   1 T:  77  psnr: 2.23e+01 at lambda: 1.96e-02, rho: 1.02e-01\r"
     ]
    },
    {
     "name": "stdout",
     "output_type": "stream",
     "text": [
      "P:   1 R:   1 T:  77  psnr: 2.23e+01 at lambda: 1.96e-02, rho: 1.02e-01\r",
      "P:   1 R:   1 T:  77  psnr: 2.23e+01 at lambda: 1.96e-02, rho: 1.02e-01\r"
     ]
    },
    {
     "name": "stdout",
     "output_type": "stream",
     "text": [
      "P:   1 R:   1 T:  77  psnr: 2.23e+01 at lambda: 1.96e-02, rho: 1.02e-01\r",
      "P:   1 R:   1 T:  77  psnr: 2.23e+01 at lambda: 1.96e-02, rho: 1.02e-01\r"
     ]
    },
    {
     "name": "stdout",
     "output_type": "stream",
     "text": [
      "P:   1 R:   1 T:  77  psnr: 2.23e+01 at lambda: 1.96e-02, rho: 1.02e-01\r",
      "P:   1 R:   1 T:  77  psnr: 2.23e+01 at lambda: 1.96e-02, rho: 1.02e-01\r",
      "P:   1 R:   1 T:  77  psnr: 2.23e+01 at lambda: 1.96e-02, rho: 1.02e-01\r"
     ]
    },
    {
     "name": "stdout",
     "output_type": "stream",
     "text": [
      "P:   1 R:   1 T:  77  psnr: 2.23e+01 at lambda: 1.96e-02, rho: 1.02e-01\r",
      "P:   1 R:   1 T:  77  psnr: 2.23e+01 at lambda: 1.96e-02, rho: 1.02e-01\r"
     ]
    },
    {
     "name": "stdout",
     "output_type": "stream",
     "text": [
      "P:   1 R:   1 T:  77  psnr: 2.23e+01 at lambda: 1.96e-02, rho: 1.02e-01\r",
      "P:   1 R:   1 T:  77  psnr: 2.23e+01 at lambda: 1.96e-02, rho: 1.02e-01\r",
      "P:   1 R:   1 T:  77  psnr: 2.23e+01 at lambda: 1.96e-02, rho: 1.02e-01\r"
     ]
    },
    {
     "name": "stdout",
     "output_type": "stream",
     "text": [
      "P:   1 R:   1 T:  77  psnr: 2.23e+01 at lambda: 1.96e-02, rho: 1.02e-01\r",
      "P:   1 R:   1 T:  77  psnr: 2.23e+01 at lambda: 1.96e-02, rho: 1.02e-01\r"
     ]
    },
    {
     "name": "stdout",
     "output_type": "stream",
     "text": [
      "P:   1 R:   1 T:  77  psnr: 2.23e+01 at lambda: 1.96e-02, rho: 1.02e-01\r",
      "P:   1 R:   1 T:  77  psnr: 2.23e+01 at lambda: 1.96e-02, rho: 1.02e-01\r",
      "P:   1 R:   1 T:  77  psnr: 2.23e+01 at lambda: 1.96e-02, rho: 1.02e-01\r"
     ]
    },
    {
     "name": "stdout",
     "output_type": "stream",
     "text": [
      "P:   1 R:   1 T:  77  psnr: 2.23e+01 at lambda: 1.96e-02, rho: 1.02e-01\r",
      "P:   1 R:   1 T:  77  psnr: 2.23e+01 at lambda: 1.96e-02, rho: 1.02e-01\r",
      "P:   1 R:   1 T:  77  psnr: 2.23e+01 at lambda: 1.96e-02, rho: 1.02e-01\r"
     ]
    },
    {
     "name": "stdout",
     "output_type": "stream",
     "text": [
      "P:   1 R:   1 T:  77  psnr: 2.23e+01 at lambda: 1.96e-02, rho: 1.02e-01\r",
      "P:   1 R:   1 T:  77  psnr: 2.23e+01 at lambda: 1.96e-02, rho: 1.02e-01\r",
      "P:   1 R:   1 T:  77  psnr: 2.23e+01 at lambda: 1.96e-02, rho: 1.02e-01\r"
     ]
    },
    {
     "name": "stdout",
     "output_type": "stream",
     "text": [
      "P:   1 R:   1 T:  77  psnr: 2.23e+01 at lambda: 1.96e-02, rho: 1.02e-01\r",
      "P:   1 R:   1 T:  77  psnr: 2.23e+01 at lambda: 1.96e-02, rho: 1.02e-01\r",
      "P:   1 R:   0 T:  78  psnr: 2.23e+01 at lambda: 1.96e-02, rho: 1.02e-01\r"
     ]
    },
    {
     "name": "stdout",
     "output_type": "stream",
     "text": [
      "P:   0 R:   1 T:  78  psnr: 2.23e+01 at lambda: 1.96e-02, rho: 1.02e-01\r",
      "P:   1 R:   1 T:  78  psnr: 2.23e+01 at lambda: 1.96e-02, rho: 1.02e-01\r"
     ]
    },
    {
     "name": "stdout",
     "output_type": "stream",
     "text": [
      "P:   1 R:   1 T:  78  psnr: 2.23e+01 at lambda: 1.96e-02, rho: 1.02e-01\r",
      "P:   1 R:   1 T:  78  psnr: 2.23e+01 at lambda: 1.96e-02, rho: 1.02e-01\r",
      "P:   1 R:   1 T:  78  psnr: 2.23e+01 at lambda: 1.96e-02, rho: 1.02e-01\r"
     ]
    },
    {
     "name": "stdout",
     "output_type": "stream",
     "text": [
      "P:   1 R:   1 T:  78  psnr: 2.23e+01 at lambda: 1.96e-02, rho: 1.02e-01\r",
      "P:   1 R:   1 T:  78  psnr: 2.23e+01 at lambda: 1.96e-02, rho: 1.02e-01\r"
     ]
    },
    {
     "name": "stdout",
     "output_type": "stream",
     "text": [
      "P:   1 R:   1 T:  78  psnr: 2.23e+01 at lambda: 1.96e-02, rho: 1.02e-01\r",
      "P:   1 R:   1 T:  78  psnr: 2.23e+01 at lambda: 1.96e-02, rho: 1.02e-01\r"
     ]
    },
    {
     "name": "stdout",
     "output_type": "stream",
     "text": [
      "P:   1 R:   1 T:  78  psnr: 2.23e+01 at lambda: 1.96e-02, rho: 1.02e-01\r",
      "P:   1 R:   0 T:  79  psnr: 2.23e+01 at lambda: 1.96e-02, rho: 1.02e-01\r",
      "P:   1 R:   0 T:  79  psnr: 2.23e+01 at lambda: 1.96e-02, rho: 1.02e-01\r",
      "P:   0 R:   1 T:  79  psnr: 2.23e+01 at lambda: 1.96e-02, rho: 1.02e-01\r",
      "P:   1 R:   1 T:  79  psnr: 2.23e+01 at lambda: 1.96e-02, rho: 1.02e-01\r"
     ]
    },
    {
     "name": "stdout",
     "output_type": "stream",
     "text": [
      "P:   1 R:   1 T:  79  psnr: 2.23e+01 at lambda: 1.96e-02, rho: 1.02e-01\r",
      "P:   1 R:   1 T:  79  psnr: 2.23e+01 at lambda: 1.96e-02, rho: 1.02e-01\r"
     ]
    },
    {
     "name": "stdout",
     "output_type": "stream",
     "text": [
      "P:   1 R:   1 T:  79  psnr: 2.23e+01 at lambda: 1.96e-02, rho: 1.02e-01\r",
      "P:   1 R:   1 T:  79  psnr: 2.23e+01 at lambda: 1.96e-02, rho: 1.02e-01\r"
     ]
    },
    {
     "name": "stdout",
     "output_type": "stream",
     "text": [
      "P:   1 R:   1 T:  79  psnr: 2.23e+01 at lambda: 1.96e-02, rho: 1.02e-01\r",
      "P:   1 R:   1 T:  79  psnr: 2.23e+01 at lambda: 1.96e-02, rho: 1.02e-01\r"
     ]
    },
    {
     "name": "stdout",
     "output_type": "stream",
     "text": [
      "P:   1 R:   1 T:  79  psnr: 2.23e+01 at lambda: 1.96e-02, rho: 1.02e-01\r",
      "P:   1 R:   0 T:  80  psnr: 2.23e+01 at lambda: 1.96e-02, rho: 1.02e-01\r",
      "P:   0 R:   1 T:  80  psnr: 2.23e+01 at lambda: 1.96e-02, rho: 1.02e-01\r",
      "P:   1 R:   1 T:  80  psnr: 2.23e+01 at lambda: 1.96e-02, rho: 1.02e-01\r"
     ]
    },
    {
     "name": "stdout",
     "output_type": "stream",
     "text": [
      "P:   1 R:   1 T:  80  psnr: 2.23e+01 at lambda: 1.96e-02, rho: 1.02e-01\r",
      "P:   1 R:   1 T:  80  psnr: 2.23e+01 at lambda: 1.96e-02, rho: 1.02e-01\r"
     ]
    },
    {
     "name": "stdout",
     "output_type": "stream",
     "text": [
      "P:   1 R:   1 T:  80  psnr: 2.23e+01 at lambda: 1.96e-02, rho: 1.02e-01\r",
      "P:   1 R:   1 T:  80  psnr: 2.23e+01 at lambda: 1.96e-02, rho: 1.02e-01\r"
     ]
    },
    {
     "name": "stdout",
     "output_type": "stream",
     "text": [
      "P:   1 R:   1 T:  80  psnr: 2.23e+01 at lambda: 1.96e-02, rho: 1.02e-01\r",
      "P:   1 R:   1 T:  80  psnr: 2.23e+01 at lambda: 1.96e-02, rho: 1.02e-01\r"
     ]
    },
    {
     "name": "stdout",
     "output_type": "stream",
     "text": [
      "P:   1 R:   1 T:  80  psnr: 2.23e+01 at lambda: 1.96e-02, rho: 1.02e-01\r",
      "P:   1 R:   1 T:  80  psnr: 2.23e+01 at lambda: 1.96e-02, rho: 1.02e-01\r",
      "P:   1 R:   1 T:  80  psnr: 2.23e+01 at lambda: 1.96e-02, rho: 1.02e-01\r"
     ]
    },
    {
     "name": "stdout",
     "output_type": "stream",
     "text": [
      "P:   1 R:   1 T:  80  psnr: 2.23e+01 at lambda: 1.96e-02, rho: 1.02e-01\r",
      "P:   1 R:   1 T:  80  psnr: 2.23e+01 at lambda: 1.96e-02, rho: 1.02e-01\r",
      "P:   1 R:   1 T:  80  psnr: 2.23e+01 at lambda: 1.96e-02, rho: 1.02e-01\r"
     ]
    },
    {
     "name": "stdout",
     "output_type": "stream",
     "text": [
      "P:   1 R:   1 T:  80  psnr: 2.23e+01 at lambda: 1.96e-02, rho: 1.02e-01\r",
      "P:   1 R:   1 T:  80  psnr: 2.23e+01 at lambda: 1.96e-02, rho: 1.02e-01\r",
      "P:   1 R:   1 T:  80  psnr: 2.23e+01 at lambda: 1.96e-02, rho: 1.02e-01\r"
     ]
    },
    {
     "name": "stdout",
     "output_type": "stream",
     "text": [
      "P:   1 R:   1 T:  80  psnr: 2.23e+01 at lambda: 1.96e-02, rho: 1.02e-01\r",
      "P:   1 R:   1 T:  80  psnr: 2.23e+01 at lambda: 1.96e-02, rho: 1.02e-01\r",
      "P:   1 R:   1 T:  80  psnr: 2.23e+01 at lambda: 1.96e-02, rho: 1.02e-01\r"
     ]
    },
    {
     "name": "stdout",
     "output_type": "stream",
     "text": [
      "P:   1 R:   1 T:  80  psnr: 2.23e+01 at lambda: 1.96e-02, rho: 1.02e-01\r",
      "P:   1 R:   1 T:  80  psnr: 2.23e+01 at lambda: 1.96e-02, rho: 1.02e-01\r"
     ]
    },
    {
     "name": "stdout",
     "output_type": "stream",
     "text": [
      "P:   1 R:   1 T:  80  psnr: 2.23e+01 at lambda: 1.96e-02, rho: 1.02e-01\r",
      "P:   1 R:   0 T:  81  psnr: 2.23e+01 at lambda: 1.96e-02, rho: 1.02e-01\r",
      "P:   0 R:   1 T:  81  psnr: 2.23e+01 at lambda: 1.96e-02, rho: 1.02e-01\r"
     ]
    },
    {
     "name": "stdout",
     "output_type": "stream",
     "text": [
      "P:   1 R:   1 T:  81  psnr: 2.23e+01 at lambda: 1.96e-02, rho: 1.02e-01\r",
      "P:   1 R:   1 T:  81  psnr: 2.23e+01 at lambda: 1.96e-02, rho: 1.02e-01\r"
     ]
    },
    {
     "name": "stdout",
     "output_type": "stream",
     "text": [
      "P:   1 R:   1 T:  81  psnr: 2.23e+01 at lambda: 1.96e-02, rho: 1.02e-01\r",
      "P:   1 R:   1 T:  81  psnr: 2.23e+01 at lambda: 1.96e-02, rho: 1.02e-01\r"
     ]
    },
    {
     "name": "stdout",
     "output_type": "stream",
     "text": [
      "P:   1 R:   1 T:  81  psnr: 2.23e+01 at lambda: 1.96e-02, rho: 1.02e-01\r",
      "P:   1 R:   1 T:  81  psnr: 2.23e+01 at lambda: 1.96e-02, rho: 1.02e-01\r"
     ]
    },
    {
     "name": "stdout",
     "output_type": "stream",
     "text": [
      "P:   1 R:   1 T:  81  psnr: 2.23e+01 at lambda: 1.96e-02, rho: 1.02e-01\r",
      "P:   1 R:   1 T:  81  psnr: 2.23e+01 at lambda: 1.96e-02, rho: 1.02e-01\r"
     ]
    },
    {
     "name": "stdout",
     "output_type": "stream",
     "text": [
      "P:   1 R:   1 T:  81  psnr: 2.23e+01 at lambda: 1.96e-02, rho: 1.02e-01\r",
      "P:   1 R:   1 T:  81  psnr: 2.23e+01 at lambda: 1.96e-02, rho: 1.02e-01\r"
     ]
    },
    {
     "name": "stdout",
     "output_type": "stream",
     "text": [
      "P:   1 R:   0 T:  82  psnr: 2.23e+01 at lambda: 1.96e-02, rho: 1.02e-01\r",
      "P:   0 R:   1 T:  82  psnr: 2.23e+01 at lambda: 1.96e-02, rho: 1.02e-01\r",
      "P:   1 R:   1 T:  82  psnr: 2.23e+01 at lambda: 1.96e-02, rho: 1.02e-01\r"
     ]
    },
    {
     "name": "stdout",
     "output_type": "stream",
     "text": [
      "P:   1 R:   1 T:  82  psnr: 2.23e+01 at lambda: 1.96e-02, rho: 1.02e-01\r",
      "P:   1 R:   1 T:  82  psnr: 2.23e+01 at lambda: 1.96e-02, rho: 1.02e-01\r"
     ]
    },
    {
     "name": "stdout",
     "output_type": "stream",
     "text": [
      "P:   1 R:   1 T:  82  psnr: 2.23e+01 at lambda: 1.96e-02, rho: 1.02e-01\r",
      "P:   1 R:   1 T:  82  psnr: 2.23e+01 at lambda: 1.96e-02, rho: 1.02e-01\r",
      "P:   1 R:   1 T:  82  psnr: 2.23e+01 at lambda: 1.96e-02, rho: 1.02e-01\r"
     ]
    },
    {
     "name": "stdout",
     "output_type": "stream",
     "text": [
      "P:   1 R:   1 T:  82  psnr: 2.23e+01 at lambda: 1.96e-02, rho: 1.02e-01\r",
      "P:   1 R:   1 T:  82  psnr: 2.23e+01 at lambda: 1.96e-02, rho: 1.02e-01\r",
      "P:   1 R:   1 T:  82  psnr: 2.23e+01 at lambda: 1.96e-02, rho: 1.02e-01\r"
     ]
    },
    {
     "name": "stdout",
     "output_type": "stream",
     "text": [
      "P:   1 R:   1 T:  82  psnr: 2.23e+01 at lambda: 1.96e-02, rho: 1.02e-01\r",
      "P:   1 R:   1 T:  82  psnr: 2.23e+01 at lambda: 1.96e-02, rho: 1.02e-01\r"
     ]
    },
    {
     "name": "stdout",
     "output_type": "stream",
     "text": [
      "P:   1 R:   1 T:  82  psnr: 2.23e+01 at lambda: 1.96e-02, rho: 1.02e-01\r",
      "P:   1 R:   1 T:  82  psnr: 2.23e+01 at lambda: 1.96e-02, rho: 1.02e-01\r"
     ]
    },
    {
     "name": "stdout",
     "output_type": "stream",
     "text": [
      "P:   1 R:   1 T:  82  psnr: 2.23e+01 at lambda: 1.96e-02, rho: 1.02e-01\r",
      "P:   1 R:   1 T:  82  psnr: 2.23e+01 at lambda: 1.96e-02, rho: 1.02e-01\r"
     ]
    },
    {
     "name": "stdout",
     "output_type": "stream",
     "text": [
      "P:   1 R:   1 T:  82  psnr: 2.23e+01 at lambda: 1.96e-02, rho: 1.02e-01\r",
      "P:   1 R:   1 T:  82  psnr: 2.23e+01 at lambda: 1.96e-02, rho: 1.02e-01\r",
      "P:   1 R:   1 T:  82  psnr: 2.23e+01 at lambda: 1.96e-02, rho: 1.02e-01\r",
      "P:   1 R:   1 T:  82  psnr: 2.23e+01 at lambda: 1.96e-02, rho: 1.02e-01\r"
     ]
    },
    {
     "name": "stdout",
     "output_type": "stream",
     "text": [
      "P:   1 R:   1 T:  82  psnr: 2.23e+01 at lambda: 1.96e-02, rho: 1.02e-01\r",
      "P:   1 R:   1 T:  82  psnr: 2.23e+01 at lambda: 1.96e-02, rho: 1.02e-01\r",
      "P:   1 R:   1 T:  82  psnr: 2.23e+01 at lambda: 1.96e-02, rho: 1.02e-01\r"
     ]
    },
    {
     "name": "stdout",
     "output_type": "stream",
     "text": [
      "P:   1 R:   1 T:  82  psnr: 2.23e+01 at lambda: 1.96e-02, rho: 1.02e-01\r",
      "P:   1 R:   1 T:  82  psnr: 2.23e+01 at lambda: 1.96e-02, rho: 1.02e-01\r",
      "P:   1 R:   1 T:  82  psnr: 2.23e+01 at lambda: 1.96e-02, rho: 1.02e-01\r",
      "P:   1 R:   0 T:  83  psnr: 2.23e+01 at lambda: 1.96e-02, rho: 1.02e-01\r"
     ]
    },
    {
     "name": "stdout",
     "output_type": "stream",
     "text": [
      "P:   0 R:   1 T:  83  psnr: 2.23e+01 at lambda: 1.96e-02, rho: 1.02e-01\r",
      "P:   1 R:   1 T:  83  psnr: 2.23e+01 at lambda: 1.96e-02, rho: 1.02e-01\r",
      "P:   1 R:   1 T:  83  psnr: 2.23e+01 at lambda: 1.96e-02, rho: 1.02e-01\r"
     ]
    },
    {
     "name": "stdout",
     "output_type": "stream",
     "text": [
      "P:   1 R:   1 T:  83  psnr: 2.23e+01 at lambda: 1.96e-02, rho: 1.02e-01\r",
      "P:   1 R:   1 T:  83  psnr: 2.23e+01 at lambda: 1.96e-02, rho: 1.02e-01\r"
     ]
    },
    {
     "name": "stdout",
     "output_type": "stream",
     "text": [
      "P:   1 R:   1 T:  83  psnr: 2.23e+01 at lambda: 1.96e-02, rho: 1.02e-01\r",
      "P:   1 R:   1 T:  83  psnr: 2.23e+01 at lambda: 1.96e-02, rho: 1.02e-01\r"
     ]
    },
    {
     "name": "stdout",
     "output_type": "stream",
     "text": [
      "P:   1 R:   1 T:  83  psnr: 2.23e+01 at lambda: 1.96e-02, rho: 1.02e-01\r",
      "P:   1 R:   0 T:  84  psnr: 2.23e+01 at lambda: 1.96e-02, rho: 1.02e-01\r",
      "P:   0 R:   1 T:  84  psnr: 2.23e+01 at lambda: 1.96e-02, rho: 1.02e-01\r"
     ]
    },
    {
     "name": "stdout",
     "output_type": "stream",
     "text": [
      "P:   1 R:   1 T:  84  psnr: 2.23e+01 at lambda: 1.96e-02, rho: 1.02e-01\r",
      "P:   1 R:   1 T:  84  psnr: 2.23e+01 at lambda: 1.96e-02, rho: 1.02e-01\r"
     ]
    },
    {
     "name": "stdout",
     "output_type": "stream",
     "text": [
      "P:   1 R:   1 T:  84  psnr: 2.23e+01 at lambda: 1.96e-02, rho: 1.02e-01\r",
      "P:   1 R:   1 T:  84  psnr: 2.23e+01 at lambda: 1.96e-02, rho: 1.02e-01\r"
     ]
    },
    {
     "name": "stdout",
     "output_type": "stream",
     "text": [
      "P:   1 R:   1 T:  84  psnr: 2.23e+01 at lambda: 1.96e-02, rho: 1.02e-01\r",
      "P:   1 R:   1 T:  84  psnr: 2.23e+01 at lambda: 1.96e-02, rho: 1.02e-01\r"
     ]
    },
    {
     "name": "stdout",
     "output_type": "stream",
     "text": [
      "P:   1 R:   1 T:  84  psnr: 2.23e+01 at lambda: 1.96e-02, rho: 1.02e-01\r",
      "P:   1 R:   1 T:  84  psnr: 2.23e+01 at lambda: 1.96e-02, rho: 1.02e-01\r"
     ]
    },
    {
     "name": "stdout",
     "output_type": "stream",
     "text": [
      "P:   1 R:   1 T:  84  psnr: 2.23e+01 at lambda: 1.96e-02, rho: 1.02e-01\r",
      "P:   1 R:   1 T:  84  psnr: 2.23e+01 at lambda: 1.96e-02, rho: 1.02e-01\r",
      "P:   1 R:   0 T:  85  psnr: 2.23e+01 at lambda: 1.96e-02, rho: 1.02e-01\r",
      "P:   0 R:   1 T:  85  psnr: 2.23e+01 at lambda: 1.96e-02, rho: 1.02e-01\r"
     ]
    },
    {
     "name": "stdout",
     "output_type": "stream",
     "text": [
      "P:   1 R:   1 T:  85  psnr: 2.23e+01 at lambda: 1.96e-02, rho: 1.02e-01\r",
      "P:   1 R:   1 T:  85  psnr: 2.23e+01 at lambda: 1.96e-02, rho: 1.02e-01\r"
     ]
    },
    {
     "name": "stdout",
     "output_type": "stream",
     "text": [
      "P:   1 R:   1 T:  85  psnr: 2.23e+01 at lambda: 1.96e-02, rho: 1.02e-01\r",
      "P:   1 R:   1 T:  85  psnr: 2.23e+01 at lambda: 1.96e-02, rho: 1.02e-01\r"
     ]
    },
    {
     "name": "stdout",
     "output_type": "stream",
     "text": [
      "P:   1 R:   1 T:  85  psnr: 2.23e+01 at lambda: 1.96e-02, rho: 1.02e-01\r",
      "P:   1 R:   1 T:  85  psnr: 2.23e+01 at lambda: 1.96e-02, rho: 1.02e-01\r",
      "P:   1 R:   1 T:  85  psnr: 2.23e+01 at lambda: 1.96e-02, rho: 1.02e-01\r"
     ]
    },
    {
     "name": "stdout",
     "output_type": "stream",
     "text": [
      "P:   1 R:   1 T:  85  psnr: 2.23e+01 at lambda: 1.96e-02, rho: 1.02e-01\r",
      "P:   1 R:   1 T:  85  psnr: 2.23e+01 at lambda: 1.96e-02, rho: 1.02e-01\r"
     ]
    },
    {
     "name": "stdout",
     "output_type": "stream",
     "text": [
      "P:   1 R:   1 T:  85  psnr: 2.23e+01 at lambda: 1.96e-02, rho: 1.02e-01\r",
      "P:   1 R:   0 T:  86  psnr: 2.23e+01 at lambda: 1.96e-02, rho: 1.02e-01\r",
      "P:   0 R:   1 T:  86  psnr: 2.23e+01 at lambda: 1.96e-02, rho: 1.02e-01\r",
      "P:   1 R:   1 T:  86  psnr: 2.23e+01 at lambda: 1.96e-02, rho: 1.02e-01\r"
     ]
    },
    {
     "name": "stdout",
     "output_type": "stream",
     "text": [
      "P:   1 R:   1 T:  86  psnr: 2.23e+01 at lambda: 1.96e-02, rho: 1.02e-01\r",
      "P:   1 R:   1 T:  86  psnr: 2.23e+01 at lambda: 1.96e-02, rho: 1.02e-01\r"
     ]
    },
    {
     "name": "stdout",
     "output_type": "stream",
     "text": [
      "P:   1 R:   1 T:  86  psnr: 2.23e+01 at lambda: 1.96e-02, rho: 1.02e-01\r",
      "P:   1 R:   1 T:  86  psnr: 2.23e+01 at lambda: 1.96e-02, rho: 1.02e-01\r"
     ]
    },
    {
     "name": "stdout",
     "output_type": "stream",
     "text": [
      "P:   1 R:   1 T:  86  psnr: 2.23e+01 at lambda: 1.96e-02, rho: 1.02e-01\r",
      "P:   1 R:   1 T:  86  psnr: 2.23e+01 at lambda: 1.96e-02, rho: 1.02e-01\r",
      "P:   1 R:   1 T:  86  psnr: 2.23e+01 at lambda: 1.96e-02, rho: 1.02e-01\r"
     ]
    },
    {
     "name": "stdout",
     "output_type": "stream",
     "text": [
      "P:   1 R:   1 T:  86  psnr: 2.23e+01 at lambda: 1.96e-02, rho: 1.02e-01\r",
      "P:   1 R:   0 T:  87  psnr: 2.23e+01 at lambda: 1.96e-02, rho: 1.02e-01\r",
      "P:   0 R:   1 T:  87  psnr: 2.23e+01 at lambda: 1.96e-02, rho: 1.02e-01\r"
     ]
    },
    {
     "name": "stdout",
     "output_type": "stream",
     "text": [
      "P:   1 R:   1 T:  87  psnr: 2.23e+01 at lambda: 1.96e-02, rho: 1.02e-01\r",
      "P:   1 R:   1 T:  87  psnr: 2.23e+01 at lambda: 1.96e-02, rho: 1.02e-01\r"
     ]
    },
    {
     "name": "stdout",
     "output_type": "stream",
     "text": [
      "P:   1 R:   1 T:  87  psnr: 2.23e+01 at lambda: 1.96e-02, rho: 1.02e-01\r",
      "P:   1 R:   1 T:  87  psnr: 2.23e+01 at lambda: 1.96e-02, rho: 1.02e-01\r"
     ]
    },
    {
     "name": "stdout",
     "output_type": "stream",
     "text": [
      "P:   1 R:   1 T:  87  psnr: 2.23e+01 at lambda: 1.96e-02, rho: 1.02e-01\r",
      "P:   1 R:   1 T:  87  psnr: 2.23e+01 at lambda: 1.96e-02, rho: 1.02e-01\r"
     ]
    },
    {
     "name": "stdout",
     "output_type": "stream",
     "text": [
      "P:   1 R:   1 T:  87  psnr: 2.23e+01 at lambda: 1.96e-02, rho: 1.02e-01\r",
      "P:   1 R:   1 T:  87  psnr: 2.23e+01 at lambda: 1.96e-02, rho: 1.02e-01\r",
      "P:   1 R:   0 T:  88  psnr: 2.23e+01 at lambda: 1.96e-02, rho: 1.02e-01\r",
      "P:   0 R:   1 T:  88  psnr: 2.23e+01 at lambda: 1.96e-02, rho: 1.02e-01\r"
     ]
    },
    {
     "name": "stdout",
     "output_type": "stream",
     "text": [
      "P:   1 R:   1 T:  88  psnr: 2.23e+01 at lambda: 1.96e-02, rho: 1.02e-01\r",
      "P:   1 R:   1 T:  88  psnr: 2.23e+01 at lambda: 1.96e-02, rho: 1.02e-01\r"
     ]
    },
    {
     "name": "stdout",
     "output_type": "stream",
     "text": [
      "P:   1 R:   1 T:  88  psnr: 2.23e+01 at lambda: 1.96e-02, rho: 1.02e-01\r",
      "P:   1 R:   1 T:  88  psnr: 2.23e+01 at lambda: 1.96e-02, rho: 1.02e-01\r"
     ]
    },
    {
     "name": "stdout",
     "output_type": "stream",
     "text": [
      "P:   1 R:   1 T:  88  psnr: 2.23e+01 at lambda: 1.96e-02, rho: 1.02e-01\r",
      "P:   1 R:   1 T:  88  psnr: 2.23e+01 at lambda: 1.96e-02, rho: 1.02e-01\r"
     ]
    },
    {
     "name": "stdout",
     "output_type": "stream",
     "text": [
      "P:   1 R:   1 T:  88  psnr: 2.23e+01 at lambda: 1.96e-02, rho: 1.02e-01\r",
      "P:   1 R:   1 T:  88  psnr: 2.23e+01 at lambda: 1.96e-02, rho: 1.02e-01\r",
      "P:   1 R:   1 T:  88  psnr: 2.23e+01 at lambda: 1.96e-02, rho: 1.02e-01\r"
     ]
    },
    {
     "name": "stdout",
     "output_type": "stream",
     "text": [
      "P:   1 R:   1 T:  88  psnr: 2.23e+01 at lambda: 1.96e-02, rho: 1.02e-01\r",
      "P:   1 R:   1 T:  88  psnr: 2.23e+01 at lambda: 1.96e-02, rho: 1.02e-01\r"
     ]
    },
    {
     "name": "stdout",
     "output_type": "stream",
     "text": [
      "P:   1 R:   1 T:  88  psnr: 2.23e+01 at lambda: 1.96e-02, rho: 1.02e-01\r",
      "P:   1 R:   1 T:  88  psnr: 2.23e+01 at lambda: 1.96e-02, rho: 1.02e-01\r",
      "P:   1 R:   0 T:  89  psnr: 2.23e+01 at lambda: 1.96e-02, rho: 1.02e-01\r"
     ]
    },
    {
     "name": "stdout",
     "output_type": "stream",
     "text": [
      "P:   0 R:   1 T:  89  psnr: 2.23e+01 at lambda: 1.96e-02, rho: 1.02e-01\r",
      "P:   1 R:   1 T:  89  psnr: 2.23e+01 at lambda: 1.96e-02, rho: 1.02e-01\r"
     ]
    },
    {
     "name": "stdout",
     "output_type": "stream",
     "text": [
      "P:   1 R:   1 T:  89  psnr: 2.23e+01 at lambda: 1.96e-02, rho: 1.02e-01\r",
      "P:   1 R:   1 T:  89  psnr: 2.23e+01 at lambda: 1.96e-02, rho: 1.02e-01\r",
      "P:   1 R:   1 T:  89  psnr: 2.23e+01 at lambda: 1.96e-02, rho: 1.02e-01\r"
     ]
    },
    {
     "name": "stdout",
     "output_type": "stream",
     "text": [
      "P:   1 R:   1 T:  89  psnr: 2.23e+01 at lambda: 1.96e-02, rho: 1.02e-01\r",
      "P:   1 R:   1 T:  89  psnr: 2.23e+01 at lambda: 1.96e-02, rho: 1.02e-01\r"
     ]
    },
    {
     "name": "stdout",
     "output_type": "stream",
     "text": [
      "P:   1 R:   1 T:  89  psnr: 2.23e+01 at lambda: 1.96e-02, rho: 1.02e-01\r",
      "P:   1 R:   1 T:  89  psnr: 2.23e+01 at lambda: 1.96e-02, rho: 1.02e-01\r"
     ]
    },
    {
     "name": "stdout",
     "output_type": "stream",
     "text": [
      "P:   1 R:   1 T:  89  psnr: 2.23e+01 at lambda: 1.96e-02, rho: 1.02e-01\r",
      "P:   1 R:   0 T:  90  psnr: 2.23e+01 at lambda: 1.96e-02, rho: 1.02e-01\r",
      "P:   0 R:   1 T:  90  psnr: 2.23e+01 at lambda: 1.96e-02, rho: 1.02e-01\r",
      "P:   1 R:   1 T:  90  psnr: 2.23e+01 at lambda: 1.96e-02, rho: 1.02e-01\r"
     ]
    },
    {
     "name": "stdout",
     "output_type": "stream",
     "text": [
      "P:   1 R:   1 T:  90  psnr: 2.23e+01 at lambda: 1.96e-02, rho: 1.02e-01\r",
      "P:   1 R:   1 T:  90  psnr: 2.23e+01 at lambda: 1.96e-02, rho: 1.02e-01\r"
     ]
    },
    {
     "name": "stdout",
     "output_type": "stream",
     "text": [
      "P:   1 R:   1 T:  90  psnr: 2.23e+01 at lambda: 1.96e-02, rho: 1.02e-01\r",
      "P:   1 R:   1 T:  90  psnr: 2.23e+01 at lambda: 1.96e-02, rho: 1.02e-01\r"
     ]
    },
    {
     "name": "stdout",
     "output_type": "stream",
     "text": [
      "P:   1 R:   1 T:  90  psnr: 2.23e+01 at lambda: 1.96e-02, rho: 1.02e-01\r",
      "P:   1 R:   1 T:  90  psnr: 2.23e+01 at lambda: 1.96e-02, rho: 1.02e-01\r",
      "P:   1 R:   1 T:  90  psnr: 2.23e+01 at lambda: 1.96e-02, rho: 1.02e-01\r"
     ]
    },
    {
     "name": "stdout",
     "output_type": "stream",
     "text": [
      "P:   1 R:   1 T:  90  psnr: 2.23e+01 at lambda: 1.96e-02, rho: 1.02e-01\r",
      "P:   1 R:   1 T:  90  psnr: 2.23e+01 at lambda: 1.96e-02, rho: 1.02e-01\r"
     ]
    },
    {
     "name": "stdout",
     "output_type": "stream",
     "text": [
      "P:   1 R:   1 T:  90  psnr: 2.23e+01 at lambda: 1.96e-02, rho: 1.02e-01\r",
      "P:   1 R:   1 T:  90  psnr: 2.23e+01 at lambda: 1.96e-02, rho: 1.02e-01\r",
      "P:   1 R:   1 T:  90  psnr: 2.23e+01 at lambda: 1.96e-02, rho: 1.02e-01\r"
     ]
    },
    {
     "name": "stdout",
     "output_type": "stream",
     "text": [
      "P:   1 R:   1 T:  90  psnr: 2.23e+01 at lambda: 1.96e-02, rho: 1.02e-01\r",
      "P:   1 R:   1 T:  90  psnr: 2.23e+01 at lambda: 1.96e-02, rho: 1.02e-01\r"
     ]
    },
    {
     "name": "stdout",
     "output_type": "stream",
     "text": [
      "P:   1 R:   1 T:  90  psnr: 2.23e+01 at lambda: 1.96e-02, rho: 1.02e-01\r",
      "P:   1 R:   1 T:  90  psnr: 2.23e+01 at lambda: 1.96e-02, rho: 1.02e-01\r"
     ]
    },
    {
     "name": "stdout",
     "output_type": "stream",
     "text": [
      "P:   1 R:   1 T:  90  psnr: 2.23e+01 at lambda: 1.96e-02, rho: 1.02e-01\r",
      "P:   1 R:   1 T:  90  psnr: 2.23e+01 at lambda: 1.96e-02, rho: 1.02e-01\r",
      "P:   1 R:   1 T:  90  psnr: 2.23e+01 at lambda: 1.96e-02, rho: 1.02e-01\r"
     ]
    },
    {
     "name": "stdout",
     "output_type": "stream",
     "text": [
      "P:   1 R:   1 T:  90  psnr: 2.23e+01 at lambda: 1.96e-02, rho: 1.02e-01\r",
      "P:   1 R:   1 T:  90  psnr: 2.23e+01 at lambda: 1.96e-02, rho: 1.02e-01\r",
      "P:   1 R:   1 T:  90  psnr: 2.23e+01 at lambda: 1.96e-02, rho: 1.02e-01\r"
     ]
    },
    {
     "name": "stdout",
     "output_type": "stream",
     "text": [
      "P:   1 R:   1 T:  90  psnr: 2.23e+01 at lambda: 1.96e-02, rho: 1.02e-01\r",
      "P:   1 R:   1 T:  90  psnr: 2.23e+01 at lambda: 1.96e-02, rho: 1.02e-01\r"
     ]
    },
    {
     "name": "stdout",
     "output_type": "stream",
     "text": [
      "P:   1 R:   1 T:  90  psnr: 2.23e+01 at lambda: 1.96e-02, rho: 1.02e-01\r",
      "P:   1 R:   0 T:  91  psnr: 2.23e+01 at lambda: 1.96e-02, rho: 1.02e-01\r",
      "P:   0 R:   1 T:  91  psnr: 2.23e+01 at lambda: 1.96e-02, rho: 1.02e-01\r",
      "P:   1 R:   1 T:  91  psnr: 2.23e+01 at lambda: 1.96e-02, rho: 1.02e-01\r"
     ]
    },
    {
     "name": "stdout",
     "output_type": "stream",
     "text": [
      "P:   1 R:   1 T:  91  psnr: 2.23e+01 at lambda: 1.96e-02, rho: 1.02e-01\r",
      "P:   1 R:   1 T:  91  psnr: 2.23e+01 at lambda: 1.96e-02, rho: 1.02e-01\r"
     ]
    },
    {
     "name": "stdout",
     "output_type": "stream",
     "text": [
      "P:   1 R:   1 T:  91  psnr: 2.23e+01 at lambda: 1.96e-02, rho: 1.02e-01\r",
      "P:   1 R:   1 T:  91  psnr: 2.23e+01 at lambda: 1.96e-02, rho: 1.02e-01\r",
      "P:   1 R:   1 T:  91  psnr: 2.23e+01 at lambda: 1.96e-02, rho: 1.02e-01\r"
     ]
    },
    {
     "name": "stdout",
     "output_type": "stream",
     "text": [
      "P:   1 R:   1 T:  91  psnr: 2.23e+01 at lambda: 1.96e-02, rho: 1.02e-01\r",
      "P:   1 R:   1 T:  91  psnr: 2.23e+01 at lambda: 1.96e-02, rho: 1.02e-01\r"
     ]
    },
    {
     "name": "stdout",
     "output_type": "stream",
     "text": [
      "P:   1 R:   1 T:  91  psnr: 2.23e+01 at lambda: 1.96e-02, rho: 1.02e-01\r",
      "P:   1 R:   1 T:  91  psnr: 2.23e+01 at lambda: 1.96e-02, rho: 1.02e-01\r",
      "P:   1 R:   0 T:  92  psnr: 2.23e+01 at lambda: 1.96e-02, rho: 1.02e-01\r",
      "P:   0 R:   1 T:  92  psnr: 2.23e+01 at lambda: 1.96e-02, rho: 1.02e-01\r"
     ]
    },
    {
     "name": "stdout",
     "output_type": "stream",
     "text": [
      "P:   1 R:   1 T:  92  psnr: 2.23e+01 at lambda: 1.96e-02, rho: 1.02e-01\r",
      "P:   1 R:   1 T:  92  psnr: 2.23e+01 at lambda: 1.96e-02, rho: 1.02e-01\r",
      "P:   1 R:   1 T:  92  psnr: 2.23e+01 at lambda: 1.96e-02, rho: 1.02e-01\r"
     ]
    },
    {
     "name": "stdout",
     "output_type": "stream",
     "text": [
      "P:   1 R:   1 T:  92  psnr: 2.23e+01 at lambda: 1.96e-02, rho: 1.02e-01\r",
      "P:   1 R:   1 T:  92  psnr: 2.23e+01 at lambda: 1.96e-02, rho: 1.02e-01\r"
     ]
    },
    {
     "name": "stdout",
     "output_type": "stream",
     "text": [
      "P:   1 R:   1 T:  92  psnr: 2.23e+01 at lambda: 1.96e-02, rho: 1.02e-01\r",
      "P:   1 R:   1 T:  92  psnr: 2.23e+01 at lambda: 1.96e-02, rho: 1.02e-01\r"
     ]
    },
    {
     "name": "stdout",
     "output_type": "stream",
     "text": [
      "P:   1 R:   1 T:  92  psnr: 2.23e+01 at lambda: 1.96e-02, rho: 1.02e-01\r",
      "P:   1 R:   0 T:  93  psnr: 2.23e+01 at lambda: 1.96e-02, rho: 1.02e-01\r",
      "P:   0 R:   1 T:  93  psnr: 2.23e+01 at lambda: 1.96e-02, rho: 1.02e-01\r",
      "P:   1 R:   1 T:  93  psnr: 2.23e+01 at lambda: 1.96e-02, rho: 1.02e-01\r"
     ]
    },
    {
     "name": "stdout",
     "output_type": "stream",
     "text": [
      "P:   1 R:   1 T:  93  psnr: 2.23e+01 at lambda: 1.96e-02, rho: 1.02e-01\r",
      "P:   1 R:   1 T:  93  psnr: 2.23e+01 at lambda: 1.96e-02, rho: 1.02e-01\r"
     ]
    },
    {
     "name": "stdout",
     "output_type": "stream",
     "text": [
      "P:   1 R:   1 T:  93  psnr: 2.23e+01 at lambda: 1.96e-02, rho: 1.02e-01\r",
      "P:   1 R:   1 T:  93  psnr: 2.23e+01 at lambda: 1.96e-02, rho: 1.02e-01\r",
      "P:   1 R:   1 T:  93  psnr: 2.23e+01 at lambda: 1.96e-02, rho: 1.02e-01\r"
     ]
    },
    {
     "name": "stdout",
     "output_type": "stream",
     "text": [
      "P:   1 R:   1 T:  93  psnr: 2.23e+01 at lambda: 1.96e-02, rho: 1.02e-01\r",
      "P:   1 R:   1 T:  93  psnr: 2.23e+01 at lambda: 1.96e-02, rho: 1.02e-01\r"
     ]
    },
    {
     "name": "stdout",
     "output_type": "stream",
     "text": [
      "P:   1 R:   1 T:  93  psnr: 2.23e+01 at lambda: 1.96e-02, rho: 1.02e-01\r",
      "P:   1 R:   1 T:  93  psnr: 2.23e+01 at lambda: 1.96e-02, rho: 1.02e-01\r",
      "P:   1 R:   1 T:  93  psnr: 2.23e+01 at lambda: 1.96e-02, rho: 1.02e-01\r"
     ]
    },
    {
     "name": "stdout",
     "output_type": "stream",
     "text": [
      "P:   1 R:   1 T:  93  psnr: 2.23e+01 at lambda: 1.96e-02, rho: 1.02e-01\r",
      "P:   1 R:   1 T:  93  psnr: 2.23e+01 at lambda: 1.96e-02, rho: 1.02e-01\r"
     ]
    },
    {
     "name": "stdout",
     "output_type": "stream",
     "text": [
      "P:   1 R:   1 T:  93  psnr: 2.23e+01 at lambda: 1.96e-02, rho: 1.02e-01\r",
      "P:   1 R:   1 T:  93  psnr: 2.23e+01 at lambda: 1.96e-02, rho: 1.02e-01\r",
      "P:   1 R:   1 T:  93  psnr: 2.23e+01 at lambda: 1.96e-02, rho: 1.02e-01\r"
     ]
    },
    {
     "name": "stdout",
     "output_type": "stream",
     "text": [
      "P:   1 R:   1 T:  93  psnr: 2.23e+01 at lambda: 1.96e-02, rho: 1.02e-01\r",
      "P:   1 R:   1 T:  93  psnr: 2.23e+01 at lambda: 1.96e-02, rho: 1.02e-01\r"
     ]
    },
    {
     "name": "stdout",
     "output_type": "stream",
     "text": [
      "P:   1 R:   1 T:  93  psnr: 2.23e+01 at lambda: 1.96e-02, rho: 1.02e-01\r",
      "P:   1 R:   1 T:  93  psnr: 2.23e+01 at lambda: 1.96e-02, rho: 1.02e-01\r",
      "P:   1 R:   1 T:  93  psnr: 2.23e+01 at lambda: 1.96e-02, rho: 1.02e-01\r"
     ]
    },
    {
     "name": "stdout",
     "output_type": "stream",
     "text": [
      "P:   1 R:   1 T:  93  psnr: 2.23e+01 at lambda: 1.96e-02, rho: 1.02e-01\r",
      "P:   1 R:   1 T:  93  psnr: 2.23e+01 at lambda: 1.96e-02, rho: 1.02e-01\r"
     ]
    },
    {
     "name": "stdout",
     "output_type": "stream",
     "text": [
      "P:   1 R:   1 T:  93  psnr: 2.23e+01 at lambda: 1.96e-02, rho: 1.02e-01\r",
      "P:   1 R:   0 T:  94  psnr: 2.23e+01 at lambda: 1.96e-02, rho: 1.02e-01\r",
      "P:   0 R:   1 T:  94  psnr: 2.23e+01 at lambda: 1.96e-02, rho: 1.02e-01\r"
     ]
    },
    {
     "name": "stdout",
     "output_type": "stream",
     "text": [
      "P:   1 R:   1 T:  94  psnr: 2.23e+01 at lambda: 1.96e-02, rho: 1.02e-01\r",
      "P:   1 R:   1 T:  94  psnr: 2.23e+01 at lambda: 1.96e-02, rho: 1.02e-01\r"
     ]
    },
    {
     "name": "stdout",
     "output_type": "stream",
     "text": [
      "P:   1 R:   1 T:  94  psnr: 2.23e+01 at lambda: 1.96e-02, rho: 1.02e-01\r",
      "P:   1 R:   1 T:  94  psnr: 2.23e+01 at lambda: 1.96e-02, rho: 1.02e-01\r"
     ]
    },
    {
     "name": "stdout",
     "output_type": "stream",
     "text": [
      "P:   1 R:   1 T:  94  psnr: 2.23e+01 at lambda: 1.96e-02, rho: 1.02e-01\r",
      "P:   1 R:   1 T:  94  psnr: 2.23e+01 at lambda: 1.96e-02, rho: 1.02e-01\r"
     ]
    },
    {
     "name": "stdout",
     "output_type": "stream",
     "text": [
      "P:   1 R:   1 T:  94  psnr: 2.23e+01 at lambda: 1.96e-02, rho: 1.02e-01\r",
      "P:   1 R:   1 T:  94  psnr: 2.23e+01 at lambda: 1.96e-02, rho: 1.02e-01\r",
      "P:   1 R:   0 T:  95  psnr: 2.23e+01 at lambda: 1.96e-02, rho: 1.02e-01\r",
      "P:   0 R:   1 T:  95  psnr: 2.23e+01 at lambda: 1.96e-02, rho: 1.02e-01\r"
     ]
    },
    {
     "name": "stdout",
     "output_type": "stream",
     "text": [
      "P:   1 R:   1 T:  95  psnr: 2.23e+01 at lambda: 1.96e-02, rho: 1.02e-01\r",
      "P:   1 R:   1 T:  95  psnr: 2.23e+01 at lambda: 1.96e-02, rho: 1.02e-01\r"
     ]
    },
    {
     "name": "stdout",
     "output_type": "stream",
     "text": [
      "P:   1 R:   1 T:  95  psnr: 2.23e+01 at lambda: 1.96e-02, rho: 1.02e-01\r",
      "P:   1 R:   1 T:  95  psnr: 2.23e+01 at lambda: 1.96e-02, rho: 1.02e-01\r"
     ]
    },
    {
     "name": "stdout",
     "output_type": "stream",
     "text": [
      "P:   1 R:   1 T:  95  psnr: 2.23e+01 at lambda: 1.96e-02, rho: 1.02e-01\r",
      "P:   1 R:   1 T:  95  psnr: 2.23e+01 at lambda: 1.96e-02, rho: 1.02e-01\r"
     ]
    },
    {
     "name": "stdout",
     "output_type": "stream",
     "text": [
      "P:   1 R:   1 T:  95  psnr: 2.23e+01 at lambda: 1.96e-02, rho: 1.02e-01\r",
      "P:   1 R:   1 T:  95  psnr: 2.23e+01 at lambda: 1.96e-02, rho: 1.02e-01\r",
      "P:   1 R:   1 T:  95  psnr: 2.23e+01 at lambda: 1.96e-02, rho: 1.02e-01\r"
     ]
    },
    {
     "name": "stdout",
     "output_type": "stream",
     "text": [
      "P:   1 R:   1 T:  95  psnr: 2.23e+01 at lambda: 1.96e-02, rho: 1.02e-01\r",
      "P:   1 R:   0 T:  96  psnr: 2.23e+01 at lambda: 1.96e-02, rho: 1.02e-01\r",
      "P:   0 R:   1 T:  96  psnr: 2.23e+01 at lambda: 1.96e-02, rho: 1.02e-01\r"
     ]
    },
    {
     "name": "stdout",
     "output_type": "stream",
     "text": [
      "P:   1 R:   1 T:  96  psnr: 2.23e+01 at lambda: 1.96e-02, rho: 1.02e-01\r",
      "P:   1 R:   1 T:  96  psnr: 2.23e+01 at lambda: 1.96e-02, rho: 1.02e-01\r"
     ]
    },
    {
     "name": "stdout",
     "output_type": "stream",
     "text": [
      "P:   1 R:   1 T:  96  psnr: 2.23e+01 at lambda: 1.96e-02, rho: 1.02e-01\r",
      "P:   1 R:   1 T:  96  psnr: 2.23e+01 at lambda: 1.96e-02, rho: 1.02e-01\r",
      "P:   1 R:   1 T:  96  psnr: 2.23e+01 at lambda: 1.96e-02, rho: 1.02e-01\r"
     ]
    },
    {
     "name": "stdout",
     "output_type": "stream",
     "text": [
      "P:   1 R:   1 T:  96  psnr: 2.23e+01 at lambda: 1.96e-02, rho: 1.02e-01\r",
      "P:   1 R:   1 T:  96  psnr: 2.23e+01 at lambda: 1.96e-02, rho: 1.02e-01\r"
     ]
    },
    {
     "name": "stdout",
     "output_type": "stream",
     "text": [
      "P:   1 R:   1 T:  96  psnr: 2.23e+01 at lambda: 1.96e-02, rho: 1.02e-01\r",
      "P:   1 R:   1 T:  96  psnr: 2.23e+01 at lambda: 1.96e-02, rho: 1.02e-01\r"
     ]
    },
    {
     "name": "stdout",
     "output_type": "stream",
     "text": [
      "P:   1 R:   1 T:  96  psnr: 2.23e+01 at lambda: 1.96e-02, rho: 1.02e-01\r",
      "P:   1 R:   1 T:  96  psnr: 2.23e+01 at lambda: 1.96e-02, rho: 1.02e-01\r",
      "P:   1 R:   0 T:  97  psnr: 2.23e+01 at lambda: 1.96e-02, rho: 1.02e-01\r"
     ]
    },
    {
     "name": "stdout",
     "output_type": "stream",
     "text": [
      "P:   0 R:   1 T:  97  psnr: 2.23e+01 at lambda: 1.96e-02, rho: 1.02e-01\r",
      "P:   1 R:   1 T:  97  psnr: 2.23e+01 at lambda: 1.96e-02, rho: 1.02e-01\r",
      "P:   1 R:   1 T:  97  psnr: 2.23e+01 at lambda: 1.96e-02, rho: 1.02e-01\r"
     ]
    },
    {
     "name": "stdout",
     "output_type": "stream",
     "text": [
      "P:   1 R:   1 T:  97  psnr: 2.23e+01 at lambda: 1.96e-02, rho: 1.02e-01\r",
      "P:   1 R:   1 T:  97  psnr: 2.23e+01 at lambda: 1.96e-02, rho: 1.02e-01\r"
     ]
    },
    {
     "name": "stdout",
     "output_type": "stream",
     "text": [
      "P:   1 R:   1 T:  97  psnr: 2.23e+01 at lambda: 1.96e-02, rho: 1.02e-01\r",
      "P:   1 R:   1 T:  97  psnr: 2.23e+01 at lambda: 1.96e-02, rho: 1.02e-01\r"
     ]
    },
    {
     "name": "stdout",
     "output_type": "stream",
     "text": [
      "P:   1 R:   1 T:  97  psnr: 2.23e+01 at lambda: 1.96e-02, rho: 1.02e-01\r",
      "P:   1 R:   1 T:  97  psnr: 2.23e+01 at lambda: 1.96e-02, rho: 1.02e-01\r"
     ]
    },
    {
     "name": "stdout",
     "output_type": "stream",
     "text": [
      "P:   1 R:   1 T:  97  psnr: 2.23e+01 at lambda: 1.96e-02, rho: 1.02e-01\r",
      "P:   1 R:   1 T:  97  psnr: 2.23e+01 at lambda: 1.96e-02, rho: 1.02e-01\r",
      "P:   1 R:   0 T:  98  psnr: 2.23e+01 at lambda: 1.96e-02, rho: 1.02e-01\r"
     ]
    },
    {
     "name": "stdout",
     "output_type": "stream",
     "text": [
      "P:   0 R:   1 T:  98  psnr: 2.23e+01 at lambda: 1.96e-02, rho: 1.02e-01\r",
      "P:   1 R:   1 T:  98  psnr: 2.23e+01 at lambda: 1.96e-02, rho: 1.02e-01\r"
     ]
    },
    {
     "name": "stdout",
     "output_type": "stream",
     "text": [
      "P:   1 R:   1 T:  98  psnr: 2.23e+01 at lambda: 1.96e-02, rho: 1.02e-01\r",
      "P:   1 R:   1 T:  98  psnr: 2.23e+01 at lambda: 1.96e-02, rho: 1.02e-01\r"
     ]
    },
    {
     "name": "stdout",
     "output_type": "stream",
     "text": [
      "P:   1 R:   1 T:  98  psnr: 2.23e+01 at lambda: 1.96e-02, rho: 1.02e-01\r",
      "P:   1 R:   1 T:  98  psnr: 2.23e+01 at lambda: 1.96e-02, rho: 1.02e-01\r"
     ]
    },
    {
     "name": "stdout",
     "output_type": "stream",
     "text": [
      "P:   1 R:   1 T:  98  psnr: 2.23e+01 at lambda: 1.96e-02, rho: 1.02e-01\r",
      "P:   1 R:   1 T:  98  psnr: 2.23e+01 at lambda: 1.96e-02, rho: 1.02e-01\r"
     ]
    },
    {
     "name": "stdout",
     "output_type": "stream",
     "text": [
      "P:   1 R:   1 T:  98  psnr: 2.23e+01 at lambda: 1.96e-02, rho: 1.02e-01\r",
      "P:   1 R:   0 T:  99  psnr: 2.23e+01 at lambda: 1.96e-02, rho: 1.02e-01\r",
      "P:   0 R:   1 T:  99  psnr: 2.23e+01 at lambda: 1.96e-02, rho: 1.02e-01\r",
      "P:   0 R:   1 T:  99  psnr: 2.23e+01 at lambda: 1.96e-02, rho: 1.02e-01\r"
     ]
    },
    {
     "name": "stdout",
     "output_type": "stream",
     "text": [
      "P:   0 R:   1 T:  99  psnr: 2.23e+01 at lambda: 1.96e-02, rho: 1.02e-01\r",
      "P:   0 R:   1 T:  99  psnr: 2.23e+01 at lambda: 1.96e-02, rho: 1.02e-01\r"
     ]
    },
    {
     "name": "stdout",
     "output_type": "stream",
     "text": [
      "P:   0 R:   1 T:  99  psnr: 2.23e+01 at lambda: 1.96e-02, rho: 1.02e-01\r",
      "P:   0 R:   1 T:  99  psnr: 2.23e+01 at lambda: 1.96e-02, rho: 1.02e-01\r"
     ]
    },
    {
     "name": "stdout",
     "output_type": "stream",
     "text": [
      "P:   0 R:   1 T:  99  psnr: 2.23e+01 at lambda: 1.96e-02, rho: 1.02e-01\r",
      "P:   0 R:   1 T:  99  psnr: 2.23e+01 at lambda: 1.96e-02, rho: 1.02e-01\r",
      "P:   0 R:   1 T:  99  psnr: 2.23e+01 at lambda: 1.96e-02, rho: 1.02e-01\r"
     ]
    },
    {
     "name": "stdout",
     "output_type": "stream",
     "text": [
      "P:   0 R:   1 T:  99  psnr: 2.23e+01 at lambda: 1.96e-02, rho: 1.02e-01\r",
      "P:   0 R:   1 T:  99  psnr: 2.23e+01 at lambda: 1.96e-02, rho: 1.02e-01\r",
      "P:   0 R:   0 T: 100  psnr: 2.23e+01 at lambda: 1.96e-02, rho: 1.02e-01\n"
     ]
    }
   ],
   "source": [
    "tuner = tune.Tuner(\n",
    "    tune.with_parameters(eval_params, x_gt=x_gt, psf=psf, y=y),\n",
    "    param_space=config,\n",
    "    resources=resources,\n",
    "    metric=\"psnr\",\n",
    "    mode=\"max\",\n",
    "    num_samples=100,  # perform 100 parameter evaluations\n",
    ")\n",
    "results = tuner.fit()\n",
    "ray.shutdown()"
   ]
  },
  {
   "cell_type": "markdown",
   "id": "08e3377a",
   "metadata": {},
   "source": [
    "Display best parameters and corresponding performance."
   ]
  },
  {
   "cell_type": "code",
   "execution_count": 7,
   "id": "688cc9d9",
   "metadata": {
    "collapsed": false,
    "execution": {
     "iopub.execute_input": "2024-06-06T02:19:12.700985Z",
     "iopub.status.busy": "2024-06-06T02:19:12.700577Z",
     "iopub.status.idle": "2024-06-06T02:19:12.711095Z",
     "shell.execute_reply": "2024-06-06T02:19:12.709506Z"
    }
   },
   "outputs": [
    {
     "name": "stdout",
     "output_type": "stream",
     "text": [
      "Best PSNR: 22.30 dB\n",
      "Best config: lambda: 1.96e-02, rho: 1.02e-01\n"
     ]
    }
   ],
   "source": [
    "best_result = results.get_best_result()\n",
    "best_config = best_result.config\n",
    "print(f\"Best PSNR: {best_result.metrics['psnr']:.2f} dB\")\n",
    "print(\"Best config: \" + \", \".join([f\"{k}: {v:.2e}\" for k, v in best_config.items()]))"
   ]
  },
  {
   "cell_type": "markdown",
   "id": "e7c7914e",
   "metadata": {},
   "source": [
    "Plot parameter values visited during parameter search. Marker sizes are\n",
    "proportional to number of iterations run at each parameter pair. The best\n",
    "point in the parameter space is indicated in red."
   ]
  },
  {
   "cell_type": "code",
   "execution_count": 8,
   "id": "abad030f",
   "metadata": {
    "collapsed": false,
    "execution": {
     "iopub.execute_input": "2024-06-06T02:19:12.719624Z",
     "iopub.status.busy": "2024-06-06T02:19:12.718078Z",
     "iopub.status.idle": "2024-06-06T02:19:13.689333Z",
     "shell.execute_reply": "2024-06-06T02:19:13.687843Z"
    }
   },
   "outputs": [
    {
     "data": {
      "image/png": "[encoded data removed]",
      "text/plain": [
       "<Figure size 800x800 with 1 Axes>"
      ]
     },
     "metadata": {},
     "output_type": "display_data"
    }
   ],
   "source": [
    "fig = plot.figure(figsize=(8, 8))\n",
    "trials = results.get_dataframe()\n",
    "for t in trials.iloc:\n",
    "    n = t[\"training_iteration\"]\n",
    "    plot.plot(\n",
    "        t[\"config/lambda\"],\n",
    "        t[\"config/rho\"],\n",
    "        ptyp=\"loglog\",\n",
    "        lw=0,\n",
    "        ms=(0.5 + 1.5 * n),\n",
    "        marker=\"o\",\n",
    "        mfc=\"blue\",\n",
    "        mec=\"blue\",\n",
    "        fig=fig,\n",
    "    )\n",
    "plot.plot(\n",
    "    best_config[\"lambda\"],\n",
    "    best_config[\"rho\"],\n",
    "    ptyp=\"loglog\",\n",
    "    title=\"Parameter search sampling locations\\n(marker size proportional to number of iterations)\",\n",
    "    xlbl=r\"$\\rho$\",\n",
    "    ylbl=r\"$\\lambda$\",\n",
    "    lw=0,\n",
    "    ms=5.0,\n",
    "    marker=\"o\",\n",
    "    mfc=\"red\",\n",
    "    mec=\"red\",\n",
    "    fig=fig,\n",
    ")\n",
    "ax = fig.axes[0]\n",
    "ax.set_xlim([config[\"rho\"].lower, config[\"rho\"].upper])\n",
    "ax.set_ylim([config[\"lambda\"].lower, config[\"lambda\"].upper])\n",
    "fig.show()"
   ]
  },
  {
   "cell_type": "markdown",
   "id": "7152667b",
   "metadata": {},
   "source": [
    "Plot parameter values visited during parameter search and corresponding\n",
    "reconstruction PSNRs.The best point in the parameter space is indicated\n",
    "in red."
   ]
  },
  {
   "cell_type": "code",
   "execution_count": 9,
   "id": "47397403",
   "metadata": {
    "collapsed": false,
    "execution": {
     "iopub.execute_input": "2024-06-06T02:19:13.694618Z",
     "iopub.status.busy": "2024-06-06T02:19:13.694439Z",
     "iopub.status.idle": "2024-06-06T02:19:14.146611Z",
     "shell.execute_reply": "2024-06-06T02:19:14.145570Z"
    }
   },
   "outputs": [
    {
     "data": {
      "image/png": "[encoded data removed]",
      "text/plain": [
       "<Figure size 1000x800 with 2 Axes>"
      ]
     },
     "metadata": {},
     "output_type": "display_data"
    }
   ],
   "source": [
    "𝜌 = [t[\"config/rho\"] for t in trials.iloc]\n",
    "𝜆 = [t[\"config/lambda\"] for t in trials.iloc]\n",
    "psnr = [t[\"psnr\"] for t in trials.iloc]\n",
    "minpsnr = min(max(psnr), 18.0)\n",
    "𝜌, 𝜆, psnr = zip(*filter(lambda x: x[2] >= minpsnr, zip(𝜌, 𝜆, psnr)))\n",
    "fig, ax = plot.subplots(figsize=(10, 8))\n",
    "sc = ax.scatter(𝜌, 𝜆, c=psnr, cmap=plot.cm.plasma_r)\n",
    "fig.colorbar(sc)\n",
    "plot.plot(\n",
    "    best_config[\"lambda\"],\n",
    "    best_config[\"rho\"],\n",
    "    ptyp=\"loglog\",\n",
    "    lw=0,\n",
    "    ms=12.0,\n",
    "    marker=\"2\",\n",
    "    mfc=\"red\",\n",
    "    mec=\"red\",\n",
    "    fig=fig,\n",
    "    ax=ax,\n",
    ")\n",
    "ax.set_xscale(\"log\")\n",
    "ax.set_yscale(\"log\")\n",
    "ax.set_xlabel(r\"$\\rho$\")\n",
    "ax.set_ylabel(r\"$\\lambda$\")\n",
    "ax.set_title(\"PSNR at each sample location\\n(values below 18 dB omitted)\")\n",
    "fig.show()"
   ]
  }
 ],
 "metadata": {
  "language_info": {
   "codemirror_mode": {
    "name": "ipython",
    "version": 3
   },
   "file_extension": ".py",
   "mimetype": "text/x-python",
   "name": "python",
   "nbconvert_exporter": "python",
   "pygments_lexer": "ipython3",
   "version": "3.10.13"
  }
 },
 "nbformat": 4,
 "nbformat_minor": 5
}
