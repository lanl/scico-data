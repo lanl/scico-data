{
 "cells": [
  {
   "cell_type": "markdown",
   "id": "4bce4aaa",
   "metadata": {},
   "source": [
    "Image Deconvolution Parameter Tuning\n",
    "====================================\n",
    "\n",
    "This example demonstrates the use of\n",
    "[scico.ray.tune](../_autosummary/scico.ray.tune.rst) to tune parameters\n",
    "for the companion [example script](deconv_tv_admm.rst)."
   ]
  },
  {
   "cell_type": "code",
   "execution_count": 1,
   "id": "23418325",
   "metadata": {
    "collapsed": false,
    "execution": {
     "iopub.execute_input": "2022-02-03T23:29:00.015840Z",
     "iopub.status.busy": "2022-02-03T23:29:00.015151Z",
     "iopub.status.idle": "2022-02-03T23:29:03.435963Z",
     "shell.execute_reply": "2022-02-03T23:29:03.434432Z"
    }
   },
   "outputs": [],
   "source": [
    "import numpy as np\n",
    "\n",
    "import jax\n",
    "\n",
    "from xdesign import SiemensStar, discrete_phantom\n",
    "\n",
    "import scico.numpy as snp\n",
    "import scico.random\n",
    "import scico.ray as ray\n",
    "from scico import functional, linop, loss, metric, plot\n",
    "from scico.optimize.admm import ADMM, LinearSubproblemSolver\n",
    "from scico.ray import tune\n",
    "plot.config_notebook_plotting()"
   ]
  },
  {
   "cell_type": "markdown",
   "id": "6db4c012",
   "metadata": {},
   "source": [
    "Create a ground truth image."
   ]
  },
  {
   "cell_type": "code",
   "execution_count": 2,
   "id": "ac436597",
   "metadata": {
    "collapsed": false,
    "execution": {
     "iopub.execute_input": "2022-02-03T23:29:03.444351Z",
     "iopub.status.busy": "2022-02-03T23:29:03.442991Z",
     "iopub.status.idle": "2022-02-03T23:29:03.857214Z",
     "shell.execute_reply": "2022-02-03T23:29:03.855983Z"
    }
   },
   "outputs": [],
   "source": [
    "phantom = SiemensStar(32)\n",
    "x_gt = snp.pad(discrete_phantom(phantom, 240), 8)"
   ]
  },
  {
   "cell_type": "markdown",
   "id": "f621c1f9",
   "metadata": {},
   "source": [
    "Set up the forward operator and create a test signal consisting of a\n",
    "blurred signal with additive Gaussian noise."
   ]
  },
  {
   "cell_type": "code",
   "execution_count": 3,
   "id": "1482c5c4",
   "metadata": {
    "collapsed": false,
    "execution": {
     "iopub.execute_input": "2022-02-03T23:29:03.865646Z",
     "iopub.status.busy": "2022-02-03T23:29:03.865090Z",
     "iopub.status.idle": "2022-02-03T23:29:04.610001Z",
     "shell.execute_reply": "2022-02-03T23:29:04.608758Z"
    }
   },
   "outputs": [],
   "source": [
    "n = 5  # convolution kernel size\n",
    "σ = 20.0 / 255  # noise level\n",
    "\n",
    "psf = snp.ones((n, n)) / (n * n)\n",
    "A = linop.Convolve(h=psf, input_shape=x_gt.shape)\n",
    "\n",
    "Ax = A(x_gt)  # blurred image\n",
    "noise, key = scico.random.randn(Ax.shape, seed=0)\n",
    "y = Ax + σ * noise"
   ]
  },
  {
   "cell_type": "markdown",
   "id": "f1548680",
   "metadata": {},
   "source": [
    "Put main arrays into ray object store."
   ]
  },
  {
   "cell_type": "code",
   "execution_count": 4,
   "id": "9f2a60cc",
   "metadata": {
    "collapsed": false,
    "execution": {
     "iopub.execute_input": "2022-02-03T23:29:04.615227Z",
     "iopub.status.busy": "2022-02-03T23:29:04.614539Z",
     "iopub.status.idle": "2022-02-03T23:29:07.895360Z",
     "shell.execute_reply": "2022-02-03T23:29:07.895731Z"
    }
   },
   "outputs": [],
   "source": [
    "ray_x_gt, ray_psf, ray_y = ray.put(np.array(x_gt)), ray.put(np.array(psf)), ray.put(np.array(y))"
   ]
  },
  {
   "cell_type": "markdown",
   "id": "c1b7331b",
   "metadata": {},
   "source": [
    "Define performance evaluation function."
   ]
  },
  {
   "cell_type": "code",
   "execution_count": 5,
   "id": "f9b71391",
   "metadata": {
    "collapsed": false,
    "execution": {
     "iopub.execute_input": "2022-02-03T23:29:07.904609Z",
     "iopub.status.busy": "2022-02-03T23:29:07.903893Z",
     "iopub.status.idle": "2022-02-03T23:29:07.906569Z",
     "shell.execute_reply": "2022-02-03T23:29:07.906004Z"
    }
   },
   "outputs": [],
   "source": [
    "def eval_params(config, reporter):\n",
    "    # Extract solver parameters from config dict.\n",
    "    λ, ρ = config[\"lambda\"], config[\"rho\"]\n",
    "    # Get main arrays from ray object store.\n",
    "    x_gt, psf, y = ray.get([ray_x_gt, ray_psf, ray_y])\n",
    "    # Put main arrays on jax device.\n",
    "    x_gt, psf, y = jax.device_put([x_gt, psf, y])\n",
    "    # Set up problem to be solved.\n",
    "    A = linop.Convolve(h=psf, input_shape=x_gt.shape)\n",
    "    f = loss.SquaredL2Loss(y=y, A=A)\n",
    "    g = λ * functional.L1Norm()\n",
    "    C = linop.FiniteDifference(input_shape=x_gt.shape)\n",
    "    # Define solver.\n",
    "    solver = ADMM(\n",
    "        f=f,\n",
    "        g_list=[g],\n",
    "        C_list=[C],\n",
    "        rho_list=[ρ],\n",
    "        x0=A.adj(y),\n",
    "        maxiter=10,\n",
    "        subproblem_solver=LinearSubproblemSolver(),\n",
    "    )\n",
    "    # Perform 50 iterations, reporting performance to ray.tune every 10 iterations.\n",
    "    for step in range(5):\n",
    "        x_admm = solver.solve()\n",
    "        reporter(psnr=float(metric.psnr(x_gt, x_admm)))"
   ]
  },
  {
   "cell_type": "markdown",
   "id": "7c4f4d3d",
   "metadata": {},
   "source": [
    "Define parameter search space and resources per trial."
   ]
  },
  {
   "cell_type": "code",
   "execution_count": 6,
   "id": "c224b440",
   "metadata": {
    "collapsed": false,
    "execution": {
     "iopub.execute_input": "2022-02-03T23:29:07.911611Z",
     "iopub.status.busy": "2022-02-03T23:29:07.910955Z",
     "iopub.status.idle": "2022-02-03T23:29:07.913806Z",
     "shell.execute_reply": "2022-02-03T23:29:07.913162Z"
    }
   },
   "outputs": [],
   "source": [
    "config = {\"lambda\": tune.loguniform(1e-2, 1e0), \"rho\": tune.loguniform(1e-1, 1e1)}\n",
    "resources = {\"cpu\": 4, \"gpu\": 0}  # cpus per trial, gpus per trial"
   ]
  },
  {
   "cell_type": "markdown",
   "id": "a4e0e475",
   "metadata": {},
   "source": [
    "Run parameter search."
   ]
  },
  {
   "cell_type": "code",
   "execution_count": 7,
   "id": "014b615e",
   "metadata": {
    "collapsed": false,
    "execution": {
     "iopub.execute_input": "2022-02-03T23:29:07.919398Z",
     "iopub.status.busy": "2022-02-03T23:29:07.918959Z",
     "iopub.status.idle": "2022-02-03T23:30:14.192902Z",
     "shell.execute_reply": "2022-02-03T23:30:14.191672Z"
    }
   },
   "outputs": [
    {
     "name": "stdout",
     "output_type": "stream",
     "text": [
      "P:   0 R:   1 T:   0 \r",
      "P:   1 R:   1 T:   0 \r"
     ]
    },
    {
     "name": "stdout",
     "output_type": "stream",
     "text": [
      "P:   0 R:   2 T:   0 \r",
      "P:   1 R:   2 T:   0 \r"
     ]
    },
    {
     "name": "stdout",
     "output_type": "stream",
     "text": [
      "P:   0 R:   3 T:   0 \r",
      "P:   1 R:   3 T:   0  psnr: 2.09e+01 at lambda: 6.36e-02, rho: 6.56e-01\r"
     ]
    },
    {
     "name": "stdout",
     "output_type": "stream",
     "text": [
      "P:   0 R:   4 T:   0  psnr: 2.09e+01 at lambda: 6.36e-02, rho: 6.56e-01\r",
      "P:   1 R:   4 T:   0  psnr: 2.15e+01 at lambda: 6.36e-02, rho: 6.56e-01\r"
     ]
    },
    {
     "name": "stdout",
     "output_type": "stream",
     "text": [
      "P:   0 R:   5 T:   0  psnr: 2.15e+01 at lambda: 6.36e-02, rho: 6.56e-01\r",
      "P:   1 R:   4 T:   1  psnr: 2.15e+01 at lambda: 6.36e-02, rho: 6.56e-01\r",
      "P:   0 R:   5 T:   1  psnr: 2.15e+01 at lambda: 6.36e-02, rho: 6.56e-01\r",
      "P:   1 R:   5 T:   1  psnr: 2.18e+01 at lambda: 6.36e-02, rho: 6.56e-01\r"
     ]
    },
    {
     "name": "stdout",
     "output_type": "stream",
     "text": [
      "P:   0 R:   6 T:   1  psnr: 2.18e+01 at lambda: 6.36e-02, rho: 6.56e-01\r",
      "P:   1 R:   6 T:   1  psnr: 2.20e+01 at lambda: 6.36e-02, rho: 6.56e-01\r",
      "P:   1 R:   6 T:   1  psnr: 2.23e+01 at lambda: 2.59e-02, rho: 1.50e-01\r",
      "P:   1 R:   5 T:   2  psnr: 2.23e+01 at lambda: 2.59e-02, rho: 1.50e-01\r",
      "P:   0 R:   6 T:   2  psnr: 2.23e+01 at lambda: 2.59e-02, rho: 1.50e-01\r"
     ]
    },
    {
     "name": "stdout",
     "output_type": "stream",
     "text": [
      "P:   0 R:   7 T:   2  psnr: 2.23e+01 at lambda: 2.59e-02, rho: 1.50e-01\r",
      "P:   1 R:   6 T:   3  psnr: 2.23e+01 at lambda: 2.59e-02, rho: 1.50e-01\r",
      "P:   0 R:   7 T:   3  psnr: 2.23e+01 at lambda: 2.59e-02, rho: 1.50e-01\r",
      "P:   1 R:   6 T:   4  psnr: 2.23e+01 at lambda: 2.59e-02, rho: 1.50e-01\r",
      "P:   0 R:   7 T:   4  psnr: 2.23e+01 at lambda: 2.59e-02, rho: 1.50e-01\r",
      "P:   1 R:   7 T:   4  psnr: 2.23e+01 at lambda: 2.59e-02, rho: 1.50e-01\r"
     ]
    },
    {
     "name": "stdout",
     "output_type": "stream",
     "text": [
      "P:   0 R:   8 T:   4  psnr: 2.23e+01 at lambda: 2.59e-02, rho: 1.50e-01\r",
      "P:   1 R:   7 T:   5  psnr: 2.23e+01 at lambda: 2.59e-02, rho: 1.50e-01\r",
      "P:   0 R:   8 T:   5  psnr: 2.23e+01 at lambda: 2.59e-02, rho: 1.50e-01\r",
      "P:   1 R:   8 T:   5  psnr: 2.24e+01 at lambda: 2.59e-02, rho: 1.50e-01\r"
     ]
    },
    {
     "name": "stdout",
     "output_type": "stream",
     "text": [
      "P:   0 R:   9 T:   5  psnr: 2.24e+01 at lambda: 2.59e-02, rho: 1.50e-01\r",
      "P:   1 R:   8 T:   6  psnr: 2.24e+01 at lambda: 2.59e-02, rho: 1.50e-01\r",
      "P:   0 R:   9 T:   6  psnr: 2.24e+01 at lambda: 2.59e-02, rho: 1.50e-01\r",
      "P:   1 R:   8 T:   7  psnr: 2.24e+01 at lambda: 2.59e-02, rho: 1.50e-01\r",
      "P:   0 R:   9 T:   7  psnr: 2.24e+01 at lambda: 2.59e-02, rho: 1.50e-01\r",
      "P:   1 R:   8 T:   8  psnr: 2.24e+01 at lambda: 2.59e-02, rho: 1.50e-01\r",
      "P:   0 R:   9 T:   8  psnr: 2.24e+01 at lambda: 2.59e-02, rho: 1.50e-01\r",
      "P:   1 R:   8 T:   9  psnr: 2.24e+01 at lambda: 2.59e-02, rho: 1.50e-01\r",
      "P:   0 R:   9 T:   9  psnr: 2.24e+01 at lambda: 2.59e-02, rho: 1.50e-01\r",
      "P:   1 R:   8 T:  10  psnr: 2.24e+01 at lambda: 2.59e-02, rho: 1.50e-01\r",
      "P:   0 R:   9 T:  10  psnr: 2.24e+01 at lambda: 2.59e-02, rho: 1.50e-01\r",
      "P:   1 R:   8 T:  11  psnr: 2.24e+01 at lambda: 2.59e-02, rho: 1.50e-01\r",
      "P:   0 R:   9 T:  11  psnr: 2.24e+01 at lambda: 2.59e-02, rho: 1.50e-01\r",
      "P:   1 R:   9 T:  11  psnr: 2.23e+01 at lambda: 2.59e-02, rho: 1.50e-01\r"
     ]
    },
    {
     "name": "stdout",
     "output_type": "stream",
     "text": [
      "P:   0 R:  10 T:  11  psnr: 2.23e+01 at lambda: 2.59e-02, rho: 1.50e-01\r",
      "P:   1 R:  10 T:  11  psnr: 2.21e+01 at lambda: 2.59e-02, rho: 1.50e-01\r"
     ]
    },
    {
     "name": "stdout",
     "output_type": "stream",
     "text": [
      "P:   0 R:  11 T:  11  psnr: 2.21e+01 at lambda: 2.59e-02, rho: 1.50e-01\r",
      "P:   1 R:  10 T:  12  psnr: 2.21e+01 at lambda: 2.59e-02, rho: 1.50e-01\r",
      "P:   0 R:  11 T:  12  psnr: 2.21e+01 at lambda: 2.59e-02, rho: 1.50e-01\r",
      "P:   1 R:  10 T:  13  psnr: 2.21e+01 at lambda: 2.59e-02, rho: 1.50e-01\r",
      "P:   0 R:  11 T:  13  psnr: 2.21e+01 at lambda: 2.59e-02, rho: 1.50e-01\r",
      "P:   1 R:  11 T:  13  psnr: 2.21e+01 at lambda: 2.59e-02, rho: 1.50e-01\r"
     ]
    },
    {
     "name": "stdout",
     "output_type": "stream",
     "text": [
      "P:   0 R:  12 T:  13  psnr: 2.21e+01 at lambda: 2.59e-02, rho: 1.50e-01\r",
      "P:   1 R:  11 T:  14  psnr: 2.21e+01 at lambda: 2.59e-02, rho: 1.50e-01\r",
      "P:   0 R:  12 T:  14  psnr: 2.21e+01 at lambda: 2.59e-02, rho: 1.50e-01\r",
      "P:   1 R:  12 T:  14  psnr: 2.20e+01 at lambda: 2.59e-02, rho: 1.50e-01\r"
     ]
    },
    {
     "name": "stdout",
     "output_type": "stream",
     "text": [
      "P:   0 R:  13 T:  14  psnr: 2.20e+01 at lambda: 2.59e-02, rho: 1.50e-01\r",
      "P:   1 R:  12 T:  15  psnr: 2.20e+01 at lambda: 2.59e-02, rho: 1.50e-01\r",
      "P:   0 R:  13 T:  15  psnr: 2.20e+01 at lambda: 2.59e-02, rho: 1.50e-01\r",
      "P:   1 R:  12 T:  16  psnr: 2.20e+01 at lambda: 2.59e-02, rho: 1.50e-01\r",
      "P:   0 R:  13 T:  16  psnr: 2.20e+01 at lambda: 2.59e-02, rho: 1.50e-01\r",
      "P:   1 R:  12 T:  17  psnr: 2.20e+01 at lambda: 2.59e-02, rho: 1.50e-01\r",
      "P:   0 R:  13 T:  17  psnr: 2.20e+01 at lambda: 2.59e-02, rho: 1.50e-01\r",
      "P:   1 R:  13 T:  17  psnr: 2.20e+01 at lambda: 2.59e-02, rho: 1.50e-01\r"
     ]
    },
    {
     "name": "stdout",
     "output_type": "stream",
     "text": [
      "P:   0 R:  14 T:  17  psnr: 2.20e+01 at lambda: 2.59e-02, rho: 1.50e-01\r",
      "P:   1 R:  14 T:  17  psnr: 2.20e+01 at lambda: 2.59e-02, rho: 1.50e-01\r",
      "P:   1 R:  14 T:  17  psnr: 2.20e+01 at lambda: 2.59e-02, rho: 1.50e-01\r",
      "P:   1 R:  14 T:  17  psnr: 2.20e+01 at lambda: 2.59e-02, rho: 1.50e-01\r",
      "P:   1 R:  14 T:  17  psnr: 2.20e+01 at lambda: 2.59e-02, rho: 1.50e-01\r",
      "P:   1 R:  14 T:  17  psnr: 2.23e+01 at lambda: 1.76e-02, rho: 2.27e-01\r",
      "P:   1 R:  13 T:  18  psnr: 2.23e+01 at lambda: 1.76e-02, rho: 2.27e-01\r",
      "P:   0 R:  14 T:  18  psnr: 2.23e+01 at lambda: 1.76e-02, rho: 2.27e-01\r",
      "P:   1 R:  13 T:  19  psnr: 2.23e+01 at lambda: 1.76e-02, rho: 2.27e-01\r",
      "P:   0 R:  14 T:  19  psnr: 2.23e+01 at lambda: 1.76e-02, rho: 2.27e-01\r",
      "P:   1 R:  13 T:  20  psnr: 2.23e+01 at lambda: 1.76e-02, rho: 2.27e-01\r",
      "P:   0 R:  14 T:  20  psnr: 2.23e+01 at lambda: 1.76e-02, rho: 2.27e-01\r"
     ]
    },
    {
     "name": "stdout",
     "output_type": "stream",
     "text": [
      "P:   0 R:  15 T:  20  psnr: 2.23e+01 at lambda: 1.76e-02, rho: 2.27e-01\r",
      "P:   1 R:  15 T:  20  psnr: 2.23e+01 at lambda: 1.76e-02, rho: 2.27e-01\r"
     ]
    },
    {
     "name": "stdout",
     "output_type": "stream",
     "text": [
      "P:   0 R:  16 T:  20  psnr: 2.23e+01 at lambda: 1.76e-02, rho: 2.27e-01\r",
      "P:   1 R:  16 T:  20  psnr: 2.23e+01 at lambda: 1.76e-02, rho: 2.27e-01\r"
     ]
    },
    {
     "name": "stdout",
     "output_type": "stream",
     "text": [
      "P:   0 R:  17 T:  20  psnr: 2.23e+01 at lambda: 1.76e-02, rho: 2.27e-01\r",
      "P:   1 R:  16 T:  21  psnr: 2.23e+01 at lambda: 1.76e-02, rho: 2.27e-01\r",
      "P:   0 R:  17 T:  21  psnr: 2.23e+01 at lambda: 1.76e-02, rho: 2.27e-01\r",
      "P:   1 R:  17 T:  21  psnr: 2.23e+01 at lambda: 1.76e-02, rho: 2.27e-01\r"
     ]
    },
    {
     "name": "stdout",
     "output_type": "stream",
     "text": [
      "P:   0 R:  18 T:  21  psnr: 2.23e+01 at lambda: 1.76e-02, rho: 2.27e-01\r",
      "P:   1 R:  18 T:  21  psnr: 2.23e+01 at lambda: 1.76e-02, rho: 2.27e-01\r"
     ]
    },
    {
     "name": "stdout",
     "output_type": "stream",
     "text": [
      "P:   0 R:  19 T:  21  psnr: 2.23e+01 at lambda: 1.76e-02, rho: 2.27e-01\r",
      "P:   1 R:  18 T:  22  psnr: 2.23e+01 at lambda: 1.76e-02, rho: 2.27e-01\r",
      "P:   0 R:  19 T:  22  psnr: 2.23e+01 at lambda: 1.76e-02, rho: 2.27e-01\r",
      "P:   1 R:  19 T:  22  psnr: 2.23e+01 at lambda: 4.28e-02, rho: 1.64e-01\r"
     ]
    },
    {
     "name": "stdout",
     "output_type": "stream",
     "text": [
      "P:   0 R:  20 T:  22  psnr: 2.23e+01 at lambda: 4.28e-02, rho: 1.64e-01\r",
      "P:   1 R:  20 T:  22  psnr: 2.23e+01 at lambda: 4.28e-02, rho: 1.64e-01\r",
      "P:   1 R:  20 T:  22  psnr: 2.23e+01 at lambda: 4.28e-02, rho: 1.64e-01\r",
      "P:   1 R:  19 T:  23  psnr: 2.23e+01 at lambda: 4.28e-02, rho: 1.64e-01\r",
      "P:   0 R:  20 T:  23  psnr: 2.23e+01 at lambda: 4.28e-02, rho: 1.64e-01\r",
      "P:   1 R:  19 T:  24  psnr: 2.23e+01 at lambda: 4.28e-02, rho: 1.64e-01\r",
      "P:   0 R:  20 T:  24  psnr: 2.23e+01 at lambda: 4.28e-02, rho: 1.64e-01\r",
      "P:   1 R:  20 T:  24  psnr: 2.24e+01 at lambda: 2.10e-02, rho: 3.60e-01\r",
      "P:   1 R:  19 T:  25  psnr: 2.24e+01 at lambda: 2.10e-02, rho: 3.60e-01\r",
      "P:   0 R:  20 T:  25  psnr: 2.24e+01 at lambda: 2.10e-02, rho: 3.60e-01\r",
      "P:   1 R:  19 T:  26  psnr: 2.24e+01 at lambda: 2.10e-02, rho: 3.60e-01\r",
      "P:   0 R:  20 T:  26  psnr: 2.24e+01 at lambda: 2.10e-02, rho: 3.60e-01\r",
      "P:   1 R:  20 T:  26  psnr: 2.24e+01 at lambda: 2.10e-02, rho: 3.60e-01\r"
     ]
    },
    {
     "name": "stdout",
     "output_type": "stream",
     "text": [
      "P:   1 R:  20 T:  26  psnr: 2.24e+01 at lambda: 2.10e-02, rho: 3.60e-01\r",
      "P:   1 R:  19 T:  27  psnr: 2.24e+01 at lambda: 2.10e-02, rho: 3.60e-01\r",
      "P:   0 R:  20 T:  27  psnr: 2.24e+01 at lambda: 2.10e-02, rho: 3.60e-01\r",
      "P:   1 R:  20 T:  27  psnr: 2.24e+01 at lambda: 2.10e-02, rho: 3.60e-01\r",
      "P:   1 R:  19 T:  28  psnr: 2.24e+01 at lambda: 2.10e-02, rho: 3.60e-01\r",
      "P:   0 R:  20 T:  28  psnr: 2.24e+01 at lambda: 2.10e-02, rho: 3.60e-01\r",
      "P:   1 R:  19 T:  29  psnr: 2.24e+01 at lambda: 2.10e-02, rho: 3.60e-01\r",
      "P:   0 R:  20 T:  29  psnr: 2.24e+01 at lambda: 2.10e-02, rho: 3.60e-01\r",
      "P:   1 R:  19 T:  30  psnr: 2.24e+01 at lambda: 2.10e-02, rho: 3.60e-01\r",
      "P:   0 R:  20 T:  30  psnr: 2.24e+01 at lambda: 2.10e-02, rho: 3.60e-01\r",
      "P:   1 R:  20 T:  30  psnr: 2.24e+01 at lambda: 2.10e-02, rho: 3.60e-01\r",
      "P:   1 R:  20 T:  30  psnr: 2.24e+01 at lambda: 2.10e-02, rho: 3.60e-01\r"
     ]
    },
    {
     "name": "stdout",
     "output_type": "stream",
     "text": [
      "P:   1 R:  19 T:  31  psnr: 2.24e+01 at lambda: 2.10e-02, rho: 3.60e-01\r",
      "P:   0 R:  20 T:  31  psnr: 2.24e+01 at lambda: 2.10e-02, rho: 3.60e-01\r",
      "P:   1 R:  19 T:  32  psnr: 2.24e+01 at lambda: 2.10e-02, rho: 3.60e-01\r",
      "P:   0 R:  20 T:  32  psnr: 2.24e+01 at lambda: 2.10e-02, rho: 3.60e-01\r",
      "P:   1 R:  20 T:  32  psnr: 2.24e+01 at lambda: 2.10e-02, rho: 3.60e-01\r"
     ]
    },
    {
     "name": "stdout",
     "output_type": "stream",
     "text": [
      "P:   1 R:  20 T:  32  psnr: 2.24e+01 at lambda: 2.10e-02, rho: 3.60e-01\r",
      "P:   1 R:  20 T:  32  psnr: 2.24e+01 at lambda: 2.10e-02, rho: 3.60e-01\r"
     ]
    },
    {
     "name": "stdout",
     "output_type": "stream",
     "text": [
      "P:   1 R:  20 T:  32  psnr: 2.24e+01 at lambda: 2.10e-02, rho: 3.60e-01\r",
      "P:   1 R:  20 T:  32  psnr: 2.24e+01 at lambda: 2.10e-02, rho: 3.60e-01\r"
     ]
    },
    {
     "name": "stdout",
     "output_type": "stream",
     "text": [
      "P:   1 R:  20 T:  32  psnr: 2.24e+01 at lambda: 2.10e-02, rho: 3.60e-01\r",
      "P:   1 R:  19 T:  33  psnr: 2.24e+01 at lambda: 2.10e-02, rho: 3.60e-01\r",
      "P:   0 R:  20 T:  33  psnr: 2.24e+01 at lambda: 2.10e-02, rho: 3.60e-01\r",
      "P:   1 R:  20 T:  33  psnr: 2.24e+01 at lambda: 2.10e-02, rho: 3.60e-01\r"
     ]
    },
    {
     "name": "stdout",
     "output_type": "stream",
     "text": [
      "P:   1 R:  19 T:  34  psnr: 2.24e+01 at lambda: 2.10e-02, rho: 3.60e-01\r",
      "P:   0 R:  20 T:  34  psnr: 2.24e+01 at lambda: 2.10e-02, rho: 3.60e-01\r",
      "P:   1 R:  20 T:  34  psnr: 2.24e+01 at lambda: 2.10e-02, rho: 3.60e-01\r"
     ]
    },
    {
     "name": "stdout",
     "output_type": "stream",
     "text": [
      "P:   1 R:  20 T:  34  psnr: 2.24e+01 at lambda: 2.10e-02, rho: 3.60e-01\r",
      "P:   1 R:  20 T:  34  psnr: 2.24e+01 at lambda: 2.10e-02, rho: 3.60e-01\r",
      "P:   1 R:  20 T:  34  psnr: 2.24e+01 at lambda: 2.10e-02, rho: 3.60e-01\r",
      "P:   1 R:  20 T:  34  psnr: 2.24e+01 at lambda: 2.10e-02, rho: 3.60e-01\r"
     ]
    },
    {
     "name": "stdout",
     "output_type": "stream",
     "text": [
      "P:   1 R:  19 T:  35  psnr: 2.24e+01 at lambda: 2.10e-02, rho: 3.60e-01\r",
      "P:   0 R:  20 T:  35  psnr: 2.24e+01 at lambda: 2.10e-02, rho: 3.60e-01\r",
      "P:   1 R:  20 T:  35  psnr: 2.24e+01 at lambda: 2.10e-02, rho: 3.60e-01\r"
     ]
    },
    {
     "name": "stdout",
     "output_type": "stream",
     "text": [
      "P:   1 R:  20 T:  35  psnr: 2.24e+01 at lambda: 2.10e-02, rho: 3.60e-01\r",
      "P:   1 R:  20 T:  35  psnr: 2.24e+01 at lambda: 2.20e-02, rho: 2.36e-01\r"
     ]
    },
    {
     "name": "stdout",
     "output_type": "stream",
     "text": [
      "P:   1 R:  20 T:  35  psnr: 2.24e+01 at lambda: 2.20e-02, rho: 2.36e-01\r",
      "P:   1 R:  20 T:  35  psnr: 2.24e+01 at lambda: 2.20e-02, rho: 2.36e-01\r",
      "P:   1 R:  19 T:  36  psnr: 2.24e+01 at lambda: 2.20e-02, rho: 2.36e-01\r",
      "P:   0 R:  20 T:  36  psnr: 2.24e+01 at lambda: 2.20e-02, rho: 2.36e-01\r"
     ]
    },
    {
     "name": "stdout",
     "output_type": "stream",
     "text": [
      "P:   1 R:  20 T:  36  psnr: 2.24e+01 at lambda: 2.20e-02, rho: 2.36e-01\r",
      "P:   1 R:  20 T:  36  psnr: 2.24e+01 at lambda: 2.20e-02, rho: 2.36e-01\r"
     ]
    },
    {
     "name": "stdout",
     "output_type": "stream",
     "text": [
      "P:   1 R:  20 T:  36  psnr: 2.24e+01 at lambda: 2.20e-02, rho: 2.36e-01\r",
      "P:   1 R:  20 T:  36  psnr: 2.24e+01 at lambda: 2.20e-02, rho: 2.36e-01\r",
      "P:   1 R:  19 T:  37  psnr: 2.24e+01 at lambda: 2.20e-02, rho: 2.36e-01\r",
      "P:   0 R:  20 T:  37  psnr: 2.24e+01 at lambda: 2.20e-02, rho: 2.36e-01\r"
     ]
    },
    {
     "name": "stdout",
     "output_type": "stream",
     "text": [
      "P:   1 R:  20 T:  37  psnr: 2.24e+01 at lambda: 2.20e-02, rho: 2.36e-01\r",
      "P:   1 R:  19 T:  38  psnr: 2.24e+01 at lambda: 2.20e-02, rho: 2.36e-01\r",
      "P:   0 R:  20 T:  38  psnr: 2.24e+01 at lambda: 2.20e-02, rho: 2.36e-01\r",
      "P:   1 R:  20 T:  38  psnr: 2.24e+01 at lambda: 2.20e-02, rho: 2.36e-01\r"
     ]
    },
    {
     "name": "stdout",
     "output_type": "stream",
     "text": [
      "P:   1 R:  20 T:  38  psnr: 2.24e+01 at lambda: 2.20e-02, rho: 2.36e-01\r",
      "P:   1 R:  20 T:  38  psnr: 2.24e+01 at lambda: 2.20e-02, rho: 2.36e-01\r",
      "P:   1 R:  20 T:  38  psnr: 2.24e+01 at lambda: 2.20e-02, rho: 2.36e-01\r",
      "P:   1 R:  20 T:  38  psnr: 2.24e+01 at lambda: 2.20e-02, rho: 2.36e-01\r"
     ]
    },
    {
     "name": "stdout",
     "output_type": "stream",
     "text": [
      "P:   1 R:  20 T:  38  psnr: 2.24e+01 at lambda: 2.20e-02, rho: 2.36e-01\r",
      "P:   1 R:  20 T:  38  psnr: 2.24e+01 at lambda: 2.10e-02, rho: 3.60e-01\r",
      "P:   1 R:  20 T:  38  psnr: 2.24e+01 at lambda: 2.10e-02, rho: 3.60e-01\r"
     ]
    },
    {
     "name": "stdout",
     "output_type": "stream",
     "text": [
      "P:   1 R:  20 T:  38  psnr: 2.24e+01 at lambda: 2.10e-02, rho: 3.60e-01\r",
      "P:   1 R:  20 T:  38  psnr: 2.24e+01 at lambda: 2.10e-02, rho: 3.60e-01\r",
      "P:   1 R:  19 T:  39  psnr: 2.24e+01 at lambda: 2.10e-02, rho: 3.60e-01\r",
      "P:   0 R:  20 T:  39  psnr: 2.24e+01 at lambda: 2.10e-02, rho: 3.60e-01\r"
     ]
    },
    {
     "name": "stdout",
     "output_type": "stream",
     "text": [
      "P:   1 R:  19 T:  40  psnr: 2.24e+01 at lambda: 2.10e-02, rho: 3.60e-01\r",
      "P:   0 R:  20 T:  40  psnr: 2.24e+01 at lambda: 2.10e-02, rho: 3.60e-01\r",
      "P:   1 R:  20 T:  40  psnr: 2.24e+01 at lambda: 2.10e-02, rho: 3.60e-01\r"
     ]
    },
    {
     "name": "stdout",
     "output_type": "stream",
     "text": [
      "P:   1 R:  20 T:  40  psnr: 2.24e+01 at lambda: 2.10e-02, rho: 3.60e-01\r",
      "P:   1 R:  20 T:  40  psnr: 2.24e+01 at lambda: 2.10e-02, rho: 3.60e-01\r"
     ]
    },
    {
     "name": "stdout",
     "output_type": "stream",
     "text": [
      "P:   1 R:  20 T:  40  psnr: 2.24e+01 at lambda: 2.10e-02, rho: 3.60e-01\r",
      "P:   1 R:  20 T:  40  psnr: 2.24e+01 at lambda: 2.10e-02, rho: 3.60e-01\r",
      "P:   1 R:  19 T:  41  psnr: 2.24e+01 at lambda: 2.10e-02, rho: 3.60e-01\r",
      "P:   0 R:  20 T:  41  psnr: 2.24e+01 at lambda: 2.10e-02, rho: 3.60e-01\r"
     ]
    },
    {
     "name": "stdout",
     "output_type": "stream",
     "text": [
      "P:   1 R:  19 T:  42  psnr: 2.24e+01 at lambda: 2.10e-02, rho: 3.60e-01\r",
      "P:   0 R:  20 T:  42  psnr: 2.24e+01 at lambda: 2.10e-02, rho: 3.60e-01\r",
      "P:   1 R:  20 T:  42  psnr: 2.24e+01 at lambda: 2.10e-02, rho: 3.60e-01\r",
      "P:   1 R:  20 T:  42  psnr: 2.24e+01 at lambda: 2.10e-02, rho: 3.60e-01\r"
     ]
    },
    {
     "name": "stdout",
     "output_type": "stream",
     "text": [
      "P:   1 R:  20 T:  42  psnr: 2.24e+01 at lambda: 2.10e-02, rho: 3.60e-01\r",
      "P:   1 R:  19 T:  43  psnr: 2.24e+01 at lambda: 2.10e-02, rho: 3.60e-01\r",
      "P:   0 R:  20 T:  43  psnr: 2.24e+01 at lambda: 2.10e-02, rho: 3.60e-01\r",
      "P:   1 R:  19 T:  44  psnr: 2.24e+01 at lambda: 2.10e-02, rho: 3.60e-01\r",
      "P:   0 R:  20 T:  44  psnr: 2.24e+01 at lambda: 2.10e-02, rho: 3.60e-01\r"
     ]
    },
    {
     "name": "stdout",
     "output_type": "stream",
     "text": [
      "P:   1 R:  20 T:  44  psnr: 2.24e+01 at lambda: 2.10e-02, rho: 3.60e-01\r",
      "P:   1 R:  19 T:  45  psnr: 2.24e+01 at lambda: 2.10e-02, rho: 3.60e-01\r",
      "P:   0 R:  20 T:  45  psnr: 2.24e+01 at lambda: 2.10e-02, rho: 3.60e-01\r",
      "P:   1 R:  20 T:  45  psnr: 2.24e+01 at lambda: 2.10e-02, rho: 3.60e-01\r",
      "P:   1 R:  20 T:  45  psnr: 2.24e+01 at lambda: 2.10e-02, rho: 3.60e-01\r",
      "P:   1 R:  20 T:  45  psnr: 2.24e+01 at lambda: 2.10e-02, rho: 3.60e-01\r"
     ]
    },
    {
     "name": "stdout",
     "output_type": "stream",
     "text": [
      "P:   1 R:  20 T:  45  psnr: 2.24e+01 at lambda: 2.10e-02, rho: 3.60e-01\r",
      "P:   1 R:  20 T:  45  psnr: 2.24e+01 at lambda: 2.10e-02, rho: 3.60e-01\r",
      "P:   1 R:  19 T:  46  psnr: 2.24e+01 at lambda: 2.10e-02, rho: 3.60e-01\r",
      "P:   0 R:  20 T:  46  psnr: 2.24e+01 at lambda: 2.10e-02, rho: 3.60e-01\r",
      "P:   1 R:  20 T:  46  psnr: 2.24e+01 at lambda: 2.10e-02, rho: 3.60e-01\r",
      "P:   1 R:  20 T:  46  psnr: 2.24e+01 at lambda: 2.10e-02, rho: 3.60e-01\r"
     ]
    },
    {
     "name": "stdout",
     "output_type": "stream",
     "text": [
      "P:   1 R:  20 T:  46  psnr: 2.24e+01 at lambda: 2.10e-02, rho: 3.60e-01\r",
      "P:   1 R:  19 T:  47  psnr: 2.24e+01 at lambda: 2.10e-02, rho: 3.60e-01\r",
      "P:   0 R:  20 T:  47  psnr: 2.24e+01 at lambda: 2.10e-02, rho: 3.60e-01\r"
     ]
    },
    {
     "name": "stdout",
     "output_type": "stream",
     "text": [
      "P:   1 R:  20 T:  47  psnr: 2.24e+01 at lambda: 2.10e-02, rho: 3.60e-01\r",
      "P:   1 R:  20 T:  47  psnr: 2.24e+01 at lambda: 2.10e-02, rho: 3.60e-01\r",
      "P:   1 R:  19 T:  48  psnr: 2.24e+01 at lambda: 2.10e-02, rho: 3.60e-01\r",
      "P:   0 R:  20 T:  48  psnr: 2.24e+01 at lambda: 2.10e-02, rho: 3.60e-01\r",
      "P:   1 R:  20 T:  48  psnr: 2.24e+01 at lambda: 2.10e-02, rho: 3.60e-01\r"
     ]
    },
    {
     "name": "stdout",
     "output_type": "stream",
     "text": [
      "P:   1 R:  20 T:  48  psnr: 2.24e+01 at lambda: 2.10e-02, rho: 3.60e-01\r",
      "P:   1 R:  20 T:  48  psnr: 2.24e+01 at lambda: 2.10e-02, rho: 3.60e-01\r"
     ]
    },
    {
     "name": "stdout",
     "output_type": "stream",
     "text": [
      "P:   1 R:  20 T:  48  psnr: 2.24e+01 at lambda: 2.10e-02, rho: 3.60e-01\r",
      "P:   1 R:  20 T:  48  psnr: 2.24e+01 at lambda: 2.10e-02, rho: 3.60e-01\r",
      "P:   1 R:  20 T:  48  psnr: 2.24e+01 at lambda: 2.10e-02, rho: 3.60e-01\r",
      "P:   1 R:  20 T:  48  psnr: 2.24e+01 at lambda: 2.10e-02, rho: 3.60e-01\r"
     ]
    },
    {
     "name": "stdout",
     "output_type": "stream",
     "text": [
      "P:   1 R:  20 T:  48  psnr: 2.24e+01 at lambda: 3.23e-02, rho: 5.41e-01\r",
      "P:   1 R:  19 T:  49  psnr: 2.24e+01 at lambda: 3.23e-02, rho: 5.41e-01\r",
      "P:   0 R:  20 T:  49  psnr: 2.24e+01 at lambda: 3.23e-02, rho: 5.41e-01\r",
      "P:   1 R:  19 T:  50  psnr: 2.24e+01 at lambda: 3.23e-02, rho: 5.41e-01\r",
      "P:   0 R:  20 T:  50  psnr: 2.24e+01 at lambda: 3.23e-02, rho: 5.41e-01\r",
      "P:   1 R:  20 T:  50  psnr: 2.24e+01 at lambda: 3.23e-02, rho: 5.41e-01\r"
     ]
    },
    {
     "name": "stdout",
     "output_type": "stream",
     "text": [
      "P:   1 R:  20 T:  50  psnr: 2.24e+01 at lambda: 3.23e-02, rho: 5.41e-01\r",
      "P:   1 R:  20 T:  50  psnr: 2.24e+01 at lambda: 3.23e-02, rho: 5.41e-01\r",
      "P:   1 R:  20 T:  50  psnr: 2.24e+01 at lambda: 3.23e-02, rho: 5.41e-01\r",
      "P:   1 R:  20 T:  50  psnr: 2.24e+01 at lambda: 3.23e-02, rho: 5.41e-01\r"
     ]
    },
    {
     "name": "stdout",
     "output_type": "stream",
     "text": [
      "P:   1 R:  20 T:  50  psnr: 2.24e+01 at lambda: 3.23e-02, rho: 5.41e-01\r",
      "P:   1 R:  20 T:  50  psnr: 2.24e+01 at lambda: 3.23e-02, rho: 5.41e-01\r",
      "P:   1 R:  19 T:  51  psnr: 2.24e+01 at lambda: 3.23e-02, rho: 5.41e-01\r",
      "P:   0 R:  20 T:  51  psnr: 2.24e+01 at lambda: 3.23e-02, rho: 5.41e-01\r",
      "P:   1 R:  19 T:  52  psnr: 2.24e+01 at lambda: 3.23e-02, rho: 5.41e-01\r",
      "P:   0 R:  20 T:  52  psnr: 2.24e+01 at lambda: 3.23e-02, rho: 5.41e-01\r",
      "P:   1 R:  19 T:  53  psnr: 2.24e+01 at lambda: 3.23e-02, rho: 5.41e-01\r"
     ]
    },
    {
     "name": "stdout",
     "output_type": "stream",
     "text": [
      "P:   0 R:  20 T:  53  psnr: 2.24e+01 at lambda: 3.23e-02, rho: 5.41e-01\r",
      "P:   1 R:  19 T:  54  psnr: 2.24e+01 at lambda: 3.23e-02, rho: 5.41e-01\r",
      "P:   0 R:  20 T:  54  psnr: 2.24e+01 at lambda: 3.23e-02, rho: 5.41e-01\r",
      "P:   1 R:  20 T:  54  psnr: 2.24e+01 at lambda: 3.23e-02, rho: 5.41e-01\r"
     ]
    },
    {
     "name": "stdout",
     "output_type": "stream",
     "text": [
      "P:   1 R:  20 T:  54  psnr: 2.25e+01 at lambda: 2.97e-02, rho: 1.06e-01\r",
      "P:   1 R:  20 T:  54  psnr: 2.25e+01 at lambda: 2.97e-02, rho: 1.06e-01\r"
     ]
    },
    {
     "name": "stdout",
     "output_type": "stream",
     "text": [
      "P:   1 R:  19 T:  55  psnr: 2.25e+01 at lambda: 2.97e-02, rho: 1.06e-01\r",
      "P:   0 R:  20 T:  55  psnr: 2.25e+01 at lambda: 2.97e-02, rho: 1.06e-01\r",
      "P:   1 R:  20 T:  55  psnr: 2.25e+01 at lambda: 2.97e-02, rho: 1.06e-01\r",
      "P:   1 R:  20 T:  55  psnr: 2.25e+01 at lambda: 2.97e-02, rho: 1.06e-01\r"
     ]
    },
    {
     "name": "stdout",
     "output_type": "stream",
     "text": [
      "P:   1 R:  20 T:  55  psnr: 2.25e+01 at lambda: 2.97e-02, rho: 1.06e-01\r",
      "P:   1 R:  20 T:  55  psnr: 2.25e+01 at lambda: 2.97e-02, rho: 1.06e-01\r",
      "P:   1 R:  19 T:  56  psnr: 2.25e+01 at lambda: 2.97e-02, rho: 1.06e-01\r",
      "P:   0 R:  20 T:  56  psnr: 2.25e+01 at lambda: 2.97e-02, rho: 1.06e-01\r",
      "P:   1 R:  20 T:  56  psnr: 2.25e+01 at lambda: 2.97e-02, rho: 1.06e-01\r"
     ]
    },
    {
     "name": "stdout",
     "output_type": "stream",
     "text": [
      "P:   1 R:  19 T:  57  psnr: 2.25e+01 at lambda: 2.97e-02, rho: 1.06e-01\r",
      "P:   0 R:  20 T:  57  psnr: 2.25e+01 at lambda: 2.97e-02, rho: 1.06e-01\r",
      "P:   1 R:  20 T:  57  psnr: 2.25e+01 at lambda: 2.97e-02, rho: 1.06e-01\r",
      "P:   1 R:  19 T:  58  psnr: 2.25e+01 at lambda: 2.97e-02, rho: 1.06e-01\r",
      "P:   0 R:  20 T:  58  psnr: 2.25e+01 at lambda: 2.97e-02, rho: 1.06e-01\r",
      "P:   1 R:  20 T:  58  psnr: 2.25e+01 at lambda: 2.97e-02, rho: 1.06e-01\r",
      "P:   1 R:  20 T:  58  psnr: 2.25e+01 at lambda: 2.97e-02, rho: 1.06e-01\r",
      "P:   1 R:  20 T:  58  psnr: 2.25e+01 at lambda: 2.97e-02, rho: 1.06e-01\r"
     ]
    },
    {
     "name": "stdout",
     "output_type": "stream",
     "text": [
      "P:   1 R:  19 T:  59  psnr: 2.25e+01 at lambda: 2.97e-02, rho: 1.06e-01\r",
      "P:   0 R:  20 T:  59  psnr: 2.25e+01 at lambda: 2.97e-02, rho: 1.06e-01\r",
      "P:   1 R:  20 T:  59  psnr: 2.25e+01 at lambda: 2.97e-02, rho: 1.06e-01\r"
     ]
    },
    {
     "name": "stdout",
     "output_type": "stream",
     "text": [
      "P:   1 R:  20 T:  59  psnr: 2.25e+01 at lambda: 2.97e-02, rho: 1.06e-01\r",
      "P:   1 R:  20 T:  59  psnr: 2.25e+01 at lambda: 2.97e-02, rho: 1.06e-01\r",
      "P:   1 R:  20 T:  59  psnr: 2.25e+01 at lambda: 2.97e-02, rho: 1.06e-01\r",
      "P:   1 R:  20 T:  59  psnr: 2.24e+01 at lambda: 2.41e-02, rho: 2.00e-01\r"
     ]
    },
    {
     "name": "stdout",
     "output_type": "stream",
     "text": [
      "P:   1 R:  20 T:  59  psnr: 2.24e+01 at lambda: 2.41e-02, rho: 2.00e-01\r",
      "P:   1 R:  20 T:  59  psnr: 2.24e+01 at lambda: 2.41e-02, rho: 2.00e-01\r"
     ]
    },
    {
     "name": "stdout",
     "output_type": "stream",
     "text": [
      "P:   1 R:  20 T:  59  psnr: 2.24e+01 at lambda: 2.41e-02, rho: 2.00e-01\r",
      "P:   1 R:  20 T:  59  psnr: 2.24e+01 at lambda: 2.41e-02, rho: 2.00e-01\r"
     ]
    },
    {
     "name": "stdout",
     "output_type": "stream",
     "text": [
      "P:   1 R:  20 T:  59  psnr: 2.24e+01 at lambda: 2.41e-02, rho: 2.00e-01\r",
      "P:   1 R:  20 T:  59  psnr: 2.24e+01 at lambda: 2.41e-02, rho: 2.00e-01\r"
     ]
    },
    {
     "name": "stdout",
     "output_type": "stream",
     "text": [
      "P:   1 R:  20 T:  59  psnr: 2.24e+01 at lambda: 2.41e-02, rho: 2.00e-01\r",
      "P:   1 R:  20 T:  59  psnr: 2.24e+01 at lambda: 2.41e-02, rho: 2.00e-01\r",
      "P:   1 R:  19 T:  60  psnr: 2.24e+01 at lambda: 2.41e-02, rho: 2.00e-01\r",
      "P:   0 R:  20 T:  60  psnr: 2.24e+01 at lambda: 2.41e-02, rho: 2.00e-01\r"
     ]
    },
    {
     "name": "stdout",
     "output_type": "stream",
     "text": [
      "P:   1 R:  19 T:  61  psnr: 2.24e+01 at lambda: 2.41e-02, rho: 2.00e-01\r",
      "P:   0 R:  20 T:  61  psnr: 2.24e+01 at lambda: 2.41e-02, rho: 2.00e-01\r",
      "P:   1 R:  20 T:  61  psnr: 2.24e+01 at lambda: 3.06e-02, rho: 1.26e-01\r",
      "P:   1 R:  20 T:  61  psnr: 2.24e+01 at lambda: 3.06e-02, rho: 1.26e-01\r",
      "P:   1 R:  20 T:  61  psnr: 2.24e+01 at lambda: 3.06e-02, rho: 1.26e-01\r"
     ]
    },
    {
     "name": "stdout",
     "output_type": "stream",
     "text": [
      "P:   1 R:  20 T:  61  psnr: 2.24e+01 at lambda: 3.06e-02, rho: 1.26e-01\r",
      "P:   1 R:  20 T:  61  psnr: 2.24e+01 at lambda: 3.06e-02, rho: 1.26e-01\r",
      "P:   1 R:  20 T:  61  psnr: 2.24e+01 at lambda: 3.06e-02, rho: 1.26e-01\r"
     ]
    },
    {
     "name": "stdout",
     "output_type": "stream",
     "text": [
      "P:   1 R:  20 T:  61  psnr: 2.24e+01 at lambda: 3.06e-02, rho: 1.26e-01\r",
      "P:   1 R:  20 T:  61  psnr: 2.25e+01 at lambda: 3.93e-02, rho: 1.80e-01\r",
      "P:   1 R:  20 T:  61  psnr: 2.25e+01 at lambda: 3.93e-02, rho: 1.80e-01\r",
      "P:   1 R:  20 T:  61  psnr: 2.25e+01 at lambda: 3.93e-02, rho: 1.80e-01\r"
     ]
    },
    {
     "name": "stdout",
     "output_type": "stream",
     "text": [
      "P:   1 R:  20 T:  61  psnr: 2.25e+01 at lambda: 3.93e-02, rho: 1.80e-01\r",
      "P:   1 R:  19 T:  62  psnr: 2.25e+01 at lambda: 3.93e-02, rho: 1.80e-01\r",
      "P:   0 R:  20 T:  62  psnr: 2.25e+01 at lambda: 3.93e-02, rho: 1.80e-01\r"
     ]
    },
    {
     "name": "stdout",
     "output_type": "stream",
     "text": [
      "P:   1 R:  20 T:  62  psnr: 2.25e+01 at lambda: 3.93e-02, rho: 1.80e-01\r",
      "P:   1 R:  19 T:  63  psnr: 2.25e+01 at lambda: 3.93e-02, rho: 1.80e-01\r",
      "P:   0 R:  20 T:  63  psnr: 2.25e+01 at lambda: 3.93e-02, rho: 1.80e-01\r",
      "P:   1 R:  19 T:  64  psnr: 2.25e+01 at lambda: 3.93e-02, rho: 1.80e-01\r",
      "P:   0 R:  20 T:  64  psnr: 2.25e+01 at lambda: 3.93e-02, rho: 1.80e-01\r"
     ]
    },
    {
     "name": "stdout",
     "output_type": "stream",
     "text": [
      "P:   1 R:  19 T:  65  psnr: 2.25e+01 at lambda: 3.93e-02, rho: 1.80e-01\r",
      "P:   0 R:  20 T:  65  psnr: 2.25e+01 at lambda: 3.93e-02, rho: 1.80e-01\r",
      "P:   1 R:  19 T:  66  psnr: 2.25e+01 at lambda: 3.93e-02, rho: 1.80e-01\r",
      "P:   0 R:  20 T:  66  psnr: 2.25e+01 at lambda: 3.93e-02, rho: 1.80e-01\r",
      "P:   1 R:  20 T:  66  psnr: 2.25e+01 at lambda: 3.93e-02, rho: 1.80e-01\r"
     ]
    },
    {
     "name": "stdout",
     "output_type": "stream",
     "text": [
      "P:   1 R:  20 T:  66  psnr: 2.25e+01 at lambda: 3.93e-02, rho: 1.80e-01\r",
      "P:   1 R:  20 T:  66  psnr: 2.25e+01 at lambda: 3.93e-02, rho: 1.80e-01\r",
      "P:   1 R:  19 T:  67  psnr: 2.25e+01 at lambda: 3.93e-02, rho: 1.80e-01\r",
      "P:   0 R:  20 T:  67  psnr: 2.25e+01 at lambda: 3.93e-02, rho: 1.80e-01\r"
     ]
    },
    {
     "name": "stdout",
     "output_type": "stream",
     "text": [
      "P:   1 R:  20 T:  67  psnr: 2.25e+01 at lambda: 3.93e-02, rho: 1.80e-01\r",
      "P:   1 R:  20 T:  67  psnr: 2.25e+01 at lambda: 3.93e-02, rho: 1.80e-01\r",
      "P:   1 R:  19 T:  68  psnr: 2.25e+01 at lambda: 3.93e-02, rho: 1.80e-01\r",
      "P:   0 R:  20 T:  68  psnr: 2.25e+01 at lambda: 3.93e-02, rho: 1.80e-01\r",
      "P:   1 R:  20 T:  68  psnr: 2.24e+01 at lambda: 2.27e-02, rho: 2.14e-01\r",
      "P:   1 R:  20 T:  68  psnr: 2.24e+01 at lambda: 2.27e-02, rho: 2.14e-01\r",
      "P:   1 R:  19 T:  69  psnr: 2.24e+01 at lambda: 2.27e-02, rho: 2.14e-01\r",
      "P:   0 R:  20 T:  69  psnr: 2.24e+01 at lambda: 2.27e-02, rho: 2.14e-01\r"
     ]
    },
    {
     "name": "stdout",
     "output_type": "stream",
     "text": [
      "P:   1 R:  19 T:  70  psnr: 2.24e+01 at lambda: 2.27e-02, rho: 2.14e-01\r",
      "P:   0 R:  20 T:  70  psnr: 2.24e+01 at lambda: 2.27e-02, rho: 2.14e-01\r",
      "P:   1 R:  19 T:  71  psnr: 2.24e+01 at lambda: 2.27e-02, rho: 2.14e-01\r",
      "P:   0 R:  20 T:  71  psnr: 2.24e+01 at lambda: 2.27e-02, rho: 2.14e-01\r"
     ]
    },
    {
     "name": "stdout",
     "output_type": "stream",
     "text": [
      "P:   1 R:  19 T:  72  psnr: 2.24e+01 at lambda: 2.27e-02, rho: 2.14e-01\r",
      "P:   0 R:  20 T:  72  psnr: 2.24e+01 at lambda: 2.27e-02, rho: 2.14e-01\r",
      "P:   1 R:  20 T:  72  psnr: 2.24e+01 at lambda: 2.27e-02, rho: 2.14e-01\r",
      "P:   1 R:  19 T:  73  psnr: 2.24e+01 at lambda: 2.27e-02, rho: 2.14e-01\r",
      "P:   0 R:  20 T:  73  psnr: 2.24e+01 at lambda: 2.27e-02, rho: 2.14e-01\r",
      "P:   1 R:  19 T:  74  psnr: 2.24e+01 at lambda: 2.27e-02, rho: 2.14e-01\r",
      "P:   0 R:  20 T:  74  psnr: 2.24e+01 at lambda: 2.27e-02, rho: 2.14e-01\r"
     ]
    },
    {
     "name": "stdout",
     "output_type": "stream",
     "text": [
      "P:   1 R:  20 T:  74  psnr: 2.24e+01 at lambda: 2.27e-02, rho: 2.14e-01\r",
      "P:   1 R:  20 T:  74  psnr: 2.24e+01 at lambda: 3.23e-02, rho: 5.41e-01\r",
      "P:   1 R:  19 T:  75  psnr: 2.24e+01 at lambda: 3.23e-02, rho: 5.41e-01\r",
      "P:   0 R:  20 T:  75  psnr: 2.24e+01 at lambda: 3.23e-02, rho: 5.41e-01\r",
      "P:   1 R:  20 T:  75  psnr: 2.24e+01 at lambda: 3.23e-02, rho: 5.41e-01\r",
      "P:   1 R:  19 T:  76  psnr: 2.24e+01 at lambda: 3.23e-02, rho: 5.41e-01\r"
     ]
    },
    {
     "name": "stdout",
     "output_type": "stream",
     "text": [
      "P:   0 R:  20 T:  76  psnr: 2.24e+01 at lambda: 3.23e-02, rho: 5.41e-01\r",
      "P:   1 R:  19 T:  77  psnr: 2.24e+01 at lambda: 3.23e-02, rho: 5.41e-01\r",
      "P:   0 R:  20 T:  77  psnr: 2.24e+01 at lambda: 3.23e-02, rho: 5.41e-01\r",
      "P:   1 R:  20 T:  77  psnr: 2.24e+01 at lambda: 3.23e-02, rho: 5.41e-01\r"
     ]
    },
    {
     "name": "stdout",
     "output_type": "stream",
     "text": [
      "P:   1 R:  20 T:  77  psnr: 2.24e+01 at lambda: 3.23e-02, rho: 5.41e-01\r",
      "P:   1 R:  20 T:  77  psnr: 2.24e+01 at lambda: 3.23e-02, rho: 5.41e-01\r"
     ]
    },
    {
     "name": "stdout",
     "output_type": "stream",
     "text": [
      "P:   1 R:  20 T:  77  psnr: 2.24e+01 at lambda: 3.23e-02, rho: 5.41e-01\r",
      "P:   1 R:  20 T:  77  psnr: 2.24e+01 at lambda: 3.23e-02, rho: 5.41e-01\r"
     ]
    },
    {
     "name": "stdout",
     "output_type": "stream",
     "text": [
      "P:   1 R:  20 T:  77  psnr: 2.24e+01 at lambda: 3.23e-02, rho: 5.41e-01\r",
      "P:   1 R:  20 T:  77  psnr: 2.24e+01 at lambda: 3.23e-02, rho: 5.41e-01\r"
     ]
    },
    {
     "name": "stdout",
     "output_type": "stream",
     "text": [
      "P:   1 R:  20 T:  77  psnr: 2.24e+01 at lambda: 3.23e-02, rho: 5.41e-01\r",
      "P:   1 R:  20 T:  77  psnr: 2.24e+01 at lambda: 3.23e-02, rho: 5.41e-01\r",
      "P:   1 R:  20 T:  77  psnr: 2.24e+01 at lambda: 3.23e-02, rho: 5.41e-01\r",
      "P:   1 R:  19 T:  78  psnr: 2.24e+01 at lambda: 3.23e-02, rho: 5.41e-01\r"
     ]
    },
    {
     "name": "stdout",
     "output_type": "stream",
     "text": [
      "P:   0 R:  20 T:  78  psnr: 2.24e+01 at lambda: 3.23e-02, rho: 5.41e-01\r",
      "P:   1 R:  20 T:  78  psnr: 2.24e+01 at lambda: 3.23e-02, rho: 5.41e-01\r"
     ]
    },
    {
     "name": "stdout",
     "output_type": "stream",
     "text": [
      "P:   1 R:  20 T:  78  psnr: 2.24e+01 at lambda: 3.23e-02, rho: 5.41e-01\r",
      "P:   1 R:  19 T:  79  psnr: 2.24e+01 at lambda: 3.23e-02, rho: 5.41e-01\r",
      "P:   0 R:  20 T:  79  psnr: 2.24e+01 at lambda: 3.23e-02, rho: 5.41e-01\r",
      "P:   1 R:  19 T:  80  psnr: 2.24e+01 at lambda: 3.23e-02, rho: 5.41e-01\r"
     ]
    },
    {
     "name": "stdout",
     "output_type": "stream",
     "text": [
      "P:   0 R:  20 T:  80  psnr: 2.24e+01 at lambda: 3.23e-02, rho: 5.41e-01\r",
      "P:   0 R:  19 T:  81  psnr: 2.24e+01 at lambda: 3.23e-02, rho: 5.41e-01\r"
     ]
    },
    {
     "name": "stdout",
     "output_type": "stream",
     "text": [
      "P:   0 R:  18 T:  82  psnr: 2.24e+01 at lambda: 3.23e-02, rho: 5.41e-01\r",
      "P:   0 R:  18 T:  82  psnr: 2.24e+01 at lambda: 3.23e-02, rho: 5.41e-01\r",
      "P:   0 R:  18 T:  82  psnr: 2.24e+01 at lambda: 3.23e-02, rho: 5.41e-01\r",
      "P:   0 R:  17 T:  83  psnr: 2.24e+01 at lambda: 3.23e-02, rho: 5.41e-01\r"
     ]
    },
    {
     "name": "stdout",
     "output_type": "stream",
     "text": [
      "P:   0 R:  16 T:  84  psnr: 2.24e+01 at lambda: 3.23e-02, rho: 5.41e-01\r",
      "P:   0 R:  16 T:  84  psnr: 2.24e+01 at lambda: 3.23e-02, rho: 5.41e-01\r",
      "P:   0 R:  15 T:  85  psnr: 2.24e+01 at lambda: 3.23e-02, rho: 5.41e-01\r"
     ]
    },
    {
     "name": "stdout",
     "output_type": "stream",
     "text": [
      "P:   0 R:  14 T:  86  psnr: 2.24e+01 at lambda: 3.23e-02, rho: 5.41e-01\r",
      "P:   0 R:  14 T:  86  psnr: 2.24e+01 at lambda: 3.23e-02, rho: 5.41e-01\r",
      "P:   0 R:  13 T:  87  psnr: 2.24e+01 at lambda: 3.23e-02, rho: 5.41e-01\r",
      "P:   0 R:  12 T:  88  psnr: 2.24e+01 at lambda: 3.23e-02, rho: 5.41e-01\r"
     ]
    },
    {
     "name": "stdout",
     "output_type": "stream",
     "text": [
      "P:   0 R:  11 T:  89  psnr: 2.24e+01 at lambda: 3.23e-02, rho: 5.41e-01\r"
     ]
    },
    {
     "name": "stdout",
     "output_type": "stream",
     "text": [
      "P:   0 R:  11 T:  89  psnr: 2.24e+01 at lambda: 3.23e-02, rho: 5.41e-01\r",
      "P:   0 R:  11 T:  89  psnr: 2.24e+01 at lambda: 3.23e-02, rho: 5.41e-01\r",
      "P:   0 R:  10 T:  90  psnr: 2.24e+01 at lambda: 3.23e-02, rho: 5.41e-01\r"
     ]
    },
    {
     "name": "stdout",
     "output_type": "stream",
     "text": [
      "P:   0 R:  10 T:  90  psnr: 2.24e+01 at lambda: 3.23e-02, rho: 5.41e-01\r",
      "P:   0 R:   9 T:  91  psnr: 2.24e+01 at lambda: 3.23e-02, rho: 5.41e-01\r",
      "P:   0 R:   8 T:  92  psnr: 2.24e+01 at lambda: 3.23e-02, rho: 5.41e-01\r"
     ]
    },
    {
     "name": "stdout",
     "output_type": "stream",
     "text": [
      "P:   0 R:   7 T:  93  psnr: 2.24e+01 at lambda: 3.23e-02, rho: 5.41e-01\r",
      "P:   0 R:   6 T:  94  psnr: 2.24e+01 at lambda: 3.23e-02, rho: 5.41e-01\r",
      "P:   0 R:   5 T:  95  psnr: 2.24e+01 at lambda: 3.23e-02, rho: 5.41e-01\r",
      "P:   0 R:   4 T:  96  psnr: 2.24e+01 at lambda: 3.23e-02, rho: 5.41e-01\r"
     ]
    },
    {
     "name": "stdout",
     "output_type": "stream",
     "text": [
      "P:   0 R:   3 T:  97  psnr: 2.24e+01 at lambda: 3.23e-02, rho: 5.41e-01\r",
      "P:   0 R:   3 T:  97  psnr: 2.24e+01 at lambda: 3.32e-02, rho: 3.16e-01\r"
     ]
    },
    {
     "name": "stdout",
     "output_type": "stream",
     "text": [
      "P:   0 R:   2 T:  98  psnr: 2.24e+01 at lambda: 3.32e-02, rho: 3.16e-01\r",
      "P:   0 R:   2 T:  98  psnr: 2.24e+01 at lambda: 3.32e-02, rho: 3.16e-01\r",
      "P:   0 R:   1 T:  99  psnr: 2.24e+01 at lambda: 3.32e-02, rho: 3.16e-01\r"
     ]
    },
    {
     "name": "stdout",
     "output_type": "stream",
     "text": [
      "P:   0 R:   1 T:  99  psnr: 2.24e+01 at lambda: 3.23e-02, rho: 5.41e-01\r"
     ]
    },
    {
     "name": "stdout",
     "output_type": "stream",
     "text": [
      "P:   0 R:   1 T:  99  psnr: 2.24e+01 at lambda: 3.23e-02, rho: 5.41e-01\r",
      "P:   0 R:   0 T: 100  psnr: 2.24e+01 at lambda: 3.23e-02, rho: 5.41e-01\n"
     ]
    },
    {
     "name": "stderr",
     "output_type": "stream",
     "text": [
      "2022-02-03 16:30:13,999\tINFO tune.py:626 -- Total run time: 66.08 seconds (65.72 seconds for the tuning loop).\n"
     ]
    }
   ],
   "source": [
    "analysis = tune.run(\n",
    "    eval_params,\n",
    "    metric=\"psnr\",\n",
    "    mode=\"max\",\n",
    "    num_samples=100,\n",
    "    config=config,\n",
    "    resources_per_trial=resources,\n",
    "    hyperopt=True,\n",
    "    verbose=True,\n",
    ")"
   ]
  },
  {
   "cell_type": "markdown",
   "id": "18a55c2c",
   "metadata": {},
   "source": [
    "Display best parameters and corresponding performance."
   ]
  },
  {
   "cell_type": "code",
   "execution_count": 8,
   "id": "90ea8eff",
   "metadata": {
    "collapsed": false,
    "execution": {
     "iopub.execute_input": "2022-02-03T23:30:14.201442Z",
     "iopub.status.busy": "2022-02-03T23:30:14.200099Z",
     "iopub.status.idle": "2022-02-03T23:30:14.203566Z",
     "shell.execute_reply": "2022-02-03T23:30:14.203866Z"
    }
   },
   "outputs": [
    {
     "name": "stdout",
     "output_type": "stream",
     "text": [
      "Best PSNR: 22.40 dB\n",
      "Best config: lambda: 3.23e-02, rho: 5.41e-01\n"
     ]
    }
   ],
   "source": [
    "best_config = analysis.get_best_config(metric=\"psnr\", mode=\"max\")\n",
    "print(f\"Best PSNR: {analysis.get_best_trial().last_result['psnr']:.2f} dB\")\n",
    "print(\"Best config: \" + \", \".join([f\"{k}: {v:.2e}\" for k, v in best_config.items()]))"
   ]
  },
  {
   "cell_type": "markdown",
   "id": "bfba8f1b",
   "metadata": {},
   "source": [
    "Plot parameter values visited during parameter search. Marker sizes are\n",
    "proportional to number of iterations run at each parameter pair. The best\n",
    "point in the parameter space is indicated in red."
   ]
  },
  {
   "cell_type": "code",
   "execution_count": 9,
   "id": "f5aa2d86",
   "metadata": {
    "collapsed": false,
    "execution": {
     "iopub.execute_input": "2022-02-03T23:30:14.222617Z",
     "iopub.status.busy": "2022-02-03T23:30:14.221928Z",
     "iopub.status.idle": "2022-02-03T23:30:15.283017Z",
     "shell.execute_reply": "2022-02-03T23:30:15.283653Z"
    }
   },
   "outputs": [
    {
     "data": {
      "image/png": "[encoded data removed]",
      "text/plain": [
       "<Figure size 576x576 with 1 Axes>"
      ]
     },
     "metadata": {
      "needs_background": "light"
     },
     "output_type": "display_data"
    }
   ],
   "source": [
    "fig = plot.figure(figsize=(8, 8))\n",
    "for t in analysis.trials:\n",
    "    n = t.metric_analysis[\"training_iteration\"][\"max\"]\n",
    "    plot.plot(\n",
    "        t.config[\"lambda\"],\n",
    "        t.config[\"rho\"],\n",
    "        ptyp=\"loglog\",\n",
    "        lw=0,\n",
    "        ms=(0.5 + 1.5 * n),\n",
    "        marker=\"o\",\n",
    "        mfc=\"blue\",\n",
    "        mec=\"blue\",\n",
    "        fig=fig,\n",
    "    )\n",
    "plot.plot(\n",
    "    best_config[\"lambda\"],\n",
    "    best_config[\"rho\"],\n",
    "    ptyp=\"loglog\",\n",
    "    title=\"Parameter search sampling locations\\n(marker size proportional to number of iterations)\",\n",
    "    xlbl=r\"$\\rho$\",\n",
    "    ylbl=r\"$\\lambda$\",\n",
    "    lw=0,\n",
    "    ms=5.0,\n",
    "    marker=\"o\",\n",
    "    mfc=\"red\",\n",
    "    mec=\"red\",\n",
    "    fig=fig,\n",
    ")\n",
    "ax = fig.axes[0]\n",
    "ax.set_xlim([config[\"rho\"].lower, config[\"rho\"].upper])\n",
    "ax.set_ylim([config[\"lambda\"].lower, config[\"lambda\"].upper])\n",
    "fig.show()"
   ]
  }
 ],
 "metadata": {
  "language_info": {
   "codemirror_mode": {
    "name": "ipython",
    "version": 3
   },
   "file_extension": ".py",
   "mimetype": "text/x-python",
   "name": "python",
   "nbconvert_exporter": "python",
   "pygments_lexer": "ipython3",
   "version": "3.9.10"
  }
 },
 "nbformat": 4,
 "nbformat_minor": 5
}
