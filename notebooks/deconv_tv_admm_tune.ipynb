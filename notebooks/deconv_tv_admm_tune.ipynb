{
 "cells": [
  {
   "cell_type": "markdown",
   "id": "df712b46",
   "metadata": {},
   "source": [
    "Parameter Tuning for Image Deconvolution with TV Regularization (ADMM Solver)\n",
    "=============================================================================\n",
    "\n",
    "This example demonstrates the use of\n",
    "[scico.ray.tune](../_autosummary/scico.ray.tune.rst) to tune parameters\n",
    "for the companion [example script](deconv_tv_admm.rst).\n",
    "\n",
    "This script is hard-coded to run on CPU only to avoid the large number of\n",
    "warnings that are emitted when GPU resources are requested but not available,\n",
    "and due to the difficulty of supressing these warnings in a way that does\n",
    "not force use of the CPU only. To enable GPU usage, comment out the\n",
    "`os.environ` statements near the beginning of the script, and change the\n",
    "value of the \"gpu\" entry in the `resources` dict from 0 to 1. Note that\n",
    "two environment variables are set to suppress the warnings because\n",
    "`JAX_PLATFORMS` was intended to replace `JAX_PLATFORM_NAME` but this change\n",
    "has yet to be correctly implemented\n",
    "(see [google/jax#6805](https://github.com/google/jax/issues/6805) and\n",
    "[google/jax#10272](https://github.com/google/jax/pull/10272))."
   ]
  },
  {
   "cell_type": "code",
   "execution_count": 1,
   "id": "219b8e0c",
   "metadata": {
    "collapsed": false,
    "execution": {
     "iopub.execute_input": "2023-01-26T21:43:20.224217Z",
     "iopub.status.busy": "2023-01-26T21:43:20.223434Z",
     "iopub.status.idle": "2023-01-26T21:43:30.541703Z",
     "shell.execute_reply": "2023-01-26T21:43:30.540269Z"
    }
   },
   "outputs": [],
   "source": [
    "# isort: off\n",
    "import os\n",
    "\n",
    "os.environ[\"JAX_PLATFORM_NAME\"] = \"cpu\"\n",
    "os.environ[\"JAX_PLATFORMS\"] = \"cpu\"\n",
    "\n",
    "import numpy as np\n",
    "\n",
    "import jax\n",
    "\n",
    "from xdesign import SiemensStar, discrete_phantom\n",
    "\n",
    "import scico.numpy as snp\n",
    "import scico.random\n",
    "import scico.ray as ray\n",
    "from scico import functional, linop, loss, metric, plot\n",
    "from scico.optimize.admm import ADMM, LinearSubproblemSolver\n",
    "from scico.ray import tune\n",
    "plot.config_notebook_plotting()"
   ]
  },
  {
   "cell_type": "markdown",
   "id": "133d2c8f",
   "metadata": {},
   "source": [
    "Create a ground truth image."
   ]
  },
  {
   "cell_type": "code",
   "execution_count": 2,
   "id": "32f27bdd",
   "metadata": {
    "collapsed": false,
    "execution": {
     "iopub.execute_input": "2023-01-26T21:43:30.548791Z",
     "iopub.status.busy": "2023-01-26T21:43:30.548240Z",
     "iopub.status.idle": "2023-01-26T21:43:31.462206Z",
     "shell.execute_reply": "2023-01-26T21:43:31.460771Z"
    }
   },
   "outputs": [],
   "source": [
    "phantom = SiemensStar(32)\n",
    "N = 256  # image size\n",
    "x_gt = snp.pad(discrete_phantom(phantom, N - 16), 8)"
   ]
  },
  {
   "cell_type": "markdown",
   "id": "6fe85599",
   "metadata": {},
   "source": [
    "Set up the forward operator and create a test signal consisting of a\n",
    "blurred signal with additive Gaussian noise."
   ]
  },
  {
   "cell_type": "code",
   "execution_count": 3,
   "id": "6293a26a",
   "metadata": {
    "collapsed": false,
    "execution": {
     "iopub.execute_input": "2023-01-26T21:43:31.466957Z",
     "iopub.status.busy": "2023-01-26T21:43:31.466440Z",
     "iopub.status.idle": "2023-01-26T21:43:32.325068Z",
     "shell.execute_reply": "2023-01-26T21:43:32.323622Z"
    }
   },
   "outputs": [],
   "source": [
    "n = 5  # convolution kernel size\n",
    "σ = 20.0 / 255  # noise level\n",
    "\n",
    "psf = snp.ones((n, n)) / (n * n)\n",
    "A = linop.Convolve(h=psf, input_shape=x_gt.shape)\n",
    "\n",
    "Ax = A(x_gt)  # blurred image\n",
    "noise, key = scico.random.randn(Ax.shape, seed=0)\n",
    "y = Ax + σ * noise"
   ]
  },
  {
   "cell_type": "markdown",
   "id": "eec54f3d",
   "metadata": {},
   "source": [
    "Put main arrays into ray object store."
   ]
  },
  {
   "cell_type": "code",
   "execution_count": 4,
   "id": "e60d7616",
   "metadata": {
    "collapsed": false,
    "execution": {
     "iopub.execute_input": "2023-01-26T21:43:32.328132Z",
     "iopub.status.busy": "2023-01-26T21:43:32.327771Z",
     "iopub.status.idle": "2023-01-26T21:43:37.529714Z",
     "shell.execute_reply": "2023-01-26T21:43:37.528869Z"
    }
   },
   "outputs": [
    {
     "name": "stderr",
     "output_type": "stream",
     "text": [
      "2023-01-26 14:43:35,414\tINFO worker.py:1518 -- Started a local Ray instance.\n"
     ]
    }
   ],
   "source": [
    "ray_x_gt, ray_psf, ray_y = ray.put(np.array(x_gt)), ray.put(np.array(psf)), ray.put(np.array(y))"
   ]
  },
  {
   "cell_type": "markdown",
   "id": "57e53b07",
   "metadata": {},
   "source": [
    "Define performance evaluation function."
   ]
  },
  {
   "cell_type": "code",
   "execution_count": 5,
   "id": "dc732007",
   "metadata": {
    "collapsed": false,
    "execution": {
     "iopub.execute_input": "2023-01-26T21:43:37.534308Z",
     "iopub.status.busy": "2023-01-26T21:43:37.533836Z",
     "iopub.status.idle": "2023-01-26T21:43:37.542690Z",
     "shell.execute_reply": "2023-01-26T21:43:37.541869Z"
    }
   },
   "outputs": [],
   "source": [
    "def eval_params(config, reporter):\n",
    "    # Extract solver parameters from config dict.\n",
    "    λ, ρ = config[\"lambda\"], config[\"rho\"]\n",
    "    # Get main arrays from ray object store.\n",
    "    x_gt, psf, y = ray.get([ray_x_gt, ray_psf, ray_y])\n",
    "    # Put main arrays on jax device.\n",
    "    x_gt, psf, y = jax.device_put([x_gt, psf, y])\n",
    "    # Set up problem to be solved.\n",
    "    A = linop.Convolve(h=psf, input_shape=x_gt.shape)\n",
    "    f = loss.SquaredL2Loss(y=y, A=A)\n",
    "    g = λ * functional.L21Norm()\n",
    "    C = linop.FiniteDifference(input_shape=x_gt.shape, append=0)\n",
    "    # Define solver.\n",
    "    solver = ADMM(\n",
    "        f=f,\n",
    "        g_list=[g],\n",
    "        C_list=[C],\n",
    "        rho_list=[ρ],\n",
    "        x0=A.adj(y),\n",
    "        maxiter=10,\n",
    "        subproblem_solver=LinearSubproblemSolver(),\n",
    "    )\n",
    "    # Perform 50 iterations, reporting performance to ray.tune every 10 iterations.\n",
    "    for step in range(5):\n",
    "        x_admm = solver.solve()\n",
    "        reporter(psnr=float(metric.psnr(x_gt, x_admm)))"
   ]
  },
  {
   "cell_type": "markdown",
   "id": "79325ee4",
   "metadata": {},
   "source": [
    "Define parameter search space and resources per trial."
   ]
  },
  {
   "cell_type": "code",
   "execution_count": 6,
   "id": "216bbbd3",
   "metadata": {
    "collapsed": false,
    "execution": {
     "iopub.execute_input": "2023-01-26T21:43:37.546108Z",
     "iopub.status.busy": "2023-01-26T21:43:37.545731Z",
     "iopub.status.idle": "2023-01-26T21:43:37.550295Z",
     "shell.execute_reply": "2023-01-26T21:43:37.549542Z"
    }
   },
   "outputs": [],
   "source": [
    "config = {\"lambda\": tune.loguniform(1e-2, 1e0), \"rho\": tune.loguniform(1e-1, 1e1)}\n",
    "resources = {\"cpu\": 4, \"gpu\": 0}  # cpus per trial, gpus per trial"
   ]
  },
  {
   "cell_type": "markdown",
   "id": "7cae5a1b",
   "metadata": {},
   "source": [
    "Run parameter search."
   ]
  },
  {
   "cell_type": "code",
   "execution_count": 7,
   "id": "8ad546b4",
   "metadata": {
    "collapsed": false,
    "execution": {
     "iopub.execute_input": "2023-01-26T21:43:37.553641Z",
     "iopub.status.busy": "2023-01-26T21:43:37.553285Z",
     "iopub.status.idle": "2023-01-26T21:45:06.437104Z",
     "shell.execute_reply": "2023-01-26T21:45:06.435484Z"
    }
   },
   "outputs": [
    {
     "name": "stdout",
     "output_type": "stream",
     "text": [
      "P:   0 R:   1 T:   0 \r"
     ]
    },
    {
     "name": "stdout",
     "output_type": "stream",
     "text": [
      "P:   0 R:   2 T:   0 \r",
      "P:   1 R:   2 T:   0  psnr: 2.02e+01 at lambda: 9.80e-02, rho: 2.00e-01\r"
     ]
    },
    {
     "name": "stdout",
     "output_type": "stream",
     "text": [
      "P:   0 R:   3 T:   0  psnr: 2.02e+01 at lambda: 9.80e-02, rho: 2.00e-01\r",
      "P:   1 R:   3 T:   0  psnr: 2.14e+01 at lambda: 4.32e-02, rho: 1.94e-01\r"
     ]
    },
    {
     "name": "stdout",
     "output_type": "stream",
     "text": [
      "P:   0 R:   4 T:   0  psnr: 2.14e+01 at lambda: 4.32e-02, rho: 1.94e-01\r",
      "P:   1 R:   4 T:   0  psnr: 2.17e+01 at lambda: 4.32e-02, rho: 1.94e-01\r",
      "P:   1 R:   3 T:   1  psnr: 2.17e+01 at lambda: 4.32e-02, rho: 1.94e-01\r",
      "P:   0 R:   4 T:   1  psnr: 2.17e+01 at lambda: 4.32e-02, rho: 1.94e-01\r",
      "P:   1 R:   4 T:   1  psnr: 2.17e+01 at lambda: 4.32e-02, rho: 1.94e-01\r"
     ]
    },
    {
     "name": "stdout",
     "output_type": "stream",
     "text": [
      "P:   0 R:   5 T:   1  psnr: 2.17e+01 at lambda: 4.32e-02, rho: 1.94e-01\r",
      "P:   1 R:   5 T:   1  psnr: 2.18e+01 at lambda: 4.32e-02, rho: 1.94e-01\r",
      "P:   1 R:   5 T:   1  psnr: 2.18e+01 at lambda: 4.32e-02, rho: 1.94e-01\r"
     ]
    },
    {
     "name": "stdout",
     "output_type": "stream",
     "text": [
      "P:   0 R:   6 T:   1  psnr: 2.18e+01 at lambda: 4.32e-02, rho: 1.94e-01\r",
      "P:   1 R:   6 T:   1  psnr: 2.18e+01 at lambda: 4.32e-02, rho: 1.94e-01\r"
     ]
    },
    {
     "name": "stdout",
     "output_type": "stream",
     "text": [
      "P:   0 R:   7 T:   1  psnr: 2.18e+01 at lambda: 4.32e-02, rho: 1.94e-01\r",
      "P:   1 R:   7 T:   1  psnr: 2.18e+01 at lambda: 4.32e-02, rho: 1.94e-01\r"
     ]
    },
    {
     "name": "stdout",
     "output_type": "stream",
     "text": [
      "P:   0 R:   8 T:   1  psnr: 2.18e+01 at lambda: 4.32e-02, rho: 1.94e-01\r",
      "P:   1 R:   7 T:   2  psnr: 2.18e+01 at lambda: 4.32e-02, rho: 1.94e-01\r",
      "P:   0 R:   8 T:   2  psnr: 2.18e+01 at lambda: 4.32e-02, rho: 1.94e-01\r",
      "P:   1 R:   8 T:   2  psnr: 2.18e+01 at lambda: 4.32e-02, rho: 1.94e-01\r",
      "P:   1 R:   7 T:   3  psnr: 2.18e+01 at lambda: 4.32e-02, rho: 1.94e-01\r",
      "P:   0 R:   8 T:   3  psnr: 2.18e+01 at lambda: 4.32e-02, rho: 1.94e-01\r",
      "P:   1 R:   7 T:   4  psnr: 2.18e+01 at lambda: 4.32e-02, rho: 1.94e-01\r",
      "P:   0 R:   8 T:   4  psnr: 2.18e+01 at lambda: 4.32e-02, rho: 1.94e-01\r",
      "P:   1 R:   7 T:   5  psnr: 2.18e+01 at lambda: 4.32e-02, rho: 1.94e-01\r",
      "P:   0 R:   8 T:   5  psnr: 2.18e+01 at lambda: 4.32e-02, rho: 1.94e-01\r",
      "P:   1 R:   7 T:   6  psnr: 2.18e+01 at lambda: 4.32e-02, rho: 1.94e-01\r",
      "P:   0 R:   8 T:   6  psnr: 2.18e+01 at lambda: 4.32e-02, rho: 1.94e-01\r",
      "P:   1 R:   8 T:   6  psnr: 2.19e+01 at lambda: 1.02e-02, rho: 1.03e-01\r"
     ]
    },
    {
     "name": "stdout",
     "output_type": "stream",
     "text": [
      "P:   0 R:   9 T:   6  psnr: 2.19e+01 at lambda: 1.02e-02, rho: 1.03e-01\r",
      "P:   1 R:   9 T:   6  psnr: 2.19e+01 at lambda: 1.02e-02, rho: 1.03e-01\r"
     ]
    },
    {
     "name": "stdout",
     "output_type": "stream",
     "text": [
      "P:   0 R:  10 T:   6  psnr: 2.19e+01 at lambda: 1.02e-02, rho: 1.03e-01\r",
      "P:   1 R:   9 T:   7  psnr: 2.19e+01 at lambda: 1.02e-02, rho: 1.03e-01\r",
      "P:   0 R:  10 T:   7  psnr: 2.19e+01 at lambda: 1.02e-02, rho: 1.03e-01\r",
      "P:   1 R:  10 T:   7  psnr: 2.19e+01 at lambda: 1.02e-02, rho: 1.03e-01\r"
     ]
    },
    {
     "name": "stdout",
     "output_type": "stream",
     "text": [
      "P:   0 R:  11 T:   7  psnr: 2.19e+01 at lambda: 1.02e-02, rho: 1.03e-01\r",
      "P:   1 R:  10 T:   8  psnr: 2.19e+01 at lambda: 1.02e-02, rho: 1.03e-01\r",
      "P:   0 R:  11 T:   8  psnr: 2.19e+01 at lambda: 1.02e-02, rho: 1.03e-01\r",
      "P:   1 R:  11 T:   8  psnr: 2.19e+01 at lambda: 1.02e-02, rho: 1.03e-01\r"
     ]
    },
    {
     "name": "stdout",
     "output_type": "stream",
     "text": [
      "P:   0 R:  12 T:   8  psnr: 2.19e+01 at lambda: 1.02e-02, rho: 1.03e-01\r",
      "P:   1 R:  11 T:   9  psnr: 2.19e+01 at lambda: 1.02e-02, rho: 1.03e-01\r",
      "P:   0 R:  12 T:   9  psnr: 2.19e+01 at lambda: 1.02e-02, rho: 1.03e-01\r",
      "P:   1 R:  11 T:  10  psnr: 2.19e+01 at lambda: 1.02e-02, rho: 1.03e-01\r",
      "P:   0 R:  12 T:  10  psnr: 2.19e+01 at lambda: 1.02e-02, rho: 1.03e-01\r",
      "P:   1 R:  11 T:  11  psnr: 2.19e+01 at lambda: 1.02e-02, rho: 1.03e-01\r",
      "P:   0 R:  12 T:  11  psnr: 2.19e+01 at lambda: 1.02e-02, rho: 1.03e-01\r",
      "P:   1 R:  11 T:  12  psnr: 2.19e+01 at lambda: 1.02e-02, rho: 1.03e-01\r",
      "P:   0 R:  12 T:  12  psnr: 2.19e+01 at lambda: 1.02e-02, rho: 1.03e-01\r",
      "P:   1 R:  11 T:  13  psnr: 2.19e+01 at lambda: 1.02e-02, rho: 1.03e-01\r",
      "P:   0 R:  12 T:  13  psnr: 2.19e+01 at lambda: 1.02e-02, rho: 1.03e-01\r",
      "P:   1 R:  11 T:  14  psnr: 2.19e+01 at lambda: 1.02e-02, rho: 1.03e-01\r",
      "P:   0 R:  12 T:  14  psnr: 2.19e+01 at lambda: 1.02e-02, rho: 1.03e-01\r",
      "P:   1 R:  11 T:  15  psnr: 2.19e+01 at lambda: 1.02e-02, rho: 1.03e-01\r",
      "P:   0 R:  12 T:  15  psnr: 2.19e+01 at lambda: 1.02e-02, rho: 1.03e-01\r",
      "P:   1 R:  11 T:  16  psnr: 2.19e+01 at lambda: 1.02e-02, rho: 1.03e-01\r",
      "P:   0 R:  12 T:  16  psnr: 2.19e+01 at lambda: 1.02e-02, rho: 1.03e-01\r",
      "P:   1 R:  11 T:  17  psnr: 2.19e+01 at lambda: 1.02e-02, rho: 1.03e-01\r"
     ]
    },
    {
     "name": "stdout",
     "output_type": "stream",
     "text": [
      "P:   0 R:  12 T:  17  psnr: 2.19e+01 at lambda: 1.02e-02, rho: 1.03e-01\r",
      "P:   1 R:  11 T:  18  psnr: 2.19e+01 at lambda: 1.02e-02, rho: 1.03e-01\r",
      "P:   0 R:  12 T:  18  psnr: 2.19e+01 at lambda: 1.02e-02, rho: 1.03e-01\r"
     ]
    },
    {
     "name": "stdout",
     "output_type": "stream",
     "text": [
      "P:   0 R:  13 T:  18  psnr: 2.19e+01 at lambda: 1.02e-02, rho: 1.03e-01\r",
      "P:   1 R:  13 T:  18  psnr: 2.19e+01 at lambda: 1.02e-02, rho: 1.03e-01\r"
     ]
    },
    {
     "name": "stdout",
     "output_type": "stream",
     "text": [
      "P:   0 R:  14 T:  18  psnr: 2.19e+01 at lambda: 1.02e-02, rho: 1.03e-01\r",
      "P:   1 R:  14 T:  18  psnr: 2.20e+01 at lambda: 2.15e-02, rho: 1.08e-01\r"
     ]
    },
    {
     "name": "stdout",
     "output_type": "stream",
     "text": [
      "P:   0 R:  15 T:  18  psnr: 2.20e+01 at lambda: 2.15e-02, rho: 1.08e-01\r",
      "P:   1 R:  15 T:  18  psnr: 2.20e+01 at lambda: 2.15e-02, rho: 1.08e-01\r"
     ]
    },
    {
     "name": "stdout",
     "output_type": "stream",
     "text": [
      "P:   0 R:  16 T:  18  psnr: 2.20e+01 at lambda: 2.15e-02, rho: 1.08e-01\r",
      "P:   1 R:  16 T:  18  psnr: 2.22e+01 at lambda: 2.45e-02, rho: 1.08e-01\r"
     ]
    },
    {
     "name": "stdout",
     "output_type": "stream",
     "text": [
      "P:   0 R:  17 T:  18  psnr: 2.22e+01 at lambda: 2.45e-02, rho: 1.08e-01\r",
      "P:   1 R:  16 T:  19  psnr: 2.22e+01 at lambda: 2.45e-02, rho: 1.08e-01\r",
      "P:   0 R:  17 T:  19  psnr: 2.22e+01 at lambda: 2.45e-02, rho: 1.08e-01\r",
      "P:   1 R:  16 T:  20  psnr: 2.22e+01 at lambda: 2.45e-02, rho: 1.08e-01\r",
      "P:   0 R:  17 T:  20  psnr: 2.22e+01 at lambda: 2.45e-02, rho: 1.08e-01\r"
     ]
    },
    {
     "name": "stdout",
     "output_type": "stream",
     "text": [
      "P:   1 R:  17 T:  20  psnr: 2.22e+01 at lambda: 2.45e-02, rho: 1.08e-01\r"
     ]
    },
    {
     "name": "stdout",
     "output_type": "stream",
     "text": [
      "P:   0 R:  18 T:  20  psnr: 2.22e+01 at lambda: 2.45e-02, rho: 1.08e-01\r",
      "P:   1 R:  18 T:  20  psnr: 2.22e+01 at lambda: 2.45e-02, rho: 1.08e-01\r"
     ]
    },
    {
     "name": "stdout",
     "output_type": "stream",
     "text": [
      "P:   0 R:  19 T:  20  psnr: 2.22e+01 at lambda: 2.45e-02, rho: 1.08e-01\r",
      "P:   1 R:  18 T:  21  psnr: 2.22e+01 at lambda: 2.45e-02, rho: 1.08e-01\r",
      "P:   0 R:  19 T:  21  psnr: 2.22e+01 at lambda: 2.45e-02, rho: 1.08e-01\r",
      "P:   1 R:  19 T:  21  psnr: 2.22e+01 at lambda: 2.45e-02, rho: 1.08e-01\r"
     ]
    },
    {
     "name": "stdout",
     "output_type": "stream",
     "text": [
      "P:   0 R:  20 T:  21  psnr: 2.22e+01 at lambda: 2.45e-02, rho: 1.08e-01\r",
      "P:   1 R:  20 T:  21  psnr: 2.23e+01 at lambda: 2.45e-02, rho: 1.08e-01\r",
      "P:   1 R:  19 T:  22  psnr: 2.23e+01 at lambda: 2.45e-02, rho: 1.08e-01\r",
      "P:   0 R:  20 T:  22  psnr: 2.23e+01 at lambda: 2.45e-02, rho: 1.08e-01\r",
      "P:   1 R:  20 T:  22  psnr: 2.23e+01 at lambda: 2.45e-02, rho: 1.08e-01\r",
      "P:   1 R:  20 T:  22  psnr: 2.23e+01 at lambda: 2.45e-02, rho: 1.08e-01\r",
      "P:   1 R:  20 T:  22  psnr: 2.23e+01 at lambda: 2.45e-02, rho: 1.08e-01\r",
      "P:   1 R:  20 T:  22  psnr: 2.23e+01 at lambda: 2.45e-02, rho: 1.08e-01\r",
      "P:   1 R:  19 T:  23  psnr: 2.23e+01 at lambda: 2.45e-02, rho: 1.08e-01\r",
      "P:   0 R:  20 T:  23  psnr: 2.23e+01 at lambda: 2.45e-02, rho: 1.08e-01\r",
      "P:   1 R:  19 T:  24  psnr: 2.23e+01 at lambda: 2.45e-02, rho: 1.08e-01\r",
      "P:   0 R:  20 T:  24  psnr: 2.23e+01 at lambda: 2.45e-02, rho: 1.08e-01\r",
      "P:   1 R:  19 T:  25  psnr: 2.23e+01 at lambda: 2.45e-02, rho: 1.08e-01\r",
      "P:   0 R:  20 T:  25  psnr: 2.23e+01 at lambda: 2.45e-02, rho: 1.08e-01\r",
      "P:   1 R:  20 T:  25  psnr: 2.23e+01 at lambda: 2.45e-02, rho: 1.08e-01\r",
      "P:   1 R:  19 T:  26  psnr: 2.23e+01 at lambda: 2.45e-02, rho: 1.08e-01\r",
      "P:   0 R:  20 T:  26  psnr: 2.23e+01 at lambda: 2.45e-02, rho: 1.08e-01\r",
      "P:   1 R:  20 T:  26  psnr: 2.23e+01 at lambda: 2.45e-02, rho: 1.08e-01\r",
      "P:   1 R:  20 T:  26  psnr: 2.23e+01 at lambda: 2.45e-02, rho: 1.08e-01\r"
     ]
    },
    {
     "name": "stdout",
     "output_type": "stream",
     "text": [
      "P:   1 R:  19 T:  27  psnr: 2.23e+01 at lambda: 2.45e-02, rho: 1.08e-01\r",
      "P:   0 R:  20 T:  27  psnr: 2.23e+01 at lambda: 2.45e-02, rho: 1.08e-01\r",
      "P:   1 R:  19 T:  28  psnr: 2.23e+01 at lambda: 2.45e-02, rho: 1.08e-01\r",
      "P:   0 R:  20 T:  28  psnr: 2.23e+01 at lambda: 2.45e-02, rho: 1.08e-01\r",
      "P:   1 R:  19 T:  29  psnr: 2.23e+01 at lambda: 2.45e-02, rho: 1.08e-01\r",
      "P:   0 R:  20 T:  29  psnr: 2.23e+01 at lambda: 2.45e-02, rho: 1.08e-01\r",
      "P:   1 R:  20 T:  29  psnr: 2.23e+01 at lambda: 2.45e-02, rho: 1.08e-01\r",
      "P:   1 R:  19 T:  30  psnr: 2.23e+01 at lambda: 2.45e-02, rho: 1.08e-01\r",
      "P:   0 R:  20 T:  30  psnr: 2.23e+01 at lambda: 2.45e-02, rho: 1.08e-01\r",
      "P:   1 R:  20 T:  30  psnr: 2.23e+01 at lambda: 2.45e-02, rho: 1.08e-01\r"
     ]
    },
    {
     "name": "stdout",
     "output_type": "stream",
     "text": [
      "P:   1 R:  20 T:  30  psnr: 2.23e+01 at lambda: 2.45e-02, rho: 1.08e-01\r"
     ]
    },
    {
     "name": "stdout",
     "output_type": "stream",
     "text": [
      "P:   1 R:  20 T:  30  psnr: 2.23e+01 at lambda: 2.45e-02, rho: 1.08e-01\r",
      "P:   1 R:  20 T:  30  psnr: 2.23e+01 at lambda: 2.45e-02, rho: 1.08e-01\r",
      "P:   1 R:  20 T:  30  psnr: 2.23e+01 at lambda: 2.45e-02, rho: 1.08e-01\r",
      "P:   1 R:  20 T:  30  psnr: 2.23e+01 at lambda: 2.15e-02, rho: 1.08e-01\r"
     ]
    },
    {
     "name": "stdout",
     "output_type": "stream",
     "text": [
      "P:   1 R:  20 T:  30  psnr: 2.23e+01 at lambda: 2.15e-02, rho: 1.08e-01\r"
     ]
    },
    {
     "name": "stdout",
     "output_type": "stream",
     "text": [
      "P:   1 R:  20 T:  30  psnr: 2.23e+01 at lambda: 2.15e-02, rho: 1.08e-01\r",
      "P:   1 R:  20 T:  30  psnr: 2.23e+01 at lambda: 2.15e-02, rho: 1.08e-01\r",
      "P:   1 R:  20 T:  30  psnr: 2.23e+01 at lambda: 2.15e-02, rho: 1.08e-01\r",
      "P:   1 R:  20 T:  30  psnr: 2.23e+01 at lambda: 2.15e-02, rho: 1.08e-01\r",
      "P:   1 R:  19 T:  31  psnr: 2.23e+01 at lambda: 2.15e-02, rho: 1.08e-01\r",
      "P:   0 R:  20 T:  31  psnr: 2.23e+01 at lambda: 2.15e-02, rho: 1.08e-01\r",
      "P:   1 R:  20 T:  31  psnr: 2.23e+01 at lambda: 2.15e-02, rho: 1.08e-01\r"
     ]
    },
    {
     "name": "stdout",
     "output_type": "stream",
     "text": [
      "P:   1 R:  20 T:  31  psnr: 2.23e+01 at lambda: 2.15e-02, rho: 1.08e-01\r",
      "P:   1 R:  20 T:  31  psnr: 2.23e+01 at lambda: 2.15e-02, rho: 1.08e-01\r"
     ]
    },
    {
     "name": "stdout",
     "output_type": "stream",
     "text": [
      "P:   1 R:  20 T:  31  psnr: 2.23e+01 at lambda: 2.15e-02, rho: 1.08e-01\r",
      "P:   1 R:  20 T:  31  psnr: 2.23e+01 at lambda: 2.15e-02, rho: 1.08e-01\r"
     ]
    },
    {
     "name": "stdout",
     "output_type": "stream",
     "text": [
      "P:   1 R:  20 T:  31  psnr: 2.23e+01 at lambda: 2.15e-02, rho: 1.08e-01\r",
      "P:   1 R:  20 T:  31  psnr: 2.23e+01 at lambda: 2.15e-02, rho: 1.08e-01\r"
     ]
    },
    {
     "name": "stdout",
     "output_type": "stream",
     "text": [
      "P:   1 R:  19 T:  32  psnr: 2.23e+01 at lambda: 2.15e-02, rho: 1.08e-01\r",
      "P:   0 R:  20 T:  32  psnr: 2.23e+01 at lambda: 2.15e-02, rho: 1.08e-01\r",
      "P:   1 R:  20 T:  32  psnr: 2.23e+01 at lambda: 2.15e-02, rho: 1.08e-01\r",
      "P:   1 R:  19 T:  33  psnr: 2.23e+01 at lambda: 2.15e-02, rho: 1.08e-01\r",
      "P:   0 R:  20 T:  33  psnr: 2.23e+01 at lambda: 2.15e-02, rho: 1.08e-01\r",
      "P:   1 R:  20 T:  33  psnr: 2.23e+01 at lambda: 2.15e-02, rho: 1.08e-01\r",
      "P:   1 R:  19 T:  34  psnr: 2.23e+01 at lambda: 2.15e-02, rho: 1.08e-01\r",
      "P:   0 R:  20 T:  34  psnr: 2.23e+01 at lambda: 2.15e-02, rho: 1.08e-01\r",
      "P:   1 R:  19 T:  35  psnr: 2.23e+01 at lambda: 2.15e-02, rho: 1.08e-01\r",
      "P:   0 R:  20 T:  35  psnr: 2.23e+01 at lambda: 2.15e-02, rho: 1.08e-01\r"
     ]
    },
    {
     "name": "stdout",
     "output_type": "stream",
     "text": [
      "P:   1 R:  20 T:  35  psnr: 2.23e+01 at lambda: 2.15e-02, rho: 1.08e-01\r",
      "P:   1 R:  20 T:  35  psnr: 2.23e+01 at lambda: 2.15e-02, rho: 1.08e-01\r",
      "P:   1 R:  19 T:  36  psnr: 2.23e+01 at lambda: 2.15e-02, rho: 1.08e-01\r",
      "P:   0 R:  20 T:  36  psnr: 2.23e+01 at lambda: 2.15e-02, rho: 1.08e-01\r",
      "P:   1 R:  20 T:  36  psnr: 2.23e+01 at lambda: 2.15e-02, rho: 1.08e-01\r",
      "P:   1 R:  19 T:  37  psnr: 2.23e+01 at lambda: 2.15e-02, rho: 1.08e-01\r",
      "P:   0 R:  20 T:  37  psnr: 2.23e+01 at lambda: 2.15e-02, rho: 1.08e-01\r",
      "P:   1 R:  20 T:  37  psnr: 2.23e+01 at lambda: 2.15e-02, rho: 1.08e-01\r"
     ]
    },
    {
     "name": "stdout",
     "output_type": "stream",
     "text": [
      "P:   1 R:  19 T:  38  psnr: 2.23e+01 at lambda: 2.15e-02, rho: 1.08e-01\r",
      "P:   0 R:  20 T:  38  psnr: 2.23e+01 at lambda: 2.15e-02, rho: 1.08e-01\r",
      "P:   1 R:  19 T:  39  psnr: 2.23e+01 at lambda: 2.15e-02, rho: 1.08e-01\r",
      "P:   0 R:  20 T:  39  psnr: 2.23e+01 at lambda: 2.15e-02, rho: 1.08e-01\r",
      "P:   1 R:  19 T:  40  psnr: 2.23e+01 at lambda: 2.15e-02, rho: 1.08e-01\r",
      "P:   0 R:  20 T:  40  psnr: 2.23e+01 at lambda: 2.15e-02, rho: 1.08e-01\r",
      "P:   1 R:  19 T:  41  psnr: 2.23e+01 at lambda: 2.15e-02, rho: 1.08e-01\r"
     ]
    },
    {
     "name": "stdout",
     "output_type": "stream",
     "text": [
      "P:   0 R:  20 T:  41  psnr: 2.23e+01 at lambda: 2.15e-02, rho: 1.08e-01\r",
      "P:   1 R:  19 T:  42  psnr: 2.23e+01 at lambda: 2.15e-02, rho: 1.08e-01\r",
      "P:   0 R:  20 T:  42  psnr: 2.23e+01 at lambda: 2.15e-02, rho: 1.08e-01\r"
     ]
    },
    {
     "name": "stdout",
     "output_type": "stream",
     "text": [
      "P:   1 R:  20 T:  42  psnr: 2.23e+01 at lambda: 2.15e-02, rho: 1.08e-01\r",
      "P:   1 R:  20 T:  42  psnr: 2.23e+01 at lambda: 2.15e-02, rho: 1.08e-01\r",
      "P:   1 R:  19 T:  43  psnr: 2.23e+01 at lambda: 2.15e-02, rho: 1.08e-01\r",
      "P:   0 R:  20 T:  43  psnr: 2.23e+01 at lambda: 2.15e-02, rho: 1.08e-01\r",
      "P:   1 R:  20 T:  43  psnr: 2.23e+01 at lambda: 2.15e-02, rho: 1.08e-01\r"
     ]
    },
    {
     "name": "stdout",
     "output_type": "stream",
     "text": [
      "P:   1 R:  19 T:  44  psnr: 2.23e+01 at lambda: 2.15e-02, rho: 1.08e-01\r",
      "P:   0 R:  20 T:  44  psnr: 2.23e+01 at lambda: 2.15e-02, rho: 1.08e-01\r",
      "P:   1 R:  20 T:  44  psnr: 2.23e+01 at lambda: 2.15e-02, rho: 1.08e-01\r",
      "P:   1 R:  19 T:  45  psnr: 2.23e+01 at lambda: 2.15e-02, rho: 1.08e-01\r",
      "P:   0 R:  20 T:  45  psnr: 2.23e+01 at lambda: 2.15e-02, rho: 1.08e-01\r"
     ]
    },
    {
     "name": "stdout",
     "output_type": "stream",
     "text": [
      "P:   1 R:  20 T:  45  psnr: 2.23e+01 at lambda: 2.15e-02, rho: 1.08e-01\r"
     ]
    },
    {
     "name": "stdout",
     "output_type": "stream",
     "text": [
      "P:   1 R:  20 T:  45  psnr: 2.23e+01 at lambda: 2.15e-02, rho: 1.08e-01\r",
      "P:   1 R:  19 T:  46  psnr: 2.23e+01 at lambda: 2.15e-02, rho: 1.08e-01\r",
      "P:   0 R:  20 T:  46  psnr: 2.23e+01 at lambda: 2.15e-02, rho: 1.08e-01\r",
      "P:   1 R:  19 T:  47  psnr: 2.23e+01 at lambda: 2.15e-02, rho: 1.08e-01\r",
      "P:   0 R:  20 T:  47  psnr: 2.23e+01 at lambda: 2.15e-02, rho: 1.08e-01\r",
      "P:   1 R:  20 T:  47  psnr: 2.23e+01 at lambda: 2.15e-02, rho: 1.08e-01\r"
     ]
    },
    {
     "name": "stdout",
     "output_type": "stream",
     "text": [
      "P:   1 R:  20 T:  47  psnr: 2.23e+01 at lambda: 2.15e-02, rho: 1.08e-01\r",
      "P:   1 R:  20 T:  47  psnr: 2.23e+01 at lambda: 2.15e-02, rho: 1.08e-01\r",
      "P:   1 R:  20 T:  47  psnr: 2.23e+01 at lambda: 2.15e-02, rho: 1.08e-01\r",
      "P:   1 R:  19 T:  48  psnr: 2.23e+01 at lambda: 2.15e-02, rho: 1.08e-01\r",
      "P:   0 R:  20 T:  48  psnr: 2.23e+01 at lambda: 2.15e-02, rho: 1.08e-01\r"
     ]
    },
    {
     "name": "stdout",
     "output_type": "stream",
     "text": [
      "P:   1 R:  19 T:  49  psnr: 2.23e+01 at lambda: 2.15e-02, rho: 1.08e-01\r",
      "P:   0 R:  20 T:  49  psnr: 2.23e+01 at lambda: 2.15e-02, rho: 1.08e-01\r",
      "P:   1 R:  19 T:  50  psnr: 2.23e+01 at lambda: 2.15e-02, rho: 1.08e-01\r",
      "P:   0 R:  20 T:  50  psnr: 2.23e+01 at lambda: 2.15e-02, rho: 1.08e-01\r"
     ]
    },
    {
     "name": "stdout",
     "output_type": "stream",
     "text": [
      "P:   1 R:  20 T:  50  psnr: 2.23e+01 at lambda: 2.15e-02, rho: 1.08e-01\r",
      "P:   1 R:  20 T:  50  psnr: 2.23e+01 at lambda: 2.15e-02, rho: 1.08e-01\r",
      "P:   1 R:  20 T:  50  psnr: 2.23e+01 at lambda: 2.15e-02, rho: 1.08e-01\r",
      "P:   1 R:  19 T:  51  psnr: 2.23e+01 at lambda: 2.15e-02, rho: 1.08e-01\r",
      "P:   0 R:  20 T:  51  psnr: 2.23e+01 at lambda: 2.15e-02, rho: 1.08e-01\r"
     ]
    },
    {
     "name": "stdout",
     "output_type": "stream",
     "text": [
      "P:   1 R:  19 T:  52  psnr: 2.23e+01 at lambda: 2.15e-02, rho: 1.08e-01\r",
      "P:   0 R:  20 T:  52  psnr: 2.23e+01 at lambda: 2.15e-02, rho: 1.08e-01\r"
     ]
    },
    {
     "name": "stdout",
     "output_type": "stream",
     "text": [
      "P:   1 R:  19 T:  53  psnr: 2.23e+01 at lambda: 2.15e-02, rho: 1.08e-01\r",
      "P:   0 R:  20 T:  53  psnr: 2.23e+01 at lambda: 2.15e-02, rho: 1.08e-01\r"
     ]
    },
    {
     "name": "stdout",
     "output_type": "stream",
     "text": [
      "P:   1 R:  20 T:  53  psnr: 2.23e+01 at lambda: 2.15e-02, rho: 1.08e-01\r",
      "P:   1 R:  20 T:  53  psnr: 2.23e+01 at lambda: 2.15e-02, rho: 1.08e-01\r",
      "P:   1 R:  19 T:  54  psnr: 2.23e+01 at lambda: 2.15e-02, rho: 1.08e-01\r",
      "P:   0 R:  20 T:  54  psnr: 2.23e+01 at lambda: 2.15e-02, rho: 1.08e-01\r",
      "P:   1 R:  19 T:  55  psnr: 2.23e+01 at lambda: 2.15e-02, rho: 1.08e-01\r",
      "P:   0 R:  20 T:  55  psnr: 2.23e+01 at lambda: 2.15e-02, rho: 1.08e-01\r",
      "P:   1 R:  20 T:  55  psnr: 2.23e+01 at lambda: 2.15e-02, rho: 1.08e-01\r",
      "P:   1 R:  20 T:  55  psnr: 2.23e+01 at lambda: 2.15e-02, rho: 1.08e-01\r"
     ]
    },
    {
     "name": "stdout",
     "output_type": "stream",
     "text": [
      "P:   1 R:  20 T:  55  psnr: 2.23e+01 at lambda: 2.15e-02, rho: 1.08e-01\r",
      "P:   1 R:  20 T:  55  psnr: 2.23e+01 at lambda: 2.15e-02, rho: 1.08e-01\r",
      "P:   1 R:  20 T:  55  psnr: 2.23e+01 at lambda: 2.15e-02, rho: 1.08e-01\r"
     ]
    },
    {
     "name": "stdout",
     "output_type": "stream",
     "text": [
      "P:   1 R:  20 T:  55  psnr: 2.23e+01 at lambda: 2.15e-02, rho: 1.08e-01\r",
      "P:   1 R:  19 T:  56  psnr: 2.23e+01 at lambda: 2.15e-02, rho: 1.08e-01\r",
      "P:   0 R:  20 T:  56  psnr: 2.23e+01 at lambda: 2.15e-02, rho: 1.08e-01\r"
     ]
    },
    {
     "name": "stdout",
     "output_type": "stream",
     "text": [
      "P:   1 R:  20 T:  56  psnr: 2.23e+01 at lambda: 2.15e-02, rho: 1.08e-01\r"
     ]
    },
    {
     "name": "stdout",
     "output_type": "stream",
     "text": [
      "P:   1 R:  19 T:  57  psnr: 2.23e+01 at lambda: 2.15e-02, rho: 1.08e-01\r",
      "P:   0 R:  20 T:  57  psnr: 2.23e+01 at lambda: 2.15e-02, rho: 1.08e-01\r",
      "P:   1 R:  19 T:  58  psnr: 2.23e+01 at lambda: 2.15e-02, rho: 1.08e-01\r",
      "P:   0 R:  20 T:  58  psnr: 2.23e+01 at lambda: 2.15e-02, rho: 1.08e-01\r",
      "P:   1 R:  19 T:  59  psnr: 2.23e+01 at lambda: 2.15e-02, rho: 1.08e-01\r",
      "P:   0 R:  20 T:  59  psnr: 2.23e+01 at lambda: 2.15e-02, rho: 1.08e-01\r",
      "P:   1 R:  20 T:  59  psnr: 2.23e+01 at lambda: 2.15e-02, rho: 1.08e-01\r",
      "P:   1 R:  20 T:  59  psnr: 2.23e+01 at lambda: 2.15e-02, rho: 1.08e-01\r",
      "P:   1 R:  20 T:  59  psnr: 2.23e+01 at lambda: 2.15e-02, rho: 1.08e-01\r",
      "P:   1 R:  20 T:  59  psnr: 2.23e+01 at lambda: 2.15e-02, rho: 1.08e-01\r"
     ]
    },
    {
     "name": "stdout",
     "output_type": "stream",
     "text": [
      "P:   1 R:  20 T:  59  psnr: 2.23e+01 at lambda: 2.15e-02, rho: 1.08e-01\r",
      "P:   1 R:  20 T:  59  psnr: 2.23e+01 at lambda: 2.15e-02, rho: 1.08e-01\r",
      "P:   1 R:  20 T:  59  psnr: 2.23e+01 at lambda: 2.15e-02, rho: 1.08e-01\r",
      "P:   1 R:  20 T:  59  psnr: 2.23e+01 at lambda: 2.15e-02, rho: 1.08e-01\r"
     ]
    },
    {
     "name": "stdout",
     "output_type": "stream",
     "text": [
      "P:   1 R:  19 T:  60  psnr: 2.23e+01 at lambda: 2.15e-02, rho: 1.08e-01\r",
      "P:   0 R:  20 T:  60  psnr: 2.23e+01 at lambda: 2.15e-02, rho: 1.08e-01\r",
      "P:   1 R:  20 T:  60  psnr: 2.23e+01 at lambda: 2.15e-02, rho: 1.08e-01\r"
     ]
    },
    {
     "name": "stdout",
     "output_type": "stream",
     "text": [
      "P:   1 R:  19 T:  61  psnr: 2.23e+01 at lambda: 2.15e-02, rho: 1.08e-01\r",
      "P:   0 R:  20 T:  61  psnr: 2.23e+01 at lambda: 2.15e-02, rho: 1.08e-01\r",
      "P:   1 R:  19 T:  62  psnr: 2.23e+01 at lambda: 2.15e-02, rho: 1.08e-01\r",
      "P:   0 R:  20 T:  62  psnr: 2.23e+01 at lambda: 2.15e-02, rho: 1.08e-01\r",
      "P:   1 R:  19 T:  63  psnr: 2.23e+01 at lambda: 2.15e-02, rho: 1.08e-01\r",
      "P:   0 R:  20 T:  63  psnr: 2.23e+01 at lambda: 2.15e-02, rho: 1.08e-01\r",
      "P:   1 R:  20 T:  63  psnr: 2.23e+01 at lambda: 2.15e-02, rho: 1.08e-01\r",
      "P:   1 R:  20 T:  63  psnr: 2.23e+01 at lambda: 2.15e-02, rho: 1.08e-01\r"
     ]
    },
    {
     "name": "stdout",
     "output_type": "stream",
     "text": [
      "P:   1 R:  20 T:  63  psnr: 2.23e+01 at lambda: 2.15e-02, rho: 1.08e-01\r",
      "P:   1 R:  20 T:  63  psnr: 2.23e+01 at lambda: 2.15e-02, rho: 1.08e-01\r",
      "P:   1 R:  19 T:  64  psnr: 2.23e+01 at lambda: 2.15e-02, rho: 1.08e-01\r",
      "P:   0 R:  20 T:  64  psnr: 2.23e+01 at lambda: 2.15e-02, rho: 1.08e-01\r",
      "P:   1 R:  20 T:  64  psnr: 2.23e+01 at lambda: 2.15e-02, rho: 1.08e-01\r"
     ]
    },
    {
     "name": "stdout",
     "output_type": "stream",
     "text": [
      "P:   1 R:  19 T:  65  psnr: 2.23e+01 at lambda: 2.15e-02, rho: 1.08e-01\r",
      "P:   0 R:  20 T:  65  psnr: 2.23e+01 at lambda: 2.15e-02, rho: 1.08e-01\r",
      "P:   1 R:  20 T:  65  psnr: 2.23e+01 at lambda: 2.15e-02, rho: 1.08e-01\r",
      "P:   1 R:  20 T:  65  psnr: 2.23e+01 at lambda: 2.15e-02, rho: 1.08e-01\r",
      "P:   1 R:  19 T:  66  psnr: 2.23e+01 at lambda: 2.15e-02, rho: 1.08e-01\r",
      "P:   0 R:  20 T:  66  psnr: 2.23e+01 at lambda: 2.15e-02, rho: 1.08e-01\r"
     ]
    },
    {
     "name": "stdout",
     "output_type": "stream",
     "text": [
      "P:   1 R:  20 T:  66  psnr: 2.23e+01 at lambda: 2.15e-02, rho: 1.08e-01\r",
      "P:   1 R:  20 T:  66  psnr: 2.23e+01 at lambda: 2.15e-02, rho: 1.08e-01\r"
     ]
    },
    {
     "name": "stdout",
     "output_type": "stream",
     "text": [
      "P:   1 R:  20 T:  66  psnr: 2.23e+01 at lambda: 2.15e-02, rho: 1.08e-01\r",
      "P:   1 R:  19 T:  67  psnr: 2.23e+01 at lambda: 2.15e-02, rho: 1.08e-01\r",
      "P:   0 R:  20 T:  67  psnr: 2.23e+01 at lambda: 2.15e-02, rho: 1.08e-01\r",
      "P:   1 R:  20 T:  67  psnr: 2.23e+01 at lambda: 2.15e-02, rho: 1.08e-01\r"
     ]
    },
    {
     "name": "stdout",
     "output_type": "stream",
     "text": [
      "P:   1 R:  20 T:  67  psnr: 2.23e+01 at lambda: 2.15e-02, rho: 1.08e-01\r",
      "P:   1 R:  20 T:  67  psnr: 2.23e+01 at lambda: 2.15e-02, rho: 1.08e-01\r",
      "P:   1 R:  20 T:  67  psnr: 2.23e+01 at lambda: 2.15e-02, rho: 1.08e-01\r",
      "P:   1 R:  19 T:  68  psnr: 2.23e+01 at lambda: 2.15e-02, rho: 1.08e-01\r",
      "P:   0 R:  20 T:  68  psnr: 2.23e+01 at lambda: 2.15e-02, rho: 1.08e-01\r"
     ]
    },
    {
     "name": "stdout",
     "output_type": "stream",
     "text": [
      "P:   1 R:  20 T:  68  psnr: 2.23e+01 at lambda: 2.15e-02, rho: 1.08e-01\r",
      "P:   1 R:  19 T:  69  psnr: 2.23e+01 at lambda: 2.15e-02, rho: 1.08e-01\r",
      "P:   0 R:  20 T:  69  psnr: 2.23e+01 at lambda: 2.15e-02, rho: 1.08e-01\r",
      "P:   1 R:  20 T:  69  psnr: 2.23e+01 at lambda: 2.15e-02, rho: 1.08e-01\r"
     ]
    },
    {
     "name": "stdout",
     "output_type": "stream",
     "text": [
      "P:   1 R:  19 T:  70  psnr: 2.23e+01 at lambda: 2.15e-02, rho: 1.08e-01\r",
      "P:   0 R:  20 T:  70  psnr: 2.23e+01 at lambda: 2.15e-02, rho: 1.08e-01\r",
      "P:   1 R:  20 T:  70  psnr: 2.23e+01 at lambda: 2.15e-02, rho: 1.08e-01\r",
      "P:   1 R:  19 T:  71  psnr: 2.23e+01 at lambda: 2.15e-02, rho: 1.08e-01\r",
      "P:   0 R:  20 T:  71  psnr: 2.23e+01 at lambda: 2.15e-02, rho: 1.08e-01\r",
      "P:   1 R:  20 T:  71  psnr: 2.23e+01 at lambda: 2.15e-02, rho: 1.08e-01\r",
      "P:   1 R:  19 T:  72  psnr: 2.23e+01 at lambda: 2.15e-02, rho: 1.08e-01\r",
      "P:   0 R:  20 T:  72  psnr: 2.23e+01 at lambda: 2.15e-02, rho: 1.08e-01\r"
     ]
    },
    {
     "name": "stdout",
     "output_type": "stream",
     "text": [
      "P:   1 R:  20 T:  72  psnr: 2.23e+01 at lambda: 2.15e-02, rho: 1.08e-01\r",
      "P:   1 R:  19 T:  73  psnr: 2.23e+01 at lambda: 2.15e-02, rho: 1.08e-01\r",
      "P:   0 R:  20 T:  73  psnr: 2.23e+01 at lambda: 2.15e-02, rho: 1.08e-01\r",
      "P:   1 R:  20 T:  73  psnr: 2.23e+01 at lambda: 2.15e-02, rho: 1.08e-01\r"
     ]
    },
    {
     "name": "stdout",
     "output_type": "stream",
     "text": [
      "P:   1 R:  19 T:  74  psnr: 2.23e+01 at lambda: 2.15e-02, rho: 1.08e-01\r",
      "P:   0 R:  20 T:  74  psnr: 2.23e+01 at lambda: 2.15e-02, rho: 1.08e-01\r"
     ]
    },
    {
     "name": "stdout",
     "output_type": "stream",
     "text": [
      "P:   1 R:  19 T:  75  psnr: 2.23e+01 at lambda: 2.15e-02, rho: 1.08e-01\r",
      "P:   0 R:  20 T:  75  psnr: 2.23e+01 at lambda: 2.15e-02, rho: 1.08e-01\r",
      "P:   1 R:  19 T:  76  psnr: 2.23e+01 at lambda: 2.15e-02, rho: 1.08e-01\r",
      "P:   0 R:  20 T:  76  psnr: 2.23e+01 at lambda: 2.15e-02, rho: 1.08e-01\r",
      "P:   1 R:  20 T:  76  psnr: 2.23e+01 at lambda: 2.15e-02, rho: 1.08e-01\r",
      "P:   1 R:  20 T:  76  psnr: 2.23e+01 at lambda: 2.15e-02, rho: 1.08e-01\r",
      "P:   1 R:  19 T:  77  psnr: 2.23e+01 at lambda: 2.15e-02, rho: 1.08e-01\r",
      "P:   0 R:  20 T:  77  psnr: 2.23e+01 at lambda: 2.15e-02, rho: 1.08e-01\r",
      "P:   1 R:  20 T:  77  psnr: 2.23e+01 at lambda: 2.15e-02, rho: 1.08e-01\r",
      "P:   1 R:  19 T:  78  psnr: 2.23e+01 at lambda: 2.15e-02, rho: 1.08e-01\r",
      "P:   0 R:  20 T:  78  psnr: 2.23e+01 at lambda: 2.15e-02, rho: 1.08e-01\r"
     ]
    },
    {
     "name": "stdout",
     "output_type": "stream",
     "text": [
      "P:   1 R:  20 T:  78  psnr: 2.23e+01 at lambda: 2.15e-02, rho: 1.08e-01\r"
     ]
    },
    {
     "name": "stdout",
     "output_type": "stream",
     "text": [
      "P:   1 R:  19 T:  79  psnr: 2.23e+01 at lambda: 2.15e-02, rho: 1.08e-01\r",
      "P:   0 R:  20 T:  79  psnr: 2.23e+01 at lambda: 2.15e-02, rho: 1.08e-01\r",
      "P:   1 R:  19 T:  80  psnr: 2.23e+01 at lambda: 2.15e-02, rho: 1.08e-01\r",
      "P:   0 R:  20 T:  80  psnr: 2.23e+01 at lambda: 2.15e-02, rho: 1.08e-01\r"
     ]
    },
    {
     "name": "stdout",
     "output_type": "stream",
     "text": [
      "P:   0 R:  19 T:  81  psnr: 2.23e+01 at lambda: 2.15e-02, rho: 1.08e-01\r",
      "P:   0 R:  19 T:  81  psnr: 2.23e+01 at lambda: 2.15e-02, rho: 1.08e-01\r",
      "P:   0 R:  18 T:  82  psnr: 2.23e+01 at lambda: 2.15e-02, rho: 1.08e-01\r",
      "P:   0 R:  17 T:  83  psnr: 2.23e+01 at lambda: 2.15e-02, rho: 1.08e-01\r",
      "P:   0 R:  16 T:  84  psnr: 2.23e+01 at lambda: 2.15e-02, rho: 1.08e-01\r"
     ]
    },
    {
     "name": "stdout",
     "output_type": "stream",
     "text": [
      "P:   0 R:  16 T:  84  psnr: 2.23e+01 at lambda: 2.15e-02, rho: 1.08e-01\r",
      "P:   0 R:  16 T:  84  psnr: 2.23e+01 at lambda: 2.15e-02, rho: 1.08e-01\r"
     ]
    },
    {
     "name": "stdout",
     "output_type": "stream",
     "text": [
      "P:   0 R:  15 T:  85  psnr: 2.23e+01 at lambda: 2.15e-02, rho: 1.08e-01\r"
     ]
    },
    {
     "name": "stdout",
     "output_type": "stream",
     "text": [
      "P:   0 R:  15 T:  85  psnr: 2.23e+01 at lambda: 2.15e-02, rho: 1.08e-01\r",
      "P:   0 R:  15 T:  85  psnr: 2.23e+01 at lambda: 2.15e-02, rho: 1.08e-01\r",
      "P:   0 R:  14 T:  86  psnr: 2.23e+01 at lambda: 2.15e-02, rho: 1.08e-01\r",
      "P:   0 R:  13 T:  87  psnr: 2.23e+01 at lambda: 2.15e-02, rho: 1.08e-01\r"
     ]
    },
    {
     "name": "stdout",
     "output_type": "stream",
     "text": [
      "P:   0 R:  12 T:  88  psnr: 2.23e+01 at lambda: 2.15e-02, rho: 1.08e-01\r",
      "P:   0 R:  12 T:  88  psnr: 2.23e+01 at lambda: 2.15e-02, rho: 1.08e-01\r",
      "P:   0 R:  11 T:  89  psnr: 2.23e+01 at lambda: 2.15e-02, rho: 1.08e-01\r",
      "P:   0 R:  11 T:  89  psnr: 2.23e+01 at lambda: 2.15e-02, rho: 1.08e-01\r",
      "P:   0 R:  11 T:  89  psnr: 2.23e+01 at lambda: 2.15e-02, rho: 1.08e-01\r",
      "P:   0 R:  10 T:  90  psnr: 2.23e+01 at lambda: 2.15e-02, rho: 1.08e-01\r"
     ]
    },
    {
     "name": "stdout",
     "output_type": "stream",
     "text": [
      "P:   0 R:   9 T:  91  psnr: 2.23e+01 at lambda: 2.15e-02, rho: 1.08e-01\r",
      "P:   0 R:   8 T:  92  psnr: 2.23e+01 at lambda: 2.15e-02, rho: 1.08e-01\r",
      "P:   0 R:   8 T:  92  psnr: 2.23e+01 at lambda: 2.15e-02, rho: 1.08e-01\r",
      "P:   0 R:   8 T:  92  psnr: 2.23e+01 at lambda: 2.15e-02, rho: 1.08e-01\r",
      "P:   0 R:   8 T:  92  psnr: 2.23e+01 at lambda: 2.15e-02, rho: 1.08e-01\r"
     ]
    },
    {
     "name": "stdout",
     "output_type": "stream",
     "text": [
      "P:   0 R:   8 T:  92  psnr: 2.23e+01 at lambda: 2.15e-02, rho: 1.08e-01\r",
      "P:   0 R:   8 T:  92  psnr: 2.23e+01 at lambda: 2.15e-02, rho: 1.08e-01\r"
     ]
    },
    {
     "name": "stdout",
     "output_type": "stream",
     "text": [
      "P:   0 R:   8 T:  92  psnr: 2.23e+01 at lambda: 2.15e-02, rho: 1.08e-01\r",
      "P:   0 R:   8 T:  92  psnr: 2.23e+01 at lambda: 2.15e-02, rho: 1.08e-01\r"
     ]
    },
    {
     "name": "stdout",
     "output_type": "stream",
     "text": [
      "P:   0 R:   8 T:  92  psnr: 2.23e+01 at lambda: 2.15e-02, rho: 1.08e-01\r",
      "P:   0 R:   8 T:  92  psnr: 2.23e+01 at lambda: 2.15e-02, rho: 1.08e-01\r",
      "P:   0 R:   8 T:  92  psnr: 2.23e+01 at lambda: 2.15e-02, rho: 1.08e-01\r",
      "P:   0 R:   7 T:  93  psnr: 2.23e+01 at lambda: 2.15e-02, rho: 1.08e-01\r",
      "P:   0 R:   6 T:  94  psnr: 2.23e+01 at lambda: 2.15e-02, rho: 1.08e-01\r",
      "P:   0 R:   6 T:  94  psnr: 2.23e+01 at lambda: 2.15e-02, rho: 1.08e-01\r",
      "P:   0 R:   5 T:  95  psnr: 2.23e+01 at lambda: 2.15e-02, rho: 1.08e-01\r"
     ]
    },
    {
     "name": "stdout",
     "output_type": "stream",
     "text": [
      "P:   0 R:   5 T:  95  psnr: 2.23e+01 at lambda: 2.15e-02, rho: 1.08e-01\r",
      "P:   0 R:   4 T:  96  psnr: 2.23e+01 at lambda: 2.15e-02, rho: 1.08e-01\r",
      "P:   0 R:   4 T:  96  psnr: 2.23e+01 at lambda: 2.15e-02, rho: 1.08e-01\r"
     ]
    },
    {
     "name": "stdout",
     "output_type": "stream",
     "text": [
      "P:   0 R:   3 T:  97  psnr: 2.23e+01 at lambda: 2.15e-02, rho: 1.08e-01\r",
      "P:   0 R:   3 T:  97  psnr: 2.23e+01 at lambda: 2.15e-02, rho: 1.08e-01\r",
      "P:   0 R:   3 T:  97  psnr: 2.23e+01 at lambda: 2.15e-02, rho: 1.08e-01\r",
      "P:   0 R:   2 T:  98  psnr: 2.23e+01 at lambda: 2.15e-02, rho: 1.08e-01\r"
     ]
    },
    {
     "name": "stdout",
     "output_type": "stream",
     "text": [
      "P:   0 R:   1 T:  99  psnr: 2.23e+01 at lambda: 2.15e-02, rho: 1.08e-01\r",
      "P:   0 R:   1 T:  99  psnr: 2.23e+01 at lambda: 2.15e-02, rho: 1.08e-01\r",
      "P:   0 R:   0 T: 100  psnr: 2.23e+01 at lambda: 2.15e-02, rho: 1.08e-01\n"
     ]
    }
   ],
   "source": [
    "analysis = tune.run(\n",
    "    eval_params,\n",
    "    metric=\"psnr\",\n",
    "    mode=\"max\",\n",
    "    num_samples=100,\n",
    "    config=config,\n",
    "    resources_per_trial=resources,\n",
    "    hyperopt=True,\n",
    "    verbose=True,\n",
    ")"
   ]
  },
  {
   "cell_type": "markdown",
   "id": "3713c627",
   "metadata": {},
   "source": [
    "Display best parameters and corresponding performance."
   ]
  },
  {
   "cell_type": "code",
   "execution_count": 8,
   "id": "79cf8746",
   "metadata": {
    "collapsed": false,
    "execution": {
     "iopub.execute_input": "2023-01-26T21:45:06.443495Z",
     "iopub.status.busy": "2023-01-26T21:45:06.443285Z",
     "iopub.status.idle": "2023-01-26T21:45:06.450143Z",
     "shell.execute_reply": "2023-01-26T21:45:06.449138Z"
    }
   },
   "outputs": [
    {
     "name": "stdout",
     "output_type": "stream",
     "text": [
      "Best PSNR: 22.29 dB\n",
      "Best config: lambda: 2.15e-02, rho: 1.08e-01\n"
     ]
    }
   ],
   "source": [
    "best_config = analysis.get_best_config(metric=\"psnr\", mode=\"max\")\n",
    "print(f\"Best PSNR: {analysis.get_best_trial().last_result['psnr']:.2f} dB\")\n",
    "print(\"Best config: \" + \", \".join([f\"{k}: {v:.2e}\" for k, v in best_config.items()]))"
   ]
  },
  {
   "cell_type": "markdown",
   "id": "b934711d",
   "metadata": {},
   "source": [
    "Plot parameter values visited during parameter search. Marker sizes are\n",
    "proportional to number of iterations run at each parameter pair. The best\n",
    "point in the parameter space is indicated in red."
   ]
  },
  {
   "cell_type": "code",
   "execution_count": 9,
   "id": "3d6eb7dd",
   "metadata": {
    "collapsed": false,
    "execution": {
     "iopub.execute_input": "2023-01-26T21:45:06.452891Z",
     "iopub.status.busy": "2023-01-26T21:45:06.452670Z",
     "iopub.status.idle": "2023-01-26T21:45:07.120764Z",
     "shell.execute_reply": "2023-01-26T21:45:07.119695Z"
    }
   },
   "outputs": [
    {
     "data": {
      "image/png": "[encoded data removed]",
      "text/plain": [
       "<Figure size 800x800 with 1 Axes>"
      ]
     },
     "metadata": {},
     "output_type": "display_data"
    }
   ],
   "source": [
    "fig = plot.figure(figsize=(8, 8))\n",
    "for t in analysis.trials:\n",
    "    n = t.metric_analysis[\"training_iteration\"][\"max\"]\n",
    "    plot.plot(\n",
    "        t.config[\"lambda\"],\n",
    "        t.config[\"rho\"],\n",
    "        ptyp=\"loglog\",\n",
    "        lw=0,\n",
    "        ms=(0.5 + 1.5 * n),\n",
    "        marker=\"o\",\n",
    "        mfc=\"blue\",\n",
    "        mec=\"blue\",\n",
    "        fig=fig,\n",
    "    )\n",
    "plot.plot(\n",
    "    best_config[\"lambda\"],\n",
    "    best_config[\"rho\"],\n",
    "    ptyp=\"loglog\",\n",
    "    title=\"Parameter search sampling locations\\n(marker size proportional to number of iterations)\",\n",
    "    xlbl=r\"$\\rho$\",\n",
    "    ylbl=r\"$\\lambda$\",\n",
    "    lw=0,\n",
    "    ms=5.0,\n",
    "    marker=\"o\",\n",
    "    mfc=\"red\",\n",
    "    mec=\"red\",\n",
    "    fig=fig,\n",
    ")\n",
    "ax = fig.axes[0]\n",
    "ax.set_xlim([config[\"rho\"].lower, config[\"rho\"].upper])\n",
    "ax.set_ylim([config[\"lambda\"].lower, config[\"lambda\"].upper])\n",
    "fig.show()"
   ]
  },
  {
   "cell_type": "markdown",
   "id": "30744fc0",
   "metadata": {},
   "source": [
    "Plot parameter values visited during parameter search and corresponding\n",
    "reconstruction PSNRs.The best point in the parameter space is indicated\n",
    "in red."
   ]
  },
  {
   "cell_type": "code",
   "execution_count": 10,
   "id": "653f1e47",
   "metadata": {
    "collapsed": false,
    "execution": {
     "iopub.execute_input": "2023-01-26T21:45:07.126552Z",
     "iopub.status.busy": "2023-01-26T21:45:07.126353Z",
     "iopub.status.idle": "2023-01-26T21:45:07.516303Z",
     "shell.execute_reply": "2023-01-26T21:45:07.514649Z"
    }
   },
   "outputs": [
    {
     "data": {
      "image/png": "[encoded data removed]",
      "text/plain": [
       "<Figure size 1000x800 with 2 Axes>"
      ]
     },
     "metadata": {},
     "output_type": "display_data"
    }
   ],
   "source": [
    "𝜌 = [t.config[\"rho\"] for t in analysis.trials]\n",
    "𝜆 = [t.config[\"lambda\"] for t in analysis.trials]\n",
    "psnr = [t.metric_analysis[\"psnr\"][\"max\"] for t in analysis.trials]\n",
    "𝜌, 𝜆, psnr = zip(*filter(lambda x: x[2] >= 18.0, zip(𝜌, 𝜆, psnr)))\n",
    "fig, ax = plot.subplots(figsize=(10, 8))\n",
    "sc = ax.scatter(𝜌, 𝜆, c=psnr, cmap=plot.cm.plasma_r)\n",
    "fig.colorbar(sc)\n",
    "plot.plot(\n",
    "    best_config[\"lambda\"],\n",
    "    best_config[\"rho\"],\n",
    "    ptyp=\"loglog\",\n",
    "    lw=0,\n",
    "    ms=12.0,\n",
    "    marker=\"2\",\n",
    "    mfc=\"red\",\n",
    "    mec=\"red\",\n",
    "    fig=fig,\n",
    "    ax=ax,\n",
    ")\n",
    "ax.set_xscale(\"log\")\n",
    "ax.set_yscale(\"log\")\n",
    "ax.set_xlabel(r\"$\\rho$\")\n",
    "ax.set_ylabel(r\"$\\lambda$\")\n",
    "ax.set_title(\"PSNR at each sample location\\n(values below 18 dB omitted)\")\n",
    "fig.show()"
   ]
  }
 ],
 "metadata": {
  "language_info": {
   "codemirror_mode": {
    "name": "ipython",
    "version": 3
   },
   "file_extension": ".py",
   "mimetype": "text/x-python",
   "name": "python",
   "nbconvert_exporter": "python",
   "pygments_lexer": "ipython3",
   "version": "3.9.15"
  }
 },
 "nbformat": 4,
 "nbformat_minor": 5
}
