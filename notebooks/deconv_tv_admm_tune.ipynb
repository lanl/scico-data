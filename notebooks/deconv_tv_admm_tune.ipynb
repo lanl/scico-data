{
 "cells": [
  {
   "cell_type": "markdown",
   "id": "4d13f806",
   "metadata": {},
   "source": [
    "Image Deconvolution Parameter Tuning\n",
    "====================================\n",
    "\n",
    "This example demonstrates the use of\n",
    "[scico.ray.tune](../_autosummary/scico.ray.tune.rst) to tune parameters\n",
    "for the companion [example script](deconv_tv_admm.rst)."
   ]
  },
  {
   "cell_type": "code",
   "execution_count": 1,
   "id": "611e495f",
   "metadata": {
    "collapsed": false,
    "execution": {
     "iopub.execute_input": "2022-05-19T15:51:34.580031Z",
     "iopub.status.busy": "2022-05-19T15:51:34.579340Z",
     "iopub.status.idle": "2022-05-19T15:51:42.217462Z",
     "shell.execute_reply": "2022-05-19T15:51:42.216037Z"
    }
   },
   "outputs": [],
   "source": [
    "import numpy as np\n",
    "\n",
    "import jax\n",
    "\n",
    "from xdesign import SiemensStar, discrete_phantom\n",
    "\n",
    "import scico.numpy as snp\n",
    "import scico.random\n",
    "import scico.ray as ray\n",
    "from scico import functional, linop, loss, metric, plot\n",
    "from scico.optimize.admm import ADMM, LinearSubproblemSolver\n",
    "from scico.ray import tune\n",
    "plot.config_notebook_plotting()"
   ]
  },
  {
   "cell_type": "markdown",
   "id": "c38aa2ef",
   "metadata": {},
   "source": [
    "Create a ground truth image."
   ]
  },
  {
   "cell_type": "code",
   "execution_count": 2,
   "id": "7b5b698a",
   "metadata": {
    "collapsed": false,
    "execution": {
     "iopub.execute_input": "2022-05-19T15:51:42.224387Z",
     "iopub.status.busy": "2022-05-19T15:51:42.224059Z",
     "iopub.status.idle": "2022-05-19T15:51:49.790022Z",
     "shell.execute_reply": "2022-05-19T15:51:49.789049Z"
    }
   },
   "outputs": [],
   "source": [
    "phantom = SiemensStar(32)\n",
    "N = 256  # image size\n",
    "x_gt = snp.pad(discrete_phantom(phantom, N - 16), 8)"
   ]
  },
  {
   "cell_type": "markdown",
   "id": "bc42aa9b",
   "metadata": {},
   "source": [
    "Set up the forward operator and create a test signal consisting of a\n",
    "blurred signal with additive Gaussian noise."
   ]
  },
  {
   "cell_type": "code",
   "execution_count": 3,
   "id": "7e2cb09f",
   "metadata": {
    "collapsed": false,
    "execution": {
     "iopub.execute_input": "2022-05-19T15:51:49.796310Z",
     "iopub.status.busy": "2022-05-19T15:51:49.796085Z",
     "iopub.status.idle": "2022-05-19T15:51:53.217049Z",
     "shell.execute_reply": "2022-05-19T15:51:53.215630Z"
    }
   },
   "outputs": [],
   "source": [
    "n = 5  # convolution kernel size\n",
    "σ = 20.0 / 255  # noise level\n",
    "\n",
    "psf = snp.ones((n, n)) / (n * n)\n",
    "A = linop.Convolve(h=psf, input_shape=x_gt.shape)\n",
    "\n",
    "Ax = A(x_gt)  # blurred image\n",
    "noise, key = scico.random.randn(Ax.shape, seed=0)\n",
    "y = Ax + σ * noise"
   ]
  },
  {
   "cell_type": "markdown",
   "id": "347dcf73",
   "metadata": {},
   "source": [
    "Put main arrays into ray object store."
   ]
  },
  {
   "cell_type": "code",
   "execution_count": 4,
   "id": "9e48edc2",
   "metadata": {
    "collapsed": false,
    "execution": {
     "iopub.execute_input": "2022-05-19T15:51:53.223280Z",
     "iopub.status.busy": "2022-05-19T15:51:53.222887Z",
     "iopub.status.idle": "2022-05-19T15:51:54.920511Z",
     "shell.execute_reply": "2022-05-19T15:51:54.919082Z"
    }
   },
   "outputs": [],
   "source": [
    "ray_x_gt, ray_psf, ray_y = ray.put(np.array(x_gt)), ray.put(np.array(psf)), ray.put(np.array(y))"
   ]
  },
  {
   "cell_type": "markdown",
   "id": "2a0f5943",
   "metadata": {},
   "source": [
    "Define performance evaluation function."
   ]
  },
  {
   "cell_type": "code",
   "execution_count": 5,
   "id": "1d7b176d",
   "metadata": {
    "collapsed": false,
    "execution": {
     "iopub.execute_input": "2022-05-19T15:51:54.926525Z",
     "iopub.status.busy": "2022-05-19T15:51:54.926311Z",
     "iopub.status.idle": "2022-05-19T15:51:54.935370Z",
     "shell.execute_reply": "2022-05-19T15:51:54.934473Z"
    }
   },
   "outputs": [],
   "source": [
    "def eval_params(config, reporter):\n",
    "    # Extract solver parameters from config dict.\n",
    "    λ, ρ = config[\"lambda\"], config[\"rho\"]\n",
    "    # Get main arrays from ray object store.\n",
    "    x_gt, psf, y = ray.get([ray_x_gt, ray_psf, ray_y])\n",
    "    # Put main arrays on jax device.\n",
    "    x_gt, psf, y = jax.device_put([x_gt, psf, y])\n",
    "    # Set up problem to be solved.\n",
    "    A = linop.Convolve(h=psf, input_shape=x_gt.shape)\n",
    "    f = loss.SquaredL2Loss(y=y, A=A)\n",
    "    g = λ * functional.L21Norm()\n",
    "    C = linop.FiniteDifference(input_shape=x_gt.shape, append=0)\n",
    "    # Define solver.\n",
    "    solver = ADMM(\n",
    "        f=f,\n",
    "        g_list=[g],\n",
    "        C_list=[C],\n",
    "        rho_list=[ρ],\n",
    "        x0=A.adj(y),\n",
    "        maxiter=10,\n",
    "        subproblem_solver=LinearSubproblemSolver(),\n",
    "    )\n",
    "    # Perform 50 iterations, reporting performance to ray.tune every 10 iterations.\n",
    "    for step in range(5):\n",
    "        x_admm = solver.solve()\n",
    "        reporter(psnr=float(metric.psnr(x_gt, x_admm)))"
   ]
  },
  {
   "cell_type": "markdown",
   "id": "72ac2bf2",
   "metadata": {},
   "source": [
    "Define parameter search space and resources per trial."
   ]
  },
  {
   "cell_type": "code",
   "execution_count": 6,
   "id": "c7b8412d",
   "metadata": {
    "collapsed": false,
    "execution": {
     "iopub.execute_input": "2022-05-19T15:51:54.939020Z",
     "iopub.status.busy": "2022-05-19T15:51:54.938710Z",
     "iopub.status.idle": "2022-05-19T15:51:54.943182Z",
     "shell.execute_reply": "2022-05-19T15:51:54.942366Z"
    }
   },
   "outputs": [],
   "source": [
    "config = {\"lambda\": tune.loguniform(1e-2, 1e0), \"rho\": tune.loguniform(1e-1, 1e1)}\n",
    "resources = {\"cpu\": 4, \"gpu\": 0}  # cpus per trial, gpus per trial"
   ]
  },
  {
   "cell_type": "markdown",
   "id": "0fa7d933",
   "metadata": {},
   "source": [
    "Run parameter search."
   ]
  },
  {
   "cell_type": "code",
   "execution_count": 7,
   "id": "3723aeaa",
   "metadata": {
    "collapsed": false,
    "execution": {
     "iopub.execute_input": "2022-05-19T15:51:54.946439Z",
     "iopub.status.busy": "2022-05-19T15:51:54.946119Z",
     "iopub.status.idle": "2022-05-19T15:52:32.250496Z",
     "shell.execute_reply": "2022-05-19T15:52:32.249675Z"
    }
   },
   "outputs": [
    {
     "name": "stdout",
     "output_type": "stream",
     "text": [
      "P:   1 R:   0 T:   0 \r",
      "P:   1 R:   0 T:   0 \r",
      "P:   1 R:   0 T:   0 \r",
      "P:   1 R:   0 T:   0 \r",
      "P:   1 R:   0 T:   0 \r",
      "P:   1 R:   0 T:   0 \r",
      "P:   1 R:   0 T:   0 \r",
      "P:   1 R:   0 T:   0 \r",
      "P:   1 R:   0 T:   0 \r",
      "P:   1 R:   0 T:   0 \r",
      "P:   1 R:   0 T:   0 \r",
      "P:   1 R:   0 T:   0 \r",
      "P:   1 R:   0 T:   0 \r",
      "P:   1 R:   0 T:   0 \r",
      "P:   1 R:   0 T:   0 \r",
      "P:   1 R:   0 T:   0 \r",
      "P:   1 R:   0 T:   0 \r",
      "P:   1 R:   0 T:   0 \r",
      "P:   1 R:   0 T:   0 \r",
      "P:   1 R:   0 T:   0 \r",
      "P:   1 R:   0 T:   0 \r",
      "P:   1 R:   0 T:   0 \r",
      "P:   1 R:   0 T:   0 \r",
      "P:   1 R:   0 T:   0 \r",
      "P:   1 R:   0 T:   0 \r",
      "P:   1 R:   0 T:   0 \r",
      "P:   1 R:   0 T:   0 \r",
      "P:   1 R:   0 T:   0 \r",
      "P:   1 R:   0 T:   0 \r",
      "P:   1 R:   0 T:   0 \r",
      "P:   1 R:   0 T:   0 \r",
      "P:   1 R:   0 T:   0 \r",
      "P:   1 R:   0 T:   0 \r",
      "P:   1 R:   0 T:   0 \r",
      "P:   1 R:   0 T:   0 \r",
      "P:   1 R:   0 T:   0 \r",
      "P:   1 R:   0 T:   0 \r",
      "P:   1 R:   0 T:   0 \r",
      "P:   1 R:   0 T:   0 \r",
      "P:   1 R:   0 T:   0 \r",
      "P:   1 R:   0 T:   0 \r",
      "P:   1 R:   0 T:   0 \r",
      "P:   1 R:   0 T:   0 \r",
      "P:   1 R:   0 T:   0 \r",
      "P:   1 R:   0 T:   0 \r",
      "P:   1 R:   0 T:   0 \r",
      "P:   1 R:   0 T:   0 \r",
      "P:   1 R:   0 T:   0 \r",
      "P:   1 R:   0 T:   0 \r",
      "P:   1 R:   0 T:   0 \r",
      "P:   1 R:   0 T:   0 \r",
      "P:   1 R:   0 T:   0 \r",
      "P:   1 R:   0 T:   0 \r",
      "P:   1 R:   0 T:   0 \r",
      "P:   1 R:   0 T:   0 \r",
      "P:   1 R:   0 T:   0 \r",
      "P:   1 R:   0 T:   0 \r",
      "P:   1 R:   0 T:   0 \r",
      "P:   1 R:   0 T:   0 \r",
      "P:   1 R:   0 T:   0 \r",
      "P:   1 R:   0 T:   0 \r",
      "P:   1 R:   0 T:   0 \r",
      "P:   1 R:   0 T:   0 \r",
      "P:   1 R:   0 T:   0 \r",
      "P:   1 R:   0 T:   0 \r",
      "P:   1 R:   0 T:   0 \r",
      "P:   1 R:   0 T:   0 \r",
      "P:   1 R:   0 T:   0 \r",
      "P:   1 R:   0 T:   0 \r",
      "P:   1 R:   0 T:   0 \r",
      "P:   1 R:   0 T:   0 \r",
      "P:   1 R:   0 T:   0 \r",
      "P:   1 R:   0 T:   0 \r",
      "P:   1 R:   0 T:   0 \r",
      "P:   1 R:   0 T:   0 \r",
      "P:   1 R:   0 T:   0 \r",
      "P:   1 R:   0 T:   0 \r",
      "P:   1 R:   0 T:   0 \r",
      "P:   1 R:   0 T:   0 \r",
      "P:   1 R:   0 T:   0 \r",
      "P:   1 R:   0 T:   0 \r",
      "P:   1 R:   0 T:   0 \r",
      "P:   1 R:   0 T:   0 \r",
      "P:   1 R:   0 T:   0 \r",
      "P:   1 R:   0 T:   0 \r",
      "P:   1 R:   0 T:   0 \r",
      "P:   1 R:   0 T:   0 \r",
      "P:   1 R:   0 T:   0 \r",
      "P:   1 R:   0 T:   0 \r",
      "P:   1 R:   0 T:   0 \r",
      "P:   1 R:   0 T:   0 \r",
      "P:   1 R:   0 T:   0 \r",
      "P:   1 R:   0 T:   0 \r",
      "P:   1 R:   0 T:   0 \r",
      "P:   1 R:   0 T:   0 \r",
      "P:   1 R:   0 T:   0 \r",
      "P:   1 R:   0 T:   0 \r",
      "P:   1 R:   0 T:   0 \r",
      "P:   1 R:   0 T:   0 \r",
      "P:   1 R:   0 T:   0 \r",
      "P:   1 R:   0 T:   0 \r",
      "P:   1 R:   0 T:   0 \r",
      "P:   1 R:   0 T:   0 \r",
      "P:   1 R:   0 T:   0 \r",
      "P:   1 R:   0 T:   0 \r",
      "P:   1 R:   0 T:   0 \r",
      "P:   1 R:   0 T:   0 \r",
      "P:   1 R:   0 T:   0 \r",
      "P:   1 R:   0 T:   0 \r",
      "P:   1 R:   0 T:   0 \r",
      "P:   1 R:   0 T:   0 \r",
      "P:   1 R:   0 T:   0 \r",
      "P:   1 R:   0 T:   0 \r",
      "P:   1 R:   0 T:   0 \r",
      "P:   1 R:   0 T:   0 \r",
      "P:   1 R:   0 T:   0 \r",
      "P:   1 R:   0 T:   0 \r",
      "P:   1 R:   0 T:   0 \r",
      "P:   1 R:   0 T:   0 \r",
      "P:   1 R:   0 T:   0 \r",
      "P:   1 R:   0 T:   0 \r",
      "P:   1 R:   0 T:   0 \r",
      "P:   1 R:   0 T:   0 \r",
      "P:   1 R:   0 T:   0 \r",
      "P:   1 R:   0 T:   0 \r",
      "P:   1 R:   0 T:   0 \r",
      "P:   1 R:   0 T:   0 \r",
      "P:   1 R:   0 T:   0 \r",
      "P:   1 R:   0 T:   0 \r",
      "P:   1 R:   0 T:   0 \r",
      "P:   1 R:   0 T:   0 \r",
      "P:   1 R:   0 T:   0 \r",
      "P:   1 R:   0 T:   0 \r",
      "P:   1 R:   0 T:   0 \r",
      "P:   1 R:   0 T:   0 \r",
      "P:   1 R:   0 T:   0 \r",
      "P:   1 R:   0 T:   0 \r",
      "P:   1 R:   0 T:   0 \r",
      "P:   1 R:   0 T:   0 \r",
      "P:   1 R:   0 T:   0 \r",
      "P:   1 R:   0 T:   0 \r",
      "P:   1 R:   0 T:   0 \r",
      "P:   1 R:   0 T:   0 \r",
      "P:   1 R:   0 T:   0 \r",
      "P:   1 R:   0 T:   0 \r",
      "P:   1 R:   0 T:   0 \r",
      "P:   1 R:   0 T:   0 \r",
      "P:   1 R:   0 T:   0 \r",
      "P:   1 R:   0 T:   0 \r",
      "P:   1 R:   0 T:   0 \r",
      "P:   1 R:   0 T:   0 \r",
      "P:   1 R:   0 T:   0 \r",
      "P:   1 R:   0 T:   0 \r",
      "P:   1 R:   0 T:   0 \r",
      "P:   1 R:   0 T:   0 \r"
     ]
    },
    {
     "name": "stdout",
     "output_type": "stream",
     "text": [
      "P:   1 R:   0 T:   0 \r",
      "P:   1 R:   0 T:   0 \r",
      "P:   1 R:   0 T:   0 \r",
      "P:   1 R:   0 T:   0 \r",
      "P:   1 R:   0 T:   0 \r",
      "P:   1 R:   0 T:   0 \r",
      "P:   1 R:   0 T:   0 \r",
      "P:   1 R:   0 T:   0 \r",
      "P:   1 R:   0 T:   0 \r",
      "P:   1 R:   0 T:   0 \r",
      "P:   1 R:   0 T:   0 \r",
      "P:   1 R:   0 T:   0 \r",
      "P:   1 R:   0 T:   0 \r",
      "P:   1 R:   0 T:   0 \r",
      "P:   1 R:   0 T:   0 \r",
      "P:   1 R:   0 T:   0 \r",
      "P:   1 R:   0 T:   0 \r",
      "P:   1 R:   0 T:   0 \r",
      "P:   1 R:   0 T:   0 \r",
      "P:   1 R:   0 T:   0 \r",
      "P:   1 R:   0 T:   0 \r",
      "P:   1 R:   0 T:   0 \r",
      "P:   1 R:   0 T:   0 \r",
      "P:   1 R:   0 T:   0 \r",
      "P:   1 R:   0 T:   0 \r",
      "P:   1 R:   0 T:   0 \r",
      "P:   1 R:   0 T:   0 \r",
      "P:   1 R:   0 T:   0 \r",
      "P:   1 R:   0 T:   0 \r",
      "P:   1 R:   0 T:   0 \r",
      "P:   1 R:   0 T:   0 \r",
      "P:   1 R:   0 T:   0 \r",
      "P:   1 R:   0 T:   0 \r",
      "P:   1 R:   0 T:   0 \r",
      "P:   1 R:   0 T:   0 \r",
      "P:   1 R:   0 T:   0 \r",
      "P:   1 R:   0 T:   0 \r",
      "P:   1 R:   0 T:   0 \r",
      "P:   1 R:   0 T:   0 \r",
      "P:   1 R:   0 T:   0 \r",
      "P:   1 R:   0 T:   0 \r",
      "P:   1 R:   0 T:   0 \r",
      "P:   1 R:   0 T:   0 \r",
      "P:   1 R:   0 T:   0 \r",
      "P:   1 R:   0 T:   0 \r",
      "P:   1 R:   0 T:   0 \r",
      "P:   1 R:   0 T:   0 \r",
      "P:   1 R:   0 T:   0 \r",
      "P:   1 R:   0 T:   0 \r",
      "P:   1 R:   0 T:   0 \r",
      "P:   1 R:   0 T:   0 \r",
      "P:   1 R:   0 T:   0 \r",
      "P:   1 R:   0 T:   0 \r",
      "P:   1 R:   0 T:   0 \r",
      "P:   1 R:   0 T:   0 \r",
      "P:   1 R:   0 T:   0 \r",
      "P:   1 R:   0 T:   0 \r",
      "P:   1 R:   0 T:   0 \r",
      "P:   1 R:   0 T:   0 \r",
      "P:   1 R:   0 T:   0 \r",
      "P:   1 R:   0 T:   0 \r",
      "P:   1 R:   0 T:   0 \r",
      "P:   1 R:   0 T:   0 \r",
      "P:   1 R:   0 T:   0 \r",
      "P:   1 R:   0 T:   0 \r",
      "P:   1 R:   0 T:   0 \r",
      "P:   1 R:   0 T:   0 \r",
      "P:   1 R:   0 T:   0 \r",
      "P:   1 R:   0 T:   0 \r",
      "P:   1 R:   0 T:   0 \r",
      "P:   1 R:   0 T:   0 \r",
      "P:   1 R:   0 T:   0 \r",
      "P:   1 R:   0 T:   0 \r",
      "P:   1 R:   0 T:   0 \r",
      "P:   1 R:   0 T:   0 \r",
      "P:   1 R:   0 T:   0 \r",
      "P:   1 R:   0 T:   0 \r",
      "P:   1 R:   0 T:   0 \r",
      "P:   1 R:   0 T:   0 \r",
      "P:   1 R:   0 T:   0 \r",
      "P:   1 R:   0 T:   0 \r",
      "P:   1 R:   0 T:   0 \r",
      "P:   1 R:   0 T:   0 \r",
      "P:   1 R:   0 T:   0 \r",
      "P:   1 R:   0 T:   0 \r",
      "P:   1 R:   0 T:   0 \r",
      "P:   1 R:   0 T:   0 \r",
      "P:   1 R:   0 T:   0 \r",
      "P:   1 R:   0 T:   0 \r",
      "P:   1 R:   0 T:   0 \r",
      "P:   1 R:   0 T:   0 \r",
      "P:   1 R:   0 T:   0 \r",
      "P:   1 R:   0 T:   0 \r",
      "P:   1 R:   0 T:   0 \r",
      "P:   1 R:   0 T:   0 \r",
      "P:   1 R:   0 T:   0 \r",
      "P:   1 R:   0 T:   0 \r",
      "P:   1 R:   0 T:   0 \r",
      "P:   1 R:   0 T:   0 \r",
      "P:   1 R:   0 T:   0 \r",
      "P:   1 R:   0 T:   0 \r",
      "P:   1 R:   0 T:   0 \r",
      "P:   1 R:   0 T:   0 \r",
      "P:   1 R:   0 T:   0 \r",
      "P:   1 R:   0 T:   0 \r",
      "P:   1 R:   0 T:   0 \r",
      "P:   1 R:   0 T:   0 \r",
      "P:   1 R:   0 T:   0 \r",
      "P:   1 R:   0 T:   0 \r",
      "P:   1 R:   0 T:   0 \r",
      "P:   1 R:   0 T:   0 \r",
      "P:   1 R:   0 T:   0 \r",
      "P:   1 R:   0 T:   0 \r",
      "P:   1 R:   0 T:   0 \r",
      "P:   1 R:   0 T:   0 \r",
      "P:   1 R:   0 T:   0 \r",
      "P:   1 R:   0 T:   0 \r",
      "P:   1 R:   0 T:   0 \r",
      "P:   1 R:   0 T:   0 \r",
      "P:   1 R:   0 T:   0 \r",
      "P:   1 R:   0 T:   0 \r",
      "P:   1 R:   0 T:   0 \r",
      "P:   1 R:   0 T:   0 \r",
      "P:   1 R:   0 T:   0 \r",
      "P:   1 R:   0 T:   0 \r",
      "P:   1 R:   0 T:   0 \r",
      "P:   1 R:   0 T:   0 \r",
      "P:   1 R:   0 T:   0 \r",
      "P:   1 R:   0 T:   0 \r",
      "P:   1 R:   0 T:   0 \r",
      "P:   1 R:   0 T:   0 \r",
      "P:   1 R:   0 T:   0 \r",
      "P:   1 R:   0 T:   0 \r",
      "P:   1 R:   0 T:   0 \r",
      "P:   1 R:   0 T:   0 \r",
      "P:   1 R:   0 T:   0 \r",
      "P:   1 R:   0 T:   0 \r",
      "P:   1 R:   0 T:   0 \r",
      "P:   1 R:   0 T:   0 \r",
      "P:   1 R:   0 T:   0 \r",
      "P:   1 R:   0 T:   0 \r",
      "P:   1 R:   0 T:   0 \r",
      "P:   1 R:   0 T:   0 \r",
      "P:   1 R:   0 T:   0 \r",
      "P:   1 R:   0 T:   0 \r",
      "P:   1 R:   0 T:   0 \r",
      "P:   1 R:   0 T:   0 \r",
      "P:   1 R:   0 T:   0 \r",
      "P:   1 R:   0 T:   0 \r",
      "P:   1 R:   0 T:   0 \r",
      "P:   1 R:   0 T:   0 \r",
      "P:   1 R:   0 T:   0 \r",
      "P:   1 R:   0 T:   0 \r",
      "P:   1 R:   0 T:   0 \r",
      "P:   1 R:   0 T:   0 \r",
      "P:   1 R:   0 T:   0 \r",
      "P:   1 R:   0 T:   0 \r",
      "P:   1 R:   0 T:   0 \r",
      "P:   1 R:   0 T:   0 \r",
      "P:   1 R:   0 T:   0 \r",
      "P:   1 R:   0 T:   0 \r",
      "P:   1 R:   0 T:   0 \r",
      "P:   1 R:   0 T:   0 \r",
      "P:   1 R:   0 T:   0 \r",
      "P:   1 R:   0 T:   0 \r",
      "P:   1 R:   0 T:   0 \r",
      "P:   1 R:   0 T:   0 \r",
      "P:   1 R:   0 T:   0 \r",
      "P:   1 R:   0 T:   0 \r",
      "P:   1 R:   0 T:   0 \r",
      "P:   1 R:   0 T:   0 \r",
      "P:   1 R:   0 T:   0 \r",
      "P:   1 R:   0 T:   0 \r",
      "P:   1 R:   0 T:   0 \r",
      "P:   1 R:   0 T:   0 \r",
      "P:   1 R:   0 T:   0 \r",
      "P:   1 R:   0 T:   0 \r",
      "P:   1 R:   0 T:   0 \r",
      "P:   1 R:   0 T:   0 \r",
      "P:   1 R:   0 T:   0 \r",
      "P:   1 R:   0 T:   0 \r",
      "P:   1 R:   0 T:   0 \r",
      "P:   1 R:   0 T:   0 \r",
      "P:   1 R:   0 T:   0 \r",
      "P:   1 R:   0 T:   0 \r",
      "P:   1 R:   0 T:   0 \r",
      "P:   1 R:   0 T:   0 \r",
      "P:   1 R:   0 T:   0 \r",
      "P:   1 R:   0 T:   0 \r",
      "P:   1 R:   0 T:   0 \r",
      "P:   1 R:   0 T:   0 \r",
      "P:   1 R:   0 T:   0 \r",
      "P:   1 R:   0 T:   0 \r",
      "P:   1 R:   0 T:   0 \r",
      "P:   1 R:   0 T:   0 \r"
     ]
    },
    {
     "name": "stdout",
     "output_type": "stream",
     "text": [
      "P:   1 R:   0 T:   0 \r",
      "P:   1 R:   0 T:   0 \r",
      "P:   1 R:   0 T:   0 \r",
      "P:   1 R:   0 T:   0 \r",
      "P:   1 R:   0 T:   0 \r",
      "P:   1 R:   0 T:   0 \r",
      "P:   1 R:   0 T:   0 \r",
      "P:   1 R:   0 T:   0 \r",
      "P:   1 R:   0 T:   0 \r",
      "P:   1 R:   0 T:   0 \r",
      "P:   1 R:   0 T:   0 \r",
      "P:   1 R:   0 T:   0 \r",
      "P:   1 R:   0 T:   0 \r",
      "P:   1 R:   0 T:   0 \r",
      "P:   1 R:   0 T:   0 \r",
      "P:   1 R:   0 T:   0 \r",
      "P:   1 R:   0 T:   0 \r",
      "P:   1 R:   0 T:   0 \r",
      "P:   1 R:   0 T:   0 \r",
      "P:   1 R:   0 T:   0 \r",
      "P:   1 R:   0 T:   0 \r",
      "P:   1 R:   0 T:   0 \r",
      "P:   1 R:   0 T:   0 \r",
      "P:   1 R:   0 T:   0 \r",
      "P:   1 R:   0 T:   0 \r",
      "P:   1 R:   0 T:   0 \r",
      "P:   1 R:   0 T:   0 \r",
      "P:   1 R:   0 T:   0 \r",
      "P:   1 R:   0 T:   0 \r",
      "P:   1 R:   0 T:   0 \r",
      "P:   1 R:   0 T:   0 \r",
      "P:   1 R:   0 T:   0 \r",
      "P:   1 R:   0 T:   0 \r",
      "P:   1 R:   0 T:   0 \r",
      "P:   1 R:   0 T:   0 \r",
      "P:   1 R:   0 T:   0 \r",
      "P:   1 R:   0 T:   0 \r",
      "P:   1 R:   0 T:   0 \r",
      "P:   1 R:   0 T:   0 \r",
      "P:   1 R:   0 T:   0 \r",
      "P:   1 R:   0 T:   0 \r",
      "P:   1 R:   0 T:   0 \r",
      "P:   1 R:   0 T:   0 \r",
      "P:   1 R:   0 T:   0 \r",
      "P:   1 R:   0 T:   0 \r",
      "P:   1 R:   0 T:   0 \r",
      "P:   1 R:   0 T:   0 \r",
      "P:   1 R:   0 T:   0 \r",
      "P:   1 R:   0 T:   0 \r",
      "P:   1 R:   0 T:   0 \r",
      "P:   1 R:   0 T:   0 \r",
      "P:   1 R:   0 T:   0 \r",
      "P:   1 R:   0 T:   0 \r",
      "P:   1 R:   0 T:   0 \r",
      "P:   1 R:   0 T:   0 \r",
      "P:   1 R:   0 T:   0 \r",
      "P:   1 R:   0 T:   0 \r",
      "P:   1 R:   0 T:   0 \r",
      "P:   1 R:   0 T:   0 \r",
      "P:   1 R:   0 T:   0 \r",
      "P:   1 R:   0 T:   0 \r",
      "P:   1 R:   0 T:   0 \r",
      "P:   1 R:   0 T:   0 \r",
      "P:   1 R:   0 T:   0 \r",
      "P:   1 R:   0 T:   0 \r",
      "P:   1 R:   0 T:   0 \r",
      "P:   1 R:   0 T:   0 \r",
      "P:   1 R:   0 T:   0 \r",
      "P:   1 R:   0 T:   0 \r",
      "P:   1 R:   0 T:   0 \r",
      "P:   1 R:   0 T:   0 \r",
      "P:   1 R:   0 T:   0 \r",
      "P:   1 R:   0 T:   0 \r",
      "P:   1 R:   0 T:   0 \r",
      "P:   1 R:   0 T:   0 \r",
      "P:   1 R:   0 T:   0 \r",
      "P:   1 R:   0 T:   0 \r",
      "P:   1 R:   0 T:   0 \r",
      "P:   1 R:   0 T:   0 \r",
      "P:   1 R:   0 T:   0 \r",
      "P:   1 R:   0 T:   0 \r",
      "P:   1 R:   0 T:   0 \r",
      "P:   1 R:   0 T:   0 \r",
      "P:   1 R:   0 T:   0 \r",
      "P:   1 R:   0 T:   0 \r",
      "P:   1 R:   0 T:   0 \r",
      "P:   1 R:   0 T:   0 \r",
      "P:   1 R:   0 T:   0 \r",
      "P:   1 R:   0 T:   0 \r",
      "P:   1 R:   0 T:   0 \r",
      "P:   1 R:   0 T:   0 \r",
      "P:   1 R:   0 T:   0 \r",
      "P:   1 R:   0 T:   0 \r",
      "P:   1 R:   0 T:   0 \r",
      "P:   1 R:   0 T:   0 \r",
      "P:   1 R:   0 T:   0 \r",
      "P:   1 R:   0 T:   0 \r",
      "P:   1 R:   0 T:   0 \r",
      "P:   1 R:   0 T:   0 \r",
      "P:   1 R:   0 T:   0 \r",
      "P:   1 R:   0 T:   0 \r",
      "P:   1 R:   0 T:   0 \r",
      "P:   1 R:   0 T:   0 \r",
      "P:   1 R:   0 T:   0 \r",
      "P:   1 R:   0 T:   0 \r",
      "P:   1 R:   0 T:   0 \r",
      "P:   1 R:   0 T:   0 \r",
      "P:   1 R:   0 T:   0 \r",
      "P:   1 R:   0 T:   0 \r",
      "P:   1 R:   0 T:   0 \r",
      "P:   1 R:   0 T:   0 \r",
      "P:   1 R:   0 T:   0 \r",
      "P:   1 R:   0 T:   0 \r",
      "P:   1 R:   0 T:   0 \r",
      "P:   1 R:   0 T:   0 \r",
      "P:   1 R:   0 T:   0 \r",
      "P:   1 R:   0 T:   0 \r",
      "P:   1 R:   0 T:   0 \r",
      "P:   1 R:   0 T:   0 \r",
      "P:   1 R:   0 T:   0 \r",
      "P:   1 R:   0 T:   0 \r",
      "P:   1 R:   0 T:   0 \r",
      "P:   1 R:   0 T:   0 \r",
      "P:   1 R:   0 T:   0 \r",
      "P:   1 R:   0 T:   0 \r",
      "P:   1 R:   0 T:   0 \r",
      "P:   1 R:   0 T:   0 \r",
      "P:   1 R:   0 T:   0 \r",
      "P:   1 R:   0 T:   0 \r",
      "P:   1 R:   0 T:   0 \r",
      "P:   1 R:   0 T:   0 \r",
      "P:   1 R:   0 T:   0 \r",
      "P:   1 R:   0 T:   0 \r",
      "P:   1 R:   0 T:   0 \r",
      "P:   1 R:   0 T:   0 \r",
      "P:   1 R:   0 T:   0 \r",
      "P:   1 R:   0 T:   0 \r",
      "P:   1 R:   0 T:   0 \r",
      "P:   1 R:   0 T:   0 \r",
      "P:   1 R:   0 T:   0 \r",
      "P:   1 R:   0 T:   0 \r",
      "P:   1 R:   0 T:   0 \r",
      "P:   1 R:   0 T:   0 \r",
      "P:   1 R:   0 T:   0 \r",
      "P:   1 R:   0 T:   0 \r",
      "P:   1 R:   0 T:   0 \r",
      "P:   1 R:   0 T:   0 \r",
      "P:   1 R:   0 T:   0 \r",
      "P:   1 R:   0 T:   0 \r",
      "P:   1 R:   0 T:   0 \r",
      "P:   1 R:   0 T:   0 \r",
      "P:   1 R:   0 T:   0 \r",
      "P:   1 R:   0 T:   0 \r",
      "P:   1 R:   0 T:   0 \r",
      "P:   1 R:   0 T:   0 \r",
      "P:   1 R:   0 T:   0 \r",
      "P:   1 R:   0 T:   0 \r",
      "P:   1 R:   0 T:   0 \r",
      "P:   1 R:   0 T:   0 \r",
      "P:   1 R:   0 T:   0 \r",
      "P:   1 R:   0 T:   0 \r",
      "P:   1 R:   0 T:   0 \r",
      "P:   1 R:   0 T:   0 \r",
      "P:   1 R:   0 T:   0 \r",
      "P:   1 R:   0 T:   0 \r",
      "P:   1 R:   0 T:   0 \r",
      "P:   1 R:   0 T:   0 \r",
      "P:   1 R:   0 T:   0 \r",
      "P:   1 R:   0 T:   0 \r",
      "P:   1 R:   0 T:   0 \r",
      "P:   1 R:   0 T:   0 \r",
      "P:   1 R:   0 T:   0 \r",
      "P:   1 R:   0 T:   0 \r",
      "P:   1 R:   0 T:   0 \r",
      "P:   1 R:   0 T:   0 \r",
      "P:   1 R:   0 T:   0 \r",
      "P:   1 R:   0 T:   0 \r",
      "P:   1 R:   0 T:   0 \r",
      "P:   1 R:   0 T:   0 \r",
      "P:   1 R:   0 T:   0 \r",
      "P:   1 R:   0 T:   0 \r",
      "P:   1 R:   0 T:   0 \r",
      "P:   1 R:   0 T:   0 \r",
      "P:   1 R:   0 T:   0 \r",
      "P:   1 R:   0 T:   0 \r",
      "P:   1 R:   0 T:   0 \r",
      "P:   1 R:   0 T:   0 \r",
      "P:   1 R:   0 T:   0 \r",
      "P:   1 R:   0 T:   0 \r",
      "P:   1 R:   0 T:   0 \r",
      "P:   1 R:   0 T:   0 \r",
      "P:   1 R:   0 T:   0 \r",
      "P:   1 R:   0 T:   0 \r",
      "P:   1 R:   0 T:   0 \r",
      "P:   1 R:   0 T:   0 \r",
      "P:   1 R:   0 T:   0 \r",
      "P:   1 R:   0 T:   0 \r",
      "P:   1 R:   0 T:   0 \r",
      "P:   1 R:   0 T:   0 \r",
      "P:   1 R:   0 T:   0 \r",
      "P:   1 R:   0 T:   0 \r",
      "P:   1 R:   0 T:   0 \r",
      "P:   1 R:   0 T:   0 \r",
      "P:   1 R:   0 T:   0 \r",
      "P:   1 R:   0 T:   0 \r",
      "P:   1 R:   0 T:   0 \r",
      "P:   1 R:   0 T:   0 \r",
      "P:   1 R:   0 T:   0 \r",
      "P:   1 R:   0 T:   0 \r",
      "P:   1 R:   0 T:   0 \r",
      "P:   1 R:   0 T:   0 \r",
      "P:   1 R:   0 T:   0 \r",
      "P:   1 R:   0 T:   0 \r",
      "P:   1 R:   0 T:   0 \r",
      "P:   1 R:   0 T:   0 \r",
      "P:   1 R:   0 T:   0 \r",
      "P:   1 R:   0 T:   0 \r",
      "P:   1 R:   0 T:   0 \r",
      "P:   1 R:   0 T:   0 \r",
      "P:   1 R:   0 T:   0 \r",
      "P:   1 R:   0 T:   0 \r",
      "P:   1 R:   0 T:   0 \r",
      "P:   1 R:   0 T:   0 \r",
      "P:   1 R:   0 T:   0 \r",
      "P:   1 R:   0 T:   0 \r",
      "P:   1 R:   0 T:   0 \r",
      "P:   1 R:   0 T:   0 \r",
      "P:   1 R:   0 T:   0 \r",
      "P:   1 R:   0 T:   0 \r",
      "P:   1 R:   0 T:   0 \r",
      "P:   1 R:   0 T:   0 \r",
      "P:   1 R:   0 T:   0 \r",
      "P:   1 R:   0 T:   0 \r",
      "P:   1 R:   0 T:   0 \r",
      "P:   1 R:   0 T:   0 \r",
      "P:   1 R:   0 T:   0 \r",
      "P:   1 R:   0 T:   0 \r",
      "P:   1 R:   0 T:   0 \r",
      "P:   1 R:   0 T:   0 \r",
      "P:   1 R:   0 T:   0 \r",
      "P:   1 R:   0 T:   0 \r",
      "P:   1 R:   0 T:   0 \r",
      "P:   1 R:   0 T:   0 \r",
      "P:   1 R:   0 T:   0 \r",
      "P:   1 R:   0 T:   0 \r",
      "P:   1 R:   0 T:   0 \r",
      "P:   1 R:   0 T:   0 \r",
      "P:   1 R:   0 T:   0 \r",
      "P:   1 R:   0 T:   0 \r",
      "P:   1 R:   0 T:   0 \r",
      "P:   1 R:   0 T:   0 \r",
      "P:   1 R:   0 T:   0 \r",
      "P:   1 R:   0 T:   0 \r",
      "P:   1 R:   0 T:   0 \r",
      "P:   1 R:   0 T:   0 \r"
     ]
    },
    {
     "name": "stdout",
     "output_type": "stream",
     "text": [
      "P:   1 R:   0 T:   0 \r",
      "P:   1 R:   0 T:   0 \r",
      "P:   1 R:   0 T:   0 \r",
      "P:   1 R:   0 T:   0 \r",
      "P:   1 R:   0 T:   0 \r",
      "P:   1 R:   0 T:   0 \r",
      "P:   1 R:   0 T:   0 \r",
      "P:   1 R:   0 T:   0 \r",
      "P:   1 R:   0 T:   0 \r",
      "P:   1 R:   0 T:   0 \r",
      "P:   1 R:   0 T:   0 \r",
      "P:   1 R:   0 T:   0 \r",
      "P:   1 R:   0 T:   0 \r",
      "P:   1 R:   0 T:   0 \r",
      "P:   1 R:   0 T:   0 \r",
      "P:   1 R:   0 T:   0 \r",
      "P:   1 R:   0 T:   0 \r",
      "P:   1 R:   0 T:   0 \r",
      "P:   1 R:   0 T:   0 \r",
      "P:   1 R:   0 T:   0 \r",
      "P:   1 R:   0 T:   0 \r",
      "P:   1 R:   0 T:   0 \r",
      "P:   1 R:   0 T:   0 \r",
      "P:   1 R:   0 T:   0 \r",
      "P:   1 R:   0 T:   0 \r",
      "P:   1 R:   0 T:   0 \r",
      "P:   1 R:   0 T:   0 \r",
      "P:   1 R:   0 T:   0 \r",
      "P:   1 R:   0 T:   0 \r",
      "P:   1 R:   0 T:   0 \r",
      "P:   1 R:   0 T:   0 \r",
      "P:   1 R:   0 T:   0 \r",
      "P:   1 R:   0 T:   0 \r",
      "P:   1 R:   0 T:   0 \r",
      "P:   1 R:   0 T:   0 \r",
      "P:   1 R:   0 T:   0 \r",
      "P:   1 R:   0 T:   0 \r",
      "P:   1 R:   0 T:   0 \r",
      "P:   1 R:   0 T:   0 \r",
      "P:   1 R:   0 T:   0 \r",
      "P:   1 R:   0 T:   0 \r",
      "P:   1 R:   0 T:   0 \r",
      "P:   1 R:   0 T:   0 \r",
      "P:   1 R:   0 T:   0 \r",
      "P:   1 R:   0 T:   0 \r",
      "P:   1 R:   0 T:   0 \r",
      "P:   1 R:   0 T:   0 \r",
      "P:   1 R:   0 T:   0 \r",
      "P:   1 R:   0 T:   0 \r",
      "P:   1 R:   0 T:   0 \r",
      "P:   1 R:   0 T:   0 \r",
      "P:   1 R:   0 T:   0 \r",
      "P:   1 R:   0 T:   0 \r",
      "P:   1 R:   0 T:   0 \r",
      "P:   1 R:   0 T:   0 \r",
      "P:   1 R:   0 T:   0 \r",
      "P:   1 R:   0 T:   0 \r",
      "P:   1 R:   0 T:   0 \r",
      "P:   1 R:   0 T:   0 \r",
      "P:   1 R:   0 T:   0 \r",
      "P:   1 R:   0 T:   0 \r",
      "P:   1 R:   0 T:   0 \r",
      "P:   1 R:   0 T:   0 \r",
      "P:   1 R:   0 T:   0 \r",
      "P:   1 R:   0 T:   0 \r",
      "P:   1 R:   0 T:   0 \r",
      "P:   1 R:   0 T:   0 \r",
      "P:   1 R:   0 T:   0 \r",
      "P:   1 R:   0 T:   0 \r",
      "P:   1 R:   0 T:   0 \r",
      "P:   1 R:   0 T:   0 \r",
      "P:   1 R:   0 T:   0 \r",
      "P:   1 R:   0 T:   0 \r",
      "P:   1 R:   0 T:   0 \r",
      "P:   1 R:   0 T:   0 \r",
      "P:   1 R:   0 T:   0 \r",
      "P:   1 R:   0 T:   0 \r",
      "P:   1 R:   0 T:   0 \r",
      "P:   1 R:   0 T:   0 \r",
      "P:   1 R:   0 T:   0 \r",
      "P:   1 R:   0 T:   0 \r",
      "P:   1 R:   0 T:   0 \r",
      "P:   1 R:   0 T:   0 \r",
      "P:   1 R:   0 T:   0 \r",
      "P:   1 R:   0 T:   0 \r",
      "P:   1 R:   0 T:   0 \r",
      "P:   1 R:   0 T:   0 \r",
      "P:   1 R:   0 T:   0 \r",
      "P:   1 R:   0 T:   0 \r",
      "P:   1 R:   0 T:   0 \r",
      "P:   1 R:   0 T:   0 \r",
      "P:   1 R:   0 T:   0 \r",
      "P:   1 R:   0 T:   0 \r",
      "P:   1 R:   0 T:   0 \r",
      "P:   1 R:   0 T:   0 \r",
      "P:   1 R:   0 T:   0 \r",
      "P:   1 R:   0 T:   0 \r",
      "P:   1 R:   0 T:   0 \r",
      "P:   1 R:   0 T:   0 \r",
      "P:   1 R:   0 T:   0 \r",
      "P:   1 R:   0 T:   0 \r",
      "P:   1 R:   0 T:   0 \r",
      "P:   1 R:   0 T:   0 \r",
      "P:   1 R:   0 T:   0 \r",
      "P:   1 R:   0 T:   0 \r",
      "P:   1 R:   0 T:   0 \r",
      "P:   1 R:   0 T:   0 \r",
      "P:   1 R:   0 T:   0 \r",
      "P:   1 R:   0 T:   0 \r",
      "P:   1 R:   0 T:   0 \r",
      "P:   1 R:   0 T:   0 \r",
      "P:   1 R:   0 T:   0 \r",
      "P:   1 R:   0 T:   0 \r",
      "P:   1 R:   0 T:   0 \r",
      "P:   1 R:   0 T:   0 \r",
      "P:   1 R:   0 T:   0 \r",
      "P:   1 R:   0 T:   0 \r",
      "P:   1 R:   0 T:   0 \r",
      "P:   1 R:   0 T:   0 \r",
      "P:   1 R:   0 T:   0 \r",
      "P:   1 R:   0 T:   0 \r",
      "P:   1 R:   0 T:   0 \r",
      "P:   1 R:   0 T:   0 \r",
      "P:   1 R:   0 T:   0 \r",
      "P:   1 R:   0 T:   0 \r",
      "P:   1 R:   0 T:   0 \r",
      "P:   1 R:   0 T:   0 \r",
      "P:   1 R:   0 T:   0 \r",
      "P:   1 R:   0 T:   0 \r",
      "P:   1 R:   0 T:   0 \r",
      "P:   1 R:   0 T:   0 \r",
      "P:   1 R:   0 T:   0 \r",
      "P:   1 R:   0 T:   0 \r",
      "P:   1 R:   0 T:   0 \r",
      "P:   1 R:   0 T:   0 \r",
      "P:   1 R:   0 T:   0 \r",
      "P:   1 R:   0 T:   0 \r",
      "P:   1 R:   0 T:   0 \r",
      "P:   1 R:   0 T:   0 \r",
      "P:   1 R:   0 T:   0 \r",
      "P:   1 R:   0 T:   0 \r",
      "P:   1 R:   0 T:   0 \r",
      "P:   1 R:   0 T:   0 \r",
      "P:   1 R:   0 T:   0 \r",
      "P:   1 R:   0 T:   0 \r",
      "P:   1 R:   0 T:   0 \r",
      "P:   1 R:   0 T:   0 \r",
      "P:   1 R:   0 T:   0 \r",
      "P:   1 R:   0 T:   0 \r",
      "P:   1 R:   0 T:   0 \r",
      "P:   1 R:   0 T:   0 \r",
      "P:   1 R:   0 T:   0 \r",
      "P:   1 R:   0 T:   0 \r",
      "P:   1 R:   0 T:   0 \r",
      "P:   1 R:   0 T:   0 \r",
      "P:   1 R:   0 T:   0 \r",
      "P:   1 R:   0 T:   0 \r",
      "P:   1 R:   0 T:   0 \r",
      "P:   1 R:   0 T:   0 \r",
      "P:   1 R:   0 T:   0 \r",
      "P:   1 R:   0 T:   0 \r",
      "P:   1 R:   0 T:   0 \r",
      "P:   1 R:   0 T:   0 \r",
      "P:   1 R:   0 T:   0 \r",
      "P:   1 R:   0 T:   0 \r",
      "P:   1 R:   0 T:   0 \r",
      "P:   1 R:   0 T:   0 \r",
      "P:   1 R:   0 T:   0 \r",
      "P:   1 R:   0 T:   0 \r",
      "P:   1 R:   0 T:   0 \r",
      "P:   1 R:   0 T:   0 \r",
      "P:   1 R:   0 T:   0 \r",
      "P:   1 R:   0 T:   0 \r",
      "P:   1 R:   0 T:   0 \r",
      "P:   1 R:   0 T:   0 \r",
      "P:   1 R:   0 T:   0 \r",
      "P:   1 R:   0 T:   0 \r",
      "P:   1 R:   0 T:   0 \r",
      "P:   1 R:   0 T:   0 \r",
      "P:   1 R:   0 T:   0 \r",
      "P:   1 R:   0 T:   0 \r",
      "P:   1 R:   0 T:   0 \r",
      "P:   1 R:   0 T:   0 \r",
      "P:   1 R:   0 T:   0 \r",
      "P:   1 R:   0 T:   0 \r",
      "P:   1 R:   0 T:   0 \r",
      "P:   1 R:   0 T:   0 \r",
      "P:   1 R:   0 T:   0 \r",
      "P:   1 R:   0 T:   0 \r",
      "P:   1 R:   0 T:   0 \r",
      "P:   1 R:   0 T:   0 \r",
      "P:   1 R:   0 T:   0 \r",
      "P:   1 R:   0 T:   0 \r",
      "P:   1 R:   0 T:   0 \r",
      "P:   1 R:   0 T:   0 \r",
      "P:   1 R:   0 T:   0 \r",
      "P:   1 R:   0 T:   0 \r",
      "P:   1 R:   0 T:   0 \r",
      "P:   1 R:   0 T:   0 \r",
      "P:   1 R:   0 T:   0 \r",
      "P:   1 R:   0 T:   0 \r",
      "P:   1 R:   0 T:   0 \r",
      "P:   1 R:   0 T:   0 \r",
      "P:   1 R:   0 T:   0 \r",
      "P:   1 R:   0 T:   0 \r",
      "P:   1 R:   0 T:   0 \r",
      "P:   1 R:   0 T:   0 \r",
      "P:   1 R:   0 T:   0 \r",
      "P:   1 R:   0 T:   0 \r",
      "P:   1 R:   0 T:   0 \r",
      "P:   1 R:   0 T:   0 \r",
      "P:   1 R:   0 T:   0 \r",
      "P:   1 R:   0 T:   0 \r",
      "P:   1 R:   0 T:   0 \r",
      "P:   1 R:   0 T:   0 \r",
      "P:   1 R:   0 T:   0 \r",
      "P:   1 R:   0 T:   0 \r",
      "P:   1 R:   0 T:   0 \r",
      "P:   1 R:   0 T:   0 \r",
      "P:   1 R:   0 T:   0 \r",
      "P:   1 R:   0 T:   0 \r",
      "P:   1 R:   0 T:   0 \r",
      "P:   1 R:   0 T:   0 \r",
      "P:   1 R:   0 T:   0 \r",
      "P:   1 R:   0 T:   0 \r",
      "P:   1 R:   0 T:   0 \r",
      "P:   1 R:   0 T:   0 \r",
      "P:   1 R:   0 T:   0 \r",
      "P:   1 R:   0 T:   0 \r",
      "P:   1 R:   0 T:   0 \r",
      "P:   1 R:   0 T:   0 \r",
      "P:   1 R:   0 T:   0 \r",
      "P:   1 R:   0 T:   0 \r",
      "P:   1 R:   0 T:   0 \r",
      "P:   1 R:   0 T:   0 \r",
      "P:   1 R:   0 T:   0 \r",
      "P:   1 R:   0 T:   0 \r",
      "P:   1 R:   0 T:   0 \r",
      "P:   1 R:   0 T:   0 \r",
      "P:   1 R:   0 T:   0 \r",
      "P:   1 R:   0 T:   0 \r",
      "P:   1 R:   0 T:   0 \r",
      "P:   1 R:   0 T:   0 \r",
      "P:   1 R:   0 T:   0 \r",
      "P:   1 R:   0 T:   0 \r",
      "P:   1 R:   0 T:   0 \r",
      "P:   1 R:   0 T:   0 \r",
      "P:   1 R:   0 T:   0 \r",
      "P:   1 R:   0 T:   0 \r",
      "P:   1 R:   0 T:   0 \r",
      "P:   1 R:   0 T:   0 \r",
      "P:   1 R:   0 T:   0 \r",
      "P:   1 R:   0 T:   0 \r",
      "P:   1 R:   0 T:   0 \r",
      "P:   1 R:   0 T:   0 \r",
      "P:   1 R:   0 T:   0 \r",
      "P:   1 R:   0 T:   0 \r",
      "P:   1 R:   0 T:   0 \r",
      "P:   1 R:   0 T:   0 \r",
      "P:   1 R:   0 T:   0 \r",
      "P:   1 R:   0 T:   0 \r",
      "P:   1 R:   0 T:   0 \r"
     ]
    },
    {
     "name": "stdout",
     "output_type": "stream",
     "text": [
      "P:   1 R:   0 T:   0 \r",
      "P:   1 R:   0 T:   0 \r",
      "P:   1 R:   0 T:   0 \r",
      "P:   1 R:   0 T:   0 \r",
      "P:   1 R:   0 T:   0 \r",
      "P:   1 R:   0 T:   0 \r",
      "P:   1 R:   0 T:   0 \r",
      "P:   1 R:   0 T:   0 \r",
      "P:   1 R:   0 T:   0 \r",
      "P:   1 R:   0 T:   0 \r",
      "P:   1 R:   0 T:   0 \r",
      "P:   1 R:   0 T:   0 \r",
      "P:   1 R:   0 T:   0 \r",
      "P:   1 R:   0 T:   0 \r",
      "P:   1 R:   0 T:   0 \r",
      "P:   1 R:   0 T:   0 \r",
      "P:   1 R:   0 T:   0 \r",
      "P:   1 R:   0 T:   0 \r",
      "P:   1 R:   0 T:   0 \r",
      "P:   1 R:   0 T:   0 \r",
      "P:   1 R:   0 T:   0 \r",
      "P:   1 R:   0 T:   0 \r",
      "P:   1 R:   0 T:   0 \r",
      "P:   1 R:   0 T:   0 \r",
      "P:   1 R:   0 T:   0 \r",
      "P:   1 R:   0 T:   0 \r",
      "P:   1 R:   0 T:   0 \r",
      "P:   1 R:   0 T:   0 \r",
      "P:   1 R:   0 T:   0 \r",
      "P:   1 R:   0 T:   0 \r",
      "P:   1 R:   0 T:   0 \r",
      "P:   1 R:   0 T:   0 \r",
      "P:   1 R:   0 T:   0 \r",
      "P:   1 R:   0 T:   0 \r",
      "P:   1 R:   0 T:   0 \r",
      "P:   1 R:   0 T:   0 \r",
      "P:   1 R:   0 T:   0 \r",
      "P:   1 R:   0 T:   0 \r",
      "P:   1 R:   0 T:   0 \r",
      "P:   1 R:   0 T:   0 \r",
      "P:   1 R:   0 T:   0 \r",
      "P:   1 R:   0 T:   0 \r",
      "P:   1 R:   0 T:   0 \r",
      "P:   1 R:   0 T:   0 \r",
      "P:   1 R:   0 T:   0 \r",
      "P:   1 R:   0 T:   0 \r",
      "P:   1 R:   0 T:   0 \r",
      "P:   1 R:   0 T:   0 \r",
      "P:   1 R:   0 T:   0 \r",
      "P:   1 R:   0 T:   0 \r",
      "P:   1 R:   0 T:   0 \r",
      "P:   1 R:   0 T:   0 \r",
      "P:   1 R:   0 T:   0 \r",
      "P:   1 R:   0 T:   0 \r",
      "P:   1 R:   0 T:   0 \r",
      "P:   1 R:   0 T:   0 \r",
      "P:   1 R:   0 T:   0 \r",
      "P:   1 R:   0 T:   0 \r",
      "P:   1 R:   0 T:   0 \r",
      "P:   1 R:   0 T:   0 \r",
      "P:   1 R:   0 T:   0 \r",
      "P:   1 R:   0 T:   0 \r",
      "P:   1 R:   0 T:   0 \r",
      "P:   1 R:   0 T:   0 \r",
      "P:   1 R:   0 T:   0 \r",
      "P:   1 R:   0 T:   0 \r",
      "P:   1 R:   0 T:   0 \r",
      "P:   1 R:   0 T:   0 \r",
      "P:   1 R:   0 T:   0 \r",
      "P:   1 R:   0 T:   0 \r",
      "P:   1 R:   0 T:   0 \r",
      "P:   1 R:   0 T:   0 \r",
      "P:   1 R:   0 T:   0 \r",
      "P:   1 R:   0 T:   0 \r",
      "P:   1 R:   0 T:   0 \r",
      "P:   1 R:   0 T:   0 \r",
      "P:   1 R:   0 T:   0 \r",
      "P:   1 R:   0 T:   0 \r",
      "P:   1 R:   0 T:   0 \r",
      "P:   1 R:   0 T:   0 \r",
      "P:   1 R:   0 T:   0 \r",
      "P:   1 R:   0 T:   0 \r",
      "P:   1 R:   0 T:   0 \r",
      "P:   1 R:   0 T:   0 \r",
      "P:   1 R:   0 T:   0 \r",
      "P:   1 R:   0 T:   0 \r",
      "P:   1 R:   0 T:   0 \r",
      "P:   1 R:   0 T:   0 \r",
      "P:   1 R:   0 T:   0 \r",
      "P:   1 R:   0 T:   0 \r",
      "P:   1 R:   0 T:   0 \r",
      "P:   1 R:   0 T:   0 \r",
      "P:   1 R:   0 T:   0 \r",
      "P:   1 R:   0 T:   0 \r",
      "P:   1 R:   0 T:   0 \r",
      "P:   1 R:   0 T:   0 \r",
      "P:   1 R:   0 T:   0 \r",
      "P:   1 R:   0 T:   0 \r",
      "P:   1 R:   0 T:   0 \r",
      "P:   1 R:   0 T:   0 \r",
      "P:   1 R:   0 T:   0 \r",
      "P:   1 R:   0 T:   0 \r",
      "P:   1 R:   0 T:   0 \r",
      "P:   1 R:   0 T:   0 \r",
      "P:   1 R:   0 T:   0 \r",
      "P:   1 R:   0 T:   0 \r",
      "P:   1 R:   0 T:   0 \r",
      "P:   1 R:   0 T:   0 \r",
      "P:   1 R:   0 T:   0 \r",
      "P:   1 R:   0 T:   0 \r",
      "P:   1 R:   0 T:   0 \r",
      "P:   1 R:   0 T:   0 \r",
      "P:   1 R:   0 T:   0 \r",
      "P:   1 R:   0 T:   0 \r",
      "P:   1 R:   0 T:   0 \r",
      "P:   1 R:   0 T:   0 \r",
      "P:   1 R:   0 T:   0 \r",
      "P:   1 R:   0 T:   0 \r",
      "P:   1 R:   0 T:   0 \r",
      "P:   1 R:   0 T:   0 \r",
      "P:   1 R:   0 T:   0 \r",
      "P:   1 R:   0 T:   0 \r",
      "P:   1 R:   0 T:   0 \r",
      "P:   1 R:   0 T:   0 \r",
      "P:   1 R:   0 T:   0 \r",
      "P:   1 R:   0 T:   0 \r",
      "P:   1 R:   0 T:   0 \r",
      "P:   1 R:   0 T:   0 \r",
      "P:   1 R:   0 T:   0 \r",
      "P:   1 R:   0 T:   0 \r",
      "P:   1 R:   0 T:   0 \r",
      "P:   1 R:   0 T:   0 \r",
      "P:   1 R:   0 T:   0 \r",
      "P:   1 R:   0 T:   0 \r",
      "P:   1 R:   0 T:   0 \r",
      "P:   1 R:   0 T:   0 \r",
      "P:   1 R:   0 T:   0 \r",
      "P:   1 R:   0 T:   0 \r",
      "P:   1 R:   0 T:   0 \r",
      "P:   1 R:   0 T:   0 \r",
      "P:   1 R:   0 T:   0 \r",
      "P:   1 R:   0 T:   0 \r",
      "P:   1 R:   0 T:   0 \r",
      "P:   1 R:   0 T:   0 \r",
      "P:   1 R:   0 T:   0 \r",
      "P:   1 R:   0 T:   0 \r",
      "P:   1 R:   0 T:   0 \r",
      "P:   1 R:   0 T:   0 \r",
      "P:   1 R:   0 T:   0 \r",
      "P:   1 R:   0 T:   0 \r",
      "P:   1 R:   0 T:   0 \r",
      "P:   1 R:   0 T:   0 \r",
      "P:   1 R:   0 T:   0 \r",
      "P:   1 R:   0 T:   0 \r",
      "P:   1 R:   0 T:   0 \r",
      "P:   1 R:   0 T:   0 \r",
      "P:   1 R:   0 T:   0 \r",
      "P:   1 R:   0 T:   0 \r",
      "P:   1 R:   0 T:   0 \r",
      "P:   1 R:   0 T:   0 \r",
      "P:   1 R:   0 T:   0 \r",
      "P:   1 R:   0 T:   0 \r",
      "P:   1 R:   0 T:   0 \r",
      "P:   1 R:   0 T:   0 \r",
      "P:   1 R:   0 T:   0 \r",
      "P:   1 R:   0 T:   0 \r",
      "P:   1 R:   0 T:   0 \r",
      "P:   1 R:   0 T:   0 \r",
      "P:   1 R:   0 T:   0 \r",
      "P:   1 R:   0 T:   0 \r",
      "P:   1 R:   0 T:   0 \r",
      "P:   1 R:   0 T:   0 \r",
      "P:   1 R:   0 T:   0 \r",
      "P:   1 R:   0 T:   0 \r",
      "P:   1 R:   0 T:   0 \r",
      "P:   1 R:   0 T:   0 \r",
      "P:   1 R:   0 T:   0 \r",
      "P:   1 R:   0 T:   0 \r",
      "P:   1 R:   0 T:   0 \r",
      "P:   1 R:   0 T:   0 \r",
      "P:   1 R:   0 T:   0 \r",
      "P:   1 R:   0 T:   0 \r",
      "P:   1 R:   0 T:   0 \r",
      "P:   1 R:   0 T:   0 \r",
      "P:   1 R:   0 T:   0 \r",
      "P:   1 R:   0 T:   0 \r",
      "P:   1 R:   0 T:   0 \r",
      "P:   1 R:   0 T:   0 \r",
      "P:   1 R:   0 T:   0 \r",
      "P:   1 R:   0 T:   0 \r",
      "P:   1 R:   0 T:   0 \r",
      "P:   1 R:   0 T:   0 \r",
      "P:   1 R:   0 T:   0 \r",
      "P:   1 R:   0 T:   0 \r",
      "P:   1 R:   0 T:   0 \r",
      "P:   1 R:   0 T:   0 \r",
      "P:   1 R:   0 T:   0 \r",
      "P:   1 R:   0 T:   0 \r",
      "P:   1 R:   0 T:   0 \r",
      "P:   1 R:   0 T:   0 \r",
      "P:   1 R:   0 T:   0 \r",
      "P:   1 R:   0 T:   0 \r",
      "P:   1 R:   0 T:   0 \r",
      "P:   1 R:   0 T:   0 \r",
      "P:   1 R:   0 T:   0 \r",
      "P:   1 R:   0 T:   0 \r",
      "P:   1 R:   0 T:   0 \r",
      "P:   1 R:   0 T:   0 \r",
      "P:   1 R:   0 T:   0 \r",
      "P:   1 R:   0 T:   0 \r",
      "P:   1 R:   0 T:   0 \r",
      "P:   1 R:   0 T:   0 \r",
      "P:   1 R:   0 T:   0 \r",
      "P:   1 R:   0 T:   0 \r",
      "P:   1 R:   0 T:   0 \r",
      "P:   1 R:   0 T:   0 \r",
      "P:   1 R:   0 T:   0 \r",
      "P:   1 R:   0 T:   0 \r",
      "P:   1 R:   0 T:   0 \r",
      "P:   1 R:   0 T:   0 \r",
      "P:   1 R:   0 T:   0 \r",
      "P:   1 R:   0 T:   0 \r",
      "P:   1 R:   0 T:   0 \r",
      "P:   1 R:   0 T:   0 \r",
      "P:   1 R:   0 T:   0 \r",
      "P:   1 R:   0 T:   0 \r",
      "P:   1 R:   0 T:   0 \r",
      "P:   1 R:   0 T:   0 \r",
      "P:   1 R:   0 T:   0 \r",
      "P:   1 R:   0 T:   0 \r",
      "P:   1 R:   0 T:   0 \r",
      "P:   1 R:   0 T:   0 \r",
      "P:   1 R:   0 T:   0 \r",
      "P:   1 R:   0 T:   0 \r",
      "P:   1 R:   0 T:   0 \r",
      "P:   1 R:   0 T:   0 \r",
      "P:   1 R:   0 T:   0 \r",
      "P:   1 R:   0 T:   0 \r",
      "P:   1 R:   0 T:   0 \r",
      "P:   1 R:   0 T:   0 \r",
      "P:   1 R:   0 T:   0 \r",
      "P:   1 R:   0 T:   0 \r",
      "P:   1 R:   0 T:   0 \r",
      "P:   1 R:   0 T:   0 \r",
      "P:   1 R:   0 T:   0 \r",
      "P:   1 R:   0 T:   0 \r",
      "P:   1 R:   0 T:   0 \r",
      "P:   1 R:   0 T:   0 \r"
     ]
    },
    {
     "name": "stdout",
     "output_type": "stream",
     "text": [
      "P:   0 R:   1 T:   0 \r",
      "P:   1 R:   1 T:   0 \r"
     ]
    },
    {
     "name": "stdout",
     "output_type": "stream",
     "text": [
      "P:   1 R:   1 T:   0 \r",
      "P:   1 R:   1 T:   0 \r"
     ]
    },
    {
     "name": "stdout",
     "output_type": "stream",
     "text": [
      "P:   1 R:   1 T:   0 \r",
      "P:   1 R:   1 T:   0 \r"
     ]
    },
    {
     "name": "stdout",
     "output_type": "stream",
     "text": [
      "P:   1 R:   1 T:   0 \r",
      "P:   1 R:   1 T:   0 \r"
     ]
    },
    {
     "name": "stdout",
     "output_type": "stream",
     "text": [
      "P:   1 R:   1 T:   0 \r",
      "P:   1 R:   1 T:   0 \r"
     ]
    },
    {
     "name": "stdout",
     "output_type": "stream",
     "text": [
      "P:   1 R:   1 T:   0 \r",
      "P:   0 R:   2 T:   0 \r",
      "P:   1 R:   2 T:   0 \r"
     ]
    },
    {
     "name": "stdout",
     "output_type": "stream",
     "text": [
      "P:   1 R:   2 T:   0 \r",
      "P:   1 R:   2 T:   0 \r"
     ]
    },
    {
     "name": "stdout",
     "output_type": "stream",
     "text": [
      "P:   1 R:   2 T:   0 \r",
      "P:   1 R:   2 T:   0 \r"
     ]
    },
    {
     "name": "stdout",
     "output_type": "stream",
     "text": [
      "P:   1 R:   2 T:   0 \r",
      "P:   1 R:   2 T:   0 \r"
     ]
    },
    {
     "name": "stdout",
     "output_type": "stream",
     "text": [
      "P:   1 R:   2 T:   0 \r",
      "P:   1 R:   2 T:   0 \r"
     ]
    },
    {
     "name": "stderr",
     "output_type": "stream",
     "text": [
      "\u001b[2m\u001b[36m(pid=76564)\u001b[0m 2022-05-19 09:51:58.428566: E external/org_tensorflow/tensorflow/stream_executor/cuda/cuda_driver.cc:271] failed call to cuInit: CUDA_ERROR_NO_DEVICE: no CUDA-capable device is detected\n",
      "\u001b[2m\u001b[36m(pid=76564)\u001b[0m WARNING:absl:No GPU/TPU found, falling back to CPU. (Set TF_CPP_MIN_LOG_LEVEL=0 and rerun for more info.)\n"
     ]
    },
    {
     "name": "stdout",
     "output_type": "stream",
     "text": [
      "P:   1 R:   2 T:   0 \r",
      "P:   1 R:   2 T:   0 \r"
     ]
    },
    {
     "name": "stdout",
     "output_type": "stream",
     "text": [
      "P:   1 R:   2 T:   0 \r",
      "P:   1 R:   2 T:   0 \r",
      "P:   0 R:   3 T:   0 \r"
     ]
    },
    {
     "name": "stdout",
     "output_type": "stream",
     "text": [
      "P:   1 R:   3 T:   0 \r",
      "P:   1 R:   3 T:   0 \r"
     ]
    },
    {
     "name": "stdout",
     "output_type": "stream",
     "text": [
      "P:   1 R:   3 T:   0 \r",
      "P:   1 R:   3 T:   0 \r"
     ]
    },
    {
     "name": "stderr",
     "output_type": "stream",
     "text": [
      "\u001b[2m\u001b[36m(pid=76588)\u001b[0m 2022-05-19 09:51:59.302661: E external/org_tensorflow/tensorflow/stream_executor/cuda/cuda_driver.cc:271] failed call to cuInit: CUDA_ERROR_NO_DEVICE: no CUDA-capable device is detected\n",
      "\u001b[2m\u001b[36m(pid=76588)\u001b[0m WARNING:absl:No GPU/TPU found, falling back to CPU. (Set TF_CPP_MIN_LOG_LEVEL=0 and rerun for more info.)\n"
     ]
    },
    {
     "name": "stdout",
     "output_type": "stream",
     "text": [
      "P:   1 R:   3 T:   0 \r",
      "P:   1 R:   3 T:   0 \r"
     ]
    },
    {
     "name": "stdout",
     "output_type": "stream",
     "text": [
      "P:   1 R:   3 T:   0 \r",
      "P:   1 R:   3 T:   0 \r"
     ]
    },
    {
     "name": "stdout",
     "output_type": "stream",
     "text": [
      "P:   1 R:   3 T:   0 \r",
      "P:   1 R:   3 T:   0 \r"
     ]
    },
    {
     "name": "stdout",
     "output_type": "stream",
     "text": [
      "P:   1 R:   3 T:   0 \r",
      "P:   0 R:   4 T:   0 \r",
      "P:   1 R:   4 T:   0 \r"
     ]
    },
    {
     "name": "stdout",
     "output_type": "stream",
     "text": [
      "P:   1 R:   4 T:   0 \r",
      "P:   1 R:   4 T:   0 \r"
     ]
    },
    {
     "name": "stdout",
     "output_type": "stream",
     "text": [
      "P:   1 R:   4 T:   0 \r",
      "P:   1 R:   4 T:   0 \r"
     ]
    },
    {
     "name": "stdout",
     "output_type": "stream",
     "text": [
      "P:   1 R:   4 T:   0 \r",
      "P:   1 R:   4 T:   0 \r"
     ]
    },
    {
     "name": "stdout",
     "output_type": "stream",
     "text": [
      "P:   1 R:   4 T:   0 \r",
      "P:   1 R:   4 T:   0 \r"
     ]
    },
    {
     "name": "stderr",
     "output_type": "stream",
     "text": [
      "\u001b[2m\u001b[36m(pid=76613)\u001b[0m 2022-05-19 09:52:00.992721: E external/org_tensorflow/tensorflow/stream_executor/cuda/cuda_driver.cc:271] failed call to cuInit: CUDA_ERROR_NO_DEVICE: no CUDA-capable device is detected\n",
      "\u001b[2m\u001b[36m(pid=76613)\u001b[0m WARNING:absl:No GPU/TPU found, falling back to CPU. (Set TF_CPP_MIN_LOG_LEVEL=0 and rerun for more info.)\n"
     ]
    },
    {
     "name": "stdout",
     "output_type": "stream",
     "text": [
      "P:   1 R:   4 T:   0 \r",
      "P:   1 R:   4 T:   0 \r"
     ]
    },
    {
     "name": "stdout",
     "output_type": "stream",
     "text": [
      "P:   1 R:   4 T:   0 \r",
      "P:   0 R:   5 T:   0 \r",
      "P:   1 R:   5 T:   0 \r"
     ]
    },
    {
     "name": "stdout",
     "output_type": "stream",
     "text": [
      "P:   1 R:   5 T:   0 \r",
      "P:   1 R:   5 T:   0 \r"
     ]
    },
    {
     "name": "stdout",
     "output_type": "stream",
     "text": [
      "P:   1 R:   5 T:   0 \r",
      "P:   1 R:   5 T:   0 \r"
     ]
    },
    {
     "name": "stderr",
     "output_type": "stream",
     "text": [
      "\u001b[2m\u001b[36m(pid=76912)\u001b[0m 2022-05-19 09:52:01.875511: E external/org_tensorflow/tensorflow/stream_executor/cuda/cuda_driver.cc:271] failed call to cuInit: CUDA_ERROR_NO_DEVICE: no CUDA-capable device is detected\n",
      "\u001b[2m\u001b[36m(pid=76912)\u001b[0m WARNING:absl:No GPU/TPU found, falling back to CPU. (Set TF_CPP_MIN_LOG_LEVEL=0 and rerun for more info.)\n"
     ]
    },
    {
     "name": "stdout",
     "output_type": "stream",
     "text": [
      "P:   1 R:   5 T:   0 \r",
      "P:   1 R:   5 T:   0 \r"
     ]
    },
    {
     "name": "stdout",
     "output_type": "stream",
     "text": [
      "P:   1 R:   5 T:   0 \r",
      "P:   1 R:   5 T:   0  psnr: 2.16e+01 at lambda: 2.90e-02, rho: 4.36e-01\r",
      "P:   1 R:   5 T:   0  psnr: 2.16e+01 at lambda: 2.90e-02, rho: 4.36e-01\r"
     ]
    },
    {
     "name": "stdout",
     "output_type": "stream",
     "text": [
      "P:   1 R:   5 T:   0  psnr: 2.16e+01 at lambda: 2.90e-02, rho: 4.36e-01\r",
      "P:   1 R:   5 T:   0  psnr: 2.16e+01 at lambda: 2.90e-02, rho: 4.36e-01\r",
      "P:   0 R:   6 T:   0  psnr: 2.16e+01 at lambda: 2.90e-02, rho: 4.36e-01\r"
     ]
    },
    {
     "name": "stdout",
     "output_type": "stream",
     "text": [
      "P:   1 R:   6 T:   0  psnr: 2.16e+01 at lambda: 2.90e-02, rho: 4.36e-01\r",
      "P:   1 R:   5 T:   1  psnr: 2.16e+01 at lambda: 2.90e-02, rho: 4.36e-01\r",
      "P:   0 R:   6 T:   1  psnr: 2.16e+01 at lambda: 2.90e-02, rho: 4.36e-01\r",
      "P:   1 R:   6 T:   1  psnr: 2.16e+01 at lambda: 2.90e-02, rho: 4.36e-01\r"
     ]
    },
    {
     "name": "stdout",
     "output_type": "stream",
     "text": [
      "P:   1 R:   6 T:   1  psnr: 2.16e+01 at lambda: 2.90e-02, rho: 4.36e-01\r",
      "P:   1 R:   6 T:   1  psnr: 2.25e+01 at lambda: 2.90e-02, rho: 4.36e-01\r",
      "P:   1 R:   6 T:   1  psnr: 2.25e+01 at lambda: 2.90e-02, rho: 4.36e-01\r"
     ]
    },
    {
     "name": "stdout",
     "output_type": "stream",
     "text": [
      "P:   1 R:   6 T:   1  psnr: 2.25e+01 at lambda: 2.90e-02, rho: 4.36e-01\r",
      "P:   1 R:   6 T:   1  psnr: 2.25e+01 at lambda: 2.90e-02, rho: 4.36e-01\r"
     ]
    },
    {
     "name": "stderr",
     "output_type": "stream",
     "text": [
      "\u001b[2m\u001b[36m(pid=77253)\u001b[0m 2022-05-19 09:52:03.269406: E external/org_tensorflow/tensorflow/stream_executor/cuda/cuda_driver.cc:271] failed call to cuInit: CUDA_ERROR_NO_DEVICE: no CUDA-capable device is detected\n",
      "\u001b[2m\u001b[36m(pid=77253)\u001b[0m WARNING:absl:No GPU/TPU found, falling back to CPU. (Set TF_CPP_MIN_LOG_LEVEL=0 and rerun for more info.)\n"
     ]
    },
    {
     "name": "stdout",
     "output_type": "stream",
     "text": [
      "P:   1 R:   6 T:   1  psnr: 2.25e+01 at lambda: 2.90e-02, rho: 4.36e-01\r",
      "P:   1 R:   6 T:   1  psnr: 2.25e+01 at lambda: 2.90e-02, rho: 4.36e-01\r"
     ]
    },
    {
     "name": "stdout",
     "output_type": "stream",
     "text": [
      "P:   1 R:   6 T:   1  psnr: 2.25e+01 at lambda: 2.90e-02, rho: 4.36e-01\r",
      "P:   1 R:   6 T:   1  psnr: 2.25e+01 at lambda: 2.90e-02, rho: 4.36e-01\r",
      "P:   0 R:   7 T:   1  psnr: 2.25e+01 at lambda: 2.90e-02, rho: 4.36e-01\r",
      "P:   1 R:   7 T:   1  psnr: 2.29e+01 at lambda: 2.90e-02, rho: 4.36e-01\r"
     ]
    },
    {
     "name": "stdout",
     "output_type": "stream",
     "text": [
      "P:   1 R:   7 T:   1  psnr: 2.29e+01 at lambda: 2.90e-02, rho: 4.36e-01\r",
      "P:   1 R:   7 T:   1  psnr: 2.29e+01 at lambda: 2.90e-02, rho: 4.36e-01\r"
     ]
    },
    {
     "name": "stdout",
     "output_type": "stream",
     "text": [
      "P:   1 R:   7 T:   1  psnr: 2.29e+01 at lambda: 2.90e-02, rho: 4.36e-01\r",
      "P:   1 R:   7 T:   1  psnr: 2.29e+01 at lambda: 2.90e-02, rho: 4.36e-01\r"
     ]
    },
    {
     "name": "stdout",
     "output_type": "stream",
     "text": [
      "P:   1 R:   7 T:   1  psnr: 2.29e+01 at lambda: 2.90e-02, rho: 4.36e-01\r",
      "P:   1 R:   7 T:   1  psnr: 2.29e+01 at lambda: 2.90e-02, rho: 4.36e-01\r",
      "P:   1 R:   7 T:   1  psnr: 2.31e+01 at lambda: 2.90e-02, rho: 4.36e-01\r"
     ]
    },
    {
     "name": "stdout",
     "output_type": "stream",
     "text": [
      "P:   1 R:   6 T:   2  psnr: 2.31e+01 at lambda: 2.90e-02, rho: 4.36e-01\r",
      "P:   0 R:   7 T:   2  psnr: 2.31e+01 at lambda: 2.90e-02, rho: 4.36e-01\r",
      "P:   1 R:   7 T:   2  psnr: 2.31e+01 at lambda: 2.90e-02, rho: 4.36e-01\r"
     ]
    },
    {
     "name": "stderr",
     "output_type": "stream",
     "text": [
      "\u001b[2m\u001b[36m(pid=77573)\u001b[0m 2022-05-19 09:52:04.623654: E external/org_tensorflow/tensorflow/stream_executor/cuda/cuda_driver.cc:271] failed call to cuInit: CUDA_ERROR_NO_DEVICE: no CUDA-capable device is detected\n",
      "\u001b[2m\u001b[36m(pid=77573)\u001b[0m WARNING:absl:No GPU/TPU found, falling back to CPU. (Set TF_CPP_MIN_LOG_LEVEL=0 and rerun for more info.)\n"
     ]
    },
    {
     "name": "stdout",
     "output_type": "stream",
     "text": [
      "P:   1 R:   7 T:   2  psnr: 2.31e+01 at lambda: 2.90e-02, rho: 4.36e-01\r",
      "P:   1 R:   7 T:   2  psnr: 2.31e+01 at lambda: 2.90e-02, rho: 4.36e-01\r"
     ]
    },
    {
     "name": "stdout",
     "output_type": "stream",
     "text": [
      "P:   1 R:   7 T:   2  psnr: 2.31e+01 at lambda: 2.90e-02, rho: 4.36e-01\r",
      "P:   1 R:   7 T:   2  psnr: 2.31e+01 at lambda: 2.90e-02, rho: 4.36e-01\r",
      "P:   0 R:   8 T:   2  psnr: 2.31e+01 at lambda: 2.90e-02, rho: 4.36e-01\r",
      "P:   1 R:   8 T:   2  psnr: 2.32e+01 at lambda: 2.90e-02, rho: 4.36e-01\r",
      "P:   0 R:   9 T:   2  psnr: 2.32e+01 at lambda: 2.90e-02, rho: 4.36e-01\r",
      "P:   1 R:   8 T:   3  psnr: 2.32e+01 at lambda: 2.90e-02, rho: 4.36e-01\r",
      "P:   0 R:   9 T:   3  psnr: 2.32e+01 at lambda: 2.90e-02, rho: 4.36e-01\r"
     ]
    },
    {
     "name": "stdout",
     "output_type": "stream",
     "text": [
      "P:   1 R:   9 T:   3  psnr: 2.32e+01 at lambda: 2.90e-02, rho: 4.36e-01\r",
      "P:   1 R:   9 T:   3  psnr: 2.32e+01 at lambda: 2.90e-02, rho: 4.36e-01\r",
      "P:   1 R:   8 T:   4  psnr: 2.32e+01 at lambda: 2.90e-02, rho: 4.36e-01\r",
      "P:   0 R:   9 T:   4  psnr: 2.32e+01 at lambda: 2.90e-02, rho: 4.36e-01\r",
      "P:   1 R:   8 T:   5  psnr: 2.32e+01 at lambda: 2.90e-02, rho: 4.36e-01\r",
      "P:   0 R:   9 T:   5  psnr: 2.32e+01 at lambda: 2.90e-02, rho: 4.36e-01\r"
     ]
    },
    {
     "name": "stdout",
     "output_type": "stream",
     "text": [
      "P:   1 R:   9 T:   5  psnr: 2.32e+01 at lambda: 2.90e-02, rho: 4.36e-01\r",
      "P:   1 R:   9 T:   5  psnr: 2.32e+01 at lambda: 2.90e-02, rho: 4.36e-01\r"
     ]
    },
    {
     "name": "stdout",
     "output_type": "stream",
     "text": [
      "P:   1 R:   9 T:   5  psnr: 2.32e+01 at lambda: 2.90e-02, rho: 4.36e-01\r",
      "P:   1 R:   9 T:   5  psnr: 2.32e+01 at lambda: 2.90e-02, rho: 4.36e-01\r"
     ]
    },
    {
     "name": "stderr",
     "output_type": "stream",
     "text": [
      "\u001b[2m\u001b[36m(pid=77913)\u001b[0m 2022-05-19 09:52:05.738215: E external/org_tensorflow/tensorflow/stream_executor/cuda/cuda_driver.cc:271] failed call to cuInit: CUDA_ERROR_NO_DEVICE: no CUDA-capable device is detected\n",
      "\u001b[2m\u001b[36m(pid=77913)\u001b[0m WARNING:absl:No GPU/TPU found, falling back to CPU. (Set TF_CPP_MIN_LOG_LEVEL=0 and rerun for more info.)\n"
     ]
    },
    {
     "name": "stdout",
     "output_type": "stream",
     "text": [
      "P:   1 R:   9 T:   5  psnr: 2.32e+01 at lambda: 2.90e-02, rho: 4.36e-01\r",
      "P:   1 R:   9 T:   5  psnr: 2.32e+01 at lambda: 2.90e-02, rho: 4.36e-01\r",
      "P:   1 R:   9 T:   5  psnr: 2.32e+01 at lambda: 2.90e-02, rho: 4.36e-01\r"
     ]
    },
    {
     "name": "stdout",
     "output_type": "stream",
     "text": [
      "P:   1 R:   9 T:   5  psnr: 2.32e+01 at lambda: 2.90e-02, rho: 4.36e-01\r",
      "P:   1 R:   9 T:   5  psnr: 2.32e+01 at lambda: 2.90e-02, rho: 4.36e-01\r"
     ]
    },
    {
     "name": "stdout",
     "output_type": "stream",
     "text": [
      "P:   1 R:   9 T:   5  psnr: 2.32e+01 at lambda: 2.90e-02, rho: 4.36e-01\r",
      "P:   1 R:   8 T:   6  psnr: 2.32e+01 at lambda: 2.90e-02, rho: 4.36e-01\r",
      "P:   0 R:   9 T:   6  psnr: 2.32e+01 at lambda: 2.90e-02, rho: 4.36e-01\r"
     ]
    },
    {
     "name": "stdout",
     "output_type": "stream",
     "text": [
      "P:   1 R:   9 T:   6  psnr: 2.32e+01 at lambda: 2.90e-02, rho: 4.36e-01\r",
      "P:   0 R:  10 T:   6  psnr: 2.32e+01 at lambda: 2.90e-02, rho: 4.36e-01\r",
      "P:   1 R:  10 T:   6  psnr: 2.32e+01 at lambda: 2.90e-02, rho: 4.36e-01\r",
      "P:   1 R:  10 T:   6  psnr: 2.32e+01 at lambda: 2.90e-02, rho: 4.36e-01\r"
     ]
    },
    {
     "name": "stdout",
     "output_type": "stream",
     "text": [
      "P:   1 R:  10 T:   6  psnr: 2.32e+01 at lambda: 2.90e-02, rho: 4.36e-01\r",
      "P:   1 R:   9 T:   7  psnr: 2.32e+01 at lambda: 2.90e-02, rho: 4.36e-01\r",
      "P:   0 R:  10 T:   7  psnr: 2.32e+01 at lambda: 2.90e-02, rho: 4.36e-01\r",
      "P:   1 R:  10 T:   7  psnr: 2.32e+01 at lambda: 2.90e-02, rho: 4.36e-01\r"
     ]
    },
    {
     "name": "stdout",
     "output_type": "stream",
     "text": [
      "P:   1 R:  10 T:   7  psnr: 2.32e+01 at lambda: 2.90e-02, rho: 4.36e-01\r",
      "P:   1 R:  10 T:   7  psnr: 2.32e+01 at lambda: 2.90e-02, rho: 4.36e-01\r",
      "P:   1 R:  10 T:   7  psnr: 2.32e+01 at lambda: 2.90e-02, rho: 4.36e-01\r"
     ]
    },
    {
     "name": "stderr",
     "output_type": "stream",
     "text": [
      "\u001b[2m\u001b[36m(pid=78268)\u001b[0m 2022-05-19 09:52:07.129536: E external/org_tensorflow/tensorflow/stream_executor/cuda/cuda_driver.cc:271] failed call to cuInit: CUDA_ERROR_NO_DEVICE: no CUDA-capable device is detected\n",
      "\u001b[2m\u001b[36m(pid=78268)\u001b[0m WARNING:absl:No GPU/TPU found, falling back to CPU. (Set TF_CPP_MIN_LOG_LEVEL=0 and rerun for more info.)\n",
      "\u001b[2m\u001b[36m(pid=78263)\u001b[0m 2022-05-19 09:52:07.224076: E external/org_tensorflow/tensorflow/stream_executor/cuda/cuda_driver.cc:271] failed call to cuInit: CUDA_ERROR_NO_DEVICE: no CUDA-capable device is detected\n",
      "\u001b[2m\u001b[36m(pid=78263)\u001b[0m WARNING:absl:No GPU/TPU found, falling back to CPU. (Set TF_CPP_MIN_LOG_LEVEL=0 and rerun for more info.)\n"
     ]
    },
    {
     "name": "stdout",
     "output_type": "stream",
     "text": [
      "P:   1 R:  10 T:   7  psnr: 2.32e+01 at lambda: 2.90e-02, rho: 4.36e-01\r",
      "P:   1 R:  10 T:   7  psnr: 2.32e+01 at lambda: 2.90e-02, rho: 4.36e-01\r"
     ]
    },
    {
     "name": "stdout",
     "output_type": "stream",
     "text": [
      "P:   1 R:  10 T:   7  psnr: 2.32e+01 at lambda: 2.90e-02, rho: 4.36e-01\r",
      "P:   1 R:   9 T:   8  psnr: 2.32e+01 at lambda: 2.90e-02, rho: 4.36e-01\r",
      "P:   0 R:  10 T:   8  psnr: 2.32e+01 at lambda: 2.90e-02, rho: 4.36e-01\r",
      "P:   1 R:  10 T:   8  psnr: 2.32e+01 at lambda: 2.90e-02, rho: 4.36e-01\r",
      "P:   1 R:   9 T:   9  psnr: 2.32e+01 at lambda: 2.90e-02, rho: 4.36e-01\r",
      "P:   0 R:  10 T:   9  psnr: 2.32e+01 at lambda: 2.90e-02, rho: 4.36e-01\r"
     ]
    },
    {
     "name": "stdout",
     "output_type": "stream",
     "text": [
      "P:   1 R:  10 T:   9  psnr: 2.32e+01 at lambda: 2.90e-02, rho: 4.36e-01\r",
      "P:   0 R:  11 T:   9  psnr: 2.32e+01 at lambda: 2.90e-02, rho: 4.36e-01\r",
      "P:   1 R:  11 T:   9  psnr: 2.32e+01 at lambda: 2.90e-02, rho: 4.36e-01\r",
      "P:   0 R:  12 T:   9  psnr: 2.32e+01 at lambda: 2.90e-02, rho: 4.36e-01\r"
     ]
    },
    {
     "name": "stdout",
     "output_type": "stream",
     "text": [
      "P:   1 R:  11 T:  10  psnr: 2.32e+01 at lambda: 2.90e-02, rho: 4.36e-01\r",
      "P:   0 R:  12 T:  10  psnr: 2.32e+01 at lambda: 2.90e-02, rho: 4.36e-01\r",
      "P:   1 R:  12 T:  10  psnr: 2.32e+01 at lambda: 2.90e-02, rho: 4.36e-01\r",
      "P:   0 R:  13 T:  10  psnr: 2.32e+01 at lambda: 2.90e-02, rho: 4.36e-01\r"
     ]
    },
    {
     "name": "stdout",
     "output_type": "stream",
     "text": [
      "P:   1 R:  13 T:  10  psnr: 2.32e+01 at lambda: 2.90e-02, rho: 4.36e-01\r",
      "P:   0 R:  14 T:  10  psnr: 2.32e+01 at lambda: 2.90e-02, rho: 4.36e-01\r",
      "P:   1 R:  14 T:  10  psnr: 2.32e+01 at lambda: 2.90e-02, rho: 4.36e-01\r",
      "P:   1 R:  14 T:  10  psnr: 2.32e+01 at lambda: 2.90e-02, rho: 4.36e-01\r",
      "P:   1 R:  14 T:  10  psnr: 2.32e+01 at lambda: 2.90e-02, rho: 4.36e-01\r"
     ]
    },
    {
     "name": "stdout",
     "output_type": "stream",
     "text": [
      "P:   1 R:  14 T:  10  psnr: 2.32e+01 at lambda: 2.90e-02, rho: 4.36e-01\r",
      "P:   1 R:  14 T:  10  psnr: 2.32e+01 at lambda: 2.90e-02, rho: 4.36e-01\r"
     ]
    },
    {
     "name": "stdout",
     "output_type": "stream",
     "text": [
      "P:   1 R:  14 T:  10  psnr: 2.32e+01 at lambda: 2.90e-02, rho: 4.36e-01\r",
      "P:   1 R:  14 T:  10  psnr: 2.32e+01 at lambda: 2.90e-02, rho: 4.36e-01\r"
     ]
    },
    {
     "name": "stderr",
     "output_type": "stream",
     "text": [
      "\u001b[2m\u001b[36m(pid=78646)\u001b[0m 2022-05-19 09:52:08.718659: E external/org_tensorflow/tensorflow/stream_executor/cuda/cuda_driver.cc:271] failed call to cuInit: CUDA_ERROR_NO_DEVICE: no CUDA-capable device is detected\n",
      "\u001b[2m\u001b[36m(pid=78646)\u001b[0m WARNING:absl:No GPU/TPU found, falling back to CPU. (Set TF_CPP_MIN_LOG_LEVEL=0 and rerun for more info.)\n"
     ]
    },
    {
     "name": "stdout",
     "output_type": "stream",
     "text": [
      "P:   1 R:  14 T:  10  psnr: 2.32e+01 at lambda: 2.90e-02, rho: 4.36e-01\r",
      "P:   1 R:  14 T:  10  psnr: 2.32e+01 at lambda: 2.90e-02, rho: 4.36e-01\r"
     ]
    },
    {
     "name": "stdout",
     "output_type": "stream",
     "text": [
      "P:   1 R:  14 T:  10  psnr: 2.32e+01 at lambda: 2.90e-02, rho: 4.36e-01\r",
      "P:   1 R:  13 T:  11  psnr: 2.32e+01 at lambda: 2.90e-02, rho: 4.36e-01\r",
      "P:   0 R:  14 T:  11  psnr: 2.32e+01 at lambda: 2.90e-02, rho: 4.36e-01\r"
     ]
    },
    {
     "name": "stdout",
     "output_type": "stream",
     "text": [
      "P:   1 R:  14 T:  11  psnr: 2.32e+01 at lambda: 2.90e-02, rho: 4.36e-01\r",
      "P:   1 R:  13 T:  12  psnr: 2.32e+01 at lambda: 2.90e-02, rho: 4.36e-01\r",
      "P:   0 R:  14 T:  12  psnr: 2.32e+01 at lambda: 2.90e-02, rho: 4.36e-01\r",
      "P:   1 R:  14 T:  12  psnr: 2.32e+01 at lambda: 2.90e-02, rho: 4.36e-01\r"
     ]
    },
    {
     "name": "stdout",
     "output_type": "stream",
     "text": [
      "P:   1 R:  14 T:  12  psnr: 2.32e+01 at lambda: 2.90e-02, rho: 4.36e-01\r",
      "P:   1 R:  13 T:  13  psnr: 2.32e+01 at lambda: 2.90e-02, rho: 4.36e-01\r",
      "P:   0 R:  14 T:  13  psnr: 2.32e+01 at lambda: 2.90e-02, rho: 4.36e-01\r",
      "P:   1 R:  14 T:  13  psnr: 2.32e+01 at lambda: 2.90e-02, rho: 4.36e-01\r",
      "P:   0 R:  15 T:  13  psnr: 2.32e+01 at lambda: 2.90e-02, rho: 4.36e-01\r",
      "P:   1 R:  15 T:  13  psnr: 2.32e+01 at lambda: 2.90e-02, rho: 4.36e-01\r",
      "P:   1 R:  15 T:  13  psnr: 2.32e+01 at lambda: 2.90e-02, rho: 4.36e-01\r"
     ]
    },
    {
     "name": "stdout",
     "output_type": "stream",
     "text": [
      "P:   1 R:  14 T:  14  psnr: 2.32e+01 at lambda: 2.90e-02, rho: 4.36e-01\r",
      "P:   0 R:  15 T:  14  psnr: 2.32e+01 at lambda: 2.90e-02, rho: 4.36e-01\r",
      "P:   1 R:  15 T:  14  psnr: 2.32e+01 at lambda: 2.90e-02, rho: 4.36e-01\r"
     ]
    },
    {
     "name": "stdout",
     "output_type": "stream",
     "text": [
      "P:   1 R:  15 T:  14  psnr: 2.32e+01 at lambda: 2.90e-02, rho: 4.36e-01\r",
      "P:   1 R:  15 T:  14  psnr: 2.32e+01 at lambda: 2.90e-02, rho: 4.36e-01\r"
     ]
    },
    {
     "name": "stderr",
     "output_type": "stream",
     "text": [
      "\u001b[2m\u001b[36m(pid=79089)\u001b[0m 2022-05-19 09:52:10.217716: E external/org_tensorflow/tensorflow/stream_executor/cuda/cuda_driver.cc:271] failed call to cuInit: CUDA_ERROR_NO_DEVICE: no CUDA-capable device is detected\n",
      "\u001b[2m\u001b[36m(pid=79089)\u001b[0m WARNING:absl:No GPU/TPU found, falling back to CPU. (Set TF_CPP_MIN_LOG_LEVEL=0 and rerun for more info.)\n",
      "\u001b[2m\u001b[36m(pid=79071)\u001b[0m 2022-05-19 09:52:10.325474: E external/org_tensorflow/tensorflow/stream_executor/cuda/cuda_driver.cc:271] failed call to cuInit: CUDA_ERROR_NO_DEVICE: no CUDA-capable device is detected\n",
      "\u001b[2m\u001b[36m(pid=79071)\u001b[0m WARNING:absl:No GPU/TPU found, falling back to CPU. (Set TF_CPP_MIN_LOG_LEVEL=0 and rerun for more info.)\n"
     ]
    },
    {
     "name": "stdout",
     "output_type": "stream",
     "text": [
      "P:   1 R:  15 T:  14  psnr: 2.32e+01 at lambda: 2.90e-02, rho: 4.36e-01\r",
      "P:   1 R:  15 T:  14  psnr: 2.32e+01 at lambda: 2.90e-02, rho: 4.36e-01\r"
     ]
    },
    {
     "name": "stdout",
     "output_type": "stream",
     "text": [
      "P:   1 R:  15 T:  14  psnr: 2.32e+01 at lambda: 2.90e-02, rho: 4.36e-01\r",
      "P:   1 R:  15 T:  14  psnr: 2.32e+01 at lambda: 2.90e-02, rho: 4.36e-01\r",
      "P:   1 R:  15 T:  14  psnr: 2.32e+01 at lambda: 2.90e-02, rho: 4.36e-01\r",
      "P:   1 R:  15 T:  14  psnr: 2.32e+01 at lambda: 2.90e-02, rho: 4.36e-01\r",
      "P:   1 R:  14 T:  15  psnr: 2.32e+01 at lambda: 2.90e-02, rho: 4.36e-01\r",
      "P:   0 R:  15 T:  15  psnr: 2.32e+01 at lambda: 2.90e-02, rho: 4.36e-01\r"
     ]
    },
    {
     "name": "stderr",
     "output_type": "stream",
     "text": [
      "\u001b[2m\u001b[36m(pid=79073)\u001b[0m 2022-05-19 09:52:10.620477: E external/org_tensorflow/tensorflow/stream_executor/cuda/cuda_driver.cc:271] failed call to cuInit: CUDA_ERROR_NO_DEVICE: no CUDA-capable device is detected\n",
      "\u001b[2m\u001b[36m(pid=79073)\u001b[0m WARNING:absl:No GPU/TPU found, falling back to CPU. (Set TF_CPP_MIN_LOG_LEVEL=0 and rerun for more info.)\n",
      "\u001b[2m\u001b[36m(pid=79072)\u001b[0m 2022-05-19 09:52:10.736340: E external/org_tensorflow/tensorflow/stream_executor/cuda/cuda_driver.cc:271] failed call to cuInit: CUDA_ERROR_NO_DEVICE: no CUDA-capable device is detected\n",
      "\u001b[2m\u001b[36m(pid=79072)\u001b[0m WARNING:absl:No GPU/TPU found, falling back to CPU. (Set TF_CPP_MIN_LOG_LEVEL=0 and rerun for more info.)\n"
     ]
    },
    {
     "name": "stdout",
     "output_type": "stream",
     "text": [
      "P:   1 R:  15 T:  15  psnr: 2.32e+01 at lambda: 2.90e-02, rho: 4.36e-01\r",
      "P:   1 R:  14 T:  16  psnr: 2.32e+01 at lambda: 2.90e-02, rho: 4.36e-01\r",
      "P:   0 R:  15 T:  16  psnr: 2.32e+01 at lambda: 2.90e-02, rho: 4.36e-01\r",
      "P:   1 R:  15 T:  16  psnr: 2.32e+01 at lambda: 2.90e-02, rho: 4.36e-01\r",
      "P:   1 R:  14 T:  17  psnr: 2.32e+01 at lambda: 2.90e-02, rho: 4.36e-01\r",
      "P:   0 R:  15 T:  17  psnr: 2.32e+01 at lambda: 2.90e-02, rho: 4.36e-01\r"
     ]
    },
    {
     "name": "stdout",
     "output_type": "stream",
     "text": [
      "P:   1 R:  15 T:  17  psnr: 2.32e+01 at lambda: 2.90e-02, rho: 4.36e-01\r",
      "P:   1 R:  15 T:  17  psnr: 2.32e+01 at lambda: 2.90e-02, rho: 4.36e-01\r",
      "P:   0 R:  16 T:  17  psnr: 2.32e+01 at lambda: 2.90e-02, rho: 4.36e-01\r"
     ]
    },
    {
     "name": "stdout",
     "output_type": "stream",
     "text": [
      "P:   1 R:  15 T:  18  psnr: 2.32e+01 at lambda: 2.90e-02, rho: 4.36e-01\r",
      "P:   0 R:  16 T:  18  psnr: 2.32e+01 at lambda: 2.90e-02, rho: 4.36e-01\r",
      "P:   1 R:  16 T:  18  psnr: 2.32e+01 at lambda: 2.90e-02, rho: 4.36e-01\r",
      "P:   0 R:  17 T:  18  psnr: 2.32e+01 at lambda: 2.90e-02, rho: 4.36e-01\r",
      "P:   1 R:  16 T:  19  psnr: 2.32e+01 at lambda: 2.90e-02, rho: 4.36e-01\r",
      "P:   0 R:  17 T:  19  psnr: 2.32e+01 at lambda: 2.90e-02, rho: 4.36e-01\r"
     ]
    },
    {
     "name": "stdout",
     "output_type": "stream",
     "text": [
      "P:   1 R:  16 T:  20  psnr: 2.32e+01 at lambda: 2.90e-02, rho: 4.36e-01\r",
      "P:   0 R:  17 T:  20  psnr: 2.32e+01 at lambda: 2.90e-02, rho: 4.36e-01\r",
      "P:   1 R:  17 T:  20  psnr: 2.32e+01 at lambda: 2.90e-02, rho: 4.36e-01\r",
      "P:   0 R:  18 T:  20  psnr: 2.32e+01 at lambda: 2.90e-02, rho: 4.36e-01\r"
     ]
    },
    {
     "name": "stdout",
     "output_type": "stream",
     "text": [
      "P:   1 R:  18 T:  20  psnr: 2.32e+01 at lambda: 2.90e-02, rho: 4.36e-01\r",
      "P:   1 R:  18 T:  20  psnr: 2.32e+01 at lambda: 2.90e-02, rho: 4.36e-01\r"
     ]
    },
    {
     "name": "stdout",
     "output_type": "stream",
     "text": [
      "P:   1 R:  18 T:  20  psnr: 2.32e+01 at lambda: 2.90e-02, rho: 4.36e-01\r",
      "P:   1 R:  18 T:  20  psnr: 2.32e+01 at lambda: 2.90e-02, rho: 4.36e-01\r"
     ]
    },
    {
     "name": "stdout",
     "output_type": "stream",
     "text": [
      "P:   1 R:  18 T:  20  psnr: 2.32e+01 at lambda: 2.90e-02, rho: 4.36e-01\r",
      "P:   1 R:  18 T:  20  psnr: 2.32e+01 at lambda: 2.90e-02, rho: 4.36e-01\r"
     ]
    },
    {
     "name": "stdout",
     "output_type": "stream",
     "text": [
      "P:   1 R:  18 T:  20  psnr: 2.32e+01 at lambda: 2.90e-02, rho: 4.36e-01\r",
      "P:   1 R:  18 T:  20  psnr: 2.32e+01 at lambda: 2.90e-02, rho: 4.36e-01\r"
     ]
    },
    {
     "name": "stderr",
     "output_type": "stream",
     "text": [
      "\u001b[2m\u001b[36m(pid=79934)\u001b[0m 2022-05-19 09:52:12.503252: E external/org_tensorflow/tensorflow/stream_executor/cuda/cuda_driver.cc:271] failed call to cuInit: CUDA_ERROR_NO_DEVICE: no CUDA-capable device is detected\n",
      "\u001b[2m\u001b[36m(pid=79934)\u001b[0m WARNING:absl:No GPU/TPU found, falling back to CPU. (Set TF_CPP_MIN_LOG_LEVEL=0 and rerun for more info.)\n"
     ]
    },
    {
     "name": "stdout",
     "output_type": "stream",
     "text": [
      "P:   1 R:  18 T:  20  psnr: 2.32e+01 at lambda: 2.90e-02, rho: 4.36e-01\r",
      "P:   1 R:  17 T:  21  psnr: 2.32e+01 at lambda: 2.90e-02, rho: 4.36e-01\r",
      "P:   0 R:  18 T:  21  psnr: 2.32e+01 at lambda: 2.90e-02, rho: 4.36e-01\r",
      "P:   1 R:  18 T:  21  psnr: 2.32e+01 at lambda: 2.90e-02, rho: 4.36e-01\r",
      "P:   1 R:  18 T:  21  psnr: 2.32e+01 at lambda: 2.90e-02, rho: 4.36e-01\r"
     ]
    },
    {
     "name": "stdout",
     "output_type": "stream",
     "text": [
      "P:   1 R:  18 T:  21  psnr: 2.32e+01 at lambda: 2.90e-02, rho: 4.36e-01\r",
      "P:   1 R:  17 T:  22  psnr: 2.32e+01 at lambda: 2.90e-02, rho: 4.36e-01\r",
      "P:   0 R:  18 T:  22  psnr: 2.32e+01 at lambda: 2.90e-02, rho: 4.36e-01\r",
      "P:   1 R:  18 T:  22  psnr: 2.32e+01 at lambda: 2.90e-02, rho: 4.36e-01\r"
     ]
    },
    {
     "name": "stdout",
     "output_type": "stream",
     "text": [
      "P:   1 R:  18 T:  22  psnr: 2.32e+01 at lambda: 4.20e-02, rho: 2.13e-01\r",
      "P:   1 R:  17 T:  23  psnr: 2.32e+01 at lambda: 4.20e-02, rho: 2.13e-01\r",
      "P:   0 R:  18 T:  23  psnr: 2.32e+01 at lambda: 4.20e-02, rho: 2.13e-01\r",
      "P:   1 R:  18 T:  23  psnr: 2.32e+01 at lambda: 4.20e-02, rho: 2.13e-01\r"
     ]
    },
    {
     "name": "stdout",
     "output_type": "stream",
     "text": [
      "P:   1 R:  17 T:  24  psnr: 2.32e+01 at lambda: 4.20e-02, rho: 2.13e-01\r",
      "P:   0 R:  18 T:  24  psnr: 2.32e+01 at lambda: 4.20e-02, rho: 2.13e-01\r",
      "P:   1 R:  18 T:  24  psnr: 2.32e+01 at lambda: 4.20e-02, rho: 2.13e-01\r",
      "P:   0 R:  19 T:  24  psnr: 2.32e+01 at lambda: 4.20e-02, rho: 2.13e-01\r",
      "P:   1 R:  19 T:  24  psnr: 2.32e+01 at lambda: 4.20e-02, rho: 2.13e-01\r",
      "P:   0 R:  20 T:  24  psnr: 2.32e+01 at lambda: 4.20e-02, rho: 2.13e-01\r"
     ]
    },
    {
     "name": "stdout",
     "output_type": "stream",
     "text": [
      "P:   1 R:  20 T:  24  psnr: 2.32e+01 at lambda: 4.20e-02, rho: 2.13e-01\r",
      "P:   1 R:  19 T:  25  psnr: 2.32e+01 at lambda: 4.20e-02, rho: 2.13e-01\r",
      "P:   0 R:  20 T:  25  psnr: 2.32e+01 at lambda: 4.20e-02, rho: 2.13e-01\r",
      "P:   1 R:  20 T:  25  psnr: 2.32e+01 at lambda: 4.20e-02, rho: 2.13e-01\r"
     ]
    },
    {
     "name": "stdout",
     "output_type": "stream",
     "text": [
      "P:   1 R:  20 T:  25  psnr: 2.32e+01 at lambda: 4.20e-02, rho: 2.13e-01\r",
      "P:   1 R:  20 T:  25  psnr: 2.32e+01 at lambda: 4.20e-02, rho: 2.13e-01\r"
     ]
    },
    {
     "name": "stdout",
     "output_type": "stream",
     "text": [
      "P:   1 R:  20 T:  25  psnr: 2.32e+01 at lambda: 4.20e-02, rho: 2.13e-01\r",
      "P:   1 R:  20 T:  25  psnr: 2.32e+01 at lambda: 4.20e-02, rho: 2.13e-01\r"
     ]
    },
    {
     "name": "stderr",
     "output_type": "stream",
     "text": [
      "\u001b[2m\u001b[36m(pid=80287)\u001b[0m 2022-05-19 09:52:14.105686: E external/org_tensorflow/tensorflow/stream_executor/cuda/cuda_driver.cc:271] failed call to cuInit: CUDA_ERROR_NO_DEVICE: no CUDA-capable device is detected\n",
      "\u001b[2m\u001b[36m(pid=80287)\u001b[0m WARNING:absl:No GPU/TPU found, falling back to CPU. (Set TF_CPP_MIN_LOG_LEVEL=0 and rerun for more info.)\n"
     ]
    },
    {
     "name": "stdout",
     "output_type": "stream",
     "text": [
      "P:   1 R:  20 T:  25  psnr: 2.32e+01 at lambda: 4.20e-02, rho: 2.13e-01\r",
      "P:   1 R:  20 T:  25  psnr: 2.32e+01 at lambda: 4.20e-02, rho: 2.13e-01\r",
      "P:   1 R:  20 T:  25  psnr: 2.32e+01 at lambda: 4.20e-02, rho: 2.13e-01\r"
     ]
    },
    {
     "name": "stderr",
     "output_type": "stream",
     "text": [
      "\u001b[2m\u001b[36m(pid=80298)\u001b[0m 2022-05-19 09:52:14.364562: E external/org_tensorflow/tensorflow/stream_executor/cuda/cuda_driver.cc:271] failed call to cuInit: CUDA_ERROR_NO_DEVICE: no CUDA-capable device is detected\n",
      "\u001b[2m\u001b[36m(pid=80298)\u001b[0m WARNING:absl:No GPU/TPU found, falling back to CPU. (Set TF_CPP_MIN_LOG_LEVEL=0 and rerun for more info.)\n"
     ]
    },
    {
     "name": "stdout",
     "output_type": "stream",
     "text": [
      "P:   1 R:  20 T:  25  psnr: 2.32e+01 at lambda: 4.20e-02, rho: 2.13e-01\r",
      "P:   1 R:  19 T:  26  psnr: 2.32e+01 at lambda: 4.20e-02, rho: 2.13e-01\r",
      "P:   0 R:  20 T:  26  psnr: 2.32e+01 at lambda: 4.20e-02, rho: 2.13e-01\r",
      "P:   1 R:  20 T:  26  psnr: 2.32e+01 at lambda: 4.20e-02, rho: 2.13e-01\r",
      "P:   1 R:  20 T:  26  psnr: 2.32e+01 at lambda: 4.20e-02, rho: 2.13e-01\r"
     ]
    },
    {
     "name": "stdout",
     "output_type": "stream",
     "text": [
      "P:   1 R:  20 T:  26  psnr: 2.32e+01 at lambda: 4.20e-02, rho: 2.13e-01\r",
      "P:   1 R:  20 T:  26  psnr: 2.32e+01 at lambda: 4.20e-02, rho: 2.13e-01\r",
      "P:   1 R:  19 T:  27  psnr: 2.32e+01 at lambda: 4.20e-02, rho: 2.13e-01\r",
      "P:   0 R:  20 T:  27  psnr: 2.32e+01 at lambda: 4.20e-02, rho: 2.13e-01\r",
      "P:   1 R:  20 T:  27  psnr: 2.32e+01 at lambda: 4.20e-02, rho: 2.13e-01\r"
     ]
    },
    {
     "name": "stderr",
     "output_type": "stream",
     "text": [
      "\u001b[2m\u001b[36m(pid=80286)\u001b[0m 2022-05-19 09:52:14.845271: E external/org_tensorflow/tensorflow/stream_executor/cuda/cuda_driver.cc:271] failed call to cuInit: CUDA_ERROR_NO_DEVICE: no CUDA-capable device is detected\n",
      "\u001b[2m\u001b[36m(pid=80286)\u001b[0m WARNING:absl:No GPU/TPU found, falling back to CPU. (Set TF_CPP_MIN_LOG_LEVEL=0 and rerun for more info.)\n"
     ]
    },
    {
     "name": "stdout",
     "output_type": "stream",
     "text": [
      "P:   1 R:  20 T:  27  psnr: 2.32e+01 at lambda: 4.20e-02, rho: 2.13e-01\r",
      "P:   1 R:  19 T:  28  psnr: 2.32e+01 at lambda: 4.20e-02, rho: 2.13e-01\r",
      "P:   0 R:  20 T:  28  psnr: 2.32e+01 at lambda: 4.20e-02, rho: 2.13e-01\r",
      "P:   1 R:  20 T:  28  psnr: 2.32e+01 at lambda: 4.20e-02, rho: 2.13e-01\r"
     ]
    },
    {
     "name": "stdout",
     "output_type": "stream",
     "text": [
      "P:   1 R:  19 T:  29  psnr: 2.32e+01 at lambda: 4.20e-02, rho: 2.13e-01\r",
      "P:   0 R:  20 T:  29  psnr: 2.32e+01 at lambda: 4.20e-02, rho: 2.13e-01\r",
      "P:   1 R:  20 T:  29  psnr: 2.32e+01 at lambda: 4.20e-02, rho: 2.13e-01\r",
      "P:   1 R:  19 T:  30  psnr: 2.32e+01 at lambda: 4.20e-02, rho: 2.13e-01\r",
      "P:   0 R:  20 T:  30  psnr: 2.32e+01 at lambda: 4.20e-02, rho: 2.13e-01\r"
     ]
    },
    {
     "name": "stdout",
     "output_type": "stream",
     "text": [
      "P:   1 R:  20 T:  30  psnr: 2.32e+01 at lambda: 4.20e-02, rho: 2.13e-01\r",
      "P:   1 R:  19 T:  31  psnr: 2.32e+01 at lambda: 4.20e-02, rho: 2.13e-01\r",
      "P:   0 R:  20 T:  31  psnr: 2.32e+01 at lambda: 4.20e-02, rho: 2.13e-01\r"
     ]
    },
    {
     "name": "stdout",
     "output_type": "stream",
     "text": [
      "P:   1 R:  19 T:  32  psnr: 2.32e+01 at lambda: 4.20e-02, rho: 2.13e-01\r",
      "P:   0 R:  20 T:  32  psnr: 2.32e+01 at lambda: 4.20e-02, rho: 2.13e-01\r",
      "P:   1 R:  19 T:  33  psnr: 2.32e+01 at lambda: 4.20e-02, rho: 2.13e-01\r",
      "P:   0 R:  20 T:  33  psnr: 2.32e+01 at lambda: 4.20e-02, rho: 2.13e-01\r",
      "P:   1 R:  20 T:  33  psnr: 2.32e+01 at lambda: 4.20e-02, rho: 2.13e-01\r",
      "P:   1 R:  19 T:  34  psnr: 2.32e+01 at lambda: 4.20e-02, rho: 2.13e-01\r",
      "P:   0 R:  20 T:  34  psnr: 2.32e+01 at lambda: 4.20e-02, rho: 2.13e-01\r"
     ]
    },
    {
     "name": "stdout",
     "output_type": "stream",
     "text": [
      "P:   1 R:  20 T:  34  psnr: 2.32e+01 at lambda: 4.20e-02, rho: 2.13e-01\r",
      "P:   1 R:  20 T:  34  psnr: 2.32e+01 at lambda: 4.20e-02, rho: 2.13e-01\r",
      "P:   1 R:  20 T:  34  psnr: 2.34e+01 at lambda: 2.96e-02, rho: 2.71e-01\r",
      "P:   1 R:  19 T:  35  psnr: 2.34e+01 at lambda: 2.96e-02, rho: 2.71e-01\r",
      "P:   0 R:  20 T:  35  psnr: 2.34e+01 at lambda: 2.96e-02, rho: 2.71e-01\r"
     ]
    },
    {
     "name": "stdout",
     "output_type": "stream",
     "text": [
      "P:   1 R:  20 T:  35  psnr: 2.34e+01 at lambda: 2.96e-02, rho: 2.71e-01\r",
      "P:   1 R:  20 T:  35  psnr: 2.34e+01 at lambda: 2.96e-02, rho: 2.71e-01\r",
      "P:   1 R:  19 T:  36  psnr: 2.34e+01 at lambda: 2.96e-02, rho: 2.71e-01\r",
      "P:   0 R:  20 T:  36  psnr: 2.34e+01 at lambda: 2.96e-02, rho: 2.71e-01\r"
     ]
    },
    {
     "name": "stderr",
     "output_type": "stream",
     "text": [
      "\u001b[2m\u001b[36m(pid=81617)\u001b[0m 2022-05-19 09:52:16.558054: E external/org_tensorflow/tensorflow/stream_executor/cuda/cuda_driver.cc:271] failed call to cuInit: CUDA_ERROR_NO_DEVICE: no CUDA-capable device is detected\n",
      "\u001b[2m\u001b[36m(pid=81617)\u001b[0m WARNING:absl:No GPU/TPU found, falling back to CPU. (Set TF_CPP_MIN_LOG_LEVEL=0 and rerun for more info.)\n"
     ]
    },
    {
     "name": "stdout",
     "output_type": "stream",
     "text": [
      "P:   1 R:  20 T:  36  psnr: 2.34e+01 at lambda: 2.96e-02, rho: 2.71e-01\r",
      "P:   1 R:  20 T:  36  psnr: 2.34e+01 at lambda: 2.96e-02, rho: 2.71e-01\r",
      "P:   1 R:  20 T:  36  psnr: 2.34e+01 at lambda: 2.52e-02, rho: 1.02e-01\r"
     ]
    },
    {
     "name": "stderr",
     "output_type": "stream",
     "text": [
      "\u001b[2m\u001b[36m(pid=81616)\u001b[0m 2022-05-19 09:52:16.767658: E external/org_tensorflow/tensorflow/stream_executor/cuda/cuda_driver.cc:271] failed call to cuInit: CUDA_ERROR_NO_DEVICE: no CUDA-capable device is detected\n",
      "\u001b[2m\u001b[36m(pid=81616)\u001b[0m WARNING:absl:No GPU/TPU found, falling back to CPU. (Set TF_CPP_MIN_LOG_LEVEL=0 and rerun for more info.)\n"
     ]
    },
    {
     "name": "stdout",
     "output_type": "stream",
     "text": [
      "P:   1 R:  20 T:  36  psnr: 2.34e+01 at lambda: 2.52e-02, rho: 1.02e-01\r",
      "P:   1 R:  20 T:  36  psnr: 2.34e+01 at lambda: 2.52e-02, rho: 1.02e-01\r",
      "P:   1 R:  20 T:  36  psnr: 2.34e+01 at lambda: 2.52e-02, rho: 1.02e-01\r"
     ]
    },
    {
     "name": "stdout",
     "output_type": "stream",
     "text": [
      "P:   1 R:  19 T:  37  psnr: 2.34e+01 at lambda: 2.52e-02, rho: 1.02e-01\r",
      "P:   0 R:  20 T:  37  psnr: 2.34e+01 at lambda: 2.52e-02, rho: 1.02e-01\r",
      "P:   1 R:  20 T:  37  psnr: 2.34e+01 at lambda: 2.52e-02, rho: 1.02e-01\r"
     ]
    },
    {
     "name": "stdout",
     "output_type": "stream",
     "text": [
      "P:   1 R:  20 T:  37  psnr: 2.34e+01 at lambda: 2.52e-02, rho: 1.02e-01\r",
      "P:   1 R:  20 T:  37  psnr: 2.34e+01 at lambda: 2.52e-02, rho: 1.02e-01\r"
     ]
    },
    {
     "name": "stdout",
     "output_type": "stream",
     "text": [
      "P:   1 R:  20 T:  37  psnr: 2.34e+01 at lambda: 2.52e-02, rho: 1.02e-01\r",
      "P:   1 R:  19 T:  38  psnr: 2.34e+01 at lambda: 2.52e-02, rho: 1.02e-01\r",
      "P:   0 R:  20 T:  38  psnr: 2.34e+01 at lambda: 2.52e-02, rho: 1.02e-01\r"
     ]
    },
    {
     "name": "stdout",
     "output_type": "stream",
     "text": [
      "P:   1 R:  20 T:  38  psnr: 2.34e+01 at lambda: 2.52e-02, rho: 1.02e-01\r",
      "P:   1 R:  19 T:  39  psnr: 2.34e+01 at lambda: 2.52e-02, rho: 1.02e-01\r",
      "P:   0 R:  20 T:  39  psnr: 2.34e+01 at lambda: 2.52e-02, rho: 1.02e-01\r",
      "P:   1 R:  20 T:  39  psnr: 2.34e+01 at lambda: 2.52e-02, rho: 1.02e-01\r"
     ]
    },
    {
     "name": "stdout",
     "output_type": "stream",
     "text": [
      "P:   1 R:  20 T:  39  psnr: 2.34e+01 at lambda: 2.52e-02, rho: 1.02e-01\r",
      "P:   1 R:  19 T:  40  psnr: 2.34e+01 at lambda: 2.52e-02, rho: 1.02e-01\r",
      "P:   0 R:  20 T:  40  psnr: 2.34e+01 at lambda: 2.52e-02, rho: 1.02e-01\r",
      "P:   1 R:  20 T:  40  psnr: 2.34e+01 at lambda: 2.52e-02, rho: 1.02e-01\r",
      "P:   1 R:  20 T:  40  psnr: 2.34e+01 at lambda: 2.52e-02, rho: 1.02e-01\r"
     ]
    },
    {
     "name": "stdout",
     "output_type": "stream",
     "text": [
      "P:   1 R:  20 T:  40  psnr: 2.34e+01 at lambda: 2.52e-02, rho: 1.02e-01\r",
      "P:   1 R:  19 T:  41  psnr: 2.34e+01 at lambda: 2.52e-02, rho: 1.02e-01\r",
      "P:   0 R:  20 T:  41  psnr: 2.34e+01 at lambda: 2.52e-02, rho: 1.02e-01\r",
      "P:   1 R:  20 T:  41  psnr: 2.34e+01 at lambda: 2.52e-02, rho: 1.02e-01\r",
      "P:   1 R:  19 T:  42  psnr: 2.34e+01 at lambda: 2.52e-02, rho: 1.02e-01\r",
      "P:   0 R:  20 T:  42  psnr: 2.34e+01 at lambda: 2.52e-02, rho: 1.02e-01\r"
     ]
    },
    {
     "name": "stdout",
     "output_type": "stream",
     "text": [
      "P:   1 R:  20 T:  42  psnr: 2.34e+01 at lambda: 2.52e-02, rho: 1.02e-01\r",
      "P:   1 R:  20 T:  42  psnr: 2.34e+01 at lambda: 2.52e-02, rho: 1.02e-01\r",
      "P:   1 R:  19 T:  43  psnr: 2.34e+01 at lambda: 2.52e-02, rho: 1.02e-01\r",
      "P:   0 R:  20 T:  43  psnr: 2.34e+01 at lambda: 2.52e-02, rho: 1.02e-01\r"
     ]
    },
    {
     "name": "stdout",
     "output_type": "stream",
     "text": [
      "P:   1 R:  20 T:  43  psnr: 2.34e+01 at lambda: 2.52e-02, rho: 1.02e-01\r",
      "P:   1 R:  19 T:  44  psnr: 2.34e+01 at lambda: 2.52e-02, rho: 1.02e-01\r",
      "P:   0 R:  20 T:  44  psnr: 2.34e+01 at lambda: 2.52e-02, rho: 1.02e-01\r"
     ]
    },
    {
     "name": "stdout",
     "output_type": "stream",
     "text": [
      "P:   1 R:  20 T:  44  psnr: 2.34e+01 at lambda: 2.52e-02, rho: 1.02e-01\r",
      "P:   1 R:  20 T:  44  psnr: 2.34e+01 at lambda: 2.52e-02, rho: 1.02e-01\r",
      "P:   1 R:  20 T:  44  psnr: 2.34e+01 at lambda: 2.52e-02, rho: 1.02e-01\r"
     ]
    },
    {
     "name": "stdout",
     "output_type": "stream",
     "text": [
      "P:   1 R:  20 T:  44  psnr: 2.34e+01 at lambda: 2.52e-02, rho: 1.02e-01\r",
      "P:   1 R:  20 T:  44  psnr: 2.34e+01 at lambda: 2.52e-02, rho: 1.02e-01\r"
     ]
    },
    {
     "name": "stdout",
     "output_type": "stream",
     "text": [
      "P:   1 R:  19 T:  45  psnr: 2.34e+01 at lambda: 2.52e-02, rho: 1.02e-01\r",
      "P:   0 R:  20 T:  45  psnr: 2.34e+01 at lambda: 2.52e-02, rho: 1.02e-01\r",
      "P:   1 R:  20 T:  45  psnr: 2.34e+01 at lambda: 2.52e-02, rho: 1.02e-01\r",
      "P:   1 R:  20 T:  45  psnr: 2.34e+01 at lambda: 2.52e-02, rho: 1.02e-01\r",
      "P:   1 R:  20 T:  45  psnr: 2.34e+01 at lambda: 2.52e-02, rho: 1.02e-01\r"
     ]
    },
    {
     "name": "stdout",
     "output_type": "stream",
     "text": [
      "P:   1 R:  19 T:  46  psnr: 2.34e+01 at lambda: 2.52e-02, rho: 1.02e-01\r",
      "P:   0 R:  20 T:  46  psnr: 2.34e+01 at lambda: 2.52e-02, rho: 1.02e-01\r",
      "P:   1 R:  19 T:  47  psnr: 2.34e+01 at lambda: 2.52e-02, rho: 1.02e-01\r",
      "P:   0 R:  20 T:  47  psnr: 2.34e+01 at lambda: 2.52e-02, rho: 1.02e-01\r",
      "P:   1 R:  20 T:  47  psnr: 2.34e+01 at lambda: 2.52e-02, rho: 1.02e-01\r",
      "P:   1 R:  19 T:  48  psnr: 2.34e+01 at lambda: 2.52e-02, rho: 1.02e-01\r",
      "P:   0 R:  20 T:  48  psnr: 2.34e+01 at lambda: 2.52e-02, rho: 1.02e-01\r",
      "P:   1 R:  19 T:  49  psnr: 2.34e+01 at lambda: 2.52e-02, rho: 1.02e-01\r",
      "P:   0 R:  20 T:  49  psnr: 2.34e+01 at lambda: 2.52e-02, rho: 1.02e-01\r"
     ]
    },
    {
     "name": "stdout",
     "output_type": "stream",
     "text": [
      "P:   1 R:  20 T:  49  psnr: 2.34e+01 at lambda: 2.52e-02, rho: 1.02e-01\r",
      "P:   1 R:  20 T:  49  psnr: 2.34e+01 at lambda: 2.52e-02, rho: 1.02e-01\r",
      "P:   1 R:  19 T:  50  psnr: 2.34e+01 at lambda: 2.52e-02, rho: 1.02e-01\r",
      "P:   0 R:  20 T:  50  psnr: 2.34e+01 at lambda: 2.52e-02, rho: 1.02e-01\r"
     ]
    },
    {
     "name": "stdout",
     "output_type": "stream",
     "text": [
      "P:   1 R:  20 T:  50  psnr: 2.34e+01 at lambda: 2.52e-02, rho: 1.02e-01\r",
      "P:   1 R:  20 T:  50  psnr: 2.34e+01 at lambda: 2.52e-02, rho: 1.02e-01\r"
     ]
    },
    {
     "name": "stdout",
     "output_type": "stream",
     "text": [
      "P:   1 R:  19 T:  51  psnr: 2.34e+01 at lambda: 2.52e-02, rho: 1.02e-01\r",
      "P:   0 R:  20 T:  51  psnr: 2.34e+01 at lambda: 2.52e-02, rho: 1.02e-01\r",
      "P:   1 R:  20 T:  51  psnr: 2.34e+01 at lambda: 2.52e-02, rho: 1.02e-01\r",
      "P:   1 R:  20 T:  51  psnr: 2.34e+01 at lambda: 2.52e-02, rho: 1.02e-01\r"
     ]
    },
    {
     "name": "stdout",
     "output_type": "stream",
     "text": [
      "P:   1 R:  20 T:  51  psnr: 2.34e+01 at lambda: 2.52e-02, rho: 1.02e-01\r",
      "P:   1 R:  20 T:  51  psnr: 2.34e+01 at lambda: 2.52e-02, rho: 1.02e-01\r",
      "P:   1 R:  19 T:  52  psnr: 2.34e+01 at lambda: 2.52e-02, rho: 1.02e-01\r",
      "P:   0 R:  20 T:  52  psnr: 2.34e+01 at lambda: 2.52e-02, rho: 1.02e-01\r"
     ]
    },
    {
     "name": "stdout",
     "output_type": "stream",
     "text": [
      "P:   1 R:  20 T:  52  psnr: 2.34e+01 at lambda: 2.52e-02, rho: 1.02e-01\r",
      "P:   1 R:  20 T:  52  psnr: 2.34e+01 at lambda: 2.52e-02, rho: 1.02e-01\r",
      "P:   1 R:  20 T:  52  psnr: 2.34e+01 at lambda: 2.52e-02, rho: 1.02e-01\r"
     ]
    },
    {
     "name": "stdout",
     "output_type": "stream",
     "text": [
      "P:   1 R:  19 T:  53  psnr: 2.34e+01 at lambda: 2.52e-02, rho: 1.02e-01\r",
      "P:   0 R:  20 T:  53  psnr: 2.34e+01 at lambda: 2.52e-02, rho: 1.02e-01\r",
      "P:   1 R:  20 T:  53  psnr: 2.34e+01 at lambda: 2.52e-02, rho: 1.02e-01\r",
      "P:   1 R:  20 T:  53  psnr: 2.34e+01 at lambda: 2.52e-02, rho: 1.02e-01\r"
     ]
    },
    {
     "name": "stdout",
     "output_type": "stream",
     "text": [
      "P:   1 R:  20 T:  53  psnr: 2.34e+01 at lambda: 2.52e-02, rho: 1.02e-01\r",
      "P:   1 R:  19 T:  54  psnr: 2.34e+01 at lambda: 2.52e-02, rho: 1.02e-01\r",
      "P:   0 R:  20 T:  54  psnr: 2.34e+01 at lambda: 2.52e-02, rho: 1.02e-01\r",
      "P:   1 R:  20 T:  54  psnr: 2.34e+01 at lambda: 2.52e-02, rho: 1.02e-01\r"
     ]
    },
    {
     "name": "stdout",
     "output_type": "stream",
     "text": [
      "P:   1 R:  20 T:  54  psnr: 2.34e+01 at lambda: 2.52e-02, rho: 1.02e-01\r",
      "P:   1 R:  20 T:  54  psnr: 2.34e+01 at lambda: 2.52e-02, rho: 1.02e-01\r",
      "P:   1 R:  20 T:  54  psnr: 2.34e+01 at lambda: 2.52e-02, rho: 1.02e-01\r"
     ]
    },
    {
     "name": "stdout",
     "output_type": "stream",
     "text": [
      "P:   1 R:  19 T:  55  psnr: 2.34e+01 at lambda: 2.52e-02, rho: 1.02e-01\r",
      "P:   0 R:  20 T:  55  psnr: 2.34e+01 at lambda: 2.52e-02, rho: 1.02e-01\r",
      "P:   1 R:  20 T:  55  psnr: 2.34e+01 at lambda: 2.52e-02, rho: 1.02e-01\r",
      "P:   1 R:  19 T:  56  psnr: 2.34e+01 at lambda: 2.52e-02, rho: 1.02e-01\r",
      "P:   0 R:  20 T:  56  psnr: 2.34e+01 at lambda: 2.52e-02, rho: 1.02e-01\r"
     ]
    },
    {
     "name": "stdout",
     "output_type": "stream",
     "text": [
      "P:   1 R:  20 T:  56  psnr: 2.34e+01 at lambda: 2.52e-02, rho: 1.02e-01\r",
      "P:   1 R:  20 T:  56  psnr: 2.34e+01 at lambda: 2.52e-02, rho: 1.02e-01\r",
      "P:   1 R:  19 T:  57  psnr: 2.34e+01 at lambda: 2.52e-02, rho: 1.02e-01\r",
      "P:   0 R:  20 T:  57  psnr: 2.34e+01 at lambda: 2.52e-02, rho: 1.02e-01\r",
      "P:   1 R:  20 T:  57  psnr: 2.34e+01 at lambda: 2.52e-02, rho: 1.02e-01\r",
      "P:   1 R:  20 T:  57  psnr: 2.34e+01 at lambda: 2.52e-02, rho: 1.02e-01\r"
     ]
    },
    {
     "name": "stdout",
     "output_type": "stream",
     "text": [
      "P:   1 R:  20 T:  57  psnr: 2.34e+01 at lambda: 2.52e-02, rho: 1.02e-01\r",
      "P:   1 R:  20 T:  57  psnr: 2.34e+01 at lambda: 2.52e-02, rho: 1.02e-01\r",
      "P:   1 R:  19 T:  58  psnr: 2.34e+01 at lambda: 2.52e-02, rho: 1.02e-01\r",
      "P:   0 R:  20 T:  58  psnr: 2.34e+01 at lambda: 2.52e-02, rho: 1.02e-01\r",
      "P:   1 R:  20 T:  58  psnr: 2.34e+01 at lambda: 2.52e-02, rho: 1.02e-01\r"
     ]
    },
    {
     "name": "stdout",
     "output_type": "stream",
     "text": [
      "P:   1 R:  20 T:  58  psnr: 2.34e+01 at lambda: 2.52e-02, rho: 1.02e-01\r",
      "P:   1 R:  19 T:  59  psnr: 2.34e+01 at lambda: 2.52e-02, rho: 1.02e-01\r",
      "P:   0 R:  20 T:  59  psnr: 2.34e+01 at lambda: 2.52e-02, rho: 1.02e-01\r",
      "P:   1 R:  19 T:  60  psnr: 2.34e+01 at lambda: 2.52e-02, rho: 1.02e-01\r",
      "P:   0 R:  20 T:  60  psnr: 2.34e+01 at lambda: 2.52e-02, rho: 1.02e-01\r"
     ]
    },
    {
     "name": "stdout",
     "output_type": "stream",
     "text": [
      "P:   1 R:  20 T:  60  psnr: 2.34e+01 at lambda: 2.52e-02, rho: 1.02e-01\r",
      "P:   1 R:  20 T:  60  psnr: 2.34e+01 at lambda: 2.52e-02, rho: 1.02e-01\r",
      "P:   1 R:  20 T:  60  psnr: 2.34e+01 at lambda: 2.52e-02, rho: 1.02e-01\r",
      "P:   1 R:  20 T:  60  psnr: 2.34e+01 at lambda: 2.52e-02, rho: 1.02e-01\r",
      "P:   1 R:  20 T:  60  psnr: 2.34e+01 at lambda: 2.52e-02, rho: 1.02e-01\r"
     ]
    },
    {
     "name": "stdout",
     "output_type": "stream",
     "text": [
      "P:   1 R:  20 T:  60  psnr: 2.34e+01 at lambda: 2.52e-02, rho: 1.02e-01\r",
      "P:   1 R:  20 T:  60  psnr: 2.34e+01 at lambda: 2.52e-02, rho: 1.02e-01\r"
     ]
    },
    {
     "name": "stdout",
     "output_type": "stream",
     "text": [
      "P:   1 R:  20 T:  60  psnr: 2.34e+01 at lambda: 2.52e-02, rho: 1.02e-01\r",
      "P:   1 R:  20 T:  60  psnr: 2.34e+01 at lambda: 2.52e-02, rho: 1.02e-01\r"
     ]
    },
    {
     "name": "stdout",
     "output_type": "stream",
     "text": [
      "P:   1 R:  19 T:  61  psnr: 2.34e+01 at lambda: 2.52e-02, rho: 1.02e-01\r",
      "P:   0 R:  20 T:  61  psnr: 2.34e+01 at lambda: 2.52e-02, rho: 1.02e-01\r",
      "P:   1 R:  20 T:  61  psnr: 2.34e+01 at lambda: 2.52e-02, rho: 1.02e-01\r",
      "P:   1 R:  20 T:  61  psnr: 2.34e+01 at lambda: 2.52e-02, rho: 1.02e-01\r",
      "P:   1 R:  20 T:  61  psnr: 2.34e+01 at lambda: 2.52e-02, rho: 1.02e-01\r",
      "P:   1 R:  20 T:  61  psnr: 2.34e+01 at lambda: 2.52e-02, rho: 1.02e-01\r"
     ]
    },
    {
     "name": "stdout",
     "output_type": "stream",
     "text": [
      "P:   1 R:  20 T:  61  psnr: 2.34e+01 at lambda: 2.52e-02, rho: 1.02e-01\r",
      "P:   1 R:  20 T:  61  psnr: 2.34e+01 at lambda: 2.52e-02, rho: 1.02e-01\r",
      "P:   1 R:  20 T:  61  psnr: 2.34e+01 at lambda: 2.52e-02, rho: 1.02e-01\r"
     ]
    },
    {
     "name": "stdout",
     "output_type": "stream",
     "text": [
      "P:   1 R:  19 T:  62  psnr: 2.34e+01 at lambda: 2.52e-02, rho: 1.02e-01\r",
      "P:   0 R:  20 T:  62  psnr: 2.34e+01 at lambda: 2.52e-02, rho: 1.02e-01\r",
      "P:   1 R:  20 T:  62  psnr: 2.34e+01 at lambda: 2.52e-02, rho: 1.02e-01\r"
     ]
    },
    {
     "name": "stdout",
     "output_type": "stream",
     "text": [
      "P:   1 R:  20 T:  62  psnr: 2.34e+01 at lambda: 2.52e-02, rho: 1.02e-01\r",
      "P:   1 R:  20 T:  62  psnr: 2.34e+01 at lambda: 2.52e-02, rho: 1.02e-01\r",
      "P:   1 R:  19 T:  63  psnr: 2.34e+01 at lambda: 2.52e-02, rho: 1.02e-01\r",
      "P:   0 R:  20 T:  63  psnr: 2.34e+01 at lambda: 2.52e-02, rho: 1.02e-01\r",
      "P:   1 R:  19 T:  64  psnr: 2.34e+01 at lambda: 2.52e-02, rho: 1.02e-01\r",
      "P:   0 R:  20 T:  64  psnr: 2.34e+01 at lambda: 2.52e-02, rho: 1.02e-01\r"
     ]
    },
    {
     "name": "stdout",
     "output_type": "stream",
     "text": [
      "P:   1 R:  20 T:  64  psnr: 2.34e+01 at lambda: 2.52e-02, rho: 1.02e-01\r",
      "P:   1 R:  20 T:  64  psnr: 2.34e+01 at lambda: 2.69e-02, rho: 1.24e-01\r",
      "P:   1 R:  20 T:  64  psnr: 2.34e+01 at lambda: 2.69e-02, rho: 1.24e-01\r",
      "P:   1 R:  19 T:  65  psnr: 2.34e+01 at lambda: 2.69e-02, rho: 1.24e-01\r",
      "P:   0 R:  20 T:  65  psnr: 2.34e+01 at lambda: 2.69e-02, rho: 1.24e-01\r"
     ]
    },
    {
     "name": "stdout",
     "output_type": "stream",
     "text": [
      "P:   1 R:  20 T:  65  psnr: 2.34e+01 at lambda: 2.69e-02, rho: 1.24e-01\r",
      "P:   1 R:  19 T:  66  psnr: 2.34e+01 at lambda: 2.69e-02, rho: 1.24e-01\r",
      "P:   0 R:  20 T:  66  psnr: 2.34e+01 at lambda: 2.69e-02, rho: 1.24e-01\r",
      "P:   1 R:  20 T:  66  psnr: 2.34e+01 at lambda: 2.69e-02, rho: 1.24e-01\r",
      "P:   1 R:  19 T:  67  psnr: 2.34e+01 at lambda: 2.69e-02, rho: 1.24e-01\r",
      "P:   0 R:  20 T:  67  psnr: 2.34e+01 at lambda: 2.69e-02, rho: 1.24e-01\r"
     ]
    },
    {
     "name": "stdout",
     "output_type": "stream",
     "text": [
      "P:   1 R:  20 T:  67  psnr: 2.34e+01 at lambda: 2.69e-02, rho: 1.24e-01\r",
      "P:   1 R:  20 T:  67  psnr: 2.34e+01 at lambda: 2.69e-02, rho: 1.24e-01\r",
      "P:   1 R:  20 T:  67  psnr: 2.34e+01 at lambda: 2.69e-02, rho: 1.24e-01\r",
      "P:   1 R:  20 T:  67  psnr: 2.34e+01 at lambda: 2.69e-02, rho: 1.24e-01\r"
     ]
    },
    {
     "name": "stdout",
     "output_type": "stream",
     "text": [
      "P:   1 R:  20 T:  67  psnr: 2.34e+01 at lambda: 2.69e-02, rho: 1.24e-01\r",
      "P:   1 R:  19 T:  68  psnr: 2.34e+01 at lambda: 2.69e-02, rho: 1.24e-01\r",
      "P:   0 R:  20 T:  68  psnr: 2.34e+01 at lambda: 2.69e-02, rho: 1.24e-01\r",
      "P:   1 R:  20 T:  68  psnr: 2.34e+01 at lambda: 2.69e-02, rho: 1.24e-01\r",
      "P:   1 R:  19 T:  69  psnr: 2.34e+01 at lambda: 2.69e-02, rho: 1.24e-01\r",
      "P:   0 R:  20 T:  69  psnr: 2.34e+01 at lambda: 2.69e-02, rho: 1.24e-01\r"
     ]
    },
    {
     "name": "stdout",
     "output_type": "stream",
     "text": [
      "P:   1 R:  20 T:  69  psnr: 2.34e+01 at lambda: 2.69e-02, rho: 1.24e-01\r",
      "P:   1 R:  20 T:  69  psnr: 2.34e+01 at lambda: 2.69e-02, rho: 1.24e-01\r"
     ]
    },
    {
     "name": "stdout",
     "output_type": "stream",
     "text": [
      "P:   1 R:  20 T:  69  psnr: 2.34e+01 at lambda: 2.69e-02, rho: 1.24e-01\r",
      "P:   1 R:  20 T:  69  psnr: 2.34e+01 at lambda: 2.69e-02, rho: 1.24e-01\r",
      "P:   1 R:  20 T:  69  psnr: 2.34e+01 at lambda: 2.69e-02, rho: 1.24e-01\r"
     ]
    },
    {
     "name": "stdout",
     "output_type": "stream",
     "text": [
      "P:   1 R:  20 T:  69  psnr: 2.34e+01 at lambda: 2.69e-02, rho: 1.24e-01\r",
      "P:   1 R:  20 T:  69  psnr: 2.34e+01 at lambda: 2.69e-02, rho: 1.24e-01\r",
      "P:   1 R:  19 T:  70  psnr: 2.34e+01 at lambda: 2.69e-02, rho: 1.24e-01\r",
      "P:   0 R:  20 T:  70  psnr: 2.34e+01 at lambda: 2.69e-02, rho: 1.24e-01\r",
      "P:   1 R:  20 T:  70  psnr: 2.34e+01 at lambda: 2.69e-02, rho: 1.24e-01\r",
      "P:   1 R:  20 T:  70  psnr: 2.34e+01 at lambda: 2.69e-02, rho: 1.24e-01\r"
     ]
    },
    {
     "name": "stdout",
     "output_type": "stream",
     "text": [
      "P:   1 R:  20 T:  70  psnr: 2.34e+01 at lambda: 2.69e-02, rho: 1.24e-01\r",
      "P:   1 R:  20 T:  70  psnr: 2.34e+01 at lambda: 2.69e-02, rho: 1.24e-01\r"
     ]
    },
    {
     "name": "stdout",
     "output_type": "stream",
     "text": [
      "P:   1 R:  20 T:  70  psnr: 2.34e+01 at lambda: 2.69e-02, rho: 1.24e-01\r",
      "P:   1 R:  20 T:  70  psnr: 2.34e+01 at lambda: 2.69e-02, rho: 1.24e-01\r",
      "P:   1 R:  19 T:  71  psnr: 2.34e+01 at lambda: 2.69e-02, rho: 1.24e-01\r",
      "P:   0 R:  20 T:  71  psnr: 2.34e+01 at lambda: 2.69e-02, rho: 1.24e-01\r",
      "P:   1 R:  20 T:  71  psnr: 2.34e+01 at lambda: 2.69e-02, rho: 1.24e-01\r"
     ]
    },
    {
     "name": "stdout",
     "output_type": "stream",
     "text": [
      "P:   1 R:  20 T:  71  psnr: 2.34e+01 at lambda: 2.69e-02, rho: 1.24e-01\r",
      "P:   1 R:  20 T:  71  psnr: 2.34e+01 at lambda: 2.69e-02, rho: 1.24e-01\r",
      "P:   1 R:  20 T:  71  psnr: 2.34e+01 at lambda: 2.69e-02, rho: 1.24e-01\r",
      "P:   1 R:  19 T:  72  psnr: 2.34e+01 at lambda: 2.69e-02, rho: 1.24e-01\r",
      "P:   0 R:  20 T:  72  psnr: 2.34e+01 at lambda: 2.69e-02, rho: 1.24e-01\r",
      "P:   1 R:  20 T:  72  psnr: 2.34e+01 at lambda: 2.69e-02, rho: 1.24e-01\r"
     ]
    },
    {
     "name": "stdout",
     "output_type": "stream",
     "text": [
      "P:   1 R:  20 T:  72  psnr: 2.34e+01 at lambda: 2.69e-02, rho: 1.24e-01\r",
      "P:   1 R:  19 T:  73  psnr: 2.34e+01 at lambda: 2.69e-02, rho: 1.24e-01\r",
      "P:   0 R:  20 T:  73  psnr: 2.34e+01 at lambda: 2.69e-02, rho: 1.24e-01\r",
      "P:   1 R:  20 T:  73  psnr: 2.34e+01 at lambda: 2.69e-02, rho: 1.24e-01\r",
      "P:   1 R:  19 T:  74  psnr: 2.34e+01 at lambda: 2.69e-02, rho: 1.24e-01\r",
      "P:   0 R:  20 T:  74  psnr: 2.34e+01 at lambda: 2.69e-02, rho: 1.24e-01\r",
      "P:   1 R:  19 T:  75  psnr: 2.34e+01 at lambda: 2.69e-02, rho: 1.24e-01\r",
      "P:   0 R:  20 T:  75  psnr: 2.34e+01 at lambda: 2.69e-02, rho: 1.24e-01\r"
     ]
    },
    {
     "name": "stdout",
     "output_type": "stream",
     "text": [
      "P:   1 R:  20 T:  75  psnr: 2.34e+01 at lambda: 2.69e-02, rho: 1.24e-01\r",
      "P:   1 R:  20 T:  75  psnr: 2.34e+01 at lambda: 2.69e-02, rho: 1.24e-01\r",
      "P:   1 R:  19 T:  76  psnr: 2.34e+01 at lambda: 2.69e-02, rho: 1.24e-01\r",
      "P:   0 R:  20 T:  76  psnr: 2.34e+01 at lambda: 2.69e-02, rho: 1.24e-01\r",
      "P:   1 R:  20 T:  76  psnr: 2.34e+01 at lambda: 2.69e-02, rho: 1.24e-01\r"
     ]
    },
    {
     "name": "stdout",
     "output_type": "stream",
     "text": [
      "P:   1 R:  19 T:  77  psnr: 2.34e+01 at lambda: 2.69e-02, rho: 1.24e-01\r",
      "P:   0 R:  20 T:  77  psnr: 2.34e+01 at lambda: 2.69e-02, rho: 1.24e-01\r",
      "P:   1 R:  19 T:  78  psnr: 2.34e+01 at lambda: 2.69e-02, rho: 1.24e-01\r",
      "P:   0 R:  20 T:  78  psnr: 2.34e+01 at lambda: 2.69e-02, rho: 1.24e-01\r",
      "P:   1 R:  19 T:  79  psnr: 2.34e+01 at lambda: 2.69e-02, rho: 1.24e-01\r",
      "P:   0 R:  20 T:  79  psnr: 2.34e+01 at lambda: 2.69e-02, rho: 1.24e-01\r",
      "P:   1 R:  20 T:  79  psnr: 2.34e+01 at lambda: 2.69e-02, rho: 1.24e-01\r",
      "P:   1 R:  19 T:  80  psnr: 2.34e+01 at lambda: 2.69e-02, rho: 1.24e-01\r",
      "P:   0 R:  20 T:  80  psnr: 2.34e+01 at lambda: 2.69e-02, rho: 1.24e-01\r",
      "P:   0 R:  19 T:  81  psnr: 2.34e+01 at lambda: 2.69e-02, rho: 1.24e-01\r"
     ]
    },
    {
     "name": "stdout",
     "output_type": "stream",
     "text": [
      "P:   0 R:  18 T:  82  psnr: 2.34e+01 at lambda: 2.69e-02, rho: 1.24e-01\r",
      "P:   0 R:  18 T:  82  psnr: 2.34e+01 at lambda: 2.69e-02, rho: 1.24e-01\r"
     ]
    },
    {
     "name": "stdout",
     "output_type": "stream",
     "text": [
      "P:   0 R:  17 T:  83  psnr: 2.34e+01 at lambda: 2.69e-02, rho: 1.24e-01\r",
      "P:   0 R:  17 T:  83  psnr: 2.34e+01 at lambda: 2.69e-02, rho: 1.24e-01\r",
      "P:   0 R:  17 T:  83  psnr: 2.34e+01 at lambda: 2.69e-02, rho: 1.24e-01\r"
     ]
    },
    {
     "name": "stdout",
     "output_type": "stream",
     "text": [
      "P:   0 R:  16 T:  84  psnr: 2.34e+01 at lambda: 2.69e-02, rho: 1.24e-01\r",
      "P:   0 R:  16 T:  84  psnr: 2.34e+01 at lambda: 2.69e-02, rho: 1.24e-01\r",
      "P:   0 R:  16 T:  84  psnr: 2.34e+01 at lambda: 2.69e-02, rho: 1.24e-01\r"
     ]
    },
    {
     "name": "stdout",
     "output_type": "stream",
     "text": [
      "P:   0 R:  15 T:  85  psnr: 2.34e+01 at lambda: 2.69e-02, rho: 1.24e-01\r",
      "P:   0 R:  14 T:  86  psnr: 2.34e+01 at lambda: 2.69e-02, rho: 1.24e-01\r"
     ]
    },
    {
     "name": "stdout",
     "output_type": "stream",
     "text": [
      "P:   0 R:  13 T:  87  psnr: 2.34e+01 at lambda: 2.69e-02, rho: 1.24e-01\r",
      "P:   0 R:  13 T:  87  psnr: 2.34e+01 at lambda: 2.69e-02, rho: 1.24e-01\r"
     ]
    },
    {
     "name": "stdout",
     "output_type": "stream",
     "text": [
      "P:   0 R:  13 T:  87  psnr: 2.34e+01 at lambda: 2.69e-02, rho: 1.24e-01\r",
      "P:   0 R:  12 T:  88  psnr: 2.34e+01 at lambda: 2.69e-02, rho: 1.24e-01\r",
      "P:   0 R:  12 T:  88  psnr: 2.34e+01 at lambda: 2.69e-02, rho: 1.24e-01\r",
      "P:   0 R:  11 T:  89  psnr: 2.34e+01 at lambda: 2.69e-02, rho: 1.24e-01\r",
      "P:   0 R:  10 T:  90  psnr: 2.34e+01 at lambda: 2.69e-02, rho: 1.24e-01\r"
     ]
    },
    {
     "name": "stdout",
     "output_type": "stream",
     "text": [
      "P:   0 R:   9 T:  91  psnr: 2.34e+01 at lambda: 2.69e-02, rho: 1.24e-01\r",
      "P:   0 R:   9 T:  91  psnr: 2.34e+01 at lambda: 2.69e-02, rho: 1.24e-01\r"
     ]
    },
    {
     "name": "stdout",
     "output_type": "stream",
     "text": [
      "P:   0 R:   8 T:  92  psnr: 2.34e+01 at lambda: 2.69e-02, rho: 1.24e-01\r",
      "P:   0 R:   7 T:  93  psnr: 2.34e+01 at lambda: 2.69e-02, rho: 1.24e-01\r",
      "P:   0 R:   6 T:  94  psnr: 2.34e+01 at lambda: 2.69e-02, rho: 1.24e-01\r",
      "P:   0 R:   6 T:  94  psnr: 2.34e+01 at lambda: 2.69e-02, rho: 1.24e-01\r"
     ]
    },
    {
     "name": "stdout",
     "output_type": "stream",
     "text": [
      "P:   0 R:   6 T:  94  psnr: 2.34e+01 at lambda: 2.69e-02, rho: 1.24e-01\r",
      "P:   0 R:   5 T:  95  psnr: 2.34e+01 at lambda: 2.69e-02, rho: 1.24e-01\r",
      "P:   0 R:   4 T:  96  psnr: 2.34e+01 at lambda: 2.69e-02, rho: 1.24e-01\r",
      "P:   0 R:   4 T:  96  psnr: 2.34e+01 at lambda: 2.69e-02, rho: 1.24e-01\r",
      "P:   0 R:   3 T:  97  psnr: 2.34e+01 at lambda: 2.69e-02, rho: 1.24e-01\r"
     ]
    },
    {
     "name": "stdout",
     "output_type": "stream",
     "text": [
      "P:   0 R:   3 T:  97  psnr: 2.34e+01 at lambda: 2.69e-02, rho: 1.24e-01\r",
      "P:   0 R:   2 T:  98  psnr: 2.34e+01 at lambda: 2.69e-02, rho: 1.24e-01\r"
     ]
    },
    {
     "name": "stdout",
     "output_type": "stream",
     "text": [
      "P:   0 R:   2 T:  98  psnr: 2.34e+01 at lambda: 2.69e-02, rho: 1.24e-01\r",
      "P:   0 R:   2 T:  98  psnr: 2.34e+01 at lambda: 2.69e-02, rho: 1.24e-01\r"
     ]
    },
    {
     "name": "stdout",
     "output_type": "stream",
     "text": [
      "P:   0 R:   2 T:  98  psnr: 2.34e+01 at lambda: 2.69e-02, rho: 1.24e-01\r",
      "P:   0 R:   1 T:  99  psnr: 2.34e+01 at lambda: 2.69e-02, rho: 1.24e-01\r",
      "P:   0 R:   0 T: 100  psnr: 2.34e+01 at lambda: 2.69e-02, rho: 1.24e-01\n"
     ]
    },
    {
     "name": "stderr",
     "output_type": "stream",
     "text": [
      "2022-05-19 09:52:32,037\tINFO tune.py:617 -- Total run time: 37.09 seconds (36.45 seconds for the tuning loop).\n"
     ]
    }
   ],
   "source": [
    "analysis = tune.run(\n",
    "    eval_params,\n",
    "    metric=\"psnr\",\n",
    "    mode=\"max\",\n",
    "    num_samples=100,\n",
    "    config=config,\n",
    "    resources_per_trial=resources,\n",
    "    hyperopt=True,\n",
    "    verbose=True,\n",
    ")"
   ]
  },
  {
   "cell_type": "markdown",
   "id": "7b19e36d",
   "metadata": {},
   "source": [
    "Display best parameters and corresponding performance."
   ]
  },
  {
   "cell_type": "code",
   "execution_count": 8,
   "id": "8c17db7c",
   "metadata": {
    "collapsed": false,
    "execution": {
     "iopub.execute_input": "2022-05-19T15:52:32.258320Z",
     "iopub.status.busy": "2022-05-19T15:52:32.258177Z",
     "iopub.status.idle": "2022-05-19T15:52:32.265025Z",
     "shell.execute_reply": "2022-05-19T15:52:32.264214Z"
    }
   },
   "outputs": [
    {
     "name": "stdout",
     "output_type": "stream",
     "text": [
      "Best PSNR: 23.41 dB\n",
      "Best config: lambda: 2.69e-02, rho: 1.24e-01\n"
     ]
    }
   ],
   "source": [
    "best_config = analysis.get_best_config(metric=\"psnr\", mode=\"max\")\n",
    "print(f\"Best PSNR: {analysis.get_best_trial().last_result['psnr']:.2f} dB\")\n",
    "print(\"Best config: \" + \", \".join([f\"{k}: {v:.2e}\" for k, v in best_config.items()]))"
   ]
  },
  {
   "cell_type": "markdown",
   "id": "e7a81a52",
   "metadata": {},
   "source": [
    "Plot parameter values visited during parameter search. Marker sizes are\n",
    "proportional to number of iterations run at each parameter pair. The best\n",
    "point in the parameter space is indicated in red."
   ]
  },
  {
   "cell_type": "code",
   "execution_count": 9,
   "id": "4b03a7f4",
   "metadata": {
    "collapsed": false,
    "execution": {
     "iopub.execute_input": "2022-05-19T15:52:32.267280Z",
     "iopub.status.busy": "2022-05-19T15:52:32.267041Z",
     "iopub.status.idle": "2022-05-19T15:52:33.356009Z",
     "shell.execute_reply": "2022-05-19T15:52:33.354699Z"
    }
   },
   "outputs": [
    {
     "data": {
      "image/png": "[encoded data removed]",
      "text/plain": [
       "<Figure size 576x576 with 1 Axes>"
      ]
     },
     "metadata": {
      "needs_background": "light"
     },
     "output_type": "display_data"
    }
   ],
   "source": [
    "fig = plot.figure(figsize=(8, 8))\n",
    "for t in analysis.trials:\n",
    "    n = t.metric_analysis[\"training_iteration\"][\"max\"]\n",
    "    plot.plot(\n",
    "        t.config[\"lambda\"],\n",
    "        t.config[\"rho\"],\n",
    "        ptyp=\"loglog\",\n",
    "        lw=0,\n",
    "        ms=(0.5 + 1.5 * n),\n",
    "        marker=\"o\",\n",
    "        mfc=\"blue\",\n",
    "        mec=\"blue\",\n",
    "        fig=fig,\n",
    "    )\n",
    "plot.plot(\n",
    "    best_config[\"lambda\"],\n",
    "    best_config[\"rho\"],\n",
    "    ptyp=\"loglog\",\n",
    "    title=\"Parameter search sampling locations\\n(marker size proportional to number of iterations)\",\n",
    "    xlbl=r\"$\\rho$\",\n",
    "    ylbl=r\"$\\lambda$\",\n",
    "    lw=0,\n",
    "    ms=5.0,\n",
    "    marker=\"o\",\n",
    "    mfc=\"red\",\n",
    "    mec=\"red\",\n",
    "    fig=fig,\n",
    ")\n",
    "ax = fig.axes[0]\n",
    "ax.set_xlim([config[\"rho\"].lower, config[\"rho\"].upper])\n",
    "ax.set_ylim([config[\"lambda\"].lower, config[\"lambda\"].upper])\n",
    "fig.show()"
   ]
  }
 ],
 "metadata": {
  "language_info": {
   "codemirror_mode": {
    "name": "ipython",
    "version": 3
   },
   "file_extension": ".py",
   "mimetype": "text/x-python",
   "name": "python",
   "nbconvert_exporter": "python",
   "pygments_lexer": "ipython3",
   "version": "3.8.13"
  }
 },
 "nbformat": 4,
 "nbformat_minor": 5
}
