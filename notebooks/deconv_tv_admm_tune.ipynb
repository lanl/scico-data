{
 "cells": [
  {
   "cell_type": "markdown",
   "id": "54979092",
   "metadata": {},
   "source": [
    "Parameter Tuning for Image Deconvolution with TV Regularization (ADMM Solver)\n",
    "=============================================================================\n",
    "\n",
    "This example demonstrates the use of\n",
    "[scico.ray.tune](../_autosummary/scico.ray.tune.rst) to tune parameters\n",
    "for the companion [example script](deconv_tv_admm.rst).\n",
    "\n",
    "This script is hard-coded to run on CPU only to avoid the large number of\n",
    "warnings that are emitted when GPU resources are requested but not available,\n",
    "and due to the difficulty of supressing these warnings in a way that does\n",
    "not force use of the CPU only. To enable GPU usage, comment out the\n",
    "`os.environ` statements near the beginning of the script, and change the\n",
    "value of the \"gpu\" entry in the `resources` dict from 0 to 1. Note that\n",
    "two environment variables are set to suppress the warnings because\n",
    "`JAX_PLATFORMS` was intended to replace `JAX_PLATFORM_NAME` but this change\n",
    "has yet to be correctly implemented\n",
    "(see [google/jax#6805](https://github.com/google/jax/issues/6805) and\n",
    "[google/jax#10272](https://github.com/google/jax/pull/10272))."
   ]
  },
  {
   "cell_type": "code",
   "execution_count": 1,
   "id": "96a26a50",
   "metadata": {
    "collapsed": false,
    "execution": {
     "iopub.execute_input": "2023-02-04T15:15:52.383466Z",
     "iopub.status.busy": "2023-02-04T15:15:52.382847Z",
     "iopub.status.idle": "2023-02-04T15:15:57.403220Z",
     "shell.execute_reply": "2023-02-04T15:15:57.401912Z"
    }
   },
   "outputs": [],
   "source": [
    "# isort: off\n",
    "import os\n",
    "\n",
    "os.environ[\"JAX_PLATFORM_NAME\"] = \"cpu\"\n",
    "os.environ[\"JAX_PLATFORMS\"] = \"cpu\"\n",
    "\n",
    "import numpy as np\n",
    "\n",
    "import jax\n",
    "\n",
    "from xdesign import SiemensStar, discrete_phantom\n",
    "\n",
    "import scico.numpy as snp\n",
    "import scico.random\n",
    "import scico.ray as ray\n",
    "from scico import functional, linop, loss, metric, plot\n",
    "from scico.optimize.admm import ADMM, LinearSubproblemSolver\n",
    "from scico.ray import tune\n",
    "plot.config_notebook_plotting()"
   ]
  },
  {
   "cell_type": "markdown",
   "id": "aa2bf1a0",
   "metadata": {},
   "source": [
    "Create a ground truth image."
   ]
  },
  {
   "cell_type": "code",
   "execution_count": 2,
   "id": "f3f3f9bb",
   "metadata": {
    "collapsed": false,
    "execution": {
     "iopub.execute_input": "2023-02-04T15:15:57.409545Z",
     "iopub.status.busy": "2023-02-04T15:15:57.409065Z",
     "iopub.status.idle": "2023-02-04T15:15:58.068742Z",
     "shell.execute_reply": "2023-02-04T15:15:58.067609Z"
    }
   },
   "outputs": [],
   "source": [
    "phantom = SiemensStar(32)\n",
    "N = 256  # image size\n",
    "x_gt = snp.pad(discrete_phantom(phantom, N - 16), 8)"
   ]
  },
  {
   "cell_type": "markdown",
   "id": "d2606be1",
   "metadata": {},
   "source": [
    "Set up the forward operator and create a test signal consisting of a\n",
    "blurred signal with additive Gaussian noise."
   ]
  },
  {
   "cell_type": "code",
   "execution_count": 3,
   "id": "c18f0bc5",
   "metadata": {
    "collapsed": false,
    "execution": {
     "iopub.execute_input": "2023-02-04T15:15:58.074475Z",
     "iopub.status.busy": "2023-02-04T15:15:58.074269Z",
     "iopub.status.idle": "2023-02-04T15:15:58.609877Z",
     "shell.execute_reply": "2023-02-04T15:15:58.608904Z"
    }
   },
   "outputs": [],
   "source": [
    "n = 5  # convolution kernel size\n",
    "σ = 20.0 / 255  # noise level\n",
    "\n",
    "psf = snp.ones((n, n)) / (n * n)\n",
    "A = linop.Convolve(h=psf, input_shape=x_gt.shape)\n",
    "\n",
    "Ax = A(x_gt)  # blurred image\n",
    "noise, key = scico.random.randn(Ax.shape, seed=0)\n",
    "y = Ax + σ * noise"
   ]
  },
  {
   "cell_type": "markdown",
   "id": "1435e20a",
   "metadata": {},
   "source": [
    "Put main arrays into ray object store."
   ]
  },
  {
   "cell_type": "code",
   "execution_count": 4,
   "id": "5570a5bc",
   "metadata": {
    "collapsed": false,
    "execution": {
     "iopub.execute_input": "2023-02-04T15:15:58.615227Z",
     "iopub.status.busy": "2023-02-04T15:15:58.614941Z",
     "iopub.status.idle": "2023-02-04T15:16:04.539528Z",
     "shell.execute_reply": "2023-02-04T15:16:04.538832Z"
    }
   },
   "outputs": [
    {
     "name": "stderr",
     "output_type": "stream",
     "text": [
      "2023-02-04 08:16:01,435\tINFO worker.py:1538 -- Started a local Ray instance.\n"
     ]
    }
   ],
   "source": [
    "ray_x_gt, ray_psf, ray_y = ray.put(np.array(x_gt)), ray.put(np.array(psf)), ray.put(np.array(y))"
   ]
  },
  {
   "cell_type": "markdown",
   "id": "8e160836",
   "metadata": {},
   "source": [
    "Define performance evaluation function."
   ]
  },
  {
   "cell_type": "code",
   "execution_count": 5,
   "id": "0c00dc4e",
   "metadata": {
    "collapsed": false,
    "execution": {
     "iopub.execute_input": "2023-02-04T15:16:04.542776Z",
     "iopub.status.busy": "2023-02-04T15:16:04.542559Z",
     "iopub.status.idle": "2023-02-04T15:16:04.548940Z",
     "shell.execute_reply": "2023-02-04T15:16:04.548335Z"
    }
   },
   "outputs": [],
   "source": [
    "def eval_params(config, reporter):\n",
    "    # Extract solver parameters from config dict.\n",
    "    λ, ρ = config[\"lambda\"], config[\"rho\"]\n",
    "    # Get main arrays from ray object store.\n",
    "    x_gt, psf, y = ray.get([ray_x_gt, ray_psf, ray_y])\n",
    "    # Put main arrays on jax device.\n",
    "    x_gt, psf, y = jax.device_put([x_gt, psf, y])\n",
    "    # Set up problem to be solved.\n",
    "    A = linop.Convolve(h=psf, input_shape=x_gt.shape)\n",
    "    f = loss.SquaredL2Loss(y=y, A=A)\n",
    "    g = λ * functional.L21Norm()\n",
    "    C = linop.FiniteDifference(input_shape=x_gt.shape, append=0)\n",
    "    # Define solver.\n",
    "    solver = ADMM(\n",
    "        f=f,\n",
    "        g_list=[g],\n",
    "        C_list=[C],\n",
    "        rho_list=[ρ],\n",
    "        x0=A.adj(y),\n",
    "        maxiter=10,\n",
    "        subproblem_solver=LinearSubproblemSolver(),\n",
    "    )\n",
    "    # Perform 50 iterations, reporting performance to ray.tune every 10 iterations.\n",
    "    for step in range(5):\n",
    "        x_admm = solver.solve()\n",
    "        reporter(psnr=float(metric.psnr(x_gt, x_admm)))"
   ]
  },
  {
   "cell_type": "markdown",
   "id": "0b63086d",
   "metadata": {},
   "source": [
    "Define parameter search space and resources per trial."
   ]
  },
  {
   "cell_type": "code",
   "execution_count": 6,
   "id": "84f29dab",
   "metadata": {
    "collapsed": false,
    "execution": {
     "iopub.execute_input": "2023-02-04T15:16:04.551504Z",
     "iopub.status.busy": "2023-02-04T15:16:04.551311Z",
     "iopub.status.idle": "2023-02-04T15:16:04.555111Z",
     "shell.execute_reply": "2023-02-04T15:16:04.554451Z"
    }
   },
   "outputs": [],
   "source": [
    "config = {\"lambda\": tune.loguniform(1e-3, 1e-1), \"rho\": tune.loguniform(1e-2, 1e0)}\n",
    "resources = {\"cpu\": 4, \"gpu\": 0}  # cpus per trial, gpus per trial"
   ]
  },
  {
   "cell_type": "markdown",
   "id": "b37c5195",
   "metadata": {},
   "source": [
    "Run parameter search."
   ]
  },
  {
   "cell_type": "code",
   "execution_count": 7,
   "id": "9f6173d5",
   "metadata": {
    "collapsed": false,
    "execution": {
     "iopub.execute_input": "2023-02-04T15:16:04.557913Z",
     "iopub.status.busy": "2023-02-04T15:16:04.557315Z",
     "iopub.status.idle": "2023-02-04T15:18:05.373774Z",
     "shell.execute_reply": "2023-02-04T15:18:05.372345Z"
    }
   },
   "outputs": [
    {
     "name": "stdout",
     "output_type": "stream",
     "text": [
      "P:   0 R:   1 T:   0 \r"
     ]
    },
    {
     "name": "stdout",
     "output_type": "stream",
     "text": [
      "P:   0 R:   2 T:   0 \r",
      "P:   1 R:   2 T:   0  psnr: 2.19e+01 at lambda: 2.11e-02, rho: 1.31e-01\r"
     ]
    },
    {
     "name": "stdout",
     "output_type": "stream",
     "text": [
      "P:   0 R:   3 T:   0  psnr: 2.19e+01 at lambda: 2.11e-02, rho: 1.31e-01\r",
      "P:   1 R:   3 T:   0  psnr: 2.22e+01 at lambda: 2.11e-02, rho: 1.31e-01\r"
     ]
    },
    {
     "name": "stdout",
     "output_type": "stream",
     "text": [
      "P:   0 R:   4 T:   0  psnr: 2.22e+01 at lambda: 2.11e-02, rho: 1.31e-01\r",
      "P:   1 R:   4 T:   0  psnr: 2.23e+01 at lambda: 2.11e-02, rho: 1.31e-01\r"
     ]
    },
    {
     "name": "stdout",
     "output_type": "stream",
     "text": [
      "P:   0 R:   5 T:   0  psnr: 2.23e+01 at lambda: 2.11e-02, rho: 1.31e-01\r",
      "P:   1 R:   5 T:   0  psnr: 2.23e+01 at lambda: 2.11e-02, rho: 1.31e-01\r"
     ]
    },
    {
     "name": "stdout",
     "output_type": "stream",
     "text": [
      "P:   0 R:   6 T:   0  psnr: 2.23e+01 at lambda: 2.11e-02, rho: 1.31e-01\r",
      "P:   1 R:   5 T:   1  psnr: 2.23e+01 at lambda: 2.11e-02, rho: 1.31e-01\r",
      "P:   0 R:   6 T:   1  psnr: 2.23e+01 at lambda: 2.11e-02, rho: 1.31e-01\r",
      "P:   1 R:   5 T:   2  psnr: 2.23e+01 at lambda: 2.11e-02, rho: 1.31e-01\r",
      "P:   0 R:   6 T:   2  psnr: 2.23e+01 at lambda: 2.11e-02, rho: 1.31e-01\r",
      "P:   1 R:   5 T:   3  psnr: 2.23e+01 at lambda: 2.11e-02, rho: 1.31e-01\r",
      "P:   0 R:   6 T:   3  psnr: 2.23e+01 at lambda: 2.11e-02, rho: 1.31e-01\r",
      "P:   1 R:   6 T:   3  psnr: 2.23e+01 at lambda: 2.11e-02, rho: 1.31e-01\r",
      "P:   1 R:   5 T:   4  psnr: 2.23e+01 at lambda: 2.11e-02, rho: 1.31e-01\r",
      "P:   0 R:   6 T:   4  psnr: 2.23e+01 at lambda: 2.11e-02, rho: 1.31e-01\r",
      "P:   1 R:   5 T:   5  psnr: 2.23e+01 at lambda: 2.11e-02, rho: 1.31e-01\r",
      "P:   0 R:   6 T:   5  psnr: 2.23e+01 at lambda: 2.11e-02, rho: 1.31e-01\r"
     ]
    },
    {
     "name": "stdout",
     "output_type": "stream",
     "text": [
      "P:   0 R:   7 T:   5  psnr: 2.23e+01 at lambda: 2.11e-02, rho: 1.31e-01\r",
      "P:   1 R:   6 T:   6  psnr: 2.23e+01 at lambda: 2.11e-02, rho: 1.31e-01\r",
      "P:   0 R:   7 T:   6  psnr: 2.23e+01 at lambda: 2.11e-02, rho: 1.31e-01\r",
      "P:   1 R:   7 T:   6  psnr: 2.23e+01 at lambda: 2.11e-02, rho: 1.31e-01\r"
     ]
    },
    {
     "name": "stdout",
     "output_type": "stream",
     "text": [
      "P:   0 R:   8 T:   6  psnr: 2.23e+01 at lambda: 2.11e-02, rho: 1.31e-01\r",
      "P:   1 R:   7 T:   7  psnr: 2.23e+01 at lambda: 2.11e-02, rho: 1.31e-01\r",
      "P:   0 R:   8 T:   7  psnr: 2.23e+01 at lambda: 2.11e-02, rho: 1.31e-01\r",
      "P:   1 R:   7 T:   8  psnr: 2.23e+01 at lambda: 2.11e-02, rho: 1.31e-01\r",
      "P:   0 R:   8 T:   8  psnr: 2.23e+01 at lambda: 2.11e-02, rho: 1.31e-01\r",
      "P:   1 R:   7 T:   9  psnr: 2.23e+01 at lambda: 2.11e-02, rho: 1.31e-01\r",
      "P:   0 R:   8 T:   9  psnr: 2.23e+01 at lambda: 2.11e-02, rho: 1.31e-01\r",
      "P:   1 R:   8 T:   9  psnr: 2.23e+01 at lambda: 2.11e-02, rho: 1.31e-01\r"
     ]
    },
    {
     "name": "stdout",
     "output_type": "stream",
     "text": [
      "P:   0 R:   9 T:   9  psnr: 2.23e+01 at lambda: 2.11e-02, rho: 1.31e-01\r",
      "P:   1 R:   9 T:   9  psnr: 2.23e+01 at lambda: 2.11e-02, rho: 1.31e-01\r"
     ]
    },
    {
     "name": "stdout",
     "output_type": "stream",
     "text": [
      "P:   0 R:  10 T:   9  psnr: 2.23e+01 at lambda: 2.11e-02, rho: 1.31e-01\r",
      "P:   1 R:   9 T:  10  psnr: 2.23e+01 at lambda: 2.11e-02, rho: 1.31e-01\r",
      "P:   0 R:  10 T:  10  psnr: 2.23e+01 at lambda: 2.11e-02, rho: 1.31e-01\r",
      "P:   1 R:   9 T:  11  psnr: 2.23e+01 at lambda: 2.11e-02, rho: 1.31e-01\r",
      "P:   0 R:  10 T:  11  psnr: 2.23e+01 at lambda: 2.11e-02, rho: 1.31e-01\r",
      "P:   1 R:  10 T:  11  psnr: 2.23e+01 at lambda: 2.11e-02, rho: 1.31e-01\r"
     ]
    },
    {
     "name": "stdout",
     "output_type": "stream",
     "text": [
      "P:   0 R:  11 T:  11  psnr: 2.23e+01 at lambda: 2.11e-02, rho: 1.31e-01\r",
      "P:   1 R:  10 T:  12  psnr: 2.23e+01 at lambda: 2.11e-02, rho: 1.31e-01\r",
      "P:   0 R:  11 T:  12  psnr: 2.23e+01 at lambda: 2.11e-02, rho: 1.31e-01\r",
      "P:   1 R:  11 T:  12  psnr: 2.23e+01 at lambda: 2.11e-02, rho: 1.31e-01\r"
     ]
    },
    {
     "name": "stdout",
     "output_type": "stream",
     "text": [
      "P:   0 R:  12 T:  12  psnr: 2.23e+01 at lambda: 2.11e-02, rho: 1.31e-01\r",
      "P:   1 R:  11 T:  13  psnr: 2.23e+01 at lambda: 2.11e-02, rho: 1.31e-01\r",
      "P:   0 R:  12 T:  13  psnr: 2.23e+01 at lambda: 2.11e-02, rho: 1.31e-01\r",
      "P:   1 R:  12 T:  13  psnr: 2.23e+01 at lambda: 2.11e-02, rho: 1.31e-01\r"
     ]
    },
    {
     "name": "stdout",
     "output_type": "stream",
     "text": [
      "P:   0 R:  13 T:  13  psnr: 2.23e+01 at lambda: 2.11e-02, rho: 1.31e-01\r",
      "P:   1 R:  12 T:  14  psnr: 2.23e+01 at lambda: 2.11e-02, rho: 1.31e-01\r",
      "P:   0 R:  13 T:  14  psnr: 2.23e+01 at lambda: 2.11e-02, rho: 1.31e-01\r",
      "P:   1 R:  13 T:  14  psnr: 2.23e+01 at lambda: 2.11e-02, rho: 1.31e-01\r"
     ]
    },
    {
     "name": "stdout",
     "output_type": "stream",
     "text": [
      "P:   0 R:  14 T:  14  psnr: 2.23e+01 at lambda: 2.11e-02, rho: 1.31e-01\r",
      "P:   1 R:  14 T:  14  psnr: 2.23e+01 at lambda: 2.11e-02, rho: 1.31e-01\r"
     ]
    },
    {
     "name": "stdout",
     "output_type": "stream",
     "text": [
      "P:   0 R:  15 T:  14  psnr: 2.23e+01 at lambda: 2.11e-02, rho: 1.31e-01\r",
      "P:   1 R:  14 T:  15  psnr: 2.23e+01 at lambda: 2.11e-02, rho: 1.31e-01\r",
      "P:   0 R:  15 T:  15  psnr: 2.23e+01 at lambda: 2.11e-02, rho: 1.31e-01\r",
      "P:   1 R:  15 T:  15  psnr: 2.23e+01 at lambda: 2.11e-02, rho: 1.31e-01\r"
     ]
    },
    {
     "name": "stdout",
     "output_type": "stream",
     "text": [
      "P:   0 R:  16 T:  15  psnr: 2.23e+01 at lambda: 2.11e-02, rho: 1.31e-01\r",
      "P:   1 R:  16 T:  15  psnr: 2.23e+01 at lambda: 2.11e-02, rho: 1.31e-01\r"
     ]
    },
    {
     "name": "stdout",
     "output_type": "stream",
     "text": [
      "P:   0 R:  17 T:  15  psnr: 2.23e+01 at lambda: 2.11e-02, rho: 1.31e-01\r",
      "P:   1 R:  17 T:  15  psnr: 2.23e+01 at lambda: 2.11e-02, rho: 1.31e-01\r"
     ]
    },
    {
     "name": "stdout",
     "output_type": "stream",
     "text": [
      "P:   0 R:  18 T:  15  psnr: 2.23e+01 at lambda: 2.11e-02, rho: 1.31e-01\r",
      "P:   1 R:  17 T:  16  psnr: 2.23e+01 at lambda: 2.11e-02, rho: 1.31e-01\r",
      "P:   0 R:  18 T:  16  psnr: 2.23e+01 at lambda: 2.11e-02, rho: 1.31e-01\r",
      "P:   1 R:  18 T:  16  psnr: 2.23e+01 at lambda: 2.11e-02, rho: 1.31e-01\r"
     ]
    },
    {
     "name": "stdout",
     "output_type": "stream",
     "text": [
      "P:   0 R:  19 T:  16  psnr: 2.23e+01 at lambda: 2.11e-02, rho: 1.31e-01\r",
      "P:   1 R:  18 T:  17  psnr: 2.23e+01 at lambda: 2.11e-02, rho: 1.31e-01\r",
      "P:   0 R:  19 T:  17  psnr: 2.23e+01 at lambda: 2.11e-02, rho: 1.31e-01\r",
      "P:   1 R:  18 T:  18  psnr: 2.23e+01 at lambda: 2.11e-02, rho: 1.31e-01\r",
      "P:   0 R:  19 T:  18  psnr: 2.23e+01 at lambda: 2.11e-02, rho: 1.31e-01\r",
      "P:   1 R:  18 T:  19  psnr: 2.23e+01 at lambda: 2.11e-02, rho: 1.31e-01\r",
      "P:   0 R:  19 T:  19  psnr: 2.23e+01 at lambda: 2.11e-02, rho: 1.31e-01\r",
      "P:   1 R:  18 T:  20  psnr: 2.23e+01 at lambda: 2.11e-02, rho: 1.31e-01\r",
      "P:   0 R:  19 T:  20  psnr: 2.23e+01 at lambda: 2.11e-02, rho: 1.31e-01\r",
      "P:   1 R:  18 T:  21  psnr: 2.23e+01 at lambda: 2.11e-02, rho: 1.31e-01\r",
      "P:   0 R:  19 T:  21  psnr: 2.23e+01 at lambda: 2.11e-02, rho: 1.31e-01\r",
      "P:   1 R:  19 T:  21  psnr: 2.23e+01 at lambda: 2.11e-02, rho: 1.31e-01\r"
     ]
    },
    {
     "name": "stdout",
     "output_type": "stream",
     "text": [
      "P:   0 R:  20 T:  21  psnr: 2.23e+01 at lambda: 2.11e-02, rho: 1.31e-01\r",
      "P:   1 R:  20 T:  21  psnr: 2.23e+01 at lambda: 2.11e-02, rho: 1.31e-01\r",
      "P:   1 R:  20 T:  21  psnr: 2.23e+01 at lambda: 2.11e-02, rho: 1.31e-01\r",
      "P:   1 R:  19 T:  22  psnr: 2.23e+01 at lambda: 2.11e-02, rho: 1.31e-01\r",
      "P:   0 R:  20 T:  22  psnr: 2.23e+01 at lambda: 2.11e-02, rho: 1.31e-01\r",
      "P:   1 R:  20 T:  22  psnr: 2.23e+01 at lambda: 2.11e-02, rho: 1.31e-01\r",
      "P:   1 R:  20 T:  22  psnr: 2.23e+01 at lambda: 2.11e-02, rho: 1.31e-01\r",
      "P:   1 R:  20 T:  22  psnr: 2.23e+01 at lambda: 2.11e-02, rho: 1.31e-01\r",
      "P:   1 R:  19 T:  23  psnr: 2.23e+01 at lambda: 2.11e-02, rho: 1.31e-01\r",
      "P:   0 R:  20 T:  23  psnr: 2.23e+01 at lambda: 2.11e-02, rho: 1.31e-01\r",
      "P:   1 R:  19 T:  24  psnr: 2.23e+01 at lambda: 2.11e-02, rho: 1.31e-01\r",
      "P:   0 R:  20 T:  24  psnr: 2.23e+01 at lambda: 2.11e-02, rho: 1.31e-01\r",
      "P:   1 R:  20 T:  24  psnr: 2.23e+01 at lambda: 2.11e-02, rho: 1.31e-01\r",
      "P:   1 R:  20 T:  24  psnr: 2.23e+01 at lambda: 2.11e-02, rho: 1.31e-01\r",
      "P:   1 R:  20 T:  24  psnr: 2.23e+01 at lambda: 2.11e-02, rho: 1.31e-01\r",
      "P:   1 R:  20 T:  24  psnr: 2.23e+01 at lambda: 2.11e-02, rho: 1.31e-01\r",
      "P:   1 R:  19 T:  25  psnr: 2.23e+01 at lambda: 2.11e-02, rho: 1.31e-01\r",
      "P:   0 R:  20 T:  25  psnr: 2.23e+01 at lambda: 2.11e-02, rho: 1.31e-01\r"
     ]
    },
    {
     "name": "stdout",
     "output_type": "stream",
     "text": [
      "P:   1 R:  20 T:  25  psnr: 2.23e+01 at lambda: 2.11e-02, rho: 1.31e-01\r",
      "P:   1 R:  19 T:  26  psnr: 2.23e+01 at lambda: 2.11e-02, rho: 1.31e-01\r",
      "P:   0 R:  20 T:  26  psnr: 2.23e+01 at lambda: 2.11e-02, rho: 1.31e-01\r",
      "P:   1 R:  20 T:  26  psnr: 2.23e+01 at lambda: 2.11e-02, rho: 1.31e-01\r",
      "P:   1 R:  19 T:  27  psnr: 2.23e+01 at lambda: 2.11e-02, rho: 1.31e-01\r",
      "P:   0 R:  20 T:  27  psnr: 2.23e+01 at lambda: 2.11e-02, rho: 1.31e-01\r",
      "P:   1 R:  19 T:  28  psnr: 2.23e+01 at lambda: 2.11e-02, rho: 1.31e-01\r",
      "P:   0 R:  20 T:  28  psnr: 2.23e+01 at lambda: 2.11e-02, rho: 1.31e-01\r",
      "P:   1 R:  20 T:  28  psnr: 2.23e+01 at lambda: 2.11e-02, rho: 1.31e-01\r"
     ]
    },
    {
     "name": "stdout",
     "output_type": "stream",
     "text": [
      "P:   1 R:  20 T:  28  psnr: 2.23e+01 at lambda: 2.11e-02, rho: 1.31e-01\r",
      "P:   1 R:  20 T:  28  psnr: 2.23e+01 at lambda: 2.11e-02, rho: 1.31e-01\r",
      "P:   1 R:  20 T:  28  psnr: 2.23e+01 at lambda: 2.11e-02, rho: 1.31e-01\r"
     ]
    },
    {
     "name": "stdout",
     "output_type": "stream",
     "text": [
      "P:   1 R:  20 T:  28  psnr: 2.23e+01 at lambda: 2.11e-02, rho: 1.31e-01\r",
      "P:   1 R:  20 T:  28  psnr: 2.23e+01 at lambda: 2.11e-02, rho: 1.31e-01\r",
      "P:   1 R:  19 T:  29  psnr: 2.23e+01 at lambda: 2.11e-02, rho: 1.31e-01\r",
      "P:   0 R:  20 T:  29  psnr: 2.23e+01 at lambda: 2.11e-02, rho: 1.31e-01\r",
      "P:   1 R:  20 T:  29  psnr: 2.23e+01 at lambda: 2.11e-02, rho: 1.31e-01\r",
      "P:   1 R:  20 T:  29  psnr: 2.23e+01 at lambda: 2.11e-02, rho: 1.31e-01\r",
      "P:   1 R:  20 T:  29  psnr: 2.23e+01 at lambda: 2.11e-02, rho: 1.31e-01\r"
     ]
    },
    {
     "name": "stdout",
     "output_type": "stream",
     "text": [
      "P:   1 R:  20 T:  29  psnr: 2.23e+01 at lambda: 2.11e-02, rho: 1.31e-01\r",
      "P:   1 R:  20 T:  29  psnr: 2.23e+01 at lambda: 2.11e-02, rho: 1.31e-01\r",
      "P:   1 R:  20 T:  29  psnr: 2.23e+01 at lambda: 2.11e-02, rho: 1.31e-01\r",
      "P:   1 R:  20 T:  29  psnr: 2.23e+01 at lambda: 2.11e-02, rho: 1.31e-01\r"
     ]
    },
    {
     "name": "stdout",
     "output_type": "stream",
     "text": [
      "P:   1 R:  19 T:  30  psnr: 2.23e+01 at lambda: 2.11e-02, rho: 1.31e-01\r",
      "P:   0 R:  20 T:  30  psnr: 2.23e+01 at lambda: 2.11e-02, rho: 1.31e-01\r",
      "P:   1 R:  20 T:  30  psnr: 2.23e+01 at lambda: 2.11e-02, rho: 1.31e-01\r"
     ]
    },
    {
     "name": "stdout",
     "output_type": "stream",
     "text": [
      "P:   1 R:  20 T:  30  psnr: 2.23e+01 at lambda: 2.11e-02, rho: 1.31e-01\r",
      "P:   1 R:  19 T:  31  psnr: 2.23e+01 at lambda: 2.11e-02, rho: 1.31e-01\r",
      "P:   0 R:  20 T:  31  psnr: 2.23e+01 at lambda: 2.11e-02, rho: 1.31e-01\r",
      "P:   1 R:  20 T:  31  psnr: 2.23e+01 at lambda: 2.11e-02, rho: 1.31e-01\r"
     ]
    },
    {
     "name": "stdout",
     "output_type": "stream",
     "text": [
      "P:   1 R:  20 T:  31  psnr: 2.23e+01 at lambda: 2.11e-02, rho: 1.31e-01\r",
      "P:   1 R:  20 T:  31  psnr: 2.23e+01 at lambda: 2.11e-02, rho: 1.31e-01\r",
      "P:   1 R:  20 T:  31  psnr: 2.23e+01 at lambda: 2.11e-02, rho: 1.31e-01\r",
      "P:   1 R:  20 T:  31  psnr: 2.23e+01 at lambda: 2.11e-02, rho: 1.31e-01\r"
     ]
    },
    {
     "name": "stdout",
     "output_type": "stream",
     "text": [
      "P:   1 R:  19 T:  32  psnr: 2.23e+01 at lambda: 2.11e-02, rho: 1.31e-01\r",
      "P:   0 R:  20 T:  32  psnr: 2.23e+01 at lambda: 2.11e-02, rho: 1.31e-01\r",
      "P:   1 R:  20 T:  32  psnr: 2.23e+01 at lambda: 2.11e-02, rho: 1.31e-01\r",
      "P:   1 R:  20 T:  32  psnr: 2.23e+01 at lambda: 2.11e-02, rho: 1.31e-01\r",
      "P:   1 R:  19 T:  33  psnr: 2.23e+01 at lambda: 2.11e-02, rho: 1.31e-01\r",
      "P:   0 R:  20 T:  33  psnr: 2.23e+01 at lambda: 2.11e-02, rho: 1.31e-01\r",
      "P:   1 R:  20 T:  33  psnr: 2.23e+01 at lambda: 2.11e-02, rho: 1.31e-01\r",
      "P:   1 R:  19 T:  34  psnr: 2.23e+01 at lambda: 2.11e-02, rho: 1.31e-01\r",
      "P:   0 R:  20 T:  34  psnr: 2.23e+01 at lambda: 2.11e-02, rho: 1.31e-01\r"
     ]
    },
    {
     "name": "stdout",
     "output_type": "stream",
     "text": [
      "P:   1 R:  19 T:  35  psnr: 2.23e+01 at lambda: 2.11e-02, rho: 1.31e-01\r",
      "P:   0 R:  20 T:  35  psnr: 2.23e+01 at lambda: 2.11e-02, rho: 1.31e-01\r",
      "P:   1 R:  20 T:  35  psnr: 2.23e+01 at lambda: 2.11e-02, rho: 1.31e-01\r",
      "P:   1 R:  19 T:  36  psnr: 2.23e+01 at lambda: 2.11e-02, rho: 1.31e-01\r",
      "P:   0 R:  20 T:  36  psnr: 2.23e+01 at lambda: 2.11e-02, rho: 1.31e-01\r"
     ]
    },
    {
     "name": "stdout",
     "output_type": "stream",
     "text": [
      "P:   1 R:  20 T:  36  psnr: 2.23e+01 at lambda: 2.11e-02, rho: 1.31e-01\r",
      "P:   1 R:  20 T:  36  psnr: 2.23e+01 at lambda: 2.11e-02, rho: 1.31e-01\r",
      "P:   1 R:  20 T:  36  psnr: 2.23e+01 at lambda: 2.11e-02, rho: 1.31e-01\r",
      "P:   1 R:  20 T:  36  psnr: 2.23e+01 at lambda: 2.11e-02, rho: 1.31e-01\r",
      "P:   1 R:  19 T:  37  psnr: 2.23e+01 at lambda: 2.11e-02, rho: 1.31e-01\r",
      "P:   0 R:  20 T:  37  psnr: 2.23e+01 at lambda: 2.11e-02, rho: 1.31e-01\r",
      "P:   1 R:  20 T:  37  psnr: 2.23e+01 at lambda: 2.11e-02, rho: 1.31e-01\r"
     ]
    },
    {
     "name": "stdout",
     "output_type": "stream",
     "text": [
      "P:   1 R:  20 T:  37  psnr: 2.23e+01 at lambda: 2.11e-02, rho: 1.31e-01\r",
      "P:   1 R:  19 T:  38  psnr: 2.23e+01 at lambda: 2.11e-02, rho: 1.31e-01\r",
      "P:   0 R:  20 T:  38  psnr: 2.23e+01 at lambda: 2.11e-02, rho: 1.31e-01\r",
      "P:   1 R:  20 T:  38  psnr: 2.23e+01 at lambda: 2.11e-02, rho: 1.31e-01\r",
      "P:   1 R:  19 T:  39  psnr: 2.23e+01 at lambda: 2.11e-02, rho: 1.31e-01\r",
      "P:   0 R:  20 T:  39  psnr: 2.23e+01 at lambda: 2.11e-02, rho: 1.31e-01\r"
     ]
    },
    {
     "name": "stdout",
     "output_type": "stream",
     "text": [
      "P:   1 R:  19 T:  40  psnr: 2.23e+01 at lambda: 2.11e-02, rho: 1.31e-01\r",
      "P:   0 R:  20 T:  40  psnr: 2.23e+01 at lambda: 2.11e-02, rho: 1.31e-01\r",
      "P:   1 R:  19 T:  41  psnr: 2.23e+01 at lambda: 2.11e-02, rho: 1.31e-01\r",
      "P:   0 R:  20 T:  41  psnr: 2.23e+01 at lambda: 2.11e-02, rho: 1.31e-01\r",
      "P:   1 R:  19 T:  42  psnr: 2.23e+01 at lambda: 2.11e-02, rho: 1.31e-01\r",
      "P:   0 R:  20 T:  42  psnr: 2.23e+01 at lambda: 2.11e-02, rho: 1.31e-01\r"
     ]
    },
    {
     "name": "stdout",
     "output_type": "stream",
     "text": [
      "P:   1 R:  20 T:  42  psnr: 2.23e+01 at lambda: 2.11e-02, rho: 1.31e-01\r",
      "P:   1 R:  19 T:  43  psnr: 2.23e+01 at lambda: 2.11e-02, rho: 1.31e-01\r",
      "P:   0 R:  20 T:  43  psnr: 2.23e+01 at lambda: 2.11e-02, rho: 1.31e-01\r",
      "P:   1 R:  20 T:  43  psnr: 2.23e+01 at lambda: 2.11e-02, rho: 1.31e-01\r",
      "P:   1 R:  19 T:  44  psnr: 2.23e+01 at lambda: 2.11e-02, rho: 1.31e-01\r",
      "P:   0 R:  20 T:  44  psnr: 2.23e+01 at lambda: 2.11e-02, rho: 1.31e-01\r",
      "P:   1 R:  19 T:  45  psnr: 2.23e+01 at lambda: 2.11e-02, rho: 1.31e-01\r",
      "P:   0 R:  20 T:  45  psnr: 2.23e+01 at lambda: 2.11e-02, rho: 1.31e-01\r",
      "P:   1 R:  20 T:  45  psnr: 2.23e+01 at lambda: 2.11e-02, rho: 1.31e-01\r",
      "P:   1 R:  19 T:  46  psnr: 2.23e+01 at lambda: 2.11e-02, rho: 1.31e-01\r",
      "P:   0 R:  20 T:  46  psnr: 2.23e+01 at lambda: 2.11e-02, rho: 1.31e-01\r"
     ]
    },
    {
     "name": "stdout",
     "output_type": "stream",
     "text": [
      "P:   1 R:  19 T:  47  psnr: 2.23e+01 at lambda: 2.11e-02, rho: 1.31e-01\r",
      "P:   0 R:  20 T:  47  psnr: 2.23e+01 at lambda: 2.11e-02, rho: 1.31e-01\r",
      "P:   1 R:  19 T:  48  psnr: 2.23e+01 at lambda: 2.11e-02, rho: 1.31e-01\r",
      "P:   0 R:  20 T:  48  psnr: 2.23e+01 at lambda: 2.11e-02, rho: 1.31e-01\r",
      "P:   1 R:  19 T:  49  psnr: 2.23e+01 at lambda: 2.11e-02, rho: 1.31e-01\r",
      "P:   0 R:  20 T:  49  psnr: 2.23e+01 at lambda: 2.11e-02, rho: 1.31e-01\r"
     ]
    },
    {
     "name": "stdout",
     "output_type": "stream",
     "text": [
      "P:   1 R:  20 T:  49  psnr: 2.23e+01 at lambda: 2.11e-02, rho: 1.31e-01\r"
     ]
    },
    {
     "name": "stdout",
     "output_type": "stream",
     "text": [
      "P:   1 R:  20 T:  49  psnr: 2.23e+01 at lambda: 2.11e-02, rho: 1.31e-01\r",
      "P:   1 R:  20 T:  49  psnr: 2.23e+01 at lambda: 2.11e-02, rho: 1.31e-01\r"
     ]
    },
    {
     "name": "stdout",
     "output_type": "stream",
     "text": [
      "P:   1 R:  19 T:  50  psnr: 2.23e+01 at lambda: 2.11e-02, rho: 1.31e-01\r",
      "P:   0 R:  20 T:  50  psnr: 2.23e+01 at lambda: 2.11e-02, rho: 1.31e-01\r",
      "P:   1 R:  19 T:  51  psnr: 2.23e+01 at lambda: 2.11e-02, rho: 1.31e-01\r",
      "P:   0 R:  20 T:  51  psnr: 2.23e+01 at lambda: 2.11e-02, rho: 1.31e-01\r"
     ]
    },
    {
     "name": "stdout",
     "output_type": "stream",
     "text": [
      "P:   1 R:  20 T:  51  psnr: 2.23e+01 at lambda: 2.11e-02, rho: 1.31e-01\r",
      "P:   1 R:  19 T:  52  psnr: 2.23e+01 at lambda: 2.11e-02, rho: 1.31e-01\r",
      "P:   0 R:  20 T:  52  psnr: 2.23e+01 at lambda: 2.11e-02, rho: 1.31e-01\r"
     ]
    },
    {
     "name": "stdout",
     "output_type": "stream",
     "text": [
      "P:   1 R:  19 T:  53  psnr: 2.23e+01 at lambda: 2.11e-02, rho: 1.31e-01\r",
      "P:   0 R:  20 T:  53  psnr: 2.23e+01 at lambda: 2.11e-02, rho: 1.31e-01\r",
      "P:   1 R:  19 T:  54  psnr: 2.23e+01 at lambda: 2.11e-02, rho: 1.31e-01\r",
      "P:   0 R:  20 T:  54  psnr: 2.23e+01 at lambda: 2.11e-02, rho: 1.31e-01\r",
      "P:   1 R:  20 T:  54  psnr: 2.23e+01 at lambda: 2.11e-02, rho: 1.31e-01\r"
     ]
    },
    {
     "name": "stdout",
     "output_type": "stream",
     "text": [
      "P:   1 R:  20 T:  54  psnr: 2.23e+01 at lambda: 2.11e-02, rho: 1.31e-01\r",
      "P:   1 R:  19 T:  55  psnr: 2.23e+01 at lambda: 2.11e-02, rho: 1.31e-01\r",
      "P:   0 R:  20 T:  55  psnr: 2.23e+01 at lambda: 2.11e-02, rho: 1.31e-01\r"
     ]
    },
    {
     "name": "stdout",
     "output_type": "stream",
     "text": [
      "P:   1 R:  19 T:  56  psnr: 2.23e+01 at lambda: 2.11e-02, rho: 1.31e-01\r",
      "P:   0 R:  20 T:  56  psnr: 2.23e+01 at lambda: 2.11e-02, rho: 1.31e-01\r",
      "P:   1 R:  20 T:  56  psnr: 2.23e+01 at lambda: 2.11e-02, rho: 1.31e-01\r",
      "P:   1 R:  19 T:  57  psnr: 2.23e+01 at lambda: 2.11e-02, rho: 1.31e-01\r",
      "P:   0 R:  20 T:  57  psnr: 2.23e+01 at lambda: 2.11e-02, rho: 1.31e-01\r"
     ]
    },
    {
     "name": "stdout",
     "output_type": "stream",
     "text": [
      "P:   1 R:  19 T:  58  psnr: 2.23e+01 at lambda: 2.11e-02, rho: 1.31e-01\r",
      "P:   0 R:  20 T:  58  psnr: 2.23e+01 at lambda: 2.11e-02, rho: 1.31e-01\r",
      "P:   1 R:  20 T:  58  psnr: 2.23e+01 at lambda: 2.11e-02, rho: 1.31e-01\r",
      "P:   1 R:  19 T:  59  psnr: 2.23e+01 at lambda: 2.11e-02, rho: 1.31e-01\r",
      "P:   0 R:  20 T:  59  psnr: 2.23e+01 at lambda: 2.11e-02, rho: 1.31e-01\r",
      "P:   1 R:  20 T:  59  psnr: 2.23e+01 at lambda: 2.11e-02, rho: 1.31e-01\r"
     ]
    },
    {
     "name": "stdout",
     "output_type": "stream",
     "text": [
      "P:   1 R:  20 T:  59  psnr: 2.23e+01 at lambda: 2.11e-02, rho: 1.31e-01\r",
      "P:   1 R:  20 T:  59  psnr: 2.23e+01 at lambda: 2.11e-02, rho: 1.31e-01\r",
      "P:   1 R:  19 T:  60  psnr: 2.23e+01 at lambda: 2.11e-02, rho: 1.31e-01\r",
      "P:   0 R:  20 T:  60  psnr: 2.23e+01 at lambda: 2.11e-02, rho: 1.31e-01\r"
     ]
    },
    {
     "name": "stdout",
     "output_type": "stream",
     "text": [
      "P:   1 R:  20 T:  60  psnr: 2.23e+01 at lambda: 2.11e-02, rho: 1.31e-01\r",
      "P:   1 R:  20 T:  60  psnr: 2.23e+01 at lambda: 2.11e-02, rho: 1.31e-01\r"
     ]
    },
    {
     "name": "stdout",
     "output_type": "stream",
     "text": [
      "P:   1 R:  20 T:  60  psnr: 2.23e+01 at lambda: 2.11e-02, rho: 1.31e-01\r",
      "P:   1 R:  20 T:  60  psnr: 2.23e+01 at lambda: 2.11e-02, rho: 1.31e-01\r",
      "P:   1 R:  19 T:  61  psnr: 2.23e+01 at lambda: 2.11e-02, rho: 1.31e-01\r",
      "P:   0 R:  20 T:  61  psnr: 2.23e+01 at lambda: 2.11e-02, rho: 1.31e-01\r"
     ]
    },
    {
     "name": "stdout",
     "output_type": "stream",
     "text": [
      "P:   1 R:  20 T:  61  psnr: 2.23e+01 at lambda: 2.11e-02, rho: 1.31e-01\r"
     ]
    },
    {
     "name": "stdout",
     "output_type": "stream",
     "text": [
      "P:   1 R:  20 T:  61  psnr: 2.23e+01 at lambda: 2.11e-02, rho: 1.31e-01\r",
      "P:   1 R:  20 T:  61  psnr: 2.23e+01 at lambda: 2.11e-02, rho: 1.31e-01\r"
     ]
    },
    {
     "name": "stdout",
     "output_type": "stream",
     "text": [
      "P:   1 R:  20 T:  61  psnr: 2.23e+01 at lambda: 2.11e-02, rho: 1.31e-01\r",
      "P:   1 R:  20 T:  61  psnr: 2.23e+01 at lambda: 2.11e-02, rho: 1.31e-01\r",
      "P:   1 R:  20 T:  61  psnr: 2.23e+01 at lambda: 2.11e-02, rho: 1.31e-01\r"
     ]
    },
    {
     "name": "stdout",
     "output_type": "stream",
     "text": [
      "P:   1 R:  20 T:  61  psnr: 2.23e+01 at lambda: 2.11e-02, rho: 1.31e-01\r",
      "P:   1 R:  20 T:  61  psnr: 2.23e+01 at lambda: 2.11e-02, rho: 1.31e-01\r",
      "P:   1 R:  19 T:  62  psnr: 2.23e+01 at lambda: 2.11e-02, rho: 1.31e-01\r",
      "P:   0 R:  20 T:  62  psnr: 2.23e+01 at lambda: 2.11e-02, rho: 1.31e-01\r",
      "P:   1 R:  20 T:  62  psnr: 2.23e+01 at lambda: 2.11e-02, rho: 1.31e-01\r"
     ]
    },
    {
     "name": "stdout",
     "output_type": "stream",
     "text": [
      "P:   1 R:  19 T:  63  psnr: 2.23e+01 at lambda: 2.11e-02, rho: 1.31e-01\r",
      "P:   0 R:  20 T:  63  psnr: 2.23e+01 at lambda: 2.11e-02, rho: 1.31e-01\r",
      "P:   1 R:  20 T:  63  psnr: 2.23e+01 at lambda: 2.11e-02, rho: 1.31e-01\r"
     ]
    },
    {
     "name": "stdout",
     "output_type": "stream",
     "text": [
      "P:   1 R:  20 T:  63  psnr: 2.23e+01 at lambda: 2.11e-02, rho: 1.31e-01\r",
      "P:   1 R:  20 T:  63  psnr: 2.23e+01 at lambda: 2.11e-02, rho: 1.31e-01\r",
      "P:   1 R:  19 T:  64  psnr: 2.23e+01 at lambda: 2.11e-02, rho: 1.31e-01\r",
      "P:   0 R:  20 T:  64  psnr: 2.23e+01 at lambda: 2.11e-02, rho: 1.31e-01\r",
      "P:   1 R:  20 T:  64  psnr: 2.23e+01 at lambda: 2.11e-02, rho: 1.31e-01\r"
     ]
    },
    {
     "name": "stdout",
     "output_type": "stream",
     "text": [
      "P:   1 R:  20 T:  64  psnr: 2.23e+01 at lambda: 2.11e-02, rho: 1.31e-01\r",
      "P:   1 R:  19 T:  65  psnr: 2.23e+01 at lambda: 2.11e-02, rho: 1.31e-01\r",
      "P:   0 R:  20 T:  65  psnr: 2.23e+01 at lambda: 2.11e-02, rho: 1.31e-01\r",
      "P:   1 R:  20 T:  65  psnr: 2.23e+01 at lambda: 2.11e-02, rho: 1.31e-01\r",
      "P:   1 R:  19 T:  66  psnr: 2.23e+01 at lambda: 2.11e-02, rho: 1.31e-01\r",
      "P:   0 R:  20 T:  66  psnr: 2.23e+01 at lambda: 2.11e-02, rho: 1.31e-01\r",
      "P:   1 R:  20 T:  66  psnr: 2.23e+01 at lambda: 2.11e-02, rho: 1.31e-01\r",
      "P:   1 R:  20 T:  66  psnr: 2.23e+01 at lambda: 2.11e-02, rho: 1.31e-01\r"
     ]
    },
    {
     "name": "stdout",
     "output_type": "stream",
     "text": [
      "P:   1 R:  20 T:  66  psnr: 2.23e+01 at lambda: 2.11e-02, rho: 1.31e-01\r",
      "P:   1 R:  19 T:  67  psnr: 2.23e+01 at lambda: 2.11e-02, rho: 1.31e-01\r",
      "P:   0 R:  20 T:  67  psnr: 2.23e+01 at lambda: 2.11e-02, rho: 1.31e-01\r",
      "P:   1 R:  20 T:  67  psnr: 2.23e+01 at lambda: 2.11e-02, rho: 1.31e-01\r",
      "P:   1 R:  20 T:  67  psnr: 2.23e+01 at lambda: 2.11e-02, rho: 1.31e-01\r"
     ]
    },
    {
     "name": "stdout",
     "output_type": "stream",
     "text": [
      "P:   1 R:  20 T:  67  psnr: 2.23e+01 at lambda: 2.11e-02, rho: 1.31e-01\r",
      "P:   1 R:  20 T:  67  psnr: 2.23e+01 at lambda: 2.11e-02, rho: 1.31e-01\r",
      "P:   1 R:  19 T:  68  psnr: 2.23e+01 at lambda: 2.11e-02, rho: 1.31e-01\r",
      "P:   0 R:  20 T:  68  psnr: 2.23e+01 at lambda: 2.11e-02, rho: 1.31e-01\r"
     ]
    },
    {
     "name": "stdout",
     "output_type": "stream",
     "text": [
      "P:   1 R:  19 T:  69  psnr: 2.23e+01 at lambda: 2.11e-02, rho: 1.31e-01\r",
      "P:   0 R:  20 T:  69  psnr: 2.23e+01 at lambda: 2.11e-02, rho: 1.31e-01\r",
      "P:   1 R:  20 T:  69  psnr: 2.23e+01 at lambda: 2.11e-02, rho: 1.31e-01\r",
      "P:   1 R:  20 T:  69  psnr: 2.23e+01 at lambda: 2.11e-02, rho: 1.31e-01\r"
     ]
    },
    {
     "name": "stdout",
     "output_type": "stream",
     "text": [
      "P:   1 R:  19 T:  70  psnr: 2.23e+01 at lambda: 2.11e-02, rho: 1.31e-01\r",
      "P:   0 R:  20 T:  70  psnr: 2.23e+01 at lambda: 2.11e-02, rho: 1.31e-01\r",
      "P:   1 R:  20 T:  70  psnr: 2.23e+01 at lambda: 2.11e-02, rho: 1.31e-01\r",
      "P:   1 R:  20 T:  70  psnr: 2.23e+01 at lambda: 2.11e-02, rho: 1.31e-01\r",
      "P:   1 R:  20 T:  70  psnr: 2.23e+01 at lambda: 2.11e-02, rho: 1.31e-01\r",
      "P:   1 R:  19 T:  71  psnr: 2.23e+01 at lambda: 2.11e-02, rho: 1.31e-01\r",
      "P:   0 R:  20 T:  71  psnr: 2.23e+01 at lambda: 2.11e-02, rho: 1.31e-01\r",
      "P:   1 R:  20 T:  71  psnr: 2.23e+01 at lambda: 2.11e-02, rho: 1.31e-01\r",
      "P:   1 R:  19 T:  72  psnr: 2.23e+01 at lambda: 2.11e-02, rho: 1.31e-01\r",
      "P:   0 R:  20 T:  72  psnr: 2.23e+01 at lambda: 2.11e-02, rho: 1.31e-01\r"
     ]
    },
    {
     "name": "stdout",
     "output_type": "stream",
     "text": [
      "P:   1 R:  20 T:  72  psnr: 2.23e+01 at lambda: 2.11e-02, rho: 1.31e-01\r",
      "P:   1 R:  20 T:  72  psnr: 2.23e+01 at lambda: 2.11e-02, rho: 1.31e-01\r",
      "P:   1 R:  20 T:  72  psnr: 2.23e+01 at lambda: 2.11e-02, rho: 1.31e-01\r",
      "P:   1 R:  19 T:  73  psnr: 2.23e+01 at lambda: 2.11e-02, rho: 1.31e-01\r",
      "P:   0 R:  20 T:  73  psnr: 2.23e+01 at lambda: 2.11e-02, rho: 1.31e-01\r",
      "P:   1 R:  20 T:  73  psnr: 2.23e+01 at lambda: 2.11e-02, rho: 1.31e-01\r",
      "P:   1 R:  19 T:  74  psnr: 2.23e+01 at lambda: 2.11e-02, rho: 1.31e-01\r",
      "P:   0 R:  20 T:  74  psnr: 2.23e+01 at lambda: 2.11e-02, rho: 1.31e-01\r"
     ]
    },
    {
     "name": "stdout",
     "output_type": "stream",
     "text": [
      "P:   1 R:  20 T:  74  psnr: 2.23e+01 at lambda: 2.11e-02, rho: 1.31e-01\r",
      "P:   1 R:  19 T:  75  psnr: 2.23e+01 at lambda: 2.11e-02, rho: 1.31e-01\r",
      "P:   0 R:  20 T:  75  psnr: 2.23e+01 at lambda: 2.11e-02, rho: 1.31e-01\r"
     ]
    },
    {
     "name": "stdout",
     "output_type": "stream",
     "text": [
      "P:   1 R:  20 T:  75  psnr: 2.23e+01 at lambda: 2.11e-02, rho: 1.31e-01\r",
      "P:   1 R:  20 T:  75  psnr: 2.23e+01 at lambda: 2.11e-02, rho: 1.31e-01\r",
      "P:   1 R:  20 T:  75  psnr: 2.23e+01 at lambda: 2.11e-02, rho: 1.31e-01\r",
      "P:   1 R:  19 T:  76  psnr: 2.23e+01 at lambda: 2.11e-02, rho: 1.31e-01\r",
      "P:   0 R:  20 T:  76  psnr: 2.23e+01 at lambda: 2.11e-02, rho: 1.31e-01\r",
      "P:   1 R:  20 T:  76  psnr: 2.23e+01 at lambda: 2.11e-02, rho: 1.31e-01\r",
      "P:   1 R:  20 T:  76  psnr: 2.23e+01 at lambda: 2.11e-02, rho: 1.31e-01\r"
     ]
    },
    {
     "name": "stdout",
     "output_type": "stream",
     "text": [
      "P:   1 R:  20 T:  76  psnr: 2.23e+01 at lambda: 2.11e-02, rho: 1.31e-01\r",
      "P:   1 R:  20 T:  76  psnr: 2.23e+01 at lambda: 2.11e-02, rho: 1.31e-01\r"
     ]
    },
    {
     "name": "stdout",
     "output_type": "stream",
     "text": [
      "P:   1 R:  19 T:  77  psnr: 2.23e+01 at lambda: 2.11e-02, rho: 1.31e-01\r",
      "P:   0 R:  20 T:  77  psnr: 2.23e+01 at lambda: 2.11e-02, rho: 1.31e-01\r",
      "P:   1 R:  20 T:  77  psnr: 2.23e+01 at lambda: 2.11e-02, rho: 1.31e-01\r"
     ]
    },
    {
     "name": "stdout",
     "output_type": "stream",
     "text": [
      "P:   1 R:  19 T:  78  psnr: 2.23e+01 at lambda: 2.11e-02, rho: 1.31e-01\r",
      "P:   0 R:  20 T:  78  psnr: 2.23e+01 at lambda: 2.11e-02, rho: 1.31e-01\r",
      "P:   1 R:  19 T:  79  psnr: 2.23e+01 at lambda: 2.11e-02, rho: 1.31e-01\r",
      "P:   0 R:  20 T:  79  psnr: 2.23e+01 at lambda: 2.11e-02, rho: 1.31e-01\r",
      "P:   1 R:  20 T:  79  psnr: 2.23e+01 at lambda: 2.11e-02, rho: 1.31e-01\r",
      "P:   1 R:  19 T:  80  psnr: 2.23e+01 at lambda: 2.11e-02, rho: 1.31e-01\r"
     ]
    },
    {
     "name": "stdout",
     "output_type": "stream",
     "text": [
      "P:   0 R:  20 T:  80  psnr: 2.23e+01 at lambda: 2.11e-02, rho: 1.31e-01\r",
      "P:   0 R:  19 T:  81  psnr: 2.23e+01 at lambda: 2.11e-02, rho: 1.31e-01\r",
      "P:   0 R:  18 T:  82  psnr: 2.23e+01 at lambda: 2.11e-02, rho: 1.31e-01\r",
      "P:   0 R:  17 T:  83  psnr: 2.23e+01 at lambda: 2.11e-02, rho: 1.31e-01\r",
      "P:   0 R:  16 T:  84  psnr: 2.23e+01 at lambda: 2.11e-02, rho: 1.31e-01\r"
     ]
    },
    {
     "name": "stdout",
     "output_type": "stream",
     "text": [
      "P:   0 R:  16 T:  84  psnr: 2.23e+01 at lambda: 2.11e-02, rho: 1.31e-01\r",
      "P:   0 R:  15 T:  85  psnr: 2.23e+01 at lambda: 2.11e-02, rho: 1.31e-01\r",
      "P:   0 R:  14 T:  86  psnr: 2.23e+01 at lambda: 2.11e-02, rho: 1.31e-01\r",
      "P:   0 R:  14 T:  86  psnr: 2.23e+01 at lambda: 2.11e-02, rho: 1.31e-01\r",
      "P:   0 R:  14 T:  86  psnr: 2.23e+01 at lambda: 2.11e-02, rho: 1.31e-01\r"
     ]
    },
    {
     "name": "stdout",
     "output_type": "stream",
     "text": [
      "P:   0 R:  14 T:  86  psnr: 2.23e+01 at lambda: 2.11e-02, rho: 1.31e-01\r",
      "P:   0 R:  13 T:  87  psnr: 2.23e+01 at lambda: 2.11e-02, rho: 1.31e-01\r",
      "P:   0 R:  12 T:  88  psnr: 2.23e+01 at lambda: 2.11e-02, rho: 1.31e-01\r",
      "P:   0 R:  11 T:  89  psnr: 2.23e+01 at lambda: 2.11e-02, rho: 1.31e-01\r",
      "P:   0 R:  10 T:  90  psnr: 2.23e+01 at lambda: 2.11e-02, rho: 1.31e-01\r"
     ]
    },
    {
     "name": "stdout",
     "output_type": "stream",
     "text": [
      "P:   0 R:   9 T:  91  psnr: 2.23e+01 at lambda: 2.11e-02, rho: 1.31e-01\r",
      "P:   0 R:   9 T:  91  psnr: 2.23e+01 at lambda: 2.11e-02, rho: 1.31e-01\r",
      "P:   0 R:   8 T:  92  psnr: 2.23e+01 at lambda: 2.11e-02, rho: 1.31e-01\r",
      "P:   0 R:   7 T:  93  psnr: 2.23e+01 at lambda: 2.11e-02, rho: 1.31e-01\r",
      "P:   0 R:   7 T:  93  psnr: 2.23e+01 at lambda: 2.11e-02, rho: 1.31e-01\r",
      "P:   0 R:   7 T:  93  psnr: 2.23e+01 at lambda: 2.11e-02, rho: 1.31e-01\r"
     ]
    },
    {
     "name": "stdout",
     "output_type": "stream",
     "text": [
      "P:   0 R:   6 T:  94  psnr: 2.23e+01 at lambda: 2.11e-02, rho: 1.31e-01\r",
      "P:   0 R:   6 T:  94  psnr: 2.23e+01 at lambda: 2.11e-02, rho: 1.31e-01\r",
      "P:   0 R:   6 T:  94  psnr: 2.23e+01 at lambda: 2.11e-02, rho: 1.31e-01\r",
      "P:   0 R:   5 T:  95  psnr: 2.23e+01 at lambda: 2.11e-02, rho: 1.31e-01\r"
     ]
    },
    {
     "name": "stdout",
     "output_type": "stream",
     "text": [
      "P:   0 R:   4 T:  96  psnr: 2.23e+01 at lambda: 2.11e-02, rho: 1.31e-01\r",
      "P:   0 R:   3 T:  97  psnr: 2.23e+01 at lambda: 2.11e-02, rho: 1.31e-01\r",
      "P:   0 R:   2 T:  98  psnr: 2.23e+01 at lambda: 2.11e-02, rho: 1.31e-01\r"
     ]
    },
    {
     "name": "stdout",
     "output_type": "stream",
     "text": [
      "P:   0 R:   1 T:  99  psnr: 2.23e+01 at lambda: 2.11e-02, rho: 1.31e-01\r",
      "P:   0 R:   1 T:  99  psnr: 2.23e+01 at lambda: 2.11e-02, rho: 1.31e-01\r"
     ]
    },
    {
     "name": "stdout",
     "output_type": "stream",
     "text": [
      "P:   0 R:   1 T:  99  psnr: 2.23e+01 at lambda: 2.11e-02, rho: 1.31e-01\r"
     ]
    },
    {
     "name": "stdout",
     "output_type": "stream",
     "text": [
      "P:   0 R:   1 T:  99  psnr: 2.23e+01 at lambda: 2.00e-02, rho: 9.75e-02\r"
     ]
    },
    {
     "name": "stdout",
     "output_type": "stream",
     "text": [
      "P:   0 R:   1 T:  99  psnr: 2.23e+01 at lambda: 2.00e-02, rho: 9.75e-02\r",
      "P:   0 R:   0 T: 100  psnr: 2.23e+01 at lambda: 2.00e-02, rho: 9.75e-02\n"
     ]
    }
   ],
   "source": [
    "analysis = tune.run(\n",
    "    eval_params,\n",
    "    metric=\"psnr\",\n",
    "    mode=\"max\",\n",
    "    num_samples=100,\n",
    "    config=config,\n",
    "    resources_per_trial=resources,\n",
    "    hyperopt=True,\n",
    "    verbose=True,\n",
    ")"
   ]
  },
  {
   "cell_type": "markdown",
   "id": "62b80750",
   "metadata": {},
   "source": [
    "Display best parameters and corresponding performance."
   ]
  },
  {
   "cell_type": "code",
   "execution_count": 8,
   "id": "6c1cd1fc",
   "metadata": {
    "collapsed": false,
    "execution": {
     "iopub.execute_input": "2023-02-04T15:18:05.379898Z",
     "iopub.status.busy": "2023-02-04T15:18:05.379656Z",
     "iopub.status.idle": "2023-02-04T15:18:05.385749Z",
     "shell.execute_reply": "2023-02-04T15:18:05.384916Z"
    }
   },
   "outputs": [
    {
     "name": "stdout",
     "output_type": "stream",
     "text": [
      "Best PSNR: 22.30 dB\n",
      "Best config: lambda: 2.00e-02, rho: 9.75e-02\n"
     ]
    }
   ],
   "source": [
    "best_config = analysis.get_best_config(metric=\"psnr\", mode=\"max\")\n",
    "print(f\"Best PSNR: {analysis.get_best_trial().last_result['psnr']:.2f} dB\")\n",
    "print(\"Best config: \" + \", \".join([f\"{k}: {v:.2e}\" for k, v in best_config.items()]))"
   ]
  },
  {
   "cell_type": "markdown",
   "id": "a6a87635",
   "metadata": {},
   "source": [
    "Plot parameter values visited during parameter search. Marker sizes are\n",
    "proportional to number of iterations run at each parameter pair. The best\n",
    "point in the parameter space is indicated in red."
   ]
  },
  {
   "cell_type": "code",
   "execution_count": 9,
   "id": "aa6347e7",
   "metadata": {
    "collapsed": false,
    "execution": {
     "iopub.execute_input": "2023-02-04T15:18:05.388999Z",
     "iopub.status.busy": "2023-02-04T15:18:05.388745Z",
     "iopub.status.idle": "2023-02-04T15:18:06.158209Z",
     "shell.execute_reply": "2023-02-04T15:18:06.157332Z"
    }
   },
   "outputs": [
    {
     "data": {
      "image/png": "[encoded data removed]",
      "text/plain": [
       "<Figure size 800x800 with 1 Axes>"
      ]
     },
     "metadata": {},
     "output_type": "display_data"
    }
   ],
   "source": [
    "fig = plot.figure(figsize=(8, 8))\n",
    "for t in analysis.trials:\n",
    "    n = t.metric_analysis[\"training_iteration\"][\"max\"]\n",
    "    plot.plot(\n",
    "        t.config[\"lambda\"],\n",
    "        t.config[\"rho\"],\n",
    "        ptyp=\"loglog\",\n",
    "        lw=0,\n",
    "        ms=(0.5 + 1.5 * n),\n",
    "        marker=\"o\",\n",
    "        mfc=\"blue\",\n",
    "        mec=\"blue\",\n",
    "        fig=fig,\n",
    "    )\n",
    "plot.plot(\n",
    "    best_config[\"lambda\"],\n",
    "    best_config[\"rho\"],\n",
    "    ptyp=\"loglog\",\n",
    "    title=\"Parameter search sampling locations\\n(marker size proportional to number of iterations)\",\n",
    "    xlbl=r\"$\\rho$\",\n",
    "    ylbl=r\"$\\lambda$\",\n",
    "    lw=0,\n",
    "    ms=5.0,\n",
    "    marker=\"o\",\n",
    "    mfc=\"red\",\n",
    "    mec=\"red\",\n",
    "    fig=fig,\n",
    ")\n",
    "ax = fig.axes[0]\n",
    "ax.set_xlim([config[\"rho\"].lower, config[\"rho\"].upper])\n",
    "ax.set_ylim([config[\"lambda\"].lower, config[\"lambda\"].upper])\n",
    "fig.show()"
   ]
  },
  {
   "cell_type": "markdown",
   "id": "cacfe689",
   "metadata": {},
   "source": [
    "Plot parameter values visited during parameter search and corresponding\n",
    "reconstruction PSNRs.The best point in the parameter space is indicated\n",
    "in red."
   ]
  },
  {
   "cell_type": "code",
   "execution_count": 10,
   "id": "1b80ca64",
   "metadata": {
    "collapsed": false,
    "execution": {
     "iopub.execute_input": "2023-02-04T15:18:06.166277Z",
     "iopub.status.busy": "2023-02-04T15:18:06.165558Z",
     "iopub.status.idle": "2023-02-04T15:18:06.649780Z",
     "shell.execute_reply": "2023-02-04T15:18:06.648940Z"
    }
   },
   "outputs": [
    {
     "data": {
      "image/png": "[encoded data removed]",
      "text/plain": [
       "<Figure size 1000x800 with 2 Axes>"
      ]
     },
     "metadata": {},
     "output_type": "display_data"
    }
   ],
   "source": [
    "𝜌 = [t.config[\"rho\"] for t in analysis.trials]\n",
    "𝜆 = [t.config[\"lambda\"] for t in analysis.trials]\n",
    "psnr = [t.metric_analysis[\"psnr\"][\"max\"] for t in analysis.trials]\n",
    "minpsnr = min(max(psnr), 18.0)\n",
    "𝜌, 𝜆, psnr = zip(*filter(lambda x: x[2] >= minpsnr, zip(𝜌, 𝜆, psnr)))\n",
    "fig, ax = plot.subplots(figsize=(10, 8))\n",
    "sc = ax.scatter(𝜌, 𝜆, c=psnr, cmap=plot.cm.plasma_r)\n",
    "fig.colorbar(sc)\n",
    "plot.plot(\n",
    "    best_config[\"lambda\"],\n",
    "    best_config[\"rho\"],\n",
    "    ptyp=\"loglog\",\n",
    "    lw=0,\n",
    "    ms=12.0,\n",
    "    marker=\"2\",\n",
    "    mfc=\"red\",\n",
    "    mec=\"red\",\n",
    "    fig=fig,\n",
    "    ax=ax,\n",
    ")\n",
    "ax.set_xscale(\"log\")\n",
    "ax.set_yscale(\"log\")\n",
    "ax.set_xlabel(r\"$\\rho$\")\n",
    "ax.set_ylabel(r\"$\\lambda$\")\n",
    "ax.set_title(\"PSNR at each sample location\\n(values below 18 dB omitted)\")\n",
    "fig.show()"
   ]
  }
 ],
 "metadata": {
  "language_info": {
   "codemirror_mode": {
    "name": "ipython",
    "version": 3
   },
   "file_extension": ".py",
   "mimetype": "text/x-python",
   "name": "python",
   "nbconvert_exporter": "python",
   "pygments_lexer": "ipython3",
   "version": "3.9.16"
  }
 },
 "nbformat": 4,
 "nbformat_minor": 5
}
