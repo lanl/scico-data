{
 "cells": [
  {
   "cell_type": "markdown",
   "id": "8ec48301",
   "metadata": {},
   "source": [
    "3D TV-Regularized Sparse-View CT Reconstruction (ADMM Solver)\n",
    "=============================================================\n",
    "\n",
    "This example demonstrates solution of a sparse-view, 3D CT\n",
    "reconstruction problem with isotropic total variation (TV)\n",
    "regularization\n",
    "\n",
    "  $$\\mathrm{argmin}_{\\mathbf{x}} \\; (1/2) \\| \\mathbf{y} - C \\mathbf{x}\n",
    "  \\|_2^2 + \\lambda \\| D \\mathbf{x} \\|_{2,1} \\;,$$\n",
    "\n",
    "where $C$ is the X-ray transform (the CT forward projection operator),\n",
    "$\\mathbf{y}$ is the sinogram, $D$ is a 3D finite difference operator,\n",
    "and $\\mathbf{x}$ is the desired image.\n",
    "\n",
    "In this example the problem is solved via ADMM, while proximal\n",
    "ADMM is used in a [companion example](ct_astra_3d_tv_padmm.rst)."
   ]
  },
  {
   "cell_type": "code",
   "execution_count": 1,
   "id": "48321622",
   "metadata": {
    "collapsed": false,
    "execution": {
     "iopub.execute_input": "2024-06-06T02:27:42.893579Z",
     "iopub.status.busy": "2024-06-06T02:27:42.892875Z",
     "iopub.status.idle": "2024-06-06T02:27:46.011414Z",
     "shell.execute_reply": "2024-06-06T02:27:46.010386Z"
    }
   },
   "outputs": [],
   "source": [
    "import numpy as np\n",
    "\n",
    "from mpl_toolkits.axes_grid1 import make_axes_locatable\n",
    "\n",
    "import scico.numpy as snp\n",
    "from scico import functional, linop, loss, metric, plot\n",
    "from scico.examples import create_tangle_phantom\n",
    "from scico.linop.xray.astra import XRayTransform3D\n",
    "from scico.optimize.admm import ADMM, LinearSubproblemSolver\n",
    "from scico.util import device_info\n",
    "plot.config_notebook_plotting()"
   ]
  },
  {
   "cell_type": "markdown",
   "id": "8ae9b2ff",
   "metadata": {},
   "source": [
    "Create a ground truth image and projector."
   ]
  },
  {
   "cell_type": "code",
   "execution_count": 2,
   "id": "cb61e85a",
   "metadata": {
    "collapsed": false,
    "execution": {
     "iopub.execute_input": "2024-06-06T02:27:46.019046Z",
     "iopub.status.busy": "2024-06-06T02:27:46.018207Z",
     "iopub.status.idle": "2024-06-06T02:27:46.273471Z",
     "shell.execute_reply": "2024-06-06T02:27:46.272539Z"
    }
   },
   "outputs": [],
   "source": [
    "Nx = 128\n",
    "Ny = 256\n",
    "Nz = 64\n",
    "\n",
    "tangle = snp.array(create_tangle_phantom(Nx, Ny, Nz))\n",
    "\n",
    "n_projection = 10  # number of projections\n",
    "angles = np.linspace(0, np.pi, n_projection)  # evenly spaced projection angles\n",
    "C = XRayTransform3D(\n",
    "    tangle.shape, det_count=[Nz, max(Nx, Ny)], det_spacing=[1.0, 1.0], angles=angles\n",
    ")  # CT projection operator\n",
    "y = C @ tangle  # sinogram"
   ]
  },
  {
   "cell_type": "markdown",
   "id": "af41fe45",
   "metadata": {},
   "source": [
    "Set up problem and solver."
   ]
  },
  {
   "cell_type": "code",
   "execution_count": 3,
   "id": "e6df42bf",
   "metadata": {
    "collapsed": false,
    "execution": {
     "iopub.execute_input": "2024-06-06T02:27:46.280023Z",
     "iopub.status.busy": "2024-06-06T02:27:46.279247Z",
     "iopub.status.idle": "2024-06-06T02:27:47.189160Z",
     "shell.execute_reply": "2024-06-06T02:27:47.188117Z"
    }
   },
   "outputs": [],
   "source": [
    "λ = 2e0  # ℓ2,1 norm regularization parameter\n",
    "ρ = 5e0  # ADMM penalty parameter\n",
    "maxiter = 25  # number of ADMM iterations\n",
    "cg_tol = 1e-4  # CG relative tolerance\n",
    "cg_maxiter = 25  # maximum CG iterations per ADMM iteration\n",
    "\n",
    "# The append=0 option makes the results of horizontal and vertical\n",
    "# finite differences the same shape, which is required for the L21Norm,\n",
    "# which is used so that g(Ax) corresponds to isotropic TV.\n",
    "D = linop.FiniteDifference(input_shape=tangle.shape, append=0)\n",
    "g = λ * functional.L21Norm()\n",
    "f = loss.SquaredL2Loss(y=y, A=C)\n",
    "\n",
    "solver = ADMM(\n",
    "    f=f,\n",
    "    g_list=[g],\n",
    "    C_list=[D],\n",
    "    rho_list=[ρ],\n",
    "    x0=C.T(y),\n",
    "    maxiter=maxiter,\n",
    "    subproblem_solver=LinearSubproblemSolver(cg_kwargs={\"tol\": cg_tol, \"maxiter\": cg_maxiter}),\n",
    "    itstat_options={\"display\": True, \"period\": 5},\n",
    ")"
   ]
  },
  {
   "cell_type": "markdown",
   "id": "511ab69e",
   "metadata": {},
   "source": [
    "Run the solver."
   ]
  },
  {
   "cell_type": "code",
   "execution_count": 4,
   "id": "4aee27ec",
   "metadata": {
    "collapsed": false,
    "execution": {
     "iopub.execute_input": "2024-06-06T02:27:47.195055Z",
     "iopub.status.busy": "2024-06-06T02:27:47.194873Z",
     "iopub.status.idle": "2024-06-06T02:29:41.870495Z",
     "shell.execute_reply": "2024-06-06T02:29:41.868779Z"
    }
   },
   "outputs": [
    {
     "name": "stdout",
     "output_type": "stream",
     "text": [
      "Solving on GPU (NVIDIA GeForce RTX 2080 Ti)\n",
      "\n"
     ]
    },
    {
     "name": "stdout",
     "output_type": "stream",
     "text": [
      "Iter  Time      Objective  Prml Rsdl  Dual Rsdl  CG It  CG Res   \n",
      "-----------------------------------------------------------------\n",
      "   0  9.36e+00  1.559e+08  1.098e+03  4.701e+05     25  3.991e-03\n"
     ]
    },
    {
     "name": "stdout",
     "output_type": "stream",
     "text": [
      "   1  1.65e+01  7.967e+05  5.941e+02  1.191e+04     25  8.424e-04\r"
     ]
    },
    {
     "name": "stdout",
     "output_type": "stream",
     "text": [
      "   2  2.29e+01  3.105e+05  3.903e+02  2.013e+03     25  6.954e-04\r"
     ]
    },
    {
     "name": "stdout",
     "output_type": "stream",
     "text": [
      "   3  2.88e+01  2.343e+05  2.618e+02  1.039e+03     25  4.260e-04\r"
     ]
    },
    {
     "name": "stdout",
     "output_type": "stream",
     "text": [
      "   4  3.53e+01  2.033e+05  1.805e+02  7.315e+02     25  3.280e-04\r"
     ]
    },
    {
     "name": "stdout",
     "output_type": "stream",
     "text": [
      "   5  4.19e+01  1.861e+05  1.294e+02  5.987e+02     25  1.953e-04\n"
     ]
    },
    {
     "name": "stdout",
     "output_type": "stream",
     "text": [
      "   6  4.85e+01  1.746e+05  1.045e+02  5.050e+02     25  2.029e-04\r"
     ]
    },
    {
     "name": "stdout",
     "output_type": "stream",
     "text": [
      "   7  5.50e+01  1.676e+05  9.302e+01  3.989e+02     25  1.444e-04\r"
     ]
    },
    {
     "name": "stdout",
     "output_type": "stream",
     "text": [
      "   8  6.14e+01  1.659e+05  9.100e+01  2.433e+02     25  1.457e-04\r"
     ]
    },
    {
     "name": "stdout",
     "output_type": "stream",
     "text": [
      "   9  6.79e+01  1.661e+05  6.316e+01  1.384e+02     25  1.041e-04\r"
     ]
    },
    {
     "name": "stdout",
     "output_type": "stream",
     "text": [
      "  10  7.20e+01  1.657e+05  4.562e+01  1.051e+02     15  9.501e-05\n"
     ]
    },
    {
     "name": "stdout",
     "output_type": "stream",
     "text": [
      "  11  7.40e+01  1.654e+05  3.925e+01  9.427e+01      7  9.993e-05\r"
     ]
    },
    {
     "name": "stdout",
     "output_type": "stream",
     "text": [
      "  12  8.01e+01  1.648e+05  4.814e+01  8.045e+01     25  2.067e-04\r"
     ]
    },
    {
     "name": "stdout",
     "output_type": "stream",
     "text": [
      "  13  8.38e+01  1.641e+05  3.875e+01  8.508e+01     14  9.732e-05\r"
     ]
    },
    {
     "name": "stdout",
     "output_type": "stream",
     "text": [
      "  14  8.59e+01  1.638e+05  3.350e+01  7.113e+01      7  9.188e-05\r"
     ]
    },
    {
     "name": "stdout",
     "output_type": "stream",
     "text": [
      "  15  9.09e+01  1.641e+05  3.663e+01  5.943e+01     19  9.021e-05\n"
     ]
    },
    {
     "name": "stdout",
     "output_type": "stream",
     "text": [
      "  16  9.40e+01  1.638e+05  2.908e+01  6.435e+01     11  9.773e-05\r"
     ]
    },
    {
     "name": "stdout",
     "output_type": "stream",
     "text": [
      "  17  9.60e+01  1.636e+05  2.420e+01  4.047e+01      6  9.904e-05\r"
     ]
    },
    {
     "name": "stdout",
     "output_type": "stream",
     "text": [
      "  18  1.02e+02  1.637e+05  3.543e+01  4.079e+01     22  9.698e-05\r"
     ]
    },
    {
     "name": "stdout",
     "output_type": "stream",
     "text": [
      "  19  1.05e+02  1.634e+05  2.672e+01  5.399e+01     12  9.734e-05\r"
     ]
    },
    {
     "name": "stdout",
     "output_type": "stream",
     "text": [
      "  20  1.07e+02  1.632e+05  2.240e+01  3.614e+01      7  9.072e-05\n"
     ]
    },
    {
     "name": "stdout",
     "output_type": "stream",
     "text": [
      "  21  1.10e+02  1.633e+05  1.980e+01  2.070e+01      7  9.478e-05\r"
     ]
    },
    {
     "name": "stdout",
     "output_type": "stream",
     "text": [
      "  22  1.11e+02  1.631e+05  1.616e+01  1.475e+01      4  9.753e-05\r"
     ]
    },
    {
     "name": "stdout",
     "output_type": "stream",
     "text": [
      "  23  1.13e+02  1.632e+05  1.500e+01  1.283e+01      4  8.890e-05\r"
     ]
    },
    {
     "name": "stdout",
     "output_type": "stream",
     "text": [
      "  24  1.14e+02  1.631e+05  1.290e+01  8.143e+00      3  8.961e-05\r\n"
     ]
    },
    {
     "name": "stdout",
     "output_type": "stream",
     "text": [
      "TV Restruction\n",
      "SNR: 20.20 (dB), MAE: 0.017\n"
     ]
    }
   ],
   "source": [
    "print(f\"Solving on {device_info()}\\n\")\n",
    "tangle_recon = solver.solve()\n",
    "hist = solver.itstat_object.history(transpose=True)\n",
    "\n",
    "print(\n",
    "    \"TV Restruction\\nSNR: %.2f (dB), MAE: %.3f\"\n",
    "    % (metric.snr(tangle, tangle_recon), metric.mae(tangle, tangle_recon))\n",
    ")"
   ]
  },
  {
   "cell_type": "markdown",
   "id": "49ca1146",
   "metadata": {},
   "source": [
    "Show the recovered image."
   ]
  },
  {
   "cell_type": "code",
   "execution_count": 5,
   "id": "d9433dc6",
   "metadata": {
    "collapsed": false,
    "execution": {
     "iopub.execute_input": "2024-06-06T02:29:41.875607Z",
     "iopub.status.busy": "2024-06-06T02:29:41.875277Z",
     "iopub.status.idle": "2024-06-06T02:29:42.681048Z",
     "shell.execute_reply": "2024-06-06T02:29:42.680266Z"
    }
   },
   "outputs": [
    {
     "data": {
      "image/png": "[encoded data removed]",
      "text/plain": [
       "<Figure size 700x600 with 4 Axes>"
      ]
     },
     "metadata": {},
     "output_type": "display_data"
    }
   ],
   "source": [
    "fig, ax = plot.subplots(nrows=1, ncols=2, figsize=(7, 6))\n",
    "plot.imview(\n",
    "    tangle[32],\n",
    "    title=\"Ground truth (central slice)\",\n",
    "    cmap=plot.cm.Blues,\n",
    "    cbar=None,\n",
    "    fig=fig,\n",
    "    ax=ax[0],\n",
    ")\n",
    "plot.imview(\n",
    "    tangle_recon[32],\n",
    "    title=\"TV Reconstruction (central slice)\\nSNR: %.2f (dB), MAE: %.3f\"\n",
    "    % (metric.snr(tangle, tangle_recon), metric.mae(tangle, tangle_recon)),\n",
    "    cmap=plot.cm.Blues,\n",
    "    fig=fig,\n",
    "    ax=ax[1],\n",
    ")\n",
    "divider = make_axes_locatable(ax[1])\n",
    "cax = divider.append_axes(\"right\", size=\"5%\", pad=0.2)\n",
    "fig.colorbar(ax[1].get_images()[0], cax=cax, label=\"arbitrary units\")\n",
    "fig.show()"
   ]
  }
 ],
 "metadata": {
  "language_info": {
   "codemirror_mode": {
    "name": "ipython",
    "version": 3
   },
   "file_extension": ".py",
   "mimetype": "text/x-python",
   "name": "python",
   "nbconvert_exporter": "python",
   "pygments_lexer": "ipython3",
   "version": "3.10.13"
  }
 },
 "nbformat": 4,
 "nbformat_minor": 5
}
