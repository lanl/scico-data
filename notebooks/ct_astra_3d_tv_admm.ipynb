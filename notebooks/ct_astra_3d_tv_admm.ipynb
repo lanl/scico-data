{
 "cells": [
  {
   "cell_type": "markdown",
   "id": "a28447aa",
   "metadata": {},
   "source": [
    "3D TV-Regularized Sparse-View CT Reconstruction\n",
    "===============================================\n",
    "\n",
    "This example demonstrates solution of a sparse-view, 3D CT\n",
    "reconstruction problem with isotropic total variation (TV)\n",
    "regularization\n",
    "\n",
    "  $$\\mathrm{argmin}_{\\mathbf{x}} \\; (1/2) \\| \\mathbf{y} - A \\mathbf{x}\n",
    "  \\|_2^2 + \\lambda \\| C \\mathbf{x} \\|_{2,1} \\;,$$\n",
    "\n",
    "where $A$ is the X-ray transform (the CT forward projection operator),\n",
    "$\\mathbf{y}$ is the sinogram, $C$ is a 3D finite difference operator,\n",
    "and $\\mathbf{x}$ is the desired image."
   ]
  },
  {
   "cell_type": "code",
   "execution_count": 1,
   "id": "af806a1e",
   "metadata": {
    "collapsed": false,
    "execution": {
     "iopub.execute_input": "2023-07-10T19:30:09.668396Z",
     "iopub.status.busy": "2023-07-10T19:30:09.667995Z",
     "iopub.status.idle": "2023-07-10T19:30:17.896930Z",
     "shell.execute_reply": "2023-07-10T19:30:17.895565Z"
    }
   },
   "outputs": [],
   "source": [
    "import numpy as np\n",
    "\n",
    "from mpl_toolkits.axes_grid1 import make_axes_locatable\n",
    "\n",
    "import scico.numpy as snp\n",
    "from scico import functional, linop, loss, metric, plot\n",
    "from scico.examples import create_tangle_phantom\n",
    "from scico.linop.xray.astra import XRayTransform\n",
    "from scico.optimize.admm import ADMM, LinearSubproblemSolver\n",
    "from scico.util import device_info\n",
    "plot.config_notebook_plotting()"
   ]
  },
  {
   "cell_type": "markdown",
   "id": "0c0f174f",
   "metadata": {},
   "source": [
    "Create a ground truth image and projector."
   ]
  },
  {
   "cell_type": "code",
   "execution_count": 2,
   "id": "a52cf163",
   "metadata": {
    "collapsed": false,
    "execution": {
     "iopub.execute_input": "2023-07-10T19:30:17.903846Z",
     "iopub.status.busy": "2023-07-10T19:30:17.903240Z",
     "iopub.status.idle": "2023-07-10T19:30:18.522216Z",
     "shell.execute_reply": "2023-07-10T19:30:18.520935Z"
    }
   },
   "outputs": [],
   "source": [
    "Nx = 128\n",
    "Ny = 256\n",
    "Nz = 64\n",
    "\n",
    "tangle = snp.array(create_tangle_phantom(Nx, Ny, Nz))\n",
    "\n",
    "n_projection = 10  # number of projections\n",
    "angles = np.linspace(0, np.pi, n_projection)  # evenly spaced projection angles\n",
    "A = XRayTransform(tangle.shape, [1.0, 1.0], [Nz, max(Nx, Ny)], angles)  # CT projection operator\n",
    "y = A @ tangle  # sinogram"
   ]
  },
  {
   "cell_type": "markdown",
   "id": "684d3aa6",
   "metadata": {},
   "source": [
    "Set up ADMM solver object."
   ]
  },
  {
   "cell_type": "code",
   "execution_count": 3,
   "id": "bf79d667",
   "metadata": {
    "collapsed": false,
    "execution": {
     "iopub.execute_input": "2023-07-10T19:30:18.528382Z",
     "iopub.status.busy": "2023-07-10T19:30:18.528046Z",
     "iopub.status.idle": "2023-07-10T19:30:19.296299Z",
     "shell.execute_reply": "2023-07-10T19:30:19.295355Z"
    }
   },
   "outputs": [],
   "source": [
    "λ = 2e0  # ℓ2,1 norm regularization parameter\n",
    "ρ = 5e0  # ADMM penalty parameter\n",
    "maxiter = 25  # number of ADMM iterations\n",
    "cg_tol = 1e-4  # CG relative tolerance\n",
    "cg_maxiter = 25  # maximum CG iterations per ADMM iteration\n",
    "\n",
    "# The append=0 option makes the results of horizontal and vertical\n",
    "# finite differences the same shape, which is required for the L21Norm,\n",
    "# which is used so that g(Cx) corresponds to isotropic TV.\n",
    "C = linop.FiniteDifference(input_shape=tangle.shape, append=0)\n",
    "g = λ * functional.L21Norm()\n",
    "\n",
    "f = loss.SquaredL2Loss(y=y, A=A)\n",
    "\n",
    "x0 = A.T(y)\n",
    "\n",
    "solver = ADMM(\n",
    "    f=f,\n",
    "    g_list=[g],\n",
    "    C_list=[C],\n",
    "    rho_list=[ρ],\n",
    "    x0=x0,\n",
    "    maxiter=maxiter,\n",
    "    subproblem_solver=LinearSubproblemSolver(cg_kwargs={\"tol\": cg_tol, \"maxiter\": cg_maxiter}),\n",
    "    itstat_options={\"display\": True, \"period\": 5},\n",
    ")"
   ]
  },
  {
   "cell_type": "markdown",
   "id": "64a78b8d",
   "metadata": {},
   "source": [
    "Run the solver."
   ]
  },
  {
   "cell_type": "code",
   "execution_count": 4,
   "id": "647daa87",
   "metadata": {
    "collapsed": false,
    "execution": {
     "iopub.execute_input": "2023-07-10T19:30:19.302243Z",
     "iopub.status.busy": "2023-07-10T19:30:19.301942Z",
     "iopub.status.idle": "2023-07-10T19:30:39.361643Z",
     "shell.execute_reply": "2023-07-10T19:30:39.359911Z"
    }
   },
   "outputs": [
    {
     "name": "stdout",
     "output_type": "stream",
     "text": [
      "Solving on GPU (NVIDIA GeForce RTX 2080 Ti)\n",
      "\n"
     ]
    },
    {
     "name": "stdout",
     "output_type": "stream",
     "text": [
      "Iter  Time      Objective  Prml Rsdl  Dual Rsdl  CG It  CG Res   \n",
      "-----------------------------------------------------------------\n",
      "   0  4.30e+00  1.559e+08  1.098e+03  4.701e+05     25  3.991e-03\n"
     ]
    },
    {
     "name": "stdout",
     "output_type": "stream",
     "text": [
      "   1  6.46e+00  7.967e+05  5.941e+02  1.191e+04     25  8.423e-04\r"
     ]
    },
    {
     "name": "stdout",
     "output_type": "stream",
     "text": [
      "   2  7.25e+00  3.105e+05  3.903e+02  2.013e+03     25  6.955e-04\r"
     ]
    },
    {
     "name": "stdout",
     "output_type": "stream",
     "text": [
      "   3  8.03e+00  2.343e+05  2.618e+02  1.039e+03     25  4.260e-04\r"
     ]
    },
    {
     "name": "stdout",
     "output_type": "stream",
     "text": [
      "   4  8.83e+00  2.033e+05  1.805e+02  7.315e+02     25  3.281e-04\r"
     ]
    },
    {
     "name": "stdout",
     "output_type": "stream",
     "text": [
      "   5  9.62e+00  1.861e+05  1.294e+02  5.987e+02     25  1.953e-04\n"
     ]
    },
    {
     "name": "stdout",
     "output_type": "stream",
     "text": [
      "   6  1.04e+01  1.746e+05  1.045e+02  5.050e+02     25  2.029e-04\r"
     ]
    },
    {
     "name": "stdout",
     "output_type": "stream",
     "text": [
      "   7  1.12e+01  1.676e+05  9.303e+01  3.989e+02     25  1.444e-04\r"
     ]
    },
    {
     "name": "stdout",
     "output_type": "stream",
     "text": [
      "   8  1.20e+01  1.659e+05  9.100e+01  2.433e+02     25  1.457e-04\r"
     ]
    },
    {
     "name": "stdout",
     "output_type": "stream",
     "text": [
      "   9  1.28e+01  1.661e+05  6.316e+01  1.384e+02     25  1.041e-04\r"
     ]
    },
    {
     "name": "stdout",
     "output_type": "stream",
     "text": [
      "  10  1.34e+01  1.657e+05  4.562e+01  1.051e+02     15  9.501e-05\n"
     ]
    },
    {
     "name": "stdout",
     "output_type": "stream",
     "text": [
      "  11  1.37e+01  1.654e+05  3.925e+01  9.427e+01      7  9.993e-05\r"
     ]
    },
    {
     "name": "stdout",
     "output_type": "stream",
     "text": [
      "  12  1.45e+01  1.648e+05  4.814e+01  8.045e+01     25  2.068e-04\r"
     ]
    },
    {
     "name": "stdout",
     "output_type": "stream",
     "text": [
      "  13  1.50e+01  1.641e+05  3.875e+01  8.507e+01     14  9.730e-05\r"
     ]
    },
    {
     "name": "stdout",
     "output_type": "stream",
     "text": [
      "  14  1.53e+01  1.638e+05  3.350e+01  7.113e+01      7  9.185e-05\r"
     ]
    },
    {
     "name": "stdout",
     "output_type": "stream",
     "text": [
      "  15  1.60e+01  1.641e+05  3.663e+01  5.942e+01     19  9.018e-05\n"
     ]
    },
    {
     "name": "stdout",
     "output_type": "stream",
     "text": [
      "  16  1.64e+01  1.638e+05  2.908e+01  6.437e+01     11  9.756e-05\r"
     ]
    },
    {
     "name": "stdout",
     "output_type": "stream",
     "text": [
      "  17  1.67e+01  1.636e+05  2.420e+01  4.043e+01      6  9.890e-05\r"
     ]
    },
    {
     "name": "stdout",
     "output_type": "stream",
     "text": [
      "  18  1.75e+01  1.637e+05  3.544e+01  4.078e+01     22  9.737e-05\r"
     ]
    },
    {
     "name": "stdout",
     "output_type": "stream",
     "text": [
      "  19  1.79e+01  1.634e+05  2.672e+01  5.404e+01     12  9.688e-05\r"
     ]
    },
    {
     "name": "stdout",
     "output_type": "stream",
     "text": [
      "  20  1.83e+01  1.632e+05  2.240e+01  3.613e+01      7  9.068e-05\n"
     ]
    },
    {
     "name": "stdout",
     "output_type": "stream",
     "text": [
      "  21  1.86e+01  1.633e+05  1.979e+01  2.069e+01      7  9.457e-05\r"
     ]
    },
    {
     "name": "stdout",
     "output_type": "stream",
     "text": [
      "  22  1.88e+01  1.631e+05  1.620e+01  1.479e+01      4  9.833e-05\r"
     ]
    },
    {
     "name": "stdout",
     "output_type": "stream",
     "text": [
      "  23  1.91e+01  1.632e+05  1.506e+01  1.291e+01      4  8.736e-05\r"
     ]
    },
    {
     "name": "stdout",
     "output_type": "stream",
     "text": [
      "  24  1.93e+01  1.631e+05  1.294e+01  8.363e+00      3  8.906e-05\r\n"
     ]
    },
    {
     "name": "stdout",
     "output_type": "stream",
     "text": [
      "TV Restruction\n",
      "SNR: 20.20 (dB), MAE: 0.017\n"
     ]
    }
   ],
   "source": [
    "print(f\"Solving on {device_info()}\\n\")\n",
    "solver.solve()\n",
    "hist = solver.itstat_object.history(transpose=True)\n",
    "tangle_recon = solver.x\n",
    "\n",
    "print(\n",
    "    \"TV Restruction\\nSNR: %.2f (dB), MAE: %.3f\"\n",
    "    % (metric.snr(tangle, tangle_recon), metric.mae(tangle, tangle_recon))\n",
    ")"
   ]
  },
  {
   "cell_type": "markdown",
   "id": "fecf3faa",
   "metadata": {},
   "source": [
    "Show the recovered image."
   ]
  },
  {
   "cell_type": "code",
   "execution_count": 5,
   "id": "04578719",
   "metadata": {
    "collapsed": false,
    "execution": {
     "iopub.execute_input": "2023-07-10T19:30:39.366412Z",
     "iopub.status.busy": "2023-07-10T19:30:39.365746Z",
     "iopub.status.idle": "2023-07-10T19:30:42.115934Z",
     "shell.execute_reply": "2023-07-10T19:30:42.114261Z"
    }
   },
   "outputs": [
    {
     "data": {
      "image/png": "[encoded data removed]",
      "text/plain": [
       "<Figure size 700x500 with 4 Axes>"
      ]
     },
     "metadata": {},
     "output_type": "display_data"
    }
   ],
   "source": [
    "fig, ax = plot.subplots(nrows=1, ncols=2, figsize=(7, 5))\n",
    "plot.imview(tangle[32], title=\"Ground truth (central slice)\", cbar=None, fig=fig, ax=ax[0])\n",
    "\n",
    "plot.imview(\n",
    "    tangle_recon[32],\n",
    "    title=\"TV Reconstruction (central slice)\\nSNR: %.2f (dB), MAE: %.3f\"\n",
    "    % (metric.snr(tangle, tangle_recon), metric.mae(tangle, tangle_recon)),\n",
    "    fig=fig,\n",
    "    ax=ax[1],\n",
    ")\n",
    "divider = make_axes_locatable(ax[1])\n",
    "cax = divider.append_axes(\"right\", size=\"5%\", pad=0.2)\n",
    "fig.colorbar(ax[1].get_images()[0], cax=cax, label=\"arbitrary units\")\n",
    "fig.show()"
   ]
  }
 ],
 "metadata": {
  "language_info": {
   "codemirror_mode": {
    "name": "ipython",
    "version": 3
   },
   "file_extension": ".py",
   "mimetype": "text/x-python",
   "name": "python",
   "nbconvert_exporter": "python",
   "pygments_lexer": "ipython3",
   "version": "3.9.16"
  }
 },
 "nbformat": 4,
 "nbformat_minor": 5
}
