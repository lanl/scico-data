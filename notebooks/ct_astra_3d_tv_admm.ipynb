{
 "cells": [
  {
   "cell_type": "markdown",
   "id": "02b994e9",
   "metadata": {},
   "source": [
    "3D TV-Regularized Sparse-View CT Reconstruction (ADMM Solver)\n",
    "=============================================================\n",
    "\n",
    "This example demonstrates solution of a sparse-view, 3D CT\n",
    "reconstruction problem with isotropic total variation (TV)\n",
    "regularization\n",
    "\n",
    "  $$\\mathrm{argmin}_{\\mathbf{x}} \\; (1/2) \\| \\mathbf{y} - C \\mathbf{x}\n",
    "  \\|_2^2 + \\lambda \\| D \\mathbf{x} \\|_{2,1} \\;,$$\n",
    "\n",
    "where $C$ is the X-ray transform (the CT forward projection operator),\n",
    "$\\mathbf{y}$ is the sinogram, $D$ is a 3D finite difference operator,\n",
    "and $\\mathbf{x}$ is the desired image.\n",
    "\n",
    "In this example the problem is solved via ADMM, while proximal\n",
    "ADMM is used in a [companion example](ct_astra_3d_tv_padmm.rst)."
   ]
  },
  {
   "cell_type": "code",
   "execution_count": 1,
   "id": "4640bccc",
   "metadata": {
    "collapsed": false,
    "execution": {
     "iopub.execute_input": "2024-01-19T01:43:15.532816Z",
     "iopub.status.busy": "2024-01-19T01:43:15.532392Z",
     "iopub.status.idle": "2024-01-19T01:43:21.030779Z",
     "shell.execute_reply": "2024-01-19T01:43:21.029803Z"
    }
   },
   "outputs": [],
   "source": [
    "import numpy as np\n",
    "\n",
    "from mpl_toolkits.axes_grid1 import make_axes_locatable\n",
    "\n",
    "import scico.numpy as snp\n",
    "from scico import functional, linop, loss, metric, plot\n",
    "from scico.examples import create_tangle_phantom\n",
    "from scico.linop.xray.astra import XRayTransform3D\n",
    "from scico.optimize.admm import ADMM, LinearSubproblemSolver\n",
    "from scico.util import device_info\n",
    "plot.config_notebook_plotting()"
   ]
  },
  {
   "cell_type": "markdown",
   "id": "d1a58cd7",
   "metadata": {},
   "source": [
    "Create a ground truth image and projector."
   ]
  },
  {
   "cell_type": "code",
   "execution_count": 2,
   "id": "7de409e3",
   "metadata": {
    "collapsed": false,
    "execution": {
     "iopub.execute_input": "2024-01-19T01:43:21.037271Z",
     "iopub.status.busy": "2024-01-19T01:43:21.036746Z",
     "iopub.status.idle": "2024-01-19T01:43:21.324478Z",
     "shell.execute_reply": "2024-01-19T01:43:21.323371Z"
    }
   },
   "outputs": [],
   "source": [
    "Nx = 128\n",
    "Ny = 256\n",
    "Nz = 64\n",
    "\n",
    "tangle = snp.array(create_tangle_phantom(Nx, Ny, Nz))\n",
    "\n",
    "n_projection = 10  # number of projections\n",
    "angles = np.linspace(0, np.pi, n_projection)  # evenly spaced projection angles\n",
    "C = XRayTransform3D(\n",
    "    tangle.shape, det_count=[Nz, max(Nx, Ny)], det_spacing=[1.0, 1.0], angles=angles\n",
    ")  # CT projection operator\n",
    "y = C @ tangle  # sinogram"
   ]
  },
  {
   "cell_type": "markdown",
   "id": "bb07df70",
   "metadata": {},
   "source": [
    "Set up problem and solver."
   ]
  },
  {
   "cell_type": "code",
   "execution_count": 3,
   "id": "9de945ed",
   "metadata": {
    "collapsed": false,
    "execution": {
     "iopub.execute_input": "2024-01-19T01:43:21.330913Z",
     "iopub.status.busy": "2024-01-19T01:43:21.330425Z",
     "iopub.status.idle": "2024-01-19T01:43:22.158306Z",
     "shell.execute_reply": "2024-01-19T01:43:22.157081Z"
    }
   },
   "outputs": [],
   "source": [
    "λ = 2e0  # ℓ2,1 norm regularization parameter\n",
    "ρ = 5e0  # ADMM penalty parameter\n",
    "maxiter = 25  # number of ADMM iterations\n",
    "cg_tol = 1e-4  # CG relative tolerance\n",
    "cg_maxiter = 25  # maximum CG iterations per ADMM iteration\n",
    "\n",
    "# The append=0 option makes the results of horizontal and vertical\n",
    "# finite differences the same shape, which is required for the L21Norm,\n",
    "# which is used so that g(Ax) corresponds to isotropic TV.\n",
    "D = linop.FiniteDifference(input_shape=tangle.shape, append=0)\n",
    "g = λ * functional.L21Norm()\n",
    "f = loss.SquaredL2Loss(y=y, A=C)\n",
    "\n",
    "solver = ADMM(\n",
    "    f=f,\n",
    "    g_list=[g],\n",
    "    C_list=[C],\n",
    "    rho_list=[ρ],\n",
    "    x0=C.T(y),\n",
    "    maxiter=maxiter,\n",
    "    subproblem_solver=LinearSubproblemSolver(cg_kwargs={\"tol\": cg_tol, \"maxiter\": cg_maxiter}),\n",
    "    itstat_options={\"display\": True, \"period\": 5},\n",
    ")"
   ]
  },
  {
   "cell_type": "markdown",
   "id": "65e0e7c9",
   "metadata": {},
   "source": [
    "Run the solver."
   ]
  },
  {
   "cell_type": "code",
   "execution_count": 4,
   "id": "25fafd59",
   "metadata": {
    "collapsed": false,
    "execution": {
     "iopub.execute_input": "2024-01-19T01:43:22.164757Z",
     "iopub.status.busy": "2024-01-19T01:43:22.164318Z",
     "iopub.status.idle": "2024-01-19T01:44:52.288544Z",
     "shell.execute_reply": "2024-01-19T01:44:52.287164Z"
    }
   },
   "outputs": [
    {
     "name": "stdout",
     "output_type": "stream",
     "text": [
      "Solving on GPU (NVIDIA GeForce RTX 2080 Ti)\n",
      "\n"
     ]
    },
    {
     "name": "stdout",
     "output_type": "stream",
     "text": [
      "Iter  Time      Objective  Prml Rsdl  Dual Rsdl  CG It  CG Res   \n",
      "-----------------------------------------------------------------\n",
      "   0  6.30e+00  1.147e+15  3.992e+01  2.019e+09      5  3.161e-05\n"
     ]
    },
    {
     "name": "stdout",
     "output_type": "stream",
     "text": [
      "   1  1.08e+01  7.969e+14  6.623e+00  1.682e+09      5  3.440e-05\r"
     ]
    },
    {
     "name": "stdout",
     "output_type": "stream",
     "text": [
      "   2  1.43e+01  5.534e+14  5.347e+00  1.402e+09      5  3.418e-05\r"
     ]
    },
    {
     "name": "stdout",
     "output_type": "stream",
     "text": [
      "   3  1.77e+01  3.843e+14  4.746e+00  1.168e+09      5  3.443e-05\r"
     ]
    },
    {
     "name": "stdout",
     "output_type": "stream",
     "text": [
      "   4  2.11e+01  2.669e+14  4.163e+00  9.736e+08      5  3.544e-05\r"
     ]
    },
    {
     "name": "stdout",
     "output_type": "stream",
     "text": [
      "   5  2.46e+01  1.853e+14  3.241e+00  8.113e+08      5  3.767e-05\n"
     ]
    },
    {
     "name": "stdout",
     "output_type": "stream",
     "text": [
      "   6  2.79e+01  1.287e+14  2.681e+00  6.761e+08      5  4.068e-05\r"
     ]
    },
    {
     "name": "stdout",
     "output_type": "stream",
     "text": [
      "   7  3.14e+01  8.938e+13  2.454e+00  5.634e+08      5  3.938e-05\r"
     ]
    },
    {
     "name": "stdout",
     "output_type": "stream",
     "text": [
      "   8  3.44e+01  6.207e+13  1.867e+00  4.695e+08      5  4.060e-05\r"
     ]
    },
    {
     "name": "stdout",
     "output_type": "stream",
     "text": [
      "   9  3.77e+01  4.311e+13  1.531e+00  3.913e+08      5  4.247e-05\r"
     ]
    },
    {
     "name": "stdout",
     "output_type": "stream",
     "text": [
      "  10  4.11e+01  2.994e+13  1.278e+00  3.261e+08      5  4.373e-05\n"
     ]
    },
    {
     "name": "stdout",
     "output_type": "stream",
     "text": [
      "  11  4.45e+01  2.079e+13  1.189e+00  2.717e+08      5  4.583e-05\r"
     ]
    },
    {
     "name": "stdout",
     "output_type": "stream",
     "text": [
      "  12  4.77e+01  1.444e+13  9.798e-01  2.264e+08      5  4.659e-05\r"
     ]
    },
    {
     "name": "stdout",
     "output_type": "stream",
     "text": [
      "  13  5.10e+01  1.003e+13  7.683e-01  1.887e+08      5  4.807e-05\r"
     ]
    },
    {
     "name": "stdout",
     "output_type": "stream",
     "text": [
      "  14  5.45e+01  6.962e+12  6.159e-01  1.573e+08      5  5.016e-05\r"
     ]
    },
    {
     "name": "stdout",
     "output_type": "stream",
     "text": [
      "  15  5.79e+01  4.835e+12  6.285e-01  1.310e+08      5  5.210e-05\n"
     ]
    },
    {
     "name": "stdout",
     "output_type": "stream",
     "text": [
      "  16  6.13e+01  3.358e+12  4.419e-01  1.092e+08      5  5.407e-05\r"
     ]
    },
    {
     "name": "stdout",
     "output_type": "stream",
     "text": [
      "  17  6.48e+01  2.332e+12  3.518e-01  9.100e+07      5  5.768e-05\r"
     ]
    },
    {
     "name": "stdout",
     "output_type": "stream",
     "text": [
      "  18  6.83e+01  1.619e+12  2.993e-01  7.584e+07      5  5.906e-05\r"
     ]
    },
    {
     "name": "stdout",
     "output_type": "stream",
     "text": [
      "  19  7.18e+01  1.125e+12  2.779e-01  6.320e+07      5  6.152e-05\r"
     ]
    },
    {
     "name": "stdout",
     "output_type": "stream",
     "text": [
      "  20  7.52e+01  7.809e+11  2.211e-01  5.266e+07      5  6.416e-05\n"
     ]
    },
    {
     "name": "stdout",
     "output_type": "stream",
     "text": [
      "  21  7.88e+01  5.423e+11  1.829e-01  4.389e+07      5  6.700e-05\r"
     ]
    },
    {
     "name": "stdout",
     "output_type": "stream",
     "text": [
      "  22  8.21e+01  3.766e+11  1.608e-01  3.657e+07      5  7.044e-05\r"
     ]
    },
    {
     "name": "stdout",
     "output_type": "stream",
     "text": [
      "  23  8.54e+01  2.615e+11  1.467e-01  3.048e+07      5  7.353e-05\r"
     ]
    },
    {
     "name": "stdout",
     "output_type": "stream",
     "text": [
      "  24  8.90e+01  1.816e+11  1.214e-01  2.540e+07      5  7.746e-05\r\n"
     ]
    },
    {
     "name": "stdout",
     "output_type": "stream",
     "text": [
      "TV Restruction\n",
      "SNR: -26.06 (dB), MAE: 8.397\n"
     ]
    }
   ],
   "source": [
    "print(f\"Solving on {device_info()}\\n\")\n",
    "tangle_recon = solver.solve()\n",
    "hist = solver.itstat_object.history(transpose=True)\n",
    "\n",
    "print(\n",
    "    \"TV Restruction\\nSNR: %.2f (dB), MAE: %.3f\"\n",
    "    % (metric.snr(tangle, tangle_recon), metric.mae(tangle, tangle_recon))\n",
    ")"
   ]
  },
  {
   "cell_type": "markdown",
   "id": "49ae4a90",
   "metadata": {},
   "source": [
    "Show the recovered image."
   ]
  },
  {
   "cell_type": "code",
   "execution_count": 5,
   "id": "68877ce4",
   "metadata": {
    "collapsed": false,
    "execution": {
     "iopub.execute_input": "2024-01-19T01:44:52.294811Z",
     "iopub.status.busy": "2024-01-19T01:44:52.294460Z",
     "iopub.status.idle": "2024-01-19T01:44:53.205240Z",
     "shell.execute_reply": "2024-01-19T01:44:53.203890Z"
    }
   },
   "outputs": [
    {
     "data": {
      "image/png": "[encoded data removed]",
      "text/plain": [
       "<Figure size 700x500 with 4 Axes>"
      ]
     },
     "metadata": {},
     "output_type": "display_data"
    }
   ],
   "source": [
    "fig, ax = plot.subplots(nrows=1, ncols=2, figsize=(7, 5))\n",
    "plot.imview(tangle[32], title=\"Ground truth (central slice)\", cbar=None, fig=fig, ax=ax[0])\n",
    "\n",
    "plot.imview(\n",
    "    tangle_recon[32],\n",
    "    title=\"TV Reconstruction (central slice)\\nSNR: %.2f (dB), MAE: %.3f\"\n",
    "    % (metric.snr(tangle, tangle_recon), metric.mae(tangle, tangle_recon)),\n",
    "    fig=fig,\n",
    "    ax=ax[1],\n",
    ")\n",
    "divider = make_axes_locatable(ax[1])\n",
    "cax = divider.append_axes(\"right\", size=\"5%\", pad=0.2)\n",
    "fig.colorbar(ax[1].get_images()[0], cax=cax, label=\"arbitrary units\")\n",
    "fig.show()"
   ]
  }
 ],
 "metadata": {
  "language_info": {
   "codemirror_mode": {
    "name": "ipython",
    "version": 3
   },
   "file_extension": ".py",
   "mimetype": "text/x-python",
   "name": "python",
   "nbconvert_exporter": "python",
   "pygments_lexer": "ipython3",
   "version": "3.10.13"
  }
 },
 "nbformat": 4,
 "nbformat_minor": 5
}
