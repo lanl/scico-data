{
 "cells": [
  {
   "cell_type": "markdown",
   "id": "11a09df4",
   "metadata": {},
   "source": [
    "Basis Pursuit DeNoising (Accelerated PGM)\n",
    "=========================================\n",
    "\n",
    "This example demonstrates the use of class [pgm.AcceleratedPGM](../_autosummary/scico.pgm.rst#scico.pgm.AcceleratedPGM) to solve the sparse coding problem problem\n",
    "\n",
    "  $$\\mathrm{argmin}_{\\mathbf{x}} \\; \\| \\mathbf{y} - D \\mathbf{x} \\|_2^2 + \\lambda \\| \\mathbf{x} \\|_1\\;,$$\n",
    "\n",
    "where $D$ the dictionary, $\\mathbf{y}$ the signal to be represented, and $\\mathbf{x}$ is the sparse representation."
   ]
  },
  {
   "cell_type": "code",
   "execution_count": 1,
   "id": "100f6603",
   "metadata": {
    "collapsed": false,
    "execution": {
     "iopub.execute_input": "2021-09-20T21:09:42.086303Z",
     "iopub.status.busy": "2021-09-20T21:09:42.085821Z",
     "iopub.status.idle": "2021-09-20T21:09:43.365253Z",
     "shell.execute_reply": "2021-09-20T21:09:43.363824Z"
    }
   },
   "outputs": [],
   "source": [
    "import numpy as np\n",
    "\n",
    "import jax\n",
    "\n",
    "from scico import functional, linop, loss, plot\n",
    "from scico.pgm import AcceleratedPGM\n",
    "plot.config_notebook_plotting()"
   ]
  },
  {
   "cell_type": "markdown",
   "id": "7de86f32",
   "metadata": {},
   "source": [
    "Construct a random dictionary, a reference random sparse representation, and a test signal consisting of the synthesis of the reference sparse representation."
   ]
  },
  {
   "cell_type": "code",
   "execution_count": 2,
   "id": "5f7f4f1d",
   "metadata": {
    "collapsed": false,
    "execution": {
     "iopub.execute_input": "2021-09-20T21:09:43.373469Z",
     "iopub.status.busy": "2021-09-20T21:09:43.372026Z",
     "iopub.status.idle": "2021-09-20T21:09:44.344214Z",
     "shell.execute_reply": "2021-09-20T21:09:44.342907Z"
    }
   },
   "outputs": [],
   "source": [
    "m = 512  # Signal size\n",
    "n = 4 * m  # Dictionary size\n",
    "s = 32  # Sparsity level (number of non-zeros)\n",
    "σ = 0.5  # Noise level\n",
    "\n",
    "np.random.seed(12345)\n",
    "D = np.random.randn(m, n)\n",
    "L0 = np.linalg.norm(D, 2) ** 2\n",
    "\n",
    "x_gt = np.zeros(n)  # true signal\n",
    "idx = np.random.permutation(list(range(0, n - 1)))\n",
    "x_gt[idx[0:s]] = np.random.randn(s)\n",
    "y = D @ x_gt + σ * np.random.randn(m)  # synthetic signal\n",
    "\n",
    "x_gt = jax.device_put(x_gt)  # Convert to jax array, push to GPU\n",
    "y = jax.device_put(y)  # Convert to jax array, push to GPU"
   ]
  },
  {
   "cell_type": "markdown",
   "id": "fab1a1af",
   "metadata": {},
   "source": [
    "Set up the forward operator and AcceleratedPGM solver object."
   ]
  },
  {
   "cell_type": "code",
   "execution_count": 3,
   "id": "907efb2a",
   "metadata": {
    "collapsed": false,
    "execution": {
     "iopub.execute_input": "2021-09-20T21:09:44.350715Z",
     "iopub.status.busy": "2021-09-20T21:09:44.349761Z",
     "iopub.status.idle": "2021-09-20T21:09:44.866547Z",
     "shell.execute_reply": "2021-09-20T21:09:44.867665Z"
    }
   },
   "outputs": [],
   "source": [
    "maxiter = 100\n",
    "λ = 2.98e1\n",
    "A = linop.MatrixOperator(D)\n",
    "f = loss.SquaredL2Loss(y=y, A=A)\n",
    "g = λ * functional.L1Norm()\n",
    "solver = AcceleratedPGM(f=f, g=g, L0=L0, x0=A.adj(y), maxiter=maxiter, verbose=True)"
   ]
  },
  {
   "cell_type": "markdown",
   "id": "a7f58d89",
   "metadata": {},
   "source": [
    "Run the solver."
   ]
  },
  {
   "cell_type": "code",
   "execution_count": 4,
   "id": "8c4ecf8e",
   "metadata": {
    "collapsed": false,
    "execution": {
     "iopub.execute_input": "2021-09-20T21:09:44.872893Z",
     "iopub.status.busy": "2021-09-20T21:09:44.872299Z",
     "iopub.status.idle": "2021-09-20T21:09:47.702756Z",
     "shell.execute_reply": "2021-09-20T21:09:47.702146Z"
    }
   },
   "outputs": [
    {
     "name": "stdout",
     "output_type": "stream",
     "text": [
      "Iter  Objective  L         Residual\n",
      "-----------------------------------\n",
      "   0  7.795e+09  4.611e+03  4.126e+03\n"
     ]
    },
    {
     "name": "stdout",
     "output_type": "stream",
     "text": [
      "   1  2.097e+09  4.611e+03  1.310e+03\n",
      "   2  5.399e+08  4.611e+03  4.524e+02\n",
      "   3  1.406e+08  4.611e+03  1.845e+02\n",
      "   4  4.021e+07  4.611e+03  1.002e+02\n",
      "   5  1.382e+07  4.611e+03  6.608e+01\n",
      "   6  5.955e+06  4.611e+03  4.542e+01\n",
      "   7  3.351e+06  4.611e+03  3.125e+01\n",
      "   8  2.373e+06  4.611e+03  2.261e+01\n",
      "   9  1.771e+06  4.611e+03  1.751e+01\n",
      "  10  1.211e+06  4.611e+03  1.369e+01\n",
      "  11  7.238e+05  4.611e+03  1.023e+01\n",
      "  12  3.867e+05  4.611e+03  7.277e+00\n",
      "  13  2.045e+05  4.611e+03  5.249e+00\n",
      "  14  1.251e+05  4.611e+03  4.212e+00\n",
      "  15  9.184e+04  4.611e+03  3.683e+00\n",
      "  16  7.175e+04  4.611e+03  3.203e+00\n",
      "  17  5.452e+04  4.611e+03  2.665e+00\n",
      "  18  4.005e+04  4.611e+03  2.153e+00\n",
      "  19  2.904e+04  4.611e+03  1.756e+00\n",
      "  20  2.102e+04  4.611e+03  1.476e+00\n",
      "  21  1.503e+04  4.611e+03  1.254e+00\n",
      "  22  1.064e+04  4.611e+03  1.066e+00\n",
      "  23  7.613e+03  4.611e+03  9.034e-01\n",
      "  24  5.804e+03  4.611e+03  7.621e-01\n",
      "  25  4.800e+03  4.611e+03  6.525e-01\n",
      "  26  4.155e+03  4.611e+03  5.744e-01\n",
      "  27  3.596e+03  4.611e+03  5.036e-01\n",
      "  28  3.034e+03  4.611e+03  4.274e-01\n",
      "  29  2.518e+03  4.611e+03  3.595e-01\n",
      "  30  2.126e+03  4.611e+03  3.078e-01\n",
      "  31  1.849e+03  4.611e+03  2.687e-01\n",
      "  32  1.642e+03  4.611e+03  2.391e-01\n",
      "  33  1.466e+03  4.611e+03  2.222e-01\n",
      "  34  1.312e+03  4.611e+03  2.004e-01\n",
      "  35  1.186e+03  4.611e+03  1.782e-01\n",
      "  36  1.083e+03  4.611e+03  1.549e-01\n",
      "  37  1.006e+03  4.611e+03  1.361e-01\n",
      "  38  9.468e+02  4.611e+03  1.197e-01\n",
      "  39  9.051e+02  4.611e+03  1.049e-01\n",
      "  40  8.819e+02  4.611e+03  9.747e-02\n",
      "  41  8.693e+02  4.611e+03  8.916e-02\n",
      "  42  8.638e+02  4.611e+03  8.379e-02\n",
      "  43  8.617e+02  4.611e+03  7.406e-02\n",
      "  44  8.629e+02  4.611e+03  6.725e-02\n",
      "  45  8.617e+02  4.611e+03  5.961e-02\n",
      "  46  8.588e+02  4.611e+03  5.390e-02\n",
      "  47  8.519e+02  4.611e+03  4.903e-02\n",
      "  48  8.442e+02  4.611e+03  4.319e-02\n",
      "  49  8.367e+02  4.611e+03  3.637e-02\n",
      "  50  8.306e+02  4.611e+03  2.501e-02\n",
      "  51  8.270e+02  4.611e+03  2.012e-02\n",
      "  52  8.251e+02  4.611e+03  1.786e-02\n",
      "  53  8.243e+02  4.611e+03  1.639e-02\n",
      "  54  8.244e+02  4.611e+03  1.716e-02\n",
      "  55  8.246e+02  4.611e+03  1.604e-02\n",
      "  56  8.249e+02  4.611e+03  1.536e-02\n",
      "  57  8.249e+02  4.611e+03  1.426e-02\n",
      "  58  8.247e+02  4.611e+03  1.538e-02\n"
     ]
    },
    {
     "name": "stdout",
     "output_type": "stream",
     "text": [
      "  59  8.244e+02  4.611e+03  1.265e-02\n",
      "  60  8.240e+02  4.611e+03  1.229e-02\n",
      "  61  8.234e+02  4.611e+03  1.125e-02\n",
      "  62  8.228e+02  4.611e+03  1.075e-02\n",
      "  63  8.221e+02  4.611e+03  9.987e-03\n",
      "  64  8.215e+02  4.611e+03  9.179e-03\n",
      "  65  8.210e+02  4.611e+03  1.101e-02\n",
      "  66  8.206e+02  4.611e+03  7.594e-03\n",
      "  67  8.203e+02  4.611e+03  8.157e-03\n",
      "  68  8.202e+02  4.611e+03  6.300e-03\n",
      "  69  8.201e+02  4.611e+03  7.833e-03\n",
      "  70  8.201e+02  4.611e+03  6.280e-03\n",
      "  71  8.201e+02  4.611e+03  7.017e-03\n",
      "  72  8.201e+02  4.611e+03  5.411e-03\n",
      "  73  8.201e+02  4.611e+03  4.842e-03\n",
      "  74  8.200e+02  4.611e+03  4.669e-03\n",
      "  75  8.200e+02  4.611e+03  4.320e-03\n",
      "  76  8.200e+02  4.611e+03  4.308e-03\n",
      "  77  8.199e+02  4.611e+03  3.889e-03\n",
      "  78  8.198e+02  4.611e+03  3.467e-03\n",
      "  79  8.197e+02  4.611e+03  3.102e-03\n",
      "  80  8.197e+02  4.611e+03  2.978e-03\n",
      "  81  8.196e+02  4.611e+03  2.504e-03\n",
      "  82  8.196e+02  4.611e+03  2.324e-03\n",
      "  83  8.196e+02  4.611e+03  2.238e-03\n",
      "  84  8.196e+02  4.611e+03  2.207e-03\n",
      "  85  8.196e+02  4.611e+03  2.227e-03\n",
      "  86  8.196e+02  4.611e+03  2.541e-03\n",
      "  87  8.196e+02  4.611e+03  2.320e-03\n",
      "  88  8.196e+02  4.611e+03  2.407e-03\n",
      "  89  8.196e+02  4.611e+03  2.051e-03\n",
      "  90  8.195e+02  4.611e+03  1.815e-03\n",
      "  91  8.195e+02  4.611e+03  1.688e-03\n",
      "  92  8.195e+02  4.611e+03  1.948e-03\n",
      "  93  8.195e+02  4.611e+03  1.494e-03\n",
      "  94  8.195e+02  4.611e+03  1.362e-03\n",
      "  95  8.195e+02  4.611e+03  1.294e-03\n",
      "  96  8.195e+02  4.611e+03  1.317e-03\n",
      "  97  8.195e+02  4.611e+03  1.384e-03\n",
      "  98  8.195e+02  4.611e+03  1.132e-03\n",
      "  99  8.195e+02  4.611e+03  1.059e-03\n"
     ]
    }
   ],
   "source": [
    "x = solver.solve()\n",
    "hist = solver.itstat_object.history(transpose=True)"
   ]
  },
  {
   "cell_type": "markdown",
   "id": "69c2938e",
   "metadata": {},
   "source": [
    "Plot the recovered coefficients and convergence statistics."
   ]
  },
  {
   "cell_type": "code",
   "execution_count": 5,
   "id": "c055a388",
   "metadata": {
    "collapsed": false,
    "execution": {
     "iopub.execute_input": "2021-09-20T21:09:47.712644Z",
     "iopub.status.busy": "2021-09-20T21:09:47.712050Z",
     "iopub.status.idle": "2021-09-20T21:09:48.382671Z",
     "shell.execute_reply": "2021-09-20T21:09:48.383149Z"
    }
   },
   "outputs": [
    {
     "data": {
      "image/png": "[encoded data removed]",
      "text/plain": [
       "<Figure size 864x360 with 2 Axes>"
      ]
     },
     "metadata": {
      "needs_background": "light"
     },
     "output_type": "display_data"
    }
   ],
   "source": [
    "fig, ax = plot.subplots(nrows=1, ncols=2, figsize=(12, 5))\n",
    "plot.plot(\n",
    "    np.vstack((x_gt, x)).T,\n",
    "    title=\"Coefficients\",\n",
    "    lgnd=(\"Ground Truth\", \"Recovered\"),\n",
    "    fig=fig,\n",
    "    ax=ax[0],\n",
    ")\n",
    "plot.plot(\n",
    "    np.vstack((hist.Objective, hist.Residual)).T,\n",
    "    ptyp=\"semilogy\",\n",
    "    title=\"Convergence\",\n",
    "    xlbl=\"Iteration\",\n",
    "    lgnd=(\"Objective\", \"Residual\"),\n",
    "    fig=fig,\n",
    "    ax=ax[1],\n",
    ")\n",
    "fig.show()"
   ]
  }
 ],
 "metadata": {
  "language_info": {
   "codemirror_mode": {
    "name": "ipython",
    "version": 3
   },
   "file_extension": ".py",
   "mimetype": "text/x-python",
   "name": "python",
   "nbconvert_exporter": "python",
   "pygments_lexer": "ipython3",
   "version": "3.8.11"
  }
 },
 "nbformat": 4,
 "nbformat_minor": 5
}
