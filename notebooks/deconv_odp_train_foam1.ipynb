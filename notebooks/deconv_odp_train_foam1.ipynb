{
 "cells": [
  {
   "cell_type": "markdown",
   "id": "2195ca3f",
   "metadata": {},
   "source": [
    "Deconvolution Training and Reconstructions with ODP\n",
    "===================================================\n",
    "\n",
    "This example demonstrates the training and application of the unrolled\n",
    "optimization with deep priors (ODP) with proximal map architecture\n",
    "described in <cite data-cite=\"diamond-2018-odp\"/> for a deconvolution (deblurring)\n",
    "problem.\n",
    "\n",
    "The source images are foam phantoms generated with xdesign.\n",
    "\n",
    "A class\n",
    "[scico.flax.ODPNet](../_autosummary/scico.flax.rst#scico.flax.ODPNet)\n",
    "implements the ODP architecture, which solves the optimization problem\n",
    "\n",
    "$$\\mathrm{argmin}_{\\mathbf{x}} \\; \\| A \\mathbf{x} - \\mathbf{y} \\|_2^2\n",
    "+ r(\\mathbf{x}) \\;,$$\n",
    "\n",
    "where $A$ is a circular convolution, $\\mathbf{y}$ is a set of blurred\n",
    "images, $r$ is a regularizer and $\\mathbf{x}$ is the set of deblurred\n",
    "images. The ODP, proximal map architecture, abstracts the iterative\n",
    "solution by an unrolled network where each iteration corresponds to a\n",
    "different stage in the ODP network and updates the prediction by\n",
    "solving\n",
    "\n",
    "$$\\mathbf{x}^{k+1} = \\mathrm{argmin}_{\\mathbf{x}} \\; \\alpha_k \\| A\n",
    "\\mathbf{x} - \\mathbf{y} \\|_2^2 + \\frac{1}{2} \\| \\mathbf{x} -\n",
    "\\mathbf{x}^k - \\mathbf{x}^{k+1/2} \\|_2^2 \\;,$$\n",
    "\n",
    "which for the deconvolution problem corresponds to\n",
    "\n",
    "$$\\mathbf{x}^{k+1} = \\mathcal{F}^{-1} \\mathrm{diag} (\\alpha_k |\n",
    "\\mathcal{K}|^2 + 1 )^{-1} \\mathcal{F} \\, (\\alpha_k K^T * \\mathbf{y} +\n",
    "\\mathbf{x}^k + \\mathbf{x}^{k+1/2}) \\;,$$\n",
    "\n",
    "where $k$ is the index of the stage (iteration), $\\mathbf{x}^k +\n",
    "\\mathbf{x}^{k+1/2} = \\mathrm{ResNet}(\\mathbf{x}^{k})$ is the\n",
    "regularization (implemented as a residual convolutional neural network),\n",
    "$\\mathbf{x}^k$ is the output of the previous stage, $\\alpha_k > 0$ is a\n",
    "learned stage-wise parameter weighting the contribution of the fidelity\n",
    "term, $\\mathcal{F}$ is the DFT, $K$ is the blur kernel, and\n",
    "$\\mathcal{K}$ is the DFT of $K$. The output of the final stage is the\n",
    "set of deblurred images."
   ]
  },
  {
   "cell_type": "code",
   "execution_count": 1,
   "id": "99bffe5e",
   "metadata": {
    "collapsed": false,
    "execution": {
     "iopub.execute_input": "2024-10-11T21:44:05.305976Z",
     "iopub.status.busy": "2024-10-11T21:44:05.305531Z",
     "iopub.status.idle": "2024-10-11T21:45:10.510421Z",
     "shell.execute_reply": "2024-10-11T21:45:10.509260Z"
    }
   },
   "outputs": [
    {
     "name": "stdout",
     "output_type": "stream",
     "text": [
      "Platform:  gpu\n"
     ]
    }
   ],
   "source": [
    "# isort: off\n",
    "import os\n",
    "from functools import partial\n",
    "from time import time\n",
    "\n",
    "import numpy as np\n",
    "\n",
    "import logging\n",
    "import ray\n",
    "\n",
    "ray.init(logging_level=logging.ERROR)  # need to call init before jax import: ray-project/ray#44087\n",
    "\n",
    "# Set an arbitrary processor count (only applies if GPU is not available).\n",
    "os.environ[\"XLA_FLAGS\"] = \"--xla_force_host_platform_device_count=8\"\n",
    "\n",
    "import jax\n",
    "\n",
    "try:\n",
    "    from jax.extend.backend import get_backend  # introduced in jax 0.4.33\n",
    "except ImportError:\n",
    "    from jax.lib.xla_bridge import get_backend\n",
    "\n",
    "from mpl_toolkits.axes_grid1 import make_axes_locatable\n",
    "\n",
    "from scico import flax as sflax\n",
    "from scico import metric, plot\n",
    "from scico.flax.examples import load_blur_data\n",
    "from scico.flax.train.traversals import clip_positive, construct_traversal\n",
    "from scico.linop import CircularConvolve\n",
    "plot.config_notebook_plotting()\n",
    "\n",
    "\n",
    "platform = get_backend().platform\n",
    "print(\"Platform: \", platform)"
   ]
  },
  {
   "cell_type": "markdown",
   "id": "0ccb40b6",
   "metadata": {},
   "source": [
    "Define blur operator."
   ]
  },
  {
   "cell_type": "code",
   "execution_count": 2,
   "id": "e83db394",
   "metadata": {
    "collapsed": false,
    "execution": {
     "iopub.execute_input": "2024-10-11T21:45:10.513656Z",
     "iopub.status.busy": "2024-10-11T21:45:10.513040Z",
     "iopub.status.idle": "2024-10-11T21:45:10.650643Z",
     "shell.execute_reply": "2024-10-11T21:45:10.649515Z"
    }
   },
   "outputs": [],
   "source": [
    "output_size = 256  # patch size\n",
    "\n",
    "n = 3  # convolution kernel size\n",
    "σ = 20.0 / 255  # noise level\n",
    "psf = np.ones((n, n)) / (n * n)  # blur kernel\n",
    "\n",
    "ishape = (output_size, output_size)\n",
    "opBlur = CircularConvolve(h=psf, input_shape=ishape)\n",
    "opBlur_vmap = jax.vmap(opBlur)  # for batch processing in data generation"
   ]
  },
  {
   "cell_type": "markdown",
   "id": "f837b0fa",
   "metadata": {},
   "source": [
    "Read data from cache or generate if not available."
   ]
  },
  {
   "cell_type": "code",
   "execution_count": 3,
   "id": "1d37d9e9",
   "metadata": {
    "collapsed": false,
    "execution": {
     "iopub.execute_input": "2024-10-11T21:45:10.653895Z",
     "iopub.status.busy": "2024-10-11T21:45:10.653521Z",
     "iopub.status.idle": "2024-10-11T21:45:10.992822Z",
     "shell.execute_reply": "2024-10-11T21:45:10.991781Z"
    }
   },
   "outputs": [
    {
     "name": "stdout",
     "output_type": "stream",
     "text": [
      "Data read from path: ~/.cache/scico/examples/data\n",
      "Set --training-- size: 416\n",
      "Set --testing -- size: 64\n",
      "Data range -- images --  Min:  0.00  Max:  1.00\n",
      "Data range -- labels --  Min:  0.00  Max:  1.00\n"
     ]
    }
   ],
   "source": [
    "train_nimg = 416  # number of training images\n",
    "test_nimg = 64  # number of testing images\n",
    "nimg = train_nimg + test_nimg\n",
    "\n",
    "train_ds, test_ds = load_blur_data(\n",
    "    train_nimg,\n",
    "    test_nimg,\n",
    "    output_size,\n",
    "    psf,\n",
    "    σ,\n",
    "    verbose=True,\n",
    ")"
   ]
  },
  {
   "cell_type": "markdown",
   "id": "b527e0fd",
   "metadata": {},
   "source": [
    "Define configuration dictionary for model and training loop.\n",
    "\n",
    "Parameters have been selected for demonstration purposes and relatively\n",
    "short training. The model depth is akin to the number of unrolled\n",
    "iterations in the ODP model. The block depth controls the number of\n",
    "layers at each unrolled iteration. The number of filters is uniform\n",
    "throughout the iterations. Better performance may be obtained by\n",
    "increasing depth, block depth, number of filters or training epochs, but\n",
    "may require longer training times."
   ]
  },
  {
   "cell_type": "code",
   "execution_count": 4,
   "id": "cd128771",
   "metadata": {
    "collapsed": false,
    "execution": {
     "iopub.execute_input": "2024-10-11T21:45:10.995393Z",
     "iopub.status.busy": "2024-10-11T21:45:10.995043Z",
     "iopub.status.idle": "2024-10-11T21:45:10.998882Z",
     "shell.execute_reply": "2024-10-11T21:45:10.998176Z"
    }
   },
   "outputs": [],
   "source": [
    "# model configuration\n",
    "model_conf = {\n",
    "    \"depth\": 2,\n",
    "    \"num_filters\": 64,\n",
    "    \"block_depth\": 3,\n",
    "}\n",
    "# training configuration\n",
    "train_conf: sflax.ConfigDict = {\n",
    "    \"seed\": 0,\n",
    "    \"opt_type\": \"SGD\",\n",
    "    \"momentum\": 0.9,\n",
    "    \"batch_size\": 16,\n",
    "    \"num_epochs\": 50,\n",
    "    \"base_learning_rate\": 1e-2,\n",
    "    \"warmup_epochs\": 0,\n",
    "    \"log_every_steps\": 100,\n",
    "    \"log\": True,\n",
    "    \"checkpointing\": True,\n",
    "}"
   ]
  },
  {
   "cell_type": "markdown",
   "id": "5d936b61",
   "metadata": {},
   "source": [
    "Construct ODPNet model."
   ]
  },
  {
   "cell_type": "code",
   "execution_count": 5,
   "id": "dd9c5725",
   "metadata": {
    "collapsed": false,
    "execution": {
     "iopub.execute_input": "2024-10-11T21:45:11.001136Z",
     "iopub.status.busy": "2024-10-11T21:45:11.000716Z",
     "iopub.status.idle": "2024-10-11T21:45:11.004007Z",
     "shell.execute_reply": "2024-10-11T21:45:11.003361Z"
    }
   },
   "outputs": [],
   "source": [
    "channels = train_ds[\"image\"].shape[-1]\n",
    "model = sflax.ODPNet(\n",
    "    operator=opBlur,\n",
    "    depth=model_conf[\"depth\"],\n",
    "    channels=channels,\n",
    "    num_filters=model_conf[\"num_filters\"],\n",
    "    block_depth=model_conf[\"block_depth\"],\n",
    "    odp_block=sflax.inverse.ODPProxDcnvBlock,\n",
    ")"
   ]
  },
  {
   "cell_type": "markdown",
   "id": "a50cd2ed",
   "metadata": {},
   "source": [
    "Construct functionality for ensuring that the learned fidelity weight\n",
    "parameter is always positive."
   ]
  },
  {
   "cell_type": "code",
   "execution_count": 6,
   "id": "e3fcb74b",
   "metadata": {
    "collapsed": false,
    "execution": {
     "iopub.execute_input": "2024-10-11T21:45:11.005838Z",
     "iopub.status.busy": "2024-10-11T21:45:11.005591Z",
     "iopub.status.idle": "2024-10-11T21:45:11.008698Z",
     "shell.execute_reply": "2024-10-11T21:45:11.007999Z"
    }
   },
   "outputs": [],
   "source": [
    "alphatrav = construct_traversal(\"alpha\")  # select alpha parameters in model\n",
    "alphapos = partial(\n",
    "    clip_positive,  # apply this function\n",
    "    traversal=alphatrav,  # to alpha parameters in model\n",
    "    minval=1e-3,\n",
    ")"
   ]
  },
  {
   "cell_type": "markdown",
   "id": "429e629e",
   "metadata": {},
   "source": [
    "Run training loop."
   ]
  },
  {
   "cell_type": "code",
   "execution_count": 7,
   "id": "689c3286",
   "metadata": {
    "collapsed": false,
    "execution": {
     "iopub.execute_input": "2024-10-11T21:45:11.010793Z",
     "iopub.status.busy": "2024-10-11T21:45:11.010342Z",
     "iopub.status.idle": "2024-10-11T21:45:50.297309Z",
     "shell.execute_reply": "2024-10-11T21:45:50.296190Z"
    }
   },
   "outputs": [
    {
     "name": "stdout",
     "output_type": "stream",
     "text": [
      "\n",
      "JAX process: 0 / 1\n",
      "JAX local devices: [CudaDevice(id=0), CudaDevice(id=1), CudaDevice(id=2), CudaDevice(id=3), CudaDevice(id=4), CudaDevice(id=5), CudaDevice(id=6), CudaDevice(id=7)]\n",
      "\n"
     ]
    },
    {
     "name": "stdout",
     "output_type": "stream",
     "text": [
      "channels: 1   training signals: 416   testing signals: 64   signal size: 256\n",
      "\n"
     ]
    },
    {
     "name": "stdout",
     "output_type": "stream",
     "text": [
      "Network Structure:\n",
      "+-----------------------------------------------------------+----------------+--------+-----------+--------+\n",
      "| Name                                                      | Shape          | Size   | Mean      | Std    |\n",
      "+-----------------------------------------------------------+----------------+--------+-----------+--------+\n",
      "| ODPProxDcnvBlock_0/alpha                                  | (1,)           | 1      | 0.5       | 0.0    |\n",
      "| ODPProxDcnvBlock_0/resnet/BatchNorm_0/bias                | (1,)           | 1      | 0.0       | 0.0    |\n",
      "| ODPProxDcnvBlock_0/resnet/BatchNorm_0/scale               | (1,)           | 1      | 1.0       | 0.0    |\n",
      "| ODPProxDcnvBlock_0/resnet/ConvBNBlock_0/BatchNorm_0/bias  | (64,)          | 64     | 0.0       | 0.0    |\n",
      "| ODPProxDcnvBlock_0/resnet/ConvBNBlock_0/BatchNorm_0/scale | (64,)          | 64     | 1.0       | 0.0    |\n",
      "| ODPProxDcnvBlock_0/resnet/ConvBNBlock_0/Conv_0/kernel     | (3, 3, 1, 64)  | 576    | -0.00178  | 0.0562 |\n",
      "| ODPProxDcnvBlock_0/resnet/ConvBNBlock_1/BatchNorm_0/bias  | (64,)          | 64     | 0.0       | 0.0    |\n",
      "| ODPProxDcnvBlock_0/resnet/ConvBNBlock_1/BatchNorm_0/scale | (64,)          | 64     | 1.0       | 0.0    |\n",
      "| ODPProxDcnvBlock_0/resnet/ConvBNBlock_1/Conv_0/kernel     | (3, 3, 64, 64) | 36,864 | -0.000448 | 0.0418 |\n",
      "| ODPProxDcnvBlock_0/resnet/Conv_0/kernel                   | (3, 3, 64, 1)  | 576    | 0.00288   | 0.0593 |\n",
      "| ODPProxDcnvBlock_1/alpha                                  | (1,)           | 1      | 0.25      | 0.0    |\n",
      "| ODPProxDcnvBlock_1/resnet/BatchNorm_0/bias                | (1,)           | 1      | 0.0       | 0.0    |\n",
      "| ODPProxDcnvBlock_1/resnet/BatchNorm_0/scale               | (1,)           | 1      | 1.0       | 0.0    |\n",
      "| ODPProxDcnvBlock_1/resnet/ConvBNBlock_0/BatchNorm_0/bias  | (64,)          | 64     | 0.0       | 0.0    |\n",
      "| ODPProxDcnvBlock_1/resnet/ConvBNBlock_0/BatchNorm_0/scale | (64,)          | 64     | 1.0       | 0.0    |\n",
      "| ODPProxDcnvBlock_1/resnet/ConvBNBlock_0/Conv_0/kernel     | (3, 3, 1, 64)  | 576    | -0.00168  | 0.0563 |\n",
      "| ODPProxDcnvBlock_1/resnet/ConvBNBlock_1/BatchNorm_0/bias  | (64,)          | 64     | 0.0       | 0.0    |\n",
      "| ODPProxDcnvBlock_1/resnet/ConvBNBlock_1/BatchNorm_0/scale | (64,)          | 64     | 1.0       | 0.0    |\n",
      "| ODPProxDcnvBlock_1/resnet/ConvBNBlock_1/Conv_0/kernel     | (3, 3, 64, 64) | 36,864 | 7.01e-05  | 0.0415 |\n",
      "| ODPProxDcnvBlock_1/resnet/Conv_0/kernel                   | (3, 3, 64, 1)  | 576    | -1.25e-05 | 0.06   |\n",
      "+-----------------------------------------------------------+----------------+--------+-----------+--------+\n",
      "Total weights: 76,550\n",
      "\n",
      "Batch Normalization:\n",
      "+----------------------------------------------------------+-------+------+------+-----+\n",
      "| Name                                                     | Shape | Size | Mean | Std |\n",
      "+----------------------------------------------------------+-------+------+------+-----+\n",
      "| ODPProxDcnvBlock_0/resnet/BatchNorm_0/mean               | (1,)  | 1    | 0.0  | 0.0 |\n",
      "| ODPProxDcnvBlock_0/resnet/BatchNorm_0/var                | (1,)  | 1    | 1.0  | 0.0 |\n",
      "| ODPProxDcnvBlock_0/resnet/ConvBNBlock_0/BatchNorm_0/mean | (64,) | 64   | 0.0  | 0.0 |\n",
      "| ODPProxDcnvBlock_0/resnet/ConvBNBlock_0/BatchNorm_0/var  | (64,) | 64   | 1.0  | 0.0 |\n",
      "| ODPProxDcnvBlock_0/resnet/ConvBNBlock_1/BatchNorm_0/mean | (64,) | 64   | 0.0  | 0.0 |\n",
      "| ODPProxDcnvBlock_0/resnet/ConvBNBlock_1/BatchNorm_0/var  | (64,) | 64   | 1.0  | 0.0 |\n",
      "| ODPProxDcnvBlock_1/resnet/BatchNorm_0/mean               | (1,)  | 1    | 0.0  | 0.0 |\n",
      "| ODPProxDcnvBlock_1/resnet/BatchNorm_0/var                | (1,)  | 1    | 1.0  | 0.0 |\n",
      "| ODPProxDcnvBlock_1/resnet/ConvBNBlock_0/BatchNorm_0/mean | (64,) | 64   | 0.0  | 0.0 |\n",
      "| ODPProxDcnvBlock_1/resnet/ConvBNBlock_0/BatchNorm_0/var  | (64,) | 64   | 1.0  | 0.0 |\n",
      "| ODPProxDcnvBlock_1/resnet/ConvBNBlock_1/BatchNorm_0/mean | (64,) | 64   | 0.0  | 0.0 |\n",
      "| ODPProxDcnvBlock_1/resnet/ConvBNBlock_1/BatchNorm_0/var  | (64,) | 64   | 1.0  | 0.0 |\n",
      "+----------------------------------------------------------+-------+------+------+-----+\n",
      "Total weights: 516\n",
      "\n"
     ]
    },
    {
     "name": "stdout",
     "output_type": "stream",
     "text": [
      "Initial compilation, which might take some time ...\n"
     ]
    },
    {
     "name": "stdout",
     "output_type": "stream",
     "text": [
      "Initial compilation completed.\n",
      "\n"
     ]
    },
    {
     "name": "stdout",
     "output_type": "stream",
     "text": [
      "Epoch  Time      Train_LR  Train_Loss  Train_SNR  Eval_Loss  Eval_SNR\n",
      "---------------------------------------------------------------------\n",
      "    3  7.41e+00  0.010000    0.083428       9.14   0.045590      3.31\n"
     ]
    },
    {
     "name": "stdout",
     "output_type": "stream",
     "text": [
      "    7  1.09e+01  0.010000    0.005438      12.54   0.065217      1.75\n"
     ]
    },
    {
     "name": "stdout",
     "output_type": "stream",
     "text": [
      "   11  1.32e+01  0.010000    0.004411      13.45   0.096438      0.05\n"
     ]
    },
    {
     "name": "stdout",
     "output_type": "stream",
     "text": [
      "   15  1.52e+01  0.010000    0.003819      14.07   0.119096     -0.86\n"
     ]
    },
    {
     "name": "stdout",
     "output_type": "stream",
     "text": [
      "   19  1.73e+01  0.010000    0.003427      14.54   0.101820     -0.18\n"
     ]
    },
    {
     "name": "stdout",
     "output_type": "stream",
     "text": [
      "   23  1.94e+01  0.010000    0.003149      14.91   0.049348      2.96\n"
     ]
    },
    {
     "name": "stdout",
     "output_type": "stream",
     "text": [
      "   26  2.15e+01  0.010000    0.002949      15.19   0.018999      7.11\n"
     ]
    },
    {
     "name": "stdout",
     "output_type": "stream",
     "text": [
      "   30  2.37e+01  0.010000    0.002797      15.42   0.007688     11.04\n"
     ]
    },
    {
     "name": "stdout",
     "output_type": "stream",
     "text": [
      "   34  2.57e+01  0.010000    0.002685      15.60   0.004246     13.62\n"
     ]
    },
    {
     "name": "stdout",
     "output_type": "stream",
     "text": [
      "   38  2.77e+01  0.010000    0.002593      15.75   0.003105     14.98\n"
     ]
    },
    {
     "name": "stdout",
     "output_type": "stream",
     "text": [
      "   42  2.99e+01  0.010000    0.002514      15.88   0.002743     15.51\n"
     ]
    },
    {
     "name": "stdout",
     "output_type": "stream",
     "text": [
      "   46  3.19e+01  0.010000    0.002450      15.99   0.002565     15.81\n"
     ]
    },
    {
     "name": "stdout",
     "output_type": "stream",
     "text": [
      "   49  3.40e+01  0.010000    0.002395      16.09   0.002471     15.97\n"
     ]
    }
   ],
   "source": [
    "print(f\"\\nJAX process: {jax.process_index()}{' / '}{jax.process_count()}\")\n",
    "print(f\"JAX local devices: {jax.local_devices()}\\n\")\n",
    "\n",
    "workdir = os.path.join(os.path.expanduser(\"~\"), \".cache\", \"scico\", \"examples\", \"odp_dcnv_out\")\n",
    "train_conf[\"workdir\"] = workdir\n",
    "train_conf[\"post_lst\"] = [alphapos]\n",
    "# Construct training object\n",
    "trainer = sflax.BasicFlaxTrainer(\n",
    "    train_conf,\n",
    "    model,\n",
    "    train_ds,\n",
    "    test_ds,\n",
    ")\n",
    "modvar, stats_object = trainer.train()"
   ]
  },
  {
   "cell_type": "markdown",
   "id": "c4050de6",
   "metadata": {},
   "source": [
    "Evaluate on testing data."
   ]
  },
  {
   "cell_type": "code",
   "execution_count": 8,
   "id": "d793caef",
   "metadata": {
    "collapsed": false,
    "execution": {
     "iopub.execute_input": "2024-10-11T21:45:50.301090Z",
     "iopub.status.busy": "2024-10-11T21:45:50.300758Z",
     "iopub.status.idle": "2024-10-11T21:45:53.355130Z",
     "shell.execute_reply": "2024-10-11T21:45:53.353878Z"
    }
   },
   "outputs": [],
   "source": [
    "del train_ds[\"image\"]\n",
    "del train_ds[\"label\"]\n",
    "\n",
    "fmap = sflax.FlaxMap(model, modvar)\n",
    "del model, modvar\n",
    "\n",
    "maxn = test_nimg // 4\n",
    "start_time = time()\n",
    "output = fmap(test_ds[\"image\"][:maxn])\n",
    "time_eval = time() - start_time\n",
    "output = np.clip(output, a_min=0, a_max=1.0)"
   ]
  },
  {
   "cell_type": "markdown",
   "id": "37579e2f",
   "metadata": {},
   "source": [
    "Evaluate trained model in terms of reconstruction time and data\n",
    "fidelity."
   ]
  },
  {
   "cell_type": "code",
   "execution_count": 9,
   "id": "d99013b1",
   "metadata": {
    "collapsed": false,
    "execution": {
     "iopub.execute_input": "2024-10-11T21:45:53.358495Z",
     "iopub.status.busy": "2024-10-11T21:45:53.358180Z",
     "iopub.status.idle": "2024-10-11T21:45:53.847675Z",
     "shell.execute_reply": "2024-10-11T21:45:53.846692Z"
    }
   },
   "outputs": [
    {
     "name": "stdout",
     "output_type": "stream",
     "text": [
      "ODPNet training   epochs:   50                     time[s]:    34.48\n",
      "ODPNet testing    SNR: 16.38 dB   PSNR: 23.46 dB   time[s]:     3.03\n"
     ]
    }
   ],
   "source": [
    "snr_eval = metric.snr(test_ds[\"label\"][:maxn], output)\n",
    "psnr_eval = metric.psnr(test_ds[\"label\"][:maxn], output)\n",
    "print(\n",
    "    f\"{'ODPNet training':18s}{'epochs:':2s}{train_conf['num_epochs']:>5d}\"\n",
    "    f\"{'':21s}{'time[s]:':10s}{trainer.train_time:>7.2f}\"\n",
    ")\n",
    "print(\n",
    "    f\"{'ODPNet testing':18s}{'SNR:':5s}{snr_eval:>5.2f}{' dB'}{'':3s}\"\n",
    "    f\"{'PSNR:':6s}{psnr_eval:>5.2f}{' dB'}{'':3s}{'time[s]:':10s}{time_eval:>7.2f}\"\n",
    ")"
   ]
  },
  {
   "cell_type": "markdown",
   "id": "3041c864",
   "metadata": {},
   "source": [
    "Plot comparison."
   ]
  },
  {
   "cell_type": "code",
   "execution_count": 10,
   "id": "959188c7",
   "metadata": {
    "collapsed": false,
    "execution": {
     "iopub.execute_input": "2024-10-11T21:45:53.849815Z",
     "iopub.status.busy": "2024-10-11T21:45:53.849553Z",
     "iopub.status.idle": "2024-10-11T21:45:54.355585Z",
     "shell.execute_reply": "2024-10-11T21:45:54.354431Z"
    }
   },
   "outputs": [],
   "source": [
    "np.random.seed(123)\n",
    "indx = np.random.randint(0, high=maxn)\n",
    "\n",
    "fig, ax = plot.subplots(nrows=1, ncols=3, figsize=(15, 5))\n",
    "plot.imview(test_ds[\"label\"][indx, ..., 0], title=\"Ground truth\", cbar=None, fig=fig, ax=ax[0])\n",
    "plot.imview(\n",
    "    test_ds[\"image\"][indx, ..., 0],\n",
    "    title=\"Blurred: \\nSNR: %.2f (dB), PSNR: %.2f\"\n",
    "    % (\n",
    "        metric.snr(test_ds[\"label\"][indx, ..., 0], test_ds[\"image\"][indx, ..., 0]),\n",
    "        metric.psnr(test_ds[\"label\"][indx, ..., 0], test_ds[\"image\"][indx, ..., 0]),\n",
    "    ),\n",
    "    cbar=None,\n",
    "    fig=fig,\n",
    "    ax=ax[1],\n",
    ")\n",
    "plot.imview(\n",
    "    output[indx, ..., 0],\n",
    "    title=\"ODPNet Reconstruction\\nSNR: %.2f (dB), PSNR: %.2f\"\n",
    "    % (\n",
    "        metric.snr(test_ds[\"label\"][indx, ..., 0], output[indx, ..., 0]),\n",
    "        metric.psnr(test_ds[\"label\"][indx, ..., 0], output[indx, ..., 0]),\n",
    "    ),\n",
    "    fig=fig,\n",
    "    ax=ax[2],\n",
    ")\n",
    "divider = make_axes_locatable(ax[2])\n",
    "cax = divider.append_axes(\"right\", size=\"5%\", pad=0.2)\n",
    "fig.colorbar(ax[2].get_images()[0], cax=cax, label=\"arbitrary units\")\n",
    "fig.show()"
   ]
  },
  {
   "cell_type": "markdown",
   "id": "0077f601",
   "metadata": {},
   "source": [
    "Plot convergence statistics. Statistics are generated only if a training\n",
    "cycle was done (i.e. if not reading final epoch results from checkpoint)."
   ]
  },
  {
   "cell_type": "code",
   "execution_count": 11,
   "id": "9ba7f8e9",
   "metadata": {
    "collapsed": false,
    "execution": {
     "iopub.execute_input": "2024-10-11T21:45:54.358879Z",
     "iopub.status.busy": "2024-10-11T21:45:54.358598Z",
     "iopub.status.idle": "2024-10-11T21:45:54.561812Z",
     "shell.execute_reply": "2024-10-11T21:45:54.560778Z"
    }
   },
   "outputs": [],
   "source": [
    "if stats_object is not None and len(stats_object.iterations) > 0:\n",
    "    hist = stats_object.history(transpose=True)\n",
    "    fig, ax = plot.subplots(nrows=1, ncols=2, figsize=(12, 5))\n",
    "    plot.plot(\n",
    "        np.vstack((hist.Train_Loss, hist.Eval_Loss)).T,\n",
    "        x=hist.Epoch,\n",
    "        ptyp=\"semilogy\",\n",
    "        title=\"Loss function\",\n",
    "        xlbl=\"Epoch\",\n",
    "        ylbl=\"Loss value\",\n",
    "        lgnd=(\"Train\", \"Test\"),\n",
    "        fig=fig,\n",
    "        ax=ax[0],\n",
    "    )\n",
    "    plot.plot(\n",
    "        np.vstack((hist.Train_SNR, hist.Eval_SNR)).T,\n",
    "        x=hist.Epoch,\n",
    "        title=\"Metric\",\n",
    "        xlbl=\"Epoch\",\n",
    "        ylbl=\"SNR (dB)\",\n",
    "        lgnd=(\"Train\", \"Test\"),\n",
    "        fig=fig,\n",
    "        ax=ax[1],\n",
    "    )\n",
    "    fig.show()"
   ]
  }
 ],
 "metadata": {
  "language_info": {
   "codemirror_mode": {
    "name": "ipython",
    "version": 3
   },
   "file_extension": ".py",
   "mimetype": "text/x-python",
   "name": "python",
   "nbconvert_exporter": "python",
   "pygments_lexer": "ipython3",
   "version": "3.12.7"
  }
 },
 "nbformat": 4,
 "nbformat_minor": 5
}
