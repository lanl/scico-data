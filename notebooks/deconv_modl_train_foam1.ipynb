{
 "cells": [
  {
   "cell_type": "markdown",
   "id": "c27adcb3",
   "metadata": {},
   "source": [
    "Deconvolution Training and Reconstructions with MoDL\n",
    "====================================================\n",
    "\n",
    "This example demonstrates the training and application of a\n",
    "model-based deep learning (MoDL) architecture described in\n",
    "<cite data-cite=\"aggarwal-2019-modl\"/> for a deconvolution (deblurring) problem.\n",
    "\n",
    "The source images are foam phantoms generated with xdesign.\n",
    "\n",
    "A class\n",
    "[scico.flax.MoDLNet](../_autosummary/scico.flax.rst#scico.flax.MoDLNet)\n",
    "implements the MoDL architecture, which solves the optimization\n",
    "problem\n",
    "\n",
    "$$\\mathrm{argmin}_{\\mathbf{x}} \\; \\| A \\mathbf{x} - \\mathbf{y} \\|_2^2\n",
    "+ \\lambda \\, \\| \\mathbf{x} - \\mathrm{D}_w(\\mathbf{x})\\|_2^2 \\;,$$\n",
    "\n",
    "where $A$ is a circular convolution, $\\mathbf{y}$ is a set of blurred\n",
    "images, $\\mathrm{D}_w$ is the regularization (a denoiser), and\n",
    "$\\mathbf{x}$ is the set of deblurred images. The MoDL abstracts the\n",
    "iterative solution by an unrolled network where each iteration\n",
    "corresponds to a different stage in the MoDL network and updates the\n",
    "prediction by solving\n",
    "\n",
    "$$\\mathbf{x}^{k+1} = (A^T A + \\lambda \\, I)^{-1} (A^T \\mathbf{y} +\n",
    "\\lambda \\, \\mathbf{z}^k) \\;,$$\n",
    "\n",
    "via conjugate gradient. In the expression, $k$ is the index of the stage\n",
    "(iteration), $\\mathbf{z}^k = \\mathrm{ResNet}(\\mathbf{x}^{k})$ is the\n",
    "regularization (a denoiser implemented as a residual convolutional neural\n",
    "network), $\\mathbf{x}^k$ is the output of the previous stage,\n",
    "$\\lambda > 0$ is a learned regularization parameter, and $I$ is the\n",
    "identity operator. The output of the final stage is the set of deblurred\n",
    "images."
   ]
  },
  {
   "cell_type": "code",
   "execution_count": 1,
   "id": "c401b2a1",
   "metadata": {
    "collapsed": false,
    "execution": {
     "iopub.execute_input": "2024-10-11T21:11:48.352378Z",
     "iopub.status.busy": "2024-10-11T21:11:48.352044Z",
     "iopub.status.idle": "2024-10-11T21:12:53.760830Z",
     "shell.execute_reply": "2024-10-11T21:12:53.759865Z"
    }
   },
   "outputs": [
    {
     "name": "stdout",
     "output_type": "stream",
     "text": [
      "Platform:  gpu\n"
     ]
    }
   ],
   "source": [
    "# isort: off\n",
    "import os\n",
    "from functools import partial\n",
    "from time import time\n",
    "\n",
    "import numpy as np\n",
    "\n",
    "import logging\n",
    "import ray\n",
    "\n",
    "ray.init(logging_level=logging.ERROR)  # need to call init before jax import: ray-project/ray#44087\n",
    "\n",
    "# Set an arbitrary processor count (only applies if GPU is not available).\n",
    "os.environ[\"XLA_FLAGS\"] = \"--xla_force_host_platform_device_count=8\"\n",
    "\n",
    "import jax\n",
    "\n",
    "try:\n",
    "    from jax.extend.backend import get_backend  # introduced in jax 0.4.33\n",
    "except ImportError:\n",
    "    from jax.lib.xla_bridge import get_backend\n",
    "\n",
    "from mpl_toolkits.axes_grid1 import make_axes_locatable\n",
    "\n",
    "from scico import flax as sflax\n",
    "from scico import metric, plot\n",
    "from scico.flax.examples import load_blur_data\n",
    "from scico.flax.train.traversals import clip_positive, construct_traversal\n",
    "from scico.linop import CircularConvolve\n",
    "plot.config_notebook_plotting()\n",
    "\n",
    "\n",
    "platform = get_backend().platform\n",
    "print(\"Platform: \", platform)"
   ]
  },
  {
   "cell_type": "markdown",
   "id": "880fc98d",
   "metadata": {},
   "source": [
    "Define blur operator."
   ]
  },
  {
   "cell_type": "code",
   "execution_count": 2,
   "id": "185f7fa5",
   "metadata": {
    "collapsed": false,
    "execution": {
     "iopub.execute_input": "2024-10-11T21:12:53.763507Z",
     "iopub.status.busy": "2024-10-11T21:12:53.762936Z",
     "iopub.status.idle": "2024-10-11T21:12:54.409305Z",
     "shell.execute_reply": "2024-10-11T21:12:54.408296Z"
    }
   },
   "outputs": [],
   "source": [
    "output_size = 256  # image size\n",
    "\n",
    "n = 3  # convolution kernel size\n",
    "σ = 20.0 / 255  # noise level\n",
    "psf = np.ones((n, n)) / (n * n)  # blur kernel\n",
    "\n",
    "ishape = (output_size, output_size)\n",
    "opBlur = CircularConvolve(h=psf, input_shape=ishape)\n",
    "opBlur_vmap = jax.vmap(opBlur)  # for batch processing in data generation"
   ]
  },
  {
   "cell_type": "markdown",
   "id": "703e8ce2",
   "metadata": {},
   "source": [
    "Read data from cache or generate if not available."
   ]
  },
  {
   "cell_type": "code",
   "execution_count": 3,
   "id": "fb529c39",
   "metadata": {
    "collapsed": false,
    "execution": {
     "iopub.execute_input": "2024-10-11T21:12:54.412038Z",
     "iopub.status.busy": "2024-10-11T21:12:54.411661Z",
     "iopub.status.idle": "2024-10-11T21:12:54.708420Z",
     "shell.execute_reply": "2024-10-11T21:12:54.707365Z"
    }
   },
   "outputs": [
    {
     "name": "stdout",
     "output_type": "stream",
     "text": [
      "Data read from path: ~/.cache/scico/examples/data\n",
      "Set --training-- size: 416\n",
      "Set --testing -- size: 64\n",
      "Data range -- images --  Min:  0.00  Max:  1.00\n",
      "Data range -- labels --  Min:  0.00  Max:  1.00\n"
     ]
    }
   ],
   "source": [
    "train_nimg = 416  # number of training images\n",
    "test_nimg = 64  # number of testing images\n",
    "nimg = train_nimg + test_nimg\n",
    "\n",
    "train_ds, test_ds = load_blur_data(\n",
    "    train_nimg,\n",
    "    test_nimg,\n",
    "    output_size,\n",
    "    psf,\n",
    "    σ,\n",
    "    verbose=True,\n",
    ")"
   ]
  },
  {
   "cell_type": "markdown",
   "id": "b3d46aba",
   "metadata": {},
   "source": [
    "Define configuration dictionary for model and training loop.\n",
    "\n",
    "Parameters have been selected for demonstration purposes and relatively\n",
    "short training. The model depth is akin to the number of unrolled\n",
    "iterations in the MoDL model. The block depth controls the number of\n",
    "layers at each unrolled iteration. The number of filters is uniform\n",
    "throughout the iterations. The iterations used for the conjugate gradient\n",
    "(CG) solver can also be specified. Better performance may be obtained by\n",
    "increasing depth, block depth, number of filters, CG iterations, or\n",
    "training epochs, but may require longer training times."
   ]
  },
  {
   "cell_type": "code",
   "execution_count": 4,
   "id": "c3d9b1fb",
   "metadata": {
    "collapsed": false,
    "execution": {
     "iopub.execute_input": "2024-10-11T21:12:54.710696Z",
     "iopub.status.busy": "2024-10-11T21:12:54.710347Z",
     "iopub.status.idle": "2024-10-11T21:12:54.714190Z",
     "shell.execute_reply": "2024-10-11T21:12:54.713540Z"
    }
   },
   "outputs": [],
   "source": [
    "# model configuration\n",
    "model_conf = {\n",
    "    \"depth\": 2,\n",
    "    \"num_filters\": 64,\n",
    "    \"block_depth\": 4,\n",
    "    \"cg_iter\": 4,\n",
    "}\n",
    "# training configuration\n",
    "train_conf: sflax.ConfigDict = {\n",
    "    \"seed\": 0,\n",
    "    \"opt_type\": \"SGD\",\n",
    "    \"momentum\": 0.9,\n",
    "    \"batch_size\": 16,\n",
    "    \"num_epochs\": 25,\n",
    "    \"base_learning_rate\": 1e-2,\n",
    "    \"warmup_epochs\": 0,\n",
    "    \"log_every_steps\": 100,\n",
    "    \"log\": True,\n",
    "    \"checkpointing\": True,\n",
    "}"
   ]
  },
  {
   "cell_type": "markdown",
   "id": "caecc11a",
   "metadata": {},
   "source": [
    "Construct functionality for ensuring that the learned regularization\n",
    "parameter is always positive."
   ]
  },
  {
   "cell_type": "code",
   "execution_count": 5,
   "id": "7d3e1dc7",
   "metadata": {
    "collapsed": false,
    "execution": {
     "iopub.execute_input": "2024-10-11T21:12:54.716123Z",
     "iopub.status.busy": "2024-10-11T21:12:54.715847Z",
     "iopub.status.idle": "2024-10-11T21:12:54.718687Z",
     "shell.execute_reply": "2024-10-11T21:12:54.718199Z"
    }
   },
   "outputs": [],
   "source": [
    "lmbdatrav = construct_traversal(\"lmbda\")  # select lmbda parameters in model\n",
    "lmbdapos = partial(\n",
    "    clip_positive,  # apply this function\n",
    "    traversal=lmbdatrav,  # to lmbda parameters in model\n",
    "    minval=5e-4,\n",
    ")"
   ]
  },
  {
   "cell_type": "markdown",
   "id": "fbf25afd",
   "metadata": {},
   "source": [
    "Print configuration of distributed run."
   ]
  },
  {
   "cell_type": "code",
   "execution_count": 6,
   "id": "a1f52cd6",
   "metadata": {
    "collapsed": false,
    "execution": {
     "iopub.execute_input": "2024-10-11T21:12:54.720607Z",
     "iopub.status.busy": "2024-10-11T21:12:54.720292Z",
     "iopub.status.idle": "2024-10-11T21:12:54.723510Z",
     "shell.execute_reply": "2024-10-11T21:12:54.723059Z"
    }
   },
   "outputs": [
    {
     "name": "stdout",
     "output_type": "stream",
     "text": [
      "\n",
      "JAX process: 0 / 1\n",
      "JAX local devices: [CudaDevice(id=0), CudaDevice(id=1), CudaDevice(id=2), CudaDevice(id=3), CudaDevice(id=4), CudaDevice(id=5), CudaDevice(id=6), CudaDevice(id=7)]\n",
      "\n"
     ]
    }
   ],
   "source": [
    "print(f\"\\nJAX process: {jax.process_index()}{' / '}{jax.process_count()}\")\n",
    "print(f\"JAX local devices: {jax.local_devices()}\\n\")"
   ]
  },
  {
   "cell_type": "markdown",
   "id": "9f2c15b9",
   "metadata": {},
   "source": [
    "Check for iterated trained model. If not found, construct MoDLNet model,\n",
    "using only one iteration (depth) in model and few CG iterations for\n",
    "faster intialization. Run first stage (initialization) training loop\n",
    "followed by a second stage (depth iterations) training loop."
   ]
  },
  {
   "cell_type": "code",
   "execution_count": 7,
   "id": "ce6b84c1",
   "metadata": {
    "collapsed": false,
    "execution": {
     "iopub.execute_input": "2024-10-11T21:12:54.725533Z",
     "iopub.status.busy": "2024-10-11T21:12:54.725107Z",
     "iopub.status.idle": "2024-10-11T21:13:30.994969Z",
     "shell.execute_reply": "2024-10-11T21:13:30.993935Z"
    }
   },
   "outputs": [
    {
     "name": "stdout",
     "output_type": "stream",
     "text": [
      "channels: 1   training signals: 416   testing signals: 64   signal size: 256\n",
      "\n"
     ]
    },
    {
     "name": "stdout",
     "output_type": "stream",
     "text": [
      "Network Structure:\n",
      "+------------------------------------------+----------------+--------+-----------+--------+\n",
      "| Name                                     | Shape          | Size   | Mean      | Std    |\n",
      "+------------------------------------------+----------------+--------+-----------+--------+\n",
      "| ResNet_0/BatchNorm_0/bias                | (1,)           | 1      | 0.0       | 0.0    |\n",
      "| ResNet_0/BatchNorm_0/scale               | (1,)           | 1      | 1.0       | 0.0    |\n",
      "| ResNet_0/ConvBNBlock_0/BatchNorm_0/bias  | (64,)          | 64     | 0.0       | 0.0    |\n",
      "| ResNet_0/ConvBNBlock_0/BatchNorm_0/scale | (64,)          | 64     | 1.0       | 0.0    |\n",
      "| ResNet_0/ConvBNBlock_0/Conv_0/kernel     | (3, 3, 1, 64)  | 576    | -0.00161  | 0.0603 |\n",
      "| ResNet_0/ConvBNBlock_1/BatchNorm_0/bias  | (64,)          | 64     | 0.0       | 0.0    |\n",
      "| ResNet_0/ConvBNBlock_1/BatchNorm_0/scale | (64,)          | 64     | 1.0       | 0.0    |\n",
      "| ResNet_0/ConvBNBlock_1/Conv_0/kernel     | (3, 3, 64, 64) | 36,864 | 0.000163  | 0.0418 |\n",
      "| ResNet_0/ConvBNBlock_2/BatchNorm_0/bias  | (64,)          | 64     | 0.0       | 0.0    |\n",
      "| ResNet_0/ConvBNBlock_2/BatchNorm_0/scale | (64,)          | 64     | 1.0       | 0.0    |\n",
      "| ResNet_0/ConvBNBlock_2/Conv_0/kernel     | (3, 3, 64, 64) | 36,864 | -1.38e-05 | 0.0417 |\n",
      "| ResNet_0/Conv_0/kernel                   | (3, 3, 64, 1)  | 576    | -0.0018   | 0.0585 |\n",
      "| lmbda                                    | (1,)           | 1      | 0.5       | 0.0    |\n",
      "+------------------------------------------+----------------+--------+-----------+--------+\n",
      "Total weights: 75,267\n",
      "\n",
      "Batch Normalization:\n",
      "+-----------------------------------------+-------+------+------+-----+\n",
      "| Name                                    | Shape | Size | Mean | Std |\n",
      "+-----------------------------------------+-------+------+------+-----+\n",
      "| ResNet_0/BatchNorm_0/mean               | (1,)  | 1    | 0.0  | 0.0 |\n",
      "| ResNet_0/BatchNorm_0/var                | (1,)  | 1    | 1.0  | 0.0 |\n",
      "| ResNet_0/ConvBNBlock_0/BatchNorm_0/mean | (64,) | 64   | 0.0  | 0.0 |\n",
      "| ResNet_0/ConvBNBlock_0/BatchNorm_0/var  | (64,) | 64   | 1.0  | 0.0 |\n",
      "| ResNet_0/ConvBNBlock_1/BatchNorm_0/mean | (64,) | 64   | 0.0  | 0.0 |\n",
      "| ResNet_0/ConvBNBlock_1/BatchNorm_0/var  | (64,) | 64   | 1.0  | 0.0 |\n",
      "| ResNet_0/ConvBNBlock_2/BatchNorm_0/mean | (64,) | 64   | 0.0  | 0.0 |\n",
      "| ResNet_0/ConvBNBlock_2/BatchNorm_0/var  | (64,) | 64   | 1.0  | 0.0 |\n",
      "+-----------------------------------------+-------+------+------+-----+\n",
      "Total weights: 386\n",
      "\n"
     ]
    },
    {
     "name": "stdout",
     "output_type": "stream",
     "text": [
      "Initial compilation, which might take some time ...\n"
     ]
    },
    {
     "name": "stdout",
     "output_type": "stream",
     "text": [
      "Initial compilation completed.\n",
      "\n"
     ]
    },
    {
     "name": "stdout",
     "output_type": "stream",
     "text": [
      "Epoch  Time      Train_LR  Train_Loss  Train_SNR  Eval_Loss  Eval_SNR\n",
      "---------------------------------------------------------------------\n",
      "    3  6.19e+00  0.010000    0.018961       9.28   0.005802     12.26\n"
     ]
    },
    {
     "name": "stdout",
     "output_type": "stream",
     "text": [
      "    7  8.54e+00  0.010000    0.005925      12.16   0.005808     12.26\n"
     ]
    },
    {
     "name": "stdout",
     "output_type": "stream",
     "text": [
      "   11  9.95e+00  0.010000    0.005800      12.25   0.005773     12.28\n"
     ]
    },
    {
     "name": "stdout",
     "output_type": "stream",
     "text": [
      "   15  1.11e+01  0.010000    0.005642      12.37   0.005745     12.30\n"
     ]
    },
    {
     "name": "stdout",
     "output_type": "stream",
     "text": [
      "   19  1.22e+01  0.010000    0.005442      12.53   0.005670     12.36\n"
     ]
    },
    {
     "name": "stdout",
     "output_type": "stream",
     "text": [
      "   23  1.35e+01  0.010000    0.005139      12.78   0.005423     12.55\n"
     ]
    },
    {
     "name": "stdout",
     "output_type": "stream",
     "text": [
      "MoDLNet init      epochs:   25   time[s]:               16.25\n",
      "channels: 1   training signals: 416   testing signals: 64   signal size: 256\n",
      "\n",
      "Network Structure:\n",
      "+------------------------------------------+----------------+--------+-----------+----------+\n",
      "| Name                                     | Shape          | Size   | Mean      | Std      |\n",
      "+------------------------------------------+----------------+--------+-----------+----------+\n",
      "| ResNet_0/BatchNorm_0/bias                | (1,)           | 1      | -0.0253   | 0.0      |\n",
      "| ResNet_0/BatchNorm_0/scale               | (1,)           | 1      | 0.683     | 0.0      |\n",
      "| ResNet_0/ConvBNBlock_0/BatchNorm_0/bias  | (64,)          | 64     | -2.06e-05 | 0.000882 |\n",
      "| ResNet_0/ConvBNBlock_0/BatchNorm_0/scale | (64,)          | 64     | 1.0       | 0.00101  |\n",
      "| ResNet_0/ConvBNBlock_0/Conv_0/kernel     | (3, 3, 1, 64)  | 576    | -4.41e-05 | 0.0607   |\n",
      "| ResNet_0/ConvBNBlock_1/BatchNorm_0/bias  | (64,)          | 64     | 7.07e-05  | 0.000616 |\n",
      "| ResNet_0/ConvBNBlock_1/BatchNorm_0/scale | (64,)          | 64     | 1.0       | 0.000836 |\n",
      "| ResNet_0/ConvBNBlock_1/Conv_0/kernel     | (3, 3, 64, 64) | 36,864 | 0.000213  | 0.0418   |\n",
      "| ResNet_0/ConvBNBlock_2/BatchNorm_0/bias  | (64,)          | 64     | 8.57e-05  | 0.000623 |\n",
      "| ResNet_0/ConvBNBlock_2/BatchNorm_0/scale | (64,)          | 64     | 1.0       | 0.000782 |\n",
      "| ResNet_0/ConvBNBlock_2/Conv_0/kernel     | (3, 3, 64, 64) | 36,864 | -1.69e-05 | 0.0417   |\n",
      "| ResNet_0/Conv_0/kernel                   | (3, 3, 64, 1)  | 576    | -0.00278  | 0.0587   |\n",
      "| lmbda                                    | (1,)           | 1      | 0.0314    | 0.0      |\n",
      "+------------------------------------------+----------------+--------+-----------+----------+\n",
      "Total weights: 75,267\n",
      "\n",
      "Batch Normalization:\n",
      "+-----------------------------------------+-------+------+-----------+---------+\n",
      "| Name                                    | Shape | Size | Mean      | Std     |\n",
      "+-----------------------------------------+-------+------+-----------+---------+\n",
      "| ResNet_0/BatchNorm_0/mean               | (1,)  | 1    | -0.689    | 0.0     |\n",
      "| ResNet_0/BatchNorm_0/var                | (1,)  | 1    | 3.41      | 0.0     |\n",
      "| ResNet_0/ConvBNBlock_0/BatchNorm_0/mean | (64,) | 64   | -0.000264 | 0.0511  |\n",
      "| ResNet_0/ConvBNBlock_0/BatchNorm_0/var  | (64,) | 64   | 0.00502   | 0.00362 |\n",
      "| ResNet_0/ConvBNBlock_1/BatchNorm_0/mean | (64,) | 64   | 0.0559    | 0.49    |\n",
      "| ResNet_0/ConvBNBlock_1/BatchNorm_0/var  | (64,) | 64   | 0.403     | 0.318   |\n",
      "| ResNet_0/ConvBNBlock_2/BatchNorm_0/mean | (64,) | 64   | -0.00185  | 0.408   |\n",
      "| ResNet_0/ConvBNBlock_2/BatchNorm_0/var  | (64,) | 64   | 0.435     | 0.336   |\n",
      "+-----------------------------------------+-------+------+-----------+---------+\n",
      "Total weights: 386\n",
      "\n",
      "Initial compilation, which might take some time ...\n"
     ]
    },
    {
     "name": "stdout",
     "output_type": "stream",
     "text": [
      "Initial compilation completed.\n",
      "\n"
     ]
    },
    {
     "name": "stdout",
     "output_type": "stream",
     "text": [
      "Epoch  Time      Train_LR  Train_Loss  Train_SNR  Eval_Loss  Eval_SNR\n",
      "---------------------------------------------------------------------\n",
      "    3  5.75e+00  0.010000    0.004709      13.17   0.004244     13.62\n"
     ]
    },
    {
     "name": "stdout",
     "output_type": "stream",
     "text": [
      "    7  9.06e+00  0.010000    0.004000      13.87   0.003801     14.10\n"
     ]
    },
    {
     "name": "stdout",
     "output_type": "stream",
     "text": [
      "   11  1.09e+01  0.010000    0.003598      14.33   0.003571     14.37\n"
     ]
    },
    {
     "name": "stdout",
     "output_type": "stream",
     "text": [
      "   15  1.27e+01  0.010000    0.003270      14.74   0.003440     14.53\n"
     ]
    },
    {
     "name": "stdout",
     "output_type": "stream",
     "text": [
      "   19  1.45e+01  0.010000    0.003004      15.11   0.003171     14.88\n"
     ]
    },
    {
     "name": "stdout",
     "output_type": "stream",
     "text": [
      "   23  1.63e+01  0.010000    0.002826      15.38   0.002946     15.20\n"
     ]
    }
   ],
   "source": [
    "channels = train_ds[\"image\"].shape[-1]\n",
    "workdir2 = os.path.join(\n",
    "    os.path.expanduser(\"~\"), \".cache\", \"scico\", \"examples\", \"modl_dcnv_out\", \"iterated\"\n",
    ")\n",
    "\n",
    "stats_object_ini = None\n",
    "stats_object = None\n",
    "\n",
    "checkpoint_files = []\n",
    "for dirpath, dirnames, filenames in os.walk(workdir2):\n",
    "    checkpoint_files = [fn for fn in filenames]\n",
    "\n",
    "if len(checkpoint_files) > 0:\n",
    "    model = sflax.MoDLNet(\n",
    "        operator=opBlur,\n",
    "        depth=model_conf[\"depth\"],\n",
    "        channels=channels,\n",
    "        num_filters=model_conf[\"num_filters\"],\n",
    "        block_depth=model_conf[\"block_depth\"],\n",
    "        cg_iter=model_conf[\"cg_iter\"],\n",
    "    )\n",
    "\n",
    "    train_conf[\"workdir\"] = workdir2\n",
    "    train_conf[\"post_lst\"] = [lmbdapos]\n",
    "    # Construct training object\n",
    "    trainer = sflax.BasicFlaxTrainer(\n",
    "        train_conf,\n",
    "        model,\n",
    "        train_ds,\n",
    "        test_ds,\n",
    "    )\n",
    "    start_time = time()\n",
    "    modvar, stats_object = trainer.train()\n",
    "    time_train = time() - start_time\n",
    "    time_init = 0.0\n",
    "    epochs_init = 0\n",
    "else:\n",
    "    # One iteration (depth) in model and few CG iterations\n",
    "    model = sflax.MoDLNet(\n",
    "        operator=opBlur,\n",
    "        depth=1,\n",
    "        channels=channels,\n",
    "        num_filters=model_conf[\"num_filters\"],\n",
    "        block_depth=model_conf[\"block_depth\"],\n",
    "        cg_iter=model_conf[\"cg_iter\"],\n",
    "    )\n",
    "    # First stage: initialization training loop.\n",
    "    workdir1 = os.path.join(os.path.expanduser(\"~\"), \".cache\", \"scico\", \"examples\", \"modl_dcnv_out\")\n",
    "    train_conf[\"workdir\"] = workdir1\n",
    "    train_conf[\"post_lst\"] = [lmbdapos]\n",
    "    # Construct training object\n",
    "    trainer = sflax.BasicFlaxTrainer(\n",
    "        train_conf,\n",
    "        model,\n",
    "        train_ds,\n",
    "        test_ds,\n",
    "    )\n",
    "\n",
    "    start_time = time()\n",
    "    modvar, stats_object_ini = trainer.train()\n",
    "    time_init = time() - start_time\n",
    "    epochs_init = train_conf[\"num_epochs\"]\n",
    "\n",
    "    print(\n",
    "        f\"{'MoDLNet init':18s}{'epochs:':2s}{train_conf['num_epochs']:>5d}{'':3s}\"\n",
    "        f\"{'time[s]:':21s}{time_init:>7.2f}\"\n",
    "    )\n",
    "\n",
    "    # Second stage: depth iterations training loop.\n",
    "    model.depth = model_conf[\"depth\"]\n",
    "    train_conf[\"workdir\"] = workdir2\n",
    "    # Construct training object, include current model parameters\n",
    "    trainer = sflax.BasicFlaxTrainer(\n",
    "        train_conf,\n",
    "        model,\n",
    "        train_ds,\n",
    "        test_ds,\n",
    "        variables0=modvar,\n",
    "    )\n",
    "\n",
    "    start_time = time()\n",
    "    modvar, stats_object = trainer.train()\n",
    "    time_train = time() - start_time"
   ]
  },
  {
   "cell_type": "markdown",
   "id": "00a9c87e",
   "metadata": {},
   "source": [
    "Evaluate on testing data."
   ]
  },
  {
   "cell_type": "code",
   "execution_count": 8,
   "id": "c0c10f04",
   "metadata": {
    "collapsed": false,
    "execution": {
     "iopub.execute_input": "2024-10-11T21:13:30.999235Z",
     "iopub.status.busy": "2024-10-11T21:13:30.998907Z",
     "iopub.status.idle": "2024-10-11T21:13:32.972589Z",
     "shell.execute_reply": "2024-10-11T21:13:32.971400Z"
    }
   },
   "outputs": [],
   "source": [
    "del train_ds[\"image\"]\n",
    "del train_ds[\"label\"]\n",
    "\n",
    "fmap = sflax.FlaxMap(model, modvar)\n",
    "del model, modvar\n",
    "\n",
    "maxn = test_nimg // 4\n",
    "start_time = time()\n",
    "output = fmap(test_ds[\"image\"][:maxn])\n",
    "time_eval = time() - start_time\n",
    "output = np.clip(output, a_min=0, a_max=1.0)"
   ]
  },
  {
   "cell_type": "markdown",
   "id": "9bb1b583",
   "metadata": {},
   "source": [
    "Evaluate trained model in terms of reconstruction time\n",
    "and data fidelity."
   ]
  },
  {
   "cell_type": "code",
   "execution_count": 9,
   "id": "09951634",
   "metadata": {
    "collapsed": false,
    "execution": {
     "iopub.execute_input": "2024-10-11T21:13:32.975625Z",
     "iopub.status.busy": "2024-10-11T21:13:32.975272Z",
     "iopub.status.idle": "2024-10-11T21:13:33.511056Z",
     "shell.execute_reply": "2024-10-11T21:13:33.509713Z"
    }
   },
   "outputs": [
    {
     "name": "stdout",
     "output_type": "stream",
     "text": [
      "MoDLNet training  epochs:   50                     time[s]:    33.71\n",
      "MoDLNet testing   SNR: 16.20 dB   PSNR: 23.28 dB   time[s]:     1.92\n"
     ]
    }
   ],
   "source": [
    "total_epochs = epochs_init + train_conf[\"num_epochs\"]\n",
    "total_time_train = time_init + time_train\n",
    "snr_eval = metric.snr(test_ds[\"label\"][:maxn], output)\n",
    "psnr_eval = metric.psnr(test_ds[\"label\"][:maxn], output)\n",
    "print(\n",
    "    f\"{'MoDLNet training':18s}{'epochs:':2s}{total_epochs:>5d}{'':21s}\"\n",
    "    f\"{'time[s]:':10s}{total_time_train:>7.2f}\"\n",
    ")\n",
    "print(\n",
    "    f\"{'MoDLNet testing':18s}{'SNR:':5s}{snr_eval:>5.2f}{' dB'}\"\n",
    "    f\"{'':3s}{'PSNR:':6s}{psnr_eval:>5.2f}{' dB'}{'':3s}{'time[s]:':10s}{time_eval:>7.2f}\"\n",
    ")"
   ]
  },
  {
   "cell_type": "markdown",
   "id": "8502105e",
   "metadata": {},
   "source": [
    "Plot comparison."
   ]
  },
  {
   "cell_type": "code",
   "execution_count": 10,
   "id": "e8d08818",
   "metadata": {
    "collapsed": false,
    "execution": {
     "iopub.execute_input": "2024-10-11T21:13:33.513620Z",
     "iopub.status.busy": "2024-10-11T21:13:33.513266Z",
     "iopub.status.idle": "2024-10-11T21:13:34.072831Z",
     "shell.execute_reply": "2024-10-11T21:13:34.071624Z"
    }
   },
   "outputs": [],
   "source": [
    "np.random.seed(123)\n",
    "indx = np.random.randint(0, high=maxn)\n",
    "\n",
    "fig, ax = plot.subplots(nrows=1, ncols=3, figsize=(15, 5))\n",
    "plot.imview(test_ds[\"label\"][indx, ..., 0], title=\"Ground truth\", cbar=None, fig=fig, ax=ax[0])\n",
    "plot.imview(\n",
    "    test_ds[\"image\"][indx, ..., 0],\n",
    "    title=\"Blurred: \\nSNR: %.2f (dB), PSNR: %.2f\"\n",
    "    % (\n",
    "        metric.snr(test_ds[\"label\"][indx, ..., 0], test_ds[\"image\"][indx, ..., 0]),\n",
    "        metric.psnr(test_ds[\"label\"][indx, ..., 0], test_ds[\"image\"][indx, ..., 0]),\n",
    "    ),\n",
    "    cbar=None,\n",
    "    fig=fig,\n",
    "    ax=ax[1],\n",
    ")\n",
    "plot.imview(\n",
    "    output[indx, ..., 0],\n",
    "    title=\"MoDLNet Reconstruction\\nSNR: %.2f (dB), PSNR: %.2f\"\n",
    "    % (\n",
    "        metric.snr(test_ds[\"label\"][indx, ..., 0], output[indx, ..., 0]),\n",
    "        metric.psnr(test_ds[\"label\"][indx, ..., 0], output[indx, ..., 0]),\n",
    "    ),\n",
    "    fig=fig,\n",
    "    ax=ax[2],\n",
    ")\n",
    "divider = make_axes_locatable(ax[2])\n",
    "cax = divider.append_axes(\"right\", size=\"5%\", pad=0.2)\n",
    "fig.colorbar(ax[2].get_images()[0], cax=cax, label=\"arbitrary units\")\n",
    "fig.show()"
   ]
  },
  {
   "cell_type": "markdown",
   "id": "4a718bff",
   "metadata": {},
   "source": [
    "Plot convergence statistics. Statistics are generated only if a training\n",
    "cycle was done (i.e. if not reading final epoch results from checkpoint)."
   ]
  },
  {
   "cell_type": "code",
   "execution_count": 11,
   "id": "17f147e3",
   "metadata": {
    "collapsed": false,
    "execution": {
     "iopub.execute_input": "2024-10-11T21:13:34.075648Z",
     "iopub.status.busy": "2024-10-11T21:13:34.075321Z",
     "iopub.status.idle": "2024-10-11T21:13:34.418993Z",
     "shell.execute_reply": "2024-10-11T21:13:34.417749Z"
    }
   },
   "outputs": [],
   "source": [
    "if stats_object is not None and len(stats_object.iterations) > 0:\n",
    "    hist = stats_object.history(transpose=True)\n",
    "    fig, ax = plot.subplots(nrows=1, ncols=2, figsize=(12, 5))\n",
    "    plot.plot(\n",
    "        np.vstack((hist.Train_Loss, hist.Eval_Loss)).T,\n",
    "        x=hist.Epoch,\n",
    "        ptyp=\"semilogy\",\n",
    "        title=\"Loss function\",\n",
    "        xlbl=\"Epoch\",\n",
    "        ylbl=\"Loss value\",\n",
    "        lgnd=(\"Train\", \"Test\"),\n",
    "        fig=fig,\n",
    "        ax=ax[0],\n",
    "    )\n",
    "    plot.plot(\n",
    "        np.vstack((hist.Train_SNR, hist.Eval_SNR)).T,\n",
    "        x=hist.Epoch,\n",
    "        title=\"Metric\",\n",
    "        xlbl=\"Epoch\",\n",
    "        ylbl=\"SNR (dB)\",\n",
    "        lgnd=(\"Train\", \"Test\"),\n",
    "        fig=fig,\n",
    "        ax=ax[1],\n",
    "    )\n",
    "    fig.show()\n",
    "\n",
    "# Stats for initialization loop\n",
    "if stats_object_ini is not None and len(stats_object_ini.iterations) > 0:\n",
    "    hist = stats_object_ini.history(transpose=True)\n",
    "    fig, ax = plot.subplots(nrows=1, ncols=2, figsize=(12, 5))\n",
    "    plot.plot(\n",
    "        np.vstack((hist.Train_Loss, hist.Eval_Loss)).T,\n",
    "        x=hist.Epoch,\n",
    "        ptyp=\"semilogy\",\n",
    "        title=\"Loss function - Initialization\",\n",
    "        xlbl=\"Epoch\",\n",
    "        ylbl=\"Loss value\",\n",
    "        lgnd=(\"Train\", \"Test\"),\n",
    "        fig=fig,\n",
    "        ax=ax[0],\n",
    "    )\n",
    "    plot.plot(\n",
    "        np.vstack((hist.Train_SNR, hist.Eval_SNR)).T,\n",
    "        x=hist.Epoch,\n",
    "        title=\"Metric - Initialization\",\n",
    "        xlbl=\"Epoch\",\n",
    "        ylbl=\"SNR (dB)\",\n",
    "        lgnd=(\"Train\", \"Test\"),\n",
    "        fig=fig,\n",
    "        ax=ax[1],\n",
    "    )\n",
    "    fig.show()"
   ]
  }
 ],
 "metadata": {
  "language_info": {
   "codemirror_mode": {
    "name": "ipython",
    "version": 3
   },
   "file_extension": ".py",
   "mimetype": "text/x-python",
   "name": "python",
   "nbconvert_exporter": "python",
   "pygments_lexer": "ipython3",
   "version": "3.12.7"
  }
 },
 "nbformat": 4,
 "nbformat_minor": 5
}
