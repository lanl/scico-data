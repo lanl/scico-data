{
 "cells": [
  {
   "cell_type": "markdown",
   "id": "a63cf0ae",
   "metadata": {},
   "source": [
    "Convolutional Sparse Coding (ADMM)\n",
    "==================================\n",
    "\n",
    "This example demonstrates the solution of a simple convolutional sparse\n",
    "coding problem\n",
    "\n",
    "  $$\\mathrm{argmin}_{\\mathbf{x}} \\; (1/2) \\| \\mathbf{y} - \\sum_k\n",
    "  \\mathbf{h}_k \\ast \\mathbf{x}_k \\|_2^2 + \\lambda \\sum_k\n",
    "  \\| \\mathbf{x}_k \\|_1  \\;,$$\n",
    "\n",
    "where the $\\mathbf{h}$_k is a set of filters comprising the dictionary,\n",
    "the $\\mathbf{x}$_k is a corrresponding set of coefficient maps, and\n",
    "$\\mathbf{y}$ is the signal to be represented. The problem is solved via\n",
    "an ADMM algorithm using the frequency-domain approach proposed in\n",
    "<cite data-cite=\"wohlberg-2014-efficient\"/>."
   ]
  },
  {
   "cell_type": "code",
   "execution_count": null,
   "id": "442eb659",
   "metadata": {
    "collapsed": false
   },
   "outputs": [],
   "source": [
    "import numpy as np\n",
    "\n",
    "import jax\n",
    "\n",
    "import scico.numpy as snp\n",
    "from scico import plot\n",
    "from scico.examples import create_conv_sparse_phantom\n",
    "from scico.functional import DiffL1L2Norms\n",
    "from scico.linop import CircularConvolve, Identity, Sum\n",
    "from scico.loss import SquaredL2Loss\n",
    "from scico.optimize.admm import ADMM, BlockCircularConvolveForm1Solver\n",
    "from scico.util import device_info\n",
    "plot.config_notebook_plotting()"
   ]
  },
  {
   "cell_type": "markdown",
   "id": "c629164c",
   "metadata": {},
   "source": [
    "Set problem size and create random convolutional dictionary (a set of\n",
    "filters) and a corresponding sparse random set of coefficient maps."
   ]
  },
  {
   "cell_type": "code",
   "execution_count": null,
   "id": "da7849d0",
   "metadata": {
    "collapsed": false
   },
   "outputs": [],
   "source": [
    "N = 128  # image size\n",
    "Nnz = 128  # number of non-zeros in coefficient maps\n",
    "h, x0 = create_conv_sparse_phantom(N, Nnz)"
   ]
  },
  {
   "cell_type": "markdown",
   "id": "23420f0d",
   "metadata": {},
   "source": [
    "Normalize dictionary filters and scale coefficient maps accordingly."
   ]
  },
  {
   "cell_type": "code",
   "execution_count": null,
   "id": "0acdc60d",
   "metadata": {
    "collapsed": false
   },
   "outputs": [],
   "source": [
    "hnorm = np.sqrt(np.sum(h**2, axis=(1, 2), keepdims=True))\n",
    "h /= hnorm\n",
    "x0 *= hnorm"
   ]
  },
  {
   "cell_type": "markdown",
   "id": "f04b1fb0",
   "metadata": {},
   "source": [
    "Convert numpy arrays to jax arrays."
   ]
  },
  {
   "cell_type": "code",
   "execution_count": null,
   "id": "7c200ed3",
   "metadata": {
    "collapsed": false
   },
   "outputs": [],
   "source": [
    "h = jax.device_put(h)\n",
    "x0 = jax.device_put(x0)"
   ]
  },
  {
   "cell_type": "markdown",
   "id": "47a48a18",
   "metadata": {},
   "source": [
    "Set up sum-of-convolutions forward operator."
   ]
  },
  {
   "cell_type": "code",
   "execution_count": null,
   "id": "3e9504ce",
   "metadata": {
    "collapsed": false
   },
   "outputs": [],
   "source": [
    "C = CircularConvolve(h, input_shape=x0.shape, ndims=2)\n",
    "S = Sum(input_shape=C.output_shape, axis=0)\n",
    "A = S @ C"
   ]
  },
  {
   "cell_type": "markdown",
   "id": "104097e4",
   "metadata": {},
   "source": [
    "Construct test image from dictionary $\\mathbf{h}$ and coefficient maps\n",
    "$\\mathbf{x}_0$."
   ]
  },
  {
   "cell_type": "code",
   "execution_count": null,
   "id": "80e02967",
   "metadata": {
    "collapsed": false
   },
   "outputs": [],
   "source": [
    "y = A(x0)"
   ]
  },
  {
   "cell_type": "markdown",
   "id": "ff6afc54",
   "metadata": {},
   "source": [
    "Set functional and solver parameters."
   ]
  },
  {
   "cell_type": "code",
   "execution_count": null,
   "id": "1e4187bc",
   "metadata": {
    "collapsed": false
   },
   "outputs": [],
   "source": [
    "λ = 1e0  # l1-l2 norm regularization parameter\n",
    "ρ = 2e0  # ADMM penalty parameter\n",
    "maxiter = 200  # number of ADMM iterations"
   ]
  },
  {
   "cell_type": "markdown",
   "id": "d76d2ccf",
   "metadata": {},
   "source": [
    "Define loss function and regularization. Note the use of the\n",
    "$\\ell_1 - \\ell_2$ norm, which has been found to provide slightly better\n",
    "performance than the $\\ell_1$ norm in this type of problem\n",
    "<cite data-cite=\"wohlberg-2021-psf\"/>."
   ]
  },
  {
   "cell_type": "code",
   "execution_count": null,
   "id": "c1d0f2cc",
   "metadata": {
    "collapsed": false
   },
   "outputs": [],
   "source": [
    "f = SquaredL2Loss(y=y, A=A)\n",
    "g0 = λ * DiffL1L2Norms()\n",
    "C0 = Identity(input_shape=x0.shape)"
   ]
  },
  {
   "cell_type": "markdown",
   "id": "8081477f",
   "metadata": {},
   "source": [
    "Initialize ADMM solver."
   ]
  },
  {
   "cell_type": "code",
   "execution_count": null,
   "id": "764e1ee6",
   "metadata": {
    "collapsed": false
   },
   "outputs": [],
   "source": [
    "solver = ADMM(\n",
    "    f=f,\n",
    "    g_list=[g0],\n",
    "    C_list=[C0],\n",
    "    rho_list=[ρ],\n",
    "    alpha=1.8,\n",
    "    maxiter=maxiter,\n",
    "    subproblem_solver=BlockCircularConvolveForm1Solver(check_solve=True),\n",
    "    itstat_options={\"display\": True, \"period\": 10},\n",
    ")"
   ]
  },
  {
   "cell_type": "markdown",
   "id": "f4c79f20",
   "metadata": {},
   "source": [
    "Run the solver."
   ]
  },
  {
   "cell_type": "code",
   "execution_count": null,
   "id": "06992fec",
   "metadata": {
    "collapsed": false
   },
   "outputs": [],
   "source": [
    "print(f\"Solving on {device_info()}\\n\")\n",
    "x1 = solver.solve()\n",
    "hist = solver.itstat_object.history(transpose=True)"
   ]
  },
  {
   "cell_type": "markdown",
   "id": "4f31c480",
   "metadata": {},
   "source": [
    "Show the recovered coefficient maps."
   ]
  },
  {
   "cell_type": "code",
   "execution_count": null,
   "id": "21506f5d",
   "metadata": {
    "collapsed": false
   },
   "outputs": [],
   "source": [
    "fig, ax = plot.subplots(nrows=2, ncols=3, figsize=(12, 8.6))\n",
    "plot.imview(x0[0], title=\"Coef. map 0\", cmap=plot.cm.Blues, fig=fig, ax=ax[0, 0])\n",
    "ax[0, 0].set_ylabel(\"Ground truth\")\n",
    "plot.imview(x0[1], title=\"Coef. map 1\", cmap=plot.cm.Blues, fig=fig, ax=ax[0, 1])\n",
    "plot.imview(x0[2], title=\"Coef. map 2\", cmap=plot.cm.Blues, fig=fig, ax=ax[0, 2])\n",
    "plot.imview(x1[0], cmap=plot.cm.Blues, fig=fig, ax=ax[1, 0])\n",
    "ax[1, 0].set_ylabel(\"Recovered\")\n",
    "plot.imview(x1[1], cmap=plot.cm.Blues, fig=fig, ax=ax[1, 1])\n",
    "plot.imview(x1[2], cmap=plot.cm.Blues, fig=fig, ax=ax[1, 2])\n",
    "fig.tight_layout()\n",
    "fig.show()"
   ]
  },
  {
   "cell_type": "markdown",
   "id": "44eff7af",
   "metadata": {},
   "source": [
    "Show test image and reconstruction from recovered coefficient maps."
   ]
  },
  {
   "cell_type": "code",
   "execution_count": null,
   "id": "ed2f5bbe",
   "metadata": {
    "collapsed": false
   },
   "outputs": [],
   "source": [
    "fig, ax = plot.subplots(nrows=1, ncols=2, figsize=(12, 6))\n",
    "plot.imview(y, title=\"Test image\", cmap=plot.cm.gist_heat_r, fig=fig, ax=ax[0])\n",
    "plot.imview(A(x1), title=\"Reconstructed image\", cmap=plot.cm.gist_heat_r, fig=fig, ax=ax[1])\n",
    "fig.show()"
   ]
  },
  {
   "cell_type": "markdown",
   "id": "7a1cdfc4",
   "metadata": {},
   "source": [
    "Plot convergence statistics."
   ]
  },
  {
   "cell_type": "code",
   "execution_count": null,
   "id": "81284f22",
   "metadata": {
    "collapsed": false
   },
   "outputs": [],
   "source": [
    "fig, ax = plot.subplots(nrows=1, ncols=2, figsize=(12, 5))\n",
    "plot.plot(\n",
    "    hist.Objective,\n",
    "    title=\"Objective function\",\n",
    "    xlbl=\"Iteration\",\n",
    "    ylbl=\"Functional value\",\n",
    "    fig=fig,\n",
    "    ax=ax[0],\n",
    ")\n",
    "plot.plot(\n",
    "    snp.vstack((hist.Prml_Rsdl, hist.Dual_Rsdl)).T,\n",
    "    ptyp=\"semilogy\",\n",
    "    title=\"Residuals\",\n",
    "    xlbl=\"Iteration\",\n",
    "    lgnd=(\"Primal\", \"Dual\"),\n",
    "    fig=fig,\n",
    "    ax=ax[1],\n",
    ")\n",
    "fig.show()"
   ]
  }
 ],
 "metadata": {},
 "nbformat": 4,
 "nbformat_minor": 5
}
