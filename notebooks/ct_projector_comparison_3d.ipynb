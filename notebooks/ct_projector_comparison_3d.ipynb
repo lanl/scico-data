{
 "cells": [
  {
   "cell_type": "markdown",
   "id": "1bc9adec",
   "metadata": {},
   "source": [
    "3D X-ray Transform Comparison\n",
    "=============================\n",
    "\n",
    "This example shows how to define a SCICO native 3D X-ray transform using\n",
    "ASTRA toolbox conventions and vice versa."
   ]
  },
  {
   "cell_type": "code",
   "execution_count": 1,
   "id": "74cbd86c",
   "metadata": {
    "collapsed": false,
    "execution": {
     "iopub.execute_input": "2024-10-12T00:10:03.178874Z",
     "iopub.status.busy": "2024-10-12T00:10:03.178409Z",
     "iopub.status.idle": "2024-10-12T00:10:07.111043Z",
     "shell.execute_reply": "2024-10-12T00:10:07.110121Z"
    }
   },
   "outputs": [],
   "source": [
    "import numpy as np\n",
    "\n",
    "import jax\n",
    "import jax.numpy as jnp\n",
    "\n",
    "import scico.linop.xray.astra as astra\n",
    "from scico import plot\n",
    "from scico.examples import create_block_phantom\n",
    "from scico.linop.xray import XRayTransform3D\n",
    "from scico.util import ContextTimer, Timer\n",
    "plot.config_notebook_plotting()"
   ]
  },
  {
   "cell_type": "markdown",
   "id": "c9e28e68",
   "metadata": {},
   "source": [
    "Create a ground truth image and set detector dimensions."
   ]
  },
  {
   "cell_type": "code",
   "execution_count": 2,
   "id": "bebe4f4c",
   "metadata": {
    "collapsed": false,
    "execution": {
     "iopub.execute_input": "2024-10-12T00:10:07.116370Z",
     "iopub.status.busy": "2024-10-12T00:10:07.116102Z",
     "iopub.status.idle": "2024-10-12T00:10:07.269480Z",
     "shell.execute_reply": "2024-10-12T00:10:07.268622Z"
    }
   },
   "outputs": [],
   "source": [
    "N = 64\n",
    "# use rectangular volume to check whether axes are handled correctly\n",
    "in_shape = (N + 1, N + 2, N + 3)\n",
    "x = create_block_phantom(in_shape)\n",
    "x = jnp.array(x)\n",
    "\n",
    "# use rectangular detector to check whether axes are handled correctly\n",
    "out_shape = (N, N + 1)"
   ]
  },
  {
   "cell_type": "markdown",
   "id": "675a01da",
   "metadata": {},
   "source": [
    "Set up SCICO projection."
   ]
  },
  {
   "cell_type": "code",
   "execution_count": 3,
   "id": "68ed8e0c",
   "metadata": {
    "collapsed": false,
    "execution": {
     "iopub.execute_input": "2024-10-12T00:10:07.273981Z",
     "iopub.status.busy": "2024-10-12T00:10:07.273610Z",
     "iopub.status.idle": "2024-10-12T00:10:07.342044Z",
     "shell.execute_reply": "2024-10-12T00:10:07.341072Z"
    }
   },
   "outputs": [],
   "source": [
    "num_angles = 3\n",
    "\n",
    "\n",
    "rot_X = 90.0 - 16.0\n",
    "rot_Y = np.linspace(0, 180, num_angles, endpoint=False)\n",
    "angles = np.stack(np.broadcast_arrays(rot_X, rot_Y), axis=-1)\n",
    "matrices = XRayTransform3D.matrices_from_euler_angles(\n",
    "    in_shape, out_shape, \"XY\", angles, degrees=True\n",
    ")"
   ]
  },
  {
   "cell_type": "markdown",
   "id": "aa9a9412",
   "metadata": {},
   "source": [
    "Specify geometry using SCICO conventions and project."
   ]
  },
  {
   "cell_type": "code",
   "execution_count": 4,
   "id": "281e94ec",
   "metadata": {
    "collapsed": false,
    "execution": {
     "iopub.execute_input": "2024-10-12T00:10:07.345472Z",
     "iopub.status.busy": "2024-10-12T00:10:07.345272Z",
     "iopub.status.idle": "2024-10-12T00:10:09.235428Z",
     "shell.execute_reply": "2024-10-12T00:10:09.234746Z"
    }
   },
   "outputs": [],
   "source": [
    "num_repeats = 3\n",
    "\n",
    "timer_scico = Timer()\n",
    "with ContextTimer(timer_scico, \"init\"):\n",
    "    H_scico = XRayTransform3D(in_shape, matrices, out_shape)\n",
    "\n",
    "with ContextTimer(timer_scico, \"first_fwd\"):\n",
    "    y_scico = H_scico @ x\n",
    "    jax.block_until_ready(y_scico)\n",
    "\n",
    "with ContextTimer(timer_scico, \"avg_fwd\"):\n",
    "    for _ in range(num_repeats):\n",
    "        y_scico = H_scico @ x\n",
    "        jax.block_until_ready(y_scico)\n",
    "timer_scico.td[\"avg_fwd\"] /= num_repeats\n",
    "\n",
    "with ContextTimer(timer_scico, \"first_back\"):\n",
    "    HTy_scico = H_scico.T @ y_scico\n",
    "\n",
    "with ContextTimer(timer_scico, \"avg_back\"):\n",
    "    for _ in range(num_repeats):\n",
    "        HTy_scico = H_scico.T @ y_scico\n",
    "        jax.block_until_ready(HTy_scico)\n",
    "timer_scico.td[\"avg_back\"] /= num_repeats"
   ]
  },
  {
   "cell_type": "markdown",
   "id": "48acd92a",
   "metadata": {},
   "source": [
    "Convert SCICO geometry to ASTRA and project."
   ]
  },
  {
   "cell_type": "code",
   "execution_count": 5,
   "id": "a37c513f",
   "metadata": {
    "collapsed": false,
    "execution": {
     "iopub.execute_input": "2024-10-12T00:10:09.238303Z",
     "iopub.status.busy": "2024-10-12T00:10:09.238130Z",
     "iopub.status.idle": "2024-10-12T00:10:10.209055Z",
     "shell.execute_reply": "2024-10-12T00:10:10.207859Z"
    }
   },
   "outputs": [],
   "source": [
    "vectors_from_scico = astra.convert_from_scico_geometry(in_shape, matrices, out_shape)\n",
    "\n",
    "timer_astra = Timer()\n",
    "with ContextTimer(timer_astra, \"init\"):\n",
    "    H_astra_from_scico = astra.XRayTransform3D(\n",
    "        input_shape=in_shape, det_count=out_shape, vectors=vectors_from_scico\n",
    "    )\n",
    "\n",
    "with ContextTimer(timer_astra, \"first_fwd\"):\n",
    "    y_astra_from_scico = H_astra_from_scico @ x\n",
    "    jax.block_until_ready(y_astra_from_scico)\n",
    "\n",
    "with ContextTimer(timer_astra, \"avg_fwd\"):\n",
    "    for _ in range(num_repeats):\n",
    "        y_astra_from_scico = H_astra_from_scico @ x\n",
    "        jax.block_until_ready(y_astra_from_scico)\n",
    "timer_astra.td[\"avg_fwd\"] /= num_repeats\n",
    "\n",
    "with ContextTimer(timer_astra, \"first_back\"):\n",
    "    HTy_astra_from_scico = H_astra_from_scico.T @ y_astra_from_scico\n",
    "\n",
    "with ContextTimer(timer_astra, \"avg_back\"):\n",
    "    for _ in range(num_repeats):\n",
    "        HTy_astra_from_scico = H_astra_from_scico.T @ y_astra_from_scico\n",
    "        jax.block_until_ready(HTy_astra_from_scico)\n",
    "timer_astra.td[\"avg_back\"] /= num_repeats"
   ]
  },
  {
   "cell_type": "markdown",
   "id": "9661c859",
   "metadata": {},
   "source": [
    "Specify geometry with ASTRA conventions and project."
   ]
  },
  {
   "cell_type": "code",
   "execution_count": 6,
   "id": "c8ee2439",
   "metadata": {
    "collapsed": false,
    "execution": {
     "iopub.execute_input": "2024-10-12T00:10:10.221449Z",
     "iopub.status.busy": "2024-10-12T00:10:10.220379Z",
     "iopub.status.idle": "2024-10-12T00:10:10.318598Z",
     "shell.execute_reply": "2024-10-12T00:10:10.317199Z"
    }
   },
   "outputs": [],
   "source": [
    "angles = np.random.rand(num_angles) * 180  # random projection angles\n",
    "det_spacing = [1.0, 1.0]\n",
    "vectors = astra.angle_to_vector(det_spacing, angles)\n",
    "\n",
    "H_astra = astra.XRayTransform3D(input_shape=in_shape, det_count=out_shape, vectors=vectors)\n",
    "\n",
    "y_astra = H_astra @ x\n",
    "HTy_astra = H_astra.T @ y_astra"
   ]
  },
  {
   "cell_type": "markdown",
   "id": "2cd08e9d",
   "metadata": {},
   "source": [
    "Convert ASTRA geometry to SCICO and project."
   ]
  },
  {
   "cell_type": "code",
   "execution_count": 7,
   "id": "7ad17224",
   "metadata": {
    "collapsed": false,
    "execution": {
     "iopub.execute_input": "2024-10-12T00:10:10.323715Z",
     "iopub.status.busy": "2024-10-12T00:10:10.323359Z",
     "iopub.status.idle": "2024-10-12T00:10:10.428501Z",
     "shell.execute_reply": "2024-10-12T00:10:10.427467Z"
    }
   },
   "outputs": [],
   "source": [
    "P_from_astra = astra._astra_to_scico_geometry(H_astra.vol_geom, H_astra.proj_geom)\n",
    "H_scico_from_astra = XRayTransform3D(in_shape, P_from_astra, out_shape)\n",
    "\n",
    "y_scico_from_astra = H_scico_from_astra @ x\n",
    "HTy_scico_from_astra = H_scico_from_astra.T @ y_scico_from_astra"
   ]
  },
  {
   "cell_type": "markdown",
   "id": "c87fd388",
   "metadata": {},
   "source": [
    "Print timing results."
   ]
  },
  {
   "cell_type": "code",
   "execution_count": 8,
   "id": "529aa7eb",
   "metadata": {
    "collapsed": false,
    "execution": {
     "iopub.execute_input": "2024-10-12T00:10:10.433807Z",
     "iopub.status.busy": "2024-10-12T00:10:10.433446Z",
     "iopub.status.idle": "2024-10-12T00:10:10.439587Z",
     "shell.execute_reply": "2024-10-12T00:10:10.438933Z"
    }
   },
   "outputs": [
    {
     "name": "stdout",
     "output_type": "stream",
     "text": [
      "init         astra    7.75e-05 s\n",
      "init         scico    8.81e-01 s\n",
      "\n",
      "first  fwd   astra    4.70e-02 s\n",
      "first  fwd   scico    3.15e-02 s\n",
      "\n",
      "first  back  astra    4.90e-02 s\n",
      "first  back  scico    7.73e-01 s\n",
      "\n",
      "avg    fwd   astra    4.54e-02 s\n",
      "avg    fwd   scico    2.99e-02 s\n",
      "\n",
      "avg    back  astra    4.62e-02 s\n",
      "avg    back  scico    3.64e-02 s\n",
      "\n"
     ]
    }
   ],
   "source": [
    "print(f\"init         astra    {timer_astra.td['init']:.2e} s\")\n",
    "print(f\"init         scico    {timer_scico.td['init']:.2e} s\")\n",
    "print(\"\")\n",
    "for tstr in (\"first\", \"avg\"):\n",
    "    for dstr in (\"fwd\", \"back\"):\n",
    "        for timer, pstr in zip((timer_astra, timer_scico), (\"astra\", \"scico\")):\n",
    "            print(f\"{tstr:5s}  {dstr:4s}  {pstr}    {timer.td[tstr + '_' + dstr]:.2e} s\")\n",
    "        print()"
   ]
  },
  {
   "cell_type": "markdown",
   "id": "80233fc6",
   "metadata": {},
   "source": [
    "Show projections."
   ]
  },
  {
   "cell_type": "code",
   "execution_count": 9,
   "id": "98ba28f7",
   "metadata": {
    "collapsed": false,
    "execution": {
     "iopub.execute_input": "2024-10-12T00:10:10.442717Z",
     "iopub.status.busy": "2024-10-12T00:10:10.442321Z",
     "iopub.status.idle": "2024-10-12T00:10:11.490003Z",
     "shell.execute_reply": "2024-10-12T00:10:11.489542Z"
    }
   },
   "outputs": [],
   "source": [
    "fig, ax = plot.subplots(nrows=3, ncols=2, figsize=(8, 10))\n",
    "plot.imview(y_scico[0], title=\"SCICO projections\", cbar=None, fig=fig, ax=ax[0, 0])\n",
    "plot.imview(y_scico[1], cbar=None, fig=fig, ax=ax[1, 0])\n",
    "plot.imview(y_scico[2], cbar=None, fig=fig, ax=ax[2, 0])\n",
    "plot.imview(y_astra_from_scico[:, 0], title=\"ASTRA projections\", cbar=None, fig=fig, ax=ax[0, 1])\n",
    "plot.imview(y_astra_from_scico[:, 1], cbar=None, fig=fig, ax=ax[1, 1])\n",
    "plot.imview(y_astra_from_scico[:, 2], cbar=None, fig=fig, ax=ax[2, 1])\n",
    "fig.suptitle(\"Using SCICO conventions\")\n",
    "fig.tight_layout()\n",
    "fig.show()\n",
    "\n",
    "fig, ax = plot.subplots(nrows=3, ncols=2, figsize=(8, 10))\n",
    "plot.imview(y_scico_from_astra[0], title=\"SCICO projections\", cbar=None, fig=fig, ax=ax[0, 0])\n",
    "plot.imview(y_scico_from_astra[1], cbar=None, fig=fig, ax=ax[1, 0])\n",
    "plot.imview(y_scico_from_astra[2], cbar=None, fig=fig, ax=ax[2, 0])\n",
    "plot.imview(y_astra[:, 0], title=\"ASTRA projections\", cbar=None, fig=fig, ax=ax[0, 1])\n",
    "plot.imview(y_astra[:, 1], cbar=None, fig=fig, ax=ax[1, 1])\n",
    "plot.imview(y_astra[:, 2], cbar=None, fig=fig, ax=ax[2, 1])\n",
    "fig.suptitle(\"Using ASTRA conventions\")\n",
    "fig.tight_layout()\n",
    "fig.show()"
   ]
  },
  {
   "cell_type": "markdown",
   "id": "a7a90bde",
   "metadata": {},
   "source": [
    "Show back projections."
   ]
  },
  {
   "cell_type": "code",
   "execution_count": 10,
   "id": "7dc3bc0b",
   "metadata": {
    "collapsed": false,
    "execution": {
     "iopub.execute_input": "2024-10-12T00:10:11.494853Z",
     "iopub.status.busy": "2024-10-12T00:10:11.494632Z",
     "iopub.status.idle": "2024-10-12T00:10:12.057199Z",
     "shell.execute_reply": "2024-10-12T00:10:12.056362Z"
    }
   },
   "outputs": [],
   "source": [
    "fig, ax = plot.subplots(nrows=1, ncols=2, figsize=(8, 5))\n",
    "plot.imview(HTy_scico[N // 2], title=\"SCICO back projection\", cbar=None, fig=fig, ax=ax[0])\n",
    "plot.imview(\n",
    "    HTy_astra_from_scico[N // 2], title=\"ASTRA back projection\", cbar=None, fig=fig, ax=ax[1]\n",
    ")\n",
    "fig.suptitle(\"Using SCICO conventions\")\n",
    "fig.tight_layout()\n",
    "fig.show()\n",
    "\n",
    "fig, ax = plot.subplots(nrows=1, ncols=2, figsize=(8, 5))\n",
    "plot.imview(\n",
    "    HTy_scico_from_astra[N // 2], title=\"SCICO back projection\", cbar=None, fig=fig, ax=ax[0]\n",
    ")\n",
    "plot.imview(HTy_astra[N // 2], title=\"ASTRA back projection\", cbar=None, fig=fig, ax=ax[1])\n",
    "fig.suptitle(\"Using ASTRA conventions\")\n",
    "fig.tight_layout()\n",
    "fig.show()"
   ]
  }
 ],
 "metadata": {
  "language_info": {
   "codemirror_mode": {
    "name": "ipython",
    "version": 3
   },
   "file_extension": ".py",
   "mimetype": "text/x-python",
   "name": "python",
   "nbconvert_exporter": "python",
   "pygments_lexer": "ipython3",
   "version": "3.12.2"
  }
 },
 "nbformat": 4,
 "nbformat_minor": 5
}
