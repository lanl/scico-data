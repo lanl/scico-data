{
 "cells": [
  {
   "cell_type": "markdown",
   "id": "4151fd9c",
   "metadata": {},
   "source": [
    "CT Training and Reconstructions with UNet\n",
    "=========================================\n",
    "\n",
    "This example demonstrates the training and application of UNet to denoise\n",
    "previously filtered back projections (FBP) for CT reconstruction inspired\n",
    "by <cite data-cite=\"jin-2017-unet\"/>."
   ]
  },
  {
   "cell_type": "code",
   "execution_count": 1,
   "id": "7860d083",
   "metadata": {
    "collapsed": false,
    "execution": {
     "iopub.execute_input": "2024-10-11T21:01:56.422134Z",
     "iopub.status.busy": "2024-10-11T21:01:56.421914Z",
     "iopub.status.idle": "2024-10-11T21:03:04.654127Z",
     "shell.execute_reply": "2024-10-11T21:03:04.653230Z"
    }
   },
   "outputs": [
    {
     "name": "stdout",
     "output_type": "stream",
     "text": [
      "Platform:  gpu\n"
     ]
    }
   ],
   "source": [
    "# isort: off\n",
    "import os\n",
    "from time import time\n",
    "\n",
    "import logging\n",
    "import ray\n",
    "\n",
    "ray.init(logging_level=logging.ERROR)  # need to call init before jax import: ray-project/ray#44087\n",
    "\n",
    "# Set an arbitrary processor count (only applies if GPU is not available).\n",
    "os.environ[\"XLA_FLAGS\"] = \"--xla_force_host_platform_device_count=8\"\n",
    "\n",
    "import jax\n",
    "\n",
    "try:\n",
    "    from jax.extend.backend import get_backend  # introduced in jax 0.4.33\n",
    "except ImportError:\n",
    "    from jax.lib.xla_bridge import get_backend\n",
    "\n",
    "import numpy as np\n",
    "\n",
    "from mpl_toolkits.axes_grid1 import make_axes_locatable\n",
    "\n",
    "from scico import flax as sflax\n",
    "from scico import metric, plot\n",
    "from scico.flax.examples import load_ct_data\n",
    "plot.config_notebook_plotting()\n",
    "\n",
    "\n",
    "platform = get_backend().platform\n",
    "print(\"Platform: \", platform)"
   ]
  },
  {
   "cell_type": "markdown",
   "id": "a89d0320",
   "metadata": {},
   "source": [
    "Read data from cache or generate if not available."
   ]
  },
  {
   "cell_type": "code",
   "execution_count": 2,
   "id": "0f4bee54",
   "metadata": {
    "collapsed": false,
    "execution": {
     "iopub.execute_input": "2024-10-11T21:03:04.657065Z",
     "iopub.status.busy": "2024-10-11T21:03:04.656493Z",
     "iopub.status.idle": "2024-10-11T21:03:05.271920Z",
     "shell.execute_reply": "2024-10-11T21:03:05.270978Z"
    }
   },
   "outputs": [
    {
     "name": "stdout",
     "output_type": "stream",
     "text": [
      "Data read from path: ~/.cache/scico/examples/data\n",
      "Set --training-- size: 498\n",
      "Set --testing -- size: 32\n",
      "Data range --images  --  Min:  0.00  Max:  1.00\n",
      "Data range --sinogram--  Min: -0.00  Max:  0.95\n",
      "Data range --FBP     --  Min:  0.00  Max:  1.00\n"
     ]
    }
   ],
   "source": [
    "N = 256  # phantom size\n",
    "train_nimg = 498  # number of training images\n",
    "test_nimg = 32  # number of testing images\n",
    "nimg = train_nimg + test_nimg\n",
    "n_projection = 45  # CT views\n",
    "\n",
    "trdt, ttdt = load_ct_data(train_nimg, test_nimg, N, n_projection, verbose=True)"
   ]
  },
  {
   "cell_type": "markdown",
   "id": "402939ad",
   "metadata": {},
   "source": [
    "Build training and testing structures. Inputs are the filter\n",
    "back-projected sinograms and outpus are the original generated foams.\n",
    "Keep training and testing partitions."
   ]
  },
  {
   "cell_type": "code",
   "execution_count": 3,
   "id": "d2fcf435",
   "metadata": {
    "collapsed": false,
    "execution": {
     "iopub.execute_input": "2024-10-11T21:03:05.274423Z",
     "iopub.status.busy": "2024-10-11T21:03:05.274033Z",
     "iopub.status.idle": "2024-10-11T21:03:05.277609Z",
     "shell.execute_reply": "2024-10-11T21:03:05.276930Z"
    }
   },
   "outputs": [],
   "source": [
    "train_ds = {\"image\": trdt[\"fbp\"], \"label\": trdt[\"img\"]}\n",
    "test_ds = {\"image\": ttdt[\"fbp\"], \"label\": ttdt[\"img\"]}"
   ]
  },
  {
   "cell_type": "markdown",
   "id": "cfb90980",
   "metadata": {},
   "source": [
    "Define configuration dictionary for model and training loop.\n",
    "\n",
    "Parameters have been selected for demonstration purposes and relatively\n",
    "short training. The model depth controls the levels of pooling in the\n",
    "U-Net model. The block depth controls the number of layers at each level\n",
    "of depth. The number of filters controls the number of filters at the\n",
    "input and output levels and doubles (halves) at each pooling (unpooling)\n",
    "operation. Better performance may be obtained by increasing depth, block\n",
    "depth, number of filters or training epochs, but may require longer\n",
    "training times."
   ]
  },
  {
   "cell_type": "code",
   "execution_count": 4,
   "id": "0f62e25e",
   "metadata": {
    "collapsed": false,
    "execution": {
     "iopub.execute_input": "2024-10-11T21:03:05.279483Z",
     "iopub.status.busy": "2024-10-11T21:03:05.279236Z",
     "iopub.status.idle": "2024-10-11T21:03:05.283857Z",
     "shell.execute_reply": "2024-10-11T21:03:05.283270Z"
    }
   },
   "outputs": [],
   "source": [
    "# model configuration\n",
    "model_conf = {\n",
    "    \"depth\": 2,\n",
    "    \"num_filters\": 64,\n",
    "    \"block_depth\": 2,\n",
    "}\n",
    "# training configuration\n",
    "train_conf: sflax.ConfigDict = {\n",
    "    \"seed\": 0,\n",
    "    \"opt_type\": \"SGD\",\n",
    "    \"momentum\": 0.9,\n",
    "    \"batch_size\": 16,\n",
    "    \"num_epochs\": 200,\n",
    "    \"base_learning_rate\": 1e-2,\n",
    "    \"warmup_epochs\": 0,\n",
    "    \"log_every_steps\": 1000,\n",
    "    \"log\": True,\n",
    "    \"checkpointing\": True,\n",
    "}"
   ]
  },
  {
   "cell_type": "markdown",
   "id": "cee7ebf2",
   "metadata": {},
   "source": [
    "Construct UNet model."
   ]
  },
  {
   "cell_type": "code",
   "execution_count": 5,
   "id": "78b6996e",
   "metadata": {
    "collapsed": false,
    "execution": {
     "iopub.execute_input": "2024-10-11T21:03:05.285678Z",
     "iopub.status.busy": "2024-10-11T21:03:05.285446Z",
     "iopub.status.idle": "2024-10-11T21:03:05.288138Z",
     "shell.execute_reply": "2024-10-11T21:03:05.287724Z"
    }
   },
   "outputs": [],
   "source": [
    "channels = train_ds[\"image\"].shape[-1]\n",
    "model = sflax.UNet(\n",
    "    depth=model_conf[\"depth\"],\n",
    "    channels=channels,\n",
    "    num_filters=model_conf[\"num_filters\"],\n",
    "    block_depth=model_conf[\"block_depth\"],\n",
    ")"
   ]
  },
  {
   "cell_type": "markdown",
   "id": "101bdeb1",
   "metadata": {},
   "source": [
    "Run training loop."
   ]
  },
  {
   "cell_type": "code",
   "execution_count": 6,
   "id": "7c38a738",
   "metadata": {
    "collapsed": false,
    "execution": {
     "iopub.execute_input": "2024-10-11T21:03:05.290188Z",
     "iopub.status.busy": "2024-10-11T21:03:05.289824Z",
     "iopub.status.idle": "2024-10-11T21:05:30.479385Z",
     "shell.execute_reply": "2024-10-11T21:05:30.478168Z"
    }
   },
   "outputs": [
    {
     "name": "stdout",
     "output_type": "stream",
     "text": [
      "\n",
      "JAX process: 0 / 1\n",
      "JAX local devices: [CudaDevice(id=0), CudaDevice(id=1), CudaDevice(id=2), CudaDevice(id=3), CudaDevice(id=4), CudaDevice(id=5), CudaDevice(id=6), CudaDevice(id=7)]\n",
      "\n"
     ]
    },
    {
     "name": "stdout",
     "output_type": "stream",
     "text": [
      "channels: 1   training signals: 498   testing signals: 32   signal size: 256\n",
      "\n"
     ]
    },
    {
     "name": "stdout",
     "output_type": "stream",
     "text": [
      "Network Structure:\n",
      "+----------------------------------------------------+------------------+---------+-----------+--------+\n",
      "| Name                                               | Shape            | Size    | Mean      | Std    |\n",
      "+----------------------------------------------------+------------------+---------+-----------+--------+\n",
      "| ConvBNMultiBlock_0/ConvBNBlock_0/BatchNorm_0/bias  | (64,)            | 64      | 0.0       | 0.0    |\n",
      "| ConvBNMultiBlock_0/ConvBNBlock_0/BatchNorm_0/scale | (64,)            | 64      | 1.0       | 0.0    |\n",
      "| ConvBNMultiBlock_0/ConvBNBlock_0/Conv_0/kernel     | (3, 3, 1, 64)    | 576     | 0.00194   | 0.488  |\n",
      "| ConvBNMultiBlock_0/ConvBNBlock_1/BatchNorm_0/bias  | (64,)            | 64      | 0.0       | 0.0    |\n",
      "| ConvBNMultiBlock_0/ConvBNBlock_1/BatchNorm_0/scale | (64,)            | 64      | 1.0       | 0.0    |\n",
      "| ConvBNMultiBlock_0/ConvBNBlock_1/Conv_0/kernel     | (3, 3, 64, 64)   | 36,864  | -0.00022  | 0.0588 |\n",
      "| ConvBNMultiBlock_1/ConvBNBlock_0/BatchNorm_0/bias  | (128,)           | 128     | 0.0       | 0.0    |\n",
      "| ConvBNMultiBlock_1/ConvBNBlock_0/BatchNorm_0/scale | (128,)           | 128     | 1.0       | 0.0    |\n",
      "| ConvBNMultiBlock_1/ConvBNBlock_0/Conv_0/kernel     | (3, 3, 128, 128) | 147,456 | -1.14e-07 | 0.0417 |\n",
      "| ConvBNMultiBlock_1/ConvBNBlock_1/BatchNorm_0/bias  | (128,)           | 128     | 0.0       | 0.0    |\n",
      "| ConvBNMultiBlock_1/ConvBNBlock_1/BatchNorm_0/scale | (128,)           | 128     | 1.0       | 0.0    |\n",
      "| ConvBNMultiBlock_1/ConvBNBlock_1/Conv_0/kernel     | (3, 3, 128, 128) | 147,456 | -0.000212 | 0.0417 |\n",
      "| ConvBNMultiBlock_2/ConvBNBlock_0/BatchNorm_0/bias  | (64,)            | 64      | 0.0       | 0.0    |\n",
      "| ConvBNMultiBlock_2/ConvBNBlock_0/BatchNorm_0/scale | (64,)            | 64      | 1.0       | 0.0    |\n",
      "| ConvBNMultiBlock_2/ConvBNBlock_0/Conv_0/kernel     | (3, 3, 128, 64)  | 73,728  | 0.000144  | 0.0417 |\n",
      "| ConvBNMultiBlock_2/ConvBNBlock_1/BatchNorm_0/bias  | (64,)            | 64      | 0.0       | 0.0    |\n",
      "| ConvBNMultiBlock_2/ConvBNBlock_1/BatchNorm_0/scale | (64,)            | 64      | 1.0       | 0.0    |\n",
      "| ConvBNMultiBlock_2/ConvBNBlock_1/Conv_0/kernel     | (3, 3, 64, 64)   | 36,864  | -0.000357 | 0.0591 |\n",
      "| ConvBNPoolBlock_0/BatchNorm_0/bias                 | (128,)           | 128     | 0.0       | 0.0    |\n",
      "| ConvBNPoolBlock_0/BatchNorm_0/scale                | (128,)           | 128     | 1.0       | 0.0    |\n",
      "| ConvBNPoolBlock_0/Conv_0/kernel                    | (3, 3, 64, 128)  | 73,728  | -0.00056  | 0.0588 |\n",
      "| ConvBNUpsampleBlock_0/BatchNorm_0/bias             | (64,)            | 64      | 0.0       | 0.0    |\n",
      "| ConvBNUpsampleBlock_0/BatchNorm_0/scale            | (64,)            | 64      | 1.0       | 0.0    |\n",
      "| ConvBNUpsampleBlock_0/Conv_0/kernel                | (3, 3, 128, 64)  | 73,728  | -9.9e-05  | 0.0418 |\n",
      "| Conv_0/kernel                                      | (1, 1, 64, 1)    | 64      | -0.0134   | 0.184  |\n",
      "+----------------------------------------------------+------------------+---------+-----------+--------+\n",
      "Total weights: 591,872\n",
      "\n",
      "Batch Normalization:\n",
      "+---------------------------------------------------+--------+------+------+-----+\n",
      "| Name                                              | Shape  | Size | Mean | Std |\n",
      "+---------------------------------------------------+--------+------+------+-----+\n",
      "| ConvBNMultiBlock_0/ConvBNBlock_0/BatchNorm_0/mean | (64,)  | 64   | 0.0  | 0.0 |\n",
      "| ConvBNMultiBlock_0/ConvBNBlock_0/BatchNorm_0/var  | (64,)  | 64   | 1.0  | 0.0 |\n",
      "| ConvBNMultiBlock_0/ConvBNBlock_1/BatchNorm_0/mean | (64,)  | 64   | 0.0  | 0.0 |\n",
      "| ConvBNMultiBlock_0/ConvBNBlock_1/BatchNorm_0/var  | (64,)  | 64   | 1.0  | 0.0 |\n",
      "| ConvBNMultiBlock_1/ConvBNBlock_0/BatchNorm_0/mean | (128,) | 128  | 0.0  | 0.0 |\n",
      "| ConvBNMultiBlock_1/ConvBNBlock_0/BatchNorm_0/var  | (128,) | 128  | 1.0  | 0.0 |\n",
      "| ConvBNMultiBlock_1/ConvBNBlock_1/BatchNorm_0/mean | (128,) | 128  | 0.0  | 0.0 |\n",
      "| ConvBNMultiBlock_1/ConvBNBlock_1/BatchNorm_0/var  | (128,) | 128  | 1.0  | 0.0 |\n",
      "| ConvBNMultiBlock_2/ConvBNBlock_0/BatchNorm_0/mean | (64,)  | 64   | 0.0  | 0.0 |\n",
      "| ConvBNMultiBlock_2/ConvBNBlock_0/BatchNorm_0/var  | (64,)  | 64   | 1.0  | 0.0 |\n",
      "| ConvBNMultiBlock_2/ConvBNBlock_1/BatchNorm_0/mean | (64,)  | 64   | 0.0  | 0.0 |\n",
      "| ConvBNMultiBlock_2/ConvBNBlock_1/BatchNorm_0/var  | (64,)  | 64   | 1.0  | 0.0 |\n",
      "| ConvBNPoolBlock_0/BatchNorm_0/mean                | (128,) | 128  | 0.0  | 0.0 |\n",
      "| ConvBNPoolBlock_0/BatchNorm_0/var                 | (128,) | 128  | 1.0  | 0.0 |\n",
      "| ConvBNUpsampleBlock_0/BatchNorm_0/mean            | (64,)  | 64   | 0.0  | 0.0 |\n",
      "| ConvBNUpsampleBlock_0/BatchNorm_0/var             | (64,)  | 64   | 1.0  | 0.0 |\n",
      "+---------------------------------------------------+--------+------+------+-----+\n",
      "Total weights: 1,408\n",
      "\n"
     ]
    },
    {
     "name": "stdout",
     "output_type": "stream",
     "text": [
      "Initial compilation, which might take some time ...\n"
     ]
    },
    {
     "name": "stdout",
     "output_type": "stream",
     "text": [
      "Initial compilation completed.\n",
      "\n"
     ]
    },
    {
     "name": "stdout",
     "output_type": "stream",
     "text": [
      "Epoch  Time      Train_LR  Train_Loss  Train_SNR  Eval_Loss  Eval_SNR\n",
      "---------------------------------------------------------------------\n",
      "   32  3.10e+01  0.010000    0.010790       7.70   0.006069      8.78\n"
     ]
    },
    {
     "name": "stdout",
     "output_type": "stream",
     "text": [
      "   64  5.20e+01  0.010000    0.005745       9.02   0.005510      9.20\n"
     ]
    },
    {
     "name": "stdout",
     "output_type": "stream",
     "text": [
      "   96  7.29e+01  0.010000    0.005406       9.28   0.005278      9.39\n"
     ]
    },
    {
     "name": "stdout",
     "output_type": "stream",
     "text": [
      "  129  9.39e+01  0.010000    0.005220       9.44   0.005121      9.52\n"
     ]
    },
    {
     "name": "stdout",
     "output_type": "stream",
     "text": [
      "  161  1.15e+02  0.010000    0.005097       9.54   0.005017      9.61\n"
     ]
    },
    {
     "name": "stdout",
     "output_type": "stream",
     "text": [
      "  193  1.35e+02  0.010000    0.005006       9.62   0.004937      9.68\n"
     ]
    }
   ],
   "source": [
    "workdir = os.path.join(os.path.expanduser(\"~\"), \".cache\", \"scico\", \"examples\", \"unet_ct_out\")\n",
    "train_conf[\"workdir\"] = workdir\n",
    "print(f\"\\nJAX process: {jax.process_index()}{' / '}{jax.process_count()}\")\n",
    "print(f\"JAX local devices: {jax.local_devices()}\\n\")\n",
    "\n",
    "trainer = sflax.BasicFlaxTrainer(\n",
    "    train_conf,\n",
    "    model,\n",
    "    train_ds,\n",
    "    test_ds,\n",
    ")\n",
    "modvar, stats_object = trainer.train()"
   ]
  },
  {
   "cell_type": "markdown",
   "id": "81001825",
   "metadata": {},
   "source": [
    "Evaluate on testing data."
   ]
  },
  {
   "cell_type": "code",
   "execution_count": 7,
   "id": "0b252208",
   "metadata": {
    "collapsed": false,
    "execution": {
     "iopub.execute_input": "2024-10-11T21:05:30.483297Z",
     "iopub.status.busy": "2024-10-11T21:05:30.483007Z",
     "iopub.status.idle": "2024-10-11T21:05:33.846037Z",
     "shell.execute_reply": "2024-10-11T21:05:33.845045Z"
    }
   },
   "outputs": [],
   "source": [
    "del train_ds[\"image\"]\n",
    "del train_ds[\"label\"]\n",
    "\n",
    "fmap = sflax.FlaxMap(model, modvar)\n",
    "del model, modvar\n",
    "\n",
    "maxn = test_nimg // 2\n",
    "start_time = time()\n",
    "output = fmap(test_ds[\"image\"][:maxn])\n",
    "time_eval = time() - start_time\n",
    "output = jax.numpy.clip(output, a_min=0, a_max=1.0)"
   ]
  },
  {
   "cell_type": "markdown",
   "id": "62b79ee7",
   "metadata": {},
   "source": [
    "Evaluate trained model in terms of reconstruction time and data fidelity."
   ]
  },
  {
   "cell_type": "code",
   "execution_count": 8,
   "id": "84d60143",
   "metadata": {
    "collapsed": false,
    "execution": {
     "iopub.execute_input": "2024-10-11T21:05:33.849021Z",
     "iopub.status.busy": "2024-10-11T21:05:33.848686Z",
     "iopub.status.idle": "2024-10-11T21:05:34.420295Z",
     "shell.execute_reply": "2024-10-11T21:05:34.419296Z"
    }
   },
   "outputs": [
    {
     "name": "stdout",
     "output_type": "stream",
     "text": [
      "UNet training  epochs:  200                     time[s]:   139.38\n",
      "UNet testing   SNR:  9.71 dB   PSNR: 20.13 dB   time[s]:     3.32\n"
     ]
    }
   ],
   "source": [
    "snr_eval = metric.snr(test_ds[\"label\"][:maxn], output)\n",
    "psnr_eval = metric.psnr(test_ds[\"label\"][:maxn], output)\n",
    "print(\n",
    "    f\"{'UNet training':15s}{'epochs:':2s}{train_conf['num_epochs']:>5d}\"\n",
    "    f\"{'':21s}{'time[s]:':10s}{trainer.train_time:>7.2f}\"\n",
    ")\n",
    "print(\n",
    "    f\"{'UNet testing':15s}{'SNR:':5s}{snr_eval:>5.2f}{' dB'}{'':3s}\"\n",
    "    f\"{'PSNR:':6s}{psnr_eval:>5.2f}{' dB'}{'':3s}{'time[s]:':10s}{time_eval:>7.2f}\"\n",
    ")"
   ]
  },
  {
   "cell_type": "markdown",
   "id": "e88ccbfa",
   "metadata": {},
   "source": [
    "Plot comparison."
   ]
  },
  {
   "cell_type": "code",
   "execution_count": 9,
   "id": "700bfbbb",
   "metadata": {
    "collapsed": false,
    "execution": {
     "iopub.execute_input": "2024-10-11T21:05:34.422585Z",
     "iopub.status.busy": "2024-10-11T21:05:34.422267Z",
     "iopub.status.idle": "2024-10-11T21:05:35.615680Z",
     "shell.execute_reply": "2024-10-11T21:05:35.614670Z"
    }
   },
   "outputs": [],
   "source": [
    "key = jax.random.PRNGKey(123)\n",
    "indx = jax.random.randint(key, shape=(1,), minval=0, maxval=test_nimg)[0]\n",
    "\n",
    "fig, ax = plot.subplots(nrows=1, ncols=3, figsize=(15, 5))\n",
    "plot.imview(test_ds[\"label\"][indx, ..., 0], title=\"Ground truth\", cbar=None, fig=fig, ax=ax[0])\n",
    "plot.imview(\n",
    "    test_ds[\"image\"][indx, ..., 0],\n",
    "    title=\"FBP Reconstruction: \\nSNR: %.2f (dB), MAE: %.3f\"\n",
    "    % (\n",
    "        metric.snr(test_ds[\"label\"][indx, ..., 0], test_ds[\"image\"][indx, ..., 0]),\n",
    "        metric.mae(test_ds[\"label\"][indx, ..., 0], test_ds[\"image\"][indx, ..., 0]),\n",
    "    ),\n",
    "    cbar=None,\n",
    "    fig=fig,\n",
    "    ax=ax[1],\n",
    ")\n",
    "plot.imview(\n",
    "    output[indx, ..., 0],\n",
    "    title=\"UNet Reconstruction\\nSNR: %.2f (dB), MAE: %.3f\"\n",
    "    % (\n",
    "        metric.snr(test_ds[\"label\"][indx, ..., 0], output[indx, ..., 0]),\n",
    "        metric.mae(test_ds[\"label\"][indx, ..., 0], output[indx, ..., 0]),\n",
    "    ),\n",
    "    fig=fig,\n",
    "    ax=ax[2],\n",
    ")\n",
    "divider = make_axes_locatable(ax[2])\n",
    "cax = divider.append_axes(\"right\", size=\"5%\", pad=0.2)\n",
    "fig.colorbar(ax[2].get_images()[0], cax=cax, label=\"arbitrary units\")\n",
    "fig.show()"
   ]
  },
  {
   "cell_type": "markdown",
   "id": "6333d9c2",
   "metadata": {},
   "source": [
    "Plot convergence statistics. Statistics are generated only if a training\n",
    "cycle was done (i.e. if not reading final epoch results from checkpoint)."
   ]
  },
  {
   "cell_type": "code",
   "execution_count": 10,
   "id": "1d6c5841",
   "metadata": {
    "collapsed": false,
    "execution": {
     "iopub.execute_input": "2024-10-11T21:05:35.618463Z",
     "iopub.status.busy": "2024-10-11T21:05:35.618161Z",
     "iopub.status.idle": "2024-10-11T21:05:35.878809Z",
     "shell.execute_reply": "2024-10-11T21:05:35.877890Z"
    }
   },
   "outputs": [],
   "source": [
    "if stats_object is not None and len(stats_object.iterations) > 0:\n",
    "    hist = stats_object.history(transpose=True)\n",
    "    fig, ax = plot.subplots(nrows=1, ncols=2, figsize=(12, 5))\n",
    "    plot.plot(\n",
    "        np.vstack((hist.Train_Loss, hist.Eval_Loss)).T,\n",
    "        x=hist.Epoch,\n",
    "        ptyp=\"semilogy\",\n",
    "        title=\"Loss function\",\n",
    "        xlbl=\"Epoch\",\n",
    "        ylbl=\"Loss value\",\n",
    "        lgnd=(\"Train\", \"Test\"),\n",
    "        fig=fig,\n",
    "        ax=ax[0],\n",
    "    )\n",
    "    plot.plot(\n",
    "        np.vstack((hist.Train_SNR, hist.Eval_SNR)).T,\n",
    "        x=hist.Epoch,\n",
    "        title=\"Metric\",\n",
    "        xlbl=\"Epoch\",\n",
    "        ylbl=\"SNR (dB)\",\n",
    "        lgnd=(\"Train\", \"Test\"),\n",
    "        fig=fig,\n",
    "        ax=ax[1],\n",
    "    )\n",
    "    fig.show()"
   ]
  }
 ],
 "metadata": {
  "language_info": {
   "codemirror_mode": {
    "name": "ipython",
    "version": 3
   },
   "file_extension": ".py",
   "mimetype": "text/x-python",
   "name": "python",
   "nbconvert_exporter": "python",
   "pygments_lexer": "ipython3",
   "version": "3.12.7"
  }
 },
 "nbformat": 4,
 "nbformat_minor": 5
}
